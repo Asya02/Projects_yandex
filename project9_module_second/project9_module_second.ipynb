{
 "cells": [
  {
   "cell_type": "markdown",
   "metadata": {},
   "source": [
    "# Восстановление золота из руды"
   ]
  },
  {
   "cell_type": "markdown",
   "metadata": {},
   "source": [
    "Подготовим прототип модели машинного обучения для «Цифры». Компания разрабатывает решения для эффективной работы промышленных предприятий.\n",
    "\n",
    "Модель должна предсказать коэффициент восстановления золота из золотосодержащей руды. Используем данные с параметрами добычи и очистки. \n",
    "\n",
    "Модель поможет оптимизировать производство, чтобы не запускать предприятие с убыточными характеристиками.\n",
    "\n",
    "Нужно:\n",
    "\n",
    "1. Подготовить данные;\n",
    "2. Провести исследовательский анализ данных;\n",
    "3. Построить и обучить модель.\n"
   ]
  },
  {
   "cell_type": "markdown",
   "metadata": {
    "toc": true
   },
   "source": [
    "<h1>Содержание<span class=\"tocSkip\"></span></h1>\n",
    "<div class=\"toc\"><ul class=\"toc-item\"><li><span><a href=\"#Подготовка-данных\" data-toc-modified-id=\"Подготовка-данных-1\"><span class=\"toc-item-num\">1&nbsp;&nbsp;</span>Подготовка данных</a></span><ul class=\"toc-item\"><li><span><a href=\"#Проверим,-верно-ли-рассчитана-эффективность-обогащения\" data-toc-modified-id=\"Проверим,-верно-ли-рассчитана-эффективность-обогащения-1.1\"><span class=\"toc-item-num\">1.1&nbsp;&nbsp;</span>Проверим, верно ли рассчитана эффективность обогащения</a></span></li><li><span><a href=\"#Проанализируем-признаки,-недоступные-в-тестовой-выборке\" data-toc-modified-id=\"Проанализируем-признаки,-недоступные-в-тестовой-выборке-1.2\"><span class=\"toc-item-num\">1.2&nbsp;&nbsp;</span>Проанализируем признаки, недоступные в тестовой выборке</a></span></li><li><span><a href=\"#Проведём-предобработку-данных\" data-toc-modified-id=\"Проведём-предобработку-данных-1.3\"><span class=\"toc-item-num\">1.3&nbsp;&nbsp;</span>Проведём предобработку данных</a></span></li></ul></li><li><span><a href=\"#Анализ-данных\" data-toc-modified-id=\"Анализ-данных-2\"><span class=\"toc-item-num\">2&nbsp;&nbsp;</span>Анализ данных</a></span><ul class=\"toc-item\"><li><span><a href=\"#Посмотрим,-как-меняется-концентрация-металлов-(Au,-Ag,-Pb)-на-различных-этапах-очистки\" data-toc-modified-id=\"Посмотрим,-как-меняется-концентрация-металлов-(Au,-Ag,-Pb)-на-различных-этапах-очистки-2.1\"><span class=\"toc-item-num\">2.1&nbsp;&nbsp;</span>Посмотрим, как меняется концентрация металлов (Au, Ag, Pb) на различных этапах очистки</a></span></li><li><span><a href=\"#Сравним-распределения-размеров-гранул-сырья-на-обучающей-и-тестовой-выборках.\" data-toc-modified-id=\"Сравним-распределения-размеров-гранул-сырья-на-обучающей-и-тестовой-выборках.-2.2\"><span class=\"toc-item-num\">2.2&nbsp;&nbsp;</span>Сравним распределения размеров гранул сырья на обучающей и тестовой выборках.</a></span></li><li><span><a href=\"#Исследуем-суммарную-концентрацию-всех-веществ-на-разных-стадиях:-в-сырье,-в-черновом-и-финальном-концентратах\" data-toc-modified-id=\"Исследуем-суммарную-концентрацию-всех-веществ-на-разных-стадиях:-в-сырье,-в-черновом-и-финальном-концентратах-2.3\"><span class=\"toc-item-num\">2.3&nbsp;&nbsp;</span>Исследуем суммарную концентрацию всех веществ на разных стадиях: в сырье, в черновом и финальном концентратах</a></span></li></ul></li><li><span><a href=\"#Модель\" data-toc-modified-id=\"Модель-3\"><span class=\"toc-item-num\">3&nbsp;&nbsp;</span>Модель</a></span><ul class=\"toc-item\"><li><span><a href=\"#Реализуем-функцию-для-вычисления-sMAPE\" data-toc-modified-id=\"Реализуем-функцию-для-вычисления-sMAPE-3.1\"><span class=\"toc-item-num\">3.1&nbsp;&nbsp;</span>Реализуем функцию для вычисления sMAPE</a></span></li><li><span><a href=\"#Обучим-модели\" data-toc-modified-id=\"Обучим-модели-3.2\"><span class=\"toc-item-num\">3.2&nbsp;&nbsp;</span>Обучим модели</a></span><ul class=\"toc-item\"><li><span><a href=\"#Случайный-лес\" data-toc-modified-id=\"Случайный-лес-3.2.1\"><span class=\"toc-item-num\">3.2.1&nbsp;&nbsp;</span>Случайный лес</a></span></li><li><span><a href=\"#Линейная-регрессия\" data-toc-modified-id=\"Линейная-регрессия-3.2.2\"><span class=\"toc-item-num\">3.2.2&nbsp;&nbsp;</span>Линейная регрессия</a></span></li></ul></li></ul></li><li><span><a href=\"#Общий-вывод\" data-toc-modified-id=\"Общий-вывод-4\"><span class=\"toc-item-num\">4&nbsp;&nbsp;</span>Общий вывод</a></span></li><li><span><a href=\"#Чек-лист-готовности-проекта\" data-toc-modified-id=\"Чек-лист-готовности-проекта-5\"><span class=\"toc-item-num\">5&nbsp;&nbsp;</span>Чек-лист готовности проекта</a></span></li></ul></div>"
   ]
  },
  {
   "cell_type": "markdown",
   "metadata": {},
   "source": [
    "## Подготовка данных"
   ]
  },
  {
   "cell_type": "markdown",
   "metadata": {},
   "source": [
    "Для начала импортируем нужные модули и библиотеки"
   ]
  },
  {
   "cell_type": "code",
   "execution_count": 1,
   "metadata": {},
   "outputs": [],
   "source": [
    "import pandas as pd\n",
    "import numpy as np\n",
    "import matplotlib.pyplot as plt\n",
    "import plotly.express as px\n",
    "import seaborn as sns\n",
    "from sklearn.metrics import mean_absolute_error\n",
    "from sklearn.preprocessing import StandardScaler\n",
    "from sklearn.tree import DecisionTreeRegressor\n",
    "from sklearn.ensemble import RandomForestRegressor\n",
    "from sklearn.model_selection import cross_val_score\n",
    "from sklearn.linear_model import LinearRegression\n",
    "from sklearn.metrics import make_scorer\n",
    "from sklearn.dummy import DummyRegressor"
   ]
  },
  {
   "cell_type": "markdown",
   "metadata": {},
   "source": [
    "Загрузим данные в соответствующие переменные"
   ]
  },
  {
   "cell_type": "code",
   "execution_count": 2,
   "metadata": {},
   "outputs": [],
   "source": [
    "try:\n",
    "    df_train = pd.read_csv('/datasets/gold_recovery_train_new.csv')\n",
    "except FileNotFoundError as e:\n",
    "    print(f\"[FileNotFoundError]: {e.strerror}, filename: {e.filename}\")\n",
    "\n",
    "try:\n",
    "    df_test = pd.read_csv('/datasets/gold_recovery_test_new.csv')\n",
    "except FileNotFoundError as e:\n",
    "    print(f\"[FileNotFoundError]: {e.strerror}, filename: {e.filename}\")\n",
    "try:\n",
    "    df_full = pd.read_csv('/datasets/gold_recovery_full_new.csv')\n",
    "except FileNotFoundError as e:\n",
    "    print(f\"[FileNotFoundError]: {e.strerror}, filename: {e.filename}\")"
   ]
  },
  {
   "cell_type": "markdown",
   "metadata": {},
   "source": [
    "Посмотрим, как выглядят наши датасеты. Откроем первые 10 строк для каждого"
   ]
  },
  {
   "cell_type": "code",
   "execution_count": 3,
   "metadata": {},
   "outputs": [
    {
     "data": {
      "text/html": [
       "<div>\n",
       "<style scoped>\n",
       "    .dataframe tbody tr th:only-of-type {\n",
       "        vertical-align: middle;\n",
       "    }\n",
       "\n",
       "    .dataframe tbody tr th {\n",
       "        vertical-align: top;\n",
       "    }\n",
       "\n",
       "    .dataframe thead th {\n",
       "        text-align: right;\n",
       "    }\n",
       "</style>\n",
       "<table border=\"1\" class=\"dataframe\">\n",
       "  <thead>\n",
       "    <tr style=\"text-align: right;\">\n",
       "      <th></th>\n",
       "      <th>date</th>\n",
       "      <th>final.output.concentrate_ag</th>\n",
       "      <th>final.output.concentrate_pb</th>\n",
       "      <th>final.output.concentrate_sol</th>\n",
       "      <th>final.output.concentrate_au</th>\n",
       "      <th>final.output.recovery</th>\n",
       "      <th>final.output.tail_ag</th>\n",
       "      <th>final.output.tail_pb</th>\n",
       "      <th>final.output.tail_sol</th>\n",
       "      <th>final.output.tail_au</th>\n",
       "      <th>...</th>\n",
       "      <th>secondary_cleaner.state.floatbank4_a_air</th>\n",
       "      <th>secondary_cleaner.state.floatbank4_a_level</th>\n",
       "      <th>secondary_cleaner.state.floatbank4_b_air</th>\n",
       "      <th>secondary_cleaner.state.floatbank4_b_level</th>\n",
       "      <th>secondary_cleaner.state.floatbank5_a_air</th>\n",
       "      <th>secondary_cleaner.state.floatbank5_a_level</th>\n",
       "      <th>secondary_cleaner.state.floatbank5_b_air</th>\n",
       "      <th>secondary_cleaner.state.floatbank5_b_level</th>\n",
       "      <th>secondary_cleaner.state.floatbank6_a_air</th>\n",
       "      <th>secondary_cleaner.state.floatbank6_a_level</th>\n",
       "    </tr>\n",
       "  </thead>\n",
       "  <tbody>\n",
       "    <tr>\n",
       "      <th>0</th>\n",
       "      <td>2016-01-15 00:00:00</td>\n",
       "      <td>6.055403</td>\n",
       "      <td>9.889648</td>\n",
       "      <td>5.507324</td>\n",
       "      <td>42.192020</td>\n",
       "      <td>70.541216</td>\n",
       "      <td>10.411962</td>\n",
       "      <td>0.895447</td>\n",
       "      <td>16.904297</td>\n",
       "      <td>2.143149</td>\n",
       "      <td>...</td>\n",
       "      <td>14.016835</td>\n",
       "      <td>-502.488007</td>\n",
       "      <td>12.099931</td>\n",
       "      <td>-504.715942</td>\n",
       "      <td>9.925633</td>\n",
       "      <td>-498.310211</td>\n",
       "      <td>8.079666</td>\n",
       "      <td>-500.470978</td>\n",
       "      <td>14.151341</td>\n",
       "      <td>-605.841980</td>\n",
       "    </tr>\n",
       "    <tr>\n",
       "      <th>1</th>\n",
       "      <td>2016-01-15 01:00:00</td>\n",
       "      <td>6.029369</td>\n",
       "      <td>9.968944</td>\n",
       "      <td>5.257781</td>\n",
       "      <td>42.701629</td>\n",
       "      <td>69.266198</td>\n",
       "      <td>10.462676</td>\n",
       "      <td>0.927452</td>\n",
       "      <td>16.634514</td>\n",
       "      <td>2.224930</td>\n",
       "      <td>...</td>\n",
       "      <td>13.992281</td>\n",
       "      <td>-505.503262</td>\n",
       "      <td>11.950531</td>\n",
       "      <td>-501.331529</td>\n",
       "      <td>10.039245</td>\n",
       "      <td>-500.169983</td>\n",
       "      <td>7.984757</td>\n",
       "      <td>-500.582168</td>\n",
       "      <td>13.998353</td>\n",
       "      <td>-599.787184</td>\n",
       "    </tr>\n",
       "    <tr>\n",
       "      <th>2</th>\n",
       "      <td>2016-01-15 02:00:00</td>\n",
       "      <td>6.055926</td>\n",
       "      <td>10.213995</td>\n",
       "      <td>5.383759</td>\n",
       "      <td>42.657501</td>\n",
       "      <td>68.116445</td>\n",
       "      <td>10.507046</td>\n",
       "      <td>0.953716</td>\n",
       "      <td>16.208849</td>\n",
       "      <td>2.257889</td>\n",
       "      <td>...</td>\n",
       "      <td>14.015015</td>\n",
       "      <td>-502.520901</td>\n",
       "      <td>11.912783</td>\n",
       "      <td>-501.133383</td>\n",
       "      <td>10.070913</td>\n",
       "      <td>-500.129135</td>\n",
       "      <td>8.013877</td>\n",
       "      <td>-500.517572</td>\n",
       "      <td>14.028663</td>\n",
       "      <td>-601.427363</td>\n",
       "    </tr>\n",
       "    <tr>\n",
       "      <th>3</th>\n",
       "      <td>2016-01-15 03:00:00</td>\n",
       "      <td>6.047977</td>\n",
       "      <td>9.977019</td>\n",
       "      <td>4.858634</td>\n",
       "      <td>42.689819</td>\n",
       "      <td>68.347543</td>\n",
       "      <td>10.422762</td>\n",
       "      <td>0.883763</td>\n",
       "      <td>16.532835</td>\n",
       "      <td>2.146849</td>\n",
       "      <td>...</td>\n",
       "      <td>14.036510</td>\n",
       "      <td>-500.857308</td>\n",
       "      <td>11.999550</td>\n",
       "      <td>-501.193686</td>\n",
       "      <td>9.970366</td>\n",
       "      <td>-499.201640</td>\n",
       "      <td>7.977324</td>\n",
       "      <td>-500.255908</td>\n",
       "      <td>14.005551</td>\n",
       "      <td>-599.996129</td>\n",
       "    </tr>\n",
       "    <tr>\n",
       "      <th>4</th>\n",
       "      <td>2016-01-15 04:00:00</td>\n",
       "      <td>6.148599</td>\n",
       "      <td>10.142511</td>\n",
       "      <td>4.939416</td>\n",
       "      <td>42.774141</td>\n",
       "      <td>66.927016</td>\n",
       "      <td>10.360302</td>\n",
       "      <td>0.792826</td>\n",
       "      <td>16.525686</td>\n",
       "      <td>2.055292</td>\n",
       "      <td>...</td>\n",
       "      <td>14.027298</td>\n",
       "      <td>-499.838632</td>\n",
       "      <td>11.953070</td>\n",
       "      <td>-501.053894</td>\n",
       "      <td>9.925709</td>\n",
       "      <td>-501.686727</td>\n",
       "      <td>7.894242</td>\n",
       "      <td>-500.356035</td>\n",
       "      <td>13.996647</td>\n",
       "      <td>-601.496691</td>\n",
       "    </tr>\n",
       "    <tr>\n",
       "      <th>5</th>\n",
       "      <td>2016-01-15 05:00:00</td>\n",
       "      <td>6.482968</td>\n",
       "      <td>10.049416</td>\n",
       "      <td>5.480257</td>\n",
       "      <td>41.633678</td>\n",
       "      <td>69.465816</td>\n",
       "      <td>10.182708</td>\n",
       "      <td>0.664118</td>\n",
       "      <td>16.999638</td>\n",
       "      <td>1.918586</td>\n",
       "      <td>...</td>\n",
       "      <td>13.938497</td>\n",
       "      <td>-500.970168</td>\n",
       "      <td>11.883350</td>\n",
       "      <td>-500.395298</td>\n",
       "      <td>10.054147</td>\n",
       "      <td>-496.374715</td>\n",
       "      <td>7.965083</td>\n",
       "      <td>-499.364752</td>\n",
       "      <td>14.017067</td>\n",
       "      <td>-599.707915</td>\n",
       "    </tr>\n",
       "    <tr>\n",
       "      <th>6</th>\n",
       "      <td>2016-01-15 06:00:00</td>\n",
       "      <td>6.533849</td>\n",
       "      <td>10.058141</td>\n",
       "      <td>4.569100</td>\n",
       "      <td>41.995316</td>\n",
       "      <td>69.300835</td>\n",
       "      <td>10.304598</td>\n",
       "      <td>0.807342</td>\n",
       "      <td>16.723575</td>\n",
       "      <td>2.058913</td>\n",
       "      <td>...</td>\n",
       "      <td>14.046819</td>\n",
       "      <td>-500.971133</td>\n",
       "      <td>12.091543</td>\n",
       "      <td>-500.501426</td>\n",
       "      <td>10.003247</td>\n",
       "      <td>-497.083180</td>\n",
       "      <td>8.010890</td>\n",
       "      <td>-500.002423</td>\n",
       "      <td>14.029649</td>\n",
       "      <td>-600.905470</td>\n",
       "    </tr>\n",
       "    <tr>\n",
       "      <th>7</th>\n",
       "      <td>2016-01-15 07:00:00</td>\n",
       "      <td>6.130823</td>\n",
       "      <td>9.935481</td>\n",
       "      <td>4.389813</td>\n",
       "      <td>42.452727</td>\n",
       "      <td>70.230976</td>\n",
       "      <td>10.443288</td>\n",
       "      <td>0.949346</td>\n",
       "      <td>16.689959</td>\n",
       "      <td>2.143437</td>\n",
       "      <td>...</td>\n",
       "      <td>13.974691</td>\n",
       "      <td>-501.819696</td>\n",
       "      <td>12.101324</td>\n",
       "      <td>-500.583446</td>\n",
       "      <td>9.873169</td>\n",
       "      <td>-499.171928</td>\n",
       "      <td>7.993381</td>\n",
       "      <td>-499.794518</td>\n",
       "      <td>13.984498</td>\n",
       "      <td>-600.411070</td>\n",
       "    </tr>\n",
       "    <tr>\n",
       "      <th>8</th>\n",
       "      <td>2016-01-15 08:00:00</td>\n",
       "      <td>5.834140</td>\n",
       "      <td>10.071156</td>\n",
       "      <td>4.876389</td>\n",
       "      <td>43.404078</td>\n",
       "      <td>69.688595</td>\n",
       "      <td>10.420140</td>\n",
       "      <td>1.065453</td>\n",
       "      <td>17.201948</td>\n",
       "      <td>2.209881</td>\n",
       "      <td>...</td>\n",
       "      <td>13.964030</td>\n",
       "      <td>-504.252450</td>\n",
       "      <td>12.060738</td>\n",
       "      <td>-501.174549</td>\n",
       "      <td>10.033838</td>\n",
       "      <td>-501.178133</td>\n",
       "      <td>7.881604</td>\n",
       "      <td>-499.729434</td>\n",
       "      <td>13.967135</td>\n",
       "      <td>-599.061188</td>\n",
       "    </tr>\n",
       "    <tr>\n",
       "      <th>9</th>\n",
       "      <td>2016-01-15 09:00:00</td>\n",
       "      <td>5.687063</td>\n",
       "      <td>9.980404</td>\n",
       "      <td>5.282514</td>\n",
       "      <td>43.235220</td>\n",
       "      <td>70.279619</td>\n",
       "      <td>10.487013</td>\n",
       "      <td>1.159805</td>\n",
       "      <td>17.483979</td>\n",
       "      <td>2.209593</td>\n",
       "      <td>...</td>\n",
       "      <td>13.989632</td>\n",
       "      <td>-503.195299</td>\n",
       "      <td>12.052233</td>\n",
       "      <td>-500.928547</td>\n",
       "      <td>9.962574</td>\n",
       "      <td>-502.986357</td>\n",
       "      <td>7.979219</td>\n",
       "      <td>-500.146835</td>\n",
       "      <td>13.981614</td>\n",
       "      <td>-598.070855</td>\n",
       "    </tr>\n",
       "  </tbody>\n",
       "</table>\n",
       "<p>10 rows × 87 columns</p>\n",
       "</div>"
      ],
      "text/plain": [
       "                  date  final.output.concentrate_ag  \\\n",
       "0  2016-01-15 00:00:00                     6.055403   \n",
       "1  2016-01-15 01:00:00                     6.029369   \n",
       "2  2016-01-15 02:00:00                     6.055926   \n",
       "3  2016-01-15 03:00:00                     6.047977   \n",
       "4  2016-01-15 04:00:00                     6.148599   \n",
       "5  2016-01-15 05:00:00                     6.482968   \n",
       "6  2016-01-15 06:00:00                     6.533849   \n",
       "7  2016-01-15 07:00:00                     6.130823   \n",
       "8  2016-01-15 08:00:00                     5.834140   \n",
       "9  2016-01-15 09:00:00                     5.687063   \n",
       "\n",
       "   final.output.concentrate_pb  final.output.concentrate_sol  \\\n",
       "0                     9.889648                      5.507324   \n",
       "1                     9.968944                      5.257781   \n",
       "2                    10.213995                      5.383759   \n",
       "3                     9.977019                      4.858634   \n",
       "4                    10.142511                      4.939416   \n",
       "5                    10.049416                      5.480257   \n",
       "6                    10.058141                      4.569100   \n",
       "7                     9.935481                      4.389813   \n",
       "8                    10.071156                      4.876389   \n",
       "9                     9.980404                      5.282514   \n",
       "\n",
       "   final.output.concentrate_au  final.output.recovery  final.output.tail_ag  \\\n",
       "0                    42.192020              70.541216             10.411962   \n",
       "1                    42.701629              69.266198             10.462676   \n",
       "2                    42.657501              68.116445             10.507046   \n",
       "3                    42.689819              68.347543             10.422762   \n",
       "4                    42.774141              66.927016             10.360302   \n",
       "5                    41.633678              69.465816             10.182708   \n",
       "6                    41.995316              69.300835             10.304598   \n",
       "7                    42.452727              70.230976             10.443288   \n",
       "8                    43.404078              69.688595             10.420140   \n",
       "9                    43.235220              70.279619             10.487013   \n",
       "\n",
       "   final.output.tail_pb  final.output.tail_sol  final.output.tail_au  ...  \\\n",
       "0              0.895447              16.904297              2.143149  ...   \n",
       "1              0.927452              16.634514              2.224930  ...   \n",
       "2              0.953716              16.208849              2.257889  ...   \n",
       "3              0.883763              16.532835              2.146849  ...   \n",
       "4              0.792826              16.525686              2.055292  ...   \n",
       "5              0.664118              16.999638              1.918586  ...   \n",
       "6              0.807342              16.723575              2.058913  ...   \n",
       "7              0.949346              16.689959              2.143437  ...   \n",
       "8              1.065453              17.201948              2.209881  ...   \n",
       "9              1.159805              17.483979              2.209593  ...   \n",
       "\n",
       "   secondary_cleaner.state.floatbank4_a_air  \\\n",
       "0                                 14.016835   \n",
       "1                                 13.992281   \n",
       "2                                 14.015015   \n",
       "3                                 14.036510   \n",
       "4                                 14.027298   \n",
       "5                                 13.938497   \n",
       "6                                 14.046819   \n",
       "7                                 13.974691   \n",
       "8                                 13.964030   \n",
       "9                                 13.989632   \n",
       "\n",
       "   secondary_cleaner.state.floatbank4_a_level  \\\n",
       "0                                 -502.488007   \n",
       "1                                 -505.503262   \n",
       "2                                 -502.520901   \n",
       "3                                 -500.857308   \n",
       "4                                 -499.838632   \n",
       "5                                 -500.970168   \n",
       "6                                 -500.971133   \n",
       "7                                 -501.819696   \n",
       "8                                 -504.252450   \n",
       "9                                 -503.195299   \n",
       "\n",
       "   secondary_cleaner.state.floatbank4_b_air  \\\n",
       "0                                 12.099931   \n",
       "1                                 11.950531   \n",
       "2                                 11.912783   \n",
       "3                                 11.999550   \n",
       "4                                 11.953070   \n",
       "5                                 11.883350   \n",
       "6                                 12.091543   \n",
       "7                                 12.101324   \n",
       "8                                 12.060738   \n",
       "9                                 12.052233   \n",
       "\n",
       "   secondary_cleaner.state.floatbank4_b_level  \\\n",
       "0                                 -504.715942   \n",
       "1                                 -501.331529   \n",
       "2                                 -501.133383   \n",
       "3                                 -501.193686   \n",
       "4                                 -501.053894   \n",
       "5                                 -500.395298   \n",
       "6                                 -500.501426   \n",
       "7                                 -500.583446   \n",
       "8                                 -501.174549   \n",
       "9                                 -500.928547   \n",
       "\n",
       "   secondary_cleaner.state.floatbank5_a_air  \\\n",
       "0                                  9.925633   \n",
       "1                                 10.039245   \n",
       "2                                 10.070913   \n",
       "3                                  9.970366   \n",
       "4                                  9.925709   \n",
       "5                                 10.054147   \n",
       "6                                 10.003247   \n",
       "7                                  9.873169   \n",
       "8                                 10.033838   \n",
       "9                                  9.962574   \n",
       "\n",
       "   secondary_cleaner.state.floatbank5_a_level  \\\n",
       "0                                 -498.310211   \n",
       "1                                 -500.169983   \n",
       "2                                 -500.129135   \n",
       "3                                 -499.201640   \n",
       "4                                 -501.686727   \n",
       "5                                 -496.374715   \n",
       "6                                 -497.083180   \n",
       "7                                 -499.171928   \n",
       "8                                 -501.178133   \n",
       "9                                 -502.986357   \n",
       "\n",
       "   secondary_cleaner.state.floatbank5_b_air  \\\n",
       "0                                  8.079666   \n",
       "1                                  7.984757   \n",
       "2                                  8.013877   \n",
       "3                                  7.977324   \n",
       "4                                  7.894242   \n",
       "5                                  7.965083   \n",
       "6                                  8.010890   \n",
       "7                                  7.993381   \n",
       "8                                  7.881604   \n",
       "9                                  7.979219   \n",
       "\n",
       "   secondary_cleaner.state.floatbank5_b_level  \\\n",
       "0                                 -500.470978   \n",
       "1                                 -500.582168   \n",
       "2                                 -500.517572   \n",
       "3                                 -500.255908   \n",
       "4                                 -500.356035   \n",
       "5                                 -499.364752   \n",
       "6                                 -500.002423   \n",
       "7                                 -499.794518   \n",
       "8                                 -499.729434   \n",
       "9                                 -500.146835   \n",
       "\n",
       "   secondary_cleaner.state.floatbank6_a_air  \\\n",
       "0                                 14.151341   \n",
       "1                                 13.998353   \n",
       "2                                 14.028663   \n",
       "3                                 14.005551   \n",
       "4                                 13.996647   \n",
       "5                                 14.017067   \n",
       "6                                 14.029649   \n",
       "7                                 13.984498   \n",
       "8                                 13.967135   \n",
       "9                                 13.981614   \n",
       "\n",
       "   secondary_cleaner.state.floatbank6_a_level  \n",
       "0                                 -605.841980  \n",
       "1                                 -599.787184  \n",
       "2                                 -601.427363  \n",
       "3                                 -599.996129  \n",
       "4                                 -601.496691  \n",
       "5                                 -599.707915  \n",
       "6                                 -600.905470  \n",
       "7                                 -600.411070  \n",
       "8                                 -599.061188  \n",
       "9                                 -598.070855  \n",
       "\n",
       "[10 rows x 87 columns]"
      ]
     },
     "execution_count": 3,
     "metadata": {},
     "output_type": "execute_result"
    }
   ],
   "source": [
    "# получение первых 10 строк обучающей выборки\n",
    "df_train.head(10)"
   ]
  },
  {
   "cell_type": "code",
   "execution_count": 4,
   "metadata": {},
   "outputs": [
    {
     "data": {
      "text/html": [
       "<div>\n",
       "<style scoped>\n",
       "    .dataframe tbody tr th:only-of-type {\n",
       "        vertical-align: middle;\n",
       "    }\n",
       "\n",
       "    .dataframe tbody tr th {\n",
       "        vertical-align: top;\n",
       "    }\n",
       "\n",
       "    .dataframe thead th {\n",
       "        text-align: right;\n",
       "    }\n",
       "</style>\n",
       "<table border=\"1\" class=\"dataframe\">\n",
       "  <thead>\n",
       "    <tr style=\"text-align: right;\">\n",
       "      <th></th>\n",
       "      <th>date</th>\n",
       "      <th>primary_cleaner.input.sulfate</th>\n",
       "      <th>primary_cleaner.input.depressant</th>\n",
       "      <th>primary_cleaner.input.feed_size</th>\n",
       "      <th>primary_cleaner.input.xanthate</th>\n",
       "      <th>primary_cleaner.state.floatbank8_a_air</th>\n",
       "      <th>primary_cleaner.state.floatbank8_a_level</th>\n",
       "      <th>primary_cleaner.state.floatbank8_b_air</th>\n",
       "      <th>primary_cleaner.state.floatbank8_b_level</th>\n",
       "      <th>primary_cleaner.state.floatbank8_c_air</th>\n",
       "      <th>...</th>\n",
       "      <th>secondary_cleaner.state.floatbank4_a_air</th>\n",
       "      <th>secondary_cleaner.state.floatbank4_a_level</th>\n",
       "      <th>secondary_cleaner.state.floatbank4_b_air</th>\n",
       "      <th>secondary_cleaner.state.floatbank4_b_level</th>\n",
       "      <th>secondary_cleaner.state.floatbank5_a_air</th>\n",
       "      <th>secondary_cleaner.state.floatbank5_a_level</th>\n",
       "      <th>secondary_cleaner.state.floatbank5_b_air</th>\n",
       "      <th>secondary_cleaner.state.floatbank5_b_level</th>\n",
       "      <th>secondary_cleaner.state.floatbank6_a_air</th>\n",
       "      <th>secondary_cleaner.state.floatbank6_a_level</th>\n",
       "    </tr>\n",
       "  </thead>\n",
       "  <tbody>\n",
       "    <tr>\n",
       "      <th>0</th>\n",
       "      <td>2016-09-01 00:59:59</td>\n",
       "      <td>210.800909</td>\n",
       "      <td>14.993118</td>\n",
       "      <td>8.080000</td>\n",
       "      <td>1.005021</td>\n",
       "      <td>1398.981301</td>\n",
       "      <td>-500.225577</td>\n",
       "      <td>1399.144926</td>\n",
       "      <td>-499.919735</td>\n",
       "      <td>1400.102998</td>\n",
       "      <td>...</td>\n",
       "      <td>12.023554</td>\n",
       "      <td>-497.795834</td>\n",
       "      <td>8.016656</td>\n",
       "      <td>-501.289139</td>\n",
       "      <td>7.946562</td>\n",
       "      <td>-432.317850</td>\n",
       "      <td>4.872511</td>\n",
       "      <td>-500.037437</td>\n",
       "      <td>26.705889</td>\n",
       "      <td>-499.709414</td>\n",
       "    </tr>\n",
       "    <tr>\n",
       "      <th>1</th>\n",
       "      <td>2016-09-01 01:59:59</td>\n",
       "      <td>215.392455</td>\n",
       "      <td>14.987471</td>\n",
       "      <td>8.080000</td>\n",
       "      <td>0.990469</td>\n",
       "      <td>1398.777912</td>\n",
       "      <td>-500.057435</td>\n",
       "      <td>1398.055362</td>\n",
       "      <td>-499.778182</td>\n",
       "      <td>1396.151033</td>\n",
       "      <td>...</td>\n",
       "      <td>12.058140</td>\n",
       "      <td>-498.695773</td>\n",
       "      <td>8.130979</td>\n",
       "      <td>-499.634209</td>\n",
       "      <td>7.958270</td>\n",
       "      <td>-525.839648</td>\n",
       "      <td>4.878850</td>\n",
       "      <td>-500.162375</td>\n",
       "      <td>25.019940</td>\n",
       "      <td>-499.819438</td>\n",
       "    </tr>\n",
       "    <tr>\n",
       "      <th>2</th>\n",
       "      <td>2016-09-01 02:59:59</td>\n",
       "      <td>215.259946</td>\n",
       "      <td>12.884934</td>\n",
       "      <td>7.786667</td>\n",
       "      <td>0.996043</td>\n",
       "      <td>1398.493666</td>\n",
       "      <td>-500.868360</td>\n",
       "      <td>1398.860436</td>\n",
       "      <td>-499.764529</td>\n",
       "      <td>1398.075709</td>\n",
       "      <td>...</td>\n",
       "      <td>11.962366</td>\n",
       "      <td>-498.767484</td>\n",
       "      <td>8.096893</td>\n",
       "      <td>-500.827423</td>\n",
       "      <td>8.071056</td>\n",
       "      <td>-500.801673</td>\n",
       "      <td>4.905125</td>\n",
       "      <td>-499.828510</td>\n",
       "      <td>24.994862</td>\n",
       "      <td>-500.622559</td>\n",
       "    </tr>\n",
       "    <tr>\n",
       "      <th>3</th>\n",
       "      <td>2016-09-01 03:59:59</td>\n",
       "      <td>215.336236</td>\n",
       "      <td>12.006805</td>\n",
       "      <td>7.640000</td>\n",
       "      <td>0.863514</td>\n",
       "      <td>1399.618111</td>\n",
       "      <td>-498.863574</td>\n",
       "      <td>1397.440120</td>\n",
       "      <td>-499.211024</td>\n",
       "      <td>1400.129303</td>\n",
       "      <td>...</td>\n",
       "      <td>12.033091</td>\n",
       "      <td>-498.350935</td>\n",
       "      <td>8.074946</td>\n",
       "      <td>-499.474407</td>\n",
       "      <td>7.897085</td>\n",
       "      <td>-500.868509</td>\n",
       "      <td>4.931400</td>\n",
       "      <td>-499.963623</td>\n",
       "      <td>24.948919</td>\n",
       "      <td>-498.709987</td>\n",
       "    </tr>\n",
       "    <tr>\n",
       "      <th>4</th>\n",
       "      <td>2016-09-01 04:59:59</td>\n",
       "      <td>199.099327</td>\n",
       "      <td>10.682530</td>\n",
       "      <td>7.530000</td>\n",
       "      <td>0.805575</td>\n",
       "      <td>1401.268123</td>\n",
       "      <td>-500.808305</td>\n",
       "      <td>1398.128818</td>\n",
       "      <td>-499.504543</td>\n",
       "      <td>1402.172226</td>\n",
       "      <td>...</td>\n",
       "      <td>12.025367</td>\n",
       "      <td>-500.786497</td>\n",
       "      <td>8.054678</td>\n",
       "      <td>-500.397500</td>\n",
       "      <td>8.107890</td>\n",
       "      <td>-509.526725</td>\n",
       "      <td>4.957674</td>\n",
       "      <td>-500.360026</td>\n",
       "      <td>25.003331</td>\n",
       "      <td>-500.856333</td>\n",
       "    </tr>\n",
       "    <tr>\n",
       "      <th>5</th>\n",
       "      <td>2016-09-01 05:59:59</td>\n",
       "      <td>168.485085</td>\n",
       "      <td>8.817007</td>\n",
       "      <td>7.420000</td>\n",
       "      <td>0.791191</td>\n",
       "      <td>1402.826803</td>\n",
       "      <td>-499.299521</td>\n",
       "      <td>1401.511119</td>\n",
       "      <td>-499.205357</td>\n",
       "      <td>1404.088107</td>\n",
       "      <td>...</td>\n",
       "      <td>12.029797</td>\n",
       "      <td>-499.814895</td>\n",
       "      <td>8.036586</td>\n",
       "      <td>-500.371492</td>\n",
       "      <td>8.041446</td>\n",
       "      <td>-510.037054</td>\n",
       "      <td>4.983949</td>\n",
       "      <td>-499.990990</td>\n",
       "      <td>24.978973</td>\n",
       "      <td>-500.475640</td>\n",
       "    </tr>\n",
       "    <tr>\n",
       "      <th>6</th>\n",
       "      <td>2016-09-01 06:59:59</td>\n",
       "      <td>144.133440</td>\n",
       "      <td>7.924610</td>\n",
       "      <td>7.420000</td>\n",
       "      <td>0.788838</td>\n",
       "      <td>1398.252401</td>\n",
       "      <td>-499.748672</td>\n",
       "      <td>1393.255503</td>\n",
       "      <td>-499.195380</td>\n",
       "      <td>1396.738566</td>\n",
       "      <td>...</td>\n",
       "      <td>12.026296</td>\n",
       "      <td>-499.473127</td>\n",
       "      <td>8.027984</td>\n",
       "      <td>-500.983079</td>\n",
       "      <td>7.907340</td>\n",
       "      <td>-507.964971</td>\n",
       "      <td>5.010224</td>\n",
       "      <td>-500.043697</td>\n",
       "      <td>25.040709</td>\n",
       "      <td>-499.501984</td>\n",
       "    </tr>\n",
       "    <tr>\n",
       "      <th>7</th>\n",
       "      <td>2016-09-01 07:59:59</td>\n",
       "      <td>133.513396</td>\n",
       "      <td>8.055252</td>\n",
       "      <td>6.988000</td>\n",
       "      <td>0.801871</td>\n",
       "      <td>1401.669677</td>\n",
       "      <td>-501.777839</td>\n",
       "      <td>1400.754446</td>\n",
       "      <td>-502.514024</td>\n",
       "      <td>1400.465244</td>\n",
       "      <td>...</td>\n",
       "      <td>12.040911</td>\n",
       "      <td>-501.293852</td>\n",
       "      <td>8.020490</td>\n",
       "      <td>-499.185229</td>\n",
       "      <td>8.116897</td>\n",
       "      <td>-511.927561</td>\n",
       "      <td>5.036498</td>\n",
       "      <td>-500.149615</td>\n",
       "      <td>25.032580</td>\n",
       "      <td>-503.970657</td>\n",
       "    </tr>\n",
       "    <tr>\n",
       "      <th>8</th>\n",
       "      <td>2016-09-01 08:59:59</td>\n",
       "      <td>133.735356</td>\n",
       "      <td>7.999618</td>\n",
       "      <td>6.935000</td>\n",
       "      <td>0.789329</td>\n",
       "      <td>1402.358981</td>\n",
       "      <td>-499.981597</td>\n",
       "      <td>1400.985954</td>\n",
       "      <td>-496.802968</td>\n",
       "      <td>1401.168584</td>\n",
       "      <td>...</td>\n",
       "      <td>11.998184</td>\n",
       "      <td>-499.481608</td>\n",
       "      <td>8.012610</td>\n",
       "      <td>-500.896783</td>\n",
       "      <td>7.974422</td>\n",
       "      <td>-521.199104</td>\n",
       "      <td>5.061599</td>\n",
       "      <td>-499.791519</td>\n",
       "      <td>25.005063</td>\n",
       "      <td>-497.613716</td>\n",
       "    </tr>\n",
       "    <tr>\n",
       "      <th>9</th>\n",
       "      <td>2016-09-01 09:59:59</td>\n",
       "      <td>126.961069</td>\n",
       "      <td>8.017856</td>\n",
       "      <td>7.030000</td>\n",
       "      <td>0.805298</td>\n",
       "      <td>1400.816120</td>\n",
       "      <td>-499.014158</td>\n",
       "      <td>1399.975401</td>\n",
       "      <td>-499.570552</td>\n",
       "      <td>1401.871924</td>\n",
       "      <td>...</td>\n",
       "      <td>12.040725</td>\n",
       "      <td>-499.987743</td>\n",
       "      <td>7.989503</td>\n",
       "      <td>-499.750625</td>\n",
       "      <td>7.989710</td>\n",
       "      <td>-509.946737</td>\n",
       "      <td>5.068811</td>\n",
       "      <td>-499.293900</td>\n",
       "      <td>24.992741</td>\n",
       "      <td>-499.272255</td>\n",
       "    </tr>\n",
       "  </tbody>\n",
       "</table>\n",
       "<p>10 rows × 53 columns</p>\n",
       "</div>"
      ],
      "text/plain": [
       "                  date  primary_cleaner.input.sulfate  \\\n",
       "0  2016-09-01 00:59:59                     210.800909   \n",
       "1  2016-09-01 01:59:59                     215.392455   \n",
       "2  2016-09-01 02:59:59                     215.259946   \n",
       "3  2016-09-01 03:59:59                     215.336236   \n",
       "4  2016-09-01 04:59:59                     199.099327   \n",
       "5  2016-09-01 05:59:59                     168.485085   \n",
       "6  2016-09-01 06:59:59                     144.133440   \n",
       "7  2016-09-01 07:59:59                     133.513396   \n",
       "8  2016-09-01 08:59:59                     133.735356   \n",
       "9  2016-09-01 09:59:59                     126.961069   \n",
       "\n",
       "   primary_cleaner.input.depressant  primary_cleaner.input.feed_size  \\\n",
       "0                         14.993118                         8.080000   \n",
       "1                         14.987471                         8.080000   \n",
       "2                         12.884934                         7.786667   \n",
       "3                         12.006805                         7.640000   \n",
       "4                         10.682530                         7.530000   \n",
       "5                          8.817007                         7.420000   \n",
       "6                          7.924610                         7.420000   \n",
       "7                          8.055252                         6.988000   \n",
       "8                          7.999618                         6.935000   \n",
       "9                          8.017856                         7.030000   \n",
       "\n",
       "   primary_cleaner.input.xanthate  primary_cleaner.state.floatbank8_a_air  \\\n",
       "0                        1.005021                             1398.981301   \n",
       "1                        0.990469                             1398.777912   \n",
       "2                        0.996043                             1398.493666   \n",
       "3                        0.863514                             1399.618111   \n",
       "4                        0.805575                             1401.268123   \n",
       "5                        0.791191                             1402.826803   \n",
       "6                        0.788838                             1398.252401   \n",
       "7                        0.801871                             1401.669677   \n",
       "8                        0.789329                             1402.358981   \n",
       "9                        0.805298                             1400.816120   \n",
       "\n",
       "   primary_cleaner.state.floatbank8_a_level  \\\n",
       "0                               -500.225577   \n",
       "1                               -500.057435   \n",
       "2                               -500.868360   \n",
       "3                               -498.863574   \n",
       "4                               -500.808305   \n",
       "5                               -499.299521   \n",
       "6                               -499.748672   \n",
       "7                               -501.777839   \n",
       "8                               -499.981597   \n",
       "9                               -499.014158   \n",
       "\n",
       "   primary_cleaner.state.floatbank8_b_air  \\\n",
       "0                             1399.144926   \n",
       "1                             1398.055362   \n",
       "2                             1398.860436   \n",
       "3                             1397.440120   \n",
       "4                             1398.128818   \n",
       "5                             1401.511119   \n",
       "6                             1393.255503   \n",
       "7                             1400.754446   \n",
       "8                             1400.985954   \n",
       "9                             1399.975401   \n",
       "\n",
       "   primary_cleaner.state.floatbank8_b_level  \\\n",
       "0                               -499.919735   \n",
       "1                               -499.778182   \n",
       "2                               -499.764529   \n",
       "3                               -499.211024   \n",
       "4                               -499.504543   \n",
       "5                               -499.205357   \n",
       "6                               -499.195380   \n",
       "7                               -502.514024   \n",
       "8                               -496.802968   \n",
       "9                               -499.570552   \n",
       "\n",
       "   primary_cleaner.state.floatbank8_c_air  ...  \\\n",
       "0                             1400.102998  ...   \n",
       "1                             1396.151033  ...   \n",
       "2                             1398.075709  ...   \n",
       "3                             1400.129303  ...   \n",
       "4                             1402.172226  ...   \n",
       "5                             1404.088107  ...   \n",
       "6                             1396.738566  ...   \n",
       "7                             1400.465244  ...   \n",
       "8                             1401.168584  ...   \n",
       "9                             1401.871924  ...   \n",
       "\n",
       "   secondary_cleaner.state.floatbank4_a_air  \\\n",
       "0                                 12.023554   \n",
       "1                                 12.058140   \n",
       "2                                 11.962366   \n",
       "3                                 12.033091   \n",
       "4                                 12.025367   \n",
       "5                                 12.029797   \n",
       "6                                 12.026296   \n",
       "7                                 12.040911   \n",
       "8                                 11.998184   \n",
       "9                                 12.040725   \n",
       "\n",
       "   secondary_cleaner.state.floatbank4_a_level  \\\n",
       "0                                 -497.795834   \n",
       "1                                 -498.695773   \n",
       "2                                 -498.767484   \n",
       "3                                 -498.350935   \n",
       "4                                 -500.786497   \n",
       "5                                 -499.814895   \n",
       "6                                 -499.473127   \n",
       "7                                 -501.293852   \n",
       "8                                 -499.481608   \n",
       "9                                 -499.987743   \n",
       "\n",
       "   secondary_cleaner.state.floatbank4_b_air  \\\n",
       "0                                  8.016656   \n",
       "1                                  8.130979   \n",
       "2                                  8.096893   \n",
       "3                                  8.074946   \n",
       "4                                  8.054678   \n",
       "5                                  8.036586   \n",
       "6                                  8.027984   \n",
       "7                                  8.020490   \n",
       "8                                  8.012610   \n",
       "9                                  7.989503   \n",
       "\n",
       "   secondary_cleaner.state.floatbank4_b_level  \\\n",
       "0                                 -501.289139   \n",
       "1                                 -499.634209   \n",
       "2                                 -500.827423   \n",
       "3                                 -499.474407   \n",
       "4                                 -500.397500   \n",
       "5                                 -500.371492   \n",
       "6                                 -500.983079   \n",
       "7                                 -499.185229   \n",
       "8                                 -500.896783   \n",
       "9                                 -499.750625   \n",
       "\n",
       "   secondary_cleaner.state.floatbank5_a_air  \\\n",
       "0                                  7.946562   \n",
       "1                                  7.958270   \n",
       "2                                  8.071056   \n",
       "3                                  7.897085   \n",
       "4                                  8.107890   \n",
       "5                                  8.041446   \n",
       "6                                  7.907340   \n",
       "7                                  8.116897   \n",
       "8                                  7.974422   \n",
       "9                                  7.989710   \n",
       "\n",
       "   secondary_cleaner.state.floatbank5_a_level  \\\n",
       "0                                 -432.317850   \n",
       "1                                 -525.839648   \n",
       "2                                 -500.801673   \n",
       "3                                 -500.868509   \n",
       "4                                 -509.526725   \n",
       "5                                 -510.037054   \n",
       "6                                 -507.964971   \n",
       "7                                 -511.927561   \n",
       "8                                 -521.199104   \n",
       "9                                 -509.946737   \n",
       "\n",
       "   secondary_cleaner.state.floatbank5_b_air  \\\n",
       "0                                  4.872511   \n",
       "1                                  4.878850   \n",
       "2                                  4.905125   \n",
       "3                                  4.931400   \n",
       "4                                  4.957674   \n",
       "5                                  4.983949   \n",
       "6                                  5.010224   \n",
       "7                                  5.036498   \n",
       "8                                  5.061599   \n",
       "9                                  5.068811   \n",
       "\n",
       "   secondary_cleaner.state.floatbank5_b_level  \\\n",
       "0                                 -500.037437   \n",
       "1                                 -500.162375   \n",
       "2                                 -499.828510   \n",
       "3                                 -499.963623   \n",
       "4                                 -500.360026   \n",
       "5                                 -499.990990   \n",
       "6                                 -500.043697   \n",
       "7                                 -500.149615   \n",
       "8                                 -499.791519   \n",
       "9                                 -499.293900   \n",
       "\n",
       "   secondary_cleaner.state.floatbank6_a_air  \\\n",
       "0                                 26.705889   \n",
       "1                                 25.019940   \n",
       "2                                 24.994862   \n",
       "3                                 24.948919   \n",
       "4                                 25.003331   \n",
       "5                                 24.978973   \n",
       "6                                 25.040709   \n",
       "7                                 25.032580   \n",
       "8                                 25.005063   \n",
       "9                                 24.992741   \n",
       "\n",
       "   secondary_cleaner.state.floatbank6_a_level  \n",
       "0                                 -499.709414  \n",
       "1                                 -499.819438  \n",
       "2                                 -500.622559  \n",
       "3                                 -498.709987  \n",
       "4                                 -500.856333  \n",
       "5                                 -500.475640  \n",
       "6                                 -499.501984  \n",
       "7                                 -503.970657  \n",
       "8                                 -497.613716  \n",
       "9                                 -499.272255  \n",
       "\n",
       "[10 rows x 53 columns]"
      ]
     },
     "execution_count": 4,
     "metadata": {},
     "output_type": "execute_result"
    }
   ],
   "source": [
    "# получение первых 10 строк тестовой выборки\n",
    "df_test.head(10)"
   ]
  },
  {
   "cell_type": "code",
   "execution_count": 5,
   "metadata": {},
   "outputs": [
    {
     "data": {
      "text/html": [
       "<div>\n",
       "<style scoped>\n",
       "    .dataframe tbody tr th:only-of-type {\n",
       "        vertical-align: middle;\n",
       "    }\n",
       "\n",
       "    .dataframe tbody tr th {\n",
       "        vertical-align: top;\n",
       "    }\n",
       "\n",
       "    .dataframe thead th {\n",
       "        text-align: right;\n",
       "    }\n",
       "</style>\n",
       "<table border=\"1\" class=\"dataframe\">\n",
       "  <thead>\n",
       "    <tr style=\"text-align: right;\">\n",
       "      <th></th>\n",
       "      <th>date</th>\n",
       "      <th>final.output.concentrate_ag</th>\n",
       "      <th>final.output.concentrate_pb</th>\n",
       "      <th>final.output.concentrate_sol</th>\n",
       "      <th>final.output.concentrate_au</th>\n",
       "      <th>final.output.recovery</th>\n",
       "      <th>final.output.tail_ag</th>\n",
       "      <th>final.output.tail_pb</th>\n",
       "      <th>final.output.tail_sol</th>\n",
       "      <th>final.output.tail_au</th>\n",
       "      <th>...</th>\n",
       "      <th>secondary_cleaner.state.floatbank4_a_air</th>\n",
       "      <th>secondary_cleaner.state.floatbank4_a_level</th>\n",
       "      <th>secondary_cleaner.state.floatbank4_b_air</th>\n",
       "      <th>secondary_cleaner.state.floatbank4_b_level</th>\n",
       "      <th>secondary_cleaner.state.floatbank5_a_air</th>\n",
       "      <th>secondary_cleaner.state.floatbank5_a_level</th>\n",
       "      <th>secondary_cleaner.state.floatbank5_b_air</th>\n",
       "      <th>secondary_cleaner.state.floatbank5_b_level</th>\n",
       "      <th>secondary_cleaner.state.floatbank6_a_air</th>\n",
       "      <th>secondary_cleaner.state.floatbank6_a_level</th>\n",
       "    </tr>\n",
       "  </thead>\n",
       "  <tbody>\n",
       "    <tr>\n",
       "      <th>0</th>\n",
       "      <td>2016-01-15 00:00:00</td>\n",
       "      <td>6.055403</td>\n",
       "      <td>9.889648</td>\n",
       "      <td>5.507324</td>\n",
       "      <td>42.192020</td>\n",
       "      <td>70.541216</td>\n",
       "      <td>10.411962</td>\n",
       "      <td>0.895447</td>\n",
       "      <td>16.904297</td>\n",
       "      <td>2.143149</td>\n",
       "      <td>...</td>\n",
       "      <td>14.016835</td>\n",
       "      <td>-502.488007</td>\n",
       "      <td>12.099931</td>\n",
       "      <td>-504.715942</td>\n",
       "      <td>9.925633</td>\n",
       "      <td>-498.310211</td>\n",
       "      <td>8.079666</td>\n",
       "      <td>-500.470978</td>\n",
       "      <td>14.151341</td>\n",
       "      <td>-605.841980</td>\n",
       "    </tr>\n",
       "    <tr>\n",
       "      <th>1</th>\n",
       "      <td>2016-01-15 01:00:00</td>\n",
       "      <td>6.029369</td>\n",
       "      <td>9.968944</td>\n",
       "      <td>5.257781</td>\n",
       "      <td>42.701629</td>\n",
       "      <td>69.266198</td>\n",
       "      <td>10.462676</td>\n",
       "      <td>0.927452</td>\n",
       "      <td>16.634514</td>\n",
       "      <td>2.224930</td>\n",
       "      <td>...</td>\n",
       "      <td>13.992281</td>\n",
       "      <td>-505.503262</td>\n",
       "      <td>11.950531</td>\n",
       "      <td>-501.331529</td>\n",
       "      <td>10.039245</td>\n",
       "      <td>-500.169983</td>\n",
       "      <td>7.984757</td>\n",
       "      <td>-500.582168</td>\n",
       "      <td>13.998353</td>\n",
       "      <td>-599.787184</td>\n",
       "    </tr>\n",
       "    <tr>\n",
       "      <th>2</th>\n",
       "      <td>2016-01-15 02:00:00</td>\n",
       "      <td>6.055926</td>\n",
       "      <td>10.213995</td>\n",
       "      <td>5.383759</td>\n",
       "      <td>42.657501</td>\n",
       "      <td>68.116445</td>\n",
       "      <td>10.507046</td>\n",
       "      <td>0.953716</td>\n",
       "      <td>16.208849</td>\n",
       "      <td>2.257889</td>\n",
       "      <td>...</td>\n",
       "      <td>14.015015</td>\n",
       "      <td>-502.520901</td>\n",
       "      <td>11.912783</td>\n",
       "      <td>-501.133383</td>\n",
       "      <td>10.070913</td>\n",
       "      <td>-500.129135</td>\n",
       "      <td>8.013877</td>\n",
       "      <td>-500.517572</td>\n",
       "      <td>14.028663</td>\n",
       "      <td>-601.427363</td>\n",
       "    </tr>\n",
       "    <tr>\n",
       "      <th>3</th>\n",
       "      <td>2016-01-15 03:00:00</td>\n",
       "      <td>6.047977</td>\n",
       "      <td>9.977019</td>\n",
       "      <td>4.858634</td>\n",
       "      <td>42.689819</td>\n",
       "      <td>68.347543</td>\n",
       "      <td>10.422762</td>\n",
       "      <td>0.883763</td>\n",
       "      <td>16.532835</td>\n",
       "      <td>2.146849</td>\n",
       "      <td>...</td>\n",
       "      <td>14.036510</td>\n",
       "      <td>-500.857308</td>\n",
       "      <td>11.999550</td>\n",
       "      <td>-501.193686</td>\n",
       "      <td>9.970366</td>\n",
       "      <td>-499.201640</td>\n",
       "      <td>7.977324</td>\n",
       "      <td>-500.255908</td>\n",
       "      <td>14.005551</td>\n",
       "      <td>-599.996129</td>\n",
       "    </tr>\n",
       "    <tr>\n",
       "      <th>4</th>\n",
       "      <td>2016-01-15 04:00:00</td>\n",
       "      <td>6.148599</td>\n",
       "      <td>10.142511</td>\n",
       "      <td>4.939416</td>\n",
       "      <td>42.774141</td>\n",
       "      <td>66.927016</td>\n",
       "      <td>10.360302</td>\n",
       "      <td>0.792826</td>\n",
       "      <td>16.525686</td>\n",
       "      <td>2.055292</td>\n",
       "      <td>...</td>\n",
       "      <td>14.027298</td>\n",
       "      <td>-499.838632</td>\n",
       "      <td>11.953070</td>\n",
       "      <td>-501.053894</td>\n",
       "      <td>9.925709</td>\n",
       "      <td>-501.686727</td>\n",
       "      <td>7.894242</td>\n",
       "      <td>-500.356035</td>\n",
       "      <td>13.996647</td>\n",
       "      <td>-601.496691</td>\n",
       "    </tr>\n",
       "    <tr>\n",
       "      <th>5</th>\n",
       "      <td>2016-01-15 05:00:00</td>\n",
       "      <td>6.482968</td>\n",
       "      <td>10.049416</td>\n",
       "      <td>5.480257</td>\n",
       "      <td>41.633678</td>\n",
       "      <td>69.465816</td>\n",
       "      <td>10.182708</td>\n",
       "      <td>0.664118</td>\n",
       "      <td>16.999638</td>\n",
       "      <td>1.918586</td>\n",
       "      <td>...</td>\n",
       "      <td>13.938497</td>\n",
       "      <td>-500.970168</td>\n",
       "      <td>11.883350</td>\n",
       "      <td>-500.395298</td>\n",
       "      <td>10.054147</td>\n",
       "      <td>-496.374715</td>\n",
       "      <td>7.965083</td>\n",
       "      <td>-499.364752</td>\n",
       "      <td>14.017067</td>\n",
       "      <td>-599.707915</td>\n",
       "    </tr>\n",
       "    <tr>\n",
       "      <th>6</th>\n",
       "      <td>2016-01-15 06:00:00</td>\n",
       "      <td>6.533849</td>\n",
       "      <td>10.058141</td>\n",
       "      <td>4.569100</td>\n",
       "      <td>41.995316</td>\n",
       "      <td>69.300835</td>\n",
       "      <td>10.304598</td>\n",
       "      <td>0.807342</td>\n",
       "      <td>16.723575</td>\n",
       "      <td>2.058913</td>\n",
       "      <td>...</td>\n",
       "      <td>14.046819</td>\n",
       "      <td>-500.971133</td>\n",
       "      <td>12.091543</td>\n",
       "      <td>-500.501426</td>\n",
       "      <td>10.003247</td>\n",
       "      <td>-497.083180</td>\n",
       "      <td>8.010890</td>\n",
       "      <td>-500.002423</td>\n",
       "      <td>14.029649</td>\n",
       "      <td>-600.905470</td>\n",
       "    </tr>\n",
       "    <tr>\n",
       "      <th>7</th>\n",
       "      <td>2016-01-15 07:00:00</td>\n",
       "      <td>6.130823</td>\n",
       "      <td>9.935481</td>\n",
       "      <td>4.389813</td>\n",
       "      <td>42.452727</td>\n",
       "      <td>70.230976</td>\n",
       "      <td>10.443288</td>\n",
       "      <td>0.949346</td>\n",
       "      <td>16.689959</td>\n",
       "      <td>2.143437</td>\n",
       "      <td>...</td>\n",
       "      <td>13.974691</td>\n",
       "      <td>-501.819696</td>\n",
       "      <td>12.101324</td>\n",
       "      <td>-500.583446</td>\n",
       "      <td>9.873169</td>\n",
       "      <td>-499.171928</td>\n",
       "      <td>7.993381</td>\n",
       "      <td>-499.794518</td>\n",
       "      <td>13.984498</td>\n",
       "      <td>-600.411070</td>\n",
       "    </tr>\n",
       "    <tr>\n",
       "      <th>8</th>\n",
       "      <td>2016-01-15 08:00:00</td>\n",
       "      <td>5.834140</td>\n",
       "      <td>10.071156</td>\n",
       "      <td>4.876389</td>\n",
       "      <td>43.404078</td>\n",
       "      <td>69.688595</td>\n",
       "      <td>10.420140</td>\n",
       "      <td>1.065453</td>\n",
       "      <td>17.201948</td>\n",
       "      <td>2.209881</td>\n",
       "      <td>...</td>\n",
       "      <td>13.964030</td>\n",
       "      <td>-504.252450</td>\n",
       "      <td>12.060738</td>\n",
       "      <td>-501.174549</td>\n",
       "      <td>10.033838</td>\n",
       "      <td>-501.178133</td>\n",
       "      <td>7.881604</td>\n",
       "      <td>-499.729434</td>\n",
       "      <td>13.967135</td>\n",
       "      <td>-599.061188</td>\n",
       "    </tr>\n",
       "    <tr>\n",
       "      <th>9</th>\n",
       "      <td>2016-01-15 09:00:00</td>\n",
       "      <td>5.687063</td>\n",
       "      <td>9.980404</td>\n",
       "      <td>5.282514</td>\n",
       "      <td>43.235220</td>\n",
       "      <td>70.279619</td>\n",
       "      <td>10.487013</td>\n",
       "      <td>1.159805</td>\n",
       "      <td>17.483979</td>\n",
       "      <td>2.209593</td>\n",
       "      <td>...</td>\n",
       "      <td>13.989632</td>\n",
       "      <td>-503.195299</td>\n",
       "      <td>12.052233</td>\n",
       "      <td>-500.928547</td>\n",
       "      <td>9.962574</td>\n",
       "      <td>-502.986357</td>\n",
       "      <td>7.979219</td>\n",
       "      <td>-500.146835</td>\n",
       "      <td>13.981614</td>\n",
       "      <td>-598.070855</td>\n",
       "    </tr>\n",
       "  </tbody>\n",
       "</table>\n",
       "<p>10 rows × 87 columns</p>\n",
       "</div>"
      ],
      "text/plain": [
       "                  date  final.output.concentrate_ag  \\\n",
       "0  2016-01-15 00:00:00                     6.055403   \n",
       "1  2016-01-15 01:00:00                     6.029369   \n",
       "2  2016-01-15 02:00:00                     6.055926   \n",
       "3  2016-01-15 03:00:00                     6.047977   \n",
       "4  2016-01-15 04:00:00                     6.148599   \n",
       "5  2016-01-15 05:00:00                     6.482968   \n",
       "6  2016-01-15 06:00:00                     6.533849   \n",
       "7  2016-01-15 07:00:00                     6.130823   \n",
       "8  2016-01-15 08:00:00                     5.834140   \n",
       "9  2016-01-15 09:00:00                     5.687063   \n",
       "\n",
       "   final.output.concentrate_pb  final.output.concentrate_sol  \\\n",
       "0                     9.889648                      5.507324   \n",
       "1                     9.968944                      5.257781   \n",
       "2                    10.213995                      5.383759   \n",
       "3                     9.977019                      4.858634   \n",
       "4                    10.142511                      4.939416   \n",
       "5                    10.049416                      5.480257   \n",
       "6                    10.058141                      4.569100   \n",
       "7                     9.935481                      4.389813   \n",
       "8                    10.071156                      4.876389   \n",
       "9                     9.980404                      5.282514   \n",
       "\n",
       "   final.output.concentrate_au  final.output.recovery  final.output.tail_ag  \\\n",
       "0                    42.192020              70.541216             10.411962   \n",
       "1                    42.701629              69.266198             10.462676   \n",
       "2                    42.657501              68.116445             10.507046   \n",
       "3                    42.689819              68.347543             10.422762   \n",
       "4                    42.774141              66.927016             10.360302   \n",
       "5                    41.633678              69.465816             10.182708   \n",
       "6                    41.995316              69.300835             10.304598   \n",
       "7                    42.452727              70.230976             10.443288   \n",
       "8                    43.404078              69.688595             10.420140   \n",
       "9                    43.235220              70.279619             10.487013   \n",
       "\n",
       "   final.output.tail_pb  final.output.tail_sol  final.output.tail_au  ...  \\\n",
       "0              0.895447              16.904297              2.143149  ...   \n",
       "1              0.927452              16.634514              2.224930  ...   \n",
       "2              0.953716              16.208849              2.257889  ...   \n",
       "3              0.883763              16.532835              2.146849  ...   \n",
       "4              0.792826              16.525686              2.055292  ...   \n",
       "5              0.664118              16.999638              1.918586  ...   \n",
       "6              0.807342              16.723575              2.058913  ...   \n",
       "7              0.949346              16.689959              2.143437  ...   \n",
       "8              1.065453              17.201948              2.209881  ...   \n",
       "9              1.159805              17.483979              2.209593  ...   \n",
       "\n",
       "   secondary_cleaner.state.floatbank4_a_air  \\\n",
       "0                                 14.016835   \n",
       "1                                 13.992281   \n",
       "2                                 14.015015   \n",
       "3                                 14.036510   \n",
       "4                                 14.027298   \n",
       "5                                 13.938497   \n",
       "6                                 14.046819   \n",
       "7                                 13.974691   \n",
       "8                                 13.964030   \n",
       "9                                 13.989632   \n",
       "\n",
       "   secondary_cleaner.state.floatbank4_a_level  \\\n",
       "0                                 -502.488007   \n",
       "1                                 -505.503262   \n",
       "2                                 -502.520901   \n",
       "3                                 -500.857308   \n",
       "4                                 -499.838632   \n",
       "5                                 -500.970168   \n",
       "6                                 -500.971133   \n",
       "7                                 -501.819696   \n",
       "8                                 -504.252450   \n",
       "9                                 -503.195299   \n",
       "\n",
       "   secondary_cleaner.state.floatbank4_b_air  \\\n",
       "0                                 12.099931   \n",
       "1                                 11.950531   \n",
       "2                                 11.912783   \n",
       "3                                 11.999550   \n",
       "4                                 11.953070   \n",
       "5                                 11.883350   \n",
       "6                                 12.091543   \n",
       "7                                 12.101324   \n",
       "8                                 12.060738   \n",
       "9                                 12.052233   \n",
       "\n",
       "   secondary_cleaner.state.floatbank4_b_level  \\\n",
       "0                                 -504.715942   \n",
       "1                                 -501.331529   \n",
       "2                                 -501.133383   \n",
       "3                                 -501.193686   \n",
       "4                                 -501.053894   \n",
       "5                                 -500.395298   \n",
       "6                                 -500.501426   \n",
       "7                                 -500.583446   \n",
       "8                                 -501.174549   \n",
       "9                                 -500.928547   \n",
       "\n",
       "   secondary_cleaner.state.floatbank5_a_air  \\\n",
       "0                                  9.925633   \n",
       "1                                 10.039245   \n",
       "2                                 10.070913   \n",
       "3                                  9.970366   \n",
       "4                                  9.925709   \n",
       "5                                 10.054147   \n",
       "6                                 10.003247   \n",
       "7                                  9.873169   \n",
       "8                                 10.033838   \n",
       "9                                  9.962574   \n",
       "\n",
       "   secondary_cleaner.state.floatbank5_a_level  \\\n",
       "0                                 -498.310211   \n",
       "1                                 -500.169983   \n",
       "2                                 -500.129135   \n",
       "3                                 -499.201640   \n",
       "4                                 -501.686727   \n",
       "5                                 -496.374715   \n",
       "6                                 -497.083180   \n",
       "7                                 -499.171928   \n",
       "8                                 -501.178133   \n",
       "9                                 -502.986357   \n",
       "\n",
       "   secondary_cleaner.state.floatbank5_b_air  \\\n",
       "0                                  8.079666   \n",
       "1                                  7.984757   \n",
       "2                                  8.013877   \n",
       "3                                  7.977324   \n",
       "4                                  7.894242   \n",
       "5                                  7.965083   \n",
       "6                                  8.010890   \n",
       "7                                  7.993381   \n",
       "8                                  7.881604   \n",
       "9                                  7.979219   \n",
       "\n",
       "   secondary_cleaner.state.floatbank5_b_level  \\\n",
       "0                                 -500.470978   \n",
       "1                                 -500.582168   \n",
       "2                                 -500.517572   \n",
       "3                                 -500.255908   \n",
       "4                                 -500.356035   \n",
       "5                                 -499.364752   \n",
       "6                                 -500.002423   \n",
       "7                                 -499.794518   \n",
       "8                                 -499.729434   \n",
       "9                                 -500.146835   \n",
       "\n",
       "   secondary_cleaner.state.floatbank6_a_air  \\\n",
       "0                                 14.151341   \n",
       "1                                 13.998353   \n",
       "2                                 14.028663   \n",
       "3                                 14.005551   \n",
       "4                                 13.996647   \n",
       "5                                 14.017067   \n",
       "6                                 14.029649   \n",
       "7                                 13.984498   \n",
       "8                                 13.967135   \n",
       "9                                 13.981614   \n",
       "\n",
       "   secondary_cleaner.state.floatbank6_a_level  \n",
       "0                                 -605.841980  \n",
       "1                                 -599.787184  \n",
       "2                                 -601.427363  \n",
       "3                                 -599.996129  \n",
       "4                                 -601.496691  \n",
       "5                                 -599.707915  \n",
       "6                                 -600.905470  \n",
       "7                                 -600.411070  \n",
       "8                                 -599.061188  \n",
       "9                                 -598.070855  \n",
       "\n",
       "[10 rows x 87 columns]"
      ]
     },
     "execution_count": 5,
     "metadata": {},
     "output_type": "execute_result"
    }
   ],
   "source": [
    "# получение первых 10 строк общей выборки\n",
    "df_full.head(10)"
   ]
  },
  {
   "cell_type": "markdown",
   "metadata": {},
   "source": [
    "Теперь посмотрим общую информацию о таблицах - названия колонок, количество ненулевых значений, типы данных и т.п."
   ]
  },
  {
   "cell_type": "code",
   "execution_count": 6,
   "metadata": {},
   "outputs": [
    {
     "name": "stdout",
     "output_type": "stream",
     "text": [
      "<class 'pandas.core.frame.DataFrame'>\n",
      "RangeIndex: 14149 entries, 0 to 14148\n",
      "Data columns (total 87 columns):\n",
      " #   Column                                              Non-Null Count  Dtype  \n",
      "---  ------                                              --------------  -----  \n",
      " 0   date                                                14149 non-null  object \n",
      " 1   final.output.concentrate_ag                         14148 non-null  float64\n",
      " 2   final.output.concentrate_pb                         14148 non-null  float64\n",
      " 3   final.output.concentrate_sol                        13938 non-null  float64\n",
      " 4   final.output.concentrate_au                         14149 non-null  float64\n",
      " 5   final.output.recovery                               14149 non-null  float64\n",
      " 6   final.output.tail_ag                                14149 non-null  float64\n",
      " 7   final.output.tail_pb                                14049 non-null  float64\n",
      " 8   final.output.tail_sol                               14144 non-null  float64\n",
      " 9   final.output.tail_au                                14149 non-null  float64\n",
      " 10  primary_cleaner.input.sulfate                       14129 non-null  float64\n",
      " 11  primary_cleaner.input.depressant                    14117 non-null  float64\n",
      " 12  primary_cleaner.input.feed_size                     14149 non-null  float64\n",
      " 13  primary_cleaner.input.xanthate                      14049 non-null  float64\n",
      " 14  primary_cleaner.output.concentrate_ag               14149 non-null  float64\n",
      " 15  primary_cleaner.output.concentrate_pb               14063 non-null  float64\n",
      " 16  primary_cleaner.output.concentrate_sol              13863 non-null  float64\n",
      " 17  primary_cleaner.output.concentrate_au               14149 non-null  float64\n",
      " 18  primary_cleaner.output.tail_ag                      14148 non-null  float64\n",
      " 19  primary_cleaner.output.tail_pb                      14134 non-null  float64\n",
      " 20  primary_cleaner.output.tail_sol                     14103 non-null  float64\n",
      " 21  primary_cleaner.output.tail_au                      14149 non-null  float64\n",
      " 22  primary_cleaner.state.floatbank8_a_air              14145 non-null  float64\n",
      " 23  primary_cleaner.state.floatbank8_a_level            14148 non-null  float64\n",
      " 24  primary_cleaner.state.floatbank8_b_air              14145 non-null  float64\n",
      " 25  primary_cleaner.state.floatbank8_b_level            14148 non-null  float64\n",
      " 26  primary_cleaner.state.floatbank8_c_air              14147 non-null  float64\n",
      " 27  primary_cleaner.state.floatbank8_c_level            14148 non-null  float64\n",
      " 28  primary_cleaner.state.floatbank8_d_air              14146 non-null  float64\n",
      " 29  primary_cleaner.state.floatbank8_d_level            14148 non-null  float64\n",
      " 30  rougher.calculation.sulfate_to_au_concentrate       14148 non-null  float64\n",
      " 31  rougher.calculation.floatbank10_sulfate_to_au_feed  14148 non-null  float64\n",
      " 32  rougher.calculation.floatbank11_sulfate_to_au_feed  14148 non-null  float64\n",
      " 33  rougher.calculation.au_pb_ratio                     14149 non-null  float64\n",
      " 34  rougher.input.feed_ag                               14149 non-null  float64\n",
      " 35  rougher.input.feed_pb                               14049 non-null  float64\n",
      " 36  rougher.input.feed_rate                             14141 non-null  float64\n",
      " 37  rougher.input.feed_size                             14005 non-null  float64\n",
      " 38  rougher.input.feed_sol                              14071 non-null  float64\n",
      " 39  rougher.input.feed_au                               14149 non-null  float64\n",
      " 40  rougher.input.floatbank10_sulfate                   14120 non-null  float64\n",
      " 41  rougher.input.floatbank10_xanthate                  14141 non-null  float64\n",
      " 42  rougher.input.floatbank11_sulfate                   14113 non-null  float64\n",
      " 43  rougher.input.floatbank11_xanthate                  13721 non-null  float64\n",
      " 44  rougher.output.concentrate_ag                       14149 non-null  float64\n",
      " 45  rougher.output.concentrate_pb                       14149 non-null  float64\n",
      " 46  rougher.output.concentrate_sol                      14127 non-null  float64\n",
      " 47  rougher.output.concentrate_au                       14149 non-null  float64\n",
      " 48  rougher.output.recovery                             14149 non-null  float64\n",
      " 49  rougher.output.tail_ag                              14148 non-null  float64\n",
      " 50  rougher.output.tail_pb                              14149 non-null  float64\n",
      " 51  rougher.output.tail_sol                             14149 non-null  float64\n",
      " 52  rougher.output.tail_au                              14149 non-null  float64\n",
      " 53  rougher.state.floatbank10_a_air                     14148 non-null  float64\n",
      " 54  rougher.state.floatbank10_a_level                   14148 non-null  float64\n",
      " 55  rougher.state.floatbank10_b_air                     14148 non-null  float64\n",
      " 56  rougher.state.floatbank10_b_level                   14148 non-null  float64\n",
      " 57  rougher.state.floatbank10_c_air                     14148 non-null  float64\n",
      " 58  rougher.state.floatbank10_c_level                   14148 non-null  float64\n",
      " 59  rougher.state.floatbank10_d_air                     14149 non-null  float64\n",
      " 60  rougher.state.floatbank10_d_level                   14149 non-null  float64\n",
      " 61  rougher.state.floatbank10_e_air                     13713 non-null  float64\n",
      " 62  rougher.state.floatbank10_e_level                   14149 non-null  float64\n",
      " 63  rougher.state.floatbank10_f_air                     14149 non-null  float64\n",
      " 64  rougher.state.floatbank10_f_level                   14149 non-null  float64\n",
      " 65  secondary_cleaner.output.tail_ag                    14147 non-null  float64\n",
      " 66  secondary_cleaner.output.tail_pb                    14139 non-null  float64\n",
      " 67  secondary_cleaner.output.tail_sol                   12544 non-null  float64\n",
      " 68  secondary_cleaner.output.tail_au                    14149 non-null  float64\n",
      " 69  secondary_cleaner.state.floatbank2_a_air            13932 non-null  float64\n",
      " 70  secondary_cleaner.state.floatbank2_a_level          14148 non-null  float64\n",
      " 71  secondary_cleaner.state.floatbank2_b_air            14128 non-null  float64\n",
      " 72  secondary_cleaner.state.floatbank2_b_level          14148 non-null  float64\n",
      " 73  secondary_cleaner.state.floatbank3_a_air            14145 non-null  float64\n",
      " 74  secondary_cleaner.state.floatbank3_a_level          14148 non-null  float64\n",
      " 75  secondary_cleaner.state.floatbank3_b_air            14148 non-null  float64\n",
      " 76  secondary_cleaner.state.floatbank3_b_level          14148 non-null  float64\n",
      " 77  secondary_cleaner.state.floatbank4_a_air            14143 non-null  float64\n",
      " 78  secondary_cleaner.state.floatbank4_a_level          14148 non-null  float64\n",
      " 79  secondary_cleaner.state.floatbank4_b_air            14148 non-null  float64\n",
      " 80  secondary_cleaner.state.floatbank4_b_level          14148 non-null  float64\n",
      " 81  secondary_cleaner.state.floatbank5_a_air            14148 non-null  float64\n",
      " 82  secondary_cleaner.state.floatbank5_a_level          14148 non-null  float64\n",
      " 83  secondary_cleaner.state.floatbank5_b_air            14148 non-null  float64\n",
      " 84  secondary_cleaner.state.floatbank5_b_level          14148 non-null  float64\n",
      " 85  secondary_cleaner.state.floatbank6_a_air            14147 non-null  float64\n",
      " 86  secondary_cleaner.state.floatbank6_a_level          14148 non-null  float64\n",
      "dtypes: float64(86), object(1)\n",
      "memory usage: 9.4+ MB\n"
     ]
    }
   ],
   "source": [
    "# получение общей информации о таблице обучающей выборки\n",
    "df_train.info()"
   ]
  },
  {
   "cell_type": "code",
   "execution_count": 7,
   "metadata": {},
   "outputs": [
    {
     "name": "stdout",
     "output_type": "stream",
     "text": [
      "<class 'pandas.core.frame.DataFrame'>\n",
      "RangeIndex: 5290 entries, 0 to 5289\n",
      "Data columns (total 53 columns):\n",
      " #   Column                                      Non-Null Count  Dtype  \n",
      "---  ------                                      --------------  -----  \n",
      " 0   date                                        5290 non-null   object \n",
      " 1   primary_cleaner.input.sulfate               5286 non-null   float64\n",
      " 2   primary_cleaner.input.depressant            5285 non-null   float64\n",
      " 3   primary_cleaner.input.feed_size             5290 non-null   float64\n",
      " 4   primary_cleaner.input.xanthate              5286 non-null   float64\n",
      " 5   primary_cleaner.state.floatbank8_a_air      5290 non-null   float64\n",
      " 6   primary_cleaner.state.floatbank8_a_level    5290 non-null   float64\n",
      " 7   primary_cleaner.state.floatbank8_b_air      5290 non-null   float64\n",
      " 8   primary_cleaner.state.floatbank8_b_level    5290 non-null   float64\n",
      " 9   primary_cleaner.state.floatbank8_c_air      5290 non-null   float64\n",
      " 10  primary_cleaner.state.floatbank8_c_level    5290 non-null   float64\n",
      " 11  primary_cleaner.state.floatbank8_d_air      5290 non-null   float64\n",
      " 12  primary_cleaner.state.floatbank8_d_level    5290 non-null   float64\n",
      " 13  rougher.input.feed_ag                       5290 non-null   float64\n",
      " 14  rougher.input.feed_pb                       5290 non-null   float64\n",
      " 15  rougher.input.feed_rate                     5287 non-null   float64\n",
      " 16  rougher.input.feed_size                     5289 non-null   float64\n",
      " 17  rougher.input.feed_sol                      5269 non-null   float64\n",
      " 18  rougher.input.feed_au                       5290 non-null   float64\n",
      " 19  rougher.input.floatbank10_sulfate           5285 non-null   float64\n",
      " 20  rougher.input.floatbank10_xanthate          5290 non-null   float64\n",
      " 21  rougher.input.floatbank11_sulfate           5282 non-null   float64\n",
      " 22  rougher.input.floatbank11_xanthate          5265 non-null   float64\n",
      " 23  rougher.state.floatbank10_a_air             5290 non-null   float64\n",
      " 24  rougher.state.floatbank10_a_level           5290 non-null   float64\n",
      " 25  rougher.state.floatbank10_b_air             5290 non-null   float64\n",
      " 26  rougher.state.floatbank10_b_level           5290 non-null   float64\n",
      " 27  rougher.state.floatbank10_c_air             5290 non-null   float64\n",
      " 28  rougher.state.floatbank10_c_level           5290 non-null   float64\n",
      " 29  rougher.state.floatbank10_d_air             5290 non-null   float64\n",
      " 30  rougher.state.floatbank10_d_level           5290 non-null   float64\n",
      " 31  rougher.state.floatbank10_e_air             5290 non-null   float64\n",
      " 32  rougher.state.floatbank10_e_level           5290 non-null   float64\n",
      " 33  rougher.state.floatbank10_f_air             5290 non-null   float64\n",
      " 34  rougher.state.floatbank10_f_level           5290 non-null   float64\n",
      " 35  secondary_cleaner.state.floatbank2_a_air    5287 non-null   float64\n",
      " 36  secondary_cleaner.state.floatbank2_a_level  5290 non-null   float64\n",
      " 37  secondary_cleaner.state.floatbank2_b_air    5288 non-null   float64\n",
      " 38  secondary_cleaner.state.floatbank2_b_level  5290 non-null   float64\n",
      " 39  secondary_cleaner.state.floatbank3_a_air    5281 non-null   float64\n",
      " 40  secondary_cleaner.state.floatbank3_a_level  5290 non-null   float64\n",
      " 41  secondary_cleaner.state.floatbank3_b_air    5290 non-null   float64\n",
      " 42  secondary_cleaner.state.floatbank3_b_level  5290 non-null   float64\n",
      " 43  secondary_cleaner.state.floatbank4_a_air    5290 non-null   float64\n",
      " 44  secondary_cleaner.state.floatbank4_a_level  5290 non-null   float64\n",
      " 45  secondary_cleaner.state.floatbank4_b_air    5290 non-null   float64\n",
      " 46  secondary_cleaner.state.floatbank4_b_level  5290 non-null   float64\n",
      " 47  secondary_cleaner.state.floatbank5_a_air    5290 non-null   float64\n",
      " 48  secondary_cleaner.state.floatbank5_a_level  5290 non-null   float64\n",
      " 49  secondary_cleaner.state.floatbank5_b_air    5290 non-null   float64\n",
      " 50  secondary_cleaner.state.floatbank5_b_level  5290 non-null   float64\n",
      " 51  secondary_cleaner.state.floatbank6_a_air    5290 non-null   float64\n",
      " 52  secondary_cleaner.state.floatbank6_a_level  5290 non-null   float64\n",
      "dtypes: float64(52), object(1)\n",
      "memory usage: 2.1+ MB\n"
     ]
    }
   ],
   "source": [
    "# получение общей информации о таблице тестовой выборки\n",
    "df_test.info()"
   ]
  },
  {
   "cell_type": "code",
   "execution_count": 8,
   "metadata": {},
   "outputs": [
    {
     "name": "stdout",
     "output_type": "stream",
     "text": [
      "<class 'pandas.core.frame.DataFrame'>\n",
      "RangeIndex: 19439 entries, 0 to 19438\n",
      "Data columns (total 87 columns):\n",
      " #   Column                                              Non-Null Count  Dtype  \n",
      "---  ------                                              --------------  -----  \n",
      " 0   date                                                19439 non-null  object \n",
      " 1   final.output.concentrate_ag                         19438 non-null  float64\n",
      " 2   final.output.concentrate_pb                         19438 non-null  float64\n",
      " 3   final.output.concentrate_sol                        19228 non-null  float64\n",
      " 4   final.output.concentrate_au                         19439 non-null  float64\n",
      " 5   final.output.recovery                               19439 non-null  float64\n",
      " 6   final.output.tail_ag                                19438 non-null  float64\n",
      " 7   final.output.tail_pb                                19338 non-null  float64\n",
      " 8   final.output.tail_sol                               19433 non-null  float64\n",
      " 9   final.output.tail_au                                19439 non-null  float64\n",
      " 10  primary_cleaner.input.sulfate                       19415 non-null  float64\n",
      " 11  primary_cleaner.input.depressant                    19402 non-null  float64\n",
      " 12  primary_cleaner.input.feed_size                     19439 non-null  float64\n",
      " 13  primary_cleaner.input.xanthate                      19335 non-null  float64\n",
      " 14  primary_cleaner.output.concentrate_ag               19439 non-null  float64\n",
      " 15  primary_cleaner.output.concentrate_pb               19323 non-null  float64\n",
      " 16  primary_cleaner.output.concentrate_sol              19069 non-null  float64\n",
      " 17  primary_cleaner.output.concentrate_au               19439 non-null  float64\n",
      " 18  primary_cleaner.output.tail_ag                      19435 non-null  float64\n",
      " 19  primary_cleaner.output.tail_pb                      19418 non-null  float64\n",
      " 20  primary_cleaner.output.tail_sol                     19377 non-null  float64\n",
      " 21  primary_cleaner.output.tail_au                      19439 non-null  float64\n",
      " 22  primary_cleaner.state.floatbank8_a_air              19435 non-null  float64\n",
      " 23  primary_cleaner.state.floatbank8_a_level            19438 non-null  float64\n",
      " 24  primary_cleaner.state.floatbank8_b_air              19435 non-null  float64\n",
      " 25  primary_cleaner.state.floatbank8_b_level            19438 non-null  float64\n",
      " 26  primary_cleaner.state.floatbank8_c_air              19437 non-null  float64\n",
      " 27  primary_cleaner.state.floatbank8_c_level            19438 non-null  float64\n",
      " 28  primary_cleaner.state.floatbank8_d_air              19436 non-null  float64\n",
      " 29  primary_cleaner.state.floatbank8_d_level            19438 non-null  float64\n",
      " 30  rougher.calculation.sulfate_to_au_concentrate       19437 non-null  float64\n",
      " 31  rougher.calculation.floatbank10_sulfate_to_au_feed  19437 non-null  float64\n",
      " 32  rougher.calculation.floatbank11_sulfate_to_au_feed  19437 non-null  float64\n",
      " 33  rougher.calculation.au_pb_ratio                     19439 non-null  float64\n",
      " 34  rougher.input.feed_ag                               19439 non-null  float64\n",
      " 35  rougher.input.feed_pb                               19339 non-null  float64\n",
      " 36  rougher.input.feed_rate                             19428 non-null  float64\n",
      " 37  rougher.input.feed_size                             19294 non-null  float64\n",
      " 38  rougher.input.feed_sol                              19340 non-null  float64\n",
      " 39  rougher.input.feed_au                               19439 non-null  float64\n",
      " 40  rougher.input.floatbank10_sulfate                   19405 non-null  float64\n",
      " 41  rougher.input.floatbank10_xanthate                  19431 non-null  float64\n",
      " 42  rougher.input.floatbank11_sulfate                   19395 non-null  float64\n",
      " 43  rougher.input.floatbank11_xanthate                  18986 non-null  float64\n",
      " 44  rougher.output.concentrate_ag                       19439 non-null  float64\n",
      " 45  rougher.output.concentrate_pb                       19439 non-null  float64\n",
      " 46  rougher.output.concentrate_sol                      19416 non-null  float64\n",
      " 47  rougher.output.concentrate_au                       19439 non-null  float64\n",
      " 48  rougher.output.recovery                             19439 non-null  float64\n",
      " 49  rougher.output.tail_ag                              19438 non-null  float64\n",
      " 50  rougher.output.tail_pb                              19439 non-null  float64\n",
      " 51  rougher.output.tail_sol                             19439 non-null  float64\n",
      " 52  rougher.output.tail_au                              19439 non-null  float64\n",
      " 53  rougher.state.floatbank10_a_air                     19438 non-null  float64\n",
      " 54  rougher.state.floatbank10_a_level                   19438 non-null  float64\n",
      " 55  rougher.state.floatbank10_b_air                     19438 non-null  float64\n",
      " 56  rougher.state.floatbank10_b_level                   19438 non-null  float64\n",
      " 57  rougher.state.floatbank10_c_air                     19438 non-null  float64\n",
      " 58  rougher.state.floatbank10_c_level                   19438 non-null  float64\n",
      " 59  rougher.state.floatbank10_d_air                     19439 non-null  float64\n",
      " 60  rougher.state.floatbank10_d_level                   19439 non-null  float64\n",
      " 61  rougher.state.floatbank10_e_air                     19003 non-null  float64\n",
      " 62  rougher.state.floatbank10_e_level                   19439 non-null  float64\n",
      " 63  rougher.state.floatbank10_f_air                     19439 non-null  float64\n",
      " 64  rougher.state.floatbank10_f_level                   19439 non-null  float64\n",
      " 65  secondary_cleaner.output.tail_ag                    19437 non-null  float64\n",
      " 66  secondary_cleaner.output.tail_pb                    19427 non-null  float64\n",
      " 67  secondary_cleaner.output.tail_sol                   17691 non-null  float64\n",
      " 68  secondary_cleaner.output.tail_au                    19439 non-null  float64\n",
      " 69  secondary_cleaner.state.floatbank2_a_air            19219 non-null  float64\n",
      " 70  secondary_cleaner.state.floatbank2_a_level          19438 non-null  float64\n",
      " 71  secondary_cleaner.state.floatbank2_b_air            19416 non-null  float64\n",
      " 72  secondary_cleaner.state.floatbank2_b_level          19438 non-null  float64\n",
      " 73  secondary_cleaner.state.floatbank3_a_air            19426 non-null  float64\n",
      " 74  secondary_cleaner.state.floatbank3_a_level          19438 non-null  float64\n",
      " 75  secondary_cleaner.state.floatbank3_b_air            19438 non-null  float64\n",
      " 76  secondary_cleaner.state.floatbank3_b_level          19438 non-null  float64\n",
      " 77  secondary_cleaner.state.floatbank4_a_air            19433 non-null  float64\n",
      " 78  secondary_cleaner.state.floatbank4_a_level          19438 non-null  float64\n",
      " 79  secondary_cleaner.state.floatbank4_b_air            19438 non-null  float64\n",
      " 80  secondary_cleaner.state.floatbank4_b_level          19438 non-null  float64\n",
      " 81  secondary_cleaner.state.floatbank5_a_air            19438 non-null  float64\n",
      " 82  secondary_cleaner.state.floatbank5_a_level          19438 non-null  float64\n",
      " 83  secondary_cleaner.state.floatbank5_b_air            19438 non-null  float64\n",
      " 84  secondary_cleaner.state.floatbank5_b_level          19438 non-null  float64\n",
      " 85  secondary_cleaner.state.floatbank6_a_air            19437 non-null  float64\n",
      " 86  secondary_cleaner.state.floatbank6_a_level          19438 non-null  float64\n",
      "dtypes: float64(86), object(1)\n",
      "memory usage: 12.9+ MB\n"
     ]
    }
   ],
   "source": [
    "# получение общей информации о таблице общей выборки\n",
    "df_full.info()"
   ]
  },
  {
   "cell_type": "markdown",
   "metadata": {},
   "source": [
    "<div style=\"border:solid blue 2px; padding: 20px\">\n",
    "\n",
    "**Промежуточные выводы**\n",
    "    \n",
    "Видим ряд проблем:\n",
    " * в данных много пропусков\n",
    " * дата имеет тип данных object, хотя по факту является datetime\n",
    " * в train присутствуют те данные, которых нет в test"
   ]
  },
  {
   "cell_type": "markdown",
   "metadata": {},
   "source": [
    "Преобразуем дату к типу datetime"
   ]
  },
  {
   "cell_type": "code",
   "execution_count": 9,
   "metadata": {},
   "outputs": [],
   "source": [
    "df_train['date'] = pd.to_datetime(df_train['date'], format='%Y-%m-%d %H:%M')\n",
    "df_test['date'] = pd.to_datetime(df_test['date'], format='%Y-%m-%d %H:%M')\n",
    "df_full['date'] = pd.to_datetime(df_full['date'], format='%Y-%m-%d %H:%M')"
   ]
  },
  {
   "cell_type": "markdown",
   "metadata": {},
   "source": [
    "### Проверим, верно ли рассчитана эффективность обогащения"
   ]
  },
  {
   "cell_type": "markdown",
   "metadata": {},
   "source": [
    "*Эффективность обогащения рассчитывается по формуле:*\n",
    "\n",
    "$Recovery = \\frac{C \\times (F - T)}{F \\times (C - T)} \\times 100\\%$\n",
    "\n",
    "*Где:*\n",
    " * C — доля золота в концентрате после флотации/очистки;\n",
    " * F — доля золота в сырье/концентрате до флотации/очистки;\n",
    " * T — доля золота в отвальных хвостах после флотации/очистки."
   ]
  },
  {
   "cell_type": "markdown",
   "metadata": {},
   "source": [
    "Реализуем функцию подсчёта эффективности обогащения для признака rougher.output.recovery на обучающей выборке."
   ]
  },
  {
   "cell_type": "code",
   "execution_count": 10,
   "metadata": {},
   "outputs": [],
   "source": [
    "def calculate_recovery(C, F, T):\n",
    "    '''\n",
    "    Фунция принимает на вход три числа\n",
    "     * C — доля золота в концентрате после флотации/очистки;\n",
    "     * F — доля золота в сырье/концентрате до флотации/очистки;\n",
    "     * T — доля золота в отвальных хвостах после флотации/очистки.\n",
    "     И возвращает, посчитанную для них эффективность обучения\n",
    "    '''\n",
    "    return ((C * (F - T)) / (F * (C - T))) * 100\n",
    "\n",
    "def calculate_recovery_df(df):\n",
    "    '''\n",
    "    Функция принимает на вход датафрейм. \n",
    "    Присваивает переменным С, F и T соответствующие столбцы датафрейма. \n",
    "    Затем вызывает функцию calculate_recovery, реализованную ранее\n",
    "    и возвращает её результат\n",
    "    '''\n",
    "    C = df['rougher.output.concentrate_au']\n",
    "    F = df['rougher.input.feed_au']\n",
    "    T = df['rougher.output.tail_au']\n",
    "    \n",
    "    return calculate_recovery(C, F, T)"
   ]
  },
  {
   "cell_type": "markdown",
   "metadata": {},
   "source": [
    "Создадим датафрейм для проверки. Сделаем срез обучающей выборки только с теми колонками, которые нам понадобятся, чтобы проверить, верно ли посчитано 'rougher.output.recovery'. Уберём пропуски и применим к получившемуся датафрейму написанную раннее функцию для подсчёта эффективности обогащения. \n",
    "Затем посчитаем среднюю абсолютную ошибку для посчитанных нами через функцию данных и данных, имеющихся у нас в выборке. "
   ]
  },
  {
   "cell_type": "code",
   "execution_count": 11,
   "metadata": {},
   "outputs": [
    {
     "name": "stdout",
     "output_type": "stream",
     "text": [
      "MAE между расчётами и значением признака: 9.73512347450521e-15\n"
     ]
    }
   ],
   "source": [
    "columns = ['rougher.output.concentrate_au', 'rougher.input.feed_au', 'rougher.output.tail_au', 'rougher.output.recovery']\n",
    "df_train_for_check = df_train[columns]\n",
    "df_train_for_check = df_train_for_check.dropna()\n",
    "df_train_for_check['rougher.output.recovery_calculated'] = df_train_for_check.apply(calculate_recovery_df, axis=1)\n",
    "mae = mean_absolute_error(df_train_for_check['rougher.output.recovery'], df_train_for_check['rougher.output.recovery_calculated'])\n",
    "print(\"MAE между расчётами и значением признака:\", mae)"
   ]
  },
  {
   "cell_type": "markdown",
   "metadata": {},
   "source": [
    "Мы видим, что mae совсем низкая. Убедимся, что расччитанные нами значения и значения признака имеют схожие распределения. \n",
    "Построим гистограммы. "
   ]
  },
  {
   "cell_type": "code",
   "execution_count": 12,
   "metadata": {},
   "outputs": [
    {
     "name": "stdout",
     "output_type": "stream",
     "text": [
      "Распределение значения признака на обучающей выборке\n"
     ]
    },
    {
     "data": {
      "text/plain": [
       "<AxesSubplot:xlabel='rougher.output.recovery', ylabel='Count'>"
      ]
     },
     "execution_count": 12,
     "metadata": {},
     "output_type": "execute_result"
    },
    {
     "data": {
      "image/png": "[encoded data removed]",
      "text/plain": [
       "<Figure size 432x288 with 1 Axes>"
      ]
     },
     "metadata": {
      "needs_background": "light"
     },
     "output_type": "display_data"
    }
   ],
   "source": [
    "print('Распределение значения признака на обучающей выборке')\n",
    "sns.histplot(data=df_train, x=\"rougher.output.recovery\")"
   ]
  },
  {
   "cell_type": "code",
   "execution_count": 13,
   "metadata": {},
   "outputs": [
    {
     "name": "stdout",
     "output_type": "stream",
     "text": [
      "Распределение посчитанных с помощью функции значений\n"
     ]
    },
    {
     "data": {
      "text/plain": [
       "<AxesSubplot:xlabel='rougher.output.recovery_calculated', ylabel='Count'>"
      ]
     },
     "execution_count": 13,
     "metadata": {},
     "output_type": "execute_result"
    },
    {
     "data": {
      "image/png": "[encoded data removed]",
      "text/plain": [
       "<Figure size 432x288 with 1 Axes>"
      ]
     },
     "metadata": {
      "needs_background": "light"
     },
     "output_type": "display_data"
    }
   ],
   "source": [
    "print('Распределение посчитанных с помощью функции значений')\n",
    "sns.histplot(data=df_train_for_check, x=\"rougher.output.recovery_calculated\")"
   ]
  },
  {
   "cell_type": "markdown",
   "metadata": {},
   "source": [
    "<div style=\"border:solid blue 2px; padding: 20px\">\n",
    "\n",
    "**Промежуточные выводы**\n",
    "\n",
    "Распределения практически не отличаются, погрешность минимальна, значит, можно предположить, что данные рассчитаны верно"
   ]
  },
  {
   "cell_type": "markdown",
   "metadata": {},
   "source": [
    "### Проанализируем признаки, недоступные в тестовой выборке"
   ]
  },
  {
   "cell_type": "markdown",
   "metadata": {},
   "source": [
    "Посмотрим, какие столбцы встречаются в обучающей выборке, но отсутствуют в тестовой. Посмотрим на первые 5 строк получившегося среза"
   ]
  },
  {
   "cell_type": "code",
   "execution_count": 14,
   "metadata": {},
   "outputs": [
    {
     "name": "stdout",
     "output_type": "stream",
     "text": [
      "Столбцы, встречающиеся только в обучающей выборке:\n",
      "\n",
      " ['final.output.concentrate_ag', 'final.output.concentrate_pb', 'final.output.concentrate_sol', 'final.output.concentrate_au', 'final.output.recovery', 'final.output.tail_ag', 'final.output.tail_pb', 'final.output.tail_sol', 'final.output.tail_au', 'primary_cleaner.output.concentrate_ag', 'primary_cleaner.output.concentrate_pb', 'primary_cleaner.output.concentrate_sol', 'primary_cleaner.output.concentrate_au', 'primary_cleaner.output.tail_ag', 'primary_cleaner.output.tail_pb', 'primary_cleaner.output.tail_sol', 'primary_cleaner.output.tail_au', 'rougher.calculation.sulfate_to_au_concentrate', 'rougher.calculation.floatbank10_sulfate_to_au_feed', 'rougher.calculation.floatbank11_sulfate_to_au_feed', 'rougher.calculation.au_pb_ratio', 'rougher.output.concentrate_ag', 'rougher.output.concentrate_pb', 'rougher.output.concentrate_sol', 'rougher.output.concentrate_au', 'rougher.output.recovery', 'rougher.output.tail_ag', 'rougher.output.tail_pb', 'rougher.output.tail_sol', 'rougher.output.tail_au', 'secondary_cleaner.output.tail_ag', 'secondary_cleaner.output.tail_pb', 'secondary_cleaner.output.tail_sol', 'secondary_cleaner.output.tail_au']\n"
     ]
    }
   ],
   "source": [
    "only_train_cols = df_train.columns.drop(df_test.columns)\n",
    "print(\"Столбцы, встречающиеся только в обучающей выборке:\\n\\n\", list(df_train[only_train_cols].columns))"
   ]
  },
  {
   "cell_type": "markdown",
   "metadata": {},
   "source": [
    "<div style=\"border:solid blue 2px; padding: 20px\">\n",
    "\n",
    "**Промежуточные выводы**\n",
    "\n",
    "Признаки, недоступные на тестовой выборке - это либо те признаки, которые можно посчитать, либо те, которые являются итоговым результатом прохождения этапов"
   ]
  },
  {
   "cell_type": "markdown",
   "metadata": {},
   "source": [
    "### Проведём предобработку данных"
   ]
  },
  {
   "cell_type": "markdown",
   "metadata": {},
   "source": [
    "Удалим из обучающей выборки все признаки, которых нет в тесте, за исключением целевых признаков - 'final.output.recovery' и 'rougher.output.recovery'. "
   ]
  },
  {
   "cell_type": "code",
   "execution_count": 15,
   "metadata": {},
   "outputs": [],
   "source": [
    "cols_to_drop = only_train_cols.drop(['final.output.recovery', 'rougher.output.recovery'])\n",
    "right_cols = df_train.columns.drop(cols_to_drop)\n",
    "df_train = df_train[right_cols]"
   ]
  },
  {
   "cell_type": "markdown",
   "metadata": {},
   "source": [
    "Добавим целевые признаки в test. Возьмём их из общего датасета и с помощью метода join присоединим к тестовой выборке. В качестве индекса будем использовать дату"
   ]
  },
  {
   "cell_type": "code",
   "execution_count": 16,
   "metadata": {},
   "outputs": [],
   "source": [
    "target_features_to_join = df_full[['date', 'final.output.recovery', 'rougher.output.recovery']].copy()\n",
    "df_test = df_test.join(target_features_to_join.set_index('date'), on='date')"
   ]
  },
  {
   "cell_type": "markdown",
   "metadata": {},
   "source": [
    "Избавимся от значений NaN в целевых признаках обеих выборок - такие данные не несут пользы."
   ]
  },
  {
   "cell_type": "code",
   "execution_count": 17,
   "metadata": {},
   "outputs": [],
   "source": [
    "df_train.dropna(subset = ['final.output.recovery', 'rougher.output.recovery'], inplace = True)\n",
    "df_test.dropna(subset = ['final.output.recovery', 'rougher.output.recovery'], inplace = True)"
   ]
  },
  {
   "cell_type": "code",
   "execution_count": 18,
   "metadata": {},
   "outputs": [],
   "source": [
    "df_test.reset_index(drop=True, inplace=True)\n",
    "df_train.reset_index(drop=True, inplace=True)"
   ]
  },
  {
   "cell_type": "markdown",
   "metadata": {},
   "source": [
    "Посмотрим на размеры получившихся выборок"
   ]
  },
  {
   "cell_type": "code",
   "execution_count": 19,
   "metadata": {},
   "outputs": [
    {
     "name": "stdout",
     "output_type": "stream",
     "text": [
      "(14149, 55)\n",
      "(5290, 55)\n"
     ]
    }
   ],
   "source": [
    "print(df_train.shape)\n",
    "print(df_test.shape)"
   ]
  },
  {
   "cell_type": "markdown",
   "metadata": {},
   "source": [
    "Проверим, где остались пропуски в данных. Для примера откроем обучающую выборку."
   ]
  },
  {
   "cell_type": "code",
   "execution_count": 20,
   "metadata": {},
   "outputs": [
    {
     "data": {
      "text/plain": [
       "date                                            0\n",
       "final.output.recovery                           0\n",
       "primary_cleaner.input.sulfate                  20\n",
       "primary_cleaner.input.depressant               32\n",
       "primary_cleaner.input.feed_size                 0\n",
       "primary_cleaner.input.xanthate                100\n",
       "primary_cleaner.state.floatbank8_a_air          4\n",
       "primary_cleaner.state.floatbank8_a_level        1\n",
       "primary_cleaner.state.floatbank8_b_air          4\n",
       "primary_cleaner.state.floatbank8_b_level        1\n",
       "primary_cleaner.state.floatbank8_c_air          2\n",
       "primary_cleaner.state.floatbank8_c_level        1\n",
       "primary_cleaner.state.floatbank8_d_air          3\n",
       "primary_cleaner.state.floatbank8_d_level        1\n",
       "rougher.input.feed_ag                           0\n",
       "rougher.input.feed_pb                         100\n",
       "rougher.input.feed_rate                         8\n",
       "rougher.input.feed_size                       144\n",
       "rougher.input.feed_sol                         78\n",
       "rougher.input.feed_au                           0\n",
       "rougher.input.floatbank10_sulfate              29\n",
       "rougher.input.floatbank10_xanthate              8\n",
       "rougher.input.floatbank11_sulfate              36\n",
       "rougher.input.floatbank11_xanthate            428\n",
       "rougher.output.recovery                         0\n",
       "rougher.state.floatbank10_a_air                 1\n",
       "rougher.state.floatbank10_a_level               1\n",
       "rougher.state.floatbank10_b_air                 1\n",
       "rougher.state.floatbank10_b_level               1\n",
       "rougher.state.floatbank10_c_air                 1\n",
       "rougher.state.floatbank10_c_level               1\n",
       "rougher.state.floatbank10_d_air                 0\n",
       "rougher.state.floatbank10_d_level               0\n",
       "rougher.state.floatbank10_e_air               436\n",
       "rougher.state.floatbank10_e_level               0\n",
       "rougher.state.floatbank10_f_air                 0\n",
       "rougher.state.floatbank10_f_level               0\n",
       "secondary_cleaner.state.floatbank2_a_air      217\n",
       "secondary_cleaner.state.floatbank2_a_level      1\n",
       "secondary_cleaner.state.floatbank2_b_air       21\n",
       "secondary_cleaner.state.floatbank2_b_level      1\n",
       "secondary_cleaner.state.floatbank3_a_air        4\n",
       "secondary_cleaner.state.floatbank3_a_level      1\n",
       "secondary_cleaner.state.floatbank3_b_air        1\n",
       "secondary_cleaner.state.floatbank3_b_level      1\n",
       "secondary_cleaner.state.floatbank4_a_air        6\n",
       "secondary_cleaner.state.floatbank4_a_level      1\n",
       "secondary_cleaner.state.floatbank4_b_air        1\n",
       "secondary_cleaner.state.floatbank4_b_level      1\n",
       "secondary_cleaner.state.floatbank5_a_air        1\n",
       "secondary_cleaner.state.floatbank5_a_level      1\n",
       "secondary_cleaner.state.floatbank5_b_air        1\n",
       "secondary_cleaner.state.floatbank5_b_level      1\n",
       "secondary_cleaner.state.floatbank6_a_air        2\n",
       "secondary_cleaner.state.floatbank6_a_level      1\n",
       "dtype: int64"
      ]
     },
     "execution_count": 20,
     "metadata": {},
     "output_type": "execute_result"
    }
   ],
   "source": [
    "df_train.isna().sum()"
   ]
  },
  {
   "cell_type": "markdown",
   "metadata": {},
   "source": [
    "Поскольку мы знаем, что соседние по времени параметры часто похожи, заполним пропуски методом 'ffill'"
   ]
  },
  {
   "cell_type": "code",
   "execution_count": 21,
   "metadata": {},
   "outputs": [],
   "source": [
    "df_train = df_train.fillna(method='ffill')"
   ]
  },
  {
   "cell_type": "code",
   "execution_count": 22,
   "metadata": {},
   "outputs": [],
   "source": [
    "df_full = df_full.fillna(method='ffill')"
   ]
  },
  {
   "cell_type": "markdown",
   "metadata": {},
   "source": [
    "Удалим дубликаты, если вдруг они появились"
   ]
  },
  {
   "cell_type": "code",
   "execution_count": 23,
   "metadata": {},
   "outputs": [],
   "source": [
    "df_train = df_train.drop_duplicates(subset=None, keep=\"first\")\n",
    "df_full = df_full.drop_duplicates(subset=None, keep=\"first\")"
   ]
  },
  {
   "cell_type": "markdown",
   "metadata": {},
   "source": [
    "<div style=\"border:solid blue 2px; padding: 20px\">\n",
    "\n",
    "**Выводы**\n",
    "\n",
    " * Мы провели предобработку данных, удалив дубликаты и заполнив пропуски предыдущим значением\n",
    " * Выяснили, что данные посчитаны верно\n",
    " * И в обучающей выборке из признаков, недоступных на тесте, оставили только целевые, которые в тест добавили из общего датасета"
   ]
  },
  {
   "cell_type": "markdown",
   "metadata": {},
   "source": [
    "## Анализ данных"
   ]
  },
  {
   "cell_type": "markdown",
   "metadata": {},
   "source": [
    "### Посмотрим, как меняется концентрация металлов (Au, Ag, Pb) на различных этапах очистки"
   ]
  },
  {
   "cell_type": "markdown",
   "metadata": {},
   "source": [
    "Для начала подготовим датасеты с необходимыми признаками для каждого из данных металлов."
   ]
  },
  {
   "cell_type": "code",
   "execution_count": 24,
   "metadata": {},
   "outputs": [],
   "source": [
    "#подготовка датасета для золота\n",
    "au_df = (df_full[[\n",
    "    'rougher.input.feed_au', \n",
    "    'rougher.output.concentrate_au', \n",
    "    'primary_cleaner.output.concentrate_au', \n",
    "    'final.output.concentrate_au']].copy())"
   ]
  },
  {
   "cell_type": "code",
   "execution_count": 25,
   "metadata": {},
   "outputs": [],
   "source": [
    "#подготовка датасета для серебра\n",
    "ag_df = (df_full[[\n",
    "    'rougher.input.feed_ag', \n",
    "    'rougher.output.concentrate_ag', \n",
    "    'primary_cleaner.output.concentrate_ag', \n",
    "    'final.output.concentrate_ag']].copy())"
   ]
  },
  {
   "cell_type": "code",
   "execution_count": 26,
   "metadata": {},
   "outputs": [],
   "source": [
    "#подготовка датасета для свинца\n",
    "pb_df = (df_full[[\n",
    "    'rougher.input.feed_pb', \n",
    "    'rougher.output.concentrate_pb', \n",
    "    'primary_cleaner.output.concentrate_pb', \n",
    "    'final.output.concentrate_pb']].copy())"
   ]
  },
  {
   "cell_type": "code",
   "execution_count": 27,
   "metadata": {},
   "outputs": [],
   "source": [
    "#напишем функцию, которая будет рисовать данные всех четырех столбцов на одном графике\n",
    "def draw_hist (df, title):\n",
    "    fig, ax = plt.subplots()\n",
    "    ax.set_ylabel('Кол-во наблюдений')\n",
    "    ax.set_xlabel('Концентрация металла')\n",
    "    ax.set_title(title)\n",
    "    for col in df:\n",
    "        df[col].hist(alpha=.5) \n",
    "        ax.legend(['Исходное сырье','Флотация','Первичная очистка', 'Вторичная очистка'])"
   ]
  },
  {
   "cell_type": "code",
   "execution_count": 28,
   "metadata": {},
   "outputs": [
    {
     "data": {
      "image/png": "[encoded data removed]",
      "text/plain": [
       "<Figure size 432x288 with 1 Axes>"
      ]
     },
     "metadata": {
      "needs_background": "light"
     },
     "output_type": "display_data"
    }
   ],
   "source": [
    "draw_hist(au_df, 'Золото')"
   ]
  },
  {
   "cell_type": "code",
   "execution_count": 29,
   "metadata": {},
   "outputs": [
    {
     "data": {
      "image/png": "[encoded data removed]",
      "text/plain": [
       "<Figure size 432x288 with 1 Axes>"
      ]
     },
     "metadata": {
      "needs_background": "light"
     },
     "output_type": "display_data"
    }
   ],
   "source": [
    "draw_hist(ag_df, 'Серебро')"
   ]
  },
  {
   "cell_type": "code",
   "execution_count": 30,
   "metadata": {},
   "outputs": [
    {
     "data": {
      "image/png": "[encoded data removed]",
      "text/plain": [
       "<Figure size 432x288 with 1 Axes>"
      ]
     },
     "metadata": {
      "needs_background": "light"
     },
     "output_type": "display_data"
    }
   ],
   "source": [
    "draw_hist(pb_df, 'Свинец')"
   ]
  },
  {
   "cell_type": "markdown",
   "metadata": {},
   "source": [
    "<div style=\"border:solid blue 2px; padding: 20px\">\n",
    "\n",
    "**Промежуточные выводы**\n",
    "\n",
    " * Концентрация золота стабильно растёт с каждым этапом \n",
    " * Концентрация серебра наоборот убывает\n",
    " * Концентрация свинца при первичной и вторичной обработке не сильно различается\n",
    " * Для каждого из матллов встречаются нулевые значения"
   ]
  },
  {
   "cell_type": "markdown",
   "metadata": {},
   "source": [
    "### Сравним распределения размеров гранул сырья на обучающей и тестовой выборках."
   ]
  },
  {
   "cell_type": "markdown",
   "metadata": {},
   "source": [
    "Сравним распределения размеров гранул сырья на обучающей и тестовой выборках. Если распределения сильно отличаются друг от друга, оценка модели будет неправильной."
   ]
  },
  {
   "cell_type": "code",
   "execution_count": 31,
   "metadata": {},
   "outputs": [
    {
     "data": {
      "image/png": "[encoded data removed]",
      "text/plain": [
       "<Figure size 432x288 with 1 Axes>"
      ]
     },
     "metadata": {
      "needs_background": "light"
     },
     "output_type": "display_data"
    },
    {
     "data": {
      "image/png": "[encoded data removed]",
      "text/plain": [
       "<Figure size 432x288 with 1 Axes>"
      ]
     },
     "metadata": {
      "needs_background": "light"
     },
     "output_type": "display_data"
    }
   ],
   "source": [
    "df_dict = {\"Train\": df_train, \"Test\": df_test}\n",
    "#feed_size_fields = ['rougher.input.feed_size', 'primary_cleaner.input.feed_size']\n",
    "\n",
    "for key in df_dict:\n",
    "    df = df_dict[key]\n",
    "    title = 'Распределение размеров гланул сырья для ' + key\n",
    "    \n",
    "    fig, ax = plt.subplots()\n",
    "    ax.set_title(title)\n",
    "    ax.set_xlabel('Размер гранул')\n",
    "\n",
    "    #df['rougher.input.feed_size'].plot(kind='hist', bins=200, range=(0,100), figsize=(16,8), ax=ax, legend=True, alpha=0.5)\n",
    "    df['rougher.input.feed_size'].plot.kde()\n"
   ]
  },
  {
   "cell_type": "code",
   "execution_count": 32,
   "metadata": {},
   "outputs": [
    {
     "data": {
      "image/png": "[encoded data removed]",
      "text/plain": [
       "<Figure size 432x288 with 1 Axes>"
      ]
     },
     "metadata": {
      "needs_background": "light"
     },
     "output_type": "display_data"
    },
    {
     "data": {
      "image/png": "[encoded data removed]",
      "text/plain": [
       "<Figure size 432x288 with 1 Axes>"
      ]
     },
     "metadata": {
      "needs_background": "light"
     },
     "output_type": "display_data"
    }
   ],
   "source": [
    "df_dict = {\"Train\": df_train, \"Test\": df_test}\n",
    "#feed_size_fields = ['rougher.input.feed_size', 'primary_cleaner.input.feed_size']\n",
    "\n",
    "for key in df_dict:\n",
    "    df = df_dict[key]\n",
    "    title = 'Распределение размеров гланул сырья для ' + key\n",
    "    \n",
    "    fig, ax = plt.subplots()\n",
    "    ax.set_title(title)\n",
    "    ax.set_xlabel('Размер гранул')\n",
    "    #df['primary_cleaner.input.feed_size'].plot(kind='hist', bins=200, range=(0,100), figsize=(16,8), ax=ax, legend=True, alpha=0.5)\n",
    "    df['primary_cleaner.input.feed_size'].plot.kde()"
   ]
  },
  {
   "cell_type": "markdown",
   "metadata": {},
   "source": [
    "Распределение размеров гранул сырья на этапе флотации и для обучающей и для тестовой выборке немного смещено вправо, а для этапа первичной обработки оно скорее симметричное для обоих выборок"
   ]
  },
  {
   "cell_type": "markdown",
   "metadata": {},
   "source": [
    "### Исследуем суммарную концентрацию всех веществ на разных стадиях: в сырье, в черновом и финальном концентратах"
   ]
  },
  {
   "cell_type": "markdown",
   "metadata": {},
   "source": [
    "Cоздадим новый датасет с данныим о концентрации веществ и просуммируем их на разных стадиях"
   ]
  },
  {
   "cell_type": "code",
   "execution_count": 33,
   "metadata": {},
   "outputs": [],
   "source": [
    "concentration_df = df_full[['date','rougher.input.feed_ag', 'rougher.input.feed_pb', 'rougher.input.feed_sol', 'rougher.input.feed_au', 'primary_cleaner.output.concentrate_ag', 'primary_cleaner.output.concentrate_pb', 'primary_cleaner.output.concentrate_sol', 'primary_cleaner.output.concentrate_au', 'final.output.concentrate_ag', 'final.output.concentrate_pb', 'final.output.concentrate_sol', 'final.output.concentrate_au']].copy()\n",
    "concentration_df['conc_sum_rougher'] = concentration_df['rougher.input.feed_ag'] + concentration_df['rougher.input.feed_pb'] + concentration_df['rougher.input.feed_sol'] + concentration_df['rougher.input.feed_au']\n",
    "concentration_df['conc_sum_primary'] = concentration_df['primary_cleaner.output.concentrate_ag'] + concentration_df['primary_cleaner.output.concentrate_pb'] + concentration_df['primary_cleaner.output.concentrate_sol'] + concentration_df['primary_cleaner.output.concentrate_au']\n",
    "concentration_df['conc_sum_final'] = concentration_df['final.output.concentrate_ag'] + concentration_df['final.output.concentrate_pb'] + concentration_df['final.output.concentrate_sol'] + concentration_df['final.output.concentrate_au']"
   ]
  },
  {
   "cell_type": "markdown",
   "metadata": {},
   "source": [
    "Построим гистограммы для суммарных концентраций веществ"
   ]
  },
  {
   "cell_type": "code",
   "execution_count": 34,
   "metadata": {},
   "outputs": [
    {
     "data": {
      "image/png": "[encoded data removed]",
      "text/plain": [
       "<Figure size 1152x576 with 1 Axes>"
      ]
     },
     "metadata": {
      "needs_background": "light"
     },
     "output_type": "display_data"
    }
   ],
   "source": [
    "f, ax = plt.subplots(figsize=(16, 8))\n",
    "sns.histplot(data=concentration_df, x=\"conc_sum_rougher\", alpha=.5, color='yellow', label='conc_sum_rougher')\n",
    "sns.histplot(data=concentration_df, x=\"conc_sum_primary\", alpha=.5, color='orange', label='conc_sum_primary')\n",
    "sns.histplot(data=concentration_df, x=\"conc_sum_final\", alpha=.5, color='red', label='conc_sum_final')\n",
    "plt.legend(fontsize = 15);"
   ]
  },
  {
   "cell_type": "markdown",
   "metadata": {},
   "source": [
    "Заметим, что встречается довольно много нулевых значений. Изучим них. \n",
    "\n",
    "Для начала создадим датасет с этими аномальными наблюдениями."
   ]
  },
  {
   "cell_type": "code",
   "execution_count": 35,
   "metadata": {},
   "outputs": [],
   "source": [
    "values_0 = (concentration_df[['date', 'conc_sum_rougher', 'conc_sum_primary', 'conc_sum_final']]\n",
    "           .copy()\n",
    "           .query('conc_sum_rougher == 0 or conc_sum_primary == 0 or conc_sum_final == 0')\n",
    "           .fillna(0))"
   ]
  },
  {
   "cell_type": "markdown",
   "metadata": {},
   "source": [
    "Посмотрим на первые 5 значений \"странного\" датасета"
   ]
  },
  {
   "cell_type": "code",
   "execution_count": 36,
   "metadata": {},
   "outputs": [
    {
     "data": {
      "text/html": [
       "<div>\n",
       "<style scoped>\n",
       "    .dataframe tbody tr th:only-of-type {\n",
       "        vertical-align: middle;\n",
       "    }\n",
       "\n",
       "    .dataframe tbody tr th {\n",
       "        vertical-align: top;\n",
       "    }\n",
       "\n",
       "    .dataframe thead th {\n",
       "        text-align: right;\n",
       "    }\n",
       "</style>\n",
       "<table border=\"1\" class=\"dataframe\">\n",
       "  <thead>\n",
       "    <tr style=\"text-align: right;\">\n",
       "      <th></th>\n",
       "      <th>date</th>\n",
       "      <th>conc_sum_rougher</th>\n",
       "      <th>conc_sum_primary</th>\n",
       "      <th>conc_sum_final</th>\n",
       "    </tr>\n",
       "  </thead>\n",
       "  <tbody>\n",
       "    <tr>\n",
       "      <th>19</th>\n",
       "      <td>2016-01-15 19:00:00</td>\n",
       "      <td>56.005644</td>\n",
       "      <td>0.0</td>\n",
       "      <td>64.546766</td>\n",
       "    </tr>\n",
       "    <tr>\n",
       "      <th>22</th>\n",
       "      <td>2016-01-15 22:00:00</td>\n",
       "      <td>56.038252</td>\n",
       "      <td>0.0</td>\n",
       "      <td>64.554911</td>\n",
       "    </tr>\n",
       "    <tr>\n",
       "      <th>30</th>\n",
       "      <td>2016-01-16 06:00:00</td>\n",
       "      <td>57.764677</td>\n",
       "      <td>0.0</td>\n",
       "      <td>63.765751</td>\n",
       "    </tr>\n",
       "    <tr>\n",
       "      <th>71</th>\n",
       "      <td>2016-01-18 01:00:00</td>\n",
       "      <td>56.626743</td>\n",
       "      <td>0.0</td>\n",
       "      <td>65.773298</td>\n",
       "    </tr>\n",
       "    <tr>\n",
       "      <th>74</th>\n",
       "      <td>2016-01-18 04:00:00</td>\n",
       "      <td>56.369424</td>\n",
       "      <td>0.0</td>\n",
       "      <td>59.902215</td>\n",
       "    </tr>\n",
       "  </tbody>\n",
       "</table>\n",
       "</div>"
      ],
      "text/plain": [
       "                  date  conc_sum_rougher  conc_sum_primary  conc_sum_final\n",
       "19 2016-01-15 19:00:00         56.005644               0.0       64.546766\n",
       "22 2016-01-15 22:00:00         56.038252               0.0       64.554911\n",
       "30 2016-01-16 06:00:00         57.764677               0.0       63.765751\n",
       "71 2016-01-18 01:00:00         56.626743               0.0       65.773298\n",
       "74 2016-01-18 04:00:00         56.369424               0.0       59.902215"
      ]
     },
     "execution_count": 36,
     "metadata": {},
     "output_type": "execute_result"
    }
   ],
   "source": [
    "values_0.head()"
   ]
  },
  {
   "cell_type": "markdown",
   "metadata": {},
   "source": [
    "Избавимся от подобных значений в тестовой выборке"
   ]
  },
  {
   "cell_type": "code",
   "execution_count": 37,
   "metadata": {},
   "outputs": [],
   "source": [
    "df_test = df_test.join(values_0.set_index('date'), on='date')"
   ]
  },
  {
   "cell_type": "code",
   "execution_count": 38,
   "metadata": {},
   "outputs": [],
   "source": [
    "df_test[['conc_sum_rougher', 'conc_sum_primary', 'conc_sum_final']] = (df_test[['conc_sum_rougher', 'conc_sum_primary', 'conc_sum_final']]\n",
    "                                                                    .fillna(-1))"
   ]
  },
  {
   "cell_type": "code",
   "execution_count": 39,
   "metadata": {},
   "outputs": [],
   "source": [
    "df_test = df_test.query('conc_sum_rougher == -1 and conc_sum_primary == -1 and conc_sum_final == -1')"
   ]
  },
  {
   "cell_type": "markdown",
   "metadata": {},
   "source": [
    "Проверим, что значения всех признаков -1"
   ]
  },
  {
   "cell_type": "code",
   "execution_count": 40,
   "metadata": {},
   "outputs": [
    {
     "data": {
      "text/plain": [
       "<AxesSubplot:>"
      ]
     },
     "execution_count": 40,
     "metadata": {},
     "output_type": "execute_result"
    },
    {
     "data": {
      "image/png": "[encoded data removed]",
      "text/plain": [
       "<Figure size 432x288 with 1 Axes>"
      ]
     },
     "metadata": {
      "needs_background": "light"
     },
     "output_type": "display_data"
    }
   ],
   "source": [
    "df_test['conc_sum_rougher'].hist(alpha=.2)\n",
    "df_test['conc_sum_primary'].hist(alpha=.2)\n",
    "df_test['conc_sum_final'].hist(alpha=.2)"
   ]
  },
  {
   "cell_type": "markdown",
   "metadata": {},
   "source": [
    "Уберём ненужные столбцы"
   ]
  },
  {
   "cell_type": "code",
   "execution_count": 41,
   "metadata": {},
   "outputs": [],
   "source": [
    "df_test.drop(['conc_sum_rougher', 'conc_sum_primary', 'conc_sum_final'], axis='columns', inplace=True)"
   ]
  },
  {
   "cell_type": "markdown",
   "metadata": {},
   "source": [
    "Сделаем то же самое для обучающей выборки"
   ]
  },
  {
   "cell_type": "code",
   "execution_count": 42,
   "metadata": {},
   "outputs": [],
   "source": [
    "df_train = df_train.join(values_0.set_index('date'), on='date')\n",
    "df_train[['conc_sum_rougher', 'conc_sum_primary', 'conc_sum_final']] = (df_train[['conc_sum_rougher', 'conc_sum_primary', 'conc_sum_final']]\n",
    "                                                                    .fillna(-1))\n",
    "df_train = df_train.query('conc_sum_rougher == -1 and conc_sum_primary == -1 and conc_sum_final == -1')\n",
    "df_train.drop(['conc_sum_rougher', 'conc_sum_primary', 'conc_sum_final'], axis='columns', inplace=True)"
   ]
  },
  {
   "cell_type": "markdown",
   "metadata": {},
   "source": [
    "Удалим из выборок оставшиеся NaN-значения"
   ]
  },
  {
   "cell_type": "code",
   "execution_count": 43,
   "metadata": {},
   "outputs": [],
   "source": [
    "df_test.dropna(inplace=True)\n",
    "df_train.dropna(inplace=True)"
   ]
  },
  {
   "cell_type": "markdown",
   "metadata": {},
   "source": [
    "Посмотрим на размеры получившихся выборок"
   ]
  },
  {
   "cell_type": "code",
   "execution_count": 44,
   "metadata": {},
   "outputs": [
    {
     "name": "stdout",
     "output_type": "stream",
     "text": [
      "Размер обучающей выборки: (14019, 55)\n",
      "Размер тестовой выборки: (5169, 55)\n"
     ]
    }
   ],
   "source": [
    "print('Размер обучающей выборки:', df_train.shape)\n",
    "print('Размер тестовой выборки:', df_test.shape)"
   ]
  },
  {
   "cell_type": "markdown",
   "metadata": {},
   "source": [
    "<div style=\"border:solid blue 2px; padding: 20px\">\n",
    "\n",
    "**Выводы**\n",
    "\n",
    " * В ходе анализа данных мы\n",
    "    * избавились от выбросов\n",
    "    * изучили, как менялась концентрация металлов\n",
    "       * для золота и серебра получились абсолютно разные результаты, а у свинца практически не различаются первичная и вторичная обработка\n",
    "    * сравнили распределения размеров гранул и убедились, что они не сильно различаются\n",
    "    * изучили суммарную концентрацию всех веществ на разных стадиях"
   ]
  },
  {
   "cell_type": "markdown",
   "metadata": {},
   "source": [
    "## Модель"
   ]
  },
  {
   "cell_type": "markdown",
   "metadata": {},
   "source": [
    "### Реализуем функцию для вычисления sMAPE"
   ]
  },
  {
   "cell_type": "markdown",
   "metadata": {},
   "source": [
    ".**Метрика качества:**\n",
    "\n",
    "Для решения задачи введём новую метрику качества — sMAPE (англ. Symmetric Mean Absolute Percentage Error, «симметричное среднее абсолютное процентное отклонение»).\n",
    "\n",
    "*Формула:*\n",
    "\n",
    "$sMAPE = \\frac{1}{N} \\sum\\limits _{i = 1} ^{N} \\frac{|y_i - \\hat{y}_i|}{|y_i| + |\\hat{y}_i| \\div 2} \\times 100\\%$\n",
    "\n",
    "*Где:*\n",
    "\n",
    "- $y_i$ - Значение целевого признака для объекта с порядковым номером i в выборке, на которой измеряется качество.\n",
    "- $\\hat{y}_i$ - Значение предсказания для объекта с порядковым номером i, например, в тестовой выборке.\n",
    "- N - Количество объектов в выборке.\n",
    "- $\\sum\\limits _{i = 1} ^{N}$ - Суммирование по всем объектам выборки (i меняется от 1 до N).\n",
    "\n",
    "Нужно спрогнозировать сразу две величины:    \n",
    " - эффективность обогащения чернового концентрата rougher.output.recovery;\n",
    " - эффективность обогащения финального концентрата final.output.recovery.\n",
    " \n",
    " Итоговая метрика складывается из двух величин:\n",
    "\n",
    "**Итоговое** $sMAPE = 25\\% \\times sMAPE(rougher) + 75\\% \\times sMAPE(final)$\n"
   ]
  },
  {
   "cell_type": "code",
   "execution_count": 45,
   "metadata": {},
   "outputs": [],
   "source": [
    "def smape (target, predictions):\n",
    "    return 100/len(target) * np.sum(2 * np.abs(predictions - target) / (np.abs(target) + np.abs(predictions)))"
   ]
  },
  {
   "cell_type": "code",
   "execution_count": 46,
   "metadata": {},
   "outputs": [],
   "source": [
    "def final_smape_count (rougher, final):\n",
    "    return 0.25 * rougher + 0.75 * final"
   ]
  },
  {
   "cell_type": "markdown",
   "metadata": {},
   "source": [
    "Используем дату в качестве индекса"
   ]
  },
  {
   "cell_type": "code",
   "execution_count": 47,
   "metadata": {},
   "outputs": [],
   "source": [
    "df_test = df_test.set_index('date')\n",
    "df_train = df_train.set_index('date')\n",
    "df_full = df_full.set_index('date')"
   ]
  },
  {
   "cell_type": "markdown",
   "metadata": {},
   "source": [
    "Получим значения целевых признаков для train"
   ]
  },
  {
   "cell_type": "code",
   "execution_count": 48,
   "metadata": {},
   "outputs": [
    {
     "data": {
      "text/html": [
       "<div>\n",
       "<style scoped>\n",
       "    .dataframe tbody tr th:only-of-type {\n",
       "        vertical-align: middle;\n",
       "    }\n",
       "\n",
       "    .dataframe tbody tr th {\n",
       "        vertical-align: top;\n",
       "    }\n",
       "\n",
       "    .dataframe thead th {\n",
       "        text-align: right;\n",
       "    }\n",
       "</style>\n",
       "<table border=\"1\" class=\"dataframe\">\n",
       "  <thead>\n",
       "    <tr style=\"text-align: right;\">\n",
       "      <th></th>\n",
       "      <th>rougher.output.recovery</th>\n",
       "      <th>final.output.recovery</th>\n",
       "    </tr>\n",
       "    <tr>\n",
       "      <th>date</th>\n",
       "      <th></th>\n",
       "      <th></th>\n",
       "    </tr>\n",
       "  </thead>\n",
       "  <tbody>\n",
       "    <tr>\n",
       "      <th>2016-01-15 00:00:00</th>\n",
       "      <td>87.107763</td>\n",
       "      <td>70.541216</td>\n",
       "    </tr>\n",
       "    <tr>\n",
       "      <th>2016-01-15 01:00:00</th>\n",
       "      <td>86.843261</td>\n",
       "      <td>69.266198</td>\n",
       "    </tr>\n",
       "    <tr>\n",
       "      <th>2016-01-15 02:00:00</th>\n",
       "      <td>86.842308</td>\n",
       "      <td>68.116445</td>\n",
       "    </tr>\n",
       "    <tr>\n",
       "      <th>2016-01-15 03:00:00</th>\n",
       "      <td>87.226430</td>\n",
       "      <td>68.347543</td>\n",
       "    </tr>\n",
       "    <tr>\n",
       "      <th>2016-01-15 04:00:00</th>\n",
       "      <td>86.688794</td>\n",
       "      <td>66.927016</td>\n",
       "    </tr>\n",
       "  </tbody>\n",
       "</table>\n",
       "</div>"
      ],
      "text/plain": [
       "                     rougher.output.recovery  final.output.recovery\n",
       "date                                                               \n",
       "2016-01-15 00:00:00                87.107763              70.541216\n",
       "2016-01-15 01:00:00                86.843261              69.266198\n",
       "2016-01-15 02:00:00                86.842308              68.116445\n",
       "2016-01-15 03:00:00                87.226430              68.347543\n",
       "2016-01-15 04:00:00                86.688794              66.927016"
      ]
     },
     "execution_count": 48,
     "metadata": {},
     "output_type": "execute_result"
    }
   ],
   "source": [
    "df_target = df_full[df_full.index.isin(df_train.index)][['rougher.output.recovery', 'final.output.recovery']]\n",
    "df_target.head()"
   ]
  },
  {
   "cell_type": "markdown",
   "metadata": {},
   "source": [
    "Аналогично получим таргет для теста"
   ]
  },
  {
   "cell_type": "code",
   "execution_count": 49,
   "metadata": {
    "scrolled": false
   },
   "outputs": [
    {
     "data": {
      "text/html": [
       "<div>\n",
       "<style scoped>\n",
       "    .dataframe tbody tr th:only-of-type {\n",
       "        vertical-align: middle;\n",
       "    }\n",
       "\n",
       "    .dataframe tbody tr th {\n",
       "        vertical-align: top;\n",
       "    }\n",
       "\n",
       "    .dataframe thead th {\n",
       "        text-align: right;\n",
       "    }\n",
       "</style>\n",
       "<table border=\"1\" class=\"dataframe\">\n",
       "  <thead>\n",
       "    <tr style=\"text-align: right;\">\n",
       "      <th></th>\n",
       "      <th>rougher.output.recovery</th>\n",
       "      <th>final.output.recovery</th>\n",
       "    </tr>\n",
       "    <tr>\n",
       "      <th>date</th>\n",
       "      <th></th>\n",
       "      <th></th>\n",
       "    </tr>\n",
       "  </thead>\n",
       "  <tbody>\n",
       "    <tr>\n",
       "      <th>2016-09-01 00:59:59</th>\n",
       "      <td>89.993421</td>\n",
       "      <td>70.273583</td>\n",
       "    </tr>\n",
       "    <tr>\n",
       "      <th>2016-09-01 01:59:59</th>\n",
       "      <td>88.089657</td>\n",
       "      <td>68.910432</td>\n",
       "    </tr>\n",
       "    <tr>\n",
       "      <th>2016-09-01 02:59:59</th>\n",
       "      <td>88.412756</td>\n",
       "      <td>68.143213</td>\n",
       "    </tr>\n",
       "    <tr>\n",
       "      <th>2016-09-01 03:59:59</th>\n",
       "      <td>87.360133</td>\n",
       "      <td>67.776393</td>\n",
       "    </tr>\n",
       "    <tr>\n",
       "      <th>2016-09-01 04:59:59</th>\n",
       "      <td>83.236367</td>\n",
       "      <td>61.467078</td>\n",
       "    </tr>\n",
       "  </tbody>\n",
       "</table>\n",
       "</div>"
      ],
      "text/plain": [
       "                     rougher.output.recovery  final.output.recovery\n",
       "date                                                               \n",
       "2016-09-01 00:59:59                89.993421              70.273583\n",
       "2016-09-01 01:59:59                88.089657              68.910432\n",
       "2016-09-01 02:59:59                88.412756              68.143213\n",
       "2016-09-01 03:59:59                87.360133              67.776393\n",
       "2016-09-01 04:59:59                83.236367              61.467078"
      ]
     },
     "execution_count": 49,
     "metadata": {},
     "output_type": "execute_result"
    }
   ],
   "source": [
    "df_test_target = df_full[df_full.index.isin(df_test.index)][['rougher.output.recovery', 'final.output.recovery']]\n",
    "df_test_target.head()"
   ]
  },
  {
   "cell_type": "markdown",
   "metadata": {},
   "source": [
    "Создадим датафрейм с признаками для предсказания результата флотации. "
   ]
  },
  {
   "cell_type": "markdown",
   "metadata": {},
   "source": [
    "Для начала составим список необходимых столбцов"
   ]
  },
  {
   "cell_type": "code",
   "execution_count": 50,
   "metadata": {},
   "outputs": [],
   "source": [
    "rougher_columns = [col for col in df_train.columns if 'rougher' in col]"
   ]
  },
  {
   "cell_type": "code",
   "execution_count": 51,
   "metadata": {},
   "outputs": [],
   "source": [
    "rougher_columns.remove('rougher.output.recovery')"
   ]
  },
  {
   "cell_type": "code",
   "execution_count": 52,
   "metadata": {},
   "outputs": [],
   "source": [
    "df_rougher_train = df_train[rougher_columns]\n",
    "df_rougher_target = df_target['rougher.output.recovery']"
   ]
  },
  {
   "cell_type": "code",
   "execution_count": 53,
   "metadata": {},
   "outputs": [
    {
     "data": {
      "text/plain": [
       "Index(['rougher.input.feed_ag', 'rougher.input.feed_pb',\n",
       "       'rougher.input.feed_rate', 'rougher.input.feed_size',\n",
       "       'rougher.input.feed_sol', 'rougher.input.feed_au',\n",
       "       'rougher.input.floatbank10_sulfate',\n",
       "       'rougher.input.floatbank10_xanthate',\n",
       "       'rougher.input.floatbank11_sulfate',\n",
       "       'rougher.input.floatbank11_xanthate', 'rougher.state.floatbank10_a_air',\n",
       "       'rougher.state.floatbank10_a_level', 'rougher.state.floatbank10_b_air',\n",
       "       'rougher.state.floatbank10_b_level', 'rougher.state.floatbank10_c_air',\n",
       "       'rougher.state.floatbank10_c_level', 'rougher.state.floatbank10_d_air',\n",
       "       'rougher.state.floatbank10_d_level', 'rougher.state.floatbank10_e_air',\n",
       "       'rougher.state.floatbank10_e_level', 'rougher.state.floatbank10_f_air',\n",
       "       'rougher.state.floatbank10_f_level'],\n",
       "      dtype='object')"
      ]
     },
     "execution_count": 53,
     "metadata": {},
     "output_type": "execute_result"
    }
   ],
   "source": [
    "df_rougher_train.columns"
   ]
  },
  {
   "cell_type": "markdown",
   "metadata": {},
   "source": [
    "Теперь аналогично создадим датасет  с признаками, необходимыми для финала"
   ]
  },
  {
   "cell_type": "code",
   "execution_count": 54,
   "metadata": {},
   "outputs": [],
   "source": [
    "final_columns = [col for col in df_train.columns if 'primary' in col or 'secondary' in col]"
   ]
  },
  {
   "cell_type": "code",
   "execution_count": 55,
   "metadata": {},
   "outputs": [],
   "source": [
    "df_final_train = df_train[final_columns]\n",
    "df_final_target = df_target['final.output.recovery']"
   ]
  },
  {
   "cell_type": "markdown",
   "metadata": {},
   "source": [
    "Стандартизируем признаки"
   ]
  },
  {
   "cell_type": "code",
   "execution_count": 56,
   "metadata": {},
   "outputs": [
    {
     "name": "stderr",
     "output_type": "stream",
     "text": [
      "/tmp/ipykernel_1286/300519888.py:3: SettingWithCopyWarning: \n",
      "A value is trying to be set on a copy of a slice from a DataFrame.\n",
      "Try using .loc[row_indexer,col_indexer] = value instead\n",
      "\n",
      "See the caveats in the documentation: https://pandas.pydata.org/pandas-docs/stable/user_guide/indexing.html#returning-a-view-versus-a-copy\n",
      "  df_rougher_train[rougher_columns] = rougher_scaler.transform(df_rougher_train[rougher_columns])\n",
      "/opt/conda/lib/python3.9/site-packages/pandas/core/indexing.py:1637: SettingWithCopyWarning: \n",
      "A value is trying to be set on a copy of a slice from a DataFrame\n",
      "\n",
      "See the caveats in the documentation: https://pandas.pydata.org/pandas-docs/stable/user_guide/indexing.html#returning-a-view-versus-a-copy\n",
      "  self._setitem_single_block(indexer, value, name)\n",
      "/opt/conda/lib/python3.9/site-packages/pandas/core/indexing.py:692: SettingWithCopyWarning: \n",
      "A value is trying to be set on a copy of a slice from a DataFrame\n",
      "\n",
      "See the caveats in the documentation: https://pandas.pydata.org/pandas-docs/stable/user_guide/indexing.html#returning-a-view-versus-a-copy\n",
      "  iloc._setitem_with_indexer(indexer, value, self.name)\n",
      "/tmp/ipykernel_1286/300519888.py:7: SettingWithCopyWarning: \n",
      "A value is trying to be set on a copy of a slice from a DataFrame.\n",
      "Try using .loc[row_indexer,col_indexer] = value instead\n",
      "\n",
      "See the caveats in the documentation: https://pandas.pydata.org/pandas-docs/stable/user_guide/indexing.html#returning-a-view-versus-a-copy\n",
      "  df_final_train[final_columns] = final_scaler.transform(df_final_train[final_columns])\n",
      "/opt/conda/lib/python3.9/site-packages/pandas/core/indexing.py:1637: SettingWithCopyWarning: \n",
      "A value is trying to be set on a copy of a slice from a DataFrame\n",
      "\n",
      "See the caveats in the documentation: https://pandas.pydata.org/pandas-docs/stable/user_guide/indexing.html#returning-a-view-versus-a-copy\n",
      "  self._setitem_single_block(indexer, value, name)\n",
      "/opt/conda/lib/python3.9/site-packages/pandas/core/indexing.py:692: SettingWithCopyWarning: \n",
      "A value is trying to be set on a copy of a slice from a DataFrame\n",
      "\n",
      "See the caveats in the documentation: https://pandas.pydata.org/pandas-docs/stable/user_guide/indexing.html#returning-a-view-versus-a-copy\n",
      "  iloc._setitem_with_indexer(indexer, value, self.name)\n"
     ]
    }
   ],
   "source": [
    "rougher_scaler = StandardScaler()\n",
    "rougher_scaler.fit(df_rougher_train[rougher_columns])\n",
    "df_rougher_train[rougher_columns] = rougher_scaler.transform(df_rougher_train[rougher_columns])\n",
    "\n",
    "final_scaler = StandardScaler()\n",
    "final_scaler.fit(df_final_train[final_columns])\n",
    "df_final_train[final_columns] = final_scaler.transform(df_final_train[final_columns])\n",
    "\n"
   ]
  },
  {
   "cell_type": "markdown",
   "metadata": {},
   "source": [
    "Аналогично скалируем тест"
   ]
  },
  {
   "cell_type": "code",
   "execution_count": 57,
   "metadata": {},
   "outputs": [],
   "source": [
    "df_test[rougher_columns] = rougher_scaler.transform(df_test[rougher_columns])\n",
    "df_test[final_columns] = final_scaler.transform(df_test[final_columns])"
   ]
  },
  {
   "cell_type": "markdown",
   "metadata": {},
   "source": [
    "### Обучим модели"
   ]
  },
  {
   "cell_type": "markdown",
   "metadata": {},
   "source": [
    "#### Случайный лес"
   ]
  },
  {
   "cell_type": "code",
   "execution_count": 58,
   "metadata": {},
   "outputs": [],
   "source": [
    "# зададим random state\n",
    "RANDOM_STATE = 42"
   ]
  },
  {
   "cell_type": "markdown",
   "metadata": {},
   "source": [
    "Оценим модель случайного леса кросс-валидацией"
   ]
  },
  {
   "cell_type": "code",
   "execution_count": 59,
   "metadata": {},
   "outputs": [],
   "source": [
    "my_scorer = make_scorer(smape, greater_is_better=False)"
   ]
  },
  {
   "cell_type": "code",
   "execution_count": 60,
   "metadata": {},
   "outputs": [
    {
     "name": "stdout",
     "output_type": "stream",
     "text": [
      "smape: 11.487732037671178\n",
      "RandomForestRegressor(max_depth=3, n_estimators=20, random_state=42)\n"
     ]
    }
   ],
   "source": [
    "best_forest_model = None # переменная для наилучшей модели\n",
    "best_forest_result = 1000\n",
    "for est in range(10, 31, 2):\n",
    "    for depth in range(1, 6, 1):\n",
    "        model_forest = RandomForestRegressor(max_depth=depth, n_estimators=est, random_state=RANDOM_STATE)\n",
    "\n",
    "        scores = cross_val_score(model_forest, df_rougher_train, df_rougher_target, cv=5, scoring=my_scorer)\n",
    "        result_forest = abs(sum(scores)/len(scores))\n",
    "        if result_forest < best_forest_result:\n",
    "                best_forest_model = model_forest \n",
    "                best_forest_result = result_forest \n",
    "print(\"smape:\", best_forest_result)\n",
    "print(best_forest_model)"
   ]
  },
  {
   "cell_type": "markdown",
   "metadata": {},
   "source": [
    "#### Линейная регрессия"
   ]
  },
  {
   "cell_type": "markdown",
   "metadata": {},
   "source": [
    "Оценим линейную регрессию с помощью кросс-валидации"
   ]
  },
  {
   "cell_type": "code",
   "execution_count": 61,
   "metadata": {},
   "outputs": [
    {
     "data": {
      "text/plain": [
       "12.426775827688976"
      ]
     },
     "execution_count": 61,
     "metadata": {},
     "output_type": "execute_result"
    }
   ],
   "source": [
    "model_lr = LinearRegression()\n",
    "\n",
    "scores = cross_val_score(model_lr, df_rougher_train, df_rougher_target, cv=5, scoring=my_scorer)\n",
    "mean_score = abs(sum(scores)/len(scores))\n",
    "mean_score"
   ]
  },
  {
   "cell_type": "markdown",
   "metadata": {},
   "source": [
    "Посмотрим на случайный лес с 20 деревьями и глубиной 3 для этапа флотации"
   ]
  },
  {
   "cell_type": "code",
   "execution_count": 62,
   "metadata": {},
   "outputs": [
    {
     "data": {
      "text/plain": [
       "9.770739772354647"
      ]
     },
     "execution_count": 62,
     "metadata": {},
     "output_type": "execute_result"
    }
   ],
   "source": [
    "model_forest = RandomForestRegressor(max_depth=3, n_estimators=20, random_state=RANDOM_STATE)\n",
    "model_forest.fit(df_rougher_train, df_rougher_target)\n",
    "predicted_rougher = model_forest.predict(df_test[rougher_columns])\n",
    "rougher_smape = smape(df_test_target['rougher.output.recovery'], predicted_rougher)\n",
    "rougher_smape"
   ]
  },
  {
   "cell_type": "markdown",
   "metadata": {},
   "source": [
    "И для final"
   ]
  },
  {
   "cell_type": "code",
   "execution_count": 63,
   "metadata": {},
   "outputs": [
    {
     "data": {
      "text/plain": [
       "7.90806564133099"
      ]
     },
     "execution_count": 63,
     "metadata": {},
     "output_type": "execute_result"
    }
   ],
   "source": [
    "model_forest.fit(df_final_train, df_final_target)\n",
    "predicted_final = model_forest.predict(df_test[final_columns])\n",
    "final_smape = smape(df_test_target['final.output.recovery'], predicted_final)\n",
    "final_smape"
   ]
  },
  {
   "cell_type": "markdown",
   "metadata": {},
   "source": [
    "Посмотрим итоговую метрику для случайного леса"
   ]
  },
  {
   "cell_type": "code",
   "execution_count": 64,
   "metadata": {},
   "outputs": [
    {
     "data": {
      "text/plain": [
       "8.373734174086904"
      ]
     },
     "execution_count": 64,
     "metadata": {},
     "output_type": "execute_result"
    }
   ],
   "source": [
    "final_smape_count(rougher_smape, final_smape)"
   ]
  },
  {
   "cell_type": "markdown",
   "metadata": {},
   "source": [
    "Сравним результат с результатом константной модели, которая предсказывает среднее"
   ]
  },
  {
   "cell_type": "code",
   "execution_count": 65,
   "metadata": {},
   "outputs": [
    {
     "data": {
      "text/plain": [
       "12.180861056736312"
      ]
     },
     "execution_count": 65,
     "metadata": {},
     "output_type": "execute_result"
    }
   ],
   "source": [
    "const_model = DummyRegressor(strategy='mean')\n",
    "scores = cross_val_score(const_model, df_rougher_train, df_rougher_target, cv=5, scoring=my_scorer)\n",
    "mean_score = abs(sum(scores)/len(scores))\n",
    "mean_score"
   ]
  },
  {
   "cell_type": "markdown",
   "metadata": {},
   "source": [
    "Посмотрим для этапа флотации"
   ]
  },
  {
   "cell_type": "code",
   "execution_count": 66,
   "metadata": {},
   "outputs": [
    {
     "data": {
      "text/plain": [
       "10.181688333327228"
      ]
     },
     "execution_count": 66,
     "metadata": {},
     "output_type": "execute_result"
    }
   ],
   "source": [
    "const_model.fit(df_rougher_train, df_rougher_target)\n",
    "predicted_rougher = const_model.predict(df_test[rougher_columns])\n",
    "rougher_smape_cm = smape(df_test_target['rougher.output.recovery'], predicted_rougher)\n",
    "rougher_smape_cm"
   ]
  },
  {
   "cell_type": "code",
   "execution_count": 67,
   "metadata": {},
   "outputs": [
    {
     "data": {
      "text/plain": [
       "8.571837528500978"
      ]
     },
     "execution_count": 67,
     "metadata": {},
     "output_type": "execute_result"
    }
   ],
   "source": [
    "const_model.fit(df_final_train, df_final_target)\n",
    "predicted_final = const_model.predict(df_test[final_columns])\n",
    "final_smape_cm = smape(df_test_target['final.output.recovery'], predicted_final)\n",
    "final_smape_cm"
   ]
  },
  {
   "cell_type": "code",
   "execution_count": 68,
   "metadata": {},
   "outputs": [
    {
     "data": {
      "text/plain": [
       "8.974300229707541"
      ]
     },
     "execution_count": 68,
     "metadata": {},
     "output_type": "execute_result"
    }
   ],
   "source": [
    "final_smape_count(rougher_smape_cm, final_smape_cm)"
   ]
  },
  {
   "cell_type": "markdown",
   "metadata": {},
   "source": [
    "Итак, случайный лес показал меньший smap."
   ]
  },
  {
   "cell_type": "markdown",
   "metadata": {},
   "source": [
    "<div style=\"border:solid blue 2px; padding: 20px\">\n",
    "\n",
    "**Выводы**\n",
    "\n",
    "Мы обучили две модели - случайный лес и линейную регрессию и посмотрели, какие результаты они показывают. Случайный лес нам подошёл больше"
   ]
  },
  {
   "cell_type": "markdown",
   "metadata": {},
   "source": [
    "## Общий вывод"
   ]
  },
  {
   "cell_type": "markdown",
   "metadata": {},
   "source": [
    "В ходе работы над проектом мы подготовили прототип модели машинного обучения для \"Цифры\". Для этого:\n",
    " * Изучили данные и убедились в корректности рассчетов эффективности обогащения\n",
    " * На этапе предобработки данных воспользовавшись тем, что соседние наблюдения мало отличаются друг от друга, заполнили пропуски\n",
    " * Проанализировали данные и увидели, как меняется концентрация металлов на разных этапах (увидели рост золота и свинца и падения серебра)\n",
    " * Убедились, что распределения размеров гранул не сильно отличаются друг от друга\n",
    " * Исследовали концентрацию веществ на разных стадиях, что позволило нам выявить аномалии и избавиться от них\n",
    " * Выбрали модели, обеспечивающие наименьшие значения sMAPE и итоговой оценки. Лучший результат показал случайный лес с 20 деревьями и наибольшей глубиной 3"
   ]
  }
 ],
 "metadata": {
  "ExecuteTimeLog": [
   {
    "duration": 404,
    "start_time": "2022-05-09T11:51:01.534Z"
   },
   {
    "duration": 69,
    "start_time": "2022-05-09T11:51:48.186Z"
   },
   {
    "duration": 265,
    "start_time": "2022-05-09T11:51:53.079Z"
   },
   {
    "duration": 629,
    "start_time": "2022-05-09T11:52:44.538Z"
   },
   {
    "duration": 34,
    "start_time": "2022-05-09T11:53:05.101Z"
   },
   {
    "duration": 22,
    "start_time": "2022-05-09T11:53:34.717Z"
   },
   {
    "duration": 32,
    "start_time": "2022-05-09T11:53:57.450Z"
   },
   {
    "duration": 18,
    "start_time": "2022-05-09T12:25:05.502Z"
   },
   {
    "duration": 13,
    "start_time": "2022-05-09T12:25:49.418Z"
   },
   {
    "duration": 8,
    "start_time": "2022-05-09T12:28:18.908Z"
   },
   {
    "duration": 18,
    "start_time": "2022-05-09T12:28:26.754Z"
   },
   {
    "duration": 9,
    "start_time": "2022-05-09T16:20:45.105Z"
   },
   {
    "duration": 12,
    "start_time": "2022-05-09T16:20:59.134Z"
   },
   {
    "duration": 476,
    "start_time": "2022-05-11T13:55:37.418Z"
   },
   {
    "duration": 10769,
    "start_time": "2022-05-11T13:55:38.561Z"
   },
   {
    "duration": 45,
    "start_time": "2022-05-11T13:55:49.332Z"
   },
   {
    "duration": 43,
    "start_time": "2022-05-11T13:55:49.379Z"
   },
   {
    "duration": 49,
    "start_time": "2022-05-11T13:55:49.425Z"
   },
   {
    "duration": 28,
    "start_time": "2022-05-11T13:55:49.492Z"
   },
   {
    "duration": 24,
    "start_time": "2022-05-11T13:55:49.522Z"
   },
   {
    "duration": 67,
    "start_time": "2022-05-11T13:55:49.549Z"
   },
   {
    "duration": 30,
    "start_time": "2022-05-11T13:55:49.618Z"
   },
   {
    "duration": 5,
    "start_time": "2022-05-11T14:03:04.751Z"
   },
   {
    "duration": 378,
    "start_time": "2022-05-11T14:03:26.695Z"
   },
   {
    "duration": 1096,
    "start_time": "2022-05-11T14:04:51.705Z"
   },
   {
    "duration": 283,
    "start_time": "2022-05-11T14:05:07.683Z"
   },
   {
    "duration": 8,
    "start_time": "2022-05-11T14:08:24.584Z"
   },
   {
    "duration": 23,
    "start_time": "2022-05-11T14:21:38.850Z"
   },
   {
    "duration": 1033,
    "start_time": "2022-05-11T14:40:56.439Z"
   },
   {
    "duration": 272,
    "start_time": "2022-05-11T14:42:38.616Z"
   },
   {
    "duration": 70,
    "start_time": "2022-05-11T14:52:26.883Z"
   },
   {
    "duration": 12,
    "start_time": "2022-05-11T14:52:35.280Z"
   },
   {
    "duration": 37,
    "start_time": "2022-05-11T14:52:41.162Z"
   },
   {
    "duration": 10,
    "start_time": "2022-05-11T14:52:52.316Z"
   },
   {
    "duration": 11,
    "start_time": "2022-05-11T14:53:26.073Z"
   },
   {
    "duration": 12,
    "start_time": "2022-05-11T14:53:36.111Z"
   },
   {
    "duration": 19,
    "start_time": "2022-05-11T14:55:03.920Z"
   },
   {
    "duration": 4,
    "start_time": "2022-05-11T14:55:27.329Z"
   },
   {
    "duration": 801,
    "start_time": "2022-05-11T14:55:27.335Z"
   },
   {
    "duration": 34,
    "start_time": "2022-05-11T14:55:28.139Z"
   },
   {
    "duration": 46,
    "start_time": "2022-05-11T14:55:28.176Z"
   },
   {
    "duration": 34,
    "start_time": "2022-05-11T14:55:28.227Z"
   },
   {
    "duration": 48,
    "start_time": "2022-05-11T14:55:28.263Z"
   },
   {
    "duration": 19,
    "start_time": "2022-05-11T14:55:28.314Z"
   },
   {
    "duration": 58,
    "start_time": "2022-05-11T14:55:28.336Z"
   },
   {
    "duration": 18,
    "start_time": "2022-05-11T14:55:28.397Z"
   },
   {
    "duration": 5,
    "start_time": "2022-05-11T14:55:28.418Z"
   },
   {
    "duration": 304,
    "start_time": "2022-05-11T14:55:28.427Z"
   },
   {
    "duration": 388,
    "start_time": "2022-05-11T14:55:28.734Z"
   },
   {
    "duration": 352,
    "start_time": "2022-05-11T14:55:29.124Z"
   },
   {
    "duration": 43,
    "start_time": "2022-05-11T14:55:29.478Z"
   },
   {
    "duration": 5,
    "start_time": "2022-05-11T14:55:29.524Z"
   },
   {
    "duration": 10,
    "start_time": "2022-05-11T14:55:29.531Z"
   },
   {
    "duration": 8,
    "start_time": "2022-05-11T14:55:29.543Z"
   },
   {
    "duration": 12,
    "start_time": "2022-05-11T14:55:54.225Z"
   },
   {
    "duration": 17,
    "start_time": "2022-05-11T14:56:50.800Z"
   },
   {
    "duration": 4,
    "start_time": "2022-05-11T15:00:13.573Z"
   },
   {
    "duration": 11,
    "start_time": "2022-05-11T15:00:26.989Z"
   },
   {
    "duration": 4,
    "start_time": "2022-05-11T15:00:33.751Z"
   },
   {
    "duration": 11,
    "start_time": "2022-05-11T15:02:24.807Z"
   },
   {
    "duration": 18,
    "start_time": "2022-05-11T15:16:45.504Z"
   },
   {
    "duration": 33,
    "start_time": "2022-05-11T15:17:35.040Z"
   },
   {
    "duration": 13,
    "start_time": "2022-05-11T15:19:23.242Z"
   },
   {
    "duration": 626,
    "start_time": "2022-05-11T15:19:33.906Z"
   },
   {
    "duration": 14,
    "start_time": "2022-05-11T15:37:45.870Z"
   },
   {
    "duration": 4,
    "start_time": "2022-05-11T15:38:13.833Z"
   },
   {
    "duration": 3137,
    "start_time": "2022-05-11T15:38:24.981Z"
   },
   {
    "duration": 5,
    "start_time": "2022-05-11T15:45:12.532Z"
   },
   {
    "duration": 5,
    "start_time": "2022-05-11T15:45:29.522Z"
   },
   {
    "duration": 5,
    "start_time": "2022-05-11T15:45:45.750Z"
   },
   {
    "duration": 7,
    "start_time": "2022-05-11T15:51:22.366Z"
   },
   {
    "duration": 563,
    "start_time": "2022-05-11T15:51:34.273Z"
   },
   {
    "duration": 557,
    "start_time": "2022-05-11T15:51:48.631Z"
   },
   {
    "duration": 417,
    "start_time": "2022-05-11T15:52:02.561Z"
   },
   {
    "duration": 15,
    "start_time": "2022-05-11T15:53:13.340Z"
   },
   {
    "duration": 2920,
    "start_time": "2022-05-11T15:53:24.699Z"
   },
   {
    "duration": 396,
    "start_time": "2022-05-11T15:56:21.734Z"
   },
   {
    "duration": 14,
    "start_time": "2022-05-11T16:01:02.174Z"
   },
   {
    "duration": 275,
    "start_time": "2022-05-11T16:01:21.950Z"
   },
   {
    "duration": 17,
    "start_time": "2022-05-11T16:01:59.776Z"
   },
   {
    "duration": 17,
    "start_time": "2022-05-11T16:02:14.184Z"
   },
   {
    "duration": 11,
    "start_time": "2022-05-11T16:02:47.195Z"
   },
   {
    "duration": 9,
    "start_time": "2022-05-11T16:03:09.133Z"
   },
   {
    "duration": 128,
    "start_time": "2022-05-11T16:03:29.067Z"
   },
   {
    "duration": 232,
    "start_time": "2022-05-11T16:03:50.503Z"
   },
   {
    "duration": 6,
    "start_time": "2022-05-11T16:04:17.371Z"
   },
   {
    "duration": 39,
    "start_time": "2022-05-11T16:08:10.532Z"
   },
   {
    "duration": 17,
    "start_time": "2022-05-11T16:08:35.726Z"
   },
   {
    "duration": 5,
    "start_time": "2022-05-11T16:08:52.586Z"
   },
   {
    "duration": 5,
    "start_time": "2022-05-11T16:44:00.922Z"
   },
   {
    "duration": 12,
    "start_time": "2022-05-11T16:44:28.351Z"
   },
   {
    "duration": 18,
    "start_time": "2022-05-11T16:44:35.708Z"
   },
   {
    "duration": 15,
    "start_time": "2022-05-11T16:44:54.001Z"
   },
   {
    "duration": 24,
    "start_time": "2022-05-11T16:54:26.544Z"
   },
   {
    "duration": 42,
    "start_time": "2022-05-11T16:54:44.486Z"
   },
   {
    "duration": 14,
    "start_time": "2022-05-11T16:55:31.145Z"
   },
   {
    "duration": 4,
    "start_time": "2022-05-11T16:56:14.759Z"
   },
   {
    "duration": 60,
    "start_time": "2022-05-11T16:56:28.170Z"
   },
   {
    "duration": 61,
    "start_time": "2022-05-11T16:56:48.823Z"
   },
   {
    "duration": 276,
    "start_time": "2022-05-11T17:00:22.059Z"
   },
   {
    "duration": 37,
    "start_time": "2022-05-11T17:01:04.186Z"
   },
   {
    "duration": 12,
    "start_time": "2022-05-11T17:02:02.930Z"
   },
   {
    "duration": 2563,
    "start_time": "2022-05-11T17:04:44.924Z"
   },
   {
    "duration": 10607,
    "start_time": "2022-05-11T17:05:22.803Z"
   },
   {
    "duration": 5,
    "start_time": "2022-05-11T17:06:07.502Z"
   },
   {
    "duration": 917,
    "start_time": "2022-05-11T17:06:41.587Z"
   },
   {
    "duration": 8,
    "start_time": "2022-05-11T17:12:26.475Z"
   },
   {
    "duration": 15,
    "start_time": "2022-05-11T17:15:53.394Z"
   },
   {
    "duration": 19,
    "start_time": "2022-05-11T17:17:35.215Z"
   },
   {
    "duration": 13,
    "start_time": "2022-05-11T17:18:17.608Z"
   },
   {
    "duration": 194,
    "start_time": "2022-05-11T17:18:43.421Z"
   },
   {
    "duration": 501,
    "start_time": "2022-05-11T17:19:46.203Z"
   },
   {
    "duration": 5657,
    "start_time": "2022-05-11T17:28:38.487Z"
   },
   {
    "duration": 13,
    "start_time": "2022-05-11T17:33:54.956Z"
   },
   {
    "duration": 10383,
    "start_time": "2022-05-11T17:34:14.102Z"
   },
   {
    "duration": 9529,
    "start_time": "2022-05-11T17:35:15.598Z"
   },
   {
    "duration": 2369,
    "start_time": "2022-05-11T18:22:22.438Z"
   },
   {
    "duration": 802,
    "start_time": "2022-05-11T18:22:26.269Z"
   },
   {
    "duration": 40,
    "start_time": "2022-05-11T18:22:27.219Z"
   },
   {
    "duration": 34,
    "start_time": "2022-05-11T18:22:28.122Z"
   },
   {
    "duration": 33,
    "start_time": "2022-05-11T18:22:29.525Z"
   },
   {
    "duration": 25,
    "start_time": "2022-05-11T18:22:30.336Z"
   },
   {
    "duration": 19,
    "start_time": "2022-05-11T18:22:33.983Z"
   },
   {
    "duration": 26,
    "start_time": "2022-05-11T18:22:34.789Z"
   },
   {
    "duration": 18,
    "start_time": "2022-05-11T18:22:35.837Z"
   },
   {
    "duration": 5,
    "start_time": "2022-05-11T18:22:37.795Z"
   },
   {
    "duration": 293,
    "start_time": "2022-05-11T18:22:38.551Z"
   },
   {
    "duration": 316,
    "start_time": "2022-05-11T18:22:39.434Z"
   },
   {
    "duration": 306,
    "start_time": "2022-05-11T18:22:40.503Z"
   },
   {
    "duration": 32,
    "start_time": "2022-05-11T18:22:42.539Z"
   },
   {
    "duration": 3,
    "start_time": "2022-05-11T18:22:47.433Z"
   },
   {
    "duration": 9,
    "start_time": "2022-05-11T18:22:48.293Z"
   },
   {
    "duration": 5,
    "start_time": "2022-05-11T18:22:51.215Z"
   },
   {
    "duration": 11,
    "start_time": "2022-05-11T18:22:55.137Z"
   },
   {
    "duration": 22,
    "start_time": "2022-05-11T18:22:58.042Z"
   },
   {
    "duration": 4,
    "start_time": "2022-05-11T18:22:58.952Z"
   },
   {
    "duration": 5,
    "start_time": "2022-05-11T18:23:00.446Z"
   },
   {
    "duration": 9,
    "start_time": "2022-05-11T18:23:02.596Z"
   },
   {
    "duration": 23,
    "start_time": "2022-05-11T18:23:03.686Z"
   },
   {
    "duration": 34,
    "start_time": "2022-05-11T18:23:05.809Z"
   },
   {
    "duration": 587,
    "start_time": "2022-05-11T18:23:06.883Z"
   },
   {
    "duration": 5,
    "start_time": "2022-05-11T18:23:10.129Z"
   },
   {
    "duration": 5,
    "start_time": "2022-05-11T18:23:17.265Z"
   },
   {
    "duration": 6,
    "start_time": "2022-05-11T18:23:17.976Z"
   },
   {
    "duration": 6,
    "start_time": "2022-05-11T18:26:39.849Z"
   },
   {
    "duration": 433,
    "start_time": "2022-05-11T18:26:42.566Z"
   },
   {
    "duration": 389,
    "start_time": "2022-05-11T18:26:43.254Z"
   },
   {
    "duration": 398,
    "start_time": "2022-05-11T18:26:44.686Z"
   },
   {
    "duration": 2546,
    "start_time": "2022-05-11T18:26:50.058Z"
   },
   {
    "duration": 16,
    "start_time": "2022-05-11T18:26:54.173Z"
   },
   {
    "duration": 279,
    "start_time": "2022-05-11T18:26:57.099Z"
   },
   {
    "duration": 14,
    "start_time": "2022-05-11T18:26:58.020Z"
   },
   {
    "duration": 13,
    "start_time": "2022-05-11T18:26:58.723Z"
   },
   {
    "duration": 10,
    "start_time": "2022-05-11T18:27:00.261Z"
   },
   {
    "duration": 14,
    "start_time": "2022-05-11T18:27:01.010Z"
   },
   {
    "duration": 26,
    "start_time": "2022-05-11T18:27:01.658Z"
   },
   {
    "duration": 306,
    "start_time": "2022-05-11T18:27:11.233Z"
   },
   {
    "duration": 8,
    "start_time": "2022-05-11T18:27:12.540Z"
   },
   {
    "duration": 51,
    "start_time": "2022-05-11T18:27:15.611Z"
   },
   {
    "duration": 21,
    "start_time": "2022-05-11T18:27:16.311Z"
   },
   {
    "duration": 5,
    "start_time": "2022-05-11T18:27:17.158Z"
   },
   {
    "duration": 6,
    "start_time": "2022-05-11T18:27:19.227Z"
   },
   {
    "duration": 18,
    "start_time": "2022-05-11T18:27:25.616Z"
   },
   {
    "duration": 21,
    "start_time": "2022-05-11T18:27:28.278Z"
   },
   {
    "duration": 50,
    "start_time": "2022-05-11T18:36:49.756Z"
   },
   {
    "duration": 63,
    "start_time": "2022-05-11T18:37:02.083Z"
   },
   {
    "duration": 73,
    "start_time": "2022-05-11T18:37:05.032Z"
   },
   {
    "duration": 9956,
    "start_time": "2022-05-11T18:37:06.795Z"
   },
   {
    "duration": 6567,
    "start_time": "2022-05-11T18:37:16.754Z"
   },
   {
    "duration": 1927,
    "start_time": "2022-05-12T06:08:07.031Z"
   },
   {
    "duration": 744,
    "start_time": "2022-05-12T06:08:10.755Z"
   },
   {
    "duration": 28,
    "start_time": "2022-05-12T06:08:14.790Z"
   },
   {
    "duration": 24,
    "start_time": "2022-05-12T06:08:15.294Z"
   },
   {
    "duration": 24,
    "start_time": "2022-05-12T06:08:15.500Z"
   },
   {
    "duration": 19,
    "start_time": "2022-05-12T06:08:15.657Z"
   },
   {
    "duration": 14,
    "start_time": "2022-05-12T06:08:15.852Z"
   },
   {
    "duration": 19,
    "start_time": "2022-05-12T06:08:16.058Z"
   },
   {
    "duration": 14,
    "start_time": "2022-05-12T06:08:16.287Z"
   },
   {
    "duration": 3,
    "start_time": "2022-05-12T06:08:18.510Z"
   },
   {
    "duration": 205,
    "start_time": "2022-05-12T06:08:19.495Z"
   },
   {
    "duration": 210,
    "start_time": "2022-05-12T06:08:20.453Z"
   },
   {
    "duration": 195,
    "start_time": "2022-05-12T06:08:21.315Z"
   },
   {
    "duration": 24,
    "start_time": "2022-05-12T06:08:22.188Z"
   },
   {
    "duration": 5,
    "start_time": "2022-05-12T06:08:22.723Z"
   },
   {
    "duration": 7,
    "start_time": "2022-05-12T06:08:23.039Z"
   },
   {
    "duration": 4,
    "start_time": "2022-05-12T06:08:23.256Z"
   },
   {
    "duration": 7,
    "start_time": "2022-05-12T06:08:27.175Z"
   },
   {
    "duration": 14,
    "start_time": "2022-05-12T06:08:30.067Z"
   },
   {
    "duration": 3,
    "start_time": "2022-05-12T06:08:31.060Z"
   },
   {
    "duration": 3,
    "start_time": "2022-05-12T06:08:32.216Z"
   },
   {
    "duration": 8,
    "start_time": "2022-05-12T06:08:34.143Z"
   },
   {
    "duration": 23,
    "start_time": "2022-05-12T06:08:34.927Z"
   },
   {
    "duration": 28,
    "start_time": "2022-05-12T06:08:36.333Z"
   },
   {
    "duration": 430,
    "start_time": "2022-05-12T06:08:37.400Z"
   },
   {
    "duration": 5,
    "start_time": "2022-05-12T06:08:40.280Z"
   },
   {
    "duration": 5,
    "start_time": "2022-05-12T06:08:41.203Z"
   },
   {
    "duration": 8,
    "start_time": "2022-05-12T06:08:42.021Z"
   },
   {
    "duration": 4,
    "start_time": "2022-05-12T06:08:42.885Z"
   },
   {
    "duration": 338,
    "start_time": "2022-05-12T06:08:43.669Z"
   },
   {
    "duration": 283,
    "start_time": "2022-05-12T06:08:44.411Z"
   },
   {
    "duration": 364,
    "start_time": "2022-05-12T06:08:45.334Z"
   },
   {
    "duration": 1729,
    "start_time": "2022-05-12T06:08:48.962Z"
   },
   {
    "duration": 12,
    "start_time": "2022-05-12T06:09:15.200Z"
   },
   {
    "duration": 173,
    "start_time": "2022-05-12T06:09:16.045Z"
   },
   {
    "duration": 13,
    "start_time": "2022-05-12T06:09:17.172Z"
   },
   {
    "duration": 10,
    "start_time": "2022-05-12T06:09:19.630Z"
   },
   {
    "duration": 8,
    "start_time": "2022-05-12T06:09:27.159Z"
   },
   {
    "duration": 8,
    "start_time": "2022-05-12T06:09:27.981Z"
   },
   {
    "duration": 12,
    "start_time": "2022-05-12T06:09:30.509Z"
   },
   {
    "duration": 207,
    "start_time": "2022-05-12T06:10:29.812Z"
   },
   {
    "duration": 5,
    "start_time": "2022-05-12T06:10:30.988Z"
   },
   {
    "duration": 39,
    "start_time": "2022-05-12T06:10:38.275Z"
   },
   {
    "duration": 15,
    "start_time": "2022-05-12T06:10:39.156Z"
   },
   {
    "duration": 3,
    "start_time": "2022-05-12T06:10:39.920Z"
   },
   {
    "duration": 6,
    "start_time": "2022-05-12T06:10:44.787Z"
   },
   {
    "duration": 12,
    "start_time": "2022-05-12T06:10:52.752Z"
   },
   {
    "duration": 13,
    "start_time": "2022-05-12T06:10:54.807Z"
   },
   {
    "duration": 35,
    "start_time": "2022-05-12T06:11:05.497Z"
   },
   {
    "duration": 49,
    "start_time": "2022-05-12T06:11:08.634Z"
   },
   {
    "duration": 51,
    "start_time": "2022-05-12T06:11:10.041Z"
   },
   {
    "duration": 8065,
    "start_time": "2022-05-12T06:11:14.481Z"
   },
   {
    "duration": 5254,
    "start_time": "2022-05-12T06:11:22.548Z"
   },
   {
    "duration": 4,
    "start_time": "2022-05-12T06:17:32.213Z"
   },
   {
    "duration": 6,
    "start_time": "2022-05-12T06:17:47.330Z"
   },
   {
    "duration": 4,
    "start_time": "2022-05-12T06:24:01.263Z"
   },
   {
    "duration": 3,
    "start_time": "2022-05-12T06:24:21.295Z"
   },
   {
    "duration": 2313,
    "start_time": "2022-05-12T06:24:33.183Z"
   },
   {
    "duration": 4,
    "start_time": "2022-05-12T06:24:59.878Z"
   },
   {
    "duration": 2396,
    "start_time": "2022-05-12T06:25:09.563Z"
   },
   {
    "duration": 2901,
    "start_time": "2022-05-12T06:26:10.510Z"
   },
   {
    "duration": 3813,
    "start_time": "2022-05-12T06:26:57.469Z"
   },
   {
    "duration": 10,
    "start_time": "2022-05-12T06:28:16.880Z"
   },
   {
    "duration": 11,
    "start_time": "2022-05-12T06:28:51.668Z"
   },
   {
    "duration": 877,
    "start_time": "2022-05-12T06:28:59.850Z"
   },
   {
    "duration": 142,
    "start_time": "2022-05-12T06:30:53.884Z"
   },
   {
    "duration": 351,
    "start_time": "2022-05-12T06:31:19.072Z"
   },
   {
    "duration": 15,
    "start_time": "2022-05-12T06:32:19.240Z"
   },
   {
    "duration": 9,
    "start_time": "2022-05-12T06:33:13.854Z"
   },
   {
    "duration": 1462,
    "start_time": "2022-05-12T12:48:28.309Z"
   },
   {
    "duration": 612,
    "start_time": "2022-05-12T12:51:44.579Z"
   },
   {
    "duration": 28,
    "start_time": "2022-05-12T12:53:20.109Z"
   },
   {
    "duration": 21,
    "start_time": "2022-05-12T12:53:35.909Z"
   },
   {
    "duration": 20,
    "start_time": "2022-05-12T12:53:49.869Z"
   },
   {
    "duration": 16,
    "start_time": "2022-05-12T12:55:19.189Z"
   },
   {
    "duration": 11,
    "start_time": "2022-05-12T12:55:30.045Z"
   },
   {
    "duration": 17,
    "start_time": "2022-05-12T12:55:43.348Z"
   },
   {
    "duration": 13,
    "start_time": "2022-05-12T13:06:19.858Z"
   },
   {
    "duration": 4,
    "start_time": "2022-05-12T13:13:23.716Z"
   },
   {
    "duration": 4,
    "start_time": "2022-05-12T13:19:13.389Z"
   },
   {
    "duration": 193,
    "start_time": "2022-05-12T13:28:06.908Z"
   },
   {
    "duration": 81,
    "start_time": "2022-05-12T13:30:51.899Z"
   },
   {
    "duration": 731,
    "start_time": "2022-05-12T13:31:35.949Z"
   },
   {
    "duration": 113,
    "start_time": "2022-05-12T13:33:45.310Z"
   },
   {
    "duration": 288,
    "start_time": "2022-05-12T13:35:10.587Z"
   },
   {
    "duration": 25,
    "start_time": "2022-05-12T13:41:16.123Z"
   },
   {
    "duration": 9,
    "start_time": "2022-05-12T13:42:02.035Z"
   },
   {
    "duration": 7,
    "start_time": "2022-05-12T13:43:01.427Z"
   },
   {
    "duration": 5,
    "start_time": "2022-05-12T13:43:18.995Z"
   },
   {
    "duration": 12,
    "start_time": "2022-05-12T13:52:51.108Z"
   },
   {
    "duration": 11,
    "start_time": "2022-05-12T13:54:28.108Z"
   },
   {
    "duration": 21,
    "start_time": "2022-05-12T13:55:02.916Z"
   },
   {
    "duration": 307,
    "start_time": "2022-05-12T13:55:34.587Z"
   },
   {
    "duration": 25,
    "start_time": "2022-05-12T13:55:47.906Z"
   },
   {
    "duration": 3,
    "start_time": "2022-05-12T13:55:52.267Z"
   },
   {
    "duration": 3,
    "start_time": "2022-05-12T13:56:13.508Z"
   },
   {
    "duration": 7,
    "start_time": "2022-05-12T13:57:11.573Z"
   },
   {
    "duration": 18,
    "start_time": "2022-05-12T14:00:31.029Z"
   },
   {
    "duration": 8,
    "start_time": "2022-05-12T14:00:47.148Z"
   },
   {
    "duration": 12,
    "start_time": "2022-05-12T14:00:47.893Z"
   },
   {
    "duration": 165,
    "start_time": "2022-05-12T14:01:29.468Z"
   },
   {
    "duration": 4,
    "start_time": "2022-05-12T14:08:08.949Z"
   },
   {
    "duration": 4,
    "start_time": "2022-05-12T14:08:21.054Z"
   },
   {
    "duration": 4,
    "start_time": "2022-05-12T14:08:40.829Z"
   },
   {
    "duration": 4,
    "start_time": "2022-05-12T14:11:40.589Z"
   },
   {
    "duration": 15,
    "start_time": "2022-05-12T14:11:46.349Z"
   },
   {
    "duration": 259,
    "start_time": "2022-05-12T14:11:52.390Z"
   },
   {
    "duration": 6,
    "start_time": "2022-05-12T14:12:03.150Z"
   },
   {
    "duration": 121,
    "start_time": "2022-05-12T14:12:03.909Z"
   },
   {
    "duration": 3,
    "start_time": "2022-05-12T14:12:23.030Z"
   },
   {
    "duration": 225,
    "start_time": "2022-05-12T14:12:23.429Z"
   },
   {
    "duration": 3,
    "start_time": "2022-05-12T14:12:37.087Z"
   },
   {
    "duration": 204,
    "start_time": "2022-05-12T14:12:38.661Z"
   },
   {
    "duration": 3,
    "start_time": "2022-05-12T14:13:03.390Z"
   },
   {
    "duration": 207,
    "start_time": "2022-05-12T14:13:05.630Z"
   },
   {
    "duration": 219,
    "start_time": "2022-05-12T14:13:15.510Z"
   },
   {
    "duration": 253,
    "start_time": "2022-05-12T14:13:21.719Z"
   },
   {
    "duration": 4,
    "start_time": "2022-05-12T16:42:10.937Z"
   },
   {
    "duration": 127,
    "start_time": "2022-05-12T16:45:51.976Z"
   },
   {
    "duration": 110,
    "start_time": "2022-05-12T16:46:06.093Z"
   },
   {
    "duration": 445,
    "start_time": "2022-05-12T16:46:18.256Z"
   },
   {
    "duration": 421,
    "start_time": "2022-05-12T16:46:50.775Z"
   },
   {
    "duration": 381,
    "start_time": "2022-05-12T16:47:07.615Z"
   },
   {
    "duration": 17,
    "start_time": "2022-05-12T16:48:58.015Z"
   },
   {
    "duration": 22,
    "start_time": "2022-05-12T16:50:36.375Z"
   },
   {
    "duration": 14,
    "start_time": "2022-05-12T16:53:21.097Z"
   },
   {
    "duration": 453,
    "start_time": "2022-05-12T16:54:09.094Z"
   },
   {
    "duration": 202,
    "start_time": "2022-05-12T16:54:57.896Z"
   },
   {
    "duration": 1349,
    "start_time": "2022-05-12T16:55:26.455Z"
   },
   {
    "duration": 1446,
    "start_time": "2022-05-12T16:55:43.780Z"
   },
   {
    "duration": 3,
    "start_time": "2022-05-12T18:50:56.818Z"
   },
   {
    "duration": 52,
    "start_time": "2022-05-12T18:54:38.508Z"
   },
   {
    "duration": 120,
    "start_time": "2022-05-12T19:09:08.323Z"
   },
   {
    "duration": 345,
    "start_time": "2022-05-12T19:09:29.938Z"
   },
   {
    "duration": 315,
    "start_time": "2022-05-12T19:09:50.528Z"
   },
   {
    "duration": 239,
    "start_time": "2022-05-12T19:10:26.574Z"
   },
   {
    "duration": 2378,
    "start_time": "2022-05-13T05:54:17.146Z"
   },
   {
    "duration": 807,
    "start_time": "2022-05-13T05:54:20.889Z"
   },
   {
    "duration": 43,
    "start_time": "2022-05-13T05:54:24.100Z"
   },
   {
    "duration": 36,
    "start_time": "2022-05-13T05:54:25.014Z"
   },
   {
    "duration": 35,
    "start_time": "2022-05-13T05:54:26.313Z"
   },
   {
    "duration": 26,
    "start_time": "2022-05-13T05:54:28.014Z"
   },
   {
    "duration": 19,
    "start_time": "2022-05-13T05:54:29.094Z"
   },
   {
    "duration": 27,
    "start_time": "2022-05-13T05:54:29.734Z"
   },
   {
    "duration": 20,
    "start_time": "2022-05-13T05:54:32.341Z"
   },
   {
    "duration": 6,
    "start_time": "2022-05-13T05:54:37.816Z"
   },
   {
    "duration": 298,
    "start_time": "2022-05-13T05:54:41.889Z"
   },
   {
    "duration": 444,
    "start_time": "2022-05-13T05:54:49.855Z"
   },
   {
    "duration": 595,
    "start_time": "2022-05-13T05:54:51.774Z"
   },
   {
    "duration": 9,
    "start_time": "2022-05-13T05:55:09.213Z"
   },
   {
    "duration": 10,
    "start_time": "2022-05-13T05:55:11.734Z"
   },
   {
    "duration": 15,
    "start_time": "2022-05-13T05:55:14.533Z"
   },
   {
    "duration": 21,
    "start_time": "2022-05-13T05:55:15.957Z"
   },
   {
    "duration": 5,
    "start_time": "2022-05-13T05:55:16.613Z"
   },
   {
    "duration": 5,
    "start_time": "2022-05-13T05:55:17.662Z"
   },
   {
    "duration": 12,
    "start_time": "2022-05-13T05:55:20.054Z"
   },
   {
    "duration": 10,
    "start_time": "2022-05-13T05:55:22.014Z"
   },
   {
    "duration": 15,
    "start_time": "2022-05-13T05:55:23.414Z"
   },
   {
    "duration": 305,
    "start_time": "2022-05-13T05:55:24.374Z"
   },
   {
    "duration": 6,
    "start_time": "2022-05-13T05:55:27.335Z"
   },
   {
    "duration": 6,
    "start_time": "2022-05-13T05:55:27.934Z"
   },
   {
    "duration": 6,
    "start_time": "2022-05-13T05:55:28.573Z"
   },
   {
    "duration": 5,
    "start_time": "2022-05-13T05:55:28.989Z"
   },
   {
    "duration": 372,
    "start_time": "2022-05-13T05:55:29.665Z"
   },
   {
    "duration": 393,
    "start_time": "2022-05-13T05:55:31.373Z"
   },
   {
    "duration": 405,
    "start_time": "2022-05-13T05:55:39.813Z"
   },
   {
    "duration": 2792,
    "start_time": "2022-05-13T05:56:45.107Z"
   },
   {
    "duration": 16,
    "start_time": "2022-05-13T06:03:11.410Z"
   },
   {
    "duration": 1522,
    "start_time": "2022-05-13T06:05:15.607Z"
   },
   {
    "duration": 1572,
    "start_time": "2022-05-13T06:07:35.852Z"
   },
   {
    "duration": 1419,
    "start_time": "2022-05-13T06:08:14.013Z"
   },
   {
    "duration": 14,
    "start_time": "2022-05-13T06:12:07.512Z"
   },
   {
    "duration": 14,
    "start_time": "2022-05-13T06:12:08.720Z"
   },
   {
    "duration": 9,
    "start_time": "2022-05-13T06:14:31.529Z"
   },
   {
    "duration": 11,
    "start_time": "2022-05-13T06:14:36.938Z"
   },
   {
    "duration": 19,
    "start_time": "2022-05-13T06:14:40.183Z"
   },
   {
    "duration": 234,
    "start_time": "2022-05-13T06:15:34.372Z"
   },
   {
    "duration": 7,
    "start_time": "2022-05-13T06:15:58.822Z"
   },
   {
    "duration": 41,
    "start_time": "2022-05-13T06:17:02.282Z"
   },
   {
    "duration": 173,
    "start_time": "2022-05-13T06:17:22.663Z"
   },
   {
    "duration": 20,
    "start_time": "2022-05-13T06:17:32.102Z"
   },
   {
    "duration": 5,
    "start_time": "2022-05-13T06:18:34.952Z"
   },
   {
    "duration": 5,
    "start_time": "2022-05-13T06:31:29.592Z"
   },
   {
    "duration": 4,
    "start_time": "2022-05-13T06:41:27.348Z"
   },
   {
    "duration": 4,
    "start_time": "2022-05-13T06:41:28.640Z"
   },
   {
    "duration": 8,
    "start_time": "2022-05-13T06:42:09.082Z"
   },
   {
    "duration": 9,
    "start_time": "2022-05-13T06:42:21.430Z"
   },
   {
    "duration": 175,
    "start_time": "2022-05-13T06:44:17.030Z"
   },
   {
    "duration": 12,
    "start_time": "2022-05-13T06:44:29.673Z"
   },
   {
    "duration": 12,
    "start_time": "2022-05-13T06:44:44.073Z"
   },
   {
    "duration": 17,
    "start_time": "2022-05-13T06:44:51.630Z"
   },
   {
    "duration": 16,
    "start_time": "2022-05-13T06:45:33.054Z"
   },
   {
    "duration": 5,
    "start_time": "2022-05-13T07:15:03.112Z"
   },
   {
    "duration": 6,
    "start_time": "2022-05-13T07:15:26.132Z"
   },
   {
    "duration": 5,
    "start_time": "2022-05-13T07:16:25.773Z"
   },
   {
    "duration": 7,
    "start_time": "2022-05-13T07:16:36.662Z"
   },
   {
    "duration": 52,
    "start_time": "2022-05-13T07:26:49.643Z"
   },
   {
    "duration": 70,
    "start_time": "2022-05-13T07:27:59.540Z"
   },
   {
    "duration": 3,
    "start_time": "2022-05-13T07:32:47.963Z"
   },
   {
    "duration": 11146,
    "start_time": "2022-05-13T07:33:59.723Z"
   },
   {
    "duration": 3312,
    "start_time": "2022-05-13T07:35:35.015Z"
   },
   {
    "duration": 2830,
    "start_time": "2022-05-13T07:35:55.500Z"
   },
   {
    "duration": 4534,
    "start_time": "2022-05-13T07:36:26.304Z"
   },
   {
    "duration": 18,
    "start_time": "2022-05-13T07:36:49.744Z"
   },
   {
    "duration": 23,
    "start_time": "2022-05-13T07:37:06.571Z"
   },
   {
    "duration": 20,
    "start_time": "2022-05-13T07:38:41.363Z"
   },
   {
    "duration": 5,
    "start_time": "2022-05-13T07:42:09.533Z"
   },
   {
    "duration": 1048,
    "start_time": "2022-05-13T07:42:09.541Z"
   },
   {
    "duration": 64,
    "start_time": "2022-05-13T07:42:10.592Z"
   },
   {
    "duration": 270,
    "start_time": "2022-05-13T07:42:10.659Z"
   },
   {
    "duration": 56,
    "start_time": "2022-05-13T07:42:10.934Z"
   },
   {
    "duration": 61,
    "start_time": "2022-05-13T07:42:10.993Z"
   },
   {
    "duration": 27,
    "start_time": "2022-05-13T07:42:11.057Z"
   },
   {
    "duration": 63,
    "start_time": "2022-05-13T07:42:11.087Z"
   },
   {
    "duration": 32,
    "start_time": "2022-05-13T07:42:11.153Z"
   },
   {
    "duration": 14,
    "start_time": "2022-05-13T07:42:11.188Z"
   },
   {
    "duration": 520,
    "start_time": "2022-05-13T07:42:11.205Z"
   },
   {
    "duration": 847,
    "start_time": "2022-05-13T07:42:11.728Z"
   },
   {
    "duration": 470,
    "start_time": "2022-05-13T07:42:12.581Z"
   },
   {
    "duration": 9,
    "start_time": "2022-05-13T07:42:13.054Z"
   },
   {
    "duration": 19,
    "start_time": "2022-05-13T07:42:13.066Z"
   },
   {
    "duration": 37,
    "start_time": "2022-05-13T07:42:13.088Z"
   },
   {
    "duration": 19,
    "start_time": "2022-05-13T07:42:13.128Z"
   },
   {
    "duration": 25,
    "start_time": "2022-05-13T07:42:13.150Z"
   },
   {
    "duration": 9,
    "start_time": "2022-05-13T07:42:13.178Z"
   },
   {
    "duration": 18,
    "start_time": "2022-05-13T07:42:13.190Z"
   },
   {
    "duration": 20,
    "start_time": "2022-05-13T07:42:13.210Z"
   },
   {
    "duration": 43,
    "start_time": "2022-05-13T07:42:13.232Z"
   },
   {
    "duration": 306,
    "start_time": "2022-05-13T07:42:13.278Z"
   },
   {
    "duration": 6,
    "start_time": "2022-05-13T07:42:13.587Z"
   },
   {
    "duration": 15,
    "start_time": "2022-05-13T07:42:13.595Z"
   },
   {
    "duration": 25,
    "start_time": "2022-05-13T07:42:13.614Z"
   },
   {
    "duration": 11,
    "start_time": "2022-05-13T07:42:13.642Z"
   },
   {
    "duration": 387,
    "start_time": "2022-05-13T07:42:13.655Z"
   },
   {
    "duration": 414,
    "start_time": "2022-05-13T07:42:14.044Z"
   },
   {
    "duration": 426,
    "start_time": "2022-05-13T07:42:14.460Z"
   },
   {
    "duration": 2786,
    "start_time": "2022-05-13T07:42:14.888Z"
   },
   {
    "duration": 16,
    "start_time": "2022-05-13T07:42:17.677Z"
   },
   {
    "duration": 1445,
    "start_time": "2022-05-13T07:42:17.696Z"
   },
   {
    "duration": 15,
    "start_time": "2022-05-13T07:42:19.143Z"
   },
   {
    "duration": 20,
    "start_time": "2022-05-13T07:42:19.160Z"
   },
   {
    "duration": 43,
    "start_time": "2022-05-13T07:42:19.183Z"
   },
   {
    "duration": 9,
    "start_time": "2022-05-13T07:42:19.234Z"
   },
   {
    "duration": 293,
    "start_time": "2022-05-13T07:42:19.245Z"
   },
   {
    "duration": 264,
    "start_time": "2022-05-13T07:42:19.540Z"
   },
   {
    "duration": 19,
    "start_time": "2022-05-13T07:42:19.806Z"
   },
   {
    "duration": 64,
    "start_time": "2022-05-13T07:42:19.827Z"
   },
   {
    "duration": 18,
    "start_time": "2022-05-13T07:42:19.893Z"
   },
   {
    "duration": 11,
    "start_time": "2022-05-13T07:42:19.913Z"
   },
   {
    "duration": 12,
    "start_time": "2022-05-13T07:42:19.927Z"
   },
   {
    "duration": 13,
    "start_time": "2022-05-13T07:42:19.942Z"
   },
   {
    "duration": 32,
    "start_time": "2022-05-13T07:42:19.958Z"
   },
   {
    "duration": 16,
    "start_time": "2022-05-13T07:42:19.993Z"
   },
   {
    "duration": 14,
    "start_time": "2022-05-13T07:42:20.012Z"
   },
   {
    "duration": 13,
    "start_time": "2022-05-13T07:42:20.029Z"
   },
   {
    "duration": 14,
    "start_time": "2022-05-13T07:42:20.044Z"
   },
   {
    "duration": 22,
    "start_time": "2022-05-13T07:42:20.061Z"
   },
   {
    "duration": 58,
    "start_time": "2022-05-13T07:42:20.085Z"
   },
   {
    "duration": 85,
    "start_time": "2022-05-13T07:42:20.145Z"
   },
   {
    "duration": 4,
    "start_time": "2022-05-13T07:42:20.233Z"
   },
   {
    "duration": 13044,
    "start_time": "2022-05-13T07:42:20.239Z"
   },
   {
    "duration": 3541,
    "start_time": "2022-05-13T07:42:33.286Z"
   },
   {
    "duration": 4536,
    "start_time": "2022-05-13T07:42:36.830Z"
   },
   {
    "duration": 25,
    "start_time": "2022-05-13T07:42:45.257Z"
   },
   {
    "duration": 5,
    "start_time": "2022-05-13T07:43:25.444Z"
   },
   {
    "duration": 10,
    "start_time": "2022-05-13T07:43:38.224Z"
   },
   {
    "duration": 1013,
    "start_time": "2022-05-13T07:46:17.823Z"
   },
   {
    "duration": 85,
    "start_time": "2022-05-13T07:47:07.551Z"
   },
   {
    "duration": 92,
    "start_time": "2022-05-13T07:47:41.545Z"
   },
   {
    "duration": 18,
    "start_time": "2022-05-13T07:48:07.553Z"
   },
   {
    "duration": 15,
    "start_time": "2022-05-13T07:48:18.503Z"
   },
   {
    "duration": 121,
    "start_time": "2022-05-13T10:23:25.950Z"
   },
   {
    "duration": 104,
    "start_time": "2022-05-13T13:47:03.897Z"
   },
   {
    "duration": 73,
    "start_time": "2022-05-13T14:00:19.084Z"
   },
   {
    "duration": 8,
    "start_time": "2022-05-13T14:00:46.597Z"
   },
   {
    "duration": 2374,
    "start_time": "2022-05-13T14:01:07.108Z"
   },
   {
    "duration": 1067,
    "start_time": "2022-05-13T14:01:09.485Z"
   },
   {
    "duration": 47,
    "start_time": "2022-05-13T14:01:10.556Z"
   },
   {
    "duration": 58,
    "start_time": "2022-05-13T14:01:10.607Z"
   },
   {
    "duration": 35,
    "start_time": "2022-05-13T14:01:10.667Z"
   },
   {
    "duration": 32,
    "start_time": "2022-05-13T14:01:10.729Z"
   },
   {
    "duration": 33,
    "start_time": "2022-05-13T14:01:10.763Z"
   },
   {
    "duration": 45,
    "start_time": "2022-05-13T14:01:10.798Z"
   },
   {
    "duration": 31,
    "start_time": "2022-05-13T14:01:10.851Z"
   },
   {
    "duration": 9,
    "start_time": "2022-05-13T14:01:10.888Z"
   },
   {
    "duration": 536,
    "start_time": "2022-05-13T14:01:10.900Z"
   },
   {
    "duration": 745,
    "start_time": "2022-05-13T14:01:11.438Z"
   },
   {
    "duration": 581,
    "start_time": "2022-05-13T14:01:12.186Z"
   },
   {
    "duration": 8,
    "start_time": "2022-05-13T14:01:12.769Z"
   },
   {
    "duration": 18,
    "start_time": "2022-05-13T14:01:12.780Z"
   },
   {
    "duration": 42,
    "start_time": "2022-05-13T14:01:12.801Z"
   },
   {
    "duration": 35,
    "start_time": "2022-05-13T14:01:12.846Z"
   },
   {
    "duration": 5,
    "start_time": "2022-05-13T14:01:12.883Z"
   },
   {
    "duration": 17,
    "start_time": "2022-05-13T14:01:12.890Z"
   },
   {
    "duration": 55,
    "start_time": "2022-05-13T14:01:12.909Z"
   },
   {
    "duration": 11,
    "start_time": "2022-05-13T14:01:12.966Z"
   },
   {
    "duration": 19,
    "start_time": "2022-05-13T14:01:12.980Z"
   },
   {
    "duration": 382,
    "start_time": "2022-05-13T14:01:13.001Z"
   },
   {
    "duration": 7,
    "start_time": "2022-05-13T14:01:13.385Z"
   },
   {
    "duration": 7,
    "start_time": "2022-05-13T14:01:13.395Z"
   },
   {
    "duration": 25,
    "start_time": "2022-05-13T14:01:13.405Z"
   },
   {
    "duration": 33,
    "start_time": "2022-05-13T14:01:13.434Z"
   },
   {
    "duration": 409,
    "start_time": "2022-05-13T14:01:13.474Z"
   },
   {
    "duration": 429,
    "start_time": "2022-05-13T14:01:13.885Z"
   },
   {
    "duration": 438,
    "start_time": "2022-05-13T14:01:14.324Z"
   },
   {
    "duration": 2911,
    "start_time": "2022-05-13T14:01:14.765Z"
   },
   {
    "duration": 15,
    "start_time": "2022-05-13T14:01:17.679Z"
   },
   {
    "duration": 1712,
    "start_time": "2022-05-13T14:01:17.696Z"
   },
   {
    "duration": 32,
    "start_time": "2022-05-13T14:01:19.411Z"
   },
   {
    "duration": 18,
    "start_time": "2022-05-13T14:01:19.446Z"
   },
   {
    "duration": 9,
    "start_time": "2022-05-13T14:01:19.467Z"
   },
   {
    "duration": 10,
    "start_time": "2022-05-13T14:01:19.478Z"
   },
   {
    "duration": 42,
    "start_time": "2022-05-13T14:01:19.490Z"
   },
   {
    "duration": 350,
    "start_time": "2022-05-13T14:01:19.534Z"
   },
   {
    "duration": 6,
    "start_time": "2022-05-13T14:01:19.886Z"
   },
   {
    "duration": 59,
    "start_time": "2022-05-13T14:01:19.894Z"
   },
   {
    "duration": 16,
    "start_time": "2022-05-13T14:01:19.956Z"
   },
   {
    "duration": 6,
    "start_time": "2022-05-13T14:01:19.974Z"
   },
   {
    "duration": 7,
    "start_time": "2022-05-13T14:01:19.983Z"
   },
   {
    "duration": 38,
    "start_time": "2022-05-13T14:01:19.993Z"
   },
   {
    "duration": 43,
    "start_time": "2022-05-13T14:01:20.034Z"
   },
   {
    "duration": 15,
    "start_time": "2022-05-13T14:01:20.080Z"
   },
   {
    "duration": 4,
    "start_time": "2022-05-13T14:01:20.097Z"
   },
   {
    "duration": 15,
    "start_time": "2022-05-13T14:01:20.103Z"
   },
   {
    "duration": 39,
    "start_time": "2022-05-13T14:01:20.120Z"
   },
   {
    "duration": 10,
    "start_time": "2022-05-13T14:01:20.161Z"
   },
   {
    "duration": 44,
    "start_time": "2022-05-13T14:01:20.174Z"
   },
   {
    "duration": 81,
    "start_time": "2022-05-13T14:01:20.220Z"
   },
   {
    "duration": 3,
    "start_time": "2022-05-13T14:01:20.303Z"
   },
   {
    "duration": 10746,
    "start_time": "2022-05-13T14:01:20.308Z"
   },
   {
    "duration": 2719,
    "start_time": "2022-05-13T14:01:31.057Z"
   },
   {
    "duration": 3339,
    "start_time": "2022-05-13T14:01:33.778Z"
   },
   {
    "duration": 18,
    "start_time": "2022-05-13T14:01:37.124Z"
   },
   {
    "duration": 1415,
    "start_time": "2022-05-13T14:01:37.150Z"
   },
   {
    "duration": 355,
    "start_time": "2022-05-13T14:01:38.568Z"
   },
   {
    "duration": 413,
    "start_time": "2022-05-13T14:01:38.940Z"
   },
   {
    "duration": 19,
    "start_time": "2022-05-13T14:01:39.429Z"
   },
   {
    "duration": 6,
    "start_time": "2022-05-13T14:13:05.903Z"
   },
   {
    "duration": 5,
    "start_time": "2022-05-13T14:13:24.057Z"
   },
   {
    "duration": 7,
    "start_time": "2022-05-13T14:13:41.288Z"
   },
   {
    "duration": 6,
    "start_time": "2022-05-13T14:13:59.376Z"
   },
   {
    "duration": 5,
    "start_time": "2022-05-13T14:14:34.125Z"
   },
   {
    "duration": 36,
    "start_time": "2022-05-13T14:15:01.119Z"
   },
   {
    "duration": 34,
    "start_time": "2022-05-13T14:15:30.038Z"
   },
   {
    "duration": 58,
    "start_time": "2022-05-14T09:07:15.154Z"
   },
   {
    "duration": 1741,
    "start_time": "2022-05-14T09:07:21.034Z"
   },
   {
    "duration": 653,
    "start_time": "2022-05-14T09:07:24.934Z"
   },
   {
    "duration": 661,
    "start_time": "2022-05-14T09:08:34.162Z"
   },
   {
    "duration": 1694,
    "start_time": "2022-05-14T09:15:00.315Z"
   },
   {
    "duration": 5,
    "start_time": "2022-05-14T09:15:05.774Z"
   },
   {
    "duration": 821,
    "start_time": "2022-05-14T09:15:05.781Z"
   },
   {
    "duration": 26,
    "start_time": "2022-05-14T09:15:06.603Z"
   },
   {
    "duration": 23,
    "start_time": "2022-05-14T09:15:06.630Z"
   },
   {
    "duration": 24,
    "start_time": "2022-05-14T09:15:06.673Z"
   },
   {
    "duration": 17,
    "start_time": "2022-05-14T09:15:06.699Z"
   },
   {
    "duration": 12,
    "start_time": "2022-05-14T09:15:06.718Z"
   },
   {
    "duration": 53,
    "start_time": "2022-05-14T09:15:06.732Z"
   },
   {
    "duration": 18,
    "start_time": "2022-05-14T09:15:06.787Z"
   },
   {
    "duration": 5,
    "start_time": "2022-05-14T09:15:06.807Z"
   },
   {
    "duration": 205,
    "start_time": "2022-05-14T09:15:06.814Z"
   },
   {
    "duration": 365,
    "start_time": "2022-05-14T09:15:07.021Z"
   },
   {
    "duration": 267,
    "start_time": "2022-05-14T09:15:07.387Z"
   },
   {
    "duration": 7,
    "start_time": "2022-05-14T09:15:07.668Z"
   },
   {
    "duration": 18,
    "start_time": "2022-05-14T09:15:07.677Z"
   },
   {
    "duration": 16,
    "start_time": "2022-05-14T09:15:07.697Z"
   },
   {
    "duration": 25,
    "start_time": "2022-05-14T09:15:07.715Z"
   },
   {
    "duration": 3,
    "start_time": "2022-05-14T09:15:07.742Z"
   },
   {
    "duration": 12,
    "start_time": "2022-05-14T09:15:07.747Z"
   },
   {
    "duration": 28,
    "start_time": "2022-05-14T09:15:07.761Z"
   },
   {
    "duration": 13,
    "start_time": "2022-05-14T09:15:07.791Z"
   },
   {
    "duration": 28,
    "start_time": "2022-05-14T09:15:07.805Z"
   },
   {
    "duration": 193,
    "start_time": "2022-05-14T09:15:07.835Z"
   },
   {
    "duration": 5,
    "start_time": "2022-05-14T09:15:08.029Z"
   },
   {
    "duration": 17,
    "start_time": "2022-05-14T09:15:08.037Z"
   },
   {
    "duration": 10,
    "start_time": "2022-05-14T09:15:08.056Z"
   },
   {
    "duration": 29,
    "start_time": "2022-05-14T09:15:08.068Z"
   },
   {
    "duration": 238,
    "start_time": "2022-05-14T09:15:08.098Z"
   },
   {
    "duration": 254,
    "start_time": "2022-05-14T09:15:08.338Z"
   },
   {
    "duration": 262,
    "start_time": "2022-05-14T09:15:08.593Z"
   },
   {
    "duration": 999,
    "start_time": "2022-05-14T09:15:22.914Z"
   },
   {
    "duration": 913,
    "start_time": "2022-05-14T09:16:01.034Z"
   },
   {
    "duration": 745,
    "start_time": "2022-05-14T09:21:35.415Z"
   },
   {
    "duration": 451,
    "start_time": "2022-05-14T09:22:29.242Z"
   },
   {
    "duration": 746,
    "start_time": "2022-05-14T09:23:54.162Z"
   },
   {
    "duration": 747,
    "start_time": "2022-05-14T09:24:29.965Z"
   },
   {
    "duration": 142,
    "start_time": "2022-05-14T09:35:02.366Z"
   },
   {
    "duration": 3,
    "start_time": "2022-05-14T09:35:12.333Z"
   },
   {
    "duration": 699,
    "start_time": "2022-05-14T09:35:12.338Z"
   },
   {
    "duration": 24,
    "start_time": "2022-05-14T09:35:13.039Z"
   },
   {
    "duration": 27,
    "start_time": "2022-05-14T09:35:13.067Z"
   },
   {
    "duration": 23,
    "start_time": "2022-05-14T09:35:13.097Z"
   },
   {
    "duration": 18,
    "start_time": "2022-05-14T09:35:13.122Z"
   },
   {
    "duration": 15,
    "start_time": "2022-05-14T09:35:13.172Z"
   },
   {
    "duration": 25,
    "start_time": "2022-05-14T09:35:13.188Z"
   },
   {
    "duration": 12,
    "start_time": "2022-05-14T09:35:13.215Z"
   },
   {
    "duration": 8,
    "start_time": "2022-05-14T09:35:13.228Z"
   },
   {
    "duration": 189,
    "start_time": "2022-05-14T09:35:13.237Z"
   },
   {
    "duration": 370,
    "start_time": "2022-05-14T09:35:13.428Z"
   },
   {
    "duration": 382,
    "start_time": "2022-05-14T09:35:13.799Z"
   },
   {
    "duration": 6,
    "start_time": "2022-05-14T09:35:14.185Z"
   },
   {
    "duration": 8,
    "start_time": "2022-05-14T09:35:14.193Z"
   },
   {
    "duration": 10,
    "start_time": "2022-05-14T09:35:14.202Z"
   },
   {
    "duration": 12,
    "start_time": "2022-05-14T09:35:14.214Z"
   },
   {
    "duration": 4,
    "start_time": "2022-05-14T09:35:14.228Z"
   },
   {
    "duration": 37,
    "start_time": "2022-05-14T09:35:14.234Z"
   },
   {
    "duration": 16,
    "start_time": "2022-05-14T09:35:14.273Z"
   },
   {
    "duration": 6,
    "start_time": "2022-05-14T09:35:14.290Z"
   },
   {
    "duration": 18,
    "start_time": "2022-05-14T09:35:14.298Z"
   },
   {
    "duration": 193,
    "start_time": "2022-05-14T09:35:14.317Z"
   },
   {
    "duration": 4,
    "start_time": "2022-05-14T09:35:14.513Z"
   },
   {
    "duration": 7,
    "start_time": "2022-05-14T09:35:14.518Z"
   },
   {
    "duration": 9,
    "start_time": "2022-05-14T09:35:14.526Z"
   },
   {
    "duration": 8,
    "start_time": "2022-05-14T09:35:14.537Z"
   },
   {
    "duration": 253,
    "start_time": "2022-05-14T09:35:14.546Z"
   },
   {
    "duration": 276,
    "start_time": "2022-05-14T09:35:14.801Z"
   },
   {
    "duration": 283,
    "start_time": "2022-05-14T09:35:15.079Z"
   },
   {
    "duration": 845,
    "start_time": "2022-05-14T09:35:15.363Z"
   },
   {
    "duration": 729,
    "start_time": "2022-05-14T09:35:16.209Z"
   },
   {
    "duration": 11,
    "start_time": "2022-05-14T09:35:16.940Z"
   },
   {
    "duration": 1279,
    "start_time": "2022-05-14T09:35:18.957Z"
   },
   {
    "duration": 1545,
    "start_time": "2022-05-14T09:36:22.964Z"
   },
   {
    "duration": 1231,
    "start_time": "2022-05-14T09:37:07.936Z"
   },
   {
    "duration": 10,
    "start_time": "2022-05-14T09:44:35.496Z"
   },
   {
    "duration": 3,
    "start_time": "2022-05-14T09:44:39.929Z"
   },
   {
    "duration": 696,
    "start_time": "2022-05-14T09:44:39.934Z"
   },
   {
    "duration": 23,
    "start_time": "2022-05-14T09:44:40.632Z"
   },
   {
    "duration": 25,
    "start_time": "2022-05-14T09:44:40.674Z"
   },
   {
    "duration": 23,
    "start_time": "2022-05-14T09:44:40.702Z"
   },
   {
    "duration": 18,
    "start_time": "2022-05-14T09:44:40.727Z"
   },
   {
    "duration": 19,
    "start_time": "2022-05-14T09:44:40.767Z"
   },
   {
    "duration": 17,
    "start_time": "2022-05-14T09:44:40.787Z"
   },
   {
    "duration": 12,
    "start_time": "2022-05-14T09:44:40.806Z"
   },
   {
    "duration": 7,
    "start_time": "2022-05-14T09:44:40.820Z"
   },
   {
    "duration": 213,
    "start_time": "2022-05-14T09:44:40.829Z"
   },
   {
    "duration": 268,
    "start_time": "2022-05-14T09:44:41.043Z"
   },
   {
    "duration": 274,
    "start_time": "2022-05-14T09:44:41.313Z"
   },
   {
    "duration": 6,
    "start_time": "2022-05-14T09:44:41.590Z"
   },
   {
    "duration": 9,
    "start_time": "2022-05-14T09:44:41.597Z"
   },
   {
    "duration": 12,
    "start_time": "2022-05-14T09:44:41.607Z"
   },
   {
    "duration": 13,
    "start_time": "2022-05-14T09:44:41.620Z"
   },
   {
    "duration": 3,
    "start_time": "2022-05-14T09:44:41.634Z"
   },
   {
    "duration": 34,
    "start_time": "2022-05-14T09:44:41.638Z"
   },
   {
    "duration": 9,
    "start_time": "2022-05-14T09:44:41.676Z"
   },
   {
    "duration": 6,
    "start_time": "2022-05-14T09:44:41.687Z"
   },
   {
    "duration": 10,
    "start_time": "2022-05-14T09:44:41.695Z"
   },
   {
    "duration": 202,
    "start_time": "2022-05-14T09:44:41.706Z"
   },
   {
    "duration": 4,
    "start_time": "2022-05-14T09:44:41.910Z"
   },
   {
    "duration": 13,
    "start_time": "2022-05-14T09:44:41.915Z"
   },
   {
    "duration": 7,
    "start_time": "2022-05-14T09:44:41.929Z"
   },
   {
    "duration": 8,
    "start_time": "2022-05-14T09:44:41.937Z"
   },
   {
    "duration": 236,
    "start_time": "2022-05-14T09:44:41.947Z"
   },
   {
    "duration": 358,
    "start_time": "2022-05-14T09:44:42.185Z"
   },
   {
    "duration": 369,
    "start_time": "2022-05-14T09:44:42.545Z"
   },
   {
    "duration": 732,
    "start_time": "2022-05-14T09:44:42.916Z"
   },
   {
    "duration": 769,
    "start_time": "2022-05-14T09:44:43.650Z"
   },
   {
    "duration": 12,
    "start_time": "2022-05-14T09:44:44.420Z"
   },
   {
    "duration": 1342,
    "start_time": "2022-05-14T09:44:44.434Z"
   },
   {
    "duration": 9,
    "start_time": "2022-05-14T09:44:45.778Z"
   },
   {
    "duration": 9,
    "start_time": "2022-05-14T09:44:45.789Z"
   },
   {
    "duration": 8,
    "start_time": "2022-05-14T09:44:45.800Z"
   },
   {
    "duration": 6,
    "start_time": "2022-05-14T09:44:45.809Z"
   },
   {
    "duration": 18,
    "start_time": "2022-05-14T09:44:45.817Z"
   },
   {
    "duration": 176,
    "start_time": "2022-05-14T09:44:45.837Z"
   },
   {
    "duration": 4,
    "start_time": "2022-05-14T09:44:46.018Z"
   },
   {
    "duration": 30,
    "start_time": "2022-05-14T09:44:46.023Z"
   },
   {
    "duration": 22,
    "start_time": "2022-05-14T09:44:46.054Z"
   },
   {
    "duration": 4,
    "start_time": "2022-05-14T09:44:46.078Z"
   },
   {
    "duration": 5,
    "start_time": "2022-05-14T09:44:46.084Z"
   },
   {
    "duration": 5,
    "start_time": "2022-05-14T09:44:46.091Z"
   },
   {
    "duration": 16,
    "start_time": "2022-05-14T09:44:46.097Z"
   },
   {
    "duration": 12,
    "start_time": "2022-05-14T09:44:46.115Z"
   },
   {
    "duration": 52,
    "start_time": "2022-05-14T09:44:46.128Z"
   },
   {
    "duration": 3,
    "start_time": "2022-05-14T09:44:46.182Z"
   },
   {
    "duration": 6,
    "start_time": "2022-05-14T09:44:46.187Z"
   },
   {
    "duration": 8,
    "start_time": "2022-05-14T09:44:46.195Z"
   },
   {
    "duration": 8,
    "start_time": "2022-05-14T09:44:46.205Z"
   },
   {
    "duration": 31,
    "start_time": "2022-05-14T09:44:46.215Z"
   },
   {
    "duration": 21,
    "start_time": "2022-05-14T09:44:46.248Z"
   },
   {
    "duration": 3,
    "start_time": "2022-05-14T09:44:46.274Z"
   },
   {
    "duration": 8205,
    "start_time": "2022-05-14T09:44:46.283Z"
   },
   {
    "duration": 2010,
    "start_time": "2022-05-14T09:44:54.490Z"
   },
   {
    "duration": 2547,
    "start_time": "2022-05-14T09:44:56.502Z"
   },
   {
    "duration": 16,
    "start_time": "2022-05-14T09:44:59.051Z"
   },
   {
    "duration": 710,
    "start_time": "2022-05-14T09:44:59.075Z"
   },
   {
    "duration": 191,
    "start_time": "2022-05-14T09:44:59.787Z"
   },
   {
    "duration": 378,
    "start_time": "2022-05-14T09:44:59.990Z"
   },
   {
    "duration": 16,
    "start_time": "2022-05-14T09:45:00.374Z"
   },
   {
    "duration": 4,
    "start_time": "2022-05-14T09:53:44.931Z"
   },
   {
    "duration": 3,
    "start_time": "2022-05-14T09:54:58.855Z"
   },
   {
    "duration": 18083,
    "start_time": "2022-05-14T10:05:20.256Z"
   },
   {
    "duration": 164057,
    "start_time": "2022-05-14T10:05:54.716Z"
   },
   {
    "duration": 4,
    "start_time": "2022-05-14T10:08:42.947Z"
   },
   {
    "duration": 684,
    "start_time": "2022-05-14T10:08:42.953Z"
   },
   {
    "duration": 31,
    "start_time": "2022-05-14T10:08:43.639Z"
   },
   {
    "duration": 27,
    "start_time": "2022-05-14T10:08:43.674Z"
   },
   {
    "duration": 22,
    "start_time": "2022-05-14T10:08:43.704Z"
   },
   {
    "duration": 18,
    "start_time": "2022-05-14T10:08:43.728Z"
   },
   {
    "duration": 40,
    "start_time": "2022-05-14T10:08:43.747Z"
   },
   {
    "duration": 22,
    "start_time": "2022-05-14T10:08:43.788Z"
   },
   {
    "duration": 13,
    "start_time": "2022-05-14T10:08:43.812Z"
   },
   {
    "duration": 6,
    "start_time": "2022-05-14T10:08:43.827Z"
   },
   {
    "duration": 202,
    "start_time": "2022-05-14T10:08:43.835Z"
   },
   {
    "duration": 270,
    "start_time": "2022-05-14T10:08:44.039Z"
   },
   {
    "duration": 287,
    "start_time": "2022-05-14T10:08:44.310Z"
   },
   {
    "duration": 6,
    "start_time": "2022-05-14T10:08:44.601Z"
   },
   {
    "duration": 7,
    "start_time": "2022-05-14T10:08:44.608Z"
   },
   {
    "duration": 9,
    "start_time": "2022-05-14T10:08:44.617Z"
   },
   {
    "duration": 12,
    "start_time": "2022-05-14T10:08:44.628Z"
   },
   {
    "duration": 26,
    "start_time": "2022-05-14T10:08:44.641Z"
   },
   {
    "duration": 4,
    "start_time": "2022-05-14T10:08:44.670Z"
   },
   {
    "duration": 14,
    "start_time": "2022-05-14T10:08:44.676Z"
   },
   {
    "duration": 6,
    "start_time": "2022-05-14T10:08:44.692Z"
   },
   {
    "duration": 12,
    "start_time": "2022-05-14T10:08:44.700Z"
   },
   {
    "duration": 215,
    "start_time": "2022-05-14T10:08:44.714Z"
   },
   {
    "duration": 4,
    "start_time": "2022-05-14T10:08:44.931Z"
   },
   {
    "duration": 6,
    "start_time": "2022-05-14T10:08:44.936Z"
   },
   {
    "duration": 5,
    "start_time": "2022-05-14T10:08:44.944Z"
   },
   {
    "duration": 4,
    "start_time": "2022-05-14T10:08:44.951Z"
   },
   {
    "duration": 251,
    "start_time": "2022-05-14T10:08:44.969Z"
   },
   {
    "duration": 252,
    "start_time": "2022-05-14T10:08:45.221Z"
   },
   {
    "duration": 242,
    "start_time": "2022-05-14T10:08:45.475Z"
   },
   {
    "duration": 893,
    "start_time": "2022-05-14T10:08:45.719Z"
   },
   {
    "duration": 716,
    "start_time": "2022-05-14T10:08:46.614Z"
   },
   {
    "duration": 11,
    "start_time": "2022-05-14T10:08:47.332Z"
   },
   {
    "duration": 1095,
    "start_time": "2022-05-14T10:08:47.345Z"
   },
   {
    "duration": 9,
    "start_time": "2022-05-14T10:08:48.442Z"
   },
   {
    "duration": 32,
    "start_time": "2022-05-14T10:08:48.452Z"
   },
   {
    "duration": 10,
    "start_time": "2022-05-14T10:08:48.486Z"
   },
   {
    "duration": 6,
    "start_time": "2022-05-14T10:08:48.498Z"
   },
   {
    "duration": 201,
    "start_time": "2022-05-14T10:08:48.505Z"
   },
   {
    "duration": 161,
    "start_time": "2022-05-14T10:08:48.708Z"
   },
   {
    "duration": 7,
    "start_time": "2022-05-14T10:08:48.874Z"
   },
   {
    "duration": 27,
    "start_time": "2022-05-14T10:08:48.883Z"
   },
   {
    "duration": 12,
    "start_time": "2022-05-14T10:08:48.912Z"
   },
   {
    "duration": 3,
    "start_time": "2022-05-14T10:08:48.926Z"
   },
   {
    "duration": 5,
    "start_time": "2022-05-14T10:08:48.931Z"
   },
   {
    "duration": 6,
    "start_time": "2022-05-14T10:08:48.937Z"
   },
   {
    "duration": 37,
    "start_time": "2022-05-14T10:08:48.944Z"
   },
   {
    "duration": 17,
    "start_time": "2022-05-14T10:08:48.983Z"
   },
   {
    "duration": 11,
    "start_time": "2022-05-14T10:08:49.002Z"
   },
   {
    "duration": 3,
    "start_time": "2022-05-14T10:08:49.015Z"
   },
   {
    "duration": 8,
    "start_time": "2022-05-14T10:08:49.020Z"
   },
   {
    "duration": 11,
    "start_time": "2022-05-14T10:08:49.030Z"
   },
   {
    "duration": 35,
    "start_time": "2022-05-14T10:08:49.043Z"
   },
   {
    "duration": 33,
    "start_time": "2022-05-14T10:08:49.079Z"
   },
   {
    "duration": 12,
    "start_time": "2022-05-14T10:08:49.114Z"
   },
   {
    "duration": 2,
    "start_time": "2022-05-14T10:08:49.128Z"
   },
   {
    "duration": 7,
    "start_time": "2022-05-14T10:08:49.132Z"
   },
   {
    "duration": 3,
    "start_time": "2022-05-14T10:08:53.383Z"
   },
   {
    "duration": 450554,
    "start_time": "2022-05-14T10:08:54.143Z"
   },
   {
    "duration": 1263,
    "start_time": "2022-05-14T10:18:37.105Z"
   },
   {
    "duration": 83,
    "start_time": "2022-05-14T10:21:19.395Z"
   },
   {
    "duration": 176,
    "start_time": "2022-05-14T10:21:32.204Z"
   },
   {
    "duration": 10,
    "start_time": "2022-05-14T10:21:45.016Z"
   },
   {
    "duration": 11,
    "start_time": "2022-05-14T10:24:52.403Z"
   },
   {
    "duration": 5,
    "start_time": "2022-05-14T10:25:22.023Z"
   },
   {
    "duration": 24,
    "start_time": "2022-05-14T10:25:29.815Z"
   },
   {
    "duration": 10,
    "start_time": "2022-05-14T10:27:29.568Z"
   },
   {
    "duration": 15,
    "start_time": "2022-05-14T10:29:12.091Z"
   },
   {
    "duration": 9,
    "start_time": "2022-05-14T10:29:40.795Z"
   },
   {
    "duration": 819,
    "start_time": "2022-05-14T10:31:39.951Z"
   },
   {
    "duration": 98,
    "start_time": "2022-05-14T10:31:42.986Z"
   },
   {
    "duration": 150,
    "start_time": "2022-05-14T10:31:44.835Z"
   },
   {
    "duration": 13,
    "start_time": "2022-05-14T10:31:47.995Z"
   },
   {
    "duration": 3,
    "start_time": "2022-05-14T10:36:14.483Z"
   },
   {
    "duration": 38192,
    "start_time": "2022-05-14T10:36:16.680Z"
   },
   {
    "duration": 479172,
    "start_time": "2022-05-14T10:37:48.335Z"
   },
   {
    "duration": 1662,
    "start_time": "2022-05-14T10:46:06.515Z"
   },
   {
    "duration": 7209,
    "start_time": "2022-05-14T10:48:16.738Z"
   },
   {
    "duration": 1130,
    "start_time": "2022-05-14T10:48:53.533Z"
   },
   {
    "duration": 1906,
    "start_time": "2022-05-14T10:49:13.026Z"
   },
   {
    "duration": 11,
    "start_time": "2022-05-14T10:49:51.218Z"
   },
   {
    "duration": 24,
    "start_time": "2022-05-14T10:49:57.626Z"
   },
   {
    "duration": 10,
    "start_time": "2022-05-14T10:49:59.184Z"
   },
   {
    "duration": 10,
    "start_time": "2022-05-14T10:49:59.863Z"
   },
   {
    "duration": 11,
    "start_time": "2022-05-14T10:50:00.959Z"
   },
   {
    "duration": 4414,
    "start_time": "2022-05-14T17:03:11.038Z"
   },
   {
    "duration": 1637,
    "start_time": "2022-05-14T17:03:15.456Z"
   },
   {
    "duration": 93,
    "start_time": "2022-05-14T17:03:17.095Z"
   },
   {
    "duration": 97,
    "start_time": "2022-05-14T17:03:17.191Z"
   },
   {
    "duration": 35,
    "start_time": "2022-05-14T17:03:17.351Z"
   },
   {
    "duration": 83,
    "start_time": "2022-05-14T17:03:17.388Z"
   },
   {
    "duration": 19,
    "start_time": "2022-05-14T17:03:17.473Z"
   },
   {
    "duration": 27,
    "start_time": "2022-05-14T17:03:17.553Z"
   },
   {
    "duration": 80,
    "start_time": "2022-05-14T17:03:17.583Z"
   },
   {
    "duration": 6,
    "start_time": "2022-05-14T17:03:17.669Z"
   },
   {
    "duration": 691,
    "start_time": "2022-05-14T17:03:17.677Z"
   },
   {
    "duration": 894,
    "start_time": "2022-05-14T17:03:18.372Z"
   },
   {
    "duration": 1099,
    "start_time": "2022-05-14T17:03:19.269Z"
   },
   {
    "duration": 10,
    "start_time": "2022-05-14T17:03:20.371Z"
   },
   {
    "duration": 72,
    "start_time": "2022-05-14T17:03:20.383Z"
   },
   {
    "duration": 22,
    "start_time": "2022-05-14T17:03:20.458Z"
   },
   {
    "duration": 78,
    "start_time": "2022-05-14T17:03:20.482Z"
   },
   {
    "duration": 4,
    "start_time": "2022-05-14T17:03:20.563Z"
   },
   {
    "duration": 14,
    "start_time": "2022-05-14T17:03:20.569Z"
   },
   {
    "duration": 75,
    "start_time": "2022-05-14T17:03:20.585Z"
   },
   {
    "duration": 9,
    "start_time": "2022-05-14T17:03:20.662Z"
   },
   {
    "duration": 79,
    "start_time": "2022-05-14T17:03:20.673Z"
   },
   {
    "duration": 616,
    "start_time": "2022-05-14T17:03:20.755Z"
   },
   {
    "duration": 5,
    "start_time": "2022-05-14T17:03:21.373Z"
   },
   {
    "duration": 8,
    "start_time": "2022-05-14T17:03:21.381Z"
   },
   {
    "duration": 64,
    "start_time": "2022-05-14T17:03:21.392Z"
   },
   {
    "duration": 8,
    "start_time": "2022-05-14T17:03:21.458Z"
   },
   {
    "duration": 783,
    "start_time": "2022-05-14T17:03:21.472Z"
   },
   {
    "duration": 738,
    "start_time": "2022-05-14T17:03:22.257Z"
   },
   {
    "duration": 748,
    "start_time": "2022-05-14T17:03:23.052Z"
   },
   {
    "duration": 1837,
    "start_time": "2022-05-14T17:03:23.853Z"
   },
   {
    "duration": 1797,
    "start_time": "2022-05-14T17:03:25.692Z"
   },
   {
    "duration": 71,
    "start_time": "2022-05-14T17:03:27.491Z"
   },
   {
    "duration": 3996,
    "start_time": "2022-05-14T17:03:27.564Z"
   },
   {
    "duration": 13,
    "start_time": "2022-05-14T17:03:31.563Z"
   },
   {
    "duration": 80,
    "start_time": "2022-05-14T17:03:31.578Z"
   },
   {
    "duration": 37,
    "start_time": "2022-05-14T17:03:31.661Z"
   },
   {
    "duration": 55,
    "start_time": "2022-05-14T17:03:31.700Z"
   },
   {
    "duration": 41,
    "start_time": "2022-05-14T17:03:31.757Z"
   },
   {
    "duration": 519,
    "start_time": "2022-05-14T17:03:31.853Z"
   },
   {
    "duration": 7,
    "start_time": "2022-05-14T17:03:32.374Z"
   },
   {
    "duration": 105,
    "start_time": "2022-05-14T17:03:32.383Z"
   },
   {
    "duration": 73,
    "start_time": "2022-05-14T17:03:32.491Z"
   },
   {
    "duration": 19,
    "start_time": "2022-05-14T17:03:32.567Z"
   },
   {
    "duration": 63,
    "start_time": "2022-05-14T17:03:32.589Z"
   },
   {
    "duration": 19,
    "start_time": "2022-05-14T17:03:32.654Z"
   },
   {
    "duration": 21,
    "start_time": "2022-05-14T17:03:32.676Z"
   },
   {
    "duration": 68,
    "start_time": "2022-05-14T17:03:32.700Z"
   },
   {
    "duration": 16,
    "start_time": "2022-05-14T17:03:32.771Z"
   },
   {
    "duration": 63,
    "start_time": "2022-05-14T17:03:32.789Z"
   },
   {
    "duration": 30,
    "start_time": "2022-05-14T17:03:32.855Z"
   },
   {
    "duration": 64,
    "start_time": "2022-05-14T17:03:32.888Z"
   },
   {
    "duration": 26,
    "start_time": "2022-05-14T17:03:32.954Z"
   },
   {
    "duration": 100,
    "start_time": "2022-05-14T17:03:32.983Z"
   },
   {
    "duration": 70,
    "start_time": "2022-05-14T17:03:33.086Z"
   },
   {
    "duration": 4,
    "start_time": "2022-05-14T17:03:33.158Z"
   },
   {
    "duration": 14,
    "start_time": "2022-05-14T17:03:33.164Z"
   },
   {
    "duration": 676836,
    "start_time": "2022-05-14T17:03:33.180Z"
   },
   {
    "duration": 843,
    "start_time": "2022-05-14T17:14:50.019Z"
   },
   {
    "duration": 1334,
    "start_time": "2022-05-14T17:14:50.865Z"
   },
   {
    "duration": 2218,
    "start_time": "2022-05-14T17:14:52.201Z"
   },
   {
    "duration": 10,
    "start_time": "2022-05-14T17:14:54.421Z"
   },
   {
    "duration": 50,
    "start_time": "2022-05-14T17:14:54.434Z"
   },
   {
    "duration": 10,
    "start_time": "2022-05-14T17:14:54.487Z"
   },
   {
    "duration": 12,
    "start_time": "2022-05-14T17:14:54.499Z"
   },
   {
    "duration": 41,
    "start_time": "2022-05-14T17:14:54.513Z"
   },
   {
    "duration": 303,
    "start_time": "2022-05-14T18:59:12.652Z"
   },
   {
    "duration": 105,
    "start_time": "2022-05-14T18:59:31.553Z"
   },
   {
    "duration": 209,
    "start_time": "2022-05-14T19:00:29.553Z"
   },
   {
    "duration": 200,
    "start_time": "2022-05-14T19:01:05.154Z"
   },
   {
    "duration": 1672,
    "start_time": "2022-05-14T19:09:42.782Z"
   },
   {
    "duration": 1460,
    "start_time": "2022-05-14T19:09:51.128Z"
   },
   {
    "duration": 8,
    "start_time": "2022-05-14T19:11:12.068Z"
   },
   {
    "duration": 3229,
    "start_time": "2022-05-15T07:35:19.555Z"
   },
   {
    "duration": 784,
    "start_time": "2022-05-15T07:35:22.787Z"
   },
   {
    "duration": 40,
    "start_time": "2022-05-15T07:35:23.573Z"
   },
   {
    "duration": 75,
    "start_time": "2022-05-15T07:35:23.617Z"
   },
   {
    "duration": 79,
    "start_time": "2022-05-15T07:35:23.694Z"
   },
   {
    "duration": 28,
    "start_time": "2022-05-15T07:35:23.776Z"
   },
   {
    "duration": 19,
    "start_time": "2022-05-15T07:35:23.806Z"
   },
   {
    "duration": 28,
    "start_time": "2022-05-15T07:35:23.856Z"
   },
   {
    "duration": 19,
    "start_time": "2022-05-15T07:35:23.886Z"
   },
   {
    "duration": 6,
    "start_time": "2022-05-15T07:35:23.909Z"
   },
   {
    "duration": 586,
    "start_time": "2022-05-15T07:35:23.956Z"
   },
   {
    "duration": 750,
    "start_time": "2022-05-15T07:35:24.545Z"
   },
   {
    "duration": 530,
    "start_time": "2022-05-15T07:35:25.297Z"
   },
   {
    "duration": 9,
    "start_time": "2022-05-15T07:35:25.829Z"
   },
   {
    "duration": 8,
    "start_time": "2022-05-15T07:35:25.857Z"
   },
   {
    "duration": 15,
    "start_time": "2022-05-15T07:35:25.878Z"
   },
   {
    "duration": 21,
    "start_time": "2022-05-15T07:35:25.896Z"
   },
   {
    "duration": 4,
    "start_time": "2022-05-15T07:35:25.919Z"
   },
   {
    "duration": 32,
    "start_time": "2022-05-15T07:35:25.926Z"
   },
   {
    "duration": 12,
    "start_time": "2022-05-15T07:35:25.960Z"
   },
   {
    "duration": 10,
    "start_time": "2022-05-15T07:35:25.974Z"
   },
   {
    "duration": 15,
    "start_time": "2022-05-15T07:35:25.986Z"
   },
   {
    "duration": 325,
    "start_time": "2022-05-15T07:35:26.003Z"
   },
   {
    "duration": 6,
    "start_time": "2022-05-15T07:35:26.330Z"
   },
   {
    "duration": 19,
    "start_time": "2022-05-15T07:35:26.338Z"
   },
   {
    "duration": 5,
    "start_time": "2022-05-15T07:35:26.359Z"
   },
   {
    "duration": 9,
    "start_time": "2022-05-15T07:35:26.366Z"
   },
   {
    "duration": 392,
    "start_time": "2022-05-15T07:35:26.381Z"
   },
   {
    "duration": 500,
    "start_time": "2022-05-15T07:35:26.775Z"
   },
   {
    "duration": 404,
    "start_time": "2022-05-15T07:35:27.278Z"
   },
   {
    "duration": 1052,
    "start_time": "2022-05-15T07:35:27.685Z"
   },
   {
    "duration": 1049,
    "start_time": "2022-05-15T07:35:28.740Z"
   },
   {
    "duration": 14,
    "start_time": "2022-05-15T07:35:29.792Z"
   },
   {
    "duration": 2321,
    "start_time": "2022-05-15T07:35:29.808Z"
   },
   {
    "duration": 25,
    "start_time": "2022-05-15T07:35:32.131Z"
   },
   {
    "duration": 13,
    "start_time": "2022-05-15T07:35:32.158Z"
   },
   {
    "duration": 12,
    "start_time": "2022-05-15T07:35:32.174Z"
   },
   {
    "duration": 11,
    "start_time": "2022-05-15T07:35:32.188Z"
   },
   {
    "duration": 20,
    "start_time": "2022-05-15T07:35:32.202Z"
   },
   {
    "duration": 255,
    "start_time": "2022-05-15T07:35:32.256Z"
   },
   {
    "duration": 7,
    "start_time": "2022-05-15T07:35:32.514Z"
   },
   {
    "duration": 61,
    "start_time": "2022-05-15T07:35:32.524Z"
   },
   {
    "duration": 21,
    "start_time": "2022-05-15T07:35:32.587Z"
   },
   {
    "duration": 11,
    "start_time": "2022-05-15T07:35:32.611Z"
   },
   {
    "duration": 7,
    "start_time": "2022-05-15T07:35:32.625Z"
   },
   {
    "duration": 11,
    "start_time": "2022-05-15T07:35:32.657Z"
   },
   {
    "duration": 30,
    "start_time": "2022-05-15T07:35:32.671Z"
   },
   {
    "duration": 30,
    "start_time": "2022-05-15T07:35:32.703Z"
   },
   {
    "duration": 27,
    "start_time": "2022-05-15T07:35:32.736Z"
   },
   {
    "duration": 7,
    "start_time": "2022-05-15T07:35:32.765Z"
   },
   {
    "duration": 255,
    "start_time": "2022-05-15T07:35:32.775Z"
   },
   {
    "duration": 0,
    "start_time": "2022-05-15T07:35:33.032Z"
   },
   {
    "duration": 0,
    "start_time": "2022-05-15T07:35:33.033Z"
   },
   {
    "duration": 0,
    "start_time": "2022-05-15T07:35:33.034Z"
   },
   {
    "duration": 0,
    "start_time": "2022-05-15T07:35:33.036Z"
   },
   {
    "duration": 0,
    "start_time": "2022-05-15T07:35:33.037Z"
   },
   {
    "duration": 0,
    "start_time": "2022-05-15T07:35:33.038Z"
   },
   {
    "duration": 0,
    "start_time": "2022-05-15T07:35:33.056Z"
   },
   {
    "duration": 0,
    "start_time": "2022-05-15T07:35:33.058Z"
   },
   {
    "duration": 0,
    "start_time": "2022-05-15T07:35:33.059Z"
   },
   {
    "duration": 0,
    "start_time": "2022-05-15T07:35:33.060Z"
   },
   {
    "duration": 0,
    "start_time": "2022-05-15T07:35:33.061Z"
   },
   {
    "duration": 1,
    "start_time": "2022-05-15T07:35:33.062Z"
   },
   {
    "duration": 0,
    "start_time": "2022-05-15T07:35:33.064Z"
   },
   {
    "duration": 0,
    "start_time": "2022-05-15T07:35:33.065Z"
   },
   {
    "duration": 0,
    "start_time": "2022-05-15T07:35:33.066Z"
   },
   {
    "duration": 6,
    "start_time": "2022-05-15T07:36:02.172Z"
   },
   {
    "duration": 7,
    "start_time": "2022-05-15T07:40:01.754Z"
   },
   {
    "duration": 183,
    "start_time": "2022-05-15T07:41:17.439Z"
   },
   {
    "duration": 8,
    "start_time": "2022-05-15T07:41:28.167Z"
   },
   {
    "duration": 6,
    "start_time": "2022-05-15T07:41:32.165Z"
   },
   {
    "duration": 6,
    "start_time": "2022-05-15T07:43:02.747Z"
   },
   {
    "duration": 4,
    "start_time": "2022-05-15T07:43:11.195Z"
   },
   {
    "duration": 8,
    "start_time": "2022-05-15T07:43:19.572Z"
   },
   {
    "duration": 5,
    "start_time": "2022-05-15T07:43:34.837Z"
   },
   {
    "duration": 19,
    "start_time": "2022-05-15T07:44:00.575Z"
   },
   {
    "duration": 5,
    "start_time": "2022-05-15T07:45:26.771Z"
   },
   {
    "duration": 838,
    "start_time": "2022-05-15T07:45:26.779Z"
   },
   {
    "duration": 46,
    "start_time": "2022-05-15T07:45:27.620Z"
   },
   {
    "duration": 38,
    "start_time": "2022-05-15T07:45:27.668Z"
   },
   {
    "duration": 66,
    "start_time": "2022-05-15T07:45:27.710Z"
   },
   {
    "duration": 27,
    "start_time": "2022-05-15T07:45:27.779Z"
   },
   {
    "duration": 55,
    "start_time": "2022-05-15T07:45:27.808Z"
   },
   {
    "duration": 27,
    "start_time": "2022-05-15T07:45:27.866Z"
   },
   {
    "duration": 18,
    "start_time": "2022-05-15T07:45:27.896Z"
   },
   {
    "duration": 7,
    "start_time": "2022-05-15T07:45:27.917Z"
   },
   {
    "duration": 301,
    "start_time": "2022-05-15T07:45:27.956Z"
   },
   {
    "duration": 454,
    "start_time": "2022-05-15T07:45:28.260Z"
   },
   {
    "duration": 450,
    "start_time": "2022-05-15T07:45:28.716Z"
   },
   {
    "duration": 8,
    "start_time": "2022-05-15T07:45:29.168Z"
   },
   {
    "duration": 11,
    "start_time": "2022-05-15T07:45:29.178Z"
   },
   {
    "duration": 21,
    "start_time": "2022-05-15T07:45:29.191Z"
   },
   {
    "duration": 50,
    "start_time": "2022-05-15T07:45:29.214Z"
   },
   {
    "duration": 5,
    "start_time": "2022-05-15T07:45:29.266Z"
   },
   {
    "duration": 7,
    "start_time": "2022-05-15T07:45:29.274Z"
   },
   {
    "duration": 20,
    "start_time": "2022-05-15T07:45:29.283Z"
   },
   {
    "duration": 7,
    "start_time": "2022-05-15T07:45:29.305Z"
   },
   {
    "duration": 13,
    "start_time": "2022-05-15T07:45:29.314Z"
   },
   {
    "duration": 328,
    "start_time": "2022-05-15T07:45:29.329Z"
   },
   {
    "duration": 5,
    "start_time": "2022-05-15T07:45:29.660Z"
   },
   {
    "duration": 12,
    "start_time": "2022-05-15T07:45:29.668Z"
   },
   {
    "duration": 10,
    "start_time": "2022-05-15T07:45:29.682Z"
   },
   {
    "duration": 12,
    "start_time": "2022-05-15T07:45:29.694Z"
   },
   {
    "duration": 573,
    "start_time": "2022-05-15T07:45:29.708Z"
   },
   {
    "duration": 719,
    "start_time": "2022-05-15T07:45:30.287Z"
   },
   {
    "duration": 412,
    "start_time": "2022-05-15T07:45:31.009Z"
   },
   {
    "duration": 1114,
    "start_time": "2022-05-15T07:45:31.424Z"
   },
   {
    "duration": 1016,
    "start_time": "2022-05-15T07:45:32.540Z"
   },
   {
    "duration": 15,
    "start_time": "2022-05-15T07:45:33.559Z"
   },
   {
    "duration": 1815,
    "start_time": "2022-05-15T07:45:33.576Z"
   },
   {
    "duration": 12,
    "start_time": "2022-05-15T07:45:35.393Z"
   },
   {
    "duration": 14,
    "start_time": "2022-05-15T07:45:35.407Z"
   },
   {
    "duration": 37,
    "start_time": "2022-05-15T07:45:35.423Z"
   },
   {
    "duration": 12,
    "start_time": "2022-05-15T07:45:35.462Z"
   },
   {
    "duration": 186,
    "start_time": "2022-05-15T07:45:35.476Z"
   },
   {
    "duration": 240,
    "start_time": "2022-05-15T07:45:35.665Z"
   },
   {
    "duration": 6,
    "start_time": "2022-05-15T07:45:35.907Z"
   },
   {
    "duration": 58,
    "start_time": "2022-05-15T07:45:35.916Z"
   },
   {
    "duration": 19,
    "start_time": "2022-05-15T07:45:35.976Z"
   },
   {
    "duration": 5,
    "start_time": "2022-05-15T07:45:35.997Z"
   },
   {
    "duration": 8,
    "start_time": "2022-05-15T07:45:36.005Z"
   },
   {
    "duration": 7,
    "start_time": "2022-05-15T07:45:36.015Z"
   },
   {
    "duration": 42,
    "start_time": "2022-05-15T07:45:36.024Z"
   },
   {
    "duration": 19,
    "start_time": "2022-05-15T07:45:36.077Z"
   },
   {
    "duration": 22,
    "start_time": "2022-05-15T07:45:36.099Z"
   },
   {
    "duration": 4,
    "start_time": "2022-05-15T07:45:38.525Z"
   },
   {
    "duration": 4,
    "start_time": "2022-05-15T07:45:39.546Z"
   },
   {
    "duration": 8,
    "start_time": "2022-05-15T07:45:41.074Z"
   },
   {
    "duration": 7,
    "start_time": "2022-05-15T07:45:43.260Z"
   },
   {
    "duration": 5,
    "start_time": "2022-05-15T07:45:47.024Z"
   },
   {
    "duration": 8,
    "start_time": "2022-05-15T07:45:47.494Z"
   },
   {
    "duration": 57,
    "start_time": "2022-05-15T07:45:48.875Z"
   },
   {
    "duration": 16,
    "start_time": "2022-05-15T07:46:07.427Z"
   },
   {
    "duration": 4,
    "start_time": "2022-05-15T07:46:09.705Z"
   },
   {
    "duration": 4,
    "start_time": "2022-05-15T07:46:13.614Z"
   },
   {
    "duration": 11145,
    "start_time": "2022-05-15T07:47:02.516Z"
   },
   {
    "duration": 115,
    "start_time": "2022-05-15T07:47:28.511Z"
   },
   {
    "duration": 2077237,
    "start_time": "2022-05-15T07:48:07.919Z"
   },
   {
    "duration": 2603,
    "start_time": "2022-05-15T12:40:02.844Z"
   },
   {
    "duration": 795,
    "start_time": "2022-05-15T12:40:05.450Z"
   },
   {
    "duration": 49,
    "start_time": "2022-05-15T12:40:06.247Z"
   },
   {
    "duration": 34,
    "start_time": "2022-05-15T12:40:06.299Z"
   },
   {
    "duration": 58,
    "start_time": "2022-05-15T12:40:06.336Z"
   },
   {
    "duration": 25,
    "start_time": "2022-05-15T12:40:06.397Z"
   },
   {
    "duration": 18,
    "start_time": "2022-05-15T12:40:06.425Z"
   },
   {
    "duration": 60,
    "start_time": "2022-05-15T12:40:06.446Z"
   },
   {
    "duration": 20,
    "start_time": "2022-05-15T12:40:06.508Z"
   },
   {
    "duration": 6,
    "start_time": "2022-05-15T12:40:06.532Z"
   },
   {
    "duration": 321,
    "start_time": "2022-05-15T12:40:06.540Z"
   },
   {
    "duration": 454,
    "start_time": "2022-05-15T12:40:06.863Z"
   },
   {
    "duration": 531,
    "start_time": "2022-05-15T12:40:07.319Z"
   },
   {
    "duration": 9,
    "start_time": "2022-05-15T12:40:07.853Z"
   },
   {
    "duration": 29,
    "start_time": "2022-05-15T12:40:07.864Z"
   },
   {
    "duration": 15,
    "start_time": "2022-05-15T12:40:07.895Z"
   },
   {
    "duration": 21,
    "start_time": "2022-05-15T12:40:07.913Z"
   },
   {
    "duration": 5,
    "start_time": "2022-05-15T12:40:07.936Z"
   },
   {
    "duration": 51,
    "start_time": "2022-05-15T12:40:07.943Z"
   },
   {
    "duration": 16,
    "start_time": "2022-05-15T12:40:07.996Z"
   },
   {
    "duration": 8,
    "start_time": "2022-05-15T12:40:08.015Z"
   },
   {
    "duration": 14,
    "start_time": "2022-05-15T12:40:08.026Z"
   },
   {
    "duration": 339,
    "start_time": "2022-05-15T12:40:08.042Z"
   },
   {
    "duration": 11,
    "start_time": "2022-05-15T12:40:08.383Z"
   },
   {
    "duration": 10,
    "start_time": "2022-05-15T12:40:08.396Z"
   },
   {
    "duration": 11,
    "start_time": "2022-05-15T12:40:08.408Z"
   },
   {
    "duration": 12,
    "start_time": "2022-05-15T12:40:08.421Z"
   },
   {
    "duration": 392,
    "start_time": "2022-05-15T12:40:08.439Z"
   },
   {
    "duration": 389,
    "start_time": "2022-05-15T12:40:08.834Z"
   },
   {
    "duration": 406,
    "start_time": "2022-05-15T12:40:09.226Z"
   },
   {
    "duration": 1064,
    "start_time": "2022-05-15T12:40:09.634Z"
   },
   {
    "duration": 984,
    "start_time": "2022-05-15T12:40:10.700Z"
   },
   {
    "duration": 17,
    "start_time": "2022-05-15T12:40:11.686Z"
   },
   {
    "duration": 1940,
    "start_time": "2022-05-15T12:40:11.706Z"
   },
   {
    "duration": 17,
    "start_time": "2022-05-15T12:40:13.649Z"
   },
   {
    "duration": 32,
    "start_time": "2022-05-15T12:40:13.669Z"
   },
   {
    "duration": 14,
    "start_time": "2022-05-15T12:40:13.703Z"
   },
   {
    "duration": 10,
    "start_time": "2022-05-15T12:40:13.719Z"
   },
   {
    "duration": 18,
    "start_time": "2022-05-15T12:40:13.731Z"
   },
   {
    "duration": 290,
    "start_time": "2022-05-15T12:40:13.751Z"
   },
   {
    "duration": 8,
    "start_time": "2022-05-15T12:40:14.043Z"
   },
   {
    "duration": 66,
    "start_time": "2022-05-15T12:40:14.054Z"
   },
   {
    "duration": 17,
    "start_time": "2022-05-15T12:40:14.122Z"
   },
   {
    "duration": 5,
    "start_time": "2022-05-15T12:40:14.141Z"
   },
   {
    "duration": 7,
    "start_time": "2022-05-15T12:40:14.148Z"
   },
   {
    "duration": 34,
    "start_time": "2022-05-15T12:40:14.159Z"
   },
   {
    "duration": 12,
    "start_time": "2022-05-15T12:40:14.195Z"
   },
   {
    "duration": 22,
    "start_time": "2022-05-15T12:40:14.209Z"
   },
   {
    "duration": 14,
    "start_time": "2022-05-15T12:40:14.233Z"
   },
   {
    "duration": 4,
    "start_time": "2022-05-15T12:40:14.292Z"
   },
   {
    "duration": 9,
    "start_time": "2022-05-15T12:40:14.299Z"
   },
   {
    "duration": 10,
    "start_time": "2022-05-15T12:40:14.310Z"
   },
   {
    "duration": 13,
    "start_time": "2022-05-15T12:40:14.322Z"
   },
   {
    "duration": 8,
    "start_time": "2022-05-15T12:40:14.338Z"
   },
   {
    "duration": 47,
    "start_time": "2022-05-15T12:40:14.348Z"
   },
   {
    "duration": 43,
    "start_time": "2022-05-15T12:40:14.397Z"
   },
   {
    "duration": 16,
    "start_time": "2022-05-15T12:40:14.442Z"
   },
   {
    "duration": 3,
    "start_time": "2022-05-15T12:40:14.461Z"
   },
   {
    "duration": 4,
    "start_time": "2022-05-15T12:40:14.494Z"
   },
   {
    "duration": 4,
    "start_time": "2022-05-15T12:40:19.161Z"
   },
   {
    "duration": 2762363,
    "start_time": "2022-05-15T12:40:20.707Z"
   },
   {
    "duration": 901,
    "start_time": "2022-05-15T13:31:06.094Z"
   },
   {
    "duration": 1515,
    "start_time": "2022-05-15T13:31:35.360Z"
   },
   {
    "duration": 1867,
    "start_time": "2022-05-15T13:31:40.087Z"
   },
   {
    "duration": 11,
    "start_time": "2022-05-15T13:31:46.096Z"
   },
   {
    "duration": 33,
    "start_time": "2022-05-15T13:31:49.151Z"
   },
   {
    "duration": 14,
    "start_time": "2022-05-15T13:31:51.248Z"
   },
   {
    "duration": 12,
    "start_time": "2022-05-15T13:31:52.169Z"
   },
   {
    "duration": 11,
    "start_time": "2022-05-15T13:31:53.392Z"
   },
   {
    "duration": 1950,
    "start_time": "2022-05-15T13:33:28.620Z"
   },
   {
    "duration": 2655,
    "start_time": "2022-05-15T13:33:39.629Z"
   },
   {
    "duration": 2682,
    "start_time": "2022-05-15T13:34:25.639Z"
   },
   {
    "duration": 3439,
    "start_time": "2022-05-15T13:34:32.292Z"
   },
   {
    "duration": 11,
    "start_time": "2022-05-15T13:34:43.930Z"
   },
   {
    "duration": 33,
    "start_time": "2022-05-15T13:34:50.047Z"
   },
   {
    "duration": 12,
    "start_time": "2022-05-15T13:34:51.464Z"
   },
   {
    "duration": 1453,
    "start_time": "2022-05-15T13:35:03.630Z"
   },
   {
    "duration": 1970,
    "start_time": "2022-05-15T13:35:08.654Z"
   },
   {
    "duration": 10,
    "start_time": "2022-05-15T13:35:12.894Z"
   },
   {
    "duration": 31,
    "start_time": "2022-05-15T13:35:16.063Z"
   },
   {
    "duration": 11,
    "start_time": "2022-05-15T13:35:18.489Z"
   },
   {
    "duration": 10,
    "start_time": "2022-05-15T13:35:19.414Z"
   },
   {
    "duration": 11,
    "start_time": "2022-05-15T13:35:20.513Z"
   },
   {
    "duration": 1486,
    "start_time": "2022-05-15T13:49:12.108Z"
   },
   {
    "duration": 1969,
    "start_time": "2022-05-15T13:49:15.825Z"
   },
   {
    "duration": 10,
    "start_time": "2022-05-15T13:49:20.823Z"
   },
   {
    "duration": 2738848,
    "start_time": "2022-05-15T13:55:20.277Z"
   },
   {
    "duration": 2121,
    "start_time": "2022-05-15T16:43:06.577Z"
   },
   {
    "duration": 2304,
    "start_time": "2022-05-15T16:43:10.466Z"
   },
   {
    "duration": 10,
    "start_time": "2022-05-15T16:43:15.168Z"
   },
   {
    "duration": 39,
    "start_time": "2022-05-15T16:43:16.682Z"
   },
   {
    "duration": 16,
    "start_time": "2022-05-15T16:43:17.607Z"
   },
   {
    "duration": 12,
    "start_time": "2022-05-15T16:43:17.882Z"
   },
   {
    "duration": 10,
    "start_time": "2022-05-15T16:43:18.181Z"
   },
   {
    "duration": 183169,
    "start_time": "2022-05-15T16:44:28.234Z"
   },
   {
    "duration": 379553,
    "start_time": "2022-05-15T16:55:47.376Z"
   },
   {
    "duration": 224,
    "start_time": "2022-05-15T17:08:20.971Z"
   },
   {
    "duration": 90,
    "start_time": "2022-05-15T17:08:53.437Z"
   },
   {
    "duration": 15,
    "start_time": "2022-05-15T17:09:07.121Z"
   },
   {
    "duration": 162,
    "start_time": "2022-05-15T17:10:59.832Z"
   },
   {
    "duration": 313,
    "start_time": "2022-05-15T17:11:06.235Z"
   },
   {
    "duration": 6,
    "start_time": "2022-05-15T17:11:31.526Z"
   },
   {
    "duration": 5,
    "start_time": "2022-05-15T17:11:50.558Z"
   },
   {
    "duration": 187,
    "start_time": "2022-05-16T12:57:00.741Z"
   },
   {
    "duration": 4848,
    "start_time": "2022-05-16T12:57:06.663Z"
   },
   {
    "duration": 1388,
    "start_time": "2022-05-16T12:57:14.439Z"
   },
   {
    "duration": 87,
    "start_time": "2022-05-16T12:57:18.490Z"
   },
   {
    "duration": 66,
    "start_time": "2022-05-16T12:57:19.274Z"
   },
   {
    "duration": 64,
    "start_time": "2022-05-16T12:57:19.927Z"
   },
   {
    "duration": 62,
    "start_time": "2022-05-16T12:57:22.714Z"
   },
   {
    "duration": 35,
    "start_time": "2022-05-16T12:57:23.483Z"
   },
   {
    "duration": 37,
    "start_time": "2022-05-16T12:57:26.991Z"
   },
   {
    "duration": 21,
    "start_time": "2022-05-16T12:57:29.602Z"
   },
   {
    "duration": 7,
    "start_time": "2022-05-16T12:57:31.837Z"
   },
   {
    "duration": 519,
    "start_time": "2022-05-16T12:57:33.397Z"
   },
   {
    "duration": 758,
    "start_time": "2022-05-16T12:57:34.836Z"
   },
   {
    "duration": 937,
    "start_time": "2022-05-16T12:57:35.609Z"
   },
   {
    "duration": 19,
    "start_time": "2022-05-16T12:57:41.292Z"
   },
   {
    "duration": 19,
    "start_time": "2022-05-16T12:57:44.640Z"
   },
   {
    "duration": 17,
    "start_time": "2022-05-16T12:57:46.225Z"
   },
   {
    "duration": 44,
    "start_time": "2022-05-16T12:57:47.066Z"
   },
   {
    "duration": 9,
    "start_time": "2022-05-16T12:57:47.418Z"
   },
   {
    "duration": 9,
    "start_time": "2022-05-16T12:57:48.667Z"
   },
   {
    "duration": 26,
    "start_time": "2022-05-16T12:57:49.246Z"
   },
   {
    "duration": 28,
    "start_time": "2022-05-16T12:57:52.141Z"
   },
   {
    "duration": 55,
    "start_time": "2022-05-16T12:57:52.176Z"
   },
   {
    "duration": 391,
    "start_time": "2022-05-16T12:57:55.010Z"
   },
   {
    "duration": 7,
    "start_time": "2022-05-16T12:57:59.184Z"
   },
   {
    "duration": 6,
    "start_time": "2022-05-16T12:57:59.935Z"
   },
   {
    "duration": 16,
    "start_time": "2022-05-16T12:58:00.595Z"
   },
   {
    "duration": 6,
    "start_time": "2022-05-16T12:58:01.320Z"
   },
   {
    "duration": 588,
    "start_time": "2022-05-16T12:58:01.972Z"
   },
   {
    "duration": 556,
    "start_time": "2022-05-16T12:58:02.873Z"
   },
   {
    "duration": 789,
    "start_time": "2022-05-16T12:58:03.818Z"
   },
   {
    "duration": 1618,
    "start_time": "2022-05-16T12:58:07.306Z"
   },
   {
    "duration": 1522,
    "start_time": "2022-05-16T12:58:09.112Z"
   },
   {
    "duration": 17,
    "start_time": "2022-05-16T12:58:15.820Z"
   },
   {
    "duration": 2672,
    "start_time": "2022-05-16T12:58:16.712Z"
   },
   {
    "duration": 24,
    "start_time": "2022-05-16T12:58:23.371Z"
   },
   {
    "duration": 20,
    "start_time": "2022-05-16T12:58:25.709Z"
   },
   {
    "duration": 14,
    "start_time": "2022-05-16T12:58:26.995Z"
   },
   {
    "duration": 21,
    "start_time": "2022-05-16T12:58:27.482Z"
   },
   {
    "duration": 61,
    "start_time": "2022-05-16T12:58:27.938Z"
   },
   {
    "duration": 373,
    "start_time": "2022-05-16T12:58:29.705Z"
   },
   {
    "duration": 12,
    "start_time": "2022-05-16T12:58:31.739Z"
   },
   {
    "duration": 52,
    "start_time": "2022-05-16T12:58:32.972Z"
   },
   {
    "duration": 19,
    "start_time": "2022-05-16T12:58:34.603Z"
   },
   {
    "duration": 6,
    "start_time": "2022-05-16T12:58:37.095Z"
   },
   {
    "duration": 6,
    "start_time": "2022-05-16T12:58:42.987Z"
   },
   {
    "duration": 4,
    "start_time": "2022-05-16T12:58:44.000Z"
   },
   {
    "duration": 11,
    "start_time": "2022-05-16T12:58:46.818Z"
   },
   {
    "duration": 24,
    "start_time": "2022-05-16T12:58:49.115Z"
   },
   {
    "duration": 32,
    "start_time": "2022-05-16T12:58:51.467Z"
   },
   {
    "duration": 10,
    "start_time": "2022-05-16T12:58:55.642Z"
   },
   {
    "duration": 10,
    "start_time": "2022-05-16T12:58:56.746Z"
   },
   {
    "duration": 8,
    "start_time": "2022-05-16T12:58:57.592Z"
   },
   {
    "duration": 17,
    "start_time": "2022-05-16T12:59:00.585Z"
   },
   {
    "duration": 6,
    "start_time": "2022-05-16T12:59:02.167Z"
   },
   {
    "duration": 13,
    "start_time": "2022-05-16T12:59:02.675Z"
   },
   {
    "duration": 77,
    "start_time": "2022-05-16T12:59:04.611Z"
   },
   {
    "duration": 19,
    "start_time": "2022-05-16T12:59:07.414Z"
   },
   {
    "duration": 5,
    "start_time": "2022-05-16T12:59:09.971Z"
   },
   {
    "duration": 4,
    "start_time": "2022-05-16T12:59:13.102Z"
   },
   {
    "duration": 1238,
    "start_time": "2022-05-16T12:59:25.606Z"
   },
   {
    "duration": 2109,
    "start_time": "2022-05-16T12:59:28.803Z"
   },
   {
    "duration": 3008,
    "start_time": "2022-05-16T12:59:33.005Z"
   },
   {
    "duration": 185,
    "start_time": "2022-05-16T12:59:38.036Z"
   },
   {
    "duration": 2234,
    "start_time": "2022-05-16T13:01:00.583Z"
   },
   {
    "duration": 2768,
    "start_time": "2022-05-16T13:01:03.971Z"
   },
   {
    "duration": 21,
    "start_time": "2022-05-16T13:01:07.638Z"
   },
   {
    "duration": 58,
    "start_time": "2022-05-16T13:01:12.515Z"
   },
   {
    "duration": 30,
    "start_time": "2022-05-16T13:01:13.862Z"
   },
   {
    "duration": 14,
    "start_time": "2022-05-16T13:01:14.803Z"
   },
   {
    "duration": 7,
    "start_time": "2022-05-16T13:01:19.868Z"
   },
   {
    "duration": 1683,
    "start_time": "2022-05-17T10:13:59.461Z"
   },
   {
    "duration": 644,
    "start_time": "2022-05-17T10:14:01.145Z"
   },
   {
    "duration": 25,
    "start_time": "2022-05-17T10:14:01.790Z"
   },
   {
    "duration": 22,
    "start_time": "2022-05-17T10:14:01.817Z"
   },
   {
    "duration": 36,
    "start_time": "2022-05-17T10:14:01.841Z"
   },
   {
    "duration": 18,
    "start_time": "2022-05-17T10:14:01.878Z"
   },
   {
    "duration": 22,
    "start_time": "2022-05-17T10:14:01.897Z"
   },
   {
    "duration": 24,
    "start_time": "2022-05-17T10:14:01.921Z"
   },
   {
    "duration": 16,
    "start_time": "2022-05-17T10:14:01.946Z"
   },
   {
    "duration": 8,
    "start_time": "2022-05-17T10:14:01.964Z"
   },
   {
    "duration": 174,
    "start_time": "2022-05-17T10:14:01.974Z"
   },
   {
    "duration": 247,
    "start_time": "2022-05-17T10:14:02.150Z"
   },
   {
    "duration": 324,
    "start_time": "2022-05-17T10:14:02.399Z"
   },
   {
    "duration": 7,
    "start_time": "2022-05-17T10:14:02.726Z"
   },
   {
    "duration": 13,
    "start_time": "2022-05-17T10:14:02.734Z"
   },
   {
    "duration": 24,
    "start_time": "2022-05-17T10:14:02.748Z"
   },
   {
    "duration": 30,
    "start_time": "2022-05-17T10:14:02.773Z"
   },
   {
    "duration": 7,
    "start_time": "2022-05-17T10:14:02.804Z"
   },
   {
    "duration": 9,
    "start_time": "2022-05-17T10:14:02.812Z"
   },
   {
    "duration": 11,
    "start_time": "2022-05-17T10:14:02.822Z"
   },
   {
    "duration": 12,
    "start_time": "2022-05-17T10:14:02.834Z"
   },
   {
    "duration": 12,
    "start_time": "2022-05-17T10:14:02.847Z"
   },
   {
    "duration": 170,
    "start_time": "2022-05-17T10:14:02.861Z"
   },
   {
    "duration": 4,
    "start_time": "2022-05-17T10:14:03.032Z"
   },
   {
    "duration": 9,
    "start_time": "2022-05-17T10:14:03.038Z"
   },
   {
    "duration": 18,
    "start_time": "2022-05-17T10:14:03.049Z"
   },
   {
    "duration": 12,
    "start_time": "2022-05-17T10:14:03.068Z"
   },
   {
    "duration": 210,
    "start_time": "2022-05-17T10:14:03.081Z"
   },
   {
    "duration": 219,
    "start_time": "2022-05-17T10:14:03.293Z"
   },
   {
    "duration": 224,
    "start_time": "2022-05-17T10:14:03.514Z"
   },
   {
    "duration": 690,
    "start_time": "2022-05-17T10:14:03.740Z"
   },
   {
    "duration": 737,
    "start_time": "2022-05-17T10:14:04.432Z"
   },
   {
    "duration": 9,
    "start_time": "2022-05-17T10:14:05.171Z"
   },
   {
    "duration": 1071,
    "start_time": "2022-05-17T10:14:05.181Z"
   },
   {
    "duration": 15,
    "start_time": "2022-05-17T10:14:06.254Z"
   },
   {
    "duration": 28,
    "start_time": "2022-05-17T10:14:06.271Z"
   },
   {
    "duration": 14,
    "start_time": "2022-05-17T10:14:06.301Z"
   },
   {
    "duration": 14,
    "start_time": "2022-05-17T10:14:06.316Z"
   },
   {
    "duration": 11,
    "start_time": "2022-05-17T10:14:06.332Z"
   },
   {
    "duration": 131,
    "start_time": "2022-05-17T10:14:06.344Z"
   },
   {
    "duration": 4,
    "start_time": "2022-05-17T10:14:06.480Z"
   },
   {
    "duration": 31,
    "start_time": "2022-05-17T10:14:06.485Z"
   },
   {
    "duration": 11,
    "start_time": "2022-05-17T10:14:06.517Z"
   },
   {
    "duration": 4,
    "start_time": "2022-05-17T10:14:06.529Z"
   },
   {
    "duration": 4,
    "start_time": "2022-05-17T10:14:06.534Z"
   },
   {
    "duration": 24,
    "start_time": "2022-05-17T10:14:06.540Z"
   },
   {
    "duration": 11,
    "start_time": "2022-05-17T10:14:06.566Z"
   },
   {
    "duration": 15,
    "start_time": "2022-05-17T10:14:06.579Z"
   },
   {
    "duration": 12,
    "start_time": "2022-05-17T10:14:06.596Z"
   },
   {
    "duration": 3,
    "start_time": "2022-05-17T10:14:06.610Z"
   },
   {
    "duration": 8,
    "start_time": "2022-05-17T10:14:06.615Z"
   },
   {
    "duration": 42,
    "start_time": "2022-05-17T10:14:06.625Z"
   },
   {
    "duration": 8,
    "start_time": "2022-05-17T10:14:06.668Z"
   },
   {
    "duration": 10,
    "start_time": "2022-05-17T10:14:06.679Z"
   },
   {
    "duration": 7,
    "start_time": "2022-05-17T10:14:06.690Z"
   },
   {
    "duration": 36,
    "start_time": "2022-05-17T10:14:06.699Z"
   },
   {
    "duration": 27,
    "start_time": "2022-05-17T10:14:06.737Z"
   },
   {
    "duration": 2,
    "start_time": "2022-05-17T10:14:06.766Z"
   },
   {
    "duration": 6,
    "start_time": "2022-05-17T10:14:06.770Z"
   },
   {
    "duration": 244314,
    "start_time": "2022-05-17T10:14:06.778Z"
   },
   {
    "duration": 573,
    "start_time": "2022-05-17T10:18:11.093Z"
   },
   {
    "duration": 1217,
    "start_time": "2022-05-17T10:18:11.668Z"
   },
   {
    "duration": 1755,
    "start_time": "2022-05-17T10:18:12.887Z"
   },
   {
    "duration": 4,
    "start_time": "2022-05-17T10:18:14.643Z"
   },
   {
    "duration": 21,
    "start_time": "2022-05-17T10:18:14.664Z"
   },
   {
    "duration": 6,
    "start_time": "2022-05-17T10:18:14.687Z"
   },
   {
    "duration": 21,
    "start_time": "2022-05-17T10:18:14.695Z"
   },
   {
    "duration": 14,
    "start_time": "2022-05-17T10:18:14.717Z"
   },
   {
    "duration": 10,
    "start_time": "2022-05-17T11:16:15.629Z"
   }
  ],
  "kernelspec": {
   "display_name": "Python 3 (ipykernel)",
   "language": "python",
   "name": "python3"
  },
  "language_info": {
   "codemirror_mode": {
    "name": "ipython",
    "version": 3
   },
   "file_extension": ".py",
   "mimetype": "text/x-python",
   "name": "python",
   "nbconvert_exporter": "python",
   "pygments_lexer": "ipython3",
   "version": "3.9.12"
  },
  "toc": {
   "base_numbering": 1,
   "nav_menu": {},
   "number_sections": true,
   "sideBar": true,
   "skip_h1_title": true,
   "title_cell": "Содержание",
   "title_sidebar": "Contents",
   "toc_cell": true,
   "toc_position": {
    "height": "calc(100% - 180px)",
    "left": "10px",
    "top": "150px",
    "width": "262.305px"
   },
   "toc_section_display": true,
   "toc_window_display": true
  }
 },
 "nbformat": 4,
 "nbformat_minor": 2
}
