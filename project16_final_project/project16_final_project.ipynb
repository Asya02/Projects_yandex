{
 "cells": [
  {
   "cell_type": "markdown",
   "metadata": {},
   "source": [
    "# Прогнозирование оттока клиентов телеком"
   ]
  },
  {
   "cell_type": "markdown",
   "metadata": {},
   "source": [
    "Оператор связи «Ниединогоразрыва.ком» хочет научиться прогнозировать отток клиентов. Если выяснится, что пользователь планирует уйти, ему будут предложены промокоды и специальные условия. "
   ]
  },
  {
   "cell_type": "markdown",
   "metadata": {
    "id": "Pg9hgpjGxmfr"
   },
   "source": [
    "**Задача** - спрогнозировать отток клиентов. Построить модель со значением ROC-AUC не ниже 0.88"
   ]
  },
  {
   "cell_type": "markdown",
   "metadata": {
    "id": "zbUR5Kiyeqac"
   },
   "source": [
    "## Импорты"
   ]
  },
  {
   "cell_type": "code",
   "execution_count": 1,
   "metadata": {
    "id": "uLJ3iT0kQM8l"
   },
   "outputs": [],
   "source": [
    "import pandas as pd\n",
    "import numpy as np\n",
    "import seaborn as sns\n",
    "import matplotlib.pyplot as plt\n",
    "\n",
    "from sklearn.model_selection import train_test_split, GridSearchCV\n",
    "from sklearn.metrics import roc_auc_score, accuracy_score, roc_curve\n",
    "from sklearn.preprocessing import StandardScaler\n",
    "from sklearn.ensemble import RandomForestClassifier\n",
    "from catboost import CatBoostClassifier\n",
    "from lightgbm import LGBMClassifier\n",
    "\n",
    "import numpy as np\n",
    "from sklearn.utils.class_weight import compute_class_weight"
   ]
  },
  {
   "cell_type": "markdown",
   "metadata": {
    "id": "u9Idplhbet4q"
   },
   "source": [
    "## Загрузка и первичный просмотр данных "
   ]
  },
  {
   "cell_type": "code",
   "execution_count": 2,
   "metadata": {
    "id": "pDM9EA9jZoHm"
   },
   "outputs": [],
   "source": [
    "contract = pd.read_csv('/datasets/final_provider/contract.csv')"
   ]
  },
  {
   "cell_type": "code",
   "execution_count": 3,
   "metadata": {
    "id": "Bd5oeafucG_J"
   },
   "outputs": [],
   "source": [
    "internet = pd.read_csv('/datasets/final_provider/internet.csv')"
   ]
  },
  {
   "cell_type": "code",
   "execution_count": 4,
   "metadata": {
    "id": "0Ty7wUrjcMk5"
   },
   "outputs": [],
   "source": [
    "personal = pd.read_csv('/datasets/final_provider/personal.csv')"
   ]
  },
  {
   "cell_type": "code",
   "execution_count": 5,
   "metadata": {
    "id": "GbLqh7h4cSJy"
   },
   "outputs": [],
   "source": [
    "phone = pd.read_csv('/datasets/final_provider/phone.csv')"
   ]
  },
  {
   "cell_type": "code",
   "execution_count": 6,
   "metadata": {
    "colab": {
     "base_uri": "https://localhost:8080/",
     "height": 363
    },
    "id": "7mL5ODIIepBA",
    "outputId": "2b7f9112-dd20-4061-854d-1e63e0a66267"
   },
   "outputs": [
    {
     "data": {
      "text/html": [
       "<div>\n",
       "<style scoped>\n",
       "    .dataframe tbody tr th:only-of-type {\n",
       "        vertical-align: middle;\n",
       "    }\n",
       "\n",
       "    .dataframe tbody tr th {\n",
       "        vertical-align: top;\n",
       "    }\n",
       "\n",
       "    .dataframe thead th {\n",
       "        text-align: right;\n",
       "    }\n",
       "</style>\n",
       "<table border=\"1\" class=\"dataframe\">\n",
       "  <thead>\n",
       "    <tr style=\"text-align: right;\">\n",
       "      <th></th>\n",
       "      <th>customerID</th>\n",
       "      <th>BeginDate</th>\n",
       "      <th>EndDate</th>\n",
       "      <th>Type</th>\n",
       "      <th>PaperlessBilling</th>\n",
       "      <th>PaymentMethod</th>\n",
       "      <th>MonthlyCharges</th>\n",
       "      <th>TotalCharges</th>\n",
       "    </tr>\n",
       "  </thead>\n",
       "  <tbody>\n",
       "    <tr>\n",
       "      <th>0</th>\n",
       "      <td>7590-VHVEG</td>\n",
       "      <td>2020-01-01</td>\n",
       "      <td>No</td>\n",
       "      <td>Month-to-month</td>\n",
       "      <td>Yes</td>\n",
       "      <td>Electronic check</td>\n",
       "      <td>29.85</td>\n",
       "      <td>29.85</td>\n",
       "    </tr>\n",
       "    <tr>\n",
       "      <th>1</th>\n",
       "      <td>5575-GNVDE</td>\n",
       "      <td>2017-04-01</td>\n",
       "      <td>No</td>\n",
       "      <td>One year</td>\n",
       "      <td>No</td>\n",
       "      <td>Mailed check</td>\n",
       "      <td>56.95</td>\n",
       "      <td>1889.5</td>\n",
       "    </tr>\n",
       "    <tr>\n",
       "      <th>2</th>\n",
       "      <td>3668-QPYBK</td>\n",
       "      <td>2019-10-01</td>\n",
       "      <td>2019-12-01 00:00:00</td>\n",
       "      <td>Month-to-month</td>\n",
       "      <td>Yes</td>\n",
       "      <td>Mailed check</td>\n",
       "      <td>53.85</td>\n",
       "      <td>108.15</td>\n",
       "    </tr>\n",
       "    <tr>\n",
       "      <th>3</th>\n",
       "      <td>7795-CFOCW</td>\n",
       "      <td>2016-05-01</td>\n",
       "      <td>No</td>\n",
       "      <td>One year</td>\n",
       "      <td>No</td>\n",
       "      <td>Bank transfer (automatic)</td>\n",
       "      <td>42.30</td>\n",
       "      <td>1840.75</td>\n",
       "    </tr>\n",
       "    <tr>\n",
       "      <th>4</th>\n",
       "      <td>9237-HQITU</td>\n",
       "      <td>2019-09-01</td>\n",
       "      <td>2019-11-01 00:00:00</td>\n",
       "      <td>Month-to-month</td>\n",
       "      <td>Yes</td>\n",
       "      <td>Electronic check</td>\n",
       "      <td>70.70</td>\n",
       "      <td>151.65</td>\n",
       "    </tr>\n",
       "    <tr>\n",
       "      <th>5</th>\n",
       "      <td>9305-CDSKC</td>\n",
       "      <td>2019-03-01</td>\n",
       "      <td>2019-11-01 00:00:00</td>\n",
       "      <td>Month-to-month</td>\n",
       "      <td>Yes</td>\n",
       "      <td>Electronic check</td>\n",
       "      <td>99.65</td>\n",
       "      <td>820.5</td>\n",
       "    </tr>\n",
       "    <tr>\n",
       "      <th>6</th>\n",
       "      <td>1452-KIOVK</td>\n",
       "      <td>2018-04-01</td>\n",
       "      <td>No</td>\n",
       "      <td>Month-to-month</td>\n",
       "      <td>Yes</td>\n",
       "      <td>Credit card (automatic)</td>\n",
       "      <td>89.10</td>\n",
       "      <td>1949.4</td>\n",
       "    </tr>\n",
       "    <tr>\n",
       "      <th>7</th>\n",
       "      <td>6713-OKOMC</td>\n",
       "      <td>2019-04-01</td>\n",
       "      <td>No</td>\n",
       "      <td>Month-to-month</td>\n",
       "      <td>No</td>\n",
       "      <td>Mailed check</td>\n",
       "      <td>29.75</td>\n",
       "      <td>301.9</td>\n",
       "    </tr>\n",
       "    <tr>\n",
       "      <th>8</th>\n",
       "      <td>7892-POOKP</td>\n",
       "      <td>2017-07-01</td>\n",
       "      <td>2019-11-01 00:00:00</td>\n",
       "      <td>Month-to-month</td>\n",
       "      <td>Yes</td>\n",
       "      <td>Electronic check</td>\n",
       "      <td>104.80</td>\n",
       "      <td>3046.05</td>\n",
       "    </tr>\n",
       "    <tr>\n",
       "      <th>9</th>\n",
       "      <td>6388-TABGU</td>\n",
       "      <td>2014-12-01</td>\n",
       "      <td>No</td>\n",
       "      <td>One year</td>\n",
       "      <td>No</td>\n",
       "      <td>Bank transfer (automatic)</td>\n",
       "      <td>56.15</td>\n",
       "      <td>3487.95</td>\n",
       "    </tr>\n",
       "  </tbody>\n",
       "</table>\n",
       "</div>"
      ],
      "text/plain": [
       "   customerID   BeginDate              EndDate            Type  \\\n",
       "0  7590-VHVEG  2020-01-01                   No  Month-to-month   \n",
       "1  5575-GNVDE  2017-04-01                   No        One year   \n",
       "2  3668-QPYBK  2019-10-01  2019-12-01 00:00:00  Month-to-month   \n",
       "3  7795-CFOCW  2016-05-01                   No        One year   \n",
       "4  9237-HQITU  2019-09-01  2019-11-01 00:00:00  Month-to-month   \n",
       "5  9305-CDSKC  2019-03-01  2019-11-01 00:00:00  Month-to-month   \n",
       "6  1452-KIOVK  2018-04-01                   No  Month-to-month   \n",
       "7  6713-OKOMC  2019-04-01                   No  Month-to-month   \n",
       "8  7892-POOKP  2017-07-01  2019-11-01 00:00:00  Month-to-month   \n",
       "9  6388-TABGU  2014-12-01                   No        One year   \n",
       "\n",
       "  PaperlessBilling              PaymentMethod  MonthlyCharges TotalCharges  \n",
       "0              Yes           Electronic check           29.85        29.85  \n",
       "1               No               Mailed check           56.95       1889.5  \n",
       "2              Yes               Mailed check           53.85       108.15  \n",
       "3               No  Bank transfer (automatic)           42.30      1840.75  \n",
       "4              Yes           Electronic check           70.70       151.65  \n",
       "5              Yes           Electronic check           99.65        820.5  \n",
       "6              Yes    Credit card (automatic)           89.10       1949.4  \n",
       "7               No               Mailed check           29.75        301.9  \n",
       "8              Yes           Electronic check          104.80      3046.05  \n",
       "9               No  Bank transfer (automatic)           56.15      3487.95  "
      ]
     },
     "execution_count": 6,
     "metadata": {},
     "output_type": "execute_result"
    }
   ],
   "source": [
    "contract.head(10)"
   ]
  },
  {
   "cell_type": "code",
   "execution_count": 7,
   "metadata": {
    "colab": {
     "base_uri": "https://localhost:8080/"
    },
    "id": "zNmQjkT9gdr4",
    "outputId": "be1df089-482d-4bcf-eb4c-c12ebd838461"
   },
   "outputs": [
    {
     "name": "stdout",
     "output_type": "stream",
     "text": [
      "<class 'pandas.core.frame.DataFrame'>\n",
      "RangeIndex: 7043 entries, 0 to 7042\n",
      "Data columns (total 8 columns):\n",
      " #   Column            Non-Null Count  Dtype  \n",
      "---  ------            --------------  -----  \n",
      " 0   customerID        7043 non-null   object \n",
      " 1   BeginDate         7043 non-null   object \n",
      " 2   EndDate           7043 non-null   object \n",
      " 3   Type              7043 non-null   object \n",
      " 4   PaperlessBilling  7043 non-null   object \n",
      " 5   PaymentMethod     7043 non-null   object \n",
      " 6   MonthlyCharges    7043 non-null   float64\n",
      " 7   TotalCharges      7043 non-null   object \n",
      "dtypes: float64(1), object(7)\n",
      "memory usage: 440.3+ KB\n"
     ]
    }
   ],
   "source": [
    "contract.info()"
   ]
  },
  {
   "cell_type": "code",
   "execution_count": 8,
   "metadata": {
    "colab": {
     "base_uri": "https://localhost:8080/",
     "height": 206
    },
    "id": "J8w77wb4lEwq",
    "outputId": "26bcc2c6-6b4a-4e70-f54d-78e6f1fd8ef3"
   },
   "outputs": [
    {
     "data": {
      "text/html": [
       "<div>\n",
       "<style scoped>\n",
       "    .dataframe tbody tr th:only-of-type {\n",
       "        vertical-align: middle;\n",
       "    }\n",
       "\n",
       "    .dataframe tbody tr th {\n",
       "        vertical-align: top;\n",
       "    }\n",
       "\n",
       "    .dataframe thead th {\n",
       "        text-align: right;\n",
       "    }\n",
       "</style>\n",
       "<table border=\"1\" class=\"dataframe\">\n",
       "  <thead>\n",
       "    <tr style=\"text-align: right;\">\n",
       "      <th></th>\n",
       "      <th>customerID</th>\n",
       "      <th>InternetService</th>\n",
       "      <th>OnlineSecurity</th>\n",
       "      <th>OnlineBackup</th>\n",
       "      <th>DeviceProtection</th>\n",
       "      <th>TechSupport</th>\n",
       "      <th>StreamingTV</th>\n",
       "      <th>StreamingMovies</th>\n",
       "    </tr>\n",
       "  </thead>\n",
       "  <tbody>\n",
       "    <tr>\n",
       "      <th>0</th>\n",
       "      <td>7590-VHVEG</td>\n",
       "      <td>DSL</td>\n",
       "      <td>No</td>\n",
       "      <td>Yes</td>\n",
       "      <td>No</td>\n",
       "      <td>No</td>\n",
       "      <td>No</td>\n",
       "      <td>No</td>\n",
       "    </tr>\n",
       "    <tr>\n",
       "      <th>1</th>\n",
       "      <td>5575-GNVDE</td>\n",
       "      <td>DSL</td>\n",
       "      <td>Yes</td>\n",
       "      <td>No</td>\n",
       "      <td>Yes</td>\n",
       "      <td>No</td>\n",
       "      <td>No</td>\n",
       "      <td>No</td>\n",
       "    </tr>\n",
       "    <tr>\n",
       "      <th>2</th>\n",
       "      <td>3668-QPYBK</td>\n",
       "      <td>DSL</td>\n",
       "      <td>Yes</td>\n",
       "      <td>Yes</td>\n",
       "      <td>No</td>\n",
       "      <td>No</td>\n",
       "      <td>No</td>\n",
       "      <td>No</td>\n",
       "    </tr>\n",
       "    <tr>\n",
       "      <th>3</th>\n",
       "      <td>7795-CFOCW</td>\n",
       "      <td>DSL</td>\n",
       "      <td>Yes</td>\n",
       "      <td>No</td>\n",
       "      <td>Yes</td>\n",
       "      <td>Yes</td>\n",
       "      <td>No</td>\n",
       "      <td>No</td>\n",
       "    </tr>\n",
       "    <tr>\n",
       "      <th>4</th>\n",
       "      <td>9237-HQITU</td>\n",
       "      <td>Fiber optic</td>\n",
       "      <td>No</td>\n",
       "      <td>No</td>\n",
       "      <td>No</td>\n",
       "      <td>No</td>\n",
       "      <td>No</td>\n",
       "      <td>No</td>\n",
       "    </tr>\n",
       "  </tbody>\n",
       "</table>\n",
       "</div>"
      ],
      "text/plain": [
       "   customerID InternetService OnlineSecurity OnlineBackup DeviceProtection  \\\n",
       "0  7590-VHVEG             DSL             No          Yes               No   \n",
       "1  5575-GNVDE             DSL            Yes           No              Yes   \n",
       "2  3668-QPYBK             DSL            Yes          Yes               No   \n",
       "3  7795-CFOCW             DSL            Yes           No              Yes   \n",
       "4  9237-HQITU     Fiber optic             No           No               No   \n",
       "\n",
       "  TechSupport StreamingTV StreamingMovies  \n",
       "0          No          No              No  \n",
       "1          No          No              No  \n",
       "2          No          No              No  \n",
       "3         Yes          No              No  \n",
       "4          No          No              No  "
      ]
     },
     "execution_count": 8,
     "metadata": {},
     "output_type": "execute_result"
    }
   ],
   "source": [
    "internet.head()"
   ]
  },
  {
   "cell_type": "code",
   "execution_count": 9,
   "metadata": {
    "colab": {
     "base_uri": "https://localhost:8080/"
    },
    "id": "-1ELbNtMlMvr",
    "outputId": "e902a9fe-3a3c-40b0-e343-7560a46cde09"
   },
   "outputs": [
    {
     "name": "stdout",
     "output_type": "stream",
     "text": [
      "<class 'pandas.core.frame.DataFrame'>\n",
      "RangeIndex: 5517 entries, 0 to 5516\n",
      "Data columns (total 8 columns):\n",
      " #   Column            Non-Null Count  Dtype \n",
      "---  ------            --------------  ----- \n",
      " 0   customerID        5517 non-null   object\n",
      " 1   InternetService   5517 non-null   object\n",
      " 2   OnlineSecurity    5517 non-null   object\n",
      " 3   OnlineBackup      5517 non-null   object\n",
      " 4   DeviceProtection  5517 non-null   object\n",
      " 5   TechSupport       5517 non-null   object\n",
      " 6   StreamingTV       5517 non-null   object\n",
      " 7   StreamingMovies   5517 non-null   object\n",
      "dtypes: object(8)\n",
      "memory usage: 344.9+ KB\n"
     ]
    }
   ],
   "source": [
    "internet.info()"
   ]
  },
  {
   "cell_type": "code",
   "execution_count": 10,
   "metadata": {
    "colab": {
     "base_uri": "https://localhost:8080/",
     "height": 363
    },
    "id": "nmP3xkAWlm_N",
    "outputId": "1f02d00f-dea6-4d3d-ad81-08532a34dc0e"
   },
   "outputs": [
    {
     "data": {
      "text/html": [
       "<div>\n",
       "<style scoped>\n",
       "    .dataframe tbody tr th:only-of-type {\n",
       "        vertical-align: middle;\n",
       "    }\n",
       "\n",
       "    .dataframe tbody tr th {\n",
       "        vertical-align: top;\n",
       "    }\n",
       "\n",
       "    .dataframe thead th {\n",
       "        text-align: right;\n",
       "    }\n",
       "</style>\n",
       "<table border=\"1\" class=\"dataframe\">\n",
       "  <thead>\n",
       "    <tr style=\"text-align: right;\">\n",
       "      <th></th>\n",
       "      <th>customerID</th>\n",
       "      <th>gender</th>\n",
       "      <th>SeniorCitizen</th>\n",
       "      <th>Partner</th>\n",
       "      <th>Dependents</th>\n",
       "    </tr>\n",
       "  </thead>\n",
       "  <tbody>\n",
       "    <tr>\n",
       "      <th>0</th>\n",
       "      <td>7590-VHVEG</td>\n",
       "      <td>Female</td>\n",
       "      <td>0</td>\n",
       "      <td>Yes</td>\n",
       "      <td>No</td>\n",
       "    </tr>\n",
       "    <tr>\n",
       "      <th>1</th>\n",
       "      <td>5575-GNVDE</td>\n",
       "      <td>Male</td>\n",
       "      <td>0</td>\n",
       "      <td>No</td>\n",
       "      <td>No</td>\n",
       "    </tr>\n",
       "    <tr>\n",
       "      <th>2</th>\n",
       "      <td>3668-QPYBK</td>\n",
       "      <td>Male</td>\n",
       "      <td>0</td>\n",
       "      <td>No</td>\n",
       "      <td>No</td>\n",
       "    </tr>\n",
       "    <tr>\n",
       "      <th>3</th>\n",
       "      <td>7795-CFOCW</td>\n",
       "      <td>Male</td>\n",
       "      <td>0</td>\n",
       "      <td>No</td>\n",
       "      <td>No</td>\n",
       "    </tr>\n",
       "    <tr>\n",
       "      <th>4</th>\n",
       "      <td>9237-HQITU</td>\n",
       "      <td>Female</td>\n",
       "      <td>0</td>\n",
       "      <td>No</td>\n",
       "      <td>No</td>\n",
       "    </tr>\n",
       "    <tr>\n",
       "      <th>5</th>\n",
       "      <td>9305-CDSKC</td>\n",
       "      <td>Female</td>\n",
       "      <td>0</td>\n",
       "      <td>No</td>\n",
       "      <td>No</td>\n",
       "    </tr>\n",
       "    <tr>\n",
       "      <th>6</th>\n",
       "      <td>1452-KIOVK</td>\n",
       "      <td>Male</td>\n",
       "      <td>0</td>\n",
       "      <td>No</td>\n",
       "      <td>Yes</td>\n",
       "    </tr>\n",
       "    <tr>\n",
       "      <th>7</th>\n",
       "      <td>6713-OKOMC</td>\n",
       "      <td>Female</td>\n",
       "      <td>0</td>\n",
       "      <td>No</td>\n",
       "      <td>No</td>\n",
       "    </tr>\n",
       "    <tr>\n",
       "      <th>8</th>\n",
       "      <td>7892-POOKP</td>\n",
       "      <td>Female</td>\n",
       "      <td>0</td>\n",
       "      <td>Yes</td>\n",
       "      <td>No</td>\n",
       "    </tr>\n",
       "    <tr>\n",
       "      <th>9</th>\n",
       "      <td>6388-TABGU</td>\n",
       "      <td>Male</td>\n",
       "      <td>0</td>\n",
       "      <td>No</td>\n",
       "      <td>Yes</td>\n",
       "    </tr>\n",
       "  </tbody>\n",
       "</table>\n",
       "</div>"
      ],
      "text/plain": [
       "   customerID  gender  SeniorCitizen Partner Dependents\n",
       "0  7590-VHVEG  Female              0     Yes         No\n",
       "1  5575-GNVDE    Male              0      No         No\n",
       "2  3668-QPYBK    Male              0      No         No\n",
       "3  7795-CFOCW    Male              0      No         No\n",
       "4  9237-HQITU  Female              0      No         No\n",
       "5  9305-CDSKC  Female              0      No         No\n",
       "6  1452-KIOVK    Male              0      No        Yes\n",
       "7  6713-OKOMC  Female              0      No         No\n",
       "8  7892-POOKP  Female              0     Yes         No\n",
       "9  6388-TABGU    Male              0      No        Yes"
      ]
     },
     "execution_count": 10,
     "metadata": {},
     "output_type": "execute_result"
    }
   ],
   "source": [
    "personal.head(10)"
   ]
  },
  {
   "cell_type": "code",
   "execution_count": 11,
   "metadata": {
    "colab": {
     "base_uri": "https://localhost:8080/"
    },
    "id": "pH1SuK84lpnB",
    "outputId": "14a428dd-cd15-42d0-b9ec-e27bff923365"
   },
   "outputs": [
    {
     "name": "stdout",
     "output_type": "stream",
     "text": [
      "<class 'pandas.core.frame.DataFrame'>\n",
      "RangeIndex: 7043 entries, 0 to 7042\n",
      "Data columns (total 5 columns):\n",
      " #   Column         Non-Null Count  Dtype \n",
      "---  ------         --------------  ----- \n",
      " 0   customerID     7043 non-null   object\n",
      " 1   gender         7043 non-null   object\n",
      " 2   SeniorCitizen  7043 non-null   int64 \n",
      " 3   Partner        7043 non-null   object\n",
      " 4   Dependents     7043 non-null   object\n",
      "dtypes: int64(1), object(4)\n",
      "memory usage: 275.2+ KB\n"
     ]
    }
   ],
   "source": [
    "personal.info()"
   ]
  },
  {
   "cell_type": "code",
   "execution_count": 12,
   "metadata": {
    "colab": {
     "base_uri": "https://localhost:8080/",
     "height": 363
    },
    "id": "S249dMwdlxCX",
    "outputId": "22de1ad9-9738-4c69-af84-f2efcafd3198"
   },
   "outputs": [
    {
     "data": {
      "text/html": [
       "<div>\n",
       "<style scoped>\n",
       "    .dataframe tbody tr th:only-of-type {\n",
       "        vertical-align: middle;\n",
       "    }\n",
       "\n",
       "    .dataframe tbody tr th {\n",
       "        vertical-align: top;\n",
       "    }\n",
       "\n",
       "    .dataframe thead th {\n",
       "        text-align: right;\n",
       "    }\n",
       "</style>\n",
       "<table border=\"1\" class=\"dataframe\">\n",
       "  <thead>\n",
       "    <tr style=\"text-align: right;\">\n",
       "      <th></th>\n",
       "      <th>customerID</th>\n",
       "      <th>MultipleLines</th>\n",
       "    </tr>\n",
       "  </thead>\n",
       "  <tbody>\n",
       "    <tr>\n",
       "      <th>0</th>\n",
       "      <td>5575-GNVDE</td>\n",
       "      <td>No</td>\n",
       "    </tr>\n",
       "    <tr>\n",
       "      <th>1</th>\n",
       "      <td>3668-QPYBK</td>\n",
       "      <td>No</td>\n",
       "    </tr>\n",
       "    <tr>\n",
       "      <th>2</th>\n",
       "      <td>9237-HQITU</td>\n",
       "      <td>No</td>\n",
       "    </tr>\n",
       "    <tr>\n",
       "      <th>3</th>\n",
       "      <td>9305-CDSKC</td>\n",
       "      <td>Yes</td>\n",
       "    </tr>\n",
       "    <tr>\n",
       "      <th>4</th>\n",
       "      <td>1452-KIOVK</td>\n",
       "      <td>Yes</td>\n",
       "    </tr>\n",
       "    <tr>\n",
       "      <th>5</th>\n",
       "      <td>7892-POOKP</td>\n",
       "      <td>Yes</td>\n",
       "    </tr>\n",
       "    <tr>\n",
       "      <th>6</th>\n",
       "      <td>6388-TABGU</td>\n",
       "      <td>No</td>\n",
       "    </tr>\n",
       "    <tr>\n",
       "      <th>7</th>\n",
       "      <td>9763-GRSKD</td>\n",
       "      <td>No</td>\n",
       "    </tr>\n",
       "    <tr>\n",
       "      <th>8</th>\n",
       "      <td>7469-LKBCI</td>\n",
       "      <td>No</td>\n",
       "    </tr>\n",
       "    <tr>\n",
       "      <th>9</th>\n",
       "      <td>8091-TTVAX</td>\n",
       "      <td>Yes</td>\n",
       "    </tr>\n",
       "  </tbody>\n",
       "</table>\n",
       "</div>"
      ],
      "text/plain": [
       "   customerID MultipleLines\n",
       "0  5575-GNVDE            No\n",
       "1  3668-QPYBK            No\n",
       "2  9237-HQITU            No\n",
       "3  9305-CDSKC           Yes\n",
       "4  1452-KIOVK           Yes\n",
       "5  7892-POOKP           Yes\n",
       "6  6388-TABGU            No\n",
       "7  9763-GRSKD            No\n",
       "8  7469-LKBCI            No\n",
       "9  8091-TTVAX           Yes"
      ]
     },
     "execution_count": 12,
     "metadata": {},
     "output_type": "execute_result"
    }
   ],
   "source": [
    "phone.head(10)"
   ]
  },
  {
   "cell_type": "code",
   "execution_count": 13,
   "metadata": {
    "colab": {
     "base_uri": "https://localhost:8080/"
    },
    "id": "nkeiRr_yl0YR",
    "outputId": "d97a7ef0-9f86-4183-e8be-8d6b8fa19ef4"
   },
   "outputs": [
    {
     "name": "stdout",
     "output_type": "stream",
     "text": [
      "<class 'pandas.core.frame.DataFrame'>\n",
      "RangeIndex: 6361 entries, 0 to 6360\n",
      "Data columns (total 2 columns):\n",
      " #   Column         Non-Null Count  Dtype \n",
      "---  ------         --------------  ----- \n",
      " 0   customerID     6361 non-null   object\n",
      " 1   MultipleLines  6361 non-null   object\n",
      "dtypes: object(2)\n",
      "memory usage: 99.5+ KB\n"
     ]
    }
   ],
   "source": [
    "phone.info()"
   ]
  },
  {
   "cell_type": "markdown",
   "metadata": {
    "id": "ldWIv24NsDK0"
   },
   "source": [
    "На этапе первичного анализа мы увидели, что неообходимо \n",
    "* переименовать столбцы\n",
    "* привести часть столбцов к нужным типам\n",
    "* закодировать некоторые столбцы\n",
    "\n",
    "Пропусков в данных обнаружено не было. Но видим, что в таблицах internet и phone данных меньше. Скорее всего, не все клиенты используют эти услуги\n",
    "\n",
    "Помимо этого, нужно будет объединить таблицы в один датасет, поскольку данных не так много\n",
    "\n",
    "Кроме того, нужно добавить колонку, показывающую факт ухода клиента, который мы предсказываем."
   ]
  },
  {
   "cell_type": "markdown",
   "metadata": {
    "id": "Dwc8ZjiZuPpq"
   },
   "source": [
    "## Предобработка и исследование"
   ]
  },
  {
   "cell_type": "markdown",
   "metadata": {
    "id": "h53nTGW8MC2W"
   },
   "source": [
    "Для начала объединим все таблицы в один датафрейм"
   ]
  },
  {
   "cell_type": "code",
   "execution_count": 14,
   "metadata": {
    "id": "dKhY_5BFzEKM"
   },
   "outputs": [],
   "source": [
    "contract.set_index('customerID', drop=True, inplace=True)\n",
    "personal.set_index('customerID', drop=True, inplace=True)\n",
    "internet.set_index('customerID', drop=True, inplace=True)\n",
    "phone.set_index('customerID', drop=True, inplace=True)"
   ]
  },
  {
   "cell_type": "code",
   "execution_count": 15,
   "metadata": {
    "id": "246HB-BpuR_o"
   },
   "outputs": [],
   "source": [
    "df = contract.join(personal, how='left').join(internet, how='left').join(phone, how='left')\n"
   ]
  },
  {
   "cell_type": "code",
   "execution_count": 16,
   "metadata": {
    "id": "K06N9AGMaMtP"
   },
   "outputs": [],
   "source": [
    "gone = df.loc[df['EndDate'] != 'No']\n",
    "stayed = df.loc[df['EndDate'] == 'No']"
   ]
  },
  {
   "cell_type": "code",
   "execution_count": 17,
   "metadata": {
    "colab": {
     "base_uri": "https://localhost:8080/",
     "height": 762
    },
    "id": "xMADdOAuzbZd",
    "outputId": "548efd4c-1477-4331-ef6d-872c1b4718ae"
   },
   "outputs": [
    {
     "data": {
      "text/html": [
       "<div>\n",
       "<style scoped>\n",
       "    .dataframe tbody tr th:only-of-type {\n",
       "        vertical-align: middle;\n",
       "    }\n",
       "\n",
       "    .dataframe tbody tr th {\n",
       "        vertical-align: top;\n",
       "    }\n",
       "\n",
       "    .dataframe thead th {\n",
       "        text-align: right;\n",
       "    }\n",
       "</style>\n",
       "<table border=\"1\" class=\"dataframe\">\n",
       "  <thead>\n",
       "    <tr style=\"text-align: right;\">\n",
       "      <th></th>\n",
       "      <th>BeginDate</th>\n",
       "      <th>EndDate</th>\n",
       "      <th>Type</th>\n",
       "      <th>PaperlessBilling</th>\n",
       "      <th>PaymentMethod</th>\n",
       "      <th>MonthlyCharges</th>\n",
       "      <th>TotalCharges</th>\n",
       "      <th>gender</th>\n",
       "      <th>SeniorCitizen</th>\n",
       "      <th>Partner</th>\n",
       "      <th>Dependents</th>\n",
       "      <th>InternetService</th>\n",
       "      <th>OnlineSecurity</th>\n",
       "      <th>OnlineBackup</th>\n",
       "      <th>DeviceProtection</th>\n",
       "      <th>TechSupport</th>\n",
       "      <th>StreamingTV</th>\n",
       "      <th>StreamingMovies</th>\n",
       "      <th>MultipleLines</th>\n",
       "    </tr>\n",
       "    <tr>\n",
       "      <th>customerID</th>\n",
       "      <th></th>\n",
       "      <th></th>\n",
       "      <th></th>\n",
       "      <th></th>\n",
       "      <th></th>\n",
       "      <th></th>\n",
       "      <th></th>\n",
       "      <th></th>\n",
       "      <th></th>\n",
       "      <th></th>\n",
       "      <th></th>\n",
       "      <th></th>\n",
       "      <th></th>\n",
       "      <th></th>\n",
       "      <th></th>\n",
       "      <th></th>\n",
       "      <th></th>\n",
       "      <th></th>\n",
       "      <th></th>\n",
       "    </tr>\n",
       "  </thead>\n",
       "  <tbody>\n",
       "    <tr>\n",
       "      <th>7590-VHVEG</th>\n",
       "      <td>2020-01-01</td>\n",
       "      <td>No</td>\n",
       "      <td>Month-to-month</td>\n",
       "      <td>Yes</td>\n",
       "      <td>Electronic check</td>\n",
       "      <td>29.85</td>\n",
       "      <td>29.85</td>\n",
       "      <td>Female</td>\n",
       "      <td>0</td>\n",
       "      <td>Yes</td>\n",
       "      <td>No</td>\n",
       "      <td>DSL</td>\n",
       "      <td>No</td>\n",
       "      <td>Yes</td>\n",
       "      <td>No</td>\n",
       "      <td>No</td>\n",
       "      <td>No</td>\n",
       "      <td>No</td>\n",
       "      <td>NaN</td>\n",
       "    </tr>\n",
       "    <tr>\n",
       "      <th>5575-GNVDE</th>\n",
       "      <td>2017-04-01</td>\n",
       "      <td>No</td>\n",
       "      <td>One year</td>\n",
       "      <td>No</td>\n",
       "      <td>Mailed check</td>\n",
       "      <td>56.95</td>\n",
       "      <td>1889.5</td>\n",
       "      <td>Male</td>\n",
       "      <td>0</td>\n",
       "      <td>No</td>\n",
       "      <td>No</td>\n",
       "      <td>DSL</td>\n",
       "      <td>Yes</td>\n",
       "      <td>No</td>\n",
       "      <td>Yes</td>\n",
       "      <td>No</td>\n",
       "      <td>No</td>\n",
       "      <td>No</td>\n",
       "      <td>No</td>\n",
       "    </tr>\n",
       "    <tr>\n",
       "      <th>7795-CFOCW</th>\n",
       "      <td>2016-05-01</td>\n",
       "      <td>No</td>\n",
       "      <td>One year</td>\n",
       "      <td>No</td>\n",
       "      <td>Bank transfer (automatic)</td>\n",
       "      <td>42.30</td>\n",
       "      <td>1840.75</td>\n",
       "      <td>Male</td>\n",
       "      <td>0</td>\n",
       "      <td>No</td>\n",
       "      <td>No</td>\n",
       "      <td>DSL</td>\n",
       "      <td>Yes</td>\n",
       "      <td>No</td>\n",
       "      <td>Yes</td>\n",
       "      <td>Yes</td>\n",
       "      <td>No</td>\n",
       "      <td>No</td>\n",
       "      <td>NaN</td>\n",
       "    </tr>\n",
       "    <tr>\n",
       "      <th>1452-KIOVK</th>\n",
       "      <td>2018-04-01</td>\n",
       "      <td>No</td>\n",
       "      <td>Month-to-month</td>\n",
       "      <td>Yes</td>\n",
       "      <td>Credit card (automatic)</td>\n",
       "      <td>89.10</td>\n",
       "      <td>1949.4</td>\n",
       "      <td>Male</td>\n",
       "      <td>0</td>\n",
       "      <td>No</td>\n",
       "      <td>Yes</td>\n",
       "      <td>Fiber optic</td>\n",
       "      <td>No</td>\n",
       "      <td>Yes</td>\n",
       "      <td>No</td>\n",
       "      <td>No</td>\n",
       "      <td>Yes</td>\n",
       "      <td>No</td>\n",
       "      <td>Yes</td>\n",
       "    </tr>\n",
       "    <tr>\n",
       "      <th>6713-OKOMC</th>\n",
       "      <td>2019-04-01</td>\n",
       "      <td>No</td>\n",
       "      <td>Month-to-month</td>\n",
       "      <td>No</td>\n",
       "      <td>Mailed check</td>\n",
       "      <td>29.75</td>\n",
       "      <td>301.9</td>\n",
       "      <td>Female</td>\n",
       "      <td>0</td>\n",
       "      <td>No</td>\n",
       "      <td>No</td>\n",
       "      <td>DSL</td>\n",
       "      <td>Yes</td>\n",
       "      <td>No</td>\n",
       "      <td>No</td>\n",
       "      <td>No</td>\n",
       "      <td>No</td>\n",
       "      <td>No</td>\n",
       "      <td>NaN</td>\n",
       "    </tr>\n",
       "    <tr>\n",
       "      <th>...</th>\n",
       "      <td>...</td>\n",
       "      <td>...</td>\n",
       "      <td>...</td>\n",
       "      <td>...</td>\n",
       "      <td>...</td>\n",
       "      <td>...</td>\n",
       "      <td>...</td>\n",
       "      <td>...</td>\n",
       "      <td>...</td>\n",
       "      <td>...</td>\n",
       "      <td>...</td>\n",
       "      <td>...</td>\n",
       "      <td>...</td>\n",
       "      <td>...</td>\n",
       "      <td>...</td>\n",
       "      <td>...</td>\n",
       "      <td>...</td>\n",
       "      <td>...</td>\n",
       "      <td>...</td>\n",
       "    </tr>\n",
       "    <tr>\n",
       "      <th>2569-WGERO</th>\n",
       "      <td>2014-02-01</td>\n",
       "      <td>No</td>\n",
       "      <td>Two year</td>\n",
       "      <td>Yes</td>\n",
       "      <td>Bank transfer (automatic)</td>\n",
       "      <td>21.15</td>\n",
       "      <td>1419.4</td>\n",
       "      <td>Female</td>\n",
       "      <td>0</td>\n",
       "      <td>No</td>\n",
       "      <td>No</td>\n",
       "      <td>NaN</td>\n",
       "      <td>NaN</td>\n",
       "      <td>NaN</td>\n",
       "      <td>NaN</td>\n",
       "      <td>NaN</td>\n",
       "      <td>NaN</td>\n",
       "      <td>NaN</td>\n",
       "      <td>No</td>\n",
       "    </tr>\n",
       "    <tr>\n",
       "      <th>6840-RESVB</th>\n",
       "      <td>2018-02-01</td>\n",
       "      <td>No</td>\n",
       "      <td>One year</td>\n",
       "      <td>Yes</td>\n",
       "      <td>Mailed check</td>\n",
       "      <td>84.80</td>\n",
       "      <td>1990.5</td>\n",
       "      <td>Male</td>\n",
       "      <td>0</td>\n",
       "      <td>Yes</td>\n",
       "      <td>Yes</td>\n",
       "      <td>DSL</td>\n",
       "      <td>Yes</td>\n",
       "      <td>No</td>\n",
       "      <td>Yes</td>\n",
       "      <td>Yes</td>\n",
       "      <td>Yes</td>\n",
       "      <td>Yes</td>\n",
       "      <td>Yes</td>\n",
       "    </tr>\n",
       "    <tr>\n",
       "      <th>2234-XADUH</th>\n",
       "      <td>2014-02-01</td>\n",
       "      <td>No</td>\n",
       "      <td>One year</td>\n",
       "      <td>Yes</td>\n",
       "      <td>Credit card (automatic)</td>\n",
       "      <td>103.20</td>\n",
       "      <td>7362.9</td>\n",
       "      <td>Female</td>\n",
       "      <td>0</td>\n",
       "      <td>Yes</td>\n",
       "      <td>Yes</td>\n",
       "      <td>Fiber optic</td>\n",
       "      <td>No</td>\n",
       "      <td>Yes</td>\n",
       "      <td>Yes</td>\n",
       "      <td>No</td>\n",
       "      <td>Yes</td>\n",
       "      <td>Yes</td>\n",
       "      <td>Yes</td>\n",
       "    </tr>\n",
       "    <tr>\n",
       "      <th>4801-JZAZL</th>\n",
       "      <td>2019-03-01</td>\n",
       "      <td>No</td>\n",
       "      <td>Month-to-month</td>\n",
       "      <td>Yes</td>\n",
       "      <td>Electronic check</td>\n",
       "      <td>29.60</td>\n",
       "      <td>346.45</td>\n",
       "      <td>Female</td>\n",
       "      <td>0</td>\n",
       "      <td>Yes</td>\n",
       "      <td>Yes</td>\n",
       "      <td>DSL</td>\n",
       "      <td>Yes</td>\n",
       "      <td>No</td>\n",
       "      <td>No</td>\n",
       "      <td>No</td>\n",
       "      <td>No</td>\n",
       "      <td>No</td>\n",
       "      <td>NaN</td>\n",
       "    </tr>\n",
       "    <tr>\n",
       "      <th>3186-AJIEK</th>\n",
       "      <td>2014-08-01</td>\n",
       "      <td>No</td>\n",
       "      <td>Two year</td>\n",
       "      <td>Yes</td>\n",
       "      <td>Bank transfer (automatic)</td>\n",
       "      <td>105.65</td>\n",
       "      <td>6844.5</td>\n",
       "      <td>Male</td>\n",
       "      <td>0</td>\n",
       "      <td>No</td>\n",
       "      <td>No</td>\n",
       "      <td>Fiber optic</td>\n",
       "      <td>Yes</td>\n",
       "      <td>No</td>\n",
       "      <td>Yes</td>\n",
       "      <td>Yes</td>\n",
       "      <td>Yes</td>\n",
       "      <td>Yes</td>\n",
       "      <td>No</td>\n",
       "    </tr>\n",
       "  </tbody>\n",
       "</table>\n",
       "<p>5174 rows × 19 columns</p>\n",
       "</div>"
      ],
      "text/plain": [
       "             BeginDate EndDate            Type PaperlessBilling  \\\n",
       "customerID                                                        \n",
       "7590-VHVEG  2020-01-01      No  Month-to-month              Yes   \n",
       "5575-GNVDE  2017-04-01      No        One year               No   \n",
       "7795-CFOCW  2016-05-01      No        One year               No   \n",
       "1452-KIOVK  2018-04-01      No  Month-to-month              Yes   \n",
       "6713-OKOMC  2019-04-01      No  Month-to-month               No   \n",
       "...                ...     ...             ...              ...   \n",
       "2569-WGERO  2014-02-01      No        Two year              Yes   \n",
       "6840-RESVB  2018-02-01      No        One year              Yes   \n",
       "2234-XADUH  2014-02-01      No        One year              Yes   \n",
       "4801-JZAZL  2019-03-01      No  Month-to-month              Yes   \n",
       "3186-AJIEK  2014-08-01      No        Two year              Yes   \n",
       "\n",
       "                        PaymentMethod  MonthlyCharges TotalCharges  gender  \\\n",
       "customerID                                                                   \n",
       "7590-VHVEG           Electronic check           29.85        29.85  Female   \n",
       "5575-GNVDE               Mailed check           56.95       1889.5    Male   \n",
       "7795-CFOCW  Bank transfer (automatic)           42.30      1840.75    Male   \n",
       "1452-KIOVK    Credit card (automatic)           89.10       1949.4    Male   \n",
       "6713-OKOMC               Mailed check           29.75        301.9  Female   \n",
       "...                               ...             ...          ...     ...   \n",
       "2569-WGERO  Bank transfer (automatic)           21.15       1419.4  Female   \n",
       "6840-RESVB               Mailed check           84.80       1990.5    Male   \n",
       "2234-XADUH    Credit card (automatic)          103.20       7362.9  Female   \n",
       "4801-JZAZL           Electronic check           29.60       346.45  Female   \n",
       "3186-AJIEK  Bank transfer (automatic)          105.65       6844.5    Male   \n",
       "\n",
       "            SeniorCitizen Partner Dependents InternetService OnlineSecurity  \\\n",
       "customerID                                                                    \n",
       "7590-VHVEG              0     Yes         No             DSL             No   \n",
       "5575-GNVDE              0      No         No             DSL            Yes   \n",
       "7795-CFOCW              0      No         No             DSL            Yes   \n",
       "1452-KIOVK              0      No        Yes     Fiber optic             No   \n",
       "6713-OKOMC              0      No         No             DSL            Yes   \n",
       "...                   ...     ...        ...             ...            ...   \n",
       "2569-WGERO              0      No         No             NaN            NaN   \n",
       "6840-RESVB              0     Yes        Yes             DSL            Yes   \n",
       "2234-XADUH              0     Yes        Yes     Fiber optic             No   \n",
       "4801-JZAZL              0     Yes        Yes             DSL            Yes   \n",
       "3186-AJIEK              0      No         No     Fiber optic            Yes   \n",
       "\n",
       "           OnlineBackup DeviceProtection TechSupport StreamingTV  \\\n",
       "customerID                                                         \n",
       "7590-VHVEG          Yes               No          No          No   \n",
       "5575-GNVDE           No              Yes          No          No   \n",
       "7795-CFOCW           No              Yes         Yes          No   \n",
       "1452-KIOVK          Yes               No          No         Yes   \n",
       "6713-OKOMC           No               No          No          No   \n",
       "...                 ...              ...         ...         ...   \n",
       "2569-WGERO          NaN              NaN         NaN         NaN   \n",
       "6840-RESVB           No              Yes         Yes         Yes   \n",
       "2234-XADUH          Yes              Yes          No         Yes   \n",
       "4801-JZAZL           No               No          No          No   \n",
       "3186-AJIEK           No              Yes         Yes         Yes   \n",
       "\n",
       "           StreamingMovies MultipleLines  \n",
       "customerID                                \n",
       "7590-VHVEG              No           NaN  \n",
       "5575-GNVDE              No            No  \n",
       "7795-CFOCW              No           NaN  \n",
       "1452-KIOVK              No           Yes  \n",
       "6713-OKOMC              No           NaN  \n",
       "...                    ...           ...  \n",
       "2569-WGERO             NaN            No  \n",
       "6840-RESVB             Yes           Yes  \n",
       "2234-XADUH             Yes           Yes  \n",
       "4801-JZAZL              No           NaN  \n",
       "3186-AJIEK             Yes            No  \n",
       "\n",
       "[5174 rows x 19 columns]"
      ]
     },
     "execution_count": 17,
     "metadata": {},
     "output_type": "execute_result"
    }
   ],
   "source": [
    "stayed"
   ]
  },
  {
   "cell_type": "markdown",
   "metadata": {
    "id": "VJlWJ5MyUa-N"
   },
   "source": [
    "Теперь добавим целевой признак"
   ]
  },
  {
   "cell_type": "code",
   "execution_count": 18,
   "metadata": {
    "id": "q4Lv29eWuSBw"
   },
   "outputs": [],
   "source": [
    "df['churn'] = df['EndDate'].apply(lambda x: 0 if x == 'No' else 1)"
   ]
  },
  {
   "cell_type": "markdown",
   "metadata": {
    "id": "hsRRuqg3vLkC"
   },
   "source": [
    "Переименуем для удобства названия столбцов"
   ]
  },
  {
   "cell_type": "code",
   "execution_count": 19,
   "metadata": {
    "colab": {
     "base_uri": "https://localhost:8080/"
    },
    "id": "N7oj2QfWuSEI",
    "outputId": "a9c23231-73c6-4bb8-c1a8-35c711e31817"
   },
   "outputs": [
    {
     "data": {
      "text/plain": [
       "Index(['BeginDate', 'EndDate', 'Type', 'PaperlessBilling', 'PaymentMethod',\n",
       "       'MonthlyCharges', 'TotalCharges', 'gender', 'SeniorCitizen', 'Partner',\n",
       "       'Dependents', 'InternetService', 'OnlineSecurity', 'OnlineBackup',\n",
       "       'DeviceProtection', 'TechSupport', 'StreamingTV', 'StreamingMovies',\n",
       "       'MultipleLines', 'churn'],\n",
       "      dtype='object')"
      ]
     },
     "execution_count": 19,
     "metadata": {},
     "output_type": "execute_result"
    }
   ],
   "source": [
    "df.columns"
   ]
  },
  {
   "cell_type": "code",
   "execution_count": 20,
   "metadata": {
    "id": "0AaTTrjcvSGi"
   },
   "outputs": [],
   "source": [
    "df = df.rename({'BeginDate': 'begin_date', \n",
    "                'EndDate': 'end_date', \n",
    "                'Type': 'type', \n",
    "                'PaperlessBilling': 'paperless_billing', \n",
    "                'PaymentMethod': 'payment_method', \n",
    "                'MonthlyCharges': 'monthly_charges', \n",
    "                'TotalCharges': 'total_charges',\n",
    "                'SeniorCitizen': 'senior_citizen', \n",
    "                'Partner': 'partner', \n",
    "                'Dependents': 'dependents',\n",
    "                'InternetService': 'internet_service',\n",
    "                'OnlineSecurity': 'online_security',\n",
    "                'OnlineBackup': 'online_backup',\n",
    "                'DeviceProtection': 'device_protection',\n",
    "                'TechSupport': 'tech_support',\n",
    "                'StreamingTV': 'streaming_tv',\n",
    "                'StreamingMovies': 'streaming_movies',\n",
    "                'MultipleLines': 'multiple_lines'},  axis=1)"
   ]
  },
  {
   "cell_type": "code",
   "execution_count": 21,
   "metadata": {
    "id": "KumbhY5ob_8v"
   },
   "outputs": [],
   "source": [
    "gone = gone.rename({'BeginDate': 'begin_date', \n",
    "                'EndDate': 'end_date', \n",
    "                'Type': 'type', \n",
    "                'PaperlessBilling': 'paperless_billing', \n",
    "                'PaymentMethod': 'payment_method', \n",
    "                'MonthlyCharges': 'monthly_charges', \n",
    "                'TotalCharges': 'total_charges',\n",
    "                'SeniorCitizen': 'senior_citizen', \n",
    "                'Partner': 'partner', \n",
    "                'Dependents': 'dependents',\n",
    "                'InternetService': 'internet_service',\n",
    "                'OnlineSecurity': 'online_security',\n",
    "                'OnlineBackup': 'online_backup',\n",
    "                'DeviceProtection': 'device_protection',\n",
    "                'TechSupport': 'tech_support',\n",
    "                'StreamingTV': 'streaming_tv',\n",
    "                'StreamingMovies': 'streaming_movies',\n",
    "                'MultipleLines': 'multiple_lines'},  axis=1)"
   ]
  },
  {
   "cell_type": "code",
   "execution_count": 22,
   "metadata": {
    "id": "Wq2UN74ucRuz"
   },
   "outputs": [],
   "source": [
    "stayed = stayed.rename({'BeginDate': 'begin_date', \n",
    "                'EndDate': 'end_date', \n",
    "                'Type': 'type', \n",
    "                'PaperlessBilling': 'paperless_billing', \n",
    "                'PaymentMethod': 'payment_method', \n",
    "                'MonthlyCharges': 'monthly_charges', \n",
    "                'TotalCharges': 'total_charges',\n",
    "                'SeniorCitizen': 'senior_citizen', \n",
    "                'Partner': 'partner', \n",
    "                'Dependents': 'dependents',\n",
    "                'InternetService': 'internet_service',\n",
    "                'OnlineSecurity': 'online_security',\n",
    "                'OnlineBackup': 'online_backup',\n",
    "                'DeviceProtection': 'device_protection',\n",
    "                'TechSupport': 'tech_support',\n",
    "                'StreamingTV': 'streaming_tv',\n",
    "                'StreamingMovies': 'streaming_movies',\n",
    "                'MultipleLines': 'multiple_lines'},  axis=1)"
   ]
  },
  {
   "cell_type": "code",
   "execution_count": 23,
   "metadata": {
    "colab": {
     "base_uri": "https://localhost:8080/"
    },
    "id": "3uYYuIO40b_u",
    "outputId": "3831c776-59d5-4e0d-adbc-59324e065244"
   },
   "outputs": [
    {
     "name": "stdout",
     "output_type": "stream",
     "text": [
      "<class 'pandas.core.frame.DataFrame'>\n",
      "Index: 7043 entries, 7590-VHVEG to 3186-AJIEK\n",
      "Data columns (total 20 columns):\n",
      " #   Column             Non-Null Count  Dtype  \n",
      "---  ------             --------------  -----  \n",
      " 0   begin_date         7043 non-null   object \n",
      " 1   end_date           7043 non-null   object \n",
      " 2   type               7043 non-null   object \n",
      " 3   paperless_billing  7043 non-null   object \n",
      " 4   payment_method     7043 non-null   object \n",
      " 5   monthly_charges    7043 non-null   float64\n",
      " 6   total_charges      7043 non-null   object \n",
      " 7   gender             7043 non-null   object \n",
      " 8   senior_citizen     7043 non-null   int64  \n",
      " 9   partner            7043 non-null   object \n",
      " 10  dependents         7043 non-null   object \n",
      " 11  internet_service   5517 non-null   object \n",
      " 12  online_security    5517 non-null   object \n",
      " 13  online_backup      5517 non-null   object \n",
      " 14  device_protection  5517 non-null   object \n",
      " 15  tech_support       5517 non-null   object \n",
      " 16  streaming_tv       5517 non-null   object \n",
      " 17  streaming_movies   5517 non-null   object \n",
      " 18  multiple_lines     6361 non-null   object \n",
      " 19  churn              7043 non-null   int64  \n",
      "dtypes: float64(1), int64(2), object(17)\n",
      "memory usage: 1.4+ MB\n"
     ]
    }
   ],
   "source": [
    "df.info()"
   ]
  },
  {
   "cell_type": "markdown",
   "metadata": {
    "id": "UNPCrfe0GZ_N"
   },
   "source": [
    "#### churn"
   ]
  },
  {
   "cell_type": "markdown",
   "metadata": {
    "id": "4GxnD5mt4HCa"
   },
   "source": [
    "Посмотрим на целевой признак"
   ]
  },
  {
   "cell_type": "code",
   "execution_count": 24,
   "metadata": {
    "colab": {
     "base_uri": "https://localhost:8080/"
    },
    "id": "nfR3ZWG04KV-",
    "outputId": "8e9cbb80-0be0-4a23-a9d2-6193fab13b1b"
   },
   "outputs": [
    {
     "data": {
      "text/plain": [
       "0    5174\n",
       "1    1869\n",
       "Name: churn, dtype: int64"
      ]
     },
     "execution_count": 24,
     "metadata": {},
     "output_type": "execute_result"
    }
   ],
   "source": [
    "df['churn'].value_counts()"
   ]
  },
  {
   "cell_type": "code",
   "execution_count": 25,
   "metadata": {
    "colab": {
     "base_uri": "https://localhost:8080/",
     "height": 465
    },
    "id": "hEiRs3_FBZpu",
    "outputId": "8a0f486b-5824-4fc5-d736-fe1ab329214f"
   },
   "outputs": [
    {
     "data": {
      "image/png": "[encoded data removed]",
      "text/plain": [
       "<Figure size 1440x504 with 1 Axes>"
      ]
     },
     "metadata": {
      "needs_background": "light"
     },
     "output_type": "display_data"
    }
   ],
   "source": [
    "plt.figure(figsize=(20, 7))\n",
    "plt.title('Churn', fontsize=20)\n",
    "sns.histplot(df['churn'], color='r', kde=False, bins=2);\n",
    "plt.ylabel('Count', fontsize=12)\n",
    "plt.xlabel('churn', fontsize=12)\n",
    "plt.grid(True);"
   ]
  },
  {
   "cell_type": "markdown",
   "metadata": {
    "id": "DUndWif3Bqtt"
   },
   "source": [
    "Видим значительный перевес в сторону не ушедших клиентов. \n",
    "\n",
    "Итак, данные несбалансированы. Это надо будет учитывать при построении модели."
   ]
  },
  {
   "cell_type": "markdown",
   "metadata": {
    "id": "ubgjPnUHGQoK"
   },
   "source": [
    "Теперь посмотрим, что делать с остальными фичами"
   ]
  },
  {
   "cell_type": "markdown",
   "metadata": {
    "id": "lc4L7VxSGVbr"
   },
   "source": [
    "#### begin_date"
   ]
  },
  {
   "cell_type": "markdown",
   "metadata": {
    "id": "ndcaViHm8cpd"
   },
   "source": [
    "Дата начала пользования услугами. Её скорее всего нужно перевести в формат datetime"
   ]
  },
  {
   "cell_type": "code",
   "execution_count": 26,
   "metadata": {
    "id": "PW8JNwY_8Wp_"
   },
   "outputs": [],
   "source": [
    "df['begin_date'] =  pd.to_datetime(df['begin_date'])"
   ]
  },
  {
   "cell_type": "code",
   "execution_count": 27,
   "metadata": {
    "colab": {
     "base_uri": "https://localhost:8080/"
    },
    "id": "nev4CKiBL08e",
    "outputId": "de9bc759-9173-4502-8971-c18e24cfe1c7"
   },
   "outputs": [
    {
     "name": "stderr",
     "output_type": "stream",
     "text": [
      "C:\\Users\\Anastasia\\AppData\\Local\\Temp\\ipykernel_528\\3692557974.py:1: FutureWarning: Treating datetime data as categorical rather than numeric in `.describe` is deprecated and will be removed in a future version of pandas. Specify `datetime_is_numeric=True` to silence this warning and adopt the future behavior now.\n",
      "  df['begin_date'].describe()\n"
     ]
    },
    {
     "data": {
      "text/plain": [
       "count                    7043\n",
       "unique                     77\n",
       "top       2014-02-01 00:00:00\n",
       "freq                      366\n",
       "first     2013-10-01 00:00:00\n",
       "last      2020-02-01 00:00:00\n",
       "Name: begin_date, dtype: object"
      ]
     },
     "execution_count": 27,
     "metadata": {},
     "output_type": "execute_result"
    }
   ],
   "source": [
    "df['begin_date'].describe()"
   ]
  },
  {
   "cell_type": "markdown",
   "metadata": {
    "id": "MrYFHh8u-m6h"
   },
   "source": [
    "#### end_date"
   ]
  },
  {
   "cell_type": "code",
   "execution_count": 28,
   "metadata": {
    "colab": {
     "base_uri": "https://localhost:8080/"
    },
    "id": "W-T7f_BQ-oTo",
    "outputId": "caa5b247-d25c-4046-9666-a64cbfda3c84"
   },
   "outputs": [
    {
     "data": {
      "text/plain": [
       "customerID\n",
       "7590-VHVEG                     No\n",
       "5575-GNVDE                     No\n",
       "3668-QPYBK    2019-12-01 00:00:00\n",
       "7795-CFOCW                     No\n",
       "9237-HQITU    2019-11-01 00:00:00\n",
       "                     ...         \n",
       "6840-RESVB                     No\n",
       "2234-XADUH                     No\n",
       "4801-JZAZL                     No\n",
       "8361-LTMKD    2019-11-01 00:00:00\n",
       "3186-AJIEK                     No\n",
       "Name: end_date, Length: 7043, dtype: object"
      ]
     },
     "execution_count": 28,
     "metadata": {},
     "output_type": "execute_result"
    }
   ],
   "source": [
    "df['end_date']"
   ]
  },
  {
   "cell_type": "markdown",
   "metadata": {
    "id": "d7bgqBeaC12G"
   },
   "source": [
    "Поскольку данные актуальны на период 1 февраля 2020 года, добавим эту дату вместо No"
   ]
  },
  {
   "cell_type": "code",
   "execution_count": 29,
   "metadata": {
    "id": "WJlUKUdsCtwv"
   },
   "outputs": [],
   "source": [
    "df['end_date'] = df['end_date'].where(df['end_date'] != 'No', '2020-02-01')"
   ]
  },
  {
   "cell_type": "code",
   "execution_count": 30,
   "metadata": {
    "id": "MMQ0Yp5h-oWG"
   },
   "outputs": [],
   "source": [
    "df['end_date'] =  pd.to_datetime(df['end_date'])"
   ]
  },
  {
   "cell_type": "code",
   "execution_count": 31,
   "metadata": {
    "colab": {
     "base_uri": "https://localhost:8080/"
    },
    "id": "8_1Rij8ULunB",
    "outputId": "6c0dcaa6-ea33-4809-fbb2-cee75e3871f1"
   },
   "outputs": [
    {
     "name": "stderr",
     "output_type": "stream",
     "text": [
      "C:\\Users\\Anastasia\\AppData\\Local\\Temp\\ipykernel_528\\631191076.py:1: FutureWarning: Treating datetime data as categorical rather than numeric in `.describe` is deprecated and will be removed in a future version of pandas. Specify `datetime_is_numeric=True` to silence this warning and adopt the future behavior now.\n",
      "  df['end_date'].describe()\n"
     ]
    },
    {
     "data": {
      "text/plain": [
       "count                    7043\n",
       "unique                      5\n",
       "top       2020-02-01 00:00:00\n",
       "freq                     5174\n",
       "first     2019-10-01 00:00:00\n",
       "last      2020-02-01 00:00:00\n",
       "Name: end_date, dtype: object"
      ]
     },
     "execution_count": 31,
     "metadata": {},
     "output_type": "execute_result"
    }
   ],
   "source": [
    "df['end_date'].describe()"
   ]
  },
  {
   "cell_type": "markdown",
   "metadata": {
    "id": "DXsvJ3dYF4F4"
   },
   "source": [
    "#### period"
   ]
  },
  {
   "cell_type": "markdown",
   "metadata": {
    "id": "Pvxx4hgVF6Hi"
   },
   "source": [
    "Добавим столбец с периодом "
   ]
  },
  {
   "cell_type": "code",
   "execution_count": 32,
   "metadata": {
    "id": "vKSaVd0M-oYD"
   },
   "outputs": [],
   "source": [
    "df['period'] = (df['end_date'] - df['begin_date']).dt.days"
   ]
  },
  {
   "cell_type": "code",
   "execution_count": 33,
   "metadata": {
    "colab": {
     "base_uri": "https://localhost:8080/"
    },
    "id": "W6n1NfepJrER",
    "outputId": "15c21791-facd-42f8-b812-f9dbb9e12d8b"
   },
   "outputs": [
    {
     "data": {
      "text/plain": [
       "count    7043.000000\n",
       "mean      985.996166\n",
       "std       747.587844\n",
       "min         0.000000\n",
       "25%       273.000000\n",
       "50%       883.000000\n",
       "75%      1676.000000\n",
       "max      2191.000000\n",
       "Name: period, dtype: float64"
      ]
     },
     "execution_count": 33,
     "metadata": {},
     "output_type": "execute_result"
    }
   ],
   "source": [
    "df['period'].describe()"
   ]
  },
  {
   "cell_type": "markdown",
   "metadata": {
    "id": "L3_5IQMMQ2Rp"
   },
   "source": [
    "#### type"
   ]
  },
  {
   "cell_type": "markdown",
   "metadata": {
    "id": "TuzBpLB8Q55k"
   },
   "source": [
    "Тип договора: ежемесячный, годовой и т.д"
   ]
  },
  {
   "cell_type": "code",
   "execution_count": 34,
   "metadata": {
    "colab": {
     "base_uri": "https://localhost:8080/"
    },
    "id": "SCRKC9tJQ3tx",
    "outputId": "7102901c-d73c-4cd5-96ce-7a3bd5b5d230"
   },
   "outputs": [
    {
     "data": {
      "text/plain": [
       "Month-to-month    3875\n",
       "Two year          1695\n",
       "One year          1473\n",
       "Name: type, dtype: int64"
      ]
     },
     "execution_count": 34,
     "metadata": {},
     "output_type": "execute_result"
    }
   ],
   "source": [
    "df['type'].value_counts()"
   ]
  },
  {
   "cell_type": "code",
   "execution_count": 35,
   "metadata": {
    "colab": {
     "base_uri": "https://localhost:8080/",
     "height": 465
    },
    "id": "1hFBBDS3V8KU",
    "outputId": "a259c415-0da2-4d82-b53d-6c89e77c6d96"
   },
   "outputs": [
    {
     "data": {
      "image/png": "[encoded data removed]",
      "text/plain": [
       "<Figure size 1440x504 with 1 Axes>"
      ]
     },
     "metadata": {
      "needs_background": "light"
     },
     "output_type": "display_data"
    }
   ],
   "source": [
    "plt.figure(figsize=(20, 7))\n",
    "plt.title('Type', fontsize=20)\n",
    "sns.histplot(df['type'], color='c', kde=False, label='All');\n",
    "sns.histplot(gone['type'], color='m', kde=False, label='Gone');\n",
    "plt.ylabel('Count', fontsize=12)\n",
    "plt.xlabel('Type', fontsize=12)\n",
    "plt.legend()\n",
    "\n",
    "plt.grid(True);"
   ]
  },
  {
   "cell_type": "markdown",
   "metadata": {},
   "source": [
    "На гистограмме видно, что в целом, клиенты чаще пользуются ежемесячным договором. По другим типам договоров можно сказать, что среди ушедших клиентов доля тех, кто пользовался годовым договором выше, чем двугодовым, в то время как по данным всех клиентов мы видимм обратную ситуацию."
   ]
  },
  {
   "cell_type": "markdown",
   "metadata": {
    "id": "SanKvtzOSZll"
   },
   "source": [
    "#### paperless_billing"
   ]
  },
  {
   "cell_type": "markdown",
   "metadata": {
    "id": "w8Cn2vqUSgAE"
   },
   "source": [
    "Факт выставления счёта на электронную почту"
   ]
  },
  {
   "cell_type": "code",
   "execution_count": 36,
   "metadata": {
    "colab": {
     "base_uri": "https://localhost:8080/"
    },
    "id": "Wf98ol_hSZGx",
    "outputId": "4fe59141-2966-4647-be8e-e0438500edcf"
   },
   "outputs": [
    {
     "data": {
      "text/plain": [
       "Yes    4171\n",
       "No     2872\n",
       "Name: paperless_billing, dtype: int64"
      ]
     },
     "execution_count": 36,
     "metadata": {},
     "output_type": "execute_result"
    }
   ],
   "source": [
    "df['paperless_billing'].value_counts()"
   ]
  },
  {
   "cell_type": "markdown",
   "metadata": {
    "id": "fk4i-w7yYVuh"
   },
   "source": [
    "Перекодируем этот столбец"
   ]
  },
  {
   "cell_type": "code",
   "execution_count": 37,
   "metadata": {
    "id": "zthIzP4vLnrm"
   },
   "outputs": [],
   "source": [
    "df['paperless_billing'] = df['paperless_billing'].map({'No' : 0, 'Yes' : 1})"
   ]
  },
  {
   "cell_type": "code",
   "execution_count": 38,
   "metadata": {
    "id": "5auCnUbvlYio"
   },
   "outputs": [],
   "source": [
    "gone['paperless_billing'] = gone['paperless_billing'].map({'No' : 0, 'Yes' : 1})"
   ]
  },
  {
   "cell_type": "code",
   "execution_count": 39,
   "metadata": {
    "colab": {
     "base_uri": "https://localhost:8080/",
     "height": 465
    },
    "id": "1qJfdIuxg-Zw",
    "outputId": "ae18643f-9def-43ae-e129-28e6c93db54e"
   },
   "outputs": [
    {
     "data": {
      "image/png": "[encoded data removed]",
      "text/plain": [
       "<Figure size 1440x504 with 1 Axes>"
      ]
     },
     "metadata": {
      "needs_background": "light"
     },
     "output_type": "display_data"
    }
   ],
   "source": [
    "plt.figure(figsize=(20, 7))\n",
    "plt.title('Paperless billing', fontsize=20)\n",
    "sns.histplot(df['paperless_billing'], color='c', kde=False, label='All', bins=2);\n",
    "sns.histplot(gone['paperless_billing'], color='m', kde=False, label='Gone', bins=2);\n",
    "plt.ylabel('Count', fontsize=12)\n",
    "plt.xlabel('paperless_billing', fontsize=12)\n",
    "plt.legend()\n",
    "\n",
    "plt.grid(True);"
   ]
  },
  {
   "cell_type": "markdown",
   "metadata": {},
   "source": [
    "По факту выставления счёта на электронную почту ушедшие клиенты практически не отличаются от всех"
   ]
  },
  {
   "cell_type": "markdown",
   "metadata": {
    "id": "0r9maxFMYYw_"
   },
   "source": [
    "#### payment_method"
   ]
  },
  {
   "cell_type": "code",
   "execution_count": 40,
   "metadata": {
    "colab": {
     "base_uri": "https://localhost:8080/"
    },
    "id": "bQ4GNS7dYa-b",
    "outputId": "d157be6d-3f63-4126-fe61-93fbb469f5fb"
   },
   "outputs": [
    {
     "data": {
      "text/plain": [
       "Electronic check             2365\n",
       "Mailed check                 1612\n",
       "Bank transfer (automatic)    1544\n",
       "Credit card (automatic)      1522\n",
       "Name: payment_method, dtype: int64"
      ]
     },
     "execution_count": 40,
     "metadata": {},
     "output_type": "execute_result"
    }
   ],
   "source": [
    "df['payment_method'].value_counts()"
   ]
  },
  {
   "cell_type": "code",
   "execution_count": 41,
   "metadata": {
    "colab": {
     "base_uri": "https://localhost:8080/",
     "height": 465
    },
    "id": "VWZ1SEy-YbmJ",
    "outputId": "d4813f13-c50f-45ff-cde1-822a7a7cf5ef"
   },
   "outputs": [
    {
     "data": {
      "image/png": "[encoded data removed]",
      "text/plain": [
       "<Figure size 1440x504 with 1 Axes>"
      ]
     },
     "metadata": {
      "needs_background": "light"
     },
     "output_type": "display_data"
    }
   ],
   "source": [
    "plt.figure(figsize=(20, 7))\n",
    "plt.title('Payment Method', fontsize=20)\n",
    "sns.histplot(df['payment_method'], color='c', kde=False, label='All', bins=2);\n",
    "sns.histplot(gone['payment_method'], color='m', kde=False, label='Gone', bins=2);\n",
    "plt.ylabel('Count', fontsize=12)\n",
    "plt.xlabel('payment_method', fontsize=12)\n",
    "plt.legend()\n",
    "\n",
    "plt.grid(True);"
   ]
  },
  {
   "cell_type": "markdown",
   "metadata": {},
   "source": [
    "Мы видим, что больщинство клиентов в качестве способа оплаты используют электронный чек. Распределения для ушедших клиентов и для всех схожи"
   ]
  },
  {
   "cell_type": "markdown",
   "metadata": {
    "id": "0DlehKjKZfeN"
   },
   "source": [
    "#### monthly_charges"
   ]
  },
  {
   "cell_type": "code",
   "execution_count": 42,
   "metadata": {
    "colab": {
     "base_uri": "https://localhost:8080/"
    },
    "id": "rZZRFY6WZhoI",
    "outputId": "4bee2452-c84d-44eb-9182-3aa77e1e2e88"
   },
   "outputs": [
    {
     "data": {
      "text/plain": [
       "20.05     61\n",
       "19.85     45\n",
       "19.95     44\n",
       "19.90     44\n",
       "20.00     43\n",
       "          ..\n",
       "23.65      1\n",
       "114.70     1\n",
       "43.65      1\n",
       "87.80      1\n",
       "78.70      1\n",
       "Name: monthly_charges, Length: 1585, dtype: int64"
      ]
     },
     "execution_count": 42,
     "metadata": {},
     "output_type": "execute_result"
    }
   ],
   "source": [
    "df['monthly_charges'].value_counts()"
   ]
  },
  {
   "cell_type": "code",
   "execution_count": 43,
   "metadata": {
    "colab": {
     "base_uri": "https://localhost:8080/",
     "height": 781
    },
    "id": "V1YBKHrMZpG6",
    "outputId": "c05253e6-5610-43aa-836d-55f6b717afdf"
   },
   "outputs": [
    {
     "name": "stderr",
     "output_type": "stream",
     "text": [
      "C:\\Users\\Anastasia\\anaconda3\\lib\\site-packages\\seaborn\\distributions.py:2619: FutureWarning: `distplot` is a deprecated function and will be removed in a future version. Please adapt your code to use either `displot` (a figure-level function with similar flexibility) or `histplot` (an axes-level function for histograms).\n",
      "  warnings.warn(msg, FutureWarning)\n",
      "C:\\Users\\Anastasia\\anaconda3\\lib\\site-packages\\seaborn\\distributions.py:2619: FutureWarning: `distplot` is a deprecated function and will be removed in a future version. Please adapt your code to use either `displot` (a figure-level function with similar flexibility) or `histplot` (an axes-level function for histograms).\n",
      "  warnings.warn(msg, FutureWarning)\n"
     ]
    },
    {
     "data": {
      "image/png": "[encoded data removed]",
      "text/plain": [
       "<Figure size 1280x800 with 1 Axes>"
      ]
     },
     "metadata": {
      "needs_background": "light"
     },
     "output_type": "display_data"
    }
   ],
   "source": [
    "plt.figure(figsize=(16,10), dpi= 80)\n",
    "sns.distplot(gone['monthly_charges'], color=\"m\", label=\"Gone\")\n",
    "sns.distplot(df['monthly_charges'], color=\"c\", label=\"All\")\n",
    "\n",
    "plt.title('Распределения ежемесячных платежей ушедших и всех клиентов', fontsize=20)\n",
    "plt.legend()\n",
    "plt.xlabel('Сумма')\n",
    "plt.show()"
   ]
  },
  {
   "cell_type": "markdown",
   "metadata": {},
   "source": [
    "На графике видны три пика - наверное, три разных тарифа. Мы видим, что на пике, находящемся посередине ушедших клиентов и всех примерно одинаково. На пике с наименьшим значением ушедших клиентов гораздо меньше, а на пике с наибольшим значением - гораздо больше. Можем сказать, что клиенты, которые ежемесячно платят больше, уходят чаще. "
   ]
  },
  {
   "cell_type": "markdown",
   "metadata": {
    "id": "TGU3Yb6hrGty"
   },
   "source": [
    "#### total_charges"
   ]
  },
  {
   "cell_type": "markdown",
   "metadata": {
    "id": "WZl5500ZtXjZ"
   },
   "source": [
    "Всего потрачено денег на услуги"
   ]
  },
  {
   "cell_type": "code",
   "execution_count": 44,
   "metadata": {
    "colab": {
     "base_uri": "https://localhost:8080/"
    },
    "id": "ARMw4lmxrHx0",
    "outputId": "e0256cd4-1747-497b-e1c2-8308d8502f01"
   },
   "outputs": [
    {
     "data": {
      "text/plain": [
       "          11\n",
       "20.2      11\n",
       "19.75      9\n",
       "20.05      8\n",
       "19.9       8\n",
       "          ..\n",
       "6849.4     1\n",
       "692.35     1\n",
       "130.15     1\n",
       "3211.9     1\n",
       "6844.5     1\n",
       "Name: total_charges, Length: 6531, dtype: int64"
      ]
     },
     "execution_count": 44,
     "metadata": {},
     "output_type": "execute_result"
    }
   ],
   "source": [
    "df['total_charges'].value_counts()"
   ]
  },
  {
   "cell_type": "markdown",
   "metadata": {
    "id": "0j8S91NouC02"
   },
   "source": [
    "Видим значение \"\", встречающиеся 11 раз. Судя по всему из-за него тип данных в этом столбце object, а не float. Посмотрим, в каких строках встречается это значение"
   ]
  },
  {
   "cell_type": "code",
   "execution_count": 45,
   "metadata": {
    "colab": {
     "base_uri": "https://localhost:8080/",
     "height": 710
    },
    "id": "Pvm6hPE8uCQC",
    "outputId": "445e1123-46c8-44b8-f5dd-8f03131cca00"
   },
   "outputs": [
    {
     "data": {
      "text/html": [
       "<div>\n",
       "<style scoped>\n",
       "    .dataframe tbody tr th:only-of-type {\n",
       "        vertical-align: middle;\n",
       "    }\n",
       "\n",
       "    .dataframe tbody tr th {\n",
       "        vertical-align: top;\n",
       "    }\n",
       "\n",
       "    .dataframe thead th {\n",
       "        text-align: right;\n",
       "    }\n",
       "</style>\n",
       "<table border=\"1\" class=\"dataframe\">\n",
       "  <thead>\n",
       "    <tr style=\"text-align: right;\">\n",
       "      <th></th>\n",
       "      <th>begin_date</th>\n",
       "      <th>end_date</th>\n",
       "      <th>type</th>\n",
       "      <th>paperless_billing</th>\n",
       "      <th>payment_method</th>\n",
       "      <th>monthly_charges</th>\n",
       "      <th>total_charges</th>\n",
       "      <th>gender</th>\n",
       "      <th>senior_citizen</th>\n",
       "      <th>partner</th>\n",
       "      <th>...</th>\n",
       "      <th>internet_service</th>\n",
       "      <th>online_security</th>\n",
       "      <th>online_backup</th>\n",
       "      <th>device_protection</th>\n",
       "      <th>tech_support</th>\n",
       "      <th>streaming_tv</th>\n",
       "      <th>streaming_movies</th>\n",
       "      <th>multiple_lines</th>\n",
       "      <th>churn</th>\n",
       "      <th>period</th>\n",
       "    </tr>\n",
       "    <tr>\n",
       "      <th>customerID</th>\n",
       "      <th></th>\n",
       "      <th></th>\n",
       "      <th></th>\n",
       "      <th></th>\n",
       "      <th></th>\n",
       "      <th></th>\n",
       "      <th></th>\n",
       "      <th></th>\n",
       "      <th></th>\n",
       "      <th></th>\n",
       "      <th></th>\n",
       "      <th></th>\n",
       "      <th></th>\n",
       "      <th></th>\n",
       "      <th></th>\n",
       "      <th></th>\n",
       "      <th></th>\n",
       "      <th></th>\n",
       "      <th></th>\n",
       "      <th></th>\n",
       "      <th></th>\n",
       "    </tr>\n",
       "  </thead>\n",
       "  <tbody>\n",
       "    <tr>\n",
       "      <th>4472-LVYGI</th>\n",
       "      <td>2020-02-01</td>\n",
       "      <td>2020-02-01</td>\n",
       "      <td>Two year</td>\n",
       "      <td>1</td>\n",
       "      <td>Bank transfer (automatic)</td>\n",
       "      <td>52.55</td>\n",
       "      <td>NaN</td>\n",
       "      <td>Female</td>\n",
       "      <td>0</td>\n",
       "      <td>Yes</td>\n",
       "      <td>...</td>\n",
       "      <td>DSL</td>\n",
       "      <td>Yes</td>\n",
       "      <td>No</td>\n",
       "      <td>Yes</td>\n",
       "      <td>Yes</td>\n",
       "      <td>Yes</td>\n",
       "      <td>No</td>\n",
       "      <td>NaN</td>\n",
       "      <td>0</td>\n",
       "      <td>0</td>\n",
       "    </tr>\n",
       "    <tr>\n",
       "      <th>3115-CZMZD</th>\n",
       "      <td>2020-02-01</td>\n",
       "      <td>2020-02-01</td>\n",
       "      <td>Two year</td>\n",
       "      <td>0</td>\n",
       "      <td>Mailed check</td>\n",
       "      <td>20.25</td>\n",
       "      <td>NaN</td>\n",
       "      <td>Male</td>\n",
       "      <td>0</td>\n",
       "      <td>No</td>\n",
       "      <td>...</td>\n",
       "      <td>NaN</td>\n",
       "      <td>NaN</td>\n",
       "      <td>NaN</td>\n",
       "      <td>NaN</td>\n",
       "      <td>NaN</td>\n",
       "      <td>NaN</td>\n",
       "      <td>NaN</td>\n",
       "      <td>No</td>\n",
       "      <td>0</td>\n",
       "      <td>0</td>\n",
       "    </tr>\n",
       "    <tr>\n",
       "      <th>5709-LVOEQ</th>\n",
       "      <td>2020-02-01</td>\n",
       "      <td>2020-02-01</td>\n",
       "      <td>Two year</td>\n",
       "      <td>0</td>\n",
       "      <td>Mailed check</td>\n",
       "      <td>80.85</td>\n",
       "      <td>NaN</td>\n",
       "      <td>Female</td>\n",
       "      <td>0</td>\n",
       "      <td>Yes</td>\n",
       "      <td>...</td>\n",
       "      <td>DSL</td>\n",
       "      <td>Yes</td>\n",
       "      <td>Yes</td>\n",
       "      <td>Yes</td>\n",
       "      <td>No</td>\n",
       "      <td>Yes</td>\n",
       "      <td>Yes</td>\n",
       "      <td>No</td>\n",
       "      <td>0</td>\n",
       "      <td>0</td>\n",
       "    </tr>\n",
       "    <tr>\n",
       "      <th>4367-NUYAO</th>\n",
       "      <td>2020-02-01</td>\n",
       "      <td>2020-02-01</td>\n",
       "      <td>Two year</td>\n",
       "      <td>0</td>\n",
       "      <td>Mailed check</td>\n",
       "      <td>25.75</td>\n",
       "      <td>NaN</td>\n",
       "      <td>Male</td>\n",
       "      <td>0</td>\n",
       "      <td>Yes</td>\n",
       "      <td>...</td>\n",
       "      <td>NaN</td>\n",
       "      <td>NaN</td>\n",
       "      <td>NaN</td>\n",
       "      <td>NaN</td>\n",
       "      <td>NaN</td>\n",
       "      <td>NaN</td>\n",
       "      <td>NaN</td>\n",
       "      <td>Yes</td>\n",
       "      <td>0</td>\n",
       "      <td>0</td>\n",
       "    </tr>\n",
       "    <tr>\n",
       "      <th>1371-DWPAZ</th>\n",
       "      <td>2020-02-01</td>\n",
       "      <td>2020-02-01</td>\n",
       "      <td>Two year</td>\n",
       "      <td>0</td>\n",
       "      <td>Credit card (automatic)</td>\n",
       "      <td>56.05</td>\n",
       "      <td>NaN</td>\n",
       "      <td>Female</td>\n",
       "      <td>0</td>\n",
       "      <td>Yes</td>\n",
       "      <td>...</td>\n",
       "      <td>DSL</td>\n",
       "      <td>Yes</td>\n",
       "      <td>Yes</td>\n",
       "      <td>Yes</td>\n",
       "      <td>Yes</td>\n",
       "      <td>Yes</td>\n",
       "      <td>No</td>\n",
       "      <td>NaN</td>\n",
       "      <td>0</td>\n",
       "      <td>0</td>\n",
       "    </tr>\n",
       "    <tr>\n",
       "      <th>7644-OMVMY</th>\n",
       "      <td>2020-02-01</td>\n",
       "      <td>2020-02-01</td>\n",
       "      <td>Two year</td>\n",
       "      <td>0</td>\n",
       "      <td>Mailed check</td>\n",
       "      <td>19.85</td>\n",
       "      <td>NaN</td>\n",
       "      <td>Male</td>\n",
       "      <td>0</td>\n",
       "      <td>Yes</td>\n",
       "      <td>...</td>\n",
       "      <td>NaN</td>\n",
       "      <td>NaN</td>\n",
       "      <td>NaN</td>\n",
       "      <td>NaN</td>\n",
       "      <td>NaN</td>\n",
       "      <td>NaN</td>\n",
       "      <td>NaN</td>\n",
       "      <td>No</td>\n",
       "      <td>0</td>\n",
       "      <td>0</td>\n",
       "    </tr>\n",
       "    <tr>\n",
       "      <th>3213-VVOLG</th>\n",
       "      <td>2020-02-01</td>\n",
       "      <td>2020-02-01</td>\n",
       "      <td>Two year</td>\n",
       "      <td>0</td>\n",
       "      <td>Mailed check</td>\n",
       "      <td>25.35</td>\n",
       "      <td>NaN</td>\n",
       "      <td>Male</td>\n",
       "      <td>0</td>\n",
       "      <td>Yes</td>\n",
       "      <td>...</td>\n",
       "      <td>NaN</td>\n",
       "      <td>NaN</td>\n",
       "      <td>NaN</td>\n",
       "      <td>NaN</td>\n",
       "      <td>NaN</td>\n",
       "      <td>NaN</td>\n",
       "      <td>NaN</td>\n",
       "      <td>Yes</td>\n",
       "      <td>0</td>\n",
       "      <td>0</td>\n",
       "    </tr>\n",
       "    <tr>\n",
       "      <th>2520-SGTTA</th>\n",
       "      <td>2020-02-01</td>\n",
       "      <td>2020-02-01</td>\n",
       "      <td>Two year</td>\n",
       "      <td>0</td>\n",
       "      <td>Mailed check</td>\n",
       "      <td>20.00</td>\n",
       "      <td>NaN</td>\n",
       "      <td>Female</td>\n",
       "      <td>0</td>\n",
       "      <td>Yes</td>\n",
       "      <td>...</td>\n",
       "      <td>NaN</td>\n",
       "      <td>NaN</td>\n",
       "      <td>NaN</td>\n",
       "      <td>NaN</td>\n",
       "      <td>NaN</td>\n",
       "      <td>NaN</td>\n",
       "      <td>NaN</td>\n",
       "      <td>No</td>\n",
       "      <td>0</td>\n",
       "      <td>0</td>\n",
       "    </tr>\n",
       "    <tr>\n",
       "      <th>2923-ARZLG</th>\n",
       "      <td>2020-02-01</td>\n",
       "      <td>2020-02-01</td>\n",
       "      <td>One year</td>\n",
       "      <td>1</td>\n",
       "      <td>Mailed check</td>\n",
       "      <td>19.70</td>\n",
       "      <td>NaN</td>\n",
       "      <td>Male</td>\n",
       "      <td>0</td>\n",
       "      <td>Yes</td>\n",
       "      <td>...</td>\n",
       "      <td>NaN</td>\n",
       "      <td>NaN</td>\n",
       "      <td>NaN</td>\n",
       "      <td>NaN</td>\n",
       "      <td>NaN</td>\n",
       "      <td>NaN</td>\n",
       "      <td>NaN</td>\n",
       "      <td>No</td>\n",
       "      <td>0</td>\n",
       "      <td>0</td>\n",
       "    </tr>\n",
       "    <tr>\n",
       "      <th>4075-WKNIU</th>\n",
       "      <td>2020-02-01</td>\n",
       "      <td>2020-02-01</td>\n",
       "      <td>Two year</td>\n",
       "      <td>0</td>\n",
       "      <td>Mailed check</td>\n",
       "      <td>73.35</td>\n",
       "      <td>NaN</td>\n",
       "      <td>Female</td>\n",
       "      <td>0</td>\n",
       "      <td>Yes</td>\n",
       "      <td>...</td>\n",
       "      <td>DSL</td>\n",
       "      <td>No</td>\n",
       "      <td>Yes</td>\n",
       "      <td>Yes</td>\n",
       "      <td>Yes</td>\n",
       "      <td>Yes</td>\n",
       "      <td>No</td>\n",
       "      <td>Yes</td>\n",
       "      <td>0</td>\n",
       "      <td>0</td>\n",
       "    </tr>\n",
       "    <tr>\n",
       "      <th>2775-SEFEE</th>\n",
       "      <td>2020-02-01</td>\n",
       "      <td>2020-02-01</td>\n",
       "      <td>Two year</td>\n",
       "      <td>1</td>\n",
       "      <td>Bank transfer (automatic)</td>\n",
       "      <td>61.90</td>\n",
       "      <td>NaN</td>\n",
       "      <td>Male</td>\n",
       "      <td>0</td>\n",
       "      <td>No</td>\n",
       "      <td>...</td>\n",
       "      <td>DSL</td>\n",
       "      <td>Yes</td>\n",
       "      <td>Yes</td>\n",
       "      <td>No</td>\n",
       "      <td>Yes</td>\n",
       "      <td>No</td>\n",
       "      <td>No</td>\n",
       "      <td>Yes</td>\n",
       "      <td>0</td>\n",
       "      <td>0</td>\n",
       "    </tr>\n",
       "  </tbody>\n",
       "</table>\n",
       "<p>11 rows × 21 columns</p>\n",
       "</div>"
      ],
      "text/plain": [
       "           begin_date   end_date      type  paperless_billing  \\\n",
       "customerID                                                      \n",
       "4472-LVYGI 2020-02-01 2020-02-01  Two year                  1   \n",
       "3115-CZMZD 2020-02-01 2020-02-01  Two year                  0   \n",
       "5709-LVOEQ 2020-02-01 2020-02-01  Two year                  0   \n",
       "4367-NUYAO 2020-02-01 2020-02-01  Two year                  0   \n",
       "1371-DWPAZ 2020-02-01 2020-02-01  Two year                  0   \n",
       "7644-OMVMY 2020-02-01 2020-02-01  Two year                  0   \n",
       "3213-VVOLG 2020-02-01 2020-02-01  Two year                  0   \n",
       "2520-SGTTA 2020-02-01 2020-02-01  Two year                  0   \n",
       "2923-ARZLG 2020-02-01 2020-02-01  One year                  1   \n",
       "4075-WKNIU 2020-02-01 2020-02-01  Two year                  0   \n",
       "2775-SEFEE 2020-02-01 2020-02-01  Two year                  1   \n",
       "\n",
       "                       payment_method  monthly_charges  total_charges  gender  \\\n",
       "customerID                                                                      \n",
       "4472-LVYGI  Bank transfer (automatic)            52.55            NaN  Female   \n",
       "3115-CZMZD               Mailed check            20.25            NaN    Male   \n",
       "5709-LVOEQ               Mailed check            80.85            NaN  Female   \n",
       "4367-NUYAO               Mailed check            25.75            NaN    Male   \n",
       "1371-DWPAZ    Credit card (automatic)            56.05            NaN  Female   \n",
       "7644-OMVMY               Mailed check            19.85            NaN    Male   \n",
       "3213-VVOLG               Mailed check            25.35            NaN    Male   \n",
       "2520-SGTTA               Mailed check            20.00            NaN  Female   \n",
       "2923-ARZLG               Mailed check            19.70            NaN    Male   \n",
       "4075-WKNIU               Mailed check            73.35            NaN  Female   \n",
       "2775-SEFEE  Bank transfer (automatic)            61.90            NaN    Male   \n",
       "\n",
       "            senior_citizen partner  ... internet_service online_security  \\\n",
       "customerID                          ...                                    \n",
       "4472-LVYGI               0     Yes  ...              DSL             Yes   \n",
       "3115-CZMZD               0      No  ...              NaN             NaN   \n",
       "5709-LVOEQ               0     Yes  ...              DSL             Yes   \n",
       "4367-NUYAO               0     Yes  ...              NaN             NaN   \n",
       "1371-DWPAZ               0     Yes  ...              DSL             Yes   \n",
       "7644-OMVMY               0     Yes  ...              NaN             NaN   \n",
       "3213-VVOLG               0     Yes  ...              NaN             NaN   \n",
       "2520-SGTTA               0     Yes  ...              NaN             NaN   \n",
       "2923-ARZLG               0     Yes  ...              NaN             NaN   \n",
       "4075-WKNIU               0     Yes  ...              DSL              No   \n",
       "2775-SEFEE               0      No  ...              DSL             Yes   \n",
       "\n",
       "           online_backup device_protection tech_support streaming_tv  \\\n",
       "customerID                                                             \n",
       "4472-LVYGI            No               Yes          Yes          Yes   \n",
       "3115-CZMZD           NaN               NaN          NaN          NaN   \n",
       "5709-LVOEQ           Yes               Yes           No          Yes   \n",
       "4367-NUYAO           NaN               NaN          NaN          NaN   \n",
       "1371-DWPAZ           Yes               Yes          Yes          Yes   \n",
       "7644-OMVMY           NaN               NaN          NaN          NaN   \n",
       "3213-VVOLG           NaN               NaN          NaN          NaN   \n",
       "2520-SGTTA           NaN               NaN          NaN          NaN   \n",
       "2923-ARZLG           NaN               NaN          NaN          NaN   \n",
       "4075-WKNIU           Yes               Yes          Yes          Yes   \n",
       "2775-SEFEE           Yes                No          Yes           No   \n",
       "\n",
       "           streaming_movies multiple_lines churn  period  \n",
       "customerID                                                \n",
       "4472-LVYGI               No            NaN     0       0  \n",
       "3115-CZMZD              NaN             No     0       0  \n",
       "5709-LVOEQ              Yes             No     0       0  \n",
       "4367-NUYAO              NaN            Yes     0       0  \n",
       "1371-DWPAZ               No            NaN     0       0  \n",
       "7644-OMVMY              NaN             No     0       0  \n",
       "3213-VVOLG              NaN            Yes     0       0  \n",
       "2520-SGTTA              NaN             No     0       0  \n",
       "2923-ARZLG              NaN             No     0       0  \n",
       "4075-WKNIU               No            Yes     0       0  \n",
       "2775-SEFEE               No            Yes     0       0  \n",
       "\n",
       "[11 rows x 21 columns]"
      ]
     },
     "execution_count": 45,
     "metadata": {},
     "output_type": "execute_result"
    }
   ],
   "source": [
    "df['total_charges'] = pd.to_numeric(df['total_charges'], errors='coerce')\n",
    "df[df['total_charges'].isna()]"
   ]
  },
  {
   "cell_type": "markdown",
   "metadata": {
    "id": "itn1pg6pyjPu"
   },
   "source": [
    "Удалим эти пропуски. Посокльку т.к. эти клиенты начали использовать услуги в день сбора данных, по ним у нас нет толком информации"
   ]
  },
  {
   "cell_type": "code",
   "execution_count": 46,
   "metadata": {
    "id": "3UJ8IQQqzBUO"
   },
   "outputs": [],
   "source": [
    "df.dropna(subset=['total_charges'], inplace=True)"
   ]
  },
  {
   "cell_type": "code",
   "execution_count": 47,
   "metadata": {
    "colab": {
     "base_uri": "https://localhost:8080/",
     "height": 780
    },
    "id": "AFMRaT-LrH0j",
    "outputId": "fa8e3f81-f855-436e-cfa1-cd8a868f4560"
   },
   "outputs": [
    {
     "name": "stderr",
     "output_type": "stream",
     "text": [
      "C:\\Users\\Anastasia\\anaconda3\\lib\\site-packages\\seaborn\\distributions.py:2619: FutureWarning: `distplot` is a deprecated function and will be removed in a future version. Please adapt your code to use either `displot` (a figure-level function with similar flexibility) or `histplot` (an axes-level function for histograms).\n",
      "  warnings.warn(msg, FutureWarning)\n",
      "C:\\Users\\Anastasia\\anaconda3\\lib\\site-packages\\seaborn\\distributions.py:2619: FutureWarning: `distplot` is a deprecated function and will be removed in a future version. Please adapt your code to use either `displot` (a figure-level function with similar flexibility) or `histplot` (an axes-level function for histograms).\n",
      "  warnings.warn(msg, FutureWarning)\n"
     ]
    },
    {
     "data": {
      "image/png": "[encoded data removed]",
      "text/plain": [
       "<Figure size 1280x800 with 1 Axes>"
      ]
     },
     "metadata": {
      "needs_background": "light"
     },
     "output_type": "display_data"
    }
   ],
   "source": [
    "plt.figure(figsize=(16,10), dpi= 80)\n",
    "sns.distplot(gone['total_charges'], color=\"m\", label=\"Gone\")\n",
    "sns.distplot(df['total_charges'], color=\"c\", label=\"All\")\n",
    "\n",
    "plt.title('Распределения потраченных денег ушедших и всех клиентов', fontsize=20)\n",
    "plt.legend()\n",
    "plt.xlabel('Сумма')\n",
    "plt.show()"
   ]
  },
  {
   "cell_type": "markdown",
   "metadata": {},
   "source": [
    "Видим примерно равные картины для ушедших клиентов и для всех - пик в районе нуля и длинный хвост вправо"
   ]
  },
  {
   "cell_type": "markdown",
   "metadata": {
    "id": "v94fC2gxzxbW"
   },
   "source": [
    "#### gender"
   ]
  },
  {
   "cell_type": "code",
   "execution_count": 48,
   "metadata": {
    "colab": {
     "base_uri": "https://localhost:8080/"
    },
    "id": "Rvd1Qv0yrH3v",
    "outputId": "f61fc881-cd75-4f5c-e39b-b5c51252ef1a"
   },
   "outputs": [
    {
     "data": {
      "text/plain": [
       "Male      3549\n",
       "Female    3483\n",
       "Name: gender, dtype: int64"
      ]
     },
     "execution_count": 48,
     "metadata": {},
     "output_type": "execute_result"
    }
   ],
   "source": [
    "df['gender'].value_counts()"
   ]
  },
  {
   "cell_type": "code",
   "execution_count": 49,
   "metadata": {
    "colab": {
     "base_uri": "https://localhost:8080/",
     "height": 486
    },
    "id": "eLCaOmuyz8Bf",
    "outputId": "321d4cac-a37b-4349-a3ad-5df1e1514143",
    "scrolled": true
   },
   "outputs": [
    {
     "data": {
      "image/png": "[encoded data removed]",
      "text/plain": [
       "<Figure size 1440x504 with 1 Axes>"
      ]
     },
     "metadata": {
      "needs_background": "light"
     },
     "output_type": "display_data"
    }
   ],
   "source": [
    "plt.figure(figsize=(20, 7))\n",
    "plt.title('Gender', fontsize=20)\n",
    "sns.histplot(df['gender'], color='c', kde=False, label='All', bins=2);\n",
    "sns.histplot(gone['gender'], color='m', kde=False, label='Gone', bins=2);\n",
    "plt.ylabel('Count', fontsize=12)\n",
    "plt.xlabel('gender', fontsize=12)\n",
    "plt.legend()\n",
    "\n",
    "plt.grid(True);"
   ]
  },
  {
   "cell_type": "markdown",
   "metadata": {},
   "source": [
    "Видим, что по гендеру нет разницы - и мужчин и женщин одинаковое количество в обеих группах"
   ]
  },
  {
   "cell_type": "markdown",
   "metadata": {
    "id": "cWt42Nvo0rgo"
   },
   "source": [
    "#### senior_citizen     "
   ]
  },
  {
   "cell_type": "markdown",
   "metadata": {
    "id": "e5vvEsSl01ns"
   },
   "source": [
    "Наличие пенсионного статуса по возрасту"
   ]
  },
  {
   "cell_type": "code",
   "execution_count": 50,
   "metadata": {
    "colab": {
     "base_uri": "https://localhost:8080/"
    },
    "id": "Irv_lK3K0vf8",
    "outputId": "781498be-8532-45c8-daa2-9d02c52d8ec2"
   },
   "outputs": [
    {
     "data": {
      "text/plain": [
       "0    5890\n",
       "1    1142\n",
       "Name: senior_citizen, dtype: int64"
      ]
     },
     "execution_count": 50,
     "metadata": {},
     "output_type": "execute_result"
    }
   ],
   "source": [
    "df['senior_citizen'].value_counts()"
   ]
  },
  {
   "cell_type": "code",
   "execution_count": 51,
   "metadata": {
    "colab": {
     "base_uri": "https://localhost:8080/",
     "height": 465
    },
    "id": "yO3SE6xN05po",
    "outputId": "949763f3-26cd-4324-e791-bb1a6de7fdee"
   },
   "outputs": [
    {
     "data": {
      "image/png": "[encoded data removed]",
      "text/plain": [
       "<Figure size 1440x504 with 1 Axes>"
      ]
     },
     "metadata": {
      "needs_background": "light"
     },
     "output_type": "display_data"
    }
   ],
   "source": [
    "plt.figure(figsize=(20, 7))\n",
    "plt.title('Senior citizen', fontsize=20)\n",
    "sns.histplot(df['senior_citizen'], color='c', kde=False, label='All', bins=2);\n",
    "sns.histplot(gone['senior_citizen'], color='m', kde=False, label='Gone', bins=2);\n",
    "plt.ylabel('Count', fontsize=12)\n",
    "plt.xlabel('senior_citizen', fontsize=12)\n",
    "plt.legend()\n",
    "\n",
    "plt.grid(True);"
   ]
  },
  {
   "cell_type": "markdown",
   "metadata": {},
   "source": [
    "Пенсионный статус по возрасту по гистограмме вообще не влияет на факт ухода клиента. Распределения одинаковые для обеих групп"
   ]
  },
  {
   "cell_type": "markdown",
   "metadata": {
    "id": "I2kYraz51RQE"
   },
   "source": [
    "#### partner"
   ]
  },
  {
   "cell_type": "code",
   "execution_count": 52,
   "metadata": {
    "colab": {
     "base_uri": "https://localhost:8080/"
    },
    "id": "tmOplMlB1eyp",
    "outputId": "a9ac7986-c2e8-41d9-80fa-8015df3095f7"
   },
   "outputs": [
    {
     "data": {
      "text/plain": [
       "No     3639\n",
       "Yes    3393\n",
       "Name: partner, dtype: int64"
      ]
     },
     "execution_count": 52,
     "metadata": {},
     "output_type": "execute_result"
    }
   ],
   "source": [
    "df['partner'].value_counts()"
   ]
  },
  {
   "cell_type": "markdown",
   "metadata": {
    "id": "JG2-macQ2yg1"
   },
   "source": [
    "Перекодируем этот столбец"
   ]
  },
  {
   "cell_type": "code",
   "execution_count": 53,
   "metadata": {
    "id": "RP8nwvSf21GI"
   },
   "outputs": [],
   "source": [
    "df['partner'] = df['partner'].map({'No' : 0, 'Yes' : 1})"
   ]
  },
  {
   "cell_type": "code",
   "execution_count": 54,
   "metadata": {
    "id": "NSVJ469q2228"
   },
   "outputs": [],
   "source": [
    "gone['partner'] = gone['partner'].map({'No' : 0, 'Yes' : 1})"
   ]
  },
  {
   "cell_type": "code",
   "execution_count": 55,
   "metadata": {
    "colab": {
     "base_uri": "https://localhost:8080/",
     "height": 486
    },
    "id": "siaB9mSs2_bn",
    "outputId": "ee96e35f-84d6-4239-a72e-8d932ad248f3"
   },
   "outputs": [
    {
     "data": {
      "image/png": "[encoded data removed]",
      "text/plain": [
       "<Figure size 1440x504 with 1 Axes>"
      ]
     },
     "metadata": {
      "needs_background": "light"
     },
     "output_type": "display_data"
    }
   ],
   "source": [
    "plt.figure(figsize=(20, 7))\n",
    "plt.title('Partner', fontsize=20)\n",
    "sns.histplot(df['partner'], color='c', kde=False, label='All', bins=2);\n",
    "sns.histplot(gone['partner'], color='m', kde=False, label='Gone', bins=2);\n",
    "plt.ylabel('Count', fontsize=12)\n",
    "plt.xlabel('partner', fontsize=12)\n",
    "plt.legend()\n",
    "\n",
    "plt.grid(True);"
   ]
  },
  {
   "cell_type": "markdown",
   "metadata": {},
   "source": [
    "Налисие супруга(и) судя по гистограме не влияет на факт ухода клиента. Распределения практически идентичные"
   ]
  },
  {
   "cell_type": "markdown",
   "metadata": {
    "id": "6oh2Iz0K3gPP"
   },
   "source": [
    "#### dependents"
   ]
  },
  {
   "cell_type": "markdown",
   "metadata": {
    "id": "j94RnUkn3mZ_"
   },
   "source": [
    "наличие иждивенцев"
   ]
  },
  {
   "cell_type": "code",
   "execution_count": 56,
   "metadata": {
    "colab": {
     "base_uri": "https://localhost:8080/"
    },
    "id": "zHGIsnM23hhN",
    "outputId": "50d5bf28-6bdd-4c25-812b-8297eb65e481"
   },
   "outputs": [
    {
     "data": {
      "text/plain": [
       "No     4933\n",
       "Yes    2099\n",
       "Name: dependents, dtype: int64"
      ]
     },
     "execution_count": 56,
     "metadata": {},
     "output_type": "execute_result"
    }
   ],
   "source": [
    "df['dependents'].value_counts()"
   ]
  },
  {
   "cell_type": "code",
   "execution_count": 57,
   "metadata": {
    "id": "ihQlaQMs4VSy"
   },
   "outputs": [],
   "source": [
    "df['dependents'] = df['dependents'].map({'No' : 0, 'Yes' : 1})"
   ]
  },
  {
   "cell_type": "code",
   "execution_count": 58,
   "metadata": {
    "id": "WqaqcdCj4XWk"
   },
   "outputs": [],
   "source": [
    "gone['dependents'] = gone['dependents'].map({'No' : 0, 'Yes' : 1})"
   ]
  },
  {
   "cell_type": "code",
   "execution_count": 59,
   "metadata": {
    "colab": {
     "base_uri": "https://localhost:8080/",
     "height": 486
    },
    "id": "9xgaByq64cL-",
    "outputId": "96f54fcc-13b8-4d19-aacb-a051bdb75067",
    "scrolled": true
   },
   "outputs": [
    {
     "data": {
      "image/png": "[encoded data removed]",
      "text/plain": [
       "<Figure size 1440x504 with 1 Axes>"
      ]
     },
     "metadata": {
      "needs_background": "light"
     },
     "output_type": "display_data"
    }
   ],
   "source": [
    "plt.figure(figsize=(20, 7))\n",
    "plt.title('dependents', fontsize=20)\n",
    "sns.histplot(df['dependents'], color='c', kde=False, label='All', bins=2);\n",
    "sns.histplot(gone['dependents'], color='m', kde=False, label='Gone', bins=2);\n",
    "plt.ylabel('Count', fontsize=12)\n",
    "plt.xlabel('dependents', fontsize=12)\n",
    "plt.legend()\n",
    "\n",
    "plt.grid(True);"
   ]
  },
  {
   "cell_type": "markdown",
   "metadata": {},
   "source": [
    "Среди ушедших клиентов имеющих иждивенцев совсем мало. Этот признак скорее всего не будет значимым"
   ]
  },
  {
   "cell_type": "markdown",
   "metadata": {
    "id": "PHGu7-Da6ch7"
   },
   "source": [
    "#### internet_service"
   ]
  },
  {
   "cell_type": "code",
   "execution_count": 60,
   "metadata": {
    "colab": {
     "base_uri": "https://localhost:8080/"
    },
    "id": "WDBXdXm76eLj",
    "outputId": "c7b42fe8-672e-4192-c470-7ff376f796f0"
   },
   "outputs": [
    {
     "data": {
      "text/plain": [
       "Fiber optic    3096\n",
       "DSL            2416\n",
       "Name: internet_service, dtype: int64"
      ]
     },
     "execution_count": 60,
     "metadata": {},
     "output_type": "execute_result"
    }
   ],
   "source": [
    "df['internet_service'].value_counts()"
   ]
  },
  {
   "cell_type": "code",
   "execution_count": 61,
   "metadata": {
    "id": "8cGuORpu7av_"
   },
   "outputs": [],
   "source": [
    "df['internet_service'] = df['internet_service'].fillna('No')"
   ]
  },
  {
   "cell_type": "code",
   "execution_count": 62,
   "metadata": {
    "id": "_NeuKuzvDp4l"
   },
   "outputs": [],
   "source": [
    "gone['internet_service'] = gone['internet_service'].fillna('No')"
   ]
  },
  {
   "cell_type": "code",
   "execution_count": 63,
   "metadata": {
    "colab": {
     "base_uri": "https://localhost:8080/",
     "height": 486
    },
    "id": "fVon1GhFBgrn",
    "outputId": "a1368811-2c4e-4c87-cb8e-15a43e77eb65"
   },
   "outputs": [
    {
     "data": {
      "image/png": "[encoded data removed]",
      "text/plain": [
       "<Figure size 1440x504 with 1 Axes>"
      ]
     },
     "metadata": {
      "needs_background": "light"
     },
     "output_type": "display_data"
    }
   ],
   "source": [
    "plt.figure(figsize=(20, 7))\n",
    "plt.title('internet_service', fontsize=20)\n",
    "sns.histplot(df['internet_service'], color='c', kde=False, label='All', bins=2);\n",
    "sns.histplot(gone['internet_service'], color='m', kde=False, label='Gone', bins=2);\n",
    "plt.ylabel('Count', fontsize=12)\n",
    "plt.xlabel('internet_service', fontsize=12)\n",
    "plt.legend()\n",
    "\n",
    "plt.grid(True);"
   ]
  },
  {
   "cell_type": "markdown",
   "metadata": {},
   "source": [
    "Распределения практически не отличаются. Можно отметить, что ушедших клиентов, не пользовавшихся этой услугой очень мало. "
   ]
  },
  {
   "cell_type": "markdown",
   "metadata": {
    "id": "UvweycnVDxxk"
   },
   "source": [
    "#### online_security"
   ]
  },
  {
   "cell_type": "code",
   "execution_count": 64,
   "metadata": {
    "colab": {
     "base_uri": "https://localhost:8080/"
    },
    "id": "EmrlkTpCDywi",
    "outputId": "189ff8e8-6d91-459d-cb85-47ef906f06ca"
   },
   "outputs": [
    {
     "data": {
      "text/plain": [
       "No     3497\n",
       "Yes    2015\n",
       "Name: online_security, dtype: int64"
      ]
     },
     "execution_count": 64,
     "metadata": {},
     "output_type": "execute_result"
    }
   ],
   "source": [
    "df['online_security'].value_counts()"
   ]
  },
  {
   "cell_type": "code",
   "execution_count": 65,
   "metadata": {
    "id": "tMUdFp9eEnm7"
   },
   "outputs": [],
   "source": [
    "df['online_security'] = df['online_security'].map({'No' : 0, 'Yes' : 1})"
   ]
  },
  {
   "cell_type": "code",
   "execution_count": 66,
   "metadata": {
    "id": "5sWC5MMpErAm"
   },
   "outputs": [],
   "source": [
    "gone['online_security'] = gone['online_security'].map({'No' : 0, 'Yes' : 1})"
   ]
  },
  {
   "cell_type": "code",
   "execution_count": 67,
   "metadata": {
    "id": "925i4dTuEv7t"
   },
   "outputs": [],
   "source": [
    "df['online_security'] = df['online_security'].fillna(0)"
   ]
  },
  {
   "cell_type": "code",
   "execution_count": 68,
   "metadata": {
    "id": "qOihwkPQEwVe"
   },
   "outputs": [],
   "source": [
    "gone['online_security'] = gone['online_security'].fillna(0)"
   ]
  },
  {
   "cell_type": "code",
   "execution_count": 69,
   "metadata": {
    "colab": {
     "base_uri": "https://localhost:8080/",
     "height": 486
    },
    "id": "eR5tfzEUE5t8",
    "outputId": "28aa49b3-e5f1-4fcc-b5f7-59de0e8a47f4"
   },
   "outputs": [
    {
     "data": {
      "image/png": "[encoded data removed]",
      "text/plain": [
       "<Figure size 1440x504 with 1 Axes>"
      ]
     },
     "metadata": {
      "needs_background": "light"
     },
     "output_type": "display_data"
    }
   ],
   "source": [
    "plt.figure(figsize=(20, 7))\n",
    "plt.title('online_security', fontsize=20)\n",
    "sns.histplot(df['online_security'], color='c', kde=False, label='All', bins=2);\n",
    "sns.histplot(gone['online_security'], color='m', kde=False, label='Gone', bins=2);\n",
    "plt.ylabel('Count', fontsize=12)\n",
    "plt.xlabel('online_security', fontsize=12)\n",
    "plt.legend()\n",
    "\n",
    "plt.grid(True);"
   ]
  },
  {
   "cell_type": "markdown",
   "metadata": {},
   "source": [
    "Ушедших клиентов, пользовавшихся услугой интернет-безопасности гораздо меньше. Но в целом распределения похожи"
   ]
  },
  {
   "cell_type": "markdown",
   "metadata": {
    "id": "k_v-t-faFIBn"
   },
   "source": [
    "#### online_backup"
   ]
  },
  {
   "cell_type": "code",
   "execution_count": 70,
   "metadata": {
    "colab": {
     "base_uri": "https://localhost:8080/"
    },
    "id": "JHtxUaSBFI7x",
    "outputId": "060d3820-b6b1-4986-d3b3-ceb926903cb1"
   },
   "outputs": [
    {
     "data": {
      "text/plain": [
       "No     3087\n",
       "Yes    2425\n",
       "Name: online_backup, dtype: int64"
      ]
     },
     "execution_count": 70,
     "metadata": {},
     "output_type": "execute_result"
    }
   ],
   "source": [
    "df['online_backup'].value_counts()"
   ]
  },
  {
   "cell_type": "code",
   "execution_count": 71,
   "metadata": {
    "id": "ygeurfS2FZx_"
   },
   "outputs": [],
   "source": [
    "df['online_backup'] = df['online_backup'].map({'No' : 0, 'Yes' : 1})"
   ]
  },
  {
   "cell_type": "code",
   "execution_count": 72,
   "metadata": {
    "id": "1kuvKZ4-FccJ"
   },
   "outputs": [],
   "source": [
    "gone['online_backup'] = gone['online_backup'].map({'No' : 0, 'Yes' : 1})"
   ]
  },
  {
   "cell_type": "code",
   "execution_count": 73,
   "metadata": {
    "id": "6frWrhl_FgxY"
   },
   "outputs": [],
   "source": [
    "df['online_backup'] = df['online_backup'].fillna(0)"
   ]
  },
  {
   "cell_type": "code",
   "execution_count": 74,
   "metadata": {
    "id": "DN0QA7AoFjCN"
   },
   "outputs": [],
   "source": [
    "gone['online_backup'] = gone['online_backup'].fillna(0)"
   ]
  },
  {
   "cell_type": "code",
   "execution_count": 75,
   "metadata": {
    "colab": {
     "base_uri": "https://localhost:8080/",
     "height": 486
    },
    "id": "Mr3Qk37cFnvX",
    "outputId": "712d8336-7b98-461d-9496-bd0fb5daa52c"
   },
   "outputs": [
    {
     "data": {
      "image/png": "[encoded data removed]",
      "text/plain": [
       "<Figure size 1440x504 with 1 Axes>"
      ]
     },
     "metadata": {
      "needs_background": "light"
     },
     "output_type": "display_data"
    }
   ],
   "source": [
    "plt.figure(figsize=(20, 7))\n",
    "plt.title('online_backup', fontsize=20)\n",
    "sns.histplot(df['online_backup'], color='c', kde=False, label='All', bins=2);\n",
    "sns.histplot(gone['online_backup'], color='m', kde=False, label='Gone', bins=2);\n",
    "plt.ylabel('Count', fontsize=12)\n",
    "plt.xlabel('online_backup', fontsize=12)\n",
    "plt.legend()\n",
    "\n",
    "plt.grid(True);"
   ]
  },
  {
   "cell_type": "markdown",
   "metadata": {},
   "source": [
    "Видим практически одинаковые распределения для ушедших клиентов и для всех"
   ]
  },
  {
   "cell_type": "markdown",
   "metadata": {
    "id": "_osmnpFfF9SB"
   },
   "source": [
    "#### device_protection"
   ]
  },
  {
   "cell_type": "code",
   "execution_count": 76,
   "metadata": {
    "colab": {
     "base_uri": "https://localhost:8080/"
    },
    "id": "DIIUDz0SF_eD",
    "outputId": "c8021cf4-6f65-4ed3-91e9-f86df4f2c644"
   },
   "outputs": [
    {
     "data": {
      "text/plain": [
       "No     3094\n",
       "Yes    2418\n",
       "Name: device_protection, dtype: int64"
      ]
     },
     "execution_count": 76,
     "metadata": {},
     "output_type": "execute_result"
    }
   ],
   "source": [
    "df['device_protection'].value_counts()"
   ]
  },
  {
   "cell_type": "code",
   "execution_count": 77,
   "metadata": {
    "id": "UbX7T0BuGGXH"
   },
   "outputs": [],
   "source": [
    "df['device_protection'] = df['device_protection'].map({'No' : 0, 'Yes' : 1})"
   ]
  },
  {
   "cell_type": "code",
   "execution_count": 78,
   "metadata": {
    "id": "aq7zL_YhGIUf"
   },
   "outputs": [],
   "source": [
    "gone['device_protection'] = gone['device_protection'].map({'No' : 0, 'Yes' : 1})"
   ]
  },
  {
   "cell_type": "code",
   "execution_count": 79,
   "metadata": {
    "id": "y5H2NbFbGM95"
   },
   "outputs": [],
   "source": [
    "df['device_protection'] = df['device_protection'].fillna(0)"
   ]
  },
  {
   "cell_type": "code",
   "execution_count": 80,
   "metadata": {
    "id": "-T51VtYUGPNI"
   },
   "outputs": [],
   "source": [
    "gone['device_protection'] = gone['device_protection'].fillna(0)"
   ]
  },
  {
   "cell_type": "code",
   "execution_count": 81,
   "metadata": {
    "colab": {
     "base_uri": "https://localhost:8080/",
     "height": 465
    },
    "id": "zG0gu7mmGUYP",
    "outputId": "e059fa3c-0bae-466e-ad03-1e4ed5c99037"
   },
   "outputs": [
    {
     "data": {
      "image/png": "[encoded data removed]",
      "text/plain": [
       "<Figure size 1440x504 with 1 Axes>"
      ]
     },
     "metadata": {
      "needs_background": "light"
     },
     "output_type": "display_data"
    }
   ],
   "source": [
    "plt.figure(figsize=(20, 7))\n",
    "plt.title('device_protection', fontsize=20)\n",
    "sns.histplot(df['device_protection'], color='c', kde=False, label='All', bins=2);\n",
    "sns.histplot(gone['device_protection'], color='m', kde=False, label='Gone', bins=2);\n",
    "plt.ylabel('Count', fontsize=12)\n",
    "plt.xlabel('device_protection', fontsize=12)\n",
    "plt.legend()\n",
    "\n",
    "plt.grid(True);"
   ]
  },
  {
   "cell_type": "markdown",
   "metadata": {},
   "source": [
    "Услугой антивируса ушедшие и все клиенты пользовались примерно одинаково"
   ]
  },
  {
   "cell_type": "markdown",
   "metadata": {
    "id": "JCp3m8R6Gldc"
   },
   "source": [
    "#### tech_support"
   ]
  },
  {
   "cell_type": "code",
   "execution_count": 82,
   "metadata": {
    "colab": {
     "base_uri": "https://localhost:8080/"
    },
    "id": "bJ_WkpwoGkeP",
    "outputId": "b84aa0af-77e5-4dc3-c11e-210f56aedef7"
   },
   "outputs": [
    {
     "data": {
      "text/plain": [
       "No     3472\n",
       "Yes    2040\n",
       "Name: tech_support, dtype: int64"
      ]
     },
     "execution_count": 82,
     "metadata": {},
     "output_type": "execute_result"
    }
   ],
   "source": [
    "df['tech_support'].value_counts()"
   ]
  },
  {
   "cell_type": "code",
   "execution_count": 83,
   "metadata": {
    "id": "2zLJA_8-HYVI"
   },
   "outputs": [],
   "source": [
    "df['tech_support'] = df['tech_support'].map({'No' : 0, 'Yes' : 1})"
   ]
  },
  {
   "cell_type": "code",
   "execution_count": 84,
   "metadata": {
    "id": "dUpctsVpHaUg"
   },
   "outputs": [],
   "source": [
    "gone['tech_support'] = gone['tech_support'].map({'No' : 0, 'Yes' : 1})"
   ]
  },
  {
   "cell_type": "code",
   "execution_count": 85,
   "metadata": {
    "id": "SEDiiKscHk_h"
   },
   "outputs": [],
   "source": [
    "df['tech_support'] = df['tech_support'].fillna(0)"
   ]
  },
  {
   "cell_type": "code",
   "execution_count": 86,
   "metadata": {
    "id": "k9jcYhRpHnDg"
   },
   "outputs": [],
   "source": [
    "gone['tech_support'] = gone['tech_support'].fillna(0)"
   ]
  },
  {
   "cell_type": "code",
   "execution_count": 87,
   "metadata": {
    "colab": {
     "base_uri": "https://localhost:8080/",
     "height": 486
    },
    "id": "JcfL8FXBHq5w",
    "outputId": "c551b687-72ad-46d9-e600-d5c269f9080a"
   },
   "outputs": [
    {
     "data": {
      "image/png": "[encoded data removed]",
      "text/plain": [
       "<Figure size 1440x504 with 1 Axes>"
      ]
     },
     "metadata": {
      "needs_background": "light"
     },
     "output_type": "display_data"
    }
   ],
   "source": [
    "plt.figure(figsize=(20, 7))\n",
    "plt.title('tech_support', fontsize=20)\n",
    "sns.histplot(df['tech_support'], color='c', kde=False, label='All', bins=2);\n",
    "sns.histplot(gone['tech_support'], color='m', kde=False, label='Gone', bins=2);\n",
    "plt.ylabel('Count', fontsize=12)\n",
    "plt.xlabel('tech_support', fontsize=12)\n",
    "plt.legend()\n",
    "\n",
    "plt.grid(True);"
   ]
  },
  {
   "cell_type": "markdown",
   "metadata": {},
   "source": [
    "Мы видим, что среди ушедших клиентов гораздо меньше тех, кто пользовался выделенной линией технической поддержки, сильно меньше, но в целом, распределения схожи."
   ]
  },
  {
   "cell_type": "markdown",
   "metadata": {
    "id": "6Jimg3EtIARH"
   },
   "source": [
    "#### streaming_tv "
   ]
  },
  {
   "cell_type": "code",
   "execution_count": 88,
   "metadata": {
    "colab": {
     "base_uri": "https://localhost:8080/"
    },
    "id": "IHaUaUdlIBO8",
    "outputId": "9c46f4e0-1cde-4c75-dd0f-48f28cff1fb0"
   },
   "outputs": [
    {
     "data": {
      "text/plain": [
       "No     2809\n",
       "Yes    2703\n",
       "Name: streaming_tv, dtype: int64"
      ]
     },
     "execution_count": 88,
     "metadata": {},
     "output_type": "execute_result"
    }
   ],
   "source": [
    "df['streaming_tv'].value_counts()"
   ]
  },
  {
   "cell_type": "code",
   "execution_count": 89,
   "metadata": {
    "id": "d5apTDykIjP5"
   },
   "outputs": [],
   "source": [
    "df['streaming_tv'] = df['streaming_tv'].map({'No' : 0, 'Yes' : 1})"
   ]
  },
  {
   "cell_type": "code",
   "execution_count": 90,
   "metadata": {
    "id": "CgCFDusgInUr"
   },
   "outputs": [],
   "source": [
    "gone['streaming_tv'] = gone['streaming_tv'].map({'No' : 0, 'Yes' : 1})"
   ]
  },
  {
   "cell_type": "code",
   "execution_count": 91,
   "metadata": {
    "id": "-DWGriJCIskL"
   },
   "outputs": [],
   "source": [
    "df['streaming_tv'] = df['streaming_tv'].fillna(0)"
   ]
  },
  {
   "cell_type": "code",
   "execution_count": 92,
   "metadata": {
    "id": "C1oywQHQIusF"
   },
   "outputs": [],
   "source": [
    "gone['streaming_tv'] = gone['streaming_tv'].fillna(0)"
   ]
  },
  {
   "cell_type": "code",
   "execution_count": 93,
   "metadata": {
    "colab": {
     "base_uri": "https://localhost:8080/",
     "height": 465
    },
    "id": "kiBC5PpbIzjr",
    "outputId": "a757cb31-3dbc-4521-bb2c-3fbd0593df09"
   },
   "outputs": [
    {
     "data": {
      "image/png": "[encoded data removed]",
      "text/plain": [
       "<Figure size 1440x504 with 1 Axes>"
      ]
     },
     "metadata": {
      "needs_background": "light"
     },
     "output_type": "display_data"
    }
   ],
   "source": [
    "plt.figure(figsize=(20, 7))\n",
    "plt.title('streaming_tv', fontsize=20)\n",
    "sns.histplot(df['streaming_tv'], color='c', kde=False, label='All', bins=2);\n",
    "sns.histplot(gone['streaming_tv'], color='m', kde=False, label='Gone', bins=2);\n",
    "plt.ylabel('Count', fontsize=12)\n",
    "plt.xlabel('streaming_tv', fontsize=12)\n",
    "plt.legend()\n",
    "\n",
    "plt.grid(True);"
   ]
  },
  {
   "cell_type": "markdown",
   "metadata": {},
   "source": [
    "Видим, что среди ушедших клиентов людей, пользовавшихся услугой стриммингового телевидения и не пользовавшихся ей, примерно поровну, в то время как среди всех клиентов распределения отличаются - тех, кто не пользовался заметно больше"
   ]
  },
  {
   "cell_type": "markdown",
   "metadata": {
    "id": "5YrQ38bmI6eJ"
   },
   "source": [
    "#### streaming_movies"
   ]
  },
  {
   "cell_type": "code",
   "execution_count": 94,
   "metadata": {
    "colab": {
     "base_uri": "https://localhost:8080/"
    },
    "id": "VCVbSW4vI7P-",
    "outputId": "f5ae64a5-d75a-46c3-bb6e-a74b59be2eee"
   },
   "outputs": [
    {
     "data": {
      "text/plain": [
       "No     2781\n",
       "Yes    2731\n",
       "Name: streaming_movies, dtype: int64"
      ]
     },
     "execution_count": 94,
     "metadata": {},
     "output_type": "execute_result"
    }
   ],
   "source": [
    "df['streaming_movies'].value_counts()"
   ]
  },
  {
   "cell_type": "code",
   "execution_count": 95,
   "metadata": {
    "id": "F98k8D4AJAyq"
   },
   "outputs": [],
   "source": [
    "df['streaming_movies'] = df['streaming_movies'].map({'No' : 0, 'Yes' : 1})"
   ]
  },
  {
   "cell_type": "code",
   "execution_count": 96,
   "metadata": {
    "id": "Ykm1Evk2JC4z"
   },
   "outputs": [],
   "source": [
    "gone['streaming_movies'] = gone['streaming_movies'].map({'No' : 0, 'Yes' : 1})"
   ]
  },
  {
   "cell_type": "code",
   "execution_count": 97,
   "metadata": {
    "id": "U81ZE1YaJHY_"
   },
   "outputs": [],
   "source": [
    "df['streaming_movies'] = df['streaming_movies'].fillna(0)"
   ]
  },
  {
   "cell_type": "code",
   "execution_count": 98,
   "metadata": {
    "id": "akwhdQxFJJdU"
   },
   "outputs": [],
   "source": [
    "gone['streaming_movies'] = gone['streaming_movies'].fillna(0)"
   ]
  },
  {
   "cell_type": "code",
   "execution_count": 99,
   "metadata": {
    "colab": {
     "base_uri": "https://localhost:8080/",
     "height": 486
    },
    "id": "A6I6EwFqJN0_",
    "outputId": "fd6b6e1e-7200-40fa-9390-d7989e3c374a"
   },
   "outputs": [
    {
     "data": {
      "image/png": "[encoded data removed]",
      "text/plain": [
       "<Figure size 1440x504 with 1 Axes>"
      ]
     },
     "metadata": {
      "needs_background": "light"
     },
     "output_type": "display_data"
    }
   ],
   "source": [
    "plt.figure(figsize=(20, 7))\n",
    "plt.title('streaming_movies', fontsize=20)\n",
    "sns.histplot(df['streaming_movies'], color='c', kde=False, label='All', bins=2);\n",
    "sns.histplot(gone['streaming_movies'], color='m', kde=False, label='Gone', bins=2);\n",
    "plt.ylabel('Count', fontsize=12)\n",
    "plt.xlabel('streaming_movies', fontsize=12)\n",
    "plt.legend()\n",
    "\n",
    "plt.grid(True);"
   ]
  },
  {
   "cell_type": "markdown",
   "metadata": {},
   "source": [
    "С каталогами фильмов ситуация идентичная стриминговому телевидению - среди ушедших клиентов разница в классах заметна гораздо слабее, чем среди всех."
   ]
  },
  {
   "cell_type": "markdown",
   "metadata": {
    "id": "8NkYGNCnJTtk"
   },
   "source": [
    "#### multiple_lines"
   ]
  },
  {
   "cell_type": "code",
   "execution_count": 100,
   "metadata": {
    "colab": {
     "base_uri": "https://localhost:8080/"
    },
    "id": "8oDKzy6FJUzo",
    "outputId": "98a6f1e2-feca-4d4a-d2f2-75c3565a3a2a"
   },
   "outputs": [
    {
     "data": {
      "text/plain": [
       "No     3385\n",
       "Yes    2967\n",
       "Name: multiple_lines, dtype: int64"
      ]
     },
     "execution_count": 100,
     "metadata": {},
     "output_type": "execute_result"
    }
   ],
   "source": [
    "df['multiple_lines'].value_counts()"
   ]
  },
  {
   "cell_type": "code",
   "execution_count": 101,
   "metadata": {
    "id": "ih6e-D6jJaBV"
   },
   "outputs": [],
   "source": [
    "df['multiple_lines'] = df['multiple_lines'].map({'No' : 0, 'Yes' : 1})"
   ]
  },
  {
   "cell_type": "code",
   "execution_count": 102,
   "metadata": {
    "id": "6GC9h4KaJciF"
   },
   "outputs": [],
   "source": [
    "gone['multiple_lines'] = gone['multiple_lines'].map({'No' : 0, 'Yes' : 1})"
   ]
  },
  {
   "cell_type": "code",
   "execution_count": 103,
   "metadata": {
    "id": "YgDa1f3BJhGj"
   },
   "outputs": [],
   "source": [
    "df['multiple_lines'] = df['multiple_lines'].fillna(0)"
   ]
  },
  {
   "cell_type": "code",
   "execution_count": 104,
   "metadata": {
    "id": "HOG5XB6-Ji9u"
   },
   "outputs": [],
   "source": [
    "gone['multiple_lines'] = gone['multiple_lines'].fillna(0)"
   ]
  },
  {
   "cell_type": "code",
   "execution_count": 105,
   "metadata": {
    "colab": {
     "base_uri": "https://localhost:8080/",
     "height": 465
    },
    "id": "QO3BfTjdJmxq",
    "outputId": "2d3b4215-bb25-4982-a09d-0f3f14b3ec9d"
   },
   "outputs": [
    {
     "data": {
      "image/png": "[encoded data removed]",
      "text/plain": [
       "<Figure size 1440x504 with 1 Axes>"
      ]
     },
     "metadata": {
      "needs_background": "light"
     },
     "output_type": "display_data"
    }
   ],
   "source": [
    "plt.figure(figsize=(20, 7))\n",
    "plt.title('multiple_lines', fontsize=20)\n",
    "sns.histplot(df['multiple_lines'], color='c', kde=False, label='All', bins=2);\n",
    "sns.histplot(gone['multiple_lines'], color='m', kde=False, label='Gone', bins=2);\n",
    "plt.ylabel('Count', fontsize=12)\n",
    "plt.xlabel('multiple_lines', fontsize=12)\n",
    "plt.legend()\n",
    "\n",
    "plt.grid(True);"
   ]
  },
  {
   "cell_type": "markdown",
   "metadata": {},
   "source": [
    "Аналогично - ситуация в целом схожая по классам среди ушедших клиентов и заметная разница между классами среди всех"
   ]
  },
  {
   "cell_type": "markdown",
   "metadata": {
    "id": "SkP1yAthK7-z"
   },
   "source": [
    "## План"
   ]
  },
  {
   "cell_type": "markdown",
   "metadata": {},
   "source": [
    " * Разделить данные на обучающую и тестовую выборки\n",
    " * Закодировать категориальные переменные\n",
    " * Попробовать отмасштабировать значения\n",
    " * Протестировать разные наборы фичей\n",
    " * Обучить разные модели\n",
    "   * В первую очередь бустинги, поскольку они лучше справляются с табличными данными, но можно попробовать и более простые модели вроде случайного леса\n",
    " * Подобрать гипер-параметры\n",
    " * Протестировать лучшую модель на тестовой выборке\n"
   ]
  },
  {
   "cell_type": "markdown",
   "metadata": {},
   "source": [
    "## ML"
   ]
  },
  {
   "cell_type": "markdown",
   "metadata": {},
   "source": [
    "Вспомним, какие фичи у нас есть"
   ]
  },
  {
   "cell_type": "code",
   "execution_count": 106,
   "metadata": {},
   "outputs": [
    {
     "name": "stdout",
     "output_type": "stream",
     "text": [
      "<class 'pandas.core.frame.DataFrame'>\n",
      "Index: 7032 entries, 7590-VHVEG to 3186-AJIEK\n",
      "Data columns (total 21 columns):\n",
      " #   Column             Non-Null Count  Dtype         \n",
      "---  ------             --------------  -----         \n",
      " 0   begin_date         7032 non-null   datetime64[ns]\n",
      " 1   end_date           7032 non-null   datetime64[ns]\n",
      " 2   type               7032 non-null   object        \n",
      " 3   paperless_billing  7032 non-null   int64         \n",
      " 4   payment_method     7032 non-null   object        \n",
      " 5   monthly_charges    7032 non-null   float64       \n",
      " 6   total_charges      7032 non-null   float64       \n",
      " 7   gender             7032 non-null   object        \n",
      " 8   senior_citizen     7032 non-null   int64         \n",
      " 9   partner            7032 non-null   int64         \n",
      " 10  dependents         7032 non-null   int64         \n",
      " 11  internet_service   7032 non-null   object        \n",
      " 12  online_security    7032 non-null   float64       \n",
      " 13  online_backup      7032 non-null   float64       \n",
      " 14  device_protection  7032 non-null   float64       \n",
      " 15  tech_support       7032 non-null   float64       \n",
      " 16  streaming_tv       7032 non-null   float64       \n",
      " 17  streaming_movies   7032 non-null   float64       \n",
      " 18  multiple_lines     7032 non-null   float64       \n",
      " 19  churn              7032 non-null   int64         \n",
      " 20  period             7032 non-null   int64         \n",
      "dtypes: datetime64[ns](2), float64(9), int64(6), object(4)\n",
      "memory usage: 1.2+ MB\n"
     ]
    }
   ],
   "source": [
    "df.info()"
   ]
  },
  {
   "cell_type": "markdown",
   "metadata": {},
   "source": [
    "Столбцы с датами точно будут неинформативными, уберём их"
   ]
  },
  {
   "cell_type": "code",
   "execution_count": 107,
   "metadata": {},
   "outputs": [],
   "source": [
    "df = df.drop(['begin_date', 'end_date'], axis=1)"
   ]
  },
  {
   "cell_type": "markdown",
   "metadata": {},
   "source": [
    "### Деление на выборки"
   ]
  },
  {
   "cell_type": "markdown",
   "metadata": {},
   "source": [
    "Сначала выделим признаки и целевой признак"
   ]
  },
  {
   "cell_type": "code",
   "execution_count": 108,
   "metadata": {},
   "outputs": [],
   "source": [
    "features = df.drop(['churn'], axis=1)\n",
    "target = df['churn']"
   ]
  },
  {
   "cell_type": "markdown",
   "metadata": {},
   "source": [
    "Теперь разделим данные на обучающую и тестовые выборки"
   ]
  },
  {
   "cell_type": "code",
   "execution_count": 109,
   "metadata": {},
   "outputs": [],
   "source": [
    "X_train, X_test, y_train, y_test = train_test_split(features, target, test_size=0.25, random_state=41022)"
   ]
  },
  {
   "cell_type": "markdown",
   "metadata": {},
   "source": [
    "Закодируем часть признаков"
   ]
  },
  {
   "cell_type": "code",
   "execution_count": 110,
   "metadata": {},
   "outputs": [],
   "source": [
    "X_train_one_hot = pd.get_dummies(X_train, drop_first=True)"
   ]
  },
  {
   "cell_type": "code",
   "execution_count": 111,
   "metadata": {},
   "outputs": [],
   "source": [
    "X_test_one_hot = pd.get_dummies(X_test, drop_first=True)"
   ]
  },
  {
   "cell_type": "code",
   "execution_count": 112,
   "metadata": {},
   "outputs": [],
   "source": [
    "l1 = list(X_train_one_hot.columns)"
   ]
  },
  {
   "cell_type": "code",
   "execution_count": 113,
   "metadata": {},
   "outputs": [],
   "source": [
    "l2 = list(X_test_one_hot.columns)"
   ]
  },
  {
   "cell_type": "code",
   "execution_count": 114,
   "metadata": {},
   "outputs": [
    {
     "name": "stdout",
     "output_type": "stream",
     "text": [
      "Цикл закончен\n"
     ]
    }
   ],
   "source": [
    "for i in range(len(l1)):\n",
    "    if l1[i] != l2[i]:\n",
    "        print(\"Где-то ошибка!\")\n",
    "        break\n",
    "print(\"Цикл закончен\")\n",
    "    "
   ]
  },
  {
   "cell_type": "markdown",
   "metadata": {},
   "source": [
    "Попробуем отмасштабировать признаки"
   ]
  },
  {
   "cell_type": "code",
   "execution_count": 115,
   "metadata": {},
   "outputs": [],
   "source": [
    "scaler = StandardScaler()\n",
    "scaler.fit(X_train_one_hot)\n",
    "X_train_scaled = scaler.transform(X_train_one_hot)\n",
    "X_test_scaled = scaler.transform(X_test_one_hot)"
   ]
  },
  {
   "cell_type": "markdown",
   "metadata": {},
   "source": [
    "### Подбор модели"
   ]
  },
  {
   "cell_type": "markdown",
   "metadata": {},
   "source": [
    "#### RandomForestClassifier"
   ]
  },
  {
   "cell_type": "code",
   "execution_count": 116,
   "metadata": {},
   "outputs": [
    {
     "name": "stdout",
     "output_type": "stream",
     "text": [
      "Fitting 3 folds for each of 9 candidates, totalling 27 fits\n",
      "0.854692764797908 {'max_depth': 7, 'n_estimators': 250}\n",
      "CPU times: total: 19.3 s\n",
      "Wall time: 21.1 s\n"
     ]
    }
   ],
   "source": [
    "%%time\n",
    "model_forest = RandomForestClassifier(random_state=41022, class_weight='balanced')\n",
    "\n",
    "parameters = [{'max_depth': [7, 8, 9],\n",
    "               'n_estimators': [200, 250, 300]}]\n",
    "\n",
    "model_forest_gscv = GridSearchCV(model_forest, param_grid=parameters, scoring='roc_auc', \n",
    "                   cv=3, verbose=True)\n",
    "model_forest_gscv.fit(X_train_one_hot, y_train)\n",
    "\n",
    "print(model_forest_gscv.best_score_, model_forest_gscv.best_params_)"
   ]
  },
  {
   "cell_type": "markdown",
   "metadata": {},
   "source": [
    "Лучший результат показывает модель случайного леса с глубиной 7 и n_estimators = 300. ROC-AUC модели 0.85"
   ]
  },
  {
   "cell_type": "markdown",
   "metadata": {},
   "source": [
    "### CatBoostClassifier"
   ]
  },
  {
   "cell_type": "code",
   "execution_count": 117,
   "metadata": {},
   "outputs": [],
   "source": [
    "classes = np.unique(y_train)\n",
    "weights = compute_class_weight(class_weight='balanced', classes=classes, y=y_train)\n",
    "class_weights = dict(zip(classes, weights))"
   ]
  },
  {
   "cell_type": "code",
   "execution_count": 118,
   "metadata": {},
   "outputs": [
    {
     "name": "stdout",
     "output_type": "stream",
     "text": [
      "Fitting 3 folds for each of 24 candidates, totalling 72 fits\n",
      "0:\tlearn: 0.6172347\ttotal: 137ms\tremaining: 2m 16s\n",
      "1:\tlearn: 0.5634887\ttotal: 142ms\tremaining: 1m 10s\n",
      "2:\tlearn: 0.5415673\ttotal: 146ms\tremaining: 48.6s\n",
      "3:\tlearn: 0.5264497\ttotal: 151ms\tremaining: 37.6s\n",
      "4:\tlearn: 0.5061927\ttotal: 155ms\tremaining: 30.9s\n",
      "5:\tlearn: 0.4978918\ttotal: 160ms\tremaining: 26.5s\n",
      "6:\tlearn: 0.4856865\ttotal: 164ms\tremaining: 23.3s\n",
      "7:\tlearn: 0.4819306\ttotal: 168ms\tremaining: 20.9s\n",
      "8:\tlearn: 0.4785486\ttotal: 172ms\tremaining: 19s\n",
      "9:\tlearn: 0.4761901\ttotal: 176ms\tremaining: 17.4s\n",
      "10:\tlearn: 0.4717163\ttotal: 181ms\tremaining: 16.3s\n",
      "11:\tlearn: 0.4707066\ttotal: 185ms\tremaining: 15.2s\n",
      "12:\tlearn: 0.4683289\ttotal: 189ms\tremaining: 14.3s\n",
      "13:\tlearn: 0.4669150\ttotal: 193ms\tremaining: 13.6s\n",
      "14:\tlearn: 0.4659214\ttotal: 196ms\tremaining: 12.9s\n",
      "15:\tlearn: 0.4652770\ttotal: 200ms\tremaining: 12.3s\n",
      "16:\tlearn: 0.4644479\ttotal: 204ms\tremaining: 11.8s\n",
      "17:\tlearn: 0.4637857\ttotal: 207ms\tremaining: 11.3s\n",
      "18:\tlearn: 0.4631191\ttotal: 211ms\tremaining: 10.9s\n",
      "19:\tlearn: 0.4623666\ttotal: 214ms\tremaining: 10.5s\n",
      "20:\tlearn: 0.4608867\ttotal: 219ms\tremaining: 10.2s\n",
      "21:\tlearn: 0.4599115\ttotal: 222ms\tremaining: 9.88s\n",
      "22:\tlearn: 0.4593036\ttotal: 225ms\tremaining: 9.56s\n",
      "23:\tlearn: 0.4585930\ttotal: 228ms\tremaining: 9.26s\n",
      "24:\tlearn: 0.4580214\ttotal: 231ms\tremaining: 8.99s\n",
      "25:\tlearn: 0.4570071\ttotal: 233ms\tremaining: 8.74s\n",
      "26:\tlearn: 0.4548134\ttotal: 237ms\tremaining: 8.53s\n",
      "27:\tlearn: 0.4543362\ttotal: 240ms\tremaining: 8.32s\n",
      "28:\tlearn: 0.4536724\ttotal: 242ms\tremaining: 8.11s\n",
      "29:\tlearn: 0.4510730\ttotal: 245ms\tremaining: 7.92s\n",
      "30:\tlearn: 0.4494558\ttotal: 248ms\tremaining: 7.74s\n",
      "31:\tlearn: 0.4421159\ttotal: 250ms\tremaining: 7.57s\n",
      "32:\tlearn: 0.4408792\ttotal: 253ms\tremaining: 7.41s\n",
      "33:\tlearn: 0.4402338\ttotal: 255ms\tremaining: 7.24s\n",
      "34:\tlearn: 0.4363462\ttotal: 257ms\tremaining: 7.09s\n",
      "35:\tlearn: 0.4358488\ttotal: 259ms\tremaining: 6.93s\n",
      "36:\tlearn: 0.4315134\ttotal: 261ms\tremaining: 6.79s\n",
      "37:\tlearn: 0.4282890\ttotal: 264ms\tremaining: 6.68s\n",
      "38:\tlearn: 0.4247267\ttotal: 266ms\tremaining: 6.56s\n",
      "39:\tlearn: 0.4223609\ttotal: 269ms\tremaining: 6.45s\n",
      "40:\tlearn: 0.4209454\ttotal: 271ms\tremaining: 6.33s\n",
      "41:\tlearn: 0.4206242\ttotal: 273ms\tremaining: 6.22s\n",
      "42:\tlearn: 0.4201175\ttotal: 274ms\tremaining: 6.1s\n",
      "43:\tlearn: 0.4197608\ttotal: 276ms\tremaining: 5.99s\n",
      "44:\tlearn: 0.4192546\ttotal: 277ms\tremaining: 5.89s\n",
      "45:\tlearn: 0.4182178\ttotal: 279ms\tremaining: 5.79s\n",
      "46:\tlearn: 0.4177566\ttotal: 281ms\tremaining: 5.69s\n",
      "47:\tlearn: 0.4170360\ttotal: 282ms\tremaining: 5.6s\n",
      "48:\tlearn: 0.4167778\ttotal: 284ms\tremaining: 5.51s\n",
      "49:\tlearn: 0.4130777\ttotal: 286ms\tremaining: 5.42s\n",
      "50:\tlearn: 0.4095656\ttotal: 287ms\tremaining: 5.34s\n",
      "51:\tlearn: 0.4089726\ttotal: 288ms\tremaining: 5.26s\n",
      "52:\tlearn: 0.4086727\ttotal: 290ms\tremaining: 5.18s\n",
      "53:\tlearn: 0.4072819\ttotal: 292ms\tremaining: 5.11s\n",
      "54:\tlearn: 0.4057598\ttotal: 293ms\tremaining: 5.04s\n",
      "55:\tlearn: 0.4055023\ttotal: 294ms\tremaining: 4.96s\n",
      "56:\tlearn: 0.4044324\ttotal: 296ms\tremaining: 4.89s\n",
      "57:\tlearn: 0.4041750\ttotal: 297ms\tremaining: 4.83s\n",
      "58:\tlearn: 0.4038264\ttotal: 299ms\tremaining: 4.77s\n",
      "59:\tlearn: 0.4033979\ttotal: 300ms\tremaining: 4.71s\n",
      "60:\tlearn: 0.4027898\ttotal: 302ms\tremaining: 4.65s\n",
      "61:\tlearn: 0.4019050\ttotal: 304ms\tremaining: 4.59s\n",
      "62:\tlearn: 0.4015279\ttotal: 305ms\tremaining: 4.54s\n",
      "63:\tlearn: 0.4007790\ttotal: 307ms\tremaining: 4.49s\n",
      "64:\tlearn: 0.4003566\ttotal: 308ms\tremaining: 4.43s\n",
      "65:\tlearn: 0.3998514\ttotal: 310ms\tremaining: 4.38s\n",
      "66:\tlearn: 0.3994296\ttotal: 311ms\tremaining: 4.34s\n",
      "67:\tlearn: 0.3990469\ttotal: 313ms\tremaining: 4.29s\n",
      "68:\tlearn: 0.3987362\ttotal: 315ms\tremaining: 4.25s\n",
      "69:\tlearn: 0.3985382\ttotal: 317ms\tremaining: 4.21s\n",
      "70:\tlearn: 0.3969712\ttotal: 319ms\tremaining: 4.17s\n",
      "71:\tlearn: 0.3967082\ttotal: 320ms\tremaining: 4.13s\n",
      "72:\tlearn: 0.3959378\ttotal: 322ms\tremaining: 4.09s\n",
      "73:\tlearn: 0.3956583\ttotal: 324ms\tremaining: 4.05s\n",
      "74:\tlearn: 0.3945277\ttotal: 325ms\tremaining: 4.01s\n",
      "75:\tlearn: 0.3941845\ttotal: 327ms\tremaining: 3.97s\n",
      "76:\tlearn: 0.3938712\ttotal: 329ms\tremaining: 3.94s\n",
      "77:\tlearn: 0.3936006\ttotal: 330ms\tremaining: 3.91s\n",
      "78:\tlearn: 0.3933012\ttotal: 332ms\tremaining: 3.87s\n",
      "79:\tlearn: 0.3928649\ttotal: 334ms\tremaining: 3.84s\n",
      "80:\tlearn: 0.3924844\ttotal: 336ms\tremaining: 3.81s\n",
      "81:\tlearn: 0.3904152\ttotal: 338ms\tremaining: 3.78s\n",
      "82:\tlearn: 0.3900052\ttotal: 339ms\tremaining: 3.74s\n",
      "83:\tlearn: 0.3889478\ttotal: 340ms\tremaining: 3.71s\n",
      "84:\tlearn: 0.3880503\ttotal: 342ms\tremaining: 3.68s\n",
      "85:\tlearn: 0.3878595\ttotal: 344ms\tremaining: 3.65s\n",
      "86:\tlearn: 0.3875013\ttotal: 345ms\tremaining: 3.62s\n",
      "87:\tlearn: 0.3872749\ttotal: 347ms\tremaining: 3.59s\n",
      "88:\tlearn: 0.3869620\ttotal: 348ms\tremaining: 3.56s\n",
      "89:\tlearn: 0.3857277\ttotal: 350ms\tremaining: 3.54s\n",
      "90:\tlearn: 0.3835312\ttotal: 351ms\tremaining: 3.51s\n",
      "91:\tlearn: 0.3831984\ttotal: 353ms\tremaining: 3.48s\n",
      "92:\tlearn: 0.3826060\ttotal: 354ms\tremaining: 3.46s\n",
      "93:\tlearn: 0.3822510\ttotal: 356ms\tremaining: 3.43s\n",
      "94:\tlearn: 0.3819956\ttotal: 357ms\tremaining: 3.4s\n",
      "95:\tlearn: 0.3816086\ttotal: 359ms\tremaining: 3.38s\n",
      "96:\tlearn: 0.3812617\ttotal: 361ms\tremaining: 3.36s\n",
      "97:\tlearn: 0.3808439\ttotal: 362ms\tremaining: 3.33s\n",
      "98:\tlearn: 0.3806639\ttotal: 364ms\tremaining: 3.31s\n",
      "99:\tlearn: 0.3802601\ttotal: 365ms\tremaining: 3.29s\n",
      "100:\tlearn: 0.3789385\ttotal: 367ms\tremaining: 3.27s\n",
      "101:\tlearn: 0.3786225\ttotal: 368ms\tremaining: 3.24s\n",
      "102:\tlearn: 0.3783202\ttotal: 369ms\tremaining: 3.22s\n",
      "103:\tlearn: 0.3781318\ttotal: 371ms\tremaining: 3.19s\n",
      "104:\tlearn: 0.3777528\ttotal: 373ms\tremaining: 3.18s\n",
      "105:\tlearn: 0.3776099\ttotal: 374ms\tremaining: 3.16s\n",
      "106:\tlearn: 0.3773940\ttotal: 376ms\tremaining: 3.14s\n",
      "107:\tlearn: 0.3754442\ttotal: 378ms\tremaining: 3.12s\n",
      "108:\tlearn: 0.3751789\ttotal: 379ms\tremaining: 3.1s\n",
      "109:\tlearn: 0.3729159\ttotal: 381ms\tremaining: 3.08s\n",
      "110:\tlearn: 0.3728361\ttotal: 382ms\tremaining: 3.06s\n",
      "111:\tlearn: 0.3720188\ttotal: 384ms\tremaining: 3.04s\n",
      "112:\tlearn: 0.3715712\ttotal: 385ms\tremaining: 3.02s\n",
      "113:\tlearn: 0.3714307\ttotal: 387ms\tremaining: 3s\n",
      "114:\tlearn: 0.3712467\ttotal: 388ms\tremaining: 2.99s\n",
      "115:\tlearn: 0.3691828\ttotal: 390ms\tremaining: 2.97s\n",
      "116:\tlearn: 0.3677295\ttotal: 392ms\tremaining: 2.96s\n",
      "117:\tlearn: 0.3674094\ttotal: 393ms\tremaining: 2.94s\n",
      "118:\tlearn: 0.3669373\ttotal: 395ms\tremaining: 2.92s\n",
      "119:\tlearn: 0.3653122\ttotal: 397ms\tremaining: 2.91s\n",
      "120:\tlearn: 0.3640856\ttotal: 398ms\tremaining: 2.89s\n",
      "121:\tlearn: 0.3634431\ttotal: 400ms\tremaining: 2.88s\n",
      "122:\tlearn: 0.3631852\ttotal: 401ms\tremaining: 2.86s\n",
      "123:\tlearn: 0.3627238\ttotal: 403ms\tremaining: 2.84s\n",
      "124:\tlearn: 0.3610965\ttotal: 405ms\tremaining: 2.83s\n",
      "125:\tlearn: 0.3607779\ttotal: 407ms\tremaining: 2.82s\n",
      "126:\tlearn: 0.3602031\ttotal: 408ms\tremaining: 2.81s\n",
      "127:\tlearn: 0.3594625\ttotal: 410ms\tremaining: 2.79s\n",
      "128:\tlearn: 0.3593017\ttotal: 411ms\tremaining: 2.78s\n",
      "129:\tlearn: 0.3589106\ttotal: 413ms\tremaining: 2.76s\n",
      "130:\tlearn: 0.3586959\ttotal: 414ms\tremaining: 2.75s\n",
      "131:\tlearn: 0.3582861\ttotal: 416ms\tremaining: 2.73s\n",
      "132:\tlearn: 0.3580845\ttotal: 417ms\tremaining: 2.72s\n",
      "133:\tlearn: 0.3578220\ttotal: 419ms\tremaining: 2.71s\n",
      "134:\tlearn: 0.3575259\ttotal: 420ms\tremaining: 2.69s\n",
      "135:\tlearn: 0.3572523\ttotal: 422ms\tremaining: 2.68s\n",
      "136:\tlearn: 0.3570938\ttotal: 423ms\tremaining: 2.67s\n",
      "137:\tlearn: 0.3567102\ttotal: 425ms\tremaining: 2.65s\n",
      "138:\tlearn: 0.3564849\ttotal: 426ms\tremaining: 2.64s\n",
      "139:\tlearn: 0.3562675\ttotal: 428ms\tremaining: 2.63s\n",
      "140:\tlearn: 0.3561517\ttotal: 429ms\tremaining: 2.62s\n",
      "141:\tlearn: 0.3543147\ttotal: 431ms\tremaining: 2.6s\n",
      "142:\tlearn: 0.3539116\ttotal: 433ms\tremaining: 2.59s\n",
      "143:\tlearn: 0.3513102\ttotal: 434ms\tremaining: 2.58s\n",
      "144:\tlearn: 0.3510792\ttotal: 436ms\tremaining: 2.57s\n",
      "145:\tlearn: 0.3508649\ttotal: 438ms\tremaining: 2.56s\n",
      "146:\tlearn: 0.3506426\ttotal: 439ms\tremaining: 2.55s\n",
      "147:\tlearn: 0.3504377\ttotal: 441ms\tremaining: 2.54s\n",
      "148:\tlearn: 0.3501950\ttotal: 442ms\tremaining: 2.52s\n",
      "149:\tlearn: 0.3499788\ttotal: 444ms\tremaining: 2.51s\n",
      "150:\tlearn: 0.3496541\ttotal: 445ms\tremaining: 2.5s\n",
      "151:\tlearn: 0.3482640\ttotal: 447ms\tremaining: 2.49s\n",
      "152:\tlearn: 0.3473624\ttotal: 449ms\tremaining: 2.48s\n",
      "153:\tlearn: 0.3471854\ttotal: 450ms\tremaining: 2.47s\n",
      "154:\tlearn: 0.3469491\ttotal: 451ms\tremaining: 2.46s\n",
      "155:\tlearn: 0.3467787\ttotal: 453ms\tremaining: 2.45s\n",
      "156:\tlearn: 0.3463234\ttotal: 455ms\tremaining: 2.44s\n",
      "157:\tlearn: 0.3461502\ttotal: 456ms\tremaining: 2.43s\n",
      "158:\tlearn: 0.3459799\ttotal: 458ms\tremaining: 2.42s\n",
      "159:\tlearn: 0.3457174\ttotal: 459ms\tremaining: 2.41s\n",
      "160:\tlearn: 0.3454945\ttotal: 461ms\tremaining: 2.4s\n",
      "161:\tlearn: 0.3453784\ttotal: 462ms\tremaining: 2.39s\n",
      "162:\tlearn: 0.3450164\ttotal: 464ms\tremaining: 2.38s\n",
      "163:\tlearn: 0.3448149\ttotal: 465ms\tremaining: 2.37s\n",
      "164:\tlearn: 0.3443816\ttotal: 467ms\tremaining: 2.36s\n",
      "165:\tlearn: 0.3425928\ttotal: 469ms\tremaining: 2.35s\n",
      "166:\tlearn: 0.3424670\ttotal: 470ms\tremaining: 2.35s\n",
      "167:\tlearn: 0.3409974\ttotal: 472ms\tremaining: 2.34s\n",
      "168:\tlearn: 0.3407138\ttotal: 473ms\tremaining: 2.33s\n",
      "169:\tlearn: 0.3405086\ttotal: 475ms\tremaining: 2.32s\n",
      "170:\tlearn: 0.3402720\ttotal: 476ms\tremaining: 2.31s\n",
      "171:\tlearn: 0.3400030\ttotal: 478ms\tremaining: 2.3s\n",
      "172:\tlearn: 0.3396564\ttotal: 480ms\tremaining: 2.29s\n",
      "173:\tlearn: 0.3395593\ttotal: 481ms\tremaining: 2.28s\n",
      "174:\tlearn: 0.3394162\ttotal: 483ms\tremaining: 2.28s\n",
      "175:\tlearn: 0.3392119\ttotal: 485ms\tremaining: 2.27s\n",
      "176:\tlearn: 0.3388641\ttotal: 487ms\tremaining: 2.26s\n",
      "177:\tlearn: 0.3387229\ttotal: 489ms\tremaining: 2.26s\n",
      "178:\tlearn: 0.3382838\ttotal: 491ms\tremaining: 2.25s\n",
      "179:\tlearn: 0.3378772\ttotal: 493ms\tremaining: 2.24s\n",
      "180:\tlearn: 0.3376836\ttotal: 494ms\tremaining: 2.24s\n",
      "181:\tlearn: 0.3374363\ttotal: 496ms\tremaining: 2.23s\n",
      "182:\tlearn: 0.3373046\ttotal: 498ms\tremaining: 2.22s\n",
      "183:\tlearn: 0.3370814\ttotal: 499ms\tremaining: 2.21s\n",
      "184:\tlearn: 0.3369335\ttotal: 501ms\tremaining: 2.21s\n",
      "185:\tlearn: 0.3359697\ttotal: 504ms\tremaining: 2.21s\n",
      "186:\tlearn: 0.3359292\ttotal: 506ms\tremaining: 2.2s\n",
      "187:\tlearn: 0.3356836\ttotal: 508ms\tremaining: 2.19s\n",
      "188:\tlearn: 0.3352631\ttotal: 510ms\tremaining: 2.19s\n",
      "189:\tlearn: 0.3350713\ttotal: 512ms\tremaining: 2.18s\n",
      "190:\tlearn: 0.3344529\ttotal: 514ms\tremaining: 2.18s\n",
      "191:\tlearn: 0.3343507\ttotal: 516ms\tremaining: 2.17s\n",
      "192:\tlearn: 0.3341478\ttotal: 517ms\tremaining: 2.16s\n",
      "193:\tlearn: 0.3339440\ttotal: 519ms\tremaining: 2.16s\n",
      "194:\tlearn: 0.3338464\ttotal: 521ms\tremaining: 2.15s\n",
      "195:\tlearn: 0.3336452\ttotal: 523ms\tremaining: 2.15s\n",
      "196:\tlearn: 0.3327044\ttotal: 525ms\tremaining: 2.14s\n",
      "197:\tlearn: 0.3318705\ttotal: 528ms\tremaining: 2.14s\n",
      "198:\tlearn: 0.3306418\ttotal: 530ms\tremaining: 2.13s\n",
      "199:\tlearn: 0.3304290\ttotal: 532ms\tremaining: 2.13s\n",
      "200:\tlearn: 0.3302331\ttotal: 534ms\tremaining: 2.12s\n",
      "201:\tlearn: 0.3291717\ttotal: 536ms\tremaining: 2.12s\n",
      "202:\tlearn: 0.3290559\ttotal: 537ms\tremaining: 2.11s\n",
      "203:\tlearn: 0.3288395\ttotal: 539ms\tremaining: 2.1s\n",
      "204:\tlearn: 0.3286468\ttotal: 540ms\tremaining: 2.1s\n",
      "205:\tlearn: 0.3284170\ttotal: 542ms\tremaining: 2.09s\n",
      "206:\tlearn: 0.3275576\ttotal: 544ms\tremaining: 2.08s\n",
      "207:\tlearn: 0.3270051\ttotal: 545ms\tremaining: 2.08s\n",
      "208:\tlearn: 0.3268632\ttotal: 547ms\tremaining: 2.07s\n",
      "209:\tlearn: 0.3266934\ttotal: 548ms\tremaining: 2.06s\n",
      "210:\tlearn: 0.3258147\ttotal: 550ms\tremaining: 2.06s\n",
      "211:\tlearn: 0.3255988\ttotal: 551ms\tremaining: 2.05s\n",
      "212:\tlearn: 0.3254372\ttotal: 553ms\tremaining: 2.04s\n",
      "213:\tlearn: 0.3248509\ttotal: 554ms\tremaining: 2.04s\n",
      "214:\tlearn: 0.3247196\ttotal: 556ms\tremaining: 2.03s\n",
      "215:\tlearn: 0.3237541\ttotal: 558ms\tremaining: 2.02s\n",
      "216:\tlearn: 0.3234903\ttotal: 559ms\tremaining: 2.02s\n",
      "217:\tlearn: 0.3233648\ttotal: 561ms\tremaining: 2.01s\n",
      "218:\tlearn: 0.3232116\ttotal: 562ms\tremaining: 2s\n",
      "219:\tlearn: 0.3228225\ttotal: 564ms\tremaining: 2s\n",
      "220:\tlearn: 0.3221014\ttotal: 565ms\tremaining: 1.99s\n",
      "221:\tlearn: 0.3219195\ttotal: 567ms\tremaining: 1.99s\n",
      "222:\tlearn: 0.3217855\ttotal: 568ms\tremaining: 1.98s\n",
      "223:\tlearn: 0.3216538\ttotal: 570ms\tremaining: 1.97s\n",
      "224:\tlearn: 0.3213471\ttotal: 571ms\tremaining: 1.97s\n",
      "225:\tlearn: 0.3211640\ttotal: 573ms\tremaining: 1.96s\n",
      "226:\tlearn: 0.3207939\ttotal: 574ms\tremaining: 1.96s\n",
      "227:\tlearn: 0.3205092\ttotal: 576ms\tremaining: 1.95s\n",
      "228:\tlearn: 0.3195118\ttotal: 577ms\tremaining: 1.94s\n",
      "229:\tlearn: 0.3186478\ttotal: 579ms\tremaining: 1.94s\n",
      "230:\tlearn: 0.3176586\ttotal: 581ms\tremaining: 1.93s\n",
      "231:\tlearn: 0.3175633\ttotal: 583ms\tremaining: 1.93s\n",
      "232:\tlearn: 0.3174550\ttotal: 584ms\tremaining: 1.92s\n",
      "233:\tlearn: 0.3160561\ttotal: 586ms\tremaining: 1.92s\n",
      "234:\tlearn: 0.3159195\ttotal: 587ms\tremaining: 1.91s\n",
      "235:\tlearn: 0.3146341\ttotal: 589ms\tremaining: 1.91s\n",
      "236:\tlearn: 0.3145356\ttotal: 591ms\tremaining: 1.9s\n",
      "237:\tlearn: 0.3140108\ttotal: 592ms\tremaining: 1.9s\n",
      "238:\tlearn: 0.3132909\ttotal: 594ms\tremaining: 1.89s\n",
      "239:\tlearn: 0.3131032\ttotal: 595ms\tremaining: 1.89s\n",
      "240:\tlearn: 0.3130130\ttotal: 597ms\tremaining: 1.88s\n",
      "241:\tlearn: 0.3129246\ttotal: 599ms\tremaining: 1.88s\n",
      "242:\tlearn: 0.3119190\ttotal: 600ms\tremaining: 1.87s\n",
      "243:\tlearn: 0.3117483\ttotal: 602ms\tremaining: 1.86s\n",
      "244:\tlearn: 0.3110867\ttotal: 604ms\tremaining: 1.86s\n",
      "245:\tlearn: 0.3102507\ttotal: 605ms\tremaining: 1.85s\n",
      "246:\tlearn: 0.3100557\ttotal: 607ms\tremaining: 1.85s\n",
      "247:\tlearn: 0.3098667\ttotal: 608ms\tremaining: 1.84s\n",
      "248:\tlearn: 0.3091724\ttotal: 610ms\tremaining: 1.84s\n",
      "249:\tlearn: 0.3090173\ttotal: 612ms\tremaining: 1.83s\n",
      "250:\tlearn: 0.3089329\ttotal: 613ms\tremaining: 1.83s\n",
      "251:\tlearn: 0.3088502\ttotal: 615ms\tremaining: 1.82s\n",
      "252:\tlearn: 0.3087304\ttotal: 617ms\tremaining: 1.82s\n",
      "253:\tlearn: 0.3085794\ttotal: 618ms\tremaining: 1.81s\n",
      "254:\tlearn: 0.3083548\ttotal: 620ms\tremaining: 1.81s\n",
      "255:\tlearn: 0.3081353\ttotal: 621ms\tremaining: 1.8s\n",
      "256:\tlearn: 0.3078695\ttotal: 623ms\tremaining: 1.8s\n",
      "257:\tlearn: 0.3076983\ttotal: 624ms\tremaining: 1.79s\n",
      "258:\tlearn: 0.3075013\ttotal: 626ms\tremaining: 1.79s\n",
      "259:\tlearn: 0.3066502\ttotal: 628ms\tremaining: 1.79s\n",
      "260:\tlearn: 0.3065444\ttotal: 629ms\tremaining: 1.78s\n",
      "261:\tlearn: 0.3064334\ttotal: 631ms\tremaining: 1.78s\n",
      "262:\tlearn: 0.3053373\ttotal: 633ms\tremaining: 1.77s\n",
      "263:\tlearn: 0.3052332\ttotal: 634ms\tremaining: 1.77s\n",
      "264:\tlearn: 0.3050559\ttotal: 636ms\tremaining: 1.76s\n",
      "265:\tlearn: 0.3048344\ttotal: 638ms\tremaining: 1.76s\n",
      "266:\tlearn: 0.3044355\ttotal: 639ms\tremaining: 1.75s\n",
      "267:\tlearn: 0.3043403\ttotal: 641ms\tremaining: 1.75s\n",
      "268:\tlearn: 0.3036518\ttotal: 642ms\tremaining: 1.75s\n",
      "269:\tlearn: 0.3034852\ttotal: 644ms\tremaining: 1.74s\n",
      "270:\tlearn: 0.3027263\ttotal: 646ms\tremaining: 1.74s\n",
      "271:\tlearn: 0.3026005\ttotal: 647ms\tremaining: 1.73s\n",
      "272:\tlearn: 0.3019574\ttotal: 649ms\tremaining: 1.73s\n",
      "273:\tlearn: 0.3017625\ttotal: 651ms\tremaining: 1.72s\n",
      "274:\tlearn: 0.3016653\ttotal: 653ms\tremaining: 1.72s\n",
      "275:\tlearn: 0.3015803\ttotal: 655ms\tremaining: 1.72s\n",
      "276:\tlearn: 0.3013166\ttotal: 657ms\tremaining: 1.72s\n",
      "277:\tlearn: 0.3008508\ttotal: 659ms\tremaining: 1.71s\n",
      "278:\tlearn: 0.3001519\ttotal: 661ms\tremaining: 1.71s\n",
      "279:\tlearn: 0.2998086\ttotal: 663ms\tremaining: 1.7s\n",
      "280:\tlearn: 0.2996047\ttotal: 665ms\tremaining: 1.7s\n",
      "281:\tlearn: 0.2994592\ttotal: 666ms\tremaining: 1.7s\n",
      "282:\tlearn: 0.2993271\ttotal: 668ms\tremaining: 1.69s\n",
      "283:\tlearn: 0.2990763\ttotal: 670ms\tremaining: 1.69s\n",
      "284:\tlearn: 0.2989694\ttotal: 672ms\tremaining: 1.69s\n",
      "285:\tlearn: 0.2982436\ttotal: 674ms\tremaining: 1.68s\n",
      "286:\tlearn: 0.2981256\ttotal: 676ms\tremaining: 1.68s\n",
      "287:\tlearn: 0.2979542\ttotal: 679ms\tremaining: 1.68s\n",
      "288:\tlearn: 0.2977693\ttotal: 680ms\tremaining: 1.67s\n",
      "289:\tlearn: 0.2976179\ttotal: 682ms\tremaining: 1.67s\n",
      "290:\tlearn: 0.2971814\ttotal: 684ms\tremaining: 1.67s\n",
      "291:\tlearn: 0.2971380\ttotal: 686ms\tremaining: 1.66s\n",
      "292:\tlearn: 0.2969761\ttotal: 687ms\tremaining: 1.66s\n",
      "293:\tlearn: 0.2969062\ttotal: 689ms\tremaining: 1.65s\n",
      "294:\tlearn: 0.2967495\ttotal: 691ms\tremaining: 1.65s\n",
      "295:\tlearn: 0.2965465\ttotal: 692ms\tremaining: 1.65s\n",
      "296:\tlearn: 0.2959377\ttotal: 694ms\tremaining: 1.64s\n",
      "297:\tlearn: 0.2957735\ttotal: 696ms\tremaining: 1.64s\n",
      "298:\tlearn: 0.2956402\ttotal: 697ms\tremaining: 1.63s\n",
      "299:\tlearn: 0.2954485\ttotal: 699ms\tremaining: 1.63s\n",
      "300:\tlearn: 0.2953729\ttotal: 700ms\tremaining: 1.63s\n",
      "301:\tlearn: 0.2951683\ttotal: 702ms\tremaining: 1.62s\n",
      "302:\tlearn: 0.2951051\ttotal: 704ms\tremaining: 1.62s\n",
      "303:\tlearn: 0.2943266\ttotal: 705ms\tremaining: 1.61s\n",
      "304:\tlearn: 0.2942079\ttotal: 707ms\tremaining: 1.61s\n",
      "305:\tlearn: 0.2936525\ttotal: 709ms\tremaining: 1.61s\n",
      "306:\tlearn: 0.2934520\ttotal: 710ms\tremaining: 1.6s\n",
      "307:\tlearn: 0.2924915\ttotal: 712ms\tremaining: 1.6s\n",
      "308:\tlearn: 0.2922549\ttotal: 714ms\tremaining: 1.59s\n",
      "309:\tlearn: 0.2921588\ttotal: 715ms\tremaining: 1.59s\n",
      "310:\tlearn: 0.2914254\ttotal: 717ms\tremaining: 1.59s\n",
      "311:\tlearn: 0.2912560\ttotal: 718ms\tremaining: 1.58s\n",
      "312:\tlearn: 0.2911579\ttotal: 720ms\tremaining: 1.58s\n",
      "313:\tlearn: 0.2910120\ttotal: 722ms\tremaining: 1.58s\n",
      "314:\tlearn: 0.2909288\ttotal: 724ms\tremaining: 1.57s\n",
      "315:\tlearn: 0.2898364\ttotal: 725ms\tremaining: 1.57s\n",
      "316:\tlearn: 0.2895110\ttotal: 727ms\tremaining: 1.57s\n",
      "317:\tlearn: 0.2892888\ttotal: 729ms\tremaining: 1.56s\n",
      "318:\tlearn: 0.2883147\ttotal: 730ms\tremaining: 1.56s\n",
      "319:\tlearn: 0.2882003\ttotal: 732ms\tremaining: 1.55s\n",
      "320:\tlearn: 0.2880352\ttotal: 734ms\tremaining: 1.55s\n",
      "321:\tlearn: 0.2870548\ttotal: 735ms\tremaining: 1.55s\n",
      "322:\tlearn: 0.2868691\ttotal: 737ms\tremaining: 1.54s\n",
      "323:\tlearn: 0.2862290\ttotal: 739ms\tremaining: 1.54s\n",
      "324:\tlearn: 0.2861334\ttotal: 741ms\tremaining: 1.54s\n",
      "325:\tlearn: 0.2859817\ttotal: 742ms\tremaining: 1.53s\n",
      "326:\tlearn: 0.2855063\ttotal: 744ms\tremaining: 1.53s\n",
      "327:\tlearn: 0.2853322\ttotal: 746ms\tremaining: 1.53s\n",
      "328:\tlearn: 0.2849939\ttotal: 747ms\tremaining: 1.52s\n",
      "329:\tlearn: 0.2844405\ttotal: 749ms\tremaining: 1.52s\n",
      "330:\tlearn: 0.2843613\ttotal: 751ms\tremaining: 1.52s\n",
      "331:\tlearn: 0.2842086\ttotal: 752ms\tremaining: 1.51s\n",
      "332:\tlearn: 0.2832862\ttotal: 754ms\tremaining: 1.51s\n",
      "333:\tlearn: 0.2822941\ttotal: 756ms\tremaining: 1.51s\n",
      "334:\tlearn: 0.2821597\ttotal: 757ms\tremaining: 1.5s\n",
      "335:\tlearn: 0.2811618\ttotal: 759ms\tremaining: 1.5s\n",
      "336:\tlearn: 0.2810130\ttotal: 760ms\tremaining: 1.5s\n",
      "337:\tlearn: 0.2808763\ttotal: 762ms\tremaining: 1.49s\n",
      "338:\tlearn: 0.2808078\ttotal: 764ms\tremaining: 1.49s\n",
      "339:\tlearn: 0.2807483\ttotal: 766ms\tremaining: 1.49s\n",
      "340:\tlearn: 0.2806732\ttotal: 767ms\tremaining: 1.48s\n",
      "341:\tlearn: 0.2805273\ttotal: 769ms\tremaining: 1.48s\n",
      "342:\tlearn: 0.2802257\ttotal: 771ms\tremaining: 1.48s\n",
      "343:\tlearn: 0.2801478\ttotal: 772ms\tremaining: 1.47s\n",
      "344:\tlearn: 0.2801118\ttotal: 774ms\tremaining: 1.47s\n",
      "345:\tlearn: 0.2796508\ttotal: 776ms\tremaining: 1.47s\n",
      "346:\tlearn: 0.2795050\ttotal: 777ms\tremaining: 1.46s\n",
      "347:\tlearn: 0.2793301\ttotal: 779ms\tremaining: 1.46s\n",
      "348:\tlearn: 0.2786113\ttotal: 781ms\tremaining: 1.46s\n",
      "349:\tlearn: 0.2778640\ttotal: 783ms\tremaining: 1.45s\n",
      "350:\tlearn: 0.2776967\ttotal: 785ms\tremaining: 1.45s\n",
      "351:\tlearn: 0.2776085\ttotal: 787ms\tremaining: 1.45s\n",
      "352:\tlearn: 0.2769060\ttotal: 790ms\tremaining: 1.45s\n",
      "353:\tlearn: 0.2768221\ttotal: 791ms\tremaining: 1.44s\n",
      "354:\tlearn: 0.2765677\ttotal: 794ms\tremaining: 1.44s\n",
      "355:\tlearn: 0.2763428\ttotal: 796ms\tremaining: 1.44s\n",
      "356:\tlearn: 0.2763086\ttotal: 797ms\tremaining: 1.44s\n",
      "357:\tlearn: 0.2759996\ttotal: 799ms\tremaining: 1.43s\n",
      "358:\tlearn: 0.2758744\ttotal: 801ms\tremaining: 1.43s\n",
      "359:\tlearn: 0.2757754\ttotal: 803ms\tremaining: 1.43s\n",
      "360:\tlearn: 0.2756301\ttotal: 804ms\tremaining: 1.42s\n",
      "361:\tlearn: 0.2755590\ttotal: 806ms\tremaining: 1.42s\n",
      "362:\tlearn: 0.2754416\ttotal: 808ms\tremaining: 1.42s\n",
      "363:\tlearn: 0.2753676\ttotal: 810ms\tremaining: 1.42s\n",
      "364:\tlearn: 0.2752423\ttotal: 813ms\tremaining: 1.41s\n",
      "365:\tlearn: 0.2751741\ttotal: 815ms\tremaining: 1.41s\n",
      "366:\tlearn: 0.2750622\ttotal: 818ms\tremaining: 1.41s\n",
      "367:\tlearn: 0.2749824\ttotal: 821ms\tremaining: 1.41s\n",
      "368:\tlearn: 0.2746287\ttotal: 824ms\tremaining: 1.41s\n",
      "369:\tlearn: 0.2745394\ttotal: 835ms\tremaining: 1.42s\n",
      "370:\tlearn: 0.2744855\ttotal: 842ms\tremaining: 1.43s\n",
      "371:\tlearn: 0.2743621\ttotal: 845ms\tremaining: 1.43s\n",
      "372:\tlearn: 0.2741982\ttotal: 847ms\tremaining: 1.42s\n",
      "373:\tlearn: 0.2738670\ttotal: 849ms\tremaining: 1.42s\n",
      "374:\tlearn: 0.2736547\ttotal: 852ms\tremaining: 1.42s\n",
      "375:\tlearn: 0.2735333\ttotal: 854ms\tremaining: 1.42s\n",
      "376:\tlearn: 0.2734669\ttotal: 856ms\tremaining: 1.41s\n",
      "377:\tlearn: 0.2733544\ttotal: 858ms\tremaining: 1.41s\n",
      "378:\tlearn: 0.2732413\ttotal: 861ms\tremaining: 1.41s\n",
      "379:\tlearn: 0.2731200\ttotal: 863ms\tremaining: 1.41s\n",
      "380:\tlearn: 0.2730365\ttotal: 865ms\tremaining: 1.41s\n",
      "381:\tlearn: 0.2729607\ttotal: 867ms\tremaining: 1.4s\n",
      "382:\tlearn: 0.2728323\ttotal: 869ms\tremaining: 1.4s\n",
      "383:\tlearn: 0.2727545\ttotal: 872ms\tremaining: 1.4s\n",
      "384:\tlearn: 0.2726176\ttotal: 874ms\tremaining: 1.4s\n",
      "385:\tlearn: 0.2725236\ttotal: 876ms\tremaining: 1.39s\n",
      "386:\tlearn: 0.2724357\ttotal: 878ms\tremaining: 1.39s\n",
      "387:\tlearn: 0.2722261\ttotal: 880ms\tremaining: 1.39s\n",
      "388:\tlearn: 0.2717671\ttotal: 882ms\tremaining: 1.39s\n",
      "389:\tlearn: 0.2716866\ttotal: 885ms\tremaining: 1.38s\n",
      "390:\tlearn: 0.2716420\ttotal: 887ms\tremaining: 1.38s\n",
      "391:\tlearn: 0.2708509\ttotal: 889ms\tremaining: 1.38s\n",
      "392:\tlearn: 0.2707871\ttotal: 892ms\tremaining: 1.38s\n",
      "393:\tlearn: 0.2705969\ttotal: 894ms\tremaining: 1.38s\n",
      "394:\tlearn: 0.2705460\ttotal: 896ms\tremaining: 1.37s\n",
      "395:\tlearn: 0.2702034\ttotal: 899ms\tremaining: 1.37s\n",
      "396:\tlearn: 0.2701039\ttotal: 901ms\tremaining: 1.37s\n",
      "397:\tlearn: 0.2700133\ttotal: 903ms\tremaining: 1.36s\n",
      "398:\tlearn: 0.2699094\ttotal: 905ms\tremaining: 1.36s\n",
      "399:\tlearn: 0.2698174\ttotal: 907ms\tremaining: 1.36s\n",
      "400:\tlearn: 0.2697372\ttotal: 909ms\tremaining: 1.36s\n",
      "401:\tlearn: 0.2691752\ttotal: 912ms\tremaining: 1.36s\n",
      "402:\tlearn: 0.2690438\ttotal: 914ms\tremaining: 1.35s\n",
      "403:\tlearn: 0.2689249\ttotal: 916ms\tremaining: 1.35s\n",
      "404:\tlearn: 0.2681924\ttotal: 918ms\tremaining: 1.35s\n",
      "405:\tlearn: 0.2678016\ttotal: 921ms\tremaining: 1.35s\n",
      "406:\tlearn: 0.2677202\ttotal: 923ms\tremaining: 1.34s\n",
      "407:\tlearn: 0.2674135\ttotal: 925ms\tremaining: 1.34s\n",
      "408:\tlearn: 0.2672005\ttotal: 928ms\tremaining: 1.34s\n",
      "409:\tlearn: 0.2671132\ttotal: 930ms\tremaining: 1.34s\n",
      "410:\tlearn: 0.2670643\ttotal: 932ms\tremaining: 1.34s\n",
      "411:\tlearn: 0.2669773\ttotal: 935ms\tremaining: 1.33s\n",
      "412:\tlearn: 0.2669027\ttotal: 937ms\tremaining: 1.33s\n",
      "413:\tlearn: 0.2666518\ttotal: 939ms\tremaining: 1.33s\n",
      "414:\tlearn: 0.2664304\ttotal: 941ms\tremaining: 1.33s\n",
      "415:\tlearn: 0.2662643\ttotal: 943ms\tremaining: 1.32s\n",
      "416:\tlearn: 0.2661908\ttotal: 946ms\tremaining: 1.32s\n",
      "417:\tlearn: 0.2659790\ttotal: 948ms\tremaining: 1.32s\n",
      "418:\tlearn: 0.2659318\ttotal: 950ms\tremaining: 1.32s\n",
      "419:\tlearn: 0.2659023\ttotal: 953ms\tremaining: 1.31s\n",
      "420:\tlearn: 0.2658440\ttotal: 955ms\tremaining: 1.31s\n",
      "421:\tlearn: 0.2655879\ttotal: 957ms\tremaining: 1.31s\n",
      "422:\tlearn: 0.2655450\ttotal: 960ms\tremaining: 1.31s\n",
      "423:\tlearn: 0.2653952\ttotal: 962ms\tremaining: 1.31s\n",
      "424:\tlearn: 0.2650901\ttotal: 964ms\tremaining: 1.3s\n",
      "425:\tlearn: 0.2648827\ttotal: 967ms\tremaining: 1.3s\n",
      "426:\tlearn: 0.2647807\ttotal: 969ms\tremaining: 1.3s\n",
      "427:\tlearn: 0.2645811\ttotal: 971ms\tremaining: 1.3s\n",
      "428:\tlearn: 0.2644849\ttotal: 973ms\tremaining: 1.29s\n",
      "429:\tlearn: 0.2643720\ttotal: 975ms\tremaining: 1.29s\n",
      "430:\tlearn: 0.2643341\ttotal: 977ms\tremaining: 1.29s\n",
      "431:\tlearn: 0.2641752\ttotal: 980ms\tremaining: 1.29s\n",
      "432:\tlearn: 0.2640839\ttotal: 982ms\tremaining: 1.29s\n",
      "433:\tlearn: 0.2639806\ttotal: 984ms\tremaining: 1.28s\n",
      "434:\tlearn: 0.2639054\ttotal: 987ms\tremaining: 1.28s\n",
      "435:\tlearn: 0.2637471\ttotal: 989ms\tremaining: 1.28s\n",
      "436:\tlearn: 0.2636244\ttotal: 991ms\tremaining: 1.28s\n",
      "437:\tlearn: 0.2634695\ttotal: 994ms\tremaining: 1.27s\n",
      "438:\tlearn: 0.2631144\ttotal: 996ms\tremaining: 1.27s\n",
      "439:\tlearn: 0.2630801\ttotal: 999ms\tremaining: 1.27s\n",
      "440:\tlearn: 0.2629686\ttotal: 1s\tremaining: 1.27s\n",
      "441:\tlearn: 0.2626261\ttotal: 1s\tremaining: 1.27s\n",
      "442:\tlearn: 0.2624733\ttotal: 1s\tremaining: 1.26s\n",
      "443:\tlearn: 0.2623370\ttotal: 1.01s\tremaining: 1.26s\n",
      "444:\tlearn: 0.2622547\ttotal: 1.01s\tremaining: 1.26s\n",
      "445:\tlearn: 0.2616037\ttotal: 1.01s\tremaining: 1.26s\n",
      "446:\tlearn: 0.2609116\ttotal: 1.01s\tremaining: 1.25s\n",
      "447:\tlearn: 0.2608255\ttotal: 1.02s\tremaining: 1.25s\n",
      "448:\tlearn: 0.2607416\ttotal: 1.02s\tremaining: 1.25s\n",
      "449:\tlearn: 0.2603988\ttotal: 1.02s\tremaining: 1.25s\n",
      "450:\tlearn: 0.2601995\ttotal: 1.02s\tremaining: 1.25s\n",
      "451:\tlearn: 0.2601146\ttotal: 1.03s\tremaining: 1.24s\n",
      "452:\tlearn: 0.2600872\ttotal: 1.03s\tremaining: 1.24s\n",
      "453:\tlearn: 0.2598658\ttotal: 1.03s\tremaining: 1.24s\n",
      "454:\tlearn: 0.2597889\ttotal: 1.03s\tremaining: 1.24s\n",
      "455:\tlearn: 0.2597401\ttotal: 1.03s\tremaining: 1.24s\n",
      "456:\tlearn: 0.2595774\ttotal: 1.04s\tremaining: 1.23s\n",
      "457:\tlearn: 0.2595324\ttotal: 1.04s\tremaining: 1.23s\n",
      "458:\tlearn: 0.2593995\ttotal: 1.04s\tremaining: 1.23s\n",
      "459:\tlearn: 0.2592934\ttotal: 1.04s\tremaining: 1.23s\n",
      "460:\tlearn: 0.2591780\ttotal: 1.05s\tremaining: 1.22s\n",
      "461:\tlearn: 0.2590681\ttotal: 1.05s\tremaining: 1.22s\n",
      "462:\tlearn: 0.2590388\ttotal: 1.05s\tremaining: 1.22s\n",
      "463:\tlearn: 0.2586397\ttotal: 1.05s\tremaining: 1.22s\n",
      "464:\tlearn: 0.2582276\ttotal: 1.05s\tremaining: 1.21s\n",
      "465:\tlearn: 0.2581281\ttotal: 1.06s\tremaining: 1.21s\n",
      "466:\tlearn: 0.2580484\ttotal: 1.06s\tremaining: 1.21s\n",
      "467:\tlearn: 0.2579000\ttotal: 1.06s\tremaining: 1.21s\n",
      "468:\tlearn: 0.2578242\ttotal: 1.06s\tremaining: 1.21s\n",
      "469:\tlearn: 0.2577941\ttotal: 1.07s\tremaining: 1.2s\n",
      "470:\tlearn: 0.2575629\ttotal: 1.07s\tremaining: 1.2s\n",
      "471:\tlearn: 0.2572854\ttotal: 1.07s\tremaining: 1.2s\n",
      "472:\tlearn: 0.2569389\ttotal: 1.07s\tremaining: 1.2s\n",
      "473:\tlearn: 0.2568672\ttotal: 1.07s\tremaining: 1.19s\n",
      "474:\tlearn: 0.2566237\ttotal: 1.08s\tremaining: 1.19s\n",
      "475:\tlearn: 0.2564151\ttotal: 1.08s\tremaining: 1.19s\n",
      "476:\tlearn: 0.2563392\ttotal: 1.08s\tremaining: 1.19s\n",
      "477:\tlearn: 0.2562681\ttotal: 1.08s\tremaining: 1.18s\n",
      "478:\tlearn: 0.2561978\ttotal: 1.09s\tremaining: 1.18s\n",
      "479:\tlearn: 0.2561034\ttotal: 1.09s\tremaining: 1.18s\n",
      "480:\tlearn: 0.2560335\ttotal: 1.09s\tremaining: 1.18s\n",
      "481:\tlearn: 0.2559481\ttotal: 1.09s\tremaining: 1.17s\n",
      "482:\tlearn: 0.2558614\ttotal: 1.09s\tremaining: 1.17s\n",
      "483:\tlearn: 0.2558136\ttotal: 1.1s\tremaining: 1.17s\n",
      "484:\tlearn: 0.2556838\ttotal: 1.1s\tremaining: 1.17s\n",
      "485:\tlearn: 0.2556215\ttotal: 1.1s\tremaining: 1.17s\n",
      "486:\tlearn: 0.2553064\ttotal: 1.1s\tremaining: 1.16s\n",
      "487:\tlearn: 0.2552228\ttotal: 1.1s\tremaining: 1.16s\n",
      "488:\tlearn: 0.2551393\ttotal: 1.11s\tremaining: 1.16s\n",
      "489:\tlearn: 0.2547853\ttotal: 1.11s\tremaining: 1.15s\n",
      "490:\tlearn: 0.2540955\ttotal: 1.11s\tremaining: 1.15s\n",
      "491:\tlearn: 0.2540452\ttotal: 1.11s\tremaining: 1.15s\n",
      "492:\tlearn: 0.2537081\ttotal: 1.11s\tremaining: 1.15s\n",
      "493:\tlearn: 0.2535422\ttotal: 1.12s\tremaining: 1.14s\n",
      "494:\tlearn: 0.2534907\ttotal: 1.12s\tremaining: 1.14s\n",
      "495:\tlearn: 0.2533025\ttotal: 1.12s\tremaining: 1.14s\n",
      "496:\tlearn: 0.2532057\ttotal: 1.12s\tremaining: 1.14s\n",
      "497:\tlearn: 0.2529919\ttotal: 1.12s\tremaining: 1.13s\n",
      "498:\tlearn: 0.2528994\ttotal: 1.13s\tremaining: 1.13s\n",
      "499:\tlearn: 0.2526354\ttotal: 1.13s\tremaining: 1.13s\n",
      "500:\tlearn: 0.2525549\ttotal: 1.13s\tremaining: 1.12s\n",
      "501:\tlearn: 0.2522875\ttotal: 1.13s\tremaining: 1.12s\n",
      "502:\tlearn: 0.2521310\ttotal: 1.13s\tremaining: 1.12s\n",
      "503:\tlearn: 0.2518014\ttotal: 1.14s\tremaining: 1.12s\n",
      "504:\tlearn: 0.2517785\ttotal: 1.14s\tremaining: 1.11s\n",
      "505:\tlearn: 0.2514764\ttotal: 1.14s\tremaining: 1.11s\n",
      "506:\tlearn: 0.2514190\ttotal: 1.14s\tremaining: 1.11s\n",
      "507:\tlearn: 0.2511414\ttotal: 1.14s\tremaining: 1.11s\n",
      "508:\tlearn: 0.2510255\ttotal: 1.14s\tremaining: 1.1s\n",
      "509:\tlearn: 0.2509662\ttotal: 1.15s\tremaining: 1.1s\n",
      "510:\tlearn: 0.2508733\ttotal: 1.15s\tremaining: 1.1s\n",
      "511:\tlearn: 0.2508428\ttotal: 1.15s\tremaining: 1.09s\n",
      "512:\tlearn: 0.2507917\ttotal: 1.15s\tremaining: 1.09s\n",
      "513:\tlearn: 0.2507528\ttotal: 1.15s\tremaining: 1.09s\n",
      "514:\tlearn: 0.2506506\ttotal: 1.16s\tremaining: 1.09s\n",
      "515:\tlearn: 0.2502157\ttotal: 1.16s\tremaining: 1.08s\n",
      "516:\tlearn: 0.2501699\ttotal: 1.16s\tremaining: 1.08s\n",
      "517:\tlearn: 0.2499374\ttotal: 1.16s\tremaining: 1.08s\n",
      "518:\tlearn: 0.2499011\ttotal: 1.16s\tremaining: 1.08s\n",
      "519:\tlearn: 0.2498584\ttotal: 1.16s\tremaining: 1.07s\n",
      "520:\tlearn: 0.2497096\ttotal: 1.17s\tremaining: 1.07s\n",
      "521:\tlearn: 0.2493107\ttotal: 1.17s\tremaining: 1.07s\n",
      "522:\tlearn: 0.2491694\ttotal: 1.17s\tremaining: 1.07s\n",
      "523:\tlearn: 0.2491005\ttotal: 1.17s\tremaining: 1.07s\n",
      "524:\tlearn: 0.2490410\ttotal: 1.18s\tremaining: 1.06s\n",
      "525:\tlearn: 0.2489705\ttotal: 1.18s\tremaining: 1.06s\n",
      "526:\tlearn: 0.2488938\ttotal: 1.18s\tremaining: 1.06s\n",
      "527:\tlearn: 0.2487064\ttotal: 1.18s\tremaining: 1.06s\n",
      "528:\tlearn: 0.2486757\ttotal: 1.18s\tremaining: 1.05s\n",
      "529:\tlearn: 0.2486233\ttotal: 1.19s\tremaining: 1.05s\n",
      "530:\tlearn: 0.2484884\ttotal: 1.19s\tremaining: 1.05s\n",
      "531:\tlearn: 0.2484419\ttotal: 1.19s\tremaining: 1.05s\n",
      "532:\tlearn: 0.2483724\ttotal: 1.19s\tremaining: 1.04s\n",
      "533:\tlearn: 0.2482797\ttotal: 1.19s\tremaining: 1.04s\n",
      "534:\tlearn: 0.2482300\ttotal: 1.2s\tremaining: 1.04s\n",
      "535:\tlearn: 0.2481033\ttotal: 1.2s\tremaining: 1.04s\n",
      "536:\tlearn: 0.2480514\ttotal: 1.2s\tremaining: 1.03s\n",
      "537:\tlearn: 0.2479492\ttotal: 1.2s\tremaining: 1.03s\n",
      "538:\tlearn: 0.2478169\ttotal: 1.2s\tremaining: 1.03s\n",
      "539:\tlearn: 0.2477347\ttotal: 1.2s\tremaining: 1.03s\n",
      "540:\tlearn: 0.2476520\ttotal: 1.21s\tremaining: 1.02s\n",
      "541:\tlearn: 0.2472691\ttotal: 1.21s\tremaining: 1.02s\n",
      "542:\tlearn: 0.2472359\ttotal: 1.21s\tremaining: 1.02s\n",
      "543:\tlearn: 0.2468278\ttotal: 1.21s\tremaining: 1.02s\n",
      "544:\tlearn: 0.2463244\ttotal: 1.21s\tremaining: 1.01s\n",
      "545:\tlearn: 0.2463085\ttotal: 1.22s\tremaining: 1.01s\n",
      "546:\tlearn: 0.2461553\ttotal: 1.22s\tremaining: 1.01s\n",
      "547:\tlearn: 0.2460955\ttotal: 1.22s\tremaining: 1.01s\n",
      "548:\tlearn: 0.2459589\ttotal: 1.22s\tremaining: 1s\n",
      "549:\tlearn: 0.2459084\ttotal: 1.22s\tremaining: 1s\n",
      "550:\tlearn: 0.2458427\ttotal: 1.23s\tremaining: 999ms\n",
      "551:\tlearn: 0.2453912\ttotal: 1.23s\tremaining: 996ms\n",
      "552:\tlearn: 0.2453097\ttotal: 1.23s\tremaining: 993ms\n",
      "553:\tlearn: 0.2449194\ttotal: 1.23s\tremaining: 991ms\n",
      "554:\tlearn: 0.2448523\ttotal: 1.23s\tremaining: 988ms\n",
      "555:\tlearn: 0.2447567\ttotal: 1.23s\tremaining: 986ms\n",
      "556:\tlearn: 0.2446741\ttotal: 1.24s\tremaining: 983ms\n",
      "557:\tlearn: 0.2445829\ttotal: 1.24s\tremaining: 980ms\n",
      "558:\tlearn: 0.2445319\ttotal: 1.24s\tremaining: 978ms\n",
      "559:\tlearn: 0.2444162\ttotal: 1.24s\tremaining: 975ms\n",
      "560:\tlearn: 0.2440829\ttotal: 1.24s\tremaining: 973ms\n",
      "561:\tlearn: 0.2439469\ttotal: 1.24s\tremaining: 970ms\n",
      "562:\tlearn: 0.2439037\ttotal: 1.25s\tremaining: 968ms\n",
      "563:\tlearn: 0.2438163\ttotal: 1.25s\tremaining: 965ms\n",
      "564:\tlearn: 0.2436697\ttotal: 1.25s\tremaining: 963ms\n",
      "565:\tlearn: 0.2436187\ttotal: 1.25s\tremaining: 960ms\n",
      "566:\tlearn: 0.2434629\ttotal: 1.25s\tremaining: 958ms\n",
      "567:\tlearn: 0.2433930\ttotal: 1.26s\tremaining: 956ms\n",
      "568:\tlearn: 0.2432606\ttotal: 1.26s\tremaining: 953ms\n",
      "569:\tlearn: 0.2431409\ttotal: 1.26s\tremaining: 951ms\n",
      "570:\tlearn: 0.2430683\ttotal: 1.26s\tremaining: 948ms\n",
      "571:\tlearn: 0.2429939\ttotal: 1.26s\tremaining: 946ms\n",
      "572:\tlearn: 0.2429206\ttotal: 1.26s\tremaining: 943ms\n",
      "573:\tlearn: 0.2425978\ttotal: 1.27s\tremaining: 941ms\n",
      "574:\tlearn: 0.2425408\ttotal: 1.27s\tremaining: 938ms\n",
      "575:\tlearn: 0.2424722\ttotal: 1.27s\tremaining: 936ms\n",
      "576:\tlearn: 0.2423747\ttotal: 1.27s\tremaining: 933ms\n",
      "577:\tlearn: 0.2423070\ttotal: 1.27s\tremaining: 931ms\n",
      "578:\tlearn: 0.2420498\ttotal: 1.28s\tremaining: 928ms\n",
      "579:\tlearn: 0.2419408\ttotal: 1.28s\tremaining: 925ms\n",
      "580:\tlearn: 0.2418505\ttotal: 1.28s\tremaining: 923ms\n",
      "581:\tlearn: 0.2418040\ttotal: 1.28s\tremaining: 920ms\n",
      "582:\tlearn: 0.2417387\ttotal: 1.28s\tremaining: 918ms\n",
      "583:\tlearn: 0.2416577\ttotal: 1.28s\tremaining: 915ms\n",
      "584:\tlearn: 0.2416108\ttotal: 1.29s\tremaining: 913ms\n",
      "585:\tlearn: 0.2414991\ttotal: 1.29s\tremaining: 910ms\n",
      "586:\tlearn: 0.2413832\ttotal: 1.29s\tremaining: 908ms\n",
      "587:\tlearn: 0.2413213\ttotal: 1.29s\tremaining: 905ms\n",
      "588:\tlearn: 0.2411930\ttotal: 1.29s\tremaining: 903ms\n",
      "589:\tlearn: 0.2410806\ttotal: 1.29s\tremaining: 900ms\n",
      "590:\tlearn: 0.2410154\ttotal: 1.3s\tremaining: 898ms\n",
      "591:\tlearn: 0.2409099\ttotal: 1.3s\tremaining: 896ms\n",
      "592:\tlearn: 0.2408508\ttotal: 1.3s\tremaining: 893ms\n",
      "593:\tlearn: 0.2407835\ttotal: 1.3s\tremaining: 890ms\n",
      "594:\tlearn: 0.2407413\ttotal: 1.3s\tremaining: 888ms\n",
      "595:\tlearn: 0.2406478\ttotal: 1.31s\tremaining: 885ms\n",
      "596:\tlearn: 0.2405957\ttotal: 1.31s\tremaining: 883ms\n",
      "597:\tlearn: 0.2405164\ttotal: 1.31s\tremaining: 881ms\n",
      "598:\tlearn: 0.2404092\ttotal: 1.31s\tremaining: 878ms\n",
      "599:\tlearn: 0.2403601\ttotal: 1.31s\tremaining: 875ms\n",
      "600:\tlearn: 0.2402221\ttotal: 1.31s\tremaining: 873ms\n",
      "601:\tlearn: 0.2400420\ttotal: 1.32s\tremaining: 870ms\n",
      "602:\tlearn: 0.2399596\ttotal: 1.32s\tremaining: 868ms\n",
      "603:\tlearn: 0.2398478\ttotal: 1.32s\tremaining: 865ms\n",
      "604:\tlearn: 0.2396546\ttotal: 1.32s\tremaining: 863ms\n",
      "605:\tlearn: 0.2395168\ttotal: 1.32s\tremaining: 861ms\n",
      "606:\tlearn: 0.2389461\ttotal: 1.32s\tremaining: 858ms\n",
      "607:\tlearn: 0.2389019\ttotal: 1.33s\tremaining: 856ms\n",
      "608:\tlearn: 0.2388363\ttotal: 1.33s\tremaining: 853ms\n",
      "609:\tlearn: 0.2387262\ttotal: 1.33s\tremaining: 851ms\n",
      "610:\tlearn: 0.2386522\ttotal: 1.33s\tremaining: 849ms\n",
      "611:\tlearn: 0.2386041\ttotal: 1.34s\tremaining: 847ms\n",
      "612:\tlearn: 0.2385470\ttotal: 1.34s\tremaining: 845ms\n",
      "613:\tlearn: 0.2384884\ttotal: 1.34s\tremaining: 842ms\n",
      "614:\tlearn: 0.2383917\ttotal: 1.34s\tremaining: 840ms\n",
      "615:\tlearn: 0.2382706\ttotal: 1.34s\tremaining: 838ms\n",
      "616:\tlearn: 0.2382104\ttotal: 1.34s\tremaining: 835ms\n",
      "617:\tlearn: 0.2381605\ttotal: 1.35s\tremaining: 833ms\n",
      "618:\tlearn: 0.2379602\ttotal: 1.35s\tremaining: 831ms\n",
      "619:\tlearn: 0.2378449\ttotal: 1.35s\tremaining: 829ms\n",
      "620:\tlearn: 0.2377931\ttotal: 1.35s\tremaining: 826ms\n",
      "621:\tlearn: 0.2376847\ttotal: 1.36s\tremaining: 824ms\n",
      "622:\tlearn: 0.2375944\ttotal: 1.36s\tremaining: 822ms\n",
      "623:\tlearn: 0.2375394\ttotal: 1.36s\tremaining: 820ms\n",
      "624:\tlearn: 0.2374819\ttotal: 1.36s\tremaining: 818ms\n",
      "625:\tlearn: 0.2372600\ttotal: 1.36s\tremaining: 815ms\n",
      "626:\tlearn: 0.2371963\ttotal: 1.37s\tremaining: 813ms\n",
      "627:\tlearn: 0.2367115\ttotal: 1.37s\tremaining: 811ms\n",
      "628:\tlearn: 0.2366799\ttotal: 1.37s\tremaining: 808ms\n",
      "629:\tlearn: 0.2366231\ttotal: 1.37s\tremaining: 806ms\n",
      "630:\tlearn: 0.2365571\ttotal: 1.37s\tremaining: 804ms\n",
      "631:\tlearn: 0.2365328\ttotal: 1.38s\tremaining: 801ms\n",
      "632:\tlearn: 0.2364934\ttotal: 1.38s\tremaining: 799ms\n",
      "633:\tlearn: 0.2361164\ttotal: 1.38s\tremaining: 796ms\n",
      "634:\tlearn: 0.2359160\ttotal: 1.38s\tremaining: 794ms\n",
      "635:\tlearn: 0.2358766\ttotal: 1.38s\tremaining: 792ms\n",
      "636:\tlearn: 0.2358079\ttotal: 1.38s\tremaining: 789ms\n",
      "637:\tlearn: 0.2353822\ttotal: 1.39s\tremaining: 787ms\n",
      "638:\tlearn: 0.2352855\ttotal: 1.39s\tremaining: 784ms\n",
      "639:\tlearn: 0.2352263\ttotal: 1.39s\tremaining: 782ms\n",
      "640:\tlearn: 0.2348110\ttotal: 1.39s\tremaining: 780ms\n",
      "641:\tlearn: 0.2345306\ttotal: 1.39s\tremaining: 777ms\n",
      "642:\tlearn: 0.2344777\ttotal: 1.4s\tremaining: 775ms\n",
      "643:\tlearn: 0.2341921\ttotal: 1.4s\tremaining: 773ms\n",
      "644:\tlearn: 0.2339756\ttotal: 1.4s\tremaining: 770ms\n",
      "645:\tlearn: 0.2339230\ttotal: 1.4s\tremaining: 768ms\n",
      "646:\tlearn: 0.2338716\ttotal: 1.4s\tremaining: 766ms\n",
      "647:\tlearn: 0.2338295\ttotal: 1.41s\tremaining: 763ms\n",
      "648:\tlearn: 0.2336347\ttotal: 1.41s\tremaining: 761ms\n",
      "649:\tlearn: 0.2333733\ttotal: 1.41s\tremaining: 759ms\n",
      "650:\tlearn: 0.2333415\ttotal: 1.41s\tremaining: 756ms\n",
      "651:\tlearn: 0.2330080\ttotal: 1.41s\tremaining: 754ms\n",
      "652:\tlearn: 0.2329484\ttotal: 1.41s\tremaining: 751ms\n",
      "653:\tlearn: 0.2328661\ttotal: 1.42s\tremaining: 749ms\n",
      "654:\tlearn: 0.2326924\ttotal: 1.42s\tremaining: 746ms\n",
      "655:\tlearn: 0.2325989\ttotal: 1.42s\tremaining: 744ms\n",
      "656:\tlearn: 0.2324835\ttotal: 1.42s\tremaining: 742ms\n",
      "657:\tlearn: 0.2322299\ttotal: 1.42s\tremaining: 739ms\n",
      "658:\tlearn: 0.2321339\ttotal: 1.42s\tremaining: 737ms\n",
      "659:\tlearn: 0.2320752\ttotal: 1.43s\tremaining: 735ms\n",
      "660:\tlearn: 0.2319657\ttotal: 1.43s\tremaining: 732ms\n",
      "661:\tlearn: 0.2319359\ttotal: 1.43s\tremaining: 730ms\n",
      "662:\tlearn: 0.2316980\ttotal: 1.43s\tremaining: 728ms\n",
      "663:\tlearn: 0.2316392\ttotal: 1.43s\tremaining: 725ms\n",
      "664:\tlearn: 0.2315587\ttotal: 1.44s\tremaining: 723ms\n",
      "665:\tlearn: 0.2315199\ttotal: 1.44s\tremaining: 721ms\n",
      "666:\tlearn: 0.2312434\ttotal: 1.44s\tremaining: 719ms\n",
      "667:\tlearn: 0.2310935\ttotal: 1.44s\tremaining: 717ms\n",
      "668:\tlearn: 0.2310120\ttotal: 1.44s\tremaining: 714ms\n",
      "669:\tlearn: 0.2308188\ttotal: 1.45s\tremaining: 712ms\n",
      "670:\tlearn: 0.2307834\ttotal: 1.45s\tremaining: 710ms\n",
      "671:\tlearn: 0.2307388\ttotal: 1.45s\tremaining: 707ms\n",
      "672:\tlearn: 0.2303679\ttotal: 1.45s\tremaining: 706ms\n",
      "673:\tlearn: 0.2303126\ttotal: 1.45s\tremaining: 703ms\n",
      "674:\tlearn: 0.2301283\ttotal: 1.46s\tremaining: 701ms\n",
      "675:\tlearn: 0.2300640\ttotal: 1.46s\tremaining: 699ms\n",
      "676:\tlearn: 0.2299658\ttotal: 1.46s\tremaining: 696ms\n",
      "677:\tlearn: 0.2299272\ttotal: 1.46s\tremaining: 694ms\n",
      "678:\tlearn: 0.2298659\ttotal: 1.46s\tremaining: 692ms\n",
      "679:\tlearn: 0.2298192\ttotal: 1.46s\tremaining: 689ms\n",
      "680:\tlearn: 0.2297522\ttotal: 1.47s\tremaining: 687ms\n",
      "681:\tlearn: 0.2296010\ttotal: 1.47s\tremaining: 685ms\n",
      "682:\tlearn: 0.2295244\ttotal: 1.47s\tremaining: 682ms\n",
      "683:\tlearn: 0.2294796\ttotal: 1.47s\tremaining: 680ms\n",
      "684:\tlearn: 0.2294075\ttotal: 1.47s\tremaining: 678ms\n",
      "685:\tlearn: 0.2293135\ttotal: 1.47s\tremaining: 675ms\n",
      "686:\tlearn: 0.2291283\ttotal: 1.48s\tremaining: 673ms\n",
      "687:\tlearn: 0.2290842\ttotal: 1.48s\tremaining: 670ms\n",
      "688:\tlearn: 0.2290060\ttotal: 1.48s\tremaining: 668ms\n",
      "689:\tlearn: 0.2289014\ttotal: 1.48s\tremaining: 666ms\n",
      "690:\tlearn: 0.2285487\ttotal: 1.48s\tremaining: 664ms\n",
      "691:\tlearn: 0.2284916\ttotal: 1.49s\tremaining: 661ms\n",
      "692:\tlearn: 0.2284383\ttotal: 1.49s\tremaining: 659ms\n",
      "693:\tlearn: 0.2282144\ttotal: 1.49s\tremaining: 657ms\n",
      "694:\tlearn: 0.2281466\ttotal: 1.49s\tremaining: 654ms\n",
      "695:\tlearn: 0.2280935\ttotal: 1.49s\tremaining: 652ms\n",
      "696:\tlearn: 0.2280528\ttotal: 1.49s\tremaining: 650ms\n",
      "697:\tlearn: 0.2279140\ttotal: 1.5s\tremaining: 647ms\n",
      "698:\tlearn: 0.2278546\ttotal: 1.5s\tremaining: 645ms\n",
      "699:\tlearn: 0.2277857\ttotal: 1.5s\tremaining: 643ms\n",
      "700:\tlearn: 0.2276876\ttotal: 1.5s\tremaining: 641ms\n",
      "701:\tlearn: 0.2276044\ttotal: 1.5s\tremaining: 638ms\n",
      "702:\tlearn: 0.2275590\ttotal: 1.5s\tremaining: 636ms\n",
      "703:\tlearn: 0.2275394\ttotal: 1.51s\tremaining: 634ms\n",
      "704:\tlearn: 0.2271038\ttotal: 1.51s\tremaining: 632ms\n",
      "705:\tlearn: 0.2267875\ttotal: 1.51s\tremaining: 630ms\n",
      "706:\tlearn: 0.2266818\ttotal: 1.51s\tremaining: 628ms\n",
      "707:\tlearn: 0.2266236\ttotal: 1.52s\tremaining: 625ms\n",
      "708:\tlearn: 0.2265710\ttotal: 1.52s\tremaining: 623ms\n",
      "709:\tlearn: 0.2265215\ttotal: 1.52s\tremaining: 621ms\n",
      "710:\tlearn: 0.2264476\ttotal: 1.52s\tremaining: 619ms\n",
      "711:\tlearn: 0.2264002\ttotal: 1.52s\tremaining: 617ms\n",
      "712:\tlearn: 0.2263365\ttotal: 1.53s\tremaining: 615ms\n",
      "713:\tlearn: 0.2262458\ttotal: 1.53s\tremaining: 612ms\n",
      "714:\tlearn: 0.2261455\ttotal: 1.53s\tremaining: 610ms\n",
      "715:\tlearn: 0.2261184\ttotal: 1.53s\tremaining: 608ms\n",
      "716:\tlearn: 0.2260665\ttotal: 1.53s\tremaining: 606ms\n",
      "717:\tlearn: 0.2259870\ttotal: 1.54s\tremaining: 603ms\n",
      "718:\tlearn: 0.2259602\ttotal: 1.54s\tremaining: 601ms\n",
      "719:\tlearn: 0.2258571\ttotal: 1.54s\tremaining: 599ms\n",
      "720:\tlearn: 0.2257838\ttotal: 1.54s\tremaining: 596ms\n",
      "721:\tlearn: 0.2256800\ttotal: 1.54s\tremaining: 594ms\n",
      "722:\tlearn: 0.2252628\ttotal: 1.54s\tremaining: 592ms\n",
      "723:\tlearn: 0.2252060\ttotal: 1.55s\tremaining: 590ms\n",
      "724:\tlearn: 0.2251584\ttotal: 1.55s\tremaining: 587ms\n",
      "725:\tlearn: 0.2250480\ttotal: 1.55s\tremaining: 585ms\n",
      "726:\tlearn: 0.2247447\ttotal: 1.55s\tremaining: 583ms\n",
      "727:\tlearn: 0.2246661\ttotal: 1.55s\tremaining: 581ms\n",
      "728:\tlearn: 0.2245611\ttotal: 1.55s\tremaining: 578ms\n",
      "729:\tlearn: 0.2244635\ttotal: 1.56s\tremaining: 576ms\n",
      "730:\tlearn: 0.2243552\ttotal: 1.56s\tremaining: 574ms\n",
      "731:\tlearn: 0.2243243\ttotal: 1.56s\tremaining: 572ms\n",
      "732:\tlearn: 0.2242744\ttotal: 1.56s\tremaining: 569ms\n",
      "733:\tlearn: 0.2242045\ttotal: 1.56s\tremaining: 567ms\n",
      "734:\tlearn: 0.2241482\ttotal: 1.57s\tremaining: 565ms\n",
      "735:\tlearn: 0.2240674\ttotal: 1.57s\tremaining: 563ms\n",
      "736:\tlearn: 0.2240263\ttotal: 1.57s\tremaining: 560ms\n",
      "737:\tlearn: 0.2239382\ttotal: 1.57s\tremaining: 558ms\n",
      "738:\tlearn: 0.2238518\ttotal: 1.57s\tremaining: 556ms\n",
      "739:\tlearn: 0.2238111\ttotal: 1.57s\tremaining: 554ms\n",
      "740:\tlearn: 0.2237307\ttotal: 1.58s\tremaining: 551ms\n",
      "741:\tlearn: 0.2237182\ttotal: 1.58s\tremaining: 549ms\n",
      "742:\tlearn: 0.2236699\ttotal: 1.58s\tremaining: 547ms\n",
      "743:\tlearn: 0.2236324\ttotal: 1.58s\tremaining: 545ms\n",
      "744:\tlearn: 0.2235889\ttotal: 1.58s\tremaining: 542ms\n",
      "745:\tlearn: 0.2235120\ttotal: 1.59s\tremaining: 540ms\n",
      "746:\tlearn: 0.2234710\ttotal: 1.59s\tremaining: 539ms\n",
      "747:\tlearn: 0.2234230\ttotal: 1.59s\tremaining: 536ms\n",
      "748:\tlearn: 0.2233460\ttotal: 1.59s\tremaining: 534ms\n",
      "749:\tlearn: 0.2232910\ttotal: 1.6s\tremaining: 532ms\n",
      "750:\tlearn: 0.2232574\ttotal: 1.6s\tremaining: 530ms\n",
      "751:\tlearn: 0.2232108\ttotal: 1.6s\tremaining: 528ms\n",
      "752:\tlearn: 0.2229845\ttotal: 1.6s\tremaining: 525ms\n",
      "753:\tlearn: 0.2228769\ttotal: 1.6s\tremaining: 523ms\n",
      "754:\tlearn: 0.2227278\ttotal: 1.61s\tremaining: 521ms\n",
      "755:\tlearn: 0.2226806\ttotal: 1.61s\tremaining: 519ms\n",
      "756:\tlearn: 0.2226299\ttotal: 1.61s\tremaining: 517ms\n",
      "757:\tlearn: 0.2225659\ttotal: 1.61s\tremaining: 515ms\n",
      "758:\tlearn: 0.2224918\ttotal: 1.61s\tremaining: 512ms\n",
      "759:\tlearn: 0.2224458\ttotal: 1.61s\tremaining: 510ms\n",
      "760:\tlearn: 0.2224165\ttotal: 1.62s\tremaining: 508ms\n",
      "761:\tlearn: 0.2223526\ttotal: 1.62s\tremaining: 506ms\n",
      "762:\tlearn: 0.2222943\ttotal: 1.62s\tremaining: 504ms\n",
      "763:\tlearn: 0.2222181\ttotal: 1.62s\tremaining: 501ms\n",
      "764:\tlearn: 0.2220521\ttotal: 1.63s\tremaining: 499ms\n",
      "765:\tlearn: 0.2220078\ttotal: 1.63s\tremaining: 497ms\n",
      "766:\tlearn: 0.2219674\ttotal: 1.63s\tremaining: 495ms\n",
      "767:\tlearn: 0.2219136\ttotal: 1.63s\tremaining: 493ms\n",
      "768:\tlearn: 0.2218349\ttotal: 1.63s\tremaining: 491ms\n",
      "769:\tlearn: 0.2217768\ttotal: 1.63s\tremaining: 488ms\n",
      "770:\tlearn: 0.2217179\ttotal: 1.64s\tremaining: 486ms\n",
      "771:\tlearn: 0.2216555\ttotal: 1.64s\tremaining: 484ms\n",
      "772:\tlearn: 0.2215650\ttotal: 1.64s\tremaining: 482ms\n",
      "773:\tlearn: 0.2215088\ttotal: 1.64s\tremaining: 479ms\n",
      "774:\tlearn: 0.2214776\ttotal: 1.64s\tremaining: 477ms\n",
      "775:\tlearn: 0.2214412\ttotal: 1.64s\tremaining: 475ms\n",
      "776:\tlearn: 0.2213512\ttotal: 1.65s\tremaining: 473ms\n",
      "777:\tlearn: 0.2213202\ttotal: 1.65s\tremaining: 470ms\n",
      "778:\tlearn: 0.2212768\ttotal: 1.65s\tremaining: 468ms\n",
      "779:\tlearn: 0.2212380\ttotal: 1.65s\tremaining: 466ms\n",
      "780:\tlearn: 0.2211835\ttotal: 1.65s\tremaining: 464ms\n",
      "781:\tlearn: 0.2211551\ttotal: 1.65s\tremaining: 461ms\n",
      "782:\tlearn: 0.2211090\ttotal: 1.66s\tremaining: 459ms\n",
      "783:\tlearn: 0.2210429\ttotal: 1.66s\tremaining: 457ms\n",
      "784:\tlearn: 0.2209426\ttotal: 1.66s\tremaining: 454ms\n",
      "785:\tlearn: 0.2208891\ttotal: 1.66s\tremaining: 452ms\n",
      "786:\tlearn: 0.2205920\ttotal: 1.66s\tremaining: 450ms\n",
      "787:\tlearn: 0.2205542\ttotal: 1.66s\tremaining: 448ms\n",
      "788:\tlearn: 0.2205133\ttotal: 1.67s\tremaining: 446ms\n",
      "789:\tlearn: 0.2204074\ttotal: 1.67s\tremaining: 444ms\n",
      "790:\tlearn: 0.2203681\ttotal: 1.67s\tremaining: 441ms\n",
      "791:\tlearn: 0.2202911\ttotal: 1.67s\tremaining: 439ms\n",
      "792:\tlearn: 0.2202432\ttotal: 1.67s\tremaining: 437ms\n",
      "793:\tlearn: 0.2201222\ttotal: 1.67s\tremaining: 435ms\n",
      "794:\tlearn: 0.2199966\ttotal: 1.68s\tremaining: 432ms\n",
      "795:\tlearn: 0.2199382\ttotal: 1.68s\tremaining: 430ms\n",
      "796:\tlearn: 0.2198588\ttotal: 1.68s\tremaining: 428ms\n",
      "797:\tlearn: 0.2197988\ttotal: 1.68s\tremaining: 426ms\n",
      "798:\tlearn: 0.2197592\ttotal: 1.69s\tremaining: 424ms\n",
      "799:\tlearn: 0.2196655\ttotal: 1.69s\tremaining: 422ms\n",
      "800:\tlearn: 0.2196038\ttotal: 1.69s\tremaining: 420ms\n",
      "801:\tlearn: 0.2195438\ttotal: 1.69s\tremaining: 418ms\n",
      "802:\tlearn: 0.2194860\ttotal: 1.69s\tremaining: 415ms\n",
      "803:\tlearn: 0.2194423\ttotal: 1.7s\tremaining: 413ms\n",
      "804:\tlearn: 0.2193675\ttotal: 1.7s\tremaining: 411ms\n",
      "805:\tlearn: 0.2193230\ttotal: 1.7s\tremaining: 409ms\n",
      "806:\tlearn: 0.2192936\ttotal: 1.7s\tremaining: 407ms\n",
      "807:\tlearn: 0.2192478\ttotal: 1.7s\tremaining: 405ms\n",
      "808:\tlearn: 0.2192214\ttotal: 1.71s\tremaining: 403ms\n",
      "809:\tlearn: 0.2191692\ttotal: 1.71s\tremaining: 400ms\n",
      "810:\tlearn: 0.2190886\ttotal: 1.71s\tremaining: 398ms\n",
      "811:\tlearn: 0.2190507\ttotal: 1.71s\tremaining: 396ms\n",
      "812:\tlearn: 0.2190332\ttotal: 1.71s\tremaining: 394ms\n",
      "813:\tlearn: 0.2189512\ttotal: 1.71s\tremaining: 392ms\n",
      "814:\tlearn: 0.2189234\ttotal: 1.72s\tremaining: 389ms\n",
      "815:\tlearn: 0.2188927\ttotal: 1.72s\tremaining: 387ms\n",
      "816:\tlearn: 0.2188580\ttotal: 1.72s\tremaining: 385ms\n",
      "817:\tlearn: 0.2187745\ttotal: 1.72s\tremaining: 383ms\n",
      "818:\tlearn: 0.2187149\ttotal: 1.72s\tremaining: 381ms\n",
      "819:\tlearn: 0.2186318\ttotal: 1.72s\tremaining: 379ms\n",
      "820:\tlearn: 0.2186036\ttotal: 1.73s\tremaining: 376ms\n",
      "821:\tlearn: 0.2185696\ttotal: 1.73s\tremaining: 374ms\n",
      "822:\tlearn: 0.2185155\ttotal: 1.73s\tremaining: 372ms\n",
      "823:\tlearn: 0.2184745\ttotal: 1.73s\tremaining: 370ms\n",
      "824:\tlearn: 0.2184493\ttotal: 1.73s\tremaining: 368ms\n",
      "825:\tlearn: 0.2184035\ttotal: 1.73s\tremaining: 365ms\n",
      "826:\tlearn: 0.2183472\ttotal: 1.74s\tremaining: 363ms\n",
      "827:\tlearn: 0.2183077\ttotal: 1.74s\tremaining: 361ms\n",
      "828:\tlearn: 0.2182821\ttotal: 1.74s\tremaining: 359ms\n",
      "829:\tlearn: 0.2182512\ttotal: 1.74s\tremaining: 357ms\n",
      "830:\tlearn: 0.2181996\ttotal: 1.74s\tremaining: 355ms\n",
      "831:\tlearn: 0.2181573\ttotal: 1.75s\tremaining: 352ms\n",
      "832:\tlearn: 0.2181426\ttotal: 1.75s\tremaining: 350ms\n",
      "833:\tlearn: 0.2180965\ttotal: 1.75s\tremaining: 348ms\n",
      "834:\tlearn: 0.2180172\ttotal: 1.75s\tremaining: 346ms\n",
      "835:\tlearn: 0.2179837\ttotal: 1.75s\tremaining: 344ms\n",
      "836:\tlearn: 0.2178667\ttotal: 1.75s\tremaining: 342ms\n",
      "837:\tlearn: 0.2178212\ttotal: 1.76s\tremaining: 339ms\n",
      "838:\tlearn: 0.2177841\ttotal: 1.76s\tremaining: 337ms\n",
      "839:\tlearn: 0.2177077\ttotal: 1.76s\tremaining: 335ms\n",
      "840:\tlearn: 0.2175012\ttotal: 1.76s\tremaining: 333ms\n",
      "841:\tlearn: 0.2172319\ttotal: 1.76s\tremaining: 331ms\n",
      "842:\tlearn: 0.2171636\ttotal: 1.76s\tremaining: 329ms\n",
      "843:\tlearn: 0.2170468\ttotal: 1.77s\tremaining: 327ms\n",
      "844:\tlearn: 0.2169900\ttotal: 1.77s\tremaining: 324ms\n",
      "845:\tlearn: 0.2169405\ttotal: 1.77s\tremaining: 322ms\n",
      "846:\tlearn: 0.2167895\ttotal: 1.77s\tremaining: 320ms\n",
      "847:\tlearn: 0.2167560\ttotal: 1.77s\tremaining: 318ms\n",
      "848:\tlearn: 0.2167054\ttotal: 1.77s\tremaining: 316ms\n",
      "849:\tlearn: 0.2165141\ttotal: 1.78s\tremaining: 314ms\n",
      "850:\tlearn: 0.2161614\ttotal: 1.78s\tremaining: 312ms\n",
      "851:\tlearn: 0.2161147\ttotal: 1.78s\tremaining: 309ms\n",
      "852:\tlearn: 0.2160850\ttotal: 1.78s\tremaining: 307ms\n",
      "853:\tlearn: 0.2160383\ttotal: 1.78s\tremaining: 305ms\n",
      "854:\tlearn: 0.2159862\ttotal: 1.78s\tremaining: 303ms\n",
      "855:\tlearn: 0.2159469\ttotal: 1.79s\tremaining: 301ms\n",
      "856:\tlearn: 0.2158951\ttotal: 1.79s\tremaining: 298ms\n",
      "857:\tlearn: 0.2157573\ttotal: 1.79s\tremaining: 296ms\n",
      "858:\tlearn: 0.2156813\ttotal: 1.79s\tremaining: 294ms\n",
      "859:\tlearn: 0.2156089\ttotal: 1.79s\tremaining: 292ms\n",
      "860:\tlearn: 0.2155715\ttotal: 1.79s\tremaining: 290ms\n",
      "861:\tlearn: 0.2155009\ttotal: 1.8s\tremaining: 288ms\n",
      "862:\tlearn: 0.2154567\ttotal: 1.8s\tremaining: 286ms\n",
      "863:\tlearn: 0.2153575\ttotal: 1.8s\tremaining: 283ms\n",
      "864:\tlearn: 0.2153096\ttotal: 1.8s\tremaining: 281ms\n",
      "865:\tlearn: 0.2152673\ttotal: 1.8s\tremaining: 279ms\n",
      "866:\tlearn: 0.2152180\ttotal: 1.81s\tremaining: 277ms\n",
      "867:\tlearn: 0.2151875\ttotal: 1.81s\tremaining: 275ms\n",
      "868:\tlearn: 0.2149928\ttotal: 1.81s\tremaining: 273ms\n",
      "869:\tlearn: 0.2149393\ttotal: 1.81s\tremaining: 271ms\n",
      "870:\tlearn: 0.2148603\ttotal: 1.81s\tremaining: 269ms\n",
      "871:\tlearn: 0.2147813\ttotal: 1.81s\tremaining: 266ms\n",
      "872:\tlearn: 0.2145108\ttotal: 1.82s\tremaining: 264ms\n",
      "873:\tlearn: 0.2144071\ttotal: 1.82s\tremaining: 262ms\n",
      "874:\tlearn: 0.2141694\ttotal: 1.82s\tremaining: 260ms\n",
      "875:\tlearn: 0.2139881\ttotal: 1.82s\tremaining: 258ms\n",
      "876:\tlearn: 0.2138974\ttotal: 1.82s\tremaining: 256ms\n",
      "877:\tlearn: 0.2138495\ttotal: 1.82s\tremaining: 254ms\n",
      "878:\tlearn: 0.2137833\ttotal: 1.83s\tremaining: 252ms\n",
      "879:\tlearn: 0.2137496\ttotal: 1.83s\tremaining: 249ms\n",
      "880:\tlearn: 0.2137133\ttotal: 1.83s\tremaining: 247ms\n",
      "881:\tlearn: 0.2135516\ttotal: 1.83s\tremaining: 245ms\n",
      "882:\tlearn: 0.2135117\ttotal: 1.83s\tremaining: 243ms\n",
      "883:\tlearn: 0.2134604\ttotal: 1.84s\tremaining: 241ms\n",
      "884:\tlearn: 0.2133282\ttotal: 1.84s\tremaining: 239ms\n",
      "885:\tlearn: 0.2132904\ttotal: 1.84s\tremaining: 237ms\n",
      "886:\tlearn: 0.2132531\ttotal: 1.84s\tremaining: 235ms\n",
      "887:\tlearn: 0.2131845\ttotal: 1.84s\tremaining: 232ms\n",
      "888:\tlearn: 0.2130749\ttotal: 1.84s\tremaining: 230ms\n",
      "889:\tlearn: 0.2130141\ttotal: 1.85s\tremaining: 228ms\n",
      "890:\tlearn: 0.2129659\ttotal: 1.85s\tremaining: 226ms\n",
      "891:\tlearn: 0.2129370\ttotal: 1.85s\tremaining: 224ms\n",
      "892:\tlearn: 0.2129093\ttotal: 1.85s\tremaining: 222ms\n",
      "893:\tlearn: 0.2128850\ttotal: 1.85s\tremaining: 220ms\n",
      "894:\tlearn: 0.2128337\ttotal: 1.86s\tremaining: 218ms\n",
      "895:\tlearn: 0.2126543\ttotal: 1.86s\tremaining: 216ms\n",
      "896:\tlearn: 0.2125587\ttotal: 1.86s\tremaining: 214ms\n",
      "897:\tlearn: 0.2125284\ttotal: 1.86s\tremaining: 212ms\n",
      "898:\tlearn: 0.2124093\ttotal: 1.86s\tremaining: 210ms\n",
      "899:\tlearn: 0.2123679\ttotal: 1.87s\tremaining: 208ms\n",
      "900:\tlearn: 0.2123358\ttotal: 1.87s\tremaining: 205ms\n",
      "901:\tlearn: 0.2122949\ttotal: 1.87s\tremaining: 203ms\n",
      "902:\tlearn: 0.2122436\ttotal: 1.87s\tremaining: 201ms\n",
      "903:\tlearn: 0.2122223\ttotal: 1.88s\tremaining: 199ms\n",
      "904:\tlearn: 0.2120953\ttotal: 1.88s\tremaining: 197ms\n",
      "905:\tlearn: 0.2120522\ttotal: 1.88s\tremaining: 195ms\n",
      "906:\tlearn: 0.2120286\ttotal: 1.88s\tremaining: 193ms\n",
      "907:\tlearn: 0.2119048\ttotal: 1.88s\tremaining: 191ms\n",
      "908:\tlearn: 0.2118631\ttotal: 1.88s\tremaining: 189ms\n",
      "909:\tlearn: 0.2117089\ttotal: 1.89s\tremaining: 187ms\n",
      "910:\tlearn: 0.2116275\ttotal: 1.89s\tremaining: 184ms\n",
      "911:\tlearn: 0.2115865\ttotal: 1.89s\tremaining: 182ms\n",
      "912:\tlearn: 0.2114636\ttotal: 1.89s\tremaining: 180ms\n",
      "913:\tlearn: 0.2112786\ttotal: 1.89s\tremaining: 178ms\n",
      "914:\tlearn: 0.2112600\ttotal: 1.9s\tremaining: 176ms\n",
      "915:\tlearn: 0.2111660\ttotal: 1.9s\tremaining: 174ms\n",
      "916:\tlearn: 0.2111267\ttotal: 1.9s\tremaining: 172ms\n",
      "917:\tlearn: 0.2110850\ttotal: 1.9s\tremaining: 170ms\n",
      "918:\tlearn: 0.2110139\ttotal: 1.9s\tremaining: 168ms\n",
      "919:\tlearn: 0.2109841\ttotal: 1.91s\tremaining: 166ms\n",
      "920:\tlearn: 0.2109142\ttotal: 1.91s\tremaining: 164ms\n",
      "921:\tlearn: 0.2108731\ttotal: 1.91s\tremaining: 161ms\n",
      "922:\tlearn: 0.2107014\ttotal: 1.91s\tremaining: 159ms\n",
      "923:\tlearn: 0.2106344\ttotal: 1.91s\tremaining: 157ms\n",
      "924:\tlearn: 0.2105857\ttotal: 1.91s\tremaining: 155ms\n",
      "925:\tlearn: 0.2105089\ttotal: 1.92s\tremaining: 153ms\n",
      "926:\tlearn: 0.2104606\ttotal: 1.92s\tremaining: 151ms\n",
      "927:\tlearn: 0.2103725\ttotal: 1.92s\tremaining: 149ms\n",
      "928:\tlearn: 0.2103369\ttotal: 1.92s\tremaining: 147ms\n",
      "929:\tlearn: 0.2102727\ttotal: 1.92s\tremaining: 145ms\n",
      "930:\tlearn: 0.2102246\ttotal: 1.93s\tremaining: 143ms\n",
      "931:\tlearn: 0.2100944\ttotal: 1.93s\tremaining: 141ms\n",
      "932:\tlearn: 0.2100705\ttotal: 1.93s\tremaining: 138ms\n",
      "933:\tlearn: 0.2100065\ttotal: 1.93s\tremaining: 136ms\n",
      "934:\tlearn: 0.2099741\ttotal: 1.93s\tremaining: 134ms\n",
      "935:\tlearn: 0.2099124\ttotal: 1.93s\tremaining: 132ms\n",
      "936:\tlearn: 0.2098412\ttotal: 1.94s\tremaining: 130ms\n",
      "937:\tlearn: 0.2097991\ttotal: 1.94s\tremaining: 128ms\n",
      "938:\tlearn: 0.2097706\ttotal: 1.94s\tremaining: 126ms\n",
      "939:\tlearn: 0.2097078\ttotal: 1.94s\tremaining: 124ms\n",
      "940:\tlearn: 0.2096781\ttotal: 1.94s\tremaining: 122ms\n",
      "941:\tlearn: 0.2095825\ttotal: 1.94s\tremaining: 120ms\n",
      "942:\tlearn: 0.2095627\ttotal: 1.95s\tremaining: 118ms\n",
      "943:\tlearn: 0.2095199\ttotal: 1.95s\tremaining: 116ms\n",
      "944:\tlearn: 0.2094568\ttotal: 1.95s\tremaining: 113ms\n",
      "945:\tlearn: 0.2094002\ttotal: 1.95s\tremaining: 111ms\n",
      "946:\tlearn: 0.2093304\ttotal: 1.95s\tremaining: 109ms\n",
      "947:\tlearn: 0.2092650\ttotal: 1.96s\tremaining: 107ms\n",
      "948:\tlearn: 0.2092050\ttotal: 1.96s\tremaining: 105ms\n",
      "949:\tlearn: 0.2091230\ttotal: 1.96s\tremaining: 103ms\n",
      "950:\tlearn: 0.2090493\ttotal: 1.96s\tremaining: 101ms\n",
      "951:\tlearn: 0.2090135\ttotal: 1.96s\tremaining: 98.9ms\n",
      "952:\tlearn: 0.2089759\ttotal: 1.96s\tremaining: 96.8ms\n",
      "953:\tlearn: 0.2088486\ttotal: 1.97s\tremaining: 94.8ms\n",
      "954:\tlearn: 0.2088366\ttotal: 1.97s\tremaining: 92.7ms\n",
      "955:\tlearn: 0.2088090\ttotal: 1.97s\tremaining: 90.6ms\n",
      "956:\tlearn: 0.2087718\ttotal: 1.97s\tremaining: 88.5ms\n",
      "957:\tlearn: 0.2087373\ttotal: 1.97s\tremaining: 86.5ms\n",
      "958:\tlearn: 0.2086059\ttotal: 1.97s\tremaining: 84.4ms\n",
      "959:\tlearn: 0.2085347\ttotal: 1.98s\tremaining: 82.3ms\n",
      "960:\tlearn: 0.2084999\ttotal: 1.98s\tremaining: 80.3ms\n",
      "961:\tlearn: 0.2083909\ttotal: 1.98s\tremaining: 78.2ms\n",
      "962:\tlearn: 0.2082450\ttotal: 1.98s\tremaining: 76.1ms\n",
      "963:\tlearn: 0.2081897\ttotal: 1.98s\tremaining: 74.1ms\n",
      "964:\tlearn: 0.2081054\ttotal: 1.98s\tremaining: 72ms\n",
      "965:\tlearn: 0.2080150\ttotal: 1.99s\tremaining: 69.9ms\n",
      "966:\tlearn: 0.2079868\ttotal: 1.99s\tremaining: 67.9ms\n",
      "967:\tlearn: 0.2079423\ttotal: 1.99s\tremaining: 65.8ms\n",
      "968:\tlearn: 0.2077969\ttotal: 1.99s\tremaining: 63.7ms\n",
      "969:\tlearn: 0.2077534\ttotal: 1.99s\tremaining: 61.6ms\n",
      "970:\tlearn: 0.2076458\ttotal: 1.99s\tremaining: 59.6ms\n",
      "971:\tlearn: 0.2075700\ttotal: 2s\tremaining: 57.5ms\n",
      "972:\tlearn: 0.2074932\ttotal: 2s\tremaining: 55.5ms\n",
      "973:\tlearn: 0.2074752\ttotal: 2s\tremaining: 53.4ms\n",
      "974:\tlearn: 0.2074618\ttotal: 2s\tremaining: 51.3ms\n",
      "975:\tlearn: 0.2074181\ttotal: 2s\tremaining: 49.3ms\n",
      "976:\tlearn: 0.2073793\ttotal: 2s\tremaining: 47.2ms\n",
      "977:\tlearn: 0.2073277\ttotal: 2.01s\tremaining: 45.1ms\n",
      "978:\tlearn: 0.2072439\ttotal: 2.01s\tremaining: 43.1ms\n",
      "979:\tlearn: 0.2072215\ttotal: 2.01s\tremaining: 41ms\n",
      "980:\tlearn: 0.2070291\ttotal: 2.01s\tremaining: 39ms\n",
      "981:\tlearn: 0.2068970\ttotal: 2.01s\tremaining: 36.9ms\n",
      "982:\tlearn: 0.2068605\ttotal: 2.02s\tremaining: 34.9ms\n",
      "983:\tlearn: 0.2068176\ttotal: 2.02s\tremaining: 32.8ms\n",
      "984:\tlearn: 0.2067815\ttotal: 2.02s\tremaining: 30.7ms\n",
      "985:\tlearn: 0.2067420\ttotal: 2.02s\tremaining: 28.7ms\n",
      "986:\tlearn: 0.2067250\ttotal: 2.02s\tremaining: 26.7ms\n",
      "987:\tlearn: 0.2066799\ttotal: 2.02s\tremaining: 24.6ms\n",
      "988:\tlearn: 0.2066251\ttotal: 2.03s\tremaining: 22.6ms\n",
      "989:\tlearn: 0.2064984\ttotal: 2.03s\tremaining: 20.5ms\n",
      "990:\tlearn: 0.2064824\ttotal: 2.03s\tremaining: 18.5ms\n",
      "991:\tlearn: 0.2064245\ttotal: 2.03s\tremaining: 16.4ms\n",
      "992:\tlearn: 0.2063926\ttotal: 2.04s\tremaining: 14.4ms\n",
      "993:\tlearn: 0.2063509\ttotal: 2.04s\tremaining: 12.3ms\n",
      "994:\tlearn: 0.2062640\ttotal: 2.04s\tremaining: 10.3ms\n",
      "995:\tlearn: 0.2062416\ttotal: 2.04s\tremaining: 8.2ms\n",
      "996:\tlearn: 0.2061750\ttotal: 2.04s\tremaining: 6.16ms\n",
      "997:\tlearn: 0.2060977\ttotal: 2.05s\tremaining: 4.1ms\n",
      "998:\tlearn: 0.2060688\ttotal: 2.05s\tremaining: 2.05ms\n",
      "999:\tlearn: 0.2060292\ttotal: 2.05s\tremaining: 0us\n",
      "0.9172979077823982 {'learning_rate': 0.3, 'max_depth': 2, 'n_estimators': 1000}\n",
      "CPU times: total: 6.56 s\n",
      "Wall time: 1min 47s\n"
     ]
    }
   ],
   "source": [
    "%%time\n",
    "model_cat = CatBoostClassifier(random_state=41022, class_weights=class_weights)\n",
    "\n",
    "parameters = [{'max_depth': [2,3,5,7],\n",
    "               'learning_rate': [0.1,0.3],\n",
    "               'n_estimators': [800,1000,1200]}]\n",
    "\n",
    "model_cat_gscv = GridSearchCV(model_cat, param_grid=parameters, scoring='roc_auc', \n",
    "                   cv=3, verbose=True, n_jobs=-1)\n",
    "model_cat_gscv.fit(X_train_one_hot, y_train)\n",
    "\n",
    "print(model_cat_gscv.best_score_, model_cat_gscv.best_params_)"
   ]
  },
  {
   "cell_type": "markdown",
   "metadata": {},
   "source": [
    "Лучший результат показывает CatBoost со следующими параметрами: 'learning_rate': 0.3, 'max_depth': 2, 'n_estimators': 1000.\n",
    "ROC-AUC модели 0.917"
   ]
  },
  {
   "cell_type": "markdown",
   "metadata": {},
   "source": [
    "### LGBMClassifier"
   ]
  },
  {
   "cell_type": "code",
   "execution_count": 119,
   "metadata": {},
   "outputs": [
    {
     "name": "stdout",
     "output_type": "stream",
     "text": [
      "Fitting 3 folds for each of 18 candidates, totalling 54 fits\n",
      "0.9003900798851118 {'learning_rate': 0.3, 'max_depth': 2, 'n_estimators': 500}\n",
      "CPU times: total: 1min 1s\n",
      "Wall time: 18.3 s\n"
     ]
    }
   ],
   "source": [
    "%%time\n",
    "model_lgbm = LGBMClassifier(random_state=41022, class_weight='balanced')\n",
    "\n",
    "parameters = [{'max_depth': [2,3,5],\n",
    "               'learning_rate': [0.1,0.3],\n",
    "               'n_estimators': [500,800,1000]}]\n",
    "\n",
    "model_lgbm_gscv = GridSearchCV(model_lgbm, param_grid=parameters, scoring='roc_auc', \n",
    "                   cv=3, verbose=True)\n",
    "model_lgbm_gscv.fit(X_train_one_hot, y_train)\n",
    "\n",
    "print(model_lgbm_gscv.best_score_, model_lgbm_gscv.best_params_)"
   ]
  },
  {
   "cell_type": "markdown",
   "metadata": {},
   "source": [
    "Лучший результат для LGBM ROC-AUC = 0.9. Параметры модели: 'learning_rate': 0.3, 'max_depth': 2, 'n_estimators': 500"
   ]
  },
  {
   "cell_type": "markdown",
   "metadata": {},
   "source": [
    "### Обучение модели на мастабированных данных"
   ]
  },
  {
   "cell_type": "markdown",
   "metadata": {},
   "source": [
    "Наилучший результат показала модель CatBoostClassifier. Протестируем её с отмасштабированными признаками"
   ]
  },
  {
   "cell_type": "code",
   "execution_count": 120,
   "metadata": {},
   "outputs": [
    {
     "name": "stdout",
     "output_type": "stream",
     "text": [
      "Fitting 3 folds for each of 24 candidates, totalling 72 fits\n",
      "0:\tlearn: 0.6172347\ttotal: 2.42ms\tremaining: 2.41s\n",
      "1:\tlearn: 0.5634887\ttotal: 4.85ms\tremaining: 2.42s\n",
      "2:\tlearn: 0.5415673\ttotal: 7.4ms\tremaining: 2.46s\n",
      "3:\tlearn: 0.5264497\ttotal: 9.86ms\tremaining: 2.46s\n",
      "4:\tlearn: 0.5061927\ttotal: 12.5ms\tremaining: 2.48s\n",
      "5:\tlearn: 0.4978918\ttotal: 15.3ms\tremaining: 2.53s\n",
      "6:\tlearn: 0.4856865\ttotal: 17.9ms\tremaining: 2.54s\n",
      "7:\tlearn: 0.4819306\ttotal: 20.2ms\tremaining: 2.5s\n",
      "8:\tlearn: 0.4785486\ttotal: 22.5ms\tremaining: 2.47s\n",
      "9:\tlearn: 0.4761901\ttotal: 24.7ms\tremaining: 2.44s\n",
      "10:\tlearn: 0.4717163\ttotal: 27.3ms\tremaining: 2.46s\n",
      "11:\tlearn: 0.4707066\ttotal: 29.8ms\tremaining: 2.45s\n",
      "12:\tlearn: 0.4683289\ttotal: 32.5ms\tremaining: 2.46s\n",
      "13:\tlearn: 0.4669150\ttotal: 34.9ms\tremaining: 2.46s\n",
      "14:\tlearn: 0.4659214\ttotal: 37.3ms\tremaining: 2.45s\n",
      "15:\tlearn: 0.4652770\ttotal: 39.5ms\tremaining: 2.43s\n",
      "16:\tlearn: 0.4644479\ttotal: 42.1ms\tremaining: 2.43s\n",
      "17:\tlearn: 0.4637857\ttotal: 44.3ms\tremaining: 2.42s\n",
      "18:\tlearn: 0.4631191\ttotal: 46.6ms\tremaining: 2.41s\n",
      "19:\tlearn: 0.4623666\ttotal: 48.9ms\tremaining: 2.4s\n",
      "20:\tlearn: 0.4608867\ttotal: 51.4ms\tremaining: 2.4s\n",
      "21:\tlearn: 0.4599115\ttotal: 53.7ms\tremaining: 2.39s\n",
      "22:\tlearn: 0.4593036\ttotal: 55.8ms\tremaining: 2.37s\n",
      "23:\tlearn: 0.4585930\ttotal: 58.1ms\tremaining: 2.36s\n",
      "24:\tlearn: 0.4580214\ttotal: 60.8ms\tremaining: 2.37s\n",
      "25:\tlearn: 0.4570071\ttotal: 63.4ms\tremaining: 2.37s\n",
      "26:\tlearn: 0.4548134\ttotal: 65.7ms\tremaining: 2.37s\n",
      "27:\tlearn: 0.4543362\ttotal: 68.2ms\tremaining: 2.37s\n",
      "28:\tlearn: 0.4536724\ttotal: 70.3ms\tremaining: 2.35s\n",
      "29:\tlearn: 0.4510730\ttotal: 72.8ms\tremaining: 2.35s\n",
      "30:\tlearn: 0.4494558\ttotal: 75.4ms\tremaining: 2.36s\n",
      "31:\tlearn: 0.4421159\ttotal: 77.9ms\tremaining: 2.36s\n",
      "32:\tlearn: 0.4408792\ttotal: 80.6ms\tremaining: 2.36s\n",
      "33:\tlearn: 0.4402338\ttotal: 82.8ms\tremaining: 2.35s\n",
      "34:\tlearn: 0.4363462\ttotal: 85.4ms\tremaining: 2.35s\n",
      "35:\tlearn: 0.4358488\ttotal: 88ms\tremaining: 2.35s\n",
      "36:\tlearn: 0.4315134\ttotal: 90.6ms\tremaining: 2.36s\n",
      "37:\tlearn: 0.4282890\ttotal: 93.1ms\tremaining: 2.36s\n",
      "38:\tlearn: 0.4247267\ttotal: 95.8ms\tremaining: 2.36s\n",
      "39:\tlearn: 0.4223609\ttotal: 98.4ms\tremaining: 2.36s\n",
      "40:\tlearn: 0.4209454\ttotal: 101ms\tremaining: 2.36s\n",
      "41:\tlearn: 0.4206242\ttotal: 103ms\tremaining: 2.35s\n",
      "42:\tlearn: 0.4201175\ttotal: 106ms\tremaining: 2.35s\n",
      "43:\tlearn: 0.4197608\ttotal: 108ms\tremaining: 2.35s\n",
      "44:\tlearn: 0.4192546\ttotal: 110ms\tremaining: 2.34s\n",
      "45:\tlearn: 0.4182178\ttotal: 113ms\tremaining: 2.35s\n",
      "46:\tlearn: 0.4177566\ttotal: 115ms\tremaining: 2.34s\n",
      "47:\tlearn: 0.4170360\ttotal: 118ms\tremaining: 2.33s\n",
      "48:\tlearn: 0.4167778\ttotal: 120ms\tremaining: 2.33s\n",
      "49:\tlearn: 0.4130777\ttotal: 123ms\tremaining: 2.33s\n",
      "50:\tlearn: 0.4095656\ttotal: 125ms\tremaining: 2.33s\n",
      "51:\tlearn: 0.4089726\ttotal: 127ms\tremaining: 2.32s\n",
      "52:\tlearn: 0.4086727\ttotal: 130ms\tremaining: 2.32s\n",
      "53:\tlearn: 0.4072819\ttotal: 133ms\tremaining: 2.33s\n",
      "54:\tlearn: 0.4057598\ttotal: 135ms\tremaining: 2.33s\n",
      "55:\tlearn: 0.4055023\ttotal: 138ms\tremaining: 2.32s\n",
      "56:\tlearn: 0.4044324\ttotal: 140ms\tremaining: 2.31s\n",
      "57:\tlearn: 0.4041750\ttotal: 142ms\tremaining: 2.31s\n",
      "58:\tlearn: 0.4038264\ttotal: 145ms\tremaining: 2.31s\n",
      "59:\tlearn: 0.4033979\ttotal: 147ms\tremaining: 2.3s\n",
      "60:\tlearn: 0.4027898\ttotal: 150ms\tremaining: 2.3s\n",
      "61:\tlearn: 0.4019050\ttotal: 152ms\tremaining: 2.3s\n",
      "62:\tlearn: 0.4015279\ttotal: 155ms\tremaining: 2.3s\n",
      "63:\tlearn: 0.4007790\ttotal: 157ms\tremaining: 2.3s\n",
      "64:\tlearn: 0.4003566\ttotal: 160ms\tremaining: 2.3s\n",
      "65:\tlearn: 0.3998514\ttotal: 162ms\tremaining: 2.29s\n",
      "66:\tlearn: 0.3994296\ttotal: 164ms\tremaining: 2.29s\n",
      "67:\tlearn: 0.3990469\ttotal: 167ms\tremaining: 2.28s\n",
      "68:\tlearn: 0.3987362\ttotal: 169ms\tremaining: 2.28s\n",
      "69:\tlearn: 0.3985382\ttotal: 171ms\tremaining: 2.27s\n",
      "70:\tlearn: 0.3969712\ttotal: 174ms\tremaining: 2.27s\n",
      "71:\tlearn: 0.3967082\ttotal: 177ms\tremaining: 2.28s\n",
      "72:\tlearn: 0.3959378\ttotal: 180ms\tremaining: 2.28s\n",
      "73:\tlearn: 0.3956583\ttotal: 182ms\tremaining: 2.27s\n",
      "74:\tlearn: 0.3945277\ttotal: 184ms\tremaining: 2.27s\n",
      "75:\tlearn: 0.3941845\ttotal: 187ms\tremaining: 2.27s\n",
      "76:\tlearn: 0.3938712\ttotal: 189ms\tremaining: 2.26s\n",
      "77:\tlearn: 0.3936006\ttotal: 191ms\tremaining: 2.26s\n",
      "78:\tlearn: 0.3933012\ttotal: 194ms\tremaining: 2.26s\n",
      "79:\tlearn: 0.3928649\ttotal: 196ms\tremaining: 2.25s\n",
      "80:\tlearn: 0.3924844\ttotal: 199ms\tremaining: 2.26s\n",
      "81:\tlearn: 0.3904152\ttotal: 201ms\tremaining: 2.25s\n",
      "82:\tlearn: 0.3900052\ttotal: 204ms\tremaining: 2.26s\n",
      "83:\tlearn: 0.3889478\ttotal: 207ms\tremaining: 2.25s\n",
      "84:\tlearn: 0.3880503\ttotal: 209ms\tremaining: 2.25s\n",
      "85:\tlearn: 0.3878595\ttotal: 212ms\tremaining: 2.25s\n",
      "86:\tlearn: 0.3875013\ttotal: 215ms\tremaining: 2.25s\n",
      "87:\tlearn: 0.3872749\ttotal: 217ms\tremaining: 2.25s\n",
      "88:\tlearn: 0.3869620\ttotal: 220ms\tremaining: 2.25s\n",
      "89:\tlearn: 0.3857277\ttotal: 223ms\tremaining: 2.25s\n",
      "90:\tlearn: 0.3835312\ttotal: 225ms\tremaining: 2.25s\n",
      "91:\tlearn: 0.3831984\ttotal: 228ms\tremaining: 2.25s\n",
      "92:\tlearn: 0.3826060\ttotal: 231ms\tremaining: 2.25s\n",
      "93:\tlearn: 0.3822510\ttotal: 233ms\tremaining: 2.25s\n",
      "94:\tlearn: 0.3819956\ttotal: 236ms\tremaining: 2.25s\n",
      "95:\tlearn: 0.3816086\ttotal: 238ms\tremaining: 2.24s\n",
      "96:\tlearn: 0.3812617\ttotal: 241ms\tremaining: 2.24s\n",
      "97:\tlearn: 0.3808439\ttotal: 243ms\tremaining: 2.24s\n",
      "98:\tlearn: 0.3806639\ttotal: 245ms\tremaining: 2.23s\n",
      "99:\tlearn: 0.3802601\ttotal: 248ms\tremaining: 2.23s\n",
      "100:\tlearn: 0.3789385\ttotal: 250ms\tremaining: 2.23s\n",
      "101:\tlearn: 0.3786225\ttotal: 252ms\tremaining: 2.22s\n",
      "102:\tlearn: 0.3783202\ttotal: 254ms\tremaining: 2.21s\n",
      "103:\tlearn: 0.3781318\ttotal: 256ms\tremaining: 2.21s\n",
      "104:\tlearn: 0.3777528\ttotal: 259ms\tremaining: 2.2s\n",
      "105:\tlearn: 0.3776099\ttotal: 261ms\tremaining: 2.2s\n",
      "106:\tlearn: 0.3773940\ttotal: 263ms\tremaining: 2.2s\n",
      "107:\tlearn: 0.3754442\ttotal: 265ms\tremaining: 2.19s\n",
      "108:\tlearn: 0.3751789\ttotal: 267ms\tremaining: 2.18s\n",
      "109:\tlearn: 0.3729159\ttotal: 270ms\tremaining: 2.18s\n",
      "110:\tlearn: 0.3728361\ttotal: 272ms\tremaining: 2.18s\n",
      "111:\tlearn: 0.3720188\ttotal: 274ms\tremaining: 2.17s\n",
      "112:\tlearn: 0.3715712\ttotal: 276ms\tremaining: 2.17s\n",
      "113:\tlearn: 0.3714307\ttotal: 278ms\tremaining: 2.16s\n",
      "114:\tlearn: 0.3712467\ttotal: 280ms\tremaining: 2.16s\n",
      "115:\tlearn: 0.3691828\ttotal: 283ms\tremaining: 2.15s\n",
      "116:\tlearn: 0.3677295\ttotal: 285ms\tremaining: 2.15s\n",
      "117:\tlearn: 0.3674094\ttotal: 287ms\tremaining: 2.15s\n",
      "118:\tlearn: 0.3669373\ttotal: 290ms\tremaining: 2.14s\n",
      "119:\tlearn: 0.3653122\ttotal: 292ms\tremaining: 2.14s\n",
      "120:\tlearn: 0.3640856\ttotal: 294ms\tremaining: 2.14s\n",
      "121:\tlearn: 0.3634431\ttotal: 296ms\tremaining: 2.13s\n",
      "122:\tlearn: 0.3631852\ttotal: 298ms\tremaining: 2.13s\n",
      "123:\tlearn: 0.3627238\ttotal: 300ms\tremaining: 2.12s\n",
      "124:\tlearn: 0.3610965\ttotal: 303ms\tremaining: 2.12s\n",
      "125:\tlearn: 0.3607779\ttotal: 305ms\tremaining: 2.12s\n",
      "126:\tlearn: 0.3602031\ttotal: 307ms\tremaining: 2.11s\n",
      "127:\tlearn: 0.3594625\ttotal: 310ms\tremaining: 2.11s\n",
      "128:\tlearn: 0.3593017\ttotal: 312ms\tremaining: 2.1s\n",
      "129:\tlearn: 0.3589106\ttotal: 314ms\tremaining: 2.1s\n",
      "130:\tlearn: 0.3586959\ttotal: 316ms\tremaining: 2.1s\n",
      "131:\tlearn: 0.3582861\ttotal: 318ms\tremaining: 2.09s\n",
      "132:\tlearn: 0.3580845\ttotal: 320ms\tremaining: 2.09s\n",
      "133:\tlearn: 0.3578220\ttotal: 322ms\tremaining: 2.08s\n",
      "134:\tlearn: 0.3575259\ttotal: 325ms\tremaining: 2.08s\n",
      "135:\tlearn: 0.3572523\ttotal: 327ms\tremaining: 2.07s\n",
      "136:\tlearn: 0.3570938\ttotal: 328ms\tremaining: 2.07s\n",
      "137:\tlearn: 0.3567102\ttotal: 330ms\tremaining: 2.06s\n",
      "138:\tlearn: 0.3564849\ttotal: 332ms\tremaining: 2.06s\n",
      "139:\tlearn: 0.3562675\ttotal: 334ms\tremaining: 2.05s\n",
      "140:\tlearn: 0.3561517\ttotal: 336ms\tremaining: 2.04s\n",
      "141:\tlearn: 0.3543147\ttotal: 338ms\tremaining: 2.04s\n",
      "142:\tlearn: 0.3539116\ttotal: 340ms\tremaining: 2.04s\n",
      "143:\tlearn: 0.3513102\ttotal: 342ms\tremaining: 2.03s\n",
      "144:\tlearn: 0.3510792\ttotal: 343ms\tremaining: 2.02s\n",
      "145:\tlearn: 0.3508649\ttotal: 345ms\tremaining: 2.02s\n",
      "146:\tlearn: 0.3506426\ttotal: 347ms\tremaining: 2.01s\n",
      "147:\tlearn: 0.3504377\ttotal: 349ms\tremaining: 2.01s\n",
      "148:\tlearn: 0.3501950\ttotal: 351ms\tremaining: 2s\n",
      "149:\tlearn: 0.3499788\ttotal: 353ms\tremaining: 2s\n",
      "150:\tlearn: 0.3496541\ttotal: 355ms\tremaining: 2s\n",
      "151:\tlearn: 0.3482640\ttotal: 358ms\tremaining: 2s\n",
      "152:\tlearn: 0.3473624\ttotal: 360ms\tremaining: 1.99s\n",
      "153:\tlearn: 0.3471854\ttotal: 362ms\tremaining: 1.99s\n",
      "154:\tlearn: 0.3469491\ttotal: 364ms\tremaining: 1.99s\n",
      "155:\tlearn: 0.3467787\ttotal: 367ms\tremaining: 1.98s\n",
      "156:\tlearn: 0.3463234\ttotal: 369ms\tremaining: 1.98s\n",
      "157:\tlearn: 0.3461502\ttotal: 371ms\tremaining: 1.98s\n",
      "158:\tlearn: 0.3459799\ttotal: 373ms\tremaining: 1.97s\n",
      "159:\tlearn: 0.3457174\ttotal: 375ms\tremaining: 1.97s\n",
      "160:\tlearn: 0.3454945\ttotal: 377ms\tremaining: 1.97s\n",
      "161:\tlearn: 0.3453784\ttotal: 380ms\tremaining: 1.97s\n",
      "162:\tlearn: 0.3450164\ttotal: 383ms\tremaining: 1.96s\n",
      "163:\tlearn: 0.3448149\ttotal: 385ms\tremaining: 1.96s\n",
      "164:\tlearn: 0.3443816\ttotal: 387ms\tremaining: 1.96s\n",
      "165:\tlearn: 0.3425928\ttotal: 389ms\tremaining: 1.96s\n",
      "166:\tlearn: 0.3424670\ttotal: 392ms\tremaining: 1.95s\n",
      "167:\tlearn: 0.3409974\ttotal: 394ms\tremaining: 1.95s\n",
      "168:\tlearn: 0.3407138\ttotal: 397ms\tremaining: 1.95s\n",
      "169:\tlearn: 0.3405086\ttotal: 399ms\tremaining: 1.95s\n",
      "170:\tlearn: 0.3402720\ttotal: 400ms\tremaining: 1.94s\n",
      "171:\tlearn: 0.3400030\ttotal: 403ms\tremaining: 1.94s\n",
      "172:\tlearn: 0.3396564\ttotal: 405ms\tremaining: 1.94s\n",
      "173:\tlearn: 0.3395593\ttotal: 407ms\tremaining: 1.93s\n",
      "174:\tlearn: 0.3394162\ttotal: 410ms\tremaining: 1.93s\n",
      "175:\tlearn: 0.3392119\ttotal: 412ms\tremaining: 1.93s\n",
      "176:\tlearn: 0.3388641\ttotal: 415ms\tremaining: 1.93s\n",
      "177:\tlearn: 0.3387229\ttotal: 417ms\tremaining: 1.93s\n",
      "178:\tlearn: 0.3382838\ttotal: 419ms\tremaining: 1.92s\n",
      "179:\tlearn: 0.3378772\ttotal: 422ms\tremaining: 1.92s\n",
      "180:\tlearn: 0.3376836\ttotal: 424ms\tremaining: 1.92s\n",
      "181:\tlearn: 0.3374363\ttotal: 426ms\tremaining: 1.91s\n",
      "182:\tlearn: 0.3373046\ttotal: 428ms\tremaining: 1.91s\n",
      "183:\tlearn: 0.3370814\ttotal: 429ms\tremaining: 1.9s\n",
      "184:\tlearn: 0.3369335\ttotal: 431ms\tremaining: 1.9s\n",
      "185:\tlearn: 0.3359697\ttotal: 433ms\tremaining: 1.9s\n",
      "186:\tlearn: 0.3359292\ttotal: 435ms\tremaining: 1.89s\n",
      "187:\tlearn: 0.3356836\ttotal: 437ms\tremaining: 1.89s\n",
      "188:\tlearn: 0.3352631\ttotal: 439ms\tremaining: 1.88s\n",
      "189:\tlearn: 0.3350713\ttotal: 441ms\tremaining: 1.88s\n",
      "190:\tlearn: 0.3344529\ttotal: 443ms\tremaining: 1.88s\n",
      "191:\tlearn: 0.3343507\ttotal: 445ms\tremaining: 1.87s\n",
      "192:\tlearn: 0.3341478\ttotal: 446ms\tremaining: 1.87s\n",
      "193:\tlearn: 0.3339440\ttotal: 448ms\tremaining: 1.86s\n",
      "194:\tlearn: 0.3338464\ttotal: 450ms\tremaining: 1.86s\n",
      "195:\tlearn: 0.3336452\ttotal: 452ms\tremaining: 1.85s\n",
      "196:\tlearn: 0.3327044\ttotal: 454ms\tremaining: 1.85s\n",
      "197:\tlearn: 0.3318705\ttotal: 456ms\tremaining: 1.85s\n",
      "198:\tlearn: 0.3306418\ttotal: 458ms\tremaining: 1.84s\n",
      "199:\tlearn: 0.3304290\ttotal: 460ms\tremaining: 1.84s\n",
      "200:\tlearn: 0.3302331\ttotal: 462ms\tremaining: 1.84s\n",
      "201:\tlearn: 0.3291717\ttotal: 464ms\tremaining: 1.83s\n",
      "202:\tlearn: 0.3290559\ttotal: 466ms\tremaining: 1.83s\n",
      "203:\tlearn: 0.3288395\ttotal: 468ms\tremaining: 1.82s\n",
      "204:\tlearn: 0.3286468\ttotal: 470ms\tremaining: 1.82s\n",
      "205:\tlearn: 0.3284170\ttotal: 471ms\tremaining: 1.82s\n",
      "206:\tlearn: 0.3275576\ttotal: 473ms\tremaining: 1.81s\n",
      "207:\tlearn: 0.3270051\ttotal: 475ms\tremaining: 1.81s\n",
      "208:\tlearn: 0.3268632\ttotal: 477ms\tremaining: 1.8s\n",
      "209:\tlearn: 0.3266934\ttotal: 479ms\tremaining: 1.8s\n",
      "210:\tlearn: 0.3258147\ttotal: 481ms\tremaining: 1.8s\n",
      "211:\tlearn: 0.3255988\ttotal: 483ms\tremaining: 1.79s\n",
      "212:\tlearn: 0.3254372\ttotal: 484ms\tremaining: 1.79s\n",
      "213:\tlearn: 0.3248509\ttotal: 486ms\tremaining: 1.78s\n",
      "214:\tlearn: 0.3247196\ttotal: 488ms\tremaining: 1.78s\n",
      "215:\tlearn: 0.3237541\ttotal: 490ms\tremaining: 1.78s\n",
      "216:\tlearn: 0.3234903\ttotal: 492ms\tremaining: 1.77s\n",
      "217:\tlearn: 0.3233648\ttotal: 493ms\tremaining: 1.77s\n",
      "218:\tlearn: 0.3232116\ttotal: 495ms\tremaining: 1.76s\n",
      "219:\tlearn: 0.3228225\ttotal: 496ms\tremaining: 1.76s\n",
      "220:\tlearn: 0.3221014\ttotal: 498ms\tremaining: 1.76s\n",
      "221:\tlearn: 0.3219195\ttotal: 500ms\tremaining: 1.75s\n",
      "222:\tlearn: 0.3217855\ttotal: 502ms\tremaining: 1.75s\n",
      "223:\tlearn: 0.3216538\ttotal: 504ms\tremaining: 1.75s\n",
      "224:\tlearn: 0.3213471\ttotal: 506ms\tremaining: 1.74s\n",
      "225:\tlearn: 0.3211640\ttotal: 507ms\tremaining: 1.74s\n",
      "226:\tlearn: 0.3207939\ttotal: 509ms\tremaining: 1.73s\n",
      "227:\tlearn: 0.3205092\ttotal: 511ms\tremaining: 1.73s\n",
      "228:\tlearn: 0.3195118\ttotal: 513ms\tremaining: 1.73s\n",
      "229:\tlearn: 0.3186478\ttotal: 515ms\tremaining: 1.72s\n",
      "230:\tlearn: 0.3176586\ttotal: 517ms\tremaining: 1.72s\n",
      "231:\tlearn: 0.3175633\ttotal: 519ms\tremaining: 1.72s\n",
      "232:\tlearn: 0.3174550\ttotal: 521ms\tremaining: 1.71s\n",
      "233:\tlearn: 0.3160561\ttotal: 523ms\tremaining: 1.71s\n",
      "234:\tlearn: 0.3159195\ttotal: 524ms\tremaining: 1.71s\n",
      "235:\tlearn: 0.3146341\ttotal: 526ms\tremaining: 1.7s\n",
      "236:\tlearn: 0.3145356\ttotal: 528ms\tremaining: 1.7s\n",
      "237:\tlearn: 0.3140108\ttotal: 530ms\tremaining: 1.7s\n",
      "238:\tlearn: 0.3132909\ttotal: 532ms\tremaining: 1.69s\n",
      "239:\tlearn: 0.3131032\ttotal: 534ms\tremaining: 1.69s\n",
      "240:\tlearn: 0.3130130\ttotal: 536ms\tremaining: 1.69s\n",
      "241:\tlearn: 0.3129246\ttotal: 538ms\tremaining: 1.69s\n",
      "242:\tlearn: 0.3119190\ttotal: 541ms\tremaining: 1.68s\n",
      "243:\tlearn: 0.3117483\ttotal: 543ms\tremaining: 1.68s\n",
      "244:\tlearn: 0.3110867\ttotal: 545ms\tremaining: 1.68s\n",
      "245:\tlearn: 0.3102507\ttotal: 548ms\tremaining: 1.68s\n",
      "246:\tlearn: 0.3100557\ttotal: 550ms\tremaining: 1.68s\n",
      "247:\tlearn: 0.3098667\ttotal: 552ms\tremaining: 1.67s\n",
      "248:\tlearn: 0.3091724\ttotal: 554ms\tremaining: 1.67s\n",
      "249:\tlearn: 0.3090173\ttotal: 556ms\tremaining: 1.67s\n",
      "250:\tlearn: 0.3089329\ttotal: 559ms\tremaining: 1.67s\n",
      "251:\tlearn: 0.3088502\ttotal: 561ms\tremaining: 1.66s\n",
      "252:\tlearn: 0.3087304\ttotal: 563ms\tremaining: 1.66s\n",
      "253:\tlearn: 0.3085794\ttotal: 565ms\tremaining: 1.66s\n",
      "254:\tlearn: 0.3083548\ttotal: 567ms\tremaining: 1.66s\n",
      "255:\tlearn: 0.3081353\ttotal: 569ms\tremaining: 1.65s\n",
      "256:\tlearn: 0.3078695\ttotal: 572ms\tremaining: 1.65s\n",
      "257:\tlearn: 0.3076983\ttotal: 574ms\tremaining: 1.65s\n",
      "258:\tlearn: 0.3075013\ttotal: 575ms\tremaining: 1.65s\n",
      "259:\tlearn: 0.3066502\ttotal: 578ms\tremaining: 1.64s\n",
      "260:\tlearn: 0.3065444\ttotal: 580ms\tremaining: 1.64s\n",
      "261:\tlearn: 0.3064334\ttotal: 582ms\tremaining: 1.64s\n",
      "262:\tlearn: 0.3053373\ttotal: 584ms\tremaining: 1.64s\n",
      "263:\tlearn: 0.3052332\ttotal: 585ms\tremaining: 1.63s\n",
      "264:\tlearn: 0.3050559\ttotal: 587ms\tremaining: 1.63s\n",
      "265:\tlearn: 0.3048344\ttotal: 589ms\tremaining: 1.62s\n",
      "266:\tlearn: 0.3044355\ttotal: 591ms\tremaining: 1.62s\n",
      "267:\tlearn: 0.3043403\ttotal: 593ms\tremaining: 1.62s\n",
      "268:\tlearn: 0.3036518\ttotal: 595ms\tremaining: 1.61s\n",
      "269:\tlearn: 0.3034852\ttotal: 597ms\tremaining: 1.61s\n",
      "270:\tlearn: 0.3027263\ttotal: 599ms\tremaining: 1.61s\n",
      "271:\tlearn: 0.3026005\ttotal: 600ms\tremaining: 1.61s\n",
      "272:\tlearn: 0.3019574\ttotal: 602ms\tremaining: 1.6s\n",
      "273:\tlearn: 0.3017625\ttotal: 604ms\tremaining: 1.6s\n",
      "274:\tlearn: 0.3016653\ttotal: 606ms\tremaining: 1.6s\n",
      "275:\tlearn: 0.3015803\ttotal: 608ms\tremaining: 1.59s\n",
      "276:\tlearn: 0.3013166\ttotal: 610ms\tremaining: 1.59s\n",
      "277:\tlearn: 0.3008508\ttotal: 612ms\tremaining: 1.59s\n",
      "278:\tlearn: 0.3001519\ttotal: 614ms\tremaining: 1.59s\n",
      "279:\tlearn: 0.2998086\ttotal: 616ms\tremaining: 1.58s\n",
      "280:\tlearn: 0.2996047\ttotal: 617ms\tremaining: 1.58s\n",
      "281:\tlearn: 0.2994592\ttotal: 619ms\tremaining: 1.58s\n",
      "282:\tlearn: 0.2993271\ttotal: 621ms\tremaining: 1.57s\n",
      "283:\tlearn: 0.2990763\ttotal: 623ms\tremaining: 1.57s\n",
      "284:\tlearn: 0.2989694\ttotal: 625ms\tremaining: 1.57s\n",
      "285:\tlearn: 0.2982436\ttotal: 627ms\tremaining: 1.56s\n",
      "286:\tlearn: 0.2981256\ttotal: 628ms\tremaining: 1.56s\n",
      "287:\tlearn: 0.2979542\ttotal: 630ms\tremaining: 1.56s\n",
      "288:\tlearn: 0.2977693\ttotal: 631ms\tremaining: 1.55s\n",
      "289:\tlearn: 0.2976179\ttotal: 633ms\tremaining: 1.55s\n",
      "290:\tlearn: 0.2971814\ttotal: 635ms\tremaining: 1.55s\n",
      "291:\tlearn: 0.2971380\ttotal: 637ms\tremaining: 1.54s\n",
      "292:\tlearn: 0.2969761\ttotal: 639ms\tremaining: 1.54s\n",
      "293:\tlearn: 0.2969062\ttotal: 641ms\tremaining: 1.54s\n",
      "294:\tlearn: 0.2967495\ttotal: 642ms\tremaining: 1.53s\n",
      "295:\tlearn: 0.2965465\ttotal: 644ms\tremaining: 1.53s\n",
      "296:\tlearn: 0.2959377\ttotal: 646ms\tremaining: 1.53s\n",
      "297:\tlearn: 0.2957735\ttotal: 648ms\tremaining: 1.52s\n",
      "298:\tlearn: 0.2956402\ttotal: 649ms\tremaining: 1.52s\n",
      "299:\tlearn: 0.2954485\ttotal: 651ms\tremaining: 1.52s\n",
      "300:\tlearn: 0.2953729\ttotal: 653ms\tremaining: 1.51s\n",
      "301:\tlearn: 0.2951683\ttotal: 655ms\tremaining: 1.51s\n",
      "302:\tlearn: 0.2951051\ttotal: 657ms\tremaining: 1.51s\n",
      "303:\tlearn: 0.2943266\ttotal: 659ms\tremaining: 1.51s\n",
      "304:\tlearn: 0.2942079\ttotal: 660ms\tremaining: 1.5s\n",
      "305:\tlearn: 0.2936525\ttotal: 662ms\tremaining: 1.5s\n",
      "306:\tlearn: 0.2934520\ttotal: 664ms\tremaining: 1.5s\n",
      "307:\tlearn: 0.2924915\ttotal: 665ms\tremaining: 1.5s\n",
      "308:\tlearn: 0.2922549\ttotal: 667ms\tremaining: 1.49s\n",
      "309:\tlearn: 0.2921588\ttotal: 669ms\tremaining: 1.49s\n",
      "310:\tlearn: 0.2914254\ttotal: 671ms\tremaining: 1.49s\n",
      "311:\tlearn: 0.2912560\ttotal: 673ms\tremaining: 1.48s\n",
      "312:\tlearn: 0.2911579\ttotal: 674ms\tremaining: 1.48s\n",
      "313:\tlearn: 0.2910120\ttotal: 676ms\tremaining: 1.48s\n",
      "314:\tlearn: 0.2909288\ttotal: 678ms\tremaining: 1.47s\n",
      "315:\tlearn: 0.2898364\ttotal: 680ms\tremaining: 1.47s\n",
      "316:\tlearn: 0.2895110\ttotal: 682ms\tremaining: 1.47s\n",
      "317:\tlearn: 0.2892888\ttotal: 684ms\tremaining: 1.47s\n",
      "318:\tlearn: 0.2883147\ttotal: 686ms\tremaining: 1.46s\n",
      "319:\tlearn: 0.2882003\ttotal: 687ms\tremaining: 1.46s\n",
      "320:\tlearn: 0.2880352\ttotal: 689ms\tremaining: 1.46s\n",
      "321:\tlearn: 0.2870548\ttotal: 691ms\tremaining: 1.46s\n",
      "322:\tlearn: 0.2868691\ttotal: 693ms\tremaining: 1.45s\n",
      "323:\tlearn: 0.2862290\ttotal: 695ms\tremaining: 1.45s\n",
      "324:\tlearn: 0.2861334\ttotal: 697ms\tremaining: 1.45s\n",
      "325:\tlearn: 0.2859817\ttotal: 699ms\tremaining: 1.44s\n",
      "326:\tlearn: 0.2855063\ttotal: 700ms\tremaining: 1.44s\n",
      "327:\tlearn: 0.2853322\ttotal: 702ms\tremaining: 1.44s\n",
      "328:\tlearn: 0.2849939\ttotal: 705ms\tremaining: 1.44s\n",
      "329:\tlearn: 0.2844405\ttotal: 707ms\tremaining: 1.44s\n",
      "330:\tlearn: 0.2843613\ttotal: 710ms\tremaining: 1.43s\n",
      "331:\tlearn: 0.2842086\ttotal: 712ms\tremaining: 1.43s\n",
      "332:\tlearn: 0.2832862\ttotal: 714ms\tremaining: 1.43s\n",
      "333:\tlearn: 0.2822941\ttotal: 716ms\tremaining: 1.43s\n",
      "334:\tlearn: 0.2821597\ttotal: 718ms\tremaining: 1.43s\n",
      "335:\tlearn: 0.2811618\ttotal: 720ms\tremaining: 1.42s\n",
      "336:\tlearn: 0.2810130\ttotal: 723ms\tremaining: 1.42s\n",
      "337:\tlearn: 0.2808763\ttotal: 725ms\tremaining: 1.42s\n",
      "338:\tlearn: 0.2808078\ttotal: 727ms\tremaining: 1.42s\n",
      "339:\tlearn: 0.2807483\ttotal: 729ms\tremaining: 1.42s\n",
      "340:\tlearn: 0.2806732\ttotal: 731ms\tremaining: 1.41s\n",
      "341:\tlearn: 0.2805273\ttotal: 733ms\tremaining: 1.41s\n",
      "342:\tlearn: 0.2802257\ttotal: 735ms\tremaining: 1.41s\n",
      "343:\tlearn: 0.2801478\ttotal: 737ms\tremaining: 1.41s\n",
      "344:\tlearn: 0.2801118\ttotal: 739ms\tremaining: 1.4s\n",
      "345:\tlearn: 0.2796508\ttotal: 741ms\tremaining: 1.4s\n",
      "346:\tlearn: 0.2795050\ttotal: 742ms\tremaining: 1.4s\n",
      "347:\tlearn: 0.2793301\ttotal: 744ms\tremaining: 1.39s\n",
      "348:\tlearn: 0.2786113\ttotal: 746ms\tremaining: 1.39s\n",
      "349:\tlearn: 0.2778640\ttotal: 748ms\tremaining: 1.39s\n",
      "350:\tlearn: 0.2776967\ttotal: 749ms\tremaining: 1.39s\n",
      "351:\tlearn: 0.2776085\ttotal: 751ms\tremaining: 1.38s\n",
      "352:\tlearn: 0.2769060\ttotal: 753ms\tremaining: 1.38s\n",
      "353:\tlearn: 0.2768221\ttotal: 755ms\tremaining: 1.38s\n",
      "354:\tlearn: 0.2765677\ttotal: 757ms\tremaining: 1.37s\n",
      "355:\tlearn: 0.2763428\ttotal: 759ms\tremaining: 1.37s\n",
      "356:\tlearn: 0.2763086\ttotal: 761ms\tremaining: 1.37s\n",
      "357:\tlearn: 0.2759996\ttotal: 762ms\tremaining: 1.37s\n",
      "358:\tlearn: 0.2758744\ttotal: 764ms\tremaining: 1.36s\n",
      "359:\tlearn: 0.2757754\ttotal: 765ms\tremaining: 1.36s\n",
      "360:\tlearn: 0.2756301\ttotal: 767ms\tremaining: 1.36s\n",
      "361:\tlearn: 0.2755590\ttotal: 769ms\tremaining: 1.35s\n",
      "362:\tlearn: 0.2754416\ttotal: 770ms\tremaining: 1.35s\n",
      "363:\tlearn: 0.2753676\ttotal: 772ms\tremaining: 1.35s\n",
      "364:\tlearn: 0.2752423\ttotal: 774ms\tremaining: 1.34s\n",
      "365:\tlearn: 0.2751741\ttotal: 775ms\tremaining: 1.34s\n",
      "366:\tlearn: 0.2750622\ttotal: 777ms\tremaining: 1.34s\n",
      "367:\tlearn: 0.2749824\ttotal: 779ms\tremaining: 1.34s\n",
      "368:\tlearn: 0.2746287\ttotal: 781ms\tremaining: 1.33s\n",
      "369:\tlearn: 0.2745394\ttotal: 783ms\tremaining: 1.33s\n",
      "370:\tlearn: 0.2744855\ttotal: 784ms\tremaining: 1.33s\n",
      "371:\tlearn: 0.2743621\ttotal: 786ms\tremaining: 1.33s\n",
      "372:\tlearn: 0.2741982\ttotal: 788ms\tremaining: 1.32s\n",
      "373:\tlearn: 0.2738670\ttotal: 790ms\tremaining: 1.32s\n",
      "374:\tlearn: 0.2736547\ttotal: 792ms\tremaining: 1.32s\n",
      "375:\tlearn: 0.2735333\ttotal: 793ms\tremaining: 1.32s\n",
      "376:\tlearn: 0.2734669\ttotal: 795ms\tremaining: 1.31s\n",
      "377:\tlearn: 0.2733544\ttotal: 797ms\tremaining: 1.31s\n",
      "378:\tlearn: 0.2732413\ttotal: 799ms\tremaining: 1.31s\n",
      "379:\tlearn: 0.2731200\ttotal: 801ms\tremaining: 1.31s\n",
      "380:\tlearn: 0.2730365\ttotal: 802ms\tremaining: 1.3s\n",
      "381:\tlearn: 0.2729607\ttotal: 804ms\tremaining: 1.3s\n",
      "382:\tlearn: 0.2728323\ttotal: 806ms\tremaining: 1.3s\n",
      "383:\tlearn: 0.2727545\ttotal: 808ms\tremaining: 1.29s\n",
      "384:\tlearn: 0.2726176\ttotal: 809ms\tremaining: 1.29s\n",
      "385:\tlearn: 0.2725236\ttotal: 811ms\tremaining: 1.29s\n",
      "386:\tlearn: 0.2724357\ttotal: 813ms\tremaining: 1.29s\n",
      "387:\tlearn: 0.2722261\ttotal: 814ms\tremaining: 1.28s\n",
      "388:\tlearn: 0.2717671\ttotal: 816ms\tremaining: 1.28s\n",
      "389:\tlearn: 0.2716866\ttotal: 818ms\tremaining: 1.28s\n",
      "390:\tlearn: 0.2716420\ttotal: 820ms\tremaining: 1.28s\n",
      "391:\tlearn: 0.2708509\ttotal: 822ms\tremaining: 1.27s\n",
      "392:\tlearn: 0.2707871\ttotal: 824ms\tremaining: 1.27s\n",
      "393:\tlearn: 0.2705969\ttotal: 826ms\tremaining: 1.27s\n",
      "394:\tlearn: 0.2705460\ttotal: 827ms\tremaining: 1.27s\n",
      "395:\tlearn: 0.2702034\ttotal: 829ms\tremaining: 1.26s\n",
      "396:\tlearn: 0.2701039\ttotal: 831ms\tremaining: 1.26s\n",
      "397:\tlearn: 0.2700133\ttotal: 833ms\tremaining: 1.26s\n",
      "398:\tlearn: 0.2699094\ttotal: 834ms\tremaining: 1.26s\n",
      "399:\tlearn: 0.2698174\ttotal: 836ms\tremaining: 1.25s\n",
      "400:\tlearn: 0.2697372\ttotal: 838ms\tremaining: 1.25s\n",
      "401:\tlearn: 0.2691752\ttotal: 840ms\tremaining: 1.25s\n",
      "402:\tlearn: 0.2690438\ttotal: 842ms\tremaining: 1.25s\n",
      "403:\tlearn: 0.2689249\ttotal: 843ms\tremaining: 1.24s\n",
      "404:\tlearn: 0.2681924\ttotal: 845ms\tremaining: 1.24s\n",
      "405:\tlearn: 0.2678016\ttotal: 847ms\tremaining: 1.24s\n",
      "406:\tlearn: 0.2677202\ttotal: 849ms\tremaining: 1.24s\n",
      "407:\tlearn: 0.2674135\ttotal: 850ms\tremaining: 1.23s\n",
      "408:\tlearn: 0.2672005\ttotal: 852ms\tremaining: 1.23s\n",
      "409:\tlearn: 0.2671132\ttotal: 854ms\tremaining: 1.23s\n",
      "410:\tlearn: 0.2670643\ttotal: 856ms\tremaining: 1.23s\n",
      "411:\tlearn: 0.2669773\ttotal: 858ms\tremaining: 1.22s\n",
      "412:\tlearn: 0.2669027\ttotal: 859ms\tremaining: 1.22s\n",
      "413:\tlearn: 0.2666518\ttotal: 861ms\tremaining: 1.22s\n",
      "414:\tlearn: 0.2664304\ttotal: 863ms\tremaining: 1.22s\n",
      "415:\tlearn: 0.2662643\ttotal: 864ms\tremaining: 1.21s\n",
      "416:\tlearn: 0.2661908\ttotal: 866ms\tremaining: 1.21s\n",
      "417:\tlearn: 0.2659790\ttotal: 868ms\tremaining: 1.21s\n",
      "418:\tlearn: 0.2659318\ttotal: 869ms\tremaining: 1.21s\n",
      "419:\tlearn: 0.2659023\ttotal: 871ms\tremaining: 1.2s\n",
      "420:\tlearn: 0.2658440\ttotal: 874ms\tremaining: 1.2s\n",
      "421:\tlearn: 0.2655879\ttotal: 877ms\tremaining: 1.2s\n",
      "422:\tlearn: 0.2655450\ttotal: 879ms\tremaining: 1.2s\n",
      "423:\tlearn: 0.2653952\ttotal: 881ms\tremaining: 1.2s\n",
      "424:\tlearn: 0.2650901\ttotal: 883ms\tremaining: 1.2s\n",
      "425:\tlearn: 0.2648827\ttotal: 886ms\tremaining: 1.19s\n",
      "426:\tlearn: 0.2647807\ttotal: 887ms\tremaining: 1.19s\n",
      "427:\tlearn: 0.2645811\ttotal: 889ms\tremaining: 1.19s\n",
      "428:\tlearn: 0.2644849\ttotal: 891ms\tremaining: 1.19s\n",
      "429:\tlearn: 0.2643720\ttotal: 893ms\tremaining: 1.18s\n",
      "430:\tlearn: 0.2643341\ttotal: 895ms\tremaining: 1.18s\n",
      "431:\tlearn: 0.2641752\ttotal: 898ms\tremaining: 1.18s\n",
      "432:\tlearn: 0.2640839\ttotal: 900ms\tremaining: 1.18s\n",
      "433:\tlearn: 0.2639806\ttotal: 902ms\tremaining: 1.18s\n",
      "434:\tlearn: 0.2639054\ttotal: 903ms\tremaining: 1.17s\n",
      "435:\tlearn: 0.2637471\ttotal: 905ms\tremaining: 1.17s\n",
      "436:\tlearn: 0.2636244\ttotal: 907ms\tremaining: 1.17s\n",
      "437:\tlearn: 0.2634695\ttotal: 909ms\tremaining: 1.17s\n",
      "438:\tlearn: 0.2631144\ttotal: 911ms\tremaining: 1.16s\n",
      "439:\tlearn: 0.2630801\ttotal: 912ms\tremaining: 1.16s\n",
      "440:\tlearn: 0.2629686\ttotal: 914ms\tremaining: 1.16s\n",
      "441:\tlearn: 0.2626261\ttotal: 916ms\tremaining: 1.16s\n",
      "442:\tlearn: 0.2624733\ttotal: 918ms\tremaining: 1.15s\n",
      "443:\tlearn: 0.2623370\ttotal: 920ms\tremaining: 1.15s\n",
      "444:\tlearn: 0.2622547\ttotal: 921ms\tremaining: 1.15s\n",
      "445:\tlearn: 0.2616037\ttotal: 923ms\tremaining: 1.15s\n",
      "446:\tlearn: 0.2609116\ttotal: 925ms\tremaining: 1.14s\n",
      "447:\tlearn: 0.2608255\ttotal: 927ms\tremaining: 1.14s\n",
      "448:\tlearn: 0.2607416\ttotal: 928ms\tremaining: 1.14s\n",
      "449:\tlearn: 0.2603988\ttotal: 930ms\tremaining: 1.14s\n",
      "450:\tlearn: 0.2601995\ttotal: 932ms\tremaining: 1.13s\n",
      "451:\tlearn: 0.2601146\ttotal: 934ms\tremaining: 1.13s\n",
      "452:\tlearn: 0.2600872\ttotal: 936ms\tremaining: 1.13s\n",
      "453:\tlearn: 0.2598658\ttotal: 938ms\tremaining: 1.13s\n",
      "454:\tlearn: 0.2597889\ttotal: 939ms\tremaining: 1.13s\n",
      "455:\tlearn: 0.2597401\ttotal: 941ms\tremaining: 1.12s\n",
      "456:\tlearn: 0.2595774\ttotal: 943ms\tremaining: 1.12s\n",
      "457:\tlearn: 0.2595324\ttotal: 945ms\tremaining: 1.12s\n",
      "458:\tlearn: 0.2593995\ttotal: 947ms\tremaining: 1.11s\n",
      "459:\tlearn: 0.2592934\ttotal: 948ms\tremaining: 1.11s\n",
      "460:\tlearn: 0.2591780\ttotal: 950ms\tremaining: 1.11s\n",
      "461:\tlearn: 0.2590681\ttotal: 952ms\tremaining: 1.11s\n",
      "462:\tlearn: 0.2590388\ttotal: 953ms\tremaining: 1.1s\n",
      "463:\tlearn: 0.2586397\ttotal: 955ms\tremaining: 1.1s\n",
      "464:\tlearn: 0.2582276\ttotal: 957ms\tremaining: 1.1s\n",
      "465:\tlearn: 0.2581281\ttotal: 959ms\tremaining: 1.1s\n",
      "466:\tlearn: 0.2580484\ttotal: 961ms\tremaining: 1.1s\n",
      "467:\tlearn: 0.2579000\ttotal: 962ms\tremaining: 1.09s\n",
      "468:\tlearn: 0.2578242\ttotal: 964ms\tremaining: 1.09s\n",
      "469:\tlearn: 0.2577941\ttotal: 966ms\tremaining: 1.09s\n",
      "470:\tlearn: 0.2575629\ttotal: 967ms\tremaining: 1.09s\n",
      "471:\tlearn: 0.2572854\ttotal: 969ms\tremaining: 1.08s\n",
      "472:\tlearn: 0.2569389\ttotal: 971ms\tremaining: 1.08s\n",
      "473:\tlearn: 0.2568672\ttotal: 973ms\tremaining: 1.08s\n",
      "474:\tlearn: 0.2566237\ttotal: 974ms\tremaining: 1.08s\n",
      "475:\tlearn: 0.2564151\ttotal: 976ms\tremaining: 1.07s\n",
      "476:\tlearn: 0.2563392\ttotal: 978ms\tremaining: 1.07s\n",
      "477:\tlearn: 0.2562681\ttotal: 980ms\tremaining: 1.07s\n",
      "478:\tlearn: 0.2561978\ttotal: 981ms\tremaining: 1.07s\n",
      "479:\tlearn: 0.2561034\ttotal: 983ms\tremaining: 1.06s\n",
      "480:\tlearn: 0.2560335\ttotal: 984ms\tremaining: 1.06s\n",
      "481:\tlearn: 0.2559481\ttotal: 986ms\tremaining: 1.06s\n",
      "482:\tlearn: 0.2558614\ttotal: 987ms\tremaining: 1.06s\n",
      "483:\tlearn: 0.2558136\ttotal: 989ms\tremaining: 1.05s\n",
      "484:\tlearn: 0.2556838\ttotal: 991ms\tremaining: 1.05s\n",
      "485:\tlearn: 0.2556215\ttotal: 992ms\tremaining: 1.05s\n",
      "486:\tlearn: 0.2553064\ttotal: 994ms\tremaining: 1.05s\n",
      "487:\tlearn: 0.2552228\ttotal: 996ms\tremaining: 1.04s\n",
      "488:\tlearn: 0.2551393\ttotal: 997ms\tremaining: 1.04s\n",
      "489:\tlearn: 0.2547853\ttotal: 999ms\tremaining: 1.04s\n",
      "490:\tlearn: 0.2540955\ttotal: 1s\tremaining: 1.04s\n",
      "491:\tlearn: 0.2540452\ttotal: 1s\tremaining: 1.03s\n",
      "492:\tlearn: 0.2537081\ttotal: 1s\tremaining: 1.03s\n",
      "493:\tlearn: 0.2535422\ttotal: 1.01s\tremaining: 1.03s\n",
      "494:\tlearn: 0.2534907\ttotal: 1.01s\tremaining: 1.03s\n",
      "495:\tlearn: 0.2533025\ttotal: 1.01s\tremaining: 1.02s\n",
      "496:\tlearn: 0.2532057\ttotal: 1.01s\tremaining: 1.02s\n",
      "497:\tlearn: 0.2529919\ttotal: 1.01s\tremaining: 1.02s\n",
      "498:\tlearn: 0.2528994\ttotal: 1.01s\tremaining: 1.02s\n",
      "499:\tlearn: 0.2526354\ttotal: 1.02s\tremaining: 1.02s\n",
      "500:\tlearn: 0.2525549\ttotal: 1.02s\tremaining: 1.01s\n",
      "501:\tlearn: 0.2522875\ttotal: 1.02s\tremaining: 1.01s\n",
      "502:\tlearn: 0.2521310\ttotal: 1.02s\tremaining: 1.01s\n",
      "503:\tlearn: 0.2518014\ttotal: 1.02s\tremaining: 1.01s\n",
      "504:\tlearn: 0.2517785\ttotal: 1.02s\tremaining: 1s\n",
      "505:\tlearn: 0.2514764\ttotal: 1.03s\tremaining: 1s\n",
      "506:\tlearn: 0.2514190\ttotal: 1.03s\tremaining: 1s\n",
      "507:\tlearn: 0.2511414\ttotal: 1.03s\tremaining: 998ms\n",
      "508:\tlearn: 0.2510255\ttotal: 1.03s\tremaining: 996ms\n",
      "509:\tlearn: 0.2509662\ttotal: 1.03s\tremaining: 994ms\n",
      "510:\tlearn: 0.2508733\ttotal: 1.03s\tremaining: 991ms\n",
      "511:\tlearn: 0.2508428\ttotal: 1.04s\tremaining: 989ms\n",
      "512:\tlearn: 0.2507917\ttotal: 1.04s\tremaining: 986ms\n",
      "513:\tlearn: 0.2507528\ttotal: 1.04s\tremaining: 984ms\n",
      "514:\tlearn: 0.2506506\ttotal: 1.04s\tremaining: 982ms\n",
      "515:\tlearn: 0.2502157\ttotal: 1.04s\tremaining: 981ms\n",
      "516:\tlearn: 0.2501699\ttotal: 1.05s\tremaining: 978ms\n",
      "517:\tlearn: 0.2499374\ttotal: 1.05s\tremaining: 976ms\n",
      "518:\tlearn: 0.2499011\ttotal: 1.05s\tremaining: 974ms\n",
      "519:\tlearn: 0.2498584\ttotal: 1.05s\tremaining: 972ms\n",
      "520:\tlearn: 0.2497096\ttotal: 1.05s\tremaining: 970ms\n",
      "521:\tlearn: 0.2493107\ttotal: 1.06s\tremaining: 968ms\n",
      "522:\tlearn: 0.2491694\ttotal: 1.06s\tremaining: 966ms\n",
      "523:\tlearn: 0.2491005\ttotal: 1.06s\tremaining: 964ms\n",
      "524:\tlearn: 0.2490410\ttotal: 1.06s\tremaining: 962ms\n",
      "525:\tlearn: 0.2489705\ttotal: 1.06s\tremaining: 960ms\n",
      "526:\tlearn: 0.2488938\ttotal: 1.07s\tremaining: 958ms\n",
      "527:\tlearn: 0.2487064\ttotal: 1.07s\tremaining: 956ms\n",
      "528:\tlearn: 0.2486757\ttotal: 1.07s\tremaining: 954ms\n",
      "529:\tlearn: 0.2486233\ttotal: 1.07s\tremaining: 951ms\n",
      "530:\tlearn: 0.2484884\ttotal: 1.07s\tremaining: 949ms\n",
      "531:\tlearn: 0.2484419\ttotal: 1.07s\tremaining: 947ms\n",
      "532:\tlearn: 0.2483724\ttotal: 1.08s\tremaining: 944ms\n",
      "533:\tlearn: 0.2482797\ttotal: 1.08s\tremaining: 942ms\n",
      "534:\tlearn: 0.2482300\ttotal: 1.08s\tremaining: 939ms\n",
      "535:\tlearn: 0.2481033\ttotal: 1.08s\tremaining: 937ms\n",
      "536:\tlearn: 0.2480514\ttotal: 1.08s\tremaining: 935ms\n",
      "537:\tlearn: 0.2479492\ttotal: 1.09s\tremaining: 933ms\n",
      "538:\tlearn: 0.2478169\ttotal: 1.09s\tremaining: 931ms\n",
      "539:\tlearn: 0.2477347\ttotal: 1.09s\tremaining: 929ms\n",
      "540:\tlearn: 0.2476520\ttotal: 1.09s\tremaining: 927ms\n",
      "541:\tlearn: 0.2472691\ttotal: 1.09s\tremaining: 924ms\n",
      "542:\tlearn: 0.2472359\ttotal: 1.09s\tremaining: 922ms\n",
      "543:\tlearn: 0.2468278\ttotal: 1.1s\tremaining: 920ms\n",
      "544:\tlearn: 0.2463244\ttotal: 1.1s\tremaining: 918ms\n",
      "545:\tlearn: 0.2463085\ttotal: 1.1s\tremaining: 915ms\n",
      "546:\tlearn: 0.2461553\ttotal: 1.1s\tremaining: 913ms\n",
      "547:\tlearn: 0.2460955\ttotal: 1.1s\tremaining: 911ms\n",
      "548:\tlearn: 0.2459589\ttotal: 1.11s\tremaining: 909ms\n",
      "549:\tlearn: 0.2459084\ttotal: 1.11s\tremaining: 907ms\n",
      "550:\tlearn: 0.2458427\ttotal: 1.11s\tremaining: 904ms\n",
      "551:\tlearn: 0.2453912\ttotal: 1.11s\tremaining: 902ms\n",
      "552:\tlearn: 0.2453097\ttotal: 1.11s\tremaining: 900ms\n",
      "553:\tlearn: 0.2449194\ttotal: 1.11s\tremaining: 898ms\n",
      "554:\tlearn: 0.2448523\ttotal: 1.12s\tremaining: 895ms\n",
      "555:\tlearn: 0.2447567\ttotal: 1.12s\tremaining: 893ms\n",
      "556:\tlearn: 0.2446741\ttotal: 1.12s\tremaining: 890ms\n",
      "557:\tlearn: 0.2445829\ttotal: 1.12s\tremaining: 888ms\n",
      "558:\tlearn: 0.2445319\ttotal: 1.12s\tremaining: 886ms\n",
      "559:\tlearn: 0.2444162\ttotal: 1.12s\tremaining: 884ms\n",
      "560:\tlearn: 0.2440829\ttotal: 1.13s\tremaining: 882ms\n",
      "561:\tlearn: 0.2439469\ttotal: 1.13s\tremaining: 879ms\n",
      "562:\tlearn: 0.2439037\ttotal: 1.13s\tremaining: 877ms\n",
      "563:\tlearn: 0.2438163\ttotal: 1.13s\tremaining: 875ms\n",
      "564:\tlearn: 0.2436697\ttotal: 1.13s\tremaining: 873ms\n",
      "565:\tlearn: 0.2436187\ttotal: 1.14s\tremaining: 871ms\n",
      "566:\tlearn: 0.2434629\ttotal: 1.14s\tremaining: 868ms\n",
      "567:\tlearn: 0.2433930\ttotal: 1.14s\tremaining: 866ms\n",
      "568:\tlearn: 0.2432606\ttotal: 1.14s\tremaining: 864ms\n",
      "569:\tlearn: 0.2431409\ttotal: 1.14s\tremaining: 862ms\n",
      "570:\tlearn: 0.2430683\ttotal: 1.14s\tremaining: 860ms\n",
      "571:\tlearn: 0.2429939\ttotal: 1.15s\tremaining: 857ms\n",
      "572:\tlearn: 0.2429206\ttotal: 1.15s\tremaining: 855ms\n",
      "573:\tlearn: 0.2425978\ttotal: 1.15s\tremaining: 853ms\n",
      "574:\tlearn: 0.2425408\ttotal: 1.15s\tremaining: 851ms\n",
      "575:\tlearn: 0.2424722\ttotal: 1.15s\tremaining: 849ms\n",
      "576:\tlearn: 0.2423747\ttotal: 1.15s\tremaining: 846ms\n",
      "577:\tlearn: 0.2423070\ttotal: 1.16s\tremaining: 844ms\n",
      "578:\tlearn: 0.2420498\ttotal: 1.16s\tremaining: 842ms\n",
      "579:\tlearn: 0.2419408\ttotal: 1.16s\tremaining: 840ms\n",
      "580:\tlearn: 0.2418505\ttotal: 1.16s\tremaining: 837ms\n",
      "581:\tlearn: 0.2418040\ttotal: 1.16s\tremaining: 835ms\n",
      "582:\tlearn: 0.2417387\ttotal: 1.16s\tremaining: 833ms\n",
      "583:\tlearn: 0.2416577\ttotal: 1.17s\tremaining: 831ms\n",
      "584:\tlearn: 0.2416108\ttotal: 1.17s\tremaining: 829ms\n",
      "585:\tlearn: 0.2414991\ttotal: 1.17s\tremaining: 826ms\n",
      "586:\tlearn: 0.2413832\ttotal: 1.17s\tremaining: 824ms\n",
      "587:\tlearn: 0.2413213\ttotal: 1.17s\tremaining: 822ms\n",
      "588:\tlearn: 0.2411930\ttotal: 1.18s\tremaining: 820ms\n",
      "589:\tlearn: 0.2410806\ttotal: 1.18s\tremaining: 818ms\n",
      "590:\tlearn: 0.2410154\ttotal: 1.18s\tremaining: 816ms\n",
      "591:\tlearn: 0.2409099\ttotal: 1.18s\tremaining: 813ms\n",
      "592:\tlearn: 0.2408508\ttotal: 1.18s\tremaining: 811ms\n",
      "593:\tlearn: 0.2407835\ttotal: 1.18s\tremaining: 809ms\n",
      "594:\tlearn: 0.2407413\ttotal: 1.19s\tremaining: 807ms\n",
      "595:\tlearn: 0.2406478\ttotal: 1.19s\tremaining: 804ms\n",
      "596:\tlearn: 0.2405957\ttotal: 1.19s\tremaining: 802ms\n",
      "597:\tlearn: 0.2405164\ttotal: 1.19s\tremaining: 800ms\n",
      "598:\tlearn: 0.2404092\ttotal: 1.19s\tremaining: 798ms\n",
      "599:\tlearn: 0.2403601\ttotal: 1.19s\tremaining: 796ms\n",
      "600:\tlearn: 0.2402221\ttotal: 1.2s\tremaining: 793ms\n",
      "601:\tlearn: 0.2400420\ttotal: 1.2s\tremaining: 791ms\n",
      "602:\tlearn: 0.2399596\ttotal: 1.2s\tremaining: 789ms\n",
      "603:\tlearn: 0.2398478\ttotal: 1.2s\tremaining: 787ms\n",
      "604:\tlearn: 0.2396546\ttotal: 1.2s\tremaining: 785ms\n",
      "605:\tlearn: 0.2395168\ttotal: 1.2s\tremaining: 783ms\n",
      "606:\tlearn: 0.2389461\ttotal: 1.21s\tremaining: 780ms\n",
      "607:\tlearn: 0.2389019\ttotal: 1.21s\tremaining: 778ms\n",
      "608:\tlearn: 0.2388363\ttotal: 1.21s\tremaining: 776ms\n",
      "609:\tlearn: 0.2387262\ttotal: 1.21s\tremaining: 774ms\n",
      "610:\tlearn: 0.2386522\ttotal: 1.21s\tremaining: 772ms\n",
      "611:\tlearn: 0.2386041\ttotal: 1.21s\tremaining: 769ms\n",
      "612:\tlearn: 0.2385470\ttotal: 1.22s\tremaining: 767ms\n",
      "613:\tlearn: 0.2384884\ttotal: 1.22s\tremaining: 765ms\n",
      "614:\tlearn: 0.2383917\ttotal: 1.22s\tremaining: 763ms\n",
      "615:\tlearn: 0.2382706\ttotal: 1.22s\tremaining: 761ms\n",
      "616:\tlearn: 0.2382104\ttotal: 1.22s\tremaining: 759ms\n",
      "617:\tlearn: 0.2381605\ttotal: 1.22s\tremaining: 757ms\n",
      "618:\tlearn: 0.2379602\ttotal: 1.23s\tremaining: 755ms\n",
      "619:\tlearn: 0.2378449\ttotal: 1.23s\tremaining: 753ms\n",
      "620:\tlearn: 0.2377931\ttotal: 1.23s\tremaining: 751ms\n",
      "621:\tlearn: 0.2376847\ttotal: 1.23s\tremaining: 749ms\n",
      "622:\tlearn: 0.2375944\ttotal: 1.23s\tremaining: 747ms\n",
      "623:\tlearn: 0.2375394\ttotal: 1.24s\tremaining: 745ms\n",
      "624:\tlearn: 0.2374819\ttotal: 1.24s\tremaining: 743ms\n",
      "625:\tlearn: 0.2372600\ttotal: 1.24s\tremaining: 741ms\n",
      "626:\tlearn: 0.2371963\ttotal: 1.24s\tremaining: 739ms\n",
      "627:\tlearn: 0.2367115\ttotal: 1.24s\tremaining: 737ms\n",
      "628:\tlearn: 0.2366799\ttotal: 1.25s\tremaining: 735ms\n",
      "629:\tlearn: 0.2366231\ttotal: 1.25s\tremaining: 733ms\n",
      "630:\tlearn: 0.2365571\ttotal: 1.25s\tremaining: 731ms\n",
      "631:\tlearn: 0.2365328\ttotal: 1.25s\tremaining: 730ms\n",
      "632:\tlearn: 0.2364934\ttotal: 1.25s\tremaining: 728ms\n",
      "633:\tlearn: 0.2361164\ttotal: 1.26s\tremaining: 725ms\n",
      "634:\tlearn: 0.2359160\ttotal: 1.26s\tremaining: 723ms\n",
      "635:\tlearn: 0.2358766\ttotal: 1.26s\tremaining: 721ms\n",
      "636:\tlearn: 0.2358079\ttotal: 1.26s\tremaining: 719ms\n",
      "637:\tlearn: 0.2353822\ttotal: 1.26s\tremaining: 717ms\n",
      "638:\tlearn: 0.2352855\ttotal: 1.26s\tremaining: 715ms\n",
      "639:\tlearn: 0.2352263\ttotal: 1.27s\tremaining: 712ms\n",
      "640:\tlearn: 0.2348110\ttotal: 1.27s\tremaining: 711ms\n",
      "641:\tlearn: 0.2345306\ttotal: 1.27s\tremaining: 709ms\n",
      "642:\tlearn: 0.2344777\ttotal: 1.27s\tremaining: 706ms\n",
      "643:\tlearn: 0.2341921\ttotal: 1.27s\tremaining: 704ms\n",
      "644:\tlearn: 0.2339756\ttotal: 1.28s\tremaining: 702ms\n",
      "645:\tlearn: 0.2339230\ttotal: 1.28s\tremaining: 700ms\n",
      "646:\tlearn: 0.2338716\ttotal: 1.28s\tremaining: 698ms\n",
      "647:\tlearn: 0.2338295\ttotal: 1.28s\tremaining: 696ms\n",
      "648:\tlearn: 0.2336347\ttotal: 1.28s\tremaining: 694ms\n",
      "649:\tlearn: 0.2333733\ttotal: 1.28s\tremaining: 692ms\n",
      "650:\tlearn: 0.2333415\ttotal: 1.29s\tremaining: 690ms\n",
      "651:\tlearn: 0.2330080\ttotal: 1.29s\tremaining: 687ms\n",
      "652:\tlearn: 0.2329484\ttotal: 1.29s\tremaining: 685ms\n",
      "653:\tlearn: 0.2328661\ttotal: 1.29s\tremaining: 683ms\n",
      "654:\tlearn: 0.2326924\ttotal: 1.29s\tremaining: 681ms\n",
      "655:\tlearn: 0.2325989\ttotal: 1.29s\tremaining: 679ms\n",
      "656:\tlearn: 0.2324835\ttotal: 1.3s\tremaining: 677ms\n",
      "657:\tlearn: 0.2322299\ttotal: 1.3s\tremaining: 675ms\n",
      "658:\tlearn: 0.2321339\ttotal: 1.3s\tremaining: 673ms\n",
      "659:\tlearn: 0.2320752\ttotal: 1.3s\tremaining: 670ms\n",
      "660:\tlearn: 0.2319657\ttotal: 1.3s\tremaining: 668ms\n",
      "661:\tlearn: 0.2319359\ttotal: 1.3s\tremaining: 666ms\n",
      "662:\tlearn: 0.2316980\ttotal: 1.31s\tremaining: 664ms\n",
      "663:\tlearn: 0.2316392\ttotal: 1.31s\tremaining: 662ms\n",
      "664:\tlearn: 0.2315587\ttotal: 1.31s\tremaining: 660ms\n",
      "665:\tlearn: 0.2315199\ttotal: 1.31s\tremaining: 658ms\n",
      "666:\tlearn: 0.2312434\ttotal: 1.31s\tremaining: 656ms\n",
      "667:\tlearn: 0.2310935\ttotal: 1.31s\tremaining: 654ms\n",
      "668:\tlearn: 0.2310120\ttotal: 1.32s\tremaining: 651ms\n",
      "669:\tlearn: 0.2308188\ttotal: 1.32s\tremaining: 649ms\n",
      "670:\tlearn: 0.2307834\ttotal: 1.32s\tremaining: 647ms\n",
      "671:\tlearn: 0.2307388\ttotal: 1.32s\tremaining: 645ms\n",
      "672:\tlearn: 0.2303679\ttotal: 1.32s\tremaining: 643ms\n",
      "673:\tlearn: 0.2303126\ttotal: 1.32s\tremaining: 641ms\n",
      "674:\tlearn: 0.2301283\ttotal: 1.33s\tremaining: 639ms\n",
      "675:\tlearn: 0.2300640\ttotal: 1.33s\tremaining: 637ms\n",
      "676:\tlearn: 0.2299658\ttotal: 1.33s\tremaining: 635ms\n",
      "677:\tlearn: 0.2299272\ttotal: 1.33s\tremaining: 633ms\n",
      "678:\tlearn: 0.2298659\ttotal: 1.33s\tremaining: 631ms\n",
      "679:\tlearn: 0.2298192\ttotal: 1.33s\tremaining: 629ms\n",
      "680:\tlearn: 0.2297522\ttotal: 1.34s\tremaining: 627ms\n",
      "681:\tlearn: 0.2296010\ttotal: 1.34s\tremaining: 624ms\n",
      "682:\tlearn: 0.2295244\ttotal: 1.34s\tremaining: 622ms\n",
      "683:\tlearn: 0.2294796\ttotal: 1.34s\tremaining: 620ms\n",
      "684:\tlearn: 0.2294075\ttotal: 1.34s\tremaining: 618ms\n",
      "685:\tlearn: 0.2293135\ttotal: 1.34s\tremaining: 616ms\n",
      "686:\tlearn: 0.2291283\ttotal: 1.35s\tremaining: 614ms\n",
      "687:\tlearn: 0.2290842\ttotal: 1.35s\tremaining: 612ms\n",
      "688:\tlearn: 0.2290060\ttotal: 1.35s\tremaining: 609ms\n",
      "689:\tlearn: 0.2289014\ttotal: 1.35s\tremaining: 607ms\n",
      "690:\tlearn: 0.2285487\ttotal: 1.35s\tremaining: 605ms\n",
      "691:\tlearn: 0.2284916\ttotal: 1.35s\tremaining: 603ms\n",
      "692:\tlearn: 0.2284383\ttotal: 1.36s\tremaining: 601ms\n",
      "693:\tlearn: 0.2282144\ttotal: 1.36s\tremaining: 599ms\n",
      "694:\tlearn: 0.2281466\ttotal: 1.36s\tremaining: 597ms\n",
      "695:\tlearn: 0.2280935\ttotal: 1.36s\tremaining: 595ms\n",
      "696:\tlearn: 0.2280528\ttotal: 1.36s\tremaining: 593ms\n",
      "697:\tlearn: 0.2279140\ttotal: 1.36s\tremaining: 591ms\n",
      "698:\tlearn: 0.2278546\ttotal: 1.37s\tremaining: 589ms\n",
      "699:\tlearn: 0.2277857\ttotal: 1.37s\tremaining: 587ms\n",
      "700:\tlearn: 0.2276876\ttotal: 1.37s\tremaining: 585ms\n",
      "701:\tlearn: 0.2276044\ttotal: 1.37s\tremaining: 583ms\n",
      "702:\tlearn: 0.2275590\ttotal: 1.37s\tremaining: 581ms\n",
      "703:\tlearn: 0.2275394\ttotal: 1.38s\tremaining: 579ms\n",
      "704:\tlearn: 0.2271038\ttotal: 1.38s\tremaining: 577ms\n",
      "705:\tlearn: 0.2267875\ttotal: 1.38s\tremaining: 575ms\n",
      "706:\tlearn: 0.2266818\ttotal: 1.38s\tremaining: 573ms\n",
      "707:\tlearn: 0.2266236\ttotal: 1.38s\tremaining: 570ms\n",
      "708:\tlearn: 0.2265710\ttotal: 1.38s\tremaining: 568ms\n",
      "709:\tlearn: 0.2265215\ttotal: 1.39s\tremaining: 566ms\n",
      "710:\tlearn: 0.2264476\ttotal: 1.39s\tremaining: 564ms\n",
      "711:\tlearn: 0.2264002\ttotal: 1.39s\tremaining: 562ms\n",
      "712:\tlearn: 0.2263365\ttotal: 1.39s\tremaining: 560ms\n",
      "713:\tlearn: 0.2262458\ttotal: 1.39s\tremaining: 558ms\n",
      "714:\tlearn: 0.2261455\ttotal: 1.39s\tremaining: 556ms\n",
      "715:\tlearn: 0.2261184\ttotal: 1.4s\tremaining: 554ms\n",
      "716:\tlearn: 0.2260665\ttotal: 1.4s\tremaining: 552ms\n",
      "717:\tlearn: 0.2259870\ttotal: 1.4s\tremaining: 550ms\n",
      "718:\tlearn: 0.2259602\ttotal: 1.4s\tremaining: 548ms\n",
      "719:\tlearn: 0.2258571\ttotal: 1.41s\tremaining: 547ms\n",
      "720:\tlearn: 0.2257838\ttotal: 1.41s\tremaining: 545ms\n",
      "721:\tlearn: 0.2256800\ttotal: 1.41s\tremaining: 543ms\n",
      "722:\tlearn: 0.2252628\ttotal: 1.41s\tremaining: 541ms\n",
      "723:\tlearn: 0.2252060\ttotal: 1.41s\tremaining: 539ms\n",
      "724:\tlearn: 0.2251584\ttotal: 1.41s\tremaining: 537ms\n",
      "725:\tlearn: 0.2250480\ttotal: 1.42s\tremaining: 535ms\n",
      "726:\tlearn: 0.2247447\ttotal: 1.42s\tremaining: 533ms\n",
      "727:\tlearn: 0.2246661\ttotal: 1.42s\tremaining: 531ms\n",
      "728:\tlearn: 0.2245611\ttotal: 1.42s\tremaining: 529ms\n",
      "729:\tlearn: 0.2244635\ttotal: 1.42s\tremaining: 527ms\n",
      "730:\tlearn: 0.2243552\ttotal: 1.43s\tremaining: 525ms\n",
      "731:\tlearn: 0.2243243\ttotal: 1.43s\tremaining: 523ms\n",
      "732:\tlearn: 0.2242744\ttotal: 1.43s\tremaining: 521ms\n",
      "733:\tlearn: 0.2242045\ttotal: 1.43s\tremaining: 519ms\n",
      "734:\tlearn: 0.2241482\ttotal: 1.43s\tremaining: 517ms\n",
      "735:\tlearn: 0.2240674\ttotal: 1.43s\tremaining: 514ms\n",
      "736:\tlearn: 0.2240263\ttotal: 1.44s\tremaining: 512ms\n",
      "737:\tlearn: 0.2239382\ttotal: 1.44s\tremaining: 511ms\n",
      "738:\tlearn: 0.2238518\ttotal: 1.44s\tremaining: 508ms\n",
      "739:\tlearn: 0.2238111\ttotal: 1.44s\tremaining: 506ms\n",
      "740:\tlearn: 0.2237307\ttotal: 1.44s\tremaining: 504ms\n",
      "741:\tlearn: 0.2237182\ttotal: 1.44s\tremaining: 502ms\n",
      "742:\tlearn: 0.2236699\ttotal: 1.45s\tremaining: 500ms\n",
      "743:\tlearn: 0.2236324\ttotal: 1.45s\tremaining: 498ms\n",
      "744:\tlearn: 0.2235889\ttotal: 1.45s\tremaining: 496ms\n",
      "745:\tlearn: 0.2235120\ttotal: 1.45s\tremaining: 494ms\n",
      "746:\tlearn: 0.2234710\ttotal: 1.45s\tremaining: 492ms\n",
      "747:\tlearn: 0.2234230\ttotal: 1.45s\tremaining: 490ms\n",
      "748:\tlearn: 0.2233460\ttotal: 1.46s\tremaining: 488ms\n",
      "749:\tlearn: 0.2232910\ttotal: 1.46s\tremaining: 486ms\n",
      "750:\tlearn: 0.2232574\ttotal: 1.46s\tremaining: 484ms\n",
      "751:\tlearn: 0.2232108\ttotal: 1.46s\tremaining: 482ms\n",
      "752:\tlearn: 0.2229845\ttotal: 1.46s\tremaining: 480ms\n",
      "753:\tlearn: 0.2228769\ttotal: 1.46s\tremaining: 478ms\n",
      "754:\tlearn: 0.2227278\ttotal: 1.47s\tremaining: 476ms\n",
      "755:\tlearn: 0.2226806\ttotal: 1.47s\tremaining: 474ms\n",
      "756:\tlearn: 0.2226299\ttotal: 1.47s\tremaining: 472ms\n",
      "757:\tlearn: 0.2225659\ttotal: 1.47s\tremaining: 470ms\n",
      "758:\tlearn: 0.2224918\ttotal: 1.47s\tremaining: 468ms\n",
      "759:\tlearn: 0.2224458\ttotal: 1.48s\tremaining: 466ms\n",
      "760:\tlearn: 0.2224165\ttotal: 1.48s\tremaining: 464ms\n",
      "761:\tlearn: 0.2223526\ttotal: 1.48s\tremaining: 462ms\n",
      "762:\tlearn: 0.2222943\ttotal: 1.48s\tremaining: 460ms\n",
      "763:\tlearn: 0.2222181\ttotal: 1.48s\tremaining: 458ms\n",
      "764:\tlearn: 0.2220521\ttotal: 1.48s\tremaining: 456ms\n",
      "765:\tlearn: 0.2220078\ttotal: 1.49s\tremaining: 454ms\n",
      "766:\tlearn: 0.2219674\ttotal: 1.49s\tremaining: 452ms\n",
      "767:\tlearn: 0.2219136\ttotal: 1.49s\tremaining: 450ms\n",
      "768:\tlearn: 0.2218349\ttotal: 1.49s\tremaining: 448ms\n",
      "769:\tlearn: 0.2217768\ttotal: 1.49s\tremaining: 446ms\n",
      "770:\tlearn: 0.2217179\ttotal: 1.49s\tremaining: 444ms\n",
      "771:\tlearn: 0.2216555\ttotal: 1.5s\tremaining: 442ms\n",
      "772:\tlearn: 0.2215650\ttotal: 1.5s\tremaining: 440ms\n",
      "773:\tlearn: 0.2215088\ttotal: 1.5s\tremaining: 438ms\n",
      "774:\tlearn: 0.2214776\ttotal: 1.5s\tremaining: 435ms\n",
      "775:\tlearn: 0.2214412\ttotal: 1.5s\tremaining: 433ms\n",
      "776:\tlearn: 0.2213512\ttotal: 1.5s\tremaining: 431ms\n",
      "777:\tlearn: 0.2213202\ttotal: 1.5s\tremaining: 430ms\n",
      "778:\tlearn: 0.2212768\ttotal: 1.51s\tremaining: 427ms\n",
      "779:\tlearn: 0.2212380\ttotal: 1.51s\tremaining: 425ms\n",
      "780:\tlearn: 0.2211835\ttotal: 1.51s\tremaining: 423ms\n",
      "781:\tlearn: 0.2211551\ttotal: 1.51s\tremaining: 421ms\n",
      "782:\tlearn: 0.2211090\ttotal: 1.51s\tremaining: 419ms\n",
      "783:\tlearn: 0.2210429\ttotal: 1.51s\tremaining: 417ms\n",
      "784:\tlearn: 0.2209426\ttotal: 1.51s\tremaining: 415ms\n",
      "785:\tlearn: 0.2208891\ttotal: 1.52s\tremaining: 413ms\n",
      "786:\tlearn: 0.2205920\ttotal: 1.52s\tremaining: 411ms\n",
      "787:\tlearn: 0.2205542\ttotal: 1.54s\tremaining: 414ms\n",
      "788:\tlearn: 0.2205133\ttotal: 1.54s\tremaining: 413ms\n",
      "789:\tlearn: 0.2204074\ttotal: 1.55s\tremaining: 412ms\n",
      "790:\tlearn: 0.2203681\ttotal: 1.55s\tremaining: 410ms\n",
      "791:\tlearn: 0.2202911\ttotal: 1.55s\tremaining: 409ms\n",
      "792:\tlearn: 0.2202432\ttotal: 1.56s\tremaining: 407ms\n",
      "793:\tlearn: 0.2201222\ttotal: 1.56s\tremaining: 405ms\n",
      "794:\tlearn: 0.2199966\ttotal: 1.57s\tremaining: 404ms\n",
      "795:\tlearn: 0.2199382\ttotal: 1.57s\tremaining: 403ms\n",
      "796:\tlearn: 0.2198588\ttotal: 1.58s\tremaining: 402ms\n",
      "797:\tlearn: 0.2197988\ttotal: 1.58s\tremaining: 400ms\n",
      "798:\tlearn: 0.2197592\ttotal: 1.58s\tremaining: 399ms\n",
      "799:\tlearn: 0.2196655\ttotal: 1.59s\tremaining: 397ms\n",
      "800:\tlearn: 0.2196038\ttotal: 1.59s\tremaining: 395ms\n",
      "801:\tlearn: 0.2195438\ttotal: 1.59s\tremaining: 394ms\n",
      "802:\tlearn: 0.2194860\ttotal: 1.6s\tremaining: 392ms\n",
      "803:\tlearn: 0.2194423\ttotal: 1.6s\tremaining: 390ms\n",
      "804:\tlearn: 0.2193675\ttotal: 1.6s\tremaining: 388ms\n",
      "805:\tlearn: 0.2193230\ttotal: 1.6s\tremaining: 386ms\n",
      "806:\tlearn: 0.2192936\ttotal: 1.6s\tremaining: 384ms\n",
      "807:\tlearn: 0.2192478\ttotal: 1.61s\tremaining: 382ms\n",
      "808:\tlearn: 0.2192214\ttotal: 1.61s\tremaining: 380ms\n",
      "809:\tlearn: 0.2191692\ttotal: 1.61s\tremaining: 378ms\n",
      "810:\tlearn: 0.2190886\ttotal: 1.61s\tremaining: 376ms\n",
      "811:\tlearn: 0.2190507\ttotal: 1.61s\tremaining: 374ms\n",
      "812:\tlearn: 0.2190332\ttotal: 1.62s\tremaining: 372ms\n",
      "813:\tlearn: 0.2189512\ttotal: 1.62s\tremaining: 370ms\n",
      "814:\tlearn: 0.2189234\ttotal: 1.62s\tremaining: 368ms\n",
      "815:\tlearn: 0.2188927\ttotal: 1.62s\tremaining: 366ms\n",
      "816:\tlearn: 0.2188580\ttotal: 1.62s\tremaining: 364ms\n",
      "817:\tlearn: 0.2187745\ttotal: 1.62s\tremaining: 362ms\n",
      "818:\tlearn: 0.2187149\ttotal: 1.63s\tremaining: 359ms\n",
      "819:\tlearn: 0.2186318\ttotal: 1.63s\tremaining: 357ms\n",
      "820:\tlearn: 0.2186036\ttotal: 1.63s\tremaining: 355ms\n",
      "821:\tlearn: 0.2185696\ttotal: 1.63s\tremaining: 353ms\n",
      "822:\tlearn: 0.2185155\ttotal: 1.63s\tremaining: 351ms\n",
      "823:\tlearn: 0.2184745\ttotal: 1.63s\tremaining: 349ms\n",
      "824:\tlearn: 0.2184493\ttotal: 1.64s\tremaining: 347ms\n",
      "825:\tlearn: 0.2184035\ttotal: 1.64s\tremaining: 345ms\n",
      "826:\tlearn: 0.2183472\ttotal: 1.64s\tremaining: 343ms\n",
      "827:\tlearn: 0.2183077\ttotal: 1.64s\tremaining: 341ms\n",
      "828:\tlearn: 0.2182821\ttotal: 1.64s\tremaining: 339ms\n",
      "829:\tlearn: 0.2182512\ttotal: 1.64s\tremaining: 337ms\n",
      "830:\tlearn: 0.2181996\ttotal: 1.65s\tremaining: 335ms\n",
      "831:\tlearn: 0.2181573\ttotal: 1.65s\tremaining: 333ms\n",
      "832:\tlearn: 0.2181426\ttotal: 1.65s\tremaining: 330ms\n",
      "833:\tlearn: 0.2180965\ttotal: 1.65s\tremaining: 328ms\n",
      "834:\tlearn: 0.2180172\ttotal: 1.65s\tremaining: 326ms\n",
      "835:\tlearn: 0.2179837\ttotal: 1.65s\tremaining: 324ms\n",
      "836:\tlearn: 0.2178667\ttotal: 1.65s\tremaining: 322ms\n",
      "837:\tlearn: 0.2178212\ttotal: 1.66s\tremaining: 320ms\n",
      "838:\tlearn: 0.2177841\ttotal: 1.66s\tremaining: 318ms\n",
      "839:\tlearn: 0.2177077\ttotal: 1.66s\tremaining: 316ms\n",
      "840:\tlearn: 0.2175012\ttotal: 1.66s\tremaining: 314ms\n",
      "841:\tlearn: 0.2172319\ttotal: 1.66s\tremaining: 312ms\n",
      "842:\tlearn: 0.2171636\ttotal: 1.66s\tremaining: 310ms\n",
      "843:\tlearn: 0.2170468\ttotal: 1.67s\tremaining: 308ms\n",
      "844:\tlearn: 0.2169900\ttotal: 1.67s\tremaining: 306ms\n",
      "845:\tlearn: 0.2169405\ttotal: 1.67s\tremaining: 304ms\n",
      "846:\tlearn: 0.2167895\ttotal: 1.67s\tremaining: 302ms\n",
      "847:\tlearn: 0.2167560\ttotal: 1.67s\tremaining: 300ms\n",
      "848:\tlearn: 0.2167054\ttotal: 1.67s\tremaining: 298ms\n",
      "849:\tlearn: 0.2165141\ttotal: 1.68s\tremaining: 296ms\n",
      "850:\tlearn: 0.2161614\ttotal: 1.68s\tremaining: 294ms\n",
      "851:\tlearn: 0.2161147\ttotal: 1.68s\tremaining: 292ms\n",
      "852:\tlearn: 0.2160850\ttotal: 1.68s\tremaining: 290ms\n",
      "853:\tlearn: 0.2160383\ttotal: 1.68s\tremaining: 288ms\n",
      "854:\tlearn: 0.2159862\ttotal: 1.68s\tremaining: 286ms\n",
      "855:\tlearn: 0.2159469\ttotal: 1.69s\tremaining: 284ms\n",
      "856:\tlearn: 0.2158951\ttotal: 1.69s\tremaining: 281ms\n",
      "857:\tlearn: 0.2157573\ttotal: 1.69s\tremaining: 280ms\n",
      "858:\tlearn: 0.2156813\ttotal: 1.69s\tremaining: 277ms\n",
      "859:\tlearn: 0.2156089\ttotal: 1.69s\tremaining: 275ms\n",
      "860:\tlearn: 0.2155715\ttotal: 1.69s\tremaining: 273ms\n",
      "861:\tlearn: 0.2155009\ttotal: 1.7s\tremaining: 271ms\n",
      "862:\tlearn: 0.2154567\ttotal: 1.7s\tremaining: 269ms\n",
      "863:\tlearn: 0.2153575\ttotal: 1.7s\tremaining: 267ms\n",
      "864:\tlearn: 0.2153096\ttotal: 1.7s\tremaining: 265ms\n",
      "865:\tlearn: 0.2152673\ttotal: 1.7s\tremaining: 263ms\n",
      "866:\tlearn: 0.2152180\ttotal: 1.7s\tremaining: 261ms\n",
      "867:\tlearn: 0.2151875\ttotal: 1.7s\tremaining: 259ms\n",
      "868:\tlearn: 0.2149928\ttotal: 1.71s\tremaining: 257ms\n",
      "869:\tlearn: 0.2149393\ttotal: 1.71s\tremaining: 255ms\n",
      "870:\tlearn: 0.2148603\ttotal: 1.71s\tremaining: 253ms\n",
      "871:\tlearn: 0.2147813\ttotal: 1.71s\tremaining: 251ms\n",
      "872:\tlearn: 0.2145108\ttotal: 1.71s\tremaining: 249ms\n",
      "873:\tlearn: 0.2144071\ttotal: 1.71s\tremaining: 247ms\n",
      "874:\tlearn: 0.2141694\ttotal: 1.72s\tremaining: 245ms\n",
      "875:\tlearn: 0.2139881\ttotal: 1.72s\tremaining: 243ms\n",
      "876:\tlearn: 0.2138974\ttotal: 1.72s\tremaining: 241ms\n",
      "877:\tlearn: 0.2138495\ttotal: 1.72s\tremaining: 239ms\n",
      "878:\tlearn: 0.2137833\ttotal: 1.72s\tremaining: 237ms\n",
      "879:\tlearn: 0.2137496\ttotal: 1.72s\tremaining: 235ms\n",
      "880:\tlearn: 0.2137133\ttotal: 1.73s\tremaining: 233ms\n",
      "881:\tlearn: 0.2135516\ttotal: 1.73s\tremaining: 231ms\n",
      "882:\tlearn: 0.2135117\ttotal: 1.73s\tremaining: 229ms\n",
      "883:\tlearn: 0.2134604\ttotal: 1.73s\tremaining: 227ms\n",
      "884:\tlearn: 0.2133282\ttotal: 1.73s\tremaining: 225ms\n",
      "885:\tlearn: 0.2132904\ttotal: 1.73s\tremaining: 223ms\n",
      "886:\tlearn: 0.2132531\ttotal: 1.74s\tremaining: 221ms\n",
      "887:\tlearn: 0.2131845\ttotal: 1.74s\tremaining: 219ms\n",
      "888:\tlearn: 0.2130749\ttotal: 1.74s\tremaining: 217ms\n",
      "889:\tlearn: 0.2130141\ttotal: 1.74s\tremaining: 215ms\n",
      "890:\tlearn: 0.2129659\ttotal: 1.74s\tremaining: 213ms\n",
      "891:\tlearn: 0.2129370\ttotal: 1.75s\tremaining: 211ms\n",
      "892:\tlearn: 0.2129093\ttotal: 1.75s\tremaining: 209ms\n",
      "893:\tlearn: 0.2128850\ttotal: 1.75s\tremaining: 207ms\n",
      "894:\tlearn: 0.2128337\ttotal: 1.75s\tremaining: 205ms\n",
      "895:\tlearn: 0.2126543\ttotal: 1.75s\tremaining: 204ms\n",
      "896:\tlearn: 0.2125587\ttotal: 1.75s\tremaining: 202ms\n",
      "897:\tlearn: 0.2125284\ttotal: 1.76s\tremaining: 200ms\n",
      "898:\tlearn: 0.2124093\ttotal: 1.76s\tremaining: 198ms\n",
      "899:\tlearn: 0.2123679\ttotal: 1.76s\tremaining: 196ms\n",
      "900:\tlearn: 0.2123358\ttotal: 1.76s\tremaining: 194ms\n",
      "901:\tlearn: 0.2122949\ttotal: 1.76s\tremaining: 192ms\n",
      "902:\tlearn: 0.2122436\ttotal: 1.76s\tremaining: 190ms\n",
      "903:\tlearn: 0.2122223\ttotal: 1.77s\tremaining: 188ms\n",
      "904:\tlearn: 0.2120953\ttotal: 1.77s\tremaining: 186ms\n",
      "905:\tlearn: 0.2120522\ttotal: 1.77s\tremaining: 184ms\n",
      "906:\tlearn: 0.2120286\ttotal: 1.77s\tremaining: 182ms\n",
      "907:\tlearn: 0.2119048\ttotal: 1.77s\tremaining: 180ms\n",
      "908:\tlearn: 0.2118631\ttotal: 1.77s\tremaining: 178ms\n",
      "909:\tlearn: 0.2117089\ttotal: 1.78s\tremaining: 176ms\n",
      "910:\tlearn: 0.2116275\ttotal: 1.78s\tremaining: 174ms\n",
      "911:\tlearn: 0.2115865\ttotal: 1.78s\tremaining: 172ms\n",
      "912:\tlearn: 0.2114636\ttotal: 1.78s\tremaining: 170ms\n",
      "913:\tlearn: 0.2112786\ttotal: 1.78s\tremaining: 168ms\n",
      "914:\tlearn: 0.2112600\ttotal: 1.78s\tremaining: 166ms\n",
      "915:\tlearn: 0.2111660\ttotal: 1.79s\tremaining: 164ms\n",
      "916:\tlearn: 0.2111267\ttotal: 1.79s\tremaining: 162ms\n",
      "917:\tlearn: 0.2110850\ttotal: 1.79s\tremaining: 160ms\n",
      "918:\tlearn: 0.2110139\ttotal: 1.79s\tremaining: 158ms\n",
      "919:\tlearn: 0.2109841\ttotal: 1.79s\tremaining: 156ms\n",
      "920:\tlearn: 0.2109142\ttotal: 1.79s\tremaining: 154ms\n",
      "921:\tlearn: 0.2108731\ttotal: 1.79s\tremaining: 152ms\n",
      "922:\tlearn: 0.2107014\ttotal: 1.8s\tremaining: 150ms\n",
      "923:\tlearn: 0.2106344\ttotal: 1.8s\tremaining: 148ms\n",
      "924:\tlearn: 0.2105857\ttotal: 1.8s\tremaining: 146ms\n",
      "925:\tlearn: 0.2105089\ttotal: 1.8s\tremaining: 144ms\n",
      "926:\tlearn: 0.2104606\ttotal: 1.8s\tremaining: 142ms\n",
      "927:\tlearn: 0.2103725\ttotal: 1.8s\tremaining: 140ms\n",
      "928:\tlearn: 0.2103369\ttotal: 1.81s\tremaining: 138ms\n",
      "929:\tlearn: 0.2102727\ttotal: 1.81s\tremaining: 136ms\n",
      "930:\tlearn: 0.2102246\ttotal: 1.81s\tremaining: 134ms\n",
      "931:\tlearn: 0.2100944\ttotal: 1.81s\tremaining: 132ms\n",
      "932:\tlearn: 0.2100705\ttotal: 1.81s\tremaining: 130ms\n",
      "933:\tlearn: 0.2100065\ttotal: 1.81s\tremaining: 128ms\n",
      "934:\tlearn: 0.2099741\ttotal: 1.82s\tremaining: 126ms\n",
      "935:\tlearn: 0.2099124\ttotal: 1.82s\tremaining: 124ms\n",
      "936:\tlearn: 0.2098412\ttotal: 1.82s\tremaining: 122ms\n",
      "937:\tlearn: 0.2097991\ttotal: 1.82s\tremaining: 120ms\n",
      "938:\tlearn: 0.2097706\ttotal: 1.82s\tremaining: 118ms\n",
      "939:\tlearn: 0.2097078\ttotal: 1.82s\tremaining: 116ms\n",
      "940:\tlearn: 0.2096781\ttotal: 1.83s\tremaining: 115ms\n",
      "941:\tlearn: 0.2095825\ttotal: 1.83s\tremaining: 113ms\n",
      "942:\tlearn: 0.2095627\ttotal: 1.83s\tremaining: 111ms\n",
      "943:\tlearn: 0.2095199\ttotal: 1.83s\tremaining: 109ms\n",
      "944:\tlearn: 0.2094568\ttotal: 1.83s\tremaining: 107ms\n",
      "945:\tlearn: 0.2094002\ttotal: 1.83s\tremaining: 105ms\n",
      "946:\tlearn: 0.2093304\ttotal: 1.84s\tremaining: 103ms\n",
      "947:\tlearn: 0.2092650\ttotal: 1.84s\tremaining: 101ms\n",
      "948:\tlearn: 0.2092050\ttotal: 1.84s\tremaining: 98.9ms\n",
      "949:\tlearn: 0.2091230\ttotal: 1.84s\tremaining: 96.9ms\n",
      "950:\tlearn: 0.2090493\ttotal: 1.84s\tremaining: 95ms\n",
      "951:\tlearn: 0.2090135\ttotal: 1.84s\tremaining: 93ms\n",
      "952:\tlearn: 0.2089759\ttotal: 1.84s\tremaining: 91ms\n",
      "953:\tlearn: 0.2088486\ttotal: 1.85s\tremaining: 89.1ms\n",
      "954:\tlearn: 0.2088366\ttotal: 1.85s\tremaining: 87.1ms\n",
      "955:\tlearn: 0.2088090\ttotal: 1.85s\tremaining: 85.2ms\n",
      "956:\tlearn: 0.2087718\ttotal: 1.85s\tremaining: 83.2ms\n",
      "957:\tlearn: 0.2087373\ttotal: 1.85s\tremaining: 81.3ms\n",
      "958:\tlearn: 0.2086059\ttotal: 1.85s\tremaining: 79.3ms\n",
      "959:\tlearn: 0.2085347\ttotal: 1.86s\tremaining: 77.4ms\n",
      "960:\tlearn: 0.2084999\ttotal: 1.86s\tremaining: 75.4ms\n",
      "961:\tlearn: 0.2083909\ttotal: 1.86s\tremaining: 73.5ms\n",
      "962:\tlearn: 0.2082450\ttotal: 1.86s\tremaining: 71.6ms\n",
      "963:\tlearn: 0.2081897\ttotal: 1.86s\tremaining: 69.6ms\n",
      "964:\tlearn: 0.2081054\ttotal: 1.86s\tremaining: 67.7ms\n",
      "965:\tlearn: 0.2080150\ttotal: 1.87s\tremaining: 65.7ms\n",
      "966:\tlearn: 0.2079868\ttotal: 1.87s\tremaining: 63.8ms\n",
      "967:\tlearn: 0.2079423\ttotal: 1.87s\tremaining: 61.8ms\n",
      "968:\tlearn: 0.2077969\ttotal: 1.87s\tremaining: 59.9ms\n",
      "969:\tlearn: 0.2077534\ttotal: 1.87s\tremaining: 57.9ms\n",
      "970:\tlearn: 0.2076458\ttotal: 1.87s\tremaining: 56ms\n",
      "971:\tlearn: 0.2075700\ttotal: 1.88s\tremaining: 54.1ms\n",
      "972:\tlearn: 0.2074932\ttotal: 1.88s\tremaining: 52.1ms\n",
      "973:\tlearn: 0.2074752\ttotal: 1.88s\tremaining: 50.2ms\n",
      "974:\tlearn: 0.2074618\ttotal: 1.88s\tremaining: 48.2ms\n",
      "975:\tlearn: 0.2074181\ttotal: 1.88s\tremaining: 46.3ms\n",
      "976:\tlearn: 0.2073793\ttotal: 1.88s\tremaining: 44.4ms\n",
      "977:\tlearn: 0.2073277\ttotal: 1.89s\tremaining: 42.4ms\n",
      "978:\tlearn: 0.2072439\ttotal: 1.89s\tremaining: 40.5ms\n",
      "979:\tlearn: 0.2072215\ttotal: 1.89s\tremaining: 38.6ms\n",
      "980:\tlearn: 0.2070291\ttotal: 1.89s\tremaining: 36.6ms\n",
      "981:\tlearn: 0.2068970\ttotal: 1.89s\tremaining: 34.7ms\n",
      "982:\tlearn: 0.2068605\ttotal: 1.89s\tremaining: 32.8ms\n",
      "983:\tlearn: 0.2068176\ttotal: 1.9s\tremaining: 30.8ms\n",
      "984:\tlearn: 0.2067815\ttotal: 1.9s\tremaining: 28.9ms\n",
      "985:\tlearn: 0.2067420\ttotal: 1.9s\tremaining: 27ms\n",
      "986:\tlearn: 0.2067250\ttotal: 1.9s\tremaining: 25ms\n",
      "987:\tlearn: 0.2066799\ttotal: 1.9s\tremaining: 23.1ms\n",
      "988:\tlearn: 0.2066251\ttotal: 1.9s\tremaining: 21.2ms\n",
      "989:\tlearn: 0.2064984\ttotal: 1.91s\tremaining: 19.3ms\n",
      "990:\tlearn: 0.2064824\ttotal: 1.91s\tremaining: 17.3ms\n",
      "991:\tlearn: 0.2064245\ttotal: 1.91s\tremaining: 15.4ms\n",
      "992:\tlearn: 0.2063926\ttotal: 1.91s\tremaining: 13.5ms\n",
      "993:\tlearn: 0.2063509\ttotal: 1.91s\tremaining: 11.5ms\n",
      "994:\tlearn: 0.2062640\ttotal: 1.91s\tremaining: 9.62ms\n",
      "995:\tlearn: 0.2062416\ttotal: 1.92s\tremaining: 7.69ms\n",
      "996:\tlearn: 0.2061750\ttotal: 1.92s\tremaining: 5.77ms\n",
      "997:\tlearn: 0.2060977\ttotal: 1.92s\tremaining: 3.85ms\n",
      "998:\tlearn: 0.2060688\ttotal: 1.92s\tremaining: 1.92ms\n",
      "999:\tlearn: 0.2060292\ttotal: 1.92s\tremaining: 0us\n",
      "0.9173248526076444 {'learning_rate': 0.3, 'max_depth': 2, 'n_estimators': 1000}\n",
      "CPU times: total: 6.47 s\n",
      "Wall time: 1min 50s\n"
     ]
    }
   ],
   "source": [
    "%%time\n",
    "model_cat = CatBoostClassifier(random_state=41022, class_weights=class_weights)\n",
    "\n",
    "parameters = [{'max_depth': [2,3,5,7],\n",
    "               'learning_rate': [0.1,0.3],\n",
    "               'n_estimators': [800,1000,1200]}]\n",
    "\n",
    "model_cat_gscv = GridSearchCV(model_cat, param_grid=parameters, scoring='roc_auc', \n",
    "                   cv=3, verbose=True, n_jobs=-1)\n",
    "model_cat_gscv.fit(X_train_scaled, y_train)\n",
    "\n",
    "print(model_cat_gscv.best_score_, model_cat_gscv.best_params_)"
   ]
  },
  {
   "cell_type": "markdown",
   "metadata": {},
   "source": [
    "Видим, что результат незначительно увеличился - ROC-AUC = 0.92. Попробуем для тестирования использовать отмасштабированные признаки"
   ]
  },
  {
   "cell_type": "markdown",
   "metadata": {},
   "source": [
    "### Подбор существенных фичей"
   ]
  },
  {
   "cell_type": "markdown",
   "metadata": {},
   "source": [
    "Посмотрим, какие фичи в результате оказались наиболее значимыми."
   ]
  },
  {
   "cell_type": "code",
   "execution_count": 121,
   "metadata": {},
   "outputs": [
    {
     "data": {
      "text/html": [
       "<div>\n",
       "<style scoped>\n",
       "    .dataframe tbody tr th:only-of-type {\n",
       "        vertical-align: middle;\n",
       "    }\n",
       "\n",
       "    .dataframe tbody tr th {\n",
       "        vertical-align: top;\n",
       "    }\n",
       "\n",
       "    .dataframe thead th {\n",
       "        text-align: right;\n",
       "    }\n",
       "</style>\n",
       "<table border=\"1\" class=\"dataframe\">\n",
       "  <thead>\n",
       "    <tr style=\"text-align: right;\">\n",
       "      <th></th>\n",
       "      <th>Feature Id</th>\n",
       "      <th>Importances</th>\n",
       "    </tr>\n",
       "  </thead>\n",
       "  <tbody>\n",
       "    <tr>\n",
       "      <th>0</th>\n",
       "      <td>13</td>\n",
       "      <td>71.728285</td>\n",
       "    </tr>\n",
       "    <tr>\n",
       "      <th>1</th>\n",
       "      <td>2</td>\n",
       "      <td>7.329146</td>\n",
       "    </tr>\n",
       "    <tr>\n",
       "      <th>2</th>\n",
       "      <td>1</td>\n",
       "      <td>5.758449</td>\n",
       "    </tr>\n",
       "    <tr>\n",
       "      <th>3</th>\n",
       "      <td>15</td>\n",
       "      <td>4.691494</td>\n",
       "    </tr>\n",
       "    <tr>\n",
       "      <th>4</th>\n",
       "      <td>20</td>\n",
       "      <td>2.857376</td>\n",
       "    </tr>\n",
       "    <tr>\n",
       "      <th>5</th>\n",
       "      <td>14</td>\n",
       "      <td>1.779240</td>\n",
       "    </tr>\n",
       "    <tr>\n",
       "      <th>6</th>\n",
       "      <td>21</td>\n",
       "      <td>1.051439</td>\n",
       "    </tr>\n",
       "    <tr>\n",
       "      <th>7</th>\n",
       "      <td>17</td>\n",
       "      <td>0.850895</td>\n",
       "    </tr>\n",
       "    <tr>\n",
       "      <th>8</th>\n",
       "      <td>0</td>\n",
       "      <td>0.476618</td>\n",
       "    </tr>\n",
       "    <tr>\n",
       "      <th>9</th>\n",
       "      <td>11</td>\n",
       "      <td>0.441674</td>\n",
       "    </tr>\n",
       "    <tr>\n",
       "      <th>10</th>\n",
       "      <td>18</td>\n",
       "      <td>0.416945</td>\n",
       "    </tr>\n",
       "    <tr>\n",
       "      <th>11</th>\n",
       "      <td>6</td>\n",
       "      <td>0.365414</td>\n",
       "    </tr>\n",
       "    <tr>\n",
       "      <th>12</th>\n",
       "      <td>10</td>\n",
       "      <td>0.355573</td>\n",
       "    </tr>\n",
       "    <tr>\n",
       "      <th>13</th>\n",
       "      <td>19</td>\n",
       "      <td>0.321214</td>\n",
       "    </tr>\n",
       "    <tr>\n",
       "      <th>14</th>\n",
       "      <td>9</td>\n",
       "      <td>0.305156</td>\n",
       "    </tr>\n",
       "    <tr>\n",
       "      <th>15</th>\n",
       "      <td>3</td>\n",
       "      <td>0.267782</td>\n",
       "    </tr>\n",
       "    <tr>\n",
       "      <th>16</th>\n",
       "      <td>12</td>\n",
       "      <td>0.219246</td>\n",
       "    </tr>\n",
       "    <tr>\n",
       "      <th>17</th>\n",
       "      <td>4</td>\n",
       "      <td>0.193893</td>\n",
       "    </tr>\n",
       "    <tr>\n",
       "      <th>18</th>\n",
       "      <td>16</td>\n",
       "      <td>0.179957</td>\n",
       "    </tr>\n",
       "    <tr>\n",
       "      <th>19</th>\n",
       "      <td>8</td>\n",
       "      <td>0.159557</td>\n",
       "    </tr>\n",
       "    <tr>\n",
       "      <th>20</th>\n",
       "      <td>7</td>\n",
       "      <td>0.136001</td>\n",
       "    </tr>\n",
       "    <tr>\n",
       "      <th>21</th>\n",
       "      <td>5</td>\n",
       "      <td>0.114644</td>\n",
       "    </tr>\n",
       "  </tbody>\n",
       "</table>\n",
       "</div>"
      ],
      "text/plain": [
       "   Feature Id  Importances\n",
       "0          13    71.728285\n",
       "1           2     7.329146\n",
       "2           1     5.758449\n",
       "3          15     4.691494\n",
       "4          20     2.857376\n",
       "5          14     1.779240\n",
       "6          21     1.051439\n",
       "7          17     0.850895\n",
       "8           0     0.476618\n",
       "9          11     0.441674\n",
       "10         18     0.416945\n",
       "11          6     0.365414\n",
       "12         10     0.355573\n",
       "13         19     0.321214\n",
       "14          9     0.305156\n",
       "15          3     0.267782\n",
       "16         12     0.219246\n",
       "17          4     0.193893\n",
       "18         16     0.179957\n",
       "19          8     0.159557\n",
       "20          7     0.136001\n",
       "21          5     0.114644"
      ]
     },
     "execution_count": 121,
     "metadata": {},
     "output_type": "execute_result"
    }
   ],
   "source": [
    "model_cat_gscv.best_estimator_.get_feature_importance(prettified=True)"
   ]
  },
  {
   "cell_type": "markdown",
   "metadata": {},
   "source": [
    "Соотнесём с тем, какая колонка имеет какой номер"
   ]
  },
  {
   "cell_type": "code",
   "execution_count": 122,
   "metadata": {},
   "outputs": [
    {
     "name": "stdout",
     "output_type": "stream",
     "text": [
      "<class 'pandas.core.frame.DataFrame'>\n",
      "Index: 5274 entries, 8409-WQJUX to 7817-OMJNA\n",
      "Data columns (total 22 columns):\n",
      " #   Column                                  Non-Null Count  Dtype  \n",
      "---  ------                                  --------------  -----  \n",
      " 0   paperless_billing                       5274 non-null   int64  \n",
      " 1   monthly_charges                         5274 non-null   float64\n",
      " 2   total_charges                           5274 non-null   float64\n",
      " 3   senior_citizen                          5274 non-null   int64  \n",
      " 4   partner                                 5274 non-null   int64  \n",
      " 5   dependents                              5274 non-null   int64  \n",
      " 6   online_security                         5274 non-null   float64\n",
      " 7   online_backup                           5274 non-null   float64\n",
      " 8   device_protection                       5274 non-null   float64\n",
      " 9   tech_support                            5274 non-null   float64\n",
      " 10  streaming_tv                            5274 non-null   float64\n",
      " 11  streaming_movies                        5274 non-null   float64\n",
      " 12  multiple_lines                          5274 non-null   float64\n",
      " 13  period                                  5274 non-null   int64  \n",
      " 14  type_One year                           5274 non-null   uint8  \n",
      " 15  type_Two year                           5274 non-null   uint8  \n",
      " 16  payment_method_Credit card (automatic)  5274 non-null   uint8  \n",
      " 17  payment_method_Electronic check         5274 non-null   uint8  \n",
      " 18  payment_method_Mailed check             5274 non-null   uint8  \n",
      " 19  gender_Male                             5274 non-null   uint8  \n",
      " 20  internet_service_Fiber optic            5274 non-null   uint8  \n",
      " 21  internet_service_No                     5274 non-null   uint8  \n",
      "dtypes: float64(9), int64(5), uint8(8)\n",
      "memory usage: 659.2+ KB\n"
     ]
    }
   ],
   "source": [
    "X_train_one_hot.info()"
   ]
  },
  {
   "cell_type": "markdown",
   "metadata": {},
   "source": [
    "Попробуем убрать наименее значимые фичи. Отмасштабируем заново признаки без них"
   ]
  },
  {
   "cell_type": "markdown",
   "metadata": {},
   "source": [
    "Уберём 16, 8, 7 и 5 фичи"
   ]
  },
  {
   "cell_type": "code",
   "execution_count": 123,
   "metadata": {},
   "outputs": [],
   "source": [
    "X_train_one_hot = X_train_one_hot.drop(['payment_method_Credit card (automatic)', 'device_protection', \n",
    "                                        'online_backup', 'dependents'],axis=1)"
   ]
  },
  {
   "cell_type": "code",
   "execution_count": 124,
   "metadata": {},
   "outputs": [],
   "source": [
    "X_test_one_hot = X_test_one_hot.drop(['payment_method_Credit card (automatic)', 'device_protection', \n",
    "                                        'online_backup', 'dependents'],axis=1)"
   ]
  },
  {
   "cell_type": "code",
   "execution_count": 125,
   "metadata": {},
   "outputs": [],
   "source": [
    "scaler = StandardScaler()\n",
    "scaler.fit(X_train_one_hot)\n",
    "X_train_scaled = scaler.transform(X_train_one_hot)\n",
    "X_test_scaled = scaler.transform(X_test_one_hot)"
   ]
  },
  {
   "cell_type": "code",
   "execution_count": 126,
   "metadata": {},
   "outputs": [
    {
     "name": "stdout",
     "output_type": "stream",
     "text": [
      "Fitting 3 folds for each of 24 candidates, totalling 72 fits\n",
      "0:\tlearn: 0.6157563\ttotal: 1.65ms\tremaining: 1.98s\n",
      "1:\tlearn: 0.5659411\ttotal: 3.54ms\tremaining: 2.12s\n",
      "2:\tlearn: 0.5391308\ttotal: 5.46ms\tremaining: 2.18s\n",
      "3:\tlearn: 0.5220575\ttotal: 7.42ms\tremaining: 2.22s\n",
      "4:\tlearn: 0.5125508\ttotal: 9.2ms\tremaining: 2.2s\n",
      "5:\tlearn: 0.5037029\ttotal: 11.5ms\tremaining: 2.29s\n",
      "6:\tlearn: 0.4979428\ttotal: 13.5ms\tremaining: 2.31s\n",
      "7:\tlearn: 0.4844822\ttotal: 16ms\tremaining: 2.38s\n",
      "8:\tlearn: 0.4788314\ttotal: 18.3ms\tremaining: 2.42s\n",
      "9:\tlearn: 0.4756468\ttotal: 20.3ms\tremaining: 2.41s\n",
      "10:\tlearn: 0.4713688\ttotal: 22.6ms\tremaining: 2.45s\n",
      "11:\tlearn: 0.4691720\ttotal: 24.8ms\tremaining: 2.45s\n",
      "12:\tlearn: 0.4667172\ttotal: 26.9ms\tremaining: 2.45s\n",
      "13:\tlearn: 0.4650228\ttotal: 29ms\tremaining: 2.45s\n",
      "14:\tlearn: 0.4632049\ttotal: 30.9ms\tremaining: 2.44s\n",
      "15:\tlearn: 0.4615885\ttotal: 32.9ms\tremaining: 2.44s\n",
      "16:\tlearn: 0.4596534\ttotal: 35.2ms\tremaining: 2.45s\n",
      "17:\tlearn: 0.4587690\ttotal: 37.1ms\tremaining: 2.44s\n",
      "18:\tlearn: 0.4576876\ttotal: 39.4ms\tremaining: 2.45s\n",
      "19:\tlearn: 0.4567359\ttotal: 42.3ms\tremaining: 2.49s\n",
      "20:\tlearn: 0.4562796\ttotal: 44.8ms\tremaining: 2.51s\n",
      "21:\tlearn: 0.4556353\ttotal: 47.1ms\tremaining: 2.52s\n",
      "22:\tlearn: 0.4549489\ttotal: 49.1ms\tremaining: 2.51s\n",
      "23:\tlearn: 0.4545423\ttotal: 51.1ms\tremaining: 2.5s\n",
      "24:\tlearn: 0.4538915\ttotal: 52.9ms\tremaining: 2.49s\n",
      "25:\tlearn: 0.4534044\ttotal: 54.9ms\tremaining: 2.48s\n",
      "26:\tlearn: 0.4530110\ttotal: 57.3ms\tremaining: 2.49s\n",
      "27:\tlearn: 0.4507569\ttotal: 59.7ms\tremaining: 2.5s\n",
      "28:\tlearn: 0.4503412\ttotal: 61.7ms\tremaining: 2.49s\n",
      "29:\tlearn: 0.4427417\ttotal: 64.1ms\tremaining: 2.5s\n",
      "30:\tlearn: 0.4388642\ttotal: 66.4ms\tremaining: 2.5s\n",
      "31:\tlearn: 0.4377432\ttotal: 68.7ms\tremaining: 2.51s\n",
      "32:\tlearn: 0.4359488\ttotal: 71.1ms\tremaining: 2.51s\n",
      "33:\tlearn: 0.4354887\ttotal: 73.1ms\tremaining: 2.51s\n",
      "34:\tlearn: 0.4349257\ttotal: 75ms\tremaining: 2.5s\n",
      "35:\tlearn: 0.4317020\ttotal: 77.3ms\tremaining: 2.5s\n",
      "36:\tlearn: 0.4306169\ttotal: 79.3ms\tremaining: 2.49s\n",
      "37:\tlearn: 0.4299677\ttotal: 81.3ms\tremaining: 2.48s\n",
      "38:\tlearn: 0.4296441\ttotal: 83.3ms\tremaining: 2.48s\n",
      "39:\tlearn: 0.4288866\ttotal: 85.2ms\tremaining: 2.47s\n",
      "40:\tlearn: 0.4249104\ttotal: 87.2ms\tremaining: 2.46s\n",
      "41:\tlearn: 0.4246181\ttotal: 88.9ms\tremaining: 2.45s\n",
      "42:\tlearn: 0.4243106\ttotal: 90.8ms\tremaining: 2.44s\n",
      "43:\tlearn: 0.4233841\ttotal: 92.8ms\tremaining: 2.44s\n",
      "44:\tlearn: 0.4211494\ttotal: 94.6ms\tremaining: 2.43s\n",
      "45:\tlearn: 0.4202089\ttotal: 95.9ms\tremaining: 2.4s\n",
      "46:\tlearn: 0.4198063\ttotal: 97.3ms\tremaining: 2.39s\n",
      "47:\tlearn: 0.4193737\ttotal: 99.1ms\tremaining: 2.38s\n",
      "48:\tlearn: 0.4188024\ttotal: 101ms\tremaining: 2.37s\n",
      "49:\tlearn: 0.4181173\ttotal: 102ms\tremaining: 2.36s\n",
      "50:\tlearn: 0.4175854\ttotal: 104ms\tremaining: 2.34s\n",
      "51:\tlearn: 0.4172018\ttotal: 105ms\tremaining: 2.33s\n",
      "52:\tlearn: 0.4164655\ttotal: 107ms\tremaining: 2.32s\n",
      "53:\tlearn: 0.4160862\ttotal: 109ms\tremaining: 2.3s\n",
      "54:\tlearn: 0.4156428\ttotal: 110ms\tremaining: 2.3s\n",
      "55:\tlearn: 0.4151813\ttotal: 112ms\tremaining: 2.29s\n",
      "56:\tlearn: 0.4137523\ttotal: 114ms\tremaining: 2.28s\n",
      "57:\tlearn: 0.4128762\ttotal: 115ms\tremaining: 2.27s\n",
      "58:\tlearn: 0.4125194\ttotal: 117ms\tremaining: 2.26s\n",
      "59:\tlearn: 0.4085630\ttotal: 119ms\tremaining: 2.25s\n",
      "60:\tlearn: 0.4079760\ttotal: 120ms\tremaining: 2.24s\n",
      "61:\tlearn: 0.4065147\ttotal: 122ms\tremaining: 2.23s\n",
      "62:\tlearn: 0.4053126\ttotal: 123ms\tremaining: 2.23s\n",
      "63:\tlearn: 0.4046585\ttotal: 125ms\tremaining: 2.21s\n",
      "64:\tlearn: 0.4042350\ttotal: 126ms\tremaining: 2.21s\n",
      "65:\tlearn: 0.4024561\ttotal: 128ms\tremaining: 2.2s\n",
      "66:\tlearn: 0.4022084\ttotal: 130ms\tremaining: 2.2s\n",
      "67:\tlearn: 0.4016377\ttotal: 132ms\tremaining: 2.19s\n",
      "68:\tlearn: 0.4014039\ttotal: 133ms\tremaining: 2.18s\n",
      "69:\tlearn: 0.3993888\ttotal: 135ms\tremaining: 2.17s\n",
      "70:\tlearn: 0.3990320\ttotal: 136ms\tremaining: 2.16s\n",
      "71:\tlearn: 0.3984299\ttotal: 138ms\tremaining: 2.16s\n",
      "72:\tlearn: 0.3976424\ttotal: 139ms\tremaining: 2.15s\n",
      "73:\tlearn: 0.3969288\ttotal: 141ms\tremaining: 2.15s\n",
      "74:\tlearn: 0.3967720\ttotal: 143ms\tremaining: 2.15s\n",
      "75:\tlearn: 0.3961182\ttotal: 144ms\tremaining: 2.14s\n",
      "76:\tlearn: 0.3958368\ttotal: 146ms\tremaining: 2.13s\n",
      "77:\tlearn: 0.3930319\ttotal: 148ms\tremaining: 2.13s\n",
      "78:\tlearn: 0.3923883\ttotal: 149ms\tremaining: 2.12s\n",
      "79:\tlearn: 0.3921855\ttotal: 151ms\tremaining: 2.12s\n",
      "80:\tlearn: 0.3919355\ttotal: 153ms\tremaining: 2.11s\n",
      "81:\tlearn: 0.3917430\ttotal: 155ms\tremaining: 2.11s\n",
      "82:\tlearn: 0.3912188\ttotal: 156ms\tremaining: 2.1s\n",
      "83:\tlearn: 0.3910339\ttotal: 158ms\tremaining: 2.1s\n",
      "84:\tlearn: 0.3906323\ttotal: 159ms\tremaining: 2.09s\n",
      "85:\tlearn: 0.3903113\ttotal: 161ms\tremaining: 2.08s\n",
      "86:\tlearn: 0.3901405\ttotal: 162ms\tremaining: 2.08s\n",
      "87:\tlearn: 0.3899368\ttotal: 164ms\tremaining: 2.07s\n",
      "88:\tlearn: 0.3896114\ttotal: 166ms\tremaining: 2.07s\n",
      "89:\tlearn: 0.3893326\ttotal: 167ms\tremaining: 2.06s\n",
      "90:\tlearn: 0.3889373\ttotal: 169ms\tremaining: 2.05s\n",
      "91:\tlearn: 0.3887072\ttotal: 170ms\tremaining: 2.05s\n",
      "92:\tlearn: 0.3883546\ttotal: 173ms\tremaining: 2.06s\n",
      "93:\tlearn: 0.3879728\ttotal: 175ms\tremaining: 2.06s\n",
      "94:\tlearn: 0.3877956\ttotal: 177ms\tremaining: 2.06s\n",
      "95:\tlearn: 0.3871629\ttotal: 179ms\tremaining: 2.05s\n",
      "96:\tlearn: 0.3856581\ttotal: 180ms\tremaining: 2.05s\n",
      "97:\tlearn: 0.3854231\ttotal: 182ms\tremaining: 2.05s\n",
      "98:\tlearn: 0.3852884\ttotal: 184ms\tremaining: 2.04s\n",
      "99:\tlearn: 0.3832167\ttotal: 186ms\tremaining: 2.04s\n",
      "100:\tlearn: 0.3828305\ttotal: 187ms\tremaining: 2.04s\n",
      "101:\tlearn: 0.3825460\ttotal: 189ms\tremaining: 2.03s\n",
      "102:\tlearn: 0.3821335\ttotal: 190ms\tremaining: 2.03s\n",
      "103:\tlearn: 0.3801308\ttotal: 192ms\tremaining: 2.02s\n",
      "104:\tlearn: 0.3797279\ttotal: 194ms\tremaining: 2.02s\n",
      "105:\tlearn: 0.3775489\ttotal: 195ms\tremaining: 2.01s\n",
      "106:\tlearn: 0.3767066\ttotal: 197ms\tremaining: 2.01s\n",
      "107:\tlearn: 0.3738540\ttotal: 198ms\tremaining: 2.01s\n",
      "108:\tlearn: 0.3718103\ttotal: 200ms\tremaining: 2s\n",
      "109:\tlearn: 0.3710830\ttotal: 202ms\tremaining: 2s\n",
      "110:\tlearn: 0.3701204\ttotal: 203ms\tremaining: 2s\n",
      "111:\tlearn: 0.3691644\ttotal: 205ms\tremaining: 1.99s\n",
      "112:\tlearn: 0.3690241\ttotal: 207ms\tremaining: 1.99s\n",
      "113:\tlearn: 0.3685799\ttotal: 208ms\tremaining: 1.98s\n",
      "114:\tlearn: 0.3678865\ttotal: 210ms\tremaining: 1.98s\n",
      "115:\tlearn: 0.3668225\ttotal: 211ms\tremaining: 1.98s\n",
      "116:\tlearn: 0.3663863\ttotal: 213ms\tremaining: 1.97s\n",
      "117:\tlearn: 0.3661706\ttotal: 214ms\tremaining: 1.96s\n",
      "118:\tlearn: 0.3658195\ttotal: 216ms\tremaining: 1.96s\n",
      "119:\tlearn: 0.3648387\ttotal: 217ms\tremaining: 1.95s\n",
      "120:\tlearn: 0.3641107\ttotal: 219ms\tremaining: 1.95s\n",
      "121:\tlearn: 0.3638688\ttotal: 220ms\tremaining: 1.95s\n",
      "122:\tlearn: 0.3623496\ttotal: 222ms\tremaining: 1.94s\n",
      "123:\tlearn: 0.3612404\ttotal: 224ms\tremaining: 1.94s\n",
      "124:\tlearn: 0.3610746\ttotal: 225ms\tremaining: 1.94s\n",
      "125:\tlearn: 0.3600428\ttotal: 227ms\tremaining: 1.94s\n",
      "126:\tlearn: 0.3588852\ttotal: 229ms\tremaining: 1.93s\n",
      "127:\tlearn: 0.3587804\ttotal: 230ms\tremaining: 1.93s\n",
      "128:\tlearn: 0.3583451\ttotal: 232ms\tremaining: 1.92s\n",
      "129:\tlearn: 0.3581112\ttotal: 233ms\tremaining: 1.92s\n",
      "130:\tlearn: 0.3572121\ttotal: 235ms\tremaining: 1.92s\n",
      "131:\tlearn: 0.3567764\ttotal: 236ms\tremaining: 1.91s\n",
      "132:\tlearn: 0.3565849\ttotal: 238ms\tremaining: 1.91s\n",
      "133:\tlearn: 0.3563109\ttotal: 240ms\tremaining: 1.91s\n",
      "134:\tlearn: 0.3553127\ttotal: 241ms\tremaining: 1.9s\n",
      "135:\tlearn: 0.3547664\ttotal: 243ms\tremaining: 1.9s\n",
      "136:\tlearn: 0.3546040\ttotal: 245ms\tremaining: 1.9s\n",
      "137:\tlearn: 0.3543457\ttotal: 246ms\tremaining: 1.9s\n",
      "138:\tlearn: 0.3542613\ttotal: 248ms\tremaining: 1.89s\n",
      "139:\tlearn: 0.3530891\ttotal: 250ms\tremaining: 1.89s\n",
      "140:\tlearn: 0.3528331\ttotal: 251ms\tremaining: 1.88s\n",
      "141:\tlearn: 0.3525227\ttotal: 252ms\tremaining: 1.88s\n",
      "142:\tlearn: 0.3522276\ttotal: 254ms\tremaining: 1.88s\n",
      "143:\tlearn: 0.3520655\ttotal: 255ms\tremaining: 1.87s\n",
      "144:\tlearn: 0.3515766\ttotal: 257ms\tremaining: 1.87s\n",
      "145:\tlearn: 0.3511313\ttotal: 258ms\tremaining: 1.86s\n",
      "146:\tlearn: 0.3497497\ttotal: 260ms\tremaining: 1.86s\n",
      "147:\tlearn: 0.3495498\ttotal: 262ms\tremaining: 1.86s\n",
      "148:\tlearn: 0.3483647\ttotal: 263ms\tremaining: 1.86s\n",
      "149:\tlearn: 0.3481243\ttotal: 265ms\tremaining: 1.85s\n",
      "150:\tlearn: 0.3477114\ttotal: 266ms\tremaining: 1.85s\n",
      "151:\tlearn: 0.3473452\ttotal: 268ms\tremaining: 1.85s\n",
      "152:\tlearn: 0.3472672\ttotal: 269ms\tremaining: 1.84s\n",
      "153:\tlearn: 0.3462026\ttotal: 271ms\tremaining: 1.84s\n",
      "154:\tlearn: 0.3459480\ttotal: 273ms\tremaining: 1.84s\n",
      "155:\tlearn: 0.3457307\ttotal: 274ms\tremaining: 1.83s\n",
      "156:\tlearn: 0.3454870\ttotal: 276ms\tremaining: 1.83s\n",
      "157:\tlearn: 0.3453407\ttotal: 277ms\tremaining: 1.83s\n",
      "158:\tlearn: 0.3447131\ttotal: 279ms\tremaining: 1.82s\n",
      "159:\tlearn: 0.3446185\ttotal: 280ms\tremaining: 1.82s\n",
      "160:\tlearn: 0.3441950\ttotal: 282ms\tremaining: 1.82s\n",
      "161:\tlearn: 0.3440759\ttotal: 283ms\tremaining: 1.81s\n",
      "162:\tlearn: 0.3435448\ttotal: 285ms\tremaining: 1.81s\n",
      "163:\tlearn: 0.3434287\ttotal: 286ms\tremaining: 1.81s\n",
      "164:\tlearn: 0.3432216\ttotal: 288ms\tremaining: 1.8s\n",
      "165:\tlearn: 0.3428021\ttotal: 289ms\tremaining: 1.8s\n",
      "166:\tlearn: 0.3426596\ttotal: 291ms\tremaining: 1.8s\n",
      "167:\tlearn: 0.3425235\ttotal: 293ms\tremaining: 1.8s\n",
      "168:\tlearn: 0.3423119\ttotal: 294ms\tremaining: 1.79s\n",
      "169:\tlearn: 0.3422456\ttotal: 296ms\tremaining: 1.79s\n",
      "170:\tlearn: 0.3421083\ttotal: 298ms\tremaining: 1.79s\n",
      "171:\tlearn: 0.3418048\ttotal: 299ms\tremaining: 1.79s\n",
      "172:\tlearn: 0.3417140\ttotal: 300ms\tremaining: 1.78s\n",
      "173:\tlearn: 0.3413932\ttotal: 302ms\tremaining: 1.78s\n",
      "174:\tlearn: 0.3412402\ttotal: 304ms\tremaining: 1.78s\n",
      "175:\tlearn: 0.3409163\ttotal: 305ms\tremaining: 1.78s\n",
      "176:\tlearn: 0.3407477\ttotal: 307ms\tremaining: 1.77s\n",
      "177:\tlearn: 0.3406465\ttotal: 308ms\tremaining: 1.77s\n",
      "178:\tlearn: 0.3403594\ttotal: 310ms\tremaining: 1.77s\n",
      "179:\tlearn: 0.3394695\ttotal: 312ms\tremaining: 1.77s\n",
      "180:\tlearn: 0.3393945\ttotal: 313ms\tremaining: 1.76s\n",
      "181:\tlearn: 0.3392648\ttotal: 315ms\tremaining: 1.76s\n",
      "182:\tlearn: 0.3390021\ttotal: 316ms\tremaining: 1.76s\n",
      "183:\tlearn: 0.3375486\ttotal: 318ms\tremaining: 1.75s\n",
      "184:\tlearn: 0.3360640\ttotal: 319ms\tremaining: 1.75s\n",
      "185:\tlearn: 0.3358558\ttotal: 321ms\tremaining: 1.75s\n",
      "186:\tlearn: 0.3357400\ttotal: 322ms\tremaining: 1.75s\n",
      "187:\tlearn: 0.3356148\ttotal: 324ms\tremaining: 1.74s\n",
      "188:\tlearn: 0.3354213\ttotal: 326ms\tremaining: 1.74s\n",
      "189:\tlearn: 0.3352533\ttotal: 327ms\tremaining: 1.74s\n",
      "190:\tlearn: 0.3349459\ttotal: 329ms\tremaining: 1.74s\n",
      "191:\tlearn: 0.3347714\ttotal: 330ms\tremaining: 1.73s\n",
      "192:\tlearn: 0.3345116\ttotal: 332ms\tremaining: 1.73s\n",
      "193:\tlearn: 0.3338462\ttotal: 333ms\tremaining: 1.73s\n",
      "194:\tlearn: 0.3321347\ttotal: 335ms\tremaining: 1.73s\n",
      "195:\tlearn: 0.3304057\ttotal: 337ms\tremaining: 1.72s\n",
      "196:\tlearn: 0.3301853\ttotal: 338ms\tremaining: 1.72s\n",
      "197:\tlearn: 0.3298623\ttotal: 339ms\tremaining: 1.72s\n",
      "198:\tlearn: 0.3289030\ttotal: 341ms\tremaining: 1.72s\n",
      "199:\tlearn: 0.3286497\ttotal: 343ms\tremaining: 1.72s\n",
      "200:\tlearn: 0.3285191\ttotal: 345ms\tremaining: 1.72s\n",
      "201:\tlearn: 0.3281770\ttotal: 348ms\tremaining: 1.72s\n",
      "202:\tlearn: 0.3272206\ttotal: 349ms\tremaining: 1.72s\n",
      "203:\tlearn: 0.3262765\ttotal: 351ms\tremaining: 1.71s\n",
      "204:\tlearn: 0.3261319\ttotal: 353ms\tremaining: 1.71s\n",
      "205:\tlearn: 0.3257706\ttotal: 355ms\tremaining: 1.71s\n",
      "206:\tlearn: 0.3256285\ttotal: 356ms\tremaining: 1.71s\n",
      "207:\tlearn: 0.3252288\ttotal: 358ms\tremaining: 1.71s\n",
      "208:\tlearn: 0.3250731\ttotal: 359ms\tremaining: 1.7s\n",
      "209:\tlearn: 0.3246396\ttotal: 361ms\tremaining: 1.7s\n",
      "210:\tlearn: 0.3244074\ttotal: 362ms\tremaining: 1.7s\n",
      "211:\tlearn: 0.3241659\ttotal: 364ms\tremaining: 1.7s\n",
      "212:\tlearn: 0.3240374\ttotal: 365ms\tremaining: 1.69s\n",
      "213:\tlearn: 0.3239370\ttotal: 367ms\tremaining: 1.69s\n",
      "214:\tlearn: 0.3230623\ttotal: 369ms\tremaining: 1.69s\n",
      "215:\tlearn: 0.3221792\ttotal: 370ms\tremaining: 1.69s\n",
      "216:\tlearn: 0.3220265\ttotal: 372ms\tremaining: 1.68s\n",
      "217:\tlearn: 0.3211751\ttotal: 373ms\tremaining: 1.68s\n",
      "218:\tlearn: 0.3209258\ttotal: 375ms\tremaining: 1.68s\n",
      "219:\tlearn: 0.3208320\ttotal: 376ms\tremaining: 1.68s\n",
      "220:\tlearn: 0.3205519\ttotal: 378ms\tremaining: 1.67s\n",
      "221:\tlearn: 0.3203969\ttotal: 380ms\tremaining: 1.67s\n",
      "222:\tlearn: 0.3201814\ttotal: 381ms\tremaining: 1.67s\n",
      "223:\tlearn: 0.3200263\ttotal: 383ms\tremaining: 1.67s\n",
      "224:\tlearn: 0.3199707\ttotal: 385ms\tremaining: 1.67s\n",
      "225:\tlearn: 0.3198141\ttotal: 387ms\tremaining: 1.67s\n",
      "226:\tlearn: 0.3196764\ttotal: 389ms\tremaining: 1.67s\n",
      "227:\tlearn: 0.3195240\ttotal: 390ms\tremaining: 1.66s\n",
      "228:\tlearn: 0.3181729\ttotal: 392ms\tremaining: 1.66s\n",
      "229:\tlearn: 0.3180560\ttotal: 393ms\tremaining: 1.66s\n",
      "230:\tlearn: 0.3179176\ttotal: 395ms\tremaining: 1.66s\n",
      "231:\tlearn: 0.3176564\ttotal: 396ms\tremaining: 1.65s\n",
      "232:\tlearn: 0.3173095\ttotal: 398ms\tremaining: 1.65s\n",
      "233:\tlearn: 0.3168299\ttotal: 400ms\tremaining: 1.65s\n",
      "234:\tlearn: 0.3165689\ttotal: 401ms\tremaining: 1.65s\n",
      "235:\tlearn: 0.3164503\ttotal: 403ms\tremaining: 1.64s\n",
      "236:\tlearn: 0.3162701\ttotal: 404ms\tremaining: 1.64s\n",
      "237:\tlearn: 0.3160792\ttotal: 405ms\tremaining: 1.64s\n",
      "238:\tlearn: 0.3149328\ttotal: 407ms\tremaining: 1.64s\n",
      "239:\tlearn: 0.3139279\ttotal: 409ms\tremaining: 1.64s\n",
      "240:\tlearn: 0.3124270\ttotal: 411ms\tremaining: 1.64s\n",
      "241:\tlearn: 0.3112534\ttotal: 413ms\tremaining: 1.64s\n",
      "242:\tlearn: 0.3110912\ttotal: 415ms\tremaining: 1.63s\n",
      "243:\tlearn: 0.3108945\ttotal: 417ms\tremaining: 1.63s\n",
      "244:\tlearn: 0.3107925\ttotal: 418ms\tremaining: 1.63s\n",
      "245:\tlearn: 0.3106154\ttotal: 420ms\tremaining: 1.63s\n",
      "246:\tlearn: 0.3104690\ttotal: 422ms\tremaining: 1.63s\n",
      "247:\tlearn: 0.3103479\ttotal: 423ms\tremaining: 1.62s\n",
      "248:\tlearn: 0.3099596\ttotal: 425ms\tremaining: 1.62s\n",
      "249:\tlearn: 0.3099117\ttotal: 427ms\tremaining: 1.62s\n",
      "250:\tlearn: 0.3098202\ttotal: 429ms\tremaining: 1.62s\n",
      "251:\tlearn: 0.3096277\ttotal: 430ms\tremaining: 1.62s\n",
      "252:\tlearn: 0.3094842\ttotal: 431ms\tremaining: 1.61s\n",
      "253:\tlearn: 0.3092932\ttotal: 433ms\tremaining: 1.61s\n",
      "254:\tlearn: 0.3085701\ttotal: 435ms\tremaining: 1.61s\n",
      "255:\tlearn: 0.3084167\ttotal: 437ms\tremaining: 1.61s\n",
      "256:\tlearn: 0.3077732\ttotal: 439ms\tremaining: 1.61s\n",
      "257:\tlearn: 0.3076809\ttotal: 440ms\tremaining: 1.61s\n",
      "258:\tlearn: 0.3075480\ttotal: 442ms\tremaining: 1.6s\n",
      "259:\tlearn: 0.3071720\ttotal: 444ms\tremaining: 1.6s\n",
      "260:\tlearn: 0.3070634\ttotal: 445ms\tremaining: 1.6s\n",
      "261:\tlearn: 0.3070049\ttotal: 447ms\tremaining: 1.6s\n",
      "262:\tlearn: 0.3069299\ttotal: 449ms\tremaining: 1.6s\n",
      "263:\tlearn: 0.3066309\ttotal: 450ms\tremaining: 1.59s\n",
      "264:\tlearn: 0.3051919\ttotal: 452ms\tremaining: 1.59s\n",
      "265:\tlearn: 0.3050810\ttotal: 453ms\tremaining: 1.59s\n",
      "266:\tlearn: 0.3049302\ttotal: 454ms\tremaining: 1.59s\n",
      "267:\tlearn: 0.3039883\ttotal: 456ms\tremaining: 1.58s\n",
      "268:\tlearn: 0.3038841\ttotal: 458ms\tremaining: 1.58s\n",
      "269:\tlearn: 0.3037850\ttotal: 459ms\tremaining: 1.58s\n",
      "270:\tlearn: 0.3036368\ttotal: 461ms\tremaining: 1.58s\n",
      "271:\tlearn: 0.3033966\ttotal: 462ms\tremaining: 1.58s\n",
      "272:\tlearn: 0.3031955\ttotal: 463ms\tremaining: 1.57s\n",
      "273:\tlearn: 0.3030513\ttotal: 465ms\tremaining: 1.57s\n",
      "274:\tlearn: 0.3029355\ttotal: 466ms\tremaining: 1.57s\n",
      "275:\tlearn: 0.3027212\ttotal: 468ms\tremaining: 1.57s\n",
      "276:\tlearn: 0.3025025\ttotal: 470ms\tremaining: 1.56s\n",
      "277:\tlearn: 0.3024430\ttotal: 471ms\tremaining: 1.56s\n",
      "278:\tlearn: 0.3023750\ttotal: 473ms\tremaining: 1.56s\n",
      "279:\tlearn: 0.3021807\ttotal: 475ms\tremaining: 1.56s\n",
      "280:\tlearn: 0.3021042\ttotal: 477ms\tremaining: 1.56s\n",
      "281:\tlearn: 0.3020435\ttotal: 478ms\tremaining: 1.55s\n",
      "282:\tlearn: 0.3019357\ttotal: 479ms\tremaining: 1.55s\n",
      "283:\tlearn: 0.3011963\ttotal: 481ms\tremaining: 1.55s\n",
      "284:\tlearn: 0.3011017\ttotal: 483ms\tremaining: 1.55s\n",
      "285:\tlearn: 0.3010189\ttotal: 484ms\tremaining: 1.55s\n",
      "286:\tlearn: 0.3008901\ttotal: 486ms\tremaining: 1.54s\n",
      "287:\tlearn: 0.3003808\ttotal: 488ms\tremaining: 1.54s\n",
      "288:\tlearn: 0.3000983\ttotal: 489ms\tremaining: 1.54s\n",
      "289:\tlearn: 0.2999245\ttotal: 491ms\tremaining: 1.54s\n",
      "290:\tlearn: 0.2992851\ttotal: 492ms\tremaining: 1.54s\n",
      "291:\tlearn: 0.2988352\ttotal: 494ms\tremaining: 1.54s\n",
      "292:\tlearn: 0.2978678\ttotal: 496ms\tremaining: 1.53s\n",
      "293:\tlearn: 0.2973606\ttotal: 497ms\tremaining: 1.53s\n",
      "294:\tlearn: 0.2972483\ttotal: 499ms\tremaining: 1.53s\n",
      "295:\tlearn: 0.2971058\ttotal: 501ms\tremaining: 1.53s\n",
      "296:\tlearn: 0.2968848\ttotal: 502ms\tremaining: 1.53s\n",
      "297:\tlearn: 0.2967818\ttotal: 504ms\tremaining: 1.52s\n",
      "298:\tlearn: 0.2965888\ttotal: 505ms\tremaining: 1.52s\n",
      "299:\tlearn: 0.2964152\ttotal: 507ms\tremaining: 1.52s\n",
      "300:\tlearn: 0.2962686\ttotal: 508ms\tremaining: 1.52s\n",
      "301:\tlearn: 0.2961284\ttotal: 509ms\tremaining: 1.51s\n",
      "302:\tlearn: 0.2959204\ttotal: 512ms\tremaining: 1.51s\n",
      "303:\tlearn: 0.2958744\ttotal: 514ms\tremaining: 1.51s\n",
      "304:\tlearn: 0.2957923\ttotal: 515ms\tremaining: 1.51s\n",
      "305:\tlearn: 0.2956179\ttotal: 517ms\tremaining: 1.51s\n",
      "306:\tlearn: 0.2954729\ttotal: 519ms\tremaining: 1.51s\n",
      "307:\tlearn: 0.2953860\ttotal: 520ms\tremaining: 1.51s\n",
      "308:\tlearn: 0.2952385\ttotal: 522ms\tremaining: 1.5s\n",
      "309:\tlearn: 0.2946539\ttotal: 523ms\tremaining: 1.5s\n",
      "310:\tlearn: 0.2945540\ttotal: 525ms\tremaining: 1.5s\n",
      "311:\tlearn: 0.2943849\ttotal: 526ms\tremaining: 1.5s\n",
      "312:\tlearn: 0.2942294\ttotal: 528ms\tremaining: 1.5s\n",
      "313:\tlearn: 0.2934619\ttotal: 529ms\tremaining: 1.49s\n",
      "314:\tlearn: 0.2933736\ttotal: 531ms\tremaining: 1.49s\n",
      "315:\tlearn: 0.2931257\ttotal: 533ms\tremaining: 1.49s\n",
      "316:\tlearn: 0.2929461\ttotal: 534ms\tremaining: 1.49s\n",
      "317:\tlearn: 0.2928082\ttotal: 536ms\tremaining: 1.49s\n",
      "318:\tlearn: 0.2927435\ttotal: 537ms\tremaining: 1.48s\n",
      "319:\tlearn: 0.2925696\ttotal: 539ms\tremaining: 1.48s\n",
      "320:\tlearn: 0.2919116\ttotal: 541ms\tremaining: 1.48s\n",
      "321:\tlearn: 0.2912755\ttotal: 542ms\tremaining: 1.48s\n",
      "322:\tlearn: 0.2911391\ttotal: 544ms\tremaining: 1.48s\n",
      "323:\tlearn: 0.2904056\ttotal: 546ms\tremaining: 1.48s\n",
      "324:\tlearn: 0.2901995\ttotal: 547ms\tremaining: 1.47s\n",
      "325:\tlearn: 0.2900258\ttotal: 549ms\tremaining: 1.47s\n",
      "326:\tlearn: 0.2895866\ttotal: 550ms\tremaining: 1.47s\n",
      "327:\tlearn: 0.2894683\ttotal: 552ms\tremaining: 1.47s\n",
      "328:\tlearn: 0.2886854\ttotal: 554ms\tremaining: 1.47s\n",
      "329:\tlearn: 0.2884348\ttotal: 555ms\tremaining: 1.46s\n",
      "330:\tlearn: 0.2880466\ttotal: 557ms\tremaining: 1.46s\n",
      "331:\tlearn: 0.2877610\ttotal: 559ms\tremaining: 1.46s\n",
      "332:\tlearn: 0.2874417\ttotal: 560ms\tremaining: 1.46s\n",
      "333:\tlearn: 0.2872932\ttotal: 562ms\tremaining: 1.46s\n",
      "334:\tlearn: 0.2869550\ttotal: 564ms\tremaining: 1.46s\n",
      "335:\tlearn: 0.2868958\ttotal: 565ms\tremaining: 1.45s\n",
      "336:\tlearn: 0.2862585\ttotal: 567ms\tremaining: 1.45s\n",
      "337:\tlearn: 0.2857489\ttotal: 569ms\tremaining: 1.45s\n",
      "338:\tlearn: 0.2856576\ttotal: 570ms\tremaining: 1.45s\n",
      "339:\tlearn: 0.2855328\ttotal: 572ms\tremaining: 1.45s\n",
      "340:\tlearn: 0.2854837\ttotal: 574ms\tremaining: 1.44s\n",
      "341:\tlearn: 0.2847453\ttotal: 575ms\tremaining: 1.44s\n",
      "342:\tlearn: 0.2847191\ttotal: 577ms\tremaining: 1.44s\n",
      "343:\tlearn: 0.2845778\ttotal: 578ms\tremaining: 1.44s\n",
      "344:\tlearn: 0.2845113\ttotal: 580ms\tremaining: 1.44s\n",
      "345:\tlearn: 0.2844600\ttotal: 582ms\tremaining: 1.44s\n",
      "346:\tlearn: 0.2840362\ttotal: 584ms\tremaining: 1.43s\n",
      "347:\tlearn: 0.2839360\ttotal: 585ms\tremaining: 1.43s\n",
      "348:\tlearn: 0.2837955\ttotal: 586ms\tremaining: 1.43s\n",
      "349:\tlearn: 0.2836883\ttotal: 588ms\tremaining: 1.43s\n",
      "350:\tlearn: 0.2830363\ttotal: 590ms\tremaining: 1.43s\n",
      "351:\tlearn: 0.2829131\ttotal: 591ms\tremaining: 1.42s\n",
      "352:\tlearn: 0.2826760\ttotal: 593ms\tremaining: 1.42s\n",
      "353:\tlearn: 0.2825657\ttotal: 594ms\tremaining: 1.42s\n",
      "354:\tlearn: 0.2823598\ttotal: 596ms\tremaining: 1.42s\n",
      "355:\tlearn: 0.2822127\ttotal: 598ms\tremaining: 1.42s\n",
      "356:\tlearn: 0.2821314\ttotal: 599ms\tremaining: 1.41s\n",
      "357:\tlearn: 0.2820889\ttotal: 601ms\tremaining: 1.41s\n",
      "358:\tlearn: 0.2819410\ttotal: 602ms\tremaining: 1.41s\n",
      "359:\tlearn: 0.2818422\ttotal: 604ms\tremaining: 1.41s\n",
      "360:\tlearn: 0.2817438\ttotal: 605ms\tremaining: 1.41s\n",
      "361:\tlearn: 0.2816250\ttotal: 607ms\tremaining: 1.4s\n",
      "362:\tlearn: 0.2813968\ttotal: 608ms\tremaining: 1.4s\n",
      "363:\tlearn: 0.2804466\ttotal: 610ms\tremaining: 1.4s\n",
      "364:\tlearn: 0.2801938\ttotal: 612ms\tremaining: 1.4s\n",
      "365:\tlearn: 0.2801169\ttotal: 613ms\tremaining: 1.4s\n",
      "366:\tlearn: 0.2794449\ttotal: 615ms\tremaining: 1.4s\n",
      "367:\tlearn: 0.2793334\ttotal: 617ms\tremaining: 1.39s\n",
      "368:\tlearn: 0.2789300\ttotal: 619ms\tremaining: 1.39s\n",
      "369:\tlearn: 0.2787556\ttotal: 620ms\tremaining: 1.39s\n",
      "370:\tlearn: 0.2787045\ttotal: 622ms\tremaining: 1.39s\n",
      "371:\tlearn: 0.2786189\ttotal: 623ms\tremaining: 1.39s\n",
      "372:\tlearn: 0.2777782\ttotal: 625ms\tremaining: 1.39s\n",
      "373:\tlearn: 0.2776608\ttotal: 626ms\tremaining: 1.38s\n",
      "374:\tlearn: 0.2775299\ttotal: 628ms\tremaining: 1.38s\n",
      "375:\tlearn: 0.2773865\ttotal: 630ms\tremaining: 1.38s\n",
      "376:\tlearn: 0.2772624\ttotal: 631ms\tremaining: 1.38s\n",
      "377:\tlearn: 0.2765489\ttotal: 633ms\tremaining: 1.38s\n",
      "378:\tlearn: 0.2765125\ttotal: 635ms\tremaining: 1.38s\n",
      "379:\tlearn: 0.2761294\ttotal: 637ms\tremaining: 1.37s\n",
      "380:\tlearn: 0.2759931\ttotal: 638ms\tremaining: 1.37s\n",
      "381:\tlearn: 0.2758478\ttotal: 639ms\tremaining: 1.37s\n",
      "382:\tlearn: 0.2757204\ttotal: 641ms\tremaining: 1.37s\n",
      "383:\tlearn: 0.2755823\ttotal: 642ms\tremaining: 1.36s\n",
      "384:\tlearn: 0.2747740\ttotal: 644ms\tremaining: 1.36s\n",
      "385:\tlearn: 0.2743798\ttotal: 646ms\tremaining: 1.36s\n",
      "386:\tlearn: 0.2736595\ttotal: 648ms\tremaining: 1.36s\n",
      "387:\tlearn: 0.2734790\ttotal: 649ms\tremaining: 1.36s\n",
      "388:\tlearn: 0.2733037\ttotal: 651ms\tremaining: 1.36s\n",
      "389:\tlearn: 0.2728727\ttotal: 652ms\tremaining: 1.35s\n",
      "390:\tlearn: 0.2727868\ttotal: 654ms\tremaining: 1.35s\n",
      "391:\tlearn: 0.2727332\ttotal: 656ms\tremaining: 1.35s\n",
      "392:\tlearn: 0.2725697\ttotal: 657ms\tremaining: 1.35s\n",
      "393:\tlearn: 0.2724111\ttotal: 659ms\tremaining: 1.35s\n",
      "394:\tlearn: 0.2722923\ttotal: 660ms\tremaining: 1.34s\n",
      "395:\tlearn: 0.2721228\ttotal: 662ms\tremaining: 1.34s\n",
      "396:\tlearn: 0.2720586\ttotal: 664ms\tremaining: 1.34s\n",
      "397:\tlearn: 0.2719704\ttotal: 665ms\tremaining: 1.34s\n",
      "398:\tlearn: 0.2719323\ttotal: 667ms\tremaining: 1.34s\n",
      "399:\tlearn: 0.2715600\ttotal: 669ms\tremaining: 1.34s\n",
      "400:\tlearn: 0.2714441\ttotal: 671ms\tremaining: 1.34s\n",
      "401:\tlearn: 0.2712967\ttotal: 672ms\tremaining: 1.33s\n",
      "402:\tlearn: 0.2711740\ttotal: 674ms\tremaining: 1.33s\n",
      "403:\tlearn: 0.2711280\ttotal: 675ms\tremaining: 1.33s\n",
      "404:\tlearn: 0.2710693\ttotal: 677ms\tremaining: 1.33s\n",
      "405:\tlearn: 0.2707338\ttotal: 679ms\tremaining: 1.33s\n",
      "406:\tlearn: 0.2706350\ttotal: 681ms\tremaining: 1.33s\n",
      "407:\tlearn: 0.2699385\ttotal: 683ms\tremaining: 1.32s\n",
      "408:\tlearn: 0.2699091\ttotal: 685ms\tremaining: 1.32s\n",
      "409:\tlearn: 0.2691594\ttotal: 687ms\tremaining: 1.32s\n",
      "410:\tlearn: 0.2690403\ttotal: 689ms\tremaining: 1.32s\n",
      "411:\tlearn: 0.2688810\ttotal: 690ms\tremaining: 1.32s\n",
      "412:\tlearn: 0.2687988\ttotal: 692ms\tremaining: 1.32s\n",
      "413:\tlearn: 0.2687396\ttotal: 694ms\tremaining: 1.32s\n",
      "414:\tlearn: 0.2684138\ttotal: 695ms\tremaining: 1.31s\n",
      "415:\tlearn: 0.2682921\ttotal: 697ms\tremaining: 1.31s\n",
      "416:\tlearn: 0.2682072\ttotal: 698ms\tremaining: 1.31s\n",
      "417:\tlearn: 0.2679707\ttotal: 700ms\tremaining: 1.31s\n",
      "418:\tlearn: 0.2679091\ttotal: 702ms\tremaining: 1.31s\n",
      "419:\tlearn: 0.2678293\ttotal: 703ms\tremaining: 1.31s\n",
      "420:\tlearn: 0.2677776\ttotal: 705ms\tremaining: 1.3s\n",
      "421:\tlearn: 0.2675800\ttotal: 707ms\tremaining: 1.3s\n",
      "422:\tlearn: 0.2675180\ttotal: 709ms\tremaining: 1.3s\n",
      "423:\tlearn: 0.2674576\ttotal: 710ms\tremaining: 1.3s\n",
      "424:\tlearn: 0.2674155\ttotal: 712ms\tremaining: 1.3s\n",
      "425:\tlearn: 0.2673580\ttotal: 714ms\tremaining: 1.3s\n",
      "426:\tlearn: 0.2672999\ttotal: 715ms\tremaining: 1.29s\n",
      "427:\tlearn: 0.2671790\ttotal: 717ms\tremaining: 1.29s\n",
      "428:\tlearn: 0.2665374\ttotal: 719ms\tremaining: 1.29s\n",
      "429:\tlearn: 0.2661392\ttotal: 721ms\tremaining: 1.29s\n",
      "430:\tlearn: 0.2660826\ttotal: 723ms\tremaining: 1.29s\n",
      "431:\tlearn: 0.2657431\ttotal: 724ms\tremaining: 1.29s\n",
      "432:\tlearn: 0.2650515\ttotal: 726ms\tremaining: 1.29s\n",
      "433:\tlearn: 0.2649789\ttotal: 728ms\tremaining: 1.28s\n",
      "434:\tlearn: 0.2647958\ttotal: 729ms\tremaining: 1.28s\n",
      "435:\tlearn: 0.2641280\ttotal: 731ms\tremaining: 1.28s\n",
      "436:\tlearn: 0.2640523\ttotal: 733ms\tremaining: 1.28s\n",
      "437:\tlearn: 0.2639547\ttotal: 734ms\tremaining: 1.28s\n",
      "438:\tlearn: 0.2636023\ttotal: 736ms\tremaining: 1.28s\n",
      "439:\tlearn: 0.2635452\ttotal: 738ms\tremaining: 1.27s\n",
      "440:\tlearn: 0.2631272\ttotal: 740ms\tremaining: 1.27s\n",
      "441:\tlearn: 0.2630153\ttotal: 741ms\tremaining: 1.27s\n",
      "442:\tlearn: 0.2629047\ttotal: 743ms\tremaining: 1.27s\n",
      "443:\tlearn: 0.2627783\ttotal: 745ms\tremaining: 1.27s\n",
      "444:\tlearn: 0.2627055\ttotal: 746ms\tremaining: 1.27s\n",
      "445:\tlearn: 0.2625511\ttotal: 748ms\tremaining: 1.26s\n",
      "446:\tlearn: 0.2624860\ttotal: 750ms\tremaining: 1.26s\n",
      "447:\tlearn: 0.2620238\ttotal: 752ms\tremaining: 1.26s\n",
      "448:\tlearn: 0.2618404\ttotal: 753ms\tremaining: 1.26s\n",
      "449:\tlearn: 0.2617908\ttotal: 755ms\tremaining: 1.26s\n",
      "450:\tlearn: 0.2616293\ttotal: 756ms\tremaining: 1.26s\n",
      "451:\tlearn: 0.2615725\ttotal: 758ms\tremaining: 1.25s\n",
      "452:\tlearn: 0.2615245\ttotal: 760ms\tremaining: 1.25s\n",
      "453:\tlearn: 0.2609569\ttotal: 762ms\tremaining: 1.25s\n",
      "454:\tlearn: 0.2607992\ttotal: 763ms\tremaining: 1.25s\n",
      "455:\tlearn: 0.2607499\ttotal: 765ms\tremaining: 1.25s\n",
      "456:\tlearn: 0.2606399\ttotal: 767ms\tremaining: 1.25s\n",
      "457:\tlearn: 0.2605151\ttotal: 768ms\tremaining: 1.24s\n",
      "458:\tlearn: 0.2604926\ttotal: 770ms\tremaining: 1.24s\n",
      "459:\tlearn: 0.2604237\ttotal: 772ms\tremaining: 1.24s\n",
      "460:\tlearn: 0.2600812\ttotal: 774ms\tremaining: 1.24s\n",
      "461:\tlearn: 0.2599704\ttotal: 775ms\tremaining: 1.24s\n",
      "462:\tlearn: 0.2593181\ttotal: 777ms\tremaining: 1.24s\n",
      "463:\tlearn: 0.2592711\ttotal: 779ms\tremaining: 1.24s\n",
      "464:\tlearn: 0.2591756\ttotal: 780ms\tremaining: 1.23s\n",
      "465:\tlearn: 0.2591315\ttotal: 782ms\tremaining: 1.23s\n",
      "466:\tlearn: 0.2590329\ttotal: 783ms\tremaining: 1.23s\n",
      "467:\tlearn: 0.2589984\ttotal: 785ms\tremaining: 1.23s\n",
      "468:\tlearn: 0.2589296\ttotal: 786ms\tremaining: 1.23s\n",
      "469:\tlearn: 0.2587647\ttotal: 788ms\tremaining: 1.22s\n",
      "470:\tlearn: 0.2586654\ttotal: 789ms\tremaining: 1.22s\n",
      "471:\tlearn: 0.2584587\ttotal: 791ms\tremaining: 1.22s\n",
      "472:\tlearn: 0.2583808\ttotal: 793ms\tremaining: 1.22s\n",
      "473:\tlearn: 0.2582837\ttotal: 794ms\tremaining: 1.22s\n",
      "474:\tlearn: 0.2579882\ttotal: 796ms\tremaining: 1.21s\n",
      "475:\tlearn: 0.2577434\ttotal: 798ms\tremaining: 1.21s\n",
      "476:\tlearn: 0.2573095\ttotal: 799ms\tremaining: 1.21s\n",
      "477:\tlearn: 0.2572361\ttotal: 801ms\tremaining: 1.21s\n",
      "478:\tlearn: 0.2571809\ttotal: 803ms\tremaining: 1.21s\n",
      "479:\tlearn: 0.2571376\ttotal: 804ms\tremaining: 1.21s\n",
      "480:\tlearn: 0.2571009\ttotal: 806ms\tremaining: 1.2s\n",
      "481:\tlearn: 0.2568937\ttotal: 808ms\tremaining: 1.2s\n",
      "482:\tlearn: 0.2567414\ttotal: 809ms\tremaining: 1.2s\n",
      "483:\tlearn: 0.2566457\ttotal: 811ms\tremaining: 1.2s\n",
      "484:\tlearn: 0.2565253\ttotal: 812ms\tremaining: 1.2s\n",
      "485:\tlearn: 0.2564815\ttotal: 814ms\tremaining: 1.2s\n",
      "486:\tlearn: 0.2564491\ttotal: 815ms\tremaining: 1.19s\n",
      "487:\tlearn: 0.2563003\ttotal: 817ms\tremaining: 1.19s\n",
      "488:\tlearn: 0.2562586\ttotal: 819ms\tremaining: 1.19s\n",
      "489:\tlearn: 0.2562070\ttotal: 821ms\tremaining: 1.19s\n",
      "490:\tlearn: 0.2561548\ttotal: 822ms\tremaining: 1.19s\n",
      "491:\tlearn: 0.2560153\ttotal: 824ms\tremaining: 1.19s\n",
      "492:\tlearn: 0.2559720\ttotal: 825ms\tremaining: 1.18s\n",
      "493:\tlearn: 0.2558833\ttotal: 827ms\tremaining: 1.18s\n",
      "494:\tlearn: 0.2558012\ttotal: 828ms\tremaining: 1.18s\n",
      "495:\tlearn: 0.2553809\ttotal: 830ms\tremaining: 1.18s\n",
      "496:\tlearn: 0.2550317\ttotal: 832ms\tremaining: 1.18s\n",
      "497:\tlearn: 0.2547620\ttotal: 833ms\tremaining: 1.17s\n",
      "498:\tlearn: 0.2546420\ttotal: 835ms\tremaining: 1.17s\n",
      "499:\tlearn: 0.2545587\ttotal: 837ms\tremaining: 1.17s\n",
      "500:\tlearn: 0.2544913\ttotal: 838ms\tremaining: 1.17s\n",
      "501:\tlearn: 0.2544383\ttotal: 840ms\tremaining: 1.17s\n",
      "502:\tlearn: 0.2542781\ttotal: 842ms\tremaining: 1.17s\n",
      "503:\tlearn: 0.2542552\ttotal: 843ms\tremaining: 1.16s\n",
      "504:\tlearn: 0.2541991\ttotal: 845ms\tremaining: 1.16s\n",
      "505:\tlearn: 0.2540952\ttotal: 847ms\tremaining: 1.16s\n",
      "506:\tlearn: 0.2538221\ttotal: 848ms\tremaining: 1.16s\n",
      "507:\tlearn: 0.2537301\ttotal: 850ms\tremaining: 1.16s\n",
      "508:\tlearn: 0.2536418\ttotal: 851ms\tremaining: 1.16s\n",
      "509:\tlearn: 0.2535453\ttotal: 853ms\tremaining: 1.15s\n",
      "510:\tlearn: 0.2535028\ttotal: 855ms\tremaining: 1.15s\n",
      "511:\tlearn: 0.2532116\ttotal: 856ms\tremaining: 1.15s\n",
      "512:\tlearn: 0.2531169\ttotal: 858ms\tremaining: 1.15s\n",
      "513:\tlearn: 0.2530541\ttotal: 859ms\tremaining: 1.15s\n",
      "514:\tlearn: 0.2529740\ttotal: 861ms\tremaining: 1.15s\n",
      "515:\tlearn: 0.2528793\ttotal: 862ms\tremaining: 1.14s\n",
      "516:\tlearn: 0.2526178\ttotal: 864ms\tremaining: 1.14s\n",
      "517:\tlearn: 0.2524421\ttotal: 866ms\tremaining: 1.14s\n",
      "518:\tlearn: 0.2523342\ttotal: 868ms\tremaining: 1.14s\n",
      "519:\tlearn: 0.2522548\ttotal: 870ms\tremaining: 1.14s\n",
      "520:\tlearn: 0.2522061\ttotal: 871ms\tremaining: 1.14s\n",
      "521:\tlearn: 0.2521432\ttotal: 873ms\tremaining: 1.13s\n",
      "522:\tlearn: 0.2520357\ttotal: 875ms\tremaining: 1.13s\n",
      "523:\tlearn: 0.2519970\ttotal: 876ms\tremaining: 1.13s\n",
      "524:\tlearn: 0.2518168\ttotal: 878ms\tremaining: 1.13s\n",
      "525:\tlearn: 0.2516947\ttotal: 879ms\tremaining: 1.13s\n",
      "526:\tlearn: 0.2516203\ttotal: 881ms\tremaining: 1.12s\n",
      "527:\tlearn: 0.2515648\ttotal: 882ms\tremaining: 1.12s\n",
      "528:\tlearn: 0.2514835\ttotal: 884ms\tremaining: 1.12s\n",
      "529:\tlearn: 0.2510605\ttotal: 886ms\tremaining: 1.12s\n",
      "530:\tlearn: 0.2510027\ttotal: 888ms\tremaining: 1.12s\n",
      "531:\tlearn: 0.2509499\ttotal: 889ms\tremaining: 1.12s\n",
      "532:\tlearn: 0.2508677\ttotal: 891ms\tremaining: 1.11s\n",
      "533:\tlearn: 0.2508289\ttotal: 892ms\tremaining: 1.11s\n",
      "534:\tlearn: 0.2507745\ttotal: 894ms\tremaining: 1.11s\n",
      "535:\tlearn: 0.2506836\ttotal: 895ms\tremaining: 1.11s\n",
      "536:\tlearn: 0.2505081\ttotal: 897ms\tremaining: 1.11s\n",
      "537:\tlearn: 0.2502244\ttotal: 899ms\tremaining: 1.11s\n",
      "538:\tlearn: 0.2501412\ttotal: 900ms\tremaining: 1.1s\n",
      "539:\tlearn: 0.2500306\ttotal: 902ms\tremaining: 1.1s\n",
      "540:\tlearn: 0.2499671\ttotal: 903ms\tremaining: 1.1s\n",
      "541:\tlearn: 0.2499053\ttotal: 905ms\tremaining: 1.1s\n",
      "542:\tlearn: 0.2497160\ttotal: 907ms\tremaining: 1.1s\n",
      "543:\tlearn: 0.2496561\ttotal: 908ms\tremaining: 1.09s\n",
      "544:\tlearn: 0.2495514\ttotal: 910ms\tremaining: 1.09s\n",
      "545:\tlearn: 0.2493840\ttotal: 912ms\tremaining: 1.09s\n",
      "546:\tlearn: 0.2493464\ttotal: 913ms\tremaining: 1.09s\n",
      "547:\tlearn: 0.2492305\ttotal: 915ms\tremaining: 1.09s\n",
      "548:\tlearn: 0.2491867\ttotal: 916ms\tremaining: 1.09s\n",
      "549:\tlearn: 0.2491331\ttotal: 918ms\tremaining: 1.08s\n",
      "550:\tlearn: 0.2490961\ttotal: 919ms\tremaining: 1.08s\n",
      "551:\tlearn: 0.2490611\ttotal: 921ms\tremaining: 1.08s\n",
      "552:\tlearn: 0.2490082\ttotal: 923ms\tremaining: 1.08s\n",
      "553:\tlearn: 0.2489507\ttotal: 924ms\tremaining: 1.08s\n",
      "554:\tlearn: 0.2484934\ttotal: 926ms\tremaining: 1.08s\n",
      "555:\tlearn: 0.2484694\ttotal: 928ms\tremaining: 1.07s\n",
      "556:\tlearn: 0.2483809\ttotal: 929ms\tremaining: 1.07s\n",
      "557:\tlearn: 0.2481017\ttotal: 931ms\tremaining: 1.07s\n",
      "558:\tlearn: 0.2479224\ttotal: 933ms\tremaining: 1.07s\n",
      "559:\tlearn: 0.2478489\ttotal: 934ms\tremaining: 1.07s\n",
      "560:\tlearn: 0.2472769\ttotal: 936ms\tremaining: 1.07s\n",
      "561:\tlearn: 0.2472012\ttotal: 938ms\tremaining: 1.06s\n",
      "562:\tlearn: 0.2471586\ttotal: 939ms\tremaining: 1.06s\n",
      "563:\tlearn: 0.2468653\ttotal: 941ms\tremaining: 1.06s\n",
      "564:\tlearn: 0.2468092\ttotal: 942ms\tremaining: 1.06s\n",
      "565:\tlearn: 0.2466569\ttotal: 944ms\tremaining: 1.06s\n",
      "566:\tlearn: 0.2466354\ttotal: 946ms\tremaining: 1.05s\n",
      "567:\tlearn: 0.2465473\ttotal: 947ms\tremaining: 1.05s\n",
      "568:\tlearn: 0.2464807\ttotal: 949ms\tremaining: 1.05s\n",
      "569:\tlearn: 0.2464175\ttotal: 951ms\tremaining: 1.05s\n",
      "570:\tlearn: 0.2463486\ttotal: 952ms\tremaining: 1.05s\n",
      "571:\tlearn: 0.2462864\ttotal: 954ms\tremaining: 1.05s\n",
      "572:\tlearn: 0.2460660\ttotal: 955ms\tremaining: 1.04s\n",
      "573:\tlearn: 0.2460388\ttotal: 957ms\tremaining: 1.04s\n",
      "574:\tlearn: 0.2458943\ttotal: 959ms\tremaining: 1.04s\n",
      "575:\tlearn: 0.2458492\ttotal: 960ms\tremaining: 1.04s\n",
      "576:\tlearn: 0.2457771\ttotal: 962ms\tremaining: 1.04s\n",
      "577:\tlearn: 0.2457629\ttotal: 963ms\tremaining: 1.04s\n",
      "578:\tlearn: 0.2456538\ttotal: 965ms\tremaining: 1.03s\n",
      "579:\tlearn: 0.2455744\ttotal: 966ms\tremaining: 1.03s\n",
      "580:\tlearn: 0.2455403\ttotal: 968ms\tremaining: 1.03s\n",
      "581:\tlearn: 0.2454200\ttotal: 970ms\tremaining: 1.03s\n",
      "582:\tlearn: 0.2452132\ttotal: 971ms\tremaining: 1.03s\n",
      "583:\tlearn: 0.2451600\ttotal: 973ms\tremaining: 1.03s\n",
      "584:\tlearn: 0.2451118\ttotal: 975ms\tremaining: 1.02s\n",
      "585:\tlearn: 0.2449838\ttotal: 976ms\tremaining: 1.02s\n",
      "586:\tlearn: 0.2449132\ttotal: 978ms\tremaining: 1.02s\n",
      "587:\tlearn: 0.2448442\ttotal: 979ms\tremaining: 1.02s\n",
      "588:\tlearn: 0.2447306\ttotal: 981ms\tremaining: 1.02s\n",
      "589:\tlearn: 0.2446438\ttotal: 983ms\tremaining: 1.01s\n",
      "590:\tlearn: 0.2443840\ttotal: 984ms\tremaining: 1.01s\n",
      "591:\tlearn: 0.2443024\ttotal: 986ms\tremaining: 1.01s\n",
      "592:\tlearn: 0.2442352\ttotal: 987ms\tremaining: 1.01s\n",
      "593:\tlearn: 0.2441674\ttotal: 989ms\tremaining: 1.01s\n",
      "594:\tlearn: 0.2440820\ttotal: 990ms\tremaining: 1.01s\n",
      "595:\tlearn: 0.2437870\ttotal: 992ms\tremaining: 1s\n",
      "596:\tlearn: 0.2437464\ttotal: 994ms\tremaining: 1s\n",
      "597:\tlearn: 0.2434283\ttotal: 995ms\tremaining: 1s\n",
      "598:\tlearn: 0.2433801\ttotal: 997ms\tremaining: 1s\n",
      "599:\tlearn: 0.2431849\ttotal: 999ms\tremaining: 999ms\n",
      "600:\tlearn: 0.2430927\ttotal: 1s\tremaining: 997ms\n",
      "601:\tlearn: 0.2429974\ttotal: 1s\tremaining: 995ms\n",
      "602:\tlearn: 0.2424830\ttotal: 1s\tremaining: 994ms\n",
      "603:\tlearn: 0.2424474\ttotal: 1s\tremaining: 992ms\n",
      "604:\tlearn: 0.2423938\ttotal: 1.01s\tremaining: 990ms\n",
      "605:\tlearn: 0.2422954\ttotal: 1.01s\tremaining: 989ms\n",
      "606:\tlearn: 0.2422402\ttotal: 1.01s\tremaining: 987ms\n",
      "607:\tlearn: 0.2422025\ttotal: 1.01s\tremaining: 985ms\n",
      "608:\tlearn: 0.2421165\ttotal: 1.01s\tremaining: 983ms\n",
      "609:\tlearn: 0.2418071\ttotal: 1.01s\tremaining: 982ms\n",
      "610:\tlearn: 0.2417582\ttotal: 1.02s\tremaining: 980ms\n",
      "611:\tlearn: 0.2416603\ttotal: 1.02s\tremaining: 978ms\n",
      "612:\tlearn: 0.2411717\ttotal: 1.02s\tremaining: 976ms\n",
      "613:\tlearn: 0.2411123\ttotal: 1.02s\tremaining: 974ms\n",
      "614:\tlearn: 0.2410571\ttotal: 1.02s\tremaining: 973ms\n",
      "615:\tlearn: 0.2410089\ttotal: 1.02s\tremaining: 971ms\n",
      "616:\tlearn: 0.2408587\ttotal: 1.02s\tremaining: 969ms\n",
      "617:\tlearn: 0.2407920\ttotal: 1.03s\tremaining: 967ms\n",
      "618:\tlearn: 0.2407388\ttotal: 1.03s\tremaining: 966ms\n",
      "619:\tlearn: 0.2407123\ttotal: 1.03s\tremaining: 964ms\n",
      "620:\tlearn: 0.2405222\ttotal: 1.03s\tremaining: 962ms\n",
      "621:\tlearn: 0.2404603\ttotal: 1.03s\tremaining: 960ms\n",
      "622:\tlearn: 0.2403886\ttotal: 1.03s\tremaining: 959ms\n",
      "623:\tlearn: 0.2402865\ttotal: 1.04s\tremaining: 957ms\n",
      "624:\tlearn: 0.2402666\ttotal: 1.04s\tremaining: 955ms\n",
      "625:\tlearn: 0.2402092\ttotal: 1.04s\tremaining: 953ms\n",
      "626:\tlearn: 0.2401580\ttotal: 1.04s\tremaining: 952ms\n",
      "627:\tlearn: 0.2398692\ttotal: 1.04s\tremaining: 950ms\n",
      "628:\tlearn: 0.2398134\ttotal: 1.04s\tremaining: 948ms\n",
      "629:\tlearn: 0.2397543\ttotal: 1.05s\tremaining: 946ms\n",
      "630:\tlearn: 0.2396959\ttotal: 1.05s\tremaining: 945ms\n",
      "631:\tlearn: 0.2395613\ttotal: 1.05s\tremaining: 943ms\n",
      "632:\tlearn: 0.2395353\ttotal: 1.05s\tremaining: 942ms\n",
      "633:\tlearn: 0.2394829\ttotal: 1.05s\tremaining: 940ms\n",
      "634:\tlearn: 0.2393590\ttotal: 1.05s\tremaining: 939ms\n",
      "635:\tlearn: 0.2392564\ttotal: 1.06s\tremaining: 937ms\n",
      "636:\tlearn: 0.2391735\ttotal: 1.06s\tremaining: 935ms\n",
      "637:\tlearn: 0.2390988\ttotal: 1.06s\tremaining: 934ms\n",
      "638:\tlearn: 0.2389259\ttotal: 1.06s\tremaining: 932ms\n",
      "639:\tlearn: 0.2388384\ttotal: 1.06s\tremaining: 930ms\n",
      "640:\tlearn: 0.2387937\ttotal: 1.06s\tremaining: 928ms\n",
      "641:\tlearn: 0.2386363\ttotal: 1.07s\tremaining: 927ms\n",
      "642:\tlearn: 0.2385003\ttotal: 1.07s\tremaining: 925ms\n",
      "643:\tlearn: 0.2384772\ttotal: 1.07s\tremaining: 924ms\n",
      "644:\tlearn: 0.2382586\ttotal: 1.07s\tremaining: 922ms\n",
      "645:\tlearn: 0.2381634\ttotal: 1.07s\tremaining: 920ms\n",
      "646:\tlearn: 0.2380772\ttotal: 1.07s\tremaining: 919ms\n",
      "647:\tlearn: 0.2380264\ttotal: 1.08s\tremaining: 917ms\n",
      "648:\tlearn: 0.2379071\ttotal: 1.08s\tremaining: 915ms\n",
      "649:\tlearn: 0.2375917\ttotal: 1.08s\tremaining: 914ms\n",
      "650:\tlearn: 0.2375515\ttotal: 1.08s\tremaining: 912ms\n",
      "651:\tlearn: 0.2374844\ttotal: 1.08s\tremaining: 910ms\n",
      "652:\tlearn: 0.2374035\ttotal: 1.08s\tremaining: 908ms\n",
      "653:\tlearn: 0.2369892\ttotal: 1.08s\tremaining: 907ms\n",
      "654:\tlearn: 0.2369104\ttotal: 1.09s\tremaining: 905ms\n",
      "655:\tlearn: 0.2368671\ttotal: 1.09s\tremaining: 903ms\n",
      "656:\tlearn: 0.2366513\ttotal: 1.09s\tremaining: 901ms\n",
      "657:\tlearn: 0.2366109\ttotal: 1.09s\tremaining: 900ms\n",
      "658:\tlearn: 0.2365573\ttotal: 1.09s\tremaining: 898ms\n",
      "659:\tlearn: 0.2362852\ttotal: 1.09s\tremaining: 896ms\n",
      "660:\tlearn: 0.2362298\ttotal: 1.1s\tremaining: 895ms\n",
      "661:\tlearn: 0.2361913\ttotal: 1.1s\tremaining: 893ms\n",
      "662:\tlearn: 0.2360518\ttotal: 1.1s\tremaining: 891ms\n",
      "663:\tlearn: 0.2360273\ttotal: 1.1s\tremaining: 890ms\n",
      "664:\tlearn: 0.2359711\ttotal: 1.1s\tremaining: 888ms\n",
      "665:\tlearn: 0.2359148\ttotal: 1.1s\tremaining: 886ms\n",
      "666:\tlearn: 0.2358644\ttotal: 1.11s\tremaining: 884ms\n",
      "667:\tlearn: 0.2356535\ttotal: 1.11s\tremaining: 883ms\n",
      "668:\tlearn: 0.2355841\ttotal: 1.11s\tremaining: 881ms\n",
      "669:\tlearn: 0.2355391\ttotal: 1.11s\tremaining: 879ms\n",
      "670:\tlearn: 0.2354983\ttotal: 1.11s\tremaining: 877ms\n",
      "671:\tlearn: 0.2352400\ttotal: 1.11s\tremaining: 876ms\n",
      "672:\tlearn: 0.2352103\ttotal: 1.12s\tremaining: 874ms\n",
      "673:\tlearn: 0.2351838\ttotal: 1.12s\tremaining: 872ms\n",
      "674:\tlearn: 0.2349437\ttotal: 1.12s\tremaining: 871ms\n",
      "675:\tlearn: 0.2348308\ttotal: 1.12s\tremaining: 869ms\n",
      "676:\tlearn: 0.2347716\ttotal: 1.12s\tremaining: 867ms\n",
      "677:\tlearn: 0.2347019\ttotal: 1.12s\tremaining: 865ms\n",
      "678:\tlearn: 0.2346604\ttotal: 1.13s\tremaining: 864ms\n",
      "679:\tlearn: 0.2345910\ttotal: 1.13s\tremaining: 862ms\n",
      "680:\tlearn: 0.2345140\ttotal: 1.13s\tremaining: 860ms\n",
      "681:\tlearn: 0.2344270\ttotal: 1.13s\tremaining: 858ms\n",
      "682:\tlearn: 0.2343739\ttotal: 1.13s\tremaining: 857ms\n",
      "683:\tlearn: 0.2342952\ttotal: 1.13s\tremaining: 855ms\n",
      "684:\tlearn: 0.2342504\ttotal: 1.13s\tremaining: 853ms\n",
      "685:\tlearn: 0.2342016\ttotal: 1.14s\tremaining: 851ms\n",
      "686:\tlearn: 0.2341683\ttotal: 1.14s\tremaining: 850ms\n",
      "687:\tlearn: 0.2338781\ttotal: 1.14s\tremaining: 848ms\n",
      "688:\tlearn: 0.2338408\ttotal: 1.14s\tremaining: 846ms\n",
      "689:\tlearn: 0.2337179\ttotal: 1.14s\tremaining: 845ms\n",
      "690:\tlearn: 0.2336763\ttotal: 1.14s\tremaining: 843ms\n",
      "691:\tlearn: 0.2335601\ttotal: 1.15s\tremaining: 842ms\n",
      "692:\tlearn: 0.2334760\ttotal: 1.15s\tremaining: 840ms\n",
      "693:\tlearn: 0.2334310\ttotal: 1.15s\tremaining: 838ms\n",
      "694:\tlearn: 0.2333624\ttotal: 1.15s\tremaining: 836ms\n",
      "695:\tlearn: 0.2329555\ttotal: 1.15s\tremaining: 835ms\n",
      "696:\tlearn: 0.2329364\ttotal: 1.15s\tremaining: 833ms\n",
      "697:\tlearn: 0.2328786\ttotal: 1.16s\tremaining: 831ms\n",
      "698:\tlearn: 0.2328087\ttotal: 1.16s\tremaining: 830ms\n",
      "699:\tlearn: 0.2326421\ttotal: 1.16s\tremaining: 828ms\n",
      "700:\tlearn: 0.2325189\ttotal: 1.16s\tremaining: 826ms\n",
      "701:\tlearn: 0.2324743\ttotal: 1.16s\tremaining: 825ms\n",
      "702:\tlearn: 0.2319392\ttotal: 1.16s\tremaining: 823ms\n",
      "703:\tlearn: 0.2318384\ttotal: 1.17s\tremaining: 822ms\n",
      "704:\tlearn: 0.2315047\ttotal: 1.17s\tremaining: 820ms\n",
      "705:\tlearn: 0.2313094\ttotal: 1.17s\tremaining: 818ms\n",
      "706:\tlearn: 0.2311756\ttotal: 1.17s\tremaining: 817ms\n",
      "707:\tlearn: 0.2311297\ttotal: 1.17s\tremaining: 815ms\n",
      "708:\tlearn: 0.2310812\ttotal: 1.17s\tremaining: 813ms\n",
      "709:\tlearn: 0.2310039\ttotal: 1.18s\tremaining: 811ms\n",
      "710:\tlearn: 0.2309412\ttotal: 1.18s\tremaining: 810ms\n",
      "711:\tlearn: 0.2308232\ttotal: 1.18s\tremaining: 808ms\n",
      "712:\tlearn: 0.2307195\ttotal: 1.18s\tremaining: 806ms\n",
      "713:\tlearn: 0.2306751\ttotal: 1.18s\tremaining: 805ms\n",
      "714:\tlearn: 0.2306294\ttotal: 1.18s\tremaining: 803ms\n",
      "715:\tlearn: 0.2305645\ttotal: 1.19s\tremaining: 801ms\n",
      "716:\tlearn: 0.2305416\ttotal: 1.19s\tremaining: 800ms\n",
      "717:\tlearn: 0.2301719\ttotal: 1.19s\tremaining: 798ms\n",
      "718:\tlearn: 0.2297429\ttotal: 1.19s\tremaining: 797ms\n",
      "719:\tlearn: 0.2297030\ttotal: 1.19s\tremaining: 795ms\n",
      "720:\tlearn: 0.2296357\ttotal: 1.19s\tremaining: 793ms\n",
      "721:\tlearn: 0.2295537\ttotal: 1.2s\tremaining: 791ms\n",
      "722:\tlearn: 0.2295317\ttotal: 1.2s\tremaining: 790ms\n",
      "723:\tlearn: 0.2294914\ttotal: 1.2s\tremaining: 788ms\n",
      "724:\tlearn: 0.2294373\ttotal: 1.2s\tremaining: 786ms\n",
      "725:\tlearn: 0.2293862\ttotal: 1.2s\tremaining: 785ms\n",
      "726:\tlearn: 0.2293004\ttotal: 1.2s\tremaining: 783ms\n",
      "727:\tlearn: 0.2292451\ttotal: 1.21s\tremaining: 781ms\n",
      "728:\tlearn: 0.2291899\ttotal: 1.21s\tremaining: 780ms\n",
      "729:\tlearn: 0.2288372\ttotal: 1.21s\tremaining: 778ms\n",
      "730:\tlearn: 0.2287963\ttotal: 1.21s\tremaining: 776ms\n",
      "731:\tlearn: 0.2287459\ttotal: 1.21s\tremaining: 775ms\n",
      "732:\tlearn: 0.2286909\ttotal: 1.21s\tremaining: 773ms\n",
      "733:\tlearn: 0.2285402\ttotal: 1.22s\tremaining: 772ms\n",
      "734:\tlearn: 0.2284704\ttotal: 1.22s\tremaining: 770ms\n",
      "735:\tlearn: 0.2281186\ttotal: 1.22s\tremaining: 769ms\n",
      "736:\tlearn: 0.2280684\ttotal: 1.22s\tremaining: 767ms\n",
      "737:\tlearn: 0.2280224\ttotal: 1.22s\tremaining: 765ms\n",
      "738:\tlearn: 0.2279709\ttotal: 1.22s\tremaining: 764ms\n",
      "739:\tlearn: 0.2279004\ttotal: 1.23s\tremaining: 762ms\n",
      "740:\tlearn: 0.2278574\ttotal: 1.23s\tremaining: 760ms\n",
      "741:\tlearn: 0.2277180\ttotal: 1.23s\tremaining: 759ms\n",
      "742:\tlearn: 0.2276608\ttotal: 1.23s\tremaining: 757ms\n",
      "743:\tlearn: 0.2275831\ttotal: 1.23s\tremaining: 755ms\n",
      "744:\tlearn: 0.2275154\ttotal: 1.23s\tremaining: 754ms\n",
      "745:\tlearn: 0.2274580\ttotal: 1.24s\tremaining: 752ms\n",
      "746:\tlearn: 0.2273771\ttotal: 1.24s\tremaining: 750ms\n",
      "747:\tlearn: 0.2273017\ttotal: 1.24s\tremaining: 749ms\n",
      "748:\tlearn: 0.2272651\ttotal: 1.24s\tremaining: 747ms\n",
      "749:\tlearn: 0.2271418\ttotal: 1.24s\tremaining: 745ms\n",
      "750:\tlearn: 0.2270705\ttotal: 1.24s\tremaining: 744ms\n",
      "751:\tlearn: 0.2270154\ttotal: 1.25s\tremaining: 742ms\n",
      "752:\tlearn: 0.2267951\ttotal: 1.25s\tremaining: 740ms\n",
      "753:\tlearn: 0.2267418\ttotal: 1.25s\tremaining: 739ms\n",
      "754:\tlearn: 0.2266970\ttotal: 1.25s\tremaining: 737ms\n",
      "755:\tlearn: 0.2264349\ttotal: 1.25s\tremaining: 735ms\n",
      "756:\tlearn: 0.2264210\ttotal: 1.25s\tremaining: 734ms\n",
      "757:\tlearn: 0.2262711\ttotal: 1.25s\tremaining: 732ms\n",
      "758:\tlearn: 0.2262553\ttotal: 1.26s\tremaining: 730ms\n",
      "759:\tlearn: 0.2261228\ttotal: 1.26s\tremaining: 729ms\n",
      "760:\tlearn: 0.2260512\ttotal: 1.26s\tremaining: 727ms\n",
      "761:\tlearn: 0.2259961\ttotal: 1.26s\tremaining: 725ms\n",
      "762:\tlearn: 0.2257010\ttotal: 1.26s\tremaining: 724ms\n",
      "763:\tlearn: 0.2254244\ttotal: 1.26s\tremaining: 722ms\n",
      "764:\tlearn: 0.2252509\ttotal: 1.27s\tremaining: 720ms\n",
      "765:\tlearn: 0.2251866\ttotal: 1.27s\tremaining: 719ms\n",
      "766:\tlearn: 0.2251106\ttotal: 1.27s\tremaining: 717ms\n",
      "767:\tlearn: 0.2250521\ttotal: 1.27s\tremaining: 715ms\n",
      "768:\tlearn: 0.2249096\ttotal: 1.27s\tremaining: 714ms\n",
      "769:\tlearn: 0.2247775\ttotal: 1.27s\tremaining: 712ms\n",
      "770:\tlearn: 0.2247469\ttotal: 1.28s\tremaining: 710ms\n",
      "771:\tlearn: 0.2246974\ttotal: 1.28s\tremaining: 709ms\n",
      "772:\tlearn: 0.2245623\ttotal: 1.28s\tremaining: 707ms\n",
      "773:\tlearn: 0.2245258\ttotal: 1.28s\tremaining: 705ms\n",
      "774:\tlearn: 0.2245073\ttotal: 1.28s\tremaining: 704ms\n",
      "775:\tlearn: 0.2244617\ttotal: 1.28s\tremaining: 702ms\n",
      "776:\tlearn: 0.2243811\ttotal: 1.29s\tremaining: 700ms\n",
      "777:\tlearn: 0.2243227\ttotal: 1.29s\tremaining: 699ms\n",
      "778:\tlearn: 0.2242238\ttotal: 1.29s\tremaining: 697ms\n",
      "779:\tlearn: 0.2241837\ttotal: 1.29s\tremaining: 695ms\n",
      "780:\tlearn: 0.2240828\ttotal: 1.29s\tremaining: 694ms\n",
      "781:\tlearn: 0.2240156\ttotal: 1.29s\tremaining: 692ms\n",
      "782:\tlearn: 0.2239580\ttotal: 1.3s\tremaining: 690ms\n",
      "783:\tlearn: 0.2238818\ttotal: 1.3s\tremaining: 689ms\n",
      "784:\tlearn: 0.2237036\ttotal: 1.3s\tremaining: 687ms\n",
      "785:\tlearn: 0.2236530\ttotal: 1.3s\tremaining: 686ms\n",
      "786:\tlearn: 0.2233826\ttotal: 1.3s\tremaining: 684ms\n",
      "787:\tlearn: 0.2232377\ttotal: 1.3s\tremaining: 682ms\n",
      "788:\tlearn: 0.2231956\ttotal: 1.31s\tremaining: 681ms\n",
      "789:\tlearn: 0.2231251\ttotal: 1.31s\tremaining: 679ms\n",
      "790:\tlearn: 0.2230744\ttotal: 1.31s\tremaining: 677ms\n",
      "791:\tlearn: 0.2230354\ttotal: 1.31s\tremaining: 676ms\n",
      "792:\tlearn: 0.2230055\ttotal: 1.31s\tremaining: 674ms\n",
      "793:\tlearn: 0.2229371\ttotal: 1.31s\tremaining: 672ms\n",
      "794:\tlearn: 0.2229043\ttotal: 1.32s\tremaining: 671ms\n",
      "795:\tlearn: 0.2228317\ttotal: 1.32s\tremaining: 669ms\n",
      "796:\tlearn: 0.2227857\ttotal: 1.32s\tremaining: 667ms\n",
      "797:\tlearn: 0.2227343\ttotal: 1.32s\tremaining: 666ms\n",
      "798:\tlearn: 0.2226996\ttotal: 1.32s\tremaining: 664ms\n",
      "799:\tlearn: 0.2226549\ttotal: 1.32s\tremaining: 662ms\n",
      "800:\tlearn: 0.2225944\ttotal: 1.33s\tremaining: 661ms\n",
      "801:\tlearn: 0.2225618\ttotal: 1.33s\tremaining: 659ms\n",
      "802:\tlearn: 0.2224894\ttotal: 1.33s\tremaining: 657ms\n",
      "803:\tlearn: 0.2224107\ttotal: 1.33s\tremaining: 656ms\n",
      "804:\tlearn: 0.2223848\ttotal: 1.33s\tremaining: 654ms\n",
      "805:\tlearn: 0.2223098\ttotal: 1.33s\tremaining: 652ms\n",
      "806:\tlearn: 0.2222915\ttotal: 1.34s\tremaining: 651ms\n",
      "807:\tlearn: 0.2222636\ttotal: 1.34s\tremaining: 649ms\n",
      "808:\tlearn: 0.2222086\ttotal: 1.34s\tremaining: 647ms\n",
      "809:\tlearn: 0.2221659\ttotal: 1.34s\tremaining: 646ms\n",
      "810:\tlearn: 0.2220995\ttotal: 1.34s\tremaining: 644ms\n",
      "811:\tlearn: 0.2220646\ttotal: 1.34s\tremaining: 643ms\n",
      "812:\tlearn: 0.2219723\ttotal: 1.35s\tremaining: 641ms\n",
      "813:\tlearn: 0.2218934\ttotal: 1.35s\tremaining: 639ms\n",
      "814:\tlearn: 0.2218529\ttotal: 1.35s\tremaining: 638ms\n",
      "815:\tlearn: 0.2218116\ttotal: 1.35s\tremaining: 636ms\n",
      "816:\tlearn: 0.2216595\ttotal: 1.35s\tremaining: 634ms\n",
      "817:\tlearn: 0.2216118\ttotal: 1.35s\tremaining: 633ms\n",
      "818:\tlearn: 0.2215741\ttotal: 1.36s\tremaining: 631ms\n",
      "819:\tlearn: 0.2215045\ttotal: 1.36s\tremaining: 629ms\n",
      "820:\tlearn: 0.2214473\ttotal: 1.36s\tremaining: 628ms\n",
      "821:\tlearn: 0.2213976\ttotal: 1.36s\tremaining: 626ms\n",
      "822:\tlearn: 0.2213608\ttotal: 1.36s\tremaining: 624ms\n",
      "823:\tlearn: 0.2212424\ttotal: 1.36s\tremaining: 623ms\n",
      "824:\tlearn: 0.2212035\ttotal: 1.37s\tremaining: 621ms\n",
      "825:\tlearn: 0.2211267\ttotal: 1.37s\tremaining: 620ms\n",
      "826:\tlearn: 0.2209427\ttotal: 1.37s\tremaining: 618ms\n",
      "827:\tlearn: 0.2209044\ttotal: 1.37s\tremaining: 616ms\n",
      "828:\tlearn: 0.2205716\ttotal: 1.37s\tremaining: 614ms\n",
      "829:\tlearn: 0.2205047\ttotal: 1.37s\tremaining: 613ms\n",
      "830:\tlearn: 0.2204711\ttotal: 1.38s\tremaining: 611ms\n",
      "831:\tlearn: 0.2204158\ttotal: 1.38s\tremaining: 609ms\n",
      "832:\tlearn: 0.2203134\ttotal: 1.38s\tremaining: 608ms\n",
      "833:\tlearn: 0.2202786\ttotal: 1.38s\tremaining: 606ms\n",
      "834:\tlearn: 0.2200820\ttotal: 1.38s\tremaining: 605ms\n",
      "835:\tlearn: 0.2200641\ttotal: 1.38s\tremaining: 603ms\n",
      "836:\tlearn: 0.2197369\ttotal: 1.39s\tremaining: 601ms\n",
      "837:\tlearn: 0.2196839\ttotal: 1.39s\tremaining: 599ms\n",
      "838:\tlearn: 0.2196384\ttotal: 1.39s\tremaining: 598ms\n",
      "839:\tlearn: 0.2195559\ttotal: 1.39s\tremaining: 596ms\n",
      "840:\tlearn: 0.2192433\ttotal: 1.39s\tremaining: 594ms\n",
      "841:\tlearn: 0.2191345\ttotal: 1.39s\tremaining: 593ms\n",
      "842:\tlearn: 0.2190439\ttotal: 1.4s\tremaining: 591ms\n",
      "843:\tlearn: 0.2188898\ttotal: 1.4s\tremaining: 590ms\n",
      "844:\tlearn: 0.2188326\ttotal: 1.4s\tremaining: 588ms\n",
      "845:\tlearn: 0.2187606\ttotal: 1.4s\tremaining: 587ms\n",
      "846:\tlearn: 0.2186775\ttotal: 1.4s\tremaining: 585ms\n",
      "847:\tlearn: 0.2186459\ttotal: 1.41s\tremaining: 583ms\n",
      "848:\tlearn: 0.2185816\ttotal: 1.41s\tremaining: 582ms\n",
      "849:\tlearn: 0.2185459\ttotal: 1.41s\tremaining: 580ms\n",
      "850:\tlearn: 0.2185193\ttotal: 1.41s\tremaining: 578ms\n",
      "851:\tlearn: 0.2183443\ttotal: 1.41s\tremaining: 577ms\n",
      "852:\tlearn: 0.2183160\ttotal: 1.41s\tremaining: 575ms\n",
      "853:\tlearn: 0.2182798\ttotal: 1.42s\tremaining: 574ms\n",
      "854:\tlearn: 0.2182110\ttotal: 1.42s\tremaining: 572ms\n",
      "855:\tlearn: 0.2181723\ttotal: 1.42s\tremaining: 570ms\n",
      "856:\tlearn: 0.2181037\ttotal: 1.42s\tremaining: 569ms\n",
      "857:\tlearn: 0.2180330\ttotal: 1.42s\tremaining: 567ms\n",
      "858:\tlearn: 0.2179645\ttotal: 1.42s\tremaining: 565ms\n",
      "859:\tlearn: 0.2178226\ttotal: 1.43s\tremaining: 564ms\n",
      "860:\tlearn: 0.2177515\ttotal: 1.43s\tremaining: 562ms\n",
      "861:\tlearn: 0.2177020\ttotal: 1.43s\tremaining: 560ms\n",
      "862:\tlearn: 0.2174511\ttotal: 1.43s\tremaining: 559ms\n",
      "863:\tlearn: 0.2173973\ttotal: 1.43s\tremaining: 557ms\n",
      "864:\tlearn: 0.2173525\ttotal: 1.43s\tremaining: 555ms\n",
      "865:\tlearn: 0.2171551\ttotal: 1.44s\tremaining: 554ms\n",
      "866:\tlearn: 0.2170717\ttotal: 1.44s\tremaining: 552ms\n",
      "867:\tlearn: 0.2170276\ttotal: 1.44s\tremaining: 550ms\n",
      "868:\tlearn: 0.2170073\ttotal: 1.44s\tremaining: 549ms\n",
      "869:\tlearn: 0.2169053\ttotal: 1.44s\tremaining: 547ms\n",
      "870:\tlearn: 0.2168827\ttotal: 1.44s\tremaining: 545ms\n",
      "871:\tlearn: 0.2168455\ttotal: 1.45s\tremaining: 544ms\n",
      "872:\tlearn: 0.2168152\ttotal: 1.45s\tremaining: 542ms\n",
      "873:\tlearn: 0.2167475\ttotal: 1.45s\tremaining: 540ms\n",
      "874:\tlearn: 0.2166855\ttotal: 1.45s\tremaining: 539ms\n",
      "875:\tlearn: 0.2166370\ttotal: 1.45s\tremaining: 537ms\n",
      "876:\tlearn: 0.2165518\ttotal: 1.45s\tremaining: 535ms\n",
      "877:\tlearn: 0.2165050\ttotal: 1.46s\tremaining: 534ms\n",
      "878:\tlearn: 0.2164614\ttotal: 1.46s\tremaining: 532ms\n",
      "879:\tlearn: 0.2164451\ttotal: 1.46s\tremaining: 530ms\n",
      "880:\tlearn: 0.2163724\ttotal: 1.46s\tremaining: 529ms\n",
      "881:\tlearn: 0.2162998\ttotal: 1.46s\tremaining: 527ms\n",
      "882:\tlearn: 0.2162617\ttotal: 1.46s\tremaining: 525ms\n",
      "883:\tlearn: 0.2159138\ttotal: 1.47s\tremaining: 524ms\n",
      "884:\tlearn: 0.2158234\ttotal: 1.47s\tremaining: 522ms\n",
      "885:\tlearn: 0.2157572\ttotal: 1.47s\tremaining: 520ms\n",
      "886:\tlearn: 0.2155987\ttotal: 1.47s\tremaining: 519ms\n",
      "887:\tlearn: 0.2155824\ttotal: 1.47s\tremaining: 517ms\n",
      "888:\tlearn: 0.2155546\ttotal: 1.47s\tremaining: 515ms\n",
      "889:\tlearn: 0.2153181\ttotal: 1.47s\tremaining: 514ms\n",
      "890:\tlearn: 0.2152747\ttotal: 1.48s\tremaining: 512ms\n",
      "891:\tlearn: 0.2150068\ttotal: 1.48s\tremaining: 510ms\n",
      "892:\tlearn: 0.2149478\ttotal: 1.48s\tremaining: 509ms\n",
      "893:\tlearn: 0.2148340\ttotal: 1.48s\tremaining: 507ms\n",
      "894:\tlearn: 0.2147765\ttotal: 1.48s\tremaining: 505ms\n",
      "895:\tlearn: 0.2146990\ttotal: 1.49s\tremaining: 504ms\n",
      "896:\tlearn: 0.2146831\ttotal: 1.49s\tremaining: 502ms\n",
      "897:\tlearn: 0.2146514\ttotal: 1.49s\tremaining: 501ms\n",
      "898:\tlearn: 0.2145050\ttotal: 1.49s\tremaining: 499ms\n",
      "899:\tlearn: 0.2144544\ttotal: 1.49s\tremaining: 497ms\n",
      "900:\tlearn: 0.2143439\ttotal: 1.49s\tremaining: 496ms\n",
      "901:\tlearn: 0.2143132\ttotal: 1.5s\tremaining: 494ms\n",
      "902:\tlearn: 0.2142664\ttotal: 1.5s\tremaining: 492ms\n",
      "903:\tlearn: 0.2142252\ttotal: 1.5s\tremaining: 491ms\n",
      "904:\tlearn: 0.2140995\ttotal: 1.5s\tremaining: 489ms\n",
      "905:\tlearn: 0.2140493\ttotal: 1.5s\tremaining: 487ms\n",
      "906:\tlearn: 0.2139992\ttotal: 1.5s\tremaining: 486ms\n",
      "907:\tlearn: 0.2139136\ttotal: 1.5s\tremaining: 484ms\n",
      "908:\tlearn: 0.2138296\ttotal: 1.51s\tremaining: 482ms\n",
      "909:\tlearn: 0.2136665\ttotal: 1.51s\tremaining: 481ms\n",
      "910:\tlearn: 0.2136335\ttotal: 1.51s\tremaining: 479ms\n",
      "911:\tlearn: 0.2133477\ttotal: 1.51s\tremaining: 477ms\n",
      "912:\tlearn: 0.2133126\ttotal: 1.51s\tremaining: 476ms\n",
      "913:\tlearn: 0.2132340\ttotal: 1.51s\tremaining: 474ms\n",
      "914:\tlearn: 0.2129699\ttotal: 1.52s\tremaining: 473ms\n",
      "915:\tlearn: 0.2129167\ttotal: 1.52s\tremaining: 471ms\n",
      "916:\tlearn: 0.2128666\ttotal: 1.52s\tremaining: 469ms\n",
      "917:\tlearn: 0.2128275\ttotal: 1.52s\tremaining: 468ms\n",
      "918:\tlearn: 0.2126773\ttotal: 1.52s\tremaining: 466ms\n",
      "919:\tlearn: 0.2126275\ttotal: 1.52s\tremaining: 464ms\n",
      "920:\tlearn: 0.2125788\ttotal: 1.53s\tremaining: 463ms\n",
      "921:\tlearn: 0.2123190\ttotal: 1.53s\tremaining: 461ms\n",
      "922:\tlearn: 0.2122690\ttotal: 1.53s\tremaining: 459ms\n",
      "923:\tlearn: 0.2122511\ttotal: 1.53s\tremaining: 458ms\n",
      "924:\tlearn: 0.2120845\ttotal: 1.53s\tremaining: 456ms\n",
      "925:\tlearn: 0.2118826\ttotal: 1.53s\tremaining: 454ms\n",
      "926:\tlearn: 0.2118560\ttotal: 1.54s\tremaining: 453ms\n",
      "927:\tlearn: 0.2117947\ttotal: 1.54s\tremaining: 451ms\n",
      "928:\tlearn: 0.2117749\ttotal: 1.54s\tremaining: 449ms\n",
      "929:\tlearn: 0.2117312\ttotal: 1.54s\tremaining: 448ms\n",
      "930:\tlearn: 0.2116957\ttotal: 1.54s\tremaining: 446ms\n",
      "931:\tlearn: 0.2116401\ttotal: 1.54s\tremaining: 444ms\n",
      "932:\tlearn: 0.2116053\ttotal: 1.55s\tremaining: 443ms\n",
      "933:\tlearn: 0.2115528\ttotal: 1.55s\tremaining: 441ms\n",
      "934:\tlearn: 0.2114691\ttotal: 1.55s\tremaining: 440ms\n",
      "935:\tlearn: 0.2114066\ttotal: 1.55s\tremaining: 438ms\n",
      "936:\tlearn: 0.2113745\ttotal: 1.55s\tremaining: 436ms\n",
      "937:\tlearn: 0.2113261\ttotal: 1.56s\tremaining: 435ms\n",
      "938:\tlearn: 0.2111562\ttotal: 1.56s\tremaining: 433ms\n",
      "939:\tlearn: 0.2110850\ttotal: 1.56s\tremaining: 431ms\n",
      "940:\tlearn: 0.2110450\ttotal: 1.56s\tremaining: 430ms\n",
      "941:\tlearn: 0.2110104\ttotal: 1.56s\tremaining: 428ms\n",
      "942:\tlearn: 0.2109543\ttotal: 1.56s\tremaining: 426ms\n",
      "943:\tlearn: 0.2108909\ttotal: 1.56s\tremaining: 425ms\n",
      "944:\tlearn: 0.2108674\ttotal: 1.57s\tremaining: 423ms\n",
      "945:\tlearn: 0.2108222\ttotal: 1.57s\tremaining: 421ms\n",
      "946:\tlearn: 0.2107420\ttotal: 1.57s\tremaining: 420ms\n",
      "947:\tlearn: 0.2106747\ttotal: 1.57s\tremaining: 418ms\n",
      "948:\tlearn: 0.2106448\ttotal: 1.57s\tremaining: 416ms\n",
      "949:\tlearn: 0.2106106\ttotal: 1.58s\tremaining: 415ms\n",
      "950:\tlearn: 0.2105828\ttotal: 1.58s\tremaining: 413ms\n",
      "951:\tlearn: 0.2105512\ttotal: 1.58s\tremaining: 412ms\n",
      "952:\tlearn: 0.2105144\ttotal: 1.58s\tremaining: 410ms\n",
      "953:\tlearn: 0.2104924\ttotal: 1.58s\tremaining: 408ms\n",
      "954:\tlearn: 0.2104528\ttotal: 1.58s\tremaining: 407ms\n",
      "955:\tlearn: 0.2103678\ttotal: 1.59s\tremaining: 405ms\n",
      "956:\tlearn: 0.2103302\ttotal: 1.59s\tremaining: 403ms\n",
      "957:\tlearn: 0.2102992\ttotal: 1.59s\tremaining: 402ms\n",
      "958:\tlearn: 0.2102576\ttotal: 1.59s\tremaining: 400ms\n",
      "959:\tlearn: 0.2102244\ttotal: 1.59s\tremaining: 398ms\n",
      "960:\tlearn: 0.2101894\ttotal: 1.59s\tremaining: 397ms\n",
      "961:\tlearn: 0.2101291\ttotal: 1.6s\tremaining: 395ms\n",
      "962:\tlearn: 0.2099926\ttotal: 1.6s\tremaining: 394ms\n",
      "963:\tlearn: 0.2099463\ttotal: 1.6s\tremaining: 392ms\n",
      "964:\tlearn: 0.2099141\ttotal: 1.6s\tremaining: 390ms\n",
      "965:\tlearn: 0.2099004\ttotal: 1.6s\tremaining: 388ms\n",
      "966:\tlearn: 0.2098706\ttotal: 1.6s\tremaining: 387ms\n",
      "967:\tlearn: 0.2098533\ttotal: 1.61s\tremaining: 385ms\n",
      "968:\tlearn: 0.2098248\ttotal: 1.61s\tremaining: 384ms\n",
      "969:\tlearn: 0.2097851\ttotal: 1.61s\tremaining: 382ms\n",
      "970:\tlearn: 0.2097622\ttotal: 1.61s\tremaining: 380ms\n",
      "971:\tlearn: 0.2097364\ttotal: 1.61s\tremaining: 379ms\n",
      "972:\tlearn: 0.2096847\ttotal: 1.62s\tremaining: 377ms\n",
      "973:\tlearn: 0.2096512\ttotal: 1.62s\tremaining: 375ms\n",
      "974:\tlearn: 0.2096089\ttotal: 1.62s\tremaining: 374ms\n",
      "975:\tlearn: 0.2095810\ttotal: 1.62s\tremaining: 372ms\n",
      "976:\tlearn: 0.2095538\ttotal: 1.62s\tremaining: 370ms\n",
      "977:\tlearn: 0.2095169\ttotal: 1.62s\tremaining: 369ms\n",
      "978:\tlearn: 0.2094629\ttotal: 1.63s\tremaining: 367ms\n",
      "979:\tlearn: 0.2094237\ttotal: 1.63s\tremaining: 365ms\n",
      "980:\tlearn: 0.2093893\ttotal: 1.63s\tremaining: 364ms\n",
      "981:\tlearn: 0.2093243\ttotal: 1.63s\tremaining: 362ms\n",
      "982:\tlearn: 0.2092882\ttotal: 1.63s\tremaining: 360ms\n",
      "983:\tlearn: 0.2092772\ttotal: 1.63s\tremaining: 359ms\n",
      "984:\tlearn: 0.2092449\ttotal: 1.64s\tremaining: 357ms\n",
      "985:\tlearn: 0.2092029\ttotal: 1.64s\tremaining: 355ms\n",
      "986:\tlearn: 0.2091476\ttotal: 1.64s\tremaining: 354ms\n",
      "987:\tlearn: 0.2091201\ttotal: 1.64s\tremaining: 352ms\n",
      "988:\tlearn: 0.2090876\ttotal: 1.64s\tremaining: 350ms\n",
      "989:\tlearn: 0.2090546\ttotal: 1.64s\tremaining: 349ms\n",
      "990:\tlearn: 0.2089753\ttotal: 1.65s\tremaining: 347ms\n",
      "991:\tlearn: 0.2089521\ttotal: 1.65s\tremaining: 345ms\n",
      "992:\tlearn: 0.2089114\ttotal: 1.65s\tremaining: 344ms\n",
      "993:\tlearn: 0.2088181\ttotal: 1.65s\tremaining: 342ms\n",
      "994:\tlearn: 0.2087266\ttotal: 1.65s\tremaining: 340ms\n",
      "995:\tlearn: 0.2086409\ttotal: 1.65s\tremaining: 339ms\n",
      "996:\tlearn: 0.2085462\ttotal: 1.66s\tremaining: 337ms\n",
      "997:\tlearn: 0.2084715\ttotal: 1.66s\tremaining: 335ms\n",
      "998:\tlearn: 0.2084205\ttotal: 1.66s\tremaining: 334ms\n",
      "999:\tlearn: 0.2083917\ttotal: 1.66s\tremaining: 332ms\n",
      "1000:\tlearn: 0.2083438\ttotal: 1.66s\tremaining: 331ms\n",
      "1001:\tlearn: 0.2083047\ttotal: 1.66s\tremaining: 329ms\n",
      "1002:\tlearn: 0.2082374\ttotal: 1.67s\tremaining: 327ms\n",
      "1003:\tlearn: 0.2081912\ttotal: 1.67s\tremaining: 326ms\n",
      "1004:\tlearn: 0.2081689\ttotal: 1.67s\tremaining: 324ms\n",
      "1005:\tlearn: 0.2080544\ttotal: 1.67s\tremaining: 322ms\n",
      "1006:\tlearn: 0.2079137\ttotal: 1.67s\tremaining: 321ms\n",
      "1007:\tlearn: 0.2078943\ttotal: 1.67s\tremaining: 319ms\n",
      "1008:\tlearn: 0.2078187\ttotal: 1.68s\tremaining: 317ms\n",
      "1009:\tlearn: 0.2075373\ttotal: 1.68s\tremaining: 316ms\n",
      "1010:\tlearn: 0.2073946\ttotal: 1.68s\tremaining: 314ms\n",
      "1011:\tlearn: 0.2073476\ttotal: 1.68s\tremaining: 312ms\n",
      "1012:\tlearn: 0.2072999\ttotal: 1.68s\tremaining: 311ms\n",
      "1013:\tlearn: 0.2072776\ttotal: 1.69s\tremaining: 309ms\n",
      "1014:\tlearn: 0.2072199\ttotal: 1.69s\tremaining: 308ms\n",
      "1015:\tlearn: 0.2071871\ttotal: 1.69s\tremaining: 306ms\n",
      "1016:\tlearn: 0.2071341\ttotal: 1.69s\tremaining: 304ms\n",
      "1017:\tlearn: 0.2070709\ttotal: 1.69s\tremaining: 303ms\n",
      "1018:\tlearn: 0.2070184\ttotal: 1.69s\tremaining: 301ms\n",
      "1019:\tlearn: 0.2069555\ttotal: 1.7s\tremaining: 299ms\n",
      "1020:\tlearn: 0.2068586\ttotal: 1.7s\tremaining: 298ms\n",
      "1021:\tlearn: 0.2067657\ttotal: 1.7s\tremaining: 296ms\n",
      "1022:\tlearn: 0.2067470\ttotal: 1.7s\tremaining: 294ms\n",
      "1023:\tlearn: 0.2067283\ttotal: 1.7s\tremaining: 293ms\n",
      "1024:\tlearn: 0.2066566\ttotal: 1.7s\tremaining: 291ms\n",
      "1025:\tlearn: 0.2066304\ttotal: 1.71s\tremaining: 289ms\n",
      "1026:\tlearn: 0.2066216\ttotal: 1.71s\tremaining: 288ms\n",
      "1027:\tlearn: 0.2065746\ttotal: 1.71s\tremaining: 286ms\n",
      "1028:\tlearn: 0.2065267\ttotal: 1.71s\tremaining: 284ms\n",
      "1029:\tlearn: 0.2063062\ttotal: 1.71s\tremaining: 283ms\n",
      "1030:\tlearn: 0.2062547\ttotal: 1.71s\tremaining: 281ms\n",
      "1031:\tlearn: 0.2062274\ttotal: 1.72s\tremaining: 279ms\n",
      "1032:\tlearn: 0.2062057\ttotal: 1.72s\tremaining: 278ms\n",
      "1033:\tlearn: 0.2061451\ttotal: 1.72s\tremaining: 276ms\n",
      "1034:\tlearn: 0.2060575\ttotal: 1.72s\tremaining: 274ms\n",
      "1035:\tlearn: 0.2060394\ttotal: 1.72s\tremaining: 273ms\n",
      "1036:\tlearn: 0.2057369\ttotal: 1.72s\tremaining: 271ms\n",
      "1037:\tlearn: 0.2056517\ttotal: 1.73s\tremaining: 269ms\n",
      "1038:\tlearn: 0.2055255\ttotal: 1.73s\tremaining: 268ms\n",
      "1039:\tlearn: 0.2054789\ttotal: 1.73s\tremaining: 266ms\n",
      "1040:\tlearn: 0.2054056\ttotal: 1.73s\tremaining: 264ms\n",
      "1041:\tlearn: 0.2053403\ttotal: 1.73s\tremaining: 263ms\n",
      "1042:\tlearn: 0.2051986\ttotal: 1.73s\tremaining: 261ms\n",
      "1043:\tlearn: 0.2051794\ttotal: 1.74s\tremaining: 259ms\n",
      "1044:\tlearn: 0.2051544\ttotal: 1.74s\tremaining: 258ms\n",
      "1045:\tlearn: 0.2050654\ttotal: 1.74s\tremaining: 256ms\n",
      "1046:\tlearn: 0.2050483\ttotal: 1.74s\tremaining: 254ms\n",
      "1047:\tlearn: 0.2049978\ttotal: 1.74s\tremaining: 253ms\n",
      "1048:\tlearn: 0.2049474\ttotal: 1.74s\tremaining: 251ms\n",
      "1049:\tlearn: 0.2048949\ttotal: 1.75s\tremaining: 249ms\n",
      "1050:\tlearn: 0.2048368\ttotal: 1.75s\tremaining: 248ms\n",
      "1051:\tlearn: 0.2047576\ttotal: 1.75s\tremaining: 246ms\n",
      "1052:\tlearn: 0.2047293\ttotal: 1.75s\tremaining: 244ms\n",
      "1053:\tlearn: 0.2047006\ttotal: 1.75s\tremaining: 243ms\n",
      "1054:\tlearn: 0.2046688\ttotal: 1.75s\tremaining: 241ms\n",
      "1055:\tlearn: 0.2046150\ttotal: 1.75s\tremaining: 239ms\n",
      "1056:\tlearn: 0.2045818\ttotal: 1.76s\tremaining: 238ms\n",
      "1057:\tlearn: 0.2045425\ttotal: 1.76s\tremaining: 236ms\n",
      "1058:\tlearn: 0.2044770\ttotal: 1.76s\tremaining: 235ms\n",
      "1059:\tlearn: 0.2043997\ttotal: 1.76s\tremaining: 233ms\n",
      "1060:\tlearn: 0.2043758\ttotal: 1.76s\tremaining: 231ms\n",
      "1061:\tlearn: 0.2042660\ttotal: 1.77s\tremaining: 230ms\n",
      "1062:\tlearn: 0.2039531\ttotal: 1.77s\tremaining: 228ms\n",
      "1063:\tlearn: 0.2039005\ttotal: 1.77s\tremaining: 226ms\n",
      "1064:\tlearn: 0.2037136\ttotal: 1.77s\tremaining: 225ms\n",
      "1065:\tlearn: 0.2036605\ttotal: 1.77s\tremaining: 223ms\n",
      "1066:\tlearn: 0.2036105\ttotal: 1.77s\tremaining: 221ms\n",
      "1067:\tlearn: 0.2035837\ttotal: 1.78s\tremaining: 220ms\n",
      "1068:\tlearn: 0.2032876\ttotal: 1.78s\tremaining: 218ms\n",
      "1069:\tlearn: 0.2032446\ttotal: 1.78s\tremaining: 216ms\n",
      "1070:\tlearn: 0.2031750\ttotal: 1.78s\tremaining: 215ms\n",
      "1071:\tlearn: 0.2030980\ttotal: 1.78s\tremaining: 213ms\n",
      "1072:\tlearn: 0.2030480\ttotal: 1.78s\tremaining: 211ms\n",
      "1073:\tlearn: 0.2029603\ttotal: 1.79s\tremaining: 210ms\n",
      "1074:\tlearn: 0.2029215\ttotal: 1.79s\tremaining: 208ms\n",
      "1075:\tlearn: 0.2028354\ttotal: 1.79s\tremaining: 206ms\n",
      "1076:\tlearn: 0.2026970\ttotal: 1.79s\tremaining: 205ms\n",
      "1077:\tlearn: 0.2025544\ttotal: 1.79s\tremaining: 203ms\n",
      "1078:\tlearn: 0.2025243\ttotal: 1.79s\tremaining: 201ms\n",
      "1079:\tlearn: 0.2024662\ttotal: 1.8s\tremaining: 200ms\n",
      "1080:\tlearn: 0.2024325\ttotal: 1.8s\tremaining: 198ms\n",
      "1081:\tlearn: 0.2024090\ttotal: 1.8s\tremaining: 196ms\n",
      "1082:\tlearn: 0.2023689\ttotal: 1.8s\tremaining: 195ms\n",
      "1083:\tlearn: 0.2023309\ttotal: 1.8s\tremaining: 193ms\n",
      "1084:\tlearn: 0.2022445\ttotal: 1.8s\tremaining: 191ms\n",
      "1085:\tlearn: 0.2022199\ttotal: 1.81s\tremaining: 190ms\n",
      "1086:\tlearn: 0.2021626\ttotal: 1.81s\tremaining: 188ms\n",
      "1087:\tlearn: 0.2021474\ttotal: 1.81s\tremaining: 186ms\n",
      "1088:\tlearn: 0.2021065\ttotal: 1.81s\tremaining: 185ms\n",
      "1089:\tlearn: 0.2019156\ttotal: 1.81s\tremaining: 183ms\n",
      "1090:\tlearn: 0.2018572\ttotal: 1.81s\tremaining: 181ms\n",
      "1091:\tlearn: 0.2018290\ttotal: 1.82s\tremaining: 180ms\n",
      "1092:\tlearn: 0.2017896\ttotal: 1.82s\tremaining: 178ms\n",
      "1093:\tlearn: 0.2017432\ttotal: 1.82s\tremaining: 176ms\n",
      "1094:\tlearn: 0.2017038\ttotal: 1.82s\tremaining: 175ms\n",
      "1095:\tlearn: 0.2016616\ttotal: 1.82s\tremaining: 173ms\n",
      "1096:\tlearn: 0.2016168\ttotal: 1.82s\tremaining: 171ms\n",
      "1097:\tlearn: 0.2015442\ttotal: 1.83s\tremaining: 170ms\n",
      "1098:\tlearn: 0.2014987\ttotal: 1.83s\tremaining: 168ms\n",
      "1099:\tlearn: 0.2014542\ttotal: 1.83s\tremaining: 166ms\n",
      "1100:\tlearn: 0.2014034\ttotal: 1.83s\tremaining: 165ms\n",
      "1101:\tlearn: 0.2013632\ttotal: 1.83s\tremaining: 163ms\n",
      "1102:\tlearn: 0.2012976\ttotal: 1.83s\tremaining: 161ms\n",
      "1103:\tlearn: 0.2012251\ttotal: 1.84s\tremaining: 160ms\n",
      "1104:\tlearn: 0.2011891\ttotal: 1.84s\tremaining: 158ms\n",
      "1105:\tlearn: 0.2011719\ttotal: 1.84s\tremaining: 156ms\n",
      "1106:\tlearn: 0.2011278\ttotal: 1.84s\tremaining: 155ms\n",
      "1107:\tlearn: 0.2009791\ttotal: 1.84s\tremaining: 153ms\n",
      "1108:\tlearn: 0.2009093\ttotal: 1.84s\tremaining: 151ms\n",
      "1109:\tlearn: 0.2008788\ttotal: 1.85s\tremaining: 150ms\n",
      "1110:\tlearn: 0.2008381\ttotal: 1.85s\tremaining: 148ms\n",
      "1111:\tlearn: 0.2007553\ttotal: 1.85s\tremaining: 146ms\n",
      "1112:\tlearn: 0.2007398\ttotal: 1.85s\tremaining: 145ms\n",
      "1113:\tlearn: 0.2007145\ttotal: 1.85s\tremaining: 143ms\n",
      "1114:\tlearn: 0.2006937\ttotal: 1.85s\tremaining: 141ms\n",
      "1115:\tlearn: 0.2006711\ttotal: 1.86s\tremaining: 140ms\n",
      "1116:\tlearn: 0.2005125\ttotal: 1.86s\tremaining: 138ms\n",
      "1117:\tlearn: 0.2002626\ttotal: 1.86s\tremaining: 136ms\n",
      "1118:\tlearn: 0.2002082\ttotal: 1.86s\tremaining: 135ms\n",
      "1119:\tlearn: 0.2001325\ttotal: 1.86s\tremaining: 133ms\n",
      "1120:\tlearn: 0.2000484\ttotal: 1.86s\tremaining: 131ms\n",
      "1121:\tlearn: 0.2000128\ttotal: 1.87s\tremaining: 130ms\n",
      "1122:\tlearn: 0.1999658\ttotal: 1.87s\tremaining: 128ms\n",
      "1123:\tlearn: 0.1998979\ttotal: 1.87s\tremaining: 127ms\n",
      "1124:\tlearn: 0.1997910\ttotal: 1.87s\tremaining: 125ms\n",
      "1125:\tlearn: 0.1997358\ttotal: 1.87s\tremaining: 123ms\n",
      "1126:\tlearn: 0.1997029\ttotal: 1.88s\tremaining: 122ms\n",
      "1127:\tlearn: 0.1995699\ttotal: 1.88s\tremaining: 120ms\n",
      "1128:\tlearn: 0.1994653\ttotal: 1.88s\tremaining: 118ms\n",
      "1129:\tlearn: 0.1994332\ttotal: 1.88s\tremaining: 117ms\n",
      "1130:\tlearn: 0.1993839\ttotal: 1.88s\tremaining: 115ms\n",
      "1131:\tlearn: 0.1993588\ttotal: 1.88s\tremaining: 113ms\n",
      "1132:\tlearn: 0.1993304\ttotal: 1.89s\tremaining: 112ms\n",
      "1133:\tlearn: 0.1992909\ttotal: 1.89s\tremaining: 110ms\n",
      "1134:\tlearn: 0.1992597\ttotal: 1.89s\tremaining: 108ms\n",
      "1135:\tlearn: 0.1992239\ttotal: 1.89s\tremaining: 107ms\n",
      "1136:\tlearn: 0.1992018\ttotal: 1.89s\tremaining: 105ms\n",
      "1137:\tlearn: 0.1991540\ttotal: 1.89s\tremaining: 103ms\n",
      "1138:\tlearn: 0.1991266\ttotal: 1.9s\tremaining: 102ms\n",
      "1139:\tlearn: 0.1990911\ttotal: 1.9s\tremaining: 99.8ms\n",
      "1140:\tlearn: 0.1990508\ttotal: 1.9s\tremaining: 98.2ms\n",
      "1141:\tlearn: 0.1990103\ttotal: 1.9s\tremaining: 96.5ms\n",
      "1142:\tlearn: 0.1989726\ttotal: 1.9s\tremaining: 94.9ms\n",
      "1143:\tlearn: 0.1988452\ttotal: 1.9s\tremaining: 93.2ms\n",
      "1144:\tlearn: 0.1986600\ttotal: 1.91s\tremaining: 91.5ms\n",
      "1145:\tlearn: 0.1986248\ttotal: 1.91s\tremaining: 89.9ms\n",
      "1146:\tlearn: 0.1984328\ttotal: 1.91s\tremaining: 88.2ms\n",
      "1147:\tlearn: 0.1983916\ttotal: 1.91s\tremaining: 86.5ms\n",
      "1148:\tlearn: 0.1983377\ttotal: 1.91s\tremaining: 84.9ms\n",
      "1149:\tlearn: 0.1983058\ttotal: 1.91s\tremaining: 83.2ms\n",
      "1150:\tlearn: 0.1981134\ttotal: 1.92s\tremaining: 81.6ms\n",
      "1151:\tlearn: 0.1980926\ttotal: 1.92s\tremaining: 79.9ms\n",
      "1152:\tlearn: 0.1980509\ttotal: 1.92s\tremaining: 78.2ms\n",
      "1153:\tlearn: 0.1980242\ttotal: 1.92s\tremaining: 76.6ms\n",
      "1154:\tlearn: 0.1978985\ttotal: 1.92s\tremaining: 74.9ms\n",
      "1155:\tlearn: 0.1978657\ttotal: 1.92s\tremaining: 73.2ms\n",
      "1156:\tlearn: 0.1978275\ttotal: 1.93s\tremaining: 71.6ms\n",
      "1157:\tlearn: 0.1976178\ttotal: 1.93s\tremaining: 69.9ms\n",
      "1158:\tlearn: 0.1975933\ttotal: 1.93s\tremaining: 68.3ms\n",
      "1159:\tlearn: 0.1975199\ttotal: 1.93s\tremaining: 66.6ms\n",
      "1160:\tlearn: 0.1974621\ttotal: 1.93s\tremaining: 64.9ms\n",
      "1161:\tlearn: 0.1974260\ttotal: 1.93s\tremaining: 63.3ms\n",
      "1162:\tlearn: 0.1973630\ttotal: 1.94s\tremaining: 61.6ms\n",
      "1163:\tlearn: 0.1972018\ttotal: 1.94s\tremaining: 59.9ms\n",
      "1164:\tlearn: 0.1971637\ttotal: 1.94s\tremaining: 58.3ms\n",
      "1165:\tlearn: 0.1971352\ttotal: 1.94s\tremaining: 56.6ms\n",
      "1166:\tlearn: 0.1970919\ttotal: 1.94s\tremaining: 54.9ms\n",
      "1167:\tlearn: 0.1970221\ttotal: 1.94s\tremaining: 53.3ms\n",
      "1168:\tlearn: 0.1969912\ttotal: 1.95s\tremaining: 51.6ms\n",
      "1169:\tlearn: 0.1969306\ttotal: 1.95s\tremaining: 49.9ms\n",
      "1170:\tlearn: 0.1968818\ttotal: 1.95s\tremaining: 48.3ms\n",
      "1171:\tlearn: 0.1968593\ttotal: 1.95s\tremaining: 46.6ms\n",
      "1172:\tlearn: 0.1968226\ttotal: 1.95s\tremaining: 44.9ms\n",
      "1173:\tlearn: 0.1967456\ttotal: 1.95s\tremaining: 43.3ms\n",
      "1174:\tlearn: 0.1965049\ttotal: 1.96s\tremaining: 41.6ms\n",
      "1175:\tlearn: 0.1964454\ttotal: 1.96s\tremaining: 39.9ms\n",
      "1176:\tlearn: 0.1963981\ttotal: 1.96s\tremaining: 38.3ms\n",
      "1177:\tlearn: 0.1963534\ttotal: 1.96s\tremaining: 36.6ms\n",
      "1178:\tlearn: 0.1963118\ttotal: 1.96s\tremaining: 34.9ms\n",
      "1179:\tlearn: 0.1962834\ttotal: 1.96s\tremaining: 33.3ms\n",
      "1180:\tlearn: 0.1962352\ttotal: 1.96s\tremaining: 31.6ms\n",
      "1181:\tlearn: 0.1961941\ttotal: 1.97s\tremaining: 29.9ms\n",
      "1182:\tlearn: 0.1961857\ttotal: 1.97s\tremaining: 28.3ms\n",
      "1183:\tlearn: 0.1961622\ttotal: 1.97s\tremaining: 26.6ms\n",
      "1184:\tlearn: 0.1961289\ttotal: 1.97s\tremaining: 24.9ms\n",
      "1185:\tlearn: 0.1961199\ttotal: 1.97s\tremaining: 23.3ms\n",
      "1186:\tlearn: 0.1960999\ttotal: 1.97s\tremaining: 21.6ms\n",
      "1187:\tlearn: 0.1960746\ttotal: 1.98s\tremaining: 20ms\n",
      "1188:\tlearn: 0.1960431\ttotal: 1.98s\tremaining: 18.3ms\n",
      "1189:\tlearn: 0.1960176\ttotal: 1.98s\tremaining: 16.6ms\n",
      "1190:\tlearn: 0.1959614\ttotal: 1.98s\tremaining: 15ms\n",
      "1191:\tlearn: 0.1959317\ttotal: 1.98s\tremaining: 13.3ms\n",
      "1192:\tlearn: 0.1958969\ttotal: 1.98s\tremaining: 11.6ms\n",
      "1193:\tlearn: 0.1958660\ttotal: 1.99s\tremaining: 9.98ms\n",
      "1194:\tlearn: 0.1958251\ttotal: 1.99s\tremaining: 8.31ms\n",
      "1195:\tlearn: 0.1957861\ttotal: 1.99s\tremaining: 6.65ms\n",
      "1196:\tlearn: 0.1956353\ttotal: 1.99s\tremaining: 4.99ms\n",
      "1197:\tlearn: 0.1956040\ttotal: 1.99s\tremaining: 3.33ms\n",
      "1198:\tlearn: 0.1954935\ttotal: 1.99s\tremaining: 1.66ms\n",
      "1199:\tlearn: 0.1954642\ttotal: 2s\tremaining: 0us\n",
      "0.91990539536766 {'learning_rate': 0.3, 'max_depth': 2, 'n_estimators': 1200}\n",
      "CPU times: total: 7.11 s\n",
      "Wall time: 1min 44s\n"
     ]
    }
   ],
   "source": [
    "%%time\n",
    "model_cat = CatBoostClassifier(random_state=41022, class_weights=class_weights)\n",
    "\n",
    "parameters = [{'max_depth': [2,3,5,7],\n",
    "               'learning_rate': [0.1,0.3],\n",
    "               'n_estimators': [800,1000,1200]}]\n",
    "\n",
    "model_cat_gscv = GridSearchCV(model_cat, param_grid=parameters, scoring='roc_auc', \n",
    "                   cv=3, verbose=True, n_jobs=-1)\n",
    "model_cat_gscv.fit(X_train_scaled, y_train)\n",
    "\n",
    "print(model_cat_gscv.best_score_, model_cat_gscv.best_params_)"
   ]
  },
  {
   "cell_type": "markdown",
   "metadata": {},
   "source": [
    "Видим, что результат модели улучшился. При параметрах 'learning_rate': 0.3, 'max_depth': 2, 'n_estimators': 500 ROC-AUC = 0.92.  Возьмём эту модель как финальную и будем тестировать её"
   ]
  },
  {
   "cell_type": "markdown",
   "metadata": {},
   "source": [
    "### Тестирование лучшей модели"
   ]
  },
  {
   "cell_type": "markdown",
   "metadata": {},
   "source": [
    "Разумнее будет предсказывать не 0/1, а вероятность ухода - воспользуемся методом predict_proba"
   ]
  },
  {
   "cell_type": "code",
   "execution_count": 127,
   "metadata": {},
   "outputs": [
    {
     "name": "stdout",
     "output_type": "stream",
     "text": [
      "ROC-AUC:  0.9330669725526738\n"
     ]
    }
   ],
   "source": [
    "print('ROC-AUC: ', roc_auc_score(y_test, model_cat_gscv.best_estimator_.predict_proba(X_test_scaled)[:, 1]))"
   ]
  },
  {
   "cell_type": "markdown",
   "metadata": {},
   "source": [
    "ROC-AUC получился  0.93"
   ]
  },
  {
   "cell_type": "markdown",
   "metadata": {},
   "source": [
    "Проверим accuracy полученного результата"
   ]
  },
  {
   "cell_type": "code",
   "execution_count": 128,
   "metadata": {},
   "outputs": [
    {
     "name": "stdout",
     "output_type": "stream",
     "text": [
      "Accuracy:  0.8657565415244596\n"
     ]
    }
   ],
   "source": [
    "print('Accuracy: ', accuracy_score(y_test, model_cat_gscv.best_estimator_.predict(X_test_scaled)))"
   ]
  },
  {
   "cell_type": "markdown",
   "metadata": {},
   "source": [
    "А аccuracy получился 0.866"
   ]
  },
  {
   "cell_type": "markdown",
   "metadata": {},
   "source": [
    "Посмотрим на ROC кривую"
   ]
  },
  {
   "cell_type": "code",
   "execution_count": 129,
   "metadata": {},
   "outputs": [
    {
     "data": {
      "image/png": "[encoded data removed]",
      "text/plain": [
       "<Figure size 432x288 with 1 Axes>"
      ]
     },
     "metadata": {
      "needs_background": "light"
     },
     "output_type": "display_data"
    }
   ],
   "source": [
    "fpr, tpr, thresholds = roc_curve(y_test, model_cat_gscv.best_estimator_.predict_proba(X_test_scaled)[:, 1])\n",
    "\n",
    "plt.figure()\n",
    "plt.plot(fpr, tpr)\n",
    "plt.plot([0, 1], [0, 1], linestyle='--')\n",
    "plt.xlim([0.0, 1.0])\n",
    "plt.ylim([0.0, 1.0])\n",
    "plt.xlabel('False Positive Rate')\n",
    "plt.ylabel('True Positive Rate')\n",
    "plt.title('ROC-кривая')\n",
    "plt.show()"
   ]
  },
  {
   "cell_type": "markdown",
   "metadata": {},
   "source": [
    "## Вывод"
   ]
  },
  {
   "cell_type": "markdown",
   "metadata": {},
   "source": [
    "Итоговые результаты модели CatBoostClassifier с отмасштабированными признаками - площадь под ROC кривой на тестовой выборки составляет 0.93. Точность 86,6%.\n",
    "\n",
    "Наиболее значимым признаком является период использования услуг. Второй по значимости признак - сколько клиент всего заплатил компании. "
   ]
  },
  {
   "cell_type": "markdown",
   "metadata": {},
   "source": [
    "## Отчёт"
   ]
  },
  {
   "cell_type": "markdown",
   "metadata": {},
   "source": [
    "Был проведён исследовательский анализ данных, в ходе которого был выяснен дисбаланс классов. Кроме того, на этом этапе бвли построены графики, показывающие разницу распределения каждой фичи среди ушедших клиентов и всех клиентов. Были удалены столбцы с датами и добавлен новый столбец с периодом пользования услугами, который в результате оказался наиболее значимым признаком для итоговой модели. Было произведено кодирование категориальных признаков. При помощи кросс-валидации были сравнены три модели. Помимо этого, для модели, показавшей наивысший скор, было отдельное сравнение её результатов на отмасштабированных и неотмасштабированных данных. Фичи, оказавшиеся наименее значимыми, так же были удалены. "
   ]
  },
  {
   "cell_type": "markdown",
   "metadata": {},
   "source": [
    "***Какие пункты плана были выполнены, а какие — нет (поясните почему)?***\n",
    "\n",
    " * Были выполнены все пункты плана, поскольку план был составлен достаточно базоовый и включал в себя все основные шаги работы с подбором моделей и улучшением метрики\n"
   ]
  },
  {
   "cell_type": "markdown",
   "metadata": {},
   "source": [
    "***Какие трудности возникли и как вы их преодолели?***\n",
    "\n",
    " * Трудности были с тем, чтобы сделать метрику максимально высокой - на это потребовалось достаточно много времени. Справиться с трудностью помогла идея о том, что можно попробовать предсказывать вероятность ухода\n",
    " * Возникли трудности в момент, когда на этапе исследовательского анализа данных многие признаки казались неинформативными, были не понятно, какие стоит использовать, какие нет. Эта проблема была решена при помощи встроенного в CatBoost метода, показывающего информативность признаков"
   ]
  },
  {
   "cell_type": "markdown",
   "metadata": {},
   "source": [
    "***Какие ключевые шаги в решении задачи выделили?***\n",
    " * Загрузка и первичный осмотр данных\n",
    " * Предобработка \n",
    " * Исследовательский анализ данных \n",
    " * Кодирование и масштабирование данных\n",
    " * Обучение моделей и подбор гипер-параметров\n",
    " * Анализ важности признаков\n",
    " * Тестирование лучшей модели"
   ]
  },
  {
   "cell_type": "markdown",
   "metadata": {},
   "source": [
    "***Какая ваша итоговая модель и какое у неё качество?***\n",
    "\n",
    "* Итоговая модель: CatBoostRegressor с гипер-параметрами: {'learning_rate': 0.3, 'max_depth': 2, 'n_estimators': 1200}, обученная на закодированных и отмасштабированных признаках (исключая признаки с датой (вместо них признак с периодом) и исключая следующие признаки:'payment_method_Credit card (automatic)', 'device_protection', 'online_backup', 'dependents').\n",
    " * ROC-AUC получившейся модели на тестовой выборке 0.93, а accuracy=0.866"
   ]
  }
 ],
 "metadata": {
  "ExecuteTimeLog": [
   {
    "duration": 1039,
    "start_time": "2022-10-06T17:57:38.051Z"
   },
   {
    "duration": 90,
    "start_time": "2022-10-06T17:57:40.246Z"
   },
   {
    "duration": 78,
    "start_time": "2022-10-06T18:00:35.845Z"
   },
   {
    "duration": 1235,
    "start_time": "2022-10-07T06:59:16.633Z"
   },
   {
    "duration": 153,
    "start_time": "2022-10-07T06:59:19.790Z"
   },
   {
    "duration": 119,
    "start_time": "2022-10-07T06:59:36.953Z"
   },
   {
    "duration": 46,
    "start_time": "2022-10-07T06:59:37.542Z"
   },
   {
    "duration": 63,
    "start_time": "2022-10-07T06:59:38.044Z"
   },
   {
    "duration": 15,
    "start_time": "2022-10-07T07:00:40.833Z"
   },
   {
    "duration": 14,
    "start_time": "2022-10-07T07:00:41.696Z"
   },
   {
    "duration": 10,
    "start_time": "2022-10-07T07:00:47.753Z"
   },
   {
    "duration": 11,
    "start_time": "2022-10-07T07:00:48.126Z"
   },
   {
    "duration": 9,
    "start_time": "2022-10-07T07:01:04.976Z"
   },
   {
    "duration": 11,
    "start_time": "2022-10-07T07:01:05.532Z"
   },
   {
    "duration": 7,
    "start_time": "2022-10-07T07:01:06.189Z"
   },
   {
    "duration": 11,
    "start_time": "2022-10-07T07:01:06.761Z"
   },
   {
    "duration": 8,
    "start_time": "2022-10-07T07:02:21.145Z"
   },
   {
    "duration": 13,
    "start_time": "2022-10-07T07:02:21.360Z"
   },
   {
    "duration": 9,
    "start_time": "2022-10-07T07:02:21.687Z"
   },
   {
    "duration": 23,
    "start_time": "2022-10-07T07:02:21.847Z"
   },
   {
    "duration": 6,
    "start_time": "2022-10-07T07:02:22.114Z"
   },
   {
    "duration": 4,
    "start_time": "2022-10-07T07:02:22.775Z"
   },
   {
    "duration": 6,
    "start_time": "2022-10-07T07:02:22.989Z"
   },
   {
    "duration": 4,
    "start_time": "2022-10-07T07:02:23.424Z"
   },
   {
    "duration": 6,
    "start_time": "2022-10-07T07:02:23.644Z"
   },
   {
    "duration": 15,
    "start_time": "2022-10-07T07:02:24.115Z"
   },
   {
    "duration": 5,
    "start_time": "2022-10-07T07:02:27.991Z"
   },
   {
    "duration": 188,
    "start_time": "2022-10-07T07:02:28.174Z"
   },
   {
    "duration": 5,
    "start_time": "2022-10-07T07:02:29.919Z"
   },
   {
    "duration": 8,
    "start_time": "2022-10-07T07:02:30.094Z"
   },
   {
    "duration": 5,
    "start_time": "2022-10-07T07:02:30.504Z"
   },
   {
    "duration": 4,
    "start_time": "2022-10-07T07:02:31.186Z"
   },
   {
    "duration": 5,
    "start_time": "2022-10-07T07:02:31.357Z"
   },
   {
    "duration": 8,
    "start_time": "2022-10-07T07:02:31.673Z"
   },
   {
    "duration": 6,
    "start_time": "2022-10-07T07:02:32.835Z"
   },
   {
    "duration": 8,
    "start_time": "2022-10-07T07:02:33.077Z"
   },
   {
    "duration": 6,
    "start_time": "2022-10-07T07:02:34.325Z"
   },
   {
    "duration": 211,
    "start_time": "2022-10-07T07:02:34.574Z"
   },
   {
    "duration": 6,
    "start_time": "2022-10-07T07:07:43.959Z"
   },
   {
    "duration": 5,
    "start_time": "2022-10-07T07:07:44.979Z"
   },
   {
    "duration": 5,
    "start_time": "2022-10-07T07:07:45.146Z"
   },
   {
    "duration": 210,
    "start_time": "2022-10-07T07:07:45.319Z"
   },
   {
    "duration": 6,
    "start_time": "2022-10-07T07:09:35.530Z"
   },
   {
    "duration": 187,
    "start_time": "2022-10-07T07:09:35.666Z"
   },
   {
    "duration": 7,
    "start_time": "2022-10-07T07:12:05.267Z"
   },
   {
    "duration": 329,
    "start_time": "2022-10-07T07:12:05.707Z"
   },
   {
    "duration": 53,
    "start_time": "2022-10-07T09:09:20.704Z"
   },
   {
    "duration": 72,
    "start_time": "2022-10-07T10:14:15.854Z"
   },
   {
    "duration": 1463,
    "start_time": "2022-10-07T10:15:26.609Z"
   },
   {
    "duration": 133,
    "start_time": "2022-10-07T10:15:28.074Z"
   },
   {
    "duration": 88,
    "start_time": "2022-10-07T10:15:29.514Z"
   },
   {
    "duration": 107,
    "start_time": "2022-10-07T10:15:29.770Z"
   },
   {
    "duration": 55,
    "start_time": "2022-10-07T10:15:29.981Z"
   },
   {
    "duration": 22,
    "start_time": "2022-10-07T10:15:31.600Z"
   },
   {
    "duration": 16,
    "start_time": "2022-10-07T10:15:32.291Z"
   },
   {
    "duration": 24,
    "start_time": "2022-10-07T10:15:32.309Z"
   },
   {
    "duration": 30,
    "start_time": "2022-10-07T10:15:32.334Z"
   },
   {
    "duration": 23,
    "start_time": "2022-10-07T10:15:32.370Z"
   },
   {
    "duration": 29,
    "start_time": "2022-10-07T10:15:32.396Z"
   },
   {
    "duration": 19,
    "start_time": "2022-10-07T10:15:32.427Z"
   },
   {
    "duration": 47,
    "start_time": "2022-10-07T10:15:32.448Z"
   },
   {
    "duration": 11,
    "start_time": "2022-10-07T10:15:33.037Z"
   },
   {
    "duration": 23,
    "start_time": "2022-10-07T10:15:33.218Z"
   },
   {
    "duration": 17,
    "start_time": "2022-10-07T10:15:33.354Z"
   },
   {
    "duration": 27,
    "start_time": "2022-10-07T10:15:33.506Z"
   },
   {
    "duration": 7,
    "start_time": "2022-10-07T10:15:33.898Z"
   },
   {
    "duration": 5,
    "start_time": "2022-10-07T10:15:34.211Z"
   },
   {
    "duration": 7,
    "start_time": "2022-10-07T10:15:34.386Z"
   },
   {
    "duration": 5,
    "start_time": "2022-10-07T10:15:34.570Z"
   },
   {
    "duration": 5,
    "start_time": "2022-10-07T10:15:34.717Z"
   },
   {
    "duration": 17,
    "start_time": "2022-10-07T10:15:35.090Z"
   },
   {
    "duration": 7,
    "start_time": "2022-10-07T10:15:35.673Z"
   },
   {
    "duration": 241,
    "start_time": "2022-10-07T10:15:35.828Z"
   },
   {
    "duration": 8,
    "start_time": "2022-10-07T10:15:36.778Z"
   },
   {
    "duration": 10,
    "start_time": "2022-10-07T10:15:36.936Z"
   },
   {
    "duration": 11,
    "start_time": "2022-10-07T10:15:37.249Z"
   },
   {
    "duration": 6,
    "start_time": "2022-10-07T10:15:37.592Z"
   },
   {
    "duration": 6,
    "start_time": "2022-10-07T10:15:37.914Z"
   },
   {
    "duration": 19,
    "start_time": "2022-10-07T10:15:38.152Z"
   },
   {
    "duration": 8,
    "start_time": "2022-10-07T10:15:38.784Z"
   },
   {
    "duration": 9,
    "start_time": "2022-10-07T10:15:38.947Z"
   },
   {
    "duration": 7,
    "start_time": "2022-10-07T10:15:39.592Z"
   },
   {
    "duration": 290,
    "start_time": "2022-10-07T10:15:39.747Z"
   },
   {
    "duration": 7,
    "start_time": "2022-10-07T10:15:41.012Z"
   },
   {
    "duration": 7,
    "start_time": "2022-10-07T10:15:41.332Z"
   },
   {
    "duration": 9,
    "start_time": "2022-10-07T10:15:41.469Z"
   },
   {
    "duration": 329,
    "start_time": "2022-10-07T10:15:41.666Z"
   },
   {
    "duration": 8,
    "start_time": "2022-10-07T10:15:42.532Z"
   },
   {
    "duration": 233,
    "start_time": "2022-10-07T10:15:42.671Z"
   },
   {
    "duration": 8,
    "start_time": "2022-10-07T10:15:43.745Z"
   },
   {
    "duration": 390,
    "start_time": "2022-10-07T10:15:43.907Z"
   },
   {
    "duration": 10,
    "start_time": "2022-10-07T10:15:45.674Z"
   },
   {
    "duration": 34,
    "start_time": "2022-10-07T10:15:46.536Z"
   },
   {
    "duration": 10,
    "start_time": "2022-10-07T10:15:47.025Z"
   },
   {
    "duration": 388,
    "start_time": "2022-10-07T10:15:47.250Z"
   },
   {
    "duration": 7,
    "start_time": "2022-10-07T10:15:48.074Z"
   },
   {
    "duration": 240,
    "start_time": "2022-10-07T10:15:48.297Z"
   },
   {
    "duration": 6,
    "start_time": "2022-10-07T10:15:49.985Z"
   },
   {
    "duration": 273,
    "start_time": "2022-10-07T10:15:50.146Z"
   },
   {
    "duration": 7,
    "start_time": "2022-10-07T10:15:51.331Z"
   },
   {
    "duration": 8,
    "start_time": "2022-10-07T10:15:51.680Z"
   },
   {
    "duration": 5,
    "start_time": "2022-10-07T10:15:51.890Z"
   },
   {
    "duration": 351,
    "start_time": "2022-10-07T10:15:52.065Z"
   },
   {
    "duration": 7,
    "start_time": "2022-10-07T10:15:53.441Z"
   },
   {
    "duration": 8,
    "start_time": "2022-10-07T10:15:53.730Z"
   },
   {
    "duration": 6,
    "start_time": "2022-10-07T10:15:54.067Z"
   },
   {
    "duration": 230,
    "start_time": "2022-10-07T10:15:54.193Z"
   },
   {
    "duration": 7,
    "start_time": "2022-10-07T10:15:55.177Z"
   },
   {
    "duration": 5,
    "start_time": "2022-10-07T10:15:55.670Z"
   },
   {
    "duration": 4,
    "start_time": "2022-10-07T10:15:55.827Z"
   },
   {
    "duration": 258,
    "start_time": "2022-10-07T10:15:56.069Z"
   },
   {
    "duration": 10,
    "start_time": "2022-10-07T10:15:56.850Z"
   },
   {
    "duration": 9,
    "start_time": "2022-10-07T10:15:57.250Z"
   },
   {
    "duration": 27,
    "start_time": "2022-10-07T10:15:57.265Z"
   },
   {
    "duration": 4,
    "start_time": "2022-10-07T10:15:57.340Z"
   },
   {
    "duration": 4,
    "start_time": "2022-10-07T10:15:57.584Z"
   },
   {
    "duration": 238,
    "start_time": "2022-10-07T10:15:57.653Z"
   },
   {
    "duration": 7,
    "start_time": "2022-10-07T10:15:58.529Z"
   },
   {
    "duration": 5,
    "start_time": "2022-10-07T10:15:58.696Z"
   },
   {
    "duration": 5,
    "start_time": "2022-10-07T10:15:58.870Z"
   },
   {
    "duration": 4,
    "start_time": "2022-10-07T10:15:59.009Z"
   },
   {
    "duration": 3,
    "start_time": "2022-10-07T10:15:59.172Z"
   },
   {
    "duration": 238,
    "start_time": "2022-10-07T10:15:59.491Z"
   },
   {
    "duration": 8,
    "start_time": "2022-10-07T10:16:00.449Z"
   },
   {
    "duration": 6,
    "start_time": "2022-10-07T10:16:00.610Z"
   },
   {
    "duration": 8,
    "start_time": "2022-10-07T10:16:00.770Z"
   },
   {
    "duration": 4,
    "start_time": "2022-10-07T10:16:00.929Z"
   },
   {
    "duration": 6,
    "start_time": "2022-10-07T10:16:01.113Z"
   },
   {
    "duration": 260,
    "start_time": "2022-10-07T10:16:01.218Z"
   },
   {
    "duration": 8,
    "start_time": "2022-10-07T10:16:02.128Z"
   },
   {
    "duration": 6,
    "start_time": "2022-10-07T10:16:02.297Z"
   },
   {
    "duration": 6,
    "start_time": "2022-10-07T10:16:02.472Z"
   },
   {
    "duration": 4,
    "start_time": "2022-10-07T10:16:02.625Z"
   },
   {
    "duration": 4,
    "start_time": "2022-10-07T10:16:02.785Z"
   },
   {
    "duration": 238,
    "start_time": "2022-10-07T10:16:02.952Z"
   },
   {
    "duration": 7,
    "start_time": "2022-10-07T10:16:03.829Z"
   },
   {
    "duration": 5,
    "start_time": "2022-10-07T10:16:03.992Z"
   },
   {
    "duration": 5,
    "start_time": "2022-10-07T10:16:04.148Z"
   },
   {
    "duration": 4,
    "start_time": "2022-10-07T10:16:04.374Z"
   },
   {
    "duration": 4,
    "start_time": "2022-10-07T10:16:04.530Z"
   },
   {
    "duration": 225,
    "start_time": "2022-10-07T10:16:04.689Z"
   },
   {
    "duration": 8,
    "start_time": "2022-10-07T10:16:05.511Z"
   },
   {
    "duration": 5,
    "start_time": "2022-10-07T10:16:05.729Z"
   },
   {
    "duration": 7,
    "start_time": "2022-10-07T10:16:05.913Z"
   },
   {
    "duration": 5,
    "start_time": "2022-10-07T10:16:06.064Z"
   },
   {
    "duration": 5,
    "start_time": "2022-10-07T10:16:06.210Z"
   },
   {
    "duration": 337,
    "start_time": "2022-10-07T10:16:06.372Z"
   },
   {
    "duration": 13,
    "start_time": "2022-10-07T10:16:07.248Z"
   },
   {
    "duration": 6,
    "start_time": "2022-10-07T10:16:07.346Z"
   },
   {
    "duration": 6,
    "start_time": "2022-10-07T10:16:07.572Z"
   },
   {
    "duration": 5,
    "start_time": "2022-10-07T10:16:07.729Z"
   },
   {
    "duration": 4,
    "start_time": "2022-10-07T10:16:07.908Z"
   },
   {
    "duration": 254,
    "start_time": "2022-10-07T10:16:08.081Z"
   },
   {
    "duration": 91,
    "start_time": "2022-10-07T11:32:22.799Z"
   },
   {
    "duration": 1283,
    "start_time": "2022-10-09T11:25:36.152Z"
   },
   {
    "duration": 114,
    "start_time": "2022-10-09T11:25:37.438Z"
   },
   {
    "duration": 45,
    "start_time": "2022-10-09T11:25:37.553Z"
   },
   {
    "duration": 93,
    "start_time": "2022-10-09T11:25:37.600Z"
   },
   {
    "duration": 48,
    "start_time": "2022-10-09T11:25:37.694Z"
   },
   {
    "duration": 15,
    "start_time": "2022-10-09T11:25:37.744Z"
   },
   {
    "duration": 11,
    "start_time": "2022-10-09T11:25:37.761Z"
   },
   {
    "duration": 10,
    "start_time": "2022-10-09T11:25:37.894Z"
   },
   {
    "duration": 10,
    "start_time": "2022-10-09T11:25:38.058Z"
   },
   {
    "duration": 8,
    "start_time": "2022-10-09T11:25:38.207Z"
   },
   {
    "duration": 10,
    "start_time": "2022-10-09T11:25:38.437Z"
   },
   {
    "duration": 7,
    "start_time": "2022-10-09T11:25:47.304Z"
   },
   {
    "duration": 11,
    "start_time": "2022-10-09T11:25:47.427Z"
   },
   {
    "duration": 7,
    "start_time": "2022-10-09T11:25:48.144Z"
   },
   {
    "duration": 14,
    "start_time": "2022-10-09T11:25:48.284Z"
   },
   {
    "duration": 10,
    "start_time": "2022-10-09T11:25:48.414Z"
   },
   {
    "duration": 22,
    "start_time": "2022-10-09T11:25:48.539Z"
   },
   {
    "duration": 5,
    "start_time": "2022-10-09T11:25:48.833Z"
   },
   {
    "duration": 4,
    "start_time": "2022-10-09T11:25:49.131Z"
   },
   {
    "duration": 5,
    "start_time": "2022-10-09T11:25:49.355Z"
   },
   {
    "duration": 4,
    "start_time": "2022-10-09T11:25:50.305Z"
   },
   {
    "duration": 4,
    "start_time": "2022-10-09T11:25:50.485Z"
   },
   {
    "duration": 16,
    "start_time": "2022-10-09T11:25:50.621Z"
   },
   {
    "duration": 4,
    "start_time": "2022-10-09T11:25:51.386Z"
   },
   {
    "duration": 173,
    "start_time": "2022-10-09T11:25:51.585Z"
   },
   {
    "duration": 6,
    "start_time": "2022-10-09T11:25:52.658Z"
   },
   {
    "duration": 8,
    "start_time": "2022-10-09T11:25:52.816Z"
   },
   {
    "duration": 5,
    "start_time": "2022-10-09T11:25:53.287Z"
   },
   {
    "duration": 4,
    "start_time": "2022-10-09T11:25:53.737Z"
   },
   {
    "duration": 6,
    "start_time": "2022-10-09T11:25:53.905Z"
   },
   {
    "duration": 7,
    "start_time": "2022-10-09T11:25:54.135Z"
   },
   {
    "duration": 4,
    "start_time": "2022-10-09T11:25:55.093Z"
   },
   {
    "duration": 8,
    "start_time": "2022-10-09T11:25:55.259Z"
   },
   {
    "duration": 6,
    "start_time": "2022-10-09T11:25:55.884Z"
   },
   {
    "duration": 199,
    "start_time": "2022-10-09T11:25:56.037Z"
   },
   {
    "duration": 5,
    "start_time": "2022-10-09T11:25:57.217Z"
   },
   {
    "duration": 5,
    "start_time": "2022-10-09T11:25:57.584Z"
   },
   {
    "duration": 4,
    "start_time": "2022-10-09T11:25:57.736Z"
   },
   {
    "duration": 208,
    "start_time": "2022-10-09T11:25:57.955Z"
   },
   {
    "duration": 6,
    "start_time": "2022-10-09T11:26:00.337Z"
   },
   {
    "duration": 193,
    "start_time": "2022-10-09T11:26:01.390Z"
   },
   {
    "duration": 6,
    "start_time": "2022-10-09T11:26:13.018Z"
   },
   {
    "duration": 317,
    "start_time": "2022-10-09T11:26:13.187Z"
   },
   {
    "duration": 9,
    "start_time": "2022-10-09T11:26:15.006Z"
   },
   {
    "duration": 25,
    "start_time": "2022-10-09T11:26:18.656Z"
   },
   {
    "duration": 6,
    "start_time": "2022-10-09T11:26:20.181Z"
   },
   {
    "duration": 310,
    "start_time": "2022-10-09T11:26:20.684Z"
   },
   {
    "duration": 6,
    "start_time": "2022-10-09T11:26:25.623Z"
   },
   {
    "duration": 193,
    "start_time": "2022-10-09T11:26:26.540Z"
   },
   {
    "duration": 5,
    "start_time": "2022-10-09T11:26:28.658Z"
   },
   {
    "duration": 197,
    "start_time": "2022-10-09T11:26:28.849Z"
   },
   {
    "duration": 6,
    "start_time": "2022-10-09T11:26:30.039Z"
   },
   {
    "duration": 6,
    "start_time": "2022-10-09T11:26:30.423Z"
   },
   {
    "duration": 5,
    "start_time": "2022-10-09T11:26:30.596Z"
   },
   {
    "duration": 255,
    "start_time": "2022-10-09T11:26:30.784Z"
   },
   {
    "duration": 6,
    "start_time": "2022-10-09T11:26:32.053Z"
   },
   {
    "duration": 6,
    "start_time": "2022-10-09T11:26:32.207Z"
   },
   {
    "duration": 4,
    "start_time": "2022-10-09T11:26:32.384Z"
   },
   {
    "duration": 187,
    "start_time": "2022-10-09T11:26:32.587Z"
   },
   {
    "duration": 5,
    "start_time": "2022-10-09T11:26:33.685Z"
   },
   {
    "duration": 4,
    "start_time": "2022-10-09T11:26:33.942Z"
   },
   {
    "duration": 3,
    "start_time": "2022-10-09T11:26:34.190Z"
   },
   {
    "duration": 231,
    "start_time": "2022-10-09T11:26:34.418Z"
   },
   {
    "duration": 6,
    "start_time": "2022-10-09T11:26:36.695Z"
   },
   {
    "duration": 5,
    "start_time": "2022-10-09T11:26:36.884Z"
   },
   {
    "duration": 4,
    "start_time": "2022-10-09T11:26:37.105Z"
   },
   {
    "duration": 3,
    "start_time": "2022-10-09T11:26:37.554Z"
   },
   {
    "duration": 3,
    "start_time": "2022-10-09T11:26:37.788Z"
   },
   {
    "duration": 203,
    "start_time": "2022-10-09T11:26:38.197Z"
   },
   {
    "duration": 6,
    "start_time": "2022-10-09T11:26:39.604Z"
   },
   {
    "duration": 5,
    "start_time": "2022-10-09T11:26:39.796Z"
   },
   {
    "duration": 4,
    "start_time": "2022-10-09T11:26:39.994Z"
   },
   {
    "duration": 3,
    "start_time": "2022-10-09T11:26:40.199Z"
   },
   {
    "duration": 3,
    "start_time": "2022-10-09T11:26:40.396Z"
   },
   {
    "duration": 184,
    "start_time": "2022-10-09T11:26:40.594Z"
   },
   {
    "duration": 6,
    "start_time": "2022-10-09T11:26:42.026Z"
   },
   {
    "duration": 5,
    "start_time": "2022-10-09T11:26:42.199Z"
   },
   {
    "duration": 5,
    "start_time": "2022-10-09T11:26:42.402Z"
   },
   {
    "duration": 3,
    "start_time": "2022-10-09T11:26:42.578Z"
   },
   {
    "duration": 3,
    "start_time": "2022-10-09T11:26:42.735Z"
   },
   {
    "duration": 192,
    "start_time": "2022-10-09T11:26:42.932Z"
   },
   {
    "duration": 6,
    "start_time": "2022-10-09T11:26:44.310Z"
   },
   {
    "duration": 6,
    "start_time": "2022-10-09T11:26:44.494Z"
   },
   {
    "duration": 4,
    "start_time": "2022-10-09T11:26:44.685Z"
   },
   {
    "duration": 3,
    "start_time": "2022-10-09T11:26:44.895Z"
   },
   {
    "duration": 4,
    "start_time": "2022-10-09T11:26:45.084Z"
   },
   {
    "duration": 194,
    "start_time": "2022-10-09T11:26:45.267Z"
   },
   {
    "duration": 6,
    "start_time": "2022-10-09T11:26:46.429Z"
   },
   {
    "duration": 6,
    "start_time": "2022-10-09T11:26:46.592Z"
   },
   {
    "duration": 4,
    "start_time": "2022-10-09T11:26:47.019Z"
   },
   {
    "duration": 5,
    "start_time": "2022-10-09T11:26:47.025Z"
   },
   {
    "duration": 3,
    "start_time": "2022-10-09T11:26:47.152Z"
   },
   {
    "duration": 187,
    "start_time": "2022-10-09T11:26:47.339Z"
   },
   {
    "duration": 5,
    "start_time": "2022-10-09T11:26:48.440Z"
   },
   {
    "duration": 4,
    "start_time": "2022-10-09T11:26:48.625Z"
   },
   {
    "duration": 5,
    "start_time": "2022-10-09T11:26:48.810Z"
   },
   {
    "duration": 3,
    "start_time": "2022-10-09T11:26:49.013Z"
   },
   {
    "duration": 3,
    "start_time": "2022-10-09T11:26:49.199Z"
   },
   {
    "duration": 191,
    "start_time": "2022-10-09T11:26:49.385Z"
   },
   {
    "duration": 5,
    "start_time": "2022-10-09T11:26:50.569Z"
   },
   {
    "duration": 5,
    "start_time": "2022-10-09T11:26:50.731Z"
   },
   {
    "duration": 5,
    "start_time": "2022-10-09T11:26:50.928Z"
   },
   {
    "duration": 4,
    "start_time": "2022-10-09T11:26:51.097Z"
   },
   {
    "duration": 4,
    "start_time": "2022-10-09T11:26:51.284Z"
   },
   {
    "duration": 205,
    "start_time": "2022-10-09T11:26:51.484Z"
   },
   {
    "duration": 1537,
    "start_time": "2022-10-09T11:35:56.350Z"
   },
   {
    "duration": 1359,
    "start_time": "2022-10-09T11:36:12.329Z"
   },
   {
    "duration": 12,
    "start_time": "2022-10-09T11:46:36.632Z"
   },
   {
    "duration": 19,
    "start_time": "2022-10-09T13:44:45.099Z"
   },
   {
    "duration": 20,
    "start_time": "2022-10-09T13:45:00.766Z"
   },
   {
    "duration": 3207,
    "start_time": "2022-10-09T14:06:27.426Z"
   },
   {
    "duration": 292,
    "start_time": "2022-10-09T14:18:20.101Z"
   },
   {
    "duration": 117,
    "start_time": "2022-10-09T14:19:50.143Z"
   },
   {
    "duration": 5,
    "start_time": "2022-10-09T14:19:59.250Z"
   },
   {
    "duration": 58,
    "start_time": "2022-10-09T14:20:30.539Z"
   },
   {
    "duration": 7,
    "start_time": "2022-10-09T14:20:38.305Z"
   },
   {
    "duration": 4,
    "start_time": "2022-10-09T14:22:28.579Z"
   },
   {
    "duration": 4,
    "start_time": "2022-10-09T14:22:30.712Z"
   },
   {
    "duration": 6,
    "start_time": "2022-10-09T14:22:32.719Z"
   },
   {
    "duration": 10,
    "start_time": "2022-10-09T14:22:40.320Z"
   },
   {
    "duration": 48,
    "start_time": "2022-10-09T14:26:07.298Z"
   },
   {
    "duration": 20670,
    "start_time": "2022-10-09T14:26:25.327Z"
   },
   {
    "duration": 20534,
    "start_time": "2022-10-09T14:28:12.408Z"
   },
   {
    "duration": 20647,
    "start_time": "2022-10-09T14:29:40.597Z"
   },
   {
    "duration": 67,
    "start_time": "2022-10-09T14:31:59.233Z"
   },
   {
    "duration": 62,
    "start_time": "2022-10-09T14:32:15.086Z"
   },
   {
    "duration": 6427,
    "start_time": "2022-10-09T14:32:28.004Z"
   },
   {
    "duration": 9,
    "start_time": "2022-10-09T14:34:30.338Z"
   },
   {
    "duration": 3,
    "start_time": "2022-10-09T14:35:06.985Z"
   },
   {
    "duration": 4,
    "start_time": "2022-10-09T14:35:18.283Z"
   },
   {
    "duration": 287578,
    "start_time": "2022-10-09T14:35:26.748Z"
   },
   {
    "duration": 144161,
    "start_time": "2022-10-09T14:42:53.226Z"
   },
   {
    "duration": 180840,
    "start_time": "2022-10-09T14:47:15.824Z"
   },
   {
    "duration": 269650,
    "start_time": "2022-10-09T14:52:44.760Z"
   },
   {
    "duration": 4,
    "start_time": "2022-10-09T15:08:58.464Z"
   },
   {
    "duration": 13,
    "start_time": "2022-10-09T15:09:59.780Z"
   },
   {
    "duration": 18,
    "start_time": "2022-10-09T15:10:00.386Z"
   },
   {
    "duration": 11,
    "start_time": "2022-10-09T15:13:30.900Z"
   },
   {
    "duration": 4,
    "start_time": "2022-10-09T15:13:39.477Z"
   },
   {
    "duration": 49,
    "start_time": "2022-10-09T15:13:39.482Z"
   },
   {
    "duration": 20,
    "start_time": "2022-10-09T15:13:39.533Z"
   },
   {
    "duration": 19,
    "start_time": "2022-10-09T15:13:39.555Z"
   },
   {
    "duration": 17,
    "start_time": "2022-10-09T15:13:39.576Z"
   },
   {
    "duration": 11,
    "start_time": "2022-10-09T15:13:39.594Z"
   },
   {
    "duration": 12,
    "start_time": "2022-10-09T15:13:39.607Z"
   },
   {
    "duration": 10,
    "start_time": "2022-10-09T15:13:39.621Z"
   },
   {
    "duration": 12,
    "start_time": "2022-10-09T15:13:39.633Z"
   },
   {
    "duration": 9,
    "start_time": "2022-10-09T15:13:39.647Z"
   },
   {
    "duration": 9,
    "start_time": "2022-10-09T15:13:39.660Z"
   },
   {
    "duration": 9,
    "start_time": "2022-10-09T15:13:39.671Z"
   },
   {
    "duration": 11,
    "start_time": "2022-10-09T15:13:39.709Z"
   },
   {
    "duration": 7,
    "start_time": "2022-10-09T15:13:39.722Z"
   },
   {
    "duration": 11,
    "start_time": "2022-10-09T15:13:39.730Z"
   },
   {
    "duration": 8,
    "start_time": "2022-10-09T15:13:39.743Z"
   },
   {
    "duration": 27,
    "start_time": "2022-10-09T15:13:39.752Z"
   },
   {
    "duration": 6,
    "start_time": "2022-10-09T15:13:39.809Z"
   },
   {
    "duration": 8,
    "start_time": "2022-10-09T15:13:39.816Z"
   },
   {
    "duration": 6,
    "start_time": "2022-10-09T15:13:39.825Z"
   },
   {
    "duration": 7,
    "start_time": "2022-10-09T15:13:39.832Z"
   },
   {
    "duration": 5,
    "start_time": "2022-10-09T15:13:39.840Z"
   },
   {
    "duration": 21,
    "start_time": "2022-10-09T15:13:39.846Z"
   },
   {
    "duration": 4,
    "start_time": "2022-10-09T15:13:39.868Z"
   },
   {
    "duration": 286,
    "start_time": "2022-10-09T15:13:39.874Z"
   },
   {
    "duration": 8,
    "start_time": "2022-10-09T15:13:40.161Z"
   },
   {
    "duration": 12,
    "start_time": "2022-10-09T15:13:40.170Z"
   },
   {
    "duration": 4,
    "start_time": "2022-10-09T15:13:40.184Z"
   },
   {
    "duration": 5,
    "start_time": "2022-10-09T15:13:40.210Z"
   },
   {
    "duration": 12,
    "start_time": "2022-10-09T15:13:40.217Z"
   },
   {
    "duration": 10,
    "start_time": "2022-10-09T15:13:40.231Z"
   },
   {
    "duration": 5,
    "start_time": "2022-10-09T15:13:40.242Z"
   },
   {
    "duration": 14,
    "start_time": "2022-10-09T15:13:40.249Z"
   },
   {
    "duration": 6,
    "start_time": "2022-10-09T15:13:40.264Z"
   },
   {
    "duration": 217,
    "start_time": "2022-10-09T15:13:40.271Z"
   },
   {
    "duration": 5,
    "start_time": "2022-10-09T15:13:40.490Z"
   },
   {
    "duration": 14,
    "start_time": "2022-10-09T15:13:40.496Z"
   },
   {
    "duration": 4,
    "start_time": "2022-10-09T15:13:40.511Z"
   },
   {
    "duration": 221,
    "start_time": "2022-10-09T15:13:40.516Z"
   },
   {
    "duration": 6,
    "start_time": "2022-10-09T15:13:40.739Z"
   },
   {
    "duration": 209,
    "start_time": "2022-10-09T15:13:40.747Z"
   },
   {
    "duration": 6,
    "start_time": "2022-10-09T15:13:40.957Z"
   },
   {
    "duration": 306,
    "start_time": "2022-10-09T15:13:40.964Z"
   },
   {
    "duration": 10,
    "start_time": "2022-10-09T15:13:41.271Z"
   },
   {
    "duration": 39,
    "start_time": "2022-10-09T15:13:41.282Z"
   },
   {
    "duration": 7,
    "start_time": "2022-10-09T15:13:41.322Z"
   },
   {
    "duration": 320,
    "start_time": "2022-10-09T15:13:41.330Z"
   },
   {
    "duration": 7,
    "start_time": "2022-10-09T15:13:41.652Z"
   },
   {
    "duration": 204,
    "start_time": "2022-10-09T15:13:41.661Z"
   },
   {
    "duration": 6,
    "start_time": "2022-10-09T15:13:41.867Z"
   },
   {
    "duration": 218,
    "start_time": "2022-10-09T15:13:41.874Z"
   },
   {
    "duration": 6,
    "start_time": "2022-10-09T15:13:42.093Z"
   },
   {
    "duration": 4,
    "start_time": "2022-10-09T15:13:42.109Z"
   },
   {
    "duration": 11,
    "start_time": "2022-10-09T15:13:42.115Z"
   },
   {
    "duration": 204,
    "start_time": "2022-10-09T15:13:42.127Z"
   },
   {
    "duration": 6,
    "start_time": "2022-10-09T15:13:42.332Z"
   },
   {
    "duration": 6,
    "start_time": "2022-10-09T15:13:42.339Z"
   },
   {
    "duration": 6,
    "start_time": "2022-10-09T15:13:42.347Z"
   },
   {
    "duration": 209,
    "start_time": "2022-10-09T15:13:42.355Z"
   },
   {
    "duration": 6,
    "start_time": "2022-10-09T15:13:42.566Z"
   },
   {
    "duration": 5,
    "start_time": "2022-10-09T15:13:42.573Z"
   },
   {
    "duration": 6,
    "start_time": "2022-10-09T15:13:42.579Z"
   },
   {
    "duration": 205,
    "start_time": "2022-10-09T15:13:42.586Z"
   },
   {
    "duration": 7,
    "start_time": "2022-10-09T15:13:42.792Z"
   },
   {
    "duration": 6,
    "start_time": "2022-10-09T15:13:42.809Z"
   },
   {
    "duration": 6,
    "start_time": "2022-10-09T15:13:42.817Z"
   },
   {
    "duration": 4,
    "start_time": "2022-10-09T15:13:42.824Z"
   },
   {
    "duration": 5,
    "start_time": "2022-10-09T15:13:42.829Z"
   },
   {
    "duration": 200,
    "start_time": "2022-10-09T15:13:42.836Z"
   },
   {
    "duration": 5,
    "start_time": "2022-10-09T15:13:43.038Z"
   },
   {
    "duration": 6,
    "start_time": "2022-10-09T15:13:43.045Z"
   },
   {
    "duration": 4,
    "start_time": "2022-10-09T15:13:43.053Z"
   },
   {
    "duration": 3,
    "start_time": "2022-10-09T15:13:43.059Z"
   },
   {
    "duration": 4,
    "start_time": "2022-10-09T15:13:43.064Z"
   },
   {
    "duration": 210,
    "start_time": "2022-10-09T15:13:43.069Z"
   },
   {
    "duration": 6,
    "start_time": "2022-10-09T15:13:43.280Z"
   },
   {
    "duration": 7,
    "start_time": "2022-10-09T15:13:43.287Z"
   },
   {
    "duration": 6,
    "start_time": "2022-10-09T15:13:43.308Z"
   },
   {
    "duration": 4,
    "start_time": "2022-10-09T15:13:43.315Z"
   },
   {
    "duration": 4,
    "start_time": "2022-10-09T15:13:43.320Z"
   },
   {
    "duration": 209,
    "start_time": "2022-10-09T15:13:43.325Z"
   },
   {
    "duration": 7,
    "start_time": "2022-10-09T15:13:43.535Z"
   },
   {
    "duration": 4,
    "start_time": "2022-10-09T15:13:43.547Z"
   },
   {
    "duration": 6,
    "start_time": "2022-10-09T15:13:43.553Z"
   },
   {
    "duration": 4,
    "start_time": "2022-10-09T15:13:43.560Z"
   },
   {
    "duration": 4,
    "start_time": "2022-10-09T15:13:43.565Z"
   },
   {
    "duration": 326,
    "start_time": "2022-10-09T15:13:43.571Z"
   },
   {
    "duration": 10,
    "start_time": "2022-10-09T15:13:43.899Z"
   },
   {
    "duration": 5,
    "start_time": "2022-10-09T15:13:43.910Z"
   },
   {
    "duration": 6,
    "start_time": "2022-10-09T15:13:43.916Z"
   },
   {
    "duration": 3,
    "start_time": "2022-10-09T15:13:43.923Z"
   },
   {
    "duration": 15,
    "start_time": "2022-10-09T15:13:43.928Z"
   },
   {
    "duration": 215,
    "start_time": "2022-10-09T15:13:43.945Z"
   },
   {
    "duration": 6,
    "start_time": "2022-10-09T15:13:44.161Z"
   },
   {
    "duration": 7,
    "start_time": "2022-10-09T15:13:44.168Z"
   },
   {
    "duration": 5,
    "start_time": "2022-10-09T15:13:44.176Z"
   },
   {
    "duration": 3,
    "start_time": "2022-10-09T15:13:44.183Z"
   },
   {
    "duration": 4,
    "start_time": "2022-10-09T15:13:44.187Z"
   },
   {
    "duration": 196,
    "start_time": "2022-10-09T15:13:44.208Z"
   },
   {
    "duration": 9,
    "start_time": "2022-10-09T15:13:44.406Z"
   },
   {
    "duration": 10,
    "start_time": "2022-10-09T15:13:44.417Z"
   },
   {
    "duration": 9,
    "start_time": "2022-10-09T15:13:44.428Z"
   },
   {
    "duration": 6,
    "start_time": "2022-10-09T15:13:44.440Z"
   },
   {
    "duration": 7,
    "start_time": "2022-10-09T15:13:44.449Z"
   },
   {
    "duration": 264,
    "start_time": "2022-10-09T15:13:44.457Z"
   },
   {
    "duration": 13,
    "start_time": "2022-10-09T15:13:44.723Z"
   },
   {
    "duration": 4,
    "start_time": "2022-10-09T15:13:44.737Z"
   },
   {
    "duration": 5,
    "start_time": "2022-10-09T15:13:44.743Z"
   },
   {
    "duration": 5,
    "start_time": "2022-10-09T15:13:44.749Z"
   },
   {
    "duration": 6,
    "start_time": "2022-10-09T15:13:44.756Z"
   },
   {
    "duration": 6,
    "start_time": "2022-10-09T15:13:44.763Z"
   },
   {
    "duration": 20859,
    "start_time": "2022-10-09T15:13:44.770Z"
   },
   {
    "duration": 4,
    "start_time": "2022-10-09T15:14:05.630Z"
   },
   {
    "duration": 170909,
    "start_time": "2022-10-09T15:14:05.635Z"
   },
   {
    "duration": 130366,
    "start_time": "2022-10-09T15:16:56.546Z"
   },
   {
    "duration": 75,
    "start_time": "2022-10-09T15:23:09.429Z"
   },
   {
    "duration": 9,
    "start_time": "2022-10-09T15:23:24.907Z"
   },
   {
    "duration": 3,
    "start_time": "2022-10-09T15:23:52.371Z"
   },
   {
    "duration": 10,
    "start_time": "2022-10-09T15:23:58.526Z"
   },
   {
    "duration": 169649,
    "start_time": "2022-10-09T15:24:03.636Z"
   },
   {
    "duration": 10,
    "start_time": "2022-10-09T15:31:02.235Z"
   },
   {
    "duration": 8,
    "start_time": "2022-10-09T15:32:06.855Z"
   },
   {
    "duration": 9,
    "start_time": "2022-10-09T15:32:52.220Z"
   },
   {
    "duration": 9,
    "start_time": "2022-10-09T15:33:49.146Z"
   },
   {
    "duration": 8,
    "start_time": "2022-10-09T15:34:29.420Z"
   },
   {
    "duration": 8,
    "start_time": "2022-10-09T15:35:14.030Z"
   },
   {
    "duration": 28,
    "start_time": "2022-10-09T15:35:16.835Z"
   },
   {
    "duration": 4,
    "start_time": "2022-10-09T15:35:29.201Z"
   },
   {
    "duration": 9,
    "start_time": "2022-10-09T15:38:32.942Z"
   },
   {
    "duration": 5,
    "start_time": "2022-10-09T15:38:51.518Z"
   },
   {
    "duration": 11,
    "start_time": "2022-10-09T15:39:24.167Z"
   },
   {
    "duration": 4,
    "start_time": "2022-10-09T15:41:51.848Z"
   },
   {
    "duration": 15,
    "start_time": "2022-10-09T15:42:00.980Z"
   },
   {
    "duration": 4,
    "start_time": "2022-10-09T15:42:06.168Z"
   },
   {
    "duration": 9,
    "start_time": "2022-10-09T15:42:27.989Z"
   },
   {
    "duration": 162303,
    "start_time": "2022-10-09T15:42:45.057Z"
   },
   {
    "duration": 5,
    "start_time": "2022-10-09T15:49:15.367Z"
   },
   {
    "duration": 9,
    "start_time": "2022-10-09T15:50:11.750Z"
   },
   {
    "duration": 5,
    "start_time": "2022-10-09T15:50:20.816Z"
   },
   {
    "duration": 4,
    "start_time": "2022-10-09T15:51:24.137Z"
   },
   {
    "duration": 5,
    "start_time": "2022-10-09T15:51:25.971Z"
   },
   {
    "duration": 12,
    "start_time": "2022-10-09T15:53:40.155Z"
   },
   {
    "duration": 11,
    "start_time": "2022-10-09T15:54:22.619Z"
   },
   {
    "duration": 10,
    "start_time": "2022-10-09T15:54:42.888Z"
   },
   {
    "duration": 11,
    "start_time": "2022-10-09T15:55:02.716Z"
   },
   {
    "duration": 5,
    "start_time": "2022-10-09T15:56:13.922Z"
   },
   {
    "duration": 5,
    "start_time": "2022-10-09T15:56:15.422Z"
   },
   {
    "duration": 6,
    "start_time": "2022-10-09T15:58:07.475Z"
   },
   {
    "duration": 6,
    "start_time": "2022-10-09T15:58:09.686Z"
   },
   {
    "duration": 38,
    "start_time": "2022-10-09T15:59:01.809Z"
   },
   {
    "duration": 7,
    "start_time": "2022-10-09T15:59:08.039Z"
   },
   {
    "duration": 44,
    "start_time": "2022-10-09T15:59:31.500Z"
   },
   {
    "duration": 49,
    "start_time": "2022-10-09T15:59:50.879Z"
   },
   {
    "duration": 7,
    "start_time": "2022-10-09T16:00:03.635Z"
   },
   {
    "duration": 109,
    "start_time": "2022-10-09T16:03:33.530Z"
   },
   {
    "duration": 2140,
    "start_time": "2022-10-11T06:35:30.463Z"
   },
   {
    "duration": 267,
    "start_time": "2022-10-11T06:35:32.605Z"
   },
   {
    "duration": 101,
    "start_time": "2022-10-11T06:35:32.874Z"
   },
   {
    "duration": 49,
    "start_time": "2022-10-11T06:35:32.978Z"
   },
   {
    "duration": 42,
    "start_time": "2022-10-11T06:35:33.029Z"
   },
   {
    "duration": 16,
    "start_time": "2022-10-11T06:35:33.073Z"
   },
   {
    "duration": 24,
    "start_time": "2022-10-11T06:35:33.091Z"
   },
   {
    "duration": 33,
    "start_time": "2022-10-11T06:35:33.116Z"
   },
   {
    "duration": 30,
    "start_time": "2022-10-11T06:35:33.150Z"
   },
   {
    "duration": 26,
    "start_time": "2022-10-11T06:35:33.183Z"
   },
   {
    "duration": 22,
    "start_time": "2022-10-11T06:35:33.211Z"
   },
   {
    "duration": 33,
    "start_time": "2022-10-11T06:35:33.234Z"
   },
   {
    "duration": 35,
    "start_time": "2022-10-11T06:35:33.268Z"
   },
   {
    "duration": 18,
    "start_time": "2022-10-11T06:35:33.305Z"
   },
   {
    "duration": 18,
    "start_time": "2022-10-11T06:35:33.325Z"
   },
   {
    "duration": 16,
    "start_time": "2022-10-11T06:35:33.346Z"
   },
   {
    "duration": 42,
    "start_time": "2022-10-11T06:35:33.365Z"
   },
   {
    "duration": 27,
    "start_time": "2022-10-11T06:35:33.409Z"
   },
   {
    "duration": 21,
    "start_time": "2022-10-11T06:35:33.438Z"
   },
   {
    "duration": 28,
    "start_time": "2022-10-11T06:35:33.461Z"
   },
   {
    "duration": 32,
    "start_time": "2022-10-11T06:35:33.492Z"
   },
   {
    "duration": 11,
    "start_time": "2022-10-11T06:35:33.526Z"
   },
   {
    "duration": 54,
    "start_time": "2022-10-11T06:35:33.539Z"
   },
   {
    "duration": 27,
    "start_time": "2022-10-11T06:35:33.595Z"
   },
   {
    "duration": 207,
    "start_time": "2022-10-11T06:35:33.624Z"
   },
   {
    "duration": 7,
    "start_time": "2022-10-11T06:35:33.833Z"
   },
   {
    "duration": 32,
    "start_time": "2022-10-11T06:35:33.841Z"
   },
   {
    "duration": 6,
    "start_time": "2022-10-11T06:35:33.878Z"
   },
   {
    "duration": 22,
    "start_time": "2022-10-11T06:35:33.885Z"
   },
   {
    "duration": 18,
    "start_time": "2022-10-11T06:35:33.909Z"
   },
   {
    "duration": 23,
    "start_time": "2022-10-11T06:35:33.929Z"
   },
   {
    "duration": 22,
    "start_time": "2022-10-11T06:35:33.953Z"
   },
   {
    "duration": 22,
    "start_time": "2022-10-11T06:35:33.977Z"
   },
   {
    "duration": 20,
    "start_time": "2022-10-11T06:35:34.001Z"
   },
   {
    "duration": 250,
    "start_time": "2022-10-11T06:35:34.023Z"
   },
   {
    "duration": 7,
    "start_time": "2022-10-11T06:35:34.274Z"
   },
   {
    "duration": 6,
    "start_time": "2022-10-11T06:35:34.289Z"
   },
   {
    "duration": 24,
    "start_time": "2022-10-11T06:35:34.297Z"
   },
   {
    "duration": 263,
    "start_time": "2022-10-11T06:35:34.323Z"
   },
   {
    "duration": 7,
    "start_time": "2022-10-11T06:35:34.588Z"
   },
   {
    "duration": 246,
    "start_time": "2022-10-11T06:35:34.597Z"
   },
   {
    "duration": 7,
    "start_time": "2022-10-11T06:35:34.846Z"
   },
   {
    "duration": 482,
    "start_time": "2022-10-11T06:35:34.855Z"
   },
   {
    "duration": 12,
    "start_time": "2022-10-11T06:35:35.339Z"
   },
   {
    "duration": 44,
    "start_time": "2022-10-11T06:35:35.353Z"
   },
   {
    "duration": 17,
    "start_time": "2022-10-11T06:35:35.399Z"
   },
   {
    "duration": 392,
    "start_time": "2022-10-11T06:35:35.418Z"
   },
   {
    "duration": 7,
    "start_time": "2022-10-11T06:35:35.812Z"
   },
   {
    "duration": 234,
    "start_time": "2022-10-11T06:35:35.820Z"
   },
   {
    "duration": 6,
    "start_time": "2022-10-11T06:35:36.056Z"
   },
   {
    "duration": 260,
    "start_time": "2022-10-11T06:35:36.064Z"
   },
   {
    "duration": 8,
    "start_time": "2022-10-11T06:35:36.326Z"
   },
   {
    "duration": 7,
    "start_time": "2022-10-11T06:35:36.336Z"
   },
   {
    "duration": 10,
    "start_time": "2022-10-11T06:35:36.345Z"
   },
   {
    "duration": 260,
    "start_time": "2022-10-11T06:35:36.357Z"
   },
   {
    "duration": 6,
    "start_time": "2022-10-11T06:35:36.619Z"
   },
   {
    "duration": 7,
    "start_time": "2022-10-11T06:35:36.627Z"
   },
   {
    "duration": 5,
    "start_time": "2022-10-11T06:35:36.636Z"
   },
   {
    "duration": 246,
    "start_time": "2022-10-11T06:35:36.643Z"
   },
   {
    "duration": 6,
    "start_time": "2022-10-11T06:35:36.891Z"
   },
   {
    "duration": 7,
    "start_time": "2022-10-11T06:35:36.898Z"
   },
   {
    "duration": 6,
    "start_time": "2022-10-11T06:35:36.907Z"
   },
   {
    "duration": 245,
    "start_time": "2022-10-11T06:35:36.915Z"
   },
   {
    "duration": 7,
    "start_time": "2022-10-11T06:35:37.162Z"
   },
   {
    "duration": 22,
    "start_time": "2022-10-11T06:35:37.171Z"
   },
   {
    "duration": 12,
    "start_time": "2022-10-11T06:35:37.195Z"
   },
   {
    "duration": 14,
    "start_time": "2022-10-11T06:35:37.209Z"
   },
   {
    "duration": 5,
    "start_time": "2022-10-11T06:35:37.225Z"
   },
   {
    "duration": 237,
    "start_time": "2022-10-11T06:35:37.232Z"
   },
   {
    "duration": 6,
    "start_time": "2022-10-11T06:35:37.471Z"
   },
   {
    "duration": 14,
    "start_time": "2022-10-11T06:35:37.480Z"
   },
   {
    "duration": 10,
    "start_time": "2022-10-11T06:35:37.496Z"
   },
   {
    "duration": 18,
    "start_time": "2022-10-11T06:35:37.508Z"
   },
   {
    "duration": 9,
    "start_time": "2022-10-11T06:35:37.528Z"
   },
   {
    "duration": 225,
    "start_time": "2022-10-11T06:35:37.539Z"
   },
   {
    "duration": 7,
    "start_time": "2022-10-11T06:35:37.765Z"
   },
   {
    "duration": 5,
    "start_time": "2022-10-11T06:35:37.790Z"
   },
   {
    "duration": 9,
    "start_time": "2022-10-11T06:35:37.797Z"
   },
   {
    "duration": 7,
    "start_time": "2022-10-11T06:35:37.808Z"
   },
   {
    "duration": 6,
    "start_time": "2022-10-11T06:35:37.817Z"
   },
   {
    "duration": 249,
    "start_time": "2022-10-11T06:35:37.825Z"
   },
   {
    "duration": 11,
    "start_time": "2022-10-11T06:35:38.080Z"
   },
   {
    "duration": 8,
    "start_time": "2022-10-11T06:35:38.093Z"
   },
   {
    "duration": 7,
    "start_time": "2022-10-11T06:35:38.102Z"
   },
   {
    "duration": 13,
    "start_time": "2022-10-11T06:35:38.111Z"
   },
   {
    "duration": 5,
    "start_time": "2022-10-11T06:35:38.126Z"
   },
   {
    "duration": 349,
    "start_time": "2022-10-11T06:35:38.133Z"
   },
   {
    "duration": 6,
    "start_time": "2022-10-11T06:35:38.488Z"
   },
   {
    "duration": 8,
    "start_time": "2022-10-11T06:35:38.496Z"
   },
   {
    "duration": 7,
    "start_time": "2022-10-11T06:35:38.506Z"
   },
   {
    "duration": 12,
    "start_time": "2022-10-11T06:35:38.515Z"
   },
   {
    "duration": 20,
    "start_time": "2022-10-11T06:35:38.529Z"
   },
   {
    "duration": 222,
    "start_time": "2022-10-11T06:35:38.552Z"
   },
   {
    "duration": 14,
    "start_time": "2022-10-11T06:35:38.776Z"
   },
   {
    "duration": 5,
    "start_time": "2022-10-11T06:35:38.792Z"
   },
   {
    "duration": 6,
    "start_time": "2022-10-11T06:35:38.799Z"
   },
   {
    "duration": 6,
    "start_time": "2022-10-11T06:35:38.807Z"
   },
   {
    "duration": 6,
    "start_time": "2022-10-11T06:35:38.816Z"
   },
   {
    "duration": 240,
    "start_time": "2022-10-11T06:35:38.823Z"
   },
   {
    "duration": 6,
    "start_time": "2022-10-11T06:35:39.065Z"
   },
   {
    "duration": 16,
    "start_time": "2022-10-11T06:35:39.073Z"
   },
   {
    "duration": 10,
    "start_time": "2022-10-11T06:35:39.091Z"
   },
   {
    "duration": 10,
    "start_time": "2022-10-11T06:35:39.103Z"
   },
   {
    "duration": 11,
    "start_time": "2022-10-11T06:35:39.115Z"
   },
   {
    "duration": 241,
    "start_time": "2022-10-11T06:35:39.129Z"
   },
   {
    "duration": 26,
    "start_time": "2022-10-11T06:35:39.372Z"
   },
   {
    "duration": 6,
    "start_time": "2022-10-11T06:35:39.400Z"
   },
   {
    "duration": 149,
    "start_time": "2022-10-11T06:35:39.409Z"
   },
   {
    "duration": 0,
    "start_time": "2022-10-11T06:35:39.559Z"
   },
   {
    "duration": 0,
    "start_time": "2022-10-11T06:35:39.561Z"
   },
   {
    "duration": 0,
    "start_time": "2022-10-11T06:35:39.562Z"
   },
   {
    "duration": 6,
    "start_time": "2022-10-11T06:36:19.867Z"
   },
   {
    "duration": 9,
    "start_time": "2022-10-11T06:36:25.099Z"
   },
   {
    "duration": 14,
    "start_time": "2022-10-11T06:36:27.712Z"
   },
   {
    "duration": 14,
    "start_time": "2022-10-11T06:36:29.485Z"
   },
   {
    "duration": 34,
    "start_time": "2022-10-11T06:36:35.017Z"
   },
   {
    "duration": 31,
    "start_time": "2022-10-11T06:36:44.612Z"
   },
   {
    "duration": 5,
    "start_time": "2022-10-11T06:37:09.041Z"
   },
   {
    "duration": 5,
    "start_time": "2022-10-11T06:37:14.523Z"
   },
   {
    "duration": 5,
    "start_time": "2022-10-11T06:37:58.759Z"
   },
   {
    "duration": 5,
    "start_time": "2022-10-11T06:38:05.468Z"
   },
   {
    "duration": 2,
    "start_time": "2022-10-11T06:38:40.683Z"
   },
   {
    "duration": 13,
    "start_time": "2022-10-11T06:39:56.716Z"
   },
   {
    "duration": 3,
    "start_time": "2022-10-11T06:40:01.914Z"
   },
   {
    "duration": 4,
    "start_time": "2022-10-11T06:40:03.758Z"
   },
   {
    "duration": 6,
    "start_time": "2022-10-11T06:40:27.912Z"
   },
   {
    "duration": 4,
    "start_time": "2022-10-11T06:41:03.465Z"
   },
   {
    "duration": 15,
    "start_time": "2022-10-11T06:42:07.370Z"
   },
   {
    "duration": 22838,
    "start_time": "2022-10-11T06:42:09.400Z"
   },
   {
    "duration": 6,
    "start_time": "2022-10-11T06:42:32.241Z"
   },
   {
    "duration": 246972,
    "start_time": "2022-10-11T06:42:32.249Z"
   },
   {
    "duration": 1738575,
    "start_time": "2022-10-11T06:46:39.224Z"
   }
  ],
  "colab": {
   "collapsed_sections": [],
   "provenance": [],
   "toc_visible": true
  },
  "kernelspec": {
   "display_name": "Python 3 (ipykernel)",
   "language": "python",
   "name": "python3"
  },
  "language_info": {
   "codemirror_mode": {
    "name": "ipython",
    "version": 3
   },
   "file_extension": ".py",
   "mimetype": "text/x-python",
   "name": "python",
   "nbconvert_exporter": "python",
   "pygments_lexer": "ipython3",
   "version": "3.9.12"
  },
  "toc": {
   "base_numbering": 1,
   "nav_menu": {},
   "number_sections": true,
   "sideBar": true,
   "skip_h1_title": true,
   "title_cell": "Table of Contents",
   "title_sidebar": "Contents",
   "toc_cell": false,
   "toc_position": {},
   "toc_section_display": true,
   "toc_window_display": false
  }
 },
 "nbformat": 4,
 "nbformat_minor": 1
}
