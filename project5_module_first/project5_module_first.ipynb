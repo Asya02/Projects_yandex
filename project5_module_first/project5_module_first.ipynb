{
 "cells": [
  {
   "cell_type": "markdown",
   "metadata": {},
   "source": [
    "# Сборный проект"
   ]
  },
  {
   "cell_type": "markdown",
   "metadata": {},
   "source": [
    "Интернет-магазин продаёт компьютерные игры по всему миру. Из открытых источников доступны исторические данные о продажах игр, оценки пользователей и экспертов, жанры и платформы (например, Xboxили PlayStation).\n",
    "\n",
    "Цель исследования - выявить определяющие успешность игры закономерности.\n",
    "\n",
    "Это позволит сделать ставку на потенциально популярный продукт и спланировать рекламные кампании\n",
    "\n",
    "Перед нами данные до 2016 года. Представим, что сейчас декабрь 2016 г., и мы планируем кампанию на 2017-й."
   ]
  },
  {
   "cell_type": "markdown",
   "metadata": {},
   "source": [
    "Ход исследования:\n",
    "\n",
    " * Обзор данных\n",
    " * Предобработка данных\n",
    " * Исследовательский анализ данных\n",
    " * Составления портрета пользователя каждого региона\n",
    " * Проверка гипотез\n",
    " * Общий вывод"
   ]
  },
  {
   "cell_type": "markdown",
   "metadata": {},
   "source": [
    "## Обзор данных"
   ]
  },
  {
   "cell_type": "markdown",
   "metadata": {},
   "source": [
    "Составим первое представление о данных с помощью средств pandas. Так же в ходе работы нам потребуются средства библиотек matplotlib, seaborn, numpy и scipy. Импортируем их тоже."
   ]
  },
  {
   "cell_type": "code",
   "execution_count": 1,
   "metadata": {},
   "outputs": [],
   "source": [
    "# импортируем нужные библиотеки\n",
    "import pandas as pd\n",
    "import matplotlib as plt\n",
    "import seaborn as sns\n",
    "import numpy as np\n",
    "from scipy import stats as st"
   ]
  },
  {
   "cell_type": "markdown",
   "metadata": {},
   "source": [
    "Выгрузим данные из csv файла"
   ]
  },
  {
   "cell_type": "code",
   "execution_count": 2,
   "metadata": {},
   "outputs": [],
   "source": [
    "# чтение файла с данными и сохранение в df\n",
    "df = pd.read_csv('/datasets/games.csv')"
   ]
  },
  {
   "cell_type": "markdown",
   "metadata": {},
   "source": [
    "Посмотрим первые 10 строк таблицы"
   ]
  },
  {
   "cell_type": "code",
   "execution_count": 3,
   "metadata": {},
   "outputs": [
    {
     "data": {
      "text/html": [
       "<div>\n",
       "<style scoped>\n",
       "    .dataframe tbody tr th:only-of-type {\n",
       "        vertical-align: middle;\n",
       "    }\n",
       "\n",
       "    .dataframe tbody tr th {\n",
       "        vertical-align: top;\n",
       "    }\n",
       "\n",
       "    .dataframe thead th {\n",
       "        text-align: right;\n",
       "    }\n",
       "</style>\n",
       "<table border=\"1\" class=\"dataframe\">\n",
       "  <thead>\n",
       "    <tr style=\"text-align: right;\">\n",
       "      <th></th>\n",
       "      <th>Name</th>\n",
       "      <th>Platform</th>\n",
       "      <th>Year_of_Release</th>\n",
       "      <th>Genre</th>\n",
       "      <th>NA_sales</th>\n",
       "      <th>EU_sales</th>\n",
       "      <th>JP_sales</th>\n",
       "      <th>Other_sales</th>\n",
       "      <th>Critic_Score</th>\n",
       "      <th>User_Score</th>\n",
       "      <th>Rating</th>\n",
       "    </tr>\n",
       "  </thead>\n",
       "  <tbody>\n",
       "    <tr>\n",
       "      <th>0</th>\n",
       "      <td>Wii Sports</td>\n",
       "      <td>Wii</td>\n",
       "      <td>2006.0</td>\n",
       "      <td>Sports</td>\n",
       "      <td>41.36</td>\n",
       "      <td>28.96</td>\n",
       "      <td>3.77</td>\n",
       "      <td>8.45</td>\n",
       "      <td>76.0</td>\n",
       "      <td>8</td>\n",
       "      <td>E</td>\n",
       "    </tr>\n",
       "    <tr>\n",
       "      <th>1</th>\n",
       "      <td>Super Mario Bros.</td>\n",
       "      <td>NES</td>\n",
       "      <td>1985.0</td>\n",
       "      <td>Platform</td>\n",
       "      <td>29.08</td>\n",
       "      <td>3.58</td>\n",
       "      <td>6.81</td>\n",
       "      <td>0.77</td>\n",
       "      <td>NaN</td>\n",
       "      <td>NaN</td>\n",
       "      <td>NaN</td>\n",
       "    </tr>\n",
       "    <tr>\n",
       "      <th>2</th>\n",
       "      <td>Mario Kart Wii</td>\n",
       "      <td>Wii</td>\n",
       "      <td>2008.0</td>\n",
       "      <td>Racing</td>\n",
       "      <td>15.68</td>\n",
       "      <td>12.76</td>\n",
       "      <td>3.79</td>\n",
       "      <td>3.29</td>\n",
       "      <td>82.0</td>\n",
       "      <td>8.3</td>\n",
       "      <td>E</td>\n",
       "    </tr>\n",
       "    <tr>\n",
       "      <th>3</th>\n",
       "      <td>Wii Sports Resort</td>\n",
       "      <td>Wii</td>\n",
       "      <td>2009.0</td>\n",
       "      <td>Sports</td>\n",
       "      <td>15.61</td>\n",
       "      <td>10.93</td>\n",
       "      <td>3.28</td>\n",
       "      <td>2.95</td>\n",
       "      <td>80.0</td>\n",
       "      <td>8</td>\n",
       "      <td>E</td>\n",
       "    </tr>\n",
       "    <tr>\n",
       "      <th>4</th>\n",
       "      <td>Pokemon Red/Pokemon Blue</td>\n",
       "      <td>GB</td>\n",
       "      <td>1996.0</td>\n",
       "      <td>Role-Playing</td>\n",
       "      <td>11.27</td>\n",
       "      <td>8.89</td>\n",
       "      <td>10.22</td>\n",
       "      <td>1.00</td>\n",
       "      <td>NaN</td>\n",
       "      <td>NaN</td>\n",
       "      <td>NaN</td>\n",
       "    </tr>\n",
       "    <tr>\n",
       "      <th>5</th>\n",
       "      <td>Tetris</td>\n",
       "      <td>GB</td>\n",
       "      <td>1989.0</td>\n",
       "      <td>Puzzle</td>\n",
       "      <td>23.20</td>\n",
       "      <td>2.26</td>\n",
       "      <td>4.22</td>\n",
       "      <td>0.58</td>\n",
       "      <td>NaN</td>\n",
       "      <td>NaN</td>\n",
       "      <td>NaN</td>\n",
       "    </tr>\n",
       "    <tr>\n",
       "      <th>6</th>\n",
       "      <td>New Super Mario Bros.</td>\n",
       "      <td>DS</td>\n",
       "      <td>2006.0</td>\n",
       "      <td>Platform</td>\n",
       "      <td>11.28</td>\n",
       "      <td>9.14</td>\n",
       "      <td>6.50</td>\n",
       "      <td>2.88</td>\n",
       "      <td>89.0</td>\n",
       "      <td>8.5</td>\n",
       "      <td>E</td>\n",
       "    </tr>\n",
       "    <tr>\n",
       "      <th>7</th>\n",
       "      <td>Wii Play</td>\n",
       "      <td>Wii</td>\n",
       "      <td>2006.0</td>\n",
       "      <td>Misc</td>\n",
       "      <td>13.96</td>\n",
       "      <td>9.18</td>\n",
       "      <td>2.93</td>\n",
       "      <td>2.84</td>\n",
       "      <td>58.0</td>\n",
       "      <td>6.6</td>\n",
       "      <td>E</td>\n",
       "    </tr>\n",
       "    <tr>\n",
       "      <th>8</th>\n",
       "      <td>New Super Mario Bros. Wii</td>\n",
       "      <td>Wii</td>\n",
       "      <td>2009.0</td>\n",
       "      <td>Platform</td>\n",
       "      <td>14.44</td>\n",
       "      <td>6.94</td>\n",
       "      <td>4.70</td>\n",
       "      <td>2.24</td>\n",
       "      <td>87.0</td>\n",
       "      <td>8.4</td>\n",
       "      <td>E</td>\n",
       "    </tr>\n",
       "    <tr>\n",
       "      <th>9</th>\n",
       "      <td>Duck Hunt</td>\n",
       "      <td>NES</td>\n",
       "      <td>1984.0</td>\n",
       "      <td>Shooter</td>\n",
       "      <td>26.93</td>\n",
       "      <td>0.63</td>\n",
       "      <td>0.28</td>\n",
       "      <td>0.47</td>\n",
       "      <td>NaN</td>\n",
       "      <td>NaN</td>\n",
       "      <td>NaN</td>\n",
       "    </tr>\n",
       "  </tbody>\n",
       "</table>\n",
       "</div>"
      ],
      "text/plain": [
       "                        Name Platform  Year_of_Release         Genre  \\\n",
       "0                 Wii Sports      Wii           2006.0        Sports   \n",
       "1          Super Mario Bros.      NES           1985.0      Platform   \n",
       "2             Mario Kart Wii      Wii           2008.0        Racing   \n",
       "3          Wii Sports Resort      Wii           2009.0        Sports   \n",
       "4   Pokemon Red/Pokemon Blue       GB           1996.0  Role-Playing   \n",
       "5                     Tetris       GB           1989.0        Puzzle   \n",
       "6      New Super Mario Bros.       DS           2006.0      Platform   \n",
       "7                   Wii Play      Wii           2006.0          Misc   \n",
       "8  New Super Mario Bros. Wii      Wii           2009.0      Platform   \n",
       "9                  Duck Hunt      NES           1984.0       Shooter   \n",
       "\n",
       "   NA_sales  EU_sales  JP_sales  Other_sales  Critic_Score User_Score Rating  \n",
       "0     41.36     28.96      3.77         8.45          76.0          8      E  \n",
       "1     29.08      3.58      6.81         0.77           NaN        NaN    NaN  \n",
       "2     15.68     12.76      3.79         3.29          82.0        8.3      E  \n",
       "3     15.61     10.93      3.28         2.95          80.0          8      E  \n",
       "4     11.27      8.89     10.22         1.00           NaN        NaN    NaN  \n",
       "5     23.20      2.26      4.22         0.58           NaN        NaN    NaN  \n",
       "6     11.28      9.14      6.50         2.88          89.0        8.5      E  \n",
       "7     13.96      9.18      2.93         2.84          58.0        6.6      E  \n",
       "8     14.44      6.94      4.70         2.24          87.0        8.4      E  \n",
       "9     26.93      0.63      0.28         0.47           NaN        NaN    NaN  "
      ]
     },
     "execution_count": 3,
     "metadata": {},
     "output_type": "execute_result"
    }
   ],
   "source": [
    "# получение первых 10 строк датафрейма\n",
    "df.head(10)"
   ]
  },
  {
   "cell_type": "markdown",
   "metadata": {},
   "source": [
    "Уже по первым 10 строкам видно, что колонки имеют неудобные названия. Так же заметны пропуски в ряде столбцов."
   ]
  },
  {
   "cell_type": "markdown",
   "metadata": {},
   "source": [
    "Продолжим изучать данные. Посмотрим общую информацию о таблице"
   ]
  },
  {
   "cell_type": "code",
   "execution_count": 4,
   "metadata": {},
   "outputs": [
    {
     "name": "stdout",
     "output_type": "stream",
     "text": [
      "<class 'pandas.core.frame.DataFrame'>\n",
      "RangeIndex: 16715 entries, 0 to 16714\n",
      "Data columns (total 11 columns):\n",
      " #   Column           Non-Null Count  Dtype  \n",
      "---  ------           --------------  -----  \n",
      " 0   Name             16713 non-null  object \n",
      " 1   Platform         16715 non-null  object \n",
      " 2   Year_of_Release  16446 non-null  float64\n",
      " 3   Genre            16713 non-null  object \n",
      " 4   NA_sales         16715 non-null  float64\n",
      " 5   EU_sales         16715 non-null  float64\n",
      " 6   JP_sales         16715 non-null  float64\n",
      " 7   Other_sales      16715 non-null  float64\n",
      " 8   Critic_Score     8137 non-null   float64\n",
      " 9   User_Score       10014 non-null  object \n",
      " 10  Rating           9949 non-null   object \n",
      "dtypes: float64(6), object(5)\n",
      "memory usage: 1.4+ MB\n"
     ]
    }
   ],
   "source": [
    "# получение общей информации о датафрейме методом info()\n",
    "df.info()"
   ]
  },
  {
   "cell_type": "markdown",
   "metadata": {},
   "source": [
    "Опишем, что известно об этой таблице, что необходимо будет учесть при предобработке данных. \n",
    "\n",
    "У нас есть описание данных:\n",
    "   * Name — название игры\n",
    "   * Platform — платформа\n",
    "   * Year_of_Release — год выпуска\n",
    "   * Genre — жанр игры\n",
    "   * NA_sales — продажи в Северной Америке (миллионы проданных копий)\n",
    "   * EU_sales — продажи в Европе (миллионы проданных копий)\n",
    "   * JP_sales — продажи в Японии (миллионы проданных копий)\n",
    "   * Other_sales — продажи в других странах (миллионы проданных копий)\n",
    "   * Critic_Score — оценка критиков (максимум 100)\n",
    "   * User_Score — оценка пользователей (максимум 10)\n",
    "   * Rating — рейтинг от организации ESRB (англ. Entertainment Software Rating Board). Эта ассоциация определяет рейтинг компьютерных игр и присваивает им подходящую возрастную категорию."
   ]
  },
  {
   "cell_type": "markdown",
   "metadata": {},
   "source": [
    "<div style=\"border:solid blue 2px; padding: 20px\">\n",
    "\n",
    "**Выводы**\n",
    "    \n",
    "Итак, для дальнейшей работы с данными необходимо устранить ошибки:\n",
    "    \n",
    " * Привести названия столбцов к нижнему регистру (для всех столбцов)\n",
    " * Обработать пропуски (название игры, жанр, дата релиза, рейтинг, оценка пользователя, оценка критика)\n",
    " * Изменить типы данных (год выхода - int, оценка критиков - int, оценка пользователей - float)"
   ]
  },
  {
   "cell_type": "markdown",
   "metadata": {},
   "source": [
    "## Предобработка данных"
   ]
  },
  {
   "cell_type": "markdown",
   "metadata": {},
   "source": [
    "### Названия столбцов"
   ]
  },
  {
   "cell_type": "markdown",
   "metadata": {},
   "source": [
    "Выведем на экран названия колонок"
   ]
  },
  {
   "cell_type": "code",
   "execution_count": 5,
   "metadata": {},
   "outputs": [
    {
     "data": {
      "text/plain": [
       "Index(['Name', 'Platform', 'Year_of_Release', 'Genre', 'NA_sales', 'EU_sales',\n",
       "       'JP_sales', 'Other_sales', 'Critic_Score', 'User_Score', 'Rating'],\n",
       "      dtype='object')"
      ]
     },
     "execution_count": 5,
     "metadata": {},
     "output_type": "execute_result"
    }
   ],
   "source": [
    "#названия колонок в датафрейме\n",
    "df.columns"
   ]
  },
  {
   "cell_type": "markdown",
   "metadata": {},
   "source": [
    "Приведём для удобства названия столбцов к нижнему регистру"
   ]
  },
  {
   "cell_type": "code",
   "execution_count": 6,
   "metadata": {},
   "outputs": [],
   "source": [
    "# применение функции lower() к названиям строк датафрейма\n",
    "df.columns = [x.lower() for x in df.columns]"
   ]
  },
  {
   "cell_type": "markdown",
   "metadata": {},
   "source": [
    "Проверим, что названия колонок изменились"
   ]
  },
  {
   "cell_type": "code",
   "execution_count": 7,
   "metadata": {},
   "outputs": [
    {
     "data": {
      "text/html": [
       "<div>\n",
       "<style scoped>\n",
       "    .dataframe tbody tr th:only-of-type {\n",
       "        vertical-align: middle;\n",
       "    }\n",
       "\n",
       "    .dataframe tbody tr th {\n",
       "        vertical-align: top;\n",
       "    }\n",
       "\n",
       "    .dataframe thead th {\n",
       "        text-align: right;\n",
       "    }\n",
       "</style>\n",
       "<table border=\"1\" class=\"dataframe\">\n",
       "  <thead>\n",
       "    <tr style=\"text-align: right;\">\n",
       "      <th></th>\n",
       "      <th>name</th>\n",
       "      <th>platform</th>\n",
       "      <th>year_of_release</th>\n",
       "      <th>genre</th>\n",
       "      <th>na_sales</th>\n",
       "      <th>eu_sales</th>\n",
       "      <th>jp_sales</th>\n",
       "      <th>other_sales</th>\n",
       "      <th>critic_score</th>\n",
       "      <th>user_score</th>\n",
       "      <th>rating</th>\n",
       "    </tr>\n",
       "  </thead>\n",
       "  <tbody>\n",
       "    <tr>\n",
       "      <th>0</th>\n",
       "      <td>Wii Sports</td>\n",
       "      <td>Wii</td>\n",
       "      <td>2006.0</td>\n",
       "      <td>Sports</td>\n",
       "      <td>41.36</td>\n",
       "      <td>28.96</td>\n",
       "      <td>3.77</td>\n",
       "      <td>8.45</td>\n",
       "      <td>76.0</td>\n",
       "      <td>8</td>\n",
       "      <td>E</td>\n",
       "    </tr>\n",
       "    <tr>\n",
       "      <th>1</th>\n",
       "      <td>Super Mario Bros.</td>\n",
       "      <td>NES</td>\n",
       "      <td>1985.0</td>\n",
       "      <td>Platform</td>\n",
       "      <td>29.08</td>\n",
       "      <td>3.58</td>\n",
       "      <td>6.81</td>\n",
       "      <td>0.77</td>\n",
       "      <td>NaN</td>\n",
       "      <td>NaN</td>\n",
       "      <td>NaN</td>\n",
       "    </tr>\n",
       "    <tr>\n",
       "      <th>2</th>\n",
       "      <td>Mario Kart Wii</td>\n",
       "      <td>Wii</td>\n",
       "      <td>2008.0</td>\n",
       "      <td>Racing</td>\n",
       "      <td>15.68</td>\n",
       "      <td>12.76</td>\n",
       "      <td>3.79</td>\n",
       "      <td>3.29</td>\n",
       "      <td>82.0</td>\n",
       "      <td>8.3</td>\n",
       "      <td>E</td>\n",
       "    </tr>\n",
       "    <tr>\n",
       "      <th>3</th>\n",
       "      <td>Wii Sports Resort</td>\n",
       "      <td>Wii</td>\n",
       "      <td>2009.0</td>\n",
       "      <td>Sports</td>\n",
       "      <td>15.61</td>\n",
       "      <td>10.93</td>\n",
       "      <td>3.28</td>\n",
       "      <td>2.95</td>\n",
       "      <td>80.0</td>\n",
       "      <td>8</td>\n",
       "      <td>E</td>\n",
       "    </tr>\n",
       "    <tr>\n",
       "      <th>4</th>\n",
       "      <td>Pokemon Red/Pokemon Blue</td>\n",
       "      <td>GB</td>\n",
       "      <td>1996.0</td>\n",
       "      <td>Role-Playing</td>\n",
       "      <td>11.27</td>\n",
       "      <td>8.89</td>\n",
       "      <td>10.22</td>\n",
       "      <td>1.00</td>\n",
       "      <td>NaN</td>\n",
       "      <td>NaN</td>\n",
       "      <td>NaN</td>\n",
       "    </tr>\n",
       "    <tr>\n",
       "      <th>...</th>\n",
       "      <td>...</td>\n",
       "      <td>...</td>\n",
       "      <td>...</td>\n",
       "      <td>...</td>\n",
       "      <td>...</td>\n",
       "      <td>...</td>\n",
       "      <td>...</td>\n",
       "      <td>...</td>\n",
       "      <td>...</td>\n",
       "      <td>...</td>\n",
       "      <td>...</td>\n",
       "    </tr>\n",
       "    <tr>\n",
       "      <th>16710</th>\n",
       "      <td>Samurai Warriors: Sanada Maru</td>\n",
       "      <td>PS3</td>\n",
       "      <td>2016.0</td>\n",
       "      <td>Action</td>\n",
       "      <td>0.00</td>\n",
       "      <td>0.00</td>\n",
       "      <td>0.01</td>\n",
       "      <td>0.00</td>\n",
       "      <td>NaN</td>\n",
       "      <td>NaN</td>\n",
       "      <td>NaN</td>\n",
       "    </tr>\n",
       "    <tr>\n",
       "      <th>16711</th>\n",
       "      <td>LMA Manager 2007</td>\n",
       "      <td>X360</td>\n",
       "      <td>2006.0</td>\n",
       "      <td>Sports</td>\n",
       "      <td>0.00</td>\n",
       "      <td>0.01</td>\n",
       "      <td>0.00</td>\n",
       "      <td>0.00</td>\n",
       "      <td>NaN</td>\n",
       "      <td>NaN</td>\n",
       "      <td>NaN</td>\n",
       "    </tr>\n",
       "    <tr>\n",
       "      <th>16712</th>\n",
       "      <td>Haitaka no Psychedelica</td>\n",
       "      <td>PSV</td>\n",
       "      <td>2016.0</td>\n",
       "      <td>Adventure</td>\n",
       "      <td>0.00</td>\n",
       "      <td>0.00</td>\n",
       "      <td>0.01</td>\n",
       "      <td>0.00</td>\n",
       "      <td>NaN</td>\n",
       "      <td>NaN</td>\n",
       "      <td>NaN</td>\n",
       "    </tr>\n",
       "    <tr>\n",
       "      <th>16713</th>\n",
       "      <td>Spirits &amp; Spells</td>\n",
       "      <td>GBA</td>\n",
       "      <td>2003.0</td>\n",
       "      <td>Platform</td>\n",
       "      <td>0.01</td>\n",
       "      <td>0.00</td>\n",
       "      <td>0.00</td>\n",
       "      <td>0.00</td>\n",
       "      <td>NaN</td>\n",
       "      <td>NaN</td>\n",
       "      <td>NaN</td>\n",
       "    </tr>\n",
       "    <tr>\n",
       "      <th>16714</th>\n",
       "      <td>Winning Post 8 2016</td>\n",
       "      <td>PSV</td>\n",
       "      <td>2016.0</td>\n",
       "      <td>Simulation</td>\n",
       "      <td>0.00</td>\n",
       "      <td>0.00</td>\n",
       "      <td>0.01</td>\n",
       "      <td>0.00</td>\n",
       "      <td>NaN</td>\n",
       "      <td>NaN</td>\n",
       "      <td>NaN</td>\n",
       "    </tr>\n",
       "  </tbody>\n",
       "</table>\n",
       "<p>16715 rows × 11 columns</p>\n",
       "</div>"
      ],
      "text/plain": [
       "                                name platform  year_of_release         genre  \\\n",
       "0                         Wii Sports      Wii           2006.0        Sports   \n",
       "1                  Super Mario Bros.      NES           1985.0      Platform   \n",
       "2                     Mario Kart Wii      Wii           2008.0        Racing   \n",
       "3                  Wii Sports Resort      Wii           2009.0        Sports   \n",
       "4           Pokemon Red/Pokemon Blue       GB           1996.0  Role-Playing   \n",
       "...                              ...      ...              ...           ...   \n",
       "16710  Samurai Warriors: Sanada Maru      PS3           2016.0        Action   \n",
       "16711               LMA Manager 2007     X360           2006.0        Sports   \n",
       "16712        Haitaka no Psychedelica      PSV           2016.0     Adventure   \n",
       "16713               Spirits & Spells      GBA           2003.0      Platform   \n",
       "16714            Winning Post 8 2016      PSV           2016.0    Simulation   \n",
       "\n",
       "       na_sales  eu_sales  jp_sales  other_sales  critic_score user_score  \\\n",
       "0         41.36     28.96      3.77         8.45          76.0          8   \n",
       "1         29.08      3.58      6.81         0.77           NaN        NaN   \n",
       "2         15.68     12.76      3.79         3.29          82.0        8.3   \n",
       "3         15.61     10.93      3.28         2.95          80.0          8   \n",
       "4         11.27      8.89     10.22         1.00           NaN        NaN   \n",
       "...         ...       ...       ...          ...           ...        ...   \n",
       "16710      0.00      0.00      0.01         0.00           NaN        NaN   \n",
       "16711      0.00      0.01      0.00         0.00           NaN        NaN   \n",
       "16712      0.00      0.00      0.01         0.00           NaN        NaN   \n",
       "16713      0.01      0.00      0.00         0.00           NaN        NaN   \n",
       "16714      0.00      0.00      0.01         0.00           NaN        NaN   \n",
       "\n",
       "      rating  \n",
       "0          E  \n",
       "1        NaN  \n",
       "2          E  \n",
       "3          E  \n",
       "4        NaN  \n",
       "...      ...  \n",
       "16710    NaN  \n",
       "16711    NaN  \n",
       "16712    NaN  \n",
       "16713    NaN  \n",
       "16714    NaN  \n",
       "\n",
       "[16715 rows x 11 columns]"
      ]
     },
     "execution_count": 7,
     "metadata": {},
     "output_type": "execute_result"
    }
   ],
   "source": [
    "# просмотр датафрейма\n",
    "df"
   ]
  },
  {
   "cell_type": "markdown",
   "metadata": {},
   "source": [
    "Теперь все колонки интуитивно понятно называются"
   ]
  },
  {
   "cell_type": "markdown",
   "metadata": {},
   "source": [
    "### Обработка пропусков"
   ]
  },
  {
   "cell_type": "markdown",
   "metadata": {},
   "source": [
    "Посчитаем, сколько в таблице пропущенных значений"
   ]
  },
  {
   "cell_type": "code",
   "execution_count": 8,
   "metadata": {},
   "outputs": [
    {
     "data": {
      "text/plain": [
       "name                  2\n",
       "platform              0\n",
       "year_of_release     269\n",
       "genre                 2\n",
       "na_sales              0\n",
       "eu_sales              0\n",
       "jp_sales              0\n",
       "other_sales           0\n",
       "critic_score       8578\n",
       "user_score         6701\n",
       "rating             6766\n",
       "dtype: int64"
      ]
     },
     "execution_count": 8,
     "metadata": {},
     "output_type": "execute_result"
    }
   ],
   "source": [
    "# подсчёт пропусков\n",
    "df.isna().sum()"
   ]
  },
  {
   "cell_type": "markdown",
   "metadata": {},
   "source": [
    "Итак, пропуски присутствуют в шести столбцах. \n",
    "* Очень странно, что в двух строках пропущено название игры. Нужно отдельно посмотреть, что это за строки и, вероятно исключить их из датафрейма. Возможно, данные затерялись.\n",
    "* Аналогично с пропусками в столбце genre.\n",
    "* Со столбцом с годом релиза игры не понятно, откуда взять эти данные. Заполнять их медианой или средним было бы некорректно. Лучше оставить пропуски.\n",
    "* Практически половина данных отсутствует по столбцам critic_score, rating и user_score. Возможно, не для всех игр была возможность выставления оценок (например, для старых игр ещё не придумали, что их можно оценивать) и рейтинга. Эти пропуски тоже лучше оставить как есть"
   ]
  },
  {
   "cell_type": "markdown",
   "metadata": {},
   "source": [
    "#### Столбец name"
   ]
  },
  {
   "cell_type": "markdown",
   "metadata": {},
   "source": [
    "Посмотрим, для каких строк пропущено название игры. Для этого возьмём срез, для которого  name != name, поскольку такое неравенство верно только для nan."
   ]
  },
  {
   "cell_type": "code",
   "execution_count": 9,
   "metadata": {},
   "outputs": [
    {
     "data": {
      "text/html": [
       "<div>\n",
       "<style scoped>\n",
       "    .dataframe tbody tr th:only-of-type {\n",
       "        vertical-align: middle;\n",
       "    }\n",
       "\n",
       "    .dataframe tbody tr th {\n",
       "        vertical-align: top;\n",
       "    }\n",
       "\n",
       "    .dataframe thead th {\n",
       "        text-align: right;\n",
       "    }\n",
       "</style>\n",
       "<table border=\"1\" class=\"dataframe\">\n",
       "  <thead>\n",
       "    <tr style=\"text-align: right;\">\n",
       "      <th></th>\n",
       "      <th>name</th>\n",
       "      <th>platform</th>\n",
       "      <th>year_of_release</th>\n",
       "      <th>genre</th>\n",
       "      <th>na_sales</th>\n",
       "      <th>eu_sales</th>\n",
       "      <th>jp_sales</th>\n",
       "      <th>other_sales</th>\n",
       "      <th>critic_score</th>\n",
       "      <th>user_score</th>\n",
       "      <th>rating</th>\n",
       "    </tr>\n",
       "  </thead>\n",
       "  <tbody>\n",
       "    <tr>\n",
       "      <th>659</th>\n",
       "      <td>NaN</td>\n",
       "      <td>GEN</td>\n",
       "      <td>1993.0</td>\n",
       "      <td>NaN</td>\n",
       "      <td>1.78</td>\n",
       "      <td>0.53</td>\n",
       "      <td>0.00</td>\n",
       "      <td>0.08</td>\n",
       "      <td>NaN</td>\n",
       "      <td>NaN</td>\n",
       "      <td>NaN</td>\n",
       "    </tr>\n",
       "    <tr>\n",
       "      <th>14244</th>\n",
       "      <td>NaN</td>\n",
       "      <td>GEN</td>\n",
       "      <td>1993.0</td>\n",
       "      <td>NaN</td>\n",
       "      <td>0.00</td>\n",
       "      <td>0.00</td>\n",
       "      <td>0.03</td>\n",
       "      <td>0.00</td>\n",
       "      <td>NaN</td>\n",
       "      <td>NaN</td>\n",
       "      <td>NaN</td>\n",
       "    </tr>\n",
       "  </tbody>\n",
       "</table>\n",
       "</div>"
      ],
      "text/plain": [
       "      name platform  year_of_release genre  na_sales  eu_sales  jp_sales  \\\n",
       "659    NaN      GEN           1993.0   NaN      1.78      0.53      0.00   \n",
       "14244  NaN      GEN           1993.0   NaN      0.00      0.00      0.03   \n",
       "\n",
       "       other_sales  critic_score user_score rating  \n",
       "659           0.08           NaN        NaN    NaN  \n",
       "14244         0.00           NaN        NaN    NaN  "
      ]
     },
     "execution_count": 9,
     "metadata": {},
     "output_type": "execute_result"
    }
   ],
   "source": [
    "# срез датафрейма, в котором значение в столбце name не равно себе же\n",
    "df.query('name != name')"
   ]
  },
  {
   "cell_type": "markdown",
   "metadata": {},
   "source": [
    "Итак, мы видим, что у  игр с пропусками в имени жанр тоже пропущен. Удалим из датафрейма эти строки. "
   ]
  },
  {
   "cell_type": "code",
   "execution_count": 10,
   "metadata": {},
   "outputs": [],
   "source": [
    "# удаление строк с пропусками в 'name'\n",
    "df.dropna(subset = ['name'], inplace = True)"
   ]
  },
  {
   "cell_type": "markdown",
   "metadata": {},
   "source": [
    "Проверим, что строки действительно удалены"
   ]
  },
  {
   "cell_type": "code",
   "execution_count": 11,
   "metadata": {},
   "outputs": [
    {
     "data": {
      "text/plain": [
       "0"
      ]
     },
     "execution_count": 11,
     "metadata": {},
     "output_type": "execute_result"
    }
   ],
   "source": [
    "# подсчёт пропусков в столбце genre\n",
    "df['genre'].isna().sum()"
   ]
  },
  {
   "cell_type": "markdown",
   "metadata": {},
   "source": [
    "Итак, пропуски обработаны"
   ]
  },
  {
   "cell_type": "markdown",
   "metadata": {},
   "source": [
    "### Изменение типов данных"
   ]
  },
  {
   "cell_type": "markdown",
   "metadata": {},
   "source": [
    "#### Столбец year_of_release"
   ]
  },
  {
   "cell_type": "markdown",
   "metadata": {},
   "source": [
    "Из-за наличия пропусков, тип данных которых float, остальные данные в столбце тоже стали типа float. Изменим тип данных, не являющихся nan на int"
   ]
  },
  {
   "cell_type": "code",
   "execution_count": 12,
   "metadata": {},
   "outputs": [],
   "source": [
    "# приведение данных в столбце year_of_release к типу int\n",
    "df['year_of_release'] = df['year_of_release'].fillna(-1)\n",
    "df['year_of_release'] = df['year_of_release'].astype(int)\n",
    "df['year_of_release'] = df['year_of_release'].replace(-1, np.nan)"
   ]
  },
  {
   "cell_type": "markdown",
   "metadata": {},
   "source": [
    "#### Столбец critic_score"
   ]
  },
  {
   "cell_type": "markdown",
   "metadata": {},
   "source": [
    "Из-за наличия пропусков, тип данных которых float, остальные данные в столбце тоже стали типа float. Изменим тип данных, не являющихся nan на int"
   ]
  },
  {
   "cell_type": "code",
   "execution_count": 12,
   "metadata": {},
   "outputs": [],
   "source": [
    "# приведение данных в столбце critic_score к типу int\n",
    "df['critic_score'] = pd.to_numeric(df['critic_score'], errors='ignore')"
   ]
  },
  {
   "cell_type": "markdown",
   "metadata": {},
   "source": [
    "#### Столбец user_score"
   ]
  },
  {
   "cell_type": "markdown",
   "metadata": {},
   "source": [
    "Тип данных в столбце object, что странно. Посмотрим на значения в этом столбце, чтобы понять, за счёт чего такой неожиданный тип данных."
   ]
  },
  {
   "cell_type": "code",
   "execution_count": 13,
   "metadata": {},
   "outputs": [
    {
     "data": {
      "text/plain": [
       "array(['8', nan, '8.3', '8.5', '6.6', '8.4', '8.6', '7.7', '6.3', '7.4',\n",
       "       '8.2', '9', '7.9', '8.1', '8.7', '7.1', '3.4', '5.3', '4.8', '3.2',\n",
       "       '8.9', '6.4', '7.8', '7.5', '2.6', '7.2', '9.2', '7', '7.3', '4.3',\n",
       "       '7.6', '5.7', '5', '9.1', '6.5', 'tbd', '8.8', '6.9', '9.4', '6.8',\n",
       "       '6.1', '6.7', '5.4', '4', '4.9', '4.5', '9.3', '6.2', '4.2', '6',\n",
       "       '3.7', '4.1', '5.8', '5.6', '5.5', '4.4', '4.6', '5.9', '3.9',\n",
       "       '3.1', '2.9', '5.2', '3.3', '4.7', '5.1', '3.5', '2.5', '1.9', '3',\n",
       "       '2.7', '2.2', '2', '9.5', '2.1', '3.6', '2.8', '1.8', '3.8', '0',\n",
       "       '1.6', '9.6', '2.4', '1.7', '1.1', '0.3', '1.5', '0.7', '1.2',\n",
       "       '2.3', '0.5', '1.3', '0.2', '0.6', '1.4', '0.9', '1', '9.7'],\n",
       "      dtype=object)"
      ]
     },
     "execution_count": 13,
     "metadata": {},
     "output_type": "execute_result"
    }
   ],
   "source": [
    "# вывод уникальных значений столбца user_score\n",
    "df['user_score'].unique()"
   ]
  },
  {
   "cell_type": "markdown",
   "metadata": {},
   "source": [
    "Видим странное значение tbd. Видимо из-за него тип данных object. Посмотрим, как часто такое встречается"
   ]
  },
  {
   "cell_type": "code",
   "execution_count": 14,
   "metadata": {},
   "outputs": [
    {
     "data": {
      "text/html": [
       "<div>\n",
       "<style scoped>\n",
       "    .dataframe tbody tr th:only-of-type {\n",
       "        vertical-align: middle;\n",
       "    }\n",
       "\n",
       "    .dataframe tbody tr th {\n",
       "        vertical-align: top;\n",
       "    }\n",
       "\n",
       "    .dataframe thead th {\n",
       "        text-align: right;\n",
       "    }\n",
       "</style>\n",
       "<table border=\"1\" class=\"dataframe\">\n",
       "  <thead>\n",
       "    <tr style=\"text-align: right;\">\n",
       "      <th></th>\n",
       "      <th>name</th>\n",
       "      <th>platform</th>\n",
       "      <th>year_of_release</th>\n",
       "      <th>genre</th>\n",
       "      <th>na_sales</th>\n",
       "      <th>eu_sales</th>\n",
       "      <th>jp_sales</th>\n",
       "      <th>other_sales</th>\n",
       "      <th>critic_score</th>\n",
       "      <th>user_score</th>\n",
       "      <th>rating</th>\n",
       "    </tr>\n",
       "  </thead>\n",
       "  <tbody>\n",
       "    <tr>\n",
       "      <th>119</th>\n",
       "      <td>Zumba Fitness</td>\n",
       "      <td>Wii</td>\n",
       "      <td>2010.0</td>\n",
       "      <td>Sports</td>\n",
       "      <td>3.45</td>\n",
       "      <td>2.59</td>\n",
       "      <td>0.0</td>\n",
       "      <td>0.66</td>\n",
       "      <td>NaN</td>\n",
       "      <td>tbd</td>\n",
       "      <td>E</td>\n",
       "    </tr>\n",
       "    <tr>\n",
       "      <th>301</th>\n",
       "      <td>Namco Museum: 50th Anniversary</td>\n",
       "      <td>PS2</td>\n",
       "      <td>2005.0</td>\n",
       "      <td>Misc</td>\n",
       "      <td>2.08</td>\n",
       "      <td>1.35</td>\n",
       "      <td>0.0</td>\n",
       "      <td>0.54</td>\n",
       "      <td>61.0</td>\n",
       "      <td>tbd</td>\n",
       "      <td>E10+</td>\n",
       "    </tr>\n",
       "    <tr>\n",
       "      <th>520</th>\n",
       "      <td>Zumba Fitness 2</td>\n",
       "      <td>Wii</td>\n",
       "      <td>2011.0</td>\n",
       "      <td>Sports</td>\n",
       "      <td>1.51</td>\n",
       "      <td>1.03</td>\n",
       "      <td>0.0</td>\n",
       "      <td>0.27</td>\n",
       "      <td>NaN</td>\n",
       "      <td>tbd</td>\n",
       "      <td>T</td>\n",
       "    </tr>\n",
       "    <tr>\n",
       "      <th>645</th>\n",
       "      <td>uDraw Studio</td>\n",
       "      <td>Wii</td>\n",
       "      <td>2010.0</td>\n",
       "      <td>Misc</td>\n",
       "      <td>1.65</td>\n",
       "      <td>0.57</td>\n",
       "      <td>0.0</td>\n",
       "      <td>0.20</td>\n",
       "      <td>71.0</td>\n",
       "      <td>tbd</td>\n",
       "      <td>E</td>\n",
       "    </tr>\n",
       "    <tr>\n",
       "      <th>657</th>\n",
       "      <td>Frogger's Adventures: Temple of the Frog</td>\n",
       "      <td>GBA</td>\n",
       "      <td>NaN</td>\n",
       "      <td>Adventure</td>\n",
       "      <td>2.15</td>\n",
       "      <td>0.18</td>\n",
       "      <td>0.0</td>\n",
       "      <td>0.07</td>\n",
       "      <td>73.0</td>\n",
       "      <td>tbd</td>\n",
       "      <td>E</td>\n",
       "    </tr>\n",
       "    <tr>\n",
       "      <th>...</th>\n",
       "      <td>...</td>\n",
       "      <td>...</td>\n",
       "      <td>...</td>\n",
       "      <td>...</td>\n",
       "      <td>...</td>\n",
       "      <td>...</td>\n",
       "      <td>...</td>\n",
       "      <td>...</td>\n",
       "      <td>...</td>\n",
       "      <td>...</td>\n",
       "      <td>...</td>\n",
       "    </tr>\n",
       "    <tr>\n",
       "      <th>16695</th>\n",
       "      <td>Planet Monsters</td>\n",
       "      <td>GBA</td>\n",
       "      <td>2001.0</td>\n",
       "      <td>Action</td>\n",
       "      <td>0.01</td>\n",
       "      <td>0.00</td>\n",
       "      <td>0.0</td>\n",
       "      <td>0.00</td>\n",
       "      <td>67.0</td>\n",
       "      <td>tbd</td>\n",
       "      <td>E</td>\n",
       "    </tr>\n",
       "    <tr>\n",
       "      <th>16697</th>\n",
       "      <td>Bust-A-Move 3000</td>\n",
       "      <td>GC</td>\n",
       "      <td>2003.0</td>\n",
       "      <td>Puzzle</td>\n",
       "      <td>0.01</td>\n",
       "      <td>0.00</td>\n",
       "      <td>0.0</td>\n",
       "      <td>0.00</td>\n",
       "      <td>53.0</td>\n",
       "      <td>tbd</td>\n",
       "      <td>E</td>\n",
       "    </tr>\n",
       "    <tr>\n",
       "      <th>16698</th>\n",
       "      <td>Mega Brain Boost</td>\n",
       "      <td>DS</td>\n",
       "      <td>2008.0</td>\n",
       "      <td>Puzzle</td>\n",
       "      <td>0.01</td>\n",
       "      <td>0.00</td>\n",
       "      <td>0.0</td>\n",
       "      <td>0.00</td>\n",
       "      <td>48.0</td>\n",
       "      <td>tbd</td>\n",
       "      <td>E</td>\n",
       "    </tr>\n",
       "    <tr>\n",
       "      <th>16704</th>\n",
       "      <td>Plushees</td>\n",
       "      <td>DS</td>\n",
       "      <td>2008.0</td>\n",
       "      <td>Simulation</td>\n",
       "      <td>0.01</td>\n",
       "      <td>0.00</td>\n",
       "      <td>0.0</td>\n",
       "      <td>0.00</td>\n",
       "      <td>NaN</td>\n",
       "      <td>tbd</td>\n",
       "      <td>E</td>\n",
       "    </tr>\n",
       "    <tr>\n",
       "      <th>16706</th>\n",
       "      <td>Men in Black II: Alien Escape</td>\n",
       "      <td>GC</td>\n",
       "      <td>2003.0</td>\n",
       "      <td>Shooter</td>\n",
       "      <td>0.01</td>\n",
       "      <td>0.00</td>\n",
       "      <td>0.0</td>\n",
       "      <td>0.00</td>\n",
       "      <td>NaN</td>\n",
       "      <td>tbd</td>\n",
       "      <td>T</td>\n",
       "    </tr>\n",
       "  </tbody>\n",
       "</table>\n",
       "<p>2424 rows × 11 columns</p>\n",
       "</div>"
      ],
      "text/plain": [
       "                                           name platform  year_of_release  \\\n",
       "119                               Zumba Fitness      Wii           2010.0   \n",
       "301              Namco Museum: 50th Anniversary      PS2           2005.0   \n",
       "520                             Zumba Fitness 2      Wii           2011.0   \n",
       "645                                uDraw Studio      Wii           2010.0   \n",
       "657    Frogger's Adventures: Temple of the Frog      GBA              NaN   \n",
       "...                                         ...      ...              ...   \n",
       "16695                           Planet Monsters      GBA           2001.0   \n",
       "16697                          Bust-A-Move 3000       GC           2003.0   \n",
       "16698                          Mega Brain Boost       DS           2008.0   \n",
       "16704                                  Plushees       DS           2008.0   \n",
       "16706             Men in Black II: Alien Escape       GC           2003.0   \n",
       "\n",
       "            genre  na_sales  eu_sales  jp_sales  other_sales  critic_score  \\\n",
       "119        Sports      3.45      2.59       0.0         0.66           NaN   \n",
       "301          Misc      2.08      1.35       0.0         0.54          61.0   \n",
       "520        Sports      1.51      1.03       0.0         0.27           NaN   \n",
       "645          Misc      1.65      0.57       0.0         0.20          71.0   \n",
       "657     Adventure      2.15      0.18       0.0         0.07          73.0   \n",
       "...           ...       ...       ...       ...          ...           ...   \n",
       "16695      Action      0.01      0.00       0.0         0.00          67.0   \n",
       "16697      Puzzle      0.01      0.00       0.0         0.00          53.0   \n",
       "16698      Puzzle      0.01      0.00       0.0         0.00          48.0   \n",
       "16704  Simulation      0.01      0.00       0.0         0.00           NaN   \n",
       "16706     Shooter      0.01      0.00       0.0         0.00           NaN   \n",
       "\n",
       "      user_score rating  \n",
       "119          tbd      E  \n",
       "301          tbd   E10+  \n",
       "520          tbd      T  \n",
       "645          tbd      E  \n",
       "657          tbd      E  \n",
       "...          ...    ...  \n",
       "16695        tbd      E  \n",
       "16697        tbd      E  \n",
       "16698        tbd      E  \n",
       "16704        tbd      E  \n",
       "16706        tbd      T  \n",
       "\n",
       "[2424 rows x 11 columns]"
      ]
     },
     "execution_count": 14,
     "metadata": {},
     "output_type": "execute_result"
    }
   ],
   "source": [
    "df[df['user_score'] == 'tbd']"
   ]
  },
  {
   "cell_type": "markdown",
   "metadata": {},
   "source": [
    "Довольно часто. Значит, нужно разобраться, что это значит."
   ]
  },
  {
   "cell_type": "markdown",
   "metadata": {},
   "source": [
    "Из открытых интернет-источников удалось узнать, что в гейм индустрии tbd может означать To Be Determined, то есть \"Будет определено\". Значит, пользователь не может сообщить точный рейтинг. Заполним его пропуском, чтобы оно не мешало в дальнейшем исследовании"
   ]
  },
  {
   "cell_type": "code",
   "execution_count": 15,
   "metadata": {},
   "outputs": [],
   "source": [
    "# замена значения tbd на пропуск\n",
    "df['user_score'] = df['user_score'].replace('tbd', np.nan)"
   ]
  },
  {
   "cell_type": "markdown",
   "metadata": {},
   "source": [
    "Теперь можно изменить тип данных"
   ]
  },
  {
   "cell_type": "code",
   "execution_count": 16,
   "metadata": {},
   "outputs": [],
   "source": [
    "# изменение типа данных в столбце user_score на float\n",
    "df['user_score'] = df['user_score'].astype(float)"
   ]
  },
  {
   "cell_type": "markdown",
   "metadata": {},
   "source": [
    "#### Столбец rating"
   ]
  },
  {
   "cell_type": "markdown",
   "metadata": {},
   "source": [
    "Тип данных этого столбца менять не будем. Посмотрим, какие значения там встречаются и как переводится каждое из них."
   ]
  },
  {
   "cell_type": "code",
   "execution_count": 17,
   "metadata": {},
   "outputs": [
    {
     "data": {
      "text/plain": [
       "array(['E', nan, 'M', 'T', 'E10+', 'K-A', 'AO', 'EC', 'RP'], dtype=object)"
      ]
     },
     "execution_count": 17,
     "metadata": {},
     "output_type": "execute_result"
    }
   ],
   "source": [
    "# просмотр уникальных значений столбца rating\n",
    "df['rating'].unique()"
   ]
  },
  {
   "cell_type": "markdown",
   "metadata": {},
   "source": [
    "Изз открытых интернет источников удалось понять, что обозначает каждое сокращение\n",
    "\n",
    "Entertainment Software Rating Board (ESRB)\n",
    "* «EC» («Early childhood») — «Для детей младшего возраста»: \n",
    "* «E» («Everyone») — «Для всех»:\n",
    "* «E10+» («Everyone 10 and older») — «Для всех от 10 лет и старше»: \n",
    "* «T» («Teen») — «Подросткам»:\n",
    "* «M» («Mature») — «Для взрослых»:\n",
    "* «AO» («Adults Only 18+») — «Только для взрослых»\n",
    "* «RP» («Rating Pending») — «Рейтинг ожидается»:\n",
    "* «K-A» («Kids to Adults») - «Для детей и взрослых»"
   ]
  },
  {
   "cell_type": "markdown",
   "metadata": {},
   "source": [
    "### Продажи во  всех регионах"
   ]
  },
  {
   "cell_type": "markdown",
   "metadata": {},
   "source": [
    "Для дальнейшего исследования нам понадобятся суммарные продажи во всех регионах для каждой игры. Посчитаем их и создадим для них отдельный столбец."
   ]
  },
  {
   "cell_type": "markdown",
   "metadata": {},
   "source": [
    "Реализуем функцию, которая будет считать продажу по всем регионам"
   ]
  },
  {
   "cell_type": "code",
   "execution_count": 18,
   "metadata": {},
   "outputs": [],
   "source": [
    "def all_regions_sales_count(row):\n",
    "    '''\n",
    "    Функция принимает на вход строку. Записывает в отдельные переменные значения продаж в каждом из представленных регионов\n",
    "    и возвращает их сумму.\n",
    "    '''\n",
    "    na_sales = row['na_sales']\n",
    "    eu_sales = row['eu_sales']\n",
    "    jp_sales = row['jp_sales']\n",
    "    other_sales = row['other_sales']\n",
    "    return na_sales + eu_sales + jp_sales + other_sales"
   ]
  },
  {
   "cell_type": "markdown",
   "metadata": {},
   "source": [
    "Добавим новый столбец, в который поместим значение - продажи по всем регионам (миллионы проданных копий)"
   ]
  },
  {
   "cell_type": "code",
   "execution_count": 19,
   "metadata": {},
   "outputs": [],
   "source": [
    "# применение функции all_regions_sales_count к новому столбцу all_regions_sales\n",
    "df['all_regions_sales'] = df.apply(all_regions_sales_count, axis=1)"
   ]
  },
  {
   "cell_type": "markdown",
   "metadata": {},
   "source": [
    "Проверим, что столбец добавлен"
   ]
  },
  {
   "cell_type": "code",
   "execution_count": 20,
   "metadata": {},
   "outputs": [
    {
     "data": {
      "text/html": [
       "<div>\n",
       "<style scoped>\n",
       "    .dataframe tbody tr th:only-of-type {\n",
       "        vertical-align: middle;\n",
       "    }\n",
       "\n",
       "    .dataframe tbody tr th {\n",
       "        vertical-align: top;\n",
       "    }\n",
       "\n",
       "    .dataframe thead th {\n",
       "        text-align: right;\n",
       "    }\n",
       "</style>\n",
       "<table border=\"1\" class=\"dataframe\">\n",
       "  <thead>\n",
       "    <tr style=\"text-align: right;\">\n",
       "      <th></th>\n",
       "      <th>name</th>\n",
       "      <th>platform</th>\n",
       "      <th>year_of_release</th>\n",
       "      <th>genre</th>\n",
       "      <th>na_sales</th>\n",
       "      <th>eu_sales</th>\n",
       "      <th>jp_sales</th>\n",
       "      <th>other_sales</th>\n",
       "      <th>critic_score</th>\n",
       "      <th>user_score</th>\n",
       "      <th>rating</th>\n",
       "      <th>all_regions_sales</th>\n",
       "    </tr>\n",
       "  </thead>\n",
       "  <tbody>\n",
       "    <tr>\n",
       "      <th>0</th>\n",
       "      <td>Wii Sports</td>\n",
       "      <td>Wii</td>\n",
       "      <td>2006.0</td>\n",
       "      <td>Sports</td>\n",
       "      <td>41.36</td>\n",
       "      <td>28.96</td>\n",
       "      <td>3.77</td>\n",
       "      <td>8.45</td>\n",
       "      <td>76.0</td>\n",
       "      <td>8.0</td>\n",
       "      <td>E</td>\n",
       "      <td>82.54</td>\n",
       "    </tr>\n",
       "    <tr>\n",
       "      <th>1</th>\n",
       "      <td>Super Mario Bros.</td>\n",
       "      <td>NES</td>\n",
       "      <td>1985.0</td>\n",
       "      <td>Platform</td>\n",
       "      <td>29.08</td>\n",
       "      <td>3.58</td>\n",
       "      <td>6.81</td>\n",
       "      <td>0.77</td>\n",
       "      <td>NaN</td>\n",
       "      <td>NaN</td>\n",
       "      <td>NaN</td>\n",
       "      <td>40.24</td>\n",
       "    </tr>\n",
       "    <tr>\n",
       "      <th>2</th>\n",
       "      <td>Mario Kart Wii</td>\n",
       "      <td>Wii</td>\n",
       "      <td>2008.0</td>\n",
       "      <td>Racing</td>\n",
       "      <td>15.68</td>\n",
       "      <td>12.76</td>\n",
       "      <td>3.79</td>\n",
       "      <td>3.29</td>\n",
       "      <td>82.0</td>\n",
       "      <td>8.3</td>\n",
       "      <td>E</td>\n",
       "      <td>35.52</td>\n",
       "    </tr>\n",
       "    <tr>\n",
       "      <th>3</th>\n",
       "      <td>Wii Sports Resort</td>\n",
       "      <td>Wii</td>\n",
       "      <td>2009.0</td>\n",
       "      <td>Sports</td>\n",
       "      <td>15.61</td>\n",
       "      <td>10.93</td>\n",
       "      <td>3.28</td>\n",
       "      <td>2.95</td>\n",
       "      <td>80.0</td>\n",
       "      <td>8.0</td>\n",
       "      <td>E</td>\n",
       "      <td>32.77</td>\n",
       "    </tr>\n",
       "    <tr>\n",
       "      <th>4</th>\n",
       "      <td>Pokemon Red/Pokemon Blue</td>\n",
       "      <td>GB</td>\n",
       "      <td>1996.0</td>\n",
       "      <td>Role-Playing</td>\n",
       "      <td>11.27</td>\n",
       "      <td>8.89</td>\n",
       "      <td>10.22</td>\n",
       "      <td>1.00</td>\n",
       "      <td>NaN</td>\n",
       "      <td>NaN</td>\n",
       "      <td>NaN</td>\n",
       "      <td>31.38</td>\n",
       "    </tr>\n",
       "    <tr>\n",
       "      <th>...</th>\n",
       "      <td>...</td>\n",
       "      <td>...</td>\n",
       "      <td>...</td>\n",
       "      <td>...</td>\n",
       "      <td>...</td>\n",
       "      <td>...</td>\n",
       "      <td>...</td>\n",
       "      <td>...</td>\n",
       "      <td>...</td>\n",
       "      <td>...</td>\n",
       "      <td>...</td>\n",
       "      <td>...</td>\n",
       "    </tr>\n",
       "    <tr>\n",
       "      <th>16710</th>\n",
       "      <td>Samurai Warriors: Sanada Maru</td>\n",
       "      <td>PS3</td>\n",
       "      <td>2016.0</td>\n",
       "      <td>Action</td>\n",
       "      <td>0.00</td>\n",
       "      <td>0.00</td>\n",
       "      <td>0.01</td>\n",
       "      <td>0.00</td>\n",
       "      <td>NaN</td>\n",
       "      <td>NaN</td>\n",
       "      <td>NaN</td>\n",
       "      <td>0.01</td>\n",
       "    </tr>\n",
       "    <tr>\n",
       "      <th>16711</th>\n",
       "      <td>LMA Manager 2007</td>\n",
       "      <td>X360</td>\n",
       "      <td>2006.0</td>\n",
       "      <td>Sports</td>\n",
       "      <td>0.00</td>\n",
       "      <td>0.01</td>\n",
       "      <td>0.00</td>\n",
       "      <td>0.00</td>\n",
       "      <td>NaN</td>\n",
       "      <td>NaN</td>\n",
       "      <td>NaN</td>\n",
       "      <td>0.01</td>\n",
       "    </tr>\n",
       "    <tr>\n",
       "      <th>16712</th>\n",
       "      <td>Haitaka no Psychedelica</td>\n",
       "      <td>PSV</td>\n",
       "      <td>2016.0</td>\n",
       "      <td>Adventure</td>\n",
       "      <td>0.00</td>\n",
       "      <td>0.00</td>\n",
       "      <td>0.01</td>\n",
       "      <td>0.00</td>\n",
       "      <td>NaN</td>\n",
       "      <td>NaN</td>\n",
       "      <td>NaN</td>\n",
       "      <td>0.01</td>\n",
       "    </tr>\n",
       "    <tr>\n",
       "      <th>16713</th>\n",
       "      <td>Spirits &amp; Spells</td>\n",
       "      <td>GBA</td>\n",
       "      <td>2003.0</td>\n",
       "      <td>Platform</td>\n",
       "      <td>0.01</td>\n",
       "      <td>0.00</td>\n",
       "      <td>0.00</td>\n",
       "      <td>0.00</td>\n",
       "      <td>NaN</td>\n",
       "      <td>NaN</td>\n",
       "      <td>NaN</td>\n",
       "      <td>0.01</td>\n",
       "    </tr>\n",
       "    <tr>\n",
       "      <th>16714</th>\n",
       "      <td>Winning Post 8 2016</td>\n",
       "      <td>PSV</td>\n",
       "      <td>2016.0</td>\n",
       "      <td>Simulation</td>\n",
       "      <td>0.00</td>\n",
       "      <td>0.00</td>\n",
       "      <td>0.01</td>\n",
       "      <td>0.00</td>\n",
       "      <td>NaN</td>\n",
       "      <td>NaN</td>\n",
       "      <td>NaN</td>\n",
       "      <td>0.01</td>\n",
       "    </tr>\n",
       "  </tbody>\n",
       "</table>\n",
       "<p>16713 rows × 12 columns</p>\n",
       "</div>"
      ],
      "text/plain": [
       "                                name platform  year_of_release         genre  \\\n",
       "0                         Wii Sports      Wii           2006.0        Sports   \n",
       "1                  Super Mario Bros.      NES           1985.0      Platform   \n",
       "2                     Mario Kart Wii      Wii           2008.0        Racing   \n",
       "3                  Wii Sports Resort      Wii           2009.0        Sports   \n",
       "4           Pokemon Red/Pokemon Blue       GB           1996.0  Role-Playing   \n",
       "...                              ...      ...              ...           ...   \n",
       "16710  Samurai Warriors: Sanada Maru      PS3           2016.0        Action   \n",
       "16711               LMA Manager 2007     X360           2006.0        Sports   \n",
       "16712        Haitaka no Psychedelica      PSV           2016.0     Adventure   \n",
       "16713               Spirits & Spells      GBA           2003.0      Platform   \n",
       "16714            Winning Post 8 2016      PSV           2016.0    Simulation   \n",
       "\n",
       "       na_sales  eu_sales  jp_sales  other_sales  critic_score  user_score  \\\n",
       "0         41.36     28.96      3.77         8.45          76.0         8.0   \n",
       "1         29.08      3.58      6.81         0.77           NaN         NaN   \n",
       "2         15.68     12.76      3.79         3.29          82.0         8.3   \n",
       "3         15.61     10.93      3.28         2.95          80.0         8.0   \n",
       "4         11.27      8.89     10.22         1.00           NaN         NaN   \n",
       "...         ...       ...       ...          ...           ...         ...   \n",
       "16710      0.00      0.00      0.01         0.00           NaN         NaN   \n",
       "16711      0.00      0.01      0.00         0.00           NaN         NaN   \n",
       "16712      0.00      0.00      0.01         0.00           NaN         NaN   \n",
       "16713      0.01      0.00      0.00         0.00           NaN         NaN   \n",
       "16714      0.00      0.00      0.01         0.00           NaN         NaN   \n",
       "\n",
       "      rating  all_regions_sales  \n",
       "0          E              82.54  \n",
       "1        NaN              40.24  \n",
       "2          E              35.52  \n",
       "3          E              32.77  \n",
       "4        NaN              31.38  \n",
       "...      ...                ...  \n",
       "16710    NaN               0.01  \n",
       "16711    NaN               0.01  \n",
       "16712    NaN               0.01  \n",
       "16713    NaN               0.01  \n",
       "16714    NaN               0.01  \n",
       "\n",
       "[16713 rows x 12 columns]"
      ]
     },
     "execution_count": 20,
     "metadata": {},
     "output_type": "execute_result"
    }
   ],
   "source": [
    "# просмотр датафрейма\n",
    "df"
   ]
  },
  {
   "cell_type": "markdown",
   "metadata": {},
   "source": [
    "Да, видим, что столбец с суммарными продажами добавлен  в таблицу"
   ]
  },
  {
   "cell_type": "markdown",
   "metadata": {},
   "source": [
    "<div style=\"border:solid blue 2px; padding: 20px\">\n",
    "\n",
    "**Выводы**\n",
    "    \n",
    "На этапе предобработки данных мы:\n",
    " * привели названия столбцов к нижнему регистру\n",
    " * удалили две строки датафрейма с пропусками в имени и жанре\n",
    " * предположили причины появления пропусков в столбцах с годом релиза, оценкой пользователей, оценкой критиков и рейтингом. Однако заполнять эти пропуска не стали\n",
    " * привели данные к нужным типам\n",
    " * разобрались со встречающейся аббревиатурой tbd \n",
    " * добавили новый стобец с продажами по всем регионам"
   ]
  },
  {
   "cell_type": "markdown",
   "metadata": {},
   "source": [
    "## Исследовательский анализ данных"
   ]
  },
  {
   "cell_type": "markdown",
   "metadata": {},
   "source": [
    "### Посмотрим, сколько игр выпускалось в разные годы"
   ]
  },
  {
   "cell_type": "code",
   "execution_count": 21,
   "metadata": {},
   "outputs": [
    {
     "data": {
      "text/plain": [
       "<AxesSubplot:>"
      ]
     },
     "execution_count": 21,
     "metadata": {},
     "output_type": "execute_result"
    },
    {
     "data": {
      "image/png": "[encoded data removed]",
      "text/plain": [
       "<Figure size 432x288 with 1 Axes>"
      ]
     },
     "metadata": {
      "needs_background": "light"
     },
     "output_type": "display_data"
    }
   ],
   "source": [
    "# боксплот для толбца year_of_release\n",
    "df.boxplot('year_of_release')"
   ]
  },
  {
   "cell_type": "markdown",
   "metadata": {},
   "source": [
    "Мы видим, что большинство значений расположены в промежутке от 1993 до 2016 года."
   ]
  },
  {
   "cell_type": "markdown",
   "metadata": {},
   "source": [
    "Построим гистограмму для этих данных"
   ]
  },
  {
   "cell_type": "code",
   "execution_count": 22,
   "metadata": {},
   "outputs": [
    {
     "data": {
      "text/plain": [
       "<AxesSubplot:>"
      ]
     },
     "execution_count": 22,
     "metadata": {},
     "output_type": "execute_result"
    },
    {
     "data": {
      "image/png": "[encoded data removed]",
      "text/plain": [
       "<Figure size 432x288 with 1 Axes>"
      ]
     },
     "metadata": {
      "needs_background": "light"
     },
     "output_type": "display_data"
    }
   ],
   "source": [
    "# гистограмма для среза столбца year_of_release с 1993 до 2016 года\n",
    "df['year_of_release'].hist(bins=2017-1993, range=(1993, 2017))"
   ]
  },
  {
   "cell_type": "markdown",
   "metadata": {},
   "source": [
    "Отметим, что для исследования нам не важны данные за весь период. Нужно смотреть только на недавние продажи."
   ]
  },
  {
   "cell_type": "markdown",
   "metadata": {},
   "source": [
    "Отметим, что до 2003 года игр выпускалось совсем не много, основная масса новых игр приходится на 2006-2012 годы. Дальше игр выпускается всё меньше.\n",
    "Пик значений находится выше 1400"
   ]
  },
  {
   "cell_type": "markdown",
   "metadata": {},
   "source": [
    "### Продажи по платформам"
   ]
  },
  {
   "cell_type": "markdown",
   "metadata": {},
   "source": [
    "Выберем платформы с наибольшими суммарными продажами и построем распределение по годам.\n",
    "\n",
    "Ответим на вопрос:\n",
    " * За какой характерный срок появляются новые и исчезают старые платформы?"
   ]
  },
  {
   "cell_type": "code",
   "execution_count": 23,
   "metadata": {},
   "outputs": [
    {
     "data": {
      "text/plain": [
       "platform\n",
       "PS2     1255.77\n",
       "X360     971.42\n",
       "PS3      939.65\n",
       "Wii      907.51\n",
       "DS       806.12\n",
       "PS       730.86\n",
       "GBA      317.85\n",
       "PS4      314.14\n",
       "PSP      294.05\n",
       "PC       259.52\n",
       "3DS      259.00\n",
       "XB       257.74\n",
       "GB       255.46\n",
       "NES      251.05\n",
       "N64      218.68\n",
       "SNES     200.04\n",
       "GC       198.93\n",
       "XOne     159.32\n",
       "2600      96.98\n",
       "WiiU      82.19\n",
       "PSV       54.07\n",
       "SAT       33.59\n",
       "GEN       28.35\n",
       "DC        15.95\n",
       "SCD        1.86\n",
       "NG         1.44\n",
       "WS         1.42\n",
       "TG16       0.16\n",
       "3DO        0.10\n",
       "GG         0.04\n",
       "PCFX       0.03\n",
       "Name: all_regions_sales, dtype: float64"
      ]
     },
     "execution_count": 23,
     "metadata": {},
     "output_type": "execute_result"
    }
   ],
   "source": [
    "# сгруппируем датафрейм по платформам и выведем суммарные продажи для каждой платформы\n",
    "df.groupby('platform')['all_regions_sales'].sum().sort_values(ascending=False)"
   ]
  },
  {
   "cell_type": "markdown",
   "metadata": {},
   "source": [
    "Возьмём в список для исследования, например, первые 10 платформ с наибольшими продажами"
   ]
  },
  {
   "cell_type": "code",
   "execution_count": 24,
   "metadata": {},
   "outputs": [],
   "source": [
    "# положим в top_platforms срез датафрейма по 10 платформам с наибольшими суммарными продажами\n",
    "top_platforms = df.query('platform in [\"PS2\", \"X360\", \"PS3\", \"Wii\", \"DS\", \"PS\", \"GBA\", \"PS4\", \"PSP\", \"PC\"]')"
   ]
  },
  {
   "cell_type": "code",
   "execution_count": 25,
   "metadata": {},
   "outputs": [
    {
     "data": {
      "text/html": [
       "<div>\n",
       "<style scoped>\n",
       "    .dataframe tbody tr th:only-of-type {\n",
       "        vertical-align: middle;\n",
       "    }\n",
       "\n",
       "    .dataframe tbody tr th {\n",
       "        vertical-align: top;\n",
       "    }\n",
       "\n",
       "    .dataframe thead th {\n",
       "        text-align: right;\n",
       "    }\n",
       "</style>\n",
       "<table border=\"1\" class=\"dataframe\">\n",
       "  <thead>\n",
       "    <tr style=\"text-align: right;\">\n",
       "      <th></th>\n",
       "      <th>name</th>\n",
       "      <th>platform</th>\n",
       "      <th>year_of_release</th>\n",
       "      <th>genre</th>\n",
       "      <th>na_sales</th>\n",
       "      <th>eu_sales</th>\n",
       "      <th>jp_sales</th>\n",
       "      <th>other_sales</th>\n",
       "      <th>critic_score</th>\n",
       "      <th>user_score</th>\n",
       "      <th>rating</th>\n",
       "      <th>all_regions_sales</th>\n",
       "    </tr>\n",
       "  </thead>\n",
       "  <tbody>\n",
       "    <tr>\n",
       "      <th>0</th>\n",
       "      <td>Wii Sports</td>\n",
       "      <td>Wii</td>\n",
       "      <td>2006.0</td>\n",
       "      <td>Sports</td>\n",
       "      <td>41.36</td>\n",
       "      <td>28.96</td>\n",
       "      <td>3.77</td>\n",
       "      <td>8.45</td>\n",
       "      <td>76.0</td>\n",
       "      <td>8.0</td>\n",
       "      <td>E</td>\n",
       "      <td>82.54</td>\n",
       "    </tr>\n",
       "    <tr>\n",
       "      <th>2</th>\n",
       "      <td>Mario Kart Wii</td>\n",
       "      <td>Wii</td>\n",
       "      <td>2008.0</td>\n",
       "      <td>Racing</td>\n",
       "      <td>15.68</td>\n",
       "      <td>12.76</td>\n",
       "      <td>3.79</td>\n",
       "      <td>3.29</td>\n",
       "      <td>82.0</td>\n",
       "      <td>8.3</td>\n",
       "      <td>E</td>\n",
       "      <td>35.52</td>\n",
       "    </tr>\n",
       "    <tr>\n",
       "      <th>3</th>\n",
       "      <td>Wii Sports Resort</td>\n",
       "      <td>Wii</td>\n",
       "      <td>2009.0</td>\n",
       "      <td>Sports</td>\n",
       "      <td>15.61</td>\n",
       "      <td>10.93</td>\n",
       "      <td>3.28</td>\n",
       "      <td>2.95</td>\n",
       "      <td>80.0</td>\n",
       "      <td>8.0</td>\n",
       "      <td>E</td>\n",
       "      <td>32.77</td>\n",
       "    </tr>\n",
       "    <tr>\n",
       "      <th>6</th>\n",
       "      <td>New Super Mario Bros.</td>\n",
       "      <td>DS</td>\n",
       "      <td>2006.0</td>\n",
       "      <td>Platform</td>\n",
       "      <td>11.28</td>\n",
       "      <td>9.14</td>\n",
       "      <td>6.50</td>\n",
       "      <td>2.88</td>\n",
       "      <td>89.0</td>\n",
       "      <td>8.5</td>\n",
       "      <td>E</td>\n",
       "      <td>29.80</td>\n",
       "    </tr>\n",
       "    <tr>\n",
       "      <th>7</th>\n",
       "      <td>Wii Play</td>\n",
       "      <td>Wii</td>\n",
       "      <td>2006.0</td>\n",
       "      <td>Misc</td>\n",
       "      <td>13.96</td>\n",
       "      <td>9.18</td>\n",
       "      <td>2.93</td>\n",
       "      <td>2.84</td>\n",
       "      <td>58.0</td>\n",
       "      <td>6.6</td>\n",
       "      <td>E</td>\n",
       "      <td>28.91</td>\n",
       "    </tr>\n",
       "    <tr>\n",
       "      <th>...</th>\n",
       "      <td>...</td>\n",
       "      <td>...</td>\n",
       "      <td>...</td>\n",
       "      <td>...</td>\n",
       "      <td>...</td>\n",
       "      <td>...</td>\n",
       "      <td>...</td>\n",
       "      <td>...</td>\n",
       "      <td>...</td>\n",
       "      <td>...</td>\n",
       "      <td>...</td>\n",
       "      <td>...</td>\n",
       "    </tr>\n",
       "    <tr>\n",
       "      <th>16708</th>\n",
       "      <td>Woody Woodpecker in Crazy Castle 5</td>\n",
       "      <td>GBA</td>\n",
       "      <td>2002.0</td>\n",
       "      <td>Platform</td>\n",
       "      <td>0.01</td>\n",
       "      <td>0.00</td>\n",
       "      <td>0.00</td>\n",
       "      <td>0.00</td>\n",
       "      <td>NaN</td>\n",
       "      <td>NaN</td>\n",
       "      <td>NaN</td>\n",
       "      <td>0.01</td>\n",
       "    </tr>\n",
       "    <tr>\n",
       "      <th>16709</th>\n",
       "      <td>SCORE International Baja 1000: The Official Game</td>\n",
       "      <td>PS2</td>\n",
       "      <td>2008.0</td>\n",
       "      <td>Racing</td>\n",
       "      <td>0.00</td>\n",
       "      <td>0.00</td>\n",
       "      <td>0.00</td>\n",
       "      <td>0.00</td>\n",
       "      <td>NaN</td>\n",
       "      <td>NaN</td>\n",
       "      <td>NaN</td>\n",
       "      <td>0.00</td>\n",
       "    </tr>\n",
       "    <tr>\n",
       "      <th>16710</th>\n",
       "      <td>Samurai Warriors: Sanada Maru</td>\n",
       "      <td>PS3</td>\n",
       "      <td>2016.0</td>\n",
       "      <td>Action</td>\n",
       "      <td>0.00</td>\n",
       "      <td>0.00</td>\n",
       "      <td>0.01</td>\n",
       "      <td>0.00</td>\n",
       "      <td>NaN</td>\n",
       "      <td>NaN</td>\n",
       "      <td>NaN</td>\n",
       "      <td>0.01</td>\n",
       "    </tr>\n",
       "    <tr>\n",
       "      <th>16711</th>\n",
       "      <td>LMA Manager 2007</td>\n",
       "      <td>X360</td>\n",
       "      <td>2006.0</td>\n",
       "      <td>Sports</td>\n",
       "      <td>0.00</td>\n",
       "      <td>0.01</td>\n",
       "      <td>0.00</td>\n",
       "      <td>0.00</td>\n",
       "      <td>NaN</td>\n",
       "      <td>NaN</td>\n",
       "      <td>NaN</td>\n",
       "      <td>0.01</td>\n",
       "    </tr>\n",
       "    <tr>\n",
       "      <th>16713</th>\n",
       "      <td>Spirits &amp; Spells</td>\n",
       "      <td>GBA</td>\n",
       "      <td>2003.0</td>\n",
       "      <td>Platform</td>\n",
       "      <td>0.01</td>\n",
       "      <td>0.00</td>\n",
       "      <td>0.00</td>\n",
       "      <td>0.00</td>\n",
       "      <td>NaN</td>\n",
       "      <td>NaN</td>\n",
       "      <td>NaN</td>\n",
       "      <td>0.01</td>\n",
       "    </tr>\n",
       "  </tbody>\n",
       "</table>\n",
       "<p>12819 rows × 12 columns</p>\n",
       "</div>"
      ],
      "text/plain": [
       "                                                   name platform  \\\n",
       "0                                            Wii Sports      Wii   \n",
       "2                                        Mario Kart Wii      Wii   \n",
       "3                                     Wii Sports Resort      Wii   \n",
       "6                                 New Super Mario Bros.       DS   \n",
       "7                                              Wii Play      Wii   \n",
       "...                                                 ...      ...   \n",
       "16708                Woody Woodpecker in Crazy Castle 5      GBA   \n",
       "16709  SCORE International Baja 1000: The Official Game      PS2   \n",
       "16710                     Samurai Warriors: Sanada Maru      PS3   \n",
       "16711                                  LMA Manager 2007     X360   \n",
       "16713                                  Spirits & Spells      GBA   \n",
       "\n",
       "       year_of_release     genre  na_sales  eu_sales  jp_sales  other_sales  \\\n",
       "0               2006.0    Sports     41.36     28.96      3.77         8.45   \n",
       "2               2008.0    Racing     15.68     12.76      3.79         3.29   \n",
       "3               2009.0    Sports     15.61     10.93      3.28         2.95   \n",
       "6               2006.0  Platform     11.28      9.14      6.50         2.88   \n",
       "7               2006.0      Misc     13.96      9.18      2.93         2.84   \n",
       "...                ...       ...       ...       ...       ...          ...   \n",
       "16708           2002.0  Platform      0.01      0.00      0.00         0.00   \n",
       "16709           2008.0    Racing      0.00      0.00      0.00         0.00   \n",
       "16710           2016.0    Action      0.00      0.00      0.01         0.00   \n",
       "16711           2006.0    Sports      0.00      0.01      0.00         0.00   \n",
       "16713           2003.0  Platform      0.01      0.00      0.00         0.00   \n",
       "\n",
       "       critic_score  user_score rating  all_regions_sales  \n",
       "0              76.0         8.0      E              82.54  \n",
       "2              82.0         8.3      E              35.52  \n",
       "3              80.0         8.0      E              32.77  \n",
       "6              89.0         8.5      E              29.80  \n",
       "7              58.0         6.6      E              28.91  \n",
       "...             ...         ...    ...                ...  \n",
       "16708           NaN         NaN    NaN               0.01  \n",
       "16709           NaN         NaN    NaN               0.00  \n",
       "16710           NaN         NaN    NaN               0.01  \n",
       "16711           NaN         NaN    NaN               0.01  \n",
       "16713           NaN         NaN    NaN               0.01  \n",
       "\n",
       "[12819 rows x 12 columns]"
      ]
     },
     "execution_count": 25,
     "metadata": {},
     "output_type": "execute_result"
    }
   ],
   "source": [
    "top_platforms"
   ]
  },
  {
   "cell_type": "markdown",
   "metadata": {},
   "source": [
    "Построим для этих платформ распределение по годам"
   ]
  },
  {
   "cell_type": "code",
   "execution_count": 38,
   "metadata": {},
   "outputs": [],
   "source": [
    "def draw_plot(col, label_p):\n",
    "    '''\n",
    "    Функция построения гистограммы\n",
    "    '''\n",
    "    a = col.plot(kind='hist',bins=2017-1993, figsize=(16,5), alpha=0.3, label=label_p)\n",
    "    a.legend()\n",
    "    return a\n"
   ]
  },
  {
   "cell_type": "code",
   "execution_count": 39,
   "metadata": {},
   "outputs": [],
   "source": [
    "# список платформ с наибольшими продажами\n",
    "top_platform_list = [\"PS2\", \"X360\", \"PS3\", \"Wii\", \"DS\", \"PS\", \"GBA\", \"PS4\", \"PSP\", \"PC\"]"
   ]
  },
  {
   "cell_type": "code",
   "execution_count": 40,
   "metadata": {},
   "outputs": [
    {
     "data": {
      "image/png": "[encoded data removed]",
      "text/plain": [
       "<Figure size 1152x360 with 1 Axes>"
      ]
     },
     "metadata": {
      "needs_background": "light"
     },
     "output_type": "display_data"
    }
   ],
   "source": [
    "# применение функции построения гистограмм к срезу датафрейма по топовым платформам\n",
    "for platform_from_top in top_platform_list:\n",
    "    draw_plot(top_platforms[top_platforms['platform'] == platform_from_top]['year_of_release'], str(platform_from_top))\n"
   ]
  },
  {
   "cell_type": "markdown",
   "metadata": {},
   "source": [
    "Ответим на вопрос, за какой характерный срок появляются новые и исчезают старые платформы"
   ]
  },
  {
   "cell_type": "markdown",
   "metadata": {},
   "source": [
    "Для каждой из наиболее прибыльных платформ посмотрим год первого релиза и год последнего. Вычтем из второго первый и возьмём среднее по всем получившимся значениям."
   ]
  },
  {
   "cell_type": "code",
   "execution_count": 41,
   "metadata": {},
   "outputs": [],
   "source": [
    "#инициализируем переменные - максимальный год - список из нулей, минимальный - список из заведомо больших значений\n",
    "max_year = [0] * len(top_platform_list)\n",
    "min_year = [3000] * len(top_platform_list)"
   ]
  },
  {
   "cell_type": "markdown",
   "metadata": {},
   "source": [
    "Заполним списки"
   ]
  },
  {
   "cell_type": "code",
   "execution_count": 42,
   "metadata": {},
   "outputs": [],
   "source": [
    "for i in range(len(top_platform_list)):\n",
    "    for year in top_platforms[top_platforms['platform'] == top_platform_list[i]]['year_of_release']:\n",
    "        if year > max_year[i]:\n",
    "            max_year[i] = year\n",
    "        if year < min_year[i]:\n",
    "            min_year[i] = year"
   ]
  },
  {
   "cell_type": "markdown",
   "metadata": {},
   "source": [
    "Посмотрим на получившиеся списки"
   ]
  },
  {
   "cell_type": "code",
   "execution_count": 43,
   "metadata": {},
   "outputs": [
    {
     "data": {
      "text/plain": [
       "[2011.0,\n",
       " 2016.0,\n",
       " 2016.0,\n",
       " 2016.0,\n",
       " 2013.0,\n",
       " 2003.0,\n",
       " 2007.0,\n",
       " 2016.0,\n",
       " 2015.0,\n",
       " 2016.0]"
      ]
     },
     "execution_count": 43,
     "metadata": {},
     "output_type": "execute_result"
    }
   ],
   "source": [
    "max_year"
   ]
  },
  {
   "cell_type": "code",
   "execution_count": 44,
   "metadata": {},
   "outputs": [
    {
     "data": {
      "text/plain": [
       "[2000.0,\n",
       " 2005.0,\n",
       " 2006.0,\n",
       " 2006.0,\n",
       " 1985.0,\n",
       " 1994.0,\n",
       " 2000.0,\n",
       " 2013.0,\n",
       " 2004.0,\n",
       " 1985.0]"
      ]
     },
     "execution_count": 44,
     "metadata": {},
     "output_type": "execute_result"
    }
   ],
   "source": [
    "min_year"
   ]
  },
  {
   "cell_type": "code",
   "execution_count": 45,
   "metadata": {},
   "outputs": [],
   "source": [
    "platform_life_count = []\n",
    "for i in range(len(top_platform_list)):\n",
    "    platform_life_count.append(max_year[i] - min_year[i])"
   ]
  },
  {
   "cell_type": "code",
   "execution_count": 46,
   "metadata": {},
   "outputs": [
    {
     "data": {
      "text/plain": [
       "[11.0, 11.0, 10.0, 10.0, 28.0, 9.0, 7.0, 3.0, 11.0, 31.0]"
      ]
     },
     "execution_count": 46,
     "metadata": {},
     "output_type": "execute_result"
    }
   ],
   "source": [
    "platform_life_count"
   ]
  },
  {
   "cell_type": "markdown",
   "metadata": {},
   "source": [
    "Мы видим в списке два выбивающихся значения. Удалим их из списка прежде чем считать среднее."
   ]
  },
  {
   "cell_type": "code",
   "execution_count": 47,
   "metadata": {},
   "outputs": [
    {
     "data": {
      "text/plain": [
       "31.0"
      ]
     },
     "execution_count": 47,
     "metadata": {},
     "output_type": "execute_result"
    }
   ],
   "source": [
    "# удаление из списка по индексу\n",
    "platform_life_count.pop(-1)"
   ]
  },
  {
   "cell_type": "code",
   "execution_count": 48,
   "metadata": {
    "scrolled": true
   },
   "outputs": [
    {
     "data": {
      "text/plain": [
       "28.0"
      ]
     },
     "execution_count": 48,
     "metadata": {},
     "output_type": "execute_result"
    }
   ],
   "source": [
    "# удаление из списка по индексу\n",
    "platform_life_count.pop(4)"
   ]
  },
  {
   "cell_type": "markdown",
   "metadata": {},
   "source": [
    "Теперь посчитаем среднее без учёта выбивающихся значений"
   ]
  },
  {
   "cell_type": "code",
   "execution_count": 49,
   "metadata": {},
   "outputs": [
    {
     "data": {
      "text/plain": [
       "9.0"
      ]
     },
     "execution_count": 49,
     "metadata": {},
     "output_type": "execute_result"
    }
   ],
   "source": [
    "# сумма значений списка поделить на его длину\n",
    "sum(platform_life_count) / len(platform_life_count)"
   ]
  },
  {
   "cell_type": "markdown",
   "metadata": {},
   "source": [
    "Итак, мы видим, что в среднем платформы живут 9 лет"
   ]
  },
  {
   "cell_type": "markdown",
   "metadata": {},
   "source": [
    "### Актуальный период"
   ]
  },
  {
   "cell_type": "markdown",
   "metadata": {},
   "source": [
    "Выберем актуальный период так, чтобы это помогло построить прогноз на 2017 год. И не будем учитывать в исследовании данные за предыдущие годы.\n",
    "\n",
    "Исходя из предыдущего анализа, в среднем живут платформы живут 9 лет, однако платформы часто обновляются и брать такой большой актуальный период не стоит. К тому же популярны платформы не на протяжении всего этого срока. Возьмём актуальный период 3 года."
   ]
  },
  {
   "cell_type": "code",
   "execution_count": 50,
   "metadata": {},
   "outputs": [],
   "source": [
    "# новый датафрейм с информацией по актуальному периоду\n",
    "df_new = df.query('year_of_release > 2013')"
   ]
  },
  {
   "cell_type": "code",
   "execution_count": 51,
   "metadata": {},
   "outputs": [
    {
     "data": {
      "text/html": [
       "<div>\n",
       "<style scoped>\n",
       "    .dataframe tbody tr th:only-of-type {\n",
       "        vertical-align: middle;\n",
       "    }\n",
       "\n",
       "    .dataframe tbody tr th {\n",
       "        vertical-align: top;\n",
       "    }\n",
       "\n",
       "    .dataframe thead th {\n",
       "        text-align: right;\n",
       "    }\n",
       "</style>\n",
       "<table border=\"1\" class=\"dataframe\">\n",
       "  <thead>\n",
       "    <tr style=\"text-align: right;\">\n",
       "      <th></th>\n",
       "      <th>name</th>\n",
       "      <th>platform</th>\n",
       "      <th>year_of_release</th>\n",
       "      <th>genre</th>\n",
       "      <th>na_sales</th>\n",
       "      <th>eu_sales</th>\n",
       "      <th>jp_sales</th>\n",
       "      <th>other_sales</th>\n",
       "      <th>critic_score</th>\n",
       "      <th>user_score</th>\n",
       "      <th>rating</th>\n",
       "      <th>all_regions_sales</th>\n",
       "    </tr>\n",
       "  </thead>\n",
       "  <tbody>\n",
       "    <tr>\n",
       "      <th>31</th>\n",
       "      <td>Call of Duty: Black Ops 3</td>\n",
       "      <td>PS4</td>\n",
       "      <td>2015.0</td>\n",
       "      <td>Shooter</td>\n",
       "      <td>6.03</td>\n",
       "      <td>5.86</td>\n",
       "      <td>0.36</td>\n",
       "      <td>2.38</td>\n",
       "      <td>NaN</td>\n",
       "      <td>NaN</td>\n",
       "      <td>NaN</td>\n",
       "      <td>14.63</td>\n",
       "    </tr>\n",
       "    <tr>\n",
       "      <th>42</th>\n",
       "      <td>Grand Theft Auto V</td>\n",
       "      <td>PS4</td>\n",
       "      <td>2014.0</td>\n",
       "      <td>Action</td>\n",
       "      <td>3.96</td>\n",
       "      <td>6.31</td>\n",
       "      <td>0.38</td>\n",
       "      <td>1.97</td>\n",
       "      <td>97.0</td>\n",
       "      <td>8.3</td>\n",
       "      <td>M</td>\n",
       "      <td>12.62</td>\n",
       "    </tr>\n",
       "    <tr>\n",
       "      <th>47</th>\n",
       "      <td>Pokemon Omega Ruby/Pokemon Alpha Sapphire</td>\n",
       "      <td>3DS</td>\n",
       "      <td>2014.0</td>\n",
       "      <td>Role-Playing</td>\n",
       "      <td>4.35</td>\n",
       "      <td>3.49</td>\n",
       "      <td>3.10</td>\n",
       "      <td>0.74</td>\n",
       "      <td>NaN</td>\n",
       "      <td>NaN</td>\n",
       "      <td>NaN</td>\n",
       "      <td>11.68</td>\n",
       "    </tr>\n",
       "    <tr>\n",
       "      <th>77</th>\n",
       "      <td>FIFA 16</td>\n",
       "      <td>PS4</td>\n",
       "      <td>2015.0</td>\n",
       "      <td>Sports</td>\n",
       "      <td>1.12</td>\n",
       "      <td>6.12</td>\n",
       "      <td>0.06</td>\n",
       "      <td>1.28</td>\n",
       "      <td>82.0</td>\n",
       "      <td>4.3</td>\n",
       "      <td>E</td>\n",
       "      <td>8.58</td>\n",
       "    </tr>\n",
       "    <tr>\n",
       "      <th>87</th>\n",
       "      <td>Star Wars Battlefront (2015)</td>\n",
       "      <td>PS4</td>\n",
       "      <td>2015.0</td>\n",
       "      <td>Shooter</td>\n",
       "      <td>2.99</td>\n",
       "      <td>3.49</td>\n",
       "      <td>0.22</td>\n",
       "      <td>1.28</td>\n",
       "      <td>NaN</td>\n",
       "      <td>NaN</td>\n",
       "      <td>NaN</td>\n",
       "      <td>7.98</td>\n",
       "    </tr>\n",
       "    <tr>\n",
       "      <th>...</th>\n",
       "      <td>...</td>\n",
       "      <td>...</td>\n",
       "      <td>...</td>\n",
       "      <td>...</td>\n",
       "      <td>...</td>\n",
       "      <td>...</td>\n",
       "      <td>...</td>\n",
       "      <td>...</td>\n",
       "      <td>...</td>\n",
       "      <td>...</td>\n",
       "      <td>...</td>\n",
       "      <td>...</td>\n",
       "    </tr>\n",
       "    <tr>\n",
       "      <th>16703</th>\n",
       "      <td>Strawberry Nauts</td>\n",
       "      <td>PSV</td>\n",
       "      <td>2016.0</td>\n",
       "      <td>Adventure</td>\n",
       "      <td>0.00</td>\n",
       "      <td>0.00</td>\n",
       "      <td>0.01</td>\n",
       "      <td>0.00</td>\n",
       "      <td>NaN</td>\n",
       "      <td>NaN</td>\n",
       "      <td>NaN</td>\n",
       "      <td>0.01</td>\n",
       "    </tr>\n",
       "    <tr>\n",
       "      <th>16707</th>\n",
       "      <td>Aiyoku no Eustia</td>\n",
       "      <td>PSV</td>\n",
       "      <td>2014.0</td>\n",
       "      <td>Misc</td>\n",
       "      <td>0.00</td>\n",
       "      <td>0.00</td>\n",
       "      <td>0.01</td>\n",
       "      <td>0.00</td>\n",
       "      <td>NaN</td>\n",
       "      <td>NaN</td>\n",
       "      <td>NaN</td>\n",
       "      <td>0.01</td>\n",
       "    </tr>\n",
       "    <tr>\n",
       "      <th>16710</th>\n",
       "      <td>Samurai Warriors: Sanada Maru</td>\n",
       "      <td>PS3</td>\n",
       "      <td>2016.0</td>\n",
       "      <td>Action</td>\n",
       "      <td>0.00</td>\n",
       "      <td>0.00</td>\n",
       "      <td>0.01</td>\n",
       "      <td>0.00</td>\n",
       "      <td>NaN</td>\n",
       "      <td>NaN</td>\n",
       "      <td>NaN</td>\n",
       "      <td>0.01</td>\n",
       "    </tr>\n",
       "    <tr>\n",
       "      <th>16712</th>\n",
       "      <td>Haitaka no Psychedelica</td>\n",
       "      <td>PSV</td>\n",
       "      <td>2016.0</td>\n",
       "      <td>Adventure</td>\n",
       "      <td>0.00</td>\n",
       "      <td>0.00</td>\n",
       "      <td>0.01</td>\n",
       "      <td>0.00</td>\n",
       "      <td>NaN</td>\n",
       "      <td>NaN</td>\n",
       "      <td>NaN</td>\n",
       "      <td>0.01</td>\n",
       "    </tr>\n",
       "    <tr>\n",
       "      <th>16714</th>\n",
       "      <td>Winning Post 8 2016</td>\n",
       "      <td>PSV</td>\n",
       "      <td>2016.0</td>\n",
       "      <td>Simulation</td>\n",
       "      <td>0.00</td>\n",
       "      <td>0.00</td>\n",
       "      <td>0.01</td>\n",
       "      <td>0.00</td>\n",
       "      <td>NaN</td>\n",
       "      <td>NaN</td>\n",
       "      <td>NaN</td>\n",
       "      <td>0.01</td>\n",
       "    </tr>\n",
       "  </tbody>\n",
       "</table>\n",
       "<p>1689 rows × 12 columns</p>\n",
       "</div>"
      ],
      "text/plain": [
       "                                            name platform  year_of_release  \\\n",
       "31                     Call of Duty: Black Ops 3      PS4           2015.0   \n",
       "42                            Grand Theft Auto V      PS4           2014.0   \n",
       "47     Pokemon Omega Ruby/Pokemon Alpha Sapphire      3DS           2014.0   \n",
       "77                                       FIFA 16      PS4           2015.0   \n",
       "87                  Star Wars Battlefront (2015)      PS4           2015.0   \n",
       "...                                          ...      ...              ...   \n",
       "16703                           Strawberry Nauts      PSV           2016.0   \n",
       "16707                           Aiyoku no Eustia      PSV           2014.0   \n",
       "16710              Samurai Warriors: Sanada Maru      PS3           2016.0   \n",
       "16712                    Haitaka no Psychedelica      PSV           2016.0   \n",
       "16714                        Winning Post 8 2016      PSV           2016.0   \n",
       "\n",
       "              genre  na_sales  eu_sales  jp_sales  other_sales  critic_score  \\\n",
       "31          Shooter      6.03      5.86      0.36         2.38           NaN   \n",
       "42           Action      3.96      6.31      0.38         1.97          97.0   \n",
       "47     Role-Playing      4.35      3.49      3.10         0.74           NaN   \n",
       "77           Sports      1.12      6.12      0.06         1.28          82.0   \n",
       "87          Shooter      2.99      3.49      0.22         1.28           NaN   \n",
       "...             ...       ...       ...       ...          ...           ...   \n",
       "16703     Adventure      0.00      0.00      0.01         0.00           NaN   \n",
       "16707          Misc      0.00      0.00      0.01         0.00           NaN   \n",
       "16710        Action      0.00      0.00      0.01         0.00           NaN   \n",
       "16712     Adventure      0.00      0.00      0.01         0.00           NaN   \n",
       "16714    Simulation      0.00      0.00      0.01         0.00           NaN   \n",
       "\n",
       "       user_score rating  all_regions_sales  \n",
       "31            NaN    NaN              14.63  \n",
       "42            8.3      M              12.62  \n",
       "47            NaN    NaN              11.68  \n",
       "77            4.3      E               8.58  \n",
       "87            NaN    NaN               7.98  \n",
       "...           ...    ...                ...  \n",
       "16703         NaN    NaN               0.01  \n",
       "16707         NaN    NaN               0.01  \n",
       "16710         NaN    NaN               0.01  \n",
       "16712         NaN    NaN               0.01  \n",
       "16714         NaN    NaN               0.01  \n",
       "\n",
       "[1689 rows x 12 columns]"
      ]
     },
     "execution_count": 51,
     "metadata": {},
     "output_type": "execute_result"
    }
   ],
   "source": [
    "df_new"
   ]
  },
  {
   "cell_type": "markdown",
   "metadata": {},
   "source": [
    "### Потенциально прибыльные платформы"
   ]
  },
  {
   "cell_type": "markdown",
   "metadata": {},
   "source": [
    "Какие платформы лидируют по продажам, растут или падают? Выберем несколько потенциально прибыльных платформ."
   ]
  },
  {
   "cell_type": "markdown",
   "metadata": {},
   "source": [
    "Посмотрим на скаттерплот по продажам по платформам за каждый год"
   ]
  },
  {
   "cell_type": "code",
   "execution_count": 60,
   "metadata": {},
   "outputs": [
    {
     "data": {
      "text/plain": [
       "<matplotlib.legend.Legend at 0x7f186f0f8c70>"
      ]
     },
     "execution_count": 60,
     "metadata": {},
     "output_type": "execute_result"
    },
    {
     "data": {
      "image/png": "[encoded data removed]",
      "text/plain": [
       "<Figure size 432x288 with 1 Axes>"
      ]
     },
     "metadata": {
      "needs_background": "light"
     },
     "output_type": "display_data"
    }
   ],
   "source": [
    "scatter = sns.scatterplot(x=\"year_of_release\", y=\"platform\",size=\"all_regions_sales\",data=df_new,sizes=(0, 200), legend=\"brief\")\n",
    "scatter.legend(bbox_to_anchor= (1.03, 1))"
   ]
  },
  {
   "cell_type": "markdown",
   "metadata": {},
   "source": [
    "Отсюда видны потенциально прибыльные платформы:\n",
    " * PS4\n",
    " * 3DS\n",
    " * XOne"
   ]
  },
  {
   "cell_type": "markdown",
   "metadata": {},
   "source": [
    "Переформируем данные для удобства построения графиков"
   ]
  },
  {
   "cell_type": "code",
   "execution_count": 61,
   "metadata": {},
   "outputs": [],
   "source": [
    "df_actual_pivot = df_new.pivot_table(index=['platform', 'year_of_release'], values=['all_regions_sales'], aggfunc=['sum'])\n",
    "df_actual_pivot = df_actual_pivot.reset_index(level='year_of_release')\n",
    "df_actual_pivot.columns = ['year', 'all_regions_sales_sum']"
   ]
  },
  {
   "cell_type": "code",
   "execution_count": 62,
   "metadata": {},
   "outputs": [
    {
     "data": {
      "text/html": [
       "<div>\n",
       "<style scoped>\n",
       "    .dataframe tbody tr th:only-of-type {\n",
       "        vertical-align: middle;\n",
       "    }\n",
       "\n",
       "    .dataframe tbody tr th {\n",
       "        vertical-align: top;\n",
       "    }\n",
       "\n",
       "    .dataframe thead th {\n",
       "        text-align: right;\n",
       "    }\n",
       "</style>\n",
       "<table border=\"1\" class=\"dataframe\">\n",
       "  <thead>\n",
       "    <tr style=\"text-align: right;\">\n",
       "      <th></th>\n",
       "      <th>year</th>\n",
       "      <th>all_regions_sales_sum</th>\n",
       "    </tr>\n",
       "    <tr>\n",
       "      <th>platform</th>\n",
       "      <th></th>\n",
       "      <th></th>\n",
       "    </tr>\n",
       "  </thead>\n",
       "  <tbody>\n",
       "    <tr>\n",
       "      <th>3DS</th>\n",
       "      <td>2014.0</td>\n",
       "      <td>43.76</td>\n",
       "    </tr>\n",
       "    <tr>\n",
       "      <th>3DS</th>\n",
       "      <td>2015.0</td>\n",
       "      <td>27.78</td>\n",
       "    </tr>\n",
       "    <tr>\n",
       "      <th>3DS</th>\n",
       "      <td>2016.0</td>\n",
       "      <td>15.14</td>\n",
       "    </tr>\n",
       "    <tr>\n",
       "      <th>PC</th>\n",
       "      <td>2014.0</td>\n",
       "      <td>13.28</td>\n",
       "    </tr>\n",
       "    <tr>\n",
       "      <th>PC</th>\n",
       "      <td>2015.0</td>\n",
       "      <td>8.52</td>\n",
       "    </tr>\n",
       "    <tr>\n",
       "      <th>PC</th>\n",
       "      <td>2016.0</td>\n",
       "      <td>5.25</td>\n",
       "    </tr>\n",
       "    <tr>\n",
       "      <th>PS3</th>\n",
       "      <td>2014.0</td>\n",
       "      <td>47.76</td>\n",
       "    </tr>\n",
       "    <tr>\n",
       "      <th>PS3</th>\n",
       "      <td>2015.0</td>\n",
       "      <td>16.82</td>\n",
       "    </tr>\n",
       "    <tr>\n",
       "      <th>PS3</th>\n",
       "      <td>2016.0</td>\n",
       "      <td>3.60</td>\n",
       "    </tr>\n",
       "    <tr>\n",
       "      <th>PS4</th>\n",
       "      <td>2014.0</td>\n",
       "      <td>100.00</td>\n",
       "    </tr>\n",
       "    <tr>\n",
       "      <th>PS4</th>\n",
       "      <td>2015.0</td>\n",
       "      <td>118.90</td>\n",
       "    </tr>\n",
       "    <tr>\n",
       "      <th>PS4</th>\n",
       "      <td>2016.0</td>\n",
       "      <td>69.25</td>\n",
       "    </tr>\n",
       "    <tr>\n",
       "      <th>PSP</th>\n",
       "      <td>2014.0</td>\n",
       "      <td>0.24</td>\n",
       "    </tr>\n",
       "    <tr>\n",
       "      <th>PSP</th>\n",
       "      <td>2015.0</td>\n",
       "      <td>0.12</td>\n",
       "    </tr>\n",
       "    <tr>\n",
       "      <th>PSV</th>\n",
       "      <td>2014.0</td>\n",
       "      <td>11.90</td>\n",
       "    </tr>\n",
       "    <tr>\n",
       "      <th>PSV</th>\n",
       "      <td>2015.0</td>\n",
       "      <td>6.25</td>\n",
       "    </tr>\n",
       "    <tr>\n",
       "      <th>PSV</th>\n",
       "      <td>2016.0</td>\n",
       "      <td>4.25</td>\n",
       "    </tr>\n",
       "    <tr>\n",
       "      <th>Wii</th>\n",
       "      <td>2014.0</td>\n",
       "      <td>3.75</td>\n",
       "    </tr>\n",
       "    <tr>\n",
       "      <th>Wii</th>\n",
       "      <td>2015.0</td>\n",
       "      <td>1.14</td>\n",
       "    </tr>\n",
       "    <tr>\n",
       "      <th>Wii</th>\n",
       "      <td>2016.0</td>\n",
       "      <td>0.18</td>\n",
       "    </tr>\n",
       "    <tr>\n",
       "      <th>WiiU</th>\n",
       "      <td>2014.0</td>\n",
       "      <td>22.03</td>\n",
       "    </tr>\n",
       "    <tr>\n",
       "      <th>WiiU</th>\n",
       "      <td>2015.0</td>\n",
       "      <td>16.35</td>\n",
       "    </tr>\n",
       "    <tr>\n",
       "      <th>WiiU</th>\n",
       "      <td>2016.0</td>\n",
       "      <td>4.60</td>\n",
       "    </tr>\n",
       "    <tr>\n",
       "      <th>X360</th>\n",
       "      <td>2014.0</td>\n",
       "      <td>34.74</td>\n",
       "    </tr>\n",
       "    <tr>\n",
       "      <th>X360</th>\n",
       "      <td>2015.0</td>\n",
       "      <td>11.96</td>\n",
       "    </tr>\n",
       "    <tr>\n",
       "      <th>X360</th>\n",
       "      <td>2016.0</td>\n",
       "      <td>1.52</td>\n",
       "    </tr>\n",
       "    <tr>\n",
       "      <th>XOne</th>\n",
       "      <td>2014.0</td>\n",
       "      <td>54.07</td>\n",
       "    </tr>\n",
       "    <tr>\n",
       "      <th>XOne</th>\n",
       "      <td>2015.0</td>\n",
       "      <td>60.14</td>\n",
       "    </tr>\n",
       "    <tr>\n",
       "      <th>XOne</th>\n",
       "      <td>2016.0</td>\n",
       "      <td>26.15</td>\n",
       "    </tr>\n",
       "  </tbody>\n",
       "</table>\n",
       "</div>"
      ],
      "text/plain": [
       "            year  all_regions_sales_sum\n",
       "platform                               \n",
       "3DS       2014.0                  43.76\n",
       "3DS       2015.0                  27.78\n",
       "3DS       2016.0                  15.14\n",
       "PC        2014.0                  13.28\n",
       "PC        2015.0                   8.52\n",
       "PC        2016.0                   5.25\n",
       "PS3       2014.0                  47.76\n",
       "PS3       2015.0                  16.82\n",
       "PS3       2016.0                   3.60\n",
       "PS4       2014.0                 100.00\n",
       "PS4       2015.0                 118.90\n",
       "PS4       2016.0                  69.25\n",
       "PSP       2014.0                   0.24\n",
       "PSP       2015.0                   0.12\n",
       "PSV       2014.0                  11.90\n",
       "PSV       2015.0                   6.25\n",
       "PSV       2016.0                   4.25\n",
       "Wii       2014.0                   3.75\n",
       "Wii       2015.0                   1.14\n",
       "Wii       2016.0                   0.18\n",
       "WiiU      2014.0                  22.03\n",
       "WiiU      2015.0                  16.35\n",
       "WiiU      2016.0                   4.60\n",
       "X360      2014.0                  34.74\n",
       "X360      2015.0                  11.96\n",
       "X360      2016.0                   1.52\n",
       "XOne      2014.0                  54.07\n",
       "XOne      2015.0                  60.14\n",
       "XOne      2016.0                  26.15"
      ]
     },
     "execution_count": 62,
     "metadata": {},
     "output_type": "execute_result"
    }
   ],
   "source": [
    "df_actual_pivot"
   ]
  },
  {
   "cell_type": "code",
   "execution_count": 63,
   "metadata": {},
   "outputs": [],
   "source": [
    "df_actual_pivot = df_actual_pivot.reset_index()\n",
    "df_actual_pivot = df_actual_pivot.pivot(index='year', columns='platform', values='all_regions_sales_sum')"
   ]
  },
  {
   "cell_type": "code",
   "execution_count": 64,
   "metadata": {
    "scrolled": true
   },
   "outputs": [
    {
     "data": {
      "text/html": [
       "<div>\n",
       "<style scoped>\n",
       "    .dataframe tbody tr th:only-of-type {\n",
       "        vertical-align: middle;\n",
       "    }\n",
       "\n",
       "    .dataframe tbody tr th {\n",
       "        vertical-align: top;\n",
       "    }\n",
       "\n",
       "    .dataframe thead th {\n",
       "        text-align: right;\n",
       "    }\n",
       "</style>\n",
       "<table border=\"1\" class=\"dataframe\">\n",
       "  <thead>\n",
       "    <tr style=\"text-align: right;\">\n",
       "      <th>platform</th>\n",
       "      <th>3DS</th>\n",
       "      <th>PC</th>\n",
       "      <th>PS3</th>\n",
       "      <th>PS4</th>\n",
       "      <th>PSP</th>\n",
       "      <th>PSV</th>\n",
       "      <th>Wii</th>\n",
       "      <th>WiiU</th>\n",
       "      <th>X360</th>\n",
       "      <th>XOne</th>\n",
       "    </tr>\n",
       "    <tr>\n",
       "      <th>year</th>\n",
       "      <th></th>\n",
       "      <th></th>\n",
       "      <th></th>\n",
       "      <th></th>\n",
       "      <th></th>\n",
       "      <th></th>\n",
       "      <th></th>\n",
       "      <th></th>\n",
       "      <th></th>\n",
       "      <th></th>\n",
       "    </tr>\n",
       "  </thead>\n",
       "  <tbody>\n",
       "    <tr>\n",
       "      <th>2014.0</th>\n",
       "      <td>43.76</td>\n",
       "      <td>13.28</td>\n",
       "      <td>47.76</td>\n",
       "      <td>100.00</td>\n",
       "      <td>0.24</td>\n",
       "      <td>11.90</td>\n",
       "      <td>3.75</td>\n",
       "      <td>22.03</td>\n",
       "      <td>34.74</td>\n",
       "      <td>54.07</td>\n",
       "    </tr>\n",
       "    <tr>\n",
       "      <th>2015.0</th>\n",
       "      <td>27.78</td>\n",
       "      <td>8.52</td>\n",
       "      <td>16.82</td>\n",
       "      <td>118.90</td>\n",
       "      <td>0.12</td>\n",
       "      <td>6.25</td>\n",
       "      <td>1.14</td>\n",
       "      <td>16.35</td>\n",
       "      <td>11.96</td>\n",
       "      <td>60.14</td>\n",
       "    </tr>\n",
       "    <tr>\n",
       "      <th>2016.0</th>\n",
       "      <td>15.14</td>\n",
       "      <td>5.25</td>\n",
       "      <td>3.60</td>\n",
       "      <td>69.25</td>\n",
       "      <td>NaN</td>\n",
       "      <td>4.25</td>\n",
       "      <td>0.18</td>\n",
       "      <td>4.60</td>\n",
       "      <td>1.52</td>\n",
       "      <td>26.15</td>\n",
       "    </tr>\n",
       "  </tbody>\n",
       "</table>\n",
       "</div>"
      ],
      "text/plain": [
       "platform    3DS     PC    PS3     PS4   PSP    PSV   Wii   WiiU   X360   XOne\n",
       "year                                                                         \n",
       "2014.0    43.76  13.28  47.76  100.00  0.24  11.90  3.75  22.03  34.74  54.07\n",
       "2015.0    27.78   8.52  16.82  118.90  0.12   6.25  1.14  16.35  11.96  60.14\n",
       "2016.0    15.14   5.25   3.60   69.25   NaN   4.25  0.18   4.60   1.52  26.15"
      ]
     },
     "execution_count": 64,
     "metadata": {},
     "output_type": "execute_result"
    }
   ],
   "source": [
    "df_actual_pivot"
   ]
  },
  {
   "cell_type": "markdown",
   "metadata": {},
   "source": [
    "Построим график «ящик с усами» по глобальным продажам игр в разбивке по платформам"
   ]
  },
  {
   "cell_type": "markdown",
   "metadata": {},
   "source": [
    "Рассмотрим сначала боксплот с общей выручкой"
   ]
  },
  {
   "cell_type": "code",
   "execution_count": 65,
   "metadata": {},
   "outputs": [
    {
     "name": "stderr",
     "output_type": "stream",
     "text": [
      "/opt/conda/lib/python3.9/site-packages/seaborn/_decorators.py:36: FutureWarning: Pass the following variable as a keyword arg: x. From version 0.12, the only valid positional argument will be `data`, and passing other arguments without an explicit keyword will result in an error or misinterpretation.\n",
      "  warnings.warn(\n"
     ]
    },
    {
     "data": {
      "text/plain": [
       "Text(0.5, 0, 'Выручка, млн дол.')"
      ]
     },
     "execution_count": 65,
     "metadata": {},
     "output_type": "execute_result"
    },
    {
     "data": {
      "image/png": "[encoded data removed]",
      "text/plain": [
       "<Figure size 432x288 with 1 Axes>"
      ]
     },
     "metadata": {
      "needs_background": "light"
     },
     "output_type": "display_data"
    }
   ],
   "source": [
    "p = df_new.groupby('platform')['all_regions_sales'].sum().reset_index()\n",
    "ax = sns.boxplot('all_regions_sales', data=p)\n",
    "ax.set_title('Глобальные сборы по платформам')\n",
    "ax.set_xlabel('Выручка, млн дол.')"
   ]
  },
  {
   "cell_type": "markdown",
   "metadata": {},
   "source": [
    "Основная часть значений находится в промежутке от 25 до 75. Видим так же хвост из больших значений."
   ]
  },
  {
   "cell_type": "markdown",
   "metadata": {},
   "source": [
    "Теперь составим боксплоты"
   ]
  },
  {
   "cell_type": "code",
   "execution_count": 66,
   "metadata": {},
   "outputs": [
    {
     "data": {
      "text/plain": [
       "<AxesSubplot:title={'center':'Распределение выручки по платформам'}, xlabel='Платформа', ylabel='Выручка'>"
      ]
     },
     "execution_count": 66,
     "metadata": {},
     "output_type": "execute_result"
    },
    {
     "data": {
      "image/png": "[encoded data removed]",
      "text/plain": [
       "<Figure size 1152x576 with 1 Axes>"
      ]
     },
     "metadata": {
      "needs_background": "light"
     },
     "output_type": "display_data"
    }
   ],
   "source": [
    "fig, ax = plt.pyplot.subplots(1)\n",
    "ax.set_title('Распределение выручки по платформам')\n",
    "ax.set_xlabel('Платформа')\n",
    "ax.set_ylabel('Выручка')\n",
    "df_actual_pivot.plot(kind='box', figsize=(16,8), ax=ax)"
   ]
  },
  {
   "cell_type": "markdown",
   "metadata": {},
   "source": [
    "Видно, что по продажам платформы сильно отличаются друг от друга. Видим, что PS4 заметно выделяется на фоне остальных. Далее идут XOne и 3DS - именно те платформы, которые являются наиболее перспективными"
   ]
  },
  {
   "cell_type": "markdown",
   "metadata": {},
   "source": [
    "### Влияние отзывов пользователей и критиков на продажу "
   ]
  },
  {
   "cell_type": "markdown",
   "metadata": {},
   "source": [
    "Посмотрим, как влияют на продажи внутри одной популярной платформы отзывы пользователей и критиков. Построим диаграмму рассеяния и посчитаем корреляцию между отзывами и продажами. "
   ]
  },
  {
   "cell_type": "markdown",
   "metadata": {},
   "source": [
    "Возьмем за основу данные по PS3, как популярной платформы с длинным временем жизни"
   ]
  },
  {
   "cell_type": "code",
   "execution_count": 67,
   "metadata": {},
   "outputs": [],
   "source": [
    "# срез датафрейма, для платформы PS3\n",
    "df_ps3 = df_new.query('platform == \"PS3\"')"
   ]
  },
  {
   "cell_type": "markdown",
   "metadata": {},
   "source": [
    "Построим диаграммы рассеяния"
   ]
  },
  {
   "cell_type": "code",
   "execution_count": 68,
   "metadata": {},
   "outputs": [
    {
     "data": {
      "text/plain": [
       "Text(0.5, 0, 'Оценка пользователей')"
      ]
     },
     "execution_count": 68,
     "metadata": {},
     "output_type": "execute_result"
    },
    {
     "data": {
      "image/png": "[encoded data removed]",
      "text/plain": [
       "<Figure size 432x288 with 1 Axes>"
      ]
     },
     "metadata": {
      "needs_background": "light"
     },
     "output_type": "display_data"
    }
   ],
   "source": [
    "df_ps3.plot(y='all_regions_sales', x='user_score', kind='scatter', alpha=0.5, title='Зависимость выручки PS3 от оценки пользователей')\n",
    "ax = plt.pyplot.gca()\n",
    "ax.set_ylabel('Выручка, млн дол.')\n",
    "ax.set_xlabel('Оценка пользователей')"
   ]
  },
  {
   "cell_type": "code",
   "execution_count": 69,
   "metadata": {},
   "outputs": [
    {
     "data": {
      "text/plain": [
       "Text(0.5, 0, 'Оценка критиков')"
      ]
     },
     "execution_count": 69,
     "metadata": {},
     "output_type": "execute_result"
    },
    {
     "data": {
      "image/png": "[encoded data removed]",
      "text/plain": [
       "<Figure size 432x288 with 1 Axes>"
      ]
     },
     "metadata": {
      "needs_background": "light"
     },
     "output_type": "display_data"
    }
   ],
   "source": [
    "df_ps3.plot(y='all_regions_sales', x='critic_score', kind='scatter', alpha=0.5, title='Зависимость выручки PS3 от оценки критиков')\n",
    "ax = plt.pyplot.gca()\n",
    "ax.set_ylabel('Выручка, млн дол.')\n",
    "ax.set_xlabel('Оценка критиков')"
   ]
  },
  {
   "cell_type": "code",
   "execution_count": 70,
   "metadata": {},
   "outputs": [
    {
     "data": {
      "text/html": [
       "<div>\n",
       "<style scoped>\n",
       "    .dataframe tbody tr th:only-of-type {\n",
       "        vertical-align: middle;\n",
       "    }\n",
       "\n",
       "    .dataframe tbody tr th {\n",
       "        vertical-align: top;\n",
       "    }\n",
       "\n",
       "    .dataframe thead th {\n",
       "        text-align: right;\n",
       "    }\n",
       "</style>\n",
       "<table border=\"1\" class=\"dataframe\">\n",
       "  <thead>\n",
       "    <tr style=\"text-align: right;\">\n",
       "      <th></th>\n",
       "      <th>user_score</th>\n",
       "      <th>critic_score</th>\n",
       "      <th>all_regions_sales</th>\n",
       "    </tr>\n",
       "  </thead>\n",
       "  <tbody>\n",
       "    <tr>\n",
       "      <th>user_score</th>\n",
       "      <td>1.000000</td>\n",
       "      <td>0.693445</td>\n",
       "      <td>-0.166761</td>\n",
       "    </tr>\n",
       "    <tr>\n",
       "      <th>critic_score</th>\n",
       "      <td>0.693445</td>\n",
       "      <td>1.000000</td>\n",
       "      <td>0.446575</td>\n",
       "    </tr>\n",
       "    <tr>\n",
       "      <th>all_regions_sales</th>\n",
       "      <td>-0.166761</td>\n",
       "      <td>0.446575</td>\n",
       "      <td>1.000000</td>\n",
       "    </tr>\n",
       "  </tbody>\n",
       "</table>\n",
       "</div>"
      ],
      "text/plain": [
       "                   user_score  critic_score  all_regions_sales\n",
       "user_score           1.000000      0.693445          -0.166761\n",
       "critic_score         0.693445      1.000000           0.446575\n",
       "all_regions_sales   -0.166761      0.446575           1.000000"
      ]
     },
     "execution_count": 70,
     "metadata": {},
     "output_type": "execute_result"
    }
   ],
   "source": [
    "# Посчитаем корреляцию между отзывами и продажами\n",
    "df_ps3[['user_score', 'critic_score', 'all_regions_sales']].corr()"
   ]
  },
  {
   "cell_type": "markdown",
   "metadata": {},
   "source": [
    "И по графикам, и по значению корреляции видим, что отзывы критиков в большей степени влияют на продажи, чем отзывы пользователей. Больше всего выручка при оценке критиков выше 80."
   ]
  },
  {
   "cell_type": "markdown",
   "metadata": {},
   "source": [
    "Соотнесём выводы с продажами игр на других платформах."
   ]
  },
  {
   "cell_type": "code",
   "execution_count": 71,
   "metadata": {},
   "outputs": [
    {
     "data": {
      "text/plain": [
       "Text(0.5, 0, 'Оценка пользователей')"
      ]
     },
     "execution_count": 71,
     "metadata": {},
     "output_type": "execute_result"
    },
    {
     "data": {
      "image/png": "[encoded data removed]",
      "text/plain": [
       "<Figure size 432x288 with 1 Axes>"
      ]
     },
     "metadata": {
      "needs_background": "light"
     },
     "output_type": "display_data"
    }
   ],
   "source": [
    "df_new.plot(y='all_regions_sales', x='user_score', kind='scatter', alpha=0.5, title='Зависимость выручки всех платформ от оценки пользователей')\n",
    "ax = plt.pyplot.gca()\n",
    "ax.set_ylabel('Выручка, млн дол.')\n",
    "ax.set_xlabel('Оценка пользователей')"
   ]
  },
  {
   "cell_type": "code",
   "execution_count": 72,
   "metadata": {},
   "outputs": [
    {
     "data": {
      "text/plain": [
       "Text(0.5, 0, 'Оценка критиков')"
      ]
     },
     "execution_count": 72,
     "metadata": {},
     "output_type": "execute_result"
    },
    {
     "data": {
      "image/png": "[encoded data removed]",
      "text/plain": [
       "<Figure size 432x288 with 1 Axes>"
      ]
     },
     "metadata": {
      "needs_background": "light"
     },
     "output_type": "display_data"
    }
   ],
   "source": [
    "df_new.plot(y='all_regions_sales', x='critic_score', kind='scatter', alpha=0.5, title='Зависимость выручки всех платформ от оценки критиков')\n",
    "ax = plt.pyplot.gca()\n",
    "ax.set_ylabel('Выручка, млн дол.')\n",
    "ax.set_xlabel('Оценка критиков')"
   ]
  },
  {
   "cell_type": "code",
   "execution_count": 73,
   "metadata": {},
   "outputs": [
    {
     "data": {
      "text/html": [
       "<div>\n",
       "<style scoped>\n",
       "    .dataframe tbody tr th:only-of-type {\n",
       "        vertical-align: middle;\n",
       "    }\n",
       "\n",
       "    .dataframe tbody tr th {\n",
       "        vertical-align: top;\n",
       "    }\n",
       "\n",
       "    .dataframe thead th {\n",
       "        text-align: right;\n",
       "    }\n",
       "</style>\n",
       "<table border=\"1\" class=\"dataframe\">\n",
       "  <thead>\n",
       "    <tr style=\"text-align: right;\">\n",
       "      <th></th>\n",
       "      <th>user_score</th>\n",
       "      <th>critic_score</th>\n",
       "      <th>all_regions_sales</th>\n",
       "    </tr>\n",
       "  </thead>\n",
       "  <tbody>\n",
       "    <tr>\n",
       "      <th>user_score</th>\n",
       "      <td>1.00000</td>\n",
       "      <td>0.504460</td>\n",
       "      <td>-0.013070</td>\n",
       "    </tr>\n",
       "    <tr>\n",
       "      <th>critic_score</th>\n",
       "      <td>0.50446</td>\n",
       "      <td>1.000000</td>\n",
       "      <td>0.328105</td>\n",
       "    </tr>\n",
       "    <tr>\n",
       "      <th>all_regions_sales</th>\n",
       "      <td>-0.01307</td>\n",
       "      <td>0.328105</td>\n",
       "      <td>1.000000</td>\n",
       "    </tr>\n",
       "  </tbody>\n",
       "</table>\n",
       "</div>"
      ],
      "text/plain": [
       "                   user_score  critic_score  all_regions_sales\n",
       "user_score            1.00000      0.504460          -0.013070\n",
       "critic_score          0.50446      1.000000           0.328105\n",
       "all_regions_sales    -0.01307      0.328105           1.000000"
      ]
     },
     "execution_count": 73,
     "metadata": {},
     "output_type": "execute_result"
    }
   ],
   "source": [
    "# Посчитаем корреляцию между отзывами и продажами\n",
    "df_new[['user_score', 'critic_score', 'all_regions_sales']].corr()"
   ]
  },
  {
   "cell_type": "markdown",
   "metadata": {},
   "source": [
    "Мы видим, что корреляция для всех платформ ещё ниже."
   ]
  },
  {
   "cell_type": "markdown",
   "metadata": {},
   "source": [
    "Итак, в целом, можно сказать, что оценки критиков влияют на продажи сильнее (чем выше оценка критиков, тем больше продажи), чем оценки пользователей. Однако, это в основном относится к высоким оценкам. Можно отметить, что пользовательские оценки часто являются не объективными, поэтому почти не влияют на продажи игр. "
   ]
  },
  {
   "cell_type": "markdown",
   "metadata": {},
   "source": [
    "### Распределение игр по жанрам"
   ]
  },
  {
   "cell_type": "markdown",
   "metadata": {},
   "source": [
    "Посмотрим на общее распределение игр по жанрам. Что можно сказать о самых прибыльных жанрах? Выделяются ли жанры с высокими и низкими продажами?"
   ]
  },
  {
   "cell_type": "markdown",
   "metadata": {},
   "source": [
    "Построим скаттерплот, который покажет в среднем, игры каких жанров приносят платформам наибольшую выручку"
   ]
  },
  {
   "cell_type": "code",
   "execution_count": 81,
   "metadata": {},
   "outputs": [
    {
     "data": {
      "text/plain": [
       "<matplotlib.legend.Legend at 0x7f183fbac160>"
      ]
     },
     "execution_count": 81,
     "metadata": {},
     "output_type": "execute_result"
    },
    {
     "data": {
      "image/png": "[encoded data removed]",
      "text/plain": [
       "<Figure size 936x576 with 1 Axes>"
      ]
     },
     "metadata": {
      "needs_background": "light"
     },
     "output_type": "display_data"
    }
   ],
   "source": [
    "fig, scatter = plt.pyplot.subplots(figsize = (13,8))\n",
    "scatter = sns.scatterplot(x=\"year_of_release\", y=\"platform\",hue=\"genre\",size=\"all_regions_sales\",data=df_new,sizes=(0, 200))\n",
    "scatter.legend(bbox_to_anchor= (1, 1))"
   ]
  },
  {
   "cell_type": "markdown",
   "metadata": {},
   "source": [
    "Оценим, какая выручка с каждого жанра, если смотреть на все платформы вместе"
   ]
  },
  {
   "cell_type": "code",
   "execution_count": 82,
   "metadata": {
    "scrolled": true
   },
   "outputs": [
    {
     "data": {
      "text/plain": [
       "genre\n",
       "Action          199.36\n",
       "Shooter         170.94\n",
       "Sports          109.48\n",
       "Role-Playing    101.44\n",
       "Misc             37.55\n",
       "Fighting         28.22\n",
       "Racing           27.52\n",
       "Platform         18.09\n",
       "Adventure        17.55\n",
       "Simulation       13.13\n",
       "Strategy          3.96\n",
       "Puzzle            2.21\n",
       "Name: all_regions_sales, dtype: float64"
      ]
     },
     "execution_count": 82,
     "metadata": {},
     "output_type": "execute_result"
    }
   ],
   "source": [
    "df_new.groupby('genre')['all_regions_sales'].sum().sort_values(ascending=False)"
   ]
  },
  {
   "cell_type": "markdown",
   "metadata": {},
   "source": [
    "Наиболее прибыльные жанры - Action, Shooter и Sports. Жанры с низкими продажами - Strategy и Puzzle"
   ]
  },
  {
   "cell_type": "markdown",
   "metadata": {},
   "source": [
    "Однако, сумма не лучший показатель, поскольку игр разных жанров выпущено разное количество. "
   ]
  },
  {
   "cell_type": "code",
   "execution_count": 83,
   "metadata": {},
   "outputs": [
    {
     "data": {
      "text/plain": [
       "Text(0, 0.5, 'Количество выпущенных игр')"
      ]
     },
     "execution_count": 83,
     "metadata": {},
     "output_type": "execute_result"
    },
    {
     "data": {
      "image/png": "[encoded data removed]",
      "text/plain": [
       "<Figure size 1152x576 with 1 Axes>"
      ]
     },
     "metadata": {
      "needs_background": "light"
     },
     "output_type": "display_data"
    }
   ],
   "source": [
    "# Построим график для наглядности\n",
    "\n",
    "ax = df_new['genre'].value_counts().plot(kind='bar', figsize=(16,8))\n",
    "ax.set_title('Топ количества игр по жанрам')\n",
    "ax.set_xlabel('Жанр игры')\n",
    "ax.set_ylabel('Количество выпущенных игр')"
   ]
  },
  {
   "cell_type": "markdown",
   "metadata": {},
   "source": [
    "Посмотрим на среднее"
   ]
  },
  {
   "cell_type": "code",
   "execution_count": 84,
   "metadata": {},
   "outputs": [
    {
     "data": {
      "text/plain": [
       "genre\n",
       "Shooter         1.335469\n",
       "Sports          0.680000\n",
       "Platform        0.476053\n",
       "Fighting        0.470333\n",
       "Role-Playing    0.459005\n",
       "Racing          0.398841\n",
       "Misc            0.332301\n",
       "Action          0.322068\n",
       "Simulation      0.298409\n",
       "Puzzle          0.157857\n",
       "Strategy        0.107027\n",
       "Adventure       0.094865\n",
       "Name: all_regions_sales, dtype: float64"
      ]
     },
     "execution_count": 84,
     "metadata": {},
     "output_type": "execute_result"
    }
   ],
   "source": [
    "df_new.groupby('genre')['all_regions_sales'].mean().sort_values(ascending=False)"
   ]
  },
  {
   "cell_type": "markdown",
   "metadata": {},
   "source": [
    "Здесь уже наиболее прибыльными оказываются - Shooter, Platform и Sports, а наименее прибыльными - Puzzle, Strategy и Adventurе"
   ]
  },
  {
   "cell_type": "markdown",
   "metadata": {},
   "source": [
    "Визуализируем продажи по жанрам"
   ]
  },
  {
   "cell_type": "code",
   "execution_count": 85,
   "metadata": {},
   "outputs": [
    {
     "data": {
      "text/plain": [
       "<matplotlib.legend.Legend at 0x7f183da3d2e0>"
      ]
     },
     "execution_count": 85,
     "metadata": {},
     "output_type": "execute_result"
    },
    {
     "data": {
      "image/png": "[encoded data removed]",
      "text/plain": [
       "<Figure size 432x288 with 1 Axes>"
      ]
     },
     "metadata": {
      "needs_background": "light"
     },
     "output_type": "display_data"
    }
   ],
   "source": [
    "ax = sns.lineplot(y='all_regions_sales', x='year_of_release', hue='genre', markers=True, ci=False, data = df_new)\n",
    "ax.legend(bbox_to_anchor= (1, 1))"
   ]
  },
  {
   "cell_type": "markdown",
   "metadata": {},
   "source": [
    "<div style=\"border:solid blue 2px; padding: 20px\">\n",
    "\n",
    "**Выводы**\n",
    "    \n",
    "На этапе исследовательского анализа данных мы смогли отметить следующее:\n",
    "    \n",
    " * В разные годы количество выпускаемых игр имело довольно большой разброс - до 2003 года игр выпускалось мало, активный рост был в 2006-2012 годах, а далее снова спад\n",
    " * Средний срок жизни платформы - 9 лет\n",
    " * Потенциально прибыльные платформы - PS4, 3DS, XOne\n",
    " * Отзывы критиков и отзывы пользователей слабо влияют на продажи, но влияние первых заметно большей влияния последних. Больше всего выручка при оценке критиков выше 80.\n",
    " * Если судить по общей выручке, то наиболее прибыльные жанры - Action, Shooter и Sports, а если смотреть на среднее, то больше прибыли приносят Shooter, Platform и Sports.\n",
    " * Жанры с низкими продажами, если смотреть на общую сумму - Strategy и Puzzle, а если на среднее, то к ним присоединятеся ещё и Adventurе"
   ]
  },
  {
   "cell_type": "markdown",
   "metadata": {},
   "source": [
    "## Портрет пользователя каждого региона"
   ]
  },
  {
   "cell_type": "markdown",
   "metadata": {},
   "source": [
    "Определим для пользователя каждого региона (NA, EU, JP): \n",
    " * Самые популярные платформы (топ-5).\n",
    " * Самые популярные жанры (топ-5). \n",
    "\n",
    "Ответим на вопрос: Влияет ли рейтинг ESRB на продажи в отдельном регионе?"
   ]
  },
  {
   "cell_type": "markdown",
   "metadata": {},
   "source": [
    "### Самые популярные платформы по регионам"
   ]
  },
  {
   "cell_type": "markdown",
   "metadata": {},
   "source": [
    "Для начала посмотрим по каждому региону платформы. Сгруппируем датафрейм по платформе и выведем пять с наибольшими продажами"
   ]
  },
  {
   "cell_type": "markdown",
   "metadata": {},
   "source": [
    "#### Северная Америка"
   ]
  },
  {
   "cell_type": "code",
   "execution_count": 86,
   "metadata": {},
   "outputs": [
    {
     "data": {
      "text/html": [
       "<div>\n",
       "<style scoped>\n",
       "    .dataframe tbody tr th:only-of-type {\n",
       "        vertical-align: middle;\n",
       "    }\n",
       "\n",
       "    .dataframe tbody tr th {\n",
       "        vertical-align: top;\n",
       "    }\n",
       "\n",
       "    .dataframe thead th {\n",
       "        text-align: right;\n",
       "    }\n",
       "</style>\n",
       "<table border=\"1\" class=\"dataframe\">\n",
       "  <thead>\n",
       "    <tr style=\"text-align: right;\">\n",
       "      <th></th>\n",
       "      <th>platform</th>\n",
       "      <th>na_sales</th>\n",
       "    </tr>\n",
       "  </thead>\n",
       "  <tbody>\n",
       "    <tr>\n",
       "      <th>3</th>\n",
       "      <td>PS4</td>\n",
       "      <td>98.61</td>\n",
       "    </tr>\n",
       "    <tr>\n",
       "      <th>9</th>\n",
       "      <td>XOne</td>\n",
       "      <td>81.27</td>\n",
       "    </tr>\n",
       "    <tr>\n",
       "      <th>8</th>\n",
       "      <td>X360</td>\n",
       "      <td>28.30</td>\n",
       "    </tr>\n",
       "    <tr>\n",
       "      <th>0</th>\n",
       "      <td>3DS</td>\n",
       "      <td>22.64</td>\n",
       "    </tr>\n",
       "    <tr>\n",
       "      <th>2</th>\n",
       "      <td>PS3</td>\n",
       "      <td>22.05</td>\n",
       "    </tr>\n",
       "  </tbody>\n",
       "</table>\n",
       "</div>"
      ],
      "text/plain": [
       "  platform  na_sales\n",
       "3      PS4     98.61\n",
       "9     XOne     81.27\n",
       "8     X360     28.30\n",
       "0      3DS     22.64\n",
       "2      PS3     22.05"
      ]
     },
     "execution_count": 86,
     "metadata": {},
     "output_type": "execute_result"
    }
   ],
   "source": [
    "df_new.groupby('platform')['na_sales'].sum().reset_index().sort_values(by='na_sales', ascending=False).head(5)"
   ]
  },
  {
   "cell_type": "markdown",
   "metadata": {},
   "source": [
    "В Северной Америке топ-5 платформ - PS4, XOne, X360, 3DS, PS3."
   ]
  },
  {
   "cell_type": "markdown",
   "metadata": {},
   "source": [
    "#### Европа"
   ]
  },
  {
   "cell_type": "code",
   "execution_count": 90,
   "metadata": {},
   "outputs": [
    {
     "data": {
      "text/html": [
       "<div>\n",
       "<style scoped>\n",
       "    .dataframe tbody tr th:only-of-type {\n",
       "        vertical-align: middle;\n",
       "    }\n",
       "\n",
       "    .dataframe tbody tr th {\n",
       "        vertical-align: top;\n",
       "    }\n",
       "\n",
       "    .dataframe thead th {\n",
       "        text-align: right;\n",
       "    }\n",
       "</style>\n",
       "<table border=\"1\" class=\"dataframe\">\n",
       "  <thead>\n",
       "    <tr style=\"text-align: right;\">\n",
       "      <th></th>\n",
       "      <th>platform</th>\n",
       "      <th>eu_sales</th>\n",
       "    </tr>\n",
       "  </thead>\n",
       "  <tbody>\n",
       "    <tr>\n",
       "      <th>3</th>\n",
       "      <td>PS4</td>\n",
       "      <td>130.04</td>\n",
       "    </tr>\n",
       "    <tr>\n",
       "      <th>9</th>\n",
       "      <td>XOne</td>\n",
       "      <td>46.25</td>\n",
       "    </tr>\n",
       "    <tr>\n",
       "      <th>2</th>\n",
       "      <td>PS3</td>\n",
       "      <td>25.54</td>\n",
       "    </tr>\n",
       "    <tr>\n",
       "      <th>1</th>\n",
       "      <td>PC</td>\n",
       "      <td>17.97</td>\n",
       "    </tr>\n",
       "    <tr>\n",
       "      <th>0</th>\n",
       "      <td>3DS</td>\n",
       "      <td>16.12</td>\n",
       "    </tr>\n",
       "  </tbody>\n",
       "</table>\n",
       "</div>"
      ],
      "text/plain": [
       "  platform  eu_sales\n",
       "3      PS4    130.04\n",
       "9     XOne     46.25\n",
       "2      PS3     25.54\n",
       "1       PC     17.97\n",
       "0      3DS     16.12"
      ]
     },
     "execution_count": 90,
     "metadata": {},
     "output_type": "execute_result"
    }
   ],
   "source": [
    "df_new.groupby('platform')['eu_sales'].sum().reset_index().sort_values(by='eu_sales', ascending=False).head(5)"
   ]
  },
  {
   "cell_type": "markdown",
   "metadata": {},
   "source": [
    "В Европе топ-5 платформ - PS4, XOne, PS3, PC, 3DS"
   ]
  },
  {
   "cell_type": "markdown",
   "metadata": {},
   "source": [
    "#### Япония"
   ]
  },
  {
   "cell_type": "code",
   "execution_count": 91,
   "metadata": {},
   "outputs": [
    {
     "data": {
      "text/html": [
       "<div>\n",
       "<style scoped>\n",
       "    .dataframe tbody tr th:only-of-type {\n",
       "        vertical-align: middle;\n",
       "    }\n",
       "\n",
       "    .dataframe tbody tr th {\n",
       "        vertical-align: top;\n",
       "    }\n",
       "\n",
       "    .dataframe thead th {\n",
       "        text-align: right;\n",
       "    }\n",
       "</style>\n",
       "<table border=\"1\" class=\"dataframe\">\n",
       "  <thead>\n",
       "    <tr style=\"text-align: right;\">\n",
       "      <th></th>\n",
       "      <th>platform</th>\n",
       "      <th>jp_sales</th>\n",
       "    </tr>\n",
       "  </thead>\n",
       "  <tbody>\n",
       "    <tr>\n",
       "      <th>0</th>\n",
       "      <td>3DS</td>\n",
       "      <td>44.24</td>\n",
       "    </tr>\n",
       "    <tr>\n",
       "      <th>3</th>\n",
       "      <td>PS4</td>\n",
       "      <td>15.02</td>\n",
       "    </tr>\n",
       "    <tr>\n",
       "      <th>5</th>\n",
       "      <td>PSV</td>\n",
       "      <td>14.54</td>\n",
       "    </tr>\n",
       "    <tr>\n",
       "      <th>2</th>\n",
       "      <td>PS3</td>\n",
       "      <td>11.22</td>\n",
       "    </tr>\n",
       "    <tr>\n",
       "      <th>7</th>\n",
       "      <td>WiiU</td>\n",
       "      <td>7.31</td>\n",
       "    </tr>\n",
       "  </tbody>\n",
       "</table>\n",
       "</div>"
      ],
      "text/plain": [
       "  platform  jp_sales\n",
       "0      3DS     44.24\n",
       "3      PS4     15.02\n",
       "5      PSV     14.54\n",
       "2      PS3     11.22\n",
       "7     WiiU      7.31"
      ]
     },
     "execution_count": 91,
     "metadata": {},
     "output_type": "execute_result"
    }
   ],
   "source": [
    "df_new.groupby('platform')['jp_sales'].sum().reset_index().sort_values(by='jp_sales', ascending=False).head(5)"
   ]
  },
  {
   "cell_type": "markdown",
   "metadata": {},
   "source": [
    "В Японии топ-5 платформ - 3DS, PS4, PSV, PS3, WiiU"
   ]
  },
  {
   "cell_type": "markdown",
   "metadata": {},
   "source": [
    "#### Другие страны"
   ]
  },
  {
   "cell_type": "code",
   "execution_count": 92,
   "metadata": {},
   "outputs": [
    {
     "data": {
      "text/html": [
       "<div>\n",
       "<style scoped>\n",
       "    .dataframe tbody tr th:only-of-type {\n",
       "        vertical-align: middle;\n",
       "    }\n",
       "\n",
       "    .dataframe tbody tr th {\n",
       "        vertical-align: top;\n",
       "    }\n",
       "\n",
       "    .dataframe thead th {\n",
       "        text-align: right;\n",
       "    }\n",
       "</style>\n",
       "<table border=\"1\" class=\"dataframe\">\n",
       "  <thead>\n",
       "    <tr style=\"text-align: right;\">\n",
       "      <th></th>\n",
       "      <th>platform</th>\n",
       "      <th>other_sales</th>\n",
       "    </tr>\n",
       "  </thead>\n",
       "  <tbody>\n",
       "    <tr>\n",
       "      <th>3</th>\n",
       "      <td>PS4</td>\n",
       "      <td>44.48</td>\n",
       "    </tr>\n",
       "    <tr>\n",
       "      <th>9</th>\n",
       "      <td>XOne</td>\n",
       "      <td>12.52</td>\n",
       "    </tr>\n",
       "    <tr>\n",
       "      <th>2</th>\n",
       "      <td>PS3</td>\n",
       "      <td>9.37</td>\n",
       "    </tr>\n",
       "    <tr>\n",
       "      <th>8</th>\n",
       "      <td>X360</td>\n",
       "      <td>4.35</td>\n",
       "    </tr>\n",
       "    <tr>\n",
       "      <th>0</th>\n",
       "      <td>3DS</td>\n",
       "      <td>3.68</td>\n",
       "    </tr>\n",
       "  </tbody>\n",
       "</table>\n",
       "</div>"
      ],
      "text/plain": [
       "  platform  other_sales\n",
       "3      PS4        44.48\n",
       "9     XOne        12.52\n",
       "2      PS3         9.37\n",
       "8     X360         4.35\n",
       "0      3DS         3.68"
      ]
     },
     "execution_count": 92,
     "metadata": {},
     "output_type": "execute_result"
    }
   ],
   "source": [
    "df_new.groupby('platform')['other_sales'].sum().reset_index().sort_values(by='other_sales', ascending=False).head(5)"
   ]
  },
  {
   "cell_type": "markdown",
   "metadata": {},
   "source": [
    "Среди других регионов топ-5 платформ - PS4, XOne, PS3, X360, 3DS"
   ]
  },
  {
   "cell_type": "markdown",
   "metadata": {},
   "source": [
    "#### Различия в долях продаж"
   ]
  },
  {
   "cell_type": "markdown",
   "metadata": {},
   "source": [
    "Опишем различия в долях продаж. Построим графики, отображающие какой процент приносит каждая платформа"
   ]
  },
  {
   "cell_type": "code",
   "execution_count": 93,
   "metadata": {},
   "outputs": [],
   "source": [
    "# сводная таблица со всеми необхожимыми для графиков данными\n",
    "df_table = df_new.pivot_table(['na_sales','eu_sales','jp_sales','other_sales','all_regions_sales'], ['platform'], aggfunc='sum').sort_values(by='na_sales', ascending=False)"
   ]
  },
  {
   "cell_type": "code",
   "execution_count": 94,
   "metadata": {},
   "outputs": [
    {
     "data": {
      "image/png": "[encoded data removed]",
      "text/plain": [
       "<Figure size 1296x504 with 4 Axes>"
      ]
     },
     "metadata": {
      "needs_background": "light"
     },
     "output_type": "display_data"
    }
   ],
   "source": [
    "# построение графиков\n",
    "fig, axis = plt.pyplot.subplots(2,2, figsize=(18,7))\n",
    "\n",
    "df_table['eu_sales'].sort_values(ascending=True).plot.barh(ax=axis[0,0]).set(ylabel='eu_sales');\n",
    "df_table['na_sales'].sort_values(ascending=True).plot.barh(ax=axis[0,1]).set(ylabel='na_sales');\n",
    "df_table['jp_sales'].sort_values(ascending=True).plot.barh(ax=axis[1,0]).set(ylabel='jp_sales');\n",
    "df_table['all_regions_sales'].sort_values(ascending=True).plot.barh(ax=axis[1,1]).set(ylabel='all_regions_sales');"
   ]
  },
  {
   "cell_type": "markdown",
   "metadata": {},
   "source": [
    "В целом видно, что \n",
    " * в Европе сильно выделяется платформа PS4\n",
    " * в Северной Америке разумнее говорить о топ-2 платформах - PS4 и XOne\n",
    " * а в Японии сильно выделяется 3DS\n",
    " * В Японии отличается топ продаж от Европы, Америки и остальных стран"
   ]
  },
  {
   "cell_type": "markdown",
   "metadata": {},
   "source": [
    "### Самые популярные жанры по регионам"
   ]
  },
  {
   "cell_type": "markdown",
   "metadata": {},
   "source": [
    "Проведём анализ, такой же как с платформами. Сгруппируем датафрейм по жанру и выведем пять с наибольшими продажами"
   ]
  },
  {
   "cell_type": "markdown",
   "metadata": {},
   "source": [
    "#### Северная Америка"
   ]
  },
  {
   "cell_type": "code",
   "execution_count": 95,
   "metadata": {},
   "outputs": [
    {
     "data": {
      "text/html": [
       "<div>\n",
       "<style scoped>\n",
       "    .dataframe tbody tr th:only-of-type {\n",
       "        vertical-align: middle;\n",
       "    }\n",
       "\n",
       "    .dataframe tbody tr th {\n",
       "        vertical-align: top;\n",
       "    }\n",
       "\n",
       "    .dataframe thead th {\n",
       "        text-align: right;\n",
       "    }\n",
       "</style>\n",
       "<table border=\"1\" class=\"dataframe\">\n",
       "  <thead>\n",
       "    <tr style=\"text-align: right;\">\n",
       "      <th></th>\n",
       "      <th>genre</th>\n",
       "      <th>na_sales</th>\n",
       "    </tr>\n",
       "  </thead>\n",
       "  <tbody>\n",
       "    <tr>\n",
       "      <th>8</th>\n",
       "      <td>Shooter</td>\n",
       "      <td>79.02</td>\n",
       "    </tr>\n",
       "    <tr>\n",
       "      <th>0</th>\n",
       "      <td>Action</td>\n",
       "      <td>72.53</td>\n",
       "    </tr>\n",
       "    <tr>\n",
       "      <th>10</th>\n",
       "      <td>Sports</td>\n",
       "      <td>46.13</td>\n",
       "    </tr>\n",
       "    <tr>\n",
       "      <th>7</th>\n",
       "      <td>Role-Playing</td>\n",
       "      <td>33.47</td>\n",
       "    </tr>\n",
       "    <tr>\n",
       "      <th>3</th>\n",
       "      <td>Misc</td>\n",
       "      <td>15.05</td>\n",
       "    </tr>\n",
       "  </tbody>\n",
       "</table>\n",
       "</div>"
      ],
      "text/plain": [
       "           genre  na_sales\n",
       "8        Shooter     79.02\n",
       "0         Action     72.53\n",
       "10        Sports     46.13\n",
       "7   Role-Playing     33.47\n",
       "3           Misc     15.05"
      ]
     },
     "execution_count": 95,
     "metadata": {},
     "output_type": "execute_result"
    }
   ],
   "source": [
    "df_new.groupby('genre')['na_sales'].sum().reset_index().sort_values(by='na_sales', ascending=False).head(5)"
   ]
  },
  {
   "cell_type": "markdown",
   "metadata": {},
   "source": [
    "Топ-5 жанров в Северной Америке - Action, Shooter, Sports, Misc, Role-Playing"
   ]
  },
  {
   "cell_type": "markdown",
   "metadata": {},
   "source": [
    "#### Европа"
   ]
  },
  {
   "cell_type": "code",
   "execution_count": 96,
   "metadata": {},
   "outputs": [
    {
     "data": {
      "text/html": [
       "<div>\n",
       "<style scoped>\n",
       "    .dataframe tbody tr th:only-of-type {\n",
       "        vertical-align: middle;\n",
       "    }\n",
       "\n",
       "    .dataframe tbody tr th {\n",
       "        vertical-align: top;\n",
       "    }\n",
       "\n",
       "    .dataframe thead th {\n",
       "        text-align: right;\n",
       "    }\n",
       "</style>\n",
       "<table border=\"1\" class=\"dataframe\">\n",
       "  <thead>\n",
       "    <tr style=\"text-align: right;\">\n",
       "      <th></th>\n",
       "      <th>genre</th>\n",
       "      <th>eu_sales</th>\n",
       "    </tr>\n",
       "  </thead>\n",
       "  <tbody>\n",
       "    <tr>\n",
       "      <th>0</th>\n",
       "      <td>Action</td>\n",
       "      <td>74.68</td>\n",
       "    </tr>\n",
       "    <tr>\n",
       "      <th>8</th>\n",
       "      <td>Shooter</td>\n",
       "      <td>65.52</td>\n",
       "    </tr>\n",
       "    <tr>\n",
       "      <th>10</th>\n",
       "      <td>Sports</td>\n",
       "      <td>45.73</td>\n",
       "    </tr>\n",
       "    <tr>\n",
       "      <th>7</th>\n",
       "      <td>Role-Playing</td>\n",
       "      <td>28.17</td>\n",
       "    </tr>\n",
       "    <tr>\n",
       "      <th>6</th>\n",
       "      <td>Racing</td>\n",
       "      <td>14.13</td>\n",
       "    </tr>\n",
       "  </tbody>\n",
       "</table>\n",
       "</div>"
      ],
      "text/plain": [
       "           genre  eu_sales\n",
       "0         Action     74.68\n",
       "8        Shooter     65.52\n",
       "10        Sports     45.73\n",
       "7   Role-Playing     28.17\n",
       "6         Racing     14.13"
      ]
     },
     "execution_count": 96,
     "metadata": {},
     "output_type": "execute_result"
    }
   ],
   "source": [
    "df_new.groupby('genre')['eu_sales'].sum().reset_index().sort_values(by='eu_sales', ascending=False).head(5)"
   ]
  },
  {
   "cell_type": "markdown",
   "metadata": {},
   "source": [
    "Топ-5 жанров в Европе, почти как и в Америке, - Action, Shooter, Sports, Role-Playing и Racing"
   ]
  },
  {
   "cell_type": "markdown",
   "metadata": {},
   "source": [
    "#### Япония"
   ]
  },
  {
   "cell_type": "code",
   "execution_count": 97,
   "metadata": {},
   "outputs": [
    {
     "data": {
      "text/html": [
       "<div>\n",
       "<style scoped>\n",
       "    .dataframe tbody tr th:only-of-type {\n",
       "        vertical-align: middle;\n",
       "    }\n",
       "\n",
       "    .dataframe tbody tr th {\n",
       "        vertical-align: top;\n",
       "    }\n",
       "\n",
       "    .dataframe thead th {\n",
       "        text-align: right;\n",
       "    }\n",
       "</style>\n",
       "<table border=\"1\" class=\"dataframe\">\n",
       "  <thead>\n",
       "    <tr style=\"text-align: right;\">\n",
       "      <th></th>\n",
       "      <th>genre</th>\n",
       "      <th>jp_sales</th>\n",
       "    </tr>\n",
       "  </thead>\n",
       "  <tbody>\n",
       "    <tr>\n",
       "      <th>7</th>\n",
       "      <td>Role-Playing</td>\n",
       "      <td>31.16</td>\n",
       "    </tr>\n",
       "    <tr>\n",
       "      <th>0</th>\n",
       "      <td>Action</td>\n",
       "      <td>29.58</td>\n",
       "    </tr>\n",
       "    <tr>\n",
       "      <th>2</th>\n",
       "      <td>Fighting</td>\n",
       "      <td>6.37</td>\n",
       "    </tr>\n",
       "    <tr>\n",
       "      <th>3</th>\n",
       "      <td>Misc</td>\n",
       "      <td>5.61</td>\n",
       "    </tr>\n",
       "    <tr>\n",
       "      <th>8</th>\n",
       "      <td>Shooter</td>\n",
       "      <td>4.87</td>\n",
       "    </tr>\n",
       "  </tbody>\n",
       "</table>\n",
       "</div>"
      ],
      "text/plain": [
       "          genre  jp_sales\n",
       "7  Role-Playing     31.16\n",
       "0        Action     29.58\n",
       "2      Fighting      6.37\n",
       "3          Misc      5.61\n",
       "8       Shooter      4.87"
      ]
     },
     "execution_count": 97,
     "metadata": {},
     "output_type": "execute_result"
    }
   ],
   "source": [
    "df_new.groupby('genre')['jp_sales'].sum().reset_index().sort_values(by='jp_sales', ascending=False).head(5)"
   ]
  },
  {
   "cell_type": "markdown",
   "metadata": {},
   "source": [
    "Топ-5 жанров в Японии - Role-Playing, Action, Fighting, Misc, Shooter"
   ]
  },
  {
   "cell_type": "markdown",
   "metadata": {},
   "source": [
    "#### Другие страны"
   ]
  },
  {
   "cell_type": "code",
   "execution_count": 98,
   "metadata": {},
   "outputs": [
    {
     "data": {
      "text/html": [
       "<div>\n",
       "<style scoped>\n",
       "    .dataframe tbody tr th:only-of-type {\n",
       "        vertical-align: middle;\n",
       "    }\n",
       "\n",
       "    .dataframe tbody tr th {\n",
       "        vertical-align: top;\n",
       "    }\n",
       "\n",
       "    .dataframe thead th {\n",
       "        text-align: right;\n",
       "    }\n",
       "</style>\n",
       "<table border=\"1\" class=\"dataframe\">\n",
       "  <thead>\n",
       "    <tr style=\"text-align: right;\">\n",
       "      <th></th>\n",
       "      <th>genre</th>\n",
       "      <th>other_sales</th>\n",
       "    </tr>\n",
       "  </thead>\n",
       "  <tbody>\n",
       "    <tr>\n",
       "      <th>0</th>\n",
       "      <td>Action</td>\n",
       "      <td>22.57</td>\n",
       "    </tr>\n",
       "    <tr>\n",
       "      <th>8</th>\n",
       "      <td>Shooter</td>\n",
       "      <td>21.53</td>\n",
       "    </tr>\n",
       "    <tr>\n",
       "      <th>10</th>\n",
       "      <td>Sports</td>\n",
       "      <td>14.36</td>\n",
       "    </tr>\n",
       "    <tr>\n",
       "      <th>7</th>\n",
       "      <td>Role-Playing</td>\n",
       "      <td>8.64</td>\n",
       "    </tr>\n",
       "    <tr>\n",
       "      <th>3</th>\n",
       "      <td>Misc</td>\n",
       "      <td>4.03</td>\n",
       "    </tr>\n",
       "  </tbody>\n",
       "</table>\n",
       "</div>"
      ],
      "text/plain": [
       "           genre  other_sales\n",
       "0         Action        22.57\n",
       "8        Shooter        21.53\n",
       "10        Sports        14.36\n",
       "7   Role-Playing         8.64\n",
       "3           Misc         4.03"
      ]
     },
     "execution_count": 98,
     "metadata": {},
     "output_type": "execute_result"
    }
   ],
   "source": [
    "df_new.groupby('genre')['other_sales'].sum().reset_index().sort_values(by='other_sales', ascending=False).head(5)"
   ]
  },
  {
   "cell_type": "markdown",
   "metadata": {},
   "source": [
    "Топ-5 жанров по другим регионам аналогичен топу в Европе и Америке - Action, Shooter, Sports, Misc, Role-Playing"
   ]
  },
  {
   "cell_type": "markdown",
   "metadata": {},
   "source": [
    "Посмотрим на графики"
   ]
  },
  {
   "cell_type": "code",
   "execution_count": 99,
   "metadata": {},
   "outputs": [],
   "source": [
    "# новая сводная таблица для построения графиков\n",
    "df_table_2 = df_new.pivot_table(['na_sales','eu_sales','jp_sales','other_sales','all_regions_sales'], ['genre'], aggfunc='sum').sort_values(by='na_sales', ascending=False)"
   ]
  },
  {
   "cell_type": "code",
   "execution_count": 100,
   "metadata": {},
   "outputs": [
    {
     "data": {
      "image/png": "[encoded data removed]",
      "text/plain": [
       "<Figure size 1296x504 with 4 Axes>"
      ]
     },
     "metadata": {
      "needs_background": "light"
     },
     "output_type": "display_data"
    }
   ],
   "source": [
    "# построение графиков\n",
    "fig, axis = plt.pyplot.subplots(2,2, figsize=(18,7))\n",
    "\n",
    "df_table_2['eu_sales'].sort_values(ascending=True).plot.barh(ax=axis[0,0]).set(ylabel='eu_sales');\n",
    "df_table_2['na_sales'].sort_values(ascending=True).plot.barh(ax=axis[0,1]).set(ylabel='na_sales');\n",
    "df_table_2['jp_sales'].sort_values(ascending=True).plot.barh(ax=axis[1,0]).set(ylabel='jp_sales');\n",
    "df_table_2['all_regions_sales'].sort_values(ascending=True).plot.barh(ax=axis[1,1]).set(ylabel='all_regions_sales');"
   ]
  },
  {
   "cell_type": "markdown",
   "metadata": {},
   "source": [
    "Если смотреть на графики, можно понять, что для Европы, Северной Америки и других регионов для топовых жанров они практически идентичны - сильно выделяются игры жанра Action, а за ними Shooter и Sports. А вот Япония выделяется. Там ролевые игры опережают все прочие"
   ]
  },
  {
   "cell_type": "markdown",
   "metadata": {},
   "source": [
    "### Влияние рейтинга ESRB на продажи в регионах"
   ]
  },
  {
   "cell_type": "markdown",
   "metadata": {},
   "source": [
    "Аналогично посмотрим, игры с каким рейтингом имеют большие продажи"
   ]
  },
  {
   "cell_type": "markdown",
   "metadata": {},
   "source": [
    "#### Северная Америка"
   ]
  },
  {
   "cell_type": "code",
   "execution_count": 101,
   "metadata": {},
   "outputs": [
    {
     "data": {
      "text/html": [
       "<div>\n",
       "<style scoped>\n",
       "    .dataframe tbody tr th:only-of-type {\n",
       "        vertical-align: middle;\n",
       "    }\n",
       "\n",
       "    .dataframe tbody tr th {\n",
       "        vertical-align: top;\n",
       "    }\n",
       "\n",
       "    .dataframe thead th {\n",
       "        text-align: right;\n",
       "    }\n",
       "</style>\n",
       "<table border=\"1\" class=\"dataframe\">\n",
       "  <thead>\n",
       "    <tr style=\"text-align: right;\">\n",
       "      <th></th>\n",
       "      <th>rating</th>\n",
       "      <th>na_sales</th>\n",
       "    </tr>\n",
       "  </thead>\n",
       "  <tbody>\n",
       "    <tr>\n",
       "      <th>2</th>\n",
       "      <td>M</td>\n",
       "      <td>96.42</td>\n",
       "    </tr>\n",
       "    <tr>\n",
       "      <th>0</th>\n",
       "      <td>E</td>\n",
       "      <td>50.74</td>\n",
       "    </tr>\n",
       "    <tr>\n",
       "      <th>3</th>\n",
       "      <td>T</td>\n",
       "      <td>38.95</td>\n",
       "    </tr>\n",
       "    <tr>\n",
       "      <th>1</th>\n",
       "      <td>E10+</td>\n",
       "      <td>33.23</td>\n",
       "    </tr>\n",
       "  </tbody>\n",
       "</table>\n",
       "</div>"
      ],
      "text/plain": [
       "  rating  na_sales\n",
       "2      M     96.42\n",
       "0      E     50.74\n",
       "3      T     38.95\n",
       "1   E10+     33.23"
      ]
     },
     "execution_count": 101,
     "metadata": {},
     "output_type": "execute_result"
    }
   ],
   "source": [
    "df_new.groupby('rating')['na_sales'].sum().reset_index().sort_values(by='na_sales', ascending=False).head(5)"
   ]
  },
  {
   "cell_type": "markdown",
   "metadata": {},
   "source": [
    "Лучше всего в Северной Америке продаются игры для всех и для взрослых"
   ]
  },
  {
   "cell_type": "markdown",
   "metadata": {},
   "source": [
    "#### Европа"
   ]
  },
  {
   "cell_type": "code",
   "execution_count": 102,
   "metadata": {},
   "outputs": [
    {
     "data": {
      "text/html": [
       "<div>\n",
       "<style scoped>\n",
       "    .dataframe tbody tr th:only-of-type {\n",
       "        vertical-align: middle;\n",
       "    }\n",
       "\n",
       "    .dataframe tbody tr th {\n",
       "        vertical-align: top;\n",
       "    }\n",
       "\n",
       "    .dataframe thead th {\n",
       "        text-align: right;\n",
       "    }\n",
       "</style>\n",
       "<table border=\"1\" class=\"dataframe\">\n",
       "  <thead>\n",
       "    <tr style=\"text-align: right;\">\n",
       "      <th></th>\n",
       "      <th>rating</th>\n",
       "      <th>eu_sales</th>\n",
       "    </tr>\n",
       "  </thead>\n",
       "  <tbody>\n",
       "    <tr>\n",
       "      <th>2</th>\n",
       "      <td>M</td>\n",
       "      <td>93.44</td>\n",
       "    </tr>\n",
       "    <tr>\n",
       "      <th>0</th>\n",
       "      <td>E</td>\n",
       "      <td>58.06</td>\n",
       "    </tr>\n",
       "    <tr>\n",
       "      <th>3</th>\n",
       "      <td>T</td>\n",
       "      <td>34.07</td>\n",
       "    </tr>\n",
       "    <tr>\n",
       "      <th>1</th>\n",
       "      <td>E10+</td>\n",
       "      <td>26.16</td>\n",
       "    </tr>\n",
       "  </tbody>\n",
       "</table>\n",
       "</div>"
      ],
      "text/plain": [
       "  rating  eu_sales\n",
       "2      M     93.44\n",
       "0      E     58.06\n",
       "3      T     34.07\n",
       "1   E10+     26.16"
      ]
     },
     "execution_count": 102,
     "metadata": {},
     "output_type": "execute_result"
    }
   ],
   "source": [
    "df_new.groupby('rating')['eu_sales'].sum().reset_index().sort_values(by='eu_sales', ascending=False).head(5)"
   ]
  },
  {
   "cell_type": "markdown",
   "metadata": {},
   "source": [
    "По Европе аналогичные результаты - наибольшие продажи приносят игры для всех и для взрослых"
   ]
  },
  {
   "cell_type": "markdown",
   "metadata": {},
   "source": [
    "#### Япония"
   ]
  },
  {
   "cell_type": "code",
   "execution_count": 103,
   "metadata": {},
   "outputs": [
    {
     "data": {
      "text/html": [
       "<div>\n",
       "<style scoped>\n",
       "    .dataframe tbody tr th:only-of-type {\n",
       "        vertical-align: middle;\n",
       "    }\n",
       "\n",
       "    .dataframe tbody tr th {\n",
       "        vertical-align: top;\n",
       "    }\n",
       "\n",
       "    .dataframe thead th {\n",
       "        text-align: right;\n",
       "    }\n",
       "</style>\n",
       "<table border=\"1\" class=\"dataframe\">\n",
       "  <thead>\n",
       "    <tr style=\"text-align: right;\">\n",
       "      <th></th>\n",
       "      <th>rating</th>\n",
       "      <th>jp_sales</th>\n",
       "    </tr>\n",
       "  </thead>\n",
       "  <tbody>\n",
       "    <tr>\n",
       "      <th>3</th>\n",
       "      <td>T</td>\n",
       "      <td>14.78</td>\n",
       "    </tr>\n",
       "    <tr>\n",
       "      <th>0</th>\n",
       "      <td>E</td>\n",
       "      <td>8.94</td>\n",
       "    </tr>\n",
       "    <tr>\n",
       "      <th>2</th>\n",
       "      <td>M</td>\n",
       "      <td>8.01</td>\n",
       "    </tr>\n",
       "    <tr>\n",
       "      <th>1</th>\n",
       "      <td>E10+</td>\n",
       "      <td>4.46</td>\n",
       "    </tr>\n",
       "  </tbody>\n",
       "</table>\n",
       "</div>"
      ],
      "text/plain": [
       "  rating  jp_sales\n",
       "3      T     14.78\n",
       "0      E      8.94\n",
       "2      M      8.01\n",
       "1   E10+      4.46"
      ]
     },
     "execution_count": 103,
     "metadata": {},
     "output_type": "execute_result"
    }
   ],
   "source": [
    "df_new.groupby('rating')['jp_sales'].sum().reset_index().sort_values(by='jp_sales', ascending=False).head(5)"
   ]
  },
  {
   "cell_type": "markdown",
   "metadata": {},
   "source": [
    "А вот в Японии популярны игры для подростков и так же для всех"
   ]
  },
  {
   "cell_type": "markdown",
   "metadata": {},
   "source": [
    "#### Другие регионы"
   ]
  },
  {
   "cell_type": "code",
   "execution_count": 104,
   "metadata": {},
   "outputs": [
    {
     "data": {
      "text/html": [
       "<div>\n",
       "<style scoped>\n",
       "    .dataframe tbody tr th:only-of-type {\n",
       "        vertical-align: middle;\n",
       "    }\n",
       "\n",
       "    .dataframe tbody tr th {\n",
       "        vertical-align: top;\n",
       "    }\n",
       "\n",
       "    .dataframe thead th {\n",
       "        text-align: right;\n",
       "    }\n",
       "</style>\n",
       "<table border=\"1\" class=\"dataframe\">\n",
       "  <thead>\n",
       "    <tr style=\"text-align: right;\">\n",
       "      <th></th>\n",
       "      <th>rating</th>\n",
       "      <th>other_sales</th>\n",
       "    </tr>\n",
       "  </thead>\n",
       "  <tbody>\n",
       "    <tr>\n",
       "      <th>2</th>\n",
       "      <td>M</td>\n",
       "      <td>28.67</td>\n",
       "    </tr>\n",
       "    <tr>\n",
       "      <th>0</th>\n",
       "      <td>E</td>\n",
       "      <td>15.39</td>\n",
       "    </tr>\n",
       "    <tr>\n",
       "      <th>3</th>\n",
       "      <td>T</td>\n",
       "      <td>11.33</td>\n",
       "    </tr>\n",
       "    <tr>\n",
       "      <th>1</th>\n",
       "      <td>E10+</td>\n",
       "      <td>7.83</td>\n",
       "    </tr>\n",
       "  </tbody>\n",
       "</table>\n",
       "</div>"
      ],
      "text/plain": [
       "  rating  other_sales\n",
       "2      M        28.67\n",
       "0      E        15.39\n",
       "3      T        11.33\n",
       "1   E10+         7.83"
      ]
     },
     "execution_count": 104,
     "metadata": {},
     "output_type": "execute_result"
    }
   ],
   "source": [
    "df_new.groupby('rating')['other_sales'].sum().reset_index().sort_values(by='other_sales', ascending=False).head(5)"
   ]
  },
  {
   "cell_type": "markdown",
   "metadata": {},
   "source": [
    "Результат для других регионов аналогичен результату для Европы и Америки - наибольшим успехом пользуютс игры для взрослых и для всех"
   ]
  },
  {
   "cell_type": "markdown",
   "metadata": {},
   "source": [
    "Посмотрим на графики"
   ]
  },
  {
   "cell_type": "code",
   "execution_count": 105,
   "metadata": {},
   "outputs": [],
   "source": [
    "# сводная таблица с необходимыми для графиков данными\n",
    "df_table_3 = df_new.pivot_table(['na_sales','eu_sales','jp_sales','other_sales','all_regions_sales'], ['rating'], aggfunc='sum').sort_values(by='na_sales', ascending=False)"
   ]
  },
  {
   "cell_type": "code",
   "execution_count": 106,
   "metadata": {},
   "outputs": [
    {
     "data": {
      "image/png": "[encoded data removed]",
      "text/plain": [
       "<Figure size 1296x504 with 4 Axes>"
      ]
     },
     "metadata": {
      "needs_background": "light"
     },
     "output_type": "display_data"
    }
   ],
   "source": [
    "# графики\n",
    "fig, axis = plt.pyplot.subplots(2,2, figsize=(18,7))\n",
    "\n",
    "df_table_3['eu_sales'].sort_values(ascending=True).plot.barh(ax=axis[0,0]).set(ylabel='eu_sales');\n",
    "df_table_3['na_sales'].sort_values(ascending=True).plot.barh(ax=axis[0,1]).set(ylabel='na_sales');\n",
    "df_table_3['jp_sales'].sort_values(ascending=True).plot.barh(ax=axis[1,0]).set(ylabel='jp_sales');\n",
    "df_table_3['all_regions_sales'].sort_values(ascending=True).plot.barh(ax=axis[1,1]).set(ylabel='all_regions_sales');"
   ]
  },
  {
   "cell_type": "markdown",
   "metadata": {},
   "source": [
    "Мы видим, что игры для всех и для взрослых во всех регионах, кроме Японии, наиболее популярны. В Японии же часто продаваемыми оказываются игры для подростков"
   ]
  },
  {
   "cell_type": "markdown",
   "metadata": {},
   "source": [
    "<div style=\"border:solid blue 2px; padding: 20px\">\n",
    "\n",
    "**Выводы**\n",
    "    \n",
    "Составляя портрет пользователя каждого региона, мы получили:\n",
    " * В Европе, Северной Америке и других регионах (не Японии)\n",
    "    * выделяются платформы - PS3, PS4, Xone\n",
    "    * наиболее популярные жанры - Action, Shooter и Sports\n",
    "    * особую популярность имеют игры для взрослых и для всех\n",
    "    \n",
    " * В Японии же\n",
    "    * в топ платформ вошли 3DS и PSV\n",
    "    * в список наиболее популярных жанров первое место занимают ролевые игры\n",
    "    * популярны игры для всех и подростковые"
   ]
  },
  {
   "cell_type": "markdown",
   "metadata": {},
   "source": [
    "## Проверка гипотез"
   ]
  },
  {
   "cell_type": "markdown",
   "metadata": {},
   "source": [
    "Проверим гипотезы\n",
    " * Средние пользовательские рейтинги платформ Xbox One и PC одинаковые;\n",
    " * Средние пользовательские рейтинги жанров Action и Sports разные."
   ]
  },
  {
   "cell_type": "markdown",
   "metadata": {},
   "source": [
    "### Средние пользовательские рейтинги платформ Xbox One и PC одинаковые"
   ]
  },
  {
   "cell_type": "markdown",
   "metadata": {},
   "source": [
    "Сформулируем нулевую и альтернативную гипотезы. Нулевая гипотеза - гипотеза об отсутствии различий. Альтернативную гипотезу сформулируем оттакливаясь от нулевой гипотезы."
   ]
  },
  {
   "cell_type": "markdown",
   "metadata": {},
   "source": [
    " * H0 - средние пользовательские рейтинги платформ Xbox One и PC равны \n",
    " * H1 - средние пользовательские рейтинги платформ Xbox One и PC не равны"
   ]
  },
  {
   "cell_type": "code",
   "execution_count": 107,
   "metadata": {},
   "outputs": [],
   "source": [
    "#зададим критический уровень статистической значимости\n",
    "alpha = .05"
   ]
  },
  {
   "cell_type": "code",
   "execution_count": 108,
   "metadata": {},
   "outputs": [],
   "source": [
    "# сделаем срезы с необходимыми для анализа данными\n",
    "x_one = df_new.query('platform == \"XOne\"')\n",
    "pc = df_new.query('platform == \"PC\"')"
   ]
  },
  {
   "cell_type": "markdown",
   "metadata": {},
   "source": [
    "Проверим гипотезу"
   ]
  },
  {
   "cell_type": "code",
   "execution_count": 109,
   "metadata": {},
   "outputs": [
    {
     "name": "stdout",
     "output_type": "stream",
     "text": [
      "Не получилось отвергнуть нулевую гипотезу\n",
      "\n",
      "Cредний пользовательский рейтинг платформы Xbox One - 6.594545454545454\n",
      "Cредний пользовательский рейтинг платформы PC - 6.298360655737704\n"
     ]
    }
   ],
   "source": [
    "results = st.ttest_ind(\n",
    "    x_one['user_score'],\n",
    "    pc['user_score'],\n",
    ")\n",
    "\n",
    "\n",
    "if (results.pvalue < alpha):\n",
    "    print(\"Отвергаем нулевую гипотезу\")\n",
    "else:\n",
    "    print(\"Не получилось отвергнуть нулевую гипотезу\")\n",
    "    \n",
    "print()    \n",
    "print('Cредний пользовательский рейтинг платформы Xbox One -', x_one['user_score'].mean())\n",
    "print('Cредний пользовательский рейтинг платформы PC -', pc['user_score'].mean())"
   ]
  },
  {
   "cell_type": "markdown",
   "metadata": {},
   "source": [
    "Итак, средние пользовательские рейтинги платформ Xbox One и PC равны"
   ]
  },
  {
   "cell_type": "markdown",
   "metadata": {},
   "source": [
    "### Средние пользовательские рейтинги жанров Action и Sports разные."
   ]
  },
  {
   "cell_type": "markdown",
   "metadata": {},
   "source": [
    "Аналогично предыдущему случаю сформулируем гипотезы, исходя из того, что  нулевая гипотеза формулируется через равенство"
   ]
  },
  {
   "cell_type": "markdown",
   "metadata": {},
   "source": [
    " * H0 - средние пользовательские рейтинги жанров Action и Sports равны\n",
    " * H1 - средние пользовательские рейтинги жанров Action и Sports не равны"
   ]
  },
  {
   "cell_type": "code",
   "execution_count": 110,
   "metadata": {},
   "outputs": [],
   "source": [
    "# срезы данных, которые сравниваем\n",
    "action = df_new.query('genre == \"Action\"')\n",
    "sports = df_new.query('genre == \"Sports\"')"
   ]
  },
  {
   "cell_type": "markdown",
   "metadata": {},
   "source": [
    "Проверим гипотезу"
   ]
  },
  {
   "cell_type": "code",
   "execution_count": 111,
   "metadata": {},
   "outputs": [
    {
     "name": "stdout",
     "output_type": "stream",
     "text": [
      "Не получилось отвергнуть нулевую гипотезу\n",
      "\n",
      "Cредний пользовательский рейтинг жанра Action - 6.760606060606061\n",
      "Cредний пользовательский рейтинг жанра Sports - 5.225196850393701\n"
     ]
    }
   ],
   "source": [
    "results = st.ttest_ind(\n",
    "    action['user_score'],\n",
    "    sports['user_score'],\n",
    ")\n",
    "\n",
    "\n",
    "if (results.pvalue < alpha):\n",
    "    print(\"Отвергаем нулевую гипотезу\")\n",
    "else:\n",
    "    print(\"Не получилось отвергнуть нулевую гипотезу\")\n",
    "    \n",
    "print()    \n",
    "print('Cредний пользовательский рейтинг жанра Action -', action['user_score'].mean())\n",
    "print('Cредний пользовательский рейтинг жанра Sports -', sports['user_score'].mean())"
   ]
  },
  {
   "cell_type": "markdown",
   "metadata": {},
   "source": [
    "Итак, средние пользовательские рейтинги жанров Action и Sports одинаковые"
   ]
  },
  {
   "cell_type": "markdown",
   "metadata": {},
   "source": [
    "<div style=\"border:solid blue 2px; padding: 20px\">\n",
    "\n",
    "**Выводы**\n",
    "    \n",
    "В ходе проверки гипотез, мы выяснили, что\n",
    " * средние пользовательские рейтинги платформ Xbox One и PC примерно равны\n",
    " * средние пользовательские рейтинги жанров Action и Sports примерно одинаковые"
   ]
  },
  {
   "cell_type": "markdown",
   "metadata": {},
   "source": [
    "## Общий вывод"
   ]
  },
  {
   "cell_type": "markdown",
   "metadata": {},
   "source": [
    "В ходе работы над проектом мы\n",
    " * Предобработали данные: привели названия столбцов к нижнему регистру, преобразовали данные в нужные типы, разобрались, что делать с пропусками, посчитали суммарные продажи во всех регионах и добавили в датасет.\n",
    " * В процессе исследовательского анализа данных\n",
    "    * поняли, что средний срок жизни платформы 9 лет и выбрали актуальный период с 2014 года\n",
    "    * выделили три потенциально прибыльные платформы: PS4, 3DS, XOne\n",
    "    * обнаружили, что оценки критиков влияют на продажи сильнее, чем оценки пользователей\n",
    "    * отметили самые прибыльные жанры: Action, Shooter, Sports, Platform, а так же жанры с низкими продажами: Adventure, Puzzlles, Strategy\n",
    " * Отдельно исследовали, какие игры любят в разных регионах\n",
    "    * В Северной Америке и Европе \n",
    "       * топ платформы: PS4, XOne, PS3\n",
    "       * топ жанры: Action и Shooter\n",
    "       * популярны игры для всех и для взрослых\n",
    "    * В Японии\n",
    "       * топ платформы: 3DS, PS4, PS3, PSV\n",
    "       * топ жанры: Role-Playing, Action\n",
    "       * популярны игры для всех и для подорстков\n",
    " * Проверили гипотезы и выяснили, что \n",
    "    * средние пользовательские рейтинги платформ Xbox One и PC примерно равны\n",
    "    * средние пользовательские рейтинги жанров Action и Sports примерно одинаковые\n",
    "    \n",
    "    \n",
    "Вывод:\n",
    " * Стоит обратить внимание на игры жанра Action, как одного из наиболее популярных везде\n",
    " * Рекламные компании для всех регионов кроме Японии могут быть схожи, поскольку предпочтения не очень разнятся\n",
    " * Имеет смысл уделить внимание платформам XOne и PS4"
   ]
  }
 ],
 "metadata": {
  "ExecuteTimeLog": [
   {
    "duration": 1698,
    "start_time": "2022-03-26T10:19:41.259Z"
   },
   {
    "duration": 188,
    "start_time": "2022-03-26T10:20:44.658Z"
   },
   {
    "duration": 130,
    "start_time": "2022-03-26T10:21:09.651Z"
   },
   {
    "duration": 29,
    "start_time": "2022-03-26T10:21:38.431Z"
   },
   {
    "duration": 20,
    "start_time": "2022-03-26T10:22:56.152Z"
   },
   {
    "duration": 7,
    "start_time": "2022-03-26T10:34:10.140Z"
   },
   {
    "duration": 5,
    "start_time": "2022-03-26T10:34:35.291Z"
   },
   {
    "duration": 31,
    "start_time": "2022-03-26T10:35:09.795Z"
   },
   {
    "duration": 19,
    "start_time": "2022-03-26T10:36:24.360Z"
   },
   {
    "duration": 52,
    "start_time": "2022-03-26T11:08:18.484Z"
   },
   {
    "duration": 1452,
    "start_time": "2022-03-26T11:08:22.608Z"
   },
   {
    "duration": 55,
    "start_time": "2022-03-26T11:08:24.062Z"
   },
   {
    "duration": 21,
    "start_time": "2022-03-26T11:08:24.119Z"
   },
   {
    "duration": 15,
    "start_time": "2022-03-26T11:08:24.142Z"
   },
   {
    "duration": 4,
    "start_time": "2022-03-26T11:08:24.159Z"
   },
   {
    "duration": 6,
    "start_time": "2022-03-26T11:08:24.165Z"
   },
   {
    "duration": 24,
    "start_time": "2022-03-26T11:08:24.172Z"
   },
   {
    "duration": 11,
    "start_time": "2022-03-26T11:08:25.270Z"
   },
   {
    "duration": 1647,
    "start_time": "2022-03-27T05:54:18.464Z"
   },
   {
    "duration": 52,
    "start_time": "2022-03-27T05:54:20.114Z"
   },
   {
    "duration": 40,
    "start_time": "2022-03-27T05:54:21.862Z"
   },
   {
    "duration": 20,
    "start_time": "2022-03-27T05:54:24.145Z"
   },
   {
    "duration": 6,
    "start_time": "2022-03-27T05:54:28.863Z"
   },
   {
    "duration": 4,
    "start_time": "2022-03-27T05:54:30.367Z"
   },
   {
    "duration": 31,
    "start_time": "2022-03-27T05:54:31.701Z"
   },
   {
    "duration": 13,
    "start_time": "2022-03-27T05:54:34.705Z"
   },
   {
    "duration": 25,
    "start_time": "2022-03-27T05:59:25.865Z"
   },
   {
    "duration": 12,
    "start_time": "2022-03-27T06:01:46.782Z"
   },
   {
    "duration": 8,
    "start_time": "2022-03-27T06:02:54.056Z"
   },
   {
    "duration": 20,
    "start_time": "2022-03-27T06:31:01.771Z"
   },
   {
    "duration": 11,
    "start_time": "2022-03-27T06:31:39.817Z"
   },
   {
    "duration": 12,
    "start_time": "2022-03-27T06:46:12.393Z"
   },
   {
    "duration": 10,
    "start_time": "2022-03-27T06:48:07.975Z"
   },
   {
    "duration": 39,
    "start_time": "2022-03-27T06:49:09.768Z"
   },
   {
    "duration": 6,
    "start_time": "2022-03-27T06:50:43.695Z"
   },
   {
    "duration": 11,
    "start_time": "2022-03-27T06:51:08.969Z"
   },
   {
    "duration": 7,
    "start_time": "2022-03-27T06:56:11.263Z"
   },
   {
    "duration": 5,
    "start_time": "2022-03-27T07:25:38.646Z"
   },
   {
    "duration": 406,
    "start_time": "2022-03-27T07:25:59.939Z"
   },
   {
    "duration": 34,
    "start_time": "2022-03-27T07:26:31.455Z"
   },
   {
    "duration": 198,
    "start_time": "2022-03-27T07:40:10.527Z"
   },
   {
    "duration": 218,
    "start_time": "2022-03-27T07:42:14.094Z"
   },
   {
    "duration": 13,
    "start_time": "2022-03-27T07:51:26.434Z"
   },
   {
    "duration": 14,
    "start_time": "2022-03-27T08:45:23.041Z"
   },
   {
    "duration": 34,
    "start_time": "2022-03-27T08:45:30.741Z"
   },
   {
    "duration": 4,
    "start_time": "2022-03-27T08:55:15.083Z"
   },
   {
    "duration": 5,
    "start_time": "2022-03-27T08:56:07.232Z"
   },
   {
    "duration": 820,
    "start_time": "2022-03-27T08:57:49.466Z"
   },
   {
    "duration": 5,
    "start_time": "2022-03-27T09:07:29.794Z"
   },
   {
    "duration": 4,
    "start_time": "2022-03-27T09:08:26.610Z"
   },
   {
    "duration": 29,
    "start_time": "2022-03-27T09:08:44.451Z"
   },
   {
    "duration": 8,
    "start_time": "2022-03-27T09:26:03.485Z"
   },
   {
    "duration": 6,
    "start_time": "2022-03-27T09:26:17.147Z"
   },
   {
    "duration": 5,
    "start_time": "2022-03-27T09:28:17.707Z"
   },
   {
    "duration": 7,
    "start_time": "2022-03-27T09:28:34.025Z"
   },
   {
    "duration": 5,
    "start_time": "2022-03-27T09:28:50.001Z"
   },
   {
    "duration": 156,
    "start_time": "2022-03-27T09:32:38.010Z"
   },
   {
    "duration": 12,
    "start_time": "2022-03-27T09:32:48.158Z"
   },
   {
    "duration": 11,
    "start_time": "2022-03-27T09:35:11.207Z"
   },
   {
    "duration": 7,
    "start_time": "2022-03-27T09:35:43.805Z"
   },
   {
    "duration": 6,
    "start_time": "2022-03-27T09:36:08.205Z"
   },
   {
    "duration": 6,
    "start_time": "2022-03-27T09:36:09.390Z"
   },
   {
    "duration": 1300,
    "start_time": "2022-03-27T10:33:17.924Z"
   },
   {
    "duration": 36,
    "start_time": "2022-03-27T10:33:20.227Z"
   },
   {
    "duration": 18,
    "start_time": "2022-03-27T10:33:21.611Z"
   },
   {
    "duration": 14,
    "start_time": "2022-03-27T10:33:23.251Z"
   },
   {
    "duration": 4,
    "start_time": "2022-03-27T10:33:25.419Z"
   },
   {
    "duration": 3,
    "start_time": "2022-03-27T10:33:26.243Z"
   },
   {
    "duration": 18,
    "start_time": "2022-03-27T10:33:27.042Z"
   },
   {
    "duration": 9,
    "start_time": "2022-03-27T10:33:29.529Z"
   },
   {
    "duration": 17,
    "start_time": "2022-03-27T10:33:31.839Z"
   },
   {
    "duration": 7,
    "start_time": "2022-03-27T10:33:33.099Z"
   },
   {
    "duration": 6,
    "start_time": "2022-03-27T10:33:33.838Z"
   },
   {
    "duration": 9,
    "start_time": "2022-03-27T10:33:35.588Z"
   },
   {
    "duration": 8,
    "start_time": "2022-03-27T10:33:36.597Z"
   },
   {
    "duration": 5,
    "start_time": "2022-03-27T10:33:38.249Z"
   },
   {
    "duration": 22,
    "start_time": "2022-03-27T10:33:39.383Z"
   },
   {
    "duration": 5,
    "start_time": "2022-03-27T10:33:40.820Z"
   },
   {
    "duration": 5,
    "start_time": "2022-03-27T10:33:41.732Z"
   },
   {
    "duration": 5,
    "start_time": "2022-03-27T10:33:43.291Z"
   },
   {
    "duration": 4,
    "start_time": "2022-03-27T10:33:45.314Z"
   },
   {
    "duration": 265,
    "start_time": "2022-03-27T10:33:46.281Z"
   },
   {
    "duration": 21,
    "start_time": "2022-03-27T10:33:47.973Z"
   },
   {
    "duration": 113,
    "start_time": "2022-03-27T10:33:53.233Z"
   },
   {
    "duration": 131,
    "start_time": "2022-03-27T10:33:57.043Z"
   },
   {
    "duration": 9,
    "start_time": "2022-03-27T10:34:01.179Z"
   },
   {
    "duration": 9,
    "start_time": "2022-03-27T10:34:02.828Z"
   },
   {
    "duration": 21,
    "start_time": "2022-03-27T10:34:04.154Z"
   },
   {
    "duration": 3,
    "start_time": "2022-03-27T10:34:05.880Z"
   },
   {
    "duration": 3,
    "start_time": "2022-03-27T10:34:06.527Z"
   },
   {
    "duration": 440,
    "start_time": "2022-03-27T10:34:07.099Z"
   },
   {
    "duration": 3,
    "start_time": "2022-03-27T10:34:09.100Z"
   },
   {
    "duration": 21,
    "start_time": "2022-03-27T10:34:09.960Z"
   },
   {
    "duration": 4,
    "start_time": "2022-03-27T10:34:11.279Z"
   },
   {
    "duration": 4,
    "start_time": "2022-03-27T10:34:12.083Z"
   },
   {
    "duration": 3,
    "start_time": "2022-03-27T10:34:12.971Z"
   },
   {
    "duration": 4,
    "start_time": "2022-03-27T10:34:13.966Z"
   },
   {
    "duration": 4,
    "start_time": "2022-03-27T10:34:15.642Z"
   },
   {
    "duration": 4,
    "start_time": "2022-03-27T10:34:16.400Z"
   },
   {
    "duration": 4,
    "start_time": "2022-03-27T10:34:17.082Z"
   },
   {
    "duration": 6,
    "start_time": "2022-03-27T10:42:27.137Z"
   },
   {
    "duration": 6,
    "start_time": "2022-03-27T10:43:20.975Z"
   },
   {
    "duration": 20,
    "start_time": "2022-03-27T10:43:47.347Z"
   },
   {
    "duration": 539,
    "start_time": "2022-03-27T10:54:29.421Z"
   },
   {
    "duration": 95,
    "start_time": "2022-03-27T11:01:47.406Z"
   },
   {
    "duration": 84,
    "start_time": "2022-03-27T11:03:27.519Z"
   },
   {
    "duration": 272,
    "start_time": "2022-03-27T11:09:19.066Z"
   },
   {
    "duration": 117,
    "start_time": "2022-03-27T11:10:41.606Z"
   },
   {
    "duration": 13,
    "start_time": "2022-03-27T11:17:49.332Z"
   },
   {
    "duration": 10,
    "start_time": "2022-03-27T11:17:56.019Z"
   },
   {
    "duration": 2234,
    "start_time": "2022-03-27T11:19:29.959Z"
   },
   {
    "duration": 7,
    "start_time": "2022-03-27T11:19:45.904Z"
   },
   {
    "duration": 18,
    "start_time": "2022-03-27T11:19:51.739Z"
   },
   {
    "duration": 115,
    "start_time": "2022-03-27T11:22:02.746Z"
   },
   {
    "duration": 243,
    "start_time": "2022-03-27T11:22:19.382Z"
   },
   {
    "duration": 254,
    "start_time": "2022-03-27T11:27:14.824Z"
   },
   {
    "duration": 3,
    "start_time": "2022-03-27T11:27:26.540Z"
   },
   {
    "duration": 38,
    "start_time": "2022-03-27T11:27:26.545Z"
   },
   {
    "duration": 14,
    "start_time": "2022-03-27T11:27:26.585Z"
   },
   {
    "duration": 14,
    "start_time": "2022-03-27T11:27:26.600Z"
   },
   {
    "duration": 3,
    "start_time": "2022-03-27T11:27:26.616Z"
   },
   {
    "duration": 7,
    "start_time": "2022-03-27T11:27:26.620Z"
   },
   {
    "duration": 47,
    "start_time": "2022-03-27T11:27:26.629Z"
   },
   {
    "duration": 10,
    "start_time": "2022-03-27T11:27:26.678Z"
   },
   {
    "duration": 14,
    "start_time": "2022-03-27T11:27:26.690Z"
   },
   {
    "duration": 8,
    "start_time": "2022-03-27T11:27:26.705Z"
   },
   {
    "duration": 4,
    "start_time": "2022-03-27T11:27:26.716Z"
   },
   {
    "duration": 42,
    "start_time": "2022-03-27T11:27:26.721Z"
   },
   {
    "duration": 8,
    "start_time": "2022-03-27T11:27:26.765Z"
   },
   {
    "duration": 7,
    "start_time": "2022-03-27T11:27:26.774Z"
   },
   {
    "duration": 24,
    "start_time": "2022-03-27T11:27:26.783Z"
   },
   {
    "duration": 4,
    "start_time": "2022-03-27T11:27:26.808Z"
   },
   {
    "duration": 6,
    "start_time": "2022-03-27T11:27:26.814Z"
   },
   {
    "duration": 6,
    "start_time": "2022-03-27T11:27:26.822Z"
   },
   {
    "duration": 8,
    "start_time": "2022-03-27T11:27:26.829Z"
   },
   {
    "duration": 254,
    "start_time": "2022-03-27T11:27:26.839Z"
   },
   {
    "duration": 20,
    "start_time": "2022-03-27T11:27:27.095Z"
   },
   {
    "duration": 122,
    "start_time": "2022-03-27T11:27:27.116Z"
   },
   {
    "duration": 148,
    "start_time": "2022-03-27T11:27:27.239Z"
   },
   {
    "duration": 8,
    "start_time": "2022-03-27T11:27:27.388Z"
   },
   {
    "duration": 9,
    "start_time": "2022-03-27T11:27:27.398Z"
   },
   {
    "duration": 21,
    "start_time": "2022-03-27T11:27:27.408Z"
   },
   {
    "duration": 7,
    "start_time": "2022-03-27T11:27:27.430Z"
   },
   {
    "duration": 25,
    "start_time": "2022-03-27T11:27:27.439Z"
   },
   {
    "duration": 595,
    "start_time": "2022-03-27T11:27:27.468Z"
   },
   {
    "duration": 3,
    "start_time": "2022-03-27T11:27:28.064Z"
   },
   {
    "duration": 23,
    "start_time": "2022-03-27T11:27:28.069Z"
   },
   {
    "duration": 4,
    "start_time": "2022-03-27T11:27:28.094Z"
   },
   {
    "duration": 7,
    "start_time": "2022-03-27T11:27:28.100Z"
   },
   {
    "duration": 4,
    "start_time": "2022-03-27T11:27:28.108Z"
   },
   {
    "duration": 6,
    "start_time": "2022-03-27T11:27:28.114Z"
   },
   {
    "duration": 5,
    "start_time": "2022-03-27T11:27:28.121Z"
   },
   {
    "duration": 37,
    "start_time": "2022-03-27T11:27:28.127Z"
   },
   {
    "duration": 3,
    "start_time": "2022-03-27T11:27:28.166Z"
   },
   {
    "duration": 12,
    "start_time": "2022-03-27T11:27:28.171Z"
   },
   {
    "duration": 29,
    "start_time": "2022-03-27T11:27:28.184Z"
   },
   {
    "duration": 545,
    "start_time": "2022-03-27T11:27:28.214Z"
   },
   {
    "duration": 14,
    "start_time": "2022-03-27T11:27:28.763Z"
   },
   {
    "duration": 10,
    "start_time": "2022-03-27T11:27:28.778Z"
   },
   {
    "duration": 8,
    "start_time": "2022-03-27T11:27:28.790Z"
   },
   {
    "duration": 18,
    "start_time": "2022-03-27T11:27:28.800Z"
   },
   {
    "duration": 114,
    "start_time": "2022-03-27T11:27:28.820Z"
   },
   {
    "duration": 241,
    "start_time": "2022-03-27T11:27:35.120Z"
   },
   {
    "duration": 6,
    "start_time": "2022-03-27T11:31:00.263Z"
   },
   {
    "duration": 116,
    "start_time": "2022-03-27T11:31:56.506Z"
   },
   {
    "duration": 115,
    "start_time": "2022-03-27T11:32:23.383Z"
   },
   {
    "duration": 9,
    "start_time": "2022-03-27T11:32:48.082Z"
   },
   {
    "duration": 186,
    "start_time": "2022-03-27T11:35:35.109Z"
   },
   {
    "duration": 135,
    "start_time": "2022-03-27T11:36:04.136Z"
   },
   {
    "duration": 9,
    "start_time": "2022-03-27T11:36:20.369Z"
   },
   {
    "duration": 139,
    "start_time": "2022-03-27T12:00:07.589Z"
   },
   {
    "duration": 710,
    "start_time": "2022-03-27T12:00:34.410Z"
   },
   {
    "duration": 8,
    "start_time": "2022-03-27T12:01:18.246Z"
   },
   {
    "duration": 1884,
    "start_time": "2022-03-28T06:09:45.429Z"
   },
   {
    "duration": 54,
    "start_time": "2022-03-28T06:09:47.316Z"
   },
   {
    "duration": 31,
    "start_time": "2022-03-28T06:09:49.057Z"
   },
   {
    "duration": 21,
    "start_time": "2022-03-28T06:09:51.187Z"
   },
   {
    "duration": 6,
    "start_time": "2022-03-28T06:09:52.887Z"
   },
   {
    "duration": 4,
    "start_time": "2022-03-28T06:09:53.233Z"
   },
   {
    "duration": 30,
    "start_time": "2022-03-28T06:09:53.597Z"
   },
   {
    "duration": 13,
    "start_time": "2022-03-28T06:09:54.384Z"
   },
   {
    "duration": 35,
    "start_time": "2022-03-28T06:09:55.075Z"
   },
   {
    "duration": 12,
    "start_time": "2022-03-28T06:09:55.414Z"
   },
   {
    "duration": 8,
    "start_time": "2022-03-28T06:09:55.835Z"
   },
   {
    "duration": 14,
    "start_time": "2022-03-28T06:09:56.822Z"
   },
   {
    "duration": 16,
    "start_time": "2022-03-28T06:09:57.397Z"
   },
   {
    "duration": 7,
    "start_time": "2022-03-28T06:09:58.217Z"
   },
   {
    "duration": 36,
    "start_time": "2022-03-28T06:09:59.652Z"
   },
   {
    "duration": 6,
    "start_time": "2022-03-28T06:10:01.272Z"
   },
   {
    "duration": 8,
    "start_time": "2022-03-28T06:10:03.450Z"
   },
   {
    "duration": 8,
    "start_time": "2022-03-28T06:10:05.373Z"
   },
   {
    "duration": 6,
    "start_time": "2022-03-28T06:10:08.747Z"
   },
   {
    "duration": 926,
    "start_time": "2022-03-28T06:10:16.503Z"
   },
   {
    "duration": 62,
    "start_time": "2022-03-28T06:10:18.563Z"
   },
   {
    "duration": 389,
    "start_time": "2022-03-28T06:10:23.236Z"
   },
   {
    "duration": 423,
    "start_time": "2022-03-28T06:10:26.624Z"
   },
   {
    "duration": 13,
    "start_time": "2022-03-28T06:10:29.924Z"
   },
   {
    "duration": 10,
    "start_time": "2022-03-28T06:10:31.715Z"
   },
   {
    "duration": 34,
    "start_time": "2022-03-28T06:10:32.407Z"
   },
   {
    "duration": 4,
    "start_time": "2022-03-28T06:10:34.043Z"
   },
   {
    "duration": 3,
    "start_time": "2022-03-28T06:10:34.774Z"
   },
   {
    "duration": 817,
    "start_time": "2022-03-28T06:10:35.445Z"
   },
   {
    "duration": 3,
    "start_time": "2022-03-28T06:10:38.658Z"
   },
   {
    "duration": 33,
    "start_time": "2022-03-28T06:10:39.910Z"
   },
   {
    "duration": 5,
    "start_time": "2022-03-28T06:10:41.490Z"
   },
   {
    "duration": 5,
    "start_time": "2022-03-28T06:10:42.119Z"
   },
   {
    "duration": 3,
    "start_time": "2022-03-28T06:10:44.480Z"
   },
   {
    "duration": 5,
    "start_time": "2022-03-28T06:10:45.657Z"
   },
   {
    "duration": 5,
    "start_time": "2022-03-28T06:10:47.328Z"
   },
   {
    "duration": 5,
    "start_time": "2022-03-28T06:10:47.860Z"
   },
   {
    "duration": 6,
    "start_time": "2022-03-28T06:10:49.922Z"
   },
   {
    "duration": 9,
    "start_time": "2022-03-28T06:10:53.283Z"
   },
   {
    "duration": 36,
    "start_time": "2022-03-28T06:10:53.835Z"
   },
   {
    "duration": 1519,
    "start_time": "2022-03-28T06:10:56.930Z"
   },
   {
    "duration": 33,
    "start_time": "2022-03-28T06:11:00.967Z"
   },
   {
    "duration": 26,
    "start_time": "2022-03-28T06:11:01.540Z"
   },
   {
    "duration": 14,
    "start_time": "2022-03-28T06:11:02.390Z"
   },
   {
    "duration": 54,
    "start_time": "2022-03-28T06:11:03.477Z"
   },
   {
    "duration": 269,
    "start_time": "2022-03-28T06:11:07.184Z"
   },
   {
    "duration": 553,
    "start_time": "2022-03-28T06:11:10.942Z"
   },
   {
    "duration": 8,
    "start_time": "2022-03-28T06:11:19.928Z"
   },
   {
    "duration": 220,
    "start_time": "2022-03-28T06:11:21.545Z"
   },
   {
    "duration": 283,
    "start_time": "2022-03-28T06:11:23.387Z"
   },
   {
    "duration": 15,
    "start_time": "2022-03-28T06:11:24.055Z"
   },
   {
    "duration": 436,
    "start_time": "2022-03-28T06:11:25.340Z"
   },
   {
    "duration": 251,
    "start_time": "2022-03-28T06:11:25.942Z"
   },
   {
    "duration": 14,
    "start_time": "2022-03-28T06:11:26.779Z"
   },
   {
    "duration": 1313,
    "start_time": "2022-03-28T06:11:31.717Z"
   },
   {
    "duration": 18,
    "start_time": "2022-03-28T06:11:35.246Z"
   },
   {
    "duration": 11,
    "start_time": "2022-03-28T06:13:08.273Z"
   },
   {
    "duration": 375,
    "start_time": "2022-03-28T06:14:44.101Z"
   },
   {
    "duration": 3957,
    "start_time": "2022-03-28T06:16:53.756Z"
   },
   {
    "duration": 1797,
    "start_time": "2022-03-28T17:35:00.879Z"
   },
   {
    "duration": 52,
    "start_time": "2022-03-28T17:35:04.407Z"
   },
   {
    "duration": 31,
    "start_time": "2022-03-28T17:35:05.615Z"
   },
   {
    "duration": 22,
    "start_time": "2022-03-28T17:35:07.350Z"
   },
   {
    "duration": 8,
    "start_time": "2022-03-28T17:35:12.893Z"
   },
   {
    "duration": 5,
    "start_time": "2022-03-28T17:35:13.408Z"
   },
   {
    "duration": 29,
    "start_time": "2022-03-28T17:35:14.250Z"
   },
   {
    "duration": 14,
    "start_time": "2022-03-28T17:35:15.515Z"
   },
   {
    "duration": 27,
    "start_time": "2022-03-28T17:35:16.403Z"
   },
   {
    "duration": 11,
    "start_time": "2022-03-28T17:35:17.434Z"
   },
   {
    "duration": 7,
    "start_time": "2022-03-28T17:35:18.235Z"
   },
   {
    "duration": 14,
    "start_time": "2022-03-28T17:35:19.857Z"
   },
   {
    "duration": 14,
    "start_time": "2022-03-28T17:35:20.870Z"
   },
   {
    "duration": 7,
    "start_time": "2022-03-28T17:35:21.853Z"
   },
   {
    "duration": 34,
    "start_time": "2022-03-28T17:35:22.602Z"
   },
   {
    "duration": 9,
    "start_time": "2022-03-28T17:35:24.777Z"
   },
   {
    "duration": 8,
    "start_time": "2022-03-28T17:35:25.747Z"
   },
   {
    "duration": 8,
    "start_time": "2022-03-28T17:35:26.921Z"
   },
   {
    "duration": 5,
    "start_time": "2022-03-28T17:35:30.451Z"
   },
   {
    "duration": 412,
    "start_time": "2022-03-28T17:35:31.507Z"
   },
   {
    "duration": 35,
    "start_time": "2022-03-28T17:35:32.945Z"
   },
   {
    "duration": 195,
    "start_time": "2022-03-28T17:35:36.707Z"
   },
   {
    "duration": 229,
    "start_time": "2022-03-28T17:35:47.117Z"
   },
   {
    "duration": 13,
    "start_time": "2022-03-28T17:35:55.704Z"
   },
   {
    "duration": 10,
    "start_time": "2022-03-28T17:35:57.318Z"
   },
   {
    "duration": 34,
    "start_time": "2022-03-28T17:35:57.852Z"
   },
   {
    "duration": 6,
    "start_time": "2022-03-28T17:35:59.171Z"
   },
   {
    "duration": 4,
    "start_time": "2022-03-28T17:35:59.713Z"
   },
   {
    "duration": 820,
    "start_time": "2022-03-28T17:36:00.172Z"
   },
   {
    "duration": 4,
    "start_time": "2022-03-28T17:36:02.948Z"
   },
   {
    "duration": 33,
    "start_time": "2022-03-28T17:36:04.149Z"
   },
   {
    "duration": 5,
    "start_time": "2022-03-28T17:36:05.229Z"
   },
   {
    "duration": 6,
    "start_time": "2022-03-28T17:36:06.081Z"
   },
   {
    "duration": 4,
    "start_time": "2022-03-28T17:36:06.706Z"
   },
   {
    "duration": 5,
    "start_time": "2022-03-28T17:36:07.445Z"
   },
   {
    "duration": 6,
    "start_time": "2022-03-28T17:36:08.905Z"
   },
   {
    "duration": 5,
    "start_time": "2022-03-28T17:36:09.554Z"
   },
   {
    "duration": 6,
    "start_time": "2022-03-28T17:36:10.985Z"
   },
   {
    "duration": 8,
    "start_time": "2022-03-28T17:36:13.229Z"
   },
   {
    "duration": 34,
    "start_time": "2022-03-28T17:36:13.653Z"
   },
   {
    "duration": 848,
    "start_time": "2022-03-28T17:36:17.490Z"
   },
   {
    "duration": 21,
    "start_time": "2022-03-28T17:36:20.701Z"
   },
   {
    "duration": 15,
    "start_time": "2022-03-28T17:36:21.529Z"
   },
   {
    "duration": 10,
    "start_time": "2022-03-28T17:36:22.551Z"
   },
   {
    "duration": 30,
    "start_time": "2022-03-28T17:36:23.382Z"
   },
   {
    "duration": 147,
    "start_time": "2022-03-28T17:36:26.286Z"
   },
   {
    "duration": 549,
    "start_time": "2022-03-28T17:36:28.602Z"
   },
   {
    "duration": 9,
    "start_time": "2022-03-28T17:36:33.631Z"
   },
   {
    "duration": 212,
    "start_time": "2022-03-28T17:36:34.947Z"
   },
   {
    "duration": 203,
    "start_time": "2022-03-28T17:36:35.690Z"
   },
   {
    "duration": 14,
    "start_time": "2022-03-28T17:36:36.609Z"
   },
   {
    "duration": 237,
    "start_time": "2022-03-28T17:36:38.692Z"
   },
   {
    "duration": 239,
    "start_time": "2022-03-28T17:36:39.606Z"
   },
   {
    "duration": 13,
    "start_time": "2022-03-28T17:36:40.457Z"
   },
   {
    "duration": 1306,
    "start_time": "2022-03-28T17:36:45.565Z"
   },
   {
    "duration": 11,
    "start_time": "2022-03-28T17:36:47.226Z"
   },
   {
    "duration": 370,
    "start_time": "2022-03-28T17:36:48.607Z"
   },
   {
    "duration": 10,
    "start_time": "2022-03-28T17:36:50.267Z"
   },
   {
    "duration": 3556,
    "start_time": "2022-03-28T17:36:51.790Z"
   },
   {
    "duration": 16,
    "start_time": "2022-03-28T18:16:21.925Z"
   },
   {
    "duration": 16,
    "start_time": "2022-03-28T18:19:37.480Z"
   },
   {
    "duration": 16,
    "start_time": "2022-03-28T18:24:26.389Z"
   },
   {
    "duration": 15,
    "start_time": "2022-03-28T18:25:59.466Z"
   },
   {
    "duration": 16,
    "start_time": "2022-03-28T18:35:09.685Z"
   },
   {
    "duration": 1170,
    "start_time": "2022-03-28T18:35:48.508Z"
   },
   {
    "duration": 660,
    "start_time": "2022-03-28T18:37:43.232Z"
   },
   {
    "duration": 48,
    "start_time": "2022-03-28T18:59:03.512Z"
   },
   {
    "duration": 1380,
    "start_time": "2022-03-28T18:59:10.277Z"
   },
   {
    "duration": 37,
    "start_time": "2022-03-28T18:59:11.659Z"
   },
   {
    "duration": 30,
    "start_time": "2022-03-28T18:59:11.698Z"
   },
   {
    "duration": 15,
    "start_time": "2022-03-28T18:59:11.731Z"
   },
   {
    "duration": 4,
    "start_time": "2022-03-28T18:59:11.747Z"
   },
   {
    "duration": 3,
    "start_time": "2022-03-28T18:59:11.753Z"
   },
   {
    "duration": 22,
    "start_time": "2022-03-28T18:59:11.758Z"
   },
   {
    "duration": 16,
    "start_time": "2022-03-28T18:59:11.810Z"
   },
   {
    "duration": 16,
    "start_time": "2022-03-28T18:59:11.828Z"
   },
   {
    "duration": 7,
    "start_time": "2022-03-28T18:59:11.847Z"
   },
   {
    "duration": 5,
    "start_time": "2022-03-28T18:59:11.856Z"
   },
   {
    "duration": 48,
    "start_time": "2022-03-28T18:59:11.862Z"
   },
   {
    "duration": 12,
    "start_time": "2022-03-28T18:59:11.913Z"
   },
   {
    "duration": 5,
    "start_time": "2022-03-28T18:59:11.927Z"
   },
   {
    "duration": 24,
    "start_time": "2022-03-28T18:59:11.934Z"
   },
   {
    "duration": 5,
    "start_time": "2022-03-28T18:59:11.960Z"
   },
   {
    "duration": 8,
    "start_time": "2022-03-28T18:59:11.967Z"
   },
   {
    "duration": 41,
    "start_time": "2022-03-28T18:59:11.977Z"
   },
   {
    "duration": 5,
    "start_time": "2022-03-28T18:59:12.021Z"
   },
   {
    "duration": 247,
    "start_time": "2022-03-28T18:59:12.027Z"
   },
   {
    "duration": 23,
    "start_time": "2022-03-28T18:59:12.275Z"
   },
   {
    "duration": 163,
    "start_time": "2022-03-28T18:59:12.300Z"
   },
   {
    "duration": 173,
    "start_time": "2022-03-28T18:59:12.464Z"
   },
   {
    "duration": 10,
    "start_time": "2022-03-28T18:59:12.639Z"
   },
   {
    "duration": 10,
    "start_time": "2022-03-28T18:59:12.651Z"
   },
   {
    "duration": 49,
    "start_time": "2022-03-28T18:59:12.662Z"
   },
   {
    "duration": 10,
    "start_time": "2022-03-28T18:59:12.713Z"
   },
   {
    "duration": 3,
    "start_time": "2022-03-28T18:59:12.728Z"
   },
   {
    "duration": 569,
    "start_time": "2022-03-28T18:59:12.733Z"
   },
   {
    "duration": 5,
    "start_time": "2022-03-28T18:59:13.309Z"
   },
   {
    "duration": 26,
    "start_time": "2022-03-28T18:59:13.315Z"
   },
   {
    "duration": 5,
    "start_time": "2022-03-28T18:59:13.343Z"
   },
   {
    "duration": 6,
    "start_time": "2022-03-28T18:59:13.349Z"
   },
   {
    "duration": 4,
    "start_time": "2022-03-28T18:59:13.356Z"
   },
   {
    "duration": 7,
    "start_time": "2022-03-28T18:59:13.362Z"
   },
   {
    "duration": 40,
    "start_time": "2022-03-28T18:59:13.370Z"
   },
   {
    "duration": 6,
    "start_time": "2022-03-28T18:59:13.413Z"
   },
   {
    "duration": 9,
    "start_time": "2022-03-28T18:59:13.422Z"
   },
   {
    "duration": 10,
    "start_time": "2022-03-28T18:59:13.432Z"
   },
   {
    "duration": 33,
    "start_time": "2022-03-28T18:59:13.444Z"
   },
   {
    "duration": 678,
    "start_time": "2022-03-28T18:59:13.478Z"
   },
   {
    "duration": 15,
    "start_time": "2022-03-28T18:59:14.157Z"
   },
   {
    "duration": 11,
    "start_time": "2022-03-28T18:59:14.174Z"
   },
   {
    "duration": 26,
    "start_time": "2022-03-28T18:59:14.187Z"
   },
   {
    "duration": 25,
    "start_time": "2022-03-28T18:59:14.216Z"
   },
   {
    "duration": 123,
    "start_time": "2022-03-28T18:59:14.242Z"
   },
   {
    "duration": 418,
    "start_time": "2022-03-28T18:59:14.366Z"
   },
   {
    "duration": 6,
    "start_time": "2022-03-28T18:59:14.786Z"
   },
   {
    "duration": 164,
    "start_time": "2022-03-28T18:59:14.793Z"
   },
   {
    "duration": 150,
    "start_time": "2022-03-28T18:59:14.959Z"
   },
   {
    "duration": 19,
    "start_time": "2022-03-28T18:59:15.111Z"
   },
   {
    "duration": 178,
    "start_time": "2022-03-28T18:59:15.131Z"
   },
   {
    "duration": 182,
    "start_time": "2022-03-28T18:59:15.313Z"
   },
   {
    "duration": 17,
    "start_time": "2022-03-28T18:59:15.497Z"
   },
   {
    "duration": 1006,
    "start_time": "2022-03-28T18:59:15.517Z"
   },
   {
    "duration": 11,
    "start_time": "2022-03-28T18:59:16.525Z"
   },
   {
    "duration": 244,
    "start_time": "2022-03-28T18:59:16.537Z"
   },
   {
    "duration": 8,
    "start_time": "2022-03-28T18:59:16.783Z"
   },
   {
    "duration": 2352,
    "start_time": "2022-03-28T18:59:16.793Z"
   },
   {
    "duration": 12,
    "start_time": "2022-03-28T18:59:19.147Z"
   },
   {
    "duration": 11,
    "start_time": "2022-03-28T18:59:19.160Z"
   },
   {
    "duration": 14,
    "start_time": "2022-03-28T18:59:19.172Z"
   },
   {
    "duration": 30,
    "start_time": "2022-03-28T18:59:19.187Z"
   },
   {
    "duration": 14,
    "start_time": "2022-03-28T18:59:19.219Z"
   },
   {
    "duration": 951,
    "start_time": "2022-03-28T18:59:19.234Z"
   },
   {
    "duration": 12,
    "start_time": "2022-03-28T18:59:25.388Z"
   },
   {
    "duration": 11,
    "start_time": "2022-03-28T19:01:07.916Z"
   },
   {
    "duration": 10,
    "start_time": "2022-03-28T19:02:15.932Z"
   },
   {
    "duration": 11,
    "start_time": "2022-03-28T19:03:59.296Z"
   },
   {
    "duration": 11,
    "start_time": "2022-03-28T19:06:13.524Z"
   },
   {
    "duration": 369,
    "start_time": "2022-03-28T19:06:23.584Z"
   },
   {
    "duration": 488,
    "start_time": "2022-03-28T19:06:34.447Z"
   },
   {
    "duration": 3,
    "start_time": "2022-03-28T19:13:05.699Z"
   },
   {
    "duration": 5,
    "start_time": "2022-03-28T19:13:15.373Z"
   },
   {
    "duration": 5,
    "start_time": "2022-03-28T19:13:26.807Z"
   },
   {
    "duration": 5,
    "start_time": "2022-03-28T19:14:23.959Z"
   },
   {
    "duration": 12,
    "start_time": "2022-03-28T19:24:00.350Z"
   },
   {
    "duration": 2,
    "start_time": "2022-03-28T19:24:24.639Z"
   },
   {
    "duration": 37,
    "start_time": "2022-03-28T19:24:24.643Z"
   },
   {
    "duration": 16,
    "start_time": "2022-03-28T19:24:24.682Z"
   },
   {
    "duration": 13,
    "start_time": "2022-03-28T19:24:24.700Z"
   },
   {
    "duration": 4,
    "start_time": "2022-03-28T19:24:24.715Z"
   },
   {
    "duration": 4,
    "start_time": "2022-03-28T19:24:24.720Z"
   },
   {
    "duration": 21,
    "start_time": "2022-03-28T19:24:24.725Z"
   },
   {
    "duration": 8,
    "start_time": "2022-03-28T19:24:24.748Z"
   },
   {
    "duration": 16,
    "start_time": "2022-03-28T19:24:24.758Z"
   },
   {
    "duration": 38,
    "start_time": "2022-03-28T19:24:24.775Z"
   },
   {
    "duration": 5,
    "start_time": "2022-03-28T19:24:24.815Z"
   },
   {
    "duration": 13,
    "start_time": "2022-03-28T19:24:24.821Z"
   },
   {
    "duration": 9,
    "start_time": "2022-03-28T19:24:24.835Z"
   },
   {
    "duration": 5,
    "start_time": "2022-03-28T19:24:24.846Z"
   },
   {
    "duration": 66,
    "start_time": "2022-03-28T19:24:24.853Z"
   },
   {
    "duration": 5,
    "start_time": "2022-03-28T19:24:24.921Z"
   },
   {
    "duration": 7,
    "start_time": "2022-03-28T19:24:24.928Z"
   },
   {
    "duration": 7,
    "start_time": "2022-03-28T19:24:24.937Z"
   },
   {
    "duration": 4,
    "start_time": "2022-03-28T19:24:24.946Z"
   },
   {
    "duration": 263,
    "start_time": "2022-03-28T19:24:24.952Z"
   },
   {
    "duration": 24,
    "start_time": "2022-03-28T19:24:25.217Z"
   },
   {
    "duration": 130,
    "start_time": "2022-03-28T19:24:25.243Z"
   },
   {
    "duration": 158,
    "start_time": "2022-03-28T19:24:25.375Z"
   },
   {
    "duration": 9,
    "start_time": "2022-03-28T19:24:25.537Z"
   },
   {
    "duration": 8,
    "start_time": "2022-03-28T19:24:25.547Z"
   },
   {
    "duration": 21,
    "start_time": "2022-03-28T19:24:25.556Z"
   },
   {
    "duration": 4,
    "start_time": "2022-03-28T19:24:25.578Z"
   },
   {
    "duration": 3,
    "start_time": "2022-03-28T19:24:25.608Z"
   },
   {
    "duration": 615,
    "start_time": "2022-03-28T19:24:25.612Z"
   },
   {
    "duration": 3,
    "start_time": "2022-03-28T19:24:26.229Z"
   },
   {
    "duration": 21,
    "start_time": "2022-03-28T19:24:26.233Z"
   },
   {
    "duration": 3,
    "start_time": "2022-03-28T19:24:26.256Z"
   },
   {
    "duration": 4,
    "start_time": "2022-03-28T19:24:26.261Z"
   },
   {
    "duration": 3,
    "start_time": "2022-03-28T19:24:26.267Z"
   },
   {
    "duration": 5,
    "start_time": "2022-03-28T19:24:26.272Z"
   },
   {
    "duration": 30,
    "start_time": "2022-03-28T19:24:26.279Z"
   },
   {
    "duration": 3,
    "start_time": "2022-03-28T19:24:26.311Z"
   },
   {
    "duration": 5,
    "start_time": "2022-03-28T19:24:26.316Z"
   },
   {
    "duration": 8,
    "start_time": "2022-03-28T19:24:26.322Z"
   },
   {
    "duration": 22,
    "start_time": "2022-03-28T19:24:26.331Z"
   },
   {
    "duration": 579,
    "start_time": "2022-03-28T19:24:26.355Z"
   },
   {
    "duration": 12,
    "start_time": "2022-03-28T19:24:26.935Z"
   },
   {
    "duration": 10,
    "start_time": "2022-03-28T19:24:26.949Z"
   },
   {
    "duration": 8,
    "start_time": "2022-03-28T19:24:26.961Z"
   },
   {
    "duration": 39,
    "start_time": "2022-03-28T19:24:26.970Z"
   },
   {
    "duration": 99,
    "start_time": "2022-03-28T19:24:27.011Z"
   },
   {
    "duration": 276,
    "start_time": "2022-03-28T19:24:27.112Z"
   },
   {
    "duration": 5,
    "start_time": "2022-03-28T19:24:27.390Z"
   },
   {
    "duration": 133,
    "start_time": "2022-03-28T19:24:27.397Z"
   },
   {
    "duration": 138,
    "start_time": "2022-03-28T19:24:27.531Z"
   },
   {
    "duration": 10,
    "start_time": "2022-03-28T19:24:27.670Z"
   },
   {
    "duration": 160,
    "start_time": "2022-03-28T19:24:27.681Z"
   },
   {
    "duration": 160,
    "start_time": "2022-03-28T19:24:27.843Z"
   },
   {
    "duration": 11,
    "start_time": "2022-03-28T19:24:28.005Z"
   },
   {
    "duration": 836,
    "start_time": "2022-03-28T19:24:28.018Z"
   },
   {
    "duration": 7,
    "start_time": "2022-03-28T19:24:28.856Z"
   },
   {
    "duration": 236,
    "start_time": "2022-03-28T19:24:28.864Z"
   },
   {
    "duration": 13,
    "start_time": "2022-03-28T19:24:29.101Z"
   },
   {
    "duration": 2216,
    "start_time": "2022-03-28T19:24:29.115Z"
   },
   {
    "duration": 10,
    "start_time": "2022-03-28T19:24:31.333Z"
   },
   {
    "duration": 13,
    "start_time": "2022-03-28T19:24:31.345Z"
   },
   {
    "duration": 11,
    "start_time": "2022-03-28T19:24:31.359Z"
   },
   {
    "duration": 10,
    "start_time": "2022-03-28T19:24:31.371Z"
   },
   {
    "duration": 35,
    "start_time": "2022-03-28T19:24:31.383Z"
   },
   {
    "duration": 685,
    "start_time": "2022-03-28T19:24:31.420Z"
   },
   {
    "duration": 11,
    "start_time": "2022-03-28T19:24:32.108Z"
   },
   {
    "duration": 10,
    "start_time": "2022-03-28T19:24:32.121Z"
   },
   {
    "duration": 10,
    "start_time": "2022-03-28T19:24:32.132Z"
   },
   {
    "duration": 10,
    "start_time": "2022-03-28T19:24:32.147Z"
   },
   {
    "duration": 9,
    "start_time": "2022-03-28T19:24:32.159Z"
   },
   {
    "duration": 534,
    "start_time": "2022-03-28T19:24:32.170Z"
   },
   {
    "duration": 17,
    "start_time": "2022-03-28T19:24:37.210Z"
   },
   {
    "duration": 12,
    "start_time": "2022-03-28T19:26:14.189Z"
   },
   {
    "duration": 11,
    "start_time": "2022-03-28T19:27:26.509Z"
   },
   {
    "duration": 12,
    "start_time": "2022-03-28T19:28:29.002Z"
   },
   {
    "duration": 15,
    "start_time": "2022-03-28T19:30:35.523Z"
   },
   {
    "duration": 433,
    "start_time": "2022-03-28T19:31:17.819Z"
   },
   {
    "duration": 3,
    "start_time": "2022-03-28T19:42:32.111Z"
   },
   {
    "duration": 8,
    "start_time": "2022-03-28T19:43:16.917Z"
   },
   {
    "duration": 9,
    "start_time": "2022-03-28T19:43:38.332Z"
   },
   {
    "duration": 13,
    "start_time": "2022-03-28T19:43:45.682Z"
   },
   {
    "duration": 7,
    "start_time": "2022-03-28T19:44:01.322Z"
   },
   {
    "duration": 6,
    "start_time": "2022-03-28T19:47:02.161Z"
   },
   {
    "duration": 8,
    "start_time": "2022-03-28T19:49:50.641Z"
   },
   {
    "duration": 6,
    "start_time": "2022-03-28T19:50:38.743Z"
   },
   {
    "duration": 1731,
    "start_time": "2022-03-29T05:02:33.266Z"
   },
   {
    "duration": 52,
    "start_time": "2022-03-29T05:02:35.000Z"
   },
   {
    "duration": 29,
    "start_time": "2022-03-29T05:02:35.054Z"
   },
   {
    "duration": 20,
    "start_time": "2022-03-29T05:02:35.086Z"
   },
   {
    "duration": 36,
    "start_time": "2022-03-29T05:02:35.108Z"
   },
   {
    "duration": 5,
    "start_time": "2022-03-29T05:02:35.146Z"
   },
   {
    "duration": 31,
    "start_time": "2022-03-29T05:02:35.153Z"
   },
   {
    "duration": 12,
    "start_time": "2022-03-29T05:02:35.186Z"
   },
   {
    "duration": 60,
    "start_time": "2022-03-29T05:02:35.201Z"
   },
   {
    "duration": 11,
    "start_time": "2022-03-29T05:02:35.264Z"
   },
   {
    "duration": 9,
    "start_time": "2022-03-29T05:02:35.277Z"
   },
   {
    "duration": 14,
    "start_time": "2022-03-29T05:02:35.289Z"
   },
   {
    "duration": 47,
    "start_time": "2022-03-29T05:02:35.305Z"
   },
   {
    "duration": 8,
    "start_time": "2022-03-29T05:02:35.354Z"
   },
   {
    "duration": 35,
    "start_time": "2022-03-29T05:02:35.365Z"
   },
   {
    "duration": 45,
    "start_time": "2022-03-29T05:02:35.402Z"
   },
   {
    "duration": 9,
    "start_time": "2022-03-29T05:02:35.449Z"
   },
   {
    "duration": 11,
    "start_time": "2022-03-29T05:02:35.460Z"
   },
   {
    "duration": 6,
    "start_time": "2022-03-29T05:02:35.473Z"
   },
   {
    "duration": 424,
    "start_time": "2022-03-29T05:02:35.482Z"
   },
   {
    "duration": 42,
    "start_time": "2022-03-29T05:02:35.908Z"
   },
   {
    "duration": 207,
    "start_time": "2022-03-29T05:02:35.952Z"
   },
   {
    "duration": 243,
    "start_time": "2022-03-29T05:02:36.161Z"
   },
   {
    "duration": 14,
    "start_time": "2022-03-29T05:02:36.407Z"
   },
   {
    "duration": 28,
    "start_time": "2022-03-29T05:02:36.424Z"
   },
   {
    "duration": 34,
    "start_time": "2022-03-29T05:02:36.454Z"
   },
   {
    "duration": 5,
    "start_time": "2022-03-29T05:02:36.491Z"
   },
   {
    "duration": 4,
    "start_time": "2022-03-29T05:02:36.542Z"
   },
   {
    "duration": 779,
    "start_time": "2022-03-29T05:02:36.548Z"
   },
   {
    "duration": 13,
    "start_time": "2022-03-29T05:02:37.329Z"
   },
   {
    "duration": 45,
    "start_time": "2022-03-29T05:02:37.345Z"
   },
   {
    "duration": 7,
    "start_time": "2022-03-29T05:02:37.392Z"
   },
   {
    "duration": 10,
    "start_time": "2022-03-29T05:02:37.401Z"
   },
   {
    "duration": 30,
    "start_time": "2022-03-29T05:02:37.413Z"
   },
   {
    "duration": 7,
    "start_time": "2022-03-29T05:02:37.445Z"
   },
   {
    "duration": 6,
    "start_time": "2022-03-29T05:02:37.454Z"
   },
   {
    "duration": 8,
    "start_time": "2022-03-29T05:02:37.462Z"
   },
   {
    "duration": 7,
    "start_time": "2022-03-29T05:02:37.472Z"
   },
   {
    "duration": 11,
    "start_time": "2022-03-29T05:02:37.481Z"
   },
   {
    "duration": 77,
    "start_time": "2022-03-29T05:02:37.494Z"
   },
   {
    "duration": 841,
    "start_time": "2022-03-29T05:02:37.574Z"
   },
   {
    "duration": 35,
    "start_time": "2022-03-29T05:02:38.418Z"
   },
   {
    "duration": 15,
    "start_time": "2022-03-29T05:02:38.455Z"
   },
   {
    "duration": 11,
    "start_time": "2022-03-29T05:02:38.472Z"
   },
   {
    "duration": 30,
    "start_time": "2022-03-29T05:02:38.485Z"
   },
   {
    "duration": 164,
    "start_time": "2022-03-29T05:02:38.543Z"
   },
   {
    "duration": 541,
    "start_time": "2022-03-29T05:02:38.710Z"
   },
   {
    "duration": 8,
    "start_time": "2022-03-29T05:02:39.253Z"
   },
   {
    "duration": 210,
    "start_time": "2022-03-29T05:02:39.263Z"
   },
   {
    "duration": 211,
    "start_time": "2022-03-29T05:02:39.476Z"
   },
   {
    "duration": 13,
    "start_time": "2022-03-29T05:02:39.689Z"
   },
   {
    "duration": 239,
    "start_time": "2022-03-29T05:02:39.704Z"
   },
   {
    "duration": 233,
    "start_time": "2022-03-29T05:02:39.945Z"
   },
   {
    "duration": 13,
    "start_time": "2022-03-29T05:02:40.180Z"
   },
   {
    "duration": 1222,
    "start_time": "2022-03-29T05:02:40.195Z"
   },
   {
    "duration": 10,
    "start_time": "2022-03-29T05:02:41.419Z"
   },
   {
    "duration": 378,
    "start_time": "2022-03-29T05:02:41.431Z"
   },
   {
    "duration": 11,
    "start_time": "2022-03-29T05:02:41.811Z"
   },
   {
    "duration": 3289,
    "start_time": "2022-03-29T05:02:41.842Z"
   },
   {
    "duration": 16,
    "start_time": "2022-03-29T05:02:45.133Z"
   },
   {
    "duration": 16,
    "start_time": "2022-03-29T05:02:45.151Z"
   },
   {
    "duration": 14,
    "start_time": "2022-03-29T05:02:45.169Z"
   },
   {
    "duration": 16,
    "start_time": "2022-03-29T05:02:45.185Z"
   },
   {
    "duration": 47,
    "start_time": "2022-03-29T05:02:45.203Z"
   },
   {
    "duration": 15,
    "start_time": "2022-03-29T05:02:48.173Z"
   },
   {
    "duration": 1096,
    "start_time": "2022-03-29T05:02:49.165Z"
   },
   {
    "duration": 17,
    "start_time": "2022-03-29T05:02:56.442Z"
   },
   {
    "duration": 16,
    "start_time": "2022-03-29T05:02:59.148Z"
   },
   {
    "duration": 17,
    "start_time": "2022-03-29T05:03:00.482Z"
   },
   {
    "duration": 16,
    "start_time": "2022-03-29T05:03:00.981Z"
   },
   {
    "duration": 20,
    "start_time": "2022-03-29T05:03:01.572Z"
   },
   {
    "duration": 1247,
    "start_time": "2022-03-29T05:03:21.822Z"
   },
   {
    "duration": 22,
    "start_time": "2022-03-29T05:03:25.865Z"
   },
   {
    "duration": 22,
    "start_time": "2022-03-29T05:03:27.401Z"
   },
   {
    "duration": 23,
    "start_time": "2022-03-29T05:03:28.830Z"
   },
   {
    "duration": 22,
    "start_time": "2022-03-29T05:03:31.012Z"
   },
   {
    "duration": 21,
    "start_time": "2022-03-29T05:03:33.810Z"
   },
   {
    "duration": 896,
    "start_time": "2022-03-29T05:03:52.366Z"
   },
   {
    "duration": 3,
    "start_time": "2022-03-29T05:03:58.370Z"
   },
   {
    "duration": 10,
    "start_time": "2022-03-29T05:03:58.800Z"
   },
   {
    "duration": 9,
    "start_time": "2022-03-29T05:03:59.947Z"
   },
   {
    "duration": 11,
    "start_time": "2022-03-29T05:04:02.704Z"
   },
   {
    "duration": 8,
    "start_time": "2022-03-29T05:04:04.329Z"
   },
   {
    "duration": 1229,
    "start_time": "2022-04-09T16:01:26.630Z"
   },
   {
    "duration": 39,
    "start_time": "2022-04-09T16:01:29.829Z"
   },
   {
    "duration": 20,
    "start_time": "2022-04-09T16:01:31.948Z"
   },
   {
    "duration": 16,
    "start_time": "2022-04-09T16:01:37.002Z"
   },
   {
    "duration": 5,
    "start_time": "2022-04-09T16:01:45.928Z"
   },
   {
    "duration": 3,
    "start_time": "2022-04-09T16:01:47.670Z"
   },
   {
    "duration": 18,
    "start_time": "2022-04-09T16:01:51.451Z"
   },
   {
    "duration": 10,
    "start_time": "2022-04-09T16:01:55.021Z"
   },
   {
    "duration": 16,
    "start_time": "2022-04-09T16:01:59.483Z"
   },
   {
    "duration": 8,
    "start_time": "2022-04-09T16:02:02.322Z"
   },
   {
    "duration": 8,
    "start_time": "2022-04-09T16:02:03.785Z"
   },
   {
    "duration": 3,
    "start_time": "2022-04-09T16:04:04.689Z"
   },
   {
    "duration": 4,
    "start_time": "2022-04-09T16:04:56.462Z"
   },
   {
    "duration": 20,
    "start_time": "2022-04-09T16:05:00.412Z"
   },
   {
    "duration": 5,
    "start_time": "2022-04-09T16:05:03.550Z"
   },
   {
    "duration": 5,
    "start_time": "2022-04-09T16:05:06.050Z"
   },
   {
    "duration": 4,
    "start_time": "2022-04-09T16:05:11.901Z"
   },
   {
    "duration": 4,
    "start_time": "2022-04-09T16:05:18.282Z"
   },
   {
    "duration": 221,
    "start_time": "2022-04-09T16:05:19.043Z"
   },
   {
    "duration": 21,
    "start_time": "2022-04-09T16:05:25.481Z"
   },
   {
    "duration": 118,
    "start_time": "2022-04-09T16:05:39.669Z"
   },
   {
    "duration": 126,
    "start_time": "2022-04-09T16:05:47.617Z"
   },
   {
    "duration": 7,
    "start_time": "2022-04-09T16:05:52.580Z"
   },
   {
    "duration": 8,
    "start_time": "2022-04-09T16:05:57.801Z"
   },
   {
    "duration": 21,
    "start_time": "2022-04-09T16:05:58.520Z"
   },
   {
    "duration": 3,
    "start_time": "2022-04-09T16:06:03.261Z"
   },
   {
    "duration": 2,
    "start_time": "2022-04-09T16:06:03.809Z"
   },
   {
    "duration": 451,
    "start_time": "2022-04-09T16:06:05.401Z"
   },
   {
    "duration": 3,
    "start_time": "2022-04-09T16:08:08.490Z"
   },
   {
    "duration": 3,
    "start_time": "2022-04-09T16:08:09.342Z"
   },
   {
    "duration": 679,
    "start_time": "2022-04-09T16:08:10.251Z"
   },
   {
    "duration": 3,
    "start_time": "2022-04-09T16:10:10.811Z"
   },
   {
    "duration": 3,
    "start_time": "2022-04-09T16:10:12.502Z"
   },
   {
    "duration": 1407,
    "start_time": "2022-04-09T16:10:13.070Z"
   },
   {
    "duration": 4,
    "start_time": "2022-04-09T16:11:10.904Z"
   },
   {
    "duration": 2,
    "start_time": "2022-04-09T16:11:11.390Z"
   },
   {
    "duration": 615,
    "start_time": "2022-04-09T16:11:11.759Z"
   },
   {
    "duration": 4,
    "start_time": "2022-04-09T16:13:37.821Z"
   },
   {
    "duration": 3,
    "start_time": "2022-04-09T16:13:39.061Z"
   },
   {
    "duration": 739,
    "start_time": "2022-04-09T16:13:39.668Z"
   },
   {
    "duration": 3,
    "start_time": "2022-04-09T16:14:26.401Z"
   },
   {
    "duration": 20,
    "start_time": "2022-04-09T16:14:28.369Z"
   },
   {
    "duration": 4,
    "start_time": "2022-04-09T16:14:30.240Z"
   },
   {
    "duration": 4,
    "start_time": "2022-04-09T16:14:31.091Z"
   },
   {
    "duration": 3,
    "start_time": "2022-04-09T16:14:34.957Z"
   },
   {
    "duration": 4,
    "start_time": "2022-04-09T16:14:35.128Z"
   },
   {
    "duration": 3,
    "start_time": "2022-04-09T16:14:35.788Z"
   },
   {
    "duration": 4,
    "start_time": "2022-04-09T16:14:36.201Z"
   },
   {
    "duration": 3,
    "start_time": "2022-04-09T16:14:37.017Z"
   },
   {
    "duration": 6,
    "start_time": "2022-04-09T16:20:43.394Z"
   },
   {
    "duration": 20,
    "start_time": "2022-04-09T16:20:45.678Z"
   },
   {
    "duration": 302,
    "start_time": "2022-04-09T16:20:52.353Z"
   },
   {
    "duration": 110,
    "start_time": "2022-04-09T16:24:28.097Z"
   },
   {
    "duration": 98,
    "start_time": "2022-04-09T16:24:35.840Z"
   },
   {
    "duration": 121,
    "start_time": "2022-04-09T16:26:05.520Z"
   },
   {
    "duration": 7919,
    "start_time": "2022-04-09T16:27:48.140Z"
   },
   {
    "duration": 388,
    "start_time": "2022-04-09T16:28:16.573Z"
   },
   {
    "duration": 316,
    "start_time": "2022-04-09T16:32:00.280Z"
   },
   {
    "duration": 301,
    "start_time": "2022-04-09T16:32:08.828Z"
   },
   {
    "duration": 270,
    "start_time": "2022-04-09T16:32:42.898Z"
   },
   {
    "duration": 15,
    "start_time": "2022-04-09T16:33:49.001Z"
   },
   {
    "duration": 14,
    "start_time": "2022-04-09T16:33:49.482Z"
   },
   {
    "duration": 8,
    "start_time": "2022-04-09T16:33:50.421Z"
   },
   {
    "duration": 12,
    "start_time": "2022-04-09T16:34:17.101Z"
   },
   {
    "duration": 90,
    "start_time": "2022-04-09T16:34:37.201Z"
   },
   {
    "duration": 220,
    "start_time": "2022-04-09T16:36:19.341Z"
   },
   {
    "duration": 6,
    "start_time": "2022-04-09T16:39:55.970Z"
   },
   {
    "duration": 155,
    "start_time": "2022-04-09T16:39:56.942Z"
   },
   {
    "duration": 131,
    "start_time": "2022-04-09T16:39:57.821Z"
   },
   {
    "duration": 10,
    "start_time": "2022-04-09T16:40:01.902Z"
   },
   {
    "duration": 125,
    "start_time": "2022-04-09T16:40:57.085Z"
   },
   {
    "duration": 138,
    "start_time": "2022-04-09T16:40:59.342Z"
   },
   {
    "duration": 10,
    "start_time": "2022-04-09T16:41:00.730Z"
   },
   {
    "duration": 500,
    "start_time": "2022-04-09T16:42:18.603Z"
   },
   {
    "duration": 489,
    "start_time": "2022-04-09T16:46:41.083Z"
   },
   {
    "duration": 204,
    "start_time": "2022-04-09T16:47:22.063Z"
   },
   {
    "duration": 489,
    "start_time": "2022-04-09T16:47:37.066Z"
   },
   {
    "duration": 99,
    "start_time": "2022-04-09T16:51:25.834Z"
   },
   {
    "duration": 10,
    "start_time": "2022-04-09T16:53:05.202Z"
   },
   {
    "duration": 530,
    "start_time": "2022-04-09T16:53:13.411Z"
   },
   {
    "duration": 513,
    "start_time": "2022-04-09T16:53:26.846Z"
   },
   {
    "duration": 6,
    "start_time": "2022-04-09T16:54:16.911Z"
   },
   {
    "duration": 192,
    "start_time": "2022-04-09T16:54:18.524Z"
   },
   {
    "duration": 7,
    "start_time": "2022-04-09T16:54:34.721Z"
   },
   {
    "duration": 874,
    "start_time": "2022-04-09T16:55:48.391Z"
   },
   {
    "duration": 10,
    "start_time": "2022-04-09T16:56:55.983Z"
   },
   {
    "duration": 11,
    "start_time": "2022-04-09T16:56:57.904Z"
   },
   {
    "duration": 10,
    "start_time": "2022-04-09T16:57:00.352Z"
   },
   {
    "duration": 11,
    "start_time": "2022-04-09T16:57:02.764Z"
   },
   {
    "duration": 11,
    "start_time": "2022-04-09T16:59:48.032Z"
   },
   {
    "duration": 11,
    "start_time": "2022-04-09T17:00:38.063Z"
   },
   {
    "duration": 11,
    "start_time": "2022-04-09T17:01:28.923Z"
   },
   {
    "duration": 11,
    "start_time": "2022-04-09T17:02:45.929Z"
   },
   {
    "duration": 434,
    "start_time": "2022-04-09T17:02:46.610Z"
   },
   {
    "duration": 11,
    "start_time": "2022-04-09T17:09:33.792Z"
   },
   {
    "duration": 12,
    "start_time": "2022-04-09T17:13:17.923Z"
   },
   {
    "duration": 10,
    "start_time": "2022-04-09T17:13:46.902Z"
   },
   {
    "duration": 11,
    "start_time": "2022-04-09T17:14:45.143Z"
   },
   {
    "duration": 10,
    "start_time": "2022-04-09T17:14:54.095Z"
   },
   {
    "duration": 627,
    "start_time": "2022-04-09T17:14:56.372Z"
   },
   {
    "duration": 10,
    "start_time": "2022-04-09T17:15:44.594Z"
   },
   {
    "duration": 11,
    "start_time": "2022-04-09T17:15:57.496Z"
   },
   {
    "duration": 11,
    "start_time": "2022-04-09T17:16:02.744Z"
   },
   {
    "duration": 11,
    "start_time": "2022-04-09T17:16:06.102Z"
   },
   {
    "duration": 10,
    "start_time": "2022-04-09T17:16:08.610Z"
   },
   {
    "duration": 394,
    "start_time": "2022-04-09T17:16:09.431Z"
   },
   {
    "duration": 2,
    "start_time": "2022-04-09T17:18:08.793Z"
   },
   {
    "duration": 7,
    "start_time": "2022-04-09T17:18:09.643Z"
   },
   {
    "duration": 6,
    "start_time": "2022-04-09T17:18:11.718Z"
   },
   {
    "duration": 8,
    "start_time": "2022-04-09T17:18:15.964Z"
   },
   {
    "duration": 6,
    "start_time": "2022-04-09T17:18:17.650Z"
   }
  ],
  "kernelspec": {
   "display_name": "Python 3 (ipykernel)",
   "language": "python",
   "name": "python3"
  },
  "language_info": {
   "codemirror_mode": {
    "name": "ipython",
    "version": 3
   },
   "file_extension": ".py",
   "mimetype": "text/x-python",
   "name": "python",
   "nbconvert_exporter": "python",
   "pygments_lexer": "ipython3",
   "version": "3.9.12"
  },
  "toc": {
   "base_numbering": 1,
   "nav_menu": {},
   "number_sections": true,
   "sideBar": true,
   "skip_h1_title": true,
   "title_cell": "Table of Contents",
   "title_sidebar": "Contents",
   "toc_cell": false,
   "toc_position": {},
   "toc_section_display": true,
   "toc_window_display": false
  }
 },
 "nbformat": 4,
 "nbformat_minor": 2
}
