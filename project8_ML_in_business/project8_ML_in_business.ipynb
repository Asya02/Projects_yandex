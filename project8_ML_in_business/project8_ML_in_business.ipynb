{
 "cells": [
  {
   "cell_type": "markdown",
   "metadata": {},
   "source": [
    "# Выбор локации для скважины"
   ]
  },
  {
   "cell_type": "markdown",
   "metadata": {},
   "source": [
    "Допустим, работа в добывающей компании «ГлавРосГосНефть». Нужно решить, где бурить новую скважину.\n",
    "\n",
    "Нам предоставлены пробы нефти в трёх регионах: в каждом 10 000 месторождений, где измерили качество нефти и объём её запасов. Построить модель машинного обучения, которая поможет определить регион, где добыча принесёт наибольшую прибыль. Проанализируем возможную прибыль и риски техникой *Bootstrap.*\n",
    "\n",
    "Шаги для выбора локации:\n",
    "\n",
    "- В избранном регионе ищут месторождения, для каждого определяют значения признаков;\n",
    "- Строят модель и оценивают объём запасов;\n",
    "- Выбирают месторождения с самым высокими оценками значений. Количество месторождений зависит от бюджета компании и стоимости разработки одной скважины;\n",
    "- Прибыль равна суммарной прибыли отобранных месторождений."
   ]
  },
  {
   "cell_type": "markdown",
   "metadata": {},
   "source": [
    "## Загрузка и подготовка данных"
   ]
  },
  {
   "cell_type": "markdown",
   "metadata": {},
   "source": [
    "Для начала импортируем необходимые библиотеки и модули"
   ]
  },
  {
   "cell_type": "code",
   "execution_count": 67,
   "metadata": {},
   "outputs": [],
   "source": [
    "import pandas as pd\n",
    "import matplotlib.pyplot as plt\n",
    "import numpy as np\n",
    "\n",
    "from scipy import stats as st\n",
    "\n",
    "from sklearn.preprocessing import StandardScaler\n",
    "from sklearn.model_selection import train_test_split\n",
    "from sklearn.linear_model import LinearRegression\n",
    "\n",
    "from sklearn.metrics import mean_squared_error\n"
   ]
  },
  {
   "cell_type": "markdown",
   "metadata": {},
   "source": [
    "Сохраним в отдельные переменные таблицы с данными по каждому региону"
   ]
  },
  {
   "cell_type": "markdown",
   "metadata": {},
   "source": [
    "### Регион 0"
   ]
  },
  {
   "cell_type": "code",
   "execution_count": 68,
   "metadata": {},
   "outputs": [],
   "source": [
    "df0 = pd.read_csv('/datasets/geo_data_0.csv')"
   ]
  },
  {
   "cell_type": "markdown",
   "metadata": {},
   "source": [
    "Посмотрим на первые 10 строк датафрейма"
   ]
  },
  {
   "cell_type": "code",
   "execution_count": 69,
   "metadata": {},
   "outputs": [
    {
     "data": {
      "text/html": [
       "<div>\n",
       "<style scoped>\n",
       "    .dataframe tbody tr th:only-of-type {\n",
       "        vertical-align: middle;\n",
       "    }\n",
       "\n",
       "    .dataframe tbody tr th {\n",
       "        vertical-align: top;\n",
       "    }\n",
       "\n",
       "    .dataframe thead th {\n",
       "        text-align: right;\n",
       "    }\n",
       "</style>\n",
       "<table border=\"1\" class=\"dataframe\">\n",
       "  <thead>\n",
       "    <tr style=\"text-align: right;\">\n",
       "      <th></th>\n",
       "      <th>id</th>\n",
       "      <th>f0</th>\n",
       "      <th>f1</th>\n",
       "      <th>f2</th>\n",
       "      <th>product</th>\n",
       "    </tr>\n",
       "  </thead>\n",
       "  <tbody>\n",
       "    <tr>\n",
       "      <th>0</th>\n",
       "      <td>txEyH</td>\n",
       "      <td>0.705745</td>\n",
       "      <td>-0.497823</td>\n",
       "      <td>1.221170</td>\n",
       "      <td>105.280062</td>\n",
       "    </tr>\n",
       "    <tr>\n",
       "      <th>1</th>\n",
       "      <td>2acmU</td>\n",
       "      <td>1.334711</td>\n",
       "      <td>-0.340164</td>\n",
       "      <td>4.365080</td>\n",
       "      <td>73.037750</td>\n",
       "    </tr>\n",
       "    <tr>\n",
       "      <th>2</th>\n",
       "      <td>409Wp</td>\n",
       "      <td>1.022732</td>\n",
       "      <td>0.151990</td>\n",
       "      <td>1.419926</td>\n",
       "      <td>85.265647</td>\n",
       "    </tr>\n",
       "    <tr>\n",
       "      <th>3</th>\n",
       "      <td>iJLyR</td>\n",
       "      <td>-0.032172</td>\n",
       "      <td>0.139033</td>\n",
       "      <td>2.978566</td>\n",
       "      <td>168.620776</td>\n",
       "    </tr>\n",
       "    <tr>\n",
       "      <th>4</th>\n",
       "      <td>Xdl7t</td>\n",
       "      <td>1.988431</td>\n",
       "      <td>0.155413</td>\n",
       "      <td>4.751769</td>\n",
       "      <td>154.036647</td>\n",
       "    </tr>\n",
       "    <tr>\n",
       "      <th>5</th>\n",
       "      <td>wX4Hy</td>\n",
       "      <td>0.969570</td>\n",
       "      <td>0.489775</td>\n",
       "      <td>-0.735383</td>\n",
       "      <td>64.741541</td>\n",
       "    </tr>\n",
       "    <tr>\n",
       "      <th>6</th>\n",
       "      <td>tL6pL</td>\n",
       "      <td>0.645075</td>\n",
       "      <td>0.530656</td>\n",
       "      <td>1.780266</td>\n",
       "      <td>49.055285</td>\n",
       "    </tr>\n",
       "    <tr>\n",
       "      <th>7</th>\n",
       "      <td>BYPU6</td>\n",
       "      <td>-0.400648</td>\n",
       "      <td>0.808337</td>\n",
       "      <td>-5.624670</td>\n",
       "      <td>72.943292</td>\n",
       "    </tr>\n",
       "    <tr>\n",
       "      <th>8</th>\n",
       "      <td>j9Oui</td>\n",
       "      <td>0.643105</td>\n",
       "      <td>-0.551583</td>\n",
       "      <td>2.372141</td>\n",
       "      <td>113.356160</td>\n",
       "    </tr>\n",
       "    <tr>\n",
       "      <th>9</th>\n",
       "      <td>OLuZU</td>\n",
       "      <td>2.173381</td>\n",
       "      <td>0.563698</td>\n",
       "      <td>9.441852</td>\n",
       "      <td>127.910945</td>\n",
       "    </tr>\n",
       "  </tbody>\n",
       "</table>\n",
       "</div>"
      ],
      "text/plain": [
       "      id        f0        f1        f2     product\n",
       "0  txEyH  0.705745 -0.497823  1.221170  105.280062\n",
       "1  2acmU  1.334711 -0.340164  4.365080   73.037750\n",
       "2  409Wp  1.022732  0.151990  1.419926   85.265647\n",
       "3  iJLyR -0.032172  0.139033  2.978566  168.620776\n",
       "4  Xdl7t  1.988431  0.155413  4.751769  154.036647\n",
       "5  wX4Hy  0.969570  0.489775 -0.735383   64.741541\n",
       "6  tL6pL  0.645075  0.530656  1.780266   49.055285\n",
       "7  BYPU6 -0.400648  0.808337 -5.624670   72.943292\n",
       "8  j9Oui  0.643105 -0.551583  2.372141  113.356160\n",
       "9  OLuZU  2.173381  0.563698  9.441852  127.910945"
      ]
     },
     "execution_count": 69,
     "metadata": {},
     "output_type": "execute_result"
    }
   ],
   "source": [
    "df0.head(10)"
   ]
  },
  {
   "cell_type": "markdown",
   "metadata": {},
   "source": [
    "Изучим общую информацию о таблице"
   ]
  },
  {
   "cell_type": "code",
   "execution_count": 70,
   "metadata": {},
   "outputs": [
    {
     "name": "stdout",
     "output_type": "stream",
     "text": [
      "<class 'pandas.core.frame.DataFrame'>\n",
      "RangeIndex: 100000 entries, 0 to 99999\n",
      "Data columns (total 5 columns):\n",
      " #   Column   Non-Null Count   Dtype  \n",
      "---  ------   --------------   -----  \n",
      " 0   id       100000 non-null  object \n",
      " 1   f0       100000 non-null  float64\n",
      " 2   f1       100000 non-null  float64\n",
      " 3   f2       100000 non-null  float64\n",
      " 4   product  100000 non-null  float64\n",
      "dtypes: float64(4), object(1)\n",
      "memory usage: 3.8+ MB\n"
     ]
    }
   ],
   "source": [
    "df0.info()"
   ]
  },
  {
   "cell_type": "markdown",
   "metadata": {},
   "source": [
    "И посмотрим подробнее на основные параметры числовых характеристик"
   ]
  },
  {
   "cell_type": "code",
   "execution_count": 71,
   "metadata": {},
   "outputs": [
    {
     "data": {
      "text/html": [
       "<div>\n",
       "<style scoped>\n",
       "    .dataframe tbody tr th:only-of-type {\n",
       "        vertical-align: middle;\n",
       "    }\n",
       "\n",
       "    .dataframe tbody tr th {\n",
       "        vertical-align: top;\n",
       "    }\n",
       "\n",
       "    .dataframe thead th {\n",
       "        text-align: right;\n",
       "    }\n",
       "</style>\n",
       "<table border=\"1\" class=\"dataframe\">\n",
       "  <thead>\n",
       "    <tr style=\"text-align: right;\">\n",
       "      <th></th>\n",
       "      <th>f0</th>\n",
       "      <th>f1</th>\n",
       "      <th>f2</th>\n",
       "      <th>product</th>\n",
       "    </tr>\n",
       "  </thead>\n",
       "  <tbody>\n",
       "    <tr>\n",
       "      <th>count</th>\n",
       "      <td>100000.000000</td>\n",
       "      <td>100000.000000</td>\n",
       "      <td>100000.000000</td>\n",
       "      <td>100000.000000</td>\n",
       "    </tr>\n",
       "    <tr>\n",
       "      <th>mean</th>\n",
       "      <td>0.500419</td>\n",
       "      <td>0.250143</td>\n",
       "      <td>2.502647</td>\n",
       "      <td>92.500000</td>\n",
       "    </tr>\n",
       "    <tr>\n",
       "      <th>std</th>\n",
       "      <td>0.871832</td>\n",
       "      <td>0.504433</td>\n",
       "      <td>3.248248</td>\n",
       "      <td>44.288691</td>\n",
       "    </tr>\n",
       "    <tr>\n",
       "      <th>min</th>\n",
       "      <td>-1.408605</td>\n",
       "      <td>-0.848218</td>\n",
       "      <td>-12.088328</td>\n",
       "      <td>0.000000</td>\n",
       "    </tr>\n",
       "    <tr>\n",
       "      <th>25%</th>\n",
       "      <td>-0.072580</td>\n",
       "      <td>-0.200881</td>\n",
       "      <td>0.287748</td>\n",
       "      <td>56.497507</td>\n",
       "    </tr>\n",
       "    <tr>\n",
       "      <th>50%</th>\n",
       "      <td>0.502360</td>\n",
       "      <td>0.250252</td>\n",
       "      <td>2.515969</td>\n",
       "      <td>91.849972</td>\n",
       "    </tr>\n",
       "    <tr>\n",
       "      <th>75%</th>\n",
       "      <td>1.073581</td>\n",
       "      <td>0.700646</td>\n",
       "      <td>4.715088</td>\n",
       "      <td>128.564089</td>\n",
       "    </tr>\n",
       "    <tr>\n",
       "      <th>max</th>\n",
       "      <td>2.362331</td>\n",
       "      <td>1.343769</td>\n",
       "      <td>16.003790</td>\n",
       "      <td>185.364347</td>\n",
       "    </tr>\n",
       "  </tbody>\n",
       "</table>\n",
       "</div>"
      ],
      "text/plain": [
       "                  f0             f1             f2        product\n",
       "count  100000.000000  100000.000000  100000.000000  100000.000000\n",
       "mean        0.500419       0.250143       2.502647      92.500000\n",
       "std         0.871832       0.504433       3.248248      44.288691\n",
       "min        -1.408605      -0.848218     -12.088328       0.000000\n",
       "25%        -0.072580      -0.200881       0.287748      56.497507\n",
       "50%         0.502360       0.250252       2.515969      91.849972\n",
       "75%         1.073581       0.700646       4.715088     128.564089\n",
       "max         2.362331       1.343769      16.003790     185.364347"
      ]
     },
     "execution_count": 71,
     "metadata": {},
     "output_type": "execute_result"
    }
   ],
   "source": [
    "df0.describe()"
   ]
  },
  {
   "cell_type": "markdown",
   "metadata": {},
   "source": [
    "Проверим, что все id встречаются по одному разу"
   ]
  },
  {
   "cell_type": "code",
   "execution_count": 72,
   "metadata": {},
   "outputs": [
    {
     "data": {
      "text/plain": [
       "HZww2    2\n",
       "bxg6G    2\n",
       "bsk9y    2\n",
       "fiKDv    2\n",
       "QcMuo    2\n",
       "        ..\n",
       "ev9A3    1\n",
       "cOE0L    1\n",
       "KTddw    1\n",
       "ebfxp    1\n",
       "Kyr5c    1\n",
       "Name: id, Length: 99990, dtype: int64"
      ]
     },
     "execution_count": 72,
     "metadata": {},
     "output_type": "execute_result"
    }
   ],
   "source": [
    "id0_counts = df0['id'].value_counts()\n",
    "id0_counts"
   ]
  },
  {
   "cell_type": "markdown",
   "metadata": {},
   "source": [
    "Странно, что некоторые id встречаются дважды. Посмотрим, что это за данные"
   ]
  },
  {
   "cell_type": "code",
   "execution_count": 73,
   "metadata": {},
   "outputs": [
    {
     "data": {
      "text/plain": [
       "0    74z30\n",
       "1    A5aEY\n",
       "2    AGS9W\n",
       "3    HZww2\n",
       "4    QcMuo\n",
       "5    Tdehs\n",
       "6    TtcGQ\n",
       "7    bsk9y\n",
       "8    bxg6G\n",
       "9    fiKDv\n",
       "dtype: object"
      ]
     },
     "execution_count": 73,
     "metadata": {},
     "output_type": "execute_result"
    }
   ],
   "source": [
    "df0['id'].mode()"
   ]
  },
  {
   "cell_type": "code",
   "execution_count": 74,
   "metadata": {},
   "outputs": [
    {
     "data": {
      "text/plain": [
       "['HZww2',\n",
       " 'bxg6G',\n",
       " 'bsk9y',\n",
       " 'fiKDv',\n",
       " 'QcMuo',\n",
       " '74z30',\n",
       " 'AGS9W',\n",
       " 'TtcGQ',\n",
       " 'Tdehs',\n",
       " 'A5aEY']"
      ]
     },
     "execution_count": 74,
     "metadata": {},
     "output_type": "execute_result"
    }
   ],
   "source": [
    "strange_id0 = list(df0['id'].value_counts().loc[lambda x : x!=1].index)\n",
    "strange_id0"
   ]
  },
  {
   "cell_type": "code",
   "execution_count": 75,
   "metadata": {},
   "outputs": [
    {
     "data": {
      "text/html": [
       "<div>\n",
       "<style scoped>\n",
       "    .dataframe tbody tr th:only-of-type {\n",
       "        vertical-align: middle;\n",
       "    }\n",
       "\n",
       "    .dataframe tbody tr th {\n",
       "        vertical-align: top;\n",
       "    }\n",
       "\n",
       "    .dataframe thead th {\n",
       "        text-align: right;\n",
       "    }\n",
       "</style>\n",
       "<table border=\"1\" class=\"dataframe\">\n",
       "  <thead>\n",
       "    <tr style=\"text-align: right;\">\n",
       "      <th></th>\n",
       "      <th>id</th>\n",
       "      <th>f0</th>\n",
       "      <th>f1</th>\n",
       "      <th>f2</th>\n",
       "      <th>product</th>\n",
       "    </tr>\n",
       "  </thead>\n",
       "  <tbody>\n",
       "    <tr>\n",
       "      <th>931</th>\n",
       "      <td>HZww2</td>\n",
       "      <td>0.755284</td>\n",
       "      <td>0.368511</td>\n",
       "      <td>1.863211</td>\n",
       "      <td>30.681774</td>\n",
       "    </tr>\n",
       "    <tr>\n",
       "      <th>1364</th>\n",
       "      <td>bxg6G</td>\n",
       "      <td>0.411645</td>\n",
       "      <td>0.856830</td>\n",
       "      <td>-3.653440</td>\n",
       "      <td>73.604260</td>\n",
       "    </tr>\n",
       "    <tr>\n",
       "      <th>1949</th>\n",
       "      <td>QcMuo</td>\n",
       "      <td>0.506563</td>\n",
       "      <td>-0.323775</td>\n",
       "      <td>-2.215583</td>\n",
       "      <td>75.496502</td>\n",
       "    </tr>\n",
       "    <tr>\n",
       "      <th>3389</th>\n",
       "      <td>A5aEY</td>\n",
       "      <td>-0.039949</td>\n",
       "      <td>0.156872</td>\n",
       "      <td>0.209861</td>\n",
       "      <td>89.249364</td>\n",
       "    </tr>\n",
       "    <tr>\n",
       "      <th>7530</th>\n",
       "      <td>HZww2</td>\n",
       "      <td>1.061194</td>\n",
       "      <td>-0.373969</td>\n",
       "      <td>10.430210</td>\n",
       "      <td>158.828695</td>\n",
       "    </tr>\n",
       "    <tr>\n",
       "      <th>16633</th>\n",
       "      <td>fiKDv</td>\n",
       "      <td>0.157341</td>\n",
       "      <td>1.028359</td>\n",
       "      <td>5.585586</td>\n",
       "      <td>95.817889</td>\n",
       "    </tr>\n",
       "    <tr>\n",
       "      <th>21426</th>\n",
       "      <td>Tdehs</td>\n",
       "      <td>0.829407</td>\n",
       "      <td>0.298807</td>\n",
       "      <td>-0.049563</td>\n",
       "      <td>96.035308</td>\n",
       "    </tr>\n",
       "    <tr>\n",
       "      <th>41724</th>\n",
       "      <td>bxg6G</td>\n",
       "      <td>-0.823752</td>\n",
       "      <td>0.546319</td>\n",
       "      <td>3.630479</td>\n",
       "      <td>93.007798</td>\n",
       "    </tr>\n",
       "    <tr>\n",
       "      <th>42529</th>\n",
       "      <td>AGS9W</td>\n",
       "      <td>1.454747</td>\n",
       "      <td>-0.479651</td>\n",
       "      <td>0.683380</td>\n",
       "      <td>126.370504</td>\n",
       "    </tr>\n",
       "    <tr>\n",
       "      <th>51970</th>\n",
       "      <td>A5aEY</td>\n",
       "      <td>-0.180335</td>\n",
       "      <td>0.935548</td>\n",
       "      <td>-2.094773</td>\n",
       "      <td>33.020205</td>\n",
       "    </tr>\n",
       "    <tr>\n",
       "      <th>60140</th>\n",
       "      <td>TtcGQ</td>\n",
       "      <td>0.569276</td>\n",
       "      <td>-0.104876</td>\n",
       "      <td>6.440215</td>\n",
       "      <td>85.350186</td>\n",
       "    </tr>\n",
       "    <tr>\n",
       "      <th>63593</th>\n",
       "      <td>QcMuo</td>\n",
       "      <td>0.635635</td>\n",
       "      <td>-0.473422</td>\n",
       "      <td>0.862670</td>\n",
       "      <td>64.578675</td>\n",
       "    </tr>\n",
       "    <tr>\n",
       "      <th>64022</th>\n",
       "      <td>74z30</td>\n",
       "      <td>0.741456</td>\n",
       "      <td>0.459229</td>\n",
       "      <td>5.153109</td>\n",
       "      <td>140.771492</td>\n",
       "    </tr>\n",
       "    <tr>\n",
       "      <th>66136</th>\n",
       "      <td>74z30</td>\n",
       "      <td>1.084962</td>\n",
       "      <td>-0.312358</td>\n",
       "      <td>6.990771</td>\n",
       "      <td>127.643327</td>\n",
       "    </tr>\n",
       "    <tr>\n",
       "      <th>69163</th>\n",
       "      <td>AGS9W</td>\n",
       "      <td>-0.933795</td>\n",
       "      <td>0.116194</td>\n",
       "      <td>-3.655896</td>\n",
       "      <td>19.230453</td>\n",
       "    </tr>\n",
       "    <tr>\n",
       "      <th>75715</th>\n",
       "      <td>Tdehs</td>\n",
       "      <td>0.112079</td>\n",
       "      <td>0.430296</td>\n",
       "      <td>3.218993</td>\n",
       "      <td>60.964018</td>\n",
       "    </tr>\n",
       "    <tr>\n",
       "      <th>89582</th>\n",
       "      <td>bsk9y</td>\n",
       "      <td>0.398908</td>\n",
       "      <td>-0.400253</td>\n",
       "      <td>10.122376</td>\n",
       "      <td>163.433078</td>\n",
       "    </tr>\n",
       "    <tr>\n",
       "      <th>90815</th>\n",
       "      <td>fiKDv</td>\n",
       "      <td>0.049883</td>\n",
       "      <td>0.841313</td>\n",
       "      <td>6.394613</td>\n",
       "      <td>137.346586</td>\n",
       "    </tr>\n",
       "    <tr>\n",
       "      <th>92341</th>\n",
       "      <td>TtcGQ</td>\n",
       "      <td>0.110711</td>\n",
       "      <td>1.022689</td>\n",
       "      <td>0.911381</td>\n",
       "      <td>101.318008</td>\n",
       "    </tr>\n",
       "    <tr>\n",
       "      <th>97785</th>\n",
       "      <td>bsk9y</td>\n",
       "      <td>0.378429</td>\n",
       "      <td>0.005837</td>\n",
       "      <td>0.160827</td>\n",
       "      <td>160.637302</td>\n",
       "    </tr>\n",
       "  </tbody>\n",
       "</table>\n",
       "</div>"
      ],
      "text/plain": [
       "          id        f0        f1         f2     product\n",
       "931    HZww2  0.755284  0.368511   1.863211   30.681774\n",
       "1364   bxg6G  0.411645  0.856830  -3.653440   73.604260\n",
       "1949   QcMuo  0.506563 -0.323775  -2.215583   75.496502\n",
       "3389   A5aEY -0.039949  0.156872   0.209861   89.249364\n",
       "7530   HZww2  1.061194 -0.373969  10.430210  158.828695\n",
       "16633  fiKDv  0.157341  1.028359   5.585586   95.817889\n",
       "21426  Tdehs  0.829407  0.298807  -0.049563   96.035308\n",
       "41724  bxg6G -0.823752  0.546319   3.630479   93.007798\n",
       "42529  AGS9W  1.454747 -0.479651   0.683380  126.370504\n",
       "51970  A5aEY -0.180335  0.935548  -2.094773   33.020205\n",
       "60140  TtcGQ  0.569276 -0.104876   6.440215   85.350186\n",
       "63593  QcMuo  0.635635 -0.473422   0.862670   64.578675\n",
       "64022  74z30  0.741456  0.459229   5.153109  140.771492\n",
       "66136  74z30  1.084962 -0.312358   6.990771  127.643327\n",
       "69163  AGS9W -0.933795  0.116194  -3.655896   19.230453\n",
       "75715  Tdehs  0.112079  0.430296   3.218993   60.964018\n",
       "89582  bsk9y  0.398908 -0.400253  10.122376  163.433078\n",
       "90815  fiKDv  0.049883  0.841313   6.394613  137.346586\n",
       "92341  TtcGQ  0.110711  1.022689   0.911381  101.318008\n",
       "97785  bsk9y  0.378429  0.005837   0.160827  160.637302"
      ]
     },
     "execution_count": 75,
     "metadata": {},
     "output_type": "execute_result"
    }
   ],
   "source": [
    "df0.loc[df0['id'].isin(strange_id0)]"
   ]
  },
  {
   "cell_type": "markdown",
   "metadata": {},
   "source": [
    "Для одинаковых id разные значения. Это странно. Лучше удалим эти строки, поскольку они занимают не так много места."
   ]
  },
  {
   "cell_type": "code",
   "execution_count": 76,
   "metadata": {},
   "outputs": [],
   "source": [
    "df0 = df0.loc[~df0['id'].isin(strange_id0)]"
   ]
  },
  {
   "cell_type": "markdown",
   "metadata": {},
   "source": [
    "В данном случае, поскольку модель учится на числовых признаках, столбец id можно убрать."
   ]
  },
  {
   "cell_type": "code",
   "execution_count": 77,
   "metadata": {},
   "outputs": [],
   "source": [
    "df0 = df0.drop('id', axis=1)"
   ]
  },
  {
   "cell_type": "markdown",
   "metadata": {},
   "source": [
    "Посмотрим на изменённый датафрейм"
   ]
  },
  {
   "cell_type": "code",
   "execution_count": 78,
   "metadata": {
    "scrolled": false
   },
   "outputs": [
    {
     "data": {
      "text/html": [
       "<div>\n",
       "<style scoped>\n",
       "    .dataframe tbody tr th:only-of-type {\n",
       "        vertical-align: middle;\n",
       "    }\n",
       "\n",
       "    .dataframe tbody tr th {\n",
       "        vertical-align: top;\n",
       "    }\n",
       "\n",
       "    .dataframe thead th {\n",
       "        text-align: right;\n",
       "    }\n",
       "</style>\n",
       "<table border=\"1\" class=\"dataframe\">\n",
       "  <thead>\n",
       "    <tr style=\"text-align: right;\">\n",
       "      <th></th>\n",
       "      <th>f0</th>\n",
       "      <th>f1</th>\n",
       "      <th>f2</th>\n",
       "      <th>product</th>\n",
       "    </tr>\n",
       "  </thead>\n",
       "  <tbody>\n",
       "    <tr>\n",
       "      <th>0</th>\n",
       "      <td>0.705745</td>\n",
       "      <td>-0.497823</td>\n",
       "      <td>1.221170</td>\n",
       "      <td>105.280062</td>\n",
       "    </tr>\n",
       "    <tr>\n",
       "      <th>1</th>\n",
       "      <td>1.334711</td>\n",
       "      <td>-0.340164</td>\n",
       "      <td>4.365080</td>\n",
       "      <td>73.037750</td>\n",
       "    </tr>\n",
       "    <tr>\n",
       "      <th>2</th>\n",
       "      <td>1.022732</td>\n",
       "      <td>0.151990</td>\n",
       "      <td>1.419926</td>\n",
       "      <td>85.265647</td>\n",
       "    </tr>\n",
       "    <tr>\n",
       "      <th>3</th>\n",
       "      <td>-0.032172</td>\n",
       "      <td>0.139033</td>\n",
       "      <td>2.978566</td>\n",
       "      <td>168.620776</td>\n",
       "    </tr>\n",
       "    <tr>\n",
       "      <th>4</th>\n",
       "      <td>1.988431</td>\n",
       "      <td>0.155413</td>\n",
       "      <td>4.751769</td>\n",
       "      <td>154.036647</td>\n",
       "    </tr>\n",
       "    <tr>\n",
       "      <th>...</th>\n",
       "      <td>...</td>\n",
       "      <td>...</td>\n",
       "      <td>...</td>\n",
       "      <td>...</td>\n",
       "    </tr>\n",
       "    <tr>\n",
       "      <th>99995</th>\n",
       "      <td>0.971957</td>\n",
       "      <td>0.370953</td>\n",
       "      <td>6.075346</td>\n",
       "      <td>110.744026</td>\n",
       "    </tr>\n",
       "    <tr>\n",
       "      <th>99996</th>\n",
       "      <td>1.392429</td>\n",
       "      <td>-0.382606</td>\n",
       "      <td>1.273912</td>\n",
       "      <td>122.346843</td>\n",
       "    </tr>\n",
       "    <tr>\n",
       "      <th>99997</th>\n",
       "      <td>1.029585</td>\n",
       "      <td>0.018787</td>\n",
       "      <td>-1.348308</td>\n",
       "      <td>64.375443</td>\n",
       "    </tr>\n",
       "    <tr>\n",
       "      <th>99998</th>\n",
       "      <td>0.998163</td>\n",
       "      <td>-0.528582</td>\n",
       "      <td>1.583869</td>\n",
       "      <td>74.040764</td>\n",
       "    </tr>\n",
       "    <tr>\n",
       "      <th>99999</th>\n",
       "      <td>1.764754</td>\n",
       "      <td>-0.266417</td>\n",
       "      <td>5.722849</td>\n",
       "      <td>149.633246</td>\n",
       "    </tr>\n",
       "  </tbody>\n",
       "</table>\n",
       "<p>99980 rows × 4 columns</p>\n",
       "</div>"
      ],
      "text/plain": [
       "             f0        f1        f2     product\n",
       "0      0.705745 -0.497823  1.221170  105.280062\n",
       "1      1.334711 -0.340164  4.365080   73.037750\n",
       "2      1.022732  0.151990  1.419926   85.265647\n",
       "3     -0.032172  0.139033  2.978566  168.620776\n",
       "4      1.988431  0.155413  4.751769  154.036647\n",
       "...         ...       ...       ...         ...\n",
       "99995  0.971957  0.370953  6.075346  110.744026\n",
       "99996  1.392429 -0.382606  1.273912  122.346843\n",
       "99997  1.029585  0.018787 -1.348308   64.375443\n",
       "99998  0.998163 -0.528582  1.583869   74.040764\n",
       "99999  1.764754 -0.266417  5.722849  149.633246\n",
       "\n",
       "[99980 rows x 4 columns]"
      ]
     },
     "execution_count": 78,
     "metadata": {},
     "output_type": "execute_result"
    }
   ],
   "source": [
    "df0"
   ]
  },
  {
   "cell_type": "markdown",
   "metadata": {},
   "source": [
    "Вернёмся к числовым признакам. Посмотрим на зависимость между величинами, чтобы понять, не нужно ли исключать какой-либо параметр"
   ]
  },
  {
   "cell_type": "code",
   "execution_count": 79,
   "metadata": {},
   "outputs": [
    {
     "data": {
      "text/html": [
       "<div>\n",
       "<style scoped>\n",
       "    .dataframe tbody tr th:only-of-type {\n",
       "        vertical-align: middle;\n",
       "    }\n",
       "\n",
       "    .dataframe tbody tr th {\n",
       "        vertical-align: top;\n",
       "    }\n",
       "\n",
       "    .dataframe thead th {\n",
       "        text-align: right;\n",
       "    }\n",
       "</style>\n",
       "<table border=\"1\" class=\"dataframe\">\n",
       "  <thead>\n",
       "    <tr style=\"text-align: right;\">\n",
       "      <th></th>\n",
       "      <th>f0</th>\n",
       "      <th>f1</th>\n",
       "      <th>f2</th>\n",
       "      <th>product</th>\n",
       "    </tr>\n",
       "  </thead>\n",
       "  <tbody>\n",
       "    <tr>\n",
       "      <th>f0</th>\n",
       "      <td>1.000000</td>\n",
       "      <td>-0.440724</td>\n",
       "      <td>-0.003204</td>\n",
       "      <td>0.143504</td>\n",
       "    </tr>\n",
       "    <tr>\n",
       "      <th>f1</th>\n",
       "      <td>-0.440724</td>\n",
       "      <td>1.000000</td>\n",
       "      <td>0.001783</td>\n",
       "      <td>-0.192338</td>\n",
       "    </tr>\n",
       "    <tr>\n",
       "      <th>f2</th>\n",
       "      <td>-0.003204</td>\n",
       "      <td>0.001783</td>\n",
       "      <td>1.000000</td>\n",
       "      <td>0.483628</td>\n",
       "    </tr>\n",
       "    <tr>\n",
       "      <th>product</th>\n",
       "      <td>0.143504</td>\n",
       "      <td>-0.192338</td>\n",
       "      <td>0.483628</td>\n",
       "      <td>1.000000</td>\n",
       "    </tr>\n",
       "  </tbody>\n",
       "</table>\n",
       "</div>"
      ],
      "text/plain": [
       "               f0        f1        f2   product\n",
       "f0       1.000000 -0.440724 -0.003204  0.143504\n",
       "f1      -0.440724  1.000000  0.001783 -0.192338\n",
       "f2      -0.003204  0.001783  1.000000  0.483628\n",
       "product  0.143504 -0.192338  0.483628  1.000000"
      ]
     },
     "execution_count": 79,
     "metadata": {},
     "output_type": "execute_result"
    }
   ],
   "source": [
    "df0.corr()"
   ]
  },
  {
   "cell_type": "markdown",
   "metadata": {},
   "source": [
    "Корреляции между f0, f1 и f0 не сильные. Оставляем все три параметра."
   ]
  },
  {
   "cell_type": "markdown",
   "metadata": {},
   "source": [
    "Посмотрим на разброс значений по признакам, чтобы понять, нужно ли масштабировать данные"
   ]
  },
  {
   "cell_type": "code",
   "execution_count": 80,
   "metadata": {
    "scrolled": false
   },
   "outputs": [
    {
     "data": {
      "text/plain": [
       "<AxesSubplot:title={'center':'Распределение значений признаков'}, xlabel='Признак', ylabel='Разброс значений'>"
      ]
     },
     "execution_count": 80,
     "metadata": {},
     "output_type": "execute_result"
    },
    {
     "data": {
      "image/png": "[encoded data removed]",
      "text/plain": [
       "<Figure size 1152x576 with 1 Axes>"
      ]
     },
     "metadata": {
      "needs_background": "light"
     },
     "output_type": "display_data"
    }
   ],
   "source": [
    "# построение боксплота для признаков f0, f1, f2\n",
    "df_plot = df0.drop('product', axis=1)\n",
    "\n",
    "fig, ax = plt.subplots(1)\n",
    "ax.set_title('Распределение значений признаков')\n",
    "ax.set_xlabel('Признак')\n",
    "ax.set_ylabel('Разброс значений')\n",
    "df_plot.plot(kind='box', figsize=(16,8), ax=ax)"
   ]
  },
  {
   "cell_type": "markdown",
   "metadata": {},
   "source": [
    "Лучше отмасштабируем данные."
   ]
  },
  {
   "cell_type": "markdown",
   "metadata": {},
   "source": [
    "### Регион 1"
   ]
  },
  {
   "cell_type": "code",
   "execution_count": 81,
   "metadata": {},
   "outputs": [],
   "source": [
    "df1 = pd.read_csv('/datasets/geo_data_1.csv')"
   ]
  },
  {
   "cell_type": "markdown",
   "metadata": {},
   "source": [
    "Посмотрим на первые 10 строк датафрейма"
   ]
  },
  {
   "cell_type": "code",
   "execution_count": 82,
   "metadata": {},
   "outputs": [
    {
     "data": {
      "text/html": [
       "<div>\n",
       "<style scoped>\n",
       "    .dataframe tbody tr th:only-of-type {\n",
       "        vertical-align: middle;\n",
       "    }\n",
       "\n",
       "    .dataframe tbody tr th {\n",
       "        vertical-align: top;\n",
       "    }\n",
       "\n",
       "    .dataframe thead th {\n",
       "        text-align: right;\n",
       "    }\n",
       "</style>\n",
       "<table border=\"1\" class=\"dataframe\">\n",
       "  <thead>\n",
       "    <tr style=\"text-align: right;\">\n",
       "      <th></th>\n",
       "      <th>id</th>\n",
       "      <th>f0</th>\n",
       "      <th>f1</th>\n",
       "      <th>f2</th>\n",
       "      <th>product</th>\n",
       "    </tr>\n",
       "  </thead>\n",
       "  <tbody>\n",
       "    <tr>\n",
       "      <th>0</th>\n",
       "      <td>kBEdx</td>\n",
       "      <td>-15.001348</td>\n",
       "      <td>-8.276000</td>\n",
       "      <td>-0.005876</td>\n",
       "      <td>3.179103</td>\n",
       "    </tr>\n",
       "    <tr>\n",
       "      <th>1</th>\n",
       "      <td>62mP7</td>\n",
       "      <td>14.272088</td>\n",
       "      <td>-3.475083</td>\n",
       "      <td>0.999183</td>\n",
       "      <td>26.953261</td>\n",
       "    </tr>\n",
       "    <tr>\n",
       "      <th>2</th>\n",
       "      <td>vyE1P</td>\n",
       "      <td>6.263187</td>\n",
       "      <td>-5.948386</td>\n",
       "      <td>5.001160</td>\n",
       "      <td>134.766305</td>\n",
       "    </tr>\n",
       "    <tr>\n",
       "      <th>3</th>\n",
       "      <td>KcrkZ</td>\n",
       "      <td>-13.081196</td>\n",
       "      <td>-11.506057</td>\n",
       "      <td>4.999415</td>\n",
       "      <td>137.945408</td>\n",
       "    </tr>\n",
       "    <tr>\n",
       "      <th>4</th>\n",
       "      <td>AHL4O</td>\n",
       "      <td>12.702195</td>\n",
       "      <td>-8.147433</td>\n",
       "      <td>5.004363</td>\n",
       "      <td>134.766305</td>\n",
       "    </tr>\n",
       "    <tr>\n",
       "      <th>5</th>\n",
       "      <td>HHckp</td>\n",
       "      <td>-3.327590</td>\n",
       "      <td>-2.205276</td>\n",
       "      <td>3.003647</td>\n",
       "      <td>84.038886</td>\n",
       "    </tr>\n",
       "    <tr>\n",
       "      <th>6</th>\n",
       "      <td>h5Ujo</td>\n",
       "      <td>-11.142655</td>\n",
       "      <td>-10.133399</td>\n",
       "      <td>4.002382</td>\n",
       "      <td>110.992147</td>\n",
       "    </tr>\n",
       "    <tr>\n",
       "      <th>7</th>\n",
       "      <td>muH9x</td>\n",
       "      <td>4.234715</td>\n",
       "      <td>-0.001354</td>\n",
       "      <td>2.004588</td>\n",
       "      <td>53.906522</td>\n",
       "    </tr>\n",
       "    <tr>\n",
       "      <th>8</th>\n",
       "      <td>YiRkx</td>\n",
       "      <td>13.355129</td>\n",
       "      <td>-0.332068</td>\n",
       "      <td>4.998647</td>\n",
       "      <td>134.766305</td>\n",
       "    </tr>\n",
       "    <tr>\n",
       "      <th>9</th>\n",
       "      <td>jG6Gi</td>\n",
       "      <td>1.069227</td>\n",
       "      <td>-11.025667</td>\n",
       "      <td>4.997844</td>\n",
       "      <td>137.945408</td>\n",
       "    </tr>\n",
       "  </tbody>\n",
       "</table>\n",
       "</div>"
      ],
      "text/plain": [
       "      id         f0         f1        f2     product\n",
       "0  kBEdx -15.001348  -8.276000 -0.005876    3.179103\n",
       "1  62mP7  14.272088  -3.475083  0.999183   26.953261\n",
       "2  vyE1P   6.263187  -5.948386  5.001160  134.766305\n",
       "3  KcrkZ -13.081196 -11.506057  4.999415  137.945408\n",
       "4  AHL4O  12.702195  -8.147433  5.004363  134.766305\n",
       "5  HHckp  -3.327590  -2.205276  3.003647   84.038886\n",
       "6  h5Ujo -11.142655 -10.133399  4.002382  110.992147\n",
       "7  muH9x   4.234715  -0.001354  2.004588   53.906522\n",
       "8  YiRkx  13.355129  -0.332068  4.998647  134.766305\n",
       "9  jG6Gi   1.069227 -11.025667  4.997844  137.945408"
      ]
     },
     "execution_count": 82,
     "metadata": {},
     "output_type": "execute_result"
    }
   ],
   "source": [
    "df1.head(10)"
   ]
  },
  {
   "cell_type": "markdown",
   "metadata": {},
   "source": [
    "Изучим общую информацию о таблице"
   ]
  },
  {
   "cell_type": "code",
   "execution_count": 83,
   "metadata": {
    "scrolled": true
   },
   "outputs": [
    {
     "name": "stdout",
     "output_type": "stream",
     "text": [
      "<class 'pandas.core.frame.DataFrame'>\n",
      "RangeIndex: 100000 entries, 0 to 99999\n",
      "Data columns (total 5 columns):\n",
      " #   Column   Non-Null Count   Dtype  \n",
      "---  ------   --------------   -----  \n",
      " 0   id       100000 non-null  object \n",
      " 1   f0       100000 non-null  float64\n",
      " 2   f1       100000 non-null  float64\n",
      " 3   f2       100000 non-null  float64\n",
      " 4   product  100000 non-null  float64\n",
      "dtypes: float64(4), object(1)\n",
      "memory usage: 3.8+ MB\n"
     ]
    }
   ],
   "source": [
    "df1.info()"
   ]
  },
  {
   "cell_type": "markdown",
   "metadata": {},
   "source": [
    "И посмотрим подробнее на основные параметры числовых характеристик"
   ]
  },
  {
   "cell_type": "code",
   "execution_count": 84,
   "metadata": {
    "scrolled": true
   },
   "outputs": [
    {
     "data": {
      "text/html": [
       "<div>\n",
       "<style scoped>\n",
       "    .dataframe tbody tr th:only-of-type {\n",
       "        vertical-align: middle;\n",
       "    }\n",
       "\n",
       "    .dataframe tbody tr th {\n",
       "        vertical-align: top;\n",
       "    }\n",
       "\n",
       "    .dataframe thead th {\n",
       "        text-align: right;\n",
       "    }\n",
       "</style>\n",
       "<table border=\"1\" class=\"dataframe\">\n",
       "  <thead>\n",
       "    <tr style=\"text-align: right;\">\n",
       "      <th></th>\n",
       "      <th>f0</th>\n",
       "      <th>f1</th>\n",
       "      <th>f2</th>\n",
       "      <th>product</th>\n",
       "    </tr>\n",
       "  </thead>\n",
       "  <tbody>\n",
       "    <tr>\n",
       "      <th>count</th>\n",
       "      <td>100000.000000</td>\n",
       "      <td>100000.000000</td>\n",
       "      <td>100000.000000</td>\n",
       "      <td>100000.000000</td>\n",
       "    </tr>\n",
       "    <tr>\n",
       "      <th>mean</th>\n",
       "      <td>1.141296</td>\n",
       "      <td>-4.796579</td>\n",
       "      <td>2.494541</td>\n",
       "      <td>68.825000</td>\n",
       "    </tr>\n",
       "    <tr>\n",
       "      <th>std</th>\n",
       "      <td>8.965932</td>\n",
       "      <td>5.119872</td>\n",
       "      <td>1.703572</td>\n",
       "      <td>45.944423</td>\n",
       "    </tr>\n",
       "    <tr>\n",
       "      <th>min</th>\n",
       "      <td>-31.609576</td>\n",
       "      <td>-26.358598</td>\n",
       "      <td>-0.018144</td>\n",
       "      <td>0.000000</td>\n",
       "    </tr>\n",
       "    <tr>\n",
       "      <th>25%</th>\n",
       "      <td>-6.298551</td>\n",
       "      <td>-8.267985</td>\n",
       "      <td>1.000021</td>\n",
       "      <td>26.953261</td>\n",
       "    </tr>\n",
       "    <tr>\n",
       "      <th>50%</th>\n",
       "      <td>1.153055</td>\n",
       "      <td>-4.813172</td>\n",
       "      <td>2.011479</td>\n",
       "      <td>57.085625</td>\n",
       "    </tr>\n",
       "    <tr>\n",
       "      <th>75%</th>\n",
       "      <td>8.621015</td>\n",
       "      <td>-1.332816</td>\n",
       "      <td>3.999904</td>\n",
       "      <td>107.813044</td>\n",
       "    </tr>\n",
       "    <tr>\n",
       "      <th>max</th>\n",
       "      <td>29.421755</td>\n",
       "      <td>18.734063</td>\n",
       "      <td>5.019721</td>\n",
       "      <td>137.945408</td>\n",
       "    </tr>\n",
       "  </tbody>\n",
       "</table>\n",
       "</div>"
      ],
      "text/plain": [
       "                  f0             f1             f2        product\n",
       "count  100000.000000  100000.000000  100000.000000  100000.000000\n",
       "mean        1.141296      -4.796579       2.494541      68.825000\n",
       "std         8.965932       5.119872       1.703572      45.944423\n",
       "min       -31.609576     -26.358598      -0.018144       0.000000\n",
       "25%        -6.298551      -8.267985       1.000021      26.953261\n",
       "50%         1.153055      -4.813172       2.011479      57.085625\n",
       "75%         8.621015      -1.332816       3.999904     107.813044\n",
       "max        29.421755      18.734063       5.019721     137.945408"
      ]
     },
     "execution_count": 84,
     "metadata": {},
     "output_type": "execute_result"
    }
   ],
   "source": [
    "df1.describe()"
   ]
  },
  {
   "cell_type": "markdown",
   "metadata": {},
   "source": [
    "Проверим, что все id встречаются по одному разу"
   ]
  },
  {
   "cell_type": "code",
   "execution_count": 85,
   "metadata": {},
   "outputs": [
    {
     "data": {
      "text/plain": [
       "5ltQ6    2\n",
       "LHZR0    2\n",
       "wt4Uk    2\n",
       "bfPNe    2\n",
       "Vzzru    1\n",
       "        ..\n",
       "I03Is    1\n",
       "vtfuW    1\n",
       "WKLa3    1\n",
       "PmVvB    1\n",
       "hGeVC    1\n",
       "Name: id, Length: 99996, dtype: int64"
      ]
     },
     "execution_count": 85,
     "metadata": {},
     "output_type": "execute_result"
    }
   ],
   "source": [
    "id1_counts = df1['id'].value_counts()\n",
    "id1_counts"
   ]
  },
  {
   "cell_type": "markdown",
   "metadata": {},
   "source": [
    "Странно, что некоторые id встречаются дважды. Посмтрим, что это за данные"
   ]
  },
  {
   "cell_type": "code",
   "execution_count": 86,
   "metadata": {},
   "outputs": [
    {
     "data": {
      "text/plain": [
       "0    5ltQ6\n",
       "1    LHZR0\n",
       "2    bfPNe\n",
       "3    wt4Uk\n",
       "dtype: object"
      ]
     },
     "execution_count": 86,
     "metadata": {},
     "output_type": "execute_result"
    }
   ],
   "source": [
    "df1['id'].mode()"
   ]
  },
  {
   "cell_type": "code",
   "execution_count": 87,
   "metadata": {},
   "outputs": [
    {
     "data": {
      "text/plain": [
       "['5ltQ6', 'LHZR0', 'wt4Uk', 'bfPNe']"
      ]
     },
     "execution_count": 87,
     "metadata": {},
     "output_type": "execute_result"
    }
   ],
   "source": [
    "strange_id1 = list(df1['id'].value_counts().loc[lambda x : x!=1].index)\n",
    "strange_id1"
   ]
  },
  {
   "cell_type": "code",
   "execution_count": 88,
   "metadata": {},
   "outputs": [
    {
     "data": {
      "text/html": [
       "<div>\n",
       "<style scoped>\n",
       "    .dataframe tbody tr th:only-of-type {\n",
       "        vertical-align: middle;\n",
       "    }\n",
       "\n",
       "    .dataframe tbody tr th {\n",
       "        vertical-align: top;\n",
       "    }\n",
       "\n",
       "    .dataframe thead th {\n",
       "        text-align: right;\n",
       "    }\n",
       "</style>\n",
       "<table border=\"1\" class=\"dataframe\">\n",
       "  <thead>\n",
       "    <tr style=\"text-align: right;\">\n",
       "      <th></th>\n",
       "      <th>id</th>\n",
       "      <th>f0</th>\n",
       "      <th>f1</th>\n",
       "      <th>f2</th>\n",
       "      <th>product</th>\n",
       "    </tr>\n",
       "  </thead>\n",
       "  <tbody>\n",
       "    <tr>\n",
       "      <th>1305</th>\n",
       "      <td>LHZR0</td>\n",
       "      <td>11.170835</td>\n",
       "      <td>-1.945066</td>\n",
       "      <td>3.002872</td>\n",
       "      <td>80.859783</td>\n",
       "    </tr>\n",
       "    <tr>\n",
       "      <th>2721</th>\n",
       "      <td>bfPNe</td>\n",
       "      <td>-9.494442</td>\n",
       "      <td>-5.463692</td>\n",
       "      <td>4.006042</td>\n",
       "      <td>110.992147</td>\n",
       "    </tr>\n",
       "    <tr>\n",
       "      <th>5849</th>\n",
       "      <td>5ltQ6</td>\n",
       "      <td>-3.435401</td>\n",
       "      <td>-12.296043</td>\n",
       "      <td>1.999796</td>\n",
       "      <td>57.085625</td>\n",
       "    </tr>\n",
       "    <tr>\n",
       "      <th>41906</th>\n",
       "      <td>LHZR0</td>\n",
       "      <td>-8.989672</td>\n",
       "      <td>-4.286607</td>\n",
       "      <td>2.009139</td>\n",
       "      <td>57.085625</td>\n",
       "    </tr>\n",
       "    <tr>\n",
       "      <th>47591</th>\n",
       "      <td>wt4Uk</td>\n",
       "      <td>-9.091098</td>\n",
       "      <td>-8.109279</td>\n",
       "      <td>-0.002314</td>\n",
       "      <td>3.179103</td>\n",
       "    </tr>\n",
       "    <tr>\n",
       "      <th>82178</th>\n",
       "      <td>bfPNe</td>\n",
       "      <td>-6.202799</td>\n",
       "      <td>-4.820045</td>\n",
       "      <td>2.995107</td>\n",
       "      <td>84.038886</td>\n",
       "    </tr>\n",
       "    <tr>\n",
       "      <th>82873</th>\n",
       "      <td>wt4Uk</td>\n",
       "      <td>10.259972</td>\n",
       "      <td>-9.376355</td>\n",
       "      <td>4.994297</td>\n",
       "      <td>134.766305</td>\n",
       "    </tr>\n",
       "    <tr>\n",
       "      <th>84461</th>\n",
       "      <td>5ltQ6</td>\n",
       "      <td>18.213839</td>\n",
       "      <td>2.191999</td>\n",
       "      <td>3.993869</td>\n",
       "      <td>107.813044</td>\n",
       "    </tr>\n",
       "  </tbody>\n",
       "</table>\n",
       "</div>"
      ],
      "text/plain": [
       "          id         f0         f1        f2     product\n",
       "1305   LHZR0  11.170835  -1.945066  3.002872   80.859783\n",
       "2721   bfPNe  -9.494442  -5.463692  4.006042  110.992147\n",
       "5849   5ltQ6  -3.435401 -12.296043  1.999796   57.085625\n",
       "41906  LHZR0  -8.989672  -4.286607  2.009139   57.085625\n",
       "47591  wt4Uk  -9.091098  -8.109279 -0.002314    3.179103\n",
       "82178  bfPNe  -6.202799  -4.820045  2.995107   84.038886\n",
       "82873  wt4Uk  10.259972  -9.376355  4.994297  134.766305\n",
       "84461  5ltQ6  18.213839   2.191999  3.993869  107.813044"
      ]
     },
     "execution_count": 88,
     "metadata": {},
     "output_type": "execute_result"
    }
   ],
   "source": [
    "df1.loc[df1['id'].isin(strange_id1)]"
   ]
  },
  {
   "cell_type": "markdown",
   "metadata": {},
   "source": [
    "Для одинаковых id разные значения. Это странно. Лучше удалим эти строки, поскольку они занимают не так много места."
   ]
  },
  {
   "cell_type": "code",
   "execution_count": 89,
   "metadata": {},
   "outputs": [],
   "source": [
    "df1 = df1.loc[~df1['id'].isin(strange_id1)]"
   ]
  },
  {
   "cell_type": "markdown",
   "metadata": {},
   "source": [
    "В данном случае, поскольку модель учится на числовых признаках, столбец id можно убрать."
   ]
  },
  {
   "cell_type": "code",
   "execution_count": 90,
   "metadata": {},
   "outputs": [],
   "source": [
    "df1 = df1.drop('id', axis=1)"
   ]
  },
  {
   "cell_type": "code",
   "execution_count": 91,
   "metadata": {},
   "outputs": [
    {
     "data": {
      "text/html": [
       "<div>\n",
       "<style scoped>\n",
       "    .dataframe tbody tr th:only-of-type {\n",
       "        vertical-align: middle;\n",
       "    }\n",
       "\n",
       "    .dataframe tbody tr th {\n",
       "        vertical-align: top;\n",
       "    }\n",
       "\n",
       "    .dataframe thead th {\n",
       "        text-align: right;\n",
       "    }\n",
       "</style>\n",
       "<table border=\"1\" class=\"dataframe\">\n",
       "  <thead>\n",
       "    <tr style=\"text-align: right;\">\n",
       "      <th></th>\n",
       "      <th>f0</th>\n",
       "      <th>f1</th>\n",
       "      <th>f2</th>\n",
       "      <th>product</th>\n",
       "    </tr>\n",
       "  </thead>\n",
       "  <tbody>\n",
       "    <tr>\n",
       "      <th>0</th>\n",
       "      <td>-15.001348</td>\n",
       "      <td>-8.276000</td>\n",
       "      <td>-0.005876</td>\n",
       "      <td>3.179103</td>\n",
       "    </tr>\n",
       "    <tr>\n",
       "      <th>1</th>\n",
       "      <td>14.272088</td>\n",
       "      <td>-3.475083</td>\n",
       "      <td>0.999183</td>\n",
       "      <td>26.953261</td>\n",
       "    </tr>\n",
       "    <tr>\n",
       "      <th>2</th>\n",
       "      <td>6.263187</td>\n",
       "      <td>-5.948386</td>\n",
       "      <td>5.001160</td>\n",
       "      <td>134.766305</td>\n",
       "    </tr>\n",
       "    <tr>\n",
       "      <th>3</th>\n",
       "      <td>-13.081196</td>\n",
       "      <td>-11.506057</td>\n",
       "      <td>4.999415</td>\n",
       "      <td>137.945408</td>\n",
       "    </tr>\n",
       "    <tr>\n",
       "      <th>4</th>\n",
       "      <td>12.702195</td>\n",
       "      <td>-8.147433</td>\n",
       "      <td>5.004363</td>\n",
       "      <td>134.766305</td>\n",
       "    </tr>\n",
       "    <tr>\n",
       "      <th>...</th>\n",
       "      <td>...</td>\n",
       "      <td>...</td>\n",
       "      <td>...</td>\n",
       "      <td>...</td>\n",
       "    </tr>\n",
       "    <tr>\n",
       "      <th>99995</th>\n",
       "      <td>9.535637</td>\n",
       "      <td>-6.878139</td>\n",
       "      <td>1.998296</td>\n",
       "      <td>53.906522</td>\n",
       "    </tr>\n",
       "    <tr>\n",
       "      <th>99996</th>\n",
       "      <td>-10.160631</td>\n",
       "      <td>-12.558096</td>\n",
       "      <td>5.005581</td>\n",
       "      <td>137.945408</td>\n",
       "    </tr>\n",
       "    <tr>\n",
       "      <th>99997</th>\n",
       "      <td>-7.378891</td>\n",
       "      <td>-3.084104</td>\n",
       "      <td>4.998651</td>\n",
       "      <td>137.945408</td>\n",
       "    </tr>\n",
       "    <tr>\n",
       "      <th>99998</th>\n",
       "      <td>0.665714</td>\n",
       "      <td>-6.152593</td>\n",
       "      <td>1.000146</td>\n",
       "      <td>30.132364</td>\n",
       "    </tr>\n",
       "    <tr>\n",
       "      <th>99999</th>\n",
       "      <td>-3.426139</td>\n",
       "      <td>-7.794274</td>\n",
       "      <td>-0.003299</td>\n",
       "      <td>3.179103</td>\n",
       "    </tr>\n",
       "  </tbody>\n",
       "</table>\n",
       "<p>99992 rows × 4 columns</p>\n",
       "</div>"
      ],
      "text/plain": [
       "              f0         f1        f2     product\n",
       "0     -15.001348  -8.276000 -0.005876    3.179103\n",
       "1      14.272088  -3.475083  0.999183   26.953261\n",
       "2       6.263187  -5.948386  5.001160  134.766305\n",
       "3     -13.081196 -11.506057  4.999415  137.945408\n",
       "4      12.702195  -8.147433  5.004363  134.766305\n",
       "...          ...        ...       ...         ...\n",
       "99995   9.535637  -6.878139  1.998296   53.906522\n",
       "99996 -10.160631 -12.558096  5.005581  137.945408\n",
       "99997  -7.378891  -3.084104  4.998651  137.945408\n",
       "99998   0.665714  -6.152593  1.000146   30.132364\n",
       "99999  -3.426139  -7.794274 -0.003299    3.179103\n",
       "\n",
       "[99992 rows x 4 columns]"
      ]
     },
     "execution_count": 91,
     "metadata": {},
     "output_type": "execute_result"
    }
   ],
   "source": [
    "df1"
   ]
  },
  {
   "cell_type": "markdown",
   "metadata": {},
   "source": [
    "Вернёмся к числовым признакам. Посмотрим на зависимость между величинами, чтобы понять, не нужно ли исключать какой-либо параметр"
   ]
  },
  {
   "cell_type": "code",
   "execution_count": 92,
   "metadata": {},
   "outputs": [
    {
     "data": {
      "text/html": [
       "<div>\n",
       "<style scoped>\n",
       "    .dataframe tbody tr th:only-of-type {\n",
       "        vertical-align: middle;\n",
       "    }\n",
       "\n",
       "    .dataframe tbody tr th {\n",
       "        vertical-align: top;\n",
       "    }\n",
       "\n",
       "    .dataframe thead th {\n",
       "        text-align: right;\n",
       "    }\n",
       "</style>\n",
       "<table border=\"1\" class=\"dataframe\">\n",
       "  <thead>\n",
       "    <tr style=\"text-align: right;\">\n",
       "      <th></th>\n",
       "      <th>f0</th>\n",
       "      <th>f1</th>\n",
       "      <th>f2</th>\n",
       "      <th>product</th>\n",
       "    </tr>\n",
       "  </thead>\n",
       "  <tbody>\n",
       "    <tr>\n",
       "      <th>f0</th>\n",
       "      <td>1.000000</td>\n",
       "      <td>0.182263</td>\n",
       "      <td>-0.001821</td>\n",
       "      <td>-0.030534</td>\n",
       "    </tr>\n",
       "    <tr>\n",
       "      <th>f1</th>\n",
       "      <td>0.182263</td>\n",
       "      <td>1.000000</td>\n",
       "      <td>-0.002608</td>\n",
       "      <td>-0.010167</td>\n",
       "    </tr>\n",
       "    <tr>\n",
       "      <th>f2</th>\n",
       "      <td>-0.001821</td>\n",
       "      <td>-0.002608</td>\n",
       "      <td>1.000000</td>\n",
       "      <td>0.999397</td>\n",
       "    </tr>\n",
       "    <tr>\n",
       "      <th>product</th>\n",
       "      <td>-0.030534</td>\n",
       "      <td>-0.010167</td>\n",
       "      <td>0.999397</td>\n",
       "      <td>1.000000</td>\n",
       "    </tr>\n",
       "  </tbody>\n",
       "</table>\n",
       "</div>"
      ],
      "text/plain": [
       "               f0        f1        f2   product\n",
       "f0       1.000000  0.182263 -0.001821 -0.030534\n",
       "f1       0.182263  1.000000 -0.002608 -0.010167\n",
       "f2      -0.001821 -0.002608  1.000000  0.999397\n",
       "product -0.030534 -0.010167  0.999397  1.000000"
      ]
     },
     "execution_count": 92,
     "metadata": {},
     "output_type": "execute_result"
    }
   ],
   "source": [
    "df1.corr()"
   ]
  },
  {
   "cell_type": "markdown",
   "metadata": {},
   "source": [
    "Корреляции между f0, f1 и f0 не сильные. Оставляем все три параметра. Но отметим сильную зависимость целевого признака product от f2. В данном случае наблюдается положительная корреляция."
   ]
  },
  {
   "cell_type": "markdown",
   "metadata": {},
   "source": [
    "Посмотрим на разброс значений по признакам, чтобы понять, нужно ли масштабировать данные"
   ]
  },
  {
   "cell_type": "code",
   "execution_count": 93,
   "metadata": {},
   "outputs": [
    {
     "data": {
      "text/plain": [
       "<AxesSubplot:title={'center':'Распределение значений признаков'}, xlabel='Признак', ylabel='Разброс значений'>"
      ]
     },
     "execution_count": 93,
     "metadata": {},
     "output_type": "execute_result"
    },
    {
     "data": {
      "image/png": "[encoded data removed]",
      "text/plain": [
       "<Figure size 1152x576 with 1 Axes>"
      ]
     },
     "metadata": {
      "needs_background": "light"
     },
     "output_type": "display_data"
    }
   ],
   "source": [
    "# построение боксплота для признаков f0, f1, f2\n",
    "df_plot = df1.drop('product', axis=1)\n",
    "\n",
    "fig, ax = plt.subplots(1)\n",
    "ax.set_title('Распределение значений признаков')\n",
    "ax.set_xlabel('Признак')\n",
    "ax.set_ylabel('Разброс значений')\n",
    "df_plot.plot(kind='box', figsize=(16,8), ax=ax)"
   ]
  },
  {
   "cell_type": "markdown",
   "metadata": {},
   "source": [
    "Лучше отмасштабируем данные."
   ]
  },
  {
   "cell_type": "markdown",
   "metadata": {},
   "source": [
    "### Регион 2"
   ]
  },
  {
   "cell_type": "code",
   "execution_count": 94,
   "metadata": {},
   "outputs": [],
   "source": [
    "df2 = pd.read_csv('/datasets/geo_data_2.csv')"
   ]
  },
  {
   "cell_type": "markdown",
   "metadata": {},
   "source": [
    "Посмотрим на первые 10 строк датафрейма"
   ]
  },
  {
   "cell_type": "code",
   "execution_count": 95,
   "metadata": {},
   "outputs": [
    {
     "data": {
      "text/html": [
       "<div>\n",
       "<style scoped>\n",
       "    .dataframe tbody tr th:only-of-type {\n",
       "        vertical-align: middle;\n",
       "    }\n",
       "\n",
       "    .dataframe tbody tr th {\n",
       "        vertical-align: top;\n",
       "    }\n",
       "\n",
       "    .dataframe thead th {\n",
       "        text-align: right;\n",
       "    }\n",
       "</style>\n",
       "<table border=\"1\" class=\"dataframe\">\n",
       "  <thead>\n",
       "    <tr style=\"text-align: right;\">\n",
       "      <th></th>\n",
       "      <th>id</th>\n",
       "      <th>f0</th>\n",
       "      <th>f1</th>\n",
       "      <th>f2</th>\n",
       "      <th>product</th>\n",
       "    </tr>\n",
       "  </thead>\n",
       "  <tbody>\n",
       "    <tr>\n",
       "      <th>0</th>\n",
       "      <td>fwXo0</td>\n",
       "      <td>-1.146987</td>\n",
       "      <td>0.963328</td>\n",
       "      <td>-0.828965</td>\n",
       "      <td>27.758673</td>\n",
       "    </tr>\n",
       "    <tr>\n",
       "      <th>1</th>\n",
       "      <td>WJtFt</td>\n",
       "      <td>0.262778</td>\n",
       "      <td>0.269839</td>\n",
       "      <td>-2.530187</td>\n",
       "      <td>56.069697</td>\n",
       "    </tr>\n",
       "    <tr>\n",
       "      <th>2</th>\n",
       "      <td>ovLUW</td>\n",
       "      <td>0.194587</td>\n",
       "      <td>0.289035</td>\n",
       "      <td>-5.586433</td>\n",
       "      <td>62.871910</td>\n",
       "    </tr>\n",
       "    <tr>\n",
       "      <th>3</th>\n",
       "      <td>q6cA6</td>\n",
       "      <td>2.236060</td>\n",
       "      <td>-0.553760</td>\n",
       "      <td>0.930038</td>\n",
       "      <td>114.572842</td>\n",
       "    </tr>\n",
       "    <tr>\n",
       "      <th>4</th>\n",
       "      <td>WPMUX</td>\n",
       "      <td>-0.515993</td>\n",
       "      <td>1.716266</td>\n",
       "      <td>5.899011</td>\n",
       "      <td>149.600746</td>\n",
       "    </tr>\n",
       "    <tr>\n",
       "      <th>5</th>\n",
       "      <td>LzZXx</td>\n",
       "      <td>-0.758092</td>\n",
       "      <td>0.710691</td>\n",
       "      <td>2.585887</td>\n",
       "      <td>90.222465</td>\n",
       "    </tr>\n",
       "    <tr>\n",
       "      <th>6</th>\n",
       "      <td>WBHRv</td>\n",
       "      <td>-0.574891</td>\n",
       "      <td>0.317727</td>\n",
       "      <td>1.773745</td>\n",
       "      <td>45.641478</td>\n",
       "    </tr>\n",
       "    <tr>\n",
       "      <th>7</th>\n",
       "      <td>XO8fn</td>\n",
       "      <td>-1.906649</td>\n",
       "      <td>-2.458350</td>\n",
       "      <td>-0.177097</td>\n",
       "      <td>72.480640</td>\n",
       "    </tr>\n",
       "    <tr>\n",
       "      <th>8</th>\n",
       "      <td>ybmQ5</td>\n",
       "      <td>1.776292</td>\n",
       "      <td>-0.279356</td>\n",
       "      <td>3.004156</td>\n",
       "      <td>106.616832</td>\n",
       "    </tr>\n",
       "    <tr>\n",
       "      <th>9</th>\n",
       "      <td>OilcN</td>\n",
       "      <td>-1.214452</td>\n",
       "      <td>-0.439314</td>\n",
       "      <td>5.922514</td>\n",
       "      <td>52.954532</td>\n",
       "    </tr>\n",
       "  </tbody>\n",
       "</table>\n",
       "</div>"
      ],
      "text/plain": [
       "      id        f0        f1        f2     product\n",
       "0  fwXo0 -1.146987  0.963328 -0.828965   27.758673\n",
       "1  WJtFt  0.262778  0.269839 -2.530187   56.069697\n",
       "2  ovLUW  0.194587  0.289035 -5.586433   62.871910\n",
       "3  q6cA6  2.236060 -0.553760  0.930038  114.572842\n",
       "4  WPMUX -0.515993  1.716266  5.899011  149.600746\n",
       "5  LzZXx -0.758092  0.710691  2.585887   90.222465\n",
       "6  WBHRv -0.574891  0.317727  1.773745   45.641478\n",
       "7  XO8fn -1.906649 -2.458350 -0.177097   72.480640\n",
       "8  ybmQ5  1.776292 -0.279356  3.004156  106.616832\n",
       "9  OilcN -1.214452 -0.439314  5.922514   52.954532"
      ]
     },
     "execution_count": 95,
     "metadata": {},
     "output_type": "execute_result"
    }
   ],
   "source": [
    "df2.head(10)"
   ]
  },
  {
   "cell_type": "markdown",
   "metadata": {},
   "source": [
    "Изучим общую информацию о таблице"
   ]
  },
  {
   "cell_type": "code",
   "execution_count": 96,
   "metadata": {
    "scrolled": true
   },
   "outputs": [
    {
     "name": "stdout",
     "output_type": "stream",
     "text": [
      "<class 'pandas.core.frame.DataFrame'>\n",
      "RangeIndex: 100000 entries, 0 to 99999\n",
      "Data columns (total 5 columns):\n",
      " #   Column   Non-Null Count   Dtype  \n",
      "---  ------   --------------   -----  \n",
      " 0   id       100000 non-null  object \n",
      " 1   f0       100000 non-null  float64\n",
      " 2   f1       100000 non-null  float64\n",
      " 3   f2       100000 non-null  float64\n",
      " 4   product  100000 non-null  float64\n",
      "dtypes: float64(4), object(1)\n",
      "memory usage: 3.8+ MB\n"
     ]
    }
   ],
   "source": [
    "df2.info()"
   ]
  },
  {
   "cell_type": "markdown",
   "metadata": {},
   "source": [
    "И посмотрим подробнее на основные параметры числовых характеристик"
   ]
  },
  {
   "cell_type": "code",
   "execution_count": 97,
   "metadata": {
    "scrolled": true
   },
   "outputs": [
    {
     "data": {
      "text/html": [
       "<div>\n",
       "<style scoped>\n",
       "    .dataframe tbody tr th:only-of-type {\n",
       "        vertical-align: middle;\n",
       "    }\n",
       "\n",
       "    .dataframe tbody tr th {\n",
       "        vertical-align: top;\n",
       "    }\n",
       "\n",
       "    .dataframe thead th {\n",
       "        text-align: right;\n",
       "    }\n",
       "</style>\n",
       "<table border=\"1\" class=\"dataframe\">\n",
       "  <thead>\n",
       "    <tr style=\"text-align: right;\">\n",
       "      <th></th>\n",
       "      <th>f0</th>\n",
       "      <th>f1</th>\n",
       "      <th>f2</th>\n",
       "      <th>product</th>\n",
       "    </tr>\n",
       "  </thead>\n",
       "  <tbody>\n",
       "    <tr>\n",
       "      <th>count</th>\n",
       "      <td>100000.000000</td>\n",
       "      <td>100000.000000</td>\n",
       "      <td>100000.000000</td>\n",
       "      <td>100000.000000</td>\n",
       "    </tr>\n",
       "    <tr>\n",
       "      <th>mean</th>\n",
       "      <td>0.002023</td>\n",
       "      <td>-0.002081</td>\n",
       "      <td>2.495128</td>\n",
       "      <td>95.000000</td>\n",
       "    </tr>\n",
       "    <tr>\n",
       "      <th>std</th>\n",
       "      <td>1.732045</td>\n",
       "      <td>1.730417</td>\n",
       "      <td>3.473445</td>\n",
       "      <td>44.749921</td>\n",
       "    </tr>\n",
       "    <tr>\n",
       "      <th>min</th>\n",
       "      <td>-8.760004</td>\n",
       "      <td>-7.084020</td>\n",
       "      <td>-11.970335</td>\n",
       "      <td>0.000000</td>\n",
       "    </tr>\n",
       "    <tr>\n",
       "      <th>25%</th>\n",
       "      <td>-1.162288</td>\n",
       "      <td>-1.174820</td>\n",
       "      <td>0.130359</td>\n",
       "      <td>59.450441</td>\n",
       "    </tr>\n",
       "    <tr>\n",
       "      <th>50%</th>\n",
       "      <td>0.009424</td>\n",
       "      <td>-0.009482</td>\n",
       "      <td>2.484236</td>\n",
       "      <td>94.925613</td>\n",
       "    </tr>\n",
       "    <tr>\n",
       "      <th>75%</th>\n",
       "      <td>1.158535</td>\n",
       "      <td>1.163678</td>\n",
       "      <td>4.858794</td>\n",
       "      <td>130.595027</td>\n",
       "    </tr>\n",
       "    <tr>\n",
       "      <th>max</th>\n",
       "      <td>7.238262</td>\n",
       "      <td>7.844801</td>\n",
       "      <td>16.739402</td>\n",
       "      <td>190.029838</td>\n",
       "    </tr>\n",
       "  </tbody>\n",
       "</table>\n",
       "</div>"
      ],
      "text/plain": [
       "                  f0             f1             f2        product\n",
       "count  100000.000000  100000.000000  100000.000000  100000.000000\n",
       "mean        0.002023      -0.002081       2.495128      95.000000\n",
       "std         1.732045       1.730417       3.473445      44.749921\n",
       "min        -8.760004      -7.084020     -11.970335       0.000000\n",
       "25%        -1.162288      -1.174820       0.130359      59.450441\n",
       "50%         0.009424      -0.009482       2.484236      94.925613\n",
       "75%         1.158535       1.163678       4.858794     130.595027\n",
       "max         7.238262       7.844801      16.739402     190.029838"
      ]
     },
     "execution_count": 97,
     "metadata": {},
     "output_type": "execute_result"
    }
   ],
   "source": [
    "df2.describe()"
   ]
  },
  {
   "cell_type": "markdown",
   "metadata": {},
   "source": [
    "Проверим, что все id встречаются по одному разу"
   ]
  },
  {
   "cell_type": "code",
   "execution_count": 98,
   "metadata": {},
   "outputs": [
    {
     "data": {
      "text/plain": [
       "VF7Jo    2\n",
       "Vcm5J    2\n",
       "xCHr8    2\n",
       "KUPhW    2\n",
       "BKgHH    1\n",
       "        ..\n",
       "vpF9g    1\n",
       "5qafD    1\n",
       "zgwIJ    1\n",
       "tnIOc    1\n",
       "rhWN2    1\n",
       "Name: id, Length: 99996, dtype: int64"
      ]
     },
     "execution_count": 98,
     "metadata": {},
     "output_type": "execute_result"
    }
   ],
   "source": [
    "id2_counts = df2['id'].value_counts()\n",
    "id2_counts"
   ]
  },
  {
   "cell_type": "markdown",
   "metadata": {},
   "source": [
    "Странно, что некоторые id встречаются дважды. Посмотрим, что это за данные"
   ]
  },
  {
   "cell_type": "code",
   "execution_count": 99,
   "metadata": {},
   "outputs": [
    {
     "data": {
      "text/plain": [
       "0    KUPhW\n",
       "1    VF7Jo\n",
       "2    Vcm5J\n",
       "3    xCHr8\n",
       "dtype: object"
      ]
     },
     "execution_count": 99,
     "metadata": {},
     "output_type": "execute_result"
    }
   ],
   "source": [
    "df2['id'].mode()"
   ]
  },
  {
   "cell_type": "code",
   "execution_count": 100,
   "metadata": {},
   "outputs": [
    {
     "data": {
      "text/plain": [
       "['VF7Jo', 'Vcm5J', 'xCHr8', 'KUPhW']"
      ]
     },
     "execution_count": 100,
     "metadata": {},
     "output_type": "execute_result"
    }
   ],
   "source": [
    "strange_id2 = list(df2['id'].value_counts().loc[lambda x : x!=1].index)\n",
    "strange_id2"
   ]
  },
  {
   "cell_type": "code",
   "execution_count": 101,
   "metadata": {},
   "outputs": [
    {
     "data": {
      "text/html": [
       "<div>\n",
       "<style scoped>\n",
       "    .dataframe tbody tr th:only-of-type {\n",
       "        vertical-align: middle;\n",
       "    }\n",
       "\n",
       "    .dataframe tbody tr th {\n",
       "        vertical-align: top;\n",
       "    }\n",
       "\n",
       "    .dataframe thead th {\n",
       "        text-align: right;\n",
       "    }\n",
       "</style>\n",
       "<table border=\"1\" class=\"dataframe\">\n",
       "  <thead>\n",
       "    <tr style=\"text-align: right;\">\n",
       "      <th></th>\n",
       "      <th>id</th>\n",
       "      <th>f0</th>\n",
       "      <th>f1</th>\n",
       "      <th>f2</th>\n",
       "      <th>product</th>\n",
       "    </tr>\n",
       "  </thead>\n",
       "  <tbody>\n",
       "    <tr>\n",
       "      <th>11449</th>\n",
       "      <td>VF7Jo</td>\n",
       "      <td>2.122656</td>\n",
       "      <td>-0.858275</td>\n",
       "      <td>5.746001</td>\n",
       "      <td>181.716817</td>\n",
       "    </tr>\n",
       "    <tr>\n",
       "      <th>28039</th>\n",
       "      <td>xCHr8</td>\n",
       "      <td>1.633027</td>\n",
       "      <td>0.368135</td>\n",
       "      <td>-2.378367</td>\n",
       "      <td>6.120525</td>\n",
       "    </tr>\n",
       "    <tr>\n",
       "      <th>43233</th>\n",
       "      <td>xCHr8</td>\n",
       "      <td>-0.847066</td>\n",
       "      <td>2.101796</td>\n",
       "      <td>5.597130</td>\n",
       "      <td>184.388641</td>\n",
       "    </tr>\n",
       "    <tr>\n",
       "      <th>44378</th>\n",
       "      <td>Vcm5J</td>\n",
       "      <td>-1.229484</td>\n",
       "      <td>-2.439204</td>\n",
       "      <td>1.222909</td>\n",
       "      <td>137.968290</td>\n",
       "    </tr>\n",
       "    <tr>\n",
       "      <th>45404</th>\n",
       "      <td>KUPhW</td>\n",
       "      <td>0.231846</td>\n",
       "      <td>-1.698941</td>\n",
       "      <td>4.990775</td>\n",
       "      <td>11.716299</td>\n",
       "    </tr>\n",
       "    <tr>\n",
       "      <th>49564</th>\n",
       "      <td>VF7Jo</td>\n",
       "      <td>-0.883115</td>\n",
       "      <td>0.560537</td>\n",
       "      <td>0.723601</td>\n",
       "      <td>136.233420</td>\n",
       "    </tr>\n",
       "    <tr>\n",
       "      <th>55967</th>\n",
       "      <td>KUPhW</td>\n",
       "      <td>1.211150</td>\n",
       "      <td>3.176408</td>\n",
       "      <td>5.543540</td>\n",
       "      <td>132.831802</td>\n",
       "    </tr>\n",
       "    <tr>\n",
       "      <th>95090</th>\n",
       "      <td>Vcm5J</td>\n",
       "      <td>2.587702</td>\n",
       "      <td>1.986875</td>\n",
       "      <td>2.482245</td>\n",
       "      <td>92.327572</td>\n",
       "    </tr>\n",
       "  </tbody>\n",
       "</table>\n",
       "</div>"
      ],
      "text/plain": [
       "          id        f0        f1        f2     product\n",
       "11449  VF7Jo  2.122656 -0.858275  5.746001  181.716817\n",
       "28039  xCHr8  1.633027  0.368135 -2.378367    6.120525\n",
       "43233  xCHr8 -0.847066  2.101796  5.597130  184.388641\n",
       "44378  Vcm5J -1.229484 -2.439204  1.222909  137.968290\n",
       "45404  KUPhW  0.231846 -1.698941  4.990775   11.716299\n",
       "49564  VF7Jo -0.883115  0.560537  0.723601  136.233420\n",
       "55967  KUPhW  1.211150  3.176408  5.543540  132.831802\n",
       "95090  Vcm5J  2.587702  1.986875  2.482245   92.327572"
      ]
     },
     "execution_count": 101,
     "metadata": {},
     "output_type": "execute_result"
    }
   ],
   "source": [
    "df2.loc[df2['id'].isin(strange_id2)]"
   ]
  },
  {
   "cell_type": "markdown",
   "metadata": {},
   "source": [
    "Для одинаковых id разные значения. Это странно. Лучше удалим эти строки, поскольку они занимают не так много места."
   ]
  },
  {
   "cell_type": "code",
   "execution_count": 102,
   "metadata": {},
   "outputs": [],
   "source": [
    "df2 = df2.loc[~df2['id'].isin(strange_id2)]"
   ]
  },
  {
   "cell_type": "markdown",
   "metadata": {},
   "source": [
    "В данном случае, поскольку модель учится на числовых признаках, столбец id можно убрать."
   ]
  },
  {
   "cell_type": "code",
   "execution_count": 103,
   "metadata": {},
   "outputs": [],
   "source": [
    "df2 = df2.drop('id', axis=1)"
   ]
  },
  {
   "cell_type": "code",
   "execution_count": 104,
   "metadata": {},
   "outputs": [
    {
     "data": {
      "text/html": [
       "<div>\n",
       "<style scoped>\n",
       "    .dataframe tbody tr th:only-of-type {\n",
       "        vertical-align: middle;\n",
       "    }\n",
       "\n",
       "    .dataframe tbody tr th {\n",
       "        vertical-align: top;\n",
       "    }\n",
       "\n",
       "    .dataframe thead th {\n",
       "        text-align: right;\n",
       "    }\n",
       "</style>\n",
       "<table border=\"1\" class=\"dataframe\">\n",
       "  <thead>\n",
       "    <tr style=\"text-align: right;\">\n",
       "      <th></th>\n",
       "      <th>f0</th>\n",
       "      <th>f1</th>\n",
       "      <th>f2</th>\n",
       "      <th>product</th>\n",
       "    </tr>\n",
       "  </thead>\n",
       "  <tbody>\n",
       "    <tr>\n",
       "      <th>0</th>\n",
       "      <td>-1.146987</td>\n",
       "      <td>0.963328</td>\n",
       "      <td>-0.828965</td>\n",
       "      <td>27.758673</td>\n",
       "    </tr>\n",
       "    <tr>\n",
       "      <th>1</th>\n",
       "      <td>0.262778</td>\n",
       "      <td>0.269839</td>\n",
       "      <td>-2.530187</td>\n",
       "      <td>56.069697</td>\n",
       "    </tr>\n",
       "    <tr>\n",
       "      <th>2</th>\n",
       "      <td>0.194587</td>\n",
       "      <td>0.289035</td>\n",
       "      <td>-5.586433</td>\n",
       "      <td>62.871910</td>\n",
       "    </tr>\n",
       "    <tr>\n",
       "      <th>3</th>\n",
       "      <td>2.236060</td>\n",
       "      <td>-0.553760</td>\n",
       "      <td>0.930038</td>\n",
       "      <td>114.572842</td>\n",
       "    </tr>\n",
       "    <tr>\n",
       "      <th>4</th>\n",
       "      <td>-0.515993</td>\n",
       "      <td>1.716266</td>\n",
       "      <td>5.899011</td>\n",
       "      <td>149.600746</td>\n",
       "    </tr>\n",
       "    <tr>\n",
       "      <th>...</th>\n",
       "      <td>...</td>\n",
       "      <td>...</td>\n",
       "      <td>...</td>\n",
       "      <td>...</td>\n",
       "    </tr>\n",
       "    <tr>\n",
       "      <th>99995</th>\n",
       "      <td>-1.777037</td>\n",
       "      <td>1.125220</td>\n",
       "      <td>6.263374</td>\n",
       "      <td>172.327046</td>\n",
       "    </tr>\n",
       "    <tr>\n",
       "      <th>99996</th>\n",
       "      <td>-1.261523</td>\n",
       "      <td>-0.894828</td>\n",
       "      <td>2.524545</td>\n",
       "      <td>138.748846</td>\n",
       "    </tr>\n",
       "    <tr>\n",
       "      <th>99997</th>\n",
       "      <td>-1.199934</td>\n",
       "      <td>-2.957637</td>\n",
       "      <td>5.219411</td>\n",
       "      <td>157.080080</td>\n",
       "    </tr>\n",
       "    <tr>\n",
       "      <th>99998</th>\n",
       "      <td>-2.419896</td>\n",
       "      <td>2.417221</td>\n",
       "      <td>-5.548444</td>\n",
       "      <td>51.795253</td>\n",
       "    </tr>\n",
       "    <tr>\n",
       "      <th>99999</th>\n",
       "      <td>-2.551421</td>\n",
       "      <td>-2.025625</td>\n",
       "      <td>6.090891</td>\n",
       "      <td>102.775767</td>\n",
       "    </tr>\n",
       "  </tbody>\n",
       "</table>\n",
       "<p>99992 rows × 4 columns</p>\n",
       "</div>"
      ],
      "text/plain": [
       "             f0        f1        f2     product\n",
       "0     -1.146987  0.963328 -0.828965   27.758673\n",
       "1      0.262778  0.269839 -2.530187   56.069697\n",
       "2      0.194587  0.289035 -5.586433   62.871910\n",
       "3      2.236060 -0.553760  0.930038  114.572842\n",
       "4     -0.515993  1.716266  5.899011  149.600746\n",
       "...         ...       ...       ...         ...\n",
       "99995 -1.777037  1.125220  6.263374  172.327046\n",
       "99996 -1.261523 -0.894828  2.524545  138.748846\n",
       "99997 -1.199934 -2.957637  5.219411  157.080080\n",
       "99998 -2.419896  2.417221 -5.548444   51.795253\n",
       "99999 -2.551421 -2.025625  6.090891  102.775767\n",
       "\n",
       "[99992 rows x 4 columns]"
      ]
     },
     "execution_count": 104,
     "metadata": {},
     "output_type": "execute_result"
    }
   ],
   "source": [
    "df2"
   ]
  },
  {
   "cell_type": "markdown",
   "metadata": {},
   "source": [
    "Вернёмся к числовым признакам. Посмотрим на зависимость между величинами, чтобы понять, не нужно ли исключать какой-либо параметр"
   ]
  },
  {
   "cell_type": "code",
   "execution_count": 105,
   "metadata": {},
   "outputs": [
    {
     "data": {
      "text/html": [
       "<div>\n",
       "<style scoped>\n",
       "    .dataframe tbody tr th:only-of-type {\n",
       "        vertical-align: middle;\n",
       "    }\n",
       "\n",
       "    .dataframe tbody tr th {\n",
       "        vertical-align: top;\n",
       "    }\n",
       "\n",
       "    .dataframe thead th {\n",
       "        text-align: right;\n",
       "    }\n",
       "</style>\n",
       "<table border=\"1\" class=\"dataframe\">\n",
       "  <thead>\n",
       "    <tr style=\"text-align: right;\">\n",
       "      <th></th>\n",
       "      <th>f0</th>\n",
       "      <th>f1</th>\n",
       "      <th>f2</th>\n",
       "      <th>product</th>\n",
       "    </tr>\n",
       "  </thead>\n",
       "  <tbody>\n",
       "    <tr>\n",
       "      <th>f0</th>\n",
       "      <td>1.000000</td>\n",
       "      <td>0.000501</td>\n",
       "      <td>-0.000454</td>\n",
       "      <td>-0.001974</td>\n",
       "    </tr>\n",
       "    <tr>\n",
       "      <th>f1</th>\n",
       "      <td>0.000501</td>\n",
       "      <td>1.000000</td>\n",
       "      <td>0.000763</td>\n",
       "      <td>-0.001046</td>\n",
       "    </tr>\n",
       "    <tr>\n",
       "      <th>f2</th>\n",
       "      <td>-0.000454</td>\n",
       "      <td>0.000763</td>\n",
       "      <td>1.000000</td>\n",
       "      <td>0.445873</td>\n",
       "    </tr>\n",
       "    <tr>\n",
       "      <th>product</th>\n",
       "      <td>-0.001974</td>\n",
       "      <td>-0.001046</td>\n",
       "      <td>0.445873</td>\n",
       "      <td>1.000000</td>\n",
       "    </tr>\n",
       "  </tbody>\n",
       "</table>\n",
       "</div>"
      ],
      "text/plain": [
       "               f0        f1        f2   product\n",
       "f0       1.000000  0.000501 -0.000454 -0.001974\n",
       "f1       0.000501  1.000000  0.000763 -0.001046\n",
       "f2      -0.000454  0.000763  1.000000  0.445873\n",
       "product -0.001974 -0.001046  0.445873  1.000000"
      ]
     },
     "execution_count": 105,
     "metadata": {},
     "output_type": "execute_result"
    }
   ],
   "source": [
    "df2.corr()"
   ]
  },
  {
   "cell_type": "markdown",
   "metadata": {},
   "source": [
    "Корреляции между f0, f1 и f0 не сильные. Оставляем все три параметра."
   ]
  },
  {
   "cell_type": "markdown",
   "metadata": {},
   "source": [
    "Посмотрим на разброс значений по признакам, чтобы понять, нужно ли масштабировать данные"
   ]
  },
  {
   "cell_type": "code",
   "execution_count": 106,
   "metadata": {},
   "outputs": [
    {
     "data": {
      "text/plain": [
       "<AxesSubplot:title={'center':'Распределение значений признаков'}, xlabel='Признак', ylabel='Разброс значений'>"
      ]
     },
     "execution_count": 106,
     "metadata": {},
     "output_type": "execute_result"
    },
    {
     "data": {
      "image/png": "[encoded data removed]",
      "text/plain": [
       "<Figure size 1152x576 with 1 Axes>"
      ]
     },
     "metadata": {
      "needs_background": "light"
     },
     "output_type": "display_data"
    }
   ],
   "source": [
    "df2_plot = df2.drop('product', axis=1)\n",
    "\n",
    "fig, ax = plt.subplots(1)\n",
    "ax.set_title('Распределение значений признаков')\n",
    "ax.set_xlabel('Признак')\n",
    "ax.set_ylabel('Разброс значений')\n",
    "df2_plot.plot(kind='box', figsize=(16,8), ax=ax)"
   ]
  },
  {
   "cell_type": "markdown",
   "metadata": {},
   "source": [
    "Лучше отмасштабируем данные на всякий случай"
   ]
  },
  {
   "cell_type": "markdown",
   "metadata": {},
   "source": [
    "<div style=\"border:solid blue 2px; padding: 20px\">\n",
    "\n",
    "**Выводы**\n",
    "    \n",
    "\n",
    "На данном этапе мы \n",
    " * загрузили данные в отдельные переменные для каждого региона\n",
    " * убедились, что в данных нет пропусков и типы данных в столбцах соответствуют реальным значениям в таблицах\n",
    " * удалили из датафреймов те строки, в которых id повторяется\n",
    " * а затем удалили столбец id, поскольку он не понадобится для обучения модели\n",
    " * отметили, что будет полезно отмасштабировать данные\n",
    " * заметили в первом регионе сильную корреляцию между целевым признаком и параметром f2"
   ]
  },
  {
   "cell_type": "markdown",
   "metadata": {},
   "source": [
    "## Обучение и проверка модели"
   ]
  },
  {
   "cell_type": "markdown",
   "metadata": {},
   "source": [
    "Реализуем функцию деления на выборки"
   ]
  },
  {
   "cell_type": "code",
   "execution_count": 107,
   "metadata": {},
   "outputs": [],
   "source": [
    "def split_train_valid(df):\n",
    "    '''\n",
    "    Функция принимает на вход таблицу.\n",
    "    Выделяет в перемеенную target целевой признак, а в переменную features все остальные признаки.\n",
    "    При помощи функции train_test_split делит данные на обучающую и валидационную выборки в соотношении 75:25.\n",
    "    Возвращает 4 переменные - 2 для целевого признака на обеих выборках и 2 для остальных признаков\n",
    "    '''\n",
    "    target = df['product']\n",
    "    features = df.drop('product', axis=1)\n",
    "    \n",
    "    features_train, features_valid, target_train, target_valid = train_test_split(features, target, test_size=0.25, random_state=42)\n",
    "    return features_train, features_valid, target_train, target_valid"
   ]
  },
  {
   "cell_type": "markdown",
   "metadata": {},
   "source": [
    "Применим написанную функцию к нашим данным"
   ]
  },
  {
   "cell_type": "code",
   "execution_count": 108,
   "metadata": {},
   "outputs": [],
   "source": [
    "features_train_0, features_valid_0, target_train_0, target_valid_0 = split_train_valid(df0)\n",
    "features_train_1, features_valid_1, target_train_1, target_valid_1 = split_train_valid(df1)\n",
    "features_train_2, features_valid_2, target_train_2, target_valid_2 = split_train_valid(df2)"
   ]
  },
  {
   "cell_type": "markdown",
   "metadata": {},
   "source": [
    "Реализуем функцию стандартизации данных"
   ]
  },
  {
   "cell_type": "code",
   "execution_count": 109,
   "metadata": {},
   "outputs": [],
   "source": [
    "def scaler_features(features_train, features_valid):\n",
    "    '''\n",
    "    Функция принимает на вход два параметра - признаки на обучающей выборке и признаки на валидационной выборке.\n",
    "    Затем настраивает StandardScaler на обучающих данных\n",
    "    и преобразовывает обучающую и валидационную выборки методом transform\n",
    "    Возвращает функция, соответственно, преобразованные значения\n",
    "    '''\n",
    "    scaler = StandardScaler()\n",
    "    scaler.fit(features_train)\n",
    "    features_train_scaled = scaler.transform(features_train)\n",
    "    features_valid_scaled = scaler.transform(features_valid)\n",
    "    return features_train_scaled, features_valid_scaled"
   ]
  },
  {
   "cell_type": "markdown",
   "metadata": {},
   "source": [
    "Применим эту функцию к нашим данным"
   ]
  },
  {
   "cell_type": "code",
   "execution_count": 110,
   "metadata": {},
   "outputs": [],
   "source": [
    "features_train_0, features_valid_0 = scaler_features(features_train_0, features_valid_0)\n",
    "features_train_1, features_valid_1 = scaler_features(features_train_1, features_valid_1)\n",
    "features_train_2, features_valid_2 = scaler_features(features_train_2, features_valid_2)"
   ]
  },
  {
   "cell_type": "markdown",
   "metadata": {},
   "source": [
    "Реализуем функцию для линейной регрессии"
   ]
  },
  {
   "cell_type": "code",
   "execution_count": 111,
   "metadata": {},
   "outputs": [],
   "source": [
    "def linear_regression(features_train, features_valid, target_train, target_valid):\n",
    "    '''\n",
    "    Функция принимает на вход 4 параметра - признаки для обучающей и валидационной выборки и целевой признак для них же.\n",
    "    Модель линейной регрессии обучается на обучающей выборке \n",
    "    и предсказанные для валидационной выборки значения созраняет в отдельной перенной, которую как раз и возвращает.\n",
    "    Кроме того, функция считает rmse и среднее значение по предсказаниям. И выводит эти данные на экран.\n",
    "    '''\n",
    "    model = LinearRegression()\n",
    "    model.fit(features_train, target_train)\n",
    "    predicted_valid = model.predict(features_valid)\n",
    "    rmse = mean_squared_error(target_valid, predicted_valid) ** 0.5\n",
    "    predicted_mean = predicted_valid.mean()\n",
    "    print('rmse =', rmse)\n",
    "    print('predicted_mean =', predicted_mean)\n",
    "    return predicted_valid"
   ]
  },
  {
   "cell_type": "markdown",
   "metadata": {},
   "source": [
    "Применим эту функцию к данным"
   ]
  },
  {
   "cell_type": "code",
   "execution_count": 112,
   "metadata": {},
   "outputs": [
    {
     "name": "stdout",
     "output_type": "stream",
     "text": [
      "rmse = 37.76114714593895\n",
      "predicted_mean = 92.2865385223536\n"
     ]
    }
   ],
   "source": [
    "predicted_valid_0 = linear_regression(features_train_0, features_valid_0, target_train_0, target_valid_0)"
   ]
  },
  {
   "cell_type": "code",
   "execution_count": 113,
   "metadata": {},
   "outputs": [
    {
     "name": "stdout",
     "output_type": "stream",
     "text": [
      "rmse = 0.892863589877732\n",
      "predicted_mean = 69.16894101447984\n"
     ]
    }
   ],
   "source": [
    "predicted_valid_1 = linear_regression(features_train_1, features_valid_1, target_train_1, target_valid_1)"
   ]
  },
  {
   "cell_type": "code",
   "execution_count": 114,
   "metadata": {},
   "outputs": [
    {
     "name": "stdout",
     "output_type": "stream",
     "text": [
      "rmse = 40.13115560413051\n",
      "predicted_mean = 94.82069136328788\n"
     ]
    }
   ],
   "source": [
    "predicted_valid_2 = linear_regression(features_train_2, features_valid_2, target_train_2, target_valid_2)"
   ]
  },
  {
   "cell_type": "markdown",
   "metadata": {},
   "source": [
    "<div style=\"border:solid blue 2px; padding: 20px\">\n",
    "\n",
    "**Выводы**\n",
    "\n",
    " * Реализованы функции для разбиения данных на выборки, стандартизации данных и подсчёта rmse и среднегго значения для линейной регрессии.\n",
    " * Отчётливо заметна разница между регионом 1 и регионами 0 и 2. Для него ниже среднее предсказанное значение, но и средняя квадратичная ошибка (и, соответсвенно, корень из неё) тоже значительно меньше."
   ]
  },
  {
   "cell_type": "markdown",
   "metadata": {},
   "source": [
    "## Подготовка к расчёту прибыли"
   ]
  },
  {
   "cell_type": "raw",
   "metadata": {},
   "source": [
    "Вынесем все ключевые значения для расчётов в отдельные переменные"
   ]
  },
  {
   "cell_type": "code",
   "execution_count": 115,
   "metadata": {},
   "outputs": [],
   "source": [
    "budget = 10000000000 # бюджет, выделенный на разработку скважен в регионе\n",
    "revenue_per_item_of_product = 450000 # доход с единицы продукта\n",
    "probability_limit_of_losses = 0.025 # порог для вероятности убытков\n",
    "oil_production_points = 500 # количество исследуемых точек\n",
    "best_oil_production_points = 200 # количество точек для разработки"
   ]
  },
  {
   "cell_type": "markdown",
   "metadata": {},
   "source": [
    "Посчитаем, сколько нужно продуктов сырья для безубыточной разработки в регионе"
   ]
  },
  {
   "cell_type": "code",
   "execution_count": 116,
   "metadata": {},
   "outputs": [
    {
     "data": {
      "text/plain": [
       "22222.222222222223"
      ]
     },
     "execution_count": 116,
     "metadata": {},
     "output_type": "execute_result"
    }
   ],
   "source": [
    "# для этого разделим общий бюджет региона на выручку с единицы продукта сырья\n",
    "min_product_region = budget / revenue_per_item_of_product\n",
    "min_product_region"
   ]
  },
  {
   "cell_type": "markdown",
   "metadata": {},
   "source": [
    "Рассчитаем, сколько нужно сырья для окупаемости скважины"
   ]
  },
  {
   "cell_type": "code",
   "execution_count": 117,
   "metadata": {},
   "outputs": [
    {
     "data": {
      "text/plain": [
       "111.11111111111111"
      ]
     },
     "execution_count": 117,
     "metadata": {},
     "output_type": "execute_result"
    }
   ],
   "source": [
    "# для этого прошлый результат разделим на количество точек для разработки\n",
    "min_product_well = min_product_region / best_oil_production_points\n",
    "min_product_well"
   ]
  },
  {
   "cell_type": "markdown",
   "metadata": {},
   "source": [
    "Итак, чтобы проект не был убыточным, нужно как минимум 111 единиц продукта сырья в одной скважене. Полученный объём сырья больше среднего в каждом регионе. "
   ]
  },
  {
   "cell_type": "markdown",
   "metadata": {},
   "source": [
    "Реализуем функцию для расчёта прибыли в 200 наиболее прибыльных скважинах для региона. "
   ]
  },
  {
   "cell_type": "code",
   "execution_count": 118,
   "metadata": {},
   "outputs": [],
   "source": [
    "def revenue(target, probabilities):\n",
    "    '''\n",
    "    Функция получает на вход значения целевого признака и вероятности.\n",
    "    Преобразует эти полученные значения в списки и сортирует вероятности по убыванию.\n",
    "    Затем отбирает наиболее релевантные для неё значения \n",
    "    и возвращает выручку - сумму выбранных значений целевого признака, умноженную на выручку с одной единицы продукта минус размер бюджета\n",
    "    '''\n",
    "    probs_sorted = pd.Series(probabilities).reset_index(drop=True).sort_values(ascending=False)\n",
    "    selected = pd.Series(target).reset_index(drop=True)[probs_sorted.index][:best_oil_production_points]\n",
    "    result = selected.sum() * revenue_per_item_of_product - budget\n",
    "    return result"
   ]
  },
  {
   "cell_type": "markdown",
   "metadata": {},
   "source": [
    "Применим эту функцию для наших данных"
   ]
  },
  {
   "cell_type": "code",
   "execution_count": 119,
   "metadata": {},
   "outputs": [
    {
     "name": "stdout",
     "output_type": "stream",
     "text": [
      "Выручка для региона_0 = 3301821343.6462536\n"
     ]
    }
   ],
   "source": [
    "print(\"Выручка для региона_0 =\", revenue(target_valid_0, predicted_valid_0))"
   ]
  },
  {
   "cell_type": "code",
   "execution_count": 120,
   "metadata": {},
   "outputs": [
    {
     "name": "stdout",
     "output_type": "stream",
     "text": [
      "Выручка для региона_1 = 2415086696.681511\n"
     ]
    }
   ],
   "source": [
    "print(\"Выручка для региона_1 =\", revenue(target_valid_1, predicted_valid_1))"
   ]
  },
  {
   "cell_type": "code",
   "execution_count": 121,
   "metadata": {},
   "outputs": [
    {
     "name": "stdout",
     "output_type": "stream",
     "text": [
      "Выручка для региона_2 = 2103914701.2991962\n"
     ]
    }
   ],
   "source": [
    "print(\"Выручка для региона_2 =\", revenue(target_valid_2, predicted_valid_2))"
   ]
  },
  {
   "cell_type": "markdown",
   "metadata": {},
   "source": [
    "<div style=\"border:solid blue 2px; padding: 20px\">\n",
    "\n",
    "**Промежуточные выводы**\n",
    "\n",
    " * Реализована функция для расчёта прибыли по топ-200 скважинам региона\n",
    " * На данном этапе наиболее прибыльным кажется регион 0 - там выручка более 3 млрд рублей\n",
    " * Чтобы проект не был убыточным, скважины должны приносить более 111 единиц продукта сырья, однако средние значения по регионам не соответсвуют этой цифре"
   ]
  },
  {
   "cell_type": "markdown",
   "metadata": {},
   "source": [
    "## Расчёт прибыли и рисков "
   ]
  },
  {
   "cell_type": "markdown",
   "metadata": {},
   "source": [
    "Посчитаем риски и прибыль для каждого региона:\n",
    " * Применим технику Bootstrap с 1000 выборок, чтобы найти распределение прибыли.\n",
    " * Найдём среднюю прибыль, 95%-й доверительный интервал и риск убытков. Убыток — это отрицательная прибыль."
   ]
  },
  {
   "cell_type": "markdown",
   "metadata": {},
   "source": [
    "Зададим random state"
   ]
  },
  {
   "cell_type": "code",
   "execution_count": 122,
   "metadata": {},
   "outputs": [],
   "source": [
    "state = np.random.RandomState(27)"
   ]
  },
  {
   "cell_type": "markdown",
   "metadata": {},
   "source": [
    "Реализуем функцию для бутстрепа"
   ]
  },
  {
   "cell_type": "code",
   "execution_count": 123,
   "metadata": {},
   "outputs": [],
   "source": [
    "def bootstrap(target, probabilities):\n",
    "    '''\n",
    "    Функция получает на вход значения целевого признака и вероятности.\n",
    "    Создаёт переменную values, куда будет помещён список значений.\n",
    "    Делает 1000 повторений, в ходе которых создаются подвыборки для бутстрепа с помощью фунции sample() с аргументом replace=True,\n",
    "    поскольку один и тот же элемент может попасть в подвыборку несколько раз.\n",
    "    Затем функция заполняет переменную values значениями выручки и после 1000 итераций выходит из цикла.\n",
    "    После преобразует результат в Series и подсчитывает необходимые метрики - 2.5% квантиль, среднюю выручку, доверительный интервал и вероятность убытка\n",
    "    '''\n",
    "    values = []\n",
    "    for i in range(1000):\n",
    "        target_subsample = target.reset_index(drop=True).sample(n=oil_production_points, replace=True, random_state=state)\n",
    "        probs_subsample = probabilities[target_subsample.index]     \n",
    "        values.append(revenue(target_subsample, probs_subsample))\n",
    "    values = pd.Series(values)\n",
    "\n",
    "    lower = values.quantile(probability_limit_of_losses)\n",
    "\n",
    "    mean = values.mean()\n",
    "    \n",
    "    confidence_interval = st.t.interval(alpha=0.95, df=len(values)-1, loc=values.mean(), scale=values.sem()) \n",
    "    risk_of_loss = values[values < 0].count() / values.count()\n",
    "    print(\"Средняя выручка:\", mean)\n",
    "    print(\"2.5%-квантиль:\", lower)\n",
    "    print(\"Доверительный интервал:\", confidence_interval)\n",
    "    print(\"Вероятность убытка:\", risk_of_loss)\n",
    "    "
   ]
  },
  {
   "cell_type": "markdown",
   "metadata": {},
   "source": [
    "Применим новую функцию к нашим данным"
   ]
  },
  {
   "cell_type": "code",
   "execution_count": 124,
   "metadata": {},
   "outputs": [
    {
     "name": "stdout",
     "output_type": "stream",
     "text": [
      "Регион 0:\n",
      "Средняя выручка: 394175905.98505646\n",
      "2.5%-квантиль: -152359522.59835756\n",
      "Доверительный интервал: (378159356.8359966, 410192455.1341163)\n",
      "Вероятность убытка: 0.061\n"
     ]
    }
   ],
   "source": [
    "print(\"Регион 0:\")\n",
    "bootstrap(target_valid_0, predicted_valid_0)"
   ]
  },
  {
   "cell_type": "code",
   "execution_count": 125,
   "metadata": {},
   "outputs": [
    {
     "name": "stdout",
     "output_type": "stream",
     "text": [
      "Регион 1:\n",
      "Средняя выручка: 489379426.9677513\n",
      "2.5%-квантиль: 99520638.15919109\n",
      "Доверительный интервал: (476780380.53699726, 501978473.3985054)\n",
      "Вероятность убытка: 0.01\n"
     ]
    }
   ],
   "source": [
    "print(\"Регион 1:\")\n",
    "bootstrap(target_valid_1, predicted_valid_1)"
   ]
  },
  {
   "cell_type": "code",
   "execution_count": 126,
   "metadata": {},
   "outputs": [
    {
     "name": "stdout",
     "output_type": "stream",
     "text": [
      "Регион 2:\n",
      "Средняя выручка: 357465950.9522644\n",
      "2.5%-квантиль: -175551154.7933464\n",
      "Доверительный интервал: (340943053.52499616, 373988848.3795327)\n",
      "Вероятность убытка: 0.093\n"
     ]
    }
   ],
   "source": [
    "print(\"Регион 2:\")\n",
    "bootstrap(target_valid_2, predicted_valid_2)"
   ]
  },
  {
   "cell_type": "markdown",
   "metadata": {},
   "source": [
    "<div style=\"border:solid blue 2px; padding: 20px\">\n",
    "\n",
    "**Выводы**\n",
    "\n",
    " * Реализована функция для бутстрепа\n",
    " * В результате мы выяснили что\n",
    "     * наибольшую среднюю выручку принесёт регион_1\n",
    "     * кроме того, регион_1 имеет самую низкую вероятность убытков"
   ]
  },
  {
   "cell_type": "markdown",
   "metadata": {},
   "source": [
    "## Общий вывод"
   ]
  },
  {
   "cell_type": "markdown",
   "metadata": {},
   "source": [
    "В ходе работы над проектом были проделаны следующие вещи:\n",
    " * были изучен данные и выброшены из датасета странные значения id. Кроме того, сам столбец id так же был удалён\n",
    " * были стандартизованы признаки\n",
    " * была обучена модель линейной регрессии, показавшая значительную разницу между регионом_1 и регионами 0 и 2\n",
    " * была рассчитана прибыльность для каждого региона\n",
    " * была применена техника бутстрепа\n",
    " * и в результате был сделан вывод о том, что разрабатывать нужно регион_1, поскольку для него и средняя прибыль наибольшая и вероятность риска минимальная"
   ]
  }
 ],
 "metadata": {
  "ExecuteTimeLog": [
   {
    "duration": 361,
    "start_time": "2022-05-02T07:16:41.129Z"
   },
   {
    "duration": 129,
    "start_time": "2022-05-02T07:17:34.815Z"
   },
   {
    "duration": 118,
    "start_time": "2022-05-02T07:17:47.617Z"
   },
   {
    "duration": 18,
    "start_time": "2022-05-02T07:17:55.089Z"
   },
   {
    "duration": 9,
    "start_time": "2022-05-02T07:18:24.349Z"
   },
   {
    "duration": 16,
    "start_time": "2022-05-02T07:18:59.302Z"
   },
   {
    "duration": 38,
    "start_time": "2022-05-02T07:19:17.625Z"
   },
   {
    "duration": 59,
    "start_time": "2022-05-02T07:22:41.583Z"
   },
   {
    "duration": 78,
    "start_time": "2022-05-02T07:25:40.284Z"
   },
   {
    "duration": 5,
    "start_time": "2022-05-02T07:25:59.069Z"
   },
   {
    "duration": 10,
    "start_time": "2022-05-02T07:26:04.157Z"
   },
   {
    "duration": 114,
    "start_time": "2022-05-02T07:43:37.225Z"
   },
   {
    "duration": 9,
    "start_time": "2022-05-02T07:43:49.029Z"
   },
   {
    "duration": 14,
    "start_time": "2022-05-02T07:44:03.315Z"
   },
   {
    "duration": 34,
    "start_time": "2022-05-02T07:46:41.328Z"
   },
   {
    "duration": 4,
    "start_time": "2022-05-02T07:53:42.429Z"
   },
   {
    "duration": 10,
    "start_time": "2022-05-02T07:54:03.657Z"
   },
   {
    "duration": 117,
    "start_time": "2022-05-02T08:00:16.850Z"
   },
   {
    "duration": 9,
    "start_time": "2022-05-02T08:00:26.509Z"
   },
   {
    "duration": 14,
    "start_time": "2022-05-02T08:00:38.229Z"
   },
   {
    "duration": 36,
    "start_time": "2022-05-02T08:00:51.728Z"
   },
   {
    "duration": 6,
    "start_time": "2022-05-02T08:02:09.149Z"
   },
   {
    "duration": 10,
    "start_time": "2022-05-02T08:04:05.570Z"
   },
   {
    "duration": 14,
    "start_time": "2022-05-02T08:09:01.290Z"
   },
   {
    "duration": 14,
    "start_time": "2022-05-02T08:12:12.277Z"
   },
   {
    "duration": 13,
    "start_time": "2022-05-02T08:13:43.942Z"
   },
   {
    "duration": 449,
    "start_time": "2022-05-02T10:47:24.626Z"
   },
   {
    "duration": 146,
    "start_time": "2022-05-02T10:47:33.480Z"
   },
   {
    "duration": 228,
    "start_time": "2022-05-02T10:47:39.467Z"
   },
   {
    "duration": 2503,
    "start_time": "2022-05-02T10:49:35.138Z"
   },
   {
    "duration": 124,
    "start_time": "2022-05-02T10:50:01.247Z"
   },
   {
    "duration": 12,
    "start_time": "2022-05-02T11:06:01.626Z"
   },
   {
    "duration": 2732,
    "start_time": "2022-05-02T11:06:14.306Z"
   },
   {
    "duration": 224,
    "start_time": "2022-05-02T11:08:04.822Z"
   },
   {
    "duration": 191,
    "start_time": "2022-05-02T11:09:45.016Z"
   },
   {
    "duration": 170,
    "start_time": "2022-05-02T11:12:26.129Z"
   },
   {
    "duration": 199,
    "start_time": "2022-05-02T11:12:30.381Z"
   },
   {
    "duration": 232,
    "start_time": "2022-05-02T11:12:39.072Z"
   },
   {
    "duration": 197,
    "start_time": "2022-05-02T11:12:57.182Z"
   },
   {
    "duration": 920,
    "start_time": "2022-05-02T11:15:44.411Z"
   },
   {
    "duration": 36,
    "start_time": "2022-05-02T14:02:49.922Z"
   },
   {
    "duration": 3,
    "start_time": "2022-05-02T14:04:23.592Z"
   },
   {
    "duration": 3,
    "start_time": "2022-05-02T14:31:15.974Z"
   },
   {
    "duration": 1784,
    "start_time": "2022-05-03T15:46:03.673Z"
   },
   {
    "duration": 181,
    "start_time": "2022-05-03T15:46:07.641Z"
   },
   {
    "duration": 19,
    "start_time": "2022-05-03T15:46:09.959Z"
   },
   {
    "duration": 15,
    "start_time": "2022-05-03T15:46:10.675Z"
   },
   {
    "duration": 39,
    "start_time": "2022-05-03T15:46:11.267Z"
   },
   {
    "duration": 113,
    "start_time": "2022-05-03T15:46:12.044Z"
   },
   {
    "duration": 935,
    "start_time": "2022-05-03T15:55:13.874Z"
   },
   {
    "duration": 127,
    "start_time": "2022-05-03T15:55:36.902Z"
   },
   {
    "duration": 8,
    "start_time": "2022-05-03T15:56:38.786Z"
   },
   {
    "duration": 26,
    "start_time": "2022-05-03T15:58:10.970Z"
   },
   {
    "duration": 104,
    "start_time": "2022-05-03T16:00:12.782Z"
   },
   {
    "duration": 30,
    "start_time": "2022-05-03T16:00:18.861Z"
   },
   {
    "duration": 63,
    "start_time": "2022-05-03T16:01:14.387Z"
   },
   {
    "duration": 47,
    "start_time": "2022-05-03T16:04:11.152Z"
   },
   {
    "duration": 47,
    "start_time": "2022-05-03T16:04:38.316Z"
   },
   {
    "duration": 64,
    "start_time": "2022-05-03T16:05:09.768Z"
   },
   {
    "duration": 124,
    "start_time": "2022-05-03T16:06:39.517Z"
   },
   {
    "duration": 43,
    "start_time": "2022-05-03T16:08:20.446Z"
   },
   {
    "duration": 50,
    "start_time": "2022-05-03T16:08:56.111Z"
   },
   {
    "duration": 85,
    "start_time": "2022-05-03T16:13:24.716Z"
   },
   {
    "duration": 73,
    "start_time": "2022-05-03T16:13:48.161Z"
   },
   {
    "duration": 69,
    "start_time": "2022-05-03T16:13:58.080Z"
   },
   {
    "duration": 49,
    "start_time": "2022-05-03T16:14:23.267Z"
   },
   {
    "duration": 10,
    "start_time": "2022-05-03T16:15:23.892Z"
   },
   {
    "duration": 54,
    "start_time": "2022-05-03T16:15:29.827Z"
   },
   {
    "duration": 8,
    "start_time": "2022-05-03T16:15:30.684Z"
   },
   {
    "duration": 3353,
    "start_time": "2022-05-03T16:15:46.019Z"
   },
   {
    "duration": 17,
    "start_time": "2022-05-03T16:15:53.345Z"
   },
   {
    "duration": 16,
    "start_time": "2022-05-03T16:16:18.638Z"
   },
   {
    "duration": 28,
    "start_time": "2022-05-03T16:20:46.128Z"
   },
   {
    "duration": 33,
    "start_time": "2022-05-03T16:23:26.332Z"
   },
   {
    "duration": 30,
    "start_time": "2022-05-03T16:23:39.863Z"
   },
   {
    "duration": 16,
    "start_time": "2022-05-03T16:26:51.661Z"
   },
   {
    "duration": 3759,
    "start_time": "2022-05-03T16:28:25.117Z"
   },
   {
    "duration": 12,
    "start_time": "2022-05-03T16:29:12.605Z"
   },
   {
    "duration": 3,
    "start_time": "2022-05-03T16:29:50.694Z"
   },
   {
    "duration": 7,
    "start_time": "2022-05-03T16:29:59.167Z"
   },
   {
    "duration": 16,
    "start_time": "2022-05-03T16:32:50.000Z"
   },
   {
    "duration": 21,
    "start_time": "2022-05-03T16:32:54.940Z"
   },
   {
    "duration": 55,
    "start_time": "2022-05-03T16:34:05.229Z"
   },
   {
    "duration": 13,
    "start_time": "2022-05-03T16:34:17.882Z"
   },
   {
    "duration": 2,
    "start_time": "2022-05-03T16:34:48.627Z"
   },
   {
    "duration": 800,
    "start_time": "2022-05-03T16:34:48.631Z"
   },
   {
    "duration": 11,
    "start_time": "2022-05-03T16:34:49.433Z"
   },
   {
    "duration": 22,
    "start_time": "2022-05-03T16:34:49.446Z"
   },
   {
    "duration": 64,
    "start_time": "2022-05-03T16:34:49.469Z"
   },
   {
    "duration": 54,
    "start_time": "2022-05-03T16:34:49.534Z"
   },
   {
    "duration": 34,
    "start_time": "2022-05-03T16:34:49.601Z"
   },
   {
    "duration": 82,
    "start_time": "2022-05-03T16:34:49.637Z"
   },
   {
    "duration": 21,
    "start_time": "2022-05-03T16:34:49.722Z"
   },
   {
    "duration": 26,
    "start_time": "2022-05-03T16:34:49.745Z"
   },
   {
    "duration": 5,
    "start_time": "2022-05-03T16:34:49.772Z"
   },
   {
    "duration": 28,
    "start_time": "2022-05-03T16:34:49.800Z"
   },
   {
    "duration": 19,
    "start_time": "2022-05-03T16:34:49.830Z"
   },
   {
    "duration": 212,
    "start_time": "2022-05-03T16:34:49.850Z"
   },
   {
    "duration": 1011,
    "start_time": "2022-05-03T16:34:50.063Z"
   },
   {
    "duration": 9,
    "start_time": "2022-05-03T16:34:51.076Z"
   },
   {
    "duration": 21,
    "start_time": "2022-05-03T16:34:51.086Z"
   },
   {
    "duration": 33,
    "start_time": "2022-05-03T16:34:51.108Z"
   },
   {
    "duration": 96,
    "start_time": "2022-05-03T16:34:51.143Z"
   },
   {
    "duration": 26,
    "start_time": "2022-05-03T16:34:51.241Z"
   },
   {
    "duration": 5264,
    "start_time": "2022-05-03T16:34:51.269Z"
   },
   {
    "duration": 0,
    "start_time": "2022-05-03T16:34:56.536Z"
   },
   {
    "duration": 0,
    "start_time": "2022-05-03T16:34:56.537Z"
   },
   {
    "duration": 0,
    "start_time": "2022-05-03T16:34:56.537Z"
   },
   {
    "duration": 0,
    "start_time": "2022-05-03T16:34:56.538Z"
   },
   {
    "duration": 0,
    "start_time": "2022-05-03T16:34:56.539Z"
   },
   {
    "duration": 0,
    "start_time": "2022-05-03T16:34:56.540Z"
   },
   {
    "duration": 0,
    "start_time": "2022-05-03T16:34:56.541Z"
   },
   {
    "duration": 0,
    "start_time": "2022-05-03T16:34:56.541Z"
   },
   {
    "duration": 0,
    "start_time": "2022-05-03T16:34:56.542Z"
   },
   {
    "duration": 0,
    "start_time": "2022-05-03T16:34:56.544Z"
   },
   {
    "duration": 0,
    "start_time": "2022-05-03T16:34:56.545Z"
   },
   {
    "duration": 0,
    "start_time": "2022-05-03T16:34:56.546Z"
   },
   {
    "duration": 0,
    "start_time": "2022-05-03T16:34:56.547Z"
   },
   {
    "duration": 0,
    "start_time": "2022-05-03T16:34:56.548Z"
   },
   {
    "duration": 0,
    "start_time": "2022-05-03T16:34:56.549Z"
   },
   {
    "duration": 0,
    "start_time": "2022-05-03T16:34:56.550Z"
   },
   {
    "duration": 84,
    "start_time": "2022-05-03T16:35:44.767Z"
   },
   {
    "duration": 21,
    "start_time": "2022-05-03T16:36:06.876Z"
   },
   {
    "duration": 4868,
    "start_time": "2022-05-03T16:36:26.434Z"
   },
   {
    "duration": 14,
    "start_time": "2022-05-03T16:36:37.861Z"
   },
   {
    "duration": 4,
    "start_time": "2022-05-03T16:36:54.456Z"
   },
   {
    "duration": 174,
    "start_time": "2022-05-03T16:36:54.468Z"
   },
   {
    "duration": 12,
    "start_time": "2022-05-03T16:36:54.647Z"
   },
   {
    "duration": 23,
    "start_time": "2022-05-03T16:36:54.661Z"
   },
   {
    "duration": 42,
    "start_time": "2022-05-03T16:36:54.701Z"
   },
   {
    "duration": 120,
    "start_time": "2022-05-03T16:36:54.746Z"
   },
   {
    "duration": 52,
    "start_time": "2022-05-03T16:36:54.868Z"
   },
   {
    "duration": 93,
    "start_time": "2022-05-03T16:36:54.922Z"
   },
   {
    "duration": 23,
    "start_time": "2022-05-03T16:36:55.018Z"
   },
   {
    "duration": 15,
    "start_time": "2022-05-03T16:36:57.151Z"
   },
   {
    "duration": 6,
    "start_time": "2022-05-03T16:36:58.247Z"
   },
   {
    "duration": 10,
    "start_time": "2022-05-03T16:36:58.765Z"
   },
   {
    "duration": 19,
    "start_time": "2022-05-03T16:37:00.050Z"
   },
   {
    "duration": 280,
    "start_time": "2022-05-03T16:37:01.442Z"
   },
   {
    "duration": 170,
    "start_time": "2022-05-03T16:37:04.392Z"
   },
   {
    "duration": 12,
    "start_time": "2022-05-03T16:37:04.923Z"
   },
   {
    "duration": 14,
    "start_time": "2022-05-03T16:37:05.423Z"
   },
   {
    "duration": 41,
    "start_time": "2022-05-03T16:37:05.810Z"
   },
   {
    "duration": 79,
    "start_time": "2022-05-03T16:37:06.135Z"
   },
   {
    "duration": 40,
    "start_time": "2022-05-03T16:37:07.030Z"
   },
   {
    "duration": 81,
    "start_time": "2022-05-03T16:37:07.591Z"
   },
   {
    "duration": 20,
    "start_time": "2022-05-03T16:37:08.537Z"
   },
   {
    "duration": 16,
    "start_time": "2022-05-03T16:37:09.799Z"
   },
   {
    "duration": 7,
    "start_time": "2022-05-03T16:37:16.543Z"
   },
   {
    "duration": 14,
    "start_time": "2022-05-03T16:37:17.557Z"
   },
   {
    "duration": 19,
    "start_time": "2022-05-03T16:37:19.276Z"
   },
   {
    "duration": 295,
    "start_time": "2022-05-03T16:37:24.523Z"
   },
   {
    "duration": 1437,
    "start_time": "2022-05-03T16:37:27.619Z"
   },
   {
    "duration": 13,
    "start_time": "2022-05-03T16:37:29.059Z"
   },
   {
    "duration": 28,
    "start_time": "2022-05-03T16:37:29.074Z"
   },
   {
    "duration": 56,
    "start_time": "2022-05-03T16:37:30.195Z"
   },
   {
    "duration": 7,
    "start_time": "2022-05-03T16:37:31.390Z"
   },
   {
    "duration": 14,
    "start_time": "2022-05-03T16:37:32.167Z"
   },
   {
    "duration": 3,
    "start_time": "2022-05-03T16:37:41.737Z"
   },
   {
    "duration": 131,
    "start_time": "2022-05-03T16:37:41.742Z"
   },
   {
    "duration": 9,
    "start_time": "2022-05-03T16:37:41.875Z"
   },
   {
    "duration": 28,
    "start_time": "2022-05-03T16:37:41.886Z"
   },
   {
    "duration": 33,
    "start_time": "2022-05-03T16:37:41.917Z"
   },
   {
    "duration": 85,
    "start_time": "2022-05-03T16:37:41.951Z"
   },
   {
    "duration": 25,
    "start_time": "2022-05-03T16:37:42.038Z"
   },
   {
    "duration": 76,
    "start_time": "2022-05-03T16:37:42.065Z"
   },
   {
    "duration": 17,
    "start_time": "2022-05-03T16:37:42.142Z"
   },
   {
    "duration": 12,
    "start_time": "2022-05-03T16:37:42.161Z"
   },
   {
    "duration": 10,
    "start_time": "2022-05-03T16:37:42.200Z"
   },
   {
    "duration": 22,
    "start_time": "2022-05-03T16:37:42.212Z"
   },
   {
    "duration": 18,
    "start_time": "2022-05-03T16:37:42.236Z"
   },
   {
    "duration": 247,
    "start_time": "2022-05-03T16:37:42.256Z"
   },
   {
    "duration": 162,
    "start_time": "2022-05-03T16:37:42.505Z"
   },
   {
    "duration": 12,
    "start_time": "2022-05-03T16:37:42.670Z"
   },
   {
    "duration": 34,
    "start_time": "2022-05-03T16:37:42.683Z"
   },
   {
    "duration": 45,
    "start_time": "2022-05-03T16:37:42.719Z"
   },
   {
    "duration": 83,
    "start_time": "2022-05-03T16:37:42.766Z"
   },
   {
    "duration": 38,
    "start_time": "2022-05-03T16:37:42.851Z"
   },
   {
    "duration": 85,
    "start_time": "2022-05-03T16:37:42.891Z"
   },
   {
    "duration": 33,
    "start_time": "2022-05-03T16:37:42.978Z"
   },
   {
    "duration": 29,
    "start_time": "2022-05-03T16:37:43.013Z"
   },
   {
    "duration": 9,
    "start_time": "2022-05-03T16:37:43.044Z"
   },
   {
    "duration": 19,
    "start_time": "2022-05-03T16:37:43.055Z"
   },
   {
    "duration": 27,
    "start_time": "2022-05-03T16:37:43.076Z"
   },
   {
    "duration": 333,
    "start_time": "2022-05-03T16:37:43.105Z"
   },
   {
    "duration": 155,
    "start_time": "2022-05-03T16:37:43.440Z"
   },
   {
    "duration": 12,
    "start_time": "2022-05-03T16:37:43.599Z"
   },
   {
    "duration": 29,
    "start_time": "2022-05-03T16:37:43.613Z"
   },
   {
    "duration": 87,
    "start_time": "2022-05-03T16:37:57.973Z"
   },
   {
    "duration": 38,
    "start_time": "2022-05-03T16:38:03.616Z"
   },
   {
    "duration": 43,
    "start_time": "2022-05-03T16:38:12.921Z"
   },
   {
    "duration": 17,
    "start_time": "2022-05-03T16:38:22.260Z"
   },
   {
    "duration": 24,
    "start_time": "2022-05-03T16:38:41.555Z"
   },
   {
    "duration": 40,
    "start_time": "2022-05-03T16:38:45.813Z"
   },
   {
    "duration": 4,
    "start_time": "2022-05-03T16:39:19.520Z"
   },
   {
    "duration": 13,
    "start_time": "2022-05-03T16:39:21.247Z"
   },
   {
    "duration": 19,
    "start_time": "2022-05-03T16:39:23.453Z"
   },
   {
    "duration": 257,
    "start_time": "2022-05-03T16:39:25.101Z"
   },
   {
    "duration": 3,
    "start_time": "2022-05-03T16:43:09.166Z"
   },
   {
    "duration": 4,
    "start_time": "2022-05-03T17:01:48.322Z"
   },
   {
    "duration": 128,
    "start_time": "2022-05-03T17:02:03.875Z"
   },
   {
    "duration": 3,
    "start_time": "2022-05-03T17:02:24.275Z"
   },
   {
    "duration": 84,
    "start_time": "2022-05-03T17:02:33.137Z"
   },
   {
    "duration": 104,
    "start_time": "2022-05-03T17:03:43.017Z"
   },
   {
    "duration": 123,
    "start_time": "2022-05-03T17:03:43.979Z"
   },
   {
    "duration": 9,
    "start_time": "2022-05-03T17:38:56.281Z"
   },
   {
    "duration": 31,
    "start_time": "2022-05-03T17:39:09.867Z"
   },
   {
    "duration": 3,
    "start_time": "2022-05-03T17:47:12.057Z"
   },
   {
    "duration": 24,
    "start_time": "2022-05-03T17:47:12.708Z"
   },
   {
    "duration": 3,
    "start_time": "2022-05-03T17:47:16.245Z"
   },
   {
    "duration": 155,
    "start_time": "2022-05-03T17:47:17.547Z"
   },
   {
    "duration": 29,
    "start_time": "2022-05-03T17:47:19.424Z"
   },
   {
    "duration": 57,
    "start_time": "2022-05-03T17:47:20.444Z"
   },
   {
    "duration": 8,
    "start_time": "2022-05-03T17:49:05.124Z"
   },
   {
    "duration": 3,
    "start_time": "2022-05-03T17:49:13.793Z"
   },
   {
    "duration": 109,
    "start_time": "2022-05-03T17:49:14.496Z"
   },
   {
    "duration": 104,
    "start_time": "2022-05-03T17:49:15.596Z"
   },
   {
    "duration": 20,
    "start_time": "2022-05-03T17:49:19.355Z"
   },
   {
    "duration": 3,
    "start_time": "2022-05-03T17:52:27.773Z"
   },
   {
    "duration": 99,
    "start_time": "2022-05-03T17:52:28.305Z"
   },
   {
    "duration": 12,
    "start_time": "2022-05-03T17:52:30.629Z"
   },
   {
    "duration": 10,
    "start_time": "2022-05-03T17:52:31.536Z"
   },
   {
    "duration": 1813,
    "start_time": "2022-05-04T05:49:30.919Z"
   },
   {
    "duration": 138,
    "start_time": "2022-05-04T05:49:36.206Z"
   },
   {
    "duration": 15,
    "start_time": "2022-05-04T05:49:38.033Z"
   },
   {
    "duration": 18,
    "start_time": "2022-05-04T05:49:40.907Z"
   },
   {
    "duration": 45,
    "start_time": "2022-05-04T05:49:43.336Z"
   },
   {
    "duration": 83,
    "start_time": "2022-05-04T05:49:44.664Z"
   },
   {
    "duration": 27,
    "start_time": "2022-05-04T05:49:49.810Z"
   },
   {
    "duration": 62,
    "start_time": "2022-05-04T05:49:50.949Z"
   },
   {
    "duration": 24,
    "start_time": "2022-05-04T05:49:54.639Z"
   },
   {
    "duration": 14,
    "start_time": "2022-05-04T05:49:58.581Z"
   },
   {
    "duration": 7,
    "start_time": "2022-05-04T05:49:59.981Z"
   },
   {
    "duration": 11,
    "start_time": "2022-05-04T05:50:00.606Z"
   },
   {
    "duration": 24,
    "start_time": "2022-05-04T05:50:02.489Z"
   },
   {
    "duration": 211,
    "start_time": "2022-05-04T05:50:04.607Z"
   },
   {
    "duration": 129,
    "start_time": "2022-05-04T05:50:06.716Z"
   },
   {
    "duration": 10,
    "start_time": "2022-05-04T05:50:07.576Z"
   },
   {
    "duration": 25,
    "start_time": "2022-05-04T05:50:08.293Z"
   },
   {
    "duration": 35,
    "start_time": "2022-05-04T05:50:09.010Z"
   },
   {
    "duration": 73,
    "start_time": "2022-05-04T05:50:09.823Z"
   },
   {
    "duration": 41,
    "start_time": "2022-05-04T05:50:12.005Z"
   },
   {
    "duration": 72,
    "start_time": "2022-05-04T05:50:12.768Z"
   },
   {
    "duration": 15,
    "start_time": "2022-05-04T05:50:15.210Z"
   },
   {
    "duration": 10,
    "start_time": "2022-05-04T05:50:17.624Z"
   },
   {
    "duration": 5,
    "start_time": "2022-05-04T05:50:18.332Z"
   },
   {
    "duration": 11,
    "start_time": "2022-05-04T05:50:19.207Z"
   },
   {
    "duration": 14,
    "start_time": "2022-05-04T05:50:21.010Z"
   },
   {
    "duration": 209,
    "start_time": "2022-05-04T05:50:22.610Z"
   },
   {
    "duration": 147,
    "start_time": "2022-05-04T05:50:26.062Z"
   },
   {
    "duration": 10,
    "start_time": "2022-05-04T05:50:26.924Z"
   },
   {
    "duration": 15,
    "start_time": "2022-05-04T05:50:27.659Z"
   },
   {
    "duration": 74,
    "start_time": "2022-05-04T05:50:28.844Z"
   },
   {
    "duration": 36,
    "start_time": "2022-05-04T05:50:29.625Z"
   },
   {
    "duration": 28,
    "start_time": "2022-05-04T05:50:31.515Z"
   },
   {
    "duration": 57,
    "start_time": "2022-05-04T05:50:32.306Z"
   },
   {
    "duration": 21,
    "start_time": "2022-05-04T05:50:33.085Z"
   },
   {
    "duration": 18,
    "start_time": "2022-05-04T05:50:35.546Z"
   },
   {
    "duration": 5,
    "start_time": "2022-05-04T05:50:36.422Z"
   },
   {
    "duration": 11,
    "start_time": "2022-05-04T05:50:37.110Z"
   },
   {
    "duration": 17,
    "start_time": "2022-05-04T05:50:39.337Z"
   },
   {
    "duration": 201,
    "start_time": "2022-05-04T05:50:41.548Z"
   },
   {
    "duration": 4,
    "start_time": "2022-05-04T05:50:48.765Z"
   },
   {
    "duration": 45,
    "start_time": "2022-05-04T05:50:50.769Z"
   },
   {
    "duration": 4,
    "start_time": "2022-05-04T05:50:53.906Z"
   },
   {
    "duration": 38,
    "start_time": "2022-05-04T05:50:55.082Z"
   },
   {
    "duration": 3,
    "start_time": "2022-05-04T05:51:04.910Z"
   },
   {
    "duration": 84,
    "start_time": "2022-05-04T05:51:05.112Z"
   },
   {
    "duration": 13,
    "start_time": "2022-05-04T05:51:06.310Z"
   },
   {
    "duration": 11,
    "start_time": "2022-05-04T05:51:07.862Z"
   },
   {
    "duration": 4,
    "start_time": "2022-05-04T06:22:50.632Z"
   },
   {
    "duration": 4,
    "start_time": "2022-05-04T06:24:35.276Z"
   },
   {
    "duration": 4,
    "start_time": "2022-05-04T06:25:03.013Z"
   },
   {
    "duration": 4,
    "start_time": "2022-05-04T06:26:20.660Z"
   },
   {
    "duration": 8,
    "start_time": "2022-05-04T06:32:00.188Z"
   },
   {
    "duration": 5,
    "start_time": "2022-05-04T06:37:47.456Z"
   },
   {
    "duration": 19,
    "start_time": "2022-05-04T06:39:22.042Z"
   },
   {
    "duration": 10,
    "start_time": "2022-05-04T06:39:22.572Z"
   },
   {
    "duration": 10,
    "start_time": "2022-05-04T06:39:24.068Z"
   },
   {
    "duration": 150,
    "start_time": "2022-05-04T06:40:50.038Z"
   },
   {
    "duration": 5,
    "start_time": "2022-05-04T06:41:44.651Z"
   },
   {
    "duration": 50,
    "start_time": "2022-05-04T06:41:58.074Z"
   },
   {
    "duration": 10,
    "start_time": "2022-05-04T06:42:03.142Z"
   },
   {
    "duration": 17,
    "start_time": "2022-05-04T06:42:12.314Z"
   },
   {
    "duration": 10,
    "start_time": "2022-05-04T06:42:12.674Z"
   },
   {
    "duration": 20,
    "start_time": "2022-05-04T06:42:13.094Z"
   },
   {
    "duration": 20,
    "start_time": "2022-05-04T06:42:22.418Z"
   },
   {
    "duration": 12,
    "start_time": "2022-05-04T06:42:44.248Z"
   },
   {
    "duration": 29,
    "start_time": "2022-05-04T06:42:44.519Z"
   },
   {
    "duration": 18,
    "start_time": "2022-05-04T06:42:44.822Z"
   },
   {
    "duration": 12,
    "start_time": "2022-05-04T06:42:55.363Z"
   },
   {
    "duration": 3,
    "start_time": "2022-05-04T06:44:17.464Z"
   },
   {
    "duration": 25,
    "start_time": "2022-05-04T06:44:18.061Z"
   },
   {
    "duration": 4,
    "start_time": "2022-05-04T06:45:01.134Z"
   },
   {
    "duration": 25,
    "start_time": "2022-05-04T06:45:02.061Z"
   },
   {
    "duration": 5,
    "start_time": "2022-05-04T06:45:58.066Z"
   },
   {
    "duration": 10,
    "start_time": "2022-05-04T06:45:58.748Z"
   },
   {
    "duration": 15,
    "start_time": "2022-05-04T06:46:42.616Z"
   },
   {
    "duration": 12,
    "start_time": "2022-05-04T06:46:43.136Z"
   },
   {
    "duration": 2263,
    "start_time": "2022-05-04T09:03:10.931Z"
   },
   {
    "duration": 146,
    "start_time": "2022-05-04T09:03:14.810Z"
   },
   {
    "duration": 21,
    "start_time": "2022-05-04T09:03:25.570Z"
   },
   {
    "duration": 23,
    "start_time": "2022-05-04T09:03:32.278Z"
   },
   {
    "duration": 49,
    "start_time": "2022-05-04T09:03:33.570Z"
   },
   {
    "duration": 92,
    "start_time": "2022-05-04T09:04:01.446Z"
   },
   {
    "duration": 37,
    "start_time": "2022-05-04T09:04:06.050Z"
   },
   {
    "duration": 74,
    "start_time": "2022-05-04T09:04:06.851Z"
   },
   {
    "duration": 25,
    "start_time": "2022-05-04T09:04:07.249Z"
   },
   {
    "duration": 16,
    "start_time": "2022-05-04T09:04:08.339Z"
   },
   {
    "duration": 9,
    "start_time": "2022-05-04T09:04:09.571Z"
   },
   {
    "duration": 18,
    "start_time": "2022-05-04T09:04:10.170Z"
   },
   {
    "duration": 18,
    "start_time": "2022-05-04T09:04:11.490Z"
   },
   {
    "duration": 330,
    "start_time": "2022-05-04T09:04:13.338Z"
   },
   {
    "duration": 160,
    "start_time": "2022-05-04T09:04:18.010Z"
   },
   {
    "duration": 16,
    "start_time": "2022-05-04T09:04:18.650Z"
   },
   {
    "duration": 19,
    "start_time": "2022-05-04T09:04:19.410Z"
   },
   {
    "duration": 45,
    "start_time": "2022-05-04T09:04:20.179Z"
   },
   {
    "duration": 122,
    "start_time": "2022-05-04T09:04:20.890Z"
   },
   {
    "duration": 36,
    "start_time": "2022-05-04T09:04:22.090Z"
   },
   {
    "duration": 60,
    "start_time": "2022-05-04T09:04:22.811Z"
   },
   {
    "duration": 19,
    "start_time": "2022-05-04T09:04:24.056Z"
   },
   {
    "duration": 14,
    "start_time": "2022-05-04T09:04:25.370Z"
   },
   {
    "duration": 7,
    "start_time": "2022-05-04T09:04:25.890Z"
   },
   {
    "duration": 15,
    "start_time": "2022-05-04T09:04:26.318Z"
   },
   {
    "duration": 20,
    "start_time": "2022-05-04T09:04:27.489Z"
   },
   {
    "duration": 320,
    "start_time": "2022-05-04T09:04:28.770Z"
   },
   {
    "duration": 144,
    "start_time": "2022-05-04T09:04:30.890Z"
   },
   {
    "duration": 14,
    "start_time": "2022-05-04T09:04:58.371Z"
   },
   {
    "duration": 20,
    "start_time": "2022-05-04T09:04:59.091Z"
   },
   {
    "duration": 86,
    "start_time": "2022-05-04T09:04:59.983Z"
   },
   {
    "duration": 47,
    "start_time": "2022-05-04T09:05:00.770Z"
   },
   {
    "duration": 34,
    "start_time": "2022-05-04T09:05:02.371Z"
   },
   {
    "duration": 63,
    "start_time": "2022-05-04T09:05:03.050Z"
   },
   {
    "duration": 20,
    "start_time": "2022-05-04T09:05:03.810Z"
   },
   {
    "duration": 28,
    "start_time": "2022-05-04T09:05:05.450Z"
   },
   {
    "duration": 7,
    "start_time": "2022-05-04T09:05:08.170Z"
   },
   {
    "duration": 15,
    "start_time": "2022-05-04T09:05:08.891Z"
   },
   {
    "duration": 20,
    "start_time": "2022-05-04T09:05:12.639Z"
   },
   {
    "duration": 418,
    "start_time": "2022-05-04T09:05:16.678Z"
   },
   {
    "duration": 5,
    "start_time": "2022-05-04T09:05:40.610Z"
   },
   {
    "duration": 40,
    "start_time": "2022-05-04T09:05:41.370Z"
   },
   {
    "duration": 4,
    "start_time": "2022-05-04T09:05:42.530Z"
   },
   {
    "duration": 38,
    "start_time": "2022-05-04T09:05:43.410Z"
   },
   {
    "duration": 5,
    "start_time": "2022-05-04T09:05:44.695Z"
   },
   {
    "duration": 18,
    "start_time": "2022-05-04T09:05:45.130Z"
   },
   {
    "duration": 15,
    "start_time": "2022-05-04T09:05:46.118Z"
   },
   {
    "duration": 13,
    "start_time": "2022-05-04T09:05:48.678Z"
   },
   {
    "duration": 4,
    "start_time": "2022-05-04T09:06:02.810Z"
   },
   {
    "duration": 5,
    "start_time": "2022-05-04T09:06:04.090Z"
   },
   {
    "duration": 5,
    "start_time": "2022-05-04T09:06:05.531Z"
   },
   {
    "duration": 5,
    "start_time": "2022-05-04T09:06:06.570Z"
   },
   {
    "duration": 12,
    "start_time": "2022-05-04T09:06:07.210Z"
   },
   {
    "duration": 12,
    "start_time": "2022-05-04T09:06:08.050Z"
   },
   {
    "duration": 11,
    "start_time": "2022-05-04T09:06:08.570Z"
   },
   {
    "duration": 5,
    "start_time": "2022-05-04T09:29:58.209Z"
   },
   {
    "duration": 5,
    "start_time": "2022-05-04T09:30:31.770Z"
   },
   {
    "duration": 4,
    "start_time": "2022-05-04T09:42:17.856Z"
   },
   {
    "duration": 4,
    "start_time": "2022-05-04T09:42:47.175Z"
   },
   {
    "duration": 6,
    "start_time": "2022-05-04T09:50:32.176Z"
   },
   {
    "duration": 173,
    "start_time": "2022-05-04T09:51:36.682Z"
   },
   {
    "duration": 15,
    "start_time": "2022-05-04T09:53:13.776Z"
   },
   {
    "duration": 2493,
    "start_time": "2022-05-04T09:53:14.455Z"
   },
   {
    "duration": 7,
    "start_time": "2022-05-04T09:53:39.520Z"
   },
   {
    "duration": 2459,
    "start_time": "2022-05-04T09:53:47.936Z"
   },
   {
    "duration": 1657,
    "start_time": "2022-05-04T09:54:40.016Z"
   },
   {
    "duration": 1698,
    "start_time": "2022-05-04T09:54:43.415Z"
   },
   {
    "duration": 1648,
    "start_time": "2022-05-04T13:50:39.381Z"
   },
   {
    "duration": 106,
    "start_time": "2022-05-04T14:00:30.499Z"
   },
   {
    "duration": 130,
    "start_time": "2022-05-04T14:00:37.650Z"
   },
   {
    "duration": 15,
    "start_time": "2022-05-04T14:00:38.923Z"
   },
   {
    "duration": 17,
    "start_time": "2022-05-04T14:00:39.771Z"
   },
   {
    "duration": 15,
    "start_time": "2022-05-04T14:01:00.806Z"
   },
   {
    "duration": 39,
    "start_time": "2022-05-04T14:01:37.283Z"
   },
   {
    "duration": 94,
    "start_time": "2022-05-04T14:23:19.347Z"
   },
   {
    "duration": 39,
    "start_time": "2022-05-04T14:23:41.949Z"
   },
   {
    "duration": 74,
    "start_time": "2022-05-04T14:23:49.457Z"
   },
   {
    "duration": 18,
    "start_time": "2022-05-04T14:23:57.645Z"
   },
   {
    "duration": 14,
    "start_time": "2022-05-04T14:24:11.895Z"
   },
   {
    "duration": 7,
    "start_time": "2022-05-04T14:24:27.919Z"
   },
   {
    "duration": 12,
    "start_time": "2022-05-04T14:24:29.536Z"
   },
   {
    "duration": 12,
    "start_time": "2022-05-04T14:24:50.226Z"
   },
   {
    "duration": 17,
    "start_time": "2022-05-04T14:33:24.985Z"
   },
   {
    "duration": 213,
    "start_time": "2022-05-04T14:34:40.151Z"
   },
   {
    "duration": 129,
    "start_time": "2022-05-04T14:39:12.005Z"
   },
   {
    "duration": 11,
    "start_time": "2022-05-04T14:39:13.043Z"
   },
   {
    "duration": 16,
    "start_time": "2022-05-04T14:39:29.288Z"
   },
   {
    "duration": 41,
    "start_time": "2022-05-04T14:44:09.054Z"
   },
   {
    "duration": 92,
    "start_time": "2022-05-04T14:44:28.149Z"
   },
   {
    "duration": 34,
    "start_time": "2022-05-04T14:44:31.993Z"
   },
   {
    "duration": 66,
    "start_time": "2022-05-04T14:44:32.868Z"
   },
   {
    "duration": 14,
    "start_time": "2022-05-04T14:44:38.047Z"
   },
   {
    "duration": 12,
    "start_time": "2022-05-04T14:44:50.745Z"
   },
   {
    "duration": 7,
    "start_time": "2022-05-04T14:45:08.058Z"
   },
   {
    "duration": 11,
    "start_time": "2022-05-04T14:45:25.396Z"
   },
   {
    "duration": 15,
    "start_time": "2022-05-04T14:45:38.066Z"
   },
   {
    "duration": 196,
    "start_time": "2022-05-04T14:46:59.993Z"
   },
   {
    "duration": 182,
    "start_time": "2022-05-04T14:48:33.190Z"
   },
   {
    "duration": 124,
    "start_time": "2022-05-04T14:48:50.630Z"
   },
   {
    "duration": 11,
    "start_time": "2022-05-04T14:49:03.133Z"
   },
   {
    "duration": 15,
    "start_time": "2022-05-04T14:49:03.894Z"
   },
   {
    "duration": 69,
    "start_time": "2022-05-04T14:49:29.279Z"
   },
   {
    "duration": 29,
    "start_time": "2022-05-04T14:50:16.710Z"
   },
   {
    "duration": 61,
    "start_time": "2022-05-04T14:50:18.349Z"
   },
   {
    "duration": 15,
    "start_time": "2022-05-04T14:50:19.939Z"
   },
   {
    "duration": 21,
    "start_time": "2022-05-04T14:50:24.504Z"
   },
   {
    "duration": 14,
    "start_time": "2022-05-04T14:51:13.873Z"
   },
   {
    "duration": 7,
    "start_time": "2022-05-04T14:51:27.822Z"
   },
   {
    "duration": 12,
    "start_time": "2022-05-04T14:51:29.078Z"
   },
   {
    "duration": 17,
    "start_time": "2022-05-04T14:51:38.251Z"
   },
   {
    "duration": 184,
    "start_time": "2022-05-04T14:51:54.685Z"
   },
   {
    "duration": 4,
    "start_time": "2022-05-04T15:11:11.072Z"
   },
   {
    "duration": 34,
    "start_time": "2022-05-04T15:11:34.814Z"
   },
   {
    "duration": 5,
    "start_time": "2022-05-04T15:40:27.229Z"
   },
   {
    "duration": 28,
    "start_time": "2022-05-04T15:40:57.029Z"
   },
   {
    "duration": 5,
    "start_time": "2022-05-04T15:47:58.112Z"
   },
   {
    "duration": 16,
    "start_time": "2022-05-04T15:48:16.501Z"
   },
   {
    "duration": 13,
    "start_time": "2022-05-04T15:48:19.799Z"
   },
   {
    "duration": 12,
    "start_time": "2022-05-04T15:48:22.101Z"
   },
   {
    "duration": 3,
    "start_time": "2022-05-04T16:01:12.234Z"
   },
   {
    "duration": 4,
    "start_time": "2022-05-04T16:03:05.508Z"
   },
   {
    "duration": 4,
    "start_time": "2022-05-04T16:03:57.408Z"
   },
   {
    "duration": 4,
    "start_time": "2022-05-04T16:16:23.788Z"
   },
   {
    "duration": 109,
    "start_time": "2022-05-04T16:16:45.703Z"
   },
   {
    "duration": 9,
    "start_time": "2022-05-04T16:18:46.477Z"
   },
   {
    "duration": 11,
    "start_time": "2022-05-04T16:19:05.175Z"
   },
   {
    "duration": 10,
    "start_time": "2022-05-04T16:19:22.505Z"
   },
   {
    "duration": 4,
    "start_time": "2022-05-04T16:26:20.605Z"
   },
   {
    "duration": 6,
    "start_time": "2022-05-04T16:38:52.285Z"
   },
   {
    "duration": 1105,
    "start_time": "2022-05-04T16:39:32.935Z"
   },
   {
    "duration": 1061,
    "start_time": "2022-05-04T16:39:40.682Z"
   },
   {
    "duration": 1287,
    "start_time": "2022-05-04T16:39:52.602Z"
   },
   {
    "duration": 1183,
    "start_time": "2022-05-04T16:40:01.331Z"
   },
   {
    "duration": 4,
    "start_time": "2022-05-04T16:55:05.491Z"
   },
   {
    "duration": 131,
    "start_time": "2022-05-04T16:55:05.501Z"
   },
   {
    "duration": 10,
    "start_time": "2022-05-04T16:55:05.634Z"
   },
   {
    "duration": 16,
    "start_time": "2022-05-04T16:55:05.674Z"
   },
   {
    "duration": 40,
    "start_time": "2022-05-04T16:55:05.692Z"
   },
   {
    "duration": 106,
    "start_time": "2022-05-04T16:55:05.734Z"
   },
   {
    "duration": 44,
    "start_time": "2022-05-04T16:55:05.842Z"
   },
   {
    "duration": 65,
    "start_time": "2022-05-04T16:55:05.888Z"
   },
   {
    "duration": 31,
    "start_time": "2022-05-04T16:55:05.955Z"
   },
   {
    "duration": 24,
    "start_time": "2022-05-04T16:55:05.987Z"
   },
   {
    "duration": 12,
    "start_time": "2022-05-04T16:55:06.014Z"
   },
   {
    "duration": 31,
    "start_time": "2022-05-04T16:55:06.028Z"
   },
   {
    "duration": 25,
    "start_time": "2022-05-04T16:55:06.061Z"
   },
   {
    "duration": 228,
    "start_time": "2022-05-04T16:55:06.088Z"
   },
   {
    "duration": 131,
    "start_time": "2022-05-04T16:55:06.318Z"
   },
   {
    "duration": 11,
    "start_time": "2022-05-04T16:55:06.451Z"
   },
   {
    "duration": 17,
    "start_time": "2022-05-04T16:55:06.472Z"
   },
   {
    "duration": 41,
    "start_time": "2022-05-04T16:55:06.491Z"
   },
   {
    "duration": 116,
    "start_time": "2022-05-04T16:55:06.534Z"
   },
   {
    "duration": 46,
    "start_time": "2022-05-04T16:55:06.652Z"
   },
   {
    "duration": 78,
    "start_time": "2022-05-04T16:55:06.700Z"
   },
   {
    "duration": 15,
    "start_time": "2022-05-04T16:55:06.780Z"
   },
   {
    "duration": 28,
    "start_time": "2022-05-04T16:55:06.797Z"
   },
   {
    "duration": 8,
    "start_time": "2022-05-04T16:55:06.827Z"
   },
   {
    "duration": 15,
    "start_time": "2022-05-04T16:55:06.837Z"
   },
   {
    "duration": 31,
    "start_time": "2022-05-04T16:55:06.854Z"
   },
   {
    "duration": 226,
    "start_time": "2022-05-04T16:55:06.887Z"
   },
   {
    "duration": 126,
    "start_time": "2022-05-04T16:55:07.115Z"
   },
   {
    "duration": 11,
    "start_time": "2022-05-04T16:55:07.246Z"
   },
   {
    "duration": 24,
    "start_time": "2022-05-04T16:55:07.258Z"
   },
   {
    "duration": 39,
    "start_time": "2022-05-04T16:55:07.284Z"
   },
   {
    "duration": 110,
    "start_time": "2022-05-04T16:55:07.325Z"
   },
   {
    "duration": 44,
    "start_time": "2022-05-04T16:55:07.437Z"
   },
   {
    "duration": 68,
    "start_time": "2022-05-04T16:55:07.482Z"
   },
   {
    "duration": 128,
    "start_time": "2022-05-04T16:55:07.551Z"
   },
   {
    "duration": 12,
    "start_time": "2022-05-04T16:55:07.681Z"
   },
   {
    "duration": 7,
    "start_time": "2022-05-04T16:55:07.695Z"
   },
   {
    "duration": 18,
    "start_time": "2022-05-04T16:55:07.704Z"
   },
   {
    "duration": 23,
    "start_time": "2022-05-04T16:55:07.724Z"
   },
   {
    "duration": 234,
    "start_time": "2022-05-04T16:55:07.749Z"
   },
   {
    "duration": 4,
    "start_time": "2022-05-04T16:55:07.985Z"
   },
   {
    "duration": 43,
    "start_time": "2022-05-04T16:55:07.991Z"
   },
   {
    "duration": 4,
    "start_time": "2022-05-04T16:55:08.036Z"
   },
   {
    "duration": 44,
    "start_time": "2022-05-04T16:55:08.042Z"
   },
   {
    "duration": 4,
    "start_time": "2022-05-04T16:55:08.088Z"
   },
   {
    "duration": 79,
    "start_time": "2022-05-04T16:55:08.093Z"
   },
   {
    "duration": 108,
    "start_time": "2022-05-04T16:55:08.181Z"
   },
   {
    "duration": 190,
    "start_time": "2022-05-04T16:55:08.292Z"
   },
   {
    "duration": 190,
    "start_time": "2022-05-04T16:55:08.485Z"
   },
   {
    "duration": 11,
    "start_time": "2022-05-04T16:55:08.677Z"
   },
   {
    "duration": 19,
    "start_time": "2022-05-04T16:55:08.690Z"
   },
   {
    "duration": 6,
    "start_time": "2022-05-04T16:55:08.711Z"
   },
   {
    "duration": 12,
    "start_time": "2022-05-04T16:55:08.719Z"
   },
   {
    "duration": 8,
    "start_time": "2022-05-04T16:55:08.733Z"
   },
   {
    "duration": 34,
    "start_time": "2022-05-04T16:55:08.743Z"
   },
   {
    "duration": 3,
    "start_time": "2022-05-04T16:55:08.778Z"
   },
   {
    "duration": 7,
    "start_time": "2022-05-04T16:55:08.783Z"
   },
   {
    "duration": 1144,
    "start_time": "2022-05-04T16:55:08.791Z"
   },
   {
    "duration": 1090,
    "start_time": "2022-05-04T16:55:09.937Z"
   },
   {
    "duration": 1092,
    "start_time": "2022-05-04T16:55:11.029Z"
   }
  ],
  "kernelspec": {
   "display_name": "Python 3 (ipykernel)",
   "language": "python",
   "name": "python3"
  },
  "language_info": {
   "codemirror_mode": {
    "name": "ipython",
    "version": 3
   },
   "file_extension": ".py",
   "mimetype": "text/x-python",
   "name": "python",
   "nbconvert_exporter": "python",
   "pygments_lexer": "ipython3",
   "version": "3.9.12"
  },
  "toc": {
   "base_numbering": 1,
   "nav_menu": {},
   "number_sections": true,
   "sideBar": true,
   "skip_h1_title": true,
   "title_cell": "Table of Contents",
   "title_sidebar": "Contents",
   "toc_cell": false,
   "toc_position": {},
   "toc_section_display": true,
   "toc_window_display": false
  }
 },
 "nbformat": 4,
 "nbformat_minor": 2
}
