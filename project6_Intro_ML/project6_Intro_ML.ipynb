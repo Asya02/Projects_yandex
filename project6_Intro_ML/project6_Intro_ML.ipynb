{
 "cells": [
  {
   "cell_type": "markdown",
   "metadata": {},
   "source": [
    "# Рекомендация тарифов"
   ]
  },
  {
   "cell_type": "markdown",
   "metadata": {},
   "source": [
    "В нашем распоряжении данные о поведении клиентов, которые уже перешли на эти тарифы (из проекта курса «Статистический анализ данных»). Нужно построить модель для задачи классификации, которая выберет подходящий тариф. Предобработка данных не понадобится — вы её уже сделали.\n",
    "\n",
    "Построить модель с максимально большим значением *accuracy*."
   ]
  },
  {
   "cell_type": "markdown",
   "metadata": {},
   "source": [
    "**Цель исследования:**\n",
    " * Построить модель для задачи классификации, которая выберет подходящий тариф - Смарт или Ультра, чтобы доля правильных ответов на этой модели была на менее 0.75"
   ]
  },
  {
   "cell_type": "markdown",
   "metadata": {},
   "source": [
    "**Ход исследования:**\n",
    "\n",
    " * Изучение файла с данными\n",
    " * Деление исходных данных на обучающую, валидационную и тестовую выборки.\n",
    " * Исследование качество разных моделей\n",
    " * Проверка качества модели на тестовой выборке.\n",
    " * Проверьте модели на вменяемость. "
   ]
  },
  {
   "cell_type": "markdown",
   "metadata": {},
   "source": [
    "## Откройте и изучите файл"
   ]
  },
  {
   "cell_type": "markdown",
   "metadata": {},
   "source": [
    "Для начала импортируем модули, которые нам понадобятся."
   ]
  },
  {
   "cell_type": "code",
   "execution_count": 24,
   "metadata": {},
   "outputs": [],
   "source": [
    "# импорт нужных библиотек и модулей\n",
    "import pandas as pd\n",
    "from sklearn.tree import DecisionTreeClassifier \n",
    "from sklearn.ensemble import RandomForestClassifier\n",
    "from sklearn.linear_model import LogisticRegression\n",
    "from sklearn.model_selection import train_test_split \n",
    "from sklearn.metrics import accuracy_score"
   ]
  },
  {
   "cell_type": "markdown",
   "metadata": {},
   "source": [
    "Выгрузим данные из csv файла"
   ]
  },
  {
   "cell_type": "code",
   "execution_count": 25,
   "metadata": {},
   "outputs": [],
   "source": [
    "df = pd.read_csv('/datasets/users_behavior.csv')"
   ]
  },
  {
   "cell_type": "markdown",
   "metadata": {},
   "source": [
    "Посмотрим на первые 10 строк таблицы"
   ]
  },
  {
   "cell_type": "code",
   "execution_count": 26,
   "metadata": {},
   "outputs": [
    {
     "data": {
      "text/html": [
       "<div>\n",
       "<style scoped>\n",
       "    .dataframe tbody tr th:only-of-type {\n",
       "        vertical-align: middle;\n",
       "    }\n",
       "\n",
       "    .dataframe tbody tr th {\n",
       "        vertical-align: top;\n",
       "    }\n",
       "\n",
       "    .dataframe thead th {\n",
       "        text-align: right;\n",
       "    }\n",
       "</style>\n",
       "<table border=\"1\" class=\"dataframe\">\n",
       "  <thead>\n",
       "    <tr style=\"text-align: right;\">\n",
       "      <th></th>\n",
       "      <th>calls</th>\n",
       "      <th>minutes</th>\n",
       "      <th>messages</th>\n",
       "      <th>mb_used</th>\n",
       "      <th>is_ultra</th>\n",
       "    </tr>\n",
       "  </thead>\n",
       "  <tbody>\n",
       "    <tr>\n",
       "      <th>0</th>\n",
       "      <td>40.0</td>\n",
       "      <td>311.90</td>\n",
       "      <td>83.0</td>\n",
       "      <td>19915.42</td>\n",
       "      <td>0</td>\n",
       "    </tr>\n",
       "    <tr>\n",
       "      <th>1</th>\n",
       "      <td>85.0</td>\n",
       "      <td>516.75</td>\n",
       "      <td>56.0</td>\n",
       "      <td>22696.96</td>\n",
       "      <td>0</td>\n",
       "    </tr>\n",
       "    <tr>\n",
       "      <th>2</th>\n",
       "      <td>77.0</td>\n",
       "      <td>467.66</td>\n",
       "      <td>86.0</td>\n",
       "      <td>21060.45</td>\n",
       "      <td>0</td>\n",
       "    </tr>\n",
       "    <tr>\n",
       "      <th>3</th>\n",
       "      <td>106.0</td>\n",
       "      <td>745.53</td>\n",
       "      <td>81.0</td>\n",
       "      <td>8437.39</td>\n",
       "      <td>1</td>\n",
       "    </tr>\n",
       "    <tr>\n",
       "      <th>4</th>\n",
       "      <td>66.0</td>\n",
       "      <td>418.74</td>\n",
       "      <td>1.0</td>\n",
       "      <td>14502.75</td>\n",
       "      <td>0</td>\n",
       "    </tr>\n",
       "    <tr>\n",
       "      <th>5</th>\n",
       "      <td>58.0</td>\n",
       "      <td>344.56</td>\n",
       "      <td>21.0</td>\n",
       "      <td>15823.37</td>\n",
       "      <td>0</td>\n",
       "    </tr>\n",
       "    <tr>\n",
       "      <th>6</th>\n",
       "      <td>57.0</td>\n",
       "      <td>431.64</td>\n",
       "      <td>20.0</td>\n",
       "      <td>3738.90</td>\n",
       "      <td>1</td>\n",
       "    </tr>\n",
       "    <tr>\n",
       "      <th>7</th>\n",
       "      <td>15.0</td>\n",
       "      <td>132.40</td>\n",
       "      <td>6.0</td>\n",
       "      <td>21911.60</td>\n",
       "      <td>0</td>\n",
       "    </tr>\n",
       "    <tr>\n",
       "      <th>8</th>\n",
       "      <td>7.0</td>\n",
       "      <td>43.39</td>\n",
       "      <td>3.0</td>\n",
       "      <td>2538.67</td>\n",
       "      <td>1</td>\n",
       "    </tr>\n",
       "    <tr>\n",
       "      <th>9</th>\n",
       "      <td>90.0</td>\n",
       "      <td>665.41</td>\n",
       "      <td>38.0</td>\n",
       "      <td>17358.61</td>\n",
       "      <td>0</td>\n",
       "    </tr>\n",
       "  </tbody>\n",
       "</table>\n",
       "</div>"
      ],
      "text/plain": [
       "   calls  minutes  messages   mb_used  is_ultra\n",
       "0   40.0   311.90      83.0  19915.42         0\n",
       "1   85.0   516.75      56.0  22696.96         0\n",
       "2   77.0   467.66      86.0  21060.45         0\n",
       "3  106.0   745.53      81.0   8437.39         1\n",
       "4   66.0   418.74       1.0  14502.75         0\n",
       "5   58.0   344.56      21.0  15823.37         0\n",
       "6   57.0   431.64      20.0   3738.90         1\n",
       "7   15.0   132.40       6.0  21911.60         0\n",
       "8    7.0    43.39       3.0   2538.67         1\n",
       "9   90.0   665.41      38.0  17358.61         0"
      ]
     },
     "execution_count": 26,
     "metadata": {},
     "output_type": "execute_result"
    }
   ],
   "source": [
    "df.head(10)"
   ]
  },
  {
   "cell_type": "markdown",
   "metadata": {},
   "source": [
    "Каждый объект в наборе данных — это информация о поведении одного пользователя за месяц. Известно:\n",
    " * сalls — количество звонков,\n",
    " * minutes — суммарная длительность звонков в минутах,\n",
    " * messages — количество sms-сообщений,\n",
    " * mb_used — израсходованный интернет-трафик в Мб,\n",
    " * is_ultra — каким тарифом пользовался в течение месяца («Ультра» — 1, «Смарт» — 0)."
   ]
  },
  {
   "cell_type": "markdown",
   "metadata": {},
   "source": [
    "Продолжим изучать данные. Теперь посмотрим общую информацию о таблице."
   ]
  },
  {
   "cell_type": "code",
   "execution_count": 27,
   "metadata": {},
   "outputs": [
    {
     "name": "stdout",
     "output_type": "stream",
     "text": [
      "<class 'pandas.core.frame.DataFrame'>\n",
      "RangeIndex: 3214 entries, 0 to 3213\n",
      "Data columns (total 5 columns):\n",
      " #   Column    Non-Null Count  Dtype  \n",
      "---  ------    --------------  -----  \n",
      " 0   calls     3214 non-null   float64\n",
      " 1   minutes   3214 non-null   float64\n",
      " 2   messages  3214 non-null   float64\n",
      " 3   mb_used   3214 non-null   float64\n",
      " 4   is_ultra  3214 non-null   int64  \n",
      "dtypes: float64(4), int64(1)\n",
      "memory usage: 125.7 KB\n"
     ]
    }
   ],
   "source": [
    "# получение общей информации о данных в таблице df\n",
    "df.info()"
   ]
  },
  {
   "cell_type": "markdown",
   "metadata": {},
   "source": [
    "Получим больше информации при помощи метода describe(), посмотрим на разброс значений по столбцам"
   ]
  },
  {
   "cell_type": "code",
   "execution_count": 28,
   "metadata": {},
   "outputs": [
    {
     "data": {
      "text/html": [
       "<div>\n",
       "<style scoped>\n",
       "    .dataframe tbody tr th:only-of-type {\n",
       "        vertical-align: middle;\n",
       "    }\n",
       "\n",
       "    .dataframe tbody tr th {\n",
       "        vertical-align: top;\n",
       "    }\n",
       "\n",
       "    .dataframe thead th {\n",
       "        text-align: right;\n",
       "    }\n",
       "</style>\n",
       "<table border=\"1\" class=\"dataframe\">\n",
       "  <thead>\n",
       "    <tr style=\"text-align: right;\">\n",
       "      <th></th>\n",
       "      <th>calls</th>\n",
       "      <th>minutes</th>\n",
       "      <th>messages</th>\n",
       "      <th>mb_used</th>\n",
       "      <th>is_ultra</th>\n",
       "    </tr>\n",
       "  </thead>\n",
       "  <tbody>\n",
       "    <tr>\n",
       "      <th>count</th>\n",
       "      <td>3214.000000</td>\n",
       "      <td>3214.000000</td>\n",
       "      <td>3214.000000</td>\n",
       "      <td>3214.000000</td>\n",
       "      <td>3214.000000</td>\n",
       "    </tr>\n",
       "    <tr>\n",
       "      <th>mean</th>\n",
       "      <td>63.038892</td>\n",
       "      <td>438.208787</td>\n",
       "      <td>38.281269</td>\n",
       "      <td>17207.673836</td>\n",
       "      <td>0.306472</td>\n",
       "    </tr>\n",
       "    <tr>\n",
       "      <th>std</th>\n",
       "      <td>33.236368</td>\n",
       "      <td>234.569872</td>\n",
       "      <td>36.148326</td>\n",
       "      <td>7570.968246</td>\n",
       "      <td>0.461100</td>\n",
       "    </tr>\n",
       "    <tr>\n",
       "      <th>min</th>\n",
       "      <td>0.000000</td>\n",
       "      <td>0.000000</td>\n",
       "      <td>0.000000</td>\n",
       "      <td>0.000000</td>\n",
       "      <td>0.000000</td>\n",
       "    </tr>\n",
       "    <tr>\n",
       "      <th>25%</th>\n",
       "      <td>40.000000</td>\n",
       "      <td>274.575000</td>\n",
       "      <td>9.000000</td>\n",
       "      <td>12491.902500</td>\n",
       "      <td>0.000000</td>\n",
       "    </tr>\n",
       "    <tr>\n",
       "      <th>50%</th>\n",
       "      <td>62.000000</td>\n",
       "      <td>430.600000</td>\n",
       "      <td>30.000000</td>\n",
       "      <td>16943.235000</td>\n",
       "      <td>0.000000</td>\n",
       "    </tr>\n",
       "    <tr>\n",
       "      <th>75%</th>\n",
       "      <td>82.000000</td>\n",
       "      <td>571.927500</td>\n",
       "      <td>57.000000</td>\n",
       "      <td>21424.700000</td>\n",
       "      <td>1.000000</td>\n",
       "    </tr>\n",
       "    <tr>\n",
       "      <th>max</th>\n",
       "      <td>244.000000</td>\n",
       "      <td>1632.060000</td>\n",
       "      <td>224.000000</td>\n",
       "      <td>49745.730000</td>\n",
       "      <td>1.000000</td>\n",
       "    </tr>\n",
       "  </tbody>\n",
       "</table>\n",
       "</div>"
      ],
      "text/plain": [
       "             calls      minutes     messages       mb_used     is_ultra\n",
       "count  3214.000000  3214.000000  3214.000000   3214.000000  3214.000000\n",
       "mean     63.038892   438.208787    38.281269  17207.673836     0.306472\n",
       "std      33.236368   234.569872    36.148326   7570.968246     0.461100\n",
       "min       0.000000     0.000000     0.000000      0.000000     0.000000\n",
       "25%      40.000000   274.575000     9.000000  12491.902500     0.000000\n",
       "50%      62.000000   430.600000    30.000000  16943.235000     0.000000\n",
       "75%      82.000000   571.927500    57.000000  21424.700000     1.000000\n",
       "max     244.000000  1632.060000   224.000000  49745.730000     1.000000"
      ]
     },
     "execution_count": 28,
     "metadata": {},
     "output_type": "execute_result"
    }
   ],
   "source": [
    "# получение разброса значений методом describe()\n",
    "df.describe()"
   ]
  },
  {
   "cell_type": "markdown",
   "metadata": {},
   "source": [
    "<div style=\"border:solid blue 2px; padding: 20px\">\n",
    "\n",
    "**Выводы**\n",
    "    \n",
    "В целом, данные выглядят правдоподобно. Пропусков и аномальных значений нет. \n",
    "Имеет смысл только изменить тип данных в столбцах calls и messages на int и в столбце is_ultra на bool"
   ]
  },
  {
   "cell_type": "markdown",
   "metadata": {},
   "source": [
    "### Предобработка данных"
   ]
  },
  {
   "cell_type": "markdown",
   "metadata": {},
   "source": [
    "Приведём столбцы к нужным типам данных"
   ]
  },
  {
   "cell_type": "code",
   "execution_count": 29,
   "metadata": {},
   "outputs": [],
   "source": [
    "# приведение данных в столбце calls к типу int\n",
    "df['calls'] = df['calls'].astype(int)"
   ]
  },
  {
   "cell_type": "code",
   "execution_count": 30,
   "metadata": {},
   "outputs": [],
   "source": [
    "# приведение данных в столбце calls к типу int\n",
    "df['messages'] = df['messages'].astype(int)"
   ]
  },
  {
   "cell_type": "code",
   "execution_count": 31,
   "metadata": {},
   "outputs": [],
   "source": [
    "# приведение данных в столбце is_ultra к типу bool\n",
    "df['is_ultra'] = df['is_ultra'].astype(bool)"
   ]
  },
  {
   "cell_type": "markdown",
   "metadata": {},
   "source": [
    "Проверим, что типы данных изменились"
   ]
  },
  {
   "cell_type": "code",
   "execution_count": 32,
   "metadata": {},
   "outputs": [
    {
     "name": "stdout",
     "output_type": "stream",
     "text": [
      "<class 'pandas.core.frame.DataFrame'>\n",
      "RangeIndex: 3214 entries, 0 to 3213\n",
      "Data columns (total 5 columns):\n",
      " #   Column    Non-Null Count  Dtype  \n",
      "---  ------    --------------  -----  \n",
      " 0   calls     3214 non-null   int64  \n",
      " 1   minutes   3214 non-null   float64\n",
      " 2   messages  3214 non-null   int64  \n",
      " 3   mb_used   3214 non-null   float64\n",
      " 4   is_ultra  3214 non-null   bool   \n",
      "dtypes: bool(1), float64(2), int64(2)\n",
      "memory usage: 103.7 KB\n"
     ]
    }
   ],
   "source": [
    "# получение общей информации о данных в таблице users\n",
    "df.info()"
   ]
  },
  {
   "cell_type": "markdown",
   "metadata": {},
   "source": [
    "<div style=\"border:solid blue 2px; padding: 20px\">\n",
    "\n",
    "**Выводы**\n",
    "    \n",
    "    Данные предобработаны и можно переходить к делению на выборки"
   ]
  },
  {
   "cell_type": "markdown",
   "metadata": {},
   "source": [
    "## Разбиение данных на выборки"
   ]
  },
  {
   "cell_type": "markdown",
   "metadata": {},
   "source": [
    "Разделим наши данные на обучающую, валидационную и тестовую выборки. Возьмём их соотношение 3:1:1 как наиболее часто используемый вариант. \n",
    "* Получается, что мы разбиваем датасет на 5 частей. Тренировочная выборка - 3/5 датасета, т.е. 60 %\n",
    "* Тестовая и валидационная получаются по 20%"
   ]
  },
  {
   "cell_type": "code",
   "execution_count": 33,
   "metadata": {},
   "outputs": [],
   "source": [
    "df_train, df_other = train_test_split(df, test_size=0.4, random_state=42)"
   ]
  },
  {
   "cell_type": "markdown",
   "metadata": {},
   "source": [
    "Оставшиеся данные разобьём попалам между тестовой и валидационной выборкой"
   ]
  },
  {
   "cell_type": "code",
   "execution_count": 34,
   "metadata": {},
   "outputs": [],
   "source": [
    "df_test, df_valid = train_test_split(df_other, test_size=0.5, random_state=42)"
   ]
  },
  {
   "cell_type": "markdown",
   "metadata": {},
   "source": [
    "Посмотрим на размеры получившихся выборок"
   ]
  },
  {
   "cell_type": "code",
   "execution_count": 35,
   "metadata": {},
   "outputs": [
    {
     "name": "stdout",
     "output_type": "stream",
     "text": [
      "Размер обучающей выборки: (1928, 5)\n",
      "Размер тестовой выборки: (643, 5)\n",
      "Размер валидационной выборки: (643, 5)\n"
     ]
    }
   ],
   "source": [
    "print(\"Размер обучающей выборки:\", df_train.shape)\n",
    "print(\"Размер тестовой выборки:\", df_test.shape)\n",
    "print(\"Размер валидационной выборки:\", df_valid.shape)"
   ]
  },
  {
   "cell_type": "markdown",
   "metadata": {},
   "source": [
    "Размеры соотвествуют процентам."
   ]
  },
  {
   "cell_type": "markdown",
   "metadata": {},
   "source": [
    "<div style=\"border:solid blue 2px; padding: 20px\">\n",
    "\n",
    "**Выводы**\n",
    "\n",
    "    \n",
    "Итак, наши данные теперь разделены на 3 датасета:\n",
    " * 60 % данных приходится на df_train - обучающую выборку\n",
    " * 20 % данных приходится на df_test - тестовую выборку\n",
    " * 20 % данных приходится на df_valid - валидационную выборку"
   ]
  },
  {
   "cell_type": "markdown",
   "metadata": {},
   "source": [
    "## Исследуем модели"
   ]
  },
  {
   "cell_type": "markdown",
   "metadata": {},
   "source": [
    "Теперь создадим отдельные переменные для признаков и целевого признака. Целевой признак у нас is_ultra "
   ]
  },
  {
   "cell_type": "code",
   "execution_count": 36,
   "metadata": {},
   "outputs": [],
   "source": [
    "features_train = df_train.drop(['is_ultra'], axis=1)\n",
    "target_train = df_train['is_ultra']\n",
    "features_valid = df_valid.drop(['is_ultra'], axis=1)\n",
    "target_valid = df_valid['is_ultra']"
   ]
  },
  {
   "cell_type": "markdown",
   "metadata": {},
   "source": [
    "Проверим три алгоритма:\n",
    " * Дерево решений\n",
    " * Случайный лес\n",
    " * Логистическая регрессия"
   ]
  },
  {
   "cell_type": "markdown",
   "metadata": {},
   "source": [
    "### Дерево решений"
   ]
  },
  {
   "cell_type": "markdown",
   "metadata": {},
   "source": [
    "Посмотрим на качество модели в зависимости от глубины дерева. Переберём значения от 1 до 15. Обучим модель для каждого из этих значений. Найдём предсказания на валидационной выборке. И посмотрим качество на валидационной выборке для каждого из значений."
   ]
  },
  {
   "cell_type": "code",
   "execution_count": 37,
   "metadata": {},
   "outputs": [
    {
     "name": "stdout",
     "output_type": "stream",
     "text": [
      "depth = 1\n",
      "Точность на обучающей выборке: 0.7479253112033195\n",
      "Точность на валидационной выборке: 0.7433903576982893\n",
      "depth = 2\n",
      "Точность на обучающей выборке: 0.7816390041493776\n",
      "Точность на валидационной выборке: 0.7916018662519441\n",
      "depth = 3\n",
      "Точность на обучающей выборке: 0.7971991701244814\n",
      "Точность на валидационной выборке: 0.8055987558320373\n",
      "depth = 4\n",
      "Точность на обучающей выборке: 0.8086099585062241\n",
      "Точность на валидационной выборке: 0.8118195956454122\n",
      "depth = 5\n",
      "Точность на обучающей выборке: 0.8153526970954357\n",
      "Точность на валидационной выборке: 0.807153965785381\n",
      "depth = 6\n",
      "Точность на обучающей выборке: 0.8226141078838174\n",
      "Точность на валидационной выборке: 0.8009331259720062\n",
      "depth = 7\n",
      "Точность на обучающей выборке: 0.8386929460580913\n",
      "Точность на валидационной выборке: 0.7978227060653188\n",
      "depth = 8\n",
      "Точность на обучающей выборке: 0.8521784232365145\n",
      "Точность на валидационной выборке: 0.7978227060653188\n",
      "depth = 9\n",
      "Точность на обучающей выборке: 0.8635892116182573\n",
      "Точность на валидационной выборке: 0.7962674961119751\n",
      "depth = 10\n",
      "Точность на обучающей выборке: 0.8786307053941909\n",
      "Точность на валидационной выборке: 0.7947122861586314\n",
      "depth = 11\n",
      "Точность на обучающей выборке: 0.8874481327800829\n",
      "Точность на валидационной выборке: 0.7993779160186625\n",
      "depth = 12\n",
      "Точность на обучающей выборке: 0.8983402489626556\n",
      "Точность на валидационной выборке: 0.7916018662519441\n",
      "depth = 13\n",
      "Точность на обучающей выборке: 0.9123443983402489\n",
      "Точность на валидационной выборке: 0.7729393468118196\n",
      "depth = 14\n",
      "Точность на обучающей выборке: 0.924792531120332\n",
      "Точность на валидационной выборке: 0.7698289269051322\n",
      "\n",
      "Accuracy наилучшей модели на валидационной выборке: 0.8118195956454122\n"
     ]
    }
   ],
   "source": [
    "best_tree_model = None # переменная для наилучшей модели\n",
    "best_tree_result = 0 # accuracy наилучшей модели\n",
    "# цикл, перебирающий значения глубины дерева от 1 до 15\n",
    "for depth in range(1, 15):\n",
    "    model_tree = DecisionTreeClassifier(random_state=42, max_depth=depth) \n",
    "    model_tree.fit(features_train, target_train) # обучение модели на тренировочной выборке\n",
    "    predictions_train = model_tree.predict(features_train)\n",
    "    predictions_valid = model_tree.predict(features_valid) \n",
    "    print(\"depth =\", depth)\n",
    "    print(\"Точность на обучающей выборке:\", accuracy_score(target_train, predictions_train))\n",
    "    result_tree = accuracy_score(target_valid, predictions_valid)\n",
    "    print(\"Точность на валидационной выборке:\", result_tree)\n",
    "    # условие проверки лучшего результата\n",
    "    if result_tree > best_tree_result:\n",
    "        best_tree_model = model_tree \n",
    "        best_tree_result = result_tree \n",
    "print()\n",
    "print(\"Accuracy наилучшей модели на валидационной выборке:\", best_tree_result)"
   ]
  },
  {
   "cell_type": "markdown",
   "metadata": {},
   "source": [
    "В дереве решений наилучшее качество показало дерево глубины 4. accuracy там 0.812"
   ]
  },
  {
   "cell_type": "markdown",
   "metadata": {},
   "source": [
    "### Случайный лес\n"
   ]
  },
  {
   "cell_type": "markdown",
   "metadata": {},
   "source": [
    "Посмотрим на качество модели в зависимости от количества деревьев в лесу. Переберём значения от 1 до 20. Обучим модель для каждого из этих значений. Найдём предсказания на валидационной выборке. И посмотрим качество на валидационной выборке для каждого из значений."
   ]
  },
  {
   "cell_type": "code",
   "execution_count": 38,
   "metadata": {},
   "outputs": [
    {
     "name": "stdout",
     "output_type": "stream",
     "text": [
      "est = 1\n",
      "Точность на обучающей выборке: 0.8962655601659751\n",
      "Точность на валидационной выборке: 0.7309486780715396\n",
      "est = 2\n",
      "Точность на обучающей выборке: 0.9014522821576764\n",
      "Точность на валидационной выборке: 0.7791601866251944\n",
      "est = 3\n",
      "Точность на обучающей выборке: 0.9429460580912863\n",
      "Точность на валидационной выборке: 0.7682737169517885\n",
      "est = 4\n",
      "Точность на обучающей выборке: 0.9377593360995851\n",
      "Точность на валидационной выборке: 0.8009331259720062\n",
      "est = 5\n",
      "Точность на обучающей выборке: 0.9642116182572614\n",
      "Точность на валидационной выборке: 0.7838258164852255\n",
      "est = 6\n",
      "Точность на обучающей выборке: 0.9600622406639004\n",
      "Точность на валидационной выборке: 0.7978227060653188\n",
      "est = 7\n",
      "Точность на обучающей выборке: 0.9740663900414938\n",
      "Точность на валидационной выборке: 0.7884914463452566\n",
      "est = 8\n",
      "Точность на обучающей выборке: 0.9704356846473029\n",
      "Точность на валидационной выборке: 0.7978227060653188\n",
      "est = 9\n",
      "Точность на обучающей выборке: 0.983402489626556\n",
      "Точность на валидационной выборке: 0.7978227060653188\n",
      "est = 10\n",
      "Точность на обучающей выборке: 0.9802904564315352\n",
      "Точность на валидационной выборке: 0.8164852255054432\n",
      "est = 11\n",
      "Точность на обучающей выборке: 0.9891078838174274\n",
      "Точность на валидационной выборке: 0.8040435458786936\n",
      "est = 12\n",
      "Точность на обучающей выборке: 0.9818464730290456\n",
      "Точность на валидационной выборке: 0.8164852255054432\n",
      "est = 13\n",
      "Точность на обучающей выборке: 0.9906639004149378\n",
      "Точность на валидационной выборке: 0.8118195956454122\n",
      "est = 14\n",
      "Точность на обучающей выборке: 0.9880705394190872\n",
      "Точность на валидационной выборке: 0.8149300155520995\n",
      "est = 15\n",
      "Точность на обучающей выборке: 0.9911825726141079\n",
      "Точность на валидационной выборке: 0.8149300155520995\n",
      "est = 16\n",
      "Точность на обучающей выборке: 0.9875518672199171\n",
      "Точность на валидационной выборке: 0.8149300155520995\n",
      "est = 17\n",
      "Точность на обучающей выборке: 0.9922199170124482\n",
      "Точность на валидационной выборке: 0.8149300155520995\n",
      "est = 18\n",
      "Точность на обучающей выборке: 0.9906639004149378\n",
      "Точность на валидационной выборке: 0.8195956454121306\n",
      "est = 19\n",
      "Точность на обучающей выборке: 0.9922199170124482\n",
      "Точность на валидационной выборке: 0.8133748055987559\n",
      "est = 20\n",
      "Точность на обучающей выборке: 0.991701244813278\n",
      "Точность на валидационной выборке: 0.8180404354587869\n",
      "\n",
      "Accuracy наилучшей модели на валидационной выборке: 0.8195956454121306\n"
     ]
    }
   ],
   "source": [
    "best_forest_model = None # переменная для наилучшей модели\n",
    "best_forest_result = 0 # accuracy наилучшей модели\n",
    "# цикл, перебирающий значения деревьев от 1 до 20\n",
    "for est in range(1, 21):\n",
    "    model_forest = RandomForestClassifier(random_state=42, n_estimators=est) \n",
    "    model_forest.fit(features_train, target_train) # обучение модели на тренировочной выборке\n",
    "    predictions_train = model_forest.predict(features_train)\n",
    "    predictions_valid = model_forest.predict(features_valid) \n",
    "    result_forest = accuracy_score(target_valid, predictions_valid) \n",
    "    # условие проверки лучшего результата\n",
    "    if result_forest > best_forest_result:\n",
    "        best_forest_model = model_forest \n",
    "        best_forest_result = result_forest \n",
    "    print(\"est =\", est)\n",
    "    print(\"Точность на обучающей выборке:\", accuracy_score(target_train, predictions_train))\n",
    "    print(\"Точность на валидационной выборке:\", result_forest)\n",
    "print()\n",
    "print(\"Accuracy наилучшей модели на валидационной выборке:\", best_forest_result)"
   ]
  },
  {
   "cell_type": "markdown",
   "metadata": {},
   "source": [
    "Мы видим наилучшее значение accuracy при 18 деревьях - 0.82"
   ]
  },
  {
   "cell_type": "markdown",
   "metadata": {},
   "source": [
    "### Логистическая регрессия"
   ]
  },
  {
   "cell_type": "markdown",
   "metadata": {},
   "source": [
    "Посмотрим на качество модели логистической регрессии"
   ]
  },
  {
   "cell_type": "code",
   "execution_count": 39,
   "metadata": {},
   "outputs": [
    {
     "name": "stdout",
     "output_type": "stream",
     "text": [
      "Точность на валидационной выборке: 0.7682737169517885\n"
     ]
    },
    {
     "name": "stderr",
     "output_type": "stream",
     "text": [
      "/opt/conda/lib/python3.9/site-packages/sklearn/linear_model/_logistic.py:763: ConvergenceWarning: lbfgs failed to converge (status=1):\n",
      "STOP: TOTAL NO. of ITERATIONS REACHED LIMIT.\n",
      "\n",
      "Increase the number of iterations (max_iter) or scale the data as shown in:\n",
      "    https://scikit-learn.org/stable/modules/preprocessing.html\n",
      "Please also refer to the documentation for alternative solver options:\n",
      "    https://scikit-learn.org/stable/modules/linear_model.html#logistic-regression\n",
      "  n_iter_i = _check_optimize_result(\n"
     ]
    }
   ],
   "source": [
    "model_log_reg = LogisticRegression(random_state=42)\n",
    "model_log_reg.fit(features_train, target_train) # обучение модели на тренировочной выборке\n",
    "predictions_valid = model_log_reg.predict(features_valid)\n",
    "result_log_reg = accuracy_score(target_valid, predictions_valid)\n",
    "print(\"Точность на валидационной выборке:\", result_log_reg)"
   ]
  },
  {
   "cell_type": "markdown",
   "metadata": {},
   "source": [
    "Логистическая регрессия показала точность в 0.768"
   ]
  },
  {
   "cell_type": "markdown",
   "metadata": {},
   "source": [
    "<div style=\"border:solid blue 2px; padding: 20px\">\n",
    "\n",
    "**Выводы**\n",
    "\n",
    " * Все три модели - дерево решений, случайный лес и логистическая регрессия - прошли порог accuracy 0.75\n",
    " * Лучшей глубиной дерева оказалась глубина 4, принесшая accuracy  0.812\n",
    " * Результат accuracy логистической регрессии 0.768\n",
    " * Наилучшую accuracy даёт модель случайного леса с количеством деревьев - 18. Точность там 0.82"
   ]
  },
  {
   "cell_type": "markdown",
   "metadata": {},
   "source": [
    "## Проверка модели на тестовой выборке"
   ]
  },
  {
   "cell_type": "markdown",
   "metadata": {},
   "source": [
    "Проверим модель случайного леса, как модель, принёсшую наибольшее значение accuracy"
   ]
  },
  {
   "cell_type": "markdown",
   "metadata": {},
   "source": [
    "Уберём из тестовой выборки столбец с целевой переменной и отправим его в переменную target_test"
   ]
  },
  {
   "cell_type": "code",
   "execution_count": 40,
   "metadata": {},
   "outputs": [],
   "source": [
    "features_test = df_test.drop(['is_ultra'], axis=1)\n",
    "target_test = df_test['is_ultra']"
   ]
  },
  {
   "cell_type": "markdown",
   "metadata": {},
   "source": [
    "Для проверки обучим каждую модель на тестовой выборке и посчитаем accuracy, сравнив результаты с target_test"
   ]
  },
  {
   "cell_type": "markdown",
   "metadata": {},
   "source": [
    "Объединим обучающую и валидационную выборки и обучим модель на них"
   ]
  },
  {
   "cell_type": "code",
   "execution_count": 41,
   "metadata": {},
   "outputs": [],
   "source": [
    "features_train_valid = df_train.drop(['is_ultra'], axis=1).append([df_valid.drop(['is_ultra'], axis=1)])\n",
    "target_train_valid = df_train['is_ultra'].append([df_valid['is_ultra']])"
   ]
  },
  {
   "cell_type": "markdown",
   "metadata": {},
   "source": [
    "### Случайный лес"
   ]
  },
  {
   "cell_type": "code",
   "execution_count": 42,
   "metadata": {},
   "outputs": [
    {
     "data": {
      "text/plain": [
       "0.7822706065318819"
      ]
     },
     "execution_count": 42,
     "metadata": {},
     "output_type": "execute_result"
    }
   ],
   "source": [
    "# на объединенной выборке\n",
    "model_best_forest = RandomForestClassifier(random_state=666, n_estimators=4)\n",
    "model_best_forest.fit(features_train_valid, target_train_valid)\n",
    "model_best_forest.predict(features_test)\n",
    "model_best_forest.score(features_test, target_test)"
   ]
  },
  {
   "cell_type": "code",
   "execution_count": 43,
   "metadata": {},
   "outputs": [
    {
     "data": {
      "text/plain": [
       "0.7916018662519441"
      ]
     },
     "execution_count": 43,
     "metadata": {},
     "output_type": "execute_result"
    }
   ],
   "source": [
    "# на обучающей выборке\n",
    "model_best_forest = RandomForestClassifier(random_state=42, n_estimators=18)\n",
    "model_best_forest.fit(features_train, target_train)\n",
    "model_best_forest.predict(features_test)\n",
    "model_best_forest.score(features_test, target_test)"
   ]
  },
  {
   "cell_type": "markdown",
   "metadata": {},
   "source": [
    "<div style=\"border:solid blue 2px; padding: 20px\">\n",
    "\n",
    "**Выводы**\n",
    "    \n",
    " * Наилучший результат на тестовой выборке показала модель случайного леса. accuracy 0.79, что выше порогового значения"
   ]
  },
  {
   "cell_type": "markdown",
   "metadata": {},
   "source": [
    "## (бонус) Проверка модели на адекватность"
   ]
  },
  {
   "cell_type": "markdown",
   "metadata": {},
   "source": [
    "Проверим на случайном наборе предсказаний. Для этого понадобится импортировать модуль random"
   ]
  },
  {
   "cell_type": "code",
   "execution_count": 44,
   "metadata": {},
   "outputs": [
    {
     "name": "stdout",
     "output_type": "stream",
     "text": [
      "Random predictions accuracy =  0.4976671850699845\n"
     ]
    }
   ],
   "source": [
    "import random\n",
    "random_predictions = pd.Series(target_test.apply(lambda x: round(random.random())), index=target_test.index)\n",
    "\n",
    "# оценим точность на этих данных\n",
    "print('Random predictions accuracy = ', accuracy_score(target_test, random_predictions))"
   ]
  },
  {
   "cell_type": "code",
   "execution_count": 48,
   "metadata": {},
   "outputs": [
    {
     "name": "stdout",
     "output_type": "stream",
     "text": [
      "Const predictions accuracy =  0.6936236391912908\n"
     ]
    }
   ],
   "source": [
    "const_predictions = pd.Series(target_test.apply(lambda x: 0), index=target_test.index)\n",
    "# оценим точность на этих данных\n",
    "print('Const predictions accuracy = ', accuracy_score(target_test, const_predictions))"
   ]
  },
  {
   "cell_type": "markdown",
   "metadata": {},
   "source": [
    "А точность нашей модели получилась 0.79. Итак, мы видим, что наша модель точнее, чем случайно предсказанные данные и чем модель, предсказывающая 0"
   ]
  },
  {
   "cell_type": "markdown",
   "metadata": {},
   "source": [
    "<div style=\"border:solid blue 2px; padding: 20px\">\n",
    "\n",
    "**Выводы**\n",
    "    \n",
    "Итак, в ходе работы над проектом мы:\n",
    " * предобработали данные\n",
    " * разделили данные на три выборки в пропорции 60, 20 и 20 процентов\n",
    " * исследовали следующие модели\n",
    "   * дерево решений\n",
    "   * случайный лес\n",
    "   * линейная регрессия\n",
    " * для каждой модели подобрали гиперпараметры с наилучшим значением accuracy\n",
    "   *  Лучшей глубиной дерева оказалась глубина 4, принесшая accuracy  0.812\n",
    "   * Результат accuracy логистической регрессии 0.768\n",
    "   * Наилучшую accuracy даёт модель случайного леса с количеством деревьев - 18. Точность там 0.82\n",
    " * Проверили на тестовой выборке и получили точность 0.79\n",
    " * Убедились, что наша модель проходит тест на адекватность и её значение accuracy больше, чем у модели, предсказывающей случайно и предсказывающей 0"
   ]
  }
 ],
 "metadata": {
  "ExecuteTimeLog": [
   {
    "duration": 1595,
    "start_time": "2022-04-11T06:43:01.694Z"
   },
   {
    "duration": 82,
    "start_time": "2022-04-11T06:43:42.557Z"
   },
   {
    "duration": 20,
    "start_time": "2022-04-11T06:44:13.183Z"
   },
   {
    "duration": 13,
    "start_time": "2022-04-11T06:45:00.386Z"
   },
   {
    "duration": 24,
    "start_time": "2022-04-11T06:45:24.407Z"
   },
   {
    "duration": 1303,
    "start_time": "2022-04-11T11:37:05.735Z"
   },
   {
    "duration": 14,
    "start_time": "2022-04-11T11:37:07.804Z"
   },
   {
    "duration": 19,
    "start_time": "2022-04-11T11:37:08.991Z"
   },
   {
    "duration": 10,
    "start_time": "2022-04-11T11:37:10.474Z"
   },
   {
    "duration": 20,
    "start_time": "2022-04-11T11:37:11.296Z"
   },
   {
    "duration": 3,
    "start_time": "2022-04-11T11:38:11.394Z"
   },
   {
    "duration": 4,
    "start_time": "2022-04-11T11:38:19.916Z"
   },
   {
    "duration": 3,
    "start_time": "2022-04-11T11:38:31.275Z"
   },
   {
    "duration": 10,
    "start_time": "2022-04-11T11:38:52.532Z"
   },
   {
    "duration": 5,
    "start_time": "2022-04-11T11:40:07.033Z"
   },
   {
    "duration": 5,
    "start_time": "2022-04-11T11:40:27.014Z"
   },
   {
    "duration": 4,
    "start_time": "2022-04-11T11:40:48.265Z"
   },
   {
    "duration": 4,
    "start_time": "2022-04-11T11:41:54.134Z"
   },
   {
    "duration": 110,
    "start_time": "2022-04-11T11:42:43.277Z"
   },
   {
    "duration": 851,
    "start_time": "2022-04-11T11:43:28.715Z"
   },
   {
    "duration": 34,
    "start_time": "2022-04-11T11:44:06.350Z"
   },
   {
    "duration": 4,
    "start_time": "2022-04-11T11:45:05.623Z"
   },
   {
    "duration": 12,
    "start_time": "2022-04-11T11:45:20.755Z"
   },
   {
    "duration": 80,
    "start_time": "2022-04-11T11:45:38.486Z"
   },
   {
    "duration": 36,
    "start_time": "2022-04-11T11:45:57.296Z"
   },
   {
    "duration": 1198,
    "start_time": "2022-04-11T17:28:08.596Z"
   },
   {
    "duration": 55,
    "start_time": "2022-04-11T17:28:11.966Z"
   },
   {
    "duration": 21,
    "start_time": "2022-04-11T17:28:14.081Z"
   },
   {
    "duration": 11,
    "start_time": "2022-04-11T17:28:27.694Z"
   },
   {
    "duration": 22,
    "start_time": "2022-04-11T17:28:32.320Z"
   },
   {
    "duration": 4,
    "start_time": "2022-04-11T17:28:45.065Z"
   },
   {
    "duration": 4,
    "start_time": "2022-04-11T17:28:45.832Z"
   },
   {
    "duration": 4,
    "start_time": "2022-04-11T17:28:46.501Z"
   },
   {
    "duration": 11,
    "start_time": "2022-04-11T17:28:47.853Z"
   },
   {
    "duration": 5,
    "start_time": "2022-04-11T17:29:07.159Z"
   },
   {
    "duration": 4,
    "start_time": "2022-04-11T17:29:08.896Z"
   },
   {
    "duration": 4,
    "start_time": "2022-04-11T17:29:11.346Z"
   },
   {
    "duration": 6,
    "start_time": "2022-04-11T17:29:35.831Z"
   },
   {
    "duration": 117,
    "start_time": "2022-04-11T17:32:50.483Z"
   },
   {
    "duration": 117,
    "start_time": "2022-04-11T17:35:33.532Z"
   },
   {
    "duration": 1023,
    "start_time": "2022-04-11T17:37:05.637Z"
   },
   {
    "duration": 52,
    "start_time": "2022-04-11T17:40:42.777Z"
   },
   {
    "duration": 4,
    "start_time": "2022-04-11T17:42:52.234Z"
   },
   {
    "duration": 14,
    "start_time": "2022-04-11T17:44:00.832Z"
   },
   {
    "duration": 90,
    "start_time": "2022-04-11T17:44:01.961Z"
   },
   {
    "duration": 45,
    "start_time": "2022-04-11T17:44:03.846Z"
   },
   {
    "duration": 102,
    "start_time": "2022-04-11T17:48:12.992Z"
   },
   {
    "duration": 6,
    "start_time": "2022-04-11T17:48:42.928Z"
   },
   {
    "duration": 1209,
    "start_time": "2022-04-11T18:44:45.692Z"
   },
   {
    "duration": 29,
    "start_time": "2022-04-11T18:44:46.903Z"
   },
   {
    "duration": 21,
    "start_time": "2022-04-11T18:44:46.934Z"
   },
   {
    "duration": 12,
    "start_time": "2022-04-11T18:44:46.957Z"
   },
   {
    "duration": 28,
    "start_time": "2022-04-11T18:44:46.970Z"
   },
   {
    "duration": 3,
    "start_time": "2022-04-11T18:44:47.000Z"
   },
   {
    "duration": 27,
    "start_time": "2022-04-11T18:44:47.005Z"
   },
   {
    "duration": 3,
    "start_time": "2022-04-11T18:44:47.034Z"
   },
   {
    "duration": 15,
    "start_time": "2022-04-11T18:44:47.039Z"
   },
   {
    "duration": 5,
    "start_time": "2022-04-11T18:44:47.056Z"
   },
   {
    "duration": 13,
    "start_time": "2022-04-11T18:44:47.063Z"
   },
   {
    "duration": 10,
    "start_time": "2022-04-11T18:44:47.078Z"
   },
   {
    "duration": 15,
    "start_time": "2022-04-11T18:44:47.089Z"
   },
   {
    "duration": 146,
    "start_time": "2022-04-11T18:44:47.106Z"
   },
   {
    "duration": 1060,
    "start_time": "2022-04-11T18:44:47.254Z"
   },
   {
    "duration": 56,
    "start_time": "2022-04-11T18:44:48.316Z"
   },
   {
    "duration": 4,
    "start_time": "2022-04-11T18:44:48.373Z"
   },
   {
    "duration": 19,
    "start_time": "2022-04-11T18:44:48.379Z"
   },
   {
    "duration": 116,
    "start_time": "2022-04-11T18:44:48.400Z"
   },
   {
    "duration": 57,
    "start_time": "2022-04-11T18:44:48.518Z"
   },
   {
    "duration": 6,
    "start_time": "2022-04-11T18:44:48.577Z"
   },
   {
    "duration": 1939,
    "start_time": "2022-04-12T07:46:15.101Z"
   },
   {
    "duration": 32,
    "start_time": "2022-04-12T07:46:18.587Z"
   },
   {
    "duration": 28,
    "start_time": "2022-04-12T07:46:19.301Z"
   },
   {
    "duration": 17,
    "start_time": "2022-04-12T07:46:20.501Z"
   },
   {
    "duration": 38,
    "start_time": "2022-04-12T07:46:21.347Z"
   },
   {
    "duration": 6,
    "start_time": "2022-04-12T07:46:23.823Z"
   },
   {
    "duration": 7,
    "start_time": "2022-04-12T07:46:24.428Z"
   },
   {
    "duration": 6,
    "start_time": "2022-04-12T07:46:24.861Z"
   },
   {
    "duration": 16,
    "start_time": "2022-04-12T07:46:25.810Z"
   },
   {
    "duration": 9,
    "start_time": "2022-04-12T07:46:28.102Z"
   },
   {
    "duration": 8,
    "start_time": "2022-04-12T07:46:29.434Z"
   },
   {
    "duration": 6,
    "start_time": "2022-04-12T07:46:31.130Z"
   },
   {
    "duration": 7,
    "start_time": "2022-04-12T07:46:38.508Z"
   },
   {
    "duration": 306,
    "start_time": "2022-04-12T07:47:42.583Z"
   },
   {
    "duration": 136,
    "start_time": "2022-04-12T07:50:09.956Z"
   },
   {
    "duration": 1638,
    "start_time": "2022-04-12T07:52:02.898Z"
   },
   {
    "duration": 77,
    "start_time": "2022-04-12T07:52:59.476Z"
   },
   {
    "duration": 8,
    "start_time": "2022-04-12T07:55:49.510Z"
   },
   {
    "duration": 14,
    "start_time": "2022-04-12T07:59:47.526Z"
   },
   {
    "duration": 10,
    "start_time": "2022-04-12T08:01:46.339Z"
   },
   {
    "duration": 23,
    "start_time": "2022-04-12T08:01:56.630Z"
   },
   {
    "duration": 67,
    "start_time": "2022-04-12T08:03:10.671Z"
   },
   {
    "duration": 171,
    "start_time": "2022-04-12T08:03:26.737Z"
   },
   {
    "duration": 6,
    "start_time": "2022-04-12T08:04:09.274Z"
   },
   {
    "duration": 15,
    "start_time": "2022-04-12T08:04:11.024Z"
   },
   {
    "duration": 16,
    "start_time": "2022-04-12T08:04:12.213Z"
   },
   {
    "duration": 16,
    "start_time": "2022-04-12T08:04:13.469Z"
   },
   {
    "duration": 33,
    "start_time": "2022-04-12T08:04:13.844Z"
   },
   {
    "duration": 5,
    "start_time": "2022-04-12T08:04:14.710Z"
   },
   {
    "duration": 5,
    "start_time": "2022-04-12T08:04:14.844Z"
   },
   {
    "duration": 5,
    "start_time": "2022-04-12T08:04:15.012Z"
   },
   {
    "duration": 15,
    "start_time": "2022-04-12T08:04:15.356Z"
   },
   {
    "duration": 8,
    "start_time": "2022-04-12T08:04:16.344Z"
   },
   {
    "duration": 7,
    "start_time": "2022-04-12T08:04:17.574Z"
   },
   {
    "duration": 6,
    "start_time": "2022-04-12T08:04:18.647Z"
   },
   {
    "duration": 8,
    "start_time": "2022-04-12T08:04:21.413Z"
   },
   {
    "duration": 241,
    "start_time": "2022-04-12T08:04:23.315Z"
   },
   {
    "duration": 1712,
    "start_time": "2022-04-12T08:04:30.554Z"
   },
   {
    "duration": 96,
    "start_time": "2022-04-12T08:04:38.404Z"
   },
   {
    "duration": 7,
    "start_time": "2022-04-12T08:05:01.606Z"
   },
   {
    "duration": 9,
    "start_time": "2022-04-12T08:05:04.154Z"
   },
   {
    "duration": 56,
    "start_time": "2022-04-12T08:05:05.558Z"
   },
   {
    "duration": 131,
    "start_time": "2022-04-12T08:05:06.635Z"
   },
   {
    "duration": 7,
    "start_time": "2022-04-12T08:05:21.957Z"
   },
   {
    "duration": 7,
    "start_time": "2022-04-12T08:10:38.966Z"
   },
   {
    "duration": 115,
    "start_time": "2022-04-12T08:11:10.728Z"
   },
   {
    "duration": 8,
    "start_time": "2022-04-12T08:12:11.817Z"
   },
   {
    "duration": 8,
    "start_time": "2022-04-12T08:12:31.927Z"
   }
  ],
  "kernelspec": {
   "display_name": "Python 3 (ipykernel)",
   "language": "python",
   "name": "python3"
  },
  "language_info": {
   "codemirror_mode": {
    "name": "ipython",
    "version": 3
   },
   "file_extension": ".py",
   "mimetype": "text/x-python",
   "name": "python",
   "nbconvert_exporter": "python",
   "pygments_lexer": "ipython3",
   "version": "3.9.12"
  },
  "toc": {
   "base_numbering": 1,
   "nav_menu": {},
   "number_sections": true,
   "sideBar": true,
   "skip_h1_title": true,
   "title_cell": "Table of Contents",
   "title_sidebar": "Contents",
   "toc_cell": false,
   "toc_position": {},
   "toc_section_display": true,
   "toc_window_display": false
  }
 },
 "nbformat": 4,
 "nbformat_minor": 2
}
