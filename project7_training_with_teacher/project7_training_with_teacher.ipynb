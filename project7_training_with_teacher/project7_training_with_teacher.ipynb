{
 "cells": [
  {
   "cell_type": "markdown",
   "metadata": {},
   "source": [
    "# Отток клиентов"
   ]
  },
  {
   "cell_type": "markdown",
   "metadata": {},
   "source": [
    "Из «Бета-Банка» стали уходить клиенты. Каждый месяц. Немного, но заметно. Банковские маркетологи посчитали: сохранять текущих клиентов дешевле, чем привлекать новых.\n",
    "\n",
    "Нужно спрогнозировать, уйдёт клиент из банка в ближайшее время или нет. Нам предоставлены исторические данные о поведении клиентов и расторжении договоров с банком. \n",
    "\n",
    "Построить модель с предельно большим значением *F1*-меры. Чтобы сдать проект успешно, нужно довести метрику до 0.59. \n",
    "\n",
    "Дополнительно измеряйте *AUC-ROC*, сравнивайте её значение с *F1*-мерой.\n",
    "\n",
    "Источник данных: [https://www.kaggle.com/barelydedicated/bank-customer-churn-modeling](https://www.kaggle.com/barelydedicated/bank-customer-churn-modeling)"
   ]
  },
  {
   "cell_type": "markdown",
   "metadata": {
    "toc": true
   },
   "source": [
    "<h1>Содержание<span class=\"tocSkip\"></span></h1>\n",
    "<div class=\"toc\"><ul class=\"toc-item\"><li><span><a href=\"#Подготовка-данных\" data-toc-modified-id=\"Подготовка-данных-1\"><span class=\"toc-item-num\">1&nbsp;&nbsp;</span>Подготовка данных</a></span><ul class=\"toc-item\"><li><span><a href=\"#Предобработка-данных\" data-toc-modified-id=\"Предобработка-данных-1.1\"><span class=\"toc-item-num\">1.1&nbsp;&nbsp;</span>Предобработка данных</a></span><ul class=\"toc-item\"><li><span><a href=\"#Удаление-лишних-столбцов\" data-toc-modified-id=\"Удаление-лишних-столбцов-1.1.1\"><span class=\"toc-item-num\">1.1.1&nbsp;&nbsp;</span>Удаление лишних столбцов</a></span></li><li><span><a href=\"#Заполнение-пропусков\" data-toc-modified-id=\"Заполнение-пропусков-1.1.2\"><span class=\"toc-item-num\">1.1.2&nbsp;&nbsp;</span>Заполнение пропусков</a></span></li><li><span><a href=\"#Изменение-типов-данных\" data-toc-modified-id=\"Изменение-типов-данных-1.1.3\"><span class=\"toc-item-num\">1.1.3&nbsp;&nbsp;</span>Изменение типов данных</a></span></li><li><span><a href=\"#Прямое-кодирование\" data-toc-modified-id=\"Прямое-кодирование-1.1.4\"><span class=\"toc-item-num\">1.1.4&nbsp;&nbsp;</span>Прямое кодирование</a></span></li></ul></li></ul></li><li><span><a href=\"#Исследование-задачи\" data-toc-modified-id=\"Исследование-задачи-2\"><span class=\"toc-item-num\">2&nbsp;&nbsp;</span>Исследование задачи</a></span><ul class=\"toc-item\"><li><span><a href=\"#Деление-данных-на-выборки\" data-toc-modified-id=\"Деление-данных-на-выборки-2.1\"><span class=\"toc-item-num\">2.1&nbsp;&nbsp;</span>Деление данных на выборки</a></span></li><li><span><a href=\"#Масштабирование-численных-признаков\" data-toc-modified-id=\"Масштабирование-численных-признаков-2.2\"><span class=\"toc-item-num\">2.2&nbsp;&nbsp;</span>Масштабирование численных признаков</a></span></li></ul></li><li><span><a href=\"#Обучение-моделей\" data-toc-modified-id=\"Обучение-моделей-3\"><span class=\"toc-item-num\">3&nbsp;&nbsp;</span>Обучение моделей</a></span><ul class=\"toc-item\"><li><ul class=\"toc-item\"><li><span><a href=\"#Дерево-решений\" data-toc-modified-id=\"Дерево-решений-3.0.1\"><span class=\"toc-item-num\">3.0.1&nbsp;&nbsp;</span>Дерево решений</a></span></li><li><span><a href=\"#Случайный-лес\" data-toc-modified-id=\"Случайный-лес-3.0.2\"><span class=\"toc-item-num\">3.0.2&nbsp;&nbsp;</span>Случайный лес</a></span></li><li><span><a href=\"#Логистическая-регрессия\" data-toc-modified-id=\"Логистическая-регрессия-3.0.3\"><span class=\"toc-item-num\">3.0.3&nbsp;&nbsp;</span>Логистическая регрессия</a></span></li></ul></li></ul></li><li><span><a href=\"#Борьба-с-дисбалансом\" data-toc-modified-id=\"Борьба-с-дисбалансом-4\"><span class=\"toc-item-num\">4&nbsp;&nbsp;</span>Борьба с дисбалансом</a></span><ul class=\"toc-item\"><li><span><a href=\"#Взвешивание-классов\" data-toc-modified-id=\"Взвешивание-классов-4.1\"><span class=\"toc-item-num\">4.1&nbsp;&nbsp;</span>Взвешивание классов</a></span><ul class=\"toc-item\"><li><span><a href=\"#Дерево-решений\" data-toc-modified-id=\"Дерево-решений-4.1.1\"><span class=\"toc-item-num\">4.1.1&nbsp;&nbsp;</span>Дерево решений</a></span></li><li><span><a href=\"#Случайный-лес\" data-toc-modified-id=\"Случайный-лес-4.1.2\"><span class=\"toc-item-num\">4.1.2&nbsp;&nbsp;</span>Случайный лес</a></span></li><li><span><a href=\"#Логистическая-регрессия\" data-toc-modified-id=\"Логистическая-регрессия-4.1.3\"><span class=\"toc-item-num\">4.1.3&nbsp;&nbsp;</span>Логистическая регрессия</a></span></li></ul></li><li><span><a href=\"#Увеличение-выборки\" data-toc-modified-id=\"Увеличение-выборки-4.2\"><span class=\"toc-item-num\">4.2&nbsp;&nbsp;</span>Увеличение выборки</a></span><ul class=\"toc-item\"><li><span><a href=\"#Дерево-решений\" data-toc-modified-id=\"Дерево-решений-4.2.1\"><span class=\"toc-item-num\">4.2.1&nbsp;&nbsp;</span>Дерево решений</a></span></li><li><span><a href=\"#Случайный-лес\" data-toc-modified-id=\"Случайный-лес-4.2.2\"><span class=\"toc-item-num\">4.2.2&nbsp;&nbsp;</span>Случайный лес</a></span></li><li><span><a href=\"#Логистическая-регрессия\" data-toc-modified-id=\"Логистическая-регрессия-4.2.3\"><span class=\"toc-item-num\">4.2.3&nbsp;&nbsp;</span>Логистическая регрессия</a></span></li></ul></li><li><span><a href=\"#Уменьшение-выборки\" data-toc-modified-id=\"Уменьшение-выборки-4.3\"><span class=\"toc-item-num\">4.3&nbsp;&nbsp;</span>Уменьшение выборки</a></span><ul class=\"toc-item\"><li><span><a href=\"#Дерево-решений\" data-toc-modified-id=\"Дерево-решений-4.3.1\"><span class=\"toc-item-num\">4.3.1&nbsp;&nbsp;</span>Дерево решений</a></span></li><li><span><a href=\"#Случайный-лес\" data-toc-modified-id=\"Случайный-лес-4.3.2\"><span class=\"toc-item-num\">4.3.2&nbsp;&nbsp;</span>Случайный лес</a></span></li><li><span><a href=\"#Логистическая-регрессия\" data-toc-modified-id=\"Логистическая-регрессия-4.3.3\"><span class=\"toc-item-num\">4.3.3&nbsp;&nbsp;</span>Логистическая регрессия</a></span></li></ul></li><li><span><a href=\"#Изменение-порога-классификации\" data-toc-modified-id=\"Изменение-порога-классификации-4.4\"><span class=\"toc-item-num\">4.4&nbsp;&nbsp;</span>Изменение порога классификации</a></span><ul class=\"toc-item\"><li><span><a href=\"#Дерево-решений\" data-toc-modified-id=\"Дерево-решений-4.4.1\"><span class=\"toc-item-num\">4.4.1&nbsp;&nbsp;</span>Дерево решений</a></span></li><li><span><a href=\"#Случайный-лес\" data-toc-modified-id=\"Случайный-лес-4.4.2\"><span class=\"toc-item-num\">4.4.2&nbsp;&nbsp;</span>Случайный лес</a></span></li><li><span><a href=\"#Логистическая-регрессия\" data-toc-modified-id=\"Логистическая-регрессия-4.4.3\"><span class=\"toc-item-num\">4.4.3&nbsp;&nbsp;</span>Логистическая регрессия</a></span></li></ul></li></ul></li><li><span><a href=\"#Тестирование-модели\" data-toc-modified-id=\"Тестирование-модели-5\"><span class=\"toc-item-num\">5&nbsp;&nbsp;</span>Тестирование модели</a></span></li><li><span><a href=\"#Общий-вывод\" data-toc-modified-id=\"Общий-вывод-6\"><span class=\"toc-item-num\">6&nbsp;&nbsp;</span>Общий вывод</a></span></li><li><span><a href=\"#Чек-лист-готовности-проекта\" data-toc-modified-id=\"Чек-лист-готовности-проекта-7\"><span class=\"toc-item-num\">7&nbsp;&nbsp;</span>Чек-лист готовности проекта</a></span></li></ul></div>"
   ]
  },
  {
   "cell_type": "markdown",
   "metadata": {},
   "source": [
    "## Подготовка данных"
   ]
  },
  {
   "cell_type": "markdown",
   "metadata": {},
   "source": [
    "Для начала импортируем модули, которые нам понадобятся."
   ]
  },
  {
   "cell_type": "code",
   "execution_count": 217,
   "metadata": {},
   "outputs": [],
   "source": [
    "# импорт нужных библиотек и модулей\n",
    "import pandas as pd\n",
    "import matplotlib.pyplot as plt\n",
    "import numpy as np\n",
    "from sklearn.tree import DecisionTreeClassifier \n",
    "from sklearn.ensemble import RandomForestClassifier\n",
    "from sklearn.linear_model import LogisticRegression\n",
    "from sklearn.model_selection import train_test_split \n",
    "from sklearn.metrics import accuracy_score\n",
    "from sklearn.metrics import roc_curve\n",
    "from sklearn.utils import shuffle\n",
    "from sklearn.preprocessing import StandardScaler\n",
    "from sklearn.metrics import confusion_matrix, recall_score, precision_score, f1_score, roc_auc_score"
   ]
  },
  {
   "cell_type": "markdown",
   "metadata": {},
   "source": [
    "Выгрузим данные из csv файла"
   ]
  },
  {
   "cell_type": "code",
   "execution_count": 159,
   "metadata": {},
   "outputs": [],
   "source": [
    "df = pd.read_csv('/datasets/Churn.csv')"
   ]
  },
  {
   "cell_type": "markdown",
   "metadata": {},
   "source": [
    "Посмотрим на первые 10 строк таблицы"
   ]
  },
  {
   "cell_type": "code",
   "execution_count": 160,
   "metadata": {},
   "outputs": [
    {
     "data": {
      "text/html": [
       "<div>\n",
       "<style scoped>\n",
       "    .dataframe tbody tr th:only-of-type {\n",
       "        vertical-align: middle;\n",
       "    }\n",
       "\n",
       "    .dataframe tbody tr th {\n",
       "        vertical-align: top;\n",
       "    }\n",
       "\n",
       "    .dataframe thead th {\n",
       "        text-align: right;\n",
       "    }\n",
       "</style>\n",
       "<table border=\"1\" class=\"dataframe\">\n",
       "  <thead>\n",
       "    <tr style=\"text-align: right;\">\n",
       "      <th></th>\n",
       "      <th>RowNumber</th>\n",
       "      <th>CustomerId</th>\n",
       "      <th>Surname</th>\n",
       "      <th>CreditScore</th>\n",
       "      <th>Geography</th>\n",
       "      <th>Gender</th>\n",
       "      <th>Age</th>\n",
       "      <th>Tenure</th>\n",
       "      <th>Balance</th>\n",
       "      <th>NumOfProducts</th>\n",
       "      <th>HasCrCard</th>\n",
       "      <th>IsActiveMember</th>\n",
       "      <th>EstimatedSalary</th>\n",
       "      <th>Exited</th>\n",
       "    </tr>\n",
       "  </thead>\n",
       "  <tbody>\n",
       "    <tr>\n",
       "      <th>0</th>\n",
       "      <td>1</td>\n",
       "      <td>15634602</td>\n",
       "      <td>Hargrave</td>\n",
       "      <td>619</td>\n",
       "      <td>France</td>\n",
       "      <td>Female</td>\n",
       "      <td>42</td>\n",
       "      <td>2.0</td>\n",
       "      <td>0.00</td>\n",
       "      <td>1</td>\n",
       "      <td>1</td>\n",
       "      <td>1</td>\n",
       "      <td>101348.88</td>\n",
       "      <td>1</td>\n",
       "    </tr>\n",
       "    <tr>\n",
       "      <th>1</th>\n",
       "      <td>2</td>\n",
       "      <td>15647311</td>\n",
       "      <td>Hill</td>\n",
       "      <td>608</td>\n",
       "      <td>Spain</td>\n",
       "      <td>Female</td>\n",
       "      <td>41</td>\n",
       "      <td>1.0</td>\n",
       "      <td>83807.86</td>\n",
       "      <td>1</td>\n",
       "      <td>0</td>\n",
       "      <td>1</td>\n",
       "      <td>112542.58</td>\n",
       "      <td>0</td>\n",
       "    </tr>\n",
       "    <tr>\n",
       "      <th>2</th>\n",
       "      <td>3</td>\n",
       "      <td>15619304</td>\n",
       "      <td>Onio</td>\n",
       "      <td>502</td>\n",
       "      <td>France</td>\n",
       "      <td>Female</td>\n",
       "      <td>42</td>\n",
       "      <td>8.0</td>\n",
       "      <td>159660.80</td>\n",
       "      <td>3</td>\n",
       "      <td>1</td>\n",
       "      <td>0</td>\n",
       "      <td>113931.57</td>\n",
       "      <td>1</td>\n",
       "    </tr>\n",
       "    <tr>\n",
       "      <th>3</th>\n",
       "      <td>4</td>\n",
       "      <td>15701354</td>\n",
       "      <td>Boni</td>\n",
       "      <td>699</td>\n",
       "      <td>France</td>\n",
       "      <td>Female</td>\n",
       "      <td>39</td>\n",
       "      <td>1.0</td>\n",
       "      <td>0.00</td>\n",
       "      <td>2</td>\n",
       "      <td>0</td>\n",
       "      <td>0</td>\n",
       "      <td>93826.63</td>\n",
       "      <td>0</td>\n",
       "    </tr>\n",
       "    <tr>\n",
       "      <th>4</th>\n",
       "      <td>5</td>\n",
       "      <td>15737888</td>\n",
       "      <td>Mitchell</td>\n",
       "      <td>850</td>\n",
       "      <td>Spain</td>\n",
       "      <td>Female</td>\n",
       "      <td>43</td>\n",
       "      <td>2.0</td>\n",
       "      <td>125510.82</td>\n",
       "      <td>1</td>\n",
       "      <td>1</td>\n",
       "      <td>1</td>\n",
       "      <td>79084.10</td>\n",
       "      <td>0</td>\n",
       "    </tr>\n",
       "    <tr>\n",
       "      <th>5</th>\n",
       "      <td>6</td>\n",
       "      <td>15574012</td>\n",
       "      <td>Chu</td>\n",
       "      <td>645</td>\n",
       "      <td>Spain</td>\n",
       "      <td>Male</td>\n",
       "      <td>44</td>\n",
       "      <td>8.0</td>\n",
       "      <td>113755.78</td>\n",
       "      <td>2</td>\n",
       "      <td>1</td>\n",
       "      <td>0</td>\n",
       "      <td>149756.71</td>\n",
       "      <td>1</td>\n",
       "    </tr>\n",
       "    <tr>\n",
       "      <th>6</th>\n",
       "      <td>7</td>\n",
       "      <td>15592531</td>\n",
       "      <td>Bartlett</td>\n",
       "      <td>822</td>\n",
       "      <td>France</td>\n",
       "      <td>Male</td>\n",
       "      <td>50</td>\n",
       "      <td>7.0</td>\n",
       "      <td>0.00</td>\n",
       "      <td>2</td>\n",
       "      <td>1</td>\n",
       "      <td>1</td>\n",
       "      <td>10062.80</td>\n",
       "      <td>0</td>\n",
       "    </tr>\n",
       "    <tr>\n",
       "      <th>7</th>\n",
       "      <td>8</td>\n",
       "      <td>15656148</td>\n",
       "      <td>Obinna</td>\n",
       "      <td>376</td>\n",
       "      <td>Germany</td>\n",
       "      <td>Female</td>\n",
       "      <td>29</td>\n",
       "      <td>4.0</td>\n",
       "      <td>115046.74</td>\n",
       "      <td>4</td>\n",
       "      <td>1</td>\n",
       "      <td>0</td>\n",
       "      <td>119346.88</td>\n",
       "      <td>1</td>\n",
       "    </tr>\n",
       "    <tr>\n",
       "      <th>8</th>\n",
       "      <td>9</td>\n",
       "      <td>15792365</td>\n",
       "      <td>He</td>\n",
       "      <td>501</td>\n",
       "      <td>France</td>\n",
       "      <td>Male</td>\n",
       "      <td>44</td>\n",
       "      <td>4.0</td>\n",
       "      <td>142051.07</td>\n",
       "      <td>2</td>\n",
       "      <td>0</td>\n",
       "      <td>1</td>\n",
       "      <td>74940.50</td>\n",
       "      <td>0</td>\n",
       "    </tr>\n",
       "    <tr>\n",
       "      <th>9</th>\n",
       "      <td>10</td>\n",
       "      <td>15592389</td>\n",
       "      <td>H?</td>\n",
       "      <td>684</td>\n",
       "      <td>France</td>\n",
       "      <td>Male</td>\n",
       "      <td>27</td>\n",
       "      <td>2.0</td>\n",
       "      <td>134603.88</td>\n",
       "      <td>1</td>\n",
       "      <td>1</td>\n",
       "      <td>1</td>\n",
       "      <td>71725.73</td>\n",
       "      <td>0</td>\n",
       "    </tr>\n",
       "  </tbody>\n",
       "</table>\n",
       "</div>"
      ],
      "text/plain": [
       "   RowNumber  CustomerId   Surname  CreditScore Geography  Gender  Age  \\\n",
       "0          1    15634602  Hargrave          619    France  Female   42   \n",
       "1          2    15647311      Hill          608     Spain  Female   41   \n",
       "2          3    15619304      Onio          502    France  Female   42   \n",
       "3          4    15701354      Boni          699    France  Female   39   \n",
       "4          5    15737888  Mitchell          850     Spain  Female   43   \n",
       "5          6    15574012       Chu          645     Spain    Male   44   \n",
       "6          7    15592531  Bartlett          822    France    Male   50   \n",
       "7          8    15656148    Obinna          376   Germany  Female   29   \n",
       "8          9    15792365        He          501    France    Male   44   \n",
       "9         10    15592389        H?          684    France    Male   27   \n",
       "\n",
       "   Tenure    Balance  NumOfProducts  HasCrCard  IsActiveMember  \\\n",
       "0     2.0       0.00              1          1               1   \n",
       "1     1.0   83807.86              1          0               1   \n",
       "2     8.0  159660.80              3          1               0   \n",
       "3     1.0       0.00              2          0               0   \n",
       "4     2.0  125510.82              1          1               1   \n",
       "5     8.0  113755.78              2          1               0   \n",
       "6     7.0       0.00              2          1               1   \n",
       "7     4.0  115046.74              4          1               0   \n",
       "8     4.0  142051.07              2          0               1   \n",
       "9     2.0  134603.88              1          1               1   \n",
       "\n",
       "   EstimatedSalary  Exited  \n",
       "0        101348.88       1  \n",
       "1        112542.58       0  \n",
       "2        113931.57       1  \n",
       "3         93826.63       0  \n",
       "4         79084.10       0  \n",
       "5        149756.71       1  \n",
       "6         10062.80       0  \n",
       "7        119346.88       1  \n",
       "8         74940.50       0  \n",
       "9         71725.73       0  "
      ]
     },
     "execution_count": 160,
     "metadata": {},
     "output_type": "execute_result"
    }
   ],
   "source": [
    "df.head(10)"
   ]
  },
  {
   "cell_type": "markdown",
   "metadata": {},
   "source": [
    "В каждой строке таблицы информация о клиенте.\n",
    "\n",
    "Признаки\n",
    " * RowNumber — индекс строки в данных\n",
    " * CustomerId — уникальный идентификатор клиента\n",
    " * Surname — фамилия\n",
    " * CreditScore — кредитный рейтинг\n",
    " * Geography — страна проживания\n",
    " * Gender — пол\n",
    " * Age — возраст\n",
    " * Tenure — сколько лет человек является клиентом банка\n",
    " * Balance — баланс на счёте\n",
    " * NumOfProducts — количество продуктов банка, используемых клиентом\n",
    " * HasCrCard — наличие кредитной карты\n",
    " * IsActiveMember — активность клиента\n",
    " * EstimatedSalary — предполагаемая зарплата\n",
    " \n",
    "Целевой признак\n",
    " * Exited — факт ухода клиента"
   ]
  },
  {
   "cell_type": "markdown",
   "metadata": {},
   "source": [
    "Продолжим изучать данные. Теперь посмотрим общую информацию о таблице."
   ]
  },
  {
   "cell_type": "code",
   "execution_count": 161,
   "metadata": {},
   "outputs": [
    {
     "name": "stdout",
     "output_type": "stream",
     "text": [
      "<class 'pandas.core.frame.DataFrame'>\n",
      "RangeIndex: 10000 entries, 0 to 9999\n",
      "Data columns (total 14 columns):\n",
      " #   Column           Non-Null Count  Dtype  \n",
      "---  ------           --------------  -----  \n",
      " 0   RowNumber        10000 non-null  int64  \n",
      " 1   CustomerId       10000 non-null  int64  \n",
      " 2   Surname          10000 non-null  object \n",
      " 3   CreditScore      10000 non-null  int64  \n",
      " 4   Geography        10000 non-null  object \n",
      " 5   Gender           10000 non-null  object \n",
      " 6   Age              10000 non-null  int64  \n",
      " 7   Tenure           9091 non-null   float64\n",
      " 8   Balance          10000 non-null  float64\n",
      " 9   NumOfProducts    10000 non-null  int64  \n",
      " 10  HasCrCard        10000 non-null  int64  \n",
      " 11  IsActiveMember   10000 non-null  int64  \n",
      " 12  EstimatedSalary  10000 non-null  float64\n",
      " 13  Exited           10000 non-null  int64  \n",
      "dtypes: float64(3), int64(8), object(3)\n",
      "memory usage: 1.1+ MB\n"
     ]
    }
   ],
   "source": [
    "# получение общей информации о данных в таблице df\n",
    "df.info()"
   ]
  },
  {
   "cell_type": "markdown",
   "metadata": {},
   "source": [
    "Получим больше информации при помощи метода describe(), посмотрим на разброс значений по столбцам"
   ]
  },
  {
   "cell_type": "code",
   "execution_count": 162,
   "metadata": {},
   "outputs": [
    {
     "data": {
      "text/html": [
       "<div>\n",
       "<style scoped>\n",
       "    .dataframe tbody tr th:only-of-type {\n",
       "        vertical-align: middle;\n",
       "    }\n",
       "\n",
       "    .dataframe tbody tr th {\n",
       "        vertical-align: top;\n",
       "    }\n",
       "\n",
       "    .dataframe thead th {\n",
       "        text-align: right;\n",
       "    }\n",
       "</style>\n",
       "<table border=\"1\" class=\"dataframe\">\n",
       "  <thead>\n",
       "    <tr style=\"text-align: right;\">\n",
       "      <th></th>\n",
       "      <th>RowNumber</th>\n",
       "      <th>CustomerId</th>\n",
       "      <th>CreditScore</th>\n",
       "      <th>Age</th>\n",
       "      <th>Tenure</th>\n",
       "      <th>Balance</th>\n",
       "      <th>NumOfProducts</th>\n",
       "      <th>HasCrCard</th>\n",
       "      <th>IsActiveMember</th>\n",
       "      <th>EstimatedSalary</th>\n",
       "      <th>Exited</th>\n",
       "    </tr>\n",
       "  </thead>\n",
       "  <tbody>\n",
       "    <tr>\n",
       "      <th>count</th>\n",
       "      <td>10000.00000</td>\n",
       "      <td>1.000000e+04</td>\n",
       "      <td>10000.000000</td>\n",
       "      <td>10000.000000</td>\n",
       "      <td>9091.000000</td>\n",
       "      <td>10000.000000</td>\n",
       "      <td>10000.000000</td>\n",
       "      <td>10000.00000</td>\n",
       "      <td>10000.000000</td>\n",
       "      <td>10000.000000</td>\n",
       "      <td>10000.000000</td>\n",
       "    </tr>\n",
       "    <tr>\n",
       "      <th>mean</th>\n",
       "      <td>5000.50000</td>\n",
       "      <td>1.569094e+07</td>\n",
       "      <td>650.528800</td>\n",
       "      <td>38.921800</td>\n",
       "      <td>4.997690</td>\n",
       "      <td>76485.889288</td>\n",
       "      <td>1.530200</td>\n",
       "      <td>0.70550</td>\n",
       "      <td>0.515100</td>\n",
       "      <td>100090.239881</td>\n",
       "      <td>0.203700</td>\n",
       "    </tr>\n",
       "    <tr>\n",
       "      <th>std</th>\n",
       "      <td>2886.89568</td>\n",
       "      <td>7.193619e+04</td>\n",
       "      <td>96.653299</td>\n",
       "      <td>10.487806</td>\n",
       "      <td>2.894723</td>\n",
       "      <td>62397.405202</td>\n",
       "      <td>0.581654</td>\n",
       "      <td>0.45584</td>\n",
       "      <td>0.499797</td>\n",
       "      <td>57510.492818</td>\n",
       "      <td>0.402769</td>\n",
       "    </tr>\n",
       "    <tr>\n",
       "      <th>min</th>\n",
       "      <td>1.00000</td>\n",
       "      <td>1.556570e+07</td>\n",
       "      <td>350.000000</td>\n",
       "      <td>18.000000</td>\n",
       "      <td>0.000000</td>\n",
       "      <td>0.000000</td>\n",
       "      <td>1.000000</td>\n",
       "      <td>0.00000</td>\n",
       "      <td>0.000000</td>\n",
       "      <td>11.580000</td>\n",
       "      <td>0.000000</td>\n",
       "    </tr>\n",
       "    <tr>\n",
       "      <th>25%</th>\n",
       "      <td>2500.75000</td>\n",
       "      <td>1.562853e+07</td>\n",
       "      <td>584.000000</td>\n",
       "      <td>32.000000</td>\n",
       "      <td>2.000000</td>\n",
       "      <td>0.000000</td>\n",
       "      <td>1.000000</td>\n",
       "      <td>0.00000</td>\n",
       "      <td>0.000000</td>\n",
       "      <td>51002.110000</td>\n",
       "      <td>0.000000</td>\n",
       "    </tr>\n",
       "    <tr>\n",
       "      <th>50%</th>\n",
       "      <td>5000.50000</td>\n",
       "      <td>1.569074e+07</td>\n",
       "      <td>652.000000</td>\n",
       "      <td>37.000000</td>\n",
       "      <td>5.000000</td>\n",
       "      <td>97198.540000</td>\n",
       "      <td>1.000000</td>\n",
       "      <td>1.00000</td>\n",
       "      <td>1.000000</td>\n",
       "      <td>100193.915000</td>\n",
       "      <td>0.000000</td>\n",
       "    </tr>\n",
       "    <tr>\n",
       "      <th>75%</th>\n",
       "      <td>7500.25000</td>\n",
       "      <td>1.575323e+07</td>\n",
       "      <td>718.000000</td>\n",
       "      <td>44.000000</td>\n",
       "      <td>7.000000</td>\n",
       "      <td>127644.240000</td>\n",
       "      <td>2.000000</td>\n",
       "      <td>1.00000</td>\n",
       "      <td>1.000000</td>\n",
       "      <td>149388.247500</td>\n",
       "      <td>0.000000</td>\n",
       "    </tr>\n",
       "    <tr>\n",
       "      <th>max</th>\n",
       "      <td>10000.00000</td>\n",
       "      <td>1.581569e+07</td>\n",
       "      <td>850.000000</td>\n",
       "      <td>92.000000</td>\n",
       "      <td>10.000000</td>\n",
       "      <td>250898.090000</td>\n",
       "      <td>4.000000</td>\n",
       "      <td>1.00000</td>\n",
       "      <td>1.000000</td>\n",
       "      <td>199992.480000</td>\n",
       "      <td>1.000000</td>\n",
       "    </tr>\n",
       "  </tbody>\n",
       "</table>\n",
       "</div>"
      ],
      "text/plain": [
       "         RowNumber    CustomerId   CreditScore           Age       Tenure  \\\n",
       "count  10000.00000  1.000000e+04  10000.000000  10000.000000  9091.000000   \n",
       "mean    5000.50000  1.569094e+07    650.528800     38.921800     4.997690   \n",
       "std     2886.89568  7.193619e+04     96.653299     10.487806     2.894723   \n",
       "min        1.00000  1.556570e+07    350.000000     18.000000     0.000000   \n",
       "25%     2500.75000  1.562853e+07    584.000000     32.000000     2.000000   \n",
       "50%     5000.50000  1.569074e+07    652.000000     37.000000     5.000000   \n",
       "75%     7500.25000  1.575323e+07    718.000000     44.000000     7.000000   \n",
       "max    10000.00000  1.581569e+07    850.000000     92.000000    10.000000   \n",
       "\n",
       "             Balance  NumOfProducts    HasCrCard  IsActiveMember  \\\n",
       "count   10000.000000   10000.000000  10000.00000    10000.000000   \n",
       "mean    76485.889288       1.530200      0.70550        0.515100   \n",
       "std     62397.405202       0.581654      0.45584        0.499797   \n",
       "min         0.000000       1.000000      0.00000        0.000000   \n",
       "25%         0.000000       1.000000      0.00000        0.000000   \n",
       "50%     97198.540000       1.000000      1.00000        1.000000   \n",
       "75%    127644.240000       2.000000      1.00000        1.000000   \n",
       "max    250898.090000       4.000000      1.00000        1.000000   \n",
       "\n",
       "       EstimatedSalary        Exited  \n",
       "count     10000.000000  10000.000000  \n",
       "mean     100090.239881      0.203700  \n",
       "std       57510.492818      0.402769  \n",
       "min          11.580000      0.000000  \n",
       "25%       51002.110000      0.000000  \n",
       "50%      100193.915000      0.000000  \n",
       "75%      149388.247500      0.000000  \n",
       "max      199992.480000      1.000000  "
      ]
     },
     "execution_count": 162,
     "metadata": {},
     "output_type": "execute_result"
    }
   ],
   "source": [
    "# получение разброса значений методом describe()\n",
    "df.describe()"
   ]
  },
  {
   "cell_type": "markdown",
   "metadata": {},
   "source": [
    "<div style=\"border:solid blue 2px; padding: 20px\">\n",
    "\n",
    "**Промежуточные выводы**\n",
    "    \n",
    " * В целом, данные выглядят правдоподобно - аномальных значений нет. \n",
    " * Имеет смысл убрать из таблицы столбцы RowNumber, CustomerId , Surname, поскольку они не несут в себе информации, которая могла бы повлиять на факт ухода клиента. \n",
    " * Для более эффективного обучения модели нужно заполнить пропускии в столбце Tenure\n",
    " * И изменить типы данных (Gender - category, Geography - category, Tenure - int)\n",
    " * Отметим, что признаки Gender и Geography - категориальные, а для обучения модели они должны быть численными. Преобразуем их в численные с помощью техники One-Hot Encoding"
   ]
  },
  {
   "cell_type": "markdown",
   "metadata": {},
   "source": [
    "### Предобработка данных"
   ]
  },
  {
   "cell_type": "markdown",
   "metadata": {},
   "source": [
    "#### Удаление лишних столбцов"
   ]
  },
  {
   "cell_type": "code",
   "execution_count": 163,
   "metadata": {},
   "outputs": [],
   "source": [
    "df = df.drop(['RowNumber','CustomerId', 'Surname'], axis=1 )"
   ]
  },
  {
   "cell_type": "code",
   "execution_count": 164,
   "metadata": {},
   "outputs": [
    {
     "data": {
      "text/html": [
       "<div>\n",
       "<style scoped>\n",
       "    .dataframe tbody tr th:only-of-type {\n",
       "        vertical-align: middle;\n",
       "    }\n",
       "\n",
       "    .dataframe tbody tr th {\n",
       "        vertical-align: top;\n",
       "    }\n",
       "\n",
       "    .dataframe thead th {\n",
       "        text-align: right;\n",
       "    }\n",
       "</style>\n",
       "<table border=\"1\" class=\"dataframe\">\n",
       "  <thead>\n",
       "    <tr style=\"text-align: right;\">\n",
       "      <th></th>\n",
       "      <th>CreditScore</th>\n",
       "      <th>Geography</th>\n",
       "      <th>Gender</th>\n",
       "      <th>Age</th>\n",
       "      <th>Tenure</th>\n",
       "      <th>Balance</th>\n",
       "      <th>NumOfProducts</th>\n",
       "      <th>HasCrCard</th>\n",
       "      <th>IsActiveMember</th>\n",
       "      <th>EstimatedSalary</th>\n",
       "      <th>Exited</th>\n",
       "    </tr>\n",
       "  </thead>\n",
       "  <tbody>\n",
       "    <tr>\n",
       "      <th>0</th>\n",
       "      <td>619</td>\n",
       "      <td>France</td>\n",
       "      <td>Female</td>\n",
       "      <td>42</td>\n",
       "      <td>2.0</td>\n",
       "      <td>0.00</td>\n",
       "      <td>1</td>\n",
       "      <td>1</td>\n",
       "      <td>1</td>\n",
       "      <td>101348.88</td>\n",
       "      <td>1</td>\n",
       "    </tr>\n",
       "    <tr>\n",
       "      <th>1</th>\n",
       "      <td>608</td>\n",
       "      <td>Spain</td>\n",
       "      <td>Female</td>\n",
       "      <td>41</td>\n",
       "      <td>1.0</td>\n",
       "      <td>83807.86</td>\n",
       "      <td>1</td>\n",
       "      <td>0</td>\n",
       "      <td>1</td>\n",
       "      <td>112542.58</td>\n",
       "      <td>0</td>\n",
       "    </tr>\n",
       "    <tr>\n",
       "      <th>2</th>\n",
       "      <td>502</td>\n",
       "      <td>France</td>\n",
       "      <td>Female</td>\n",
       "      <td>42</td>\n",
       "      <td>8.0</td>\n",
       "      <td>159660.80</td>\n",
       "      <td>3</td>\n",
       "      <td>1</td>\n",
       "      <td>0</td>\n",
       "      <td>113931.57</td>\n",
       "      <td>1</td>\n",
       "    </tr>\n",
       "    <tr>\n",
       "      <th>3</th>\n",
       "      <td>699</td>\n",
       "      <td>France</td>\n",
       "      <td>Female</td>\n",
       "      <td>39</td>\n",
       "      <td>1.0</td>\n",
       "      <td>0.00</td>\n",
       "      <td>2</td>\n",
       "      <td>0</td>\n",
       "      <td>0</td>\n",
       "      <td>93826.63</td>\n",
       "      <td>0</td>\n",
       "    </tr>\n",
       "    <tr>\n",
       "      <th>4</th>\n",
       "      <td>850</td>\n",
       "      <td>Spain</td>\n",
       "      <td>Female</td>\n",
       "      <td>43</td>\n",
       "      <td>2.0</td>\n",
       "      <td>125510.82</td>\n",
       "      <td>1</td>\n",
       "      <td>1</td>\n",
       "      <td>1</td>\n",
       "      <td>79084.10</td>\n",
       "      <td>0</td>\n",
       "    </tr>\n",
       "    <tr>\n",
       "      <th>...</th>\n",
       "      <td>...</td>\n",
       "      <td>...</td>\n",
       "      <td>...</td>\n",
       "      <td>...</td>\n",
       "      <td>...</td>\n",
       "      <td>...</td>\n",
       "      <td>...</td>\n",
       "      <td>...</td>\n",
       "      <td>...</td>\n",
       "      <td>...</td>\n",
       "      <td>...</td>\n",
       "    </tr>\n",
       "    <tr>\n",
       "      <th>9995</th>\n",
       "      <td>771</td>\n",
       "      <td>France</td>\n",
       "      <td>Male</td>\n",
       "      <td>39</td>\n",
       "      <td>5.0</td>\n",
       "      <td>0.00</td>\n",
       "      <td>2</td>\n",
       "      <td>1</td>\n",
       "      <td>0</td>\n",
       "      <td>96270.64</td>\n",
       "      <td>0</td>\n",
       "    </tr>\n",
       "    <tr>\n",
       "      <th>9996</th>\n",
       "      <td>516</td>\n",
       "      <td>France</td>\n",
       "      <td>Male</td>\n",
       "      <td>35</td>\n",
       "      <td>10.0</td>\n",
       "      <td>57369.61</td>\n",
       "      <td>1</td>\n",
       "      <td>1</td>\n",
       "      <td>1</td>\n",
       "      <td>101699.77</td>\n",
       "      <td>0</td>\n",
       "    </tr>\n",
       "    <tr>\n",
       "      <th>9997</th>\n",
       "      <td>709</td>\n",
       "      <td>France</td>\n",
       "      <td>Female</td>\n",
       "      <td>36</td>\n",
       "      <td>7.0</td>\n",
       "      <td>0.00</td>\n",
       "      <td>1</td>\n",
       "      <td>0</td>\n",
       "      <td>1</td>\n",
       "      <td>42085.58</td>\n",
       "      <td>1</td>\n",
       "    </tr>\n",
       "    <tr>\n",
       "      <th>9998</th>\n",
       "      <td>772</td>\n",
       "      <td>Germany</td>\n",
       "      <td>Male</td>\n",
       "      <td>42</td>\n",
       "      <td>3.0</td>\n",
       "      <td>75075.31</td>\n",
       "      <td>2</td>\n",
       "      <td>1</td>\n",
       "      <td>0</td>\n",
       "      <td>92888.52</td>\n",
       "      <td>1</td>\n",
       "    </tr>\n",
       "    <tr>\n",
       "      <th>9999</th>\n",
       "      <td>792</td>\n",
       "      <td>France</td>\n",
       "      <td>Female</td>\n",
       "      <td>28</td>\n",
       "      <td>NaN</td>\n",
       "      <td>130142.79</td>\n",
       "      <td>1</td>\n",
       "      <td>1</td>\n",
       "      <td>0</td>\n",
       "      <td>38190.78</td>\n",
       "      <td>0</td>\n",
       "    </tr>\n",
       "  </tbody>\n",
       "</table>\n",
       "<p>10000 rows × 11 columns</p>\n",
       "</div>"
      ],
      "text/plain": [
       "      CreditScore Geography  Gender  Age  Tenure    Balance  NumOfProducts  \\\n",
       "0             619    France  Female   42     2.0       0.00              1   \n",
       "1             608     Spain  Female   41     1.0   83807.86              1   \n",
       "2             502    France  Female   42     8.0  159660.80              3   \n",
       "3             699    France  Female   39     1.0       0.00              2   \n",
       "4             850     Spain  Female   43     2.0  125510.82              1   \n",
       "...           ...       ...     ...  ...     ...        ...            ...   \n",
       "9995          771    France    Male   39     5.0       0.00              2   \n",
       "9996          516    France    Male   35    10.0   57369.61              1   \n",
       "9997          709    France  Female   36     7.0       0.00              1   \n",
       "9998          772   Germany    Male   42     3.0   75075.31              2   \n",
       "9999          792    France  Female   28     NaN  130142.79              1   \n",
       "\n",
       "      HasCrCard  IsActiveMember  EstimatedSalary  Exited  \n",
       "0             1               1        101348.88       1  \n",
       "1             0               1        112542.58       0  \n",
       "2             1               0        113931.57       1  \n",
       "3             0               0         93826.63       0  \n",
       "4             1               1         79084.10       0  \n",
       "...         ...             ...              ...     ...  \n",
       "9995          1               0         96270.64       0  \n",
       "9996          1               1        101699.77       0  \n",
       "9997          0               1         42085.58       1  \n",
       "9998          1               0         92888.52       1  \n",
       "9999          1               0         38190.78       0  \n",
       "\n",
       "[10000 rows x 11 columns]"
      ]
     },
     "execution_count": 164,
     "metadata": {},
     "output_type": "execute_result"
    }
   ],
   "source": [
    "df"
   ]
  },
  {
   "cell_type": "markdown",
   "metadata": {},
   "source": [
    "#### Заполнение пропусков"
   ]
  },
  {
   "cell_type": "markdown",
   "metadata": {},
   "source": [
    "Скорее всего пропуск в этом столбце означает, что человек является клиентом меньше года. Заполним 0"
   ]
  },
  {
   "cell_type": "code",
   "execution_count": 165,
   "metadata": {},
   "outputs": [],
   "source": [
    "df['Tenure'] = df['Tenure'].fillna(0)"
   ]
  },
  {
   "cell_type": "markdown",
   "metadata": {},
   "source": [
    "Проверим, что пропусков не осталось"
   ]
  },
  {
   "cell_type": "code",
   "execution_count": 166,
   "metadata": {},
   "outputs": [
    {
     "data": {
      "text/plain": [
       "0"
      ]
     },
     "execution_count": 166,
     "metadata": {},
     "output_type": "execute_result"
    }
   ],
   "source": [
    "df['Tenure'].isna().sum()"
   ]
  },
  {
   "cell_type": "markdown",
   "metadata": {},
   "source": [
    "#### Изменение типов данных"
   ]
  },
  {
   "cell_type": "code",
   "execution_count": 167,
   "metadata": {},
   "outputs": [],
   "source": [
    "# приведение данных в столбце Tenure к типу int\n",
    "df['Tenure'] = df['Tenure'].astype('int')"
   ]
  },
  {
   "cell_type": "markdown",
   "metadata": {},
   "source": [
    "Проверим, что типы данных изменились"
   ]
  },
  {
   "cell_type": "code",
   "execution_count": 168,
   "metadata": {},
   "outputs": [
    {
     "name": "stdout",
     "output_type": "stream",
     "text": [
      "<class 'pandas.core.frame.DataFrame'>\n",
      "RangeIndex: 10000 entries, 0 to 9999\n",
      "Data columns (total 11 columns):\n",
      " #   Column           Non-Null Count  Dtype  \n",
      "---  ------           --------------  -----  \n",
      " 0   CreditScore      10000 non-null  int64  \n",
      " 1   Geography        10000 non-null  object \n",
      " 2   Gender           10000 non-null  object \n",
      " 3   Age              10000 non-null  int64  \n",
      " 4   Tenure           10000 non-null  int64  \n",
      " 5   Balance          10000 non-null  float64\n",
      " 6   NumOfProducts    10000 non-null  int64  \n",
      " 7   HasCrCard        10000 non-null  int64  \n",
      " 8   IsActiveMember   10000 non-null  int64  \n",
      " 9   EstimatedSalary  10000 non-null  float64\n",
      " 10  Exited           10000 non-null  int64  \n",
      "dtypes: float64(2), int64(7), object(2)\n",
      "memory usage: 859.5+ KB\n"
     ]
    }
   ],
   "source": [
    "# получение общей информации о данных в таблице users\n",
    "df.info()"
   ]
  },
  {
   "cell_type": "markdown",
   "metadata": {},
   "source": [
    "#### Прямое кодирование"
   ]
  },
  {
   "cell_type": "markdown",
   "metadata": {},
   "source": [
    "Переведём категориальные признаки в количественные с помощью техники One-hot-encoding. Используем drop_first=True чтобы не попасть в дамми-ловушку"
   ]
  },
  {
   "cell_type": "code",
   "execution_count": 169,
   "metadata": {},
   "outputs": [],
   "source": [
    "df = pd.get_dummies(df, drop_first=True)"
   ]
  },
  {
   "cell_type": "code",
   "execution_count": 170,
   "metadata": {},
   "outputs": [
    {
     "data": {
      "text/html": [
       "<div>\n",
       "<style scoped>\n",
       "    .dataframe tbody tr th:only-of-type {\n",
       "        vertical-align: middle;\n",
       "    }\n",
       "\n",
       "    .dataframe tbody tr th {\n",
       "        vertical-align: top;\n",
       "    }\n",
       "\n",
       "    .dataframe thead th {\n",
       "        text-align: right;\n",
       "    }\n",
       "</style>\n",
       "<table border=\"1\" class=\"dataframe\">\n",
       "  <thead>\n",
       "    <tr style=\"text-align: right;\">\n",
       "      <th></th>\n",
       "      <th>CreditScore</th>\n",
       "      <th>Age</th>\n",
       "      <th>Tenure</th>\n",
       "      <th>Balance</th>\n",
       "      <th>NumOfProducts</th>\n",
       "      <th>HasCrCard</th>\n",
       "      <th>IsActiveMember</th>\n",
       "      <th>EstimatedSalary</th>\n",
       "      <th>Exited</th>\n",
       "      <th>Geography_Germany</th>\n",
       "      <th>Geography_Spain</th>\n",
       "      <th>Gender_Male</th>\n",
       "    </tr>\n",
       "  </thead>\n",
       "  <tbody>\n",
       "    <tr>\n",
       "      <th>0</th>\n",
       "      <td>619</td>\n",
       "      <td>42</td>\n",
       "      <td>2</td>\n",
       "      <td>0.00</td>\n",
       "      <td>1</td>\n",
       "      <td>1</td>\n",
       "      <td>1</td>\n",
       "      <td>101348.88</td>\n",
       "      <td>1</td>\n",
       "      <td>0</td>\n",
       "      <td>0</td>\n",
       "      <td>0</td>\n",
       "    </tr>\n",
       "    <tr>\n",
       "      <th>1</th>\n",
       "      <td>608</td>\n",
       "      <td>41</td>\n",
       "      <td>1</td>\n",
       "      <td>83807.86</td>\n",
       "      <td>1</td>\n",
       "      <td>0</td>\n",
       "      <td>1</td>\n",
       "      <td>112542.58</td>\n",
       "      <td>0</td>\n",
       "      <td>0</td>\n",
       "      <td>1</td>\n",
       "      <td>0</td>\n",
       "    </tr>\n",
       "    <tr>\n",
       "      <th>2</th>\n",
       "      <td>502</td>\n",
       "      <td>42</td>\n",
       "      <td>8</td>\n",
       "      <td>159660.80</td>\n",
       "      <td>3</td>\n",
       "      <td>1</td>\n",
       "      <td>0</td>\n",
       "      <td>113931.57</td>\n",
       "      <td>1</td>\n",
       "      <td>0</td>\n",
       "      <td>0</td>\n",
       "      <td>0</td>\n",
       "    </tr>\n",
       "    <tr>\n",
       "      <th>3</th>\n",
       "      <td>699</td>\n",
       "      <td>39</td>\n",
       "      <td>1</td>\n",
       "      <td>0.00</td>\n",
       "      <td>2</td>\n",
       "      <td>0</td>\n",
       "      <td>0</td>\n",
       "      <td>93826.63</td>\n",
       "      <td>0</td>\n",
       "      <td>0</td>\n",
       "      <td>0</td>\n",
       "      <td>0</td>\n",
       "    </tr>\n",
       "    <tr>\n",
       "      <th>4</th>\n",
       "      <td>850</td>\n",
       "      <td>43</td>\n",
       "      <td>2</td>\n",
       "      <td>125510.82</td>\n",
       "      <td>1</td>\n",
       "      <td>1</td>\n",
       "      <td>1</td>\n",
       "      <td>79084.10</td>\n",
       "      <td>0</td>\n",
       "      <td>0</td>\n",
       "      <td>1</td>\n",
       "      <td>0</td>\n",
       "    </tr>\n",
       "    <tr>\n",
       "      <th>...</th>\n",
       "      <td>...</td>\n",
       "      <td>...</td>\n",
       "      <td>...</td>\n",
       "      <td>...</td>\n",
       "      <td>...</td>\n",
       "      <td>...</td>\n",
       "      <td>...</td>\n",
       "      <td>...</td>\n",
       "      <td>...</td>\n",
       "      <td>...</td>\n",
       "      <td>...</td>\n",
       "      <td>...</td>\n",
       "    </tr>\n",
       "    <tr>\n",
       "      <th>9995</th>\n",
       "      <td>771</td>\n",
       "      <td>39</td>\n",
       "      <td>5</td>\n",
       "      <td>0.00</td>\n",
       "      <td>2</td>\n",
       "      <td>1</td>\n",
       "      <td>0</td>\n",
       "      <td>96270.64</td>\n",
       "      <td>0</td>\n",
       "      <td>0</td>\n",
       "      <td>0</td>\n",
       "      <td>1</td>\n",
       "    </tr>\n",
       "    <tr>\n",
       "      <th>9996</th>\n",
       "      <td>516</td>\n",
       "      <td>35</td>\n",
       "      <td>10</td>\n",
       "      <td>57369.61</td>\n",
       "      <td>1</td>\n",
       "      <td>1</td>\n",
       "      <td>1</td>\n",
       "      <td>101699.77</td>\n",
       "      <td>0</td>\n",
       "      <td>0</td>\n",
       "      <td>0</td>\n",
       "      <td>1</td>\n",
       "    </tr>\n",
       "    <tr>\n",
       "      <th>9997</th>\n",
       "      <td>709</td>\n",
       "      <td>36</td>\n",
       "      <td>7</td>\n",
       "      <td>0.00</td>\n",
       "      <td>1</td>\n",
       "      <td>0</td>\n",
       "      <td>1</td>\n",
       "      <td>42085.58</td>\n",
       "      <td>1</td>\n",
       "      <td>0</td>\n",
       "      <td>0</td>\n",
       "      <td>0</td>\n",
       "    </tr>\n",
       "    <tr>\n",
       "      <th>9998</th>\n",
       "      <td>772</td>\n",
       "      <td>42</td>\n",
       "      <td>3</td>\n",
       "      <td>75075.31</td>\n",
       "      <td>2</td>\n",
       "      <td>1</td>\n",
       "      <td>0</td>\n",
       "      <td>92888.52</td>\n",
       "      <td>1</td>\n",
       "      <td>1</td>\n",
       "      <td>0</td>\n",
       "      <td>1</td>\n",
       "    </tr>\n",
       "    <tr>\n",
       "      <th>9999</th>\n",
       "      <td>792</td>\n",
       "      <td>28</td>\n",
       "      <td>0</td>\n",
       "      <td>130142.79</td>\n",
       "      <td>1</td>\n",
       "      <td>1</td>\n",
       "      <td>0</td>\n",
       "      <td>38190.78</td>\n",
       "      <td>0</td>\n",
       "      <td>0</td>\n",
       "      <td>0</td>\n",
       "      <td>0</td>\n",
       "    </tr>\n",
       "  </tbody>\n",
       "</table>\n",
       "<p>10000 rows × 12 columns</p>\n",
       "</div>"
      ],
      "text/plain": [
       "      CreditScore  Age  Tenure    Balance  NumOfProducts  HasCrCard  \\\n",
       "0             619   42       2       0.00              1          1   \n",
       "1             608   41       1   83807.86              1          0   \n",
       "2             502   42       8  159660.80              3          1   \n",
       "3             699   39       1       0.00              2          0   \n",
       "4             850   43       2  125510.82              1          1   \n",
       "...           ...  ...     ...        ...            ...        ...   \n",
       "9995          771   39       5       0.00              2          1   \n",
       "9996          516   35      10   57369.61              1          1   \n",
       "9997          709   36       7       0.00              1          0   \n",
       "9998          772   42       3   75075.31              2          1   \n",
       "9999          792   28       0  130142.79              1          1   \n",
       "\n",
       "      IsActiveMember  EstimatedSalary  Exited  Geography_Germany  \\\n",
       "0                  1        101348.88       1                  0   \n",
       "1                  1        112542.58       0                  0   \n",
       "2                  0        113931.57       1                  0   \n",
       "3                  0         93826.63       0                  0   \n",
       "4                  1         79084.10       0                  0   \n",
       "...              ...              ...     ...                ...   \n",
       "9995               0         96270.64       0                  0   \n",
       "9996               1        101699.77       0                  0   \n",
       "9997               1         42085.58       1                  0   \n",
       "9998               0         92888.52       1                  1   \n",
       "9999               0         38190.78       0                  0   \n",
       "\n",
       "      Geography_Spain  Gender_Male  \n",
       "0                   0            0  \n",
       "1                   1            0  \n",
       "2                   0            0  \n",
       "3                   0            0  \n",
       "4                   1            0  \n",
       "...               ...          ...  \n",
       "9995                0            1  \n",
       "9996                0            1  \n",
       "9997                0            0  \n",
       "9998                0            1  \n",
       "9999                0            0  \n",
       "\n",
       "[10000 rows x 12 columns]"
      ]
     },
     "execution_count": 170,
     "metadata": {},
     "output_type": "execute_result"
    }
   ],
   "source": [
    "df"
   ]
  },
  {
   "cell_type": "markdown",
   "metadata": {},
   "source": [
    "<div style=\"border:solid blue 2px; padding: 20px\">\n",
    "\n",
    "**Выводы**\n",
    "    \n",
    "    Данные предобработаны и можно переходить к делению на выборки"
   ]
  },
  {
   "cell_type": "markdown",
   "metadata": {},
   "source": [
    "## Исследование задачи"
   ]
  },
  {
   "cell_type": "markdown",
   "metadata": {},
   "source": [
    "### Деление данных на выборки"
   ]
  },
  {
   "cell_type": "markdown",
   "metadata": {},
   "source": [
    "Для начала выделим отдельно целевой признак"
   ]
  },
  {
   "cell_type": "code",
   "execution_count": 171,
   "metadata": {},
   "outputs": [],
   "source": [
    "target = df['Exited']\n",
    "features = df.drop('Exited', axis=1)"
   ]
  },
  {
   "cell_type": "markdown",
   "metadata": {},
   "source": [
    "Разделим наши данные на обучающую, валидационную и тестовую выборки. Возьмём их соотношение 3:1:1 как наиболее часто используемый вариант. "
   ]
  },
  {
   "cell_type": "code",
   "execution_count": 172,
   "metadata": {},
   "outputs": [],
   "source": [
    "features_train, df_other, target_train, df_other_target = train_test_split(\n",
    "    features, target, test_size=0.4, random_state=42)"
   ]
  },
  {
   "cell_type": "code",
   "execution_count": 173,
   "metadata": {},
   "outputs": [],
   "source": [
    "features_valid, features_test, target_valid, target_test = train_test_split(\n",
    "    df_other, df_other_target, test_size=0.5, random_state=42)"
   ]
  },
  {
   "cell_type": "markdown",
   "metadata": {},
   "source": [
    "Посмотрим на размеры получившихся выборок"
   ]
  },
  {
   "cell_type": "code",
   "execution_count": 174,
   "metadata": {},
   "outputs": [
    {
     "name": "stdout",
     "output_type": "stream",
     "text": [
      "Размер обучающей выборки: 6000\n",
      "Размер тестовой выборки: 2000\n",
      "Размер валидационной выборки: 2000\n"
     ]
    }
   ],
   "source": [
    "print(\"Размер обучающей выборки:\", target_train.count())\n",
    "print(\"Размер тестовой выборки:\", target_test.count())\n",
    "print(\"Размер валидационной выборки:\", target_valid.count())"
   ]
  },
  {
   "cell_type": "markdown",
   "metadata": {},
   "source": [
    "Размеры соотвествуют процентам."
   ]
  },
  {
   "cell_type": "markdown",
   "metadata": {},
   "source": [
    "### Масштабирование численных признаков"
   ]
  },
  {
   "cell_type": "markdown",
   "metadata": {},
   "source": [
    "Создадим массив, в который поместим численные признаки. Создадим объект структуры StandardScaler() и настроим (т.е. вычислим среднее и дисперсию) его на обучающих данных. Преобразуем обучающую и валидационную выборки функцией transform()."
   ]
  },
  {
   "cell_type": "code",
   "execution_count": 175,
   "metadata": {},
   "outputs": [
    {
     "name": "stderr",
     "output_type": "stream",
     "text": [
      "/tmp/ipykernel_54/4232758938.py:5: SettingWithCopyWarning: \n",
      "A value is trying to be set on a copy of a slice from a DataFrame.\n",
      "Try using .loc[row_indexer,col_indexer] = value instead\n",
      "\n",
      "See the caveats in the documentation: https://pandas.pydata.org/pandas-docs/stable/user_guide/indexing.html#returning-a-view-versus-a-copy\n",
      "  features_train[numeric] = scaler.transform(features_train[numeric])\n",
      "/opt/conda/lib/python3.9/site-packages/pandas/core/indexing.py:1738: SettingWithCopyWarning: \n",
      "A value is trying to be set on a copy of a slice from a DataFrame.\n",
      "Try using .loc[row_indexer,col_indexer] = value instead\n",
      "\n",
      "See the caveats in the documentation: https://pandas.pydata.org/pandas-docs/stable/user_guide/indexing.html#returning-a-view-versus-a-copy\n",
      "  self._setitem_single_column(loc, value[:, i].tolist(), pi)\n",
      "/tmp/ipykernel_54/4232758938.py:6: SettingWithCopyWarning: \n",
      "A value is trying to be set on a copy of a slice from a DataFrame.\n",
      "Try using .loc[row_indexer,col_indexer] = value instead\n",
      "\n",
      "See the caveats in the documentation: https://pandas.pydata.org/pandas-docs/stable/user_guide/indexing.html#returning-a-view-versus-a-copy\n",
      "  features_valid[numeric] = scaler.transform(features_valid[numeric])\n",
      "/opt/conda/lib/python3.9/site-packages/pandas/core/indexing.py:1738: SettingWithCopyWarning: \n",
      "A value is trying to be set on a copy of a slice from a DataFrame.\n",
      "Try using .loc[row_indexer,col_indexer] = value instead\n",
      "\n",
      "See the caveats in the documentation: https://pandas.pydata.org/pandas-docs/stable/user_guide/indexing.html#returning-a-view-versus-a-copy\n",
      "  self._setitem_single_column(loc, value[:, i].tolist(), pi)\n",
      "/tmp/ipykernel_54/4232758938.py:7: SettingWithCopyWarning: \n",
      "A value is trying to be set on a copy of a slice from a DataFrame.\n",
      "Try using .loc[row_indexer,col_indexer] = value instead\n",
      "\n",
      "See the caveats in the documentation: https://pandas.pydata.org/pandas-docs/stable/user_guide/indexing.html#returning-a-view-versus-a-copy\n",
      "  features_test[numeric] = scaler.transform(features_test[numeric])\n",
      "/opt/conda/lib/python3.9/site-packages/pandas/core/indexing.py:1738: SettingWithCopyWarning: \n",
      "A value is trying to be set on a copy of a slice from a DataFrame.\n",
      "Try using .loc[row_indexer,col_indexer] = value instead\n",
      "\n",
      "See the caveats in the documentation: https://pandas.pydata.org/pandas-docs/stable/user_guide/indexing.html#returning-a-view-versus-a-copy\n",
      "  self._setitem_single_column(loc, value[:, i].tolist(), pi)\n"
     ]
    }
   ],
   "source": [
    "numeric = ['CreditScore', 'Age', 'Tenure', 'Balance', 'NumOfProducts', 'EstimatedSalary']\n",
    "\n",
    "scaler = StandardScaler()\n",
    "scaler.fit(features_train[numeric])\n",
    "features_train[numeric] = scaler.transform(features_train[numeric])\n",
    "features_valid[numeric] = scaler.transform(features_valid[numeric])\n",
    "features_test[numeric] = scaler.transform(features_test[numeric])"
   ]
  },
  {
   "cell_type": "markdown",
   "metadata": {},
   "source": [
    "## Обучение моделей"
   ]
  },
  {
   "cell_type": "markdown",
   "metadata": {},
   "source": [
    "Напишем функцию, которая будет выводить метрики при проверке модели"
   ]
  },
  {
   "cell_type": "code",
   "execution_count": 178,
   "metadata": {},
   "outputs": [],
   "source": [
    "def print_metrics(predicted_valid, target_valid):\n",
    "    print(\"accuracy =\", accuracy_score(predicted_valid, target_valid))\n",
    "    print(\"recall =\", recall_score(target_valid, predicted_valid))\n",
    "    print(\"precision =\", precision_score(target_valid, predicted_valid))\n",
    "    print(\"f1 =\", f1_score(target_valid, predicted_valid))\n",
    "    print(\"roc_auc =\", roc_auc_score(target_valid, predicted_valid))\n",
    "    print()"
   ]
  },
  {
   "cell_type": "markdown",
   "metadata": {},
   "source": [
    "#### Дерево решений"
   ]
  },
  {
   "cell_type": "markdown",
   "metadata": {},
   "source": [
    "Посмотрим на качество модели в зависимости от глубины дерева. Переберём значения от 1 до 15. Обучим модель для каждого из этих значений. Найдём предсказания на валидационной выборке. И посмотрим качество на валидационной выборке для каждого из значений."
   ]
  },
  {
   "cell_type": "code",
   "execution_count": 179,
   "metadata": {},
   "outputs": [],
   "source": [
    "def decision_tree(features_train, target_train, features_valid, class_weight):\n",
    "    best_tree_model = None # переменная для наилучшей модели\n",
    "    best_tree_result = 0 # f1 наилучшей модели\n",
    "    for depth in range(1, 15):\n",
    "        model_tree = DecisionTreeClassifier(random_state=42, max_depth=depth, class_weight = class_weight) \n",
    "        model_tree.fit(features_train, target_train) # обучение модели на тренировочной выборке\n",
    "        predicted_valid = model_tree.predict(features_valid) \n",
    "        print(\"depth =\", depth)\n",
    "        print_metrics(predicted_valid, target_valid)\n",
    "        \n",
    "        result_tree = f1_score(target_valid, predicted_valid)\n",
    "        # условие проверки лучшего результата\n",
    "        if result_tree > best_tree_result:\n",
    "            best_tree_model = model_tree \n",
    "            best_tree_result = result_tree \n",
    "    print()\n",
    "    print(\"f1 наилучшей модели на валидационной выборке:\", best_tree_result)\n",
    "    print(best_tree_model)"
   ]
  },
  {
   "cell_type": "code",
   "execution_count": 180,
   "metadata": {
    "scrolled": true
   },
   "outputs": [
    {
     "name": "stdout",
     "output_type": "stream",
     "text": [
      "depth = 1\n",
      "accuracy = 0.81\n",
      "recall = 0.0\n",
      "precision = 0.0\n",
      "f1 = 0.0\n",
      "roc_auc = 0.5\n",
      "\n",
      "depth = 2\n",
      "accuracy = 0.843\n",
      "recall = 0.3736842105263158\n",
      "precision = 0.6513761467889908\n",
      "f1 = 0.47491638795986624\n",
      "roc_auc = 0.6633853151397011\n",
      "\n",
      "depth = 3\n",
      "accuracy = 0.8475\n",
      "recall = 0.4026315789473684\n",
      "precision = 0.6623376623376623\n",
      "f1 = 0.5008183306055646\n",
      "roc_auc = 0.6772417153996102\n",
      "\n",
      "depth = 4\n",
      "accuracy = 0.8545\n",
      "recall = 0.34210526315789475\n",
      "precision = 0.7602339181286549\n",
      "f1 = 0.47186932849364793\n",
      "roc_auc = 0.6583983105912931\n",
      "\n",
      "depth = 5\n",
      "accuracy = 0.848\n",
      "recall = 0.4131578947368421\n",
      "precision = 0.6596638655462185\n",
      "f1 = 0.5080906148867315\n",
      "roc_auc = 0.6815789473684211\n",
      "\n",
      "depth = 6\n",
      "accuracy = 0.855\n",
      "recall = 0.4263157894736842\n",
      "precision = 0.6923076923076923\n",
      "f1 = 0.527687296416938\n",
      "roc_auc = 0.6909356725146198\n",
      "\n",
      "depth = 7\n",
      "accuracy = 0.856\n",
      "recall = 0.40789473684210525\n",
      "precision = 0.7110091743119266\n",
      "f1 = 0.5183946488294314\n",
      "roc_auc = 0.6845029239766083\n",
      "\n",
      "depth = 8\n",
      "accuracy = 0.8455\n",
      "recall = 0.43157894736842106\n",
      "precision = 0.6381322957198443\n",
      "f1 = 0.5149136577708006\n",
      "roc_auc = 0.6870857699805069\n",
      "\n",
      "depth = 9\n",
      "accuracy = 0.8425\n",
      "recall = 0.45\n",
      "precision = 0.6173285198555957\n",
      "f1 = 0.5205479452054794\n",
      "roc_auc = 0.6922839506172839\n",
      "\n"
     ]
    },
    {
     "name": "stderr",
     "output_type": "stream",
     "text": [
      "/opt/conda/lib/python3.9/site-packages/sklearn/metrics/_classification.py:1245: UndefinedMetricWarning: Precision is ill-defined and being set to 0.0 due to no predicted samples. Use `zero_division` parameter to control this behavior.\n",
      "  _warn_prf(average, modifier, msg_start, len(result))\n"
     ]
    },
    {
     "name": "stdout",
     "output_type": "stream",
     "text": [
      "depth = 10\n",
      "accuracy = 0.831\n",
      "recall = 0.4473684210526316\n",
      "precision = 0.5704697986577181\n",
      "f1 = 0.5014749262536873\n",
      "roc_auc = 0.6841780376868096\n",
      "\n",
      "depth = 11\n",
      "accuracy = 0.827\n",
      "recall = 0.45263157894736844\n",
      "precision = 0.5548387096774193\n",
      "f1 = 0.49855072463768113\n",
      "roc_auc = 0.6837231968810917\n",
      "\n",
      "depth = 12\n",
      "accuracy = 0.812\n",
      "recall = 0.45789473684210524\n",
      "precision = 0.5058139534883721\n",
      "f1 = 0.48066298342541436\n",
      "roc_auc = 0.6764782326185834\n",
      "\n",
      "depth = 13\n",
      "accuracy = 0.817\n",
      "recall = 0.45789473684210524\n",
      "precision = 0.5209580838323353\n",
      "f1 = 0.48739495798319327\n",
      "roc_auc = 0.6795646523716699\n",
      "\n",
      "depth = 14\n",
      "accuracy = 0.8075\n",
      "recall = 0.46578947368421053\n",
      "precision = 0.49303621169916434\n",
      "f1 = 0.4790257104194858\n",
      "roc_auc = 0.6767218973359325\n",
      "\n",
      "\n",
      "f1 наилучшей модели на валидационной выборке: 0.527687296416938\n",
      "DecisionTreeClassifier(max_depth=6, random_state=42)\n"
     ]
    }
   ],
   "source": [
    "decision_tree(features_train, target_train, features_valid, None)"
   ]
  },
  {
   "cell_type": "markdown",
   "metadata": {},
   "source": [
    "Лучший результат у решающего дерева получился с глубиной 6. f1 = 0.53"
   ]
  },
  {
   "cell_type": "markdown",
   "metadata": {},
   "source": [
    "#### Случайный лес"
   ]
  },
  {
   "cell_type": "markdown",
   "metadata": {},
   "source": [
    "Посмотрим на качество модели в зависимости от количества деревьев в лесу. Переберём значения от 5 до 30 с шагом 2. Обучим модель для каждого из этих значений. Найдём предсказания на валидационной выборке. И посмотрим качество на валидационной выборке для каждого из значений."
   ]
  },
  {
   "cell_type": "code",
   "execution_count": 181,
   "metadata": {},
   "outputs": [],
   "source": [
    "def random_forest(features_train, target_train, features_valid, class_weight):\n",
    "    best_forest_model = None # переменная для наилучшей модели\n",
    "    best_forest_result = 0 # а1 наилучшей модели\n",
    "# цикл, перебирающий значения деревьев от 1 до 20 с шагом 5\n",
    "    for est in range(5, 30, 2):\n",
    "        model_forest = RandomForestClassifier(random_state=42, n_estimators=est, class_weight=class_weight) \n",
    "        model_forest.fit(features_train, target_train) # обучение модели на тренировочной выборке\n",
    "        predicted_valid = model_forest.predict(features_valid) \n",
    "        print(\"est =\", est)\n",
    "        print_metrics(predicted_valid, target_valid)\n",
    "        \n",
    "        result_forest = f1_score(target_valid, predicted_valid) \n",
    "        if result_forest > best_forest_result:\n",
    "            best_forest_model = model_forest \n",
    "            best_forest_result = result_forest \n",
    "    print()\n",
    "    print(\"f1 наилучшей модели на валидационной выборке:\", best_forest_result)\n",
    "    print(best_forest_model)"
   ]
  },
  {
   "cell_type": "code",
   "execution_count": 182,
   "metadata": {
    "scrolled": true
   },
   "outputs": [
    {
     "name": "stdout",
     "output_type": "stream",
     "text": [
      "est = 5\n",
      "accuracy = 0.834\n",
      "recall = 0.4421052631578947\n",
      "precision = 0.5833333333333334\n",
      "f1 = 0.502994011976048\n",
      "roc_auc = 0.6840155945419103\n",
      "\n",
      "est = 7\n",
      "accuracy = 0.841\n",
      "recall = 0.4473684210526316\n",
      "precision = 0.6115107913669064\n",
      "f1 = 0.5167173252279635\n",
      "roc_auc = 0.6903508771929825\n",
      "\n",
      "est = 9\n",
      "accuracy = 0.848\n",
      "recall = 0.45526315789473687\n",
      "precision = 0.6407407407407407\n",
      "f1 = 0.5323076923076924\n",
      "roc_auc = 0.6976933073424301\n",
      "\n",
      "est = 11\n",
      "accuracy = 0.85\n",
      "recall = 0.45526315789473687\n",
      "precision = 0.650375939849624\n",
      "f1 = 0.5356037151702787\n",
      "roc_auc = 0.6989278752436647\n",
      "\n",
      "est = 13\n",
      "accuracy = 0.8545\n",
      "recall = 0.4394736842105263\n",
      "precision = 0.6816326530612244\n",
      "f1 = 0.5344\n",
      "roc_auc = 0.695662768031189\n",
      "\n",
      "est = 15\n",
      "accuracy = 0.8565\n",
      "recall = 0.4421052631578947\n",
      "precision = 0.691358024691358\n",
      "f1 = 0.5393258426966292\n",
      "roc_auc = 0.6979044834307992\n",
      "\n",
      "est = 17\n",
      "accuracy = 0.858\n",
      "recall = 0.44473684210526315\n",
      "precision = 0.6983471074380165\n",
      "f1 = 0.5434083601286174\n",
      "roc_auc = 0.6998375568551006\n",
      "\n",
      "est = 19\n",
      "accuracy = 0.861\n",
      "recall = 0.45\n",
      "precision = 0.7125\n",
      "f1 = 0.5516129032258064\n",
      "roc_auc = 0.7037037037037037\n",
      "\n",
      "est = 21\n",
      "accuracy = 0.8595\n",
      "recall = 0.45\n",
      "precision = 0.7037037037037037\n",
      "f1 = 0.548956661316212\n",
      "roc_auc = 0.7027777777777778\n",
      "\n",
      "est = 23\n",
      "accuracy = 0.86\n",
      "recall = 0.4421052631578947\n",
      "precision = 0.711864406779661\n",
      "f1 = 0.5454545454545455\n",
      "roc_auc = 0.7000649772579598\n",
      "\n",
      "est = 25\n",
      "accuracy = 0.859\n",
      "recall = 0.4342105263157895\n",
      "precision = 0.7112068965517241\n",
      "f1 = 0.5392156862745099\n",
      "roc_auc = 0.6964262508122157\n",
      "\n",
      "est = 27\n",
      "accuracy = 0.8595\n",
      "recall = 0.4421052631578947\n",
      "precision = 0.7088607594936709\n",
      "f1 = 0.5445705024311183\n",
      "roc_auc = 0.699756335282651\n",
      "\n",
      "est = 29\n",
      "accuracy = 0.862\n",
      "recall = 0.45\n",
      "precision = 0.7184873949579832\n",
      "f1 = 0.5533980582524272\n",
      "roc_auc = 0.7043209876543209\n",
      "\n",
      "\n",
      "f1 наилучшей модели на валидационной выборке: 0.5533980582524272\n",
      "RandomForestClassifier(n_estimators=29, random_state=42)\n"
     ]
    }
   ],
   "source": [
    "random_forest(features_train, target_train, features_valid, None)"
   ]
  },
  {
   "cell_type": "markdown",
   "metadata": {},
   "source": [
    "Лучший результат у случайного леса с 29 деревьями. f1 = 0.55"
   ]
  },
  {
   "cell_type": "markdown",
   "metadata": {},
   "source": [
    "#### Логистическая регрессия"
   ]
  },
  {
   "cell_type": "markdown",
   "metadata": {},
   "source": [
    "Посмотрим на качество модели логистической регрессии"
   ]
  },
  {
   "cell_type": "code",
   "execution_count": 183,
   "metadata": {},
   "outputs": [],
   "source": [
    "def logistic_regression(features_train, target_train, features_valid, class_weight):\n",
    "    model_log_reg = LogisticRegression(random_state=42, solver='liblinear')\n",
    "    model_log_reg.fit(features_train, target_train) # обучение модели на тренировочной выборке\n",
    "    predicted_valid = model_log_reg.predict(features_valid)\n",
    "    print_metrics(predicted_valid, target_valid)"
   ]
  },
  {
   "cell_type": "code",
   "execution_count": 184,
   "metadata": {},
   "outputs": [
    {
     "name": "stdout",
     "output_type": "stream",
     "text": [
      "accuracy = 0.8175\n",
      "recall = 0.2026315789473684\n",
      "precision = 0.5539568345323741\n",
      "f1 = 0.2967244701348748\n",
      "roc_auc = 0.5821799870045484\n",
      "\n"
     ]
    }
   ],
   "source": [
    "logistic_regression(features_train, target_train, features_valid, None)"
   ]
  },
  {
   "cell_type": "markdown",
   "metadata": {},
   "source": [
    "У логистической регрессии результат f1 меры 0.297"
   ]
  },
  {
   "cell_type": "markdown",
   "metadata": {},
   "source": [
    "<div style=\"border:solid blue 2px; padding: 20px\">\n",
    "\n",
    "**Выводы**\n",
    "\n",
    " * Данные были разделены на 3 выборки - обучающую, тестовую и валидационную - в соотношении 3:1:1\n",
    " * Обучили модели решающего дерева, случайного лес аи логистической регрессии без учёта дисбаланса классов\n",
    " * Наилучший результат пока что показывает случайный лес с 29 деревьями. f1 мера на нём - 0.55"
   ]
  },
  {
   "cell_type": "code",
   "execution_count": 187,
   "metadata": {},
   "outputs": [
    {
     "name": "stdout",
     "output_type": "stream",
     "text": [
      "accuracy = 0.862\n",
      "recall = 0.45\n",
      "precision = 0.7184873949579832\n",
      "f1 = 0.5533980582524272\n",
      "roc_auc = 0.7043209876543209\n",
      "\n"
     ]
    }
   ],
   "source": [
    "model_forest = RandomForestClassifier(random_state=42, n_estimators=29) \n",
    "model_forest.fit(features_train, target_train) # обучение модели на тренировочной выборке\n",
    "predicted_valid = pd.Series(model_forest.predict(features_valid))\n",
    "print_metrics(predicted_valid, target_valid)"
   ]
  },
  {
   "cell_type": "markdown",
   "metadata": {},
   "source": [
    "Мы видим, что значения accuracy у моделей получаются значительно выше, чемм другие показатели. Проверим модели на адекватность - посмотрим, как часто в целевом признаке встречается класс 0 или 1."
   ]
  },
  {
   "cell_type": "code",
   "execution_count": 190,
   "metadata": {},
   "outputs": [
    {
     "name": "stdout",
     "output_type": "stream",
     "text": [
      "0    0.881\n",
      "1    0.119\n",
      "dtype: float64\n"
     ]
    },
    {
     "data": {
      "text/plain": [
       "<AxesSubplot:>"
      ]
     },
     "execution_count": 190,
     "metadata": {},
     "output_type": "execute_result"
    },
    {
     "data": {
      "image/png": "[encoded data removed]",
      "text/plain": [
       "<Figure size 432x288 with 1 Axes>"
      ]
     },
     "metadata": {
      "needs_background": "light"
     },
     "output_type": "display_data"
    }
   ],
   "source": [
    "class_frequency = predicted_valid.value_counts(normalize=bool)\n",
    "print(class_frequency)\n",
    "class_frequency.plot(kind='bar')"
   ]
  },
  {
   "cell_type": "markdown",
   "metadata": {},
   "source": [
    "Заметен сильный перекос в сторону 0 класса."
   ]
  },
  {
   "cell_type": "markdown",
   "metadata": {},
   "source": [
    "Посмотрим, как распределяются значения целевого признака во всём датасете"
   ]
  },
  {
   "cell_type": "code",
   "execution_count": 191,
   "metadata": {
    "scrolled": false
   },
   "outputs": [
    {
     "data": {
      "text/plain": [
       "<AxesSubplot:title={'center':'Распределение целевого признака'}, xlabel='Значение признака', ylabel='Количество записей с соответствующим значением'>"
      ]
     },
     "execution_count": 191,
     "metadata": {},
     "output_type": "execute_result"
    },
    {
     "data": {
      "image/png": "[encoded data removed]",
      "text/plain": [
       "<Figure size 1152x576 with 1 Axes>"
      ]
     },
     "metadata": {
      "needs_background": "light"
     },
     "output_type": "display_data"
    }
   ],
   "source": [
    "fig, ax = plt.subplots(1)\n",
    "ax.set_title('Распределение целевого признака')\n",
    "ax.set_xlabel('Значение признака')\n",
    "ax.set_ylabel('Количество записей с соответствующим значением')\n",
    "target.value_counts().plot(kind='bar', figsize=(16,8), ax=ax)"
   ]
  },
  {
   "cell_type": "markdown",
   "metadata": {},
   "source": [
    "Схожая ситуация - сильный дисбаланс классов"
   ]
  },
  {
   "cell_type": "markdown",
   "metadata": {},
   "source": [
    "## Борьба с дисбалансом"
   ]
  },
  {
   "cell_type": "markdown",
   "metadata": {},
   "source": [
    "Попробуем использовать разные методы борьбы с дисбалансом."
   ]
  },
  {
   "cell_type": "markdown",
   "metadata": {},
   "source": [
    "### Взвешивание классов"
   ]
  },
  {
   "cell_type": "markdown",
   "metadata": {},
   "source": [
    "#### Дерево решений"
   ]
  },
  {
   "cell_type": "code",
   "execution_count": 192,
   "metadata": {
    "scrolled": true
   },
   "outputs": [
    {
     "name": "stdout",
     "output_type": "stream",
     "text": [
      "depth = 1\n",
      "accuracy = 0.666\n",
      "recall = 0.6447368421052632\n",
      "precision = 0.3149100257069409\n",
      "f1 = 0.4231433506044905\n",
      "roc_auc = 0.6578622482131253\n",
      "\n",
      "depth = 2\n",
      "accuracy = 0.6705\n",
      "recall = 0.6894736842105263\n",
      "precision = 0.32627646326276466\n",
      "f1 = 0.4429416737109045\n",
      "roc_auc = 0.6777615334632878\n",
      "\n",
      "depth = 3\n",
      "accuracy = 0.6705\n",
      "recall = 0.6894736842105263\n",
      "precision = 0.32627646326276466\n",
      "f1 = 0.4429416737109045\n",
      "roc_auc = 0.6777615334632878\n",
      "\n",
      "depth = 4\n",
      "accuracy = 0.7415\n",
      "recall = 0.7026315789473684\n",
      "precision = 0.3979135618479881\n",
      "f1 = 0.5080875356803044\n",
      "roc_auc = 0.7266244314489929\n",
      "\n",
      "depth = 5\n",
      "accuracy = 0.7325\n",
      "recall = 0.7526315789473684\n",
      "precision = 0.39339752407152684\n",
      "f1 = 0.5167118337850045\n",
      "roc_auc = 0.7402046783625732\n",
      "\n",
      "depth = 6\n",
      "accuracy = 0.7575\n",
      "recall = 0.6973684210526315\n",
      "precision = 0.41732283464566927\n",
      "f1 = 0.522167487684729\n",
      "roc_auc = 0.7344866796621182\n",
      "\n",
      "depth = 7\n",
      "accuracy = 0.7765\n",
      "recall = 0.6710526315789473\n",
      "precision = 0.44194107452339687\n",
      "f1 = 0.5329153605015674\n",
      "roc_auc = 0.7361435997400909\n",
      "\n",
      "depth = 8\n",
      "accuracy = 0.775\n",
      "recall = 0.6578947368421053\n",
      "precision = 0.43859649122807015\n",
      "f1 = 0.5263157894736842\n",
      "roc_auc = 0.7301819363222872\n",
      "\n",
      "depth = 9\n",
      "accuracy = 0.764\n",
      "recall = 0.6605263157894737\n",
      "precision = 0.4225589225589226\n",
      "f1 = 0.5154004106776182\n",
      "roc_auc = 0.7243989603638727\n",
      "\n",
      "depth = 10\n",
      "accuracy = 0.753\n",
      "recall = 0.6605263157894737\n",
      "precision = 0.4074675324675325\n",
      "f1 = 0.5040160642570282\n",
      "roc_auc = 0.7176088369070825\n",
      "\n",
      "depth = 11\n",
      "accuracy = 0.7785\n",
      "recall = 0.6210526315789474\n",
      "precision = 0.4411214953271028\n",
      "f1 = 0.5158469945355192\n",
      "roc_auc = 0.7182423651721898\n",
      "\n",
      "depth = 12\n",
      "accuracy = 0.781\n",
      "recall = 0.5921052631578947\n",
      "precision = 0.44291338582677164\n",
      "f1 = 0.5067567567567567\n",
      "roc_auc = 0.7087069525666017\n",
      "\n",
      "depth = 13\n",
      "accuracy = 0.7945\n",
      "recall = 0.55\n",
      "precision = 0.46547884187082406\n",
      "f1 = 0.5042219541616406\n",
      "roc_auc = 0.700925925925926\n",
      "\n",
      "depth = 14\n",
      "accuracy = 0.7955\n",
      "recall = 0.5184210526315789\n",
      "precision = 0.4657210401891253\n",
      "f1 = 0.49066002490660027\n",
      "roc_auc = 0.6894574398960364\n",
      "\n",
      "\n",
      "f1 наилучшей модели на валидационной выборке: 0.5329153605015674\n",
      "DecisionTreeClassifier(class_weight='balanced', max_depth=7, random_state=42)\n"
     ]
    }
   ],
   "source": [
    "decision_tree(features_train, target_train, features_valid, 'balanced')"
   ]
  },
  {
   "cell_type": "markdown",
   "metadata": {},
   "source": [
    "Дерево решений со взвешенными классами показывает результат f1 меры уже 0.53"
   ]
  },
  {
   "cell_type": "markdown",
   "metadata": {},
   "source": [
    "#### Случайный лес"
   ]
  },
  {
   "cell_type": "code",
   "execution_count": 193,
   "metadata": {
    "scrolled": true
   },
   "outputs": [
    {
     "name": "stdout",
     "output_type": "stream",
     "text": [
      "est = 5\n",
      "accuracy = 0.836\n",
      "recall = 0.40789473684210525\n",
      "precision = 0.6007751937984496\n",
      "f1 = 0.4858934169278996\n",
      "roc_auc = 0.6721572449642625\n",
      "\n",
      "est = 7\n",
      "accuracy = 0.836\n",
      "recall = 0.39473684210526316\n",
      "precision = 0.6048387096774194\n",
      "f1 = 0.47770700636942676\n",
      "roc_auc = 0.6671215074723847\n",
      "\n",
      "est = 9\n",
      "accuracy = 0.84\n",
      "recall = 0.4105263157894737\n",
      "precision = 0.6190476190476191\n",
      "f1 = 0.4936708860759494\n",
      "roc_auc = 0.6756335282651073\n",
      "\n",
      "est = 11\n",
      "accuracy = 0.8485\n",
      "recall = 0.4236842105263158\n",
      "precision = 0.6571428571428571\n",
      "f1 = 0.5152\n",
      "roc_auc = 0.6859161793372319\n",
      "\n",
      "est = 13\n",
      "accuracy = 0.852\n",
      "recall = 0.4236842105263158\n",
      "precision = 0.6764705882352942\n",
      "f1 = 0.5210355987055015\n",
      "roc_auc = 0.6880766731643925\n",
      "\n",
      "est = 15\n",
      "accuracy = 0.853\n",
      "recall = 0.4131578947368421\n",
      "precision = 0.6885964912280702\n",
      "f1 = 0.5164473684210525\n",
      "roc_auc = 0.6846653671215075\n",
      "\n",
      "est = 17\n",
      "accuracy = 0.853\n",
      "recall = 0.41842105263157897\n",
      "precision = 0.6853448275862069\n",
      "f1 = 0.5196078431372548\n",
      "roc_auc = 0.6866796621182587\n",
      "\n",
      "est = 19\n",
      "accuracy = 0.8565\n",
      "recall = 0.42105263157894735\n",
      "precision = 0.7048458149779736\n",
      "f1 = 0.5271828665568368\n",
      "roc_auc = 0.6898473034437946\n",
      "\n",
      "est = 21\n",
      "accuracy = 0.8545\n",
      "recall = 0.41842105263157897\n",
      "precision = 0.6943231441048034\n",
      "f1 = 0.5221674876847291\n",
      "roc_auc = 0.6876055880441846\n",
      "\n",
      "est = 23\n",
      "accuracy = 0.8555\n",
      "recall = 0.4105263157894737\n",
      "precision = 0.7058823529411765\n",
      "f1 = 0.519134775374376\n",
      "roc_auc = 0.6852014294996751\n",
      "\n",
      "est = 25\n",
      "accuracy = 0.8525\n",
      "recall = 0.4105263157894737\n",
      "precision = 0.6872246696035242\n",
      "f1 = 0.514003294892916\n",
      "roc_auc = 0.6833495776478232\n",
      "\n",
      "est = 27\n",
      "accuracy = 0.854\n",
      "recall = 0.4105263157894737\n",
      "precision = 0.6964285714285714\n",
      "f1 = 0.5165562913907285\n",
      "roc_auc = 0.6842755035737491\n",
      "\n",
      "est = 29\n",
      "accuracy = 0.8565\n",
      "recall = 0.40789473684210525\n",
      "precision = 0.7142857142857143\n",
      "f1 = 0.5192629815745394\n",
      "roc_auc = 0.6848115659519168\n",
      "\n",
      "\n",
      "f1 наилучшей модели на валидационной выборке: 0.5271828665568368\n",
      "RandomForestClassifier(class_weight='balanced', n_estimators=19,\n",
      "                       random_state=42)\n"
     ]
    }
   ],
   "source": [
    "random_forest(features_train, target_train, features_valid, 'balanced')"
   ]
  },
  {
   "cell_type": "markdown",
   "metadata": {},
   "source": [
    "Результат случайного леса стал хуже. f1 = 0.527"
   ]
  },
  {
   "cell_type": "markdown",
   "metadata": {},
   "source": [
    "#### Логистическая регрессия"
   ]
  },
  {
   "cell_type": "code",
   "execution_count": 194,
   "metadata": {
    "scrolled": true
   },
   "outputs": [
    {
     "name": "stdout",
     "output_type": "stream",
     "text": [
      "accuracy = 0.8175\n",
      "recall = 0.2026315789473684\n",
      "precision = 0.5539568345323741\n",
      "f1 = 0.2967244701348748\n",
      "roc_auc = 0.5821799870045484\n",
      "\n"
     ]
    }
   ],
   "source": [
    "logistic_regression(features_train, target_train, features_valid, 'balanced')"
   ]
  },
  {
   "cell_type": "markdown",
   "metadata": {},
   "source": [
    "Результат логистической регрессии практически не изменился f1 = 0.297"
   ]
  },
  {
   "cell_type": "markdown",
   "metadata": {},
   "source": [
    "### Увеличение выборки"
   ]
  },
  {
   "cell_type": "code",
   "execution_count": 195,
   "metadata": {},
   "outputs": [],
   "source": [
    "def upsample(features, target, repeat):\n",
    "    features_zeros = features[target == 0]\n",
    "    features_ones = features[target == 1]\n",
    "    target_zeros = target[target == 0]\n",
    "    target_ones = target[target == 1]\n",
    "\n",
    "    features_upsampled = pd.concat([features_zeros] + [features_ones] * repeat)\n",
    "    target_upsampled = pd.concat([target_zeros] + [target_ones] * repeat)\n",
    "    \n",
    "    features_upsampled, target_upsampled = shuffle(\n",
    "        features_upsampled, target_upsampled, random_state=42)\n",
    "    \n",
    "    return features_upsampled, target_upsampled"
   ]
  },
  {
   "cell_type": "markdown",
   "metadata": {},
   "source": [
    "Рассчитаем repeat"
   ]
  },
  {
   "cell_type": "code",
   "execution_count": 196,
   "metadata": {},
   "outputs": [
    {
     "data": {
      "text/plain": [
       "4"
      ]
     },
     "execution_count": 196,
     "metadata": {},
     "output_type": "execute_result"
    }
   ],
   "source": [
    "repeat = round(1 / (target[target == 1].count() / target[target == 0].count()))\n",
    "repeat"
   ]
  },
  {
   "cell_type": "code",
   "execution_count": 197,
   "metadata": {},
   "outputs": [],
   "source": [
    "features_upsampled, target_upsampled = upsample(features_train, target_train, 4)"
   ]
  },
  {
   "cell_type": "code",
   "execution_count": 198,
   "metadata": {},
   "outputs": [
    {
     "data": {
      "text/plain": [
       "1    4908\n",
       "0    4773\n",
       "Name: Exited, dtype: int64"
      ]
     },
     "execution_count": 198,
     "metadata": {},
     "output_type": "execute_result"
    }
   ],
   "source": [
    "# Проверим, что выборки поменялись\n",
    "target_upsampled.value_counts()"
   ]
  },
  {
   "cell_type": "markdown",
   "metadata": {},
   "source": [
    "#### Дерево решений"
   ]
  },
  {
   "cell_type": "code",
   "execution_count": 199,
   "metadata": {
    "scrolled": true
   },
   "outputs": [
    {
     "name": "stdout",
     "output_type": "stream",
     "text": [
      "depth = 1\n",
      "accuracy = 0.666\n",
      "recall = 0.6447368421052632\n",
      "precision = 0.3149100257069409\n",
      "f1 = 0.4231433506044905\n",
      "roc_auc = 0.6578622482131253\n",
      "\n",
      "depth = 2\n",
      "accuracy = 0.6705\n",
      "recall = 0.6894736842105263\n",
      "precision = 0.32627646326276466\n",
      "f1 = 0.4429416737109045\n",
      "roc_auc = 0.6777615334632878\n",
      "\n",
      "depth = 3\n",
      "accuracy = 0.6705\n",
      "recall = 0.6894736842105263\n",
      "precision = 0.32627646326276466\n",
      "f1 = 0.4429416737109045\n",
      "roc_auc = 0.6777615334632878\n",
      "\n",
      "depth = 4\n",
      "accuracy = 0.7415\n",
      "recall = 0.7026315789473684\n",
      "precision = 0.3979135618479881\n",
      "f1 = 0.5080875356803044\n",
      "roc_auc = 0.7266244314489929\n",
      "\n",
      "depth = 5\n",
      "accuracy = 0.7015\n",
      "recall = 0.7763157894736842\n",
      "precision = 0.3655514250309789\n",
      "f1 = 0.49705139005897214\n",
      "roc_auc = 0.7301332033788175\n",
      "\n",
      "depth = 6\n",
      "accuracy = 0.758\n",
      "recall = 0.6973684210526315\n",
      "precision = 0.41798107255520506\n",
      "f1 = 0.5226824457593688\n",
      "roc_auc = 0.7347953216374269\n",
      "\n",
      "depth = 7\n",
      "accuracy = 0.7765\n",
      "recall = 0.6736842105263158\n",
      "precision = 0.4421416234887737\n",
      "f1 = 0.5338894681960376\n",
      "roc_auc = 0.7371507472384665\n",
      "\n",
      "depth = 8\n",
      "accuracy = 0.7745\n",
      "recall = 0.6605263157894737\n",
      "precision = 0.43804537521815007\n",
      "f1 = 0.5267576075550893\n",
      "roc_auc = 0.7308804418453542\n",
      "\n",
      "depth = 9\n",
      "accuracy = 0.742\n",
      "recall = 0.6894736842105263\n",
      "precision = 0.396969696969697\n",
      "f1 = 0.5038461538461537\n",
      "roc_auc = 0.7218973359324237\n",
      "\n",
      "depth = 10\n",
      "accuracy = 0.752\n",
      "recall = 0.6552631578947369\n",
      "precision = 0.40553745928338764\n",
      "f1 = 0.5010060362173038\n",
      "roc_auc = 0.7149772579597142\n",
      "\n",
      "depth = 11\n",
      "accuracy = 0.7565\n",
      "recall = 0.6394736842105263\n",
      "precision = 0.40978077571669475\n",
      "f1 = 0.49948612538540593\n",
      "roc_auc = 0.7117121507472384\n",
      "\n",
      "depth = 12\n",
      "accuracy = 0.771\n",
      "recall = 0.6\n",
      "precision = 0.42696629213483145\n",
      "f1 = 0.49890590809628005\n",
      "roc_auc = 0.7055555555555556\n",
      "\n",
      "depth = 13\n",
      "accuracy = 0.7935\n",
      "recall = 0.5657894736842105\n",
      "precision = 0.46436285097192226\n",
      "f1 = 0.5100830367734283\n",
      "roc_auc = 0.706351526965562\n",
      "\n",
      "depth = 14\n",
      "accuracy = 0.7935\n",
      "recall = 0.5263157894736842\n",
      "precision = 0.4618937644341801\n",
      "f1 = 0.49200492004920043\n",
      "roc_auc = 0.6912443144899285\n",
      "\n",
      "\n",
      "f1 наилучшей модели на валидационной выборке: 0.5338894681960376\n",
      "DecisionTreeClassifier(max_depth=7, random_state=42)\n"
     ]
    }
   ],
   "source": [
    "decision_tree(features_upsampled, target_upsampled, features_valid, None)"
   ]
  },
  {
   "cell_type": "markdown",
   "metadata": {},
   "source": [
    "Лучший результат решающего дерева 0.53"
   ]
  },
  {
   "cell_type": "markdown",
   "metadata": {},
   "source": [
    "#### Случайный лес"
   ]
  },
  {
   "cell_type": "code",
   "execution_count": 200,
   "metadata": {
    "scrolled": true
   },
   "outputs": [
    {
     "name": "stdout",
     "output_type": "stream",
     "text": [
      "est = 5\n",
      "accuracy = 0.8135\n",
      "recall = 0.5263157894736842\n",
      "precision = 0.5089058524173028\n",
      "f1 = 0.5174644243208278\n",
      "roc_auc = 0.7035899935022741\n",
      "\n",
      "est = 7\n",
      "accuracy = 0.8215\n",
      "recall = 0.5236842105263158\n",
      "precision = 0.5306666666666666\n",
      "f1 = 0.5271523178807946\n",
      "roc_auc = 0.7075211176088368\n",
      "\n",
      "est = 9\n",
      "accuracy = 0.8295\n",
      "recall = 0.5105263157894737\n",
      "precision = 0.5558739255014327\n",
      "f1 = 0.5322359396433471\n",
      "roc_auc = 0.7074236517218974\n",
      "\n",
      "est = 11\n",
      "accuracy = 0.8335\n",
      "recall = 0.5078947368421053\n",
      "precision = 0.5693215339233039\n",
      "f1 = 0.5368567454798331\n",
      "roc_auc = 0.708885640025991\n",
      "\n",
      "est = 13\n",
      "accuracy = 0.8375\n",
      "recall = 0.5131578947368421\n",
      "precision = 0.582089552238806\n",
      "f1 = 0.5454545454545455\n",
      "roc_auc = 0.7133690708252112\n",
      "\n",
      "est = 15\n",
      "accuracy = 0.842\n",
      "recall = 0.5184210526315789\n",
      "precision = 0.5969696969696969\n",
      "f1 = 0.5549295774647887\n",
      "roc_auc = 0.71816114359974\n",
      "\n",
      "est = 17\n",
      "accuracy = 0.8375\n",
      "recall = 0.5105263157894737\n",
      "precision = 0.5825825825825826\n",
      "f1 = 0.544179523141655\n",
      "roc_auc = 0.7123619233268357\n",
      "\n",
      "est = 19\n",
      "accuracy = 0.84\n",
      "recall = 0.5157894736842106\n",
      "precision = 0.5903614457831325\n",
      "f1 = 0.5505617977528091\n",
      "roc_auc = 0.71591942820013\n",
      "\n",
      "est = 21\n",
      "accuracy = 0.839\n",
      "recall = 0.5184210526315789\n",
      "precision = 0.5863095238095238\n",
      "f1 = 0.5502793296089385\n",
      "roc_auc = 0.7163092917478882\n",
      "\n",
      "est = 23\n",
      "accuracy = 0.84\n",
      "recall = 0.5210526315789473\n",
      "precision = 0.5892857142857143\n",
      "f1 = 0.553072625698324\n",
      "roc_auc = 0.7179337231968811\n",
      "\n",
      "est = 25\n",
      "accuracy = 0.8415\n",
      "recall = 0.5263157894736842\n",
      "precision = 0.5934718100890207\n",
      "f1 = 0.5578800557880055\n",
      "roc_auc = 0.7208739441195581\n",
      "\n",
      "est = 27\n",
      "accuracy = 0.8445\n",
      "recall = 0.5289473684210526\n",
      "precision = 0.6036036036036037\n",
      "f1 = 0.5638148667601683\n",
      "roc_auc = 0.7237329434697856\n",
      "\n",
      "est = 29\n",
      "accuracy = 0.846\n",
      "recall = 0.5236842105263158\n",
      "precision = 0.6104294478527608\n",
      "f1 = 0.5637393767705383\n",
      "roc_auc = 0.7226445743989603\n",
      "\n",
      "\n",
      "f1 наилучшей модели на валидационной выборке: 0.5638148667601683\n",
      "RandomForestClassifier(n_estimators=27, random_state=42)\n"
     ]
    }
   ],
   "source": [
    "random_forest(features_upsampled, target_upsampled, features_valid, None)"
   ]
  },
  {
   "cell_type": "markdown",
   "metadata": {},
   "source": [
    "У случайного леса результат улучшился. При 27 деревьях и увеличении выборки значение f1 меры 0.56"
   ]
  },
  {
   "cell_type": "markdown",
   "metadata": {},
   "source": [
    "#### Логистическая регрессия"
   ]
  },
  {
   "cell_type": "code",
   "execution_count": 201,
   "metadata": {
    "scrolled": true
   },
   "outputs": [
    {
     "name": "stdout",
     "output_type": "stream",
     "text": [
      "accuracy = 0.6895\n",
      "recall = 0.718421052631579\n",
      "precision = 0.3468869123252859\n",
      "f1 = 0.46786632390745503\n",
      "roc_auc = 0.7005685510071474\n",
      "\n"
     ]
    }
   ],
   "source": [
    "logistic_regression(features_upsampled, target_upsampled, features_valid, None)"
   ]
  },
  {
   "cell_type": "markdown",
   "metadata": {},
   "source": [
    "Результат логистической регрессии заметно увеличился. f1 теперь 0.47"
   ]
  },
  {
   "cell_type": "markdown",
   "metadata": {},
   "source": [
    "### Уменьшение выборки"
   ]
  },
  {
   "cell_type": "code",
   "execution_count": 202,
   "metadata": {},
   "outputs": [],
   "source": [
    "def downsample(features, target, fraction):\n",
    "    features_zeros = features[target == 0]\n",
    "    features_ones = features[target == 1]\n",
    "    target_zeros = target[target == 0]\n",
    "    target_ones = target[target == 1]\n",
    "\n",
    "    features_downsampled  = pd.concat([features_zeros.sample(frac=fraction, random_state=12345)] + [features_ones])\n",
    "    target_downsampled  = pd.concat([target_zeros.sample(frac=fraction, random_state=12345)] + [target_ones])\n",
    "    features_downsampled, target_downsampled = shuffle(features_downsampled, target_downsampled, random_state=12345)\n",
    "    \n",
    "    return features_downsampled, target_downsampled"
   ]
  },
  {
   "cell_type": "code",
   "execution_count": 203,
   "metadata": {},
   "outputs": [
    {
     "data": {
      "text/plain": [
       "0.25580811252040686"
      ]
     },
     "execution_count": 203,
     "metadata": {},
     "output_type": "execute_result"
    }
   ],
   "source": [
    "fraction = target[target == 1].count() / target[target == 0].count()\n",
    "fraction"
   ]
  },
  {
   "cell_type": "code",
   "execution_count": 204,
   "metadata": {},
   "outputs": [],
   "source": [
    "features_downsampled, target_downsampled = downsample(features_train, target_train, fraction)"
   ]
  },
  {
   "cell_type": "code",
   "execution_count": 205,
   "metadata": {},
   "outputs": [
    {
     "data": {
      "text/plain": [
       "1    1227\n",
       "0    1221\n",
       "Name: Exited, dtype: int64"
      ]
     },
     "execution_count": 205,
     "metadata": {},
     "output_type": "execute_result"
    }
   ],
   "source": [
    "# Проверим, что выборки поменялись\n",
    "target_downsampled.value_counts()"
   ]
  },
  {
   "cell_type": "markdown",
   "metadata": {},
   "source": [
    "#### Дерево решений"
   ]
  },
  {
   "cell_type": "code",
   "execution_count": 206,
   "metadata": {
    "scrolled": true
   },
   "outputs": [
    {
     "name": "stdout",
     "output_type": "stream",
     "text": [
      "depth = 1\n",
      "accuracy = 0.7285\n",
      "recall = 0.5973684210526315\n",
      "precision = 0.3679092382495948\n",
      "f1 = 0.45536609829488467\n",
      "roc_auc = 0.6783138401559454\n",
      "\n",
      "depth = 2\n",
      "accuracy = 0.732\n",
      "recall = 0.65\n",
      "precision = 0.38\n",
      "f1 = 0.4796116504854369\n",
      "roc_auc = 0.7006172839506172\n",
      "\n",
      "depth = 3\n",
      "accuracy = 0.7315\n",
      "recall = 0.6473684210526316\n",
      "precision = 0.3790446841294299\n",
      "f1 = 0.478134110787172\n",
      "roc_auc = 0.6993014944769331\n",
      "\n",
      "depth = 4\n",
      "accuracy = 0.7675\n",
      "recall = 0.6736842105263158\n",
      "precision = 0.4288107202680067\n",
      "f1 = 0.5240532241555783\n",
      "roc_auc = 0.7315951916829109\n",
      "\n",
      "depth = 5\n",
      "accuracy = 0.741\n",
      "recall = 0.7684210526315789\n",
      "precision = 0.40443213296398894\n",
      "f1 = 0.5299455535390201\n",
      "roc_auc = 0.7514944769330734\n",
      "\n",
      "depth = 6\n",
      "accuracy = 0.728\n",
      "recall = 0.7657894736842106\n",
      "precision = 0.3900804289544236\n",
      "f1 = 0.5168738898756661\n",
      "roc_auc = 0.7424626380766732\n",
      "\n",
      "depth = 7\n",
      "accuracy = 0.7615\n",
      "recall = 0.7394736842105263\n",
      "precision = 0.4264036418816389\n",
      "f1 = 0.5409047160731474\n",
      "roc_auc = 0.7530701754385964\n",
      "\n",
      "depth = 8\n",
      "accuracy = 0.747\n",
      "recall = 0.7342105263157894\n",
      "precision = 0.40789473684210525\n",
      "f1 = 0.5244360902255639\n",
      "roc_auc = 0.7421052631578947\n",
      "\n",
      "depth = 9\n",
      "accuracy = 0.7475\n",
      "recall = 0.6710526315789473\n",
      "precision = 0.4015748031496063\n",
      "f1 = 0.5024630541871922\n",
      "roc_auc = 0.7182423651721898\n",
      "\n",
      "depth = 10\n",
      "accuracy = 0.748\n",
      "recall = 0.7\n",
      "precision = 0.4054878048780488\n",
      "f1 = 0.5135135135135135\n",
      "roc_auc = 0.7296296296296296\n",
      "\n",
      "depth = 11\n",
      "accuracy = 0.726\n",
      "recall = 0.6605263157894737\n",
      "precision = 0.3746268656716418\n",
      "f1 = 0.47809523809523813\n",
      "roc_auc = 0.7009421702404158\n",
      "\n",
      "depth = 12\n",
      "accuracy = 0.713\n",
      "recall = 0.6789473684210526\n",
      "precision = 0.36338028169014086\n",
      "f1 = 0.473394495412844\n",
      "roc_auc = 0.6999675113710201\n",
      "\n",
      "depth = 13\n",
      "accuracy = 0.7095\n",
      "recall = 0.6578947368421053\n",
      "precision = 0.3566333808844508\n",
      "f1 = 0.46253469010175763\n",
      "roc_auc = 0.6897498375568551\n",
      "\n",
      "depth = 14\n",
      "accuracy = 0.71\n",
      "recall = 0.6657894736842105\n",
      "precision = 0.358356940509915\n",
      "f1 = 0.46593001841620624\n",
      "roc_auc = 0.6930799220272903\n",
      "\n",
      "\n",
      "f1 наилучшей модели на валидационной выборке: 0.5409047160731474\n",
      "DecisionTreeClassifier(max_depth=7, random_state=42)\n"
     ]
    }
   ],
   "source": [
    "decision_tree(features_downsampled, target_downsampled, features_valid, None)"
   ]
  },
  {
   "cell_type": "markdown",
   "metadata": {},
   "source": [
    "У решающего дерева результат улучшился - 0.54"
   ]
  },
  {
   "cell_type": "markdown",
   "metadata": {},
   "source": [
    "#### Случайный лес"
   ]
  },
  {
   "cell_type": "code",
   "execution_count": 207,
   "metadata": {
    "scrolled": true
   },
   "outputs": [
    {
     "name": "stdout",
     "output_type": "stream",
     "text": [
      "est = 5\n",
      "accuracy = 0.7265\n",
      "recall = 0.7026315789473684\n",
      "precision = 0.38088445078459343\n",
      "f1 = 0.4939870490286772\n",
      "roc_auc = 0.7173651721897336\n",
      "\n",
      "est = 7\n",
      "accuracy = 0.7355\n",
      "recall = 0.7052631578947368\n",
      "precision = 0.39124087591240875\n",
      "f1 = 0.5032863849765258\n",
      "roc_auc = 0.7239278752436646\n",
      "\n",
      "est = 9\n",
      "accuracy = 0.7425\n",
      "recall = 0.7236842105263158\n",
      "precision = 0.40145985401459855\n",
      "f1 = 0.5164319248826291\n",
      "roc_auc = 0.7352988953866147\n",
      "\n",
      "est = 11\n",
      "accuracy = 0.7485\n",
      "recall = 0.7\n",
      "precision = 0.40610687022900765\n",
      "f1 = 0.5140096618357488\n",
      "roc_auc = 0.7299382716049383\n",
      "\n",
      "est = 13\n",
      "accuracy = 0.755\n",
      "recall = 0.7105263157894737\n",
      "precision = 0.4153846153846154\n",
      "f1 = 0.5242718446601942\n",
      "roc_auc = 0.737979207277453\n",
      "\n",
      "est = 15\n",
      "accuracy = 0.7615\n",
      "recall = 0.7263157894736842\n",
      "precision = 0.4252696456086287\n",
      "f1 = 0.5364431486880467\n",
      "roc_auc = 0.7480344379467185\n",
      "\n",
      "est = 17\n",
      "accuracy = 0.754\n",
      "recall = 0.7157894736842105\n",
      "precision = 0.4146341463414634\n",
      "f1 = 0.525096525096525\n",
      "roc_auc = 0.7393762183235867\n",
      "\n",
      "est = 19\n",
      "accuracy = 0.75\n",
      "recall = 0.7078947368421052\n",
      "precision = 0.4088145896656535\n",
      "f1 = 0.5183044315992293\n",
      "roc_auc = 0.7338856400259908\n",
      "\n",
      "est = 21\n",
      "accuracy = 0.757\n",
      "recall = 0.7026315789473684\n",
      "precision = 0.4171875\n",
      "f1 = 0.5235294117647058\n",
      "roc_auc = 0.7361923326835608\n",
      "\n",
      "est = 23\n",
      "accuracy = 0.76\n",
      "recall = 0.7052631578947368\n",
      "precision = 0.42138364779874216\n",
      "f1 = 0.5275590551181102\n",
      "roc_auc = 0.7390513320337881\n",
      "\n",
      "est = 25\n",
      "accuracy = 0.763\n",
      "recall = 0.7236842105263158\n",
      "precision = 0.42701863354037267\n",
      "f1 = 0.5371093750000001\n",
      "roc_auc = 0.7479532163742691\n",
      "\n",
      "est = 27\n",
      "accuracy = 0.7625\n",
      "recall = 0.7157894736842105\n",
      "precision = 0.42566510172143973\n",
      "f1 = 0.533856722276742\n",
      "roc_auc = 0.7446231319038337\n",
      "\n",
      "est = 29\n",
      "accuracy = 0.7615\n",
      "recall = 0.718421052631579\n",
      "precision = 0.42457231726283046\n",
      "f1 = 0.533724340175953\n",
      "roc_auc = 0.7450129954515918\n",
      "\n",
      "\n",
      "f1 наилучшей модели на валидационной выборке: 0.5371093750000001\n",
      "RandomForestClassifier(n_estimators=25, random_state=42)\n"
     ]
    }
   ],
   "source": [
    "random_forest(features_downsampled, target_downsampled, features_valid, None)"
   ]
  },
  {
   "cell_type": "markdown",
   "metadata": {},
   "source": [
    "Для случайного леса на наших данных уменьшение выборки работает хуже"
   ]
  },
  {
   "cell_type": "markdown",
   "metadata": {},
   "source": [
    "#### Логистическая регрессия"
   ]
  },
  {
   "cell_type": "code",
   "execution_count": 208,
   "metadata": {},
   "outputs": [
    {
     "name": "stdout",
     "output_type": "stream",
     "text": [
      "accuracy = 0.692\n",
      "recall = 0.7\n",
      "precision = 0.3463541666666667\n",
      "f1 = 0.46341463414634143\n",
      "roc_auc = 0.6950617283950616\n",
      "\n"
     ]
    }
   ],
   "source": [
    "logistic_regression(features_downsampled, target_downsampled, features_valid, None)"
   ]
  },
  {
   "cell_type": "markdown",
   "metadata": {},
   "source": [
    "Результат логистической регрессии при уменьшении выборки 0.46"
   ]
  },
  {
   "cell_type": "markdown",
   "metadata": {},
   "source": [
    "### Изменение порога классификации"
   ]
  },
  {
   "cell_type": "markdown",
   "metadata": {},
   "source": [
    "#### Дерево решений"
   ]
  },
  {
   "cell_type": "code",
   "execution_count": 209,
   "metadata": {
    "scrolled": true
   },
   "outputs": [
    {
     "name": "stdout",
     "output_type": "stream",
     "text": [
      "Порог = 0.0\n",
      "accuracy = 0.193\n",
      "recall = 0.9815789473684211\n",
      "precision = 0.18838383838383838\n",
      "f1 = 0.31610169491525425\n",
      "roc_auc = 0.4948018193632229\n",
      "\n",
      "Порог = 0.05\n",
      "accuracy = 0.4585\n",
      "recall = 0.9289473684210526\n",
      "precision = 0.2505322924059617\n",
      "f1 = 0.39463387367244274\n",
      "roc_auc = 0.6385477582846004\n",
      "\n",
      "Порог = 0.1\n",
      "accuracy = 0.699\n",
      "recall = 0.7894736842105263\n",
      "precision = 0.36496350364963503\n",
      "f1 = 0.4991680532445924\n",
      "roc_auc = 0.7336257309941521\n",
      "\n",
      "Порог = 0.15000000000000002\n",
      "accuracy = 0.709\n",
      "recall = 0.7842105263157895\n",
      "precision = 0.37343358395989973\n",
      "f1 = 0.5059422750424448\n",
      "roc_auc = 0.7377842755035737\n",
      "\n",
      "Порог = 0.2\n",
      "accuracy = 0.7195\n",
      "recall = 0.7578947368421053\n",
      "precision = 0.380449141347424\n",
      "f1 = 0.5065963060686015\n",
      "roc_auc = 0.7341942820012995\n",
      "\n",
      "Порог = 0.25\n",
      "accuracy = 0.8385\n",
      "recall = 0.5236842105263158\n",
      "precision = 0.5835777126099707\n",
      "f1 = 0.5520110957004161\n",
      "roc_auc = 0.7180149447693307\n",
      "\n",
      "Порог = 0.30000000000000004\n",
      "accuracy = 0.8385\n",
      "recall = 0.5236842105263158\n",
      "precision = 0.5835777126099707\n",
      "f1 = 0.5520110957004161\n",
      "roc_auc = 0.7180149447693307\n",
      "\n",
      "Порог = 0.35000000000000003\n",
      "accuracy = 0.839\n",
      "recall = 0.5236842105263158\n",
      "precision = 0.5852941176470589\n",
      "f1 = 0.5527777777777777\n",
      "roc_auc = 0.7183235867446394\n",
      "\n",
      "Порог = 0.4\n",
      "accuracy = 0.848\n",
      "recall = 0.46578947368421053\n",
      "precision = 0.6366906474820144\n",
      "f1 = 0.5379939209726443\n",
      "roc_auc = 0.7017218973359324\n",
      "\n",
      "Порог = 0.45\n",
      "accuracy = 0.855\n",
      "recall = 0.4263157894736842\n",
      "precision = 0.6923076923076923\n",
      "f1 = 0.527687296416938\n",
      "roc_auc = 0.6909356725146198\n",
      "\n",
      "Порог = 0.5\n",
      "accuracy = 0.855\n",
      "recall = 0.4263157894736842\n",
      "precision = 0.6923076923076923\n",
      "f1 = 0.527687296416938\n",
      "roc_auc = 0.6909356725146198\n",
      "\n",
      "Порог = 0.55\n",
      "accuracy = 0.855\n",
      "recall = 0.4263157894736842\n",
      "precision = 0.6923076923076923\n",
      "f1 = 0.527687296416938\n",
      "roc_auc = 0.6909356725146198\n",
      "\n",
      "\n",
      "f1 наилучшей модели на валидационной выборке: 0.5527777777777777\n",
      "DecisionTreeClassifier(max_depth=6, random_state=42)\n"
     ]
    }
   ],
   "source": [
    "best_tree_model = None # переменная для наилучшей модели\n",
    "best_tree_result = 0 # accuracy наилучшей модели\n",
    "for threshold in np.arange(0, 0.6,0.05):\n",
    "    model_tree = DecisionTreeClassifier(random_state=42, max_depth=6) \n",
    "    model_tree.fit(features_train, target_train)\n",
    "    probabilities_valid_tree = model_tree.predict_proba(features_valid)\n",
    "    probabilities_one_valid_tree = probabilities_valid_tree[:, 1]\n",
    "    predicted_valid = probabilities_one_valid_tree > threshold\n",
    "    print(\"Порог =\", threshold)\n",
    "    print_metrics(predicted_valid, target_valid)\n",
    "    \n",
    "    result_tree = f1_score(target_valid, predicted_valid)\n",
    "    # условие проверки лучшего результата\n",
    "    if result_tree > best_tree_result:\n",
    "        best_tree_model = model_tree \n",
    "        best_tree_result = result_tree \n",
    "print()\n",
    "print(\"f1 наилучшей модели на валидационной выборке:\", best_tree_result)\n",
    "print(best_tree_model)"
   ]
  },
  {
   "cell_type": "markdown",
   "metadata": {},
   "source": [
    "Решающее дерево показывает лучший результат 0.55"
   ]
  },
  {
   "cell_type": "markdown",
   "metadata": {},
   "source": [
    "#### Случайный лес"
   ]
  },
  {
   "cell_type": "code",
   "execution_count": 210,
   "metadata": {
    "scrolled": true
   },
   "outputs": [
    {
     "name": "stdout",
     "output_type": "stream",
     "text": [
      "Порог = 0.0\n",
      "accuracy = 0.441\n",
      "recall = 0.9289473684210526\n",
      "precision = 0.24445983379501385\n",
      "f1 = 0.38706140350877194\n",
      "roc_auc = 0.627745289148798\n",
      "\n",
      "Порог = 0.05\n",
      "accuracy = 0.441\n",
      "recall = 0.9289473684210526\n",
      "precision = 0.24445983379501385\n",
      "f1 = 0.38706140350877194\n",
      "roc_auc = 0.627745289148798\n",
      "\n",
      "Порог = 0.1\n",
      "accuracy = 0.594\n",
      "recall = 0.85\n",
      "precision = 0.29962894248608535\n",
      "f1 = 0.4430727023319616\n",
      "roc_auc = 0.6919753086419753\n",
      "\n",
      "Порог = 0.15000000000000002\n",
      "accuracy = 0.691\n",
      "recall = 0.7868421052631579\n",
      "precision = 0.3576555023923445\n",
      "f1 = 0.4917763157894737\n",
      "roc_auc = 0.7276803118908381\n",
      "\n",
      "Порог = 0.2\n",
      "accuracy = 0.7595\n",
      "recall = 0.718421052631579\n",
      "precision = 0.42194744976816073\n",
      "f1 = 0.5316455696202531\n",
      "roc_auc = 0.7437784275503574\n",
      "\n",
      "Порог = 0.25\n",
      "accuracy = 0.7595\n",
      "recall = 0.718421052631579\n",
      "precision = 0.42194744976816073\n",
      "f1 = 0.5316455696202531\n",
      "roc_auc = 0.7437784275503574\n",
      "\n",
      "Порог = 0.30000000000000004\n",
      "accuracy = 0.8075\n",
      "recall = 0.6421052631578947\n",
      "precision = 0.4949290060851927\n",
      "f1 = 0.5589919816723941\n",
      "roc_auc = 0.7442007797270955\n",
      "\n",
      "Порог = 0.35000000000000003\n",
      "accuracy = 0.832\n",
      "recall = 0.5842105263157895\n",
      "precision = 0.555\n",
      "f1 = 0.5692307692307693\n",
      "roc_auc = 0.7371669915529565\n",
      "\n",
      "Порог = 0.4\n",
      "accuracy = 0.845\n",
      "recall = 0.5026315789473684\n",
      "precision = 0.6121794871794872\n",
      "f1 = 0.5520231213872833\n",
      "roc_auc = 0.7139701104613384\n",
      "\n",
      "Порог = 0.45\n",
      "accuracy = 0.845\n",
      "recall = 0.5026315789473684\n",
      "precision = 0.6121794871794872\n",
      "f1 = 0.5520231213872833\n",
      "roc_auc = 0.7139701104613384\n",
      "\n",
      "Порог = 0.5\n",
      "accuracy = 0.8565\n",
      "recall = 0.4421052631578947\n",
      "precision = 0.691358024691358\n",
      "f1 = 0.5393258426966292\n",
      "roc_auc = 0.6979044834307992\n",
      "\n",
      "Порог = 0.55\n",
      "accuracy = 0.855\n",
      "recall = 0.3815789473684211\n",
      "precision = 0.725\n",
      "f1 = 0.5\n",
      "roc_auc = 0.6738141650422352\n",
      "\n",
      "\n",
      "f1 наилучшей модели на валидационной выборке: 0.527687296416938\n",
      "DecisionTreeClassifier(max_depth=6, random_state=42)\n"
     ]
    }
   ],
   "source": [
    "best_forest_model = None # переменная для наилучшей модели\n",
    "best_forest_result = 0 # accuracy наилучшей модели\n",
    "for threshold in np.arange(0, 0.6,0.05):\n",
    "    model_forest = RandomForestClassifier(random_state=42, n_estimators=15) \n",
    "    model_forest.fit(features_train, target_train) \n",
    "    probabilities_valid_forest = model_forest.predict_proba(features_valid)\n",
    "    probabilities_one_valid_forest = probabilities_valid_forest[:, 1]\n",
    "    predicted_valid = probabilities_one_valid_forest > threshold\n",
    "    print(\"Порог =\", threshold)\n",
    "    print_metrics(predicted_valid, target_valid)\n",
    "    \n",
    "    result_forest = f1_score(target_valid, predicted_valid)\n",
    "    # условие проверки лучшего результата\n",
    "    if result_forest > best_forest_result:\n",
    "        best_forest_model = model_tree \n",
    "        best_forest_result = result_tree \n",
    "print()\n",
    "print(\"f1 наилучшей модели на валидационной выборке:\", best_forest_result)\n",
    "print(best_forest_model)"
   ]
  },
  {
   "cell_type": "markdown",
   "metadata": {},
   "source": [
    "Лучший результат у случайного леса 0.53"
   ]
  },
  {
   "cell_type": "markdown",
   "metadata": {},
   "source": [
    "#### Логистическая регрессия"
   ]
  },
  {
   "cell_type": "code",
   "execution_count": 211,
   "metadata": {
    "scrolled": true
   },
   "outputs": [
    {
     "name": "stdout",
     "output_type": "stream",
     "text": [
      "Порог = 0.0\n",
      "accuracy = 0.19\n",
      "recall = 1.0\n",
      "precision = 0.19\n",
      "f1 = 0.319327731092437\n",
      "roc_auc = 0.5\n",
      "\n",
      "Порог = 0.05\n",
      "accuracy = 0.283\n",
      "recall = 0.9789473684210527\n",
      "precision = 0.20689655172413793\n",
      "f1 = 0.3415977961432507\n",
      "roc_auc = 0.5493502274204028\n",
      "\n",
      "Порог = 0.1\n",
      "accuracy = 0.458\n",
      "recall = 0.9052631578947369\n",
      "precision = 0.2471264367816092\n",
      "f1 = 0.38826185101580135\n",
      "roc_auc = 0.6291747888239116\n",
      "\n",
      "Порог = 0.15000000000000002\n",
      "accuracy = 0.594\n",
      "recall = 0.8078947368421052\n",
      "precision = 0.29349904397705545\n",
      "f1 = 0.43057503506311356\n",
      "roc_auc = 0.6758609486679662\n",
      "\n",
      "Порог = 0.2\n",
      "accuracy = 0.678\n",
      "recall = 0.7105263157894737\n",
      "precision = 0.3358208955223881\n",
      "f1 = 0.45608108108108114\n",
      "roc_auc = 0.690448343079922\n",
      "\n",
      "Порог = 0.25\n",
      "accuracy = 0.736\n",
      "recall = 0.5842105263157895\n",
      "precision = 0.375\n",
      "f1 = 0.45679012345679015\n",
      "roc_auc = 0.6779077322936973\n",
      "\n",
      "Порог = 0.30000000000000004\n",
      "accuracy = 0.7805\n",
      "recall = 0.4921052631578947\n",
      "precision = 0.43187066974595845\n",
      "f1 = 0.46002460024600245\n",
      "roc_auc = 0.6701267056530213\n",
      "\n",
      "Порог = 0.35000000000000003\n",
      "accuracy = 0.7955\n",
      "recall = 0.4\n",
      "precision = 0.45645645645645644\n",
      "f1 = 0.426367461430575\n",
      "roc_auc = 0.6441358024691357\n",
      "\n",
      "Порог = 0.4\n",
      "accuracy = 0.811\n",
      "recall = 0.3394736842105263\n",
      "precision = 0.50390625\n",
      "f1 = 0.40566037735849053\n",
      "roc_auc = 0.6305393112410657\n",
      "\n",
      "Порог = 0.45\n",
      "accuracy = 0.812\n",
      "recall = 0.25526315789473686\n",
      "precision = 0.5105263157894737\n",
      "f1 = 0.3403508771929825\n",
      "roc_auc = 0.5989278752436648\n",
      "\n",
      "Порог = 0.5\n",
      "accuracy = 0.8175\n",
      "recall = 0.2026315789473684\n",
      "precision = 0.5539568345323741\n",
      "f1 = 0.2967244701348748\n",
      "roc_auc = 0.5821799870045484\n",
      "\n",
      "Порог = 0.55\n",
      "accuracy = 0.823\n",
      "recall = 0.1631578947368421\n",
      "precision = 0.6326530612244898\n",
      "f1 = 0.2594142259414226\n",
      "roc_auc = 0.57046783625731\n",
      "\n",
      "\n",
      "f1 наилучшей модели на валидационной выборке: 0.46002460024600245\n",
      "LogisticRegression(random_state=42, solver='liblinear')\n"
     ]
    }
   ],
   "source": [
    "best_lr_model = None # переменная для наилучшей модели\n",
    "best_lr_result = 0 # accuracy наилучшей модели\n",
    "for threshold in np.arange(0, 0.6,0.05):\n",
    "    model_lr = LogisticRegression(random_state=42, solver='liblinear')\n",
    "    model_lr.fit(features_train, target_train)\n",
    "    probabilities_valid_lr = model_lr.predict_proba(features_valid)\n",
    "    probabilities_one_valid_lr = probabilities_valid_lr[:, 1]\n",
    "    predicted_valid = probabilities_one_valid_lr > threshold\n",
    "    print(\"Порог =\", threshold)\n",
    "    print_metrics(predicted_valid, target_valid)\n",
    "    \n",
    "    result_lr = f1_score(target_valid, predicted_valid)\n",
    "    # условие проверки лучшего результата\n",
    "    if result_lr > best_lr_result:\n",
    "        best_lr_model = model_lr\n",
    "        best_lr_result = result_lr \n",
    "print()\n",
    "print(\"f1 наилучшей модели на валидационной выборке:\", best_lr_result)\n",
    "print(best_lr_model)"
   ]
  },
  {
   "cell_type": "markdown",
   "metadata": {},
   "source": [
    "Логистическая регрессия показывает результат 0.46"
   ]
  },
  {
   "cell_type": "markdown",
   "metadata": {},
   "source": [
    "<div style=\"border:solid blue 2px; padding: 20px\">\n",
    "\n",
    "**Выводы**\n",
    "\n",
    " * Мы попробовали  разные способы решения проблемы с дисбалансом\n",
    " * Для решающего дерева наивысшее значение f1 меры получается при изменении порога до 0.35\n",
    " * Для логистической регрессии лучший результат получается при увеличении выборки\n",
    " * Наибольшее значение f1 удалось получить используя модель случайного леса с 27 деревьями и при увеличении выборки. Результат 0.56"
   ]
  },
  {
   "cell_type": "markdown",
   "metadata": {},
   "source": [
    "## Тестирование модели"
   ]
  },
  {
   "cell_type": "markdown",
   "metadata": {},
   "source": [
    "Обучим финальную модель и проверим её на тестовой выборке"
   ]
  },
  {
   "cell_type": "markdown",
   "metadata": {},
   "source": [
    "Объединим обучающую и валидационную выборки и обучим модель на них"
   ]
  },
  {
   "cell_type": "code",
   "execution_count": 213,
   "metadata": {},
   "outputs": [],
   "source": [
    "features_train_valid = features_train.append(features_valid)\n",
    "target_train_valid = target_train.append(target_valid)"
   ]
  },
  {
   "cell_type": "code",
   "execution_count": 214,
   "metadata": {},
   "outputs": [],
   "source": [
    "features_upsampled, target_upsampled = upsample(features_train_valid, target_train_valid, 4)"
   ]
  },
  {
   "cell_type": "code",
   "execution_count": 215,
   "metadata": {},
   "outputs": [
    {
     "name": "stdout",
     "output_type": "stream",
     "text": [
      "accuracy = 0.8475\n",
      "recall = 0.5395348837209303\n",
      "precision = 0.6843657817109144\n",
      "f1 = 0.6033810143042914\n",
      "roc_auc = 0.735691008739446\n",
      "\n"
     ]
    }
   ],
   "source": [
    "model_final = RandomForestClassifier(random_state=42, n_estimators=27)\n",
    "model_final.fit(features_upsampled, target_upsampled)\n",
    "predicted_test = model_final.predict(features_test)\n",
    "print_metrics(predicted_test, target_test)"
   ]
  },
  {
   "cell_type": "code",
   "execution_count": 218,
   "metadata": {},
   "outputs": [
    {
     "data": {
      "image/png": "[encoded data removed]",
      "text/plain": [
       "<Figure size 432x288 with 1 Axes>"
      ]
     },
     "metadata": {
      "needs_background": "light"
     },
     "output_type": "display_data"
    }
   ],
   "source": [
    "# Посмотрим на ROC кривую\n",
    "\n",
    "fpr, tpr, thresholds = roc_curve(target_test, predicted_test)\n",
    "\n",
    "plt.figure()\n",
    "plt.plot(fpr, tpr)\n",
    "plt.plot([0, 1], [0, 1], linestyle='--')\n",
    "plt.xlim([0.0, 1.0])\n",
    "plt.ylim([0.0, 1.0])\n",
    "plt.xlabel('False Positive Rate')\n",
    "plt.ylabel('True Positive Rate')\n",
    "plt.title('ROC-кривая')\n",
    "plt.show()"
   ]
  },
  {
   "cell_type": "markdown",
   "metadata": {},
   "source": [
    "<div style=\"border:solid blue 2px; padding: 20px\">\n",
    "\n",
    "**Выводы**\n",
    " \n",
    "  Итак, наилучший результат показала модель случайного леса с 27 деревьями с использованием увеличения выборки. На тестовой выборке модель смогла набрать f1 score 0.6. Auc roc для неё 0.736"
   ]
  },
  {
   "cell_type": "markdown",
   "metadata": {},
   "source": [
    "## Общий вывод"
   ]
  },
  {
   "cell_type": "markdown",
   "metadata": {},
   "source": [
    "<div style=\"border:solid blue 2px; padding: 20px\">\n",
    "\n",
    "**Выводы**\n",
    "    \n",
    "В ходе работы над проектом мы\n",
    " * Подготовили данные к исследованию\n",
    "    * преобразовали категориальные признаки в численные с помощью техники One-Hot Encoding\n",
    "    * разбили получившийся датасет на 3 выборки - обучающую, валидационную и тестовую\n",
    "    * масштабировали признаки\n",
    " * Изучили работу моделей без учёта дисбаланса классов. Наилучший результат показал случайный лес с 29 деревьями. f1 мера на нём - 0.55\n",
    " * Применили разные способы борьбы с дисбалансом\n",
    "    * Взвешивание классов\n",
    "    * Увеличение выборки\n",
    "    * Уменьшение выборки\n",
    "    * Изменение порога классификации\n",
    " * Наилучший результат опять же получили в модели случайного леса с 27 деревьями и при увеличении выборки. Результат 0.56\n",
    " * Обучили финальную модель и проверили ее на тестовой выборке. Достигли значения f1 = 0.6\n",
    " * Отметили, что значение roc auc при этом 0.73"
   ]
  }
 ],
 "metadata": {
  "ExecuteTimeLog": [
   {
    "duration": 508,
    "start_time": "2022-04-19T10:21:56.977Z"
   },
   {
    "duration": 46,
    "start_time": "2022-04-19T10:22:52.913Z"
   },
   {
    "duration": 44,
    "start_time": "2022-04-19T10:23:14.273Z"
   },
   {
    "duration": 466,
    "start_time": "2022-04-20T05:48:08.037Z"
   },
   {
    "duration": 34,
    "start_time": "2022-04-20T05:48:10.422Z"
   },
   {
    "duration": 31,
    "start_time": "2022-04-20T05:48:13.931Z"
   },
   {
    "duration": 20,
    "start_time": "2022-04-20T05:53:39.632Z"
   },
   {
    "duration": 58,
    "start_time": "2022-04-20T06:00:31.091Z"
   },
   {
    "duration": 513,
    "start_time": "2022-04-20T16:58:23.373Z"
   },
   {
    "duration": 31,
    "start_time": "2022-04-20T16:58:25.022Z"
   },
   {
    "duration": 38,
    "start_time": "2022-04-20T16:58:26.211Z"
   },
   {
    "duration": 18,
    "start_time": "2022-04-20T16:58:26.864Z"
   },
   {
    "duration": 58,
    "start_time": "2022-04-20T16:58:28.111Z"
   },
   {
    "duration": 6,
    "start_time": "2022-04-20T17:06:10.508Z"
   },
   {
    "duration": 29,
    "start_time": "2022-04-20T17:06:15.758Z"
   },
   {
    "duration": 6,
    "start_time": "2022-04-20T17:17:50.920Z"
   },
   {
    "duration": 8,
    "start_time": "2022-04-20T17:19:29.349Z"
   },
   {
    "duration": 8,
    "start_time": "2022-04-20T17:20:18.586Z"
   },
   {
    "duration": 8,
    "start_time": "2022-04-20T17:20:48.847Z"
   },
   {
    "duration": 5,
    "start_time": "2022-04-20T17:24:45.814Z"
   },
   {
    "duration": 6,
    "start_time": "2022-04-20T17:24:52.766Z"
   },
   {
    "duration": 8,
    "start_time": "2022-04-20T17:25:08.388Z"
   },
   {
    "duration": 5,
    "start_time": "2022-04-20T17:25:20.503Z"
   },
   {
    "duration": 31,
    "start_time": "2022-04-20T17:25:25.266Z"
   },
   {
    "duration": 7,
    "start_time": "2022-04-20T17:25:43.783Z"
   },
   {
    "duration": 94,
    "start_time": "2022-04-20T18:22:19.423Z"
   },
   {
    "duration": 7,
    "start_time": "2022-04-20T18:23:11.116Z"
   },
   {
    "duration": 6,
    "start_time": "2022-04-20T18:24:01.640Z"
   },
   {
    "duration": 5,
    "start_time": "2022-04-20T18:24:20.184Z"
   },
   {
    "duration": 5,
    "start_time": "2022-04-20T18:24:47.169Z"
   },
   {
    "duration": 5,
    "start_time": "2022-04-20T18:25:03.179Z"
   },
   {
    "duration": 18,
    "start_time": "2022-04-20T18:25:27.453Z"
   },
   {
    "duration": 476,
    "start_time": "2022-04-21T14:33:01.409Z"
   },
   {
    "duration": 48,
    "start_time": "2022-04-21T14:33:03.410Z"
   },
   {
    "duration": 25,
    "start_time": "2022-04-21T14:33:04.528Z"
   },
   {
    "duration": 15,
    "start_time": "2022-04-21T14:33:06.126Z"
   },
   {
    "duration": 48,
    "start_time": "2022-04-21T14:33:07.008Z"
   },
   {
    "duration": 5,
    "start_time": "2022-04-21T14:33:08.778Z"
   },
   {
    "duration": 19,
    "start_time": "2022-04-21T14:33:09.041Z"
   },
   {
    "duration": 5,
    "start_time": "2022-04-21T14:33:09.782Z"
   },
   {
    "duration": 5,
    "start_time": "2022-04-21T14:33:10.608Z"
   },
   {
    "duration": 5,
    "start_time": "2022-04-21T14:33:11.384Z"
   },
   {
    "duration": 6,
    "start_time": "2022-04-21T14:33:11.905Z"
   },
   {
    "duration": 6,
    "start_time": "2022-04-21T14:33:13.125Z"
   },
   {
    "duration": 4,
    "start_time": "2022-04-21T14:33:13.541Z"
   },
   {
    "duration": 5,
    "start_time": "2022-04-21T14:33:13.930Z"
   },
   {
    "duration": 5,
    "start_time": "2022-04-21T14:33:14.852Z"
   },
   {
    "duration": 7,
    "start_time": "2022-04-21T14:33:15.061Z"
   },
   {
    "duration": 4,
    "start_time": "2022-04-21T14:33:15.443Z"
   },
   {
    "duration": 4,
    "start_time": "2022-04-21T14:33:15.675Z"
   },
   {
    "duration": 4,
    "start_time": "2022-04-21T14:33:16.085Z"
   },
   {
    "duration": 16,
    "start_time": "2022-04-21T14:33:17.761Z"
   },
   {
    "duration": 83,
    "start_time": "2022-04-21T14:36:37.062Z"
   },
   {
    "duration": 1119,
    "start_time": "2022-04-21T14:37:01.197Z"
   },
   {
    "duration": 7,
    "start_time": "2022-04-21T14:37:06.801Z"
   },
   {
    "duration": 6,
    "start_time": "2022-04-21T14:37:29.609Z"
   },
   {
    "duration": 5,
    "start_time": "2022-04-21T14:37:49.426Z"
   },
   {
    "duration": 3,
    "start_time": "2022-04-21T15:03:08.565Z"
   },
   {
    "duration": 326,
    "start_time": "2022-04-21T15:03:09.856Z"
   },
   {
    "duration": 15,
    "start_time": "2022-04-21T15:03:11.452Z"
   },
   {
    "duration": 12,
    "start_time": "2022-04-21T15:03:14.216Z"
   },
   {
    "duration": 38,
    "start_time": "2022-04-21T15:03:28.123Z"
   },
   {
    "duration": 4,
    "start_time": "2022-04-21T15:06:27.538Z"
   },
   {
    "duration": 18,
    "start_time": "2022-04-21T15:06:29.483Z"
   },
   {
    "duration": 5,
    "start_time": "2022-04-21T15:07:02.936Z"
   },
   {
    "duration": 6,
    "start_time": "2022-04-21T15:07:03.918Z"
   },
   {
    "duration": 5,
    "start_time": "2022-04-21T15:07:05.356Z"
   },
   {
    "duration": 5,
    "start_time": "2022-04-21T15:07:06.550Z"
   },
   {
    "duration": 5,
    "start_time": "2022-04-21T15:07:09.929Z"
   },
   {
    "duration": 4,
    "start_time": "2022-04-21T15:07:10.801Z"
   },
   {
    "duration": 5,
    "start_time": "2022-04-21T15:07:11.543Z"
   },
   {
    "duration": 3,
    "start_time": "2022-04-21T15:07:32.219Z"
   },
   {
    "duration": 3,
    "start_time": "2022-04-21T15:07:32.842Z"
   },
   {
    "duration": 4,
    "start_time": "2022-04-21T15:07:33.670Z"
   },
   {
    "duration": 4,
    "start_time": "2022-04-21T15:07:34.419Z"
   },
   {
    "duration": 14,
    "start_time": "2022-04-21T15:07:37.312Z"
   },
   {
    "duration": 5,
    "start_time": "2022-04-21T15:37:18.773Z"
   },
   {
    "duration": 5,
    "start_time": "2022-04-21T15:38:04.623Z"
   },
   {
    "duration": 9,
    "start_time": "2022-04-21T15:38:18.586Z"
   },
   {
    "duration": 4,
    "start_time": "2022-04-21T15:39:00.059Z"
   },
   {
    "duration": 39,
    "start_time": "2022-04-21T15:39:00.065Z"
   },
   {
    "duration": 18,
    "start_time": "2022-04-21T15:39:00.107Z"
   },
   {
    "duration": 15,
    "start_time": "2022-04-21T15:39:00.127Z"
   },
   {
    "duration": 40,
    "start_time": "2022-04-21T15:39:00.144Z"
   },
   {
    "duration": 5,
    "start_time": "2022-04-21T15:39:00.186Z"
   },
   {
    "duration": 52,
    "start_time": "2022-04-21T15:39:00.193Z"
   },
   {
    "duration": 9,
    "start_time": "2022-04-21T15:39:00.247Z"
   },
   {
    "duration": 14,
    "start_time": "2022-04-21T15:39:00.258Z"
   },
   {
    "duration": 14,
    "start_time": "2022-04-21T15:39:00.274Z"
   },
   {
    "duration": 12,
    "start_time": "2022-04-21T15:39:00.323Z"
   },
   {
    "duration": 23,
    "start_time": "2022-04-21T15:39:00.337Z"
   },
   {
    "duration": 30,
    "start_time": "2022-04-21T15:39:00.362Z"
   },
   {
    "duration": 41,
    "start_time": "2022-04-21T15:39:00.393Z"
   },
   {
    "duration": 38,
    "start_time": "2022-04-21T15:39:00.436Z"
   },
   {
    "duration": 31,
    "start_time": "2022-04-21T15:39:00.476Z"
   },
   {
    "duration": 44,
    "start_time": "2022-04-21T15:39:00.509Z"
   },
   {
    "duration": 37,
    "start_time": "2022-04-21T15:39:00.555Z"
   },
   {
    "duration": 26,
    "start_time": "2022-04-21T15:39:00.594Z"
   },
   {
    "duration": 5,
    "start_time": "2022-04-21T15:39:03.139Z"
   },
   {
    "duration": 3519,
    "start_time": "2022-04-21T15:39:04.229Z"
   },
   {
    "duration": 0,
    "start_time": "2022-04-21T15:39:07.749Z"
   },
   {
    "duration": 3,
    "start_time": "2022-04-21T15:40:00.812Z"
   },
   {
    "duration": 41,
    "start_time": "2022-04-21T15:40:00.820Z"
   },
   {
    "duration": 14,
    "start_time": "2022-04-21T15:40:00.863Z"
   },
   {
    "duration": 15,
    "start_time": "2022-04-21T15:40:00.879Z"
   },
   {
    "duration": 40,
    "start_time": "2022-04-21T15:40:00.896Z"
   },
   {
    "duration": 5,
    "start_time": "2022-04-21T15:40:00.938Z"
   },
   {
    "duration": 22,
    "start_time": "2022-04-21T15:40:00.945Z"
   },
   {
    "duration": 28,
    "start_time": "2022-04-21T15:40:00.969Z"
   },
   {
    "duration": 8,
    "start_time": "2022-04-21T15:40:00.999Z"
   },
   {
    "duration": 22,
    "start_time": "2022-04-21T15:40:01.009Z"
   },
   {
    "duration": 8,
    "start_time": "2022-04-21T15:40:01.034Z"
   },
   {
    "duration": 23,
    "start_time": "2022-04-21T15:40:01.044Z"
   },
   {
    "duration": 12,
    "start_time": "2022-04-21T15:40:01.069Z"
   },
   {
    "duration": 10,
    "start_time": "2022-04-21T15:40:01.083Z"
   },
   {
    "duration": 11,
    "start_time": "2022-04-21T15:40:01.094Z"
   },
   {
    "duration": 16,
    "start_time": "2022-04-21T15:40:01.106Z"
   },
   {
    "duration": 14,
    "start_time": "2022-04-21T15:40:01.124Z"
   },
   {
    "duration": 25,
    "start_time": "2022-04-21T15:40:01.140Z"
   },
   {
    "duration": 20,
    "start_time": "2022-04-21T15:40:01.168Z"
   },
   {
    "duration": 11,
    "start_time": "2022-04-21T15:40:03.795Z"
   },
   {
    "duration": 19,
    "start_time": "2022-04-21T15:40:04.395Z"
   },
   {
    "duration": 6,
    "start_time": "2022-04-21T15:44:17.283Z"
   },
   {
    "duration": 6,
    "start_time": "2022-04-21T15:44:53.208Z"
   },
   {
    "duration": 4,
    "start_time": "2022-04-21T15:44:57.094Z"
   },
   {
    "duration": 3,
    "start_time": "2022-04-21T15:47:47.103Z"
   },
   {
    "duration": 31,
    "start_time": "2022-04-21T15:47:47.112Z"
   },
   {
    "duration": 14,
    "start_time": "2022-04-21T15:47:47.145Z"
   },
   {
    "duration": 13,
    "start_time": "2022-04-21T15:47:47.161Z"
   },
   {
    "duration": 61,
    "start_time": "2022-04-21T15:47:47.176Z"
   },
   {
    "duration": 4,
    "start_time": "2022-04-21T15:47:47.238Z"
   },
   {
    "duration": 19,
    "start_time": "2022-04-21T15:47:47.244Z"
   },
   {
    "duration": 10,
    "start_time": "2022-04-21T15:47:47.264Z"
   },
   {
    "duration": 5,
    "start_time": "2022-04-21T15:47:47.276Z"
   },
   {
    "duration": 40,
    "start_time": "2022-04-21T15:47:47.285Z"
   },
   {
    "duration": 4,
    "start_time": "2022-04-21T15:47:47.328Z"
   },
   {
    "duration": 55,
    "start_time": "2022-04-21T15:47:47.334Z"
   },
   {
    "duration": 11,
    "start_time": "2022-04-21T15:47:47.391Z"
   },
   {
    "duration": 9,
    "start_time": "2022-04-21T15:47:47.404Z"
   },
   {
    "duration": 12,
    "start_time": "2022-04-21T15:47:47.414Z"
   },
   {
    "duration": 18,
    "start_time": "2022-04-21T15:47:47.427Z"
   },
   {
    "duration": 15,
    "start_time": "2022-04-21T15:47:47.447Z"
   },
   {
    "duration": 21,
    "start_time": "2022-04-21T15:47:47.464Z"
   },
   {
    "duration": 5,
    "start_time": "2022-04-21T15:47:47.487Z"
   },
   {
    "duration": 32,
    "start_time": "2022-04-21T15:47:47.494Z"
   },
   {
    "duration": 4,
    "start_time": "2022-04-21T15:47:49.783Z"
   },
   {
    "duration": 3,
    "start_time": "2022-04-21T15:50:36.067Z"
   },
   {
    "duration": 27,
    "start_time": "2022-04-21T15:52:10.915Z"
   },
   {
    "duration": 4,
    "start_time": "2022-04-21T16:08:43.797Z"
   },
   {
    "duration": 4,
    "start_time": "2022-04-21T16:12:30.035Z"
   },
   {
    "duration": 3,
    "start_time": "2022-04-21T16:15:57.039Z"
   },
   {
    "duration": 4,
    "start_time": "2022-04-21T16:16:41.484Z"
   },
   {
    "duration": 5,
    "start_time": "2022-04-21T16:16:51.214Z"
   },
   {
    "duration": 3,
    "start_time": "2022-04-21T16:22:39.127Z"
   },
   {
    "duration": 22,
    "start_time": "2022-04-21T16:22:41.656Z"
   },
   {
    "duration": 3,
    "start_time": "2022-04-21T16:24:37.461Z"
   },
   {
    "duration": 37,
    "start_time": "2022-04-21T16:24:37.467Z"
   },
   {
    "duration": 13,
    "start_time": "2022-04-21T16:24:37.506Z"
   },
   {
    "duration": 15,
    "start_time": "2022-04-21T16:24:37.522Z"
   },
   {
    "duration": 39,
    "start_time": "2022-04-21T16:24:37.539Z"
   },
   {
    "duration": 5,
    "start_time": "2022-04-21T16:24:37.580Z"
   },
   {
    "duration": 48,
    "start_time": "2022-04-21T16:24:37.587Z"
   },
   {
    "duration": 5,
    "start_time": "2022-04-21T16:24:37.637Z"
   },
   {
    "duration": 10,
    "start_time": "2022-04-21T16:24:37.644Z"
   },
   {
    "duration": 6,
    "start_time": "2022-04-21T16:24:37.655Z"
   },
   {
    "duration": 5,
    "start_time": "2022-04-21T16:24:37.664Z"
   },
   {
    "duration": 4,
    "start_time": "2022-04-21T16:24:37.671Z"
   },
   {
    "duration": 46,
    "start_time": "2022-04-21T16:24:37.677Z"
   },
   {
    "duration": 6,
    "start_time": "2022-04-21T16:24:37.724Z"
   },
   {
    "duration": 7,
    "start_time": "2022-04-21T16:24:37.732Z"
   },
   {
    "duration": 15,
    "start_time": "2022-04-21T16:24:37.740Z"
   },
   {
    "duration": 10,
    "start_time": "2022-04-21T16:24:37.756Z"
   },
   {
    "duration": 8,
    "start_time": "2022-04-21T16:24:39.862Z"
   },
   {
    "duration": 26,
    "start_time": "2022-04-21T16:24:40.628Z"
   },
   {
    "duration": 6,
    "start_time": "2022-04-21T16:24:42.266Z"
   },
   {
    "duration": 7,
    "start_time": "2022-04-21T16:24:43.489Z"
   },
   {
    "duration": 5,
    "start_time": "2022-04-21T16:24:43.764Z"
   },
   {
    "duration": 28,
    "start_time": "2022-04-21T16:24:44.432Z"
   },
   {
    "duration": 4,
    "start_time": "2022-04-21T16:24:44.924Z"
   },
   {
    "duration": 23,
    "start_time": "2022-04-21T16:24:45.805Z"
   },
   {
    "duration": 30,
    "start_time": "2022-04-21T16:25:02.663Z"
   },
   {
    "duration": 4,
    "start_time": "2022-04-21T16:25:26.568Z"
   },
   {
    "duration": 475,
    "start_time": "2022-04-21T16:25:28.124Z"
   },
   {
    "duration": 436,
    "start_time": "2022-04-21T17:42:44.105Z"
   },
   {
    "duration": 1919,
    "start_time": "2022-04-21T17:42:58.072Z"
   },
   {
    "duration": 2118,
    "start_time": "2022-04-21T17:44:09.758Z"
   },
   {
    "duration": 708,
    "start_time": "2022-04-21T17:46:22.218Z"
   },
   {
    "duration": 77,
    "start_time": "2022-04-21T17:46:47.346Z"
   },
   {
    "duration": 1940,
    "start_time": "2022-04-22T16:17:44.552Z"
   },
   {
    "duration": 30,
    "start_time": "2022-04-22T16:17:54.231Z"
   },
   {
    "duration": 43,
    "start_time": "2022-04-22T16:18:59.988Z"
   },
   {
    "duration": 18,
    "start_time": "2022-04-22T16:19:02.465Z"
   },
   {
    "duration": 61,
    "start_time": "2022-04-22T16:19:03.865Z"
   },
   {
    "duration": 5,
    "start_time": "2022-04-22T16:19:06.419Z"
   },
   {
    "duration": 29,
    "start_time": "2022-04-22T16:19:07.298Z"
   },
   {
    "duration": 9,
    "start_time": "2022-04-22T16:19:08.762Z"
   },
   {
    "duration": 8,
    "start_time": "2022-04-22T16:19:09.413Z"
   },
   {
    "duration": 7,
    "start_time": "2022-04-22T16:19:10.230Z"
   },
   {
    "duration": 6,
    "start_time": "2022-04-22T16:19:11.179Z"
   },
   {
    "duration": 9,
    "start_time": "2022-04-22T16:19:12.872Z"
   },
   {
    "duration": 6,
    "start_time": "2022-04-22T16:19:13.703Z"
   },
   {
    "duration": 8,
    "start_time": "2022-04-22T16:19:14.516Z"
   },
   {
    "duration": 5,
    "start_time": "2022-04-22T16:19:23.702Z"
   },
   {
    "duration": 18,
    "start_time": "2022-04-22T16:19:25.374Z"
   },
   {
    "duration": 18,
    "start_time": "2022-04-22T16:19:29.456Z"
   },
   {
    "duration": 37,
    "start_time": "2022-04-22T16:19:30.113Z"
   },
   {
    "duration": 8,
    "start_time": "2022-04-22T16:19:37.551Z"
   },
   {
    "duration": 9,
    "start_time": "2022-04-22T16:22:20.486Z"
   },
   {
    "duration": 9,
    "start_time": "2022-04-22T16:22:21.175Z"
   },
   {
    "duration": 158,
    "start_time": "2022-04-22T16:22:23.002Z"
   },
   {
    "duration": 7,
    "start_time": "2022-04-22T16:23:43.028Z"
   },
   {
    "duration": 46,
    "start_time": "2022-04-22T16:23:52.919Z"
   },
   {
    "duration": 7,
    "start_time": "2022-04-22T16:23:55.714Z"
   },
   {
    "duration": 734,
    "start_time": "2022-04-22T16:23:57.609Z"
   },
   {
    "duration": 2516,
    "start_time": "2022-04-22T16:24:05.567Z"
   },
   {
    "duration": 108,
    "start_time": "2022-04-22T16:24:14.448Z"
   },
   {
    "duration": 91,
    "start_time": "2022-04-22T16:44:14.200Z"
   },
   {
    "duration": 190,
    "start_time": "2022-04-22T16:44:27.297Z"
   },
   {
    "duration": 11,
    "start_time": "2022-04-22T16:44:32.457Z"
   },
   {
    "duration": 179,
    "start_time": "2022-04-22T16:45:07.343Z"
   },
   {
    "duration": 8,
    "start_time": "2022-04-22T16:45:08.563Z"
   },
   {
    "duration": 1052,
    "start_time": "2022-04-22T16:45:25.737Z"
   },
   {
    "duration": 28,
    "start_time": "2022-04-22T16:47:29.980Z"
   },
   {
    "duration": 5,
    "start_time": "2022-04-22T16:47:56.904Z"
   },
   {
    "duration": 296,
    "start_time": "2022-04-22T16:48:07.970Z"
   },
   {
    "duration": 570,
    "start_time": "2022-04-22T17:33:33.941Z"
   },
   {
    "duration": 3176,
    "start_time": "2022-04-22T17:35:04.084Z"
   },
   {
    "duration": 149,
    "start_time": "2022-04-22T17:38:47.708Z"
   },
   {
    "duration": 5,
    "start_time": "2022-04-22T17:57:27.635Z"
   },
   {
    "duration": 7,
    "start_time": "2022-04-22T18:00:24.964Z"
   },
   {
    "duration": 9,
    "start_time": "2022-04-22T18:00:34.965Z"
   },
   {
    "duration": 12,
    "start_time": "2022-04-22T18:01:13.242Z"
   },
   {
    "duration": 26,
    "start_time": "2022-04-22T18:01:22.364Z"
   },
   {
    "duration": 6,
    "start_time": "2022-04-22T18:02:05.201Z"
   },
   {
    "duration": 9,
    "start_time": "2022-04-22T18:02:15.352Z"
   },
   {
    "duration": 9,
    "start_time": "2022-04-22T18:02:16.346Z"
   },
   {
    "duration": 17,
    "start_time": "2022-04-22T18:02:17.121Z"
   },
   {
    "duration": 8,
    "start_time": "2022-04-22T18:02:38.814Z"
   },
   {
    "duration": 5,
    "start_time": "2022-04-22T18:13:01.578Z"
   },
   {
    "duration": 587,
    "start_time": "2022-04-22T18:13:25.507Z"
   },
   {
    "duration": 131,
    "start_time": "2022-04-22T18:14:23.784Z"
   },
   {
    "duration": 792,
    "start_time": "2022-04-22T18:14:28.367Z"
   },
   {
    "duration": 6,
    "start_time": "2022-04-22T18:16:18.658Z"
   },
   {
    "duration": 3526,
    "start_time": "2022-04-22T18:16:41.636Z"
   },
   {
    "duration": 2521,
    "start_time": "2022-04-22T18:17:20.883Z"
   },
   {
    "duration": 4,
    "start_time": "2022-04-22T18:18:16.849Z"
   },
   {
    "duration": 140,
    "start_time": "2022-04-22T18:18:32.915Z"
   },
   {
    "duration": 185,
    "start_time": "2022-04-22T18:18:43.195Z"
   },
   {
    "duration": 99,
    "start_time": "2022-04-22T18:19:29.065Z"
   },
   {
    "duration": 177,
    "start_time": "2022-04-22T18:19:33.275Z"
   },
   {
    "duration": 944,
    "start_time": "2022-04-22T18:21:48.782Z"
   },
   {
    "duration": 3975,
    "start_time": "2022-04-22T18:23:36.596Z"
   },
   {
    "duration": 107,
    "start_time": "2022-04-22T18:24:43.256Z"
   },
   {
    "duration": 877,
    "start_time": "2022-04-22T18:34:09.989Z"
   },
   {
    "duration": 4457,
    "start_time": "2022-04-22T18:34:44.757Z"
   },
   {
    "duration": 240,
    "start_time": "2022-04-22T18:35:29.217Z"
   },
   {
    "duration": 6,
    "start_time": "2022-04-22T18:35:33.372Z"
   },
   {
    "duration": 7,
    "start_time": "2022-04-22T18:35:34.777Z"
   },
   {
    "duration": 11,
    "start_time": "2022-04-22T18:35:53.957Z"
   },
   {
    "duration": 9,
    "start_time": "2022-04-22T18:36:29.377Z"
   },
   {
    "duration": 15,
    "start_time": "2022-04-22T18:36:44.837Z"
   },
   {
    "duration": 7,
    "start_time": "2022-04-22T18:36:46.037Z"
   },
   {
    "duration": 380,
    "start_time": "2022-04-22T18:37:42.677Z"
   },
   {
    "duration": 1526,
    "start_time": "2022-04-22T18:38:51.676Z"
   },
   {
    "duration": 203,
    "start_time": "2022-04-22T18:40:03.250Z"
   },
   {
    "duration": 5,
    "start_time": "2022-04-22T18:55:37.874Z"
   },
   {
    "duration": 89,
    "start_time": "2022-04-22T18:56:38.775Z"
   },
   {
    "duration": 22,
    "start_time": "2022-04-22T18:57:02.516Z"
   },
   {
    "duration": 7,
    "start_time": "2022-04-22T18:57:30.869Z"
   },
   {
    "duration": 6,
    "start_time": "2022-04-22T18:57:37.069Z"
   },
   {
    "duration": 168,
    "start_time": "2022-04-22T18:57:37.492Z"
   },
   {
    "duration": 99,
    "start_time": "2022-04-22T18:57:37.916Z"
   },
   {
    "duration": 6,
    "start_time": "2022-04-22T18:59:21.237Z"
   },
   {
    "duration": 48,
    "start_time": "2022-04-22T18:59:22.085Z"
   },
   {
    "duration": 530,
    "start_time": "2022-04-22T18:59:23.076Z"
   },
   {
    "duration": 107,
    "start_time": "2022-04-22T19:10:21.786Z"
   },
   {
    "duration": 537,
    "start_time": "2022-04-22T19:10:24.470Z"
   },
   {
    "duration": 5,
    "start_time": "2022-04-22T19:10:31.912Z"
   },
   {
    "duration": 13,
    "start_time": "2022-04-22T19:13:19.221Z"
   },
   {
    "duration": 30,
    "start_time": "2022-04-22T19:13:34.685Z"
   },
   {
    "duration": 7750,
    "start_time": "2022-04-22T19:14:30.572Z"
   },
   {
    "duration": 132,
    "start_time": "2022-04-22T19:18:19.084Z"
   },
   {
    "duration": 136,
    "start_time": "2022-04-22T19:18:29.800Z"
   },
   {
    "duration": 5,
    "start_time": "2022-04-22T19:18:36.449Z"
   },
   {
    "duration": 2837,
    "start_time": "2022-04-22T19:18:38.196Z"
   },
   {
    "duration": 1496,
    "start_time": "2022-04-24T06:57:00.319Z"
   },
   {
    "duration": 31,
    "start_time": "2022-04-24T06:57:02.847Z"
   },
   {
    "duration": 17,
    "start_time": "2022-04-24T06:57:03.959Z"
   },
   {
    "duration": 13,
    "start_time": "2022-04-24T06:57:06.070Z"
   },
   {
    "duration": 40,
    "start_time": "2022-04-24T06:57:07.509Z"
   },
   {
    "duration": 4,
    "start_time": "2022-04-24T06:57:09.662Z"
   },
   {
    "duration": 16,
    "start_time": "2022-04-24T06:57:09.833Z"
   },
   {
    "duration": 5,
    "start_time": "2022-04-24T06:57:10.243Z"
   },
   {
    "duration": 6,
    "start_time": "2022-04-24T06:57:10.661Z"
   },
   {
    "duration": 5,
    "start_time": "2022-04-24T06:57:12.019Z"
   },
   {
    "duration": 5,
    "start_time": "2022-04-24T06:57:12.757Z"
   },
   {
    "duration": 5,
    "start_time": "2022-04-24T06:57:14.063Z"
   },
   {
    "duration": 3,
    "start_time": "2022-04-24T06:57:14.851Z"
   },
   {
    "duration": 5,
    "start_time": "2022-04-24T06:57:15.401Z"
   },
   {
    "duration": 4,
    "start_time": "2022-04-24T06:57:16.564Z"
   },
   {
    "duration": 12,
    "start_time": "2022-04-24T06:57:17.793Z"
   },
   {
    "duration": 11,
    "start_time": "2022-04-24T06:57:19.190Z"
   },
   {
    "duration": 21,
    "start_time": "2022-04-24T06:57:19.810Z"
   },
   {
    "duration": 6,
    "start_time": "2022-04-24T06:57:22.869Z"
   },
   {
    "duration": 7,
    "start_time": "2022-04-24T06:57:24.291Z"
   },
   {
    "duration": 7,
    "start_time": "2022-04-24T06:57:24.771Z"
   },
   {
    "duration": 5,
    "start_time": "2022-04-24T06:57:25.573Z"
   },
   {
    "duration": 32,
    "start_time": "2022-04-24T06:57:27.591Z"
   },
   {
    "duration": 4,
    "start_time": "2022-04-24T06:57:29.568Z"
   },
   {
    "duration": 4,
    "start_time": "2022-04-24T06:57:30.912Z"
   },
   {
    "duration": 391,
    "start_time": "2022-04-24T06:57:31.639Z"
   },
   {
    "duration": 4,
    "start_time": "2022-04-24T06:57:34.361Z"
   },
   {
    "duration": 1702,
    "start_time": "2022-04-24T06:57:35.214Z"
   },
   {
    "duration": 3,
    "start_time": "2022-04-24T06:57:38.972Z"
   },
   {
    "duration": 48,
    "start_time": "2022-04-24T06:57:39.576Z"
   },
   {
    "duration": 125,
    "start_time": "2022-04-24T06:57:40.271Z"
   },
   {
    "duration": 6,
    "start_time": "2022-04-24T06:57:41.199Z"
   },
   {
    "duration": 101,
    "start_time": "2022-04-24T06:57:42.258Z"
   },
   {
    "duration": 161,
    "start_time": "2022-04-24T06:57:44.335Z"
   },
   {
    "duration": 381,
    "start_time": "2022-04-24T06:57:49.046Z"
   },
   {
    "duration": 1716,
    "start_time": "2022-04-24T06:57:51.003Z"
   },
   {
    "duration": 89,
    "start_time": "2022-04-24T06:57:54.032Z"
   },
   {
    "duration": 4,
    "start_time": "2022-04-24T06:57:57.681Z"
   },
   {
    "duration": 7,
    "start_time": "2022-04-24T06:57:59.349Z"
   },
   {
    "duration": 9,
    "start_time": "2022-04-24T06:58:00.173Z"
   },
   {
    "duration": 6,
    "start_time": "2022-04-24T06:58:00.715Z"
   },
   {
    "duration": 465,
    "start_time": "2022-04-24T06:58:02.149Z"
   },
   {
    "duration": 2278,
    "start_time": "2022-04-24T06:58:03.950Z"
   },
   {
    "duration": 110,
    "start_time": "2022-04-24T06:58:08.499Z"
   },
   {
    "duration": 4,
    "start_time": "2022-04-24T06:58:10.536Z"
   },
   {
    "duration": 5,
    "start_time": "2022-04-24T06:58:11.383Z"
   },
   {
    "duration": 10,
    "start_time": "2022-04-24T06:58:12.035Z"
   },
   {
    "duration": 6,
    "start_time": "2022-04-24T06:58:12.600Z"
   },
   {
    "duration": 258,
    "start_time": "2022-04-24T06:58:13.992Z"
   },
   {
    "duration": 1077,
    "start_time": "2022-04-24T06:58:17.516Z"
   },
   {
    "duration": 84,
    "start_time": "2022-04-24T06:58:20.430Z"
   },
   {
    "duration": 3,
    "start_time": "2022-04-24T06:58:23.131Z"
   },
   {
    "duration": 1589,
    "start_time": "2022-04-24T06:58:24.471Z"
   },
   {
    "duration": 114,
    "start_time": "2022-04-24T07:00:58.525Z"
   },
   {
    "duration": 27,
    "start_time": "2022-04-24T07:01:29.100Z"
   },
   {
    "duration": 1819,
    "start_time": "2022-04-24T07:02:01.749Z"
   },
   {
    "duration": 11,
    "start_time": "2022-04-24T07:05:21.982Z"
   },
   {
    "duration": 20,
    "start_time": "2022-04-24T07:05:37.174Z"
   },
   {
    "duration": 3567,
    "start_time": "2022-04-24T07:05:50.489Z"
   },
   {
    "duration": 4,
    "start_time": "2022-04-24T07:28:04.748Z"
   },
   {
    "duration": 24,
    "start_time": "2022-04-24T07:28:06.254Z"
   },
   {
    "duration": 16,
    "start_time": "2022-04-24T07:28:08.315Z"
   },
   {
    "duration": 11,
    "start_time": "2022-04-24T07:28:09.933Z"
   },
   {
    "duration": 39,
    "start_time": "2022-04-24T07:28:11.030Z"
   },
   {
    "duration": 4,
    "start_time": "2022-04-24T07:28:14.268Z"
   },
   {
    "duration": 19,
    "start_time": "2022-04-24T07:28:14.786Z"
   },
   {
    "duration": 6,
    "start_time": "2022-04-24T07:28:15.571Z"
   },
   {
    "duration": 6,
    "start_time": "2022-04-24T07:28:16.125Z"
   },
   {
    "duration": 6,
    "start_time": "2022-04-24T07:28:16.360Z"
   },
   {
    "duration": 6,
    "start_time": "2022-04-24T07:28:16.607Z"
   },
   {
    "duration": 4,
    "start_time": "2022-04-24T07:28:17.085Z"
   },
   {
    "duration": 4,
    "start_time": "2022-04-24T07:28:17.384Z"
   },
   {
    "duration": 5,
    "start_time": "2022-04-24T07:28:17.572Z"
   },
   {
    "duration": 4,
    "start_time": "2022-04-24T07:28:19.235Z"
   },
   {
    "duration": 11,
    "start_time": "2022-04-24T07:28:20.350Z"
   },
   {
    "duration": 13,
    "start_time": "2022-04-24T07:28:20.708Z"
   },
   {
    "duration": 18,
    "start_time": "2022-04-24T07:28:21.620Z"
   },
   {
    "duration": 5,
    "start_time": "2022-04-24T07:28:26.011Z"
   },
   {
    "duration": 6,
    "start_time": "2022-04-24T07:28:27.357Z"
   },
   {
    "duration": 5,
    "start_time": "2022-04-24T07:28:28.147Z"
   },
   {
    "duration": 4,
    "start_time": "2022-04-24T07:28:29.882Z"
   },
   {
    "duration": 24,
    "start_time": "2022-04-24T07:28:34.242Z"
   },
   {
    "duration": 3,
    "start_time": "2022-04-24T07:28:38.257Z"
   },
   {
    "duration": 5,
    "start_time": "2022-04-24T07:34:00.450Z"
   },
   {
    "duration": 403,
    "start_time": "2022-04-24T07:34:02.790Z"
   },
   {
    "duration": 5,
    "start_time": "2022-04-24T07:38:14.953Z"
   },
   {
    "duration": 64,
    "start_time": "2022-04-24T07:38:16.112Z"
   },
   {
    "duration": 4,
    "start_time": "2022-04-24T07:38:30.474Z"
   },
   {
    "duration": 405,
    "start_time": "2022-04-24T07:38:30.987Z"
   },
   {
    "duration": 6,
    "start_time": "2022-04-24T07:38:55.157Z"
   },
   {
    "duration": 387,
    "start_time": "2022-04-24T07:38:55.737Z"
   },
   {
    "duration": 4,
    "start_time": "2022-04-24T07:39:18.959Z"
   },
   {
    "duration": 113,
    "start_time": "2022-04-24T07:39:23.496Z"
   },
   {
    "duration": 112,
    "start_time": "2022-04-24T07:39:59.509Z"
   },
   {
    "duration": 3,
    "start_time": "2022-04-24T07:40:11.026Z"
   },
   {
    "duration": 92,
    "start_time": "2022-04-24T07:40:11.265Z"
   },
   {
    "duration": 166,
    "start_time": "2022-04-24T07:40:14.700Z"
   },
   {
    "duration": 408,
    "start_time": "2022-04-24T07:40:20.813Z"
   },
   {
    "duration": 378,
    "start_time": "2022-04-24T07:40:32.115Z"
   },
   {
    "duration": 46,
    "start_time": "2022-04-24T07:40:39.562Z"
   },
   {
    "duration": 4,
    "start_time": "2022-04-24T07:40:47.147Z"
   },
   {
    "duration": 6,
    "start_time": "2022-04-24T07:40:49.731Z"
   },
   {
    "duration": 9,
    "start_time": "2022-04-24T07:40:50.553Z"
   },
   {
    "duration": 5,
    "start_time": "2022-04-24T07:40:52.102Z"
   },
   {
    "duration": 476,
    "start_time": "2022-04-24T07:40:54.531Z"
   },
   {
    "duration": 587,
    "start_time": "2022-04-24T07:41:05.693Z"
   },
   {
    "duration": 118,
    "start_time": "2022-04-24T07:41:13.091Z"
   },
   {
    "duration": 4,
    "start_time": "2022-04-24T07:41:16.566Z"
   },
   {
    "duration": 6,
    "start_time": "2022-04-24T07:41:17.355Z"
   },
   {
    "duration": 10,
    "start_time": "2022-04-24T07:41:18.195Z"
   },
   {
    "duration": 5,
    "start_time": "2022-04-24T07:41:19.095Z"
   },
   {
    "duration": 260,
    "start_time": "2022-04-24T07:41:20.931Z"
   },
   {
    "duration": 233,
    "start_time": "2022-04-24T07:41:31.775Z"
   },
   {
    "duration": 97,
    "start_time": "2022-04-24T07:41:38.112Z"
   },
   {
    "duration": 3,
    "start_time": "2022-04-24T07:41:41.015Z"
   },
   {
    "duration": 111,
    "start_time": "2022-04-24T08:14:29.414Z"
   },
   {
    "duration": 24,
    "start_time": "2022-04-24T08:23:50.908Z"
   },
   {
    "duration": 33,
    "start_time": "2022-04-24T08:24:15.970Z"
   },
   {
    "duration": 284,
    "start_time": "2022-04-24T08:27:01.615Z"
   },
   {
    "duration": 319,
    "start_time": "2022-04-24T08:28:16.831Z"
   },
   {
    "duration": 316,
    "start_time": "2022-04-24T08:28:40.269Z"
   },
   {
    "duration": 1461,
    "start_time": "2022-04-24T08:35:24.069Z"
   },
   {
    "duration": 21,
    "start_time": "2022-04-24T08:42:58.343Z"
   },
   {
    "duration": 1661,
    "start_time": "2022-04-24T08:43:08.566Z"
   },
   {
    "duration": 106,
    "start_time": "2022-04-24T09:28:30.569Z"
   },
   {
    "duration": 5,
    "start_time": "2022-04-24T09:40:20.507Z"
   },
   {
    "duration": 1113,
    "start_time": "2022-04-24T09:40:21.781Z"
   },
   {
    "duration": 4,
    "start_time": "2022-04-24T09:40:46.638Z"
   },
   {
    "duration": 1641,
    "start_time": "2022-04-24T09:40:50.075Z"
   },
   {
    "duration": 161,
    "start_time": "2022-04-24T09:41:30.923Z"
   },
   {
    "duration": 3,
    "start_time": "2022-04-24T09:41:32.238Z"
   },
   {
    "duration": 86,
    "start_time": "2022-04-24T09:41:33.044Z"
   },
   {
    "duration": 155,
    "start_time": "2022-04-24T09:41:36.426Z"
   },
   {
    "duration": 419,
    "start_time": "2022-04-24T09:41:41.708Z"
   },
   {
    "duration": 1632,
    "start_time": "2022-04-24T09:41:44.730Z"
   },
   {
    "duration": 96,
    "start_time": "2022-04-24T09:42:35.815Z"
   },
   {
    "duration": 5,
    "start_time": "2022-04-24T09:43:27.418Z"
   },
   {
    "duration": 6,
    "start_time": "2022-04-24T09:43:28.962Z"
   },
   {
    "duration": 12,
    "start_time": "2022-04-24T09:43:29.445Z"
   },
   {
    "duration": 5,
    "start_time": "2022-04-24T09:43:30.101Z"
   },
   {
    "duration": 453,
    "start_time": "2022-04-24T09:43:31.646Z"
   },
   {
    "duration": 2183,
    "start_time": "2022-04-24T09:44:26.640Z"
   },
   {
    "duration": 36,
    "start_time": "2022-04-24T09:45:25.276Z"
   },
   {
    "duration": 4,
    "start_time": "2022-04-24T09:46:03.767Z"
   },
   {
    "duration": 6,
    "start_time": "2022-04-24T09:46:05.718Z"
   },
   {
    "duration": 9,
    "start_time": "2022-04-24T09:46:06.517Z"
   },
   {
    "duration": 5,
    "start_time": "2022-04-24T09:46:07.109Z"
   },
   {
    "duration": 269,
    "start_time": "2022-04-24T09:46:09.666Z"
   },
   {
    "duration": 958,
    "start_time": "2022-04-24T09:46:46.898Z"
   },
   {
    "duration": 24,
    "start_time": "2022-04-24T09:47:24.586Z"
   },
   {
    "duration": 343,
    "start_time": "2022-04-24T09:56:17.813Z"
   },
   {
    "duration": 1406,
    "start_time": "2022-04-24T10:01:27.606Z"
   },
   {
    "duration": 2275,
    "start_time": "2022-04-24T10:01:59.535Z"
   },
   {
    "duration": 9,
    "start_time": "2022-04-24T10:43:20.169Z"
   },
   {
    "duration": 5,
    "start_time": "2022-04-24T10:45:07.775Z"
   },
   {
    "duration": 165,
    "start_time": "2022-04-24T10:46:15.186Z"
   },
   {
    "duration": 163,
    "start_time": "2022-04-24T10:49:57.438Z"
   },
   {
    "duration": 3,
    "start_time": "2022-04-24T14:21:06.298Z"
   },
   {
    "duration": 25,
    "start_time": "2022-04-24T14:21:08.923Z"
   },
   {
    "duration": 14,
    "start_time": "2022-04-24T14:21:10.440Z"
   },
   {
    "duration": 12,
    "start_time": "2022-04-24T14:21:13.483Z"
   },
   {
    "duration": 48,
    "start_time": "2022-04-24T14:21:16.375Z"
   },
   {
    "duration": 4,
    "start_time": "2022-04-24T14:21:21.381Z"
   },
   {
    "duration": 19,
    "start_time": "2022-04-24T14:21:22.438Z"
   },
   {
    "duration": 4,
    "start_time": "2022-04-24T14:24:27.720Z"
   },
   {
    "duration": 4,
    "start_time": "2022-04-24T14:24:28.523Z"
   },
   {
    "duration": 4,
    "start_time": "2022-04-24T14:24:53.977Z"
   },
   {
    "duration": 16,
    "start_time": "2022-04-24T14:24:55.710Z"
   },
   {
    "duration": 9,
    "start_time": "2022-04-24T14:27:28.170Z"
   },
   {
    "duration": 17,
    "start_time": "2022-04-24T14:27:29.572Z"
   },
   {
    "duration": 5,
    "start_time": "2022-04-24T14:28:10.568Z"
   },
   {
    "duration": 5,
    "start_time": "2022-04-24T14:28:12.215Z"
   },
   {
    "duration": 5,
    "start_time": "2022-04-24T14:28:12.912Z"
   },
   {
    "duration": 4,
    "start_time": "2022-04-24T14:28:14.270Z"
   },
   {
    "duration": 32,
    "start_time": "2022-04-24T14:30:03.733Z"
   },
   {
    "duration": 6,
    "start_time": "2022-04-24T14:30:45.215Z"
   },
   {
    "duration": 165,
    "start_time": "2022-04-24T14:30:45.752Z"
   },
   {
    "duration": 3,
    "start_time": "2022-04-24T14:30:58.700Z"
   },
   {
    "duration": 4,
    "start_time": "2022-04-24T14:31:02.958Z"
   },
   {
    "duration": 385,
    "start_time": "2022-04-24T14:31:05.377Z"
   },
   {
    "duration": 4,
    "start_time": "2022-04-24T14:32:18.582Z"
   },
   {
    "duration": 1705,
    "start_time": "2022-04-24T14:32:19.818Z"
   },
   {
    "duration": 4,
    "start_time": "2022-04-24T14:32:42.648Z"
   },
   {
    "duration": 96,
    "start_time": "2022-04-24T14:32:43.412Z"
   },
   {
    "duration": 170,
    "start_time": "2022-04-24T14:33:24.374Z"
   },
   {
    "duration": 176,
    "start_time": "2022-04-24T14:34:17.242Z"
   },
   {
    "duration": 209,
    "start_time": "2022-04-24T14:35:11.491Z"
   },
   {
    "duration": 4,
    "start_time": "2022-04-24T14:35:23.160Z"
   },
   {
    "duration": 89,
    "start_time": "2022-04-24T14:35:28.782Z"
   },
   {
    "duration": 89,
    "start_time": "2022-04-24T14:35:40.897Z"
   },
   {
    "duration": 155,
    "start_time": "2022-04-24T14:35:45.953Z"
   },
   {
    "duration": 387,
    "start_time": "2022-04-24T14:35:55.975Z"
   },
   {
    "duration": 1608,
    "start_time": "2022-04-24T14:36:34.309Z"
   },
   {
    "duration": 117,
    "start_time": "2022-04-24T14:37:05.891Z"
   },
   {
    "duration": 4,
    "start_time": "2022-04-24T14:37:35.883Z"
   },
   {
    "duration": 6,
    "start_time": "2022-04-24T14:37:36.974Z"
   },
   {
    "duration": 10,
    "start_time": "2022-04-24T14:37:37.632Z"
   },
   {
    "duration": 5,
    "start_time": "2022-04-24T14:37:42.518Z"
   },
   {
    "duration": 450,
    "start_time": "2022-04-24T14:37:45.064Z"
   },
   {
    "duration": 2164,
    "start_time": "2022-04-24T14:38:23.828Z"
   },
   {
    "duration": 112,
    "start_time": "2022-04-24T14:39:14.203Z"
   },
   {
    "duration": 4,
    "start_time": "2022-04-24T14:39:40.140Z"
   },
   {
    "duration": 5,
    "start_time": "2022-04-24T14:39:41.941Z"
   },
   {
    "duration": 9,
    "start_time": "2022-04-24T14:39:42.976Z"
   },
   {
    "duration": 6,
    "start_time": "2022-04-24T14:39:43.603Z"
   },
   {
    "duration": 280,
    "start_time": "2022-04-24T14:39:45.503Z"
   },
   {
    "duration": 1046,
    "start_time": "2022-04-24T14:41:15.005Z"
   },
   {
    "duration": 41,
    "start_time": "2022-04-24T14:41:46.567Z"
   },
   {
    "duration": 329,
    "start_time": "2022-04-24T14:42:06.467Z"
   },
   {
    "duration": 1511,
    "start_time": "2022-04-24T14:42:34.709Z"
   },
   {
    "duration": 2037,
    "start_time": "2022-04-24T14:43:00.472Z"
   },
   {
    "duration": 6,
    "start_time": "2022-04-24T14:45:29.489Z"
   },
   {
    "duration": 6,
    "start_time": "2022-04-24T14:46:06.949Z"
   },
   {
    "duration": 10,
    "start_time": "2022-04-24T14:46:25.126Z"
   },
   {
    "duration": 332,
    "start_time": "2022-04-24T14:46:40.873Z"
   },
   {
    "duration": 10,
    "start_time": "2022-04-24T14:54:01.776Z"
   },
   {
    "duration": 4,
    "start_time": "2022-04-24T14:54:34.480Z"
   },
   {
    "duration": 129,
    "start_time": "2022-04-24T14:54:43.693Z"
   }
  ],
  "kernelspec": {
   "display_name": "Python 3 (ipykernel)",
   "language": "python",
   "name": "python3"
  },
  "language_info": {
   "codemirror_mode": {
    "name": "ipython",
    "version": 3
   },
   "file_extension": ".py",
   "mimetype": "text/x-python",
   "name": "python",
   "nbconvert_exporter": "python",
   "pygments_lexer": "ipython3",
   "version": "3.9.12"
  },
  "toc": {
   "base_numbering": 1,
   "nav_menu": {},
   "number_sections": true,
   "sideBar": true,
   "skip_h1_title": true,
   "title_cell": "Содержание",
   "title_sidebar": "Contents",
   "toc_cell": true,
   "toc_position": {
    "height": "calc(100% - 180px)",
    "left": "10px",
    "top": "150px",
    "width": "165px"
   },
   "toc_section_display": true,
   "toc_window_display": true
  }
 },
 "nbformat": 4,
 "nbformat_minor": 2
}
