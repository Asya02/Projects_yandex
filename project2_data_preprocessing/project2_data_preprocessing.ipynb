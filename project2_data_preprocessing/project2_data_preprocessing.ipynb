{
 "cells": [
  {
   "cell_type": "markdown",
   "id": "c3b205ed",
   "metadata": {},
   "source": [
    "# Исследование надежности заемщиков."
   ]
  },
  {
   "cell_type": "markdown",
   "id": "914a1d69",
   "metadata": {},
   "source": [
    "Кредитному отделу банка нужно оценить риски: сможет ли заемщик вернуть кредит вовремя или нет. Имея статистику о платежеспособности клиентов, проведём исследование, чтобы модели было проще подбирать важные признаки для решения задачи, - посмотрим, как разная информация о заёмщике влияет на факт погашения кредита в срок."
   ]
  },
  {
   "cell_type": "markdown",
   "id": "efda4588",
   "metadata": {},
   "source": [
    "**Цель исследования** - проверить гипотезы:\n",
    "\n",
    " * Семейное положение клиента влияет на факт погашения кредита в срок. \n",
    " * Количество детей клиента влияет на факт погашения кредита в срок. \n",
    " * Чем выше уровень дохода, тем меньше вероятность просрочки по кредиту\n",
    " * Есть корреляция между целью получения кредита и фактом его погашения в срок"
   ]
  },
  {
   "cell_type": "markdown",
   "id": "a9806030",
   "metadata": {},
   "source": [
    "**Ход исследования**\n",
    "\n",
    " 1. Обзор данных.\n",
    " 2. Предобработка данных.\n",
    " 3. Проверка гипотез."
   ]
  },
  {
   "cell_type": "markdown",
   "id": "82a6b25c",
   "metadata": {},
   "source": [
    "## Шаг 1. Обзор данных"
   ]
  },
  {
   "cell_type": "markdown",
   "id": "c7e54cae",
   "metadata": {},
   "source": [
    "Составим первое представление о данных с помощью средств pandas"
   ]
  },
  {
   "cell_type": "code",
   "execution_count": 1,
   "id": "27045c7b",
   "metadata": {},
   "outputs": [],
   "source": [
    "# импорт библиотеки pandas\n",
    "import pandas as pd"
   ]
  },
  {
   "cell_type": "code",
   "execution_count": 2,
   "id": "88b78390",
   "metadata": {},
   "outputs": [],
   "source": [
    "# чтение файла с данными и сохранение в df\n",
    "df = pd.read_csv('/datasets/data.csv')"
   ]
  },
  {
   "cell_type": "markdown",
   "id": "042ccb55",
   "metadata": {},
   "source": [
    "Посмотрим первые 10 строк таблицы"
   ]
  },
  {
   "cell_type": "code",
   "execution_count": 3,
   "id": "70ba882e",
   "metadata": {},
   "outputs": [
    {
     "data": {
      "text/html": [
       "<div>\n",
       "<style scoped>\n",
       "    .dataframe tbody tr th:only-of-type {\n",
       "        vertical-align: middle;\n",
       "    }\n",
       "\n",
       "    .dataframe tbody tr th {\n",
       "        vertical-align: top;\n",
       "    }\n",
       "\n",
       "    .dataframe thead th {\n",
       "        text-align: right;\n",
       "    }\n",
       "</style>\n",
       "<table border=\"1\" class=\"dataframe\">\n",
       "  <thead>\n",
       "    <tr style=\"text-align: right;\">\n",
       "      <th></th>\n",
       "      <th>children</th>\n",
       "      <th>days_employed</th>\n",
       "      <th>dob_years</th>\n",
       "      <th>education</th>\n",
       "      <th>education_id</th>\n",
       "      <th>family_status</th>\n",
       "      <th>family_status_id</th>\n",
       "      <th>gender</th>\n",
       "      <th>income_type</th>\n",
       "      <th>debt</th>\n",
       "      <th>total_income</th>\n",
       "      <th>purpose</th>\n",
       "    </tr>\n",
       "  </thead>\n",
       "  <tbody>\n",
       "    <tr>\n",
       "      <td>0</td>\n",
       "      <td>1</td>\n",
       "      <td>-8437.673028</td>\n",
       "      <td>42</td>\n",
       "      <td>высшее</td>\n",
       "      <td>0</td>\n",
       "      <td>женат / замужем</td>\n",
       "      <td>0</td>\n",
       "      <td>F</td>\n",
       "      <td>сотрудник</td>\n",
       "      <td>0</td>\n",
       "      <td>253875.639453</td>\n",
       "      <td>покупка жилья</td>\n",
       "    </tr>\n",
       "    <tr>\n",
       "      <td>1</td>\n",
       "      <td>1</td>\n",
       "      <td>-4024.803754</td>\n",
       "      <td>36</td>\n",
       "      <td>среднее</td>\n",
       "      <td>1</td>\n",
       "      <td>женат / замужем</td>\n",
       "      <td>0</td>\n",
       "      <td>F</td>\n",
       "      <td>сотрудник</td>\n",
       "      <td>0</td>\n",
       "      <td>112080.014102</td>\n",
       "      <td>приобретение автомобиля</td>\n",
       "    </tr>\n",
       "    <tr>\n",
       "      <td>2</td>\n",
       "      <td>0</td>\n",
       "      <td>-5623.422610</td>\n",
       "      <td>33</td>\n",
       "      <td>Среднее</td>\n",
       "      <td>1</td>\n",
       "      <td>женат / замужем</td>\n",
       "      <td>0</td>\n",
       "      <td>M</td>\n",
       "      <td>сотрудник</td>\n",
       "      <td>0</td>\n",
       "      <td>145885.952297</td>\n",
       "      <td>покупка жилья</td>\n",
       "    </tr>\n",
       "    <tr>\n",
       "      <td>3</td>\n",
       "      <td>3</td>\n",
       "      <td>-4124.747207</td>\n",
       "      <td>32</td>\n",
       "      <td>среднее</td>\n",
       "      <td>1</td>\n",
       "      <td>женат / замужем</td>\n",
       "      <td>0</td>\n",
       "      <td>M</td>\n",
       "      <td>сотрудник</td>\n",
       "      <td>0</td>\n",
       "      <td>267628.550329</td>\n",
       "      <td>дополнительное образование</td>\n",
       "    </tr>\n",
       "    <tr>\n",
       "      <td>4</td>\n",
       "      <td>0</td>\n",
       "      <td>340266.072047</td>\n",
       "      <td>53</td>\n",
       "      <td>среднее</td>\n",
       "      <td>1</td>\n",
       "      <td>гражданский брак</td>\n",
       "      <td>1</td>\n",
       "      <td>F</td>\n",
       "      <td>пенсионер</td>\n",
       "      <td>0</td>\n",
       "      <td>158616.077870</td>\n",
       "      <td>сыграть свадьбу</td>\n",
       "    </tr>\n",
       "    <tr>\n",
       "      <td>5</td>\n",
       "      <td>0</td>\n",
       "      <td>-926.185831</td>\n",
       "      <td>27</td>\n",
       "      <td>высшее</td>\n",
       "      <td>0</td>\n",
       "      <td>гражданский брак</td>\n",
       "      <td>1</td>\n",
       "      <td>M</td>\n",
       "      <td>компаньон</td>\n",
       "      <td>0</td>\n",
       "      <td>255763.565419</td>\n",
       "      <td>покупка жилья</td>\n",
       "    </tr>\n",
       "    <tr>\n",
       "      <td>6</td>\n",
       "      <td>0</td>\n",
       "      <td>-2879.202052</td>\n",
       "      <td>43</td>\n",
       "      <td>высшее</td>\n",
       "      <td>0</td>\n",
       "      <td>женат / замужем</td>\n",
       "      <td>0</td>\n",
       "      <td>F</td>\n",
       "      <td>компаньон</td>\n",
       "      <td>0</td>\n",
       "      <td>240525.971920</td>\n",
       "      <td>операции с жильем</td>\n",
       "    </tr>\n",
       "    <tr>\n",
       "      <td>7</td>\n",
       "      <td>0</td>\n",
       "      <td>-152.779569</td>\n",
       "      <td>50</td>\n",
       "      <td>СРЕДНЕЕ</td>\n",
       "      <td>1</td>\n",
       "      <td>женат / замужем</td>\n",
       "      <td>0</td>\n",
       "      <td>M</td>\n",
       "      <td>сотрудник</td>\n",
       "      <td>0</td>\n",
       "      <td>135823.934197</td>\n",
       "      <td>образование</td>\n",
       "    </tr>\n",
       "    <tr>\n",
       "      <td>8</td>\n",
       "      <td>2</td>\n",
       "      <td>-6929.865299</td>\n",
       "      <td>35</td>\n",
       "      <td>ВЫСШЕЕ</td>\n",
       "      <td>0</td>\n",
       "      <td>гражданский брак</td>\n",
       "      <td>1</td>\n",
       "      <td>F</td>\n",
       "      <td>сотрудник</td>\n",
       "      <td>0</td>\n",
       "      <td>95856.832424</td>\n",
       "      <td>на проведение свадьбы</td>\n",
       "    </tr>\n",
       "    <tr>\n",
       "      <td>9</td>\n",
       "      <td>0</td>\n",
       "      <td>-2188.756445</td>\n",
       "      <td>41</td>\n",
       "      <td>среднее</td>\n",
       "      <td>1</td>\n",
       "      <td>женат / замужем</td>\n",
       "      <td>0</td>\n",
       "      <td>M</td>\n",
       "      <td>сотрудник</td>\n",
       "      <td>0</td>\n",
       "      <td>144425.938277</td>\n",
       "      <td>покупка жилья для семьи</td>\n",
       "    </tr>\n",
       "  </tbody>\n",
       "</table>\n",
       "</div>"
      ],
      "text/plain": [
       "   children  days_employed  dob_years education  education_id  \\\n",
       "0         1   -8437.673028         42    высшее             0   \n",
       "1         1   -4024.803754         36   среднее             1   \n",
       "2         0   -5623.422610         33   Среднее             1   \n",
       "3         3   -4124.747207         32   среднее             1   \n",
       "4         0  340266.072047         53   среднее             1   \n",
       "5         0    -926.185831         27    высшее             0   \n",
       "6         0   -2879.202052         43    высшее             0   \n",
       "7         0    -152.779569         50   СРЕДНЕЕ             1   \n",
       "8         2   -6929.865299         35    ВЫСШЕЕ             0   \n",
       "9         0   -2188.756445         41   среднее             1   \n",
       "\n",
       "      family_status  family_status_id gender income_type  debt   total_income  \\\n",
       "0   женат / замужем                 0      F   сотрудник     0  253875.639453   \n",
       "1   женат / замужем                 0      F   сотрудник     0  112080.014102   \n",
       "2   женат / замужем                 0      M   сотрудник     0  145885.952297   \n",
       "3   женат / замужем                 0      M   сотрудник     0  267628.550329   \n",
       "4  гражданский брак                 1      F   пенсионер     0  158616.077870   \n",
       "5  гражданский брак                 1      M   компаньон     0  255763.565419   \n",
       "6   женат / замужем                 0      F   компаньон     0  240525.971920   \n",
       "7   женат / замужем                 0      M   сотрудник     0  135823.934197   \n",
       "8  гражданский брак                 1      F   сотрудник     0   95856.832424   \n",
       "9   женат / замужем                 0      M   сотрудник     0  144425.938277   \n",
       "\n",
       "                      purpose  \n",
       "0               покупка жилья  \n",
       "1     приобретение автомобиля  \n",
       "2               покупка жилья  \n",
       "3  дополнительное образование  \n",
       "4             сыграть свадьбу  \n",
       "5               покупка жилья  \n",
       "6           операции с жильем  \n",
       "7                 образование  \n",
       "8       на проведение свадьбы  \n",
       "9     покупка жилья для семьи  "
      ]
     },
     "execution_count": 3,
     "metadata": {},
     "output_type": "execute_result"
    }
   ],
   "source": [
    "# получение первых 10 строк таблицы df\n",
    "df.head(10)"
   ]
  },
  {
   "cell_type": "markdown",
   "id": "c839fc9b",
   "metadata": {},
   "source": [
    "Уже по первым 10 строкам видно, что в данных есть проблемы:\n",
    "отрицательные значения в столбце days_employed, отвечающим за трудовой стаж, разный регистр в столбце education, записанные по-разному схожие цели. "
   ]
  },
  {
   "cell_type": "markdown",
   "id": "a46e4005",
   "metadata": {},
   "source": [
    "Продолжим изучать данные. Теперь посмотрим общую информацию о таблице"
   ]
  },
  {
   "cell_type": "code",
   "execution_count": 4,
   "id": "1740a1f4",
   "metadata": {},
   "outputs": [
    {
     "name": "stdout",
     "output_type": "stream",
     "text": [
      "<class 'pandas.core.frame.DataFrame'>\n",
      "RangeIndex: 21525 entries, 0 to 21524\n",
      "Data columns (total 12 columns):\n",
      "children            21525 non-null int64\n",
      "days_employed       19351 non-null float64\n",
      "dob_years           21525 non-null int64\n",
      "education           21525 non-null object\n",
      "education_id        21525 non-null int64\n",
      "family_status       21525 non-null object\n",
      "family_status_id    21525 non-null int64\n",
      "gender              21525 non-null object\n",
      "income_type         21525 non-null object\n",
      "debt                21525 non-null int64\n",
      "total_income        19351 non-null float64\n",
      "purpose             21525 non-null object\n",
      "dtypes: float64(2), int64(5), object(5)\n",
      "memory usage: 2.0+ MB\n"
     ]
    }
   ],
   "source": [
    "# получение общей информации о данных в таблице df\n",
    "df.info()"
   ]
  },
  {
   "cell_type": "markdown",
   "id": "53324d70",
   "metadata": {},
   "source": [
    "Итак, в таблице есть 12 столбцов.\n",
    "\n",
    "Опираясь на документацию к данным и общую информацию о таблице можно сказать, что\n",
    "\n",
    " * children — количество детей в семье - тип данных int\n",
    " * days_employed — общий трудовой стаж в днях - тип данных float\n",
    " * dob_years — возраст клиента в годах - тип данных int\n",
    " * education — уровень образования клиента - тип данных object\n",
    " * education_id — идентификатор уровня образования - тип данных int\n",
    " * family_status — семейное положение - тип данных object\n",
    " * family_status_id — идентификатор семейного положения - тип данных int\n",
    " * gender — пол клиента - тип данных object\n",
    " * income_type — тип занятости - тип данных object\n",
    " * debt — имел ли задолженность по возврату кредитов - тип данных int\n",
    " * total_income — ежемесячный доход - тип данных float\n",
    " * purpose — цель получения кредита - тип данных object\n",
    "\n",
    "Количество значений в столбцах различается. Значит, в данных есть пропущенные значения."
   ]
  },
  {
   "cell_type": "markdown",
   "id": "e6d6f18a",
   "metadata": {},
   "source": [
    "<div style=\"border:solid blue 2px; padding: 20px\">\n",
    "\n",
    "**Выводы**\n",
    "\n",
    "В каждой строке таблицы - данные о клиенте. \n",
    "\n",
    "Предварительно можно утверждать, что данных достаточно для проверки гипотез. Однако уже из предварительного просмотра таблицы и общей информации о ней видно, что есть несколько проблем:\n",
    "\n",
    " * в двух столбцах встречаются пропуски в данных\n",
    " * встречаются артефакты (\"странные\" значения)\n",
    " * встречаются дубликаты\n",
    "\n",
    "Чтобы двигаться дальше, нужно устранить проблемы в данных."
   ]
  },
  {
   "cell_type": "markdown",
   "id": "fbfa8115",
   "metadata": {},
   "source": [
    "## Предобработка данных\n"
   ]
  },
  {
   "cell_type": "markdown",
   "id": "e37b83eb",
   "metadata": {},
   "source": [
    "Чтобы получить из данных более правильный результат, необходимо устранить проблемы, которые встречаются в данных. Заполним или удалим пропуски, приведём данные к более удобным типам, исправим аномалии, разберёмся с дубликатами и при необходимости категоризируем часть данных."
   ]
  },
  {
   "cell_type": "markdown",
   "id": "193697c1",
   "metadata": {},
   "source": [
    "### Шаг 2.1 Заполнение пропусков (начало)"
   ]
  },
  {
   "cell_type": "markdown",
   "id": "f5cd7471",
   "metadata": {},
   "source": [
    "Посчитаем, сколько в таблице пропущенных значений"
   ]
  },
  {
   "cell_type": "code",
   "execution_count": 5,
   "id": "a9a9aee0",
   "metadata": {},
   "outputs": [
    {
     "data": {
      "text/plain": [
       "children               0\n",
       "days_employed       2174\n",
       "dob_years              0\n",
       "education              0\n",
       "education_id           0\n",
       "family_status          0\n",
       "family_status_id       0\n",
       "gender                 0\n",
       "income_type            0\n",
       "debt                   0\n",
       "total_income        2174\n",
       "purpose                0\n",
       "dtype: int64"
      ]
     },
     "execution_count": 5,
     "metadata": {},
     "output_type": "execute_result"
    }
   ],
   "source": [
    "# подсчёт пропусков\n",
    "df.isna().sum()"
   ]
  },
  {
   "cell_type": "markdown",
   "id": "bda69d64",
   "metadata": {},
   "source": [
    "Пропуски присутствуют в двух столбцах - 'days_employed' и 'total_income'. Заметим, что пропусков одинаковое количество. Проверим гипотезу: у клиентов, у которых нет значения в столбце days_employed, присутствует пропуск и в столбце total_income. Для этого посмотрим уникальные значения столбца total_income в тех случаях, когда они удовлетворяют условию: пропуск в столбце days_employed"
   ]
  },
  {
   "cell_type": "code",
   "execution_count": 6,
   "id": "5a646bda",
   "metadata": {},
   "outputs": [
    {
     "data": {
      "text/plain": [
       "array([nan])"
      ]
     },
     "execution_count": 6,
     "metadata": {},
     "output_type": "execute_result"
    }
   ],
   "source": [
    "# просмотр уникальных значений в столбце total_income при условии пропуска в столбце days_employed\n",
    "df[df['days_employed'].isnull()]['total_income'].unique()"
   ]
  },
  {
   "cell_type": "markdown",
   "id": "1c80d05a",
   "metadata": {},
   "source": [
    "Гипотеза подтвердилась. Действительно, пропуск в столбце days_employed соответствует пропуску в столбце total_income."
   ]
  },
  {
   "cell_type": "markdown",
   "id": "e7fbc207",
   "metadata": {},
   "source": [
    "Продолжим исследование пропусков. Пропуски присутствуют в двух столбцах - 'days_employed' и 'total_income'.\n",
    "В столбце 'days_employed' помимо пропусков присутствуют отрицательные значения, поэтому заполнять этот столбец пока рано.\n",
    "\n",
    "Посмотрим, что со столбцом total_income.\n",
    "\n",
    "Вычислим минимальное и максимальное значение и посмотрим, насколько они правдоподобны\n"
   ]
  },
  {
   "cell_type": "code",
   "execution_count": 7,
   "id": "39f64690",
   "metadata": {},
   "outputs": [
    {
     "data": {
      "text/plain": [
       "20667.26379327158"
      ]
     },
     "execution_count": 7,
     "metadata": {},
     "output_type": "execute_result"
    }
   ],
   "source": [
    "#вычисление минимального значения столбца total_income\n",
    "df['total_income'].min()"
   ]
  },
  {
   "cell_type": "markdown",
   "id": "bc981532",
   "metadata": {},
   "source": [
    "Минимальное значение положительное и выглядит правдоподобно"
   ]
  },
  {
   "cell_type": "code",
   "execution_count": 8,
   "id": "2bed64b5",
   "metadata": {},
   "outputs": [
    {
     "data": {
      "text/plain": [
       "2265604.028722744"
      ]
     },
     "execution_count": 8,
     "metadata": {},
     "output_type": "execute_result"
    }
   ],
   "source": [
    "# вычисление максимального значения столбца total_income\n",
    "df['total_income'].max()"
   ]
  },
  {
   "cell_type": "markdown",
   "id": "7fcbd6c7",
   "metadata": {},
   "source": [
    "Доход больше 2-х миллионов. Посмотрим, много ли таких значений в данных"
   ]
  },
  {
   "cell_type": "code",
   "execution_count": 9,
   "id": "25ab3447",
   "metadata": {},
   "outputs": [
    {
     "data": {
      "text/html": [
       "<div>\n",
       "<style scoped>\n",
       "    .dataframe tbody tr th:only-of-type {\n",
       "        vertical-align: middle;\n",
       "    }\n",
       "\n",
       "    .dataframe tbody tr th {\n",
       "        vertical-align: top;\n",
       "    }\n",
       "\n",
       "    .dataframe thead th {\n",
       "        text-align: right;\n",
       "    }\n",
       "</style>\n",
       "<table border=\"1\" class=\"dataframe\">\n",
       "  <thead>\n",
       "    <tr style=\"text-align: right;\">\n",
       "      <th></th>\n",
       "      <th>children</th>\n",
       "      <th>days_employed</th>\n",
       "      <th>dob_years</th>\n",
       "      <th>education</th>\n",
       "      <th>education_id</th>\n",
       "      <th>family_status</th>\n",
       "      <th>family_status_id</th>\n",
       "      <th>gender</th>\n",
       "      <th>income_type</th>\n",
       "      <th>debt</th>\n",
       "      <th>total_income</th>\n",
       "      <th>purpose</th>\n",
       "    </tr>\n",
       "  </thead>\n",
       "  <tbody>\n",
       "    <tr>\n",
       "      <td>12412</td>\n",
       "      <td>0</td>\n",
       "      <td>-1477.438114</td>\n",
       "      <td>44</td>\n",
       "      <td>высшее</td>\n",
       "      <td>0</td>\n",
       "      <td>женат / замужем</td>\n",
       "      <td>0</td>\n",
       "      <td>M</td>\n",
       "      <td>компаньон</td>\n",
       "      <td>0</td>\n",
       "      <td>2.265604e+06</td>\n",
       "      <td>ремонт жилью</td>\n",
       "    </tr>\n",
       "    <tr>\n",
       "      <td>19606</td>\n",
       "      <td>1</td>\n",
       "      <td>-2577.664662</td>\n",
       "      <td>39</td>\n",
       "      <td>высшее</td>\n",
       "      <td>0</td>\n",
       "      <td>женат / замужем</td>\n",
       "      <td>0</td>\n",
       "      <td>M</td>\n",
       "      <td>компаньон</td>\n",
       "      <td>1</td>\n",
       "      <td>2.200852e+06</td>\n",
       "      <td>строительство недвижимости</td>\n",
       "    </tr>\n",
       "  </tbody>\n",
       "</table>\n",
       "</div>"
      ],
      "text/plain": [
       "       children  days_employed  dob_years education  education_id  \\\n",
       "12412         0   -1477.438114         44    высшее             0   \n",
       "19606         1   -2577.664662         39    высшее             0   \n",
       "\n",
       "         family_status  family_status_id gender income_type  debt  \\\n",
       "12412  женат / замужем                 0      M   компаньон     0   \n",
       "19606  женат / замужем                 0      M   компаньон     1   \n",
       "\n",
       "       total_income                     purpose  \n",
       "12412  2.265604e+06                ремонт жилью  \n",
       "19606  2.200852e+06  строительство недвижимости  "
      ]
     },
     "execution_count": 9,
     "metadata": {},
     "output_type": "execute_result"
    }
   ],
   "source": [
    "# вывод таких строчек датафрейма, для которых значение в столбце total_income больше 2000000\n",
    "df.loc[df['total_income'] > 2000000]"
   ]
  },
  {
   "cell_type": "markdown",
   "id": "fdeffbcb",
   "metadata": {},
   "source": [
    "Мы видим, что таких всего двое. \n",
    "\n",
    "Посмотрим, насколько сильно их доход отличается от остальных. Для этого отсортируем столбец total_income по убыванию и посмотрим на первые несколько значений"
   ]
  },
  {
   "cell_type": "code",
   "execution_count": 10,
   "id": "ed155532",
   "metadata": {},
   "outputs": [
    {
     "data": {
      "text/plain": [
       "12412    2.265604e+06\n",
       "19606    2.200852e+06\n",
       "9169     1.726276e+06\n",
       "20809    1.715018e+06\n",
       "17178    1.711309e+06\n",
       "Name: total_income, dtype: float64"
      ]
     },
     "execution_count": 10,
     "metadata": {},
     "output_type": "execute_result"
    }
   ],
   "source": [
    "# вывод первых 5 значений в отсортированном по убыванию столбце total_income\n",
    "df['total_income'].sort_values(ascending=False).head()"
   ]
  },
  {
   "cell_type": "markdown",
   "id": "8f2d5763",
   "metadata": {},
   "source": [
    "Итак, разница между двумя людьми с самым большим доходом и остальными довольно велика"
   ]
  },
  {
   "cell_type": "markdown",
   "id": "d9d8e23d",
   "metadata": {},
   "source": [
    "Но максимальное значение тоже выглядит правдоподобно"
   ]
  },
  {
   "cell_type": "markdown",
   "id": "46b61b53",
   "metadata": {},
   "source": [
    "Значит, можно обработать пропуски в столбце total_income. \n",
    "\n",
    "Для начала определим, какую долю составляют пропуски в столбце. "
   ]
  },
  {
   "cell_type": "code",
   "execution_count": 11,
   "id": "0f078536",
   "metadata": {},
   "outputs": [
    {
     "data": {
      "text/plain": [
       "0.10099883855981417"
      ]
     },
     "execution_count": 11,
     "metadata": {},
     "output_type": "execute_result"
    }
   ],
   "source": [
    "df['total_income'].isna().mean()"
   ]
  },
  {
   "cell_type": "markdown",
   "id": "fcd1c4da",
   "metadata": {},
   "source": [
    "Мы обнаружили, что пропуски в столбце total_income составляют больше 10 процентов, значит удалять их будет не целесообразно. Значит, их нужно заполнить какими-то значениями. Лучше всего для количественных данных подходят среднее и медиана, поскольку они не сильно исказят общую картину. Однако у нас в данных присутствуют выбросы - люди с доходом больше 2 млн, поэтому лучше воспользоваться медианой"
   ]
  },
  {
   "cell_type": "markdown",
   "id": "57e19ca5",
   "metadata": {},
   "source": [
    "Найдём медиану по столбцу total_income\n"
   ]
  },
  {
   "cell_type": "code",
   "execution_count": 12,
   "id": "51b30de8",
   "metadata": {},
   "outputs": [
    {
     "data": {
      "text/plain": [
       "145017.93753253992"
      ]
     },
     "execution_count": 12,
     "metadata": {},
     "output_type": "execute_result"
    }
   ],
   "source": [
    "# поиск медианы по столбцу total_income\n",
    "median_income = df['total_income'].median()\n",
    "median_income"
   ]
  },
  {
   "cell_type": "markdown",
   "id": "d58cfba6",
   "metadata": {},
   "source": [
    "Заменим значения nan на медиану"
   ]
  },
  {
   "cell_type": "code",
   "execution_count": 13,
   "id": "d3351fdc",
   "metadata": {},
   "outputs": [],
   "source": [
    "# замена значения nan на медиану\n",
    "df['total_income'] = df['total_income'].fillna(median_income)"
   ]
  },
  {
   "cell_type": "markdown",
   "id": "3b2da1bb",
   "metadata": {},
   "source": [
    "Убедимся, что пропусков не осталось"
   ]
  },
  {
   "cell_type": "code",
   "execution_count": 14,
   "id": "226e1df9",
   "metadata": {},
   "outputs": [
    {
     "data": {
      "text/plain": [
       "0"
      ]
     },
     "execution_count": 14,
     "metadata": {},
     "output_type": "execute_result"
    }
   ],
   "source": [
    "# подсчёт пропусков в обновлённом столбце total_income\n",
    "df['total_income'].isna().sum()"
   ]
  },
  {
   "cell_type": "markdown",
   "id": "bde17450",
   "metadata": {},
   "source": [
    "<div style=\"border:solid blue 2px; padding: 20px\">\n",
    "\n",
    "**Промежуточные выводы**\n",
    "    \n",
    "Итак, мы обработали пропущенные значения в столбце total_income. Пропущенные значения в нём могли присутствовать в связи с тем, что клиенты могли менять работу и соответственно доход, поскольку про тех клиентов, у которых пропуски в столбце с доходом, так же неизвестен ещё и стаж. Кроме того, банку может быть просто неизвестна информация о доходе и стаже работы "
   ]
  },
  {
   "cell_type": "markdown",
   "id": "e4ca37d1",
   "metadata": {},
   "source": [
    "### Шаг 2.2. Изменение типов данных."
   ]
  },
  {
   "cell_type": "markdown",
   "id": "89e54cf5",
   "metadata": {},
   "source": [
    "Для дальнейшего удобства заменим вещественный тип данных в столбце total_income на целочисленный"
   ]
  },
  {
   "cell_type": "code",
   "execution_count": 15,
   "id": "4136bd6c",
   "metadata": {},
   "outputs": [],
   "source": [
    "# замена типа данных в стобце total_income на int\n",
    "df = df.astype({'total_income': 'int64'})\n"
   ]
  },
  {
   "cell_type": "markdown",
   "id": "77933c3d",
   "metadata": {},
   "source": [
    "<div style=\"border:solid blue 2px; padding: 20px\">\n",
    "\n",
    "**Промежуточные выводы**\n",
    "    \n",
    "Итак, теперь все данные удобных для работы типов"
   ]
  },
  {
   "cell_type": "markdown",
   "id": "03f063ac",
   "metadata": {},
   "source": [
    "### Шаг 2.3 Проверка данных на аномалии и исправления."
   ]
  },
  {
   "cell_type": "markdown",
   "id": "5eee348f",
   "metadata": {},
   "source": [
    "Мы видим, что в данных присутствуют значения, которые не отражают действительность и появились по какой-то ошибке. \n",
    "\n",
    "Устраним ошибки"
   ]
  },
  {
   "cell_type": "markdown",
   "id": "95110532",
   "metadata": {},
   "source": [
    "Для начала выявим все аномалии"
   ]
  },
  {
   "cell_type": "markdown",
   "id": "b0ae739e",
   "metadata": {},
   "source": [
    "#### Начнём с количественных данных"
   ]
  },
  {
   "cell_type": "markdown",
   "id": "7bab8568",
   "metadata": {},
   "source": [
    "Найдём максимальные и минимальные значения в столбцах с количественными данными, чтобы проверить данные на достоверность\n",
    "Проверим все количественные данные, кроме столбца total_income, поскольку его значения мы уже проверили ранее"
   ]
  },
  {
   "cell_type": "code",
   "execution_count": 16,
   "id": "af9b8e6c",
   "metadata": {},
   "outputs": [
    {
     "data": {
      "text/plain": [
       "children                20.000000\n",
       "days_employed       401755.400475\n",
       "dob_years               75.000000\n",
       "education_id             4.000000\n",
       "family_status_id         4.000000\n",
       "debt                     1.000000\n",
       "dtype: float64"
      ]
     },
     "execution_count": 16,
     "metadata": {},
     "output_type": "execute_result"
    }
   ],
   "source": [
    "# просмотр максимальных значений в столбцах с количественными данными\n",
    "df[['children',  'days_employed', 'dob_years', 'education_id', 'family_status_id', 'debt']].max()"
   ]
  },
  {
   "cell_type": "markdown",
   "id": "e0956224",
   "metadata": {},
   "source": [
    "Видны следующие аномалии:\n",
    "\n",
    " * 20 детей в семье. Скорее всего произошла опечатка\n",
    "\n",
    " * 401755 дней трудового стажа - получается, что человек работал больше 1000 лет, а люди столько не живут. Возможно, в каких-то ячейках время указано не в днях, а в часах\n",
    "\n",
    "\n"
   ]
  },
  {
   "cell_type": "markdown",
   "id": "827f9a1e",
   "metadata": {},
   "source": [
    "Посмотрим на минимальные значения"
   ]
  },
  {
   "cell_type": "code",
   "execution_count": 17,
   "id": "6b08fa39",
   "metadata": {},
   "outputs": [
    {
     "data": {
      "text/plain": [
       "children               -1.000000\n",
       "days_employed      -18388.949901\n",
       "dob_years               0.000000\n",
       "education_id            0.000000\n",
       "family_status_id        0.000000\n",
       "debt                    0.000000\n",
       "dtype: float64"
      ]
     },
     "execution_count": 17,
     "metadata": {},
     "output_type": "execute_result"
    }
   ],
   "source": [
    "# просмотр минимальных значений в столбцах с количественными данными\n",
    "df[['children',  'days_employed', 'dob_years', 'education_id', 'family_status_id', 'debt']].min()"
   ]
  },
  {
   "cell_type": "markdown",
   "id": "6d7f7844",
   "metadata": {},
   "source": [
    "Видны следующие аномалии:\n",
    "\n",
    " * -1 ребёнок в семье. Скорее всего опечатка\n",
    " * возраст клиента 0 лет\n",
    " * Отрицательное значение трудового стажа\n"
   ]
  },
  {
   "cell_type": "markdown",
   "id": "5c2bd257",
   "metadata": {},
   "source": [
    "Итак, в количественных данных нужно обработать столбцы children, dob_years и days_employed"
   ]
  },
  {
   "cell_type": "markdown",
   "id": "fe874e72",
   "metadata": {},
   "source": [
    "##### Столбец children"
   ]
  },
  {
   "cell_type": "markdown",
   "id": "ff9c6bd3",
   "metadata": {},
   "source": [
    "Посмотрим, какие вообще значения есть в данном столбце"
   ]
  },
  {
   "cell_type": "code",
   "execution_count": 18,
   "id": "89367d8f",
   "metadata": {},
   "outputs": [
    {
     "data": {
      "text/plain": [
       "array([ 1,  0,  3,  2, -1,  4, 20,  5])"
      ]
     },
     "execution_count": 18,
     "metadata": {},
     "output_type": "execute_result"
    }
   ],
   "source": [
    "# просмотр уникальных значений столбца children\n",
    "df['children'].unique()"
   ]
  },
  {
   "cell_type": "markdown",
   "id": "6664b772",
   "metadata": {},
   "source": [
    "Мы видим, что из аномальных значений встретились значения -1 и 20. Посмотрим, сколько раз встречается каждое из этих значений."
   ]
  },
  {
   "cell_type": "code",
   "execution_count": 19,
   "id": "2adb26eb",
   "metadata": {},
   "outputs": [
    {
     "data": {
      "text/plain": [
       "47"
      ]
     },
     "execution_count": 19,
     "metadata": {},
     "output_type": "execute_result"
    }
   ],
   "source": [
    "# длина датафрейма, состоящего из строк, в которых значение в колонке children равно -1\n",
    "len(df[df['children'] == -1])"
   ]
  },
  {
   "cell_type": "code",
   "execution_count": 20,
   "id": "f42dbced",
   "metadata": {},
   "outputs": [
    {
     "data": {
      "text/plain": [
       "76"
      ]
     },
     "execution_count": 20,
     "metadata": {},
     "output_type": "execute_result"
    }
   ],
   "source": [
    "# длина датафрейма, состоящего из строк, в которых значение в колонке children равно 20\n",
    "len(df[df['children'] == 20])"
   ]
  },
  {
   "cell_type": "markdown",
   "id": "c61c0de9",
   "metadata": {},
   "source": [
    "Посмотрим, какую часть датафрейма составляют эти данные"
   ]
  },
  {
   "cell_type": "code",
   "execution_count": 21,
   "id": "0844eaa1",
   "metadata": {},
   "outputs": [
    {
     "data": {
      "text/plain": [
       "0.002183507549361208"
      ]
     },
     "execution_count": 21,
     "metadata": {},
     "output_type": "execute_result"
    }
   ],
   "source": [
    "# вычисление соотношения длины датафрейма с ячейками со значением -1 в столбце children к длине столбца children \n",
    "len(df[df['children'] == -1])/len(df['children'])"
   ]
  },
  {
   "cell_type": "code",
   "execution_count": 22,
   "id": "400121a0",
   "metadata": {},
   "outputs": [
    {
     "data": {
      "text/plain": [
       "0.0035307781649245064"
      ]
     },
     "execution_count": 22,
     "metadata": {},
     "output_type": "execute_result"
    }
   ],
   "source": [
    "# вычисление соотношения длины датафрейма с ячейками со значением 20 в столбце children к длине столбца children \n",
    "len(df[df['children'] == 20])/len(df['children'])"
   ]
  },
  {
   "cell_type": "markdown",
   "id": "32a80417",
   "metadata": {},
   "source": [
    "Мы видим, что данные со значением -1 составляют меньше, чем четверть процента от всего датасета. Поскольку значение -1 может означать как 1 ребёнка, так и использоваться в качестве замены пустого значения, а всего разнообразных значений не так много, то лучше удалить эти данные.\n",
    "\n",
    "Аналогично 20 может означать и то, что человек мог в спешке не поставить запятую - 2,0 и выступать в качестве замены для любого большого значения\n",
    "\n",
    "Сохраним в датафрейм строки, для которых ячейка в столбце children принимает неотрицательное значение меньшие 20."
   ]
  },
  {
   "cell_type": "code",
   "execution_count": 23,
   "id": "0601af20",
   "metadata": {},
   "outputs": [],
   "source": [
    "# Сохранение в датафрейме строк, для которых ячейка в столбце children принимает неотрицательное значение меньшие 20.\n",
    "df = df[df['children'] >= 0]\n",
    "df = df[df['children'] < 20]"
   ]
  },
  {
   "cell_type": "markdown",
   "id": "e5c4c462",
   "metadata": {},
   "source": [
    "Проверим, что теперь действительно в датафрейме нет аномальных значений в столбце children"
   ]
  },
  {
   "cell_type": "code",
   "execution_count": 24,
   "id": "2ba5b76d",
   "metadata": {},
   "outputs": [
    {
     "data": {
      "text/plain": [
       "0    14149\n",
       "1     4818\n",
       "2     2055\n",
       "3      330\n",
       "4       41\n",
       "5        9\n",
       "Name: children, dtype: int64"
      ]
     },
     "execution_count": 24,
     "metadata": {},
     "output_type": "execute_result"
    }
   ],
   "source": [
    "# просмотр значений в столбце children\n",
    "df['children'].value_counts()"
   ]
  },
  {
   "cell_type": "markdown",
   "id": "0b024b0e",
   "metadata": {},
   "source": [
    "##### Столбец dob_years"
   ]
  },
  {
   "cell_type": "markdown",
   "id": "8234bb41",
   "metadata": {},
   "source": [
    "В столбце dob_years была проблема с тем, что встречался возраст 0 лет. Посмотрим, сколько всего таких значений"
   ]
  },
  {
   "cell_type": "code",
   "execution_count": 25,
   "id": "4a15eec2",
   "metadata": {},
   "outputs": [
    {
     "data": {
      "text/plain": [
       "100"
      ]
     },
     "execution_count": 25,
     "metadata": {},
     "output_type": "execute_result"
    }
   ],
   "source": [
    "# длина датафрейма, состоящего из строк, в которых значение в колонке dob_years равно 0\n",
    "len(df[df['dob_years'] == 0])"
   ]
  },
  {
   "cell_type": "markdown",
   "id": "ab2ac0eb",
   "metadata": {},
   "source": [
    "Мы видим, что у 100 человек указан возраст 0 лет. Это может быть связано с тем, что при заполнении данных был известен возраст не каждого человека и 0 заполнили пустые значения.\n",
    "\n",
    "Поскольку для дальнейшего исследования возраст нам будет не нужен, не будем удалять нулевые значения"
   ]
  },
  {
   "cell_type": "markdown",
   "id": "77f2ce5e",
   "metadata": {},
   "source": [
    "##### Столбец days_employed"
   ]
  },
  {
   "cell_type": "markdown",
   "id": "ebc8cfd0",
   "metadata": {},
   "source": [
    "Значения в этом столбце почти у всех отрицательные. Гипотеза: это может связано с типом занятости.\n",
    "Посмотрим, какие типы занятости у клиентов, у которых отрицательное значение трудового стажа и какие у тех, у которых положительное"
   ]
  },
  {
   "cell_type": "code",
   "execution_count": 26,
   "id": "d69542b5",
   "metadata": {},
   "outputs": [
    {
     "data": {
      "text/plain": [
       "array(['сотрудник', 'компаньон', 'госслужащий', 'студент',\n",
       "       'предприниматель', 'в декрете'], dtype=object)"
      ]
     },
     "execution_count": 26,
     "metadata": {},
     "output_type": "execute_result"
    }
   ],
   "source": [
    "# просмотр значений столба income_type для тех строк, для которых значение в days_employed отрицательное\n",
    "df[df['days_employed'] < 0]['income_type'].unique()"
   ]
  },
  {
   "cell_type": "code",
   "execution_count": 27,
   "id": "93e4829c",
   "metadata": {},
   "outputs": [
    {
     "data": {
      "text/plain": [
       "array(['пенсионер', 'безработный'], dtype=object)"
      ]
     },
     "execution_count": 27,
     "metadata": {},
     "output_type": "execute_result"
    }
   ],
   "source": [
    "# просмотр значений столба income_type для тех строк, для которых значение в days_employed положительное\n",
    "df[df['days_employed'] > 0]['income_type'].unique()"
   ]
  },
  {
   "cell_type": "markdown",
   "id": "c7c63c02",
   "metadata": {},
   "source": [
    "Итак, мы видим, что у нас образовалось два непересекающихся множества. Значит, гипотеза подтвердилась. Действительно, для одних профессий трудовой стаж выражен отрицательным числом, а для других положительным. "
   ]
  },
  {
   "cell_type": "markdown",
   "id": "64b82152",
   "metadata": {},
   "source": [
    "Отрицательные значения скорее всего просто ошибка ввода данных. Это может быть связано с тем, что для разных типов  занятости данные вбивали разные люди и кто-то мог вбивать тире, которое считывалось, как минус. Обработаем аномальные значения этого столбца."
   ]
  },
  {
   "cell_type": "markdown",
   "id": "7585ef9f",
   "metadata": {},
   "source": [
    "Для начала приведём все значения в этом столбце к неотрицательным"
   ]
  },
  {
   "cell_type": "code",
   "execution_count": 28,
   "id": "c6a96f51",
   "metadata": {},
   "outputs": [],
   "source": [
    "# замена всех значений столбца days_employed на положительные\n",
    "df['days_employed'] = df['days_employed'].apply(abs)"
   ]
  },
  {
   "cell_type": "markdown",
   "id": "63d567d0",
   "metadata": {},
   "source": [
    "Проверим, что в столбце не осталось отрицатльных значений"
   ]
  },
  {
   "cell_type": "code",
   "execution_count": 29,
   "id": "7767b4c3",
   "metadata": {},
   "outputs": [
    {
     "data": {
      "text/plain": [
       "0"
      ]
     },
     "execution_count": 29,
     "metadata": {},
     "output_type": "execute_result"
    }
   ],
   "source": [
    "# вывод длины датафрейма, для которого в столбце days_employed встречаются отрицательные значения\n",
    "len(df[df['days_employed'] < 0])"
   ]
  },
  {
   "cell_type": "markdown",
   "id": "8c578b7b",
   "metadata": {},
   "source": [
    "Итак, мы убедились в том, что все значения в столбце days_employed неотрицательные."
   ]
  },
  {
   "cell_type": "markdown",
   "id": "f6a9a45c",
   "metadata": {},
   "source": [
    "Теперь переведём для удобства трудовой стаж в года. Так будет проще понять, где остались аномальные значения."
   ]
  },
  {
   "cell_type": "code",
   "execution_count": 30,
   "id": "587eb633",
   "metadata": {},
   "outputs": [],
   "source": [
    "# применение лямбда функции, переводящей трудовой стаж из дней в года\n",
    "df['days_employed'] = df['days_employed'].apply(lambda x: x/365)"
   ]
  },
  {
   "cell_type": "markdown",
   "id": "8ee9e785",
   "metadata": {},
   "source": [
    "Переименуем данный столбец, чтобы не запутаться"
   ]
  },
  {
   "cell_type": "code",
   "execution_count": 31,
   "id": "574de60e",
   "metadata": {},
   "outputs": [],
   "source": [
    "# переименование столбца\n",
    "df = df.rename(columns={'days_employed': 'years_employed'})"
   ]
  },
  {
   "cell_type": "code",
   "execution_count": 32,
   "id": "f9d80a21",
   "metadata": {},
   "outputs": [
    {
     "data": {
      "text/plain": [
       "Index(['children', 'years_employed', 'dob_years', 'education', 'education_id',\n",
       "       'family_status', 'family_status_id', 'gender', 'income_type', 'debt',\n",
       "       'total_income', 'purpose'],\n",
       "      dtype='object')"
      ]
     },
     "execution_count": 32,
     "metadata": {},
     "output_type": "execute_result"
    }
   ],
   "source": [
    "# проверка результатов - перечень названий столбцов\n",
    "df.columns"
   ]
  },
  {
   "cell_type": "markdown",
   "id": "bcd66360",
   "metadata": {},
   "source": [
    "Столбец успешно переименован"
   ]
  },
  {
   "cell_type": "markdown",
   "id": "8fc39fca",
   "metadata": {},
   "source": [
    "Посмотрим максимальное значение трудового стажа (в годах) для каждого типа занятости"
   ]
  },
  {
   "cell_type": "code",
   "execution_count": 33,
   "id": "340080ef",
   "metadata": {},
   "outputs": [
    {
     "data": {
      "text/plain": [
       "income_type\n",
       "безработный        1083.021476\n",
       "в декрете             9.032219\n",
       "госслужащий          41.624746\n",
       "компаньон            48.261817\n",
       "пенсионер          1100.699727\n",
       "предприниматель       1.426981\n",
       "сотрудник            50.380685\n",
       "студент               1.585621\n",
       "Name: years_employed, dtype: float64"
      ]
     },
     "execution_count": 33,
     "metadata": {},
     "output_type": "execute_result"
    }
   ],
   "source": [
    "# группировка датафрейма по столбцу income_type и просмотр соответствующих максимальных значений столбца years_employed \n",
    "df.groupby('income_type')['years_employed'].max()"
   ]
  },
  {
   "cell_type": "markdown",
   "id": "7d43e158",
   "metadata": {},
   "source": [
    "Мы видим, что аномальные значения остались у пенсионеров и безработных. Возможно, для них время указано в часах. Приведём к общему значению. Для этого создадим специальную функцию, переводящую из часов в года."
   ]
  },
  {
   "cell_type": "code",
   "execution_count": 34,
   "id": "c00d8009",
   "metadata": {},
   "outputs": [],
   "source": [
    "# создание функции from_hours_to_years с параметром row\n",
    "def from_hours_to_years(row):\n",
    "    '''\n",
    "    Функция получает на вход строку из датафрейма. \n",
    "    Затем она выделяет в отдельные переменные значения этой строки в столбцах income_type и years_employed.\n",
    "    И если значение переменной income_type соответствует одной из двух категорий: безработный или пенсионер,\n",
    "    функция делит значение переменной days_employed на 24.\n",
    "    Возвращает функция значение переменной years_employed\n",
    "    '''\n",
    "    income_type = row['income_type']\n",
    "    years_employed = row['years_employed']\n",
    "    if income_type == 'безработный' or income_type == 'пенсионер':\n",
    "        years_employed /= 24\n",
    "    return years_employed"
   ]
  },
  {
   "cell_type": "code",
   "execution_count": 35,
   "id": "07e0bfa7",
   "metadata": {},
   "outputs": [],
   "source": [
    "# применение функции from_hours_to_years\n",
    "df['years_employed'] = df.apply(from_hours_to_years, axis=1)"
   ]
  },
  {
   "cell_type": "markdown",
   "id": "a6081997",
   "metadata": {},
   "source": [
    "Посмотрим, что из этого вышло. Посмотрим на самые маленькие значения"
   ]
  },
  {
   "cell_type": "code",
   "execution_count": 36,
   "id": "32665fe1",
   "metadata": {},
   "outputs": [
    {
     "data": {
      "text/plain": [
       "income_type\n",
       "безработный        38.530190\n",
       "в декрете           9.032219\n",
       "госслужащий         0.109463\n",
       "компаньон           0.082727\n",
       "пенсионер          37.526110\n",
       "предприниматель     1.426981\n",
       "сотрудник           0.066141\n",
       "студент             1.585621\n",
       "Name: years_employed, dtype: float64"
      ]
     },
     "execution_count": 36,
     "metadata": {},
     "output_type": "execute_result"
    }
   ],
   "source": [
    "# группировка датафрейма по столбцу income_type и просмотр соответствующих минимальных значений столбца years_employed \n",
    "df.groupby('income_type')['years_employed'].min()"
   ]
  },
  {
   "cell_type": "markdown",
   "id": "2f6500ac",
   "metadata": {},
   "source": [
    "И на самые большие"
   ]
  },
  {
   "cell_type": "code",
   "execution_count": 37,
   "id": "c0a7c180",
   "metadata": {},
   "outputs": [
    {
     "data": {
      "text/plain": [
       "income_type\n",
       "безработный        45.125895\n",
       "в декрете           9.032219\n",
       "госслужащий        41.624746\n",
       "компаньон          48.261817\n",
       "пенсионер          45.862489\n",
       "предприниматель     1.426981\n",
       "сотрудник          50.380685\n",
       "студент             1.585621\n",
       "Name: years_employed, dtype: float64"
      ]
     },
     "execution_count": 37,
     "metadata": {},
     "output_type": "execute_result"
    }
   ],
   "source": [
    "# группировка датафрейма по столбцу income_type и просмотр соответствующих максимальных значений столбца years_employed \n",
    "df.groupby('income_type')['years_employed'].max()"
   ]
  },
  {
   "cell_type": "markdown",
   "id": "9d63f9c7",
   "metadata": {},
   "source": [
    "Да, то, что пенсионер за всю жизнь работал меньше года - это странно, но более правдоподобно, чем то, что он работал 1000 лет. Поэтому оставим этот столбец таким. Тем более, что для дальнейшего исследования эти данные не будут важны."
   ]
  },
  {
   "cell_type": "markdown",
   "id": "8a3debda",
   "metadata": {},
   "source": [
    "<div style=\"border:solid blue 2px; padding: 20px\">\n",
    "\n",
    "**Промежуточные выводы**\n",
    "    \n",
    "Итого, в количественных данных исправлены следующие выбросы\n",
    " * Удалены аномальные значения столбца children\n",
    " * Рассмотрены проблемы нулевого возраста в столбце dob_years\n",
    " * Переименован столбец days_employed в years_employed\n",
    " * В столбце years_employed данные приведены в года\n",
    " * Отрицательные значения столбца years_employed заменены положительными"
   ]
  },
  {
   "cell_type": "markdown",
   "id": "e492e35a",
   "metadata": {},
   "source": [
    "#### Посмотрим на категориальные количественные данные"
   ]
  },
  {
   "cell_type": "markdown",
   "id": "9de931fc",
   "metadata": {},
   "source": [
    "Убедимся, что в столбцах, значения в которых должны принадлежать одному значению из списка, нет выбросов"
   ]
  },
  {
   "cell_type": "markdown",
   "id": "fb3840e3",
   "metadata": {},
   "source": [
    "##### Столбец debt"
   ]
  },
  {
   "cell_type": "markdown",
   "id": "8cab8d90",
   "metadata": {},
   "source": [
    "Значения в этом столбце должны быть 0 или 1"
   ]
  },
  {
   "cell_type": "code",
   "execution_count": 38,
   "id": "945b66bc",
   "metadata": {},
   "outputs": [
    {
     "data": {
      "text/plain": [
       "array([0, 1])"
      ]
     },
     "execution_count": 38,
     "metadata": {},
     "output_type": "execute_result"
    }
   ],
   "source": [
    "# вывод уникальных значений столбца debt\n",
    "df['debt'].unique()"
   ]
  },
  {
   "cell_type": "markdown",
   "id": "e6231b09",
   "metadata": {},
   "source": [
    "Да, так и есть"
   ]
  },
  {
   "cell_type": "markdown",
   "id": "0dd304a8",
   "metadata": {},
   "source": [
    "##### Столбец education_id "
   ]
  },
  {
   "cell_type": "markdown",
   "id": "f598b189",
   "metadata": {},
   "source": [
    "Значения в этом столбце должны быть 0, 1, 2, 3, 4"
   ]
  },
  {
   "cell_type": "code",
   "execution_count": 39,
   "id": "4f214a36",
   "metadata": {},
   "outputs": [
    {
     "data": {
      "text/plain": [
       "array([0, 1, 2, 3, 4])"
      ]
     },
     "execution_count": 39,
     "metadata": {},
     "output_type": "execute_result"
    }
   ],
   "source": [
    "# вывод уникальных значений столбца education_id\n",
    "df['education_id'].unique()"
   ]
  },
  {
   "cell_type": "markdown",
   "id": "c8364dfa",
   "metadata": {},
   "source": [
    "Да, так и есть"
   ]
  },
  {
   "cell_type": "markdown",
   "id": "4d07243b",
   "metadata": {},
   "source": [
    "##### Столбец family_status_id  "
   ]
  },
  {
   "cell_type": "markdown",
   "id": "a94d5368",
   "metadata": {},
   "source": [
    "Значения в этом столбце должны быть 0, 1, 2, 3, 4"
   ]
  },
  {
   "cell_type": "code",
   "execution_count": 40,
   "id": "45b6b121",
   "metadata": {},
   "outputs": [
    {
     "data": {
      "text/plain": [
       "array([0, 1, 2, 3, 4])"
      ]
     },
     "execution_count": 40,
     "metadata": {},
     "output_type": "execute_result"
    }
   ],
   "source": [
    "# вывод уникальных значений столбца family_status_id\n",
    "df['family_status_id'].unique() "
   ]
  },
  {
   "cell_type": "markdown",
   "id": "fc6953b7",
   "metadata": {},
   "source": [
    "Да, так и есть"
   ]
  },
  {
   "cell_type": "markdown",
   "id": "9b0ba85d",
   "metadata": {},
   "source": [
    "<div style=\"border:solid blue 2px; padding: 20px\">\n",
    "\n",
    "**Промежуточные выводы**\n",
    "    \n",
    "Итого, в категориальных количественных данных проблем не обнаружено"
   ]
  },
  {
   "cell_type": "markdown",
   "id": "fa3a0155",
   "metadata": {},
   "source": [
    "### Шаг 2.4 Заполнение пропусков (продолжение)\n"
   ]
  },
  {
   "cell_type": "markdown",
   "id": "b0090a4d",
   "metadata": {},
   "source": [
    "Теперь можно разобраться с пропусками в столбце years_employed. Посмотрим, какую долю составляют пропуски"
   ]
  },
  {
   "cell_type": "code",
   "execution_count": 41,
   "id": "db91d444",
   "metadata": {},
   "outputs": [
    {
     "data": {
      "text/plain": [
       "0.10101859639286048"
      ]
     },
     "execution_count": 41,
     "metadata": {},
     "output_type": "execute_result"
    }
   ],
   "source": [
    "# соотношение количества пропусков к общему количеству ячеек в столбце years_employed\n",
    "df['years_employed'].isna().sum()/len(df['years_employed'])"
   ]
  },
  {
   "cell_type": "markdown",
   "id": "8b6a9744",
   "metadata": {},
   "source": [
    "10 процентов - довольно много. Значит, лучше не удалять эти данные. Выше было объяснено, почему лучше заполнять пропуски в количественных данных медианой. Заполним их и в этом столбце."
   ]
  },
  {
   "cell_type": "code",
   "execution_count": 42,
   "id": "a1146313",
   "metadata": {},
   "outputs": [],
   "source": [
    "# поиск медианы по столбцу years_employed\n",
    "median_years_employed = df['years_employed'].median()"
   ]
  },
  {
   "cell_type": "code",
   "execution_count": 43,
   "id": "d9944528",
   "metadata": {},
   "outputs": [],
   "source": [
    "# заполнение пропусков медианным значением\n",
    "df['years_employed'] = df['years_employed'].fillna(median_years_employed)"
   ]
  },
  {
   "cell_type": "markdown",
   "id": "49b2e9a9",
   "metadata": {},
   "source": [
    "Проверим, что пропусков не осталось"
   ]
  },
  {
   "cell_type": "code",
   "execution_count": 44,
   "id": "fb7a13c2",
   "metadata": {},
   "outputs": [
    {
     "data": {
      "text/plain": [
       "0"
      ]
     },
     "execution_count": 44,
     "metadata": {},
     "output_type": "execute_result"
    }
   ],
   "source": [
    "# подсчёт количества пропусков в столбце years_employed\n",
    "df['years_employed'].isna().sum()"
   ]
  },
  {
   "cell_type": "markdown",
   "id": "842d2aae",
   "metadata": {},
   "source": [
    "<div style=\"border:solid blue 2px; padding: 20px\">\n",
    "\n",
    "**Выводы**\n",
    "    \n",
    "Пропуски в столбце years_employed заполнены медианным значением по столбцу.\n",
    "\n",
    "В итоге, в датафрейме не осталось пропусков"
   ]
  },
  {
   "cell_type": "markdown",
   "id": "e15ac1d9",
   "metadata": {},
   "source": [
    "### Шаг 2.5 Проверка данных на аномалии и исправления (продолжение)"
   ]
  },
  {
   "cell_type": "markdown",
   "id": "cf964219",
   "metadata": {},
   "source": [
    "Разберёмся теперь с нечисловыми столбцами\n",
    "Посмотрим, какие значения присутствуют в них."
   ]
  },
  {
   "cell_type": "code",
   "execution_count": 45,
   "id": "d4d843d3",
   "metadata": {},
   "outputs": [
    {
     "data": {
      "text/plain": [
       "array(['высшее', 'среднее', 'Среднее', 'СРЕДНЕЕ', 'ВЫСШЕЕ',\n",
       "       'неоконченное высшее', 'начальное', 'Высшее',\n",
       "       'НЕОКОНЧЕННОЕ ВЫСШЕЕ', 'Неоконченное высшее', 'НАЧАЛЬНОЕ',\n",
       "       'Начальное', 'Ученая степень', 'УЧЕНАЯ СТЕПЕНЬ', 'ученая степень'],\n",
       "      dtype=object)"
      ]
     },
     "execution_count": 45,
     "metadata": {},
     "output_type": "execute_result"
    }
   ],
   "source": [
    "# просмотр уникальных значений в столбце education\n",
    "df['education'].unique()"
   ]
  },
  {
   "cell_type": "code",
   "execution_count": 46,
   "id": "424762a9",
   "metadata": {},
   "outputs": [
    {
     "data": {
      "text/plain": [
       "array(['женат / замужем', 'гражданский брак', 'вдовец / вдова',\n",
       "       'в разводе', 'Не женат / не замужем'], dtype=object)"
      ]
     },
     "execution_count": 46,
     "metadata": {},
     "output_type": "execute_result"
    }
   ],
   "source": [
    "# просмотр уникальных значений в столбце family_status\n",
    "df['family_status'].unique()"
   ]
  },
  {
   "cell_type": "code",
   "execution_count": 47,
   "id": "7a27c1fb",
   "metadata": {},
   "outputs": [
    {
     "data": {
      "text/plain": [
       "array(['F', 'M', 'XNA'], dtype=object)"
      ]
     },
     "execution_count": 47,
     "metadata": {},
     "output_type": "execute_result"
    }
   ],
   "source": [
    "# просмотр уникальных значений в столбце gender\n",
    "df['gender'].unique()"
   ]
  },
  {
   "cell_type": "code",
   "execution_count": 48,
   "id": "11cb2d16",
   "metadata": {},
   "outputs": [
    {
     "data": {
      "text/plain": [
       "array(['сотрудник', 'пенсионер', 'компаньон', 'госслужащий',\n",
       "       'безработный', 'предприниматель', 'студент', 'в декрете'],\n",
       "      dtype=object)"
      ]
     },
     "execution_count": 48,
     "metadata": {},
     "output_type": "execute_result"
    }
   ],
   "source": [
    "# просмотр уникальных значений в столбце income_type\n",
    "df['income_type'].unique()"
   ]
  },
  {
   "cell_type": "code",
   "execution_count": 49,
   "id": "6b191340",
   "metadata": {},
   "outputs": [
    {
     "data": {
      "text/plain": [
       "array(['покупка жилья', 'приобретение автомобиля',\n",
       "       'дополнительное образование', 'сыграть свадьбу',\n",
       "       'операции с жильем', 'образование', 'на проведение свадьбы',\n",
       "       'покупка жилья для семьи', 'покупка недвижимости',\n",
       "       'покупка коммерческой недвижимости', 'покупка жилой недвижимости',\n",
       "       'строительство собственной недвижимости', 'недвижимость',\n",
       "       'строительство недвижимости', 'на покупку подержанного автомобиля',\n",
       "       'на покупку своего автомобиля',\n",
       "       'операции с коммерческой недвижимостью',\n",
       "       'строительство жилой недвижимости', 'жилье',\n",
       "       'операции со своей недвижимостью', 'автомобили',\n",
       "       'заняться образованием', 'сделка с подержанным автомобилем',\n",
       "       'получение образования', 'автомобиль', 'свадьба',\n",
       "       'получение дополнительного образования', 'покупка своего жилья',\n",
       "       'операции с недвижимостью', 'получение высшего образования',\n",
       "       'свой автомобиль', 'сделка с автомобилем',\n",
       "       'профильное образование', 'высшее образование',\n",
       "       'покупка жилья для сдачи', 'на покупку автомобиля', 'ремонт жилью',\n",
       "       'заняться высшим образованием'], dtype=object)"
      ]
     },
     "execution_count": 49,
     "metadata": {},
     "output_type": "execute_result"
    }
   ],
   "source": [
    "# просмотр уникальных значений в столбце purpose\n",
    "df['purpose'].unique()"
   ]
  },
  {
   "cell_type": "markdown",
   "id": "4e6a2061",
   "metadata": {},
   "source": [
    "<div style=\"border:solid blue 2px; padding: 20px\">\n",
    "\n",
    "**Промежуточные выводы**\n",
    "    \n",
    "\n",
    "В не количественных ячейках удалось заметить аномалию в столбце gender.\n",
    "    \n",
    "А так же дубликаты в столбцах education и purpose"
   ]
  },
  {
   "cell_type": "markdown",
   "id": "8f947bca",
   "metadata": {},
   "source": [
    "#### Столбец gendre"
   ]
  },
  {
   "cell_type": "markdown",
   "id": "0b509ca3",
   "metadata": {},
   "source": [
    "Ещё раз посмотрим на уникальные значения в этом столбце"
   ]
  },
  {
   "cell_type": "code",
   "execution_count": 50,
   "id": "942aa862",
   "metadata": {},
   "outputs": [
    {
     "data": {
      "text/plain": [
       "array(['F', 'M', 'XNA'], dtype=object)"
      ]
     },
     "execution_count": 50,
     "metadata": {},
     "output_type": "execute_result"
    }
   ],
   "source": [
    "# просмотр уникальных значений в столбце gender\n",
    "df['gender'].unique()"
   ]
  },
  {
   "cell_type": "markdown",
   "id": "afe9d215",
   "metadata": {},
   "source": [
    "Мы видим, что встречается странное значение XNA."
   ]
  },
  {
   "cell_type": "markdown",
   "id": "d613e237",
   "metadata": {},
   "source": [
    "Посмотрим, сколько раз встречается странное значение XNA"
   ]
  },
  {
   "cell_type": "code",
   "execution_count": 51,
   "id": "1504e06b",
   "metadata": {},
   "outputs": [
    {
     "data": {
      "text/plain": [
       "1"
      ]
     },
     "execution_count": 51,
     "metadata": {},
     "output_type": "execute_result"
    }
   ],
   "source": [
    "# длина датафрейма, для которого значение в столбце gender равно XNA\n",
    "len(df[df['gender'] == 'XNA'])"
   ]
  },
  {
   "cell_type": "markdown",
   "id": "8a5a1f55",
   "metadata": {},
   "source": [
    "Мы видим, что такое аномальное значение встречается всего 1 раз. Это может быть связано с тем, что произошла какая-то ошибка, данные затерялись. Поскольку для дальнейшего исследования данные из этого столбца нам не важны, можно оставить его без изменений."
   ]
  },
  {
   "cell_type": "markdown",
   "id": "b2f12e86",
   "metadata": {},
   "source": [
    "<div style=\"border:solid blue 2px; padding: 20px\">\n",
    "\n",
    "**Промежуточные выводы**\n",
    "    \n",
    "Нам удалось разобраться с аномальным значением в столбце gender. Обрабатывать это значение мы не стали, поскольку в ходе дальнейшего исследования значения из этого столбца нам не пригодятся"
   ]
  },
  {
   "cell_type": "markdown",
   "id": "061604ae",
   "metadata": {},
   "source": [
    "### Шаг 2.6. Удаление дубликатов."
   ]
  },
  {
   "cell_type": "markdown",
   "id": "37605f24",
   "metadata": {},
   "source": [
    "Посмотрим, есть ли в данных явные дубликаты"
   ]
  },
  {
   "cell_type": "code",
   "execution_count": 52,
   "id": "cfb0d3c1",
   "metadata": {},
   "outputs": [
    {
     "data": {
      "text/plain": [
       "54"
      ]
     },
     "execution_count": 52,
     "metadata": {},
     "output_type": "execute_result"
    }
   ],
   "source": [
    "# подсчёт количества явных дубликатов\n",
    "df.duplicated().sum()"
   ]
  },
  {
   "cell_type": "markdown",
   "id": "220d1c97",
   "metadata": {},
   "source": [
    "Удалим явные дубликаты"
   ]
  },
  {
   "cell_type": "code",
   "execution_count": 53,
   "id": "f51c32f4",
   "metadata": {},
   "outputs": [],
   "source": [
    "# удаление явных дубликатов\n",
    "df = df.drop_duplicates().reset_index(drop=True)"
   ]
  },
  {
   "cell_type": "markdown",
   "id": "f228dc77",
   "metadata": {},
   "source": [
    "Убедимся, что явных дубликатов не осталось"
   ]
  },
  {
   "cell_type": "code",
   "execution_count": 54,
   "id": "1f80a714",
   "metadata": {},
   "outputs": [
    {
     "data": {
      "text/plain": [
       "0"
      ]
     },
     "execution_count": 54,
     "metadata": {},
     "output_type": "execute_result"
    }
   ],
   "source": [
    "# подсчёт количества явных дубликатов\n",
    "df.duplicated().sum()"
   ]
  },
  {
   "cell_type": "markdown",
   "id": "bc1a451b",
   "metadata": {},
   "source": [
    "Теперь разберёмся с неявными дубликатами. Они встречаются в столбцах education и purpose "
   ]
  },
  {
   "cell_type": "markdown",
   "id": "f91c70a7",
   "metadata": {},
   "source": [
    "Для того, чтобы в столбце education избавиться от неявных дубликатов, достаточно привести все значения в нижний регистр. Сделаем это при помощи функции str.lower()"
   ]
  },
  {
   "cell_type": "code",
   "execution_count": 55,
   "id": "3a1f72f5",
   "metadata": {},
   "outputs": [],
   "source": [
    "# перевод всех значений в столбце education в нижний регистр\n",
    "df['education'] = df['education'].str.lower()"
   ]
  },
  {
   "cell_type": "markdown",
   "id": "a69e9df6",
   "metadata": {},
   "source": [
    "Проверим, что неявных дубликатов больше не осталось"
   ]
  },
  {
   "cell_type": "code",
   "execution_count": 56,
   "id": "fb03ef9c",
   "metadata": {},
   "outputs": [
    {
     "data": {
      "text/plain": [
       "array(['высшее', 'среднее', 'неоконченное высшее', 'начальное',\n",
       "       'ученая степень'], dtype=object)"
      ]
     },
     "execution_count": 56,
     "metadata": {},
     "output_type": "execute_result"
    }
   ],
   "source": [
    "# вывод уникальных значений столбца education\n",
    "df['education'].unique()"
   ]
  },
  {
   "cell_type": "markdown",
   "id": "cb838821",
   "metadata": {},
   "source": [
    "<div style=\"border:solid blue 2px; padding: 20px\">\n",
    "\n",
    "**Промежуточные выводы**\n",
    "    \n",
    "Итак, у нас больше нет дубликатов в столбце education. \n",
    "    \n",
    "От дубликатов в столбце purpose избавимся позднее, когда классифицируем цели"
   ]
  },
  {
   "cell_type": "markdown",
   "id": "ff415d7e",
   "metadata": {},
   "source": [
    "### Шаг 2.7. Формирование дополнительных датафреймов словарей, декомпозиция исходного датафрейма."
   ]
  },
  {
   "cell_type": "markdown",
   "id": "9b4bcc8e",
   "metadata": {},
   "source": [
    "Для удобства работы с таблицей уберём из неё столбцы education и family_status, поскольку для них есть столбцы education_id и family_status_id "
   ]
  },
  {
   "cell_type": "code",
   "execution_count": 57,
   "id": "fdfd3fd7",
   "metadata": {},
   "outputs": [],
   "source": [
    "# выделение в отдельный датафрейм столбцов education и education_id\n",
    "education_dict = df[['education', 'education_id']]"
   ]
  },
  {
   "cell_type": "code",
   "execution_count": 58,
   "id": "03836e19",
   "metadata": {},
   "outputs": [],
   "source": [
    "# удаление дубликатов\n",
    "education_dict = education_dict.drop_duplicates().reset_index(drop=True)"
   ]
  },
  {
   "cell_type": "code",
   "execution_count": 59,
   "id": "471091ca",
   "metadata": {},
   "outputs": [
    {
     "data": {
      "text/html": [
       "<div>\n",
       "<style scoped>\n",
       "    .dataframe tbody tr th:only-of-type {\n",
       "        vertical-align: middle;\n",
       "    }\n",
       "\n",
       "    .dataframe tbody tr th {\n",
       "        vertical-align: top;\n",
       "    }\n",
       "\n",
       "    .dataframe thead th {\n",
       "        text-align: right;\n",
       "    }\n",
       "</style>\n",
       "<table border=\"1\" class=\"dataframe\">\n",
       "  <thead>\n",
       "    <tr style=\"text-align: right;\">\n",
       "      <th></th>\n",
       "      <th>education</th>\n",
       "      <th>education_id</th>\n",
       "    </tr>\n",
       "  </thead>\n",
       "  <tbody>\n",
       "    <tr>\n",
       "      <td>0</td>\n",
       "      <td>высшее</td>\n",
       "      <td>0</td>\n",
       "    </tr>\n",
       "    <tr>\n",
       "      <td>1</td>\n",
       "      <td>среднее</td>\n",
       "      <td>1</td>\n",
       "    </tr>\n",
       "    <tr>\n",
       "      <td>2</td>\n",
       "      <td>неоконченное высшее</td>\n",
       "      <td>2</td>\n",
       "    </tr>\n",
       "    <tr>\n",
       "      <td>3</td>\n",
       "      <td>начальное</td>\n",
       "      <td>3</td>\n",
       "    </tr>\n",
       "    <tr>\n",
       "      <td>4</td>\n",
       "      <td>ученая степень</td>\n",
       "      <td>4</td>\n",
       "    </tr>\n",
       "  </tbody>\n",
       "</table>\n",
       "</div>"
      ],
      "text/plain": [
       "             education  education_id\n",
       "0               высшее             0\n",
       "1              среднее             1\n",
       "2  неоконченное высшее             2\n",
       "3            начальное             3\n",
       "4       ученая степень             4"
      ]
     },
     "execution_count": 59,
     "metadata": {},
     "output_type": "execute_result"
    }
   ],
   "source": [
    "# просмотр получившегося датафрейма\n",
    "education_dict"
   ]
  },
  {
   "cell_type": "markdown",
   "id": "3ace0652",
   "metadata": {},
   "source": [
    "Проделаем аналогичную работу со столбцами family_status и family_status_id"
   ]
  },
  {
   "cell_type": "code",
   "execution_count": 60,
   "id": "bed3311e",
   "metadata": {},
   "outputs": [],
   "source": [
    "# выделение в отдельный датафрейм столбцов family_status и family_status_id\n",
    "family_status_dict = df[['family_status', 'family_status_id']]"
   ]
  },
  {
   "cell_type": "code",
   "execution_count": 61,
   "id": "baa3bfbe",
   "metadata": {},
   "outputs": [],
   "source": [
    "# удаление дубликатов\n",
    "family_status_dict = family_status_dict.drop_duplicates().reset_index(drop=True)"
   ]
  },
  {
   "cell_type": "code",
   "execution_count": 62,
   "id": "eecc3718",
   "metadata": {},
   "outputs": [
    {
     "data": {
      "text/html": [
       "<div>\n",
       "<style scoped>\n",
       "    .dataframe tbody tr th:only-of-type {\n",
       "        vertical-align: middle;\n",
       "    }\n",
       "\n",
       "    .dataframe tbody tr th {\n",
       "        vertical-align: top;\n",
       "    }\n",
       "\n",
       "    .dataframe thead th {\n",
       "        text-align: right;\n",
       "    }\n",
       "</style>\n",
       "<table border=\"1\" class=\"dataframe\">\n",
       "  <thead>\n",
       "    <tr style=\"text-align: right;\">\n",
       "      <th></th>\n",
       "      <th>family_status</th>\n",
       "      <th>family_status_id</th>\n",
       "    </tr>\n",
       "  </thead>\n",
       "  <tbody>\n",
       "    <tr>\n",
       "      <td>0</td>\n",
       "      <td>женат / замужем</td>\n",
       "      <td>0</td>\n",
       "    </tr>\n",
       "    <tr>\n",
       "      <td>1</td>\n",
       "      <td>гражданский брак</td>\n",
       "      <td>1</td>\n",
       "    </tr>\n",
       "    <tr>\n",
       "      <td>2</td>\n",
       "      <td>вдовец / вдова</td>\n",
       "      <td>2</td>\n",
       "    </tr>\n",
       "    <tr>\n",
       "      <td>3</td>\n",
       "      <td>в разводе</td>\n",
       "      <td>3</td>\n",
       "    </tr>\n",
       "    <tr>\n",
       "      <td>4</td>\n",
       "      <td>Не женат / не замужем</td>\n",
       "      <td>4</td>\n",
       "    </tr>\n",
       "  </tbody>\n",
       "</table>\n",
       "</div>"
      ],
      "text/plain": [
       "           family_status  family_status_id\n",
       "0        женат / замужем                 0\n",
       "1       гражданский брак                 1\n",
       "2         вдовец / вдова                 2\n",
       "3              в разводе                 3\n",
       "4  Не женат / не замужем                 4"
      ]
     },
     "execution_count": 62,
     "metadata": {},
     "output_type": "execute_result"
    }
   ],
   "source": [
    "# просмотр получившегося датафрейма\n",
    "family_status_dict"
   ]
  },
  {
   "cell_type": "markdown",
   "id": "5c6a6fba",
   "metadata": {},
   "source": [
    "Теперь удалим из основного датафрейма лишнюю информацию"
   ]
  },
  {
   "cell_type": "code",
   "execution_count": 63,
   "id": "e985d55b",
   "metadata": {},
   "outputs": [],
   "source": [
    "# замена исходного датафрейма новым, в котором нет столбцов education и family_status, а есть только соотвествующие им идентификаторы\n",
    "df = df[['children', 'years_employed', 'dob_years', 'education_id', 'family_status_id', 'gender', 'income_type', 'debt', 'total_income', 'purpose']]"
   ]
  },
  {
   "cell_type": "markdown",
   "id": "dda8180d",
   "metadata": {},
   "source": [
    "<div style=\"border:solid blue 2px; padding: 20px\">\n",
    "\n",
    "**Выводы**\n",
    "    \n",
    "Итого, созданы два словаря - для education и для family_status. По ним можно найти, что значит каждый id"
   ]
  },
  {
   "cell_type": "markdown",
   "id": "2b00cdda",
   "metadata": {},
   "source": [
    "### Шаг 2.8. Категоризация дохода."
   ]
  },
  {
   "cell_type": "markdown",
   "id": "0a8f7798",
   "metadata": {},
   "source": [
    "Сгруппируем доход по категориям. Напишем специальную функцию и создадим столбец total_income_category, в который поместим значения этой функции, применённой к столбцу total_income"
   ]
  },
  {
   "cell_type": "code",
   "execution_count": 64,
   "id": "de2d2376",
   "metadata": {},
   "outputs": [],
   "source": [
    "def total_income_group(total_income):\n",
    "    \"\"\"\n",
    "    Функция принимает на вход значение total_income - число.\n",
    "    Затем в зависимости от величины этого числа возвращает одну из 5 категорий.\n",
    "    \"\"\"\n",
    "    if total_income <= 30000:\n",
    "        return 'E'\n",
    "    elif total_income <= 50000:\n",
    "        return 'D'\n",
    "    elif total_income <= 200000:\n",
    "        return 'C'\n",
    "    elif total_income <= 1000000:\n",
    "        return 'B'\n",
    "    else:\n",
    "        return 'A'"
   ]
  },
  {
   "cell_type": "code",
   "execution_count": 65,
   "id": "abd95185",
   "metadata": {},
   "outputs": [],
   "source": [
    "# применение функци total_income_group и создание нового столбца total_income_category\n",
    "df['total_income_category'] = df['total_income'].apply(total_income_group)"
   ]
  },
  {
   "cell_type": "markdown",
   "id": "8d2c5966",
   "metadata": {},
   "source": [
    "Проверим, что новый столбец появился"
   ]
  },
  {
   "cell_type": "code",
   "execution_count": 66,
   "id": "6bd7a8d2",
   "metadata": {
    "scrolled": true
   },
   "outputs": [
    {
     "data": {
      "text/html": [
       "<div>\n",
       "<style scoped>\n",
       "    .dataframe tbody tr th:only-of-type {\n",
       "        vertical-align: middle;\n",
       "    }\n",
       "\n",
       "    .dataframe tbody tr th {\n",
       "        vertical-align: top;\n",
       "    }\n",
       "\n",
       "    .dataframe thead th {\n",
       "        text-align: right;\n",
       "    }\n",
       "</style>\n",
       "<table border=\"1\" class=\"dataframe\">\n",
       "  <thead>\n",
       "    <tr style=\"text-align: right;\">\n",
       "      <th></th>\n",
       "      <th>children</th>\n",
       "      <th>years_employed</th>\n",
       "      <th>dob_years</th>\n",
       "      <th>education_id</th>\n",
       "      <th>family_status_id</th>\n",
       "      <th>gender</th>\n",
       "      <th>income_type</th>\n",
       "      <th>debt</th>\n",
       "      <th>total_income</th>\n",
       "      <th>purpose</th>\n",
       "      <th>total_income_category</th>\n",
       "    </tr>\n",
       "  </thead>\n",
       "  <tbody>\n",
       "    <tr>\n",
       "      <td>0</td>\n",
       "      <td>1</td>\n",
       "      <td>23.116912</td>\n",
       "      <td>42</td>\n",
       "      <td>0</td>\n",
       "      <td>0</td>\n",
       "      <td>F</td>\n",
       "      <td>сотрудник</td>\n",
       "      <td>0</td>\n",
       "      <td>253875</td>\n",
       "      <td>покупка жилья</td>\n",
       "      <td>B</td>\n",
       "    </tr>\n",
       "    <tr>\n",
       "      <td>1</td>\n",
       "      <td>1</td>\n",
       "      <td>11.026860</td>\n",
       "      <td>36</td>\n",
       "      <td>1</td>\n",
       "      <td>0</td>\n",
       "      <td>F</td>\n",
       "      <td>сотрудник</td>\n",
       "      <td>0</td>\n",
       "      <td>112080</td>\n",
       "      <td>приобретение автомобиля</td>\n",
       "      <td>C</td>\n",
       "    </tr>\n",
       "    <tr>\n",
       "      <td>2</td>\n",
       "      <td>0</td>\n",
       "      <td>15.406637</td>\n",
       "      <td>33</td>\n",
       "      <td>1</td>\n",
       "      <td>0</td>\n",
       "      <td>M</td>\n",
       "      <td>сотрудник</td>\n",
       "      <td>0</td>\n",
       "      <td>145885</td>\n",
       "      <td>покупка жилья</td>\n",
       "      <td>C</td>\n",
       "    </tr>\n",
       "    <tr>\n",
       "      <td>3</td>\n",
       "      <td>3</td>\n",
       "      <td>11.300677</td>\n",
       "      <td>32</td>\n",
       "      <td>1</td>\n",
       "      <td>0</td>\n",
       "      <td>M</td>\n",
       "      <td>сотрудник</td>\n",
       "      <td>0</td>\n",
       "      <td>267628</td>\n",
       "      <td>дополнительное образование</td>\n",
       "      <td>B</td>\n",
       "    </tr>\n",
       "    <tr>\n",
       "      <td>4</td>\n",
       "      <td>0</td>\n",
       "      <td>38.843159</td>\n",
       "      <td>53</td>\n",
       "      <td>1</td>\n",
       "      <td>1</td>\n",
       "      <td>F</td>\n",
       "      <td>пенсионер</td>\n",
       "      <td>0</td>\n",
       "      <td>158616</td>\n",
       "      <td>сыграть свадьбу</td>\n",
       "      <td>C</td>\n",
       "    </tr>\n",
       "  </tbody>\n",
       "</table>\n",
       "</div>"
      ],
      "text/plain": [
       "   children  years_employed  dob_years  education_id  family_status_id gender  \\\n",
       "0         1       23.116912         42             0                 0      F   \n",
       "1         1       11.026860         36             1                 0      F   \n",
       "2         0       15.406637         33             1                 0      M   \n",
       "3         3       11.300677         32             1                 0      M   \n",
       "4         0       38.843159         53             1                 1      F   \n",
       "\n",
       "  income_type  debt  total_income                     purpose  \\\n",
       "0   сотрудник     0        253875               покупка жилья   \n",
       "1   сотрудник     0        112080     приобретение автомобиля   \n",
       "2   сотрудник     0        145885               покупка жилья   \n",
       "3   сотрудник     0        267628  дополнительное образование   \n",
       "4   пенсионер     0        158616             сыграть свадьбу   \n",
       "\n",
       "  total_income_category  \n",
       "0                     B  \n",
       "1                     C  \n",
       "2                     C  \n",
       "3                     B  \n",
       "4                     C  "
      ]
     },
     "execution_count": 66,
     "metadata": {},
     "output_type": "execute_result"
    }
   ],
   "source": [
    "# вывод начала датафрейма (первые 5 строк)\n",
    "df.head()"
   ]
  },
  {
   "cell_type": "markdown",
   "id": "861eca1a",
   "metadata": {},
   "source": [
    "<div style=\"border:solid blue 2px; padding: 20px\">\n",
    "\n",
    "**Выводы**\n",
    "    \n",
    "Итого, \n",
    " * создан дополнительный столбец, в который помещено значение категории дохода\n",
    " * написана функция, вычисляющая категорию дохода\n",
    "    "
   ]
  },
  {
   "cell_type": "markdown",
   "id": "eb45d508",
   "metadata": {},
   "source": [
    "### Шаг 2.9. Категоризация целей кредита."
   ]
  },
  {
   "cell_type": "markdown",
   "id": "53047651",
   "metadata": {},
   "source": [
    "Разделим цели на категории. Посмотрим, какие цели вообще есть"
   ]
  },
  {
   "cell_type": "code",
   "execution_count": 67,
   "id": "a36eb9bb",
   "metadata": {},
   "outputs": [
    {
     "data": {
      "text/plain": [
       "array(['покупка жилья', 'приобретение автомобиля',\n",
       "       'дополнительное образование', 'сыграть свадьбу',\n",
       "       'операции с жильем', 'образование', 'на проведение свадьбы',\n",
       "       'покупка жилья для семьи', 'покупка недвижимости',\n",
       "       'покупка коммерческой недвижимости', 'покупка жилой недвижимости',\n",
       "       'строительство собственной недвижимости', 'недвижимость',\n",
       "       'строительство недвижимости', 'на покупку подержанного автомобиля',\n",
       "       'на покупку своего автомобиля',\n",
       "       'операции с коммерческой недвижимостью',\n",
       "       'строительство жилой недвижимости', 'жилье',\n",
       "       'операции со своей недвижимостью', 'автомобили',\n",
       "       'заняться образованием', 'сделка с подержанным автомобилем',\n",
       "       'получение образования', 'автомобиль', 'свадьба',\n",
       "       'получение дополнительного образования', 'покупка своего жилья',\n",
       "       'операции с недвижимостью', 'получение высшего образования',\n",
       "       'свой автомобиль', 'сделка с автомобилем',\n",
       "       'профильное образование', 'высшее образование',\n",
       "       'покупка жилья для сдачи', 'на покупку автомобиля', 'ремонт жилью',\n",
       "       'заняться высшим образованием'], dtype=object)"
      ]
     },
     "execution_count": 67,
     "metadata": {},
     "output_type": "execute_result"
    }
   ],
   "source": [
    "# вывод уникальных значений столбца purpose\n",
    "df['purpose'].unique()"
   ]
  },
  {
   "cell_type": "markdown",
   "id": "253497fb",
   "metadata": {},
   "source": [
    "Мы видим, что все цели так или иначе связаны с 4 вещами: автомобиль, недвижимость, свадьба, образование.\n",
    "\n",
    "Напишем функцию, которая разделит все значения по этим категориям"
   ]
  },
  {
   "cell_type": "code",
   "execution_count": 68,
   "id": "0e1153eb",
   "metadata": {},
   "outputs": [],
   "source": [
    "def purpose_group(purpose):\n",
    "    \"\"\"\n",
    "    Функция принимает на вход переменную, в которой написана цель.\n",
    "    Далее в зависимости от того, с чем связана эта цель, функция возвращает одну из 4 категорий.\n",
    "    \"\"\"\n",
    "    if 'авто' in purpose:\n",
    "        return 'операции с автомобилем'\n",
    "    elif 'недвижим' in purpose or 'жиль' in purpose:\n",
    "        return 'операции с недвижимостью'\n",
    "    elif 'свадьб' in purpose:\n",
    "        return 'проведение свадьбы'\n",
    "    else:\n",
    "        return 'получение образования'"
   ]
  },
  {
   "cell_type": "code",
   "execution_count": 69,
   "id": "443e7fb5",
   "metadata": {},
   "outputs": [],
   "source": [
    "# создание нового столбца purpose_category и применение функции purpose_group\n",
    "df['purpose_category'] = df['purpose'].apply(purpose_group)"
   ]
  },
  {
   "cell_type": "markdown",
   "id": "43bf16ba",
   "metadata": {},
   "source": [
    "Проверим, что столбец появился"
   ]
  },
  {
   "cell_type": "code",
   "execution_count": 70,
   "id": "05124846",
   "metadata": {},
   "outputs": [
    {
     "data": {
      "text/html": [
       "<div>\n",
       "<style scoped>\n",
       "    .dataframe tbody tr th:only-of-type {\n",
       "        vertical-align: middle;\n",
       "    }\n",
       "\n",
       "    .dataframe tbody tr th {\n",
       "        vertical-align: top;\n",
       "    }\n",
       "\n",
       "    .dataframe thead th {\n",
       "        text-align: right;\n",
       "    }\n",
       "</style>\n",
       "<table border=\"1\" class=\"dataframe\">\n",
       "  <thead>\n",
       "    <tr style=\"text-align: right;\">\n",
       "      <th></th>\n",
       "      <th>children</th>\n",
       "      <th>years_employed</th>\n",
       "      <th>dob_years</th>\n",
       "      <th>education_id</th>\n",
       "      <th>family_status_id</th>\n",
       "      <th>gender</th>\n",
       "      <th>income_type</th>\n",
       "      <th>debt</th>\n",
       "      <th>total_income</th>\n",
       "      <th>purpose</th>\n",
       "      <th>total_income_category</th>\n",
       "      <th>purpose_category</th>\n",
       "    </tr>\n",
       "  </thead>\n",
       "  <tbody>\n",
       "    <tr>\n",
       "      <td>0</td>\n",
       "      <td>1</td>\n",
       "      <td>23.116912</td>\n",
       "      <td>42</td>\n",
       "      <td>0</td>\n",
       "      <td>0</td>\n",
       "      <td>F</td>\n",
       "      <td>сотрудник</td>\n",
       "      <td>0</td>\n",
       "      <td>253875</td>\n",
       "      <td>покупка жилья</td>\n",
       "      <td>B</td>\n",
       "      <td>операции с недвижимостью</td>\n",
       "    </tr>\n",
       "    <tr>\n",
       "      <td>1</td>\n",
       "      <td>1</td>\n",
       "      <td>11.026860</td>\n",
       "      <td>36</td>\n",
       "      <td>1</td>\n",
       "      <td>0</td>\n",
       "      <td>F</td>\n",
       "      <td>сотрудник</td>\n",
       "      <td>0</td>\n",
       "      <td>112080</td>\n",
       "      <td>приобретение автомобиля</td>\n",
       "      <td>C</td>\n",
       "      <td>операции с автомобилем</td>\n",
       "    </tr>\n",
       "    <tr>\n",
       "      <td>2</td>\n",
       "      <td>0</td>\n",
       "      <td>15.406637</td>\n",
       "      <td>33</td>\n",
       "      <td>1</td>\n",
       "      <td>0</td>\n",
       "      <td>M</td>\n",
       "      <td>сотрудник</td>\n",
       "      <td>0</td>\n",
       "      <td>145885</td>\n",
       "      <td>покупка жилья</td>\n",
       "      <td>C</td>\n",
       "      <td>операции с недвижимостью</td>\n",
       "    </tr>\n",
       "    <tr>\n",
       "      <td>3</td>\n",
       "      <td>3</td>\n",
       "      <td>11.300677</td>\n",
       "      <td>32</td>\n",
       "      <td>1</td>\n",
       "      <td>0</td>\n",
       "      <td>M</td>\n",
       "      <td>сотрудник</td>\n",
       "      <td>0</td>\n",
       "      <td>267628</td>\n",
       "      <td>дополнительное образование</td>\n",
       "      <td>B</td>\n",
       "      <td>получение образования</td>\n",
       "    </tr>\n",
       "    <tr>\n",
       "      <td>4</td>\n",
       "      <td>0</td>\n",
       "      <td>38.843159</td>\n",
       "      <td>53</td>\n",
       "      <td>1</td>\n",
       "      <td>1</td>\n",
       "      <td>F</td>\n",
       "      <td>пенсионер</td>\n",
       "      <td>0</td>\n",
       "      <td>158616</td>\n",
       "      <td>сыграть свадьбу</td>\n",
       "      <td>C</td>\n",
       "      <td>проведение свадьбы</td>\n",
       "    </tr>\n",
       "  </tbody>\n",
       "</table>\n",
       "</div>"
      ],
      "text/plain": [
       "   children  years_employed  dob_years  education_id  family_status_id gender  \\\n",
       "0         1       23.116912         42             0                 0      F   \n",
       "1         1       11.026860         36             1                 0      F   \n",
       "2         0       15.406637         33             1                 0      M   \n",
       "3         3       11.300677         32             1                 0      M   \n",
       "4         0       38.843159         53             1                 1      F   \n",
       "\n",
       "  income_type  debt  total_income                     purpose  \\\n",
       "0   сотрудник     0        253875               покупка жилья   \n",
       "1   сотрудник     0        112080     приобретение автомобиля   \n",
       "2   сотрудник     0        145885               покупка жилья   \n",
       "3   сотрудник     0        267628  дополнительное образование   \n",
       "4   пенсионер     0        158616             сыграть свадьбу   \n",
       "\n",
       "  total_income_category          purpose_category  \n",
       "0                     B  операции с недвижимостью  \n",
       "1                     C    операции с автомобилем  \n",
       "2                     C  операции с недвижимостью  \n",
       "3                     B     получение образования  \n",
       "4                     C        проведение свадьбы  "
      ]
     },
     "execution_count": 70,
     "metadata": {},
     "output_type": "execute_result"
    }
   ],
   "source": [
    "# вывод первых пяти строк датафрейма\n",
    "df.head()"
   ]
  },
  {
   "cell_type": "markdown",
   "id": "cd973329",
   "metadata": {},
   "source": [
    "<div style=\"border:solid blue 2px; padding: 20px\">\n",
    "\n",
    "**Выводы**\n",
    "    \n",
    "Итого, \n",
    " * все цели кредита разделены на 4 категории - написана функция, присвающая каждому значению категорию\n",
    " * создан дополнительный столбец, в который помещено значение категории целей кредита\n"
   ]
  },
  {
   "cell_type": "markdown",
   "id": "64cb8b10",
   "metadata": {},
   "source": [
    "<div style=\"border:solid blue 2px; padding: 20px\">\n",
    "\n",
    "**Выводы по предобработке**\n",
    "\n",
    "В ходе предобработки данных устранены следующие недочёты\n",
    "\n",
    " * заполнены пропуска для значений трудового стажа и ежемесячного дохода\n",
    " * тип данных для дохода изменён на целочисленный\n",
    " * удалены строки с аномальными значениями количества детей (-1 и 20)\n",
    " * выявлена проблема с нулевым возрастом и с некорректным полом\n",
    " * стаж переведён из дней и часов в года\n",
    " * удалены явные дубликаты\n",
    " * обработаны неявные дубликаты в слобце с образованием\n",
    " * категоризирован доход\n",
    " * категоризированы цели\n",
    " * составлены словари для образования и семейного положения, поскольку для них уже есть идентификаторы. Лишние столбцы удалены\n"
   ]
  },
  {
   "cell_type": "markdown",
   "id": "f5990c36",
   "metadata": {},
   "source": [
    "### Ответы на вопросы."
   ]
  },
  {
   "cell_type": "markdown",
   "id": "6ac51d97",
   "metadata": {},
   "source": [
    "##### Вопрос 1:"
   ]
  },
  {
   "cell_type": "markdown",
   "id": "e4fe28a4",
   "metadata": {},
   "source": [
    "**Есть ли зависимость между количеством детей и возвратом кредита в срок?**\n"
   ]
  },
  {
   "cell_type": "markdown",
   "id": "5cf53747",
   "metadata": {},
   "source": [
    "Посмотрим, исходя из каких данных мы можем сделать выводы - сколько у нас представителей каждой группы по столбцу children"
   ]
  },
  {
   "cell_type": "code",
   "execution_count": 71,
   "id": "eb5b4cbb",
   "metadata": {},
   "outputs": [
    {
     "data": {
      "text/plain": [
       "0    14107\n",
       "1     4809\n",
       "2     2052\n",
       "3      330\n",
       "4       41\n",
       "5        9\n",
       "Name: children, dtype: int64"
      ]
     },
     "execution_count": 71,
     "metadata": {},
     "output_type": "execute_result"
    }
   ],
   "source": [
    "# просмотр количества значений каждой категории столбца children\n",
    "df['children'].value_counts()"
   ]
  },
  {
   "cell_type": "markdown",
   "id": "dbb5763a",
   "metadata": {},
   "source": [
    "Сделаем сводную таблицу, в которой посмотрим, как часто клиенты с разным количеством детей имеют просрочки"
   ]
  },
  {
   "cell_type": "markdown",
   "id": "6d292f35",
   "metadata": {},
   "source": [
    "Применим функцию mean() поскольку в каждой группе с кол-вом детей разное количество людей. "
   ]
  },
  {
   "cell_type": "code",
   "execution_count": 72,
   "id": "7a996393",
   "metadata": {},
   "outputs": [],
   "source": [
    "# создание сводной таблицы для столбцов children и debt\n",
    "df_children_pivot = df.pivot_table(index='children', values='debt', aggfunc='mean')"
   ]
  },
  {
   "cell_type": "code",
   "execution_count": 73,
   "id": "efd980c5",
   "metadata": {},
   "outputs": [
    {
     "data": {
      "text/html": [
       "<div>\n",
       "<style scoped>\n",
       "    .dataframe tbody tr th:only-of-type {\n",
       "        vertical-align: middle;\n",
       "    }\n",
       "\n",
       "    .dataframe tbody tr th {\n",
       "        vertical-align: top;\n",
       "    }\n",
       "\n",
       "    .dataframe thead th {\n",
       "        text-align: right;\n",
       "    }\n",
       "</style>\n",
       "<table border=\"1\" class=\"dataframe\">\n",
       "  <thead>\n",
       "    <tr style=\"text-align: right;\">\n",
       "      <th></th>\n",
       "      <th>debt</th>\n",
       "    </tr>\n",
       "    <tr>\n",
       "      <th>children</th>\n",
       "      <th></th>\n",
       "    </tr>\n",
       "  </thead>\n",
       "  <tbody>\n",
       "    <tr>\n",
       "      <td>0</td>\n",
       "      <td>0.075353</td>\n",
       "    </tr>\n",
       "    <tr>\n",
       "      <td>1</td>\n",
       "      <td>0.092327</td>\n",
       "    </tr>\n",
       "    <tr>\n",
       "      <td>2</td>\n",
       "      <td>0.094542</td>\n",
       "    </tr>\n",
       "    <tr>\n",
       "      <td>3</td>\n",
       "      <td>0.081818</td>\n",
       "    </tr>\n",
       "    <tr>\n",
       "      <td>4</td>\n",
       "      <td>0.097561</td>\n",
       "    </tr>\n",
       "    <tr>\n",
       "      <td>5</td>\n",
       "      <td>0.000000</td>\n",
       "    </tr>\n",
       "  </tbody>\n",
       "</table>\n",
       "</div>"
      ],
      "text/plain": [
       "              debt\n",
       "children          \n",
       "0         0.075353\n",
       "1         0.092327\n",
       "2         0.094542\n",
       "3         0.081818\n",
       "4         0.097561\n",
       "5         0.000000"
      ]
     },
     "execution_count": 73,
     "metadata": {},
     "output_type": "execute_result"
    }
   ],
   "source": [
    "# вывод сводной таблицы\n",
    "df_children_pivot"
   ]
  },
  {
   "cell_type": "markdown",
   "id": "a0cf1e60",
   "metadata": {},
   "source": [
    "Визуализируем получившейся результат"
   ]
  },
  {
   "cell_type": "code",
   "execution_count": 75,
   "id": "7118acf3",
   "metadata": {},
   "outputs": [],
   "source": [
    "# импортируем библиотеку seaborn\n",
    "import seaborn as sns"
   ]
  },
  {
   "cell_type": "code",
   "execution_count": 77,
   "id": "456fdc0f",
   "metadata": {},
   "outputs": [
    {
     "data": {
      "text/plain": [
       "<matplotlib.axes._subplots.AxesSubplot at 0x7f4b7fcccb90>"
      ]
     },
     "execution_count": 77,
     "metadata": {},
     "output_type": "execute_result"
    },
    {
     "data": {
      "image/png": "[encoded data removed]",
      "text/plain": [
       "<Figure size 432x288 with 1 Axes>"
      ]
     },
     "metadata": {
      "needs_background": "light"
     },
     "output_type": "display_data"
    }
   ],
   "source": [
    "# построим столбчатую диаграмму, на которой по горизонтали отложены значения количества детей в семье, \n",
    "# а по вертикали значение просрочки в среднем\n",
    "sns.barplot(x=df_children_pivot.index, y=df_children_pivot['debt'])"
   ]
  },
  {
   "cell_type": "markdown",
   "id": "e872a4a1",
   "metadata": {},
   "source": [
    "##### Вывод 1:"
   ]
  },
  {
   "cell_type": "markdown",
   "id": "bd1f0be0",
   "metadata": {},
   "source": [
    "Мы видим, что совсем нет просрочек у тех, у кого 5 детей. Однако, представителей этой группы совсем мало, поэтому на их основании нельзя точно сделать вывод о корреляции. Но можно отместить, что клиенты не имеющие детей в среднем немного реже не выплачивают кредит в срок, в отличие от клиентов, имеющих детей. Это объясняется тем, что у них пропадает часть расходов на обеспечения ребёнка"
   ]
  },
  {
   "cell_type": "markdown",
   "id": "68e768cc",
   "metadata": {},
   "source": [
    "##### Вопрос 2:"
   ]
  },
  {
   "cell_type": "markdown",
   "id": "8479e5c7",
   "metadata": {},
   "source": [
    "**Есть ли зависимость между семейным положением и возвратом кредита в срок?**"
   ]
  },
  {
   "cell_type": "markdown",
   "id": "3eb686a9",
   "metadata": {},
   "source": [
    "Посмотрим, исходя из каких данных мы можем сделать выводы - сколько у нас представителей каждой группы по столбцу family_status_id"
   ]
  },
  {
   "cell_type": "code",
   "execution_count": 79,
   "id": "f2d9e936",
   "metadata": {},
   "outputs": [
    {
     "data": {
      "text/plain": [
       "0    12266\n",
       "1     4146\n",
       "4     2796\n",
       "3     1189\n",
       "2      951\n",
       "Name: family_status_id, dtype: int64"
      ]
     },
     "execution_count": 79,
     "metadata": {},
     "output_type": "execute_result"
    }
   ],
   "source": [
    "# просмотр количества значений каждой категории столбца family_status_id\n",
    "df['family_status_id'].value_counts()"
   ]
  },
  {
   "cell_type": "code",
   "execution_count": 80,
   "id": "d77b670a",
   "metadata": {},
   "outputs": [],
   "source": [
    "# создание сводной таблицы для столбцов family_status_id и debt\n",
    "df_family_status_pivot = df.pivot_table(index='family_status_id', values='debt', aggfunc='mean')"
   ]
  },
  {
   "cell_type": "code",
   "execution_count": 81,
   "id": "25ea9304",
   "metadata": {},
   "outputs": [
    {
     "data": {
      "text/html": [
       "<div>\n",
       "<style scoped>\n",
       "    .dataframe tbody tr th:only-of-type {\n",
       "        vertical-align: middle;\n",
       "    }\n",
       "\n",
       "    .dataframe tbody tr th {\n",
       "        vertical-align: top;\n",
       "    }\n",
       "\n",
       "    .dataframe thead th {\n",
       "        text-align: right;\n",
       "    }\n",
       "</style>\n",
       "<table border=\"1\" class=\"dataframe\">\n",
       "  <thead>\n",
       "    <tr style=\"text-align: right;\">\n",
       "      <th></th>\n",
       "      <th>debt</th>\n",
       "    </tr>\n",
       "    <tr>\n",
       "      <th>family_status_id</th>\n",
       "      <th></th>\n",
       "    </tr>\n",
       "  </thead>\n",
       "  <tbody>\n",
       "    <tr>\n",
       "      <td>0</td>\n",
       "      <td>0.075575</td>\n",
       "    </tr>\n",
       "    <tr>\n",
       "      <td>1</td>\n",
       "      <td>0.092861</td>\n",
       "    </tr>\n",
       "    <tr>\n",
       "      <td>2</td>\n",
       "      <td>0.066246</td>\n",
       "    </tr>\n",
       "    <tr>\n",
       "      <td>3</td>\n",
       "      <td>0.070648</td>\n",
       "    </tr>\n",
       "    <tr>\n",
       "      <td>4</td>\n",
       "      <td>0.097639</td>\n",
       "    </tr>\n",
       "  </tbody>\n",
       "</table>\n",
       "</div>"
      ],
      "text/plain": [
       "                      debt\n",
       "family_status_id          \n",
       "0                 0.075575\n",
       "1                 0.092861\n",
       "2                 0.066246\n",
       "3                 0.070648\n",
       "4                 0.097639"
      ]
     },
     "execution_count": 81,
     "metadata": {},
     "output_type": "execute_result"
    }
   ],
   "source": [
    "# вывод сводной таблицы\n",
    "df_family_status_pivot"
   ]
  },
  {
   "cell_type": "code",
   "execution_count": 82,
   "id": "fc7fa59c",
   "metadata": {},
   "outputs": [
    {
     "data": {
      "text/plain": [
       "<matplotlib.axes._subplots.AxesSubplot at 0x7f4b7f5e9910>"
      ]
     },
     "execution_count": 82,
     "metadata": {},
     "output_type": "execute_result"
    },
    {
     "data": {
      "image/png": "[encoded data removed]",
      "text/plain": [
       "<Figure size 432x288 with 1 Axes>"
      ]
     },
     "metadata": {
      "needs_background": "light"
     },
     "output_type": "display_data"
    }
   ],
   "source": [
    "# построим столбчатую диаграмму, на которой по горизонтали отложены значения семейного положения\n",
    "# а по вертикали значение просрочки в среднем\n",
    "sns.barplot(x=[\"женат/замужем\", \"гр.брак\", \"вдовец(а)\", \"развод\", \"не женат/не замужем\"], y=df_family_status_pivot['debt'])"
   ]
  },
  {
   "cell_type": "markdown",
   "id": "9836fd64",
   "metadata": {},
   "source": [
    "##### Вывод 2:"
   ]
  },
  {
   "cell_type": "markdown",
   "id": "cc09ae73",
   "metadata": {},
   "source": [
    "Явной корреляции опять же не наблюдается, но мы можем видеть, что клиенты не женатые/не находящиеся замужем, а также те, кто состоит в гражданском браке, в среднем чуть чаще остальных не выплачивают кредит в срок. Возможно, это связно с возрастом и с количеством амбиций."
   ]
  },
  {
   "cell_type": "markdown",
   "id": "bb5bb753",
   "metadata": {},
   "source": [
    "##### Вопрос 3:"
   ]
  },
  {
   "cell_type": "markdown",
   "id": "fb435593",
   "metadata": {},
   "source": [
    "**Есть ли зависимость между уровнем дохода и возвратом кредита в срок?**"
   ]
  },
  {
   "cell_type": "code",
   "execution_count": 83,
   "id": "58880722",
   "metadata": {},
   "outputs": [
    {
     "data": {
      "text/plain": [
       "C    15939\n",
       "B     5013\n",
       "D      349\n",
       "A       25\n",
       "E       22\n",
       "Name: total_income_category, dtype: int64"
      ]
     },
     "execution_count": 83,
     "metadata": {},
     "output_type": "execute_result"
    }
   ],
   "source": [
    "# просмотр количества значений каждой категории столбца total_income_category\n",
    "df['total_income_category'].value_counts()"
   ]
  },
  {
   "cell_type": "code",
   "execution_count": 84,
   "id": "161a322c",
   "metadata": {},
   "outputs": [],
   "source": [
    "# создание сводной таблицы для столбцов total_income_category и debt\n",
    "df_total_income_pivot = df.pivot_table(index='total_income_category', values='debt', aggfunc='mean')"
   ]
  },
  {
   "cell_type": "code",
   "execution_count": 85,
   "id": "2951c7d0",
   "metadata": {},
   "outputs": [
    {
     "data": {
      "text/html": [
       "<div>\n",
       "<style scoped>\n",
       "    .dataframe tbody tr th:only-of-type {\n",
       "        vertical-align: middle;\n",
       "    }\n",
       "\n",
       "    .dataframe tbody tr th {\n",
       "        vertical-align: top;\n",
       "    }\n",
       "\n",
       "    .dataframe thead th {\n",
       "        text-align: right;\n",
       "    }\n",
       "</style>\n",
       "<table border=\"1\" class=\"dataframe\">\n",
       "  <thead>\n",
       "    <tr style=\"text-align: right;\">\n",
       "      <th></th>\n",
       "      <th>debt</th>\n",
       "    </tr>\n",
       "    <tr>\n",
       "      <th>total_income_category</th>\n",
       "      <th></th>\n",
       "    </tr>\n",
       "  </thead>\n",
       "  <tbody>\n",
       "    <tr>\n",
       "      <td>A</td>\n",
       "      <td>0.080000</td>\n",
       "    </tr>\n",
       "    <tr>\n",
       "      <td>B</td>\n",
       "      <td>0.070616</td>\n",
       "    </tr>\n",
       "    <tr>\n",
       "      <td>C</td>\n",
       "      <td>0.084886</td>\n",
       "    </tr>\n",
       "    <tr>\n",
       "      <td>D</td>\n",
       "      <td>0.060172</td>\n",
       "    </tr>\n",
       "    <tr>\n",
       "      <td>E</td>\n",
       "      <td>0.090909</td>\n",
       "    </tr>\n",
       "  </tbody>\n",
       "</table>\n",
       "</div>"
      ],
      "text/plain": [
       "                           debt\n",
       "total_income_category          \n",
       "A                      0.080000\n",
       "B                      0.070616\n",
       "C                      0.084886\n",
       "D                      0.060172\n",
       "E                      0.090909"
      ]
     },
     "execution_count": 85,
     "metadata": {},
     "output_type": "execute_result"
    }
   ],
   "source": [
    "# вывод сводной таблицы\n",
    "df_total_income_pivot"
   ]
  },
  {
   "cell_type": "code",
   "execution_count": 86,
   "id": "19e1cc04",
   "metadata": {},
   "outputs": [
    {
     "data": {
      "text/plain": [
       "<matplotlib.axes._subplots.AxesSubplot at 0x7f4b7f51a9d0>"
      ]
     },
     "execution_count": 86,
     "metadata": {},
     "output_type": "execute_result"
    },
    {
     "data": {
      "image/png": "[encoded data removed]",
      "text/plain": [
       "<Figure size 432x288 with 1 Axes>"
      ]
     },
     "metadata": {
      "needs_background": "light"
     },
     "output_type": "display_data"
    }
   ],
   "source": [
    "# построим столбчатую диаграмму, на которой по горизонтали отложены значения категории дохода\n",
    "# а по вертикали значение просрочки в среднем\n",
    "sns.barplot(x=['A', 'B', 'C', 'D', 'E'], y=df_family_status_pivot['debt'])"
   ]
  },
  {
   "cell_type": "markdown",
   "id": "ad4bc358",
   "metadata": {},
   "source": [
    "##### Вывод 3:"
   ]
  },
  {
   "cell_type": "markdown",
   "id": "c287a68d",
   "metadata": {},
   "source": [
    "Мы видим, что клиенты, относящиеся к категории E т.е. имеющие доход не больше 30000 чаще остальных имеют просрочки по кредиту. Это можно объяснить тем, что представители данной категории не всегда зарабатывают достаточно средств, чтобы погасить кредит вовремя. Однако опять же, у нас не так много представителей данной категории, поэтому не стоит делать далеко идущие выводы"
   ]
  },
  {
   "cell_type": "markdown",
   "id": "5a5af1dc",
   "metadata": {},
   "source": [
    "##### Вопрос 4:"
   ]
  },
  {
   "cell_type": "markdown",
   "id": "1771ccd0",
   "metadata": {},
   "source": [
    "**Как разные цели кредита влияют на его возврат в срок?**"
   ]
  },
  {
   "cell_type": "code",
   "execution_count": 87,
   "id": "8d965531",
   "metadata": {},
   "outputs": [
    {
     "data": {
      "text/plain": [
       "операции с недвижимостью    10754\n",
       "операции с автомобилем       4281\n",
       "получение образования        3989\n",
       "проведение свадьбы           2324\n",
       "Name: purpose_category, dtype: int64"
      ]
     },
     "execution_count": 87,
     "metadata": {},
     "output_type": "execute_result"
    }
   ],
   "source": [
    "# просмотр количества значений каждой категории столбца purpose_category\n",
    "df['purpose_category'].value_counts()"
   ]
  },
  {
   "cell_type": "code",
   "execution_count": 88,
   "id": "bfce1e81",
   "metadata": {},
   "outputs": [],
   "source": [
    "# создание сводной таблицы для столбцов purpose_category и debt\n",
    "df_purpose_pivot = df.pivot_table(index='purpose_category', values='debt', aggfunc='mean')"
   ]
  },
  {
   "cell_type": "code",
   "execution_count": 89,
   "id": "cd85533d",
   "metadata": {
    "scrolled": true
   },
   "outputs": [
    {
     "data": {
      "text/html": [
       "<div>\n",
       "<style scoped>\n",
       "    .dataframe tbody tr th:only-of-type {\n",
       "        vertical-align: middle;\n",
       "    }\n",
       "\n",
       "    .dataframe tbody tr th {\n",
       "        vertical-align: top;\n",
       "    }\n",
       "\n",
       "    .dataframe thead th {\n",
       "        text-align: right;\n",
       "    }\n",
       "</style>\n",
       "<table border=\"1\" class=\"dataframe\">\n",
       "  <thead>\n",
       "    <tr style=\"text-align: right;\">\n",
       "      <th></th>\n",
       "      <th>debt</th>\n",
       "    </tr>\n",
       "    <tr>\n",
       "      <th>purpose_category</th>\n",
       "      <th></th>\n",
       "    </tr>\n",
       "  </thead>\n",
       "  <tbody>\n",
       "    <tr>\n",
       "      <td>операции с автомобилем</td>\n",
       "      <td>0.093436</td>\n",
       "    </tr>\n",
       "    <tr>\n",
       "      <td>операции с недвижимостью</td>\n",
       "      <td>0.072531</td>\n",
       "    </tr>\n",
       "    <tr>\n",
       "      <td>получение образования</td>\n",
       "      <td>0.092504</td>\n",
       "    </tr>\n",
       "    <tr>\n",
       "      <td>проведение свадьбы</td>\n",
       "      <td>0.078744</td>\n",
       "    </tr>\n",
       "  </tbody>\n",
       "</table>\n",
       "</div>"
      ],
      "text/plain": [
       "                              debt\n",
       "purpose_category                  \n",
       "операции с автомобилем    0.093436\n",
       "операции с недвижимостью  0.072531\n",
       "получение образования     0.092504\n",
       "проведение свадьбы        0.078744"
      ]
     },
     "execution_count": 89,
     "metadata": {},
     "output_type": "execute_result"
    }
   ],
   "source": [
    "# вывод сводной таблицы\n",
    "df_purpose_pivot"
   ]
  },
  {
   "cell_type": "code",
   "execution_count": 90,
   "id": "75df8297",
   "metadata": {},
   "outputs": [
    {
     "data": {
      "text/plain": [
       "<matplotlib.axes._subplots.AxesSubplot at 0x7f4b7f4a2210>"
      ]
     },
     "execution_count": 90,
     "metadata": {},
     "output_type": "execute_result"
    },
    {
     "data": {
      "image/png": "[encoded data removed]",
      "text/plain": [
       "<Figure size 432x288 with 1 Axes>"
      ]
     },
     "metadata": {
      "needs_background": "light"
     },
     "output_type": "display_data"
    }
   ],
   "source": [
    "# построим столбчатую диаграмму, на которой по горизонтали отложены значения категории цели кредита\n",
    "# а по вертикали значение просрочки в среднем\n",
    "sns.barplot(x=['автомобиль', 'недвижимость', 'образование', 'свадьба'], y=df_purpose_pivot['debt'])"
   ]
  },
  {
   "cell_type": "markdown",
   "id": "98830dc0",
   "metadata": {},
   "source": [
    "##### Вывод 3:\n",
    "В среднем, результаты по разным категориям целей примерно одинаковые. После покупки автомобиля люди начинают меньше денег и времени тратить на дорогу, поэтому им легче закрыть кредит, после покупки недвижимости не приходится тратить деньги на съём квартиры, после получения образования клиенты могут найти новую работу, а после свадьбы могут выплачивать кредит уже вдвоём. Поэтому, в целом, разные цели кредита не так сильно влияют на факт его погашения в срок."
   ]
  },
  {
   "cell_type": "markdown",
   "id": "afaf050e",
   "metadata": {},
   "source": [
    "## Общий вывод:"
   ]
  },
  {
   "cell_type": "markdown",
   "id": "65e33430",
   "metadata": {},
   "source": [
    "В результате проверки гипотез было уставлено, что\n",
    " * клиенты не имеющие детей чаще выплачивают кредит в срок\n",
    " * клиенты с доходом не превышающем 30 тысяч реже выплачивают кредит в срок\n",
    " * явной корреляции между целями кредита и фактом его возврата в срок не найдено\n",
    " * как и явной корреляции между семейным положением и фактом возврата кредита в срок\n",
    " \n",
    "Можно было бы сделать более значимые выводы, если бы было больше данных по разным категориям. \n",
    "Но уже из полученных результатов видно, что какие-то закономерности найти удаётся. \n",
    "\n",
    "Датасет предобработан - основные ошибки, такие как\n",
    " * наличие пропусков\n",
    " * наличие выбросов\n",
    " * неудобные типы данных\n",
    " * дубликаты\n",
    " * некатегоризированные данные\n",
    " \n",
    " \n",
    "устранены,\n",
    "поэтому датасет может быть использован для решения задачи кредитного скоринга"
   ]
  }
 ],
 "metadata": {
  "ExecuteTimeLog": [
   {
    "duration": 549,
    "start_time": "2022-02-05T11:47:23.704Z"
   },
   {
    "duration": 48,
    "start_time": "2022-02-05T11:47:50.059Z"
   },
   {
    "duration": 738,
    "start_time": "2022-02-06T05:24:29.983Z"
   },
   {
    "duration": 64,
    "start_time": "2022-02-06T05:24:30.724Z"
   },
   {
    "duration": 28,
    "start_time": "2022-02-06T05:25:52.123Z"
   },
   {
    "duration": 18,
    "start_time": "2022-02-06T05:27:44.307Z"
   },
   {
    "duration": 15,
    "start_time": "2022-02-06T05:28:56.306Z"
   },
   {
    "duration": 13,
    "start_time": "2022-02-06T07:44:16.055Z"
   },
   {
    "duration": 26,
    "start_time": "2022-02-06T07:57:33.450Z"
   },
   {
    "duration": 13,
    "start_time": "2022-02-06T07:57:47.300Z"
   },
   {
    "duration": 17,
    "start_time": "2022-02-06T08:53:48.689Z"
   },
   {
    "duration": 446,
    "start_time": "2022-02-06T08:59:29.786Z"
   },
   {
    "duration": 44,
    "start_time": "2022-02-06T08:59:36.916Z"
   },
   {
    "duration": 33,
    "start_time": "2022-02-06T09:05:28.870Z"
   },
   {
    "duration": 19,
    "start_time": "2022-02-06T09:07:45.576Z"
   },
   {
    "duration": 34,
    "start_time": "2022-02-06T09:08:11.298Z"
   },
   {
    "duration": 323,
    "start_time": "2022-02-06T09:11:09.755Z"
   },
   {
    "duration": 8720,
    "start_time": "2022-02-06T09:26:54.412Z"
   },
   {
    "duration": 13,
    "start_time": "2022-02-06T09:30:41.886Z"
   },
   {
    "duration": 13,
    "start_time": "2022-02-06T09:31:23.742Z"
   },
   {
    "duration": 38,
    "start_time": "2022-02-06T09:33:29.232Z"
   },
   {
    "duration": 1379,
    "start_time": "2022-02-06T09:40:37.265Z"
   },
   {
    "duration": 12,
    "start_time": "2022-02-06T09:40:49.856Z"
   },
   {
    "duration": 37,
    "start_time": "2022-02-06T09:42:04.915Z"
   },
   {
    "duration": 12,
    "start_time": "2022-02-06T09:55:50.692Z"
   },
   {
    "duration": 10,
    "start_time": "2022-02-06T09:56:28.679Z"
   },
   {
    "duration": 370,
    "start_time": "2022-02-06T09:57:11.245Z"
   },
   {
    "duration": 10,
    "start_time": "2022-02-06T09:57:21.554Z"
   },
   {
    "duration": 496,
    "start_time": "2022-02-06T10:01:32.953Z"
   },
   {
    "duration": 6,
    "start_time": "2022-02-06T10:19:53.490Z"
   },
   {
    "duration": 6,
    "start_time": "2022-02-06T10:20:57.934Z"
   },
   {
    "duration": 2,
    "start_time": "2022-02-06T10:24:28.211Z"
   },
   {
    "duration": 7,
    "start_time": "2022-02-06T10:31:49.381Z"
   },
   {
    "duration": 8,
    "start_time": "2022-02-06T10:32:03.598Z"
   },
   {
    "duration": 6,
    "start_time": "2022-02-06T10:32:37.813Z"
   },
   {
    "duration": 6,
    "start_time": "2022-02-06T10:32:48.255Z"
   },
   {
    "duration": 367,
    "start_time": "2022-02-06T10:35:59.547Z"
   },
   {
    "duration": 362,
    "start_time": "2022-02-06T10:36:51.897Z"
   },
   {
    "duration": 26,
    "start_time": "2022-02-06T10:39:04.365Z"
   },
   {
    "duration": 19,
    "start_time": "2022-02-06T10:40:18.549Z"
   },
   {
    "duration": 8,
    "start_time": "2022-02-06T11:04:31.728Z"
   },
   {
    "duration": 9,
    "start_time": "2022-02-06T11:05:13.884Z"
   },
   {
    "duration": 5,
    "start_time": "2022-02-06T11:05:27.704Z"
   },
   {
    "duration": 6931,
    "start_time": "2022-02-06T11:10:52.393Z"
   },
   {
    "duration": 19,
    "start_time": "2022-02-06T11:11:18.355Z"
   },
   {
    "duration": 126,
    "start_time": "2022-02-06T11:14:23.172Z"
   },
   {
    "duration": 336,
    "start_time": "2022-02-06T11:14:31.295Z"
   },
   {
    "duration": 14,
    "start_time": "2022-02-06T11:19:40.732Z"
   },
   {
    "duration": 116,
    "start_time": "2022-02-06T11:21:26.075Z"
   },
   {
    "duration": 4,
    "start_time": "2022-02-06T14:47:47.911Z"
   },
   {
    "duration": 6,
    "start_time": "2022-02-06T14:47:56.624Z"
   },
   {
    "duration": 8,
    "start_time": "2022-02-06T14:48:16.501Z"
   },
   {
    "duration": 5,
    "start_time": "2022-02-06T14:50:14.494Z"
   },
   {
    "duration": 5,
    "start_time": "2022-02-06T14:50:51.201Z"
   },
   {
    "duration": 6,
    "start_time": "2022-02-06T14:51:31.573Z"
   },
   {
    "duration": 211,
    "start_time": "2022-02-06T15:06:00.991Z"
   },
   {
    "duration": 20,
    "start_time": "2022-02-06T15:06:18.773Z"
   },
   {
    "duration": 13,
    "start_time": "2022-02-06T15:09:01.282Z"
   },
   {
    "duration": 14,
    "start_time": "2022-02-06T15:09:53.512Z"
   },
   {
    "duration": 179,
    "start_time": "2022-02-06T15:10:11.722Z"
   },
   {
    "duration": 6,
    "start_time": "2022-02-06T15:10:59.623Z"
   },
   {
    "duration": 4,
    "start_time": "2022-02-06T15:11:35.971Z"
   },
   {
    "duration": 109,
    "start_time": "2022-02-06T15:11:35.979Z"
   },
   {
    "duration": 29,
    "start_time": "2022-02-06T15:11:36.093Z"
   },
   {
    "duration": 37,
    "start_time": "2022-02-06T15:11:36.125Z"
   },
   {
    "duration": 17,
    "start_time": "2022-02-06T15:11:36.165Z"
   },
   {
    "duration": 8,
    "start_time": "2022-02-06T15:11:36.185Z"
   },
   {
    "duration": 6,
    "start_time": "2022-02-06T15:11:36.196Z"
   },
   {
    "duration": 19,
    "start_time": "2022-02-06T15:11:36.263Z"
   },
   {
    "duration": 17,
    "start_time": "2022-02-06T15:11:36.286Z"
   },
   {
    "duration": 7,
    "start_time": "2022-02-06T15:11:36.305Z"
   },
   {
    "duration": 49,
    "start_time": "2022-02-06T15:11:36.315Z"
   },
   {
    "duration": 4,
    "start_time": "2022-02-06T15:11:36.366Z"
   },
   {
    "duration": 6,
    "start_time": "2022-02-06T15:11:36.372Z"
   },
   {
    "duration": 14,
    "start_time": "2022-02-06T15:11:36.381Z"
   },
   {
    "duration": 96,
    "start_time": "2022-02-06T15:11:36.397Z"
   },
   {
    "duration": 8,
    "start_time": "2022-02-06T15:11:36.497Z"
   },
   {
    "duration": 53,
    "start_time": "2022-02-06T15:11:36.507Z"
   },
   {
    "duration": 56,
    "start_time": "2022-02-06T15:11:36.563Z"
   },
   {
    "duration": 557,
    "start_time": "2022-02-06T15:19:33.661Z"
   },
   {
    "duration": 7,
    "start_time": "2022-02-06T15:19:55.131Z"
   },
   {
    "duration": 9,
    "start_time": "2022-02-06T15:20:22.736Z"
   },
   {
    "duration": 5,
    "start_time": "2022-02-06T15:21:19.586Z"
   },
   {
    "duration": 8,
    "start_time": "2022-02-06T15:22:41.801Z"
   },
   {
    "duration": 23,
    "start_time": "2022-02-06T15:23:02.261Z"
   },
   {
    "duration": 1758,
    "start_time": "2022-02-06T15:27:34.504Z"
   },
   {
    "duration": 15,
    "start_time": "2022-02-06T15:38:12.752Z"
   },
   {
    "duration": 16,
    "start_time": "2022-02-06T15:38:19.741Z"
   },
   {
    "duration": 4,
    "start_time": "2022-02-06T15:39:28.024Z"
   },
   {
    "duration": 64,
    "start_time": "2022-02-06T15:39:28.032Z"
   },
   {
    "duration": 20,
    "start_time": "2022-02-06T15:39:28.099Z"
   },
   {
    "duration": 42,
    "start_time": "2022-02-06T15:39:28.123Z"
   },
   {
    "duration": 18,
    "start_time": "2022-02-06T15:39:28.168Z"
   },
   {
    "duration": 23,
    "start_time": "2022-02-06T15:39:28.189Z"
   },
   {
    "duration": 44,
    "start_time": "2022-02-06T15:39:28.215Z"
   },
   {
    "duration": 7,
    "start_time": "2022-02-06T15:39:28.262Z"
   },
   {
    "duration": 17,
    "start_time": "2022-02-06T15:39:28.273Z"
   },
   {
    "duration": 11,
    "start_time": "2022-02-06T15:39:28.292Z"
   },
   {
    "duration": 58,
    "start_time": "2022-02-06T15:39:28.305Z"
   },
   {
    "duration": 6,
    "start_time": "2022-02-06T15:39:28.366Z"
   },
   {
    "duration": 4,
    "start_time": "2022-02-06T15:39:28.374Z"
   },
   {
    "duration": 6,
    "start_time": "2022-02-06T15:39:28.381Z"
   },
   {
    "duration": 74,
    "start_time": "2022-02-06T15:39:28.390Z"
   },
   {
    "duration": 22,
    "start_time": "2022-02-06T15:39:28.467Z"
   },
   {
    "duration": 87,
    "start_time": "2022-02-06T15:39:28.492Z"
   },
   {
    "duration": 12,
    "start_time": "2022-02-06T15:39:28.582Z"
   },
   {
    "duration": 10,
    "start_time": "2022-02-06T15:39:28.597Z"
   },
   {
    "duration": 81,
    "start_time": "2022-02-06T15:39:28.610Z"
   },
   {
    "duration": 26,
    "start_time": "2022-02-06T15:40:56.950Z"
   },
   {
    "duration": 376,
    "start_time": "2022-02-06T15:45:04.041Z"
   },
   {
    "duration": 7544,
    "start_time": "2022-02-06T15:45:40.994Z"
   },
   {
    "duration": 4,
    "start_time": "2022-02-06T15:47:52.042Z"
   },
   {
    "duration": 64,
    "start_time": "2022-02-06T15:47:52.049Z"
   },
   {
    "duration": 19,
    "start_time": "2022-02-06T15:47:52.116Z"
   },
   {
    "duration": 34,
    "start_time": "2022-02-06T15:47:52.138Z"
   },
   {
    "duration": 12,
    "start_time": "2022-02-06T15:47:52.175Z"
   },
   {
    "duration": 5,
    "start_time": "2022-02-06T15:47:52.189Z"
   },
   {
    "duration": 7,
    "start_time": "2022-02-06T15:47:52.196Z"
   },
   {
    "duration": 73,
    "start_time": "2022-02-06T15:47:52.206Z"
   },
   {
    "duration": 13,
    "start_time": "2022-02-06T15:47:52.283Z"
   },
   {
    "duration": 7216,
    "start_time": "2022-02-06T15:47:56.170Z"
   },
   {
    "duration": 358,
    "start_time": "2022-02-06T16:01:34.683Z"
   },
   {
    "duration": 806,
    "start_time": "2022-02-06T16:01:47.882Z"
   },
   {
    "duration": 29,
    "start_time": "2022-02-06T16:02:28.628Z"
   },
   {
    "duration": 30,
    "start_time": "2022-02-06T16:04:20.606Z"
   },
   {
    "duration": 11,
    "start_time": "2022-02-06T16:16:24.647Z"
   },
   {
    "duration": 364,
    "start_time": "2022-02-06T16:16:51.623Z"
   },
   {
    "duration": 4,
    "start_time": "2022-02-06T16:17:10.785Z"
   },
   {
    "duration": 64,
    "start_time": "2022-02-06T16:17:10.798Z"
   },
   {
    "duration": 22,
    "start_time": "2022-02-06T16:17:10.865Z"
   },
   {
    "duration": 22,
    "start_time": "2022-02-06T16:17:10.891Z"
   },
   {
    "duration": 54,
    "start_time": "2022-02-06T16:17:10.915Z"
   },
   {
    "duration": 30,
    "start_time": "2022-02-06T16:17:10.971Z"
   },
   {
    "duration": 6,
    "start_time": "2022-02-06T16:17:11.004Z"
   },
   {
    "duration": 48,
    "start_time": "2022-02-06T16:17:11.013Z"
   },
   {
    "duration": 18,
    "start_time": "2022-02-06T16:17:11.063Z"
   },
   {
    "duration": 11,
    "start_time": "2022-02-06T16:17:11.084Z"
   },
   {
    "duration": 3,
    "start_time": "2022-02-06T16:17:11.438Z"
   },
   {
    "duration": 9,
    "start_time": "2022-02-06T16:17:11.450Z"
   },
   {
    "duration": 8,
    "start_time": "2022-02-06T16:17:11.462Z"
   },
   {
    "duration": 5,
    "start_time": "2022-02-06T16:17:11.473Z"
   },
   {
    "duration": 7,
    "start_time": "2022-02-06T16:17:11.480Z"
   },
   {
    "duration": 13,
    "start_time": "2022-02-06T16:17:11.490Z"
   },
   {
    "duration": 56,
    "start_time": "2022-02-06T16:17:11.505Z"
   },
   {
    "duration": 3,
    "start_time": "2022-02-06T16:17:11.588Z"
   },
   {
    "duration": 12,
    "start_time": "2022-02-06T16:17:11.593Z"
   },
   {
    "duration": 8,
    "start_time": "2022-02-06T16:17:11.608Z"
   },
   {
    "duration": 64,
    "start_time": "2022-02-06T16:17:11.619Z"
   },
   {
    "duration": 12,
    "start_time": "2022-02-06T16:18:16.057Z"
   },
   {
    "duration": 12,
    "start_time": "2022-02-06T16:18:21.247Z"
   },
   {
    "duration": 11,
    "start_time": "2022-02-06T16:18:49.048Z"
   },
   {
    "duration": 15,
    "start_time": "2022-02-06T16:20:52.450Z"
   },
   {
    "duration": 7,
    "start_time": "2022-02-06T16:22:07.180Z"
   },
   {
    "duration": 7,
    "start_time": "2022-02-06T16:23:44.723Z"
   },
   {
    "duration": 7,
    "start_time": "2022-02-06T16:24:34.248Z"
   },
   {
    "duration": 9,
    "start_time": "2022-02-06T16:24:51.779Z"
   },
   {
    "duration": 7,
    "start_time": "2022-02-06T16:25:29.383Z"
   },
   {
    "duration": 6,
    "start_time": "2022-02-06T16:25:39.879Z"
   },
   {
    "duration": 9,
    "start_time": "2022-02-06T16:26:04.275Z"
   },
   {
    "duration": 8,
    "start_time": "2022-02-06T16:26:34.348Z"
   },
   {
    "duration": 8,
    "start_time": "2022-02-06T16:26:53.691Z"
   },
   {
    "duration": 243,
    "start_time": "2022-02-06T16:34:35.386Z"
   },
   {
    "duration": 48,
    "start_time": "2022-02-06T16:35:57.584Z"
   },
   {
    "duration": 12,
    "start_time": "2022-02-06T16:36:56.340Z"
   },
   {
    "duration": 10,
    "start_time": "2022-02-06T16:37:10.779Z"
   },
   {
    "duration": 233,
    "start_time": "2022-02-06T16:37:49.656Z"
   },
   {
    "duration": 7,
    "start_time": "2022-02-06T16:38:17.782Z"
   },
   {
    "duration": 36,
    "start_time": "2022-02-06T16:42:45.213Z"
   },
   {
    "duration": 10,
    "start_time": "2022-02-06T16:44:11.727Z"
   },
   {
    "duration": 7,
    "start_time": "2022-02-06T16:44:36.302Z"
   },
   {
    "duration": 8,
    "start_time": "2022-02-06T16:57:03.881Z"
   },
   {
    "duration": 7,
    "start_time": "2022-02-06T17:37:53.708Z"
   },
   {
    "duration": 6,
    "start_time": "2022-02-06T17:38:07.054Z"
   },
   {
    "duration": 8,
    "start_time": "2022-02-06T17:38:31.927Z"
   },
   {
    "duration": 7,
    "start_time": "2022-02-06T17:38:52.184Z"
   },
   {
    "duration": 3,
    "start_time": "2022-02-06T17:39:14.350Z"
   },
   {
    "duration": 61,
    "start_time": "2022-02-06T17:39:14.356Z"
   },
   {
    "duration": 18,
    "start_time": "2022-02-06T17:39:14.420Z"
   },
   {
    "duration": 32,
    "start_time": "2022-02-06T17:39:14.441Z"
   },
   {
    "duration": 12,
    "start_time": "2022-02-06T17:39:14.475Z"
   },
   {
    "duration": 71,
    "start_time": "2022-02-06T17:39:14.490Z"
   },
   {
    "duration": 6,
    "start_time": "2022-02-06T17:39:14.564Z"
   },
   {
    "duration": 7,
    "start_time": "2022-02-06T17:39:14.573Z"
   },
   {
    "duration": 19,
    "start_time": "2022-02-06T17:39:14.586Z"
   },
   {
    "duration": 61,
    "start_time": "2022-02-06T17:39:14.609Z"
   },
   {
    "duration": 4,
    "start_time": "2022-02-06T17:39:14.673Z"
   },
   {
    "duration": 10,
    "start_time": "2022-02-06T17:39:14.680Z"
   },
   {
    "duration": 6,
    "start_time": "2022-02-06T17:39:14.693Z"
   },
   {
    "duration": 60,
    "start_time": "2022-02-06T17:39:14.701Z"
   },
   {
    "duration": 8,
    "start_time": "2022-02-06T17:39:14.764Z"
   },
   {
    "duration": 14,
    "start_time": "2022-02-06T17:39:14.774Z"
   },
   {
    "duration": 3,
    "start_time": "2022-02-06T17:39:14.790Z"
   },
   {
    "duration": 68,
    "start_time": "2022-02-06T17:39:14.795Z"
   },
   {
    "duration": 11,
    "start_time": "2022-02-06T17:39:14.865Z"
   },
   {
    "duration": 5,
    "start_time": "2022-02-06T17:39:14.878Z"
   },
   {
    "duration": 8,
    "start_time": "2022-02-06T17:39:14.885Z"
   },
   {
    "duration": 8,
    "start_time": "2022-02-06T17:39:14.895Z"
   },
   {
    "duration": 63,
    "start_time": "2022-02-06T17:39:14.905Z"
   },
   {
    "duration": 7,
    "start_time": "2022-02-06T17:39:20.888Z"
   },
   {
    "duration": 7,
    "start_time": "2022-02-06T17:39:22.047Z"
   },
   {
    "duration": 712,
    "start_time": "2022-02-06T17:40:08.898Z"
   },
   {
    "duration": 9,
    "start_time": "2022-02-06T17:40:38.971Z"
   },
   {
    "duration": 7,
    "start_time": "2022-02-06T17:41:32.006Z"
   },
   {
    "duration": 339,
    "start_time": "2022-02-06T18:27:41.227Z"
   },
   {
    "duration": 8,
    "start_time": "2022-02-06T18:27:46.116Z"
   },
   {
    "duration": 8,
    "start_time": "2022-02-06T18:28:09.739Z"
   },
   {
    "duration": 8,
    "start_time": "2022-02-06T18:28:16.563Z"
   },
   {
    "duration": 11,
    "start_time": "2022-02-06T18:32:14.368Z"
   },
   {
    "duration": 9,
    "start_time": "2022-02-06T18:32:16.784Z"
   },
   {
    "duration": 10,
    "start_time": "2022-02-06T18:32:38.080Z"
   },
   {
    "duration": 8,
    "start_time": "2022-02-06T18:32:40.222Z"
   },
   {
    "duration": 8,
    "start_time": "2022-02-06T18:33:05.588Z"
   },
   {
    "duration": 4,
    "start_time": "2022-02-06T18:41:50.722Z"
   },
   {
    "duration": 57,
    "start_time": "2022-02-06T18:41:50.734Z"
   },
   {
    "duration": 20,
    "start_time": "2022-02-06T18:41:50.794Z"
   },
   {
    "duration": 14,
    "start_time": "2022-02-06T18:41:50.817Z"
   },
   {
    "duration": 13,
    "start_time": "2022-02-06T18:41:50.859Z"
   },
   {
    "duration": 34,
    "start_time": "2022-02-06T18:41:50.875Z"
   },
   {
    "duration": 51,
    "start_time": "2022-02-06T18:41:50.912Z"
   },
   {
    "duration": 8,
    "start_time": "2022-02-06T18:41:50.966Z"
   },
   {
    "duration": 23,
    "start_time": "2022-02-06T18:41:50.980Z"
   },
   {
    "duration": 63,
    "start_time": "2022-02-06T18:41:51.006Z"
   },
   {
    "duration": 3,
    "start_time": "2022-02-06T18:41:51.073Z"
   },
   {
    "duration": 8,
    "start_time": "2022-02-06T18:41:51.079Z"
   },
   {
    "duration": 8,
    "start_time": "2022-02-06T18:41:51.089Z"
   },
   {
    "duration": 5,
    "start_time": "2022-02-06T18:41:51.100Z"
   },
   {
    "duration": 58,
    "start_time": "2022-02-06T18:41:51.107Z"
   },
   {
    "duration": 17,
    "start_time": "2022-02-06T18:41:51.168Z"
   },
   {
    "duration": 3,
    "start_time": "2022-02-06T18:41:51.187Z"
   },
   {
    "duration": 14,
    "start_time": "2022-02-06T18:41:51.193Z"
   },
   {
    "duration": 60,
    "start_time": "2022-02-06T18:41:51.209Z"
   },
   {
    "duration": 6,
    "start_time": "2022-02-06T18:41:51.272Z"
   },
   {
    "duration": 8,
    "start_time": "2022-02-06T18:41:51.281Z"
   },
   {
    "duration": 8,
    "start_time": "2022-02-06T18:41:51.291Z"
   },
   {
    "duration": 63,
    "start_time": "2022-02-06T18:41:51.301Z"
   },
   {
    "duration": 7,
    "start_time": "2022-02-06T18:41:51.368Z"
   },
   {
    "duration": 11,
    "start_time": "2022-02-06T18:41:51.377Z"
   },
   {
    "duration": 8,
    "start_time": "2022-02-06T18:41:56.318Z"
   },
   {
    "duration": 6,
    "start_time": "2022-02-06T18:53:15.269Z"
   },
   {
    "duration": 8,
    "start_time": "2022-02-06T18:53:54.913Z"
   },
   {
    "duration": 11,
    "start_time": "2022-02-06T19:08:54.764Z"
   },
   {
    "duration": 11,
    "start_time": "2022-02-06T19:09:42.814Z"
   },
   {
    "duration": 11,
    "start_time": "2022-02-06T19:11:34.679Z"
   },
   {
    "duration": 735,
    "start_time": "2022-02-07T08:18:36.741Z"
   },
   {
    "duration": 60,
    "start_time": "2022-02-07T08:18:37.478Z"
   },
   {
    "duration": 28,
    "start_time": "2022-02-07T08:18:37.541Z"
   },
   {
    "duration": 16,
    "start_time": "2022-02-07T08:18:37.571Z"
   },
   {
    "duration": 11,
    "start_time": "2022-02-07T08:18:37.589Z"
   },
   {
    "duration": 10,
    "start_time": "2022-02-07T08:18:37.633Z"
   },
   {
    "duration": 7,
    "start_time": "2022-02-07T08:18:37.645Z"
   },
   {
    "duration": 6,
    "start_time": "2022-02-07T08:18:37.656Z"
   },
   {
    "duration": 69,
    "start_time": "2022-02-07T08:18:37.665Z"
   },
   {
    "duration": 13,
    "start_time": "2022-02-07T08:18:37.736Z"
   },
   {
    "duration": 2,
    "start_time": "2022-02-07T08:18:37.752Z"
   },
   {
    "duration": 10,
    "start_time": "2022-02-07T08:18:37.757Z"
   },
   {
    "duration": 8,
    "start_time": "2022-02-07T08:18:37.769Z"
   },
   {
    "duration": 53,
    "start_time": "2022-02-07T08:18:37.779Z"
   },
   {
    "duration": 6,
    "start_time": "2022-02-07T08:18:37.834Z"
   },
   {
    "duration": 19,
    "start_time": "2022-02-07T08:18:37.842Z"
   },
   {
    "duration": 3,
    "start_time": "2022-02-07T08:18:37.863Z"
   },
   {
    "duration": 24,
    "start_time": "2022-02-07T08:18:37.868Z"
   },
   {
    "duration": 47,
    "start_time": "2022-02-07T08:18:37.894Z"
   },
   {
    "duration": 5,
    "start_time": "2022-02-07T08:18:37.944Z"
   },
   {
    "duration": 8,
    "start_time": "2022-02-07T08:18:37.951Z"
   },
   {
    "duration": 8,
    "start_time": "2022-02-07T08:18:37.962Z"
   },
   {
    "duration": 58,
    "start_time": "2022-02-07T08:18:37.974Z"
   },
   {
    "duration": 9,
    "start_time": "2022-02-07T08:18:38.035Z"
   },
   {
    "duration": 13,
    "start_time": "2022-02-07T08:18:38.047Z"
   },
   {
    "duration": 8,
    "start_time": "2022-02-07T08:18:38.062Z"
   },
   {
    "duration": 9,
    "start_time": "2022-02-07T08:18:38.073Z"
   },
   {
    "duration": 57,
    "start_time": "2022-02-07T08:18:38.084Z"
   },
   {
    "duration": 8,
    "start_time": "2022-02-07T08:18:38.143Z"
   },
   {
    "duration": 1010,
    "start_time": "2022-02-07T08:27:58.498Z"
   },
   {
    "duration": 243,
    "start_time": "2022-02-07T08:28:10.459Z"
   },
   {
    "duration": 10,
    "start_time": "2022-02-07T08:29:09.034Z"
   },
   {
    "duration": 13,
    "start_time": "2022-02-07T08:29:21.806Z"
   },
   {
    "duration": 9,
    "start_time": "2022-02-07T08:29:32.652Z"
   },
   {
    "duration": 12,
    "start_time": "2022-02-07T08:30:50.642Z"
   },
   {
    "duration": 8,
    "start_time": "2022-02-07T08:31:15.053Z"
   },
   {
    "duration": 10,
    "start_time": "2022-02-07T08:41:06.817Z"
   },
   {
    "duration": 12,
    "start_time": "2022-02-07T08:51:26.383Z"
   },
   {
    "duration": 10,
    "start_time": "2022-02-07T08:51:30.548Z"
   },
   {
    "duration": 238,
    "start_time": "2022-02-07T08:56:39.453Z"
   },
   {
    "duration": 81,
    "start_time": "2022-02-07T08:57:42.197Z"
   },
   {
    "duration": 11,
    "start_time": "2022-02-07T08:57:48.238Z"
   },
   {
    "duration": 9,
    "start_time": "2022-02-07T09:03:08.967Z"
   },
   {
    "duration": 231,
    "start_time": "2022-02-07T09:07:36.662Z"
   },
   {
    "duration": 303,
    "start_time": "2022-02-07T09:07:49.960Z"
   },
   {
    "duration": 199,
    "start_time": "2022-02-07T09:08:54.191Z"
   },
   {
    "duration": 6174,
    "start_time": "2022-02-07T09:09:00.049Z"
   },
   {
    "duration": 84,
    "start_time": "2022-02-07T09:09:26.807Z"
   },
   {
    "duration": 5786,
    "start_time": "2022-02-07T09:09:37.565Z"
   },
   {
    "duration": 8,
    "start_time": "2022-02-07T09:10:58.965Z"
   },
   {
    "duration": 9,
    "start_time": "2022-02-07T09:11:20.755Z"
   },
   {
    "duration": 17,
    "start_time": "2022-02-07T09:11:35.509Z"
   },
   {
    "duration": 20,
    "start_time": "2022-02-07T09:12:09.159Z"
   },
   {
    "duration": 40,
    "start_time": "2022-02-07T09:12:36.583Z"
   },
   {
    "duration": 271,
    "start_time": "2022-02-07T09:13:27.865Z"
   },
   {
    "duration": 269,
    "start_time": "2022-02-07T09:13:41.605Z"
   },
   {
    "duration": 46,
    "start_time": "2022-02-07T09:14:32.576Z"
   },
   {
    "duration": 3,
    "start_time": "2022-02-07T09:17:32.406Z"
   },
   {
    "duration": 344,
    "start_time": "2022-02-07T09:20:47.604Z"
   },
   {
    "duration": 10,
    "start_time": "2022-02-07T09:25:16.453Z"
   },
   {
    "duration": 37,
    "start_time": "2022-02-07T09:25:34.757Z"
   },
   {
    "duration": 10,
    "start_time": "2022-02-07T09:25:45.432Z"
   },
   {
    "duration": 18,
    "start_time": "2022-02-07T09:26:32.828Z"
   },
   {
    "duration": 10,
    "start_time": "2022-02-07T09:26:52.386Z"
   },
   {
    "duration": 9,
    "start_time": "2022-02-07T09:27:23.186Z"
   },
   {
    "duration": 17,
    "start_time": "2022-02-07T09:28:12.159Z"
   },
   {
    "duration": 16,
    "start_time": "2022-02-07T09:29:31.225Z"
   },
   {
    "duration": 21,
    "start_time": "2022-02-07T09:30:17.750Z"
   },
   {
    "duration": 4,
    "start_time": "2022-02-07T09:39:19.360Z"
   },
   {
    "duration": 576,
    "start_time": "2022-02-07T09:44:53.591Z"
   },
   {
    "duration": 4149,
    "start_time": "2022-02-07T09:45:27.910Z"
   },
   {
    "duration": 239,
    "start_time": "2022-02-07T09:50:28.003Z"
   },
   {
    "duration": 263,
    "start_time": "2022-02-07T09:50:37.466Z"
   },
   {
    "duration": 252,
    "start_time": "2022-02-07T09:50:55.798Z"
   },
   {
    "duration": 10,
    "start_time": "2022-02-07T09:56:56.208Z"
   },
   {
    "duration": 7,
    "start_time": "2022-02-07T09:57:11.444Z"
   },
   {
    "duration": 10,
    "start_time": "2022-02-07T09:57:16.617Z"
   },
   {
    "duration": 245,
    "start_time": "2022-02-07T09:57:57.977Z"
   },
   {
    "duration": 82,
    "start_time": "2022-02-07T09:58:28.296Z"
   },
   {
    "duration": 264,
    "start_time": "2022-02-07T09:58:35.424Z"
   },
   {
    "duration": 10,
    "start_time": "2022-02-07T09:58:50.349Z"
   },
   {
    "duration": 229,
    "start_time": "2022-02-07T10:03:14.135Z"
   },
   {
    "duration": 260,
    "start_time": "2022-02-07T10:03:36.021Z"
   },
   {
    "duration": 4,
    "start_time": "2022-02-07T10:11:46.119Z"
   },
   {
    "duration": 577,
    "start_time": "2022-02-07T10:11:49.464Z"
   },
   {
    "duration": 624,
    "start_time": "2022-02-07T10:11:57.132Z"
   },
   {
    "duration": 624,
    "start_time": "2022-02-07T10:12:05.837Z"
   },
   {
    "duration": 604,
    "start_time": "2022-02-07T10:12:21.033Z"
   },
   {
    "duration": 10,
    "start_time": "2022-02-07T10:12:24.237Z"
   },
   {
    "duration": 10,
    "start_time": "2022-02-07T10:13:29.408Z"
   },
   {
    "duration": 4,
    "start_time": "2022-02-07T10:14:45.581Z"
   },
   {
    "duration": 67,
    "start_time": "2022-02-07T10:14:45.591Z"
   },
   {
    "duration": 20,
    "start_time": "2022-02-07T10:14:45.661Z"
   },
   {
    "duration": 49,
    "start_time": "2022-02-07T10:14:45.684Z"
   },
   {
    "duration": 13,
    "start_time": "2022-02-07T10:14:45.736Z"
   },
   {
    "duration": 11,
    "start_time": "2022-02-07T10:14:45.751Z"
   },
   {
    "duration": 6,
    "start_time": "2022-02-07T10:14:45.765Z"
   },
   {
    "duration": 58,
    "start_time": "2022-02-07T10:14:45.774Z"
   },
   {
    "duration": 19,
    "start_time": "2022-02-07T10:14:45.836Z"
   },
   {
    "duration": 11,
    "start_time": "2022-02-07T10:14:45.858Z"
   },
   {
    "duration": 3,
    "start_time": "2022-02-07T10:14:45.871Z"
   },
   {
    "duration": 56,
    "start_time": "2022-02-07T10:14:45.876Z"
   },
   {
    "duration": 6,
    "start_time": "2022-02-07T10:14:45.935Z"
   },
   {
    "duration": 6,
    "start_time": "2022-02-07T10:14:45.943Z"
   },
   {
    "duration": 8,
    "start_time": "2022-02-07T10:14:45.951Z"
   },
   {
    "duration": 17,
    "start_time": "2022-02-07T10:14:45.962Z"
   },
   {
    "duration": 3,
    "start_time": "2022-02-07T10:14:46.033Z"
   },
   {
    "duration": 18,
    "start_time": "2022-02-07T10:14:46.040Z"
   },
   {
    "duration": 10,
    "start_time": "2022-02-07T10:14:46.061Z"
   },
   {
    "duration": 10,
    "start_time": "2022-02-07T10:14:46.074Z"
   },
   {
    "duration": 51,
    "start_time": "2022-02-07T10:14:46.086Z"
   },
   {
    "duration": 14,
    "start_time": "2022-02-07T10:14:46.139Z"
   },
   {
    "duration": 8,
    "start_time": "2022-02-07T10:14:46.156Z"
   },
   {
    "duration": 11,
    "start_time": "2022-02-07T10:14:46.169Z"
   },
   {
    "duration": 54,
    "start_time": "2022-02-07T10:14:46.183Z"
   },
   {
    "duration": 8,
    "start_time": "2022-02-07T10:14:46.239Z"
   },
   {
    "duration": 8,
    "start_time": "2022-02-07T10:14:46.250Z"
   },
   {
    "duration": 12,
    "start_time": "2022-02-07T10:14:46.260Z"
   },
   {
    "duration": 59,
    "start_time": "2022-02-07T10:14:46.274Z"
   },
   {
    "duration": 8,
    "start_time": "2022-02-07T10:14:46.336Z"
   },
   {
    "duration": 11,
    "start_time": "2022-02-07T10:14:46.346Z"
   },
   {
    "duration": 13,
    "start_time": "2022-02-07T10:14:46.359Z"
   },
   {
    "duration": 10,
    "start_time": "2022-02-07T10:14:46.375Z"
   },
   {
    "duration": 45,
    "start_time": "2022-02-07T10:14:46.388Z"
   },
   {
    "duration": 10,
    "start_time": "2022-02-07T10:14:46.436Z"
   },
   {
    "duration": 603,
    "start_time": "2022-02-07T10:14:46.448Z"
   },
   {
    "duration": 9,
    "start_time": "2022-02-07T10:14:47.054Z"
   },
   {
    "duration": 9,
    "start_time": "2022-02-07T10:14:53.742Z"
   },
   {
    "duration": 7,
    "start_time": "2022-02-07T10:39:40.704Z"
   },
   {
    "duration": 6293,
    "start_time": "2022-02-07T10:40:40.438Z"
   },
   {
    "duration": 7,
    "start_time": "2022-02-07T10:40:59.636Z"
   },
   {
    "duration": 23,
    "start_time": "2022-02-07T10:41:11.977Z"
   },
   {
    "duration": 8,
    "start_time": "2022-02-07T10:41:22.822Z"
   },
   {
    "duration": 7,
    "start_time": "2022-02-07T10:47:48.017Z"
   },
   {
    "duration": 9,
    "start_time": "2022-02-07T10:48:45.649Z"
   },
   {
    "duration": 7,
    "start_time": "2022-02-07T10:49:50.406Z"
   },
   {
    "duration": 7,
    "start_time": "2022-02-07T10:50:04.597Z"
   },
   {
    "duration": 5,
    "start_time": "2022-02-07T10:51:51.715Z"
   },
   {
    "duration": 7,
    "start_time": "2022-02-07T10:52:02.916Z"
   },
   {
    "duration": 5,
    "start_time": "2022-02-07T10:52:23.931Z"
   },
   {
    "duration": 5,
    "start_time": "2022-02-07T10:52:24.437Z"
   },
   {
    "duration": 7,
    "start_time": "2022-02-07T10:52:54.264Z"
   },
   {
    "duration": 27,
    "start_time": "2022-02-07T11:37:28.353Z"
   },
   {
    "duration": 358,
    "start_time": "2022-02-07T11:41:54.452Z"
   },
   {
    "duration": 51,
    "start_time": "2022-02-07T11:42:14.740Z"
   },
   {
    "duration": 3,
    "start_time": "2022-02-07T11:45:27.674Z"
   },
   {
    "duration": 26,
    "start_time": "2022-02-07T11:45:50.781Z"
   },
   {
    "duration": 53,
    "start_time": "2022-02-07T11:45:59.003Z"
   },
   {
    "duration": 26,
    "start_time": "2022-02-07T11:46:08.268Z"
   },
   {
    "duration": 25,
    "start_time": "2022-02-07T11:48:00.943Z"
   },
   {
    "duration": 14,
    "start_time": "2022-02-07T11:56:26.479Z"
   },
   {
    "duration": 20,
    "start_time": "2022-02-07T11:56:37.921Z"
   },
   {
    "duration": 22,
    "start_time": "2022-02-07T11:56:50.196Z"
   },
   {
    "duration": 17,
    "start_time": "2022-02-07T11:56:56.853Z"
   },
   {
    "duration": 9,
    "start_time": "2022-02-07T11:57:09.876Z"
   },
   {
    "duration": 6,
    "start_time": "2022-02-07T17:25:45.891Z"
   },
   {
    "duration": 23,
    "start_time": "2022-02-07T17:25:54.890Z"
   },
   {
    "duration": 6,
    "start_time": "2022-02-07T17:26:23.204Z"
   },
   {
    "duration": 11,
    "start_time": "2022-02-07T17:26:35.818Z"
   },
   {
    "duration": 12,
    "start_time": "2022-02-07T17:26:40.447Z"
   },
   {
    "duration": 9,
    "start_time": "2022-02-07T17:27:03.027Z"
   },
   {
    "duration": 9,
    "start_time": "2022-02-07T17:27:08.525Z"
   },
   {
    "duration": 5,
    "start_time": "2022-02-07T17:29:16.230Z"
   },
   {
    "duration": 13,
    "start_time": "2022-02-07T17:29:25.072Z"
   },
   {
    "duration": 10,
    "start_time": "2022-02-07T17:29:45.958Z"
   },
   {
    "duration": 11,
    "start_time": "2022-02-07T17:29:57.113Z"
   },
   {
    "duration": 7,
    "start_time": "2022-02-07T17:33:03.682Z"
   },
   {
    "duration": 31,
    "start_time": "2022-02-07T17:33:12.199Z"
   },
   {
    "duration": 7,
    "start_time": "2022-02-07T17:33:23.390Z"
   },
   {
    "duration": 6,
    "start_time": "2022-02-07T17:49:42.645Z"
   },
   {
    "duration": 15,
    "start_time": "2022-02-07T17:53:00.679Z"
   },
   {
    "duration": 45,
    "start_time": "2022-02-07T17:53:08.444Z"
   },
   {
    "duration": 23,
    "start_time": "2022-02-07T17:54:02.475Z"
   },
   {
    "duration": 20,
    "start_time": "2022-02-07T17:54:08.900Z"
   },
   {
    "duration": 8,
    "start_time": "2022-02-07T18:04:00.082Z"
   },
   {
    "duration": 5,
    "start_time": "2022-02-07T18:11:35.766Z"
   },
   {
    "duration": 13,
    "start_time": "2022-02-07T18:12:25.907Z"
   },
   {
    "duration": 19,
    "start_time": "2022-02-07T18:12:53.258Z"
   },
   {
    "duration": 262,
    "start_time": "2022-02-07T18:27:03.467Z"
   },
   {
    "duration": 245,
    "start_time": "2022-02-07T18:30:51.717Z"
   },
   {
    "duration": 16,
    "start_time": "2022-02-07T18:35:02.676Z"
   },
   {
    "duration": 10,
    "start_time": "2022-02-07T18:35:12.112Z"
   },
   {
    "duration": 20,
    "start_time": "2022-02-07T18:35:51.703Z"
   },
   {
    "duration": 11,
    "start_time": "2022-02-07T18:35:53.997Z"
   },
   {
    "duration": 410,
    "start_time": "2022-02-07T18:39:04.966Z"
   },
   {
    "duration": 6493,
    "start_time": "2022-02-07T18:47:29.375Z"
   },
   {
    "duration": 6637,
    "start_time": "2022-02-07T18:48:00.725Z"
   },
   {
    "duration": 6790,
    "start_time": "2022-02-07T18:48:40.062Z"
   },
   {
    "duration": 3,
    "start_time": "2022-02-07T18:49:35.481Z"
   },
   {
    "duration": 308,
    "start_time": "2022-02-07T18:49:40.415Z"
   },
   {
    "duration": 595,
    "start_time": "2022-02-07T18:51:18.757Z"
   },
   {
    "duration": 4,
    "start_time": "2022-02-07T18:52:09.012Z"
   },
   {
    "duration": 6248,
    "start_time": "2022-02-07T18:53:00.834Z"
   },
   {
    "duration": 264,
    "start_time": "2022-02-07T18:53:38.509Z"
   },
   {
    "duration": 329,
    "start_time": "2022-02-07T18:54:00.578Z"
   },
   {
    "duration": 755,
    "start_time": "2022-02-07T18:55:22.425Z"
   },
   {
    "duration": 24,
    "start_time": "2022-02-07T18:55:36.133Z"
   },
   {
    "duration": 12,
    "start_time": "2022-02-07T18:55:37.892Z"
   },
   {
    "duration": 3,
    "start_time": "2022-02-07T18:56:01.368Z"
   },
   {
    "duration": 6030,
    "start_time": "2022-02-07T18:56:02.222Z"
   },
   {
    "duration": 16,
    "start_time": "2022-02-07T18:56:25.439Z"
   },
   {
    "duration": 9,
    "start_time": "2022-02-07T18:56:26.225Z"
   },
   {
    "duration": 4,
    "start_time": "2022-02-07T18:56:27.426Z"
   },
   {
    "duration": 268,
    "start_time": "2022-02-07T18:56:28.346Z"
   },
   {
    "duration": 9,
    "start_time": "2022-02-07T18:59:00.089Z"
   },
   {
    "duration": 4,
    "start_time": "2022-02-07T19:02:08.421Z"
   },
   {
    "duration": 514,
    "start_time": "2022-02-08T08:03:06.574Z"
   },
   {
    "duration": 46,
    "start_time": "2022-02-08T08:03:07.090Z"
   },
   {
    "duration": 19,
    "start_time": "2022-02-08T08:03:07.138Z"
   },
   {
    "duration": 10,
    "start_time": "2022-02-08T08:03:07.159Z"
   },
   {
    "duration": 9,
    "start_time": "2022-02-08T08:03:07.170Z"
   },
   {
    "duration": 37,
    "start_time": "2022-02-08T08:03:07.180Z"
   },
   {
    "duration": 4,
    "start_time": "2022-02-08T08:03:07.218Z"
   },
   {
    "duration": 4,
    "start_time": "2022-02-08T08:03:07.224Z"
   },
   {
    "duration": 13,
    "start_time": "2022-02-08T08:03:07.230Z"
   },
   {
    "duration": 7,
    "start_time": "2022-02-08T08:03:07.244Z"
   },
   {
    "duration": 2,
    "start_time": "2022-02-08T08:03:07.253Z"
   },
   {
    "duration": 6,
    "start_time": "2022-02-08T08:03:07.257Z"
   },
   {
    "duration": 51,
    "start_time": "2022-02-08T08:03:07.264Z"
   },
   {
    "duration": 3,
    "start_time": "2022-02-08T08:03:07.317Z"
   },
   {
    "duration": 7,
    "start_time": "2022-02-08T08:03:07.321Z"
   },
   {
    "duration": 11,
    "start_time": "2022-02-08T08:03:07.330Z"
   },
   {
    "duration": 2,
    "start_time": "2022-02-08T08:03:07.342Z"
   },
   {
    "duration": 10,
    "start_time": "2022-02-08T08:03:07.345Z"
   },
   {
    "duration": 7,
    "start_time": "2022-02-08T08:03:07.357Z"
   },
   {
    "duration": 5,
    "start_time": "2022-02-08T08:03:07.412Z"
   },
   {
    "duration": 5,
    "start_time": "2022-02-08T08:03:07.418Z"
   },
   {
    "duration": 5,
    "start_time": "2022-02-08T08:03:07.425Z"
   },
   {
    "duration": 4,
    "start_time": "2022-02-08T08:03:07.434Z"
   },
   {
    "duration": 4,
    "start_time": "2022-02-08T08:03:07.441Z"
   },
   {
    "duration": 8,
    "start_time": "2022-02-08T08:03:07.447Z"
   },
   {
    "duration": 57,
    "start_time": "2022-02-08T08:03:07.457Z"
   },
   {
    "duration": 6,
    "start_time": "2022-02-08T08:03:07.517Z"
   },
   {
    "duration": 9,
    "start_time": "2022-02-08T08:03:07.525Z"
   },
   {
    "duration": 6,
    "start_time": "2022-02-08T08:03:07.536Z"
   },
   {
    "duration": 22,
    "start_time": "2022-02-08T08:03:07.545Z"
   },
   {
    "duration": 7,
    "start_time": "2022-02-08T08:03:07.569Z"
   },
   {
    "duration": 12,
    "start_time": "2022-02-08T08:03:07.612Z"
   },
   {
    "duration": 8,
    "start_time": "2022-02-08T08:03:07.625Z"
   },
   {
    "duration": 2,
    "start_time": "2022-02-08T08:03:07.635Z"
   },
   {
    "duration": 4,
    "start_time": "2022-02-08T08:03:07.639Z"
   },
   {
    "duration": 379,
    "start_time": "2022-02-08T08:03:07.646Z"
   },
   {
    "duration": 7,
    "start_time": "2022-02-08T08:03:08.027Z"
   },
   {
    "duration": 7,
    "start_time": "2022-02-08T08:03:08.036Z"
   },
   {
    "duration": 5,
    "start_time": "2022-02-08T08:03:08.044Z"
   },
   {
    "duration": 4,
    "start_time": "2022-02-08T08:03:08.050Z"
   },
   {
    "duration": 5,
    "start_time": "2022-02-08T08:03:08.055Z"
   },
   {
    "duration": 6,
    "start_time": "2022-02-08T08:03:08.061Z"
   },
   {
    "duration": 5,
    "start_time": "2022-02-08T08:03:08.112Z"
   },
   {
    "duration": 21,
    "start_time": "2022-02-08T08:03:08.118Z"
   },
   {
    "duration": 10,
    "start_time": "2022-02-08T08:03:08.141Z"
   },
   {
    "duration": 19,
    "start_time": "2022-02-08T08:03:08.152Z"
   },
   {
    "duration": 11,
    "start_time": "2022-02-08T08:03:08.172Z"
   },
   {
    "duration": 20,
    "start_time": "2022-02-08T08:03:08.184Z"
   },
   {
    "duration": 21,
    "start_time": "2022-02-08T08:03:08.206Z"
   },
   {
    "duration": 13,
    "start_time": "2022-02-08T08:03:08.228Z"
   },
   {
    "duration": 25,
    "start_time": "2022-02-08T08:03:08.243Z"
   },
   {
    "duration": 6,
    "start_time": "2022-02-08T08:03:08.269Z"
   },
   {
    "duration": 25,
    "start_time": "2022-02-08T08:03:08.276Z"
   },
   {
    "duration": 14,
    "start_time": "2022-02-08T08:03:08.302Z"
   },
   {
    "duration": 10,
    "start_time": "2022-02-08T08:03:08.318Z"
   },
   {
    "duration": 18,
    "start_time": "2022-02-08T08:03:08.330Z"
   },
   {
    "duration": 15,
    "start_time": "2022-02-08T08:03:08.350Z"
   },
   {
    "duration": 17,
    "start_time": "2022-02-08T08:03:08.366Z"
   },
   {
    "duration": 12,
    "start_time": "2022-02-08T08:03:08.384Z"
   },
   {
    "duration": 4,
    "start_time": "2022-02-08T08:03:08.398Z"
   },
   {
    "duration": 7,
    "start_time": "2022-02-08T08:03:08.403Z"
   },
   {
    "duration": 5,
    "start_time": "2022-02-08T08:03:08.412Z"
   },
   {
    "duration": 5,
    "start_time": "2022-02-08T08:03:08.418Z"
   },
   {
    "duration": 6,
    "start_time": "2022-02-08T08:03:08.425Z"
   },
   {
    "duration": 10,
    "start_time": "2022-02-08T08:03:08.432Z"
   },
   {
    "duration": 11,
    "start_time": "2022-02-08T08:03:08.443Z"
   },
   {
    "duration": 15,
    "start_time": "2022-02-08T08:03:08.456Z"
   },
   {
    "duration": 3,
    "start_time": "2022-02-08T08:03:08.515Z"
   },
   {
    "duration": 10,
    "start_time": "2022-02-08T08:03:08.520Z"
   },
   {
    "duration": 13,
    "start_time": "2022-02-08T08:03:08.531Z"
   },
   {
    "duration": 7,
    "start_time": "2022-02-08T08:03:26.207Z"
   },
   {
    "duration": 11,
    "start_time": "2022-02-08T08:03:32.816Z"
   },
   {
    "duration": 543,
    "start_time": "2022-02-08T08:04:00.972Z"
   },
   {
    "duration": 162,
    "start_time": "2022-02-08T08:04:02.967Z"
   },
   {
    "duration": 6,
    "start_time": "2022-02-08T08:05:03.460Z"
   },
   {
    "duration": 11,
    "start_time": "2022-02-08T08:05:53.266Z"
   },
   {
    "duration": 6,
    "start_time": "2022-02-08T08:06:12.301Z"
   },
   {
    "duration": 155,
    "start_time": "2022-02-08T08:10:34.051Z"
   },
   {
    "duration": 8,
    "start_time": "2022-02-08T08:13:03.057Z"
   },
   {
    "duration": 11,
    "start_time": "2022-02-08T08:13:56.605Z"
   },
   {
    "duration": 6,
    "start_time": "2022-02-08T08:14:04.612Z"
   },
   {
    "duration": 300,
    "start_time": "2022-02-08T08:15:08.528Z"
   },
   {
    "duration": 160,
    "start_time": "2022-02-08T08:15:19.167Z"
   },
   {
    "duration": 7,
    "start_time": "2022-02-08T08:24:29.319Z"
   },
   {
    "duration": 8,
    "start_time": "2022-02-08T08:25:10.349Z"
   },
   {
    "duration": 12,
    "start_time": "2022-02-08T08:25:25.465Z"
   },
   {
    "duration": 7,
    "start_time": "2022-02-08T08:25:39.013Z"
   },
   {
    "duration": 183,
    "start_time": "2022-02-08T08:27:11.812Z"
   },
   {
    "duration": 2,
    "start_time": "2022-02-08T15:09:14.307Z"
   },
   {
    "duration": 45,
    "start_time": "2022-02-08T15:09:36.507Z"
   },
   {
    "duration": 13,
    "start_time": "2022-02-08T15:09:51.328Z"
   },
   {
    "duration": 11,
    "start_time": "2022-02-08T15:13:22.980Z"
   },
   {
    "duration": 3,
    "start_time": "2022-02-08T15:17:43.818Z"
   },
   {
    "duration": 11,
    "start_time": "2022-02-08T15:33:17.061Z"
   },
   {
    "duration": 655,
    "start_time": "2022-02-09T08:03:27.471Z"
   },
   {
    "duration": 55,
    "start_time": "2022-02-09T08:03:28.128Z"
   },
   {
    "duration": 21,
    "start_time": "2022-02-09T08:03:28.185Z"
   },
   {
    "duration": 13,
    "start_time": "2022-02-09T08:03:28.208Z"
   },
   {
    "duration": 11,
    "start_time": "2022-02-09T08:03:28.223Z"
   },
   {
    "duration": 7,
    "start_time": "2022-02-09T08:03:28.236Z"
   },
   {
    "duration": 5,
    "start_time": "2022-02-09T08:03:28.245Z"
   },
   {
    "duration": 47,
    "start_time": "2022-02-09T08:03:28.253Z"
   },
   {
    "duration": 16,
    "start_time": "2022-02-09T08:03:28.303Z"
   },
   {
    "duration": 13,
    "start_time": "2022-02-09T08:03:28.321Z"
   },
   {
    "duration": 17,
    "start_time": "2022-02-09T08:03:28.336Z"
   },
   {
    "duration": 11,
    "start_time": "2022-02-09T08:03:28.355Z"
   },
   {
    "duration": 35,
    "start_time": "2022-02-09T08:03:28.368Z"
   },
   {
    "duration": 10,
    "start_time": "2022-02-09T08:03:28.406Z"
   },
   {
    "duration": 16,
    "start_time": "2022-02-09T08:03:28.418Z"
   },
   {
    "duration": 20,
    "start_time": "2022-02-09T08:03:28.436Z"
   },
   {
    "duration": 10,
    "start_time": "2022-02-09T08:03:28.457Z"
   },
   {
    "duration": 23,
    "start_time": "2022-02-09T08:03:28.468Z"
   },
   {
    "duration": 11,
    "start_time": "2022-02-09T08:03:28.493Z"
   },
   {
    "duration": 13,
    "start_time": "2022-02-09T08:03:28.506Z"
   },
   {
    "duration": 20,
    "start_time": "2022-02-09T08:03:28.521Z"
   },
   {
    "duration": 22,
    "start_time": "2022-02-09T08:03:28.542Z"
   },
   {
    "duration": 8,
    "start_time": "2022-02-09T08:03:28.567Z"
   },
   {
    "duration": 14,
    "start_time": "2022-02-09T08:03:28.578Z"
   },
   {
    "duration": 8,
    "start_time": "2022-02-09T08:03:28.598Z"
   },
   {
    "duration": 5,
    "start_time": "2022-02-09T08:03:28.608Z"
   },
   {
    "duration": 7,
    "start_time": "2022-02-09T08:03:28.615Z"
   },
   {
    "duration": 9,
    "start_time": "2022-02-09T08:03:28.624Z"
   },
   {
    "duration": 7,
    "start_time": "2022-02-09T08:03:28.634Z"
   },
   {
    "duration": 56,
    "start_time": "2022-02-09T08:03:28.643Z"
   },
   {
    "duration": 7,
    "start_time": "2022-02-09T08:03:28.701Z"
   },
   {
    "duration": 10,
    "start_time": "2022-02-09T08:03:28.710Z"
   },
   {
    "duration": 10,
    "start_time": "2022-02-09T08:03:28.722Z"
   },
   {
    "duration": 2,
    "start_time": "2022-02-09T08:03:28.734Z"
   },
   {
    "duration": 6,
    "start_time": "2022-02-09T08:03:28.737Z"
   },
   {
    "duration": 408,
    "start_time": "2022-02-09T08:03:28.745Z"
   },
   {
    "duration": 8,
    "start_time": "2022-02-09T08:03:29.155Z"
   },
   {
    "duration": 9,
    "start_time": "2022-02-09T08:03:29.164Z"
   },
   {
    "duration": 27,
    "start_time": "2022-02-09T08:03:29.174Z"
   },
   {
    "duration": 6,
    "start_time": "2022-02-09T08:03:29.203Z"
   },
   {
    "duration": 5,
    "start_time": "2022-02-09T08:03:29.211Z"
   },
   {
    "duration": 7,
    "start_time": "2022-02-09T08:03:29.218Z"
   },
   {
    "duration": 9,
    "start_time": "2022-02-09T08:03:29.227Z"
   },
   {
    "duration": 7,
    "start_time": "2022-02-09T08:03:29.238Z"
   },
   {
    "duration": 6,
    "start_time": "2022-02-09T08:03:29.247Z"
   },
   {
    "duration": 49,
    "start_time": "2022-02-09T08:03:29.255Z"
   },
   {
    "duration": 9,
    "start_time": "2022-02-09T08:03:29.306Z"
   },
   {
    "duration": 9,
    "start_time": "2022-02-09T08:03:29.317Z"
   },
   {
    "duration": 5,
    "start_time": "2022-02-09T08:03:29.328Z"
   },
   {
    "duration": 10,
    "start_time": "2022-02-09T08:03:29.336Z"
   },
   {
    "duration": 62,
    "start_time": "2022-02-09T08:03:29.348Z"
   },
   {
    "duration": 2,
    "start_time": "2022-02-09T08:03:29.412Z"
   },
   {
    "duration": 23,
    "start_time": "2022-02-09T08:03:29.416Z"
   },
   {
    "duration": 16,
    "start_time": "2022-02-09T08:03:29.441Z"
   },
   {
    "duration": 42,
    "start_time": "2022-02-09T08:03:29.459Z"
   },
   {
    "duration": 12,
    "start_time": "2022-02-09T08:03:29.503Z"
   },
   {
    "duration": 5,
    "start_time": "2022-02-09T08:03:29.517Z"
   },
   {
    "duration": 10,
    "start_time": "2022-02-09T08:03:29.524Z"
   },
   {
    "duration": 8,
    "start_time": "2022-02-09T08:03:29.536Z"
   },
   {
    "duration": 8,
    "start_time": "2022-02-09T08:03:29.545Z"
   },
   {
    "duration": 43,
    "start_time": "2022-02-09T08:03:29.555Z"
   },
   {
    "duration": 7,
    "start_time": "2022-02-09T08:03:29.600Z"
   },
   {
    "duration": 10,
    "start_time": "2022-02-09T08:03:29.609Z"
   },
   {
    "duration": 11,
    "start_time": "2022-02-09T08:03:29.621Z"
   },
   {
    "duration": 16,
    "start_time": "2022-02-09T08:03:29.634Z"
   },
   {
    "duration": 16,
    "start_time": "2022-02-09T08:03:29.652Z"
   },
   {
    "duration": 30,
    "start_time": "2022-02-09T08:03:29.670Z"
   },
   {
    "duration": 3,
    "start_time": "2022-02-09T08:03:29.706Z"
   },
   {
    "duration": 12,
    "start_time": "2022-02-09T08:03:29.711Z"
   },
   {
    "duration": 16,
    "start_time": "2022-02-09T08:03:29.725Z"
   },
   {
    "duration": 6,
    "start_time": "2022-02-09T08:03:29.743Z"
   },
   {
    "duration": 56,
    "start_time": "2022-02-09T08:03:29.751Z"
   },
   {
    "duration": 6,
    "start_time": "2022-02-09T08:03:29.809Z"
   },
   {
    "duration": 597,
    "start_time": "2022-02-09T08:03:29.817Z"
   },
   {
    "duration": 224,
    "start_time": "2022-02-09T08:03:30.416Z"
   },
   {
    "duration": 8,
    "start_time": "2022-02-09T08:03:30.642Z"
   },
   {
    "duration": 22,
    "start_time": "2022-02-09T08:03:30.652Z"
   },
   {
    "duration": 24,
    "start_time": "2022-02-09T08:03:30.676Z"
   },
   {
    "duration": 211,
    "start_time": "2022-02-09T08:03:30.702Z"
   },
   {
    "duration": 8,
    "start_time": "2022-02-09T08:03:30.915Z"
   },
   {
    "duration": 25,
    "start_time": "2022-02-09T08:03:30.925Z"
   },
   {
    "duration": 8,
    "start_time": "2022-02-09T08:03:30.951Z"
   },
   {
    "duration": 206,
    "start_time": "2022-02-09T08:03:30.961Z"
   },
   {
    "duration": 11,
    "start_time": "2022-02-09T08:03:31.169Z"
   },
   {
    "duration": 17,
    "start_time": "2022-02-09T08:03:31.199Z"
   },
   {
    "duration": 8,
    "start_time": "2022-02-09T08:03:31.218Z"
   },
   {
    "duration": 201,
    "start_time": "2022-02-09T08:03:31.228Z"
   },
   {
    "duration": 7,
    "start_time": "2022-02-09T08:08:11.884Z"
   },
   {
    "duration": 3,
    "start_time": "2022-02-09T08:08:43.944Z"
   },
   {
    "duration": 54,
    "start_time": "2022-02-09T08:08:43.949Z"
   },
   {
    "duration": 14,
    "start_time": "2022-02-09T08:08:44.005Z"
   },
   {
    "duration": 14,
    "start_time": "2022-02-09T08:08:44.021Z"
   },
   {
    "duration": 10,
    "start_time": "2022-02-09T08:08:44.037Z"
   },
   {
    "duration": 6,
    "start_time": "2022-02-09T08:08:46.490Z"
   },
   {
    "duration": 7,
    "start_time": "2022-02-09T08:12:29.519Z"
   },
   {
    "duration": 6,
    "start_time": "2022-02-09T08:37:36.506Z"
   },
   {
    "duration": 2,
    "start_time": "2022-02-09T08:38:13.077Z"
   },
   {
    "duration": 54,
    "start_time": "2022-02-09T08:38:13.092Z"
   },
   {
    "duration": 13,
    "start_time": "2022-02-09T08:38:13.149Z"
   },
   {
    "duration": 12,
    "start_time": "2022-02-09T08:38:13.165Z"
   },
   {
    "duration": 12,
    "start_time": "2022-02-09T08:38:13.198Z"
   },
   {
    "duration": 8,
    "start_time": "2022-02-09T08:38:13.213Z"
   },
   {
    "duration": 7,
    "start_time": "2022-02-09T08:38:13.223Z"
   },
   {
    "duration": 8,
    "start_time": "2022-02-09T08:38:13.232Z"
   },
   {
    "duration": 58,
    "start_time": "2022-02-09T08:38:13.242Z"
   },
   {
    "duration": 20,
    "start_time": "2022-02-09T08:38:13.302Z"
   },
   {
    "duration": 6,
    "start_time": "2022-02-09T08:38:16.924Z"
   },
   {
    "duration": 5,
    "start_time": "2022-02-09T08:38:25.457Z"
   },
   {
    "duration": 7,
    "start_time": "2022-02-09T08:38:49.428Z"
   },
   {
    "duration": 7,
    "start_time": "2022-02-09T08:39:05.980Z"
   },
   {
    "duration": 23,
    "start_time": "2022-02-09T08:39:21.588Z"
   },
   {
    "duration": 6,
    "start_time": "2022-02-09T08:44:58.863Z"
   },
   {
    "duration": 3,
    "start_time": "2022-02-09T08:48:50.695Z"
   },
   {
    "duration": 61,
    "start_time": "2022-02-09T08:48:50.700Z"
   },
   {
    "duration": 14,
    "start_time": "2022-02-09T08:48:50.763Z"
   },
   {
    "duration": 27,
    "start_time": "2022-02-09T08:48:50.779Z"
   },
   {
    "duration": 11,
    "start_time": "2022-02-09T08:48:50.808Z"
   },
   {
    "duration": 11,
    "start_time": "2022-02-09T08:48:50.821Z"
   },
   {
    "duration": 5,
    "start_time": "2022-02-09T08:48:50.834Z"
   },
   {
    "duration": 7,
    "start_time": "2022-02-09T08:48:50.841Z"
   },
   {
    "duration": 63,
    "start_time": "2022-02-09T08:48:50.851Z"
   },
   {
    "duration": 21,
    "start_time": "2022-02-09T08:48:50.916Z"
   },
   {
    "duration": 15,
    "start_time": "2022-02-09T08:48:50.940Z"
   },
   {
    "duration": 28,
    "start_time": "2022-02-09T08:48:50.957Z"
   },
   {
    "duration": 12,
    "start_time": "2022-02-09T08:48:50.987Z"
   },
   {
    "duration": 4,
    "start_time": "2022-02-09T08:48:54.144Z"
   },
   {
    "duration": 6,
    "start_time": "2022-02-09T12:21:29.796Z"
   },
   {
    "duration": 11,
    "start_time": "2022-02-09T12:25:00.132Z"
   },
   {
    "duration": 9,
    "start_time": "2022-02-09T12:27:16.356Z"
   },
   {
    "duration": 7,
    "start_time": "2022-02-09T13:34:25.800Z"
   },
   {
    "duration": 4,
    "start_time": "2022-02-09T13:34:32.598Z"
   },
   {
    "duration": 8,
    "start_time": "2022-02-09T13:35:32.081Z"
   },
   {
    "duration": 2,
    "start_time": "2022-02-09T13:35:42.881Z"
   },
   {
    "duration": 56,
    "start_time": "2022-02-09T13:35:42.889Z"
   },
   {
    "duration": 20,
    "start_time": "2022-02-09T13:35:42.947Z"
   },
   {
    "duration": 37,
    "start_time": "2022-02-09T13:35:42.969Z"
   },
   {
    "duration": 12,
    "start_time": "2022-02-09T13:35:43.009Z"
   },
   {
    "duration": 8,
    "start_time": "2022-02-09T13:35:43.024Z"
   },
   {
    "duration": 4,
    "start_time": "2022-02-09T13:35:43.034Z"
   },
   {
    "duration": 5,
    "start_time": "2022-02-09T13:35:43.040Z"
   },
   {
    "duration": 63,
    "start_time": "2022-02-09T13:35:43.048Z"
   },
   {
    "duration": 14,
    "start_time": "2022-02-09T13:35:43.113Z"
   },
   {
    "duration": 8,
    "start_time": "2022-02-09T13:35:43.129Z"
   },
   {
    "duration": 7,
    "start_time": "2022-02-09T13:35:43.139Z"
   },
   {
    "duration": 4,
    "start_time": "2022-02-09T13:35:43.148Z"
   },
   {
    "duration": 51,
    "start_time": "2022-02-09T13:35:43.154Z"
   },
   {
    "duration": 12,
    "start_time": "2022-02-09T13:35:43.206Z"
   },
   {
    "duration": 9,
    "start_time": "2022-02-09T13:35:43.220Z"
   },
   {
    "duration": 11,
    "start_time": "2022-02-09T13:35:43.231Z"
   },
   {
    "duration": 11,
    "start_time": "2022-02-09T13:35:43.243Z"
   },
   {
    "duration": 42,
    "start_time": "2022-02-09T13:35:43.256Z"
   },
   {
    "duration": 6,
    "start_time": "2022-02-09T13:35:43.300Z"
   },
   {
    "duration": 6,
    "start_time": "2022-02-09T13:35:43.308Z"
   },
   {
    "duration": 7,
    "start_time": "2022-02-09T13:35:43.316Z"
   },
   {
    "duration": 9,
    "start_time": "2022-02-09T13:35:43.325Z"
   },
   {
    "duration": 6,
    "start_time": "2022-02-09T13:35:43.337Z"
   },
   {
    "duration": 7,
    "start_time": "2022-02-09T13:35:43.345Z"
   },
   {
    "duration": 52,
    "start_time": "2022-02-09T13:35:43.353Z"
   },
   {
    "duration": 8,
    "start_time": "2022-02-09T13:35:43.407Z"
   },
   {
    "duration": 8,
    "start_time": "2022-02-09T13:35:43.417Z"
   },
   {
    "duration": 8,
    "start_time": "2022-02-09T13:35:43.427Z"
   },
   {
    "duration": 11,
    "start_time": "2022-02-09T13:35:43.437Z"
   },
   {
    "duration": 51,
    "start_time": "2022-02-09T13:35:43.450Z"
   },
   {
    "duration": 5,
    "start_time": "2022-02-09T13:35:43.503Z"
   },
   {
    "duration": 8,
    "start_time": "2022-02-09T13:35:47.478Z"
   },
   {
    "duration": 9,
    "start_time": "2022-02-09T13:41:09.136Z"
   },
   {
    "duration": 4,
    "start_time": "2022-02-09T13:48:19.022Z"
   },
   {
    "duration": 4,
    "start_time": "2022-02-09T13:49:45.196Z"
   },
   {
    "duration": 382,
    "start_time": "2022-02-09T13:49:45.675Z"
   },
   {
    "duration": 4,
    "start_time": "2022-02-09T13:50:49.424Z"
   },
   {
    "duration": 389,
    "start_time": "2022-02-09T13:50:50.267Z"
   },
   {
    "duration": 357,
    "start_time": "2022-02-09T13:50:52.894Z"
   },
   {
    "duration": 8,
    "start_time": "2022-02-09T13:51:03.459Z"
   },
   {
    "duration": 8,
    "start_time": "2022-02-09T13:51:13.859Z"
   },
   {
    "duration": 2,
    "start_time": "2022-02-09T13:51:51.902Z"
   },
   {
    "duration": 52,
    "start_time": "2022-02-09T13:51:51.907Z"
   },
   {
    "duration": 13,
    "start_time": "2022-02-09T13:51:51.962Z"
   },
   {
    "duration": 26,
    "start_time": "2022-02-09T13:51:51.977Z"
   },
   {
    "duration": 10,
    "start_time": "2022-02-09T13:51:52.005Z"
   },
   {
    "duration": 7,
    "start_time": "2022-02-09T13:51:52.016Z"
   },
   {
    "duration": 8,
    "start_time": "2022-02-09T13:51:52.024Z"
   },
   {
    "duration": 5,
    "start_time": "2022-02-09T13:51:52.033Z"
   },
   {
    "duration": 64,
    "start_time": "2022-02-09T13:51:52.041Z"
   },
   {
    "duration": 9,
    "start_time": "2022-02-09T13:51:52.108Z"
   },
   {
    "duration": 6,
    "start_time": "2022-02-09T13:51:52.119Z"
   },
   {
    "duration": 5,
    "start_time": "2022-02-09T13:51:52.127Z"
   },
   {
    "duration": 5,
    "start_time": "2022-02-09T13:51:52.134Z"
   },
   {
    "duration": 8,
    "start_time": "2022-02-09T13:51:52.141Z"
   },
   {
    "duration": 10,
    "start_time": "2022-02-09T13:51:52.199Z"
   },
   {
    "duration": 8,
    "start_time": "2022-02-09T13:51:52.211Z"
   },
   {
    "duration": 8,
    "start_time": "2022-02-09T13:51:52.221Z"
   },
   {
    "duration": 11,
    "start_time": "2022-02-09T13:51:52.231Z"
   },
   {
    "duration": 14,
    "start_time": "2022-02-09T13:51:52.244Z"
   },
   {
    "duration": 41,
    "start_time": "2022-02-09T13:51:52.260Z"
   },
   {
    "duration": 9,
    "start_time": "2022-02-09T13:51:52.303Z"
   },
   {
    "duration": 31,
    "start_time": "2022-02-09T13:51:52.313Z"
   },
   {
    "duration": 27,
    "start_time": "2022-02-09T13:51:52.346Z"
   },
   {
    "duration": 11,
    "start_time": "2022-02-09T13:51:52.376Z"
   },
   {
    "duration": 14,
    "start_time": "2022-02-09T13:51:52.389Z"
   },
   {
    "duration": 18,
    "start_time": "2022-02-09T13:51:52.405Z"
   },
   {
    "duration": 21,
    "start_time": "2022-02-09T13:51:52.425Z"
   },
   {
    "duration": 27,
    "start_time": "2022-02-09T13:51:52.447Z"
   },
   {
    "duration": 18,
    "start_time": "2022-02-09T13:51:52.476Z"
   },
   {
    "duration": 45,
    "start_time": "2022-02-09T13:51:52.496Z"
   },
   {
    "duration": 16,
    "start_time": "2022-02-09T13:51:52.542Z"
   },
   {
    "duration": 25,
    "start_time": "2022-02-09T13:51:52.560Z"
   },
   {
    "duration": 26,
    "start_time": "2022-02-09T13:51:52.588Z"
   },
   {
    "duration": 9,
    "start_time": "2022-02-09T13:51:52.616Z"
   },
   {
    "duration": 410,
    "start_time": "2022-02-09T13:51:52.626Z"
   },
   {
    "duration": 7,
    "start_time": "2022-02-09T13:51:53.038Z"
   },
   {
    "duration": 7,
    "start_time": "2022-02-09T13:51:54.986Z"
   },
   {
    "duration": 4,
    "start_time": "2022-02-09T13:52:32.216Z"
   },
   {
    "duration": 406,
    "start_time": "2022-02-09T13:52:33.751Z"
   },
   {
    "duration": 10,
    "start_time": "2022-02-09T13:52:35.337Z"
   },
   {
    "duration": 2,
    "start_time": "2022-02-09T13:52:43.133Z"
   },
   {
    "duration": 53,
    "start_time": "2022-02-09T13:52:43.140Z"
   },
   {
    "duration": 22,
    "start_time": "2022-02-09T13:52:43.195Z"
   },
   {
    "duration": 13,
    "start_time": "2022-02-09T13:52:43.220Z"
   },
   {
    "duration": 15,
    "start_time": "2022-02-09T13:52:43.235Z"
   },
   {
    "duration": 7,
    "start_time": "2022-02-09T13:52:43.253Z"
   },
   {
    "duration": 6,
    "start_time": "2022-02-09T13:52:43.299Z"
   },
   {
    "duration": 28,
    "start_time": "2022-02-09T13:52:43.307Z"
   },
   {
    "duration": 15,
    "start_time": "2022-02-09T13:52:43.340Z"
   },
   {
    "duration": 13,
    "start_time": "2022-02-09T13:52:43.358Z"
   },
   {
    "duration": 33,
    "start_time": "2022-02-09T13:52:43.373Z"
   },
   {
    "duration": 17,
    "start_time": "2022-02-09T13:52:43.409Z"
   },
   {
    "duration": 4,
    "start_time": "2022-02-09T13:52:43.428Z"
   },
   {
    "duration": 9,
    "start_time": "2022-02-09T13:52:43.433Z"
   },
   {
    "duration": 39,
    "start_time": "2022-02-09T13:52:43.443Z"
   },
   {
    "duration": 16,
    "start_time": "2022-02-09T13:52:43.484Z"
   },
   {
    "duration": 14,
    "start_time": "2022-02-09T13:52:43.502Z"
   },
   {
    "duration": 12,
    "start_time": "2022-02-09T13:52:43.518Z"
   },
   {
    "duration": 10,
    "start_time": "2022-02-09T13:52:43.531Z"
   },
   {
    "duration": 25,
    "start_time": "2022-02-09T13:52:43.542Z"
   },
   {
    "duration": 23,
    "start_time": "2022-02-09T13:52:43.570Z"
   },
   {
    "duration": 36,
    "start_time": "2022-02-09T13:52:43.595Z"
   },
   {
    "duration": 36,
    "start_time": "2022-02-09T13:52:43.634Z"
   },
   {
    "duration": 12,
    "start_time": "2022-02-09T13:52:43.674Z"
   },
   {
    "duration": 27,
    "start_time": "2022-02-09T13:52:43.689Z"
   },
   {
    "duration": 25,
    "start_time": "2022-02-09T13:52:43.718Z"
   },
   {
    "duration": 24,
    "start_time": "2022-02-09T13:52:43.745Z"
   },
   {
    "duration": 20,
    "start_time": "2022-02-09T13:52:43.771Z"
   },
   {
    "duration": 24,
    "start_time": "2022-02-09T13:52:43.793Z"
   },
   {
    "duration": 33,
    "start_time": "2022-02-09T13:52:43.819Z"
   },
   {
    "duration": 25,
    "start_time": "2022-02-09T13:52:43.854Z"
   },
   {
    "duration": 16,
    "start_time": "2022-02-09T13:52:43.881Z"
   },
   {
    "duration": 29,
    "start_time": "2022-02-09T13:52:43.899Z"
   },
   {
    "duration": 7,
    "start_time": "2022-02-09T13:52:43.930Z"
   },
   {
    "duration": 390,
    "start_time": "2022-02-09T13:52:43.939Z"
   },
   {
    "duration": 8,
    "start_time": "2022-02-09T13:52:44.331Z"
   },
   {
    "duration": 9,
    "start_time": "2022-02-09T13:52:46.414Z"
   },
   {
    "duration": 3,
    "start_time": "2022-02-09T13:53:50.743Z"
   },
   {
    "duration": 70,
    "start_time": "2022-02-09T13:53:50.749Z"
   },
   {
    "duration": 17,
    "start_time": "2022-02-09T13:53:50.822Z"
   },
   {
    "duration": 18,
    "start_time": "2022-02-09T13:53:50.842Z"
   },
   {
    "duration": 15,
    "start_time": "2022-02-09T13:53:50.899Z"
   },
   {
    "duration": 17,
    "start_time": "2022-02-09T13:53:50.917Z"
   },
   {
    "duration": 8,
    "start_time": "2022-02-09T13:53:50.936Z"
   },
   {
    "duration": 7,
    "start_time": "2022-02-09T13:53:50.947Z"
   },
   {
    "duration": 47,
    "start_time": "2022-02-09T13:53:50.957Z"
   },
   {
    "duration": 8,
    "start_time": "2022-02-09T13:53:51.006Z"
   },
   {
    "duration": 9,
    "start_time": "2022-02-09T13:53:51.016Z"
   },
   {
    "duration": 7,
    "start_time": "2022-02-09T13:53:51.027Z"
   },
   {
    "duration": 10,
    "start_time": "2022-02-09T13:53:51.036Z"
   },
   {
    "duration": 10,
    "start_time": "2022-02-09T13:53:51.048Z"
   },
   {
    "duration": 14,
    "start_time": "2022-02-09T13:53:51.099Z"
   },
   {
    "duration": 8,
    "start_time": "2022-02-09T13:53:51.115Z"
   },
   {
    "duration": 11,
    "start_time": "2022-02-09T13:53:51.125Z"
   },
   {
    "duration": 7,
    "start_time": "2022-02-09T13:53:51.138Z"
   },
   {
    "duration": 55,
    "start_time": "2022-02-09T13:53:51.146Z"
   },
   {
    "duration": 8,
    "start_time": "2022-02-09T13:53:51.203Z"
   },
   {
    "duration": 7,
    "start_time": "2022-02-09T13:53:51.213Z"
   },
   {
    "duration": 8,
    "start_time": "2022-02-09T13:53:51.222Z"
   },
   {
    "duration": 9,
    "start_time": "2022-02-09T13:53:51.233Z"
   },
   {
    "duration": 57,
    "start_time": "2022-02-09T13:53:51.245Z"
   },
   {
    "duration": 6,
    "start_time": "2022-02-09T13:53:51.304Z"
   },
   {
    "duration": 11,
    "start_time": "2022-02-09T13:53:51.311Z"
   },
   {
    "duration": 7,
    "start_time": "2022-02-09T13:53:51.323Z"
   },
   {
    "duration": 14,
    "start_time": "2022-02-09T13:53:51.332Z"
   },
   {
    "duration": 53,
    "start_time": "2022-02-09T13:53:51.347Z"
   },
   {
    "duration": 11,
    "start_time": "2022-02-09T13:53:51.402Z"
   },
   {
    "duration": 9,
    "start_time": "2022-02-09T13:53:51.415Z"
   },
   {
    "duration": 4,
    "start_time": "2022-02-09T13:53:51.426Z"
   },
   {
    "duration": 9,
    "start_time": "2022-02-09T13:53:51.432Z"
   },
   {
    "duration": 6,
    "start_time": "2022-02-09T13:53:51.442Z"
   },
   {
    "duration": 441,
    "start_time": "2022-02-09T13:53:51.450Z"
   },
   {
    "duration": 15,
    "start_time": "2022-02-09T13:53:53.589Z"
   },
   {
    "duration": 8,
    "start_time": "2022-02-09T13:54:54.098Z"
   },
   {
    "duration": 4,
    "start_time": "2022-02-09T13:59:46.211Z"
   },
   {
    "duration": 5,
    "start_time": "2022-02-09T16:51:03.858Z"
   },
   {
    "duration": 5,
    "start_time": "2022-02-09T16:52:35.621Z"
   },
   {
    "duration": 90,
    "start_time": "2022-02-09T16:52:51.025Z"
   },
   {
    "duration": 6,
    "start_time": "2022-02-09T17:15:51.163Z"
   },
   {
    "duration": 4,
    "start_time": "2022-02-09T17:15:52.636Z"
   },
   {
    "duration": 6697,
    "start_time": "2022-02-09T17:15:53.503Z"
   },
   {
    "duration": 102,
    "start_time": "2022-02-09T17:16:00.100Z"
   },
   {
    "duration": 5,
    "start_time": "2022-02-09T17:16:06.016Z"
   },
   {
    "duration": 6,
    "start_time": "2022-02-09T17:16:10.869Z"
   },
   {
    "duration": 5,
    "start_time": "2022-02-09T17:17:09.726Z"
   },
   {
    "duration": 6,
    "start_time": "2022-02-09T17:17:10.819Z"
   },
   {
    "duration": 7,
    "start_time": "2022-02-09T17:26:05.792Z"
   },
   {
    "duration": 11,
    "start_time": "2022-02-09T17:27:07.317Z"
   },
   {
    "duration": 7,
    "start_time": "2022-02-09T17:27:26.725Z"
   },
   {
    "duration": 6,
    "start_time": "2022-02-09T17:28:08.458Z"
   },
   {
    "duration": 4,
    "start_time": "2022-02-09T18:31:01.986Z"
   },
   {
    "duration": 3,
    "start_time": "2022-02-09T19:01:54.785Z"
   },
   {
    "duration": 58,
    "start_time": "2022-02-09T19:01:54.790Z"
   },
   {
    "duration": 16,
    "start_time": "2022-02-09T19:01:54.850Z"
   },
   {
    "duration": 37,
    "start_time": "2022-02-09T19:01:54.869Z"
   },
   {
    "duration": 17,
    "start_time": "2022-02-09T19:01:54.909Z"
   },
   {
    "duration": 9,
    "start_time": "2022-02-09T19:01:54.929Z"
   },
   {
    "duration": 8,
    "start_time": "2022-02-09T19:01:54.940Z"
   },
   {
    "duration": 50,
    "start_time": "2022-02-09T19:01:54.951Z"
   },
   {
    "duration": 15,
    "start_time": "2022-02-09T19:01:55.005Z"
   },
   {
    "duration": 10,
    "start_time": "2022-02-09T19:01:55.023Z"
   },
   {
    "duration": 6,
    "start_time": "2022-02-09T19:01:55.035Z"
   },
   {
    "duration": 57,
    "start_time": "2022-02-09T19:01:55.043Z"
   },
   {
    "duration": 5,
    "start_time": "2022-02-09T19:01:55.103Z"
   },
   {
    "duration": 10,
    "start_time": "2022-02-09T19:01:55.110Z"
   },
   {
    "duration": 14,
    "start_time": "2022-02-09T19:01:55.122Z"
   },
   {
    "duration": 60,
    "start_time": "2022-02-09T19:01:55.138Z"
   },
   {
    "duration": 11,
    "start_time": "2022-02-09T19:01:55.201Z"
   },
   {
    "duration": 10,
    "start_time": "2022-02-09T19:01:55.215Z"
   },
   {
    "duration": 8,
    "start_time": "2022-02-09T19:01:55.227Z"
   },
   {
    "duration": 10,
    "start_time": "2022-02-09T19:01:55.237Z"
   },
   {
    "duration": 6,
    "start_time": "2022-02-09T19:01:55.249Z"
   },
   {
    "duration": 6,
    "start_time": "2022-02-09T19:01:55.298Z"
   },
   {
    "duration": 13,
    "start_time": "2022-02-09T19:01:55.306Z"
   },
   {
    "duration": 8,
    "start_time": "2022-02-09T19:01:55.321Z"
   },
   {
    "duration": 12,
    "start_time": "2022-02-09T19:01:55.330Z"
   },
   {
    "duration": 8,
    "start_time": "2022-02-09T19:01:55.344Z"
   },
   {
    "duration": 7,
    "start_time": "2022-02-09T19:01:55.401Z"
   },
   {
    "duration": 9,
    "start_time": "2022-02-09T19:01:55.411Z"
   },
   {
    "duration": 10,
    "start_time": "2022-02-09T19:01:55.422Z"
   },
   {
    "duration": 16,
    "start_time": "2022-02-09T19:01:55.434Z"
   },
   {
    "duration": 9,
    "start_time": "2022-02-09T19:01:55.452Z"
   },
   {
    "duration": 38,
    "start_time": "2022-02-09T19:01:55.463Z"
   },
   {
    "duration": 10,
    "start_time": "2022-02-09T19:01:55.503Z"
   },
   {
    "duration": 3,
    "start_time": "2022-02-09T19:01:55.515Z"
   },
   {
    "duration": 417,
    "start_time": "2022-02-09T19:01:55.520Z"
   },
   {
    "duration": 7,
    "start_time": "2022-02-09T19:01:55.939Z"
   },
   {
    "duration": 6,
    "start_time": "2022-02-09T19:01:55.948Z"
   },
   {
    "duration": 6,
    "start_time": "2022-02-09T19:01:55.956Z"
   },
   {
    "duration": 6,
    "start_time": "2022-02-09T19:01:55.997Z"
   },
   {
    "duration": 9,
    "start_time": "2022-02-09T19:01:56.004Z"
   },
   {
    "duration": 8,
    "start_time": "2022-02-09T19:01:56.015Z"
   },
   {
    "duration": 15,
    "start_time": "2022-02-09T19:01:56.025Z"
   },
   {
    "duration": 11,
    "start_time": "2022-02-09T19:01:56.042Z"
   },
   {
    "duration": 8,
    "start_time": "2022-02-09T19:01:56.055Z"
   },
   {
    "duration": 40,
    "start_time": "2022-02-09T19:01:56.065Z"
   },
   {
    "duration": 11,
    "start_time": "2022-02-09T19:01:56.107Z"
   },
   {
    "duration": 7,
    "start_time": "2022-02-09T19:01:56.120Z"
   },
   {
    "duration": 8,
    "start_time": "2022-02-09T19:01:56.129Z"
   },
   {
    "duration": 13,
    "start_time": "2022-02-09T19:01:56.139Z"
   },
   {
    "duration": 11,
    "start_time": "2022-02-09T19:01:56.154Z"
   },
   {
    "duration": 41,
    "start_time": "2022-02-09T19:01:56.167Z"
   },
   {
    "duration": 23,
    "start_time": "2022-02-09T19:01:56.210Z"
   },
   {
    "duration": 17,
    "start_time": "2022-02-09T19:01:56.235Z"
   },
   {
    "duration": 17,
    "start_time": "2022-02-09T19:01:56.254Z"
   },
   {
    "duration": 34,
    "start_time": "2022-02-09T19:01:56.272Z"
   },
   {
    "duration": 11,
    "start_time": "2022-02-09T19:01:56.308Z"
   },
   {
    "duration": 5,
    "start_time": "2022-02-09T19:01:56.321Z"
   },
   {
    "duration": 12,
    "start_time": "2022-02-09T19:01:56.328Z"
   },
   {
    "duration": 9,
    "start_time": "2022-02-09T19:01:56.342Z"
   },
   {
    "duration": 10,
    "start_time": "2022-02-09T19:01:56.353Z"
   },
   {
    "duration": 11,
    "start_time": "2022-02-09T19:01:56.399Z"
   },
   {
    "duration": 12,
    "start_time": "2022-02-09T19:01:56.412Z"
   },
   {
    "duration": 278,
    "start_time": "2022-02-09T19:01:56.426Z"
   },
   {
    "duration": -316,
    "start_time": "2022-02-09T19:01:57.022Z"
   },
   {
    "duration": -320,
    "start_time": "2022-02-09T19:01:57.027Z"
   },
   {
    "duration": -323,
    "start_time": "2022-02-09T19:01:57.031Z"
   },
   {
    "duration": -327,
    "start_time": "2022-02-09T19:01:57.036Z"
   },
   {
    "duration": -330,
    "start_time": "2022-02-09T19:01:57.040Z"
   },
   {
    "duration": -334,
    "start_time": "2022-02-09T19:01:57.045Z"
   },
   {
    "duration": -337,
    "start_time": "2022-02-09T19:01:57.050Z"
   },
   {
    "duration": -340,
    "start_time": "2022-02-09T19:01:57.054Z"
   },
   {
    "duration": -343,
    "start_time": "2022-02-09T19:01:57.058Z"
   },
   {
    "duration": -347,
    "start_time": "2022-02-09T19:01:57.063Z"
   },
   {
    "duration": -349,
    "start_time": "2022-02-09T19:01:57.067Z"
   },
   {
    "duration": -394,
    "start_time": "2022-02-09T19:01:57.113Z"
   },
   {
    "duration": -399,
    "start_time": "2022-02-09T19:01:57.119Z"
   },
   {
    "duration": -404,
    "start_time": "2022-02-09T19:01:57.125Z"
   },
   {
    "duration": -407,
    "start_time": "2022-02-09T19:01:57.130Z"
   },
   {
    "duration": -411,
    "start_time": "2022-02-09T19:01:57.135Z"
   },
   {
    "duration": -415,
    "start_time": "2022-02-09T19:01:57.140Z"
   },
   {
    "duration": -418,
    "start_time": "2022-02-09T19:01:57.145Z"
   },
   {
    "duration": -421,
    "start_time": "2022-02-09T19:01:57.149Z"
   },
   {
    "duration": -429,
    "start_time": "2022-02-09T19:01:57.158Z"
   },
   {
    "duration": -432,
    "start_time": "2022-02-09T19:01:57.162Z"
   },
   {
    "duration": -437,
    "start_time": "2022-02-09T19:01:57.169Z"
   },
   {
    "duration": -441,
    "start_time": "2022-02-09T19:01:57.174Z"
   },
   {
    "duration": -445,
    "start_time": "2022-02-09T19:01:57.179Z"
   },
   {
    "duration": 3,
    "start_time": "2022-02-09T19:04:52.540Z"
   },
   {
    "duration": 77,
    "start_time": "2022-02-09T19:04:52.545Z"
   },
   {
    "duration": 15,
    "start_time": "2022-02-09T19:04:52.625Z"
   },
   {
    "duration": 12,
    "start_time": "2022-02-09T19:04:53.523Z"
   },
   {
    "duration": 18,
    "start_time": "2022-02-09T19:04:53.537Z"
   },
   {
    "duration": 7,
    "start_time": "2022-02-09T19:04:58.333Z"
   },
   {
    "duration": 3,
    "start_time": "2022-02-09T19:06:38.302Z"
   },
   {
    "duration": 56,
    "start_time": "2022-02-09T19:06:38.307Z"
   },
   {
    "duration": 33,
    "start_time": "2022-02-09T19:06:38.366Z"
   },
   {
    "duration": 15,
    "start_time": "2022-02-09T19:06:38.402Z"
   },
   {
    "duration": 12,
    "start_time": "2022-02-09T19:06:38.418Z"
   },
   {
    "duration": 7,
    "start_time": "2022-02-09T19:06:38.432Z"
   },
   {
    "duration": 10,
    "start_time": "2022-02-09T19:06:38.441Z"
   },
   {
    "duration": 49,
    "start_time": "2022-02-09T19:06:38.453Z"
   },
   {
    "duration": 17,
    "start_time": "2022-02-09T19:06:38.505Z"
   },
   {
    "duration": 10,
    "start_time": "2022-02-09T19:06:38.525Z"
   },
   {
    "duration": 7,
    "start_time": "2022-02-09T19:06:38.537Z"
   },
   {
    "duration": 9,
    "start_time": "2022-02-09T19:06:38.546Z"
   },
   {
    "duration": 4,
    "start_time": "2022-02-09T19:06:38.599Z"
   },
   {
    "duration": 8,
    "start_time": "2022-02-09T19:06:38.605Z"
   },
   {
    "duration": 18,
    "start_time": "2022-02-09T19:06:38.615Z"
   },
   {
    "duration": 9,
    "start_time": "2022-02-09T19:06:38.635Z"
   },
   {
    "duration": 52,
    "start_time": "2022-02-09T19:06:38.646Z"
   },
   {
    "duration": 5,
    "start_time": "2022-02-09T19:06:38.701Z"
   },
   {
    "duration": 9,
    "start_time": "2022-02-09T19:06:38.708Z"
   },
   {
    "duration": 7,
    "start_time": "2022-02-09T19:06:38.719Z"
   },
   {
    "duration": 14,
    "start_time": "2022-02-09T19:06:38.728Z"
   },
   {
    "duration": 8,
    "start_time": "2022-02-09T19:06:38.744Z"
   },
   {
    "duration": 8,
    "start_time": "2022-02-09T19:06:38.799Z"
   },
   {
    "duration": 7,
    "start_time": "2022-02-09T19:06:38.809Z"
   },
   {
    "duration": 8,
    "start_time": "2022-02-09T19:06:38.818Z"
   },
   {
    "duration": 11,
    "start_time": "2022-02-09T19:06:38.828Z"
   },
   {
    "duration": 7,
    "start_time": "2022-02-09T19:06:38.845Z"
   },
   {
    "duration": 48,
    "start_time": "2022-02-09T19:06:38.855Z"
   },
   {
    "duration": 11,
    "start_time": "2022-02-09T19:06:38.905Z"
   },
   {
    "duration": 12,
    "start_time": "2022-02-09T19:06:38.918Z"
   },
   {
    "duration": 12,
    "start_time": "2022-02-09T19:06:38.932Z"
   },
   {
    "duration": 5,
    "start_time": "2022-02-09T19:06:38.946Z"
   },
   {
    "duration": 12,
    "start_time": "2022-02-09T19:06:38.952Z"
   },
   {
    "duration": 4,
    "start_time": "2022-02-09T19:06:38.999Z"
   },
   {
    "duration": 412,
    "start_time": "2022-02-09T19:06:39.004Z"
   },
   {
    "duration": 7,
    "start_time": "2022-02-09T19:06:39.418Z"
   },
   {
    "duration": 7,
    "start_time": "2022-02-09T19:06:39.427Z"
   },
   {
    "duration": 4,
    "start_time": "2022-02-09T19:06:39.436Z"
   },
   {
    "duration": 6,
    "start_time": "2022-02-09T19:06:39.442Z"
   },
   {
    "duration": 51,
    "start_time": "2022-02-09T19:06:39.449Z"
   },
   {
    "duration": 5,
    "start_time": "2022-02-09T19:06:39.502Z"
   },
   {
    "duration": 10,
    "start_time": "2022-02-09T19:06:39.509Z"
   },
   {
    "duration": 7,
    "start_time": "2022-02-09T19:06:39.521Z"
   },
   {
    "duration": 9,
    "start_time": "2022-02-09T19:06:39.529Z"
   },
   {
    "duration": 9,
    "start_time": "2022-02-09T19:06:39.540Z"
   },
   {
    "duration": 9,
    "start_time": "2022-02-09T19:06:39.551Z"
   },
   {
    "duration": 39,
    "start_time": "2022-02-09T19:06:39.561Z"
   },
   {
    "duration": 5,
    "start_time": "2022-02-09T19:06:39.602Z"
   },
   {
    "duration": 11,
    "start_time": "2022-02-09T19:06:39.609Z"
   },
   {
    "duration": 7,
    "start_time": "2022-02-09T19:06:39.622Z"
   },
   {
    "duration": 8,
    "start_time": "2022-02-09T19:06:39.630Z"
   },
   {
    "duration": 63,
    "start_time": "2022-02-09T19:06:39.640Z"
   },
   {
    "duration": 17,
    "start_time": "2022-02-09T19:06:39.705Z"
   },
   {
    "duration": 19,
    "start_time": "2022-02-09T19:06:39.724Z"
   },
   {
    "duration": 20,
    "start_time": "2022-02-09T19:06:39.745Z"
   },
   {
    "duration": 38,
    "start_time": "2022-02-09T19:06:39.767Z"
   },
   {
    "duration": 10,
    "start_time": "2022-02-09T19:06:39.806Z"
   },
   {
    "duration": 14,
    "start_time": "2022-02-09T19:06:39.818Z"
   },
   {
    "duration": 12,
    "start_time": "2022-02-09T19:06:39.834Z"
   },
   {
    "duration": 8,
    "start_time": "2022-02-09T19:06:39.848Z"
   },
   {
    "duration": 12,
    "start_time": "2022-02-09T19:06:39.858Z"
   },
   {
    "duration": 31,
    "start_time": "2022-02-09T19:06:39.873Z"
   },
   {
    "duration": 274,
    "start_time": "2022-02-09T19:06:39.907Z"
   },
   {
    "duration": -690,
    "start_time": "2022-02-09T19:06:40.873Z"
   },
   {
    "duration": -696,
    "start_time": "2022-02-09T19:06:40.880Z"
   },
   {
    "duration": -699,
    "start_time": "2022-02-09T19:06:40.884Z"
   },
   {
    "duration": -703,
    "start_time": "2022-02-09T19:06:40.889Z"
   },
   {
    "duration": -707,
    "start_time": "2022-02-09T19:06:40.894Z"
   },
   {
    "duration": -711,
    "start_time": "2022-02-09T19:06:40.899Z"
   },
   {
    "duration": -715,
    "start_time": "2022-02-09T19:06:40.904Z"
   },
   {
    "duration": -718,
    "start_time": "2022-02-09T19:06:40.908Z"
   },
   {
    "duration": -722,
    "start_time": "2022-02-09T19:06:40.913Z"
   },
   {
    "duration": -726,
    "start_time": "2022-02-09T19:06:40.918Z"
   },
   {
    "duration": -733,
    "start_time": "2022-02-09T19:06:40.926Z"
   },
   {
    "duration": -736,
    "start_time": "2022-02-09T19:06:40.930Z"
   },
   {
    "duration": -740,
    "start_time": "2022-02-09T19:06:40.935Z"
   },
   {
    "duration": -744,
    "start_time": "2022-02-09T19:06:40.940Z"
   },
   {
    "duration": -748,
    "start_time": "2022-02-09T19:06:40.945Z"
   },
   {
    "duration": -751,
    "start_time": "2022-02-09T19:06:40.949Z"
   },
   {
    "duration": -755,
    "start_time": "2022-02-09T19:06:40.954Z"
   },
   {
    "duration": -759,
    "start_time": "2022-02-09T19:06:40.959Z"
   },
   {
    "duration": -761,
    "start_time": "2022-02-09T19:06:40.963Z"
   },
   {
    "duration": -775,
    "start_time": "2022-02-09T19:06:40.978Z"
   },
   {
    "duration": -779,
    "start_time": "2022-02-09T19:06:40.983Z"
   },
   {
    "duration": -783,
    "start_time": "2022-02-09T19:06:40.988Z"
   },
   {
    "duration": -788,
    "start_time": "2022-02-09T19:06:40.994Z"
   },
   {
    "duration": -800,
    "start_time": "2022-02-09T19:06:41.007Z"
   },
   {
    "duration": 5,
    "start_time": "2022-02-09T19:08:22.508Z"
   },
   {
    "duration": 3,
    "start_time": "2022-02-09T19:08:40.750Z"
   },
   {
    "duration": 18,
    "start_time": "2022-02-09T19:08:40.968Z"
   },
   {
    "duration": 2,
    "start_time": "2022-02-09T19:09:08.592Z"
   },
   {
    "duration": 64,
    "start_time": "2022-02-09T19:09:08.596Z"
   },
   {
    "duration": 15,
    "start_time": "2022-02-09T19:09:08.662Z"
   },
   {
    "duration": 21,
    "start_time": "2022-02-09T19:09:08.678Z"
   },
   {
    "duration": 10,
    "start_time": "2022-02-09T19:09:08.701Z"
   },
   {
    "duration": 7,
    "start_time": "2022-02-09T19:09:08.713Z"
   },
   {
    "duration": 6,
    "start_time": "2022-02-09T19:09:08.722Z"
   },
   {
    "duration": 6,
    "start_time": "2022-02-09T19:09:08.730Z"
   },
   {
    "duration": 69,
    "start_time": "2022-02-09T19:09:08.738Z"
   },
   {
    "duration": 10,
    "start_time": "2022-02-09T19:09:08.810Z"
   },
   {
    "duration": 6,
    "start_time": "2022-02-09T19:09:08.823Z"
   },
   {
    "duration": 8,
    "start_time": "2022-02-09T19:09:08.831Z"
   },
   {
    "duration": 60,
    "start_time": "2022-02-09T19:09:08.841Z"
   },
   {
    "duration": 11,
    "start_time": "2022-02-09T19:09:08.903Z"
   },
   {
    "duration": 14,
    "start_time": "2022-02-09T19:09:08.916Z"
   },
   {
    "duration": 9,
    "start_time": "2022-02-09T19:09:08.932Z"
   },
   {
    "duration": 11,
    "start_time": "2022-02-09T19:09:08.943Z"
   },
   {
    "duration": 44,
    "start_time": "2022-02-09T19:09:08.956Z"
   },
   {
    "duration": 8,
    "start_time": "2022-02-09T19:09:09.002Z"
   },
   {
    "duration": 8,
    "start_time": "2022-02-09T19:09:09.012Z"
   },
   {
    "duration": 11,
    "start_time": "2022-02-09T19:09:09.022Z"
   },
   {
    "duration": 10,
    "start_time": "2022-02-09T19:09:09.035Z"
   },
   {
    "duration": 52,
    "start_time": "2022-02-09T19:09:09.047Z"
   },
   {
    "duration": 8,
    "start_time": "2022-02-09T19:09:09.101Z"
   },
   {
    "duration": 7,
    "start_time": "2022-02-09T19:09:09.115Z"
   },
   {
    "duration": 12,
    "start_time": "2022-02-09T19:09:09.125Z"
   },
   {
    "duration": 7,
    "start_time": "2022-02-09T19:09:09.139Z"
   },
   {
    "duration": 7,
    "start_time": "2022-02-09T19:09:09.148Z"
   },
   {
    "duration": 7,
    "start_time": "2022-02-09T19:09:09.198Z"
   },
   {
    "duration": 13,
    "start_time": "2022-02-09T19:09:09.207Z"
   },
   {
    "duration": 8,
    "start_time": "2022-02-09T19:09:09.222Z"
   },
   {
    "duration": 6,
    "start_time": "2022-02-09T19:09:09.232Z"
   },
   {
    "duration": 16,
    "start_time": "2022-02-09T19:09:09.240Z"
   },
   {
    "duration": 41,
    "start_time": "2022-02-09T19:09:09.259Z"
   },
   {
    "duration": 390,
    "start_time": "2022-02-09T19:09:09.302Z"
   },
   {
    "duration": 9,
    "start_time": "2022-02-09T19:09:09.694Z"
   },
   {
    "duration": 8,
    "start_time": "2022-02-09T19:09:09.705Z"
   },
   {
    "duration": 5,
    "start_time": "2022-02-09T19:09:09.715Z"
   },
   {
    "duration": 10,
    "start_time": "2022-02-09T19:09:09.723Z"
   },
   {
    "duration": 7,
    "start_time": "2022-02-09T19:09:09.735Z"
   },
   {
    "duration": 54,
    "start_time": "2022-02-09T19:09:09.744Z"
   },
   {
    "duration": 4,
    "start_time": "2022-02-09T19:09:09.801Z"
   },
   {
    "duration": 6,
    "start_time": "2022-02-09T19:09:09.807Z"
   },
   {
    "duration": 6,
    "start_time": "2022-02-09T19:09:09.815Z"
   },
   {
    "duration": 7,
    "start_time": "2022-02-09T19:09:09.823Z"
   },
   {
    "duration": 5,
    "start_time": "2022-02-09T19:09:09.832Z"
   },
   {
    "duration": 5,
    "start_time": "2022-02-09T19:09:09.839Z"
   },
   {
    "duration": 54,
    "start_time": "2022-02-09T19:09:09.846Z"
   },
   {
    "duration": 8,
    "start_time": "2022-02-09T19:09:09.902Z"
   },
   {
    "duration": 5,
    "start_time": "2022-02-09T19:09:09.912Z"
   },
   {
    "duration": 7,
    "start_time": "2022-02-09T19:09:09.918Z"
   },
   {
    "duration": 19,
    "start_time": "2022-02-09T19:09:09.928Z"
   },
   {
    "duration": 68,
    "start_time": "2022-02-09T19:09:09.948Z"
   },
   {
    "duration": 17,
    "start_time": "2022-02-09T19:09:10.017Z"
   },
   {
    "duration": 14,
    "start_time": "2022-02-09T19:09:10.036Z"
   },
   {
    "duration": 48,
    "start_time": "2022-02-09T19:09:10.051Z"
   },
   {
    "duration": 6,
    "start_time": "2022-02-09T19:09:10.101Z"
   },
   {
    "duration": 11,
    "start_time": "2022-02-09T19:09:10.109Z"
   },
   {
    "duration": 8,
    "start_time": "2022-02-09T19:09:10.122Z"
   },
   {
    "duration": 8,
    "start_time": "2022-02-09T19:09:10.131Z"
   },
   {
    "duration": 10,
    "start_time": "2022-02-09T19:09:10.141Z"
   },
   {
    "duration": 9,
    "start_time": "2022-02-09T19:09:10.153Z"
   },
   {
    "duration": 6,
    "start_time": "2022-02-09T19:09:10.199Z"
   },
   {
    "duration": 7,
    "start_time": "2022-02-09T19:09:10.206Z"
   },
   {
    "duration": 19,
    "start_time": "2022-02-09T19:09:10.215Z"
   },
   {
    "duration": 15,
    "start_time": "2022-02-09T19:09:10.236Z"
   },
   {
    "duration": 94,
    "start_time": "2022-02-09T19:09:10.253Z"
   },
   {
    "duration": 4,
    "start_time": "2022-02-09T19:09:10.349Z"
   },
   {
    "duration": 12,
    "start_time": "2022-02-09T19:09:10.355Z"
   },
   {
    "duration": 30,
    "start_time": "2022-02-09T19:09:10.373Z"
   },
   {
    "duration": 9,
    "start_time": "2022-02-09T19:09:10.405Z"
   },
   {
    "duration": 19,
    "start_time": "2022-02-09T19:09:10.416Z"
   },
   {
    "duration": 8,
    "start_time": "2022-02-09T19:09:10.437Z"
   },
   {
    "duration": 5,
    "start_time": "2022-02-09T19:09:10.448Z"
   },
   {
    "duration": 230,
    "start_time": "2022-02-09T19:09:10.455Z"
   },
   {
    "duration": 15,
    "start_time": "2022-02-09T19:09:10.686Z"
   },
   {
    "duration": 11,
    "start_time": "2022-02-09T19:09:10.703Z"
   },
   {
    "duration": 11,
    "start_time": "2022-02-09T19:09:10.716Z"
   },
   {
    "duration": 212,
    "start_time": "2022-02-09T19:09:10.729Z"
   },
   {
    "duration": 7,
    "start_time": "2022-02-09T19:09:10.943Z"
   },
   {
    "duration": 14,
    "start_time": "2022-02-09T19:09:10.952Z"
   },
   {
    "duration": 32,
    "start_time": "2022-02-09T19:09:10.968Z"
   },
   {
    "duration": 198,
    "start_time": "2022-02-09T19:09:11.002Z"
   },
   {
    "duration": 8,
    "start_time": "2022-02-09T19:09:11.202Z"
   },
   {
    "duration": 13,
    "start_time": "2022-02-09T19:09:11.212Z"
   },
   {
    "duration": 7,
    "start_time": "2022-02-09T19:09:11.226Z"
   },
   {
    "duration": 212,
    "start_time": "2022-02-09T19:09:11.234Z"
   },
   {
    "duration": 177,
    "start_time": "2022-02-09T19:14:46.783Z"
   },
   {
    "duration": 270,
    "start_time": "2022-02-09T19:16:18.705Z"
   },
   {
    "duration": 184,
    "start_time": "2022-02-09T19:17:07.435Z"
   },
   {
    "duration": 3,
    "start_time": "2022-02-09T20:01:13.338Z"
   },
   {
    "duration": 66,
    "start_time": "2022-02-09T20:01:13.343Z"
   },
   {
    "duration": 17,
    "start_time": "2022-02-09T20:01:13.411Z"
   },
   {
    "duration": 24,
    "start_time": "2022-02-09T20:01:13.431Z"
   },
   {
    "duration": 13,
    "start_time": "2022-02-09T20:01:13.457Z"
   },
   {
    "duration": 28,
    "start_time": "2022-02-09T20:01:13.472Z"
   },
   {
    "duration": 4,
    "start_time": "2022-02-09T20:01:13.502Z"
   },
   {
    "duration": 16,
    "start_time": "2022-02-09T20:01:13.509Z"
   },
   {
    "duration": 16,
    "start_time": "2022-02-09T20:01:13.528Z"
   },
   {
    "duration": 53,
    "start_time": "2022-02-09T20:01:13.546Z"
   },
   {
    "duration": 6,
    "start_time": "2022-02-09T20:01:13.601Z"
   },
   {
    "duration": 8,
    "start_time": "2022-02-09T20:01:13.609Z"
   },
   {
    "duration": 8,
    "start_time": "2022-02-09T20:01:13.619Z"
   },
   {
    "duration": 7,
    "start_time": "2022-02-09T20:01:13.629Z"
   },
   {
    "duration": 12,
    "start_time": "2022-02-09T20:01:13.638Z"
   },
   {
    "duration": 9,
    "start_time": "2022-02-09T20:01:13.698Z"
   },
   {
    "duration": 8,
    "start_time": "2022-02-09T20:01:13.709Z"
   },
   {
    "duration": 5,
    "start_time": "2022-02-09T20:01:13.719Z"
   },
   {
    "duration": 12,
    "start_time": "2022-02-09T20:01:13.725Z"
   },
   {
    "duration": 9,
    "start_time": "2022-02-09T20:01:13.739Z"
   },
   {
    "duration": 52,
    "start_time": "2022-02-09T20:01:13.750Z"
   },
   {
    "duration": 6,
    "start_time": "2022-02-09T20:01:13.803Z"
   },
   {
    "duration": 9,
    "start_time": "2022-02-09T20:01:13.813Z"
   },
   {
    "duration": 11,
    "start_time": "2022-02-09T20:01:13.825Z"
   },
   {
    "duration": 6,
    "start_time": "2022-02-09T20:01:13.838Z"
   },
   {
    "duration": 54,
    "start_time": "2022-02-09T20:01:13.846Z"
   },
   {
    "duration": 6,
    "start_time": "2022-02-09T20:01:13.902Z"
   },
   {
    "duration": 10,
    "start_time": "2022-02-09T20:01:13.910Z"
   },
   {
    "duration": 10,
    "start_time": "2022-02-09T20:01:13.922Z"
   },
   {
    "duration": 10,
    "start_time": "2022-02-09T20:01:13.934Z"
   },
   {
    "duration": 56,
    "start_time": "2022-02-09T20:01:13.946Z"
   },
   {
    "duration": 4,
    "start_time": "2022-02-09T20:01:14.004Z"
   },
   {
    "duration": 13,
    "start_time": "2022-02-09T20:01:14.010Z"
   },
   {
    "duration": 7,
    "start_time": "2022-02-09T20:01:14.025Z"
   },
   {
    "duration": 414,
    "start_time": "2022-02-09T20:01:14.034Z"
   },
   {
    "duration": 11,
    "start_time": "2022-02-09T20:01:14.450Z"
   },
   {
    "duration": 11,
    "start_time": "2022-02-09T20:01:14.463Z"
   },
   {
    "duration": 25,
    "start_time": "2022-02-09T20:01:14.477Z"
   },
   {
    "duration": 8,
    "start_time": "2022-02-09T20:01:14.504Z"
   },
   {
    "duration": 10,
    "start_time": "2022-02-09T20:01:14.514Z"
   },
   {
    "duration": 11,
    "start_time": "2022-02-09T20:01:14.525Z"
   },
   {
    "duration": 13,
    "start_time": "2022-02-09T20:01:14.538Z"
   },
   {
    "duration": 8,
    "start_time": "2022-02-09T20:01:14.553Z"
   },
   {
    "duration": 38,
    "start_time": "2022-02-09T20:01:14.562Z"
   },
   {
    "duration": 8,
    "start_time": "2022-02-09T20:01:14.602Z"
   },
   {
    "duration": 8,
    "start_time": "2022-02-09T20:01:14.612Z"
   },
   {
    "duration": 5,
    "start_time": "2022-02-09T20:01:14.622Z"
   },
   {
    "duration": 7,
    "start_time": "2022-02-09T20:01:14.629Z"
   },
   {
    "duration": 8,
    "start_time": "2022-02-09T20:01:14.638Z"
   },
   {
    "duration": 53,
    "start_time": "2022-02-09T20:01:14.648Z"
   },
   {
    "duration": 7,
    "start_time": "2022-02-09T20:01:14.703Z"
   },
   {
    "duration": 19,
    "start_time": "2022-02-09T20:01:14.712Z"
   },
   {
    "duration": 18,
    "start_time": "2022-02-09T20:01:14.733Z"
   },
   {
    "duration": 59,
    "start_time": "2022-02-09T20:01:14.753Z"
   },
   {
    "duration": 13,
    "start_time": "2022-02-09T20:01:14.814Z"
   },
   {
    "duration": 16,
    "start_time": "2022-02-09T20:01:14.830Z"
   },
   {
    "duration": 8,
    "start_time": "2022-02-09T20:01:14.848Z"
   },
   {
    "duration": 12,
    "start_time": "2022-02-09T20:01:14.858Z"
   },
   {
    "duration": 32,
    "start_time": "2022-02-09T20:01:14.872Z"
   },
   {
    "duration": 11,
    "start_time": "2022-02-09T20:01:14.906Z"
   },
   {
    "duration": 10,
    "start_time": "2022-02-09T20:01:14.919Z"
   },
   {
    "duration": 15,
    "start_time": "2022-02-09T20:01:14.931Z"
   },
   {
    "duration": 7,
    "start_time": "2022-02-09T20:01:14.948Z"
   },
   {
    "duration": 6,
    "start_time": "2022-02-09T20:01:14.957Z"
   },
   {
    "duration": 38,
    "start_time": "2022-02-09T20:01:14.964Z"
   },
   {
    "duration": 44,
    "start_time": "2022-02-09T20:01:15.004Z"
   },
   {
    "duration": 9,
    "start_time": "2022-02-09T20:01:15.050Z"
   },
   {
    "duration": 4,
    "start_time": "2022-02-09T20:01:15.065Z"
   },
   {
    "duration": 14,
    "start_time": "2022-02-09T20:01:15.071Z"
   },
   {
    "duration": 22,
    "start_time": "2022-02-09T20:01:15.087Z"
   },
   {
    "duration": 7,
    "start_time": "2022-02-09T20:01:15.111Z"
   },
   {
    "duration": 15,
    "start_time": "2022-02-09T20:01:15.121Z"
   },
   {
    "duration": 7,
    "start_time": "2022-02-09T20:01:15.138Z"
   },
   {
    "duration": 7,
    "start_time": "2022-02-09T20:01:15.147Z"
   },
   {
    "duration": 240,
    "start_time": "2022-02-09T20:01:15.155Z"
   },
   {
    "duration": 6,
    "start_time": "2022-02-09T20:01:15.397Z"
   },
   {
    "duration": 20,
    "start_time": "2022-02-09T20:01:15.405Z"
   },
   {
    "duration": 7,
    "start_time": "2022-02-09T20:01:15.427Z"
   },
   {
    "duration": 232,
    "start_time": "2022-02-09T20:01:15.436Z"
   },
   {
    "duration": 8,
    "start_time": "2022-02-09T20:01:15.670Z"
   },
   {
    "duration": 28,
    "start_time": "2022-02-09T20:01:15.679Z"
   },
   {
    "duration": 6,
    "start_time": "2022-02-09T20:01:15.709Z"
   },
   {
    "duration": 204,
    "start_time": "2022-02-09T20:01:15.717Z"
   },
   {
    "duration": 7,
    "start_time": "2022-02-09T20:01:15.923Z"
   },
   {
    "duration": 19,
    "start_time": "2022-02-09T20:01:15.932Z"
   },
   {
    "duration": 7,
    "start_time": "2022-02-09T20:01:15.953Z"
   },
   {
    "duration": 206,
    "start_time": "2022-02-09T20:01:15.961Z"
   },
   {
    "duration": 2,
    "start_time": "2022-02-09T20:03:38.372Z"
   },
   {
    "duration": 58,
    "start_time": "2022-02-09T20:03:38.380Z"
   },
   {
    "duration": 14,
    "start_time": "2022-02-09T20:03:38.440Z"
   },
   {
    "duration": 13,
    "start_time": "2022-02-09T20:03:38.456Z"
   },
   {
    "duration": 11,
    "start_time": "2022-02-09T20:03:38.497Z"
   },
   {
    "duration": 6,
    "start_time": "2022-02-09T20:03:38.510Z"
   },
   {
    "duration": 4,
    "start_time": "2022-02-09T20:03:38.518Z"
   },
   {
    "duration": 5,
    "start_time": "2022-02-09T20:03:38.524Z"
   },
   {
    "duration": 14,
    "start_time": "2022-02-09T20:03:38.532Z"
   },
   {
    "duration": 8,
    "start_time": "2022-02-09T20:03:38.600Z"
   },
   {
    "duration": 6,
    "start_time": "2022-02-09T20:03:38.609Z"
   },
   {
    "duration": 5,
    "start_time": "2022-02-09T20:03:38.617Z"
   },
   {
    "duration": 4,
    "start_time": "2022-02-09T20:03:38.624Z"
   },
   {
    "duration": 7,
    "start_time": "2022-02-09T20:03:38.630Z"
   },
   {
    "duration": 67,
    "start_time": "2022-02-09T20:03:38.638Z"
   },
   {
    "duration": 9,
    "start_time": "2022-02-09T20:03:38.706Z"
   },
   {
    "duration": 10,
    "start_time": "2022-02-09T20:03:38.716Z"
   },
   {
    "duration": 6,
    "start_time": "2022-02-09T20:03:38.728Z"
   },
   {
    "duration": 7,
    "start_time": "2022-02-09T20:03:38.736Z"
   },
   {
    "duration": 58,
    "start_time": "2022-02-09T20:03:38.745Z"
   },
   {
    "duration": 7,
    "start_time": "2022-02-09T20:03:38.805Z"
   },
   {
    "duration": 7,
    "start_time": "2022-02-09T20:03:38.815Z"
   },
   {
    "duration": 9,
    "start_time": "2022-02-09T20:03:38.825Z"
   },
   {
    "duration": 6,
    "start_time": "2022-02-09T20:03:38.839Z"
   },
   {
    "duration": 6,
    "start_time": "2022-02-09T20:03:38.899Z"
   },
   {
    "duration": 11,
    "start_time": "2022-02-09T20:03:38.907Z"
   },
   {
    "duration": 27,
    "start_time": "2022-02-09T20:03:38.920Z"
   },
   {
    "duration": 10,
    "start_time": "2022-02-09T20:03:38.949Z"
   },
   {
    "duration": 19,
    "start_time": "2022-02-09T20:03:38.960Z"
   },
   {
    "duration": 38,
    "start_time": "2022-02-09T20:03:38.981Z"
   },
   {
    "duration": 28,
    "start_time": "2022-02-09T20:03:39.021Z"
   },
   {
    "duration": 14,
    "start_time": "2022-02-09T20:03:39.051Z"
   },
   {
    "duration": 34,
    "start_time": "2022-02-09T20:03:39.067Z"
   },
   {
    "duration": 17,
    "start_time": "2022-02-09T20:03:39.103Z"
   },
   {
    "duration": 391,
    "start_time": "2022-02-09T20:03:39.122Z"
   },
   {
    "duration": 8,
    "start_time": "2022-02-09T20:03:39.515Z"
   },
   {
    "duration": 9,
    "start_time": "2022-02-09T20:03:39.524Z"
   },
   {
    "duration": 6,
    "start_time": "2022-02-09T20:03:39.534Z"
   },
   {
    "duration": 5,
    "start_time": "2022-02-09T20:03:39.542Z"
   },
   {
    "duration": 6,
    "start_time": "2022-02-09T20:03:39.549Z"
   },
   {
    "duration": 45,
    "start_time": "2022-02-09T20:03:39.557Z"
   },
   {
    "duration": 5,
    "start_time": "2022-02-09T20:03:39.604Z"
   },
   {
    "duration": 7,
    "start_time": "2022-02-09T20:03:39.611Z"
   },
   {
    "duration": 7,
    "start_time": "2022-02-09T20:03:39.619Z"
   },
   {
    "duration": 7,
    "start_time": "2022-02-09T20:03:39.628Z"
   },
   {
    "duration": 6,
    "start_time": "2022-02-09T20:03:39.637Z"
   },
   {
    "duration": 4,
    "start_time": "2022-02-09T20:03:39.645Z"
   },
   {
    "duration": 49,
    "start_time": "2022-02-09T20:03:39.651Z"
   },
   {
    "duration": 10,
    "start_time": "2022-02-09T20:03:39.702Z"
   },
   {
    "duration": 6,
    "start_time": "2022-02-09T20:03:39.714Z"
   },
   {
    "duration": 11,
    "start_time": "2022-02-09T20:03:39.722Z"
   },
   {
    "duration": 19,
    "start_time": "2022-02-09T20:03:39.735Z"
   },
   {
    "duration": 52,
    "start_time": "2022-02-09T20:03:39.756Z"
   },
   {
    "duration": 17,
    "start_time": "2022-02-09T20:03:39.810Z"
   },
   {
    "duration": 12,
    "start_time": "2022-02-09T20:03:39.829Z"
   },
   {
    "duration": 9,
    "start_time": "2022-02-09T20:03:39.843Z"
   },
   {
    "duration": 7,
    "start_time": "2022-02-09T20:03:39.854Z"
   },
   {
    "duration": 41,
    "start_time": "2022-02-09T20:03:39.863Z"
   },
   {
    "duration": 7,
    "start_time": "2022-02-09T20:03:39.905Z"
   },
   {
    "duration": 7,
    "start_time": "2022-02-09T20:03:39.913Z"
   },
   {
    "duration": 11,
    "start_time": "2022-02-09T20:03:39.921Z"
   },
   {
    "duration": 6,
    "start_time": "2022-02-09T20:03:39.934Z"
   },
   {
    "duration": 7,
    "start_time": "2022-02-09T20:03:39.942Z"
   },
   {
    "duration": 7,
    "start_time": "2022-02-09T20:03:39.951Z"
   },
   {
    "duration": 48,
    "start_time": "2022-02-09T20:03:39.960Z"
   },
   {
    "duration": 17,
    "start_time": "2022-02-09T20:03:40.010Z"
   },
   {
    "duration": 10,
    "start_time": "2022-02-09T20:03:40.029Z"
   },
   {
    "duration": 4,
    "start_time": "2022-02-09T20:03:40.041Z"
   },
   {
    "duration": 10,
    "start_time": "2022-02-09T20:03:40.051Z"
   },
   {
    "duration": 49,
    "start_time": "2022-02-09T20:03:40.062Z"
   },
   {
    "duration": 7,
    "start_time": "2022-02-09T20:03:40.113Z"
   },
   {
    "duration": 20,
    "start_time": "2022-02-09T20:03:40.122Z"
   },
   {
    "duration": 6,
    "start_time": "2022-02-09T20:03:40.144Z"
   },
   {
    "duration": 6,
    "start_time": "2022-02-09T20:03:40.152Z"
   },
   {
    "duration": 221,
    "start_time": "2022-02-09T20:03:40.159Z"
   },
   {
    "duration": 5,
    "start_time": "2022-02-09T20:03:40.382Z"
   },
   {
    "duration": 10,
    "start_time": "2022-02-09T20:03:40.399Z"
   },
   {
    "duration": 9,
    "start_time": "2022-02-09T20:03:40.411Z"
   },
   {
    "duration": 280,
    "start_time": "2022-02-09T20:03:40.422Z"
   },
   {
    "duration": 8,
    "start_time": "2022-02-09T20:03:40.703Z"
   },
   {
    "duration": 14,
    "start_time": "2022-02-09T20:03:40.713Z"
   },
   {
    "duration": 7,
    "start_time": "2022-02-09T20:03:40.729Z"
   },
   {
    "duration": 206,
    "start_time": "2022-02-09T20:03:40.737Z"
   },
   {
    "duration": 7,
    "start_time": "2022-02-09T20:03:40.945Z"
   },
   {
    "duration": 14,
    "start_time": "2022-02-09T20:03:40.954Z"
   },
   {
    "duration": 6,
    "start_time": "2022-02-09T20:03:40.969Z"
   },
   {
    "duration": 177,
    "start_time": "2022-02-09T20:03:40.999Z"
   },
   {
    "duration": 530,
    "start_time": "2022-02-15T09:23:30.083Z"
   },
   {
    "duration": 54,
    "start_time": "2022-02-15T09:23:30.614Z"
   },
   {
    "duration": 17,
    "start_time": "2022-02-15T09:23:30.670Z"
   },
   {
    "duration": 19,
    "start_time": "2022-02-15T09:23:30.688Z"
   },
   {
    "duration": 25,
    "start_time": "2022-02-15T09:23:30.708Z"
   },
   {
    "duration": 15,
    "start_time": "2022-02-15T09:23:30.735Z"
   },
   {
    "duration": 21,
    "start_time": "2022-02-15T09:23:30.751Z"
   },
   {
    "duration": 18,
    "start_time": "2022-02-15T09:23:30.774Z"
   },
   {
    "duration": 20,
    "start_time": "2022-02-15T09:23:30.794Z"
   },
   {
    "duration": 21,
    "start_time": "2022-02-15T09:23:30.816Z"
   },
   {
    "duration": 7,
    "start_time": "2022-02-15T09:23:30.839Z"
   },
   {
    "duration": 11,
    "start_time": "2022-02-15T09:23:30.847Z"
   },
   {
    "duration": 10,
    "start_time": "2022-02-15T09:23:30.859Z"
   },
   {
    "duration": 10,
    "start_time": "2022-02-15T09:23:30.870Z"
   },
   {
    "duration": 13,
    "start_time": "2022-02-15T09:23:30.882Z"
   },
   {
    "duration": 7,
    "start_time": "2022-02-15T09:23:30.896Z"
   },
   {
    "duration": 9,
    "start_time": "2022-02-15T09:23:30.905Z"
   },
   {
    "duration": 19,
    "start_time": "2022-02-15T09:23:30.915Z"
   },
   {
    "duration": 10,
    "start_time": "2022-02-15T09:23:30.935Z"
   },
   {
    "duration": 14,
    "start_time": "2022-02-15T09:23:30.947Z"
   },
   {
    "duration": 14,
    "start_time": "2022-02-15T09:23:30.963Z"
   },
   {
    "duration": 20,
    "start_time": "2022-02-15T09:23:30.979Z"
   },
   {
    "duration": 21,
    "start_time": "2022-02-15T09:23:31.003Z"
   },
   {
    "duration": 14,
    "start_time": "2022-02-15T09:23:31.026Z"
   },
   {
    "duration": 11,
    "start_time": "2022-02-15T09:23:31.042Z"
   },
   {
    "duration": 16,
    "start_time": "2022-02-15T09:23:31.054Z"
   },
   {
    "duration": 16,
    "start_time": "2022-02-15T09:23:31.071Z"
   },
   {
    "duration": 13,
    "start_time": "2022-02-15T09:23:31.088Z"
   },
   {
    "duration": 13,
    "start_time": "2022-02-15T09:23:31.103Z"
   },
   {
    "duration": 15,
    "start_time": "2022-02-15T09:23:31.118Z"
   },
   {
    "duration": 14,
    "start_time": "2022-02-15T09:23:31.135Z"
   },
   {
    "duration": 6,
    "start_time": "2022-02-15T09:23:31.151Z"
   },
   {
    "duration": 15,
    "start_time": "2022-02-15T09:23:31.159Z"
   },
   {
    "duration": 4,
    "start_time": "2022-02-15T09:23:31.175Z"
   },
   {
    "duration": 324,
    "start_time": "2022-02-15T09:23:31.181Z"
   },
   {
    "duration": 6,
    "start_time": "2022-02-15T09:23:31.506Z"
   },
   {
    "duration": 17,
    "start_time": "2022-02-15T09:23:31.514Z"
   },
   {
    "duration": 4,
    "start_time": "2022-02-15T09:23:31.533Z"
   },
   {
    "duration": 10,
    "start_time": "2022-02-15T09:23:31.538Z"
   },
   {
    "duration": 6,
    "start_time": "2022-02-15T09:23:31.549Z"
   },
   {
    "duration": 4,
    "start_time": "2022-02-15T09:23:31.557Z"
   },
   {
    "duration": 6,
    "start_time": "2022-02-15T09:23:31.563Z"
   },
   {
    "duration": 9,
    "start_time": "2022-02-15T09:23:31.570Z"
   },
   {
    "duration": 12,
    "start_time": "2022-02-15T09:23:31.580Z"
   },
   {
    "duration": 9,
    "start_time": "2022-02-15T09:23:31.594Z"
   },
   {
    "duration": 8,
    "start_time": "2022-02-15T09:23:31.605Z"
   },
   {
    "duration": 19,
    "start_time": "2022-02-15T09:23:31.615Z"
   },
   {
    "duration": 10,
    "start_time": "2022-02-15T09:23:31.636Z"
   },
   {
    "duration": 9,
    "start_time": "2022-02-15T09:23:31.647Z"
   },
   {
    "duration": 7,
    "start_time": "2022-02-15T09:23:31.657Z"
   },
   {
    "duration": 9,
    "start_time": "2022-02-15T09:23:31.666Z"
   },
   {
    "duration": 22,
    "start_time": "2022-02-15T09:23:31.676Z"
   },
   {
    "duration": 16,
    "start_time": "2022-02-15T09:23:31.700Z"
   },
   {
    "duration": 26,
    "start_time": "2022-02-15T09:23:31.717Z"
   },
   {
    "duration": 10,
    "start_time": "2022-02-15T09:23:31.744Z"
   },
   {
    "duration": 8,
    "start_time": "2022-02-15T09:23:31.756Z"
   },
   {
    "duration": 7,
    "start_time": "2022-02-15T09:23:31.766Z"
   },
   {
    "duration": 11,
    "start_time": "2022-02-15T09:23:31.775Z"
   },
   {
    "duration": 10,
    "start_time": "2022-02-15T09:23:31.787Z"
   },
   {
    "duration": 11,
    "start_time": "2022-02-15T09:23:31.798Z"
   },
   {
    "duration": 11,
    "start_time": "2022-02-15T09:23:31.810Z"
   },
   {
    "duration": 5,
    "start_time": "2022-02-15T09:23:31.832Z"
   },
   {
    "duration": 9,
    "start_time": "2022-02-15T09:23:31.839Z"
   },
   {
    "duration": 8,
    "start_time": "2022-02-15T09:23:31.850Z"
   },
   {
    "duration": 17,
    "start_time": "2022-02-15T09:23:31.860Z"
   },
   {
    "duration": 14,
    "start_time": "2022-02-15T09:23:31.878Z"
   },
   {
    "duration": 8,
    "start_time": "2022-02-15T09:23:31.894Z"
   },
   {
    "duration": 4,
    "start_time": "2022-02-15T09:23:31.906Z"
   },
   {
    "duration": 12,
    "start_time": "2022-02-15T09:23:31.912Z"
   },
   {
    "duration": 14,
    "start_time": "2022-02-15T09:23:31.925Z"
   },
   {
    "duration": 5,
    "start_time": "2022-02-15T09:23:31.941Z"
   },
   {
    "duration": 17,
    "start_time": "2022-02-15T09:23:31.947Z"
   },
   {
    "duration": 6,
    "start_time": "2022-02-15T09:23:31.965Z"
   },
   {
    "duration": 304,
    "start_time": "2022-02-15T09:23:31.973Z"
   },
   {
    "duration": -460,
    "start_time": "2022-02-15T09:23:32.739Z"
   },
   {
    "duration": -463,
    "start_time": "2022-02-15T09:23:32.743Z"
   },
   {
    "duration": -466,
    "start_time": "2022-02-15T09:23:32.747Z"
   },
   {
    "duration": -469,
    "start_time": "2022-02-15T09:23:32.751Z"
   },
   {
    "duration": -479,
    "start_time": "2022-02-15T09:23:32.762Z"
   },
   {
    "duration": -482,
    "start_time": "2022-02-15T09:23:32.766Z"
   },
   {
    "duration": -489,
    "start_time": "2022-02-15T09:23:32.774Z"
   },
   {
    "duration": -492,
    "start_time": "2022-02-15T09:23:32.778Z"
   },
   {
    "duration": -497,
    "start_time": "2022-02-15T09:23:32.783Z"
   },
   {
    "duration": -505,
    "start_time": "2022-02-15T09:23:32.792Z"
   },
   {
    "duration": -508,
    "start_time": "2022-02-15T09:23:32.796Z"
   },
   {
    "duration": -513,
    "start_time": "2022-02-15T09:23:32.802Z"
   },
   {
    "duration": -517,
    "start_time": "2022-02-15T09:23:32.807Z"
   },
   {
    "duration": -520,
    "start_time": "2022-02-15T09:23:32.811Z"
   },
   {
    "duration": 53412,
    "start_time": "2022-02-15T09:23:40.841Z"
   },
   {
    "duration": 577,
    "start_time": "2022-02-15T09:24:34.255Z"
   },
   {
    "duration": 150,
    "start_time": "2022-02-15T09:24:34.835Z"
   },
   {
    "duration": 7,
    "start_time": "2022-02-15T09:24:34.987Z"
   },
   {
    "duration": 10,
    "start_time": "2022-02-15T09:24:34.996Z"
   },
   {
    "duration": 25,
    "start_time": "2022-02-15T09:24:35.008Z"
   },
   {
    "duration": 145,
    "start_time": "2022-02-15T09:24:35.035Z"
   },
   {
    "duration": 6,
    "start_time": "2022-02-15T09:24:35.183Z"
   },
   {
    "duration": 10,
    "start_time": "2022-02-15T09:24:35.191Z"
   },
   {
    "duration": 6,
    "start_time": "2022-02-15T09:24:35.203Z"
   },
   {
    "duration": 152,
    "start_time": "2022-02-15T09:24:35.210Z"
   },
   {
    "duration": 8,
    "start_time": "2022-02-15T09:24:35.364Z"
   },
   {
    "duration": 11,
    "start_time": "2022-02-15T09:24:35.373Z"
   },
   {
    "duration": 6,
    "start_time": "2022-02-15T09:24:35.386Z"
   },
   {
    "duration": 222,
    "start_time": "2022-02-15T09:24:35.393Z"
   },
   {
    "duration": 384,
    "start_time": "2022-02-16T11:49:40.868Z"
   },
   {
    "duration": 761,
    "start_time": "2022-02-16T11:49:45.701Z"
   },
   {
    "duration": 60,
    "start_time": "2022-02-16T11:49:46.464Z"
   },
   {
    "duration": 31,
    "start_time": "2022-02-16T11:49:46.527Z"
   },
   {
    "duration": 16,
    "start_time": "2022-02-16T11:49:46.561Z"
   },
   {
    "duration": 13,
    "start_time": "2022-02-16T11:49:46.579Z"
   },
   {
    "duration": 41,
    "start_time": "2022-02-16T11:49:46.594Z"
   },
   {
    "duration": 7,
    "start_time": "2022-02-16T11:49:46.637Z"
   },
   {
    "duration": 4,
    "start_time": "2022-02-16T11:49:46.648Z"
   },
   {
    "duration": 17,
    "start_time": "2022-02-16T11:49:46.655Z"
   },
   {
    "duration": 11,
    "start_time": "2022-02-16T11:49:46.674Z"
   },
   {
    "duration": 6,
    "start_time": "2022-02-16T11:49:48.938Z"
   },
   {
    "duration": 7,
    "start_time": "2022-02-16T11:50:51.805Z"
   },
   {
    "duration": 7,
    "start_time": "2022-02-16T11:51:33.702Z"
   },
   {
    "duration": 7,
    "start_time": "2022-02-16T11:51:54.753Z"
   },
   {
    "duration": 83,
    "start_time": "2022-02-16T11:55:02.234Z"
   },
   {
    "duration": 295,
    "start_time": "2022-02-16T11:55:33.612Z"
   },
   {
    "duration": 74,
    "start_time": "2022-02-16T11:55:41.397Z"
   },
   {
    "duration": 266,
    "start_time": "2022-02-16T11:55:46.398Z"
   },
   {
    "duration": 3,
    "start_time": "2022-02-16T11:56:03.457Z"
   },
   {
    "duration": 77,
    "start_time": "2022-02-16T11:56:03.465Z"
   },
   {
    "duration": 19,
    "start_time": "2022-02-16T11:56:03.545Z"
   },
   {
    "duration": 31,
    "start_time": "2022-02-16T11:56:03.567Z"
   },
   {
    "duration": 13,
    "start_time": "2022-02-16T11:56:03.601Z"
   },
   {
    "duration": 9,
    "start_time": "2022-02-16T11:56:03.633Z"
   },
   {
    "duration": 10,
    "start_time": "2022-02-16T11:56:03.644Z"
   },
   {
    "duration": 12,
    "start_time": "2022-02-16T11:56:03.656Z"
   },
   {
    "duration": 18,
    "start_time": "2022-02-16T11:56:03.672Z"
   },
   {
    "duration": 44,
    "start_time": "2022-02-16T11:56:03.693Z"
   },
   {
    "duration": 5,
    "start_time": "2022-02-16T11:56:03.740Z"
   },
   {
    "duration": 17,
    "start_time": "2022-02-16T11:56:03.747Z"
   },
   {
    "duration": 14,
    "start_time": "2022-02-16T11:56:03.766Z"
   },
   {
    "duration": 15,
    "start_time": "2022-02-16T11:56:03.782Z"
   },
   {
    "duration": 12,
    "start_time": "2022-02-16T11:56:05.835Z"
   },
   {
    "duration": 38,
    "start_time": "2022-02-16T11:56:12.692Z"
   },
   {
    "duration": 12,
    "start_time": "2022-02-16T11:56:27.289Z"
   },
   {
    "duration": 91,
    "start_time": "2022-02-16T11:57:48.739Z"
   },
   {
    "duration": 4,
    "start_time": "2022-02-16T11:58:13.185Z"
   },
   {
    "duration": 64,
    "start_time": "2022-02-16T11:58:13.193Z"
   },
   {
    "duration": 21,
    "start_time": "2022-02-16T11:58:13.260Z"
   },
   {
    "duration": 47,
    "start_time": "2022-02-16T11:58:13.285Z"
   },
   {
    "duration": 13,
    "start_time": "2022-02-16T11:58:13.335Z"
   },
   {
    "duration": 8,
    "start_time": "2022-02-16T11:58:13.350Z"
   },
   {
    "duration": 6,
    "start_time": "2022-02-16T11:58:13.362Z"
   },
   {
    "duration": 7,
    "start_time": "2022-02-16T11:58:13.372Z"
   },
   {
    "duration": 67,
    "start_time": "2022-02-16T11:58:13.382Z"
   },
   {
    "duration": 19,
    "start_time": "2022-02-16T11:58:13.452Z"
   },
   {
    "duration": 6,
    "start_time": "2022-02-16T11:58:13.474Z"
   },
   {
    "duration": 10,
    "start_time": "2022-02-16T11:58:13.482Z"
   },
   {
    "duration": 5,
    "start_time": "2022-02-16T11:58:13.494Z"
   },
   {
    "duration": 6,
    "start_time": "2022-02-16T11:58:13.533Z"
   },
   {
    "duration": 13,
    "start_time": "2022-02-16T11:58:13.541Z"
   },
   {
    "duration": 11,
    "start_time": "2022-02-16T11:58:13.557Z"
   },
   {
    "duration": 9,
    "start_time": "2022-02-16T11:58:13.570Z"
   },
   {
    "duration": 6,
    "start_time": "2022-02-16T11:58:13.581Z"
   },
   {
    "duration": 7,
    "start_time": "2022-02-16T11:58:13.634Z"
   },
   {
    "duration": 8,
    "start_time": "2022-02-16T11:58:13.643Z"
   },
   {
    "duration": 8,
    "start_time": "2022-02-16T11:58:13.653Z"
   },
   {
    "duration": 9,
    "start_time": "2022-02-16T11:58:13.664Z"
   },
   {
    "duration": 12,
    "start_time": "2022-02-16T11:58:15.690Z"
   },
   {
    "duration": 3,
    "start_time": "2022-02-16T12:02:55.145Z"
   },
   {
    "duration": 59,
    "start_time": "2022-02-16T12:02:55.155Z"
   },
   {
    "duration": 28,
    "start_time": "2022-02-16T12:02:55.217Z"
   },
   {
    "duration": 20,
    "start_time": "2022-02-16T12:02:55.249Z"
   },
   {
    "duration": 12,
    "start_time": "2022-02-16T12:02:55.272Z"
   },
   {
    "duration": 46,
    "start_time": "2022-02-16T12:02:55.286Z"
   },
   {
    "duration": 5,
    "start_time": "2022-02-16T12:02:55.335Z"
   },
   {
    "duration": 13,
    "start_time": "2022-02-16T12:02:55.342Z"
   },
   {
    "duration": 18,
    "start_time": "2022-02-16T12:02:55.357Z"
   },
   {
    "duration": 53,
    "start_time": "2022-02-16T12:02:55.379Z"
   },
   {
    "duration": 8,
    "start_time": "2022-02-16T12:02:55.435Z"
   },
   {
    "duration": 16,
    "start_time": "2022-02-16T12:02:55.445Z"
   },
   {
    "duration": 16,
    "start_time": "2022-02-16T12:02:55.463Z"
   },
   {
    "duration": 27,
    "start_time": "2022-02-16T12:02:55.481Z"
   },
   {
    "duration": 24,
    "start_time": "2022-02-16T12:02:55.511Z"
   },
   {
    "duration": 26,
    "start_time": "2022-02-16T12:02:55.538Z"
   },
   {
    "duration": 23,
    "start_time": "2022-02-16T12:02:55.567Z"
   },
   {
    "duration": 22,
    "start_time": "2022-02-16T12:02:55.592Z"
   },
   {
    "duration": 21,
    "start_time": "2022-02-16T12:02:55.617Z"
   },
   {
    "duration": 14,
    "start_time": "2022-02-16T12:02:55.641Z"
   },
   {
    "duration": 18,
    "start_time": "2022-02-16T12:02:55.657Z"
   },
   {
    "duration": 35,
    "start_time": "2022-02-16T12:02:55.678Z"
   },
   {
    "duration": 38,
    "start_time": "2022-02-16T12:02:55.715Z"
   },
   {
    "duration": 8,
    "start_time": "2022-02-16T12:02:55.755Z"
   },
   {
    "duration": 16,
    "start_time": "2022-02-16T12:02:55.765Z"
   },
   {
    "duration": 24,
    "start_time": "2022-02-16T12:02:55.783Z"
   },
   {
    "duration": 11,
    "start_time": "2022-02-16T12:02:55.809Z"
   },
   {
    "duration": 11,
    "start_time": "2022-02-16T12:02:55.831Z"
   },
   {
    "duration": 13,
    "start_time": "2022-02-16T12:02:55.845Z"
   },
   {
    "duration": 14,
    "start_time": "2022-02-16T12:02:55.860Z"
   },
   {
    "duration": 22,
    "start_time": "2022-02-16T12:02:55.876Z"
   },
   {
    "duration": 6,
    "start_time": "2022-02-16T12:02:55.901Z"
   },
   {
    "duration": 30,
    "start_time": "2022-02-16T12:02:55.909Z"
   },
   {
    "duration": 5,
    "start_time": "2022-02-16T12:02:55.942Z"
   },
   {
    "duration": 750,
    "start_time": "2022-02-16T12:02:55.949Z"
   },
   {
    "duration": 12,
    "start_time": "2022-02-16T12:02:56.701Z"
   },
   {
    "duration": 10,
    "start_time": "2022-02-16T12:02:56.731Z"
   },
   {
    "duration": 16,
    "start_time": "2022-02-16T12:02:56.744Z"
   },
   {
    "duration": 22,
    "start_time": "2022-02-16T12:02:56.762Z"
   },
   {
    "duration": 33,
    "start_time": "2022-02-16T12:02:56.787Z"
   },
   {
    "duration": 19,
    "start_time": "2022-02-16T12:02:56.822Z"
   },
   {
    "duration": 15,
    "start_time": "2022-02-16T12:02:56.844Z"
   },
   {
    "duration": 10,
    "start_time": "2022-02-16T12:02:56.862Z"
   },
   {
    "duration": 22,
    "start_time": "2022-02-16T12:02:56.876Z"
   },
   {
    "duration": 25,
    "start_time": "2022-02-16T12:02:56.900Z"
   },
   {
    "duration": 17,
    "start_time": "2022-02-16T12:02:56.927Z"
   },
   {
    "duration": 20,
    "start_time": "2022-02-16T12:02:56.946Z"
   },
   {
    "duration": 22,
    "start_time": "2022-02-16T12:02:56.968Z"
   },
   {
    "duration": 16,
    "start_time": "2022-02-16T12:02:56.993Z"
   },
   {
    "duration": 15,
    "start_time": "2022-02-16T12:02:57.012Z"
   },
   {
    "duration": 22,
    "start_time": "2022-02-16T12:02:57.029Z"
   },
   {
    "duration": 32,
    "start_time": "2022-02-16T12:02:57.054Z"
   },
   {
    "duration": 28,
    "start_time": "2022-02-16T12:02:57.088Z"
   },
   {
    "duration": 32,
    "start_time": "2022-02-16T12:02:57.118Z"
   },
   {
    "duration": 15,
    "start_time": "2022-02-16T12:02:57.153Z"
   },
   {
    "duration": 38,
    "start_time": "2022-02-16T12:02:57.171Z"
   },
   {
    "duration": 30,
    "start_time": "2022-02-16T12:02:57.212Z"
   },
   {
    "duration": 24,
    "start_time": "2022-02-16T12:02:57.245Z"
   },
   {
    "duration": 27,
    "start_time": "2022-02-16T12:02:57.272Z"
   },
   {
    "duration": 15,
    "start_time": "2022-02-16T12:02:57.302Z"
   },
   {
    "duration": 32,
    "start_time": "2022-02-16T12:02:57.320Z"
   },
   {
    "duration": 32,
    "start_time": "2022-02-16T12:02:57.354Z"
   },
   {
    "duration": 25,
    "start_time": "2022-02-16T12:02:57.388Z"
   },
   {
    "duration": 39,
    "start_time": "2022-02-16T12:02:57.416Z"
   },
   {
    "duration": 35,
    "start_time": "2022-02-16T12:02:57.457Z"
   },
   {
    "duration": 39,
    "start_time": "2022-02-16T12:02:57.494Z"
   },
   {
    "duration": 29,
    "start_time": "2022-02-16T12:02:57.535Z"
   },
   {
    "duration": 16,
    "start_time": "2022-02-16T12:02:57.567Z"
   },
   {
    "duration": 28,
    "start_time": "2022-02-16T12:02:57.585Z"
   },
   {
    "duration": 22,
    "start_time": "2022-02-16T12:02:57.615Z"
   },
   {
    "duration": 19,
    "start_time": "2022-02-16T12:02:57.640Z"
   },
   {
    "duration": 31,
    "start_time": "2022-02-16T12:02:57.662Z"
   },
   {
    "duration": 18,
    "start_time": "2022-02-16T12:02:57.695Z"
   },
   {
    "duration": 664,
    "start_time": "2022-02-16T12:02:57.715Z"
   },
   {
    "duration": 676,
    "start_time": "2022-02-16T12:02:58.382Z"
   },
   {
    "duration": 4,
    "start_time": "2022-02-16T12:03:01.103Z"
   },
   {
    "duration": 6649,
    "start_time": "2022-02-16T12:03:02.449Z"
   },
   {
    "duration": 246,
    "start_time": "2022-02-16T12:03:27.261Z"
   },
   {
    "duration": 6157,
    "start_time": "2022-02-16T12:05:38.249Z"
   },
   {
    "duration": 4,
    "start_time": "2022-02-16T12:08:29.709Z"
   },
   {
    "duration": 811,
    "start_time": "2022-02-17T10:56:31.884Z"
   },
   {
    "duration": 70,
    "start_time": "2022-02-17T10:56:32.698Z"
   },
   {
    "duration": 35,
    "start_time": "2022-02-17T10:56:32.771Z"
   },
   {
    "duration": 26,
    "start_time": "2022-02-17T10:56:32.809Z"
   },
   {
    "duration": 25,
    "start_time": "2022-02-17T10:56:32.837Z"
   },
   {
    "duration": 8,
    "start_time": "2022-02-17T10:56:32.864Z"
   },
   {
    "duration": 22,
    "start_time": "2022-02-17T10:56:32.875Z"
   },
   {
    "duration": 6,
    "start_time": "2022-02-17T10:56:32.900Z"
   },
   {
    "duration": 21,
    "start_time": "2022-02-17T10:56:32.909Z"
   },
   {
    "duration": 14,
    "start_time": "2022-02-17T10:56:32.932Z"
   },
   {
    "duration": 47,
    "start_time": "2022-02-17T10:56:32.949Z"
   },
   {
    "duration": 9,
    "start_time": "2022-02-17T10:56:32.998Z"
   },
   {
    "duration": 8,
    "start_time": "2022-02-17T10:56:33.009Z"
   },
   {
    "duration": 8,
    "start_time": "2022-02-17T10:56:33.019Z"
   },
   {
    "duration": 13,
    "start_time": "2022-02-17T10:56:33.029Z"
   },
   {
    "duration": 50,
    "start_time": "2022-02-17T10:56:33.045Z"
   },
   {
    "duration": 17,
    "start_time": "2022-02-17T10:56:33.098Z"
   },
   {
    "duration": 7,
    "start_time": "2022-02-17T10:56:33.118Z"
   },
   {
    "duration": 6,
    "start_time": "2022-02-17T10:56:33.128Z"
   },
   {
    "duration": 8,
    "start_time": "2022-02-17T10:56:33.136Z"
   },
   {
    "duration": 52,
    "start_time": "2022-02-17T10:56:33.146Z"
   },
   {
    "duration": 10,
    "start_time": "2022-02-17T10:56:33.200Z"
   },
   {
    "duration": 11,
    "start_time": "2022-02-17T10:56:33.216Z"
   },
   {
    "duration": 7,
    "start_time": "2022-02-17T10:56:33.231Z"
   },
   {
    "duration": 7,
    "start_time": "2022-02-17T10:56:33.241Z"
   },
   {
    "duration": 9,
    "start_time": "2022-02-17T10:56:33.294Z"
   },
   {
    "duration": 16,
    "start_time": "2022-02-17T10:56:33.306Z"
   },
   {
    "duration": 10,
    "start_time": "2022-02-17T10:56:33.324Z"
   },
   {
    "duration": 10,
    "start_time": "2022-02-17T10:56:33.337Z"
   },
   {
    "duration": 16,
    "start_time": "2022-02-17T10:56:33.349Z"
   },
   {
    "duration": 9,
    "start_time": "2022-02-17T10:56:33.392Z"
   },
   {
    "duration": 6,
    "start_time": "2022-02-17T10:56:33.404Z"
   },
   {
    "duration": 13,
    "start_time": "2022-02-17T10:56:33.412Z"
   },
   {
    "duration": 4,
    "start_time": "2022-02-17T10:56:33.427Z"
   },
   {
    "duration": 606,
    "start_time": "2022-02-17T10:56:33.433Z"
   },
   {
    "duration": 9,
    "start_time": "2022-02-17T10:56:34.041Z"
   },
   {
    "duration": 17,
    "start_time": "2022-02-17T10:56:34.053Z"
   },
   {
    "duration": 22,
    "start_time": "2022-02-17T10:56:34.073Z"
   },
   {
    "duration": 18,
    "start_time": "2022-02-17T10:56:34.098Z"
   },
   {
    "duration": 18,
    "start_time": "2022-02-17T10:56:34.118Z"
   },
   {
    "duration": 21,
    "start_time": "2022-02-17T10:56:34.138Z"
   },
   {
    "duration": 36,
    "start_time": "2022-02-17T10:56:34.162Z"
   },
   {
    "duration": 15,
    "start_time": "2022-02-17T10:56:34.201Z"
   },
   {
    "duration": 22,
    "start_time": "2022-02-17T10:56:34.218Z"
   },
   {
    "duration": 24,
    "start_time": "2022-02-17T10:56:34.243Z"
   },
   {
    "duration": 10,
    "start_time": "2022-02-17T10:56:34.269Z"
   },
   {
    "duration": 11,
    "start_time": "2022-02-17T10:56:34.281Z"
   },
   {
    "duration": 21,
    "start_time": "2022-02-17T10:56:34.294Z"
   },
   {
    "duration": 15,
    "start_time": "2022-02-17T10:56:34.317Z"
   },
   {
    "duration": 6,
    "start_time": "2022-02-17T10:56:34.335Z"
   },
   {
    "duration": 14,
    "start_time": "2022-02-17T10:56:34.343Z"
   },
   {
    "duration": 44,
    "start_time": "2022-02-17T10:56:34.360Z"
   },
   {
    "duration": 24,
    "start_time": "2022-02-17T10:56:34.407Z"
   },
   {
    "duration": 22,
    "start_time": "2022-02-17T10:56:34.434Z"
   },
   {
    "duration": 44,
    "start_time": "2022-02-17T10:56:34.459Z"
   },
   {
    "duration": 11,
    "start_time": "2022-02-17T10:56:34.506Z"
   },
   {
    "duration": 6,
    "start_time": "2022-02-17T10:56:34.519Z"
   },
   {
    "duration": 13,
    "start_time": "2022-02-17T10:56:34.527Z"
   },
   {
    "duration": 8,
    "start_time": "2022-02-17T10:56:34.542Z"
   },
   {
    "duration": 5,
    "start_time": "2022-02-17T10:56:34.553Z"
   },
   {
    "duration": 39,
    "start_time": "2022-02-17T10:56:34.560Z"
   },
   {
    "duration": 9,
    "start_time": "2022-02-17T10:56:34.601Z"
   },
   {
    "duration": 9,
    "start_time": "2022-02-17T10:56:34.612Z"
   },
   {
    "duration": 10,
    "start_time": "2022-02-17T10:56:34.623Z"
   },
   {
    "duration": 16,
    "start_time": "2022-02-17T10:56:34.635Z"
   },
   {
    "duration": 49,
    "start_time": "2022-02-17T10:56:34.653Z"
   },
   {
    "duration": 9,
    "start_time": "2022-02-17T10:56:34.704Z"
   },
   {
    "duration": 4,
    "start_time": "2022-02-17T10:56:34.721Z"
   },
   {
    "duration": 15,
    "start_time": "2022-02-17T10:56:34.729Z"
   },
   {
    "duration": 53,
    "start_time": "2022-02-17T10:56:34.746Z"
   },
   {
    "duration": 10,
    "start_time": "2022-02-17T10:56:34.801Z"
   },
   {
    "duration": 22,
    "start_time": "2022-02-17T10:56:34.813Z"
   },
   {
    "duration": 8,
    "start_time": "2022-02-17T10:56:34.838Z"
   },
   {
    "duration": 43122,
    "start_time": "2022-02-17T10:56:34.848Z"
   },
   {
    "duration": 646,
    "start_time": "2022-02-17T10:57:17.972Z"
   },
   {
    "duration": 275,
    "start_time": "2022-02-17T10:57:18.620Z"
   },
   {
    "duration": 266,
    "start_time": "2022-02-17T10:57:18.898Z"
   },
   {
    "duration": 3,
    "start_time": "2022-02-17T10:57:19.166Z"
   },
   {
    "duration": 27,
    "start_time": "2022-02-17T10:57:19.171Z"
   },
   {
    "duration": 15,
    "start_time": "2022-02-17T10:57:19.200Z"
   },
   {
    "duration": 9,
    "start_time": "2022-02-17T10:57:19.217Z"
   },
   {
    "duration": 273,
    "start_time": "2022-02-17T10:57:19.228Z"
   },
   {
    "duration": 10,
    "start_time": "2022-02-17T10:57:19.503Z"
   },
   {
    "duration": 20,
    "start_time": "2022-02-17T10:57:19.516Z"
   },
   {
    "duration": 8,
    "start_time": "2022-02-17T10:57:19.539Z"
   },
   {
    "duration": 331,
    "start_time": "2022-02-17T10:57:19.549Z"
   },
   {
    "duration": 15,
    "start_time": "2022-02-17T10:57:19.883Z"
   },
   {
    "duration": 19,
    "start_time": "2022-02-17T10:57:19.900Z"
   },
   {
    "duration": 8,
    "start_time": "2022-02-17T10:57:19.922Z"
   },
   {
    "duration": 255,
    "start_time": "2022-02-17T10:57:19.933Z"
   }
  ],
  "kernelspec": {
   "display_name": "Python 3 (ipykernel)",
   "language": "python",
   "name": "python3"
  },
  "language_info": {
   "codemirror_mode": {
    "name": "ipython",
    "version": 3
   },
   "file_extension": ".py",
   "mimetype": "text/x-python",
   "name": "python",
   "nbconvert_exporter": "python",
   "pygments_lexer": "ipython3",
   "version": "3.9.12"
  },
  "toc": {
   "base_numbering": 1,
   "nav_menu": {},
   "number_sections": true,
   "sideBar": true,
   "skip_h1_title": true,
   "title_cell": "Table of Contents",
   "title_sidebar": "Contents",
   "toc_cell": false,
   "toc_position": {
    "height": "calc(100% - 180px)",
    "left": "10px",
    "top": "150px",
    "width": "236.396px"
   },
   "toc_section_display": true,
   "toc_window_display": true
  }
 },
 "nbformat": 4,
 "nbformat_minor": 5
}
