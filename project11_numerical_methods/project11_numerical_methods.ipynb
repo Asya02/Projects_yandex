{
 "cells": [
  {
   "cell_type": "markdown",
   "metadata": {},
   "source": [
    "# Определение стоимости автомобилей"
   ]
  },
  {
   "cell_type": "markdown",
   "metadata": {},
   "source": [
    "Сервис по продаже автомобилей с пробегом «Не бит, не крашен» разрабатывает приложение для привлечения новых клиентов. В нём можно быстро узнать рыночную стоимость своего автомобиля. В нашем распоряжении исторические данные: технические характеристики, комплектации и цены автомобилей. Нужно построить модель для определения стоимости. \n",
    "\n",
    "Заказчику важны:\n",
    "\n",
    "- качество предсказания;\n",
    "- скорость предсказания;\n",
    "- время обучения."
   ]
  },
  {
   "cell_type": "markdown",
   "metadata": {},
   "source": [
    "**Цель** проекта - построить модель машинного обучения для определения стоимости автомобиля. \n",
    "\n",
    "**Задачи** \n",
    " * Загрузить и подготовить данные.\n",
    " * Обучить разные модели, подобрать гиперпараметры.\n",
    " * Проанализировать скорость работы и качество моделей."
   ]
  },
  {
   "cell_type": "markdown",
   "metadata": {},
   "source": [
    "**Описание данных**\n",
    "\n",
    "Признаки\n",
    "* DateCrawled — дата скачивания анкеты из базы\n",
    "* VehicleType — тип автомобильного кузова\n",
    "* RegistrationYear — год регистрации автомобиля\n",
    "* Gearbox — тип коробки передач\n",
    "* Power — мощность (л. с.)\n",
    "* Model — модель автомобиля\n",
    "* Kilometer — пробег (км)\n",
    "* RegistrationMonth — месяц регистрации автомобиля\n",
    "* FuelType — тип топлива\n",
    "* Brand — марка автомобиля\n",
    "* NotRepaired — была машина в ремонте или нет\n",
    "* DateCreated — дата создания анкеты\n",
    "* NumberOfPictures — количество фотографий автомобиля\n",
    "* PostalCode — почтовый индекс владельца анкеты (пользователя)\n",
    "* LastSeen — дата последней активности пользователя\n",
    "\n",
    "Целевой признак\n",
    "* Price — цена (евро)"
   ]
  },
  {
   "cell_type": "markdown",
   "metadata": {},
   "source": [
    "## Подготовка данных"
   ]
  },
  {
   "cell_type": "markdown",
   "metadata": {},
   "source": [
    "Импортируем библиотеки и модкли, которые нам понадобятся"
   ]
  },
  {
   "cell_type": "code",
   "execution_count": 59,
   "metadata": {},
   "outputs": [],
   "source": [
    "import pandas as pd\n",
    "import numpy as np\n",
    "import time\n",
    "import seaborn as sns\n",
    "from sklearn.model_selection import train_test_split, cross_val_score\n",
    "from sklearn.model_selection import GridSearchCV\n",
    "from sklearn.preprocessing import OrdinalEncoder\n",
    "\n",
    "from sklearn.tree import DecisionTreeRegressor\n",
    "from sklearn.metrics import mean_squared_error\n",
    "from catboost import CatBoostRegressor\n",
    "from catboost import cv, Pool\n",
    "from lightgbm import LGBMRegressor\n",
    "import lightgbm as lgb"
   ]
  },
  {
   "cell_type": "markdown",
   "metadata": {},
   "source": [
    "Считаем датасет"
   ]
  },
  {
   "cell_type": "code",
   "execution_count": 2,
   "metadata": {},
   "outputs": [],
   "source": [
    "df = pd.read_csv('autos.csv')"
   ]
  },
  {
   "cell_type": "markdown",
   "metadata": {},
   "source": [
    "Посмотрим на первые 5 строк таблицы"
   ]
  },
  {
   "cell_type": "code",
   "execution_count": 3,
   "metadata": {},
   "outputs": [
    {
     "data": {
      "text/html": [
       "<div>\n",
       "<style scoped>\n",
       "    .dataframe tbody tr th:only-of-type {\n",
       "        vertical-align: middle;\n",
       "    }\n",
       "\n",
       "    .dataframe tbody tr th {\n",
       "        vertical-align: top;\n",
       "    }\n",
       "\n",
       "    .dataframe thead th {\n",
       "        text-align: right;\n",
       "    }\n",
       "</style>\n",
       "<table border=\"1\" class=\"dataframe\">\n",
       "  <thead>\n",
       "    <tr style=\"text-align: right;\">\n",
       "      <th></th>\n",
       "      <th>DateCrawled</th>\n",
       "      <th>Price</th>\n",
       "      <th>VehicleType</th>\n",
       "      <th>RegistrationYear</th>\n",
       "      <th>Gearbox</th>\n",
       "      <th>Power</th>\n",
       "      <th>Model</th>\n",
       "      <th>Kilometer</th>\n",
       "      <th>RegistrationMonth</th>\n",
       "      <th>FuelType</th>\n",
       "      <th>Brand</th>\n",
       "      <th>NotRepaired</th>\n",
       "      <th>DateCreated</th>\n",
       "      <th>NumberOfPictures</th>\n",
       "      <th>PostalCode</th>\n",
       "      <th>LastSeen</th>\n",
       "    </tr>\n",
       "  </thead>\n",
       "  <tbody>\n",
       "    <tr>\n",
       "      <th>0</th>\n",
       "      <td>2016-03-24 11:52:17</td>\n",
       "      <td>480</td>\n",
       "      <td>NaN</td>\n",
       "      <td>1993</td>\n",
       "      <td>manual</td>\n",
       "      <td>0</td>\n",
       "      <td>golf</td>\n",
       "      <td>150000</td>\n",
       "      <td>0</td>\n",
       "      <td>petrol</td>\n",
       "      <td>volkswagen</td>\n",
       "      <td>NaN</td>\n",
       "      <td>2016-03-24 00:00:00</td>\n",
       "      <td>0</td>\n",
       "      <td>70435</td>\n",
       "      <td>2016-04-07 03:16:57</td>\n",
       "    </tr>\n",
       "    <tr>\n",
       "      <th>1</th>\n",
       "      <td>2016-03-24 10:58:45</td>\n",
       "      <td>18300</td>\n",
       "      <td>coupe</td>\n",
       "      <td>2011</td>\n",
       "      <td>manual</td>\n",
       "      <td>190</td>\n",
       "      <td>NaN</td>\n",
       "      <td>125000</td>\n",
       "      <td>5</td>\n",
       "      <td>gasoline</td>\n",
       "      <td>audi</td>\n",
       "      <td>yes</td>\n",
       "      <td>2016-03-24 00:00:00</td>\n",
       "      <td>0</td>\n",
       "      <td>66954</td>\n",
       "      <td>2016-04-07 01:46:50</td>\n",
       "    </tr>\n",
       "    <tr>\n",
       "      <th>2</th>\n",
       "      <td>2016-03-14 12:52:21</td>\n",
       "      <td>9800</td>\n",
       "      <td>suv</td>\n",
       "      <td>2004</td>\n",
       "      <td>auto</td>\n",
       "      <td>163</td>\n",
       "      <td>grand</td>\n",
       "      <td>125000</td>\n",
       "      <td>8</td>\n",
       "      <td>gasoline</td>\n",
       "      <td>jeep</td>\n",
       "      <td>NaN</td>\n",
       "      <td>2016-03-14 00:00:00</td>\n",
       "      <td>0</td>\n",
       "      <td>90480</td>\n",
       "      <td>2016-04-05 12:47:46</td>\n",
       "    </tr>\n",
       "    <tr>\n",
       "      <th>3</th>\n",
       "      <td>2016-03-17 16:54:04</td>\n",
       "      <td>1500</td>\n",
       "      <td>small</td>\n",
       "      <td>2001</td>\n",
       "      <td>manual</td>\n",
       "      <td>75</td>\n",
       "      <td>golf</td>\n",
       "      <td>150000</td>\n",
       "      <td>6</td>\n",
       "      <td>petrol</td>\n",
       "      <td>volkswagen</td>\n",
       "      <td>no</td>\n",
       "      <td>2016-03-17 00:00:00</td>\n",
       "      <td>0</td>\n",
       "      <td>91074</td>\n",
       "      <td>2016-03-17 17:40:17</td>\n",
       "    </tr>\n",
       "    <tr>\n",
       "      <th>4</th>\n",
       "      <td>2016-03-31 17:25:20</td>\n",
       "      <td>3600</td>\n",
       "      <td>small</td>\n",
       "      <td>2008</td>\n",
       "      <td>manual</td>\n",
       "      <td>69</td>\n",
       "      <td>fabia</td>\n",
       "      <td>90000</td>\n",
       "      <td>7</td>\n",
       "      <td>gasoline</td>\n",
       "      <td>skoda</td>\n",
       "      <td>no</td>\n",
       "      <td>2016-03-31 00:00:00</td>\n",
       "      <td>0</td>\n",
       "      <td>60437</td>\n",
       "      <td>2016-04-06 10:17:21</td>\n",
       "    </tr>\n",
       "  </tbody>\n",
       "</table>\n",
       "</div>"
      ],
      "text/plain": [
       "           DateCrawled  Price VehicleType  RegistrationYear Gearbox  Power  \\\n",
       "0  2016-03-24 11:52:17    480         NaN              1993  manual      0   \n",
       "1  2016-03-24 10:58:45  18300       coupe              2011  manual    190   \n",
       "2  2016-03-14 12:52:21   9800         suv              2004    auto    163   \n",
       "3  2016-03-17 16:54:04   1500       small              2001  manual     75   \n",
       "4  2016-03-31 17:25:20   3600       small              2008  manual     69   \n",
       "\n",
       "   Model  Kilometer  RegistrationMonth  FuelType       Brand NotRepaired  \\\n",
       "0   golf     150000                  0    petrol  volkswagen         NaN   \n",
       "1    NaN     125000                  5  gasoline        audi         yes   \n",
       "2  grand     125000                  8  gasoline        jeep         NaN   \n",
       "3   golf     150000                  6    petrol  volkswagen          no   \n",
       "4  fabia      90000                  7  gasoline       skoda          no   \n",
       "\n",
       "           DateCreated  NumberOfPictures  PostalCode             LastSeen  \n",
       "0  2016-03-24 00:00:00                 0       70435  2016-04-07 03:16:57  \n",
       "1  2016-03-24 00:00:00                 0       66954  2016-04-07 01:46:50  \n",
       "2  2016-03-14 00:00:00                 0       90480  2016-04-05 12:47:46  \n",
       "3  2016-03-17 00:00:00                 0       91074  2016-03-17 17:40:17  \n",
       "4  2016-03-31 00:00:00                 0       60437  2016-04-06 10:17:21  "
      ]
     },
     "execution_count": 3,
     "metadata": {},
     "output_type": "execute_result"
    }
   ],
   "source": [
    "df.head()"
   ]
  },
  {
   "cell_type": "markdown",
   "metadata": {},
   "source": [
    "В каждой строке представлена информация о машине.\n",
    "Уже на данном этапе можно заметить, что в датафрейме встречаются пропуски, присутствует столбец, в котором в первых пяти строках значение 0, три столбца с датами, которые потом лучше будет растащить на отдельные фичи и названия колонок не очень удобные"
   ]
  },
  {
   "cell_type": "markdown",
   "metadata": {},
   "source": [
    "Посмотрим общую информацию о таблице"
   ]
  },
  {
   "cell_type": "code",
   "execution_count": 4,
   "metadata": {},
   "outputs": [
    {
     "name": "stdout",
     "output_type": "stream",
     "text": [
      "<class 'pandas.core.frame.DataFrame'>\n",
      "RangeIndex: 354369 entries, 0 to 354368\n",
      "Data columns (total 16 columns):\n",
      " #   Column             Non-Null Count   Dtype \n",
      "---  ------             --------------   ----- \n",
      " 0   DateCrawled        354369 non-null  object\n",
      " 1   Price              354369 non-null  int64 \n",
      " 2   VehicleType        316879 non-null  object\n",
      " 3   RegistrationYear   354369 non-null  int64 \n",
      " 4   Gearbox            334536 non-null  object\n",
      " 5   Power              354369 non-null  int64 \n",
      " 6   Model              334664 non-null  object\n",
      " 7   Kilometer          354369 non-null  int64 \n",
      " 8   RegistrationMonth  354369 non-null  int64 \n",
      " 9   FuelType           321474 non-null  object\n",
      " 10  Brand              354369 non-null  object\n",
      " 11  NotRepaired        283215 non-null  object\n",
      " 12  DateCreated        354369 non-null  object\n",
      " 13  NumberOfPictures   354369 non-null  int64 \n",
      " 14  PostalCode         354369 non-null  int64 \n",
      " 15  LastSeen           354369 non-null  object\n",
      "dtypes: int64(7), object(9)\n",
      "memory usage: 43.3+ MB\n"
     ]
    }
   ],
   "source": [
    "df.info()"
   ]
  },
  {
   "cell_type": "markdown",
   "metadata": {},
   "source": [
    "Видим, что у столбцов с датами тип данных object, что не очень удобно"
   ]
  },
  {
   "cell_type": "markdown",
   "metadata": {},
   "source": [
    "Посмотрим на доли пропусков"
   ]
  },
  {
   "cell_type": "code",
   "execution_count": 5,
   "metadata": {},
   "outputs": [
    {
     "data": {
      "text/plain": [
       "DateCrawled          0.000000\n",
       "Price                0.000000\n",
       "VehicleType          0.105794\n",
       "RegistrationYear     0.000000\n",
       "Gearbox              0.055967\n",
       "Power                0.000000\n",
       "Model                0.055606\n",
       "Kilometer            0.000000\n",
       "RegistrationMonth    0.000000\n",
       "FuelType             0.092827\n",
       "Brand                0.000000\n",
       "NotRepaired          0.200791\n",
       "DateCreated          0.000000\n",
       "NumberOfPictures     0.000000\n",
       "PostalCode           0.000000\n",
       "LastSeen             0.000000\n",
       "dtype: float64"
      ]
     },
     "execution_count": 5,
     "metadata": {},
     "output_type": "execute_result"
    }
   ],
   "source": [
    "df.isna().mean()"
   ]
  },
  {
   "cell_type": "markdown",
   "metadata": {},
   "source": [
    "Пропуски встречаются в пяти столбцах, причём во всех из них данные типа object."
   ]
  },
  {
   "cell_type": "markdown",
   "metadata": {},
   "source": [
    "Посмотрим основные количественные характеристики для колическтвенных данных"
   ]
  },
  {
   "cell_type": "code",
   "execution_count": 6,
   "metadata": {},
   "outputs": [
    {
     "data": {
      "text/html": [
       "<div>\n",
       "<style scoped>\n",
       "    .dataframe tbody tr th:only-of-type {\n",
       "        vertical-align: middle;\n",
       "    }\n",
       "\n",
       "    .dataframe tbody tr th {\n",
       "        vertical-align: top;\n",
       "    }\n",
       "\n",
       "    .dataframe thead th {\n",
       "        text-align: right;\n",
       "    }\n",
       "</style>\n",
       "<table border=\"1\" class=\"dataframe\">\n",
       "  <thead>\n",
       "    <tr style=\"text-align: right;\">\n",
       "      <th></th>\n",
       "      <th>Price</th>\n",
       "      <th>RegistrationYear</th>\n",
       "      <th>Power</th>\n",
       "      <th>Kilometer</th>\n",
       "      <th>RegistrationMonth</th>\n",
       "      <th>NumberOfPictures</th>\n",
       "      <th>PostalCode</th>\n",
       "    </tr>\n",
       "  </thead>\n",
       "  <tbody>\n",
       "    <tr>\n",
       "      <th>count</th>\n",
       "      <td>354369.000000</td>\n",
       "      <td>354369.000000</td>\n",
       "      <td>354369.000000</td>\n",
       "      <td>354369.000000</td>\n",
       "      <td>354369.000000</td>\n",
       "      <td>354369.0</td>\n",
       "      <td>354369.000000</td>\n",
       "    </tr>\n",
       "    <tr>\n",
       "      <th>mean</th>\n",
       "      <td>4416.656776</td>\n",
       "      <td>2004.234448</td>\n",
       "      <td>110.094337</td>\n",
       "      <td>128211.172535</td>\n",
       "      <td>5.714645</td>\n",
       "      <td>0.0</td>\n",
       "      <td>50508.689087</td>\n",
       "    </tr>\n",
       "    <tr>\n",
       "      <th>std</th>\n",
       "      <td>4514.158514</td>\n",
       "      <td>90.227958</td>\n",
       "      <td>189.850405</td>\n",
       "      <td>37905.341530</td>\n",
       "      <td>3.726421</td>\n",
       "      <td>0.0</td>\n",
       "      <td>25783.096248</td>\n",
       "    </tr>\n",
       "    <tr>\n",
       "      <th>min</th>\n",
       "      <td>0.000000</td>\n",
       "      <td>1000.000000</td>\n",
       "      <td>0.000000</td>\n",
       "      <td>5000.000000</td>\n",
       "      <td>0.000000</td>\n",
       "      <td>0.0</td>\n",
       "      <td>1067.000000</td>\n",
       "    </tr>\n",
       "    <tr>\n",
       "      <th>25%</th>\n",
       "      <td>1050.000000</td>\n",
       "      <td>1999.000000</td>\n",
       "      <td>69.000000</td>\n",
       "      <td>125000.000000</td>\n",
       "      <td>3.000000</td>\n",
       "      <td>0.0</td>\n",
       "      <td>30165.000000</td>\n",
       "    </tr>\n",
       "    <tr>\n",
       "      <th>50%</th>\n",
       "      <td>2700.000000</td>\n",
       "      <td>2003.000000</td>\n",
       "      <td>105.000000</td>\n",
       "      <td>150000.000000</td>\n",
       "      <td>6.000000</td>\n",
       "      <td>0.0</td>\n",
       "      <td>49413.000000</td>\n",
       "    </tr>\n",
       "    <tr>\n",
       "      <th>75%</th>\n",
       "      <td>6400.000000</td>\n",
       "      <td>2008.000000</td>\n",
       "      <td>143.000000</td>\n",
       "      <td>150000.000000</td>\n",
       "      <td>9.000000</td>\n",
       "      <td>0.0</td>\n",
       "      <td>71083.000000</td>\n",
       "    </tr>\n",
       "    <tr>\n",
       "      <th>max</th>\n",
       "      <td>20000.000000</td>\n",
       "      <td>9999.000000</td>\n",
       "      <td>20000.000000</td>\n",
       "      <td>150000.000000</td>\n",
       "      <td>12.000000</td>\n",
       "      <td>0.0</td>\n",
       "      <td>99998.000000</td>\n",
       "    </tr>\n",
       "  </tbody>\n",
       "</table>\n",
       "</div>"
      ],
      "text/plain": [
       "               Price  RegistrationYear          Power      Kilometer  \\\n",
       "count  354369.000000     354369.000000  354369.000000  354369.000000   \n",
       "mean     4416.656776       2004.234448     110.094337  128211.172535   \n",
       "std      4514.158514         90.227958     189.850405   37905.341530   \n",
       "min         0.000000       1000.000000       0.000000    5000.000000   \n",
       "25%      1050.000000       1999.000000      69.000000  125000.000000   \n",
       "50%      2700.000000       2003.000000     105.000000  150000.000000   \n",
       "75%      6400.000000       2008.000000     143.000000  150000.000000   \n",
       "max     20000.000000       9999.000000   20000.000000  150000.000000   \n",
       "\n",
       "       RegistrationMonth  NumberOfPictures     PostalCode  \n",
       "count      354369.000000          354369.0  354369.000000  \n",
       "mean            5.714645               0.0   50508.689087  \n",
       "std             3.726421               0.0   25783.096248  \n",
       "min             0.000000               0.0    1067.000000  \n",
       "25%             3.000000               0.0   30165.000000  \n",
       "50%             6.000000               0.0   49413.000000  \n",
       "75%             9.000000               0.0   71083.000000  \n",
       "max            12.000000               0.0   99998.000000  "
      ]
     },
     "execution_count": 6,
     "metadata": {},
     "output_type": "execute_result"
    }
   ],
   "source": [
    "df.describe()"
   ]
  },
  {
   "cell_type": "markdown",
   "metadata": {},
   "source": [
    "Виден ряд аномалий: \n",
    " * нулевая цена - скорее всего выбросы, нужно будет удалить эти данные\n",
    " * нулевая сила - скорее всего выбросы, нужно будет удалить эти данные\n",
    " * 1000 и 9999 год регистрации - скорее всего выбросы, нужно будет удалить эти данные\n",
    " * 0 месяц регистрации - с ним непонятно, что делать, скорее всего, это обозначение для пропуска, поэтому оставим как есть\n",
    " * пустой столбец с количеством фотографий, состоящий только из нулей - удалим его"
   ]
  },
  {
   "cell_type": "markdown",
   "metadata": {},
   "source": [
    "Удалим столбец NumberOfPictures"
   ]
  },
  {
   "cell_type": "code",
   "execution_count": 7,
   "metadata": {},
   "outputs": [],
   "source": [
    "df.drop('NumberOfPictures', axis=1, inplace=True)"
   ]
  },
  {
   "cell_type": "markdown",
   "metadata": {},
   "source": [
    "Проверим, что он удалился"
   ]
  },
  {
   "cell_type": "code",
   "execution_count": 8,
   "metadata": {},
   "outputs": [
    {
     "data": {
      "text/plain": [
       "Index(['DateCrawled', 'Price', 'VehicleType', 'RegistrationYear', 'Gearbox',\n",
       "       'Power', 'Model', 'Kilometer', 'RegistrationMonth', 'FuelType', 'Brand',\n",
       "       'NotRepaired', 'DateCreated', 'PostalCode', 'LastSeen'],\n",
       "      dtype='object')"
      ]
     },
     "execution_count": 8,
     "metadata": {},
     "output_type": "execute_result"
    }
   ],
   "source": [
    "df.columns"
   ]
  },
  {
   "cell_type": "markdown",
   "metadata": {},
   "source": [
    "Для удобства переименуем столбцы"
   ]
  },
  {
   "cell_type": "code",
   "execution_count": 9,
   "metadata": {},
   "outputs": [],
   "source": [
    "df = df.rename (columns= {'DateCrawled' : 'download_date', 'Price' : 'price', 'VehicleType' : 'vehicle_type',\n",
    "                          'RegistrationYear' : 'registration_year', 'Gearbox' : 'gearbox', 'Power' : 'power', \n",
    "                          'Model' : 'model', 'Kilometer' : 'kilometer', 'RegistrationMonth' : 'registration_month',\n",
    "                          'FuelType' : 'fuel_type', 'Brand' : 'brand', 'NotRepaired' : 'not_repaired', 'DateCreated' : 'date_created',\n",
    "                          'PostalCode' : 'postal_code', 'LastSeen' : 'last_seen'})"
   ]
  },
  {
   "cell_type": "markdown",
   "metadata": {},
   "source": [
    "Убедимся, что названия столбцов изменились"
   ]
  },
  {
   "cell_type": "code",
   "execution_count": 10,
   "metadata": {
    "scrolled": false
   },
   "outputs": [
    {
     "data": {
      "text/html": [
       "<div>\n",
       "<style scoped>\n",
       "    .dataframe tbody tr th:only-of-type {\n",
       "        vertical-align: middle;\n",
       "    }\n",
       "\n",
       "    .dataframe tbody tr th {\n",
       "        vertical-align: top;\n",
       "    }\n",
       "\n",
       "    .dataframe thead th {\n",
       "        text-align: right;\n",
       "    }\n",
       "</style>\n",
       "<table border=\"1\" class=\"dataframe\">\n",
       "  <thead>\n",
       "    <tr style=\"text-align: right;\">\n",
       "      <th></th>\n",
       "      <th>download_date</th>\n",
       "      <th>price</th>\n",
       "      <th>vehicle_type</th>\n",
       "      <th>registration_year</th>\n",
       "      <th>gearbox</th>\n",
       "      <th>power</th>\n",
       "      <th>model</th>\n",
       "      <th>kilometer</th>\n",
       "      <th>registration_month</th>\n",
       "      <th>fuel_type</th>\n",
       "      <th>brand</th>\n",
       "      <th>not_repaired</th>\n",
       "      <th>date_created</th>\n",
       "      <th>postal_code</th>\n",
       "      <th>last_seen</th>\n",
       "    </tr>\n",
       "  </thead>\n",
       "  <tbody>\n",
       "    <tr>\n",
       "      <th>0</th>\n",
       "      <td>2016-03-24 11:52:17</td>\n",
       "      <td>480</td>\n",
       "      <td>NaN</td>\n",
       "      <td>1993</td>\n",
       "      <td>manual</td>\n",
       "      <td>0</td>\n",
       "      <td>golf</td>\n",
       "      <td>150000</td>\n",
       "      <td>0</td>\n",
       "      <td>petrol</td>\n",
       "      <td>volkswagen</td>\n",
       "      <td>NaN</td>\n",
       "      <td>2016-03-24 00:00:00</td>\n",
       "      <td>70435</td>\n",
       "      <td>2016-04-07 03:16:57</td>\n",
       "    </tr>\n",
       "    <tr>\n",
       "      <th>1</th>\n",
       "      <td>2016-03-24 10:58:45</td>\n",
       "      <td>18300</td>\n",
       "      <td>coupe</td>\n",
       "      <td>2011</td>\n",
       "      <td>manual</td>\n",
       "      <td>190</td>\n",
       "      <td>NaN</td>\n",
       "      <td>125000</td>\n",
       "      <td>5</td>\n",
       "      <td>gasoline</td>\n",
       "      <td>audi</td>\n",
       "      <td>yes</td>\n",
       "      <td>2016-03-24 00:00:00</td>\n",
       "      <td>66954</td>\n",
       "      <td>2016-04-07 01:46:50</td>\n",
       "    </tr>\n",
       "    <tr>\n",
       "      <th>2</th>\n",
       "      <td>2016-03-14 12:52:21</td>\n",
       "      <td>9800</td>\n",
       "      <td>suv</td>\n",
       "      <td>2004</td>\n",
       "      <td>auto</td>\n",
       "      <td>163</td>\n",
       "      <td>grand</td>\n",
       "      <td>125000</td>\n",
       "      <td>8</td>\n",
       "      <td>gasoline</td>\n",
       "      <td>jeep</td>\n",
       "      <td>NaN</td>\n",
       "      <td>2016-03-14 00:00:00</td>\n",
       "      <td>90480</td>\n",
       "      <td>2016-04-05 12:47:46</td>\n",
       "    </tr>\n",
       "    <tr>\n",
       "      <th>3</th>\n",
       "      <td>2016-03-17 16:54:04</td>\n",
       "      <td>1500</td>\n",
       "      <td>small</td>\n",
       "      <td>2001</td>\n",
       "      <td>manual</td>\n",
       "      <td>75</td>\n",
       "      <td>golf</td>\n",
       "      <td>150000</td>\n",
       "      <td>6</td>\n",
       "      <td>petrol</td>\n",
       "      <td>volkswagen</td>\n",
       "      <td>no</td>\n",
       "      <td>2016-03-17 00:00:00</td>\n",
       "      <td>91074</td>\n",
       "      <td>2016-03-17 17:40:17</td>\n",
       "    </tr>\n",
       "    <tr>\n",
       "      <th>4</th>\n",
       "      <td>2016-03-31 17:25:20</td>\n",
       "      <td>3600</td>\n",
       "      <td>small</td>\n",
       "      <td>2008</td>\n",
       "      <td>manual</td>\n",
       "      <td>69</td>\n",
       "      <td>fabia</td>\n",
       "      <td>90000</td>\n",
       "      <td>7</td>\n",
       "      <td>gasoline</td>\n",
       "      <td>skoda</td>\n",
       "      <td>no</td>\n",
       "      <td>2016-03-31 00:00:00</td>\n",
       "      <td>60437</td>\n",
       "      <td>2016-04-06 10:17:21</td>\n",
       "    </tr>\n",
       "    <tr>\n",
       "      <th>...</th>\n",
       "      <td>...</td>\n",
       "      <td>...</td>\n",
       "      <td>...</td>\n",
       "      <td>...</td>\n",
       "      <td>...</td>\n",
       "      <td>...</td>\n",
       "      <td>...</td>\n",
       "      <td>...</td>\n",
       "      <td>...</td>\n",
       "      <td>...</td>\n",
       "      <td>...</td>\n",
       "      <td>...</td>\n",
       "      <td>...</td>\n",
       "      <td>...</td>\n",
       "      <td>...</td>\n",
       "    </tr>\n",
       "    <tr>\n",
       "      <th>354364</th>\n",
       "      <td>2016-03-21 09:50:58</td>\n",
       "      <td>0</td>\n",
       "      <td>NaN</td>\n",
       "      <td>2005</td>\n",
       "      <td>manual</td>\n",
       "      <td>0</td>\n",
       "      <td>colt</td>\n",
       "      <td>150000</td>\n",
       "      <td>7</td>\n",
       "      <td>petrol</td>\n",
       "      <td>mitsubishi</td>\n",
       "      <td>yes</td>\n",
       "      <td>2016-03-21 00:00:00</td>\n",
       "      <td>2694</td>\n",
       "      <td>2016-03-21 10:42:49</td>\n",
       "    </tr>\n",
       "    <tr>\n",
       "      <th>354365</th>\n",
       "      <td>2016-03-14 17:48:27</td>\n",
       "      <td>2200</td>\n",
       "      <td>NaN</td>\n",
       "      <td>2005</td>\n",
       "      <td>NaN</td>\n",
       "      <td>0</td>\n",
       "      <td>NaN</td>\n",
       "      <td>20000</td>\n",
       "      <td>1</td>\n",
       "      <td>NaN</td>\n",
       "      <td>sonstige_autos</td>\n",
       "      <td>NaN</td>\n",
       "      <td>2016-03-14 00:00:00</td>\n",
       "      <td>39576</td>\n",
       "      <td>2016-04-06 00:46:52</td>\n",
       "    </tr>\n",
       "    <tr>\n",
       "      <th>354366</th>\n",
       "      <td>2016-03-05 19:56:21</td>\n",
       "      <td>1199</td>\n",
       "      <td>convertible</td>\n",
       "      <td>2000</td>\n",
       "      <td>auto</td>\n",
       "      <td>101</td>\n",
       "      <td>fortwo</td>\n",
       "      <td>125000</td>\n",
       "      <td>3</td>\n",
       "      <td>petrol</td>\n",
       "      <td>smart</td>\n",
       "      <td>no</td>\n",
       "      <td>2016-03-05 00:00:00</td>\n",
       "      <td>26135</td>\n",
       "      <td>2016-03-11 18:17:12</td>\n",
       "    </tr>\n",
       "    <tr>\n",
       "      <th>354367</th>\n",
       "      <td>2016-03-19 18:57:12</td>\n",
       "      <td>9200</td>\n",
       "      <td>bus</td>\n",
       "      <td>1996</td>\n",
       "      <td>manual</td>\n",
       "      <td>102</td>\n",
       "      <td>transporter</td>\n",
       "      <td>150000</td>\n",
       "      <td>3</td>\n",
       "      <td>gasoline</td>\n",
       "      <td>volkswagen</td>\n",
       "      <td>no</td>\n",
       "      <td>2016-03-19 00:00:00</td>\n",
       "      <td>87439</td>\n",
       "      <td>2016-04-07 07:15:26</td>\n",
       "    </tr>\n",
       "    <tr>\n",
       "      <th>354368</th>\n",
       "      <td>2016-03-20 19:41:08</td>\n",
       "      <td>3400</td>\n",
       "      <td>wagon</td>\n",
       "      <td>2002</td>\n",
       "      <td>manual</td>\n",
       "      <td>100</td>\n",
       "      <td>golf</td>\n",
       "      <td>150000</td>\n",
       "      <td>6</td>\n",
       "      <td>gasoline</td>\n",
       "      <td>volkswagen</td>\n",
       "      <td>NaN</td>\n",
       "      <td>2016-03-20 00:00:00</td>\n",
       "      <td>40764</td>\n",
       "      <td>2016-03-24 12:45:21</td>\n",
       "    </tr>\n",
       "  </tbody>\n",
       "</table>\n",
       "<p>354369 rows × 15 columns</p>\n",
       "</div>"
      ],
      "text/plain": [
       "              download_date  price vehicle_type  registration_year gearbox  \\\n",
       "0       2016-03-24 11:52:17    480          NaN               1993  manual   \n",
       "1       2016-03-24 10:58:45  18300        coupe               2011  manual   \n",
       "2       2016-03-14 12:52:21   9800          suv               2004    auto   \n",
       "3       2016-03-17 16:54:04   1500        small               2001  manual   \n",
       "4       2016-03-31 17:25:20   3600        small               2008  manual   \n",
       "...                     ...    ...          ...                ...     ...   \n",
       "354364  2016-03-21 09:50:58      0          NaN               2005  manual   \n",
       "354365  2016-03-14 17:48:27   2200          NaN               2005     NaN   \n",
       "354366  2016-03-05 19:56:21   1199  convertible               2000    auto   \n",
       "354367  2016-03-19 18:57:12   9200          bus               1996  manual   \n",
       "354368  2016-03-20 19:41:08   3400        wagon               2002  manual   \n",
       "\n",
       "        power        model  kilometer  registration_month fuel_type  \\\n",
       "0           0         golf     150000                   0    petrol   \n",
       "1         190          NaN     125000                   5  gasoline   \n",
       "2         163        grand     125000                   8  gasoline   \n",
       "3          75         golf     150000                   6    petrol   \n",
       "4          69        fabia      90000                   7  gasoline   \n",
       "...       ...          ...        ...                 ...       ...   \n",
       "354364      0         colt     150000                   7    petrol   \n",
       "354365      0          NaN      20000                   1       NaN   \n",
       "354366    101       fortwo     125000                   3    petrol   \n",
       "354367    102  transporter     150000                   3  gasoline   \n",
       "354368    100         golf     150000                   6  gasoline   \n",
       "\n",
       "                 brand not_repaired         date_created  postal_code  \\\n",
       "0           volkswagen          NaN  2016-03-24 00:00:00        70435   \n",
       "1                 audi          yes  2016-03-24 00:00:00        66954   \n",
       "2                 jeep          NaN  2016-03-14 00:00:00        90480   \n",
       "3           volkswagen           no  2016-03-17 00:00:00        91074   \n",
       "4                skoda           no  2016-03-31 00:00:00        60437   \n",
       "...                ...          ...                  ...          ...   \n",
       "354364      mitsubishi          yes  2016-03-21 00:00:00         2694   \n",
       "354365  sonstige_autos          NaN  2016-03-14 00:00:00        39576   \n",
       "354366           smart           no  2016-03-05 00:00:00        26135   \n",
       "354367      volkswagen           no  2016-03-19 00:00:00        87439   \n",
       "354368      volkswagen          NaN  2016-03-20 00:00:00        40764   \n",
       "\n",
       "                  last_seen  \n",
       "0       2016-04-07 03:16:57  \n",
       "1       2016-04-07 01:46:50  \n",
       "2       2016-04-05 12:47:46  \n",
       "3       2016-03-17 17:40:17  \n",
       "4       2016-04-06 10:17:21  \n",
       "...                     ...  \n",
       "354364  2016-03-21 10:42:49  \n",
       "354365  2016-04-06 00:46:52  \n",
       "354366  2016-03-11 18:17:12  \n",
       "354367  2016-04-07 07:15:26  \n",
       "354368  2016-03-24 12:45:21  \n",
       "\n",
       "[354369 rows x 15 columns]"
      ]
     },
     "execution_count": 10,
     "metadata": {},
     "output_type": "execute_result"
    }
   ],
   "source": [
    "df"
   ]
  },
  {
   "cell_type": "markdown",
   "metadata": {},
   "source": [
    "Реализуем функцию для добавления новых фичей из даты"
   ]
  },
  {
   "cell_type": "code",
   "execution_count": 11,
   "metadata": {},
   "outputs": [],
   "source": [
    "def add_date(df, date_str):\n",
    "    '''\n",
    "    Функция принимает на вход датафрейм и записанное строкой названия столбца, из которого вытаскиваются фичи.\n",
    "    Для начала функция приводит дату к типу datetime, а потом в датафрейм добавляются столбцы с годом, месяцем, днём,\n",
    "    часом, минутой и секундой с соотвествующими названиями.\n",
    "    Возвращает функция получившийся в итоге датафрейм\n",
    "    '''\n",
    "    df[date_str] = pd.to_datetime(df[date_str], format=\"%Y-%m-%d %H:%M:%S\")\n",
    "    df[date_str+'_year'] = pd.DatetimeIndex(df[date_str]).year \n",
    "    df[date_str+'_month'] = pd.DatetimeIndex(df[date_str]).month\n",
    "    df[date_str+'_day'] = pd.DatetimeIndex(df[date_str]).day\n",
    "    df[date_str+'_hour'] = pd.DatetimeIndex(df[date_str]).hour \n",
    "    df[date_str+'_minute'] = pd.DatetimeIndex(df[date_str]).minute \n",
    "    df[date_str+'_second'] = pd.DatetimeIndex(df[date_str]).second \n",
    "    return df"
   ]
  },
  {
   "cell_type": "markdown",
   "metadata": {},
   "source": [
    "Применим эту функцию к нашему датафрейму и столбцам download_date, date_created и last_seen"
   ]
  },
  {
   "cell_type": "code",
   "execution_count": 12,
   "metadata": {},
   "outputs": [],
   "source": [
    "df = add_date(df, 'download_date')"
   ]
  },
  {
   "cell_type": "code",
   "execution_count": 13,
   "metadata": {},
   "outputs": [],
   "source": [
    "df = add_date(df, 'date_created')"
   ]
  },
  {
   "cell_type": "code",
   "execution_count": 14,
   "metadata": {},
   "outputs": [],
   "source": [
    "df = add_date(df, 'last_seen')"
   ]
  },
  {
   "cell_type": "markdown",
   "metadata": {},
   "source": [
    "Убедимся, что новые столбцы появились"
   ]
  },
  {
   "cell_type": "code",
   "execution_count": 15,
   "metadata": {},
   "outputs": [
    {
     "data": {
      "text/html": [
       "<div>\n",
       "<style scoped>\n",
       "    .dataframe tbody tr th:only-of-type {\n",
       "        vertical-align: middle;\n",
       "    }\n",
       "\n",
       "    .dataframe tbody tr th {\n",
       "        vertical-align: top;\n",
       "    }\n",
       "\n",
       "    .dataframe thead th {\n",
       "        text-align: right;\n",
       "    }\n",
       "</style>\n",
       "<table border=\"1\" class=\"dataframe\">\n",
       "  <thead>\n",
       "    <tr style=\"text-align: right;\">\n",
       "      <th></th>\n",
       "      <th>download_date</th>\n",
       "      <th>price</th>\n",
       "      <th>vehicle_type</th>\n",
       "      <th>registration_year</th>\n",
       "      <th>gearbox</th>\n",
       "      <th>power</th>\n",
       "      <th>model</th>\n",
       "      <th>kilometer</th>\n",
       "      <th>registration_month</th>\n",
       "      <th>fuel_type</th>\n",
       "      <th>...</th>\n",
       "      <th>date_created_day</th>\n",
       "      <th>date_created_hour</th>\n",
       "      <th>date_created_minute</th>\n",
       "      <th>date_created_second</th>\n",
       "      <th>last_seen_year</th>\n",
       "      <th>last_seen_month</th>\n",
       "      <th>last_seen_day</th>\n",
       "      <th>last_seen_hour</th>\n",
       "      <th>last_seen_minute</th>\n",
       "      <th>last_seen_second</th>\n",
       "    </tr>\n",
       "  </thead>\n",
       "  <tbody>\n",
       "    <tr>\n",
       "      <th>0</th>\n",
       "      <td>2016-03-24 11:52:17</td>\n",
       "      <td>480</td>\n",
       "      <td>NaN</td>\n",
       "      <td>1993</td>\n",
       "      <td>manual</td>\n",
       "      <td>0</td>\n",
       "      <td>golf</td>\n",
       "      <td>150000</td>\n",
       "      <td>0</td>\n",
       "      <td>petrol</td>\n",
       "      <td>...</td>\n",
       "      <td>24</td>\n",
       "      <td>0</td>\n",
       "      <td>0</td>\n",
       "      <td>0</td>\n",
       "      <td>2016</td>\n",
       "      <td>4</td>\n",
       "      <td>7</td>\n",
       "      <td>3</td>\n",
       "      <td>16</td>\n",
       "      <td>57</td>\n",
       "    </tr>\n",
       "    <tr>\n",
       "      <th>1</th>\n",
       "      <td>2016-03-24 10:58:45</td>\n",
       "      <td>18300</td>\n",
       "      <td>coupe</td>\n",
       "      <td>2011</td>\n",
       "      <td>manual</td>\n",
       "      <td>190</td>\n",
       "      <td>NaN</td>\n",
       "      <td>125000</td>\n",
       "      <td>5</td>\n",
       "      <td>gasoline</td>\n",
       "      <td>...</td>\n",
       "      <td>24</td>\n",
       "      <td>0</td>\n",
       "      <td>0</td>\n",
       "      <td>0</td>\n",
       "      <td>2016</td>\n",
       "      <td>4</td>\n",
       "      <td>7</td>\n",
       "      <td>1</td>\n",
       "      <td>46</td>\n",
       "      <td>50</td>\n",
       "    </tr>\n",
       "    <tr>\n",
       "      <th>2</th>\n",
       "      <td>2016-03-14 12:52:21</td>\n",
       "      <td>9800</td>\n",
       "      <td>suv</td>\n",
       "      <td>2004</td>\n",
       "      <td>auto</td>\n",
       "      <td>163</td>\n",
       "      <td>grand</td>\n",
       "      <td>125000</td>\n",
       "      <td>8</td>\n",
       "      <td>gasoline</td>\n",
       "      <td>...</td>\n",
       "      <td>14</td>\n",
       "      <td>0</td>\n",
       "      <td>0</td>\n",
       "      <td>0</td>\n",
       "      <td>2016</td>\n",
       "      <td>4</td>\n",
       "      <td>5</td>\n",
       "      <td>12</td>\n",
       "      <td>47</td>\n",
       "      <td>46</td>\n",
       "    </tr>\n",
       "    <tr>\n",
       "      <th>3</th>\n",
       "      <td>2016-03-17 16:54:04</td>\n",
       "      <td>1500</td>\n",
       "      <td>small</td>\n",
       "      <td>2001</td>\n",
       "      <td>manual</td>\n",
       "      <td>75</td>\n",
       "      <td>golf</td>\n",
       "      <td>150000</td>\n",
       "      <td>6</td>\n",
       "      <td>petrol</td>\n",
       "      <td>...</td>\n",
       "      <td>17</td>\n",
       "      <td>0</td>\n",
       "      <td>0</td>\n",
       "      <td>0</td>\n",
       "      <td>2016</td>\n",
       "      <td>3</td>\n",
       "      <td>17</td>\n",
       "      <td>17</td>\n",
       "      <td>40</td>\n",
       "      <td>17</td>\n",
       "    </tr>\n",
       "    <tr>\n",
       "      <th>4</th>\n",
       "      <td>2016-03-31 17:25:20</td>\n",
       "      <td>3600</td>\n",
       "      <td>small</td>\n",
       "      <td>2008</td>\n",
       "      <td>manual</td>\n",
       "      <td>69</td>\n",
       "      <td>fabia</td>\n",
       "      <td>90000</td>\n",
       "      <td>7</td>\n",
       "      <td>gasoline</td>\n",
       "      <td>...</td>\n",
       "      <td>31</td>\n",
       "      <td>0</td>\n",
       "      <td>0</td>\n",
       "      <td>0</td>\n",
       "      <td>2016</td>\n",
       "      <td>4</td>\n",
       "      <td>6</td>\n",
       "      <td>10</td>\n",
       "      <td>17</td>\n",
       "      <td>21</td>\n",
       "    </tr>\n",
       "    <tr>\n",
       "      <th>...</th>\n",
       "      <td>...</td>\n",
       "      <td>...</td>\n",
       "      <td>...</td>\n",
       "      <td>...</td>\n",
       "      <td>...</td>\n",
       "      <td>...</td>\n",
       "      <td>...</td>\n",
       "      <td>...</td>\n",
       "      <td>...</td>\n",
       "      <td>...</td>\n",
       "      <td>...</td>\n",
       "      <td>...</td>\n",
       "      <td>...</td>\n",
       "      <td>...</td>\n",
       "      <td>...</td>\n",
       "      <td>...</td>\n",
       "      <td>...</td>\n",
       "      <td>...</td>\n",
       "      <td>...</td>\n",
       "      <td>...</td>\n",
       "      <td>...</td>\n",
       "    </tr>\n",
       "    <tr>\n",
       "      <th>354364</th>\n",
       "      <td>2016-03-21 09:50:58</td>\n",
       "      <td>0</td>\n",
       "      <td>NaN</td>\n",
       "      <td>2005</td>\n",
       "      <td>manual</td>\n",
       "      <td>0</td>\n",
       "      <td>colt</td>\n",
       "      <td>150000</td>\n",
       "      <td>7</td>\n",
       "      <td>petrol</td>\n",
       "      <td>...</td>\n",
       "      <td>21</td>\n",
       "      <td>0</td>\n",
       "      <td>0</td>\n",
       "      <td>0</td>\n",
       "      <td>2016</td>\n",
       "      <td>3</td>\n",
       "      <td>21</td>\n",
       "      <td>10</td>\n",
       "      <td>42</td>\n",
       "      <td>49</td>\n",
       "    </tr>\n",
       "    <tr>\n",
       "      <th>354365</th>\n",
       "      <td>2016-03-14 17:48:27</td>\n",
       "      <td>2200</td>\n",
       "      <td>NaN</td>\n",
       "      <td>2005</td>\n",
       "      <td>NaN</td>\n",
       "      <td>0</td>\n",
       "      <td>NaN</td>\n",
       "      <td>20000</td>\n",
       "      <td>1</td>\n",
       "      <td>NaN</td>\n",
       "      <td>...</td>\n",
       "      <td>14</td>\n",
       "      <td>0</td>\n",
       "      <td>0</td>\n",
       "      <td>0</td>\n",
       "      <td>2016</td>\n",
       "      <td>4</td>\n",
       "      <td>6</td>\n",
       "      <td>0</td>\n",
       "      <td>46</td>\n",
       "      <td>52</td>\n",
       "    </tr>\n",
       "    <tr>\n",
       "      <th>354366</th>\n",
       "      <td>2016-03-05 19:56:21</td>\n",
       "      <td>1199</td>\n",
       "      <td>convertible</td>\n",
       "      <td>2000</td>\n",
       "      <td>auto</td>\n",
       "      <td>101</td>\n",
       "      <td>fortwo</td>\n",
       "      <td>125000</td>\n",
       "      <td>3</td>\n",
       "      <td>petrol</td>\n",
       "      <td>...</td>\n",
       "      <td>5</td>\n",
       "      <td>0</td>\n",
       "      <td>0</td>\n",
       "      <td>0</td>\n",
       "      <td>2016</td>\n",
       "      <td>3</td>\n",
       "      <td>11</td>\n",
       "      <td>18</td>\n",
       "      <td>17</td>\n",
       "      <td>12</td>\n",
       "    </tr>\n",
       "    <tr>\n",
       "      <th>354367</th>\n",
       "      <td>2016-03-19 18:57:12</td>\n",
       "      <td>9200</td>\n",
       "      <td>bus</td>\n",
       "      <td>1996</td>\n",
       "      <td>manual</td>\n",
       "      <td>102</td>\n",
       "      <td>transporter</td>\n",
       "      <td>150000</td>\n",
       "      <td>3</td>\n",
       "      <td>gasoline</td>\n",
       "      <td>...</td>\n",
       "      <td>19</td>\n",
       "      <td>0</td>\n",
       "      <td>0</td>\n",
       "      <td>0</td>\n",
       "      <td>2016</td>\n",
       "      <td>4</td>\n",
       "      <td>7</td>\n",
       "      <td>7</td>\n",
       "      <td>15</td>\n",
       "      <td>26</td>\n",
       "    </tr>\n",
       "    <tr>\n",
       "      <th>354368</th>\n",
       "      <td>2016-03-20 19:41:08</td>\n",
       "      <td>3400</td>\n",
       "      <td>wagon</td>\n",
       "      <td>2002</td>\n",
       "      <td>manual</td>\n",
       "      <td>100</td>\n",
       "      <td>golf</td>\n",
       "      <td>150000</td>\n",
       "      <td>6</td>\n",
       "      <td>gasoline</td>\n",
       "      <td>...</td>\n",
       "      <td>20</td>\n",
       "      <td>0</td>\n",
       "      <td>0</td>\n",
       "      <td>0</td>\n",
       "      <td>2016</td>\n",
       "      <td>3</td>\n",
       "      <td>24</td>\n",
       "      <td>12</td>\n",
       "      <td>45</td>\n",
       "      <td>21</td>\n",
       "    </tr>\n",
       "  </tbody>\n",
       "</table>\n",
       "<p>354369 rows × 33 columns</p>\n",
       "</div>"
      ],
      "text/plain": [
       "             download_date  price vehicle_type  registration_year gearbox  \\\n",
       "0      2016-03-24 11:52:17    480          NaN               1993  manual   \n",
       "1      2016-03-24 10:58:45  18300        coupe               2011  manual   \n",
       "2      2016-03-14 12:52:21   9800          suv               2004    auto   \n",
       "3      2016-03-17 16:54:04   1500        small               2001  manual   \n",
       "4      2016-03-31 17:25:20   3600        small               2008  manual   \n",
       "...                    ...    ...          ...                ...     ...   \n",
       "354364 2016-03-21 09:50:58      0          NaN               2005  manual   \n",
       "354365 2016-03-14 17:48:27   2200          NaN               2005     NaN   \n",
       "354366 2016-03-05 19:56:21   1199  convertible               2000    auto   \n",
       "354367 2016-03-19 18:57:12   9200          bus               1996  manual   \n",
       "354368 2016-03-20 19:41:08   3400        wagon               2002  manual   \n",
       "\n",
       "        power        model  kilometer  registration_month fuel_type  ...  \\\n",
       "0           0         golf     150000                   0    petrol  ...   \n",
       "1         190          NaN     125000                   5  gasoline  ...   \n",
       "2         163        grand     125000                   8  gasoline  ...   \n",
       "3          75         golf     150000                   6    petrol  ...   \n",
       "4          69        fabia      90000                   7  gasoline  ...   \n",
       "...       ...          ...        ...                 ...       ...  ...   \n",
       "354364      0         colt     150000                   7    petrol  ...   \n",
       "354365      0          NaN      20000                   1       NaN  ...   \n",
       "354366    101       fortwo     125000                   3    petrol  ...   \n",
       "354367    102  transporter     150000                   3  gasoline  ...   \n",
       "354368    100         golf     150000                   6  gasoline  ...   \n",
       "\n",
       "       date_created_day date_created_hour date_created_minute  \\\n",
       "0                    24                 0                   0   \n",
       "1                    24                 0                   0   \n",
       "2                    14                 0                   0   \n",
       "3                    17                 0                   0   \n",
       "4                    31                 0                   0   \n",
       "...                 ...               ...                 ...   \n",
       "354364               21                 0                   0   \n",
       "354365               14                 0                   0   \n",
       "354366                5                 0                   0   \n",
       "354367               19                 0                   0   \n",
       "354368               20                 0                   0   \n",
       "\n",
       "        date_created_second last_seen_year  last_seen_month  last_seen_day  \\\n",
       "0                         0           2016                4              7   \n",
       "1                         0           2016                4              7   \n",
       "2                         0           2016                4              5   \n",
       "3                         0           2016                3             17   \n",
       "4                         0           2016                4              6   \n",
       "...                     ...            ...              ...            ...   \n",
       "354364                    0           2016                3             21   \n",
       "354365                    0           2016                4              6   \n",
       "354366                    0           2016                3             11   \n",
       "354367                    0           2016                4              7   \n",
       "354368                    0           2016                3             24   \n",
       "\n",
       "        last_seen_hour  last_seen_minute  last_seen_second  \n",
       "0                    3                16                57  \n",
       "1                    1                46                50  \n",
       "2                   12                47                46  \n",
       "3                   17                40                17  \n",
       "4                   10                17                21  \n",
       "...                ...               ...               ...  \n",
       "354364              10                42                49  \n",
       "354365               0                46                52  \n",
       "354366              18                17                12  \n",
       "354367               7                15                26  \n",
       "354368              12                45                21  \n",
       "\n",
       "[354369 rows x 33 columns]"
      ]
     },
     "execution_count": 15,
     "metadata": {},
     "output_type": "execute_result"
    }
   ],
   "source": [
    "df"
   ]
  },
  {
   "cell_type": "markdown",
   "metadata": {},
   "source": [
    "Посмотрим общую информацию о таблице"
   ]
  },
  {
   "cell_type": "code",
   "execution_count": 16,
   "metadata": {},
   "outputs": [
    {
     "name": "stdout",
     "output_type": "stream",
     "text": [
      "<class 'pandas.core.frame.DataFrame'>\n",
      "RangeIndex: 354369 entries, 0 to 354368\n",
      "Data columns (total 33 columns):\n",
      " #   Column                Non-Null Count   Dtype         \n",
      "---  ------                --------------   -----         \n",
      " 0   download_date         354369 non-null  datetime64[ns]\n",
      " 1   price                 354369 non-null  int64         \n",
      " 2   vehicle_type          316879 non-null  object        \n",
      " 3   registration_year     354369 non-null  int64         \n",
      " 4   gearbox               334536 non-null  object        \n",
      " 5   power                 354369 non-null  int64         \n",
      " 6   model                 334664 non-null  object        \n",
      " 7   kilometer             354369 non-null  int64         \n",
      " 8   registration_month    354369 non-null  int64         \n",
      " 9   fuel_type             321474 non-null  object        \n",
      " 10  brand                 354369 non-null  object        \n",
      " 11  not_repaired          283215 non-null  object        \n",
      " 12  date_created          354369 non-null  datetime64[ns]\n",
      " 13  postal_code           354369 non-null  int64         \n",
      " 14  last_seen             354369 non-null  datetime64[ns]\n",
      " 15  download_date_year    354369 non-null  int64         \n",
      " 16  download_date_month   354369 non-null  int64         \n",
      " 17  download_date_day     354369 non-null  int64         \n",
      " 18  download_date_hour    354369 non-null  int64         \n",
      " 19  download_date_minute  354369 non-null  int64         \n",
      " 20  download_date_second  354369 non-null  int64         \n",
      " 21  date_created_year     354369 non-null  int64         \n",
      " 22  date_created_month    354369 non-null  int64         \n",
      " 23  date_created_day      354369 non-null  int64         \n",
      " 24  date_created_hour     354369 non-null  int64         \n",
      " 25  date_created_minute   354369 non-null  int64         \n",
      " 26  date_created_second   354369 non-null  int64         \n",
      " 27  last_seen_year        354369 non-null  int64         \n",
      " 28  last_seen_month       354369 non-null  int64         \n",
      " 29  last_seen_day         354369 non-null  int64         \n",
      " 30  last_seen_hour        354369 non-null  int64         \n",
      " 31  last_seen_minute      354369 non-null  int64         \n",
      " 32  last_seen_second      354369 non-null  int64         \n",
      "dtypes: datetime64[ns](3), int64(24), object(6)\n",
      "memory usage: 89.2+ MB\n"
     ]
    }
   ],
   "source": [
    "df.info()"
   ]
  },
  {
   "cell_type": "markdown",
   "metadata": {},
   "source": [
    "И основные числовые характеристики"
   ]
  },
  {
   "cell_type": "code",
   "execution_count": 17,
   "metadata": {},
   "outputs": [
    {
     "data": {
      "text/html": [
       "<div>\n",
       "<style scoped>\n",
       "    .dataframe tbody tr th:only-of-type {\n",
       "        vertical-align: middle;\n",
       "    }\n",
       "\n",
       "    .dataframe tbody tr th {\n",
       "        vertical-align: top;\n",
       "    }\n",
       "\n",
       "    .dataframe thead th {\n",
       "        text-align: right;\n",
       "    }\n",
       "</style>\n",
       "<table border=\"1\" class=\"dataframe\">\n",
       "  <thead>\n",
       "    <tr style=\"text-align: right;\">\n",
       "      <th></th>\n",
       "      <th>price</th>\n",
       "      <th>registration_year</th>\n",
       "      <th>power</th>\n",
       "      <th>kilometer</th>\n",
       "      <th>registration_month</th>\n",
       "      <th>postal_code</th>\n",
       "      <th>download_date_year</th>\n",
       "      <th>download_date_month</th>\n",
       "      <th>download_date_day</th>\n",
       "      <th>download_date_hour</th>\n",
       "      <th>...</th>\n",
       "      <th>date_created_day</th>\n",
       "      <th>date_created_hour</th>\n",
       "      <th>date_created_minute</th>\n",
       "      <th>date_created_second</th>\n",
       "      <th>last_seen_year</th>\n",
       "      <th>last_seen_month</th>\n",
       "      <th>last_seen_day</th>\n",
       "      <th>last_seen_hour</th>\n",
       "      <th>last_seen_minute</th>\n",
       "      <th>last_seen_second</th>\n",
       "    </tr>\n",
       "  </thead>\n",
       "  <tbody>\n",
       "    <tr>\n",
       "      <th>count</th>\n",
       "      <td>354369.000000</td>\n",
       "      <td>354369.000000</td>\n",
       "      <td>354369.000000</td>\n",
       "      <td>354369.000000</td>\n",
       "      <td>354369.000000</td>\n",
       "      <td>354369.000000</td>\n",
       "      <td>354369.0</td>\n",
       "      <td>354369.000000</td>\n",
       "      <td>354369.000000</td>\n",
       "      <td>354369.000000</td>\n",
       "      <td>...</td>\n",
       "      <td>354369.000000</td>\n",
       "      <td>354369.0</td>\n",
       "      <td>354369.0</td>\n",
       "      <td>354369.0</td>\n",
       "      <td>354369.0</td>\n",
       "      <td>354369.000000</td>\n",
       "      <td>354369.000000</td>\n",
       "      <td>354369.000000</td>\n",
       "      <td>354369.000000</td>\n",
       "      <td>354369.000000</td>\n",
       "    </tr>\n",
       "    <tr>\n",
       "      <th>mean</th>\n",
       "      <td>4416.656776</td>\n",
       "      <td>2004.234448</td>\n",
       "      <td>110.094337</td>\n",
       "      <td>128211.172535</td>\n",
       "      <td>5.714645</td>\n",
       "      <td>50508.689087</td>\n",
       "      <td>2016.0</td>\n",
       "      <td>3.162387</td>\n",
       "      <td>15.852783</td>\n",
       "      <td>14.909665</td>\n",
       "      <td>...</td>\n",
       "      <td>15.859689</td>\n",
       "      <td>0.0</td>\n",
       "      <td>0.0</td>\n",
       "      <td>0.0</td>\n",
       "      <td>2016.0</td>\n",
       "      <td>3.564987</td>\n",
       "      <td>11.963456</td>\n",
       "      <td>11.813835</td>\n",
       "      <td>33.267868</td>\n",
       "      <td>30.073754</td>\n",
       "    </tr>\n",
       "    <tr>\n",
       "      <th>std</th>\n",
       "      <td>4514.158514</td>\n",
       "      <td>90.227958</td>\n",
       "      <td>189.850405</td>\n",
       "      <td>37905.341530</td>\n",
       "      <td>3.726421</td>\n",
       "      <td>25783.096248</td>\n",
       "      <td>0.0</td>\n",
       "      <td>0.368806</td>\n",
       "      <td>9.116311</td>\n",
       "      <td>5.422938</td>\n",
       "      <td>...</td>\n",
       "      <td>9.123133</td>\n",
       "      <td>0.0</td>\n",
       "      <td>0.0</td>\n",
       "      <td>0.0</td>\n",
       "      <td>0.0</td>\n",
       "      <td>0.495759</td>\n",
       "      <td>8.886562</td>\n",
       "      <td>6.516410</td>\n",
       "      <td>14.693983</td>\n",
       "      <td>16.949339</td>\n",
       "    </tr>\n",
       "    <tr>\n",
       "      <th>min</th>\n",
       "      <td>0.000000</td>\n",
       "      <td>1000.000000</td>\n",
       "      <td>0.000000</td>\n",
       "      <td>5000.000000</td>\n",
       "      <td>0.000000</td>\n",
       "      <td>1067.000000</td>\n",
       "      <td>2016.0</td>\n",
       "      <td>3.000000</td>\n",
       "      <td>1.000000</td>\n",
       "      <td>0.000000</td>\n",
       "      <td>...</td>\n",
       "      <td>1.000000</td>\n",
       "      <td>0.0</td>\n",
       "      <td>0.0</td>\n",
       "      <td>0.0</td>\n",
       "      <td>2016.0</td>\n",
       "      <td>3.000000</td>\n",
       "      <td>1.000000</td>\n",
       "      <td>0.000000</td>\n",
       "      <td>0.000000</td>\n",
       "      <td>0.000000</td>\n",
       "    </tr>\n",
       "    <tr>\n",
       "      <th>25%</th>\n",
       "      <td>1050.000000</td>\n",
       "      <td>1999.000000</td>\n",
       "      <td>69.000000</td>\n",
       "      <td>125000.000000</td>\n",
       "      <td>3.000000</td>\n",
       "      <td>30165.000000</td>\n",
       "      <td>2016.0</td>\n",
       "      <td>3.000000</td>\n",
       "      <td>8.000000</td>\n",
       "      <td>12.000000</td>\n",
       "      <td>...</td>\n",
       "      <td>8.000000</td>\n",
       "      <td>0.0</td>\n",
       "      <td>0.0</td>\n",
       "      <td>0.0</td>\n",
       "      <td>2016.0</td>\n",
       "      <td>3.000000</td>\n",
       "      <td>6.000000</td>\n",
       "      <td>7.000000</td>\n",
       "      <td>17.000000</td>\n",
       "      <td>16.000000</td>\n",
       "    </tr>\n",
       "    <tr>\n",
       "      <th>50%</th>\n",
       "      <td>2700.000000</td>\n",
       "      <td>2003.000000</td>\n",
       "      <td>105.000000</td>\n",
       "      <td>150000.000000</td>\n",
       "      <td>6.000000</td>\n",
       "      <td>49413.000000</td>\n",
       "      <td>2016.0</td>\n",
       "      <td>3.000000</td>\n",
       "      <td>16.000000</td>\n",
       "      <td>16.000000</td>\n",
       "      <td>...</td>\n",
       "      <td>16.000000</td>\n",
       "      <td>0.0</td>\n",
       "      <td>0.0</td>\n",
       "      <td>0.0</td>\n",
       "      <td>2016.0</td>\n",
       "      <td>4.000000</td>\n",
       "      <td>7.000000</td>\n",
       "      <td>12.000000</td>\n",
       "      <td>44.000000</td>\n",
       "      <td>30.000000</td>\n",
       "    </tr>\n",
       "    <tr>\n",
       "      <th>75%</th>\n",
       "      <td>6400.000000</td>\n",
       "      <td>2008.000000</td>\n",
       "      <td>143.000000</td>\n",
       "      <td>150000.000000</td>\n",
       "      <td>9.000000</td>\n",
       "      <td>71083.000000</td>\n",
       "      <td>2016.0</td>\n",
       "      <td>3.000000</td>\n",
       "      <td>24.000000</td>\n",
       "      <td>19.000000</td>\n",
       "      <td>...</td>\n",
       "      <td>24.000000</td>\n",
       "      <td>0.0</td>\n",
       "      <td>0.0</td>\n",
       "      <td>0.0</td>\n",
       "      <td>2016.0</td>\n",
       "      <td>4.000000</td>\n",
       "      <td>19.000000</td>\n",
       "      <td>17.000000</td>\n",
       "      <td>46.000000</td>\n",
       "      <td>45.000000</td>\n",
       "    </tr>\n",
       "    <tr>\n",
       "      <th>max</th>\n",
       "      <td>20000.000000</td>\n",
       "      <td>9999.000000</td>\n",
       "      <td>20000.000000</td>\n",
       "      <td>150000.000000</td>\n",
       "      <td>12.000000</td>\n",
       "      <td>99998.000000</td>\n",
       "      <td>2016.0</td>\n",
       "      <td>4.000000</td>\n",
       "      <td>31.000000</td>\n",
       "      <td>23.000000</td>\n",
       "      <td>...</td>\n",
       "      <td>31.000000</td>\n",
       "      <td>0.0</td>\n",
       "      <td>0.0</td>\n",
       "      <td>0.0</td>\n",
       "      <td>2016.0</td>\n",
       "      <td>4.000000</td>\n",
       "      <td>31.000000</td>\n",
       "      <td>23.000000</td>\n",
       "      <td>59.000000</td>\n",
       "      <td>59.000000</td>\n",
       "    </tr>\n",
       "  </tbody>\n",
       "</table>\n",
       "<p>8 rows × 24 columns</p>\n",
       "</div>"
      ],
      "text/plain": [
       "               price  registration_year          power      kilometer  \\\n",
       "count  354369.000000      354369.000000  354369.000000  354369.000000   \n",
       "mean     4416.656776        2004.234448     110.094337  128211.172535   \n",
       "std      4514.158514          90.227958     189.850405   37905.341530   \n",
       "min         0.000000        1000.000000       0.000000    5000.000000   \n",
       "25%      1050.000000        1999.000000      69.000000  125000.000000   \n",
       "50%      2700.000000        2003.000000     105.000000  150000.000000   \n",
       "75%      6400.000000        2008.000000     143.000000  150000.000000   \n",
       "max     20000.000000        9999.000000   20000.000000  150000.000000   \n",
       "\n",
       "       registration_month    postal_code  download_date_year  \\\n",
       "count       354369.000000  354369.000000            354369.0   \n",
       "mean             5.714645   50508.689087              2016.0   \n",
       "std              3.726421   25783.096248                 0.0   \n",
       "min              0.000000    1067.000000              2016.0   \n",
       "25%              3.000000   30165.000000              2016.0   \n",
       "50%              6.000000   49413.000000              2016.0   \n",
       "75%              9.000000   71083.000000              2016.0   \n",
       "max             12.000000   99998.000000              2016.0   \n",
       "\n",
       "       download_date_month  download_date_day  download_date_hour  ...  \\\n",
       "count        354369.000000      354369.000000       354369.000000  ...   \n",
       "mean              3.162387          15.852783           14.909665  ...   \n",
       "std               0.368806           9.116311            5.422938  ...   \n",
       "min               3.000000           1.000000            0.000000  ...   \n",
       "25%               3.000000           8.000000           12.000000  ...   \n",
       "50%               3.000000          16.000000           16.000000  ...   \n",
       "75%               3.000000          24.000000           19.000000  ...   \n",
       "max               4.000000          31.000000           23.000000  ...   \n",
       "\n",
       "       date_created_day  date_created_hour  date_created_minute  \\\n",
       "count     354369.000000           354369.0             354369.0   \n",
       "mean          15.859689                0.0                  0.0   \n",
       "std            9.123133                0.0                  0.0   \n",
       "min            1.000000                0.0                  0.0   \n",
       "25%            8.000000                0.0                  0.0   \n",
       "50%           16.000000                0.0                  0.0   \n",
       "75%           24.000000                0.0                  0.0   \n",
       "max           31.000000                0.0                  0.0   \n",
       "\n",
       "       date_created_second  last_seen_year  last_seen_month  last_seen_day  \\\n",
       "count             354369.0        354369.0    354369.000000  354369.000000   \n",
       "mean                   0.0          2016.0         3.564987      11.963456   \n",
       "std                    0.0             0.0         0.495759       8.886562   \n",
       "min                    0.0          2016.0         3.000000       1.000000   \n",
       "25%                    0.0          2016.0         3.000000       6.000000   \n",
       "50%                    0.0          2016.0         4.000000       7.000000   \n",
       "75%                    0.0          2016.0         4.000000      19.000000   \n",
       "max                    0.0          2016.0         4.000000      31.000000   \n",
       "\n",
       "       last_seen_hour  last_seen_minute  last_seen_second  \n",
       "count   354369.000000     354369.000000     354369.000000  \n",
       "mean        11.813835         33.267868         30.073754  \n",
       "std          6.516410         14.693983         16.949339  \n",
       "min          0.000000          0.000000          0.000000  \n",
       "25%          7.000000         17.000000         16.000000  \n",
       "50%         12.000000         44.000000         30.000000  \n",
       "75%         17.000000         46.000000         45.000000  \n",
       "max         23.000000         59.000000         59.000000  \n",
       "\n",
       "[8 rows x 24 columns]"
      ]
     },
     "execution_count": 17,
     "metadata": {},
     "output_type": "execute_result"
    }
   ],
   "source": [
    "df.describe()"
   ]
  },
  {
   "cell_type": "markdown",
   "metadata": {},
   "source": [
    "Столбцы с датами нам теперь не нужны. А кроме того, удалим появившиеся нулевые столбцы"
   ]
  },
  {
   "cell_type": "code",
   "execution_count": 18,
   "metadata": {},
   "outputs": [],
   "source": [
    "df.drop(['download_date', 'date_created', 'last_seen', 'download_date_year', 'date_created_hour', 'date_created_minute', 'date_created_second', 'last_seen_year'], axis=1, inplace=True)"
   ]
  },
  {
   "cell_type": "markdown",
   "metadata": {},
   "source": [
    "Убедимся, что ненужных столбцов не осталось"
   ]
  },
  {
   "cell_type": "code",
   "execution_count": 19,
   "metadata": {},
   "outputs": [
    {
     "data": {
      "text/html": [
       "<div>\n",
       "<style scoped>\n",
       "    .dataframe tbody tr th:only-of-type {\n",
       "        vertical-align: middle;\n",
       "    }\n",
       "\n",
       "    .dataframe tbody tr th {\n",
       "        vertical-align: top;\n",
       "    }\n",
       "\n",
       "    .dataframe thead th {\n",
       "        text-align: right;\n",
       "    }\n",
       "</style>\n",
       "<table border=\"1\" class=\"dataframe\">\n",
       "  <thead>\n",
       "    <tr style=\"text-align: right;\">\n",
       "      <th></th>\n",
       "      <th>price</th>\n",
       "      <th>vehicle_type</th>\n",
       "      <th>registration_year</th>\n",
       "      <th>gearbox</th>\n",
       "      <th>power</th>\n",
       "      <th>model</th>\n",
       "      <th>kilometer</th>\n",
       "      <th>registration_month</th>\n",
       "      <th>fuel_type</th>\n",
       "      <th>brand</th>\n",
       "      <th>...</th>\n",
       "      <th>download_date_minute</th>\n",
       "      <th>download_date_second</th>\n",
       "      <th>date_created_year</th>\n",
       "      <th>date_created_month</th>\n",
       "      <th>date_created_day</th>\n",
       "      <th>last_seen_month</th>\n",
       "      <th>last_seen_day</th>\n",
       "      <th>last_seen_hour</th>\n",
       "      <th>last_seen_minute</th>\n",
       "      <th>last_seen_second</th>\n",
       "    </tr>\n",
       "  </thead>\n",
       "  <tbody>\n",
       "    <tr>\n",
       "      <th>0</th>\n",
       "      <td>480</td>\n",
       "      <td>NaN</td>\n",
       "      <td>1993</td>\n",
       "      <td>manual</td>\n",
       "      <td>0</td>\n",
       "      <td>golf</td>\n",
       "      <td>150000</td>\n",
       "      <td>0</td>\n",
       "      <td>petrol</td>\n",
       "      <td>volkswagen</td>\n",
       "      <td>...</td>\n",
       "      <td>52</td>\n",
       "      <td>17</td>\n",
       "      <td>2016</td>\n",
       "      <td>3</td>\n",
       "      <td>24</td>\n",
       "      <td>4</td>\n",
       "      <td>7</td>\n",
       "      <td>3</td>\n",
       "      <td>16</td>\n",
       "      <td>57</td>\n",
       "    </tr>\n",
       "    <tr>\n",
       "      <th>1</th>\n",
       "      <td>18300</td>\n",
       "      <td>coupe</td>\n",
       "      <td>2011</td>\n",
       "      <td>manual</td>\n",
       "      <td>190</td>\n",
       "      <td>NaN</td>\n",
       "      <td>125000</td>\n",
       "      <td>5</td>\n",
       "      <td>gasoline</td>\n",
       "      <td>audi</td>\n",
       "      <td>...</td>\n",
       "      <td>58</td>\n",
       "      <td>45</td>\n",
       "      <td>2016</td>\n",
       "      <td>3</td>\n",
       "      <td>24</td>\n",
       "      <td>4</td>\n",
       "      <td>7</td>\n",
       "      <td>1</td>\n",
       "      <td>46</td>\n",
       "      <td>50</td>\n",
       "    </tr>\n",
       "    <tr>\n",
       "      <th>2</th>\n",
       "      <td>9800</td>\n",
       "      <td>suv</td>\n",
       "      <td>2004</td>\n",
       "      <td>auto</td>\n",
       "      <td>163</td>\n",
       "      <td>grand</td>\n",
       "      <td>125000</td>\n",
       "      <td>8</td>\n",
       "      <td>gasoline</td>\n",
       "      <td>jeep</td>\n",
       "      <td>...</td>\n",
       "      <td>52</td>\n",
       "      <td>21</td>\n",
       "      <td>2016</td>\n",
       "      <td>3</td>\n",
       "      <td>14</td>\n",
       "      <td>4</td>\n",
       "      <td>5</td>\n",
       "      <td>12</td>\n",
       "      <td>47</td>\n",
       "      <td>46</td>\n",
       "    </tr>\n",
       "    <tr>\n",
       "      <th>3</th>\n",
       "      <td>1500</td>\n",
       "      <td>small</td>\n",
       "      <td>2001</td>\n",
       "      <td>manual</td>\n",
       "      <td>75</td>\n",
       "      <td>golf</td>\n",
       "      <td>150000</td>\n",
       "      <td>6</td>\n",
       "      <td>petrol</td>\n",
       "      <td>volkswagen</td>\n",
       "      <td>...</td>\n",
       "      <td>54</td>\n",
       "      <td>4</td>\n",
       "      <td>2016</td>\n",
       "      <td>3</td>\n",
       "      <td>17</td>\n",
       "      <td>3</td>\n",
       "      <td>17</td>\n",
       "      <td>17</td>\n",
       "      <td>40</td>\n",
       "      <td>17</td>\n",
       "    </tr>\n",
       "    <tr>\n",
       "      <th>4</th>\n",
       "      <td>3600</td>\n",
       "      <td>small</td>\n",
       "      <td>2008</td>\n",
       "      <td>manual</td>\n",
       "      <td>69</td>\n",
       "      <td>fabia</td>\n",
       "      <td>90000</td>\n",
       "      <td>7</td>\n",
       "      <td>gasoline</td>\n",
       "      <td>skoda</td>\n",
       "      <td>...</td>\n",
       "      <td>25</td>\n",
       "      <td>20</td>\n",
       "      <td>2016</td>\n",
       "      <td>3</td>\n",
       "      <td>31</td>\n",
       "      <td>4</td>\n",
       "      <td>6</td>\n",
       "      <td>10</td>\n",
       "      <td>17</td>\n",
       "      <td>21</td>\n",
       "    </tr>\n",
       "    <tr>\n",
       "      <th>...</th>\n",
       "      <td>...</td>\n",
       "      <td>...</td>\n",
       "      <td>...</td>\n",
       "      <td>...</td>\n",
       "      <td>...</td>\n",
       "      <td>...</td>\n",
       "      <td>...</td>\n",
       "      <td>...</td>\n",
       "      <td>...</td>\n",
       "      <td>...</td>\n",
       "      <td>...</td>\n",
       "      <td>...</td>\n",
       "      <td>...</td>\n",
       "      <td>...</td>\n",
       "      <td>...</td>\n",
       "      <td>...</td>\n",
       "      <td>...</td>\n",
       "      <td>...</td>\n",
       "      <td>...</td>\n",
       "      <td>...</td>\n",
       "      <td>...</td>\n",
       "    </tr>\n",
       "    <tr>\n",
       "      <th>354364</th>\n",
       "      <td>0</td>\n",
       "      <td>NaN</td>\n",
       "      <td>2005</td>\n",
       "      <td>manual</td>\n",
       "      <td>0</td>\n",
       "      <td>colt</td>\n",
       "      <td>150000</td>\n",
       "      <td>7</td>\n",
       "      <td>petrol</td>\n",
       "      <td>mitsubishi</td>\n",
       "      <td>...</td>\n",
       "      <td>50</td>\n",
       "      <td>58</td>\n",
       "      <td>2016</td>\n",
       "      <td>3</td>\n",
       "      <td>21</td>\n",
       "      <td>3</td>\n",
       "      <td>21</td>\n",
       "      <td>10</td>\n",
       "      <td>42</td>\n",
       "      <td>49</td>\n",
       "    </tr>\n",
       "    <tr>\n",
       "      <th>354365</th>\n",
       "      <td>2200</td>\n",
       "      <td>NaN</td>\n",
       "      <td>2005</td>\n",
       "      <td>NaN</td>\n",
       "      <td>0</td>\n",
       "      <td>NaN</td>\n",
       "      <td>20000</td>\n",
       "      <td>1</td>\n",
       "      <td>NaN</td>\n",
       "      <td>sonstige_autos</td>\n",
       "      <td>...</td>\n",
       "      <td>48</td>\n",
       "      <td>27</td>\n",
       "      <td>2016</td>\n",
       "      <td>3</td>\n",
       "      <td>14</td>\n",
       "      <td>4</td>\n",
       "      <td>6</td>\n",
       "      <td>0</td>\n",
       "      <td>46</td>\n",
       "      <td>52</td>\n",
       "    </tr>\n",
       "    <tr>\n",
       "      <th>354366</th>\n",
       "      <td>1199</td>\n",
       "      <td>convertible</td>\n",
       "      <td>2000</td>\n",
       "      <td>auto</td>\n",
       "      <td>101</td>\n",
       "      <td>fortwo</td>\n",
       "      <td>125000</td>\n",
       "      <td>3</td>\n",
       "      <td>petrol</td>\n",
       "      <td>smart</td>\n",
       "      <td>...</td>\n",
       "      <td>56</td>\n",
       "      <td>21</td>\n",
       "      <td>2016</td>\n",
       "      <td>3</td>\n",
       "      <td>5</td>\n",
       "      <td>3</td>\n",
       "      <td>11</td>\n",
       "      <td>18</td>\n",
       "      <td>17</td>\n",
       "      <td>12</td>\n",
       "    </tr>\n",
       "    <tr>\n",
       "      <th>354367</th>\n",
       "      <td>9200</td>\n",
       "      <td>bus</td>\n",
       "      <td>1996</td>\n",
       "      <td>manual</td>\n",
       "      <td>102</td>\n",
       "      <td>transporter</td>\n",
       "      <td>150000</td>\n",
       "      <td>3</td>\n",
       "      <td>gasoline</td>\n",
       "      <td>volkswagen</td>\n",
       "      <td>...</td>\n",
       "      <td>57</td>\n",
       "      <td>12</td>\n",
       "      <td>2016</td>\n",
       "      <td>3</td>\n",
       "      <td>19</td>\n",
       "      <td>4</td>\n",
       "      <td>7</td>\n",
       "      <td>7</td>\n",
       "      <td>15</td>\n",
       "      <td>26</td>\n",
       "    </tr>\n",
       "    <tr>\n",
       "      <th>354368</th>\n",
       "      <td>3400</td>\n",
       "      <td>wagon</td>\n",
       "      <td>2002</td>\n",
       "      <td>manual</td>\n",
       "      <td>100</td>\n",
       "      <td>golf</td>\n",
       "      <td>150000</td>\n",
       "      <td>6</td>\n",
       "      <td>gasoline</td>\n",
       "      <td>volkswagen</td>\n",
       "      <td>...</td>\n",
       "      <td>41</td>\n",
       "      <td>8</td>\n",
       "      <td>2016</td>\n",
       "      <td>3</td>\n",
       "      <td>20</td>\n",
       "      <td>3</td>\n",
       "      <td>24</td>\n",
       "      <td>12</td>\n",
       "      <td>45</td>\n",
       "      <td>21</td>\n",
       "    </tr>\n",
       "  </tbody>\n",
       "</table>\n",
       "<p>354369 rows × 25 columns</p>\n",
       "</div>"
      ],
      "text/plain": [
       "        price vehicle_type  registration_year gearbox  power        model  \\\n",
       "0         480          NaN               1993  manual      0         golf   \n",
       "1       18300        coupe               2011  manual    190          NaN   \n",
       "2        9800          suv               2004    auto    163        grand   \n",
       "3        1500        small               2001  manual     75         golf   \n",
       "4        3600        small               2008  manual     69        fabia   \n",
       "...       ...          ...                ...     ...    ...          ...   \n",
       "354364      0          NaN               2005  manual      0         colt   \n",
       "354365   2200          NaN               2005     NaN      0          NaN   \n",
       "354366   1199  convertible               2000    auto    101       fortwo   \n",
       "354367   9200          bus               1996  manual    102  transporter   \n",
       "354368   3400        wagon               2002  manual    100         golf   \n",
       "\n",
       "        kilometer  registration_month fuel_type           brand  ...  \\\n",
       "0          150000                   0    petrol      volkswagen  ...   \n",
       "1          125000                   5  gasoline            audi  ...   \n",
       "2          125000                   8  gasoline            jeep  ...   \n",
       "3          150000                   6    petrol      volkswagen  ...   \n",
       "4           90000                   7  gasoline           skoda  ...   \n",
       "...           ...                 ...       ...             ...  ...   \n",
       "354364     150000                   7    petrol      mitsubishi  ...   \n",
       "354365      20000                   1       NaN  sonstige_autos  ...   \n",
       "354366     125000                   3    petrol           smart  ...   \n",
       "354367     150000                   3  gasoline      volkswagen  ...   \n",
       "354368     150000                   6  gasoline      volkswagen  ...   \n",
       "\n",
       "       download_date_minute  download_date_second  date_created_year  \\\n",
       "0                        52                    17               2016   \n",
       "1                        58                    45               2016   \n",
       "2                        52                    21               2016   \n",
       "3                        54                     4               2016   \n",
       "4                        25                    20               2016   \n",
       "...                     ...                   ...                ...   \n",
       "354364                   50                    58               2016   \n",
       "354365                   48                    27               2016   \n",
       "354366                   56                    21               2016   \n",
       "354367                   57                    12               2016   \n",
       "354368                   41                     8               2016   \n",
       "\n",
       "        date_created_month  date_created_day  last_seen_month  last_seen_day  \\\n",
       "0                        3                24                4              7   \n",
       "1                        3                24                4              7   \n",
       "2                        3                14                4              5   \n",
       "3                        3                17                3             17   \n",
       "4                        3                31                4              6   \n",
       "...                    ...               ...              ...            ...   \n",
       "354364                   3                21                3             21   \n",
       "354365                   3                14                4              6   \n",
       "354366                   3                 5                3             11   \n",
       "354367                   3                19                4              7   \n",
       "354368                   3                20                3             24   \n",
       "\n",
       "        last_seen_hour  last_seen_minute  last_seen_second  \n",
       "0                    3                16                57  \n",
       "1                    1                46                50  \n",
       "2                   12                47                46  \n",
       "3                   17                40                17  \n",
       "4                   10                17                21  \n",
       "...                ...               ...               ...  \n",
       "354364              10                42                49  \n",
       "354365               0                46                52  \n",
       "354366              18                17                12  \n",
       "354367               7                15                26  \n",
       "354368              12                45                21  \n",
       "\n",
       "[354369 rows x 25 columns]"
      ]
     },
     "execution_count": 19,
     "metadata": {},
     "output_type": "execute_result"
    }
   ],
   "source": [
    "df"
   ]
  },
  {
   "cell_type": "markdown",
   "metadata": {},
   "source": [
    "## Пропуски"
   ]
  },
  {
   "cell_type": "markdown",
   "metadata": {},
   "source": [
    "Перейдём к заполнению пропусков. Посмотрим ещё раз, где они встречаются"
   ]
  },
  {
   "cell_type": "code",
   "execution_count": 20,
   "metadata": {},
   "outputs": [
    {
     "data": {
      "text/plain": [
       "price                   0.000000\n",
       "vehicle_type            0.105794\n",
       "registration_year       0.000000\n",
       "gearbox                 0.055967\n",
       "power                   0.000000\n",
       "model                   0.055606\n",
       "kilometer               0.000000\n",
       "registration_month      0.000000\n",
       "fuel_type               0.092827\n",
       "brand                   0.000000\n",
       "not_repaired            0.200791\n",
       "postal_code             0.000000\n",
       "download_date_month     0.000000\n",
       "download_date_day       0.000000\n",
       "download_date_hour      0.000000\n",
       "download_date_minute    0.000000\n",
       "download_date_second    0.000000\n",
       "date_created_year       0.000000\n",
       "date_created_month      0.000000\n",
       "date_created_day        0.000000\n",
       "last_seen_month         0.000000\n",
       "last_seen_day           0.000000\n",
       "last_seen_hour          0.000000\n",
       "last_seen_minute        0.000000\n",
       "last_seen_second        0.000000\n",
       "dtype: float64"
      ]
     },
     "execution_count": 20,
     "metadata": {},
     "output_type": "execute_result"
    }
   ],
   "source": [
    "df.isna().mean()"
   ]
  },
  {
   "cell_type": "markdown",
   "metadata": {},
   "source": [
    "Поскольку все пропуски в строковых данных, заполним их новой строкой, которая не встречается, например, 'no_info'"
   ]
  },
  {
   "cell_type": "code",
   "execution_count": 21,
   "metadata": {},
   "outputs": [],
   "source": [
    "# список столбцов с пропусками\n",
    "list_with_nan = ['vehicle_type', 'gearbox', 'model', 'fuel_type', 'not_repaired']"
   ]
  },
  {
   "cell_type": "code",
   "execution_count": 22,
   "metadata": {},
   "outputs": [],
   "source": [
    "# создание датафрейма без пропусков\n",
    "df_without_nan = df.copy()"
   ]
  },
  {
   "cell_type": "code",
   "execution_count": 23,
   "metadata": {},
   "outputs": [],
   "source": [
    "# заполнение датафрейма\n",
    "df_without_nan[list_with_nan] = df_without_nan[list_with_nan].fillna('no_info')"
   ]
  },
  {
   "cell_type": "markdown",
   "metadata": {},
   "source": [
    "## Выбросы"
   ]
  },
  {
   "cell_type": "markdown",
   "metadata": {},
   "source": [
    "Составим списки фичей - отдельно категориальных, отдельно количественных"
   ]
  },
  {
   "cell_type": "code",
   "execution_count": 24,
   "metadata": {},
   "outputs": [],
   "source": [
    "cat_features = ['vehicle_type', 'gearbox', 'model', 'fuel_type', 'brand', 'not_repaired']\n",
    "features = ['vehicle_type', 'registration_year', 'gearbox', 'power',\n",
    "       'model', 'kilometer', 'registration_month', 'fuel_type', 'brand',\n",
    "       'not_repaired', 'postal_code', 'download_date_month',\n",
    "       'download_date_day', 'download_date_hour', 'download_date_minute',\n",
    "       'download_date_second', 'date_created_year', 'date_created_month',\n",
    "       'date_created_day', 'last_seen_month', 'last_seen_day',\n",
    "       'last_seen_hour', 'last_seen_minute', 'last_seen_second']\n",
    "int_features = [_ for _ in features if _ not in cat_features]"
   ]
  },
  {
   "cell_type": "markdown",
   "metadata": {},
   "source": [
    "Оценим выбросы отдельно по нескольким столбцам с помощью построения боксплотов"
   ]
  },
  {
   "cell_type": "markdown",
   "metadata": {},
   "source": [
    "### registration_year"
   ]
  },
  {
   "cell_type": "code",
   "execution_count": 25,
   "metadata": {},
   "outputs": [
    {
     "data": {
      "image/png": "[encoded data removed]",
      "text/plain": [
       "<Figure size 432x288 with 1 Axes>"
      ]
     },
     "metadata": {
      "needs_background": "light"
     },
     "output_type": "display_data"
    }
   ],
   "source": [
    "ax = sns.boxplot(x=\"registration_year\", data=df)"
   ]
  },
  {
   "cell_type": "markdown",
   "metadata": {},
   "source": [
    "Видим, что очень много выбросов со слишком большими значениями. Ограничим сверху 2018 годом"
   ]
  },
  {
   "cell_type": "code",
   "execution_count": 26,
   "metadata": {},
   "outputs": [],
   "source": [
    "df_no_anomaly = df[df['registration_year'] <= 2018]"
   ]
  },
  {
   "cell_type": "markdown",
   "metadata": {},
   "source": [
    "Оценим выбросы снизу"
   ]
  },
  {
   "cell_type": "code",
   "execution_count": 27,
   "metadata": {},
   "outputs": [
    {
     "data": {
      "image/png": "[encoded data removed]",
      "text/plain": [
       "<Figure size 432x288 with 1 Axes>"
      ]
     },
     "metadata": {
      "needs_background": "light"
     },
     "output_type": "display_data"
    }
   ],
   "source": [
    "ax = sns.boxplot(x=\"registration_year\", data=df_no_anomaly)"
   ]
  },
  {
   "cell_type": "markdown",
   "metadata": {},
   "source": [
    "Ограничим 1970 годом"
   ]
  },
  {
   "cell_type": "code",
   "execution_count": 28,
   "metadata": {},
   "outputs": [],
   "source": [
    "df_no_anomaly = df_no_anomaly[df_no_anomaly['registration_year'] >= 1970]"
   ]
  },
  {
   "cell_type": "markdown",
   "metadata": {},
   "source": [
    "Изучим результат"
   ]
  },
  {
   "cell_type": "code",
   "execution_count": 29,
   "metadata": {},
   "outputs": [
    {
     "data": {
      "image/png": "[encoded data removed]",
      "text/plain": [
       "<Figure size 432x288 with 1 Axes>"
      ]
     },
     "metadata": {
      "needs_background": "light"
     },
     "output_type": "display_data"
    }
   ],
   "source": [
    "ax = sns.boxplot(x=\"registration_year\", data=df_no_anomaly)"
   ]
  },
  {
   "cell_type": "markdown",
   "metadata": {},
   "source": [
    "### Price"
   ]
  },
  {
   "cell_type": "code",
   "execution_count": 30,
   "metadata": {},
   "outputs": [
    {
     "data": {
      "image/png": "[encoded data removed]",
      "text/plain": [
       "<Figure size 432x288 with 1 Axes>"
      ]
     },
     "metadata": {
      "needs_background": "light"
     },
     "output_type": "display_data"
    }
   ],
   "source": [
    "ax = sns.boxplot(x=\"price\", data=df_no_anomaly)"
   ]
  },
  {
   "cell_type": "markdown",
   "metadata": {},
   "source": [
    "Нулевая цена кажется подозрительной. Возьмём ненулевое значение для оценки. А выбросы сверху выглядят правдоподобно - их не будем трогать"
   ]
  },
  {
   "cell_type": "code",
   "execution_count": 31,
   "metadata": {},
   "outputs": [],
   "source": [
    "df_no_anomaly = df_no_anomaly[df_no_anomaly['price'] >= 20]"
   ]
  },
  {
   "cell_type": "markdown",
   "metadata": {},
   "source": [
    "## power"
   ]
  },
  {
   "cell_type": "code",
   "execution_count": 32,
   "metadata": {},
   "outputs": [
    {
     "data": {
      "image/png": "[encoded data removed]",
      "text/plain": [
       "<Figure size 432x288 with 1 Axes>"
      ]
     },
     "metadata": {
      "needs_background": "light"
     },
     "output_type": "display_data"
    }
   ],
   "source": [
    "ax = sns.boxplot(x=\"power\", data=df_no_anomaly)"
   ]
  },
  {
   "cell_type": "markdown",
   "metadata": {},
   "source": [
    "Аналогично ограничим снизу силу"
   ]
  },
  {
   "cell_type": "code",
   "execution_count": 33,
   "metadata": {},
   "outputs": [],
   "source": [
    "df_no_anomaly = df_no_anomaly[df_no_anomaly['power'] >= 20]"
   ]
  },
  {
   "cell_type": "markdown",
   "metadata": {},
   "source": [
    "Итак, датафрейм с пропусками, но без аномалий имеет следующий вид"
   ]
  },
  {
   "cell_type": "code",
   "execution_count": 34,
   "metadata": {},
   "outputs": [
    {
     "data": {
      "text/html": [
       "<div>\n",
       "<style scoped>\n",
       "    .dataframe tbody tr th:only-of-type {\n",
       "        vertical-align: middle;\n",
       "    }\n",
       "\n",
       "    .dataframe tbody tr th {\n",
       "        vertical-align: top;\n",
       "    }\n",
       "\n",
       "    .dataframe thead th {\n",
       "        text-align: right;\n",
       "    }\n",
       "</style>\n",
       "<table border=\"1\" class=\"dataframe\">\n",
       "  <thead>\n",
       "    <tr style=\"text-align: right;\">\n",
       "      <th></th>\n",
       "      <th>price</th>\n",
       "      <th>vehicle_type</th>\n",
       "      <th>registration_year</th>\n",
       "      <th>gearbox</th>\n",
       "      <th>power</th>\n",
       "      <th>model</th>\n",
       "      <th>kilometer</th>\n",
       "      <th>registration_month</th>\n",
       "      <th>fuel_type</th>\n",
       "      <th>brand</th>\n",
       "      <th>...</th>\n",
       "      <th>download_date_minute</th>\n",
       "      <th>download_date_second</th>\n",
       "      <th>date_created_year</th>\n",
       "      <th>date_created_month</th>\n",
       "      <th>date_created_day</th>\n",
       "      <th>last_seen_month</th>\n",
       "      <th>last_seen_day</th>\n",
       "      <th>last_seen_hour</th>\n",
       "      <th>last_seen_minute</th>\n",
       "      <th>last_seen_second</th>\n",
       "    </tr>\n",
       "  </thead>\n",
       "  <tbody>\n",
       "    <tr>\n",
       "      <th>1</th>\n",
       "      <td>18300</td>\n",
       "      <td>coupe</td>\n",
       "      <td>2011</td>\n",
       "      <td>manual</td>\n",
       "      <td>190</td>\n",
       "      <td>NaN</td>\n",
       "      <td>125000</td>\n",
       "      <td>5</td>\n",
       "      <td>gasoline</td>\n",
       "      <td>audi</td>\n",
       "      <td>...</td>\n",
       "      <td>58</td>\n",
       "      <td>45</td>\n",
       "      <td>2016</td>\n",
       "      <td>3</td>\n",
       "      <td>24</td>\n",
       "      <td>4</td>\n",
       "      <td>7</td>\n",
       "      <td>1</td>\n",
       "      <td>46</td>\n",
       "      <td>50</td>\n",
       "    </tr>\n",
       "    <tr>\n",
       "      <th>2</th>\n",
       "      <td>9800</td>\n",
       "      <td>suv</td>\n",
       "      <td>2004</td>\n",
       "      <td>auto</td>\n",
       "      <td>163</td>\n",
       "      <td>grand</td>\n",
       "      <td>125000</td>\n",
       "      <td>8</td>\n",
       "      <td>gasoline</td>\n",
       "      <td>jeep</td>\n",
       "      <td>...</td>\n",
       "      <td>52</td>\n",
       "      <td>21</td>\n",
       "      <td>2016</td>\n",
       "      <td>3</td>\n",
       "      <td>14</td>\n",
       "      <td>4</td>\n",
       "      <td>5</td>\n",
       "      <td>12</td>\n",
       "      <td>47</td>\n",
       "      <td>46</td>\n",
       "    </tr>\n",
       "    <tr>\n",
       "      <th>3</th>\n",
       "      <td>1500</td>\n",
       "      <td>small</td>\n",
       "      <td>2001</td>\n",
       "      <td>manual</td>\n",
       "      <td>75</td>\n",
       "      <td>golf</td>\n",
       "      <td>150000</td>\n",
       "      <td>6</td>\n",
       "      <td>petrol</td>\n",
       "      <td>volkswagen</td>\n",
       "      <td>...</td>\n",
       "      <td>54</td>\n",
       "      <td>4</td>\n",
       "      <td>2016</td>\n",
       "      <td>3</td>\n",
       "      <td>17</td>\n",
       "      <td>3</td>\n",
       "      <td>17</td>\n",
       "      <td>17</td>\n",
       "      <td>40</td>\n",
       "      <td>17</td>\n",
       "    </tr>\n",
       "    <tr>\n",
       "      <th>4</th>\n",
       "      <td>3600</td>\n",
       "      <td>small</td>\n",
       "      <td>2008</td>\n",
       "      <td>manual</td>\n",
       "      <td>69</td>\n",
       "      <td>fabia</td>\n",
       "      <td>90000</td>\n",
       "      <td>7</td>\n",
       "      <td>gasoline</td>\n",
       "      <td>skoda</td>\n",
       "      <td>...</td>\n",
       "      <td>25</td>\n",
       "      <td>20</td>\n",
       "      <td>2016</td>\n",
       "      <td>3</td>\n",
       "      <td>31</td>\n",
       "      <td>4</td>\n",
       "      <td>6</td>\n",
       "      <td>10</td>\n",
       "      <td>17</td>\n",
       "      <td>21</td>\n",
       "    </tr>\n",
       "    <tr>\n",
       "      <th>5</th>\n",
       "      <td>650</td>\n",
       "      <td>sedan</td>\n",
       "      <td>1995</td>\n",
       "      <td>manual</td>\n",
       "      <td>102</td>\n",
       "      <td>3er</td>\n",
       "      <td>150000</td>\n",
       "      <td>10</td>\n",
       "      <td>petrol</td>\n",
       "      <td>bmw</td>\n",
       "      <td>...</td>\n",
       "      <td>36</td>\n",
       "      <td>23</td>\n",
       "      <td>2016</td>\n",
       "      <td>4</td>\n",
       "      <td>4</td>\n",
       "      <td>4</td>\n",
       "      <td>6</td>\n",
       "      <td>19</td>\n",
       "      <td>17</td>\n",
       "      <td>7</td>\n",
       "    </tr>\n",
       "    <tr>\n",
       "      <th>...</th>\n",
       "      <td>...</td>\n",
       "      <td>...</td>\n",
       "      <td>...</td>\n",
       "      <td>...</td>\n",
       "      <td>...</td>\n",
       "      <td>...</td>\n",
       "      <td>...</td>\n",
       "      <td>...</td>\n",
       "      <td>...</td>\n",
       "      <td>...</td>\n",
       "      <td>...</td>\n",
       "      <td>...</td>\n",
       "      <td>...</td>\n",
       "      <td>...</td>\n",
       "      <td>...</td>\n",
       "      <td>...</td>\n",
       "      <td>...</td>\n",
       "      <td>...</td>\n",
       "      <td>...</td>\n",
       "      <td>...</td>\n",
       "      <td>...</td>\n",
       "    </tr>\n",
       "    <tr>\n",
       "      <th>354361</th>\n",
       "      <td>5250</td>\n",
       "      <td>NaN</td>\n",
       "      <td>2016</td>\n",
       "      <td>auto</td>\n",
       "      <td>150</td>\n",
       "      <td>159</td>\n",
       "      <td>150000</td>\n",
       "      <td>12</td>\n",
       "      <td>NaN</td>\n",
       "      <td>alfa_romeo</td>\n",
       "      <td>...</td>\n",
       "      <td>37</td>\n",
       "      <td>43</td>\n",
       "      <td>2016</td>\n",
       "      <td>3</td>\n",
       "      <td>9</td>\n",
       "      <td>3</td>\n",
       "      <td>13</td>\n",
       "      <td>1</td>\n",
       "      <td>44</td>\n",
       "      <td>13</td>\n",
       "    </tr>\n",
       "    <tr>\n",
       "      <th>354362</th>\n",
       "      <td>3200</td>\n",
       "      <td>sedan</td>\n",
       "      <td>2004</td>\n",
       "      <td>manual</td>\n",
       "      <td>225</td>\n",
       "      <td>leon</td>\n",
       "      <td>150000</td>\n",
       "      <td>5</td>\n",
       "      <td>petrol</td>\n",
       "      <td>seat</td>\n",
       "      <td>...</td>\n",
       "      <td>53</td>\n",
       "      <td>49</td>\n",
       "      <td>2016</td>\n",
       "      <td>3</td>\n",
       "      <td>19</td>\n",
       "      <td>3</td>\n",
       "      <td>19</td>\n",
       "      <td>20</td>\n",
       "      <td>44</td>\n",
       "      <td>43</td>\n",
       "    </tr>\n",
       "    <tr>\n",
       "      <th>354366</th>\n",
       "      <td>1199</td>\n",
       "      <td>convertible</td>\n",
       "      <td>2000</td>\n",
       "      <td>auto</td>\n",
       "      <td>101</td>\n",
       "      <td>fortwo</td>\n",
       "      <td>125000</td>\n",
       "      <td>3</td>\n",
       "      <td>petrol</td>\n",
       "      <td>smart</td>\n",
       "      <td>...</td>\n",
       "      <td>56</td>\n",
       "      <td>21</td>\n",
       "      <td>2016</td>\n",
       "      <td>3</td>\n",
       "      <td>5</td>\n",
       "      <td>3</td>\n",
       "      <td>11</td>\n",
       "      <td>18</td>\n",
       "      <td>17</td>\n",
       "      <td>12</td>\n",
       "    </tr>\n",
       "    <tr>\n",
       "      <th>354367</th>\n",
       "      <td>9200</td>\n",
       "      <td>bus</td>\n",
       "      <td>1996</td>\n",
       "      <td>manual</td>\n",
       "      <td>102</td>\n",
       "      <td>transporter</td>\n",
       "      <td>150000</td>\n",
       "      <td>3</td>\n",
       "      <td>gasoline</td>\n",
       "      <td>volkswagen</td>\n",
       "      <td>...</td>\n",
       "      <td>57</td>\n",
       "      <td>12</td>\n",
       "      <td>2016</td>\n",
       "      <td>3</td>\n",
       "      <td>19</td>\n",
       "      <td>4</td>\n",
       "      <td>7</td>\n",
       "      <td>7</td>\n",
       "      <td>15</td>\n",
       "      <td>26</td>\n",
       "    </tr>\n",
       "    <tr>\n",
       "      <th>354368</th>\n",
       "      <td>3400</td>\n",
       "      <td>wagon</td>\n",
       "      <td>2002</td>\n",
       "      <td>manual</td>\n",
       "      <td>100</td>\n",
       "      <td>golf</td>\n",
       "      <td>150000</td>\n",
       "      <td>6</td>\n",
       "      <td>gasoline</td>\n",
       "      <td>volkswagen</td>\n",
       "      <td>...</td>\n",
       "      <td>41</td>\n",
       "      <td>8</td>\n",
       "      <td>2016</td>\n",
       "      <td>3</td>\n",
       "      <td>20</td>\n",
       "      <td>3</td>\n",
       "      <td>24</td>\n",
       "      <td>12</td>\n",
       "      <td>45</td>\n",
       "      <td>21</td>\n",
       "    </tr>\n",
       "  </tbody>\n",
       "</table>\n",
       "<p>305362 rows × 25 columns</p>\n",
       "</div>"
      ],
      "text/plain": [
       "        price vehicle_type  registration_year gearbox  power        model  \\\n",
       "1       18300        coupe               2011  manual    190          NaN   \n",
       "2        9800          suv               2004    auto    163        grand   \n",
       "3        1500        small               2001  manual     75         golf   \n",
       "4        3600        small               2008  manual     69        fabia   \n",
       "5         650        sedan               1995  manual    102          3er   \n",
       "...       ...          ...                ...     ...    ...          ...   \n",
       "354361   5250          NaN               2016    auto    150          159   \n",
       "354362   3200        sedan               2004  manual    225         leon   \n",
       "354366   1199  convertible               2000    auto    101       fortwo   \n",
       "354367   9200          bus               1996  manual    102  transporter   \n",
       "354368   3400        wagon               2002  manual    100         golf   \n",
       "\n",
       "        kilometer  registration_month fuel_type       brand  ...  \\\n",
       "1          125000                   5  gasoline        audi  ...   \n",
       "2          125000                   8  gasoline        jeep  ...   \n",
       "3          150000                   6    petrol  volkswagen  ...   \n",
       "4           90000                   7  gasoline       skoda  ...   \n",
       "5          150000                  10    petrol         bmw  ...   \n",
       "...           ...                 ...       ...         ...  ...   \n",
       "354361     150000                  12       NaN  alfa_romeo  ...   \n",
       "354362     150000                   5    petrol        seat  ...   \n",
       "354366     125000                   3    petrol       smart  ...   \n",
       "354367     150000                   3  gasoline  volkswagen  ...   \n",
       "354368     150000                   6  gasoline  volkswagen  ...   \n",
       "\n",
       "       download_date_minute  download_date_second  date_created_year  \\\n",
       "1                        58                    45               2016   \n",
       "2                        52                    21               2016   \n",
       "3                        54                     4               2016   \n",
       "4                        25                    20               2016   \n",
       "5                        36                    23               2016   \n",
       "...                     ...                   ...                ...   \n",
       "354361                   37                    43               2016   \n",
       "354362                   53                    49               2016   \n",
       "354366                   56                    21               2016   \n",
       "354367                   57                    12               2016   \n",
       "354368                   41                     8               2016   \n",
       "\n",
       "        date_created_month  date_created_day  last_seen_month  last_seen_day  \\\n",
       "1                        3                24                4              7   \n",
       "2                        3                14                4              5   \n",
       "3                        3                17                3             17   \n",
       "4                        3                31                4              6   \n",
       "5                        4                 4                4              6   \n",
       "...                    ...               ...              ...            ...   \n",
       "354361                   3                 9                3             13   \n",
       "354362                   3                19                3             19   \n",
       "354366                   3                 5                3             11   \n",
       "354367                   3                19                4              7   \n",
       "354368                   3                20                3             24   \n",
       "\n",
       "        last_seen_hour  last_seen_minute  last_seen_second  \n",
       "1                    1                46                50  \n",
       "2                   12                47                46  \n",
       "3                   17                40                17  \n",
       "4                   10                17                21  \n",
       "5                   19                17                 7  \n",
       "...                ...               ...               ...  \n",
       "354361               1                44                13  \n",
       "354362              20                44                43  \n",
       "354366              18                17                12  \n",
       "354367               7                15                26  \n",
       "354368              12                45                21  \n",
       "\n",
       "[305362 rows x 25 columns]"
      ]
     },
     "execution_count": 34,
     "metadata": {},
     "output_type": "execute_result"
    }
   ],
   "source": [
    "df_no_anomaly"
   ]
  },
  {
   "cell_type": "markdown",
   "metadata": {},
   "source": [
    "Проделаем аналогичную работу для датафрейма без пропусков"
   ]
  },
  {
   "cell_type": "markdown",
   "metadata": {},
   "source": [
    "### registration_year"
   ]
  },
  {
   "cell_type": "code",
   "execution_count": 35,
   "metadata": {},
   "outputs": [
    {
     "data": {
      "image/png": "[encoded data removed]",
      "text/plain": [
       "<Figure size 432x288 with 1 Axes>"
      ]
     },
     "metadata": {
      "needs_background": "light"
     },
     "output_type": "display_data"
    }
   ],
   "source": [
    "ax = sns.boxplot(x=\"registration_year\", data=df_without_nan)"
   ]
  },
  {
   "cell_type": "code",
   "execution_count": 36,
   "metadata": {},
   "outputs": [],
   "source": [
    "df_without_nan_no_anomaly = df_without_nan[df_without_nan['registration_year'] <= 2018]"
   ]
  },
  {
   "cell_type": "code",
   "execution_count": 37,
   "metadata": {},
   "outputs": [
    {
     "data": {
      "image/png": "[encoded data removed]",
      "text/plain": [
       "<Figure size 432x288 with 1 Axes>"
      ]
     },
     "metadata": {
      "needs_background": "light"
     },
     "output_type": "display_data"
    }
   ],
   "source": [
    "ax = sns.boxplot(x=\"registration_year\", data=df_without_nan_no_anomaly)"
   ]
  },
  {
   "cell_type": "code",
   "execution_count": 38,
   "metadata": {},
   "outputs": [],
   "source": [
    "df_without_nan_no_anomaly = df_without_nan_no_anomaly[df_without_nan_no_anomaly['registration_year'] >= 1970]"
   ]
  },
  {
   "cell_type": "code",
   "execution_count": 39,
   "metadata": {},
   "outputs": [
    {
     "data": {
      "image/png": "[encoded data removed]",
      "text/plain": [
       "<Figure size 432x288 with 1 Axes>"
      ]
     },
     "metadata": {
      "needs_background": "light"
     },
     "output_type": "display_data"
    }
   ],
   "source": [
    "ax = sns.boxplot(x=\"registration_year\", data=df_without_nan_no_anomaly)"
   ]
  },
  {
   "cell_type": "markdown",
   "metadata": {},
   "source": [
    "### Price"
   ]
  },
  {
   "cell_type": "code",
   "execution_count": 40,
   "metadata": {},
   "outputs": [
    {
     "data": {
      "image/png": "[encoded data removed]",
      "text/plain": [
       "<Figure size 432x288 with 1 Axes>"
      ]
     },
     "metadata": {
      "needs_background": "light"
     },
     "output_type": "display_data"
    }
   ],
   "source": [
    "ax = sns.boxplot(x=\"price\", data=df_without_nan_no_anomaly)"
   ]
  },
  {
   "cell_type": "code",
   "execution_count": 41,
   "metadata": {},
   "outputs": [],
   "source": [
    "df_without_nan_no_anomaly = df_without_nan_no_anomaly[df_without_nan_no_anomaly['price'] >= 20]"
   ]
  },
  {
   "cell_type": "markdown",
   "metadata": {},
   "source": [
    "## power"
   ]
  },
  {
   "cell_type": "code",
   "execution_count": 42,
   "metadata": {},
   "outputs": [
    {
     "data": {
      "image/png": "[encoded data removed]",
      "text/plain": [
       "<Figure size 432x288 with 1 Axes>"
      ]
     },
     "metadata": {
      "needs_background": "light"
     },
     "output_type": "display_data"
    }
   ],
   "source": [
    "ax = sns.boxplot(x=\"power\", data=df_without_nan_no_anomaly)"
   ]
  },
  {
   "cell_type": "code",
   "execution_count": 43,
   "metadata": {},
   "outputs": [],
   "source": [
    "df_without_nan_no_anomaly = df_without_nan_no_anomaly[df_without_nan_no_anomaly['power'] >= 20]"
   ]
  },
  {
   "cell_type": "markdown",
   "metadata": {},
   "source": [
    "Датафрейм без пропусков и без аномалий выглядит следующим образом:"
   ]
  },
  {
   "cell_type": "code",
   "execution_count": 44,
   "metadata": {},
   "outputs": [
    {
     "data": {
      "text/html": [
       "<div>\n",
       "<style scoped>\n",
       "    .dataframe tbody tr th:only-of-type {\n",
       "        vertical-align: middle;\n",
       "    }\n",
       "\n",
       "    .dataframe tbody tr th {\n",
       "        vertical-align: top;\n",
       "    }\n",
       "\n",
       "    .dataframe thead th {\n",
       "        text-align: right;\n",
       "    }\n",
       "</style>\n",
       "<table border=\"1\" class=\"dataframe\">\n",
       "  <thead>\n",
       "    <tr style=\"text-align: right;\">\n",
       "      <th></th>\n",
       "      <th>price</th>\n",
       "      <th>vehicle_type</th>\n",
       "      <th>registration_year</th>\n",
       "      <th>gearbox</th>\n",
       "      <th>power</th>\n",
       "      <th>model</th>\n",
       "      <th>kilometer</th>\n",
       "      <th>registration_month</th>\n",
       "      <th>fuel_type</th>\n",
       "      <th>brand</th>\n",
       "      <th>...</th>\n",
       "      <th>download_date_minute</th>\n",
       "      <th>download_date_second</th>\n",
       "      <th>date_created_year</th>\n",
       "      <th>date_created_month</th>\n",
       "      <th>date_created_day</th>\n",
       "      <th>last_seen_month</th>\n",
       "      <th>last_seen_day</th>\n",
       "      <th>last_seen_hour</th>\n",
       "      <th>last_seen_minute</th>\n",
       "      <th>last_seen_second</th>\n",
       "    </tr>\n",
       "  </thead>\n",
       "  <tbody>\n",
       "    <tr>\n",
       "      <th>1</th>\n",
       "      <td>18300</td>\n",
       "      <td>coupe</td>\n",
       "      <td>2011</td>\n",
       "      <td>manual</td>\n",
       "      <td>190</td>\n",
       "      <td>no_info</td>\n",
       "      <td>125000</td>\n",
       "      <td>5</td>\n",
       "      <td>gasoline</td>\n",
       "      <td>audi</td>\n",
       "      <td>...</td>\n",
       "      <td>58</td>\n",
       "      <td>45</td>\n",
       "      <td>2016</td>\n",
       "      <td>3</td>\n",
       "      <td>24</td>\n",
       "      <td>4</td>\n",
       "      <td>7</td>\n",
       "      <td>1</td>\n",
       "      <td>46</td>\n",
       "      <td>50</td>\n",
       "    </tr>\n",
       "    <tr>\n",
       "      <th>2</th>\n",
       "      <td>9800</td>\n",
       "      <td>suv</td>\n",
       "      <td>2004</td>\n",
       "      <td>auto</td>\n",
       "      <td>163</td>\n",
       "      <td>grand</td>\n",
       "      <td>125000</td>\n",
       "      <td>8</td>\n",
       "      <td>gasoline</td>\n",
       "      <td>jeep</td>\n",
       "      <td>...</td>\n",
       "      <td>52</td>\n",
       "      <td>21</td>\n",
       "      <td>2016</td>\n",
       "      <td>3</td>\n",
       "      <td>14</td>\n",
       "      <td>4</td>\n",
       "      <td>5</td>\n",
       "      <td>12</td>\n",
       "      <td>47</td>\n",
       "      <td>46</td>\n",
       "    </tr>\n",
       "    <tr>\n",
       "      <th>3</th>\n",
       "      <td>1500</td>\n",
       "      <td>small</td>\n",
       "      <td>2001</td>\n",
       "      <td>manual</td>\n",
       "      <td>75</td>\n",
       "      <td>golf</td>\n",
       "      <td>150000</td>\n",
       "      <td>6</td>\n",
       "      <td>petrol</td>\n",
       "      <td>volkswagen</td>\n",
       "      <td>...</td>\n",
       "      <td>54</td>\n",
       "      <td>4</td>\n",
       "      <td>2016</td>\n",
       "      <td>3</td>\n",
       "      <td>17</td>\n",
       "      <td>3</td>\n",
       "      <td>17</td>\n",
       "      <td>17</td>\n",
       "      <td>40</td>\n",
       "      <td>17</td>\n",
       "    </tr>\n",
       "    <tr>\n",
       "      <th>4</th>\n",
       "      <td>3600</td>\n",
       "      <td>small</td>\n",
       "      <td>2008</td>\n",
       "      <td>manual</td>\n",
       "      <td>69</td>\n",
       "      <td>fabia</td>\n",
       "      <td>90000</td>\n",
       "      <td>7</td>\n",
       "      <td>gasoline</td>\n",
       "      <td>skoda</td>\n",
       "      <td>...</td>\n",
       "      <td>25</td>\n",
       "      <td>20</td>\n",
       "      <td>2016</td>\n",
       "      <td>3</td>\n",
       "      <td>31</td>\n",
       "      <td>4</td>\n",
       "      <td>6</td>\n",
       "      <td>10</td>\n",
       "      <td>17</td>\n",
       "      <td>21</td>\n",
       "    </tr>\n",
       "    <tr>\n",
       "      <th>5</th>\n",
       "      <td>650</td>\n",
       "      <td>sedan</td>\n",
       "      <td>1995</td>\n",
       "      <td>manual</td>\n",
       "      <td>102</td>\n",
       "      <td>3er</td>\n",
       "      <td>150000</td>\n",
       "      <td>10</td>\n",
       "      <td>petrol</td>\n",
       "      <td>bmw</td>\n",
       "      <td>...</td>\n",
       "      <td>36</td>\n",
       "      <td>23</td>\n",
       "      <td>2016</td>\n",
       "      <td>4</td>\n",
       "      <td>4</td>\n",
       "      <td>4</td>\n",
       "      <td>6</td>\n",
       "      <td>19</td>\n",
       "      <td>17</td>\n",
       "      <td>7</td>\n",
       "    </tr>\n",
       "    <tr>\n",
       "      <th>...</th>\n",
       "      <td>...</td>\n",
       "      <td>...</td>\n",
       "      <td>...</td>\n",
       "      <td>...</td>\n",
       "      <td>...</td>\n",
       "      <td>...</td>\n",
       "      <td>...</td>\n",
       "      <td>...</td>\n",
       "      <td>...</td>\n",
       "      <td>...</td>\n",
       "      <td>...</td>\n",
       "      <td>...</td>\n",
       "      <td>...</td>\n",
       "      <td>...</td>\n",
       "      <td>...</td>\n",
       "      <td>...</td>\n",
       "      <td>...</td>\n",
       "      <td>...</td>\n",
       "      <td>...</td>\n",
       "      <td>...</td>\n",
       "      <td>...</td>\n",
       "    </tr>\n",
       "    <tr>\n",
       "      <th>354361</th>\n",
       "      <td>5250</td>\n",
       "      <td>no_info</td>\n",
       "      <td>2016</td>\n",
       "      <td>auto</td>\n",
       "      <td>150</td>\n",
       "      <td>159</td>\n",
       "      <td>150000</td>\n",
       "      <td>12</td>\n",
       "      <td>no_info</td>\n",
       "      <td>alfa_romeo</td>\n",
       "      <td>...</td>\n",
       "      <td>37</td>\n",
       "      <td>43</td>\n",
       "      <td>2016</td>\n",
       "      <td>3</td>\n",
       "      <td>9</td>\n",
       "      <td>3</td>\n",
       "      <td>13</td>\n",
       "      <td>1</td>\n",
       "      <td>44</td>\n",
       "      <td>13</td>\n",
       "    </tr>\n",
       "    <tr>\n",
       "      <th>354362</th>\n",
       "      <td>3200</td>\n",
       "      <td>sedan</td>\n",
       "      <td>2004</td>\n",
       "      <td>manual</td>\n",
       "      <td>225</td>\n",
       "      <td>leon</td>\n",
       "      <td>150000</td>\n",
       "      <td>5</td>\n",
       "      <td>petrol</td>\n",
       "      <td>seat</td>\n",
       "      <td>...</td>\n",
       "      <td>53</td>\n",
       "      <td>49</td>\n",
       "      <td>2016</td>\n",
       "      <td>3</td>\n",
       "      <td>19</td>\n",
       "      <td>3</td>\n",
       "      <td>19</td>\n",
       "      <td>20</td>\n",
       "      <td>44</td>\n",
       "      <td>43</td>\n",
       "    </tr>\n",
       "    <tr>\n",
       "      <th>354366</th>\n",
       "      <td>1199</td>\n",
       "      <td>convertible</td>\n",
       "      <td>2000</td>\n",
       "      <td>auto</td>\n",
       "      <td>101</td>\n",
       "      <td>fortwo</td>\n",
       "      <td>125000</td>\n",
       "      <td>3</td>\n",
       "      <td>petrol</td>\n",
       "      <td>smart</td>\n",
       "      <td>...</td>\n",
       "      <td>56</td>\n",
       "      <td>21</td>\n",
       "      <td>2016</td>\n",
       "      <td>3</td>\n",
       "      <td>5</td>\n",
       "      <td>3</td>\n",
       "      <td>11</td>\n",
       "      <td>18</td>\n",
       "      <td>17</td>\n",
       "      <td>12</td>\n",
       "    </tr>\n",
       "    <tr>\n",
       "      <th>354367</th>\n",
       "      <td>9200</td>\n",
       "      <td>bus</td>\n",
       "      <td>1996</td>\n",
       "      <td>manual</td>\n",
       "      <td>102</td>\n",
       "      <td>transporter</td>\n",
       "      <td>150000</td>\n",
       "      <td>3</td>\n",
       "      <td>gasoline</td>\n",
       "      <td>volkswagen</td>\n",
       "      <td>...</td>\n",
       "      <td>57</td>\n",
       "      <td>12</td>\n",
       "      <td>2016</td>\n",
       "      <td>3</td>\n",
       "      <td>19</td>\n",
       "      <td>4</td>\n",
       "      <td>7</td>\n",
       "      <td>7</td>\n",
       "      <td>15</td>\n",
       "      <td>26</td>\n",
       "    </tr>\n",
       "    <tr>\n",
       "      <th>354368</th>\n",
       "      <td>3400</td>\n",
       "      <td>wagon</td>\n",
       "      <td>2002</td>\n",
       "      <td>manual</td>\n",
       "      <td>100</td>\n",
       "      <td>golf</td>\n",
       "      <td>150000</td>\n",
       "      <td>6</td>\n",
       "      <td>gasoline</td>\n",
       "      <td>volkswagen</td>\n",
       "      <td>...</td>\n",
       "      <td>41</td>\n",
       "      <td>8</td>\n",
       "      <td>2016</td>\n",
       "      <td>3</td>\n",
       "      <td>20</td>\n",
       "      <td>3</td>\n",
       "      <td>24</td>\n",
       "      <td>12</td>\n",
       "      <td>45</td>\n",
       "      <td>21</td>\n",
       "    </tr>\n",
       "  </tbody>\n",
       "</table>\n",
       "<p>305362 rows × 25 columns</p>\n",
       "</div>"
      ],
      "text/plain": [
       "        price vehicle_type  registration_year gearbox  power        model  \\\n",
       "1       18300        coupe               2011  manual    190      no_info   \n",
       "2        9800          suv               2004    auto    163        grand   \n",
       "3        1500        small               2001  manual     75         golf   \n",
       "4        3600        small               2008  manual     69        fabia   \n",
       "5         650        sedan               1995  manual    102          3er   \n",
       "...       ...          ...                ...     ...    ...          ...   \n",
       "354361   5250      no_info               2016    auto    150          159   \n",
       "354362   3200        sedan               2004  manual    225         leon   \n",
       "354366   1199  convertible               2000    auto    101       fortwo   \n",
       "354367   9200          bus               1996  manual    102  transporter   \n",
       "354368   3400        wagon               2002  manual    100         golf   \n",
       "\n",
       "        kilometer  registration_month fuel_type       brand  ...  \\\n",
       "1          125000                   5  gasoline        audi  ...   \n",
       "2          125000                   8  gasoline        jeep  ...   \n",
       "3          150000                   6    petrol  volkswagen  ...   \n",
       "4           90000                   7  gasoline       skoda  ...   \n",
       "5          150000                  10    petrol         bmw  ...   \n",
       "...           ...                 ...       ...         ...  ...   \n",
       "354361     150000                  12   no_info  alfa_romeo  ...   \n",
       "354362     150000                   5    petrol        seat  ...   \n",
       "354366     125000                   3    petrol       smart  ...   \n",
       "354367     150000                   3  gasoline  volkswagen  ...   \n",
       "354368     150000                   6  gasoline  volkswagen  ...   \n",
       "\n",
       "       download_date_minute  download_date_second  date_created_year  \\\n",
       "1                        58                    45               2016   \n",
       "2                        52                    21               2016   \n",
       "3                        54                     4               2016   \n",
       "4                        25                    20               2016   \n",
       "5                        36                    23               2016   \n",
       "...                     ...                   ...                ...   \n",
       "354361                   37                    43               2016   \n",
       "354362                   53                    49               2016   \n",
       "354366                   56                    21               2016   \n",
       "354367                   57                    12               2016   \n",
       "354368                   41                     8               2016   \n",
       "\n",
       "        date_created_month  date_created_day  last_seen_month  last_seen_day  \\\n",
       "1                        3                24                4              7   \n",
       "2                        3                14                4              5   \n",
       "3                        3                17                3             17   \n",
       "4                        3                31                4              6   \n",
       "5                        4                 4                4              6   \n",
       "...                    ...               ...              ...            ...   \n",
       "354361                   3                 9                3             13   \n",
       "354362                   3                19                3             19   \n",
       "354366                   3                 5                3             11   \n",
       "354367                   3                19                4              7   \n",
       "354368                   3                20                3             24   \n",
       "\n",
       "        last_seen_hour  last_seen_minute  last_seen_second  \n",
       "1                    1                46                50  \n",
       "2                   12                47                46  \n",
       "3                   17                40                17  \n",
       "4                   10                17                21  \n",
       "5                   19                17                 7  \n",
       "...                ...               ...               ...  \n",
       "354361               1                44                13  \n",
       "354362              20                44                43  \n",
       "354366              18                17                12  \n",
       "354367               7                15                26  \n",
       "354368              12                45                21  \n",
       "\n",
       "[305362 rows x 25 columns]"
      ]
     },
     "execution_count": 44,
     "metadata": {},
     "output_type": "execute_result"
    }
   ],
   "source": [
    "df_without_nan_no_anomaly"
   ]
  },
  {
   "cell_type": "markdown",
   "metadata": {},
   "source": [
    "Убедимся, что у нас нет сильно скоррелированных признаков"
   ]
  },
  {
   "cell_type": "code",
   "execution_count": 45,
   "metadata": {},
   "outputs": [],
   "source": [
    "corr_matrix = df.corr()"
   ]
  },
  {
   "cell_type": "code",
   "execution_count": 46,
   "metadata": {},
   "outputs": [
    {
     "data": {
      "text/html": [
       "<div>\n",
       "<style scoped>\n",
       "    .dataframe tbody tr th:only-of-type {\n",
       "        vertical-align: middle;\n",
       "    }\n",
       "\n",
       "    .dataframe tbody tr th {\n",
       "        vertical-align: top;\n",
       "    }\n",
       "\n",
       "    .dataframe thead th {\n",
       "        text-align: right;\n",
       "    }\n",
       "</style>\n",
       "<table border=\"1\" class=\"dataframe\">\n",
       "  <thead>\n",
       "    <tr style=\"text-align: right;\">\n",
       "      <th></th>\n",
       "      <th>price</th>\n",
       "      <th>registration_year</th>\n",
       "      <th>power</th>\n",
       "      <th>kilometer</th>\n",
       "      <th>registration_month</th>\n",
       "      <th>postal_code</th>\n",
       "      <th>download_date_month</th>\n",
       "      <th>download_date_day</th>\n",
       "      <th>download_date_hour</th>\n",
       "      <th>download_date_minute</th>\n",
       "      <th>download_date_second</th>\n",
       "      <th>date_created_year</th>\n",
       "      <th>date_created_month</th>\n",
       "      <th>date_created_day</th>\n",
       "      <th>last_seen_month</th>\n",
       "      <th>last_seen_day</th>\n",
       "      <th>last_seen_hour</th>\n",
       "      <th>last_seen_minute</th>\n",
       "      <th>last_seen_second</th>\n",
       "    </tr>\n",
       "  </thead>\n",
       "  <tbody>\n",
       "    <tr>\n",
       "      <th>price</th>\n",
       "      <td>1.000000</td>\n",
       "      <td>0.026916</td>\n",
       "      <td>0.158872</td>\n",
       "      <td>-0.333199</td>\n",
       "      <td>0.110581</td>\n",
       "      <td>0.076055</td>\n",
       "      <td>0.016530</td>\n",
       "      <td>-0.006756</td>\n",
       "      <td>0.017560</td>\n",
       "      <td>-0.008729</td>\n",
       "      <td>-0.000382</td>\n",
       "      <td>-0.005551</td>\n",
       "      <td>0.014367</td>\n",
       "      <td>-0.005795</td>\n",
       "      <td>0.149443</td>\n",
       "      <td>-0.103391</td>\n",
       "      <td>-0.020093</td>\n",
       "      <td>-0.033912</td>\n",
       "      <td>0.002296</td>\n",
       "    </tr>\n",
       "    <tr>\n",
       "      <th>registration_year</th>\n",
       "      <td>0.026916</td>\n",
       "      <td>1.000000</td>\n",
       "      <td>-0.000828</td>\n",
       "      <td>-0.053447</td>\n",
       "      <td>-0.011619</td>\n",
       "      <td>-0.003459</td>\n",
       "      <td>-0.000845</td>\n",
       "      <td>0.001234</td>\n",
       "      <td>-0.001617</td>\n",
       "      <td>-0.002793</td>\n",
       "      <td>-0.001559</td>\n",
       "      <td>0.000056</td>\n",
       "      <td>-0.000728</td>\n",
       "      <td>0.001110</td>\n",
       "      <td>-0.000630</td>\n",
       "      <td>0.000870</td>\n",
       "      <td>-0.000314</td>\n",
       "      <td>0.002297</td>\n",
       "      <td>0.002204</td>\n",
       "    </tr>\n",
       "    <tr>\n",
       "      <th>power</th>\n",
       "      <td>0.158872</td>\n",
       "      <td>-0.000828</td>\n",
       "      <td>1.000000</td>\n",
       "      <td>0.024002</td>\n",
       "      <td>0.043380</td>\n",
       "      <td>0.021665</td>\n",
       "      <td>0.003658</td>\n",
       "      <td>-0.001946</td>\n",
       "      <td>-0.000617</td>\n",
       "      <td>-0.001717</td>\n",
       "      <td>0.002466</td>\n",
       "      <td>0.000057</td>\n",
       "      <td>0.003290</td>\n",
       "      <td>-0.001812</td>\n",
       "      <td>0.020849</td>\n",
       "      <td>-0.013753</td>\n",
       "      <td>-0.003176</td>\n",
       "      <td>-0.006561</td>\n",
       "      <td>0.000803</td>\n",
       "    </tr>\n",
       "    <tr>\n",
       "      <th>kilometer</th>\n",
       "      <td>-0.333199</td>\n",
       "      <td>-0.053447</td>\n",
       "      <td>0.024002</td>\n",
       "      <td>1.000000</td>\n",
       "      <td>0.009571</td>\n",
       "      <td>-0.007698</td>\n",
       "      <td>-0.002671</td>\n",
       "      <td>0.001316</td>\n",
       "      <td>-0.011518</td>\n",
       "      <td>-0.001677</td>\n",
       "      <td>0.002740</td>\n",
       "      <td>0.004664</td>\n",
       "      <td>-0.001820</td>\n",
       "      <td>0.000627</td>\n",
       "      <td>-0.062445</td>\n",
       "      <td>0.041906</td>\n",
       "      <td>0.010456</td>\n",
       "      <td>0.013543</td>\n",
       "      <td>-0.001359</td>\n",
       "    </tr>\n",
       "    <tr>\n",
       "      <th>registration_month</th>\n",
       "      <td>0.110581</td>\n",
       "      <td>-0.011619</td>\n",
       "      <td>0.043380</td>\n",
       "      <td>0.009571</td>\n",
       "      <td>1.000000</td>\n",
       "      <td>0.013995</td>\n",
       "      <td>-0.002319</td>\n",
       "      <td>-0.001679</td>\n",
       "      <td>0.012123</td>\n",
       "      <td>-0.004741</td>\n",
       "      <td>0.001787</td>\n",
       "      <td>0.003290</td>\n",
       "      <td>-0.002460</td>\n",
       "      <td>-0.001923</td>\n",
       "      <td>0.001433</td>\n",
       "      <td>-0.003657</td>\n",
       "      <td>0.004620</td>\n",
       "      <td>0.002001</td>\n",
       "      <td>0.001284</td>\n",
       "    </tr>\n",
       "    <tr>\n",
       "      <th>postal_code</th>\n",
       "      <td>0.076055</td>\n",
       "      <td>-0.003459</td>\n",
       "      <td>0.021665</td>\n",
       "      <td>-0.007698</td>\n",
       "      <td>0.013995</td>\n",
       "      <td>1.000000</td>\n",
       "      <td>0.010526</td>\n",
       "      <td>0.001348</td>\n",
       "      <td>0.016590</td>\n",
       "      <td>-0.033107</td>\n",
       "      <td>-0.003884</td>\n",
       "      <td>0.000591</td>\n",
       "      <td>0.010182</td>\n",
       "      <td>0.001488</td>\n",
       "      <td>0.043501</td>\n",
       "      <td>-0.029997</td>\n",
       "      <td>0.002221</td>\n",
       "      <td>-0.017050</td>\n",
       "      <td>-0.000023</td>\n",
       "    </tr>\n",
       "    <tr>\n",
       "      <th>download_date_month</th>\n",
       "      <td>0.016530</td>\n",
       "      <td>-0.000845</td>\n",
       "      <td>0.003658</td>\n",
       "      <td>-0.002671</td>\n",
       "      <td>-0.002319</td>\n",
       "      <td>0.010526</td>\n",
       "      <td>1.000000</td>\n",
       "      <td>-0.627917</td>\n",
       "      <td>-0.032011</td>\n",
       "      <td>-0.024951</td>\n",
       "      <td>0.001639</td>\n",
       "      <td>0.002017</td>\n",
       "      <td>0.973855</td>\n",
       "      <td>-0.619143</td>\n",
       "      <td>0.386354</td>\n",
       "      <td>-0.333666</td>\n",
       "      <td>0.101165</td>\n",
       "      <td>0.000972</td>\n",
       "      <td>-0.017712</td>\n",
       "    </tr>\n",
       "    <tr>\n",
       "      <th>download_date_day</th>\n",
       "      <td>-0.006756</td>\n",
       "      <td>0.001234</td>\n",
       "      <td>-0.001946</td>\n",
       "      <td>0.001316</td>\n",
       "      <td>-0.001679</td>\n",
       "      <td>0.001348</td>\n",
       "      <td>-0.627917</td>\n",
       "      <td>1.000000</td>\n",
       "      <td>0.008740</td>\n",
       "      <td>0.040350</td>\n",
       "      <td>-0.000932</td>\n",
       "      <td>0.003560</td>\n",
       "      <td>-0.608346</td>\n",
       "      <td>0.991606</td>\n",
       "      <td>-0.018897</td>\n",
       "      <td>0.218404</td>\n",
       "      <td>-0.071310</td>\n",
       "      <td>0.010823</td>\n",
       "      <td>0.023318</td>\n",
       "    </tr>\n",
       "    <tr>\n",
       "      <th>download_date_hour</th>\n",
       "      <td>0.017560</td>\n",
       "      <td>-0.001617</td>\n",
       "      <td>-0.000617</td>\n",
       "      <td>-0.011518</td>\n",
       "      <td>0.012123</td>\n",
       "      <td>0.016590</td>\n",
       "      <td>-0.032011</td>\n",
       "      <td>0.008740</td>\n",
       "      <td>1.000000</td>\n",
       "      <td>0.041695</td>\n",
       "      <td>0.004999</td>\n",
       "      <td>0.000205</td>\n",
       "      <td>-0.023983</td>\n",
       "      <td>0.008118</td>\n",
       "      <td>0.008979</td>\n",
       "      <td>-0.011609</td>\n",
       "      <td>0.107129</td>\n",
       "      <td>0.001122</td>\n",
       "      <td>-0.001922</td>\n",
       "    </tr>\n",
       "    <tr>\n",
       "      <th>download_date_minute</th>\n",
       "      <td>-0.008729</td>\n",
       "      <td>-0.002793</td>\n",
       "      <td>-0.001717</td>\n",
       "      <td>-0.001677</td>\n",
       "      <td>-0.004741</td>\n",
       "      <td>-0.033107</td>\n",
       "      <td>-0.024951</td>\n",
       "      <td>0.040350</td>\n",
       "      <td>0.041695</td>\n",
       "      <td>1.000000</td>\n",
       "      <td>0.019968</td>\n",
       "      <td>0.000637</td>\n",
       "      <td>-0.025178</td>\n",
       "      <td>0.041697</td>\n",
       "      <td>0.000323</td>\n",
       "      <td>0.010232</td>\n",
       "      <td>-0.016681</td>\n",
       "      <td>0.071593</td>\n",
       "      <td>0.003262</td>\n",
       "    </tr>\n",
       "    <tr>\n",
       "      <th>download_date_second</th>\n",
       "      <td>-0.000382</td>\n",
       "      <td>-0.001559</td>\n",
       "      <td>0.002466</td>\n",
       "      <td>0.002740</td>\n",
       "      <td>0.001787</td>\n",
       "      <td>-0.003884</td>\n",
       "      <td>0.001639</td>\n",
       "      <td>-0.000932</td>\n",
       "      <td>0.004999</td>\n",
       "      <td>0.019968</td>\n",
       "      <td>1.000000</td>\n",
       "      <td>0.000657</td>\n",
       "      <td>0.001720</td>\n",
       "      <td>-0.001382</td>\n",
       "      <td>0.002299</td>\n",
       "      <td>-0.002131</td>\n",
       "      <td>-0.004099</td>\n",
       "      <td>-0.002029</td>\n",
       "      <td>0.102858</td>\n",
       "    </tr>\n",
       "    <tr>\n",
       "      <th>date_created_year</th>\n",
       "      <td>-0.005551</td>\n",
       "      <td>0.000056</td>\n",
       "      <td>0.000057</td>\n",
       "      <td>0.004664</td>\n",
       "      <td>0.003290</td>\n",
       "      <td>0.000591</td>\n",
       "      <td>0.002017</td>\n",
       "      <td>0.003560</td>\n",
       "      <td>0.000205</td>\n",
       "      <td>0.000637</td>\n",
       "      <td>0.000657</td>\n",
       "      <td>1.000000</td>\n",
       "      <td>-0.148957</td>\n",
       "      <td>0.001307</td>\n",
       "      <td>-0.001727</td>\n",
       "      <td>0.000808</td>\n",
       "      <td>-0.001629</td>\n",
       "      <td>0.000663</td>\n",
       "      <td>-0.000019</td>\n",
       "    </tr>\n",
       "    <tr>\n",
       "      <th>date_created_month</th>\n",
       "      <td>0.014367</td>\n",
       "      <td>-0.000728</td>\n",
       "      <td>0.003290</td>\n",
       "      <td>-0.001820</td>\n",
       "      <td>-0.002460</td>\n",
       "      <td>0.010182</td>\n",
       "      <td>0.973855</td>\n",
       "      <td>-0.608346</td>\n",
       "      <td>-0.023983</td>\n",
       "      <td>-0.025178</td>\n",
       "      <td>0.001720</td>\n",
       "      <td>-0.148957</td>\n",
       "      <td>1.000000</td>\n",
       "      <td>-0.613588</td>\n",
       "      <td>0.376773</td>\n",
       "      <td>-0.324446</td>\n",
       "      <td>0.102213</td>\n",
       "      <td>0.001132</td>\n",
       "      <td>-0.017138</td>\n",
       "    </tr>\n",
       "    <tr>\n",
       "      <th>date_created_day</th>\n",
       "      <td>-0.005795</td>\n",
       "      <td>0.001110</td>\n",
       "      <td>-0.001812</td>\n",
       "      <td>0.000627</td>\n",
       "      <td>-0.001923</td>\n",
       "      <td>0.001488</td>\n",
       "      <td>-0.619143</td>\n",
       "      <td>0.991606</td>\n",
       "      <td>0.008118</td>\n",
       "      <td>0.041697</td>\n",
       "      <td>-0.001382</td>\n",
       "      <td>0.001307</td>\n",
       "      <td>-0.613588</td>\n",
       "      <td>1.000000</td>\n",
       "      <td>-0.016062</td>\n",
       "      <td>0.215300</td>\n",
       "      <td>-0.073256</td>\n",
       "      <td>0.009869</td>\n",
       "      <td>0.023153</td>\n",
       "    </tr>\n",
       "    <tr>\n",
       "      <th>last_seen_month</th>\n",
       "      <td>0.149443</td>\n",
       "      <td>-0.000630</td>\n",
       "      <td>0.020849</td>\n",
       "      <td>-0.062445</td>\n",
       "      <td>0.001433</td>\n",
       "      <td>0.043501</td>\n",
       "      <td>0.386354</td>\n",
       "      <td>-0.018897</td>\n",
       "      <td>0.008979</td>\n",
       "      <td>0.000323</td>\n",
       "      <td>0.002299</td>\n",
       "      <td>-0.001727</td>\n",
       "      <td>0.376773</td>\n",
       "      <td>-0.016062</td>\n",
       "      <td>1.000000</td>\n",
       "      <td>-0.844017</td>\n",
       "      <td>-0.054991</td>\n",
       "      <td>-0.093188</td>\n",
       "      <td>0.015724</td>\n",
       "    </tr>\n",
       "    <tr>\n",
       "      <th>last_seen_day</th>\n",
       "      <td>-0.103391</td>\n",
       "      <td>0.000870</td>\n",
       "      <td>-0.013753</td>\n",
       "      <td>0.041906</td>\n",
       "      <td>-0.003657</td>\n",
       "      <td>-0.029997</td>\n",
       "      <td>-0.333666</td>\n",
       "      <td>0.218404</td>\n",
       "      <td>-0.011609</td>\n",
       "      <td>0.010232</td>\n",
       "      <td>-0.002131</td>\n",
       "      <td>0.000808</td>\n",
       "      <td>-0.324446</td>\n",
       "      <td>0.215300</td>\n",
       "      <td>-0.844017</td>\n",
       "      <td>1.000000</td>\n",
       "      <td>0.018606</td>\n",
       "      <td>0.069803</td>\n",
       "      <td>-0.008298</td>\n",
       "    </tr>\n",
       "    <tr>\n",
       "      <th>last_seen_hour</th>\n",
       "      <td>-0.020093</td>\n",
       "      <td>-0.000314</td>\n",
       "      <td>-0.003176</td>\n",
       "      <td>0.010456</td>\n",
       "      <td>0.004620</td>\n",
       "      <td>0.002221</td>\n",
       "      <td>0.101165</td>\n",
       "      <td>-0.071310</td>\n",
       "      <td>0.107129</td>\n",
       "      <td>-0.016681</td>\n",
       "      <td>-0.004099</td>\n",
       "      <td>-0.001629</td>\n",
       "      <td>0.102213</td>\n",
       "      <td>-0.073256</td>\n",
       "      <td>-0.054991</td>\n",
       "      <td>0.018606</td>\n",
       "      <td>1.000000</td>\n",
       "      <td>0.059604</td>\n",
       "      <td>0.004377</td>\n",
       "    </tr>\n",
       "    <tr>\n",
       "      <th>last_seen_minute</th>\n",
       "      <td>-0.033912</td>\n",
       "      <td>0.002297</td>\n",
       "      <td>-0.006561</td>\n",
       "      <td>0.013543</td>\n",
       "      <td>0.002001</td>\n",
       "      <td>-0.017050</td>\n",
       "      <td>0.000972</td>\n",
       "      <td>0.010823</td>\n",
       "      <td>0.001122</td>\n",
       "      <td>0.071593</td>\n",
       "      <td>-0.002029</td>\n",
       "      <td>0.000663</td>\n",
       "      <td>0.001132</td>\n",
       "      <td>0.009869</td>\n",
       "      <td>-0.093188</td>\n",
       "      <td>0.069803</td>\n",
       "      <td>0.059604</td>\n",
       "      <td>1.000000</td>\n",
       "      <td>-0.025063</td>\n",
       "    </tr>\n",
       "    <tr>\n",
       "      <th>last_seen_second</th>\n",
       "      <td>0.002296</td>\n",
       "      <td>0.002204</td>\n",
       "      <td>0.000803</td>\n",
       "      <td>-0.001359</td>\n",
       "      <td>0.001284</td>\n",
       "      <td>-0.000023</td>\n",
       "      <td>-0.017712</td>\n",
       "      <td>0.023318</td>\n",
       "      <td>-0.001922</td>\n",
       "      <td>0.003262</td>\n",
       "      <td>0.102858</td>\n",
       "      <td>-0.000019</td>\n",
       "      <td>-0.017138</td>\n",
       "      <td>0.023153</td>\n",
       "      <td>0.015724</td>\n",
       "      <td>-0.008298</td>\n",
       "      <td>0.004377</td>\n",
       "      <td>-0.025063</td>\n",
       "      <td>1.000000</td>\n",
       "    </tr>\n",
       "  </tbody>\n",
       "</table>\n",
       "</div>"
      ],
      "text/plain": [
       "                         price  registration_year     power  kilometer  \\\n",
       "price                 1.000000           0.026916  0.158872  -0.333199   \n",
       "registration_year     0.026916           1.000000 -0.000828  -0.053447   \n",
       "power                 0.158872          -0.000828  1.000000   0.024002   \n",
       "kilometer            -0.333199          -0.053447  0.024002   1.000000   \n",
       "registration_month    0.110581          -0.011619  0.043380   0.009571   \n",
       "postal_code           0.076055          -0.003459  0.021665  -0.007698   \n",
       "download_date_month   0.016530          -0.000845  0.003658  -0.002671   \n",
       "download_date_day    -0.006756           0.001234 -0.001946   0.001316   \n",
       "download_date_hour    0.017560          -0.001617 -0.000617  -0.011518   \n",
       "download_date_minute -0.008729          -0.002793 -0.001717  -0.001677   \n",
       "download_date_second -0.000382          -0.001559  0.002466   0.002740   \n",
       "date_created_year    -0.005551           0.000056  0.000057   0.004664   \n",
       "date_created_month    0.014367          -0.000728  0.003290  -0.001820   \n",
       "date_created_day     -0.005795           0.001110 -0.001812   0.000627   \n",
       "last_seen_month       0.149443          -0.000630  0.020849  -0.062445   \n",
       "last_seen_day        -0.103391           0.000870 -0.013753   0.041906   \n",
       "last_seen_hour       -0.020093          -0.000314 -0.003176   0.010456   \n",
       "last_seen_minute     -0.033912           0.002297 -0.006561   0.013543   \n",
       "last_seen_second      0.002296           0.002204  0.000803  -0.001359   \n",
       "\n",
       "                      registration_month  postal_code  download_date_month  \\\n",
       "price                           0.110581     0.076055             0.016530   \n",
       "registration_year              -0.011619    -0.003459            -0.000845   \n",
       "power                           0.043380     0.021665             0.003658   \n",
       "kilometer                       0.009571    -0.007698            -0.002671   \n",
       "registration_month              1.000000     0.013995            -0.002319   \n",
       "postal_code                     0.013995     1.000000             0.010526   \n",
       "download_date_month            -0.002319     0.010526             1.000000   \n",
       "download_date_day              -0.001679     0.001348            -0.627917   \n",
       "download_date_hour              0.012123     0.016590            -0.032011   \n",
       "download_date_minute           -0.004741    -0.033107            -0.024951   \n",
       "download_date_second            0.001787    -0.003884             0.001639   \n",
       "date_created_year               0.003290     0.000591             0.002017   \n",
       "date_created_month             -0.002460     0.010182             0.973855   \n",
       "date_created_day               -0.001923     0.001488            -0.619143   \n",
       "last_seen_month                 0.001433     0.043501             0.386354   \n",
       "last_seen_day                  -0.003657    -0.029997            -0.333666   \n",
       "last_seen_hour                  0.004620     0.002221             0.101165   \n",
       "last_seen_minute                0.002001    -0.017050             0.000972   \n",
       "last_seen_second                0.001284    -0.000023            -0.017712   \n",
       "\n",
       "                      download_date_day  download_date_hour  \\\n",
       "price                         -0.006756            0.017560   \n",
       "registration_year              0.001234           -0.001617   \n",
       "power                         -0.001946           -0.000617   \n",
       "kilometer                      0.001316           -0.011518   \n",
       "registration_month            -0.001679            0.012123   \n",
       "postal_code                    0.001348            0.016590   \n",
       "download_date_month           -0.627917           -0.032011   \n",
       "download_date_day              1.000000            0.008740   \n",
       "download_date_hour             0.008740            1.000000   \n",
       "download_date_minute           0.040350            0.041695   \n",
       "download_date_second          -0.000932            0.004999   \n",
       "date_created_year              0.003560            0.000205   \n",
       "date_created_month            -0.608346           -0.023983   \n",
       "date_created_day               0.991606            0.008118   \n",
       "last_seen_month               -0.018897            0.008979   \n",
       "last_seen_day                  0.218404           -0.011609   \n",
       "last_seen_hour                -0.071310            0.107129   \n",
       "last_seen_minute               0.010823            0.001122   \n",
       "last_seen_second               0.023318           -0.001922   \n",
       "\n",
       "                      download_date_minute  download_date_second  \\\n",
       "price                            -0.008729             -0.000382   \n",
       "registration_year                -0.002793             -0.001559   \n",
       "power                            -0.001717              0.002466   \n",
       "kilometer                        -0.001677              0.002740   \n",
       "registration_month               -0.004741              0.001787   \n",
       "postal_code                      -0.033107             -0.003884   \n",
       "download_date_month              -0.024951              0.001639   \n",
       "download_date_day                 0.040350             -0.000932   \n",
       "download_date_hour                0.041695              0.004999   \n",
       "download_date_minute              1.000000              0.019968   \n",
       "download_date_second              0.019968              1.000000   \n",
       "date_created_year                 0.000637              0.000657   \n",
       "date_created_month               -0.025178              0.001720   \n",
       "date_created_day                  0.041697             -0.001382   \n",
       "last_seen_month                   0.000323              0.002299   \n",
       "last_seen_day                     0.010232             -0.002131   \n",
       "last_seen_hour                   -0.016681             -0.004099   \n",
       "last_seen_minute                  0.071593             -0.002029   \n",
       "last_seen_second                  0.003262              0.102858   \n",
       "\n",
       "                      date_created_year  date_created_month  date_created_day  \\\n",
       "price                         -0.005551            0.014367         -0.005795   \n",
       "registration_year              0.000056           -0.000728          0.001110   \n",
       "power                          0.000057            0.003290         -0.001812   \n",
       "kilometer                      0.004664           -0.001820          0.000627   \n",
       "registration_month             0.003290           -0.002460         -0.001923   \n",
       "postal_code                    0.000591            0.010182          0.001488   \n",
       "download_date_month            0.002017            0.973855         -0.619143   \n",
       "download_date_day              0.003560           -0.608346          0.991606   \n",
       "download_date_hour             0.000205           -0.023983          0.008118   \n",
       "download_date_minute           0.000637           -0.025178          0.041697   \n",
       "download_date_second           0.000657            0.001720         -0.001382   \n",
       "date_created_year              1.000000           -0.148957          0.001307   \n",
       "date_created_month            -0.148957            1.000000         -0.613588   \n",
       "date_created_day               0.001307           -0.613588          1.000000   \n",
       "last_seen_month               -0.001727            0.376773         -0.016062   \n",
       "last_seen_day                  0.000808           -0.324446          0.215300   \n",
       "last_seen_hour                -0.001629            0.102213         -0.073256   \n",
       "last_seen_minute               0.000663            0.001132          0.009869   \n",
       "last_seen_second              -0.000019           -0.017138          0.023153   \n",
       "\n",
       "                      last_seen_month  last_seen_day  last_seen_hour  \\\n",
       "price                        0.149443      -0.103391       -0.020093   \n",
       "registration_year           -0.000630       0.000870       -0.000314   \n",
       "power                        0.020849      -0.013753       -0.003176   \n",
       "kilometer                   -0.062445       0.041906        0.010456   \n",
       "registration_month           0.001433      -0.003657        0.004620   \n",
       "postal_code                  0.043501      -0.029997        0.002221   \n",
       "download_date_month          0.386354      -0.333666        0.101165   \n",
       "download_date_day           -0.018897       0.218404       -0.071310   \n",
       "download_date_hour           0.008979      -0.011609        0.107129   \n",
       "download_date_minute         0.000323       0.010232       -0.016681   \n",
       "download_date_second         0.002299      -0.002131       -0.004099   \n",
       "date_created_year           -0.001727       0.000808       -0.001629   \n",
       "date_created_month           0.376773      -0.324446        0.102213   \n",
       "date_created_day            -0.016062       0.215300       -0.073256   \n",
       "last_seen_month              1.000000      -0.844017       -0.054991   \n",
       "last_seen_day               -0.844017       1.000000        0.018606   \n",
       "last_seen_hour              -0.054991       0.018606        1.000000   \n",
       "last_seen_minute            -0.093188       0.069803        0.059604   \n",
       "last_seen_second             0.015724      -0.008298        0.004377   \n",
       "\n",
       "                      last_seen_minute  last_seen_second  \n",
       "price                        -0.033912          0.002296  \n",
       "registration_year             0.002297          0.002204  \n",
       "power                        -0.006561          0.000803  \n",
       "kilometer                     0.013543         -0.001359  \n",
       "registration_month            0.002001          0.001284  \n",
       "postal_code                  -0.017050         -0.000023  \n",
       "download_date_month           0.000972         -0.017712  \n",
       "download_date_day             0.010823          0.023318  \n",
       "download_date_hour            0.001122         -0.001922  \n",
       "download_date_minute          0.071593          0.003262  \n",
       "download_date_second         -0.002029          0.102858  \n",
       "date_created_year             0.000663         -0.000019  \n",
       "date_created_month            0.001132         -0.017138  \n",
       "date_created_day              0.009869          0.023153  \n",
       "last_seen_month              -0.093188          0.015724  \n",
       "last_seen_day                 0.069803         -0.008298  \n",
       "last_seen_hour                0.059604          0.004377  \n",
       "last_seen_minute              1.000000         -0.025063  \n",
       "last_seen_second             -0.025063          1.000000  "
      ]
     },
     "execution_count": 46,
     "metadata": {},
     "output_type": "execute_result"
    }
   ],
   "source": [
    "corr_matrix"
   ]
  },
  {
   "cell_type": "markdown",
   "metadata": {},
   "source": [
    "Видим сильную корреляцию между столбцами date_created_day и download_date_day, а также date_created_month и download_date_month. Но поскольку с целевым признаком сильной корреляции ни у чего нет, оставим эти слолбцы"
   ]
  },
  {
   "cell_type": "markdown",
   "metadata": {},
   "source": [
    "## Удаление лишних столбцов и дубликатов"
   ]
  },
  {
   "cell_type": "markdown",
   "metadata": {},
   "source": [
    "### df"
   ]
  },
  {
   "cell_type": "code",
   "execution_count": 47,
   "metadata": {},
   "outputs": [],
   "source": [
    "df.drop(['download_date_month',\n",
    "       'download_date_day', 'download_date_hour', 'download_date_minute',\n",
    "       'download_date_second', 'date_created_year', 'date_created_month',\n",
    "       'date_created_day', 'last_seen_month', 'last_seen_day',\n",
    "       'last_seen_hour', 'last_seen_minute', 'last_seen_second', 'postal_code'], axis=1, inplace=True)"
   ]
  },
  {
   "cell_type": "code",
   "execution_count": 48,
   "metadata": {},
   "outputs": [
    {
     "data": {
      "text/plain": [
       "27543"
      ]
     },
     "execution_count": 48,
     "metadata": {},
     "output_type": "execute_result"
    }
   ],
   "source": [
    "# подсчёт явных дубликатов\n",
    "df.duplicated().sum()"
   ]
  },
  {
   "cell_type": "code",
   "execution_count": 49,
   "metadata": {},
   "outputs": [],
   "source": [
    "# удаление явных дубликатов (с удалением старых индексов и формированием новых)\n",
    "df = df.drop_duplicates().reset_index(drop=True)"
   ]
  },
  {
   "cell_type": "markdown",
   "metadata": {},
   "source": [
    "### df_no_anomaly"
   ]
  },
  {
   "cell_type": "code",
   "execution_count": 50,
   "metadata": {},
   "outputs": [],
   "source": [
    "df_no_anomaly.drop(['download_date_month',\n",
    "       'download_date_day', 'download_date_hour', 'download_date_minute',\n",
    "       'download_date_second', 'date_created_year', 'date_created_month',\n",
    "       'date_created_day', 'last_seen_month', 'last_seen_day',\n",
    "       'last_seen_hour', 'last_seen_minute', 'last_seen_second', 'postal_code'], axis=1, inplace=True)"
   ]
  },
  {
   "cell_type": "code",
   "execution_count": 51,
   "metadata": {},
   "outputs": [
    {
     "data": {
      "text/plain": [
       "23596"
      ]
     },
     "execution_count": 51,
     "metadata": {},
     "output_type": "execute_result"
    }
   ],
   "source": [
    "# подсчёт явных дубликатов\n",
    "df_no_anomaly.duplicated().sum()"
   ]
  },
  {
   "cell_type": "code",
   "execution_count": 52,
   "metadata": {},
   "outputs": [],
   "source": [
    "df_no_anomaly = df_no_anomaly.drop_duplicates().reset_index(drop=True)"
   ]
  },
  {
   "cell_type": "markdown",
   "metadata": {},
   "source": [
    "### df_without_nan"
   ]
  },
  {
   "cell_type": "code",
   "execution_count": 53,
   "metadata": {},
   "outputs": [],
   "source": [
    "df_without_nan.drop(['download_date_month',\n",
    "       'download_date_day', 'download_date_hour', 'download_date_minute',\n",
    "       'download_date_second', 'date_created_year', 'date_created_month',\n",
    "       'date_created_day', 'last_seen_month', 'last_seen_day',\n",
    "       'last_seen_hour', 'last_seen_minute', 'last_seen_second', 'postal_code'], axis=1, inplace=True)"
   ]
  },
  {
   "cell_type": "code",
   "execution_count": 54,
   "metadata": {},
   "outputs": [
    {
     "data": {
      "text/plain": [
       "27543"
      ]
     },
     "execution_count": 54,
     "metadata": {},
     "output_type": "execute_result"
    }
   ],
   "source": [
    "# подсчёт явных дубликатов\n",
    "df_without_nan.duplicated().sum()"
   ]
  },
  {
   "cell_type": "code",
   "execution_count": 55,
   "metadata": {},
   "outputs": [],
   "source": [
    "df_without_nan = df_without_nan.drop_duplicates().reset_index(drop=True)"
   ]
  },
  {
   "cell_type": "markdown",
   "metadata": {},
   "source": [
    "### df_without_nan_no_anomaly"
   ]
  },
  {
   "cell_type": "code",
   "execution_count": 56,
   "metadata": {},
   "outputs": [],
   "source": [
    "df_without_nan_no_anomaly.drop(['download_date_month',\n",
    "       'download_date_day', 'download_date_hour', 'download_date_minute',\n",
    "       'download_date_second', 'date_created_year', 'date_created_month',\n",
    "       'date_created_day', 'last_seen_month', 'last_seen_day',\n",
    "       'last_seen_hour', 'last_seen_minute', 'last_seen_second', 'postal_code'], axis=1, inplace=True)"
   ]
  },
  {
   "cell_type": "code",
   "execution_count": 57,
   "metadata": {},
   "outputs": [
    {
     "data": {
      "text/plain": [
       "23596"
      ]
     },
     "execution_count": 57,
     "metadata": {},
     "output_type": "execute_result"
    }
   ],
   "source": [
    "# подсчёт явных дубликатов\n",
    "df_without_nan_no_anomaly.duplicated().sum()"
   ]
  },
  {
   "cell_type": "code",
   "execution_count": 58,
   "metadata": {},
   "outputs": [],
   "source": [
    "df_without_nan_no_anomaly = df_without_nan_no_anomaly.drop_duplicates().reset_index(drop=True)"
   ]
  },
  {
   "cell_type": "code",
   "execution_count": 61,
   "metadata": {},
   "outputs": [],
   "source": [
    "cat_features = ['vehicle_type', 'gearbox', 'model', 'fuel_type', 'brand', 'not_repaired']\n",
    "features = ['vehicle_type', 'registration_year', 'gearbox', 'power',\n",
    "       'model', 'kilometer', 'registration_month', 'fuel_type', 'brand',\n",
    "       'not_repaired']\n",
    "int_features = [_ for _ in features if _ not in cat_features]"
   ]
  },
  {
   "cell_type": "markdown",
   "metadata": {},
   "source": [
    "## Кодирование"
   ]
  },
  {
   "cell_type": "markdown",
   "metadata": {},
   "source": [
    "Закодируем наши категориальные признаки. Для этого  воспользуемся техникой OrdinalEncoding"
   ]
  },
  {
   "cell_type": "code",
   "execution_count": 62,
   "metadata": {},
   "outputs": [],
   "source": [
    "ord_enc = OrdinalEncoder()"
   ]
  },
  {
   "cell_type": "code",
   "execution_count": 63,
   "metadata": {},
   "outputs": [],
   "source": [
    "df_ohe = df.copy()\n",
    "df_ohe[cat_features] = ord_enc.fit_transform(df[cat_features])"
   ]
  },
  {
   "cell_type": "code",
   "execution_count": 65,
   "metadata": {},
   "outputs": [],
   "source": [
    "df_no_anomaly_ohe = df_no_anomaly.copy()\n",
    "df_no_anomaly_ohe[cat_features] = ord_enc.fit_transform(df_no_anomaly[cat_features])"
   ]
  },
  {
   "cell_type": "code",
   "execution_count": 66,
   "metadata": {},
   "outputs": [],
   "source": [
    "df_without_nan_ohe = df_without_nan.copy()\n",
    "df_without_nan_ohe[cat_features] = ord_enc.fit_transform(df_without_nan[cat_features])"
   ]
  },
  {
   "cell_type": "code",
   "execution_count": 67,
   "metadata": {},
   "outputs": [],
   "source": [
    "df_without_nan_no_anomaly_ohe = df_without_nan_no_anomaly.copy()\n",
    "df_without_nan_no_anomaly_ohe[cat_features] = ord_enc.fit_transform(df_without_nan_no_anomaly[cat_features])"
   ]
  },
  {
   "cell_type": "markdown",
   "metadata": {},
   "source": [
    "Итак, на данном этапе у нас есть 6 значимых датафреймов для проверки разных моделей - df_without_nan, df_without_nan_no_anomaly, df_without_nan_ohe, df_without_nan_no_anomaly_ohe, df_ohe, df_no_anomaly_ohe. Каждый из них необходимо разделить на тестовую и обучающую выборки"
   ]
  },
  {
   "cell_type": "markdown",
   "metadata": {},
   "source": [
    "## Деление на выборки"
   ]
  },
  {
   "cell_type": "markdown",
   "metadata": {},
   "source": [
    "Реализуем функцию деления на выборки"
   ]
  },
  {
   "cell_type": "code",
   "execution_count": 69,
   "metadata": {},
   "outputs": [],
   "source": [
    "def split_function(df):\n",
    "    '''\n",
    "    Функция принимает на вход датафрейм. \n",
    "    Выделяет в переменную target столбец с ценой, а в переменную features все остальные столбцы.\n",
    "    При помощи функции train_test_split делит данные на выборки и возвращает \n",
    "    features_train, features_valid, features_test, target_train, target_valid, target_test    '''\n",
    "    target = df['price']\n",
    "    features = df.drop('price', axis=1)\n",
    "    features_train, features_other, target_train, target_other = train_test_split(features, target, test_size=0.4, random_state=42)\n",
    "    features_test, features_valid, target_test, target_valid = train_test_split(features_other, target_other, test_size=0.5, random_state=42)\n",
    "    return features_train, features_valid, features_test, target_train, target_valid, target_test"
   ]
  },
  {
   "cell_type": "markdown",
   "metadata": {},
   "source": [
    "Применим получившуюся функцию для наших датафреймов"
   ]
  },
  {
   "cell_type": "code",
   "execution_count": 70,
   "metadata": {},
   "outputs": [],
   "source": [
    "features_train_without_nan, features_valid_without_nan, features_test_without_nan,\\\n",
    "target_train_without_nan, target_valid_without_nan, target_test_without_nan = split_function(df_without_nan)"
   ]
  },
  {
   "cell_type": "code",
   "execution_count": 71,
   "metadata": {},
   "outputs": [],
   "source": [
    "features_train_without_nan_no_anomaly, features_valid_without_nan_no_anomaly, features_test_without_nan_no_anomaly,\\\n",
    "target_train_without_nan_no_anomaly, target_valid_without_nan_no_anomaly, target_test_without_nan_no_anomaly \\\n",
    "= split_function(df_without_nan_no_anomaly)"
   ]
  },
  {
   "cell_type": "code",
   "execution_count": 72,
   "metadata": {},
   "outputs": [],
   "source": [
    "features_train_without_nan_ohe, features_valid_without_nan_ohe, features_test_without_nan_ohe, \\\n",
    "target_train_without_nan_ohe, target_valid_without_nan_ohe, target_test_without_nan_ohe = split_function(df_without_nan_ohe)"
   ]
  },
  {
   "cell_type": "code",
   "execution_count": 74,
   "metadata": {},
   "outputs": [],
   "source": [
    "features_train_without_nan_no_anomaly_ohe, features_valid_without_nan_no_anomaly_ohe, \\\n",
    "features_test_without_nan_no_anomaly_ohe, target_train_without_nan_no_anomaly_ohe, \\\n",
    "target_valid_without_nan_no_anomaly_ohe, target_test_without_nan_no_anomaly_ohe = split_function(df_without_nan_no_anomaly_ohe)"
   ]
  },
  {
   "cell_type": "code",
   "execution_count": 76,
   "metadata": {},
   "outputs": [],
   "source": [
    "features_train_ohe, features_valid_ohe, features_test_ohe,\\\n",
    "target_train_ohe, target_valid_ohe, target_test_ohe = split_function(df_ohe)"
   ]
  },
  {
   "cell_type": "code",
   "execution_count": 77,
   "metadata": {},
   "outputs": [],
   "source": [
    "features_train_no_anomaly_ohe, features_valid_no_anomaly_ohe, features_test_no_anomaly_ohe, \\\n",
    "target_train_no_anomaly_ohe, target_valid_no_anomaly_ohe, target_test_no_anomaly_ohe = split_function(df_no_anomaly_ohe)"
   ]
  },
  {
   "cell_type": "markdown",
   "metadata": {},
   "source": [
    "<div style=\"border:solid blue 2px; padding: 20px\">\n",
    "\n",
    "**Выводы**\n",
    "\n",
    "На данном этапе \n",
    " * данные были предобработаны\n",
    "   * удалены лишние столбцы\n",
    "   * в отдельные датасеты были сохранены данные с пропусками, аномалиями и без\n",
    "   * часть данных была закодирована\n",
    " * данные были поделены на выборки в каждом из получившихся датасетов"
   ]
  },
  {
   "cell_type": "markdown",
   "metadata": {},
   "source": [
    "## Обучение моделей"
   ]
  },
  {
   "cell_type": "markdown",
   "metadata": {},
   "source": [
    "### Дерево решений"
   ]
  },
  {
   "cell_type": "markdown",
   "metadata": {},
   "source": [
    "Реализуем функцию для поиска параметров дерева решений. Будем перебирать глубину дерева от 1 до 14"
   ]
  },
  {
   "cell_type": "code",
   "execution_count": 78,
   "metadata": {},
   "outputs": [],
   "source": [
    "def decision_tree(features_train, features_valid, target_train, target_valid):\n",
    "    best_tree_model = None # переменная для наилучшей модели\n",
    "    best_tree_result = 10000000 # rmse наилучшей модели\n",
    "    for depth in range(1, 15):\n",
    "        model_tree = DecisionTreeRegressor(random_state=42, max_depth=depth) \n",
    "        model_tree.fit(features_train, target_train) # обучение модели на тренировочной выборке\n",
    "        predicted_valid = model_tree.predict(features_valid) \n",
    "        \n",
    "        result_tree = (mean_squared_error(target_valid, predicted_valid)) ** 0.5\n",
    "        # условие проверки лучшего результата\n",
    "        if result_tree < best_tree_result:\n",
    "            best_tree_model = model_tree \n",
    "            best_tree_result = result_tree \n",
    "    print()\n",
    "    print(\"rmse наилучшей модели на валидационной выборке:\", best_tree_result)\n",
    "    print(best_tree_model)"
   ]
  },
  {
   "cell_type": "markdown",
   "metadata": {},
   "source": [
    "Проверим эту функцию для наших датасетов, подходящих для дерева"
   ]
  },
  {
   "cell_type": "code",
   "execution_count": 79,
   "metadata": {},
   "outputs": [
    {
     "name": "stdout",
     "output_type": "stream",
     "text": [
      "\n",
      "rmse наилучшей модели на валидационной выборке: 2095.2047367002137\n",
      "DecisionTreeRegressor(max_depth=11, random_state=42)\n",
      "CPU times: total: 4.94 s\n",
      "Wall time: 5.08 s\n"
     ]
    }
   ],
   "source": [
    "%%time\n",
    "decision_tree(features_train_without_nan_ohe, features_valid_without_nan_ohe, \\\n",
    "target_train_without_nan_ohe, target_valid_without_nan_ohe)"
   ]
  },
  {
   "cell_type": "code",
   "execution_count": 80,
   "metadata": {},
   "outputs": [
    {
     "name": "stdout",
     "output_type": "stream",
     "text": [
      "\n",
      "rmse наилучшей модели на валидационной выборке: 1925.2225013175057\n",
      "DecisionTreeRegressor(max_depth=13, random_state=42)\n",
      "CPU times: total: 4 s\n",
      "Wall time: 4.25 s\n"
     ]
    }
   ],
   "source": [
    "%%time\n",
    "decision_tree(features_train_without_nan_no_anomaly_ohe, features_valid_without_nan_no_anomaly_ohe, \\\n",
    "target_train_without_nan_no_anomaly_ohe, target_valid_without_nan_no_anomaly_ohe)"
   ]
  },
  {
   "cell_type": "markdown",
   "metadata": {},
   "source": [
    "Наилучший результат (rmse = 1925) показывает дерево с 13 деревьями для закодированного датасета без пропусков и аномалий. "
   ]
  },
  {
   "cell_type": "markdown",
   "metadata": {},
   "source": [
    "### LightGBM "
   ]
  },
  {
   "cell_type": "markdown",
   "metadata": {},
   "source": [
    "Зафиксируем RANDOM_STATE"
   ]
  },
  {
   "cell_type": "code",
   "execution_count": 81,
   "metadata": {},
   "outputs": [],
   "source": [
    "RANDOM_STATE = 42"
   ]
  },
  {
   "cell_type": "markdown",
   "metadata": {},
   "source": [
    "Реализуем функцию для проверки параметров для модели lightGBM. Посмотрим, как в зависимости от изменения параметров будет меняться качетсво модели"
   ]
  },
  {
   "cell_type": "code",
   "execution_count": 82,
   "metadata": {},
   "outputs": [],
   "source": [
    "def lightgbm_model(params, features_train, features_valid, target_train, target_valid):\n",
    "    lgbm_model = LGBMRegressor(**params)\n",
    "    lgbm_model.fit(features_train, target_train)\n",
    "    predictions_lgbm = lgbm_model.predict(features_valid)\n",
    "    return mean_squared_error(target_valid, predictions_lgbm) ** 0.5\n"
   ]
  },
  {
   "cell_type": "markdown",
   "metadata": {},
   "source": [
    "Для начала попробуем поизменять learning_rate, а потом verbose"
   ]
  },
  {
   "cell_type": "code",
   "execution_count": 83,
   "metadata": {},
   "outputs": [],
   "source": [
    "params4 = {\n",
    "    'boosting_type': 'gbdt',\n",
    "    'objective': 'regression',\n",
    "    'metric': 'rmse',\n",
    "    'max_depth': 6, \n",
    "    'learning_rate': 0.4,\n",
    "    'verbose': 0\n",
    "}\n"
   ]
  },
  {
   "cell_type": "code",
   "execution_count": 84,
   "metadata": {},
   "outputs": [],
   "source": [
    "params6 = {\n",
    "    'boosting_type': 'gbdt',\n",
    "    'objective': 'regression',\n",
    "    'metric': 'rmse',\n",
    "    'max_depth': 6, \n",
    "    'learning_rate': 0.5,\n",
    "    'verbose': 0\n",
    "}\n"
   ]
  },
  {
   "cell_type": "code",
   "execution_count": 85,
   "metadata": {},
   "outputs": [],
   "source": [
    "params7 = {\n",
    "    'boosting_type': 'gbdt',\n",
    "    'objective': 'regression',\n",
    "    'metric': 'rmse',\n",
    "    'max_depth': 6, \n",
    "    'learning_rate': 0.6,\n",
    "    'verbose': 0\n",
    "}\n"
   ]
  },
  {
   "cell_type": "code",
   "execution_count": 86,
   "metadata": {},
   "outputs": [],
   "source": [
    "params8 = {\n",
    "    'boosting_type': 'gbdt',\n",
    "    'objective': 'regression',\n",
    "    'metric': 'rmse',\n",
    "    'max_depth': 6, \n",
    "    'learning_rate': 0.5,\n",
    "    'verbose': 100\n",
    "}\n"
   ]
  },
  {
   "cell_type": "markdown",
   "metadata": {},
   "source": [
    "Начнём проверку"
   ]
  },
  {
   "cell_type": "code",
   "execution_count": 87,
   "metadata": {
    "scrolled": true
   },
   "outputs": [
    {
     "name": "stdout",
     "output_type": "stream",
     "text": [
      "[LightGBM] [Warning] Accuracy may be bad since you didn't explicitly set num_leaves OR 2^max_depth > num_leaves. (num_leaves=31).\n",
      "[LightGBM] [Warning] Accuracy may be bad since you didn't explicitly set num_leaves OR 2^max_depth > num_leaves. (num_leaves=31).\n",
      "[LightGBM] [Warning] Auto-choosing row-wise multi-threading, the overhead of testing was 0.006623 seconds.\n",
      "You can set `force_row_wise=true` to remove the overhead.\n",
      "And if memory is not enough, you can set `force_col_wise=true`.\n",
      "[LightGBM] [Warning] No further splits with positive gain, best gain: -inf\n",
      "[LightGBM] [Warning] No further splits with positive gain, best gain: -inf\n",
      "[LightGBM] [Warning] No further splits with positive gain, best gain: -inf\n",
      "[LightGBM] [Warning] No further splits with positive gain, best gain: -inf\n",
      "[LightGBM] [Warning] No further splits with positive gain, best gain: -inf\n",
      "[LightGBM] [Warning] No further splits with positive gain, best gain: -inf\n",
      "[LightGBM] [Warning] No further splits with positive gain, best gain: -inf\n",
      "[LightGBM] [Warning] No further splits with positive gain, best gain: -inf\n",
      "[LightGBM] [Warning] No further splits with positive gain, best gain: -inf\n",
      "CPU times: total: 2.92 s\n",
      "Wall time: 894 ms\n"
     ]
    },
    {
     "data": {
      "text/plain": [
       "1794.4841455411217"
      ]
     },
     "execution_count": 87,
     "metadata": {},
     "output_type": "execute_result"
    }
   ],
   "source": [
    "%%time\n",
    "lightgbm_model(params4, features_train_ohe, features_valid_ohe, target_train_ohe, target_valid_ohe)"
   ]
  },
  {
   "cell_type": "code",
   "execution_count": 88,
   "metadata": {
    "scrolled": true
   },
   "outputs": [
    {
     "name": "stdout",
     "output_type": "stream",
     "text": [
      "[LightGBM] [Warning] Accuracy may be bad since you didn't explicitly set num_leaves OR 2^max_depth > num_leaves. (num_leaves=31).\n",
      "[LightGBM] [Warning] Accuracy may be bad since you didn't explicitly set num_leaves OR 2^max_depth > num_leaves. (num_leaves=31).\n",
      "[LightGBM] [Warning] Auto-choosing row-wise multi-threading, the overhead of testing was 0.006131 seconds.\n",
      "You can set `force_row_wise=true` to remove the overhead.\n",
      "And if memory is not enough, you can set `force_col_wise=true`.\n",
      "[LightGBM] [Warning] No further splits with positive gain, best gain: -inf\n",
      "[LightGBM] [Warning] No further splits with positive gain, best gain: -inf\n",
      "[LightGBM] [Warning] No further splits with positive gain, best gain: -inf\n",
      "[LightGBM] [Warning] No further splits with positive gain, best gain: -inf\n",
      "[LightGBM] [Warning] No further splits with positive gain, best gain: -inf\n",
      "[LightGBM] [Warning] No further splits with positive gain, best gain: -inf\n",
      "CPU times: total: 2.78 s\n",
      "Wall time: 826 ms\n"
     ]
    },
    {
     "data": {
      "text/plain": [
       "1791.9505544380818"
      ]
     },
     "execution_count": 88,
     "metadata": {},
     "output_type": "execute_result"
    }
   ],
   "source": [
    "%%time\n",
    "lightgbm_model(params6, features_train_ohe, features_valid_ohe, target_train_ohe, target_valid_ohe)"
   ]
  },
  {
   "cell_type": "code",
   "execution_count": 89,
   "metadata": {},
   "outputs": [
    {
     "name": "stdout",
     "output_type": "stream",
     "text": [
      "[LightGBM] [Warning] Accuracy may be bad since you didn't explicitly set num_leaves OR 2^max_depth > num_leaves. (num_leaves=31).\n",
      "[LightGBM] [Warning] Accuracy may be bad since you didn't explicitly set num_leaves OR 2^max_depth > num_leaves. (num_leaves=31).\n",
      "[LightGBM] [Warning] Auto-choosing row-wise multi-threading, the overhead of testing was 0.005711 seconds.\n",
      "You can set `force_row_wise=true` to remove the overhead.\n",
      "And if memory is not enough, you can set `force_col_wise=true`.\n",
      "[LightGBM] [Warning] No further splits with positive gain, best gain: -inf\n",
      "[LightGBM] [Warning] No further splits with positive gain, best gain: -inf\n",
      "[LightGBM] [Warning] No further splits with positive gain, best gain: -inf\n",
      "[LightGBM] [Warning] No further splits with positive gain, best gain: -inf\n",
      "[LightGBM] [Warning] No further splits with positive gain, best gain: -inf\n",
      "[LightGBM] [Warning] No further splits with positive gain, best gain: -inf\n",
      "[LightGBM] [Warning] No further splits with positive gain, best gain: -inf\n",
      "[LightGBM] [Warning] No further splits with positive gain, best gain: -inf\n",
      "[LightGBM] [Warning] No further splits with positive gain, best gain: -inf\n",
      "[LightGBM] [Warning] No further splits with positive gain, best gain: -inf\n",
      "[LightGBM] [Warning] No further splits with positive gain, best gain: -inf\n",
      "[LightGBM] [Warning] No further splits with positive gain, best gain: -inf\n",
      "[LightGBM] [Warning] No further splits with positive gain, best gain: -inf\n",
      "CPU times: total: 2.67 s\n",
      "Wall time: 831 ms\n"
     ]
    },
    {
     "data": {
      "text/plain": [
       "1797.1263663612312"
      ]
     },
     "execution_count": 89,
     "metadata": {},
     "output_type": "execute_result"
    }
   ],
   "source": [
    "%%time\n",
    "lightgbm_model(params7, features_train_ohe, features_valid_ohe, target_train_ohe, target_valid_ohe)"
   ]
  },
  {
   "cell_type": "markdown",
   "metadata": {},
   "source": [
    "Видим, что при 'learning_rate' = 0.5 качество лучше, чем при двух соседних, значит, в этой точке находится локальный минимум"
   ]
  },
  {
   "cell_type": "markdown",
   "metadata": {},
   "source": [
    "Проверим, как меняется качество при увеличении verbose"
   ]
  },
  {
   "cell_type": "code",
   "execution_count": 90,
   "metadata": {},
   "outputs": [
    {
     "name": "stdout",
     "output_type": "stream",
     "text": [
      "[LightGBM] [Warning] Accuracy may be bad since you didn't explicitly set num_leaves OR 2^max_depth > num_leaves. (num_leaves=31).\n",
      "[LightGBM] [Warning] Accuracy may be bad since you didn't explicitly set num_leaves OR 2^max_depth > num_leaves. (num_leaves=31).\n",
      "[LightGBM] [Debug] Dataset::GetMultiBinFromSparseFeatures: sparse rate 0.726553\n",
      "[LightGBM] [Debug] Dataset::GetMultiBinFromAllFeatures: sparse rate 0.176444\n",
      "[LightGBM] [Debug] init for col-wise cost 0.003266 seconds, init for row-wise cost 0.006436 seconds\n",
      "[LightGBM] [Warning] Auto-choosing row-wise multi-threading, the overhead of testing was 0.006133 seconds.\n",
      "You can set `force_row_wise=true` to remove the overhead.\n",
      "And if memory is not enough, you can set `force_col_wise=true`.\n",
      "[LightGBM] [Debug] Using Dense Multi-Val Bin\n",
      "[LightGBM] [Info] Total Bins 695\n",
      "[LightGBM] [Info] Number of data points in the train set: 196095, number of used features: 10\n",
      "[LightGBM] [Info] Start training from score 4410.290660\n",
      "[LightGBM] [Debug] Trained a tree with leaves = 31 and depth = 6\n",
      "[LightGBM] [Debug] Trained a tree with leaves = 31 and depth = 6\n",
      "[LightGBM] [Debug] Trained a tree with leaves = 31 and depth = 6\n",
      "[LightGBM] [Debug] Trained a tree with leaves = 31 and depth = 6\n",
      "[LightGBM] [Debug] Trained a tree with leaves = 31 and depth = 6\n",
      "[LightGBM] [Debug] Trained a tree with leaves = 31 and depth = 6\n",
      "[LightGBM] [Debug] Trained a tree with leaves = 31 and depth = 6\n",
      "[LightGBM] [Debug] Trained a tree with leaves = 31 and depth = 6\n",
      "[LightGBM] [Debug] Trained a tree with leaves = 31 and depth = 6\n",
      "[LightGBM] [Debug] Trained a tree with leaves = 31 and depth = 6\n",
      "[LightGBM] [Debug] Trained a tree with leaves = 31 and depth = 6\n",
      "[LightGBM] [Debug] Trained a tree with leaves = 31 and depth = 6\n",
      "[LightGBM] [Debug] Trained a tree with leaves = 31 and depth = 6\n",
      "[LightGBM] [Debug] Trained a tree with leaves = 31 and depth = 6\n",
      "[LightGBM] [Debug] Trained a tree with leaves = 31 and depth = 6\n",
      "[LightGBM] [Debug] Trained a tree with leaves = 31 and depth = 6\n",
      "[LightGBM] [Debug] Trained a tree with leaves = 31 and depth = 6\n",
      "[LightGBM] [Debug] Trained a tree with leaves = 31 and depth = 6\n",
      "[LightGBM] [Debug] Trained a tree with leaves = 31 and depth = 6\n",
      "[LightGBM] [Debug] Trained a tree with leaves = 31 and depth = 6\n",
      "[LightGBM] [Debug] Trained a tree with leaves = 31 and depth = 6\n",
      "[LightGBM] [Debug] Trained a tree with leaves = 31 and depth = 6\n",
      "[LightGBM] [Debug] Trained a tree with leaves = 31 and depth = 6\n",
      "[LightGBM] [Debug] Trained a tree with leaves = 31 and depth = 6\n",
      "[LightGBM] [Debug] Trained a tree with leaves = 31 and depth = 6\n",
      "[LightGBM] [Debug] Trained a tree with leaves = 31 and depth = 6\n",
      "[LightGBM] [Debug] Trained a tree with leaves = 31 and depth = 6\n",
      "[LightGBM] [Debug] Trained a tree with leaves = 31 and depth = 6\n",
      "[LightGBM] [Debug] Trained a tree with leaves = 31 and depth = 6\n",
      "[LightGBM] [Debug] Trained a tree with leaves = 31 and depth = 6\n",
      "[LightGBM] [Warning] No further splits with positive gain, best gain: -inf\n",
      "[LightGBM] [Debug] Trained a tree with leaves = 30 and depth = 6\n",
      "[LightGBM] [Debug] Trained a tree with leaves = 31 and depth = 6\n",
      "[LightGBM] [Debug] Trained a tree with leaves = 31 and depth = 6\n",
      "[LightGBM] [Warning] No further splits with positive gain, best gain: -inf\n",
      "[LightGBM] [Debug] Trained a tree with leaves = 25 and depth = 6\n",
      "[LightGBM] [Debug] Trained a tree with leaves = 31 and depth = 6\n",
      "[LightGBM] [Debug] Trained a tree with leaves = 31 and depth = 6\n",
      "[LightGBM] [Debug] Trained a tree with leaves = 31 and depth = 6\n",
      "[LightGBM] [Debug] Trained a tree with leaves = 31 and depth = 6\n",
      "[LightGBM] [Debug] Trained a tree with leaves = 31 and depth = 6\n",
      "[LightGBM] [Debug] Trained a tree with leaves = 31 and depth = 6\n",
      "[LightGBM] [Debug] Trained a tree with leaves = 31 and depth = 6\n",
      "[LightGBM] [Debug] Trained a tree with leaves = 31 and depth = 6\n",
      "[LightGBM] [Debug] Trained a tree with leaves = 31 and depth = 6\n",
      "[LightGBM] [Debug] Trained a tree with leaves = 31 and depth = 6\n",
      "[LightGBM] [Debug] Trained a tree with leaves = 31 and depth = 6\n",
      "[LightGBM] [Debug] Trained a tree with leaves = 31 and depth = 6\n",
      "[LightGBM] [Warning] No further splits with positive gain, best gain: -inf\n",
      "[LightGBM] [Debug] Trained a tree with leaves = 24 and depth = 6\n",
      "[LightGBM] [Debug] Trained a tree with leaves = 31 and depth = 6\n",
      "[LightGBM] [Debug] Trained a tree with leaves = 31 and depth = 6\n",
      "[LightGBM] [Debug] Trained a tree with leaves = 31 and depth = 6\n",
      "[LightGBM] [Warning] No further splits with positive gain, best gain: -inf\n",
      "[LightGBM] [Debug] Trained a tree with leaves = 20 and depth = 6\n",
      "[LightGBM] [Debug] Trained a tree with leaves = 31 and depth = 6\n",
      "[LightGBM] [Debug] Trained a tree with leaves = 31 and depth = 6\n",
      "[LightGBM] [Debug] Trained a tree with leaves = 31 and depth = 6\n",
      "[LightGBM] [Debug] Trained a tree with leaves = 31 and depth = 6\n",
      "[LightGBM] [Debug] Trained a tree with leaves = 31 and depth = 6\n",
      "[LightGBM] [Debug] Trained a tree with leaves = 31 and depth = 6\n",
      "[LightGBM] [Debug] Trained a tree with leaves = 31 and depth = 6\n",
      "[LightGBM] [Debug] Trained a tree with leaves = 31 and depth = 6\n",
      "[LightGBM] [Warning] No further splits with positive gain, best gain: -inf\n",
      "[LightGBM] [Debug] Trained a tree with leaves = 19 and depth = 6\n",
      "[LightGBM] [Debug] Trained a tree with leaves = 31 and depth = 6\n",
      "[LightGBM] [Debug] Trained a tree with leaves = 31 and depth = 6\n",
      "[LightGBM] [Debug] Trained a tree with leaves = 31 and depth = 6\n",
      "[LightGBM] [Debug] Trained a tree with leaves = 31 and depth = 6\n",
      "[LightGBM] [Debug] Trained a tree with leaves = 31 and depth = 6\n",
      "[LightGBM] [Debug] Trained a tree with leaves = 31 and depth = 6\n",
      "[LightGBM] [Debug] Trained a tree with leaves = 31 and depth = 6\n",
      "[LightGBM] [Debug] Trained a tree with leaves = 31 and depth = 6\n",
      "[LightGBM] [Debug] Trained a tree with leaves = 31 and depth = 6\n",
      "[LightGBM] [Debug] Trained a tree with leaves = 31 and depth = 6\n",
      "[LightGBM] [Debug] Trained a tree with leaves = 31 and depth = 6\n",
      "[LightGBM] [Debug] Trained a tree with leaves = 31 and depth = 6\n",
      "[LightGBM] [Debug] Trained a tree with leaves = 31 and depth = 6\n",
      "[LightGBM] [Debug] Trained a tree with leaves = 31 and depth = 6\n",
      "[LightGBM] [Debug] Trained a tree with leaves = 31 and depth = 6\n",
      "[LightGBM] [Debug] Trained a tree with leaves = 31 and depth = 6\n",
      "[LightGBM] [Debug] Trained a tree with leaves = 31 and depth = 6\n",
      "[LightGBM] [Debug] Trained a tree with leaves = 31 and depth = 6\n",
      "[LightGBM] [Debug] Trained a tree with leaves = 31 and depth = 6\n",
      "[LightGBM] [Debug] Trained a tree with leaves = 31 and depth = 6\n",
      "[LightGBM] [Debug] Trained a tree with leaves = 31 and depth = 6\n",
      "[LightGBM] [Debug] Trained a tree with leaves = 31 and depth = 6\n",
      "[LightGBM] [Debug] Trained a tree with leaves = 31 and depth = 6\n",
      "[LightGBM] [Debug] Trained a tree with leaves = 31 and depth = 6\n",
      "[LightGBM] [Debug] Trained a tree with leaves = 31 and depth = 6\n",
      "[LightGBM] [Debug] Trained a tree with leaves = 31 and depth = 6\n",
      "[LightGBM] [Debug] Trained a tree with leaves = 31 and depth = 6\n",
      "[LightGBM] [Debug] Trained a tree with leaves = 31 and depth = 6\n",
      "[LightGBM] [Debug] Trained a tree with leaves = 31 and depth = 6\n",
      "[LightGBM] [Debug] Trained a tree with leaves = 31 and depth = 6\n",
      "[LightGBM] [Debug] Trained a tree with leaves = 31 and depth = 6\n",
      "[LightGBM] [Debug] Trained a tree with leaves = 31 and depth = 6\n",
      "[LightGBM] [Debug] Trained a tree with leaves = 31 and depth = 6\n",
      "[LightGBM] [Debug] Trained a tree with leaves = 31 and depth = 6\n",
      "[LightGBM] [Debug] Trained a tree with leaves = 31 and depth = 6\n",
      "[LightGBM] [Debug] Trained a tree with leaves = 31 and depth = 6\n",
      "[LightGBM] [Debug] Trained a tree with leaves = 31 and depth = 6\n",
      "[LightGBM] [Debug] Trained a tree with leaves = 31 and depth = 6\n",
      "[LightGBM] [Debug] Trained a tree with leaves = 31 and depth = 6\n",
      "[LightGBM] [Warning] No further splits with positive gain, best gain: -inf\n",
      "[LightGBM] [Debug] Trained a tree with leaves = 30 and depth = 6\n",
      "CPU times: total: 2.95 s\n",
      "Wall time: 912 ms\n"
     ]
    },
    {
     "data": {
      "text/plain": [
       "1791.9505544380818"
      ]
     },
     "execution_count": 90,
     "metadata": {},
     "output_type": "execute_result"
    }
   ],
   "source": [
    "%%time\n",
    "lightgbm_model(params8, features_train_ohe, features_valid_ohe, target_train_ohe, target_valid_ohe)"
   ]
  },
  {
   "cell_type": "markdown",
   "metadata": {},
   "source": [
    "Видим, что качество не поменялось. Оставим параметры 'learning_rate' = 0.5, 'verbose' = 0. И проверим на разных, подходящих для LightGBM датасетах"
   ]
  },
  {
   "cell_type": "code",
   "execution_count": 91,
   "metadata": {
    "scrolled": true
   },
   "outputs": [
    {
     "name": "stdout",
     "output_type": "stream",
     "text": [
      "[LightGBM] [Warning] Accuracy may be bad since you didn't explicitly set num_leaves OR 2^max_depth > num_leaves. (num_leaves=31).\n",
      "[LightGBM] [Warning] Accuracy may be bad since you didn't explicitly set num_leaves OR 2^max_depth > num_leaves. (num_leaves=31).\n",
      "[LightGBM] [Warning] Auto-choosing row-wise multi-threading, the overhead of testing was 0.004703 seconds.\n",
      "You can set `force_row_wise=true` to remove the overhead.\n",
      "And if memory is not enough, you can set `force_col_wise=true`.\n",
      "[LightGBM] [Warning] No further splits with positive gain, best gain: -inf\n",
      "[LightGBM] [Warning] No further splits with positive gain, best gain: -inf\n",
      "[LightGBM] [Warning] No further splits with positive gain, best gain: -inf\n",
      "[LightGBM] [Warning] No further splits with positive gain, best gain: -inf\n",
      "[LightGBM] [Warning] No further splits with positive gain, best gain: -inf\n",
      "[LightGBM] [Warning] No further splits with positive gain, best gain: -inf\n",
      "CPU times: total: 2.41 s\n",
      "Wall time: 753 ms\n"
     ]
    },
    {
     "data": {
      "text/plain": [
       "1650.3717894709705"
      ]
     },
     "execution_count": 91,
     "metadata": {},
     "output_type": "execute_result"
    }
   ],
   "source": [
    "%%time\n",
    "lightgbm_model(params6, features_train_no_anomaly_ohe, features_valid_no_anomaly_ohe, \\\n",
    "               target_train_no_anomaly_ohe, target_valid_no_anomaly_ohe)"
   ]
  },
  {
   "cell_type": "code",
   "execution_count": 92,
   "metadata": {
    "scrolled": true
   },
   "outputs": [
    {
     "name": "stdout",
     "output_type": "stream",
     "text": [
      "[LightGBM] [Warning] Accuracy may be bad since you didn't explicitly set num_leaves OR 2^max_depth > num_leaves. (num_leaves=31).\n",
      "[LightGBM] [Warning] Accuracy may be bad since you didn't explicitly set num_leaves OR 2^max_depth > num_leaves. (num_leaves=31).\n",
      "[LightGBM] [Warning] Auto-choosing col-wise multi-threading, the overhead of testing was 0.009363 seconds.\n",
      "You can set `force_col_wise=true` to remove the overhead.\n",
      "[LightGBM] [Warning] No further splits with positive gain, best gain: -inf\n",
      "[LightGBM] [Warning] No further splits with positive gain, best gain: -inf\n",
      "[LightGBM] [Warning] No further splits with positive gain, best gain: -inf\n",
      "[LightGBM] [Warning] No further splits with positive gain, best gain: -inf\n",
      "[LightGBM] [Warning] No further splits with positive gain, best gain: -inf\n",
      "[LightGBM] [Warning] No further splits with positive gain, best gain: -inf\n",
      "[LightGBM] [Warning] No further splits with positive gain, best gain: -inf\n",
      "CPU times: total: 2.41 s\n",
      "Wall time: 760 ms\n"
     ]
    },
    {
     "data": {
      "text/plain": [
       "1652.6982153911792"
      ]
     },
     "execution_count": 92,
     "metadata": {},
     "output_type": "execute_result"
    }
   ],
   "source": [
    "%%time\n",
    "lightgbm_model(params6, features_train_without_nan_no_anomaly_ohe, features_valid_without_nan_no_anomaly_ohe, \\\n",
    "               target_train_without_nan_no_anomaly_ohe, target_valid_without_nan_no_anomaly_ohe)"
   ]
  },
  {
   "cell_type": "markdown",
   "metadata": {},
   "source": [
    "Итак, LightGBM наилучший результат (rmse = 1650) показывает модель с параметрами  'learning_rate' = 0.5, 'verbose' = 0 на закодированным датасете без аномалий"
   ]
  },
  {
   "cell_type": "markdown",
   "metadata": {},
   "source": [
    "### Catboost"
   ]
  },
  {
   "cell_type": "markdown",
   "metadata": {},
   "source": [
    "Категориальные признаки представлены ниже:"
   ]
  },
  {
   "cell_type": "code",
   "execution_count": 93,
   "metadata": {},
   "outputs": [
    {
     "data": {
      "text/plain": [
       "['vehicle_type', 'gearbox', 'model', 'fuel_type', 'brand', 'not_repaired']"
      ]
     },
     "execution_count": 93,
     "metadata": {},
     "output_type": "execute_result"
    }
   ],
   "source": [
    "cat_features"
   ]
  },
  {
   "cell_type": "markdown",
   "metadata": {},
   "source": [
    "Проверим модель Catboost. Подберём параметр iterations"
   ]
  },
  {
   "cell_type": "code",
   "execution_count": 94,
   "metadata": {
    "scrolled": true
   },
   "outputs": [
    {
     "name": "stdout",
     "output_type": "stream",
     "text": [
      "Learning rate set to 0.473644\n",
      "0:\tlearn: 3201.6501807\ttotal: 270ms\tremaining: 32.2s\n",
      "10:\tlearn: 1860.2673654\ttotal: 1.04s\tremaining: 10.3s\n",
      "20:\tlearn: 1755.7270080\ttotal: 1.78s\tremaining: 8.39s\n",
      "30:\tlearn: 1692.8389566\ttotal: 2.52s\tremaining: 7.25s\n",
      "40:\tlearn: 1648.6445955\ttotal: 3.25s\tremaining: 6.25s\n",
      "50:\tlearn: 1609.6252428\ttotal: 3.97s\tremaining: 5.38s\n",
      "60:\tlearn: 1575.1110042\ttotal: 4.68s\tremaining: 4.53s\n",
      "70:\tlearn: 1551.2299119\ttotal: 5.4s\tremaining: 3.73s\n",
      "80:\tlearn: 1527.9123043\ttotal: 6.17s\tremaining: 2.97s\n",
      "90:\tlearn: 1502.6906693\ttotal: 6.88s\tremaining: 2.19s\n",
      "100:\tlearn: 1480.0405622\ttotal: 7.61s\tremaining: 1.43s\n",
      "110:\tlearn: 1462.9824529\ttotal: 8.33s\tremaining: 675ms\n",
      "119:\tlearn: 1441.9922493\ttotal: 8.98s\tremaining: 0us\n",
      "Learning rate set to 0.473645\n",
      "0:\tlearn: 3228.6156111\ttotal: 80.9ms\tremaining: 9.63s\n",
      "10:\tlearn: 1903.2043098\ttotal: 824ms\tremaining: 8.17s\n",
      "20:\tlearn: 1795.4899803\ttotal: 1.56s\tremaining: 7.34s\n",
      "30:\tlearn: 1735.7496580\ttotal: 2.28s\tremaining: 6.56s\n",
      "40:\tlearn: 1683.0485977\ttotal: 3s\tremaining: 5.79s\n",
      "50:\tlearn: 1646.8000556\ttotal: 3.73s\tremaining: 5.04s\n",
      "60:\tlearn: 1606.0333471\ttotal: 4.46s\tremaining: 4.32s\n",
      "70:\tlearn: 1580.6346378\ttotal: 5.15s\tremaining: 3.56s\n",
      "80:\tlearn: 1546.3389135\ttotal: 5.87s\tremaining: 2.83s\n",
      "90:\tlearn: 1516.5809675\ttotal: 6.61s\tremaining: 2.11s\n",
      "100:\tlearn: 1489.5466577\ttotal: 7.35s\tremaining: 1.38s\n",
      "110:\tlearn: 1471.3846477\ttotal: 8.08s\tremaining: 655ms\n",
      "119:\tlearn: 1453.5347601\ttotal: 8.85s\tremaining: 0us\n",
      "Score при iterations = 120 : [0.83453719 0.83767661]\n",
      "Score mean = 0.8361069007743003\n",
      "\n",
      "Learning rate set to 0.406101\n",
      "0:\tlearn: 3364.3357037\ttotal: 76.6ms\tremaining: 11s\n",
      "10:\tlearn: 1887.0805078\ttotal: 811ms\tremaining: 9.88s\n",
      "20:\tlearn: 1793.0524704\ttotal: 1.52s\tremaining: 8.99s\n",
      "30:\tlearn: 1708.7899271\ttotal: 2.29s\tremaining: 8.42s\n",
      "40:\tlearn: 1660.6851434\ttotal: 3.01s\tremaining: 7.63s\n",
      "50:\tlearn: 1621.3987034\ttotal: 3.74s\tremaining: 6.9s\n",
      "60:\tlearn: 1586.0124279\ttotal: 4.46s\tremaining: 6.15s\n",
      "70:\tlearn: 1558.7799352\ttotal: 5.17s\tremaining: 5.39s\n",
      "80:\tlearn: 1532.5736726\ttotal: 5.88s\tremaining: 4.64s\n",
      "90:\tlearn: 1514.7045506\ttotal: 6.55s\tremaining: 3.89s\n",
      "100:\tlearn: 1500.5680238\ttotal: 7.24s\tremaining: 3.15s\n",
      "110:\tlearn: 1478.9387881\ttotal: 7.93s\tremaining: 2.43s\n",
      "120:\tlearn: 1462.3882041\ttotal: 8.64s\tremaining: 1.71s\n",
      "130:\tlearn: 1447.0344759\ttotal: 9.33s\tremaining: 997ms\n",
      "140:\tlearn: 1430.4902254\ttotal: 10.1s\tremaining: 285ms\n",
      "144:\tlearn: 1421.2499281\ttotal: 10.3s\tremaining: 0us\n",
      "Learning rate set to 0.406102\n",
      "0:\tlearn: 3387.6441340\ttotal: 78.4ms\tremaining: 11.3s\n",
      "10:\tlearn: 1906.5632871\ttotal: 807ms\tremaining: 9.83s\n",
      "20:\tlearn: 1805.9494838\ttotal: 1.5s\tremaining: 8.87s\n",
      "30:\tlearn: 1744.7357346\ttotal: 2.19s\tremaining: 8.06s\n",
      "40:\tlearn: 1699.7704353\ttotal: 2.88s\tremaining: 7.31s\n",
      "50:\tlearn: 1659.6380031\ttotal: 3.57s\tremaining: 6.58s\n",
      "60:\tlearn: 1631.9417998\ttotal: 4.27s\tremaining: 5.88s\n",
      "70:\tlearn: 1598.7530244\ttotal: 4.97s\tremaining: 5.18s\n",
      "80:\tlearn: 1566.6120427\ttotal: 5.67s\tremaining: 4.48s\n",
      "90:\tlearn: 1545.8908484\ttotal: 6.36s\tremaining: 3.78s\n",
      "100:\tlearn: 1526.9757102\ttotal: 7.06s\tremaining: 3.08s\n",
      "110:\tlearn: 1507.7581862\ttotal: 7.77s\tremaining: 2.38s\n",
      "120:\tlearn: 1487.8852380\ttotal: 8.47s\tremaining: 1.68s\n",
      "130:\tlearn: 1465.0213554\ttotal: 9.19s\tremaining: 982ms\n",
      "140:\tlearn: 1450.5263141\ttotal: 9.89s\tremaining: 280ms\n",
      "144:\tlearn: 1441.5905055\ttotal: 10.2s\tremaining: 0us\n",
      "Score при iterations = 145 : [0.8354005  0.84008854]\n",
      "Score mean = 0.8377445196074907\n",
      "\n",
      "Learning rate set to 0.356838\n",
      "0:\tlearn: 3489.7780143\ttotal: 74.8ms\tremaining: 12.6s\n",
      "10:\tlearn: 1909.4850636\ttotal: 813ms\tremaining: 11.8s\n",
      "20:\tlearn: 1810.9925718\ttotal: 1.53s\tremaining: 10.9s\n",
      "30:\tlearn: 1738.0395782\ttotal: 2.24s\tremaining: 10.1s\n",
      "40:\tlearn: 1686.8301356\ttotal: 2.96s\tremaining: 9.31s\n",
      "50:\tlearn: 1639.2990312\ttotal: 3.67s\tremaining: 8.57s\n",
      "60:\tlearn: 1616.6601400\ttotal: 4.38s\tremaining: 7.82s\n",
      "70:\tlearn: 1590.5839006\ttotal: 5.09s\tremaining: 7.1s\n",
      "80:\tlearn: 1566.8665541\ttotal: 5.79s\tremaining: 6.36s\n",
      "90:\tlearn: 1541.8608576\ttotal: 6.5s\tremaining: 5.64s\n",
      "100:\tlearn: 1523.3320620\ttotal: 7.21s\tremaining: 4.93s\n",
      "110:\tlearn: 1502.8627670\ttotal: 7.93s\tremaining: 4.21s\n",
      "120:\tlearn: 1486.6860813\ttotal: 8.64s\tremaining: 3.5s\n",
      "130:\tlearn: 1469.1644742\ttotal: 9.37s\tremaining: 2.79s\n",
      "140:\tlearn: 1453.1774218\ttotal: 10.1s\tremaining: 2.07s\n",
      "150:\tlearn: 1438.4133947\ttotal: 10.9s\tremaining: 1.37s\n",
      "160:\tlearn: 1428.5515977\ttotal: 11.6s\tremaining: 647ms\n",
      "169:\tlearn: 1418.5192904\ttotal: 12.2s\tremaining: 0us\n",
      "Learning rate set to 0.356839\n",
      "0:\tlearn: 3510.3603456\ttotal: 79ms\tremaining: 13.3s\n",
      "10:\tlearn: 1916.3532457\ttotal: 817ms\tremaining: 11.8s\n",
      "20:\tlearn: 1821.6392442\ttotal: 1.53s\tremaining: 10.9s\n",
      "30:\tlearn: 1766.8731887\ttotal: 2.19s\tremaining: 9.84s\n",
      "40:\tlearn: 1704.6846692\ttotal: 2.92s\tremaining: 9.17s\n",
      "50:\tlearn: 1664.2464886\ttotal: 3.63s\tremaining: 8.46s\n",
      "60:\tlearn: 1632.1775841\ttotal: 4.34s\tremaining: 7.75s\n",
      "70:\tlearn: 1609.7912375\ttotal: 5.05s\tremaining: 7.04s\n",
      "80:\tlearn: 1586.4856455\ttotal: 5.75s\tremaining: 6.32s\n",
      "90:\tlearn: 1569.4034219\ttotal: 6.41s\tremaining: 5.56s\n",
      "100:\tlearn: 1547.8412412\ttotal: 7.13s\tremaining: 4.87s\n",
      "110:\tlearn: 1529.0440095\ttotal: 7.86s\tremaining: 4.18s\n",
      "120:\tlearn: 1509.9311647\ttotal: 8.57s\tremaining: 3.47s\n",
      "130:\tlearn: 1492.3010802\ttotal: 9.29s\tremaining: 2.76s\n",
      "140:\tlearn: 1475.4513940\ttotal: 10s\tremaining: 2.06s\n",
      "150:\tlearn: 1457.3832137\ttotal: 10.7s\tremaining: 1.35s\n",
      "160:\tlearn: 1440.2652322\ttotal: 11.4s\tremaining: 640ms\n",
      "169:\tlearn: 1428.3344097\ttotal: 12.1s\tremaining: 0us\n",
      "Score при iterations = 170 : [0.8376725  0.84019875]\n",
      "Score mean = 0.8389356248393072\n",
      "\n",
      "Learning rate set to 0.319174\n",
      "0:\tlearn: 3589.1259411\ttotal: 73ms\tremaining: 14.2s\n",
      "10:\tlearn: 1919.5555381\ttotal: 813ms\tremaining: 13.6s\n",
      "20:\tlearn: 1810.2927313\ttotal: 1.53s\tremaining: 12.7s\n",
      "30:\tlearn: 1744.2981483\ttotal: 2.25s\tremaining: 11.9s\n",
      "40:\tlearn: 1697.2796044\ttotal: 2.98s\tremaining: 11.2s\n",
      "50:\tlearn: 1659.9709377\ttotal: 3.69s\tremaining: 10.4s\n",
      "60:\tlearn: 1632.9730157\ttotal: 4.4s\tremaining: 9.67s\n",
      "70:\tlearn: 1604.8441040\ttotal: 5.12s\tremaining: 8.94s\n",
      "80:\tlearn: 1588.4521748\ttotal: 5.82s\tremaining: 8.19s\n",
      "90:\tlearn: 1571.5033344\ttotal: 6.53s\tremaining: 7.46s\n",
      "100:\tlearn: 1555.8476962\ttotal: 7.34s\tremaining: 6.83s\n",
      "110:\tlearn: 1536.0275841\ttotal: 8.12s\tremaining: 6.15s\n",
      "120:\tlearn: 1521.3326829\ttotal: 8.9s\tremaining: 5.44s\n",
      "130:\tlearn: 1504.6942656\ttotal: 9.62s\tremaining: 4.7s\n",
      "140:\tlearn: 1491.9391648\ttotal: 10.3s\tremaining: 3.96s\n",
      "150:\tlearn: 1477.6642039\ttotal: 11.1s\tremaining: 3.22s\n",
      "160:\tlearn: 1463.9954488\ttotal: 11.8s\tremaining: 2.49s\n",
      "170:\tlearn: 1445.7442924\ttotal: 12.5s\tremaining: 1.75s\n",
      "180:\tlearn: 1431.3597566\ttotal: 13.3s\tremaining: 1.03s\n",
      "190:\tlearn: 1419.9701785\ttotal: 14.1s\tremaining: 296ms\n",
      "194:\tlearn: 1415.5615175\ttotal: 14.5s\tremaining: 0us\n",
      "Learning rate set to 0.319175\n",
      "0:\tlearn: 3607.6053780\ttotal: 89.8ms\tremaining: 17.4s\n",
      "10:\tlearn: 1941.6937811\ttotal: 960ms\tremaining: 16.1s\n",
      "20:\tlearn: 1832.5361198\ttotal: 1.78s\tremaining: 14.7s\n",
      "30:\tlearn: 1768.2152788\ttotal: 2.6s\tremaining: 13.7s\n",
      "40:\tlearn: 1724.3310384\ttotal: 3.41s\tremaining: 12.8s\n",
      "50:\tlearn: 1683.8266476\ttotal: 4.22s\tremaining: 11.9s\n",
      "60:\tlearn: 1659.0818569\ttotal: 5.03s\tremaining: 11s\n",
      "70:\tlearn: 1630.0080883\ttotal: 5.84s\tremaining: 10.2s\n",
      "80:\tlearn: 1612.3492282\ttotal: 6.65s\tremaining: 9.37s\n",
      "90:\tlearn: 1583.5771178\ttotal: 7.46s\tremaining: 8.52s\n",
      "100:\tlearn: 1567.1165190\ttotal: 8.31s\tremaining: 7.73s\n",
      "110:\tlearn: 1550.1581832\ttotal: 9.13s\tremaining: 6.91s\n",
      "120:\tlearn: 1529.8844480\ttotal: 9.94s\tremaining: 6.08s\n",
      "130:\tlearn: 1513.6104998\ttotal: 10.7s\tremaining: 5.24s\n",
      "140:\tlearn: 1498.3143938\ttotal: 11.5s\tremaining: 4.41s\n",
      "150:\tlearn: 1481.0931352\ttotal: 12.3s\tremaining: 3.59s\n",
      "160:\tlearn: 1468.0926040\ttotal: 13.2s\tremaining: 2.79s\n",
      "170:\tlearn: 1455.4168365\ttotal: 14s\tremaining: 1.97s\n",
      "180:\tlearn: 1443.5800207\ttotal: 14.8s\tremaining: 1.15s\n",
      "190:\tlearn: 1431.8235347\ttotal: 15.7s\tremaining: 328ms\n",
      "194:\tlearn: 1427.5351415\ttotal: 16s\tremaining: 0us\n",
      "Score при iterations = 195 : [0.83819328 0.84199026]\n",
      "Score mean = 0.8400917674880708\n",
      "\n"
     ]
    }
   ],
   "source": [
    "for iteration in range(120, 201, 25):\n",
    "    cat_model = CatBoostRegressor(loss_function=\"RMSE\", iterations=iteration, depth=10, verbose=10, cat_features=cat_features)\n",
    "    cat_cv = cross_val_score(cat_model, features_train_without_nan, target_train_without_nan, cv=2)\n",
    "    print(\"Score при iterations =\", iteration, \":\", cat_cv)\n",
    "    print(\"Score mean =\", sum(cat_cv)/len(cat_cv))\n",
    "    print()"
   ]
  },
  {
   "cell_type": "markdown",
   "metadata": {},
   "source": [
    "Мы видим, что чем больше iterations в данном диапозоне, тем лучше качество"
   ]
  },
  {
   "cell_type": "markdown",
   "metadata": {},
   "source": [
    " Подберём параметр depth"
   ]
  },
  {
   "cell_type": "code",
   "execution_count": 95,
   "metadata": {
    "scrolled": true
   },
   "outputs": [
    {
     "name": "stdout",
     "output_type": "stream",
     "text": [
      "Learning rate set to 0.312672\n",
      "0:\tlearn: 3690.8801244\ttotal: 103ms\tremaining: 20.6s\n",
      "10:\tlearn: 2080.3454802\ttotal: 1.13s\tremaining: 19.3s\n",
      "20:\tlearn: 1969.1634105\ttotal: 1.96s\tremaining: 16.7s\n",
      "30:\tlearn: 1914.7815853\ttotal: 2.77s\tremaining: 15.1s\n",
      "40:\tlearn: 1878.0160167\ttotal: 3.58s\tremaining: 13.9s\n",
      "50:\tlearn: 1846.6713902\ttotal: 4.53s\tremaining: 13.2s\n",
      "60:\tlearn: 1829.9799854\ttotal: 5.41s\tremaining: 12.3s\n",
      "70:\tlearn: 1814.8939446\ttotal: 6.27s\tremaining: 11.4s\n",
      "80:\tlearn: 1801.6292815\ttotal: 7.07s\tremaining: 10.4s\n",
      "90:\tlearn: 1787.3588661\ttotal: 7.92s\tremaining: 9.49s\n",
      "100:\tlearn: 1775.2651099\ttotal: 8.83s\tremaining: 8.66s\n",
      "110:\tlearn: 1766.5826401\ttotal: 9.71s\tremaining: 7.79s\n",
      "120:\tlearn: 1759.2211879\ttotal: 10.8s\tremaining: 7.06s\n",
      "130:\tlearn: 1748.9375928\ttotal: 11.7s\tremaining: 6.17s\n",
      "140:\tlearn: 1741.0362053\ttotal: 12.7s\tremaining: 5.33s\n",
      "150:\tlearn: 1736.1564258\ttotal: 13.6s\tremaining: 4.42s\n",
      "160:\tlearn: 1729.9450716\ttotal: 14.5s\tremaining: 3.51s\n",
      "170:\tlearn: 1721.1925824\ttotal: 15.4s\tremaining: 2.61s\n",
      "180:\tlearn: 1713.7690558\ttotal: 16.3s\tremaining: 1.71s\n",
      "190:\tlearn: 1706.3428922\ttotal: 17.2s\tremaining: 810ms\n",
      "199:\tlearn: 1701.8939770\ttotal: 18s\tremaining: 0us\n",
      "Learning rate set to 0.312672\n",
      "0:\tlearn: 3685.2582422\ttotal: 97ms\tremaining: 19.3s\n",
      "10:\tlearn: 2097.2017123\ttotal: 968ms\tremaining: 16.6s\n",
      "20:\tlearn: 1986.8513977\ttotal: 1.94s\tremaining: 16.5s\n",
      "30:\tlearn: 1933.2757800\ttotal: 2.96s\tremaining: 16.2s\n",
      "40:\tlearn: 1894.1039384\ttotal: 4.1s\tremaining: 15.9s\n",
      "50:\tlearn: 1867.1455366\ttotal: 5.13s\tremaining: 15s\n",
      "60:\tlearn: 1843.7736237\ttotal: 6.18s\tremaining: 14.1s\n",
      "70:\tlearn: 1825.0682183\ttotal: 7.23s\tremaining: 13.1s\n",
      "80:\tlearn: 1813.8478259\ttotal: 8.24s\tremaining: 12.1s\n",
      "90:\tlearn: 1804.2208227\ttotal: 9.23s\tremaining: 11.1s\n",
      "100:\tlearn: 1791.3061285\ttotal: 10.2s\tremaining: 9.99s\n",
      "110:\tlearn: 1779.3002711\ttotal: 11.2s\tremaining: 8.96s\n",
      "120:\tlearn: 1767.6698609\ttotal: 12.2s\tremaining: 7.99s\n",
      "130:\tlearn: 1759.3286404\ttotal: 13.3s\tremaining: 6.99s\n",
      "140:\tlearn: 1747.9563040\ttotal: 14.3s\tremaining: 5.98s\n",
      "150:\tlearn: 1739.9737633\ttotal: 15.4s\tremaining: 4.99s\n",
      "160:\tlearn: 1732.3467554\ttotal: 16.4s\tremaining: 3.98s\n",
      "170:\tlearn: 1728.0163032\ttotal: 17.4s\tremaining: 2.96s\n",
      "180:\tlearn: 1722.8667509\ttotal: 18.6s\tremaining: 1.95s\n",
      "190:\tlearn: 1717.1060794\ttotal: 19.8s\tremaining: 934ms\n",
      "199:\tlearn: 1710.6603719\ttotal: 20.9s\tremaining: 0us\n",
      "Score при depth = 6 : [0.83670607 0.83983394]\n",
      "Score mean = 0.8382700038126729\n",
      "\n",
      "Learning rate set to 0.312672\n",
      "0:\tlearn: 3634.6989664\ttotal: 208ms\tremaining: 41.4s\n",
      "10:\tlearn: 1988.9626966\ttotal: 1.83s\tremaining: 31.5s\n",
      "20:\tlearn: 1884.7886478\ttotal: 3.26s\tremaining: 27.8s\n",
      "30:\tlearn: 1828.7471455\ttotal: 4.86s\tremaining: 26.5s\n",
      "40:\tlearn: 1796.2383335\ttotal: 6.44s\tremaining: 25s\n",
      "50:\tlearn: 1771.4054534\ttotal: 8.38s\tremaining: 24.5s\n",
      "60:\tlearn: 1745.8130028\ttotal: 10.7s\tremaining: 24.3s\n",
      "70:\tlearn: 1724.4358494\ttotal: 12.3s\tremaining: 22.3s\n",
      "80:\tlearn: 1704.4729342\ttotal: 13.9s\tremaining: 20.4s\n",
      "90:\tlearn: 1687.5793816\ttotal: 15.5s\tremaining: 18.5s\n",
      "100:\tlearn: 1675.2802155\ttotal: 17.1s\tremaining: 16.8s\n",
      "110:\tlearn: 1662.1834142\ttotal: 18.6s\tremaining: 14.9s\n",
      "120:\tlearn: 1649.1820708\ttotal: 20.1s\tremaining: 13.1s\n",
      "130:\tlearn: 1638.4414687\ttotal: 21.6s\tremaining: 11.4s\n",
      "140:\tlearn: 1624.7105432\ttotal: 23s\tremaining: 9.63s\n",
      "150:\tlearn: 1612.9023705\ttotal: 24.5s\tremaining: 7.93s\n",
      "160:\tlearn: 1603.3139976\ttotal: 25.9s\tremaining: 6.28s\n",
      "170:\tlearn: 1595.4775346\ttotal: 27.5s\tremaining: 4.66s\n",
      "180:\tlearn: 1586.3902594\ttotal: 28.9s\tremaining: 3.03s\n",
      "190:\tlearn: 1576.1938457\ttotal: 30.3s\tremaining: 1.43s\n",
      "199:\tlearn: 1570.0221227\ttotal: 31.7s\tremaining: 0us\n",
      "Learning rate set to 0.312672\n",
      "0:\tlearn: 3619.2460365\ttotal: 148ms\tremaining: 29.5s\n",
      "10:\tlearn: 2000.7857892\ttotal: 1.58s\tremaining: 27.2s\n",
      "20:\tlearn: 1902.0226589\ttotal: 2.95s\tremaining: 25.1s\n",
      "30:\tlearn: 1846.6708442\ttotal: 4.41s\tremaining: 24s\n",
      "40:\tlearn: 1811.4869360\ttotal: 5.85s\tremaining: 22.7s\n",
      "50:\tlearn: 1785.5007487\ttotal: 7.26s\tremaining: 21.2s\n",
      "60:\tlearn: 1762.6982631\ttotal: 8.63s\tremaining: 19.7s\n",
      "70:\tlearn: 1742.7212696\ttotal: 9.97s\tremaining: 18.1s\n",
      "80:\tlearn: 1725.2578321\ttotal: 11.5s\tremaining: 16.9s\n",
      "90:\tlearn: 1709.0311700\ttotal: 13s\tremaining: 15.6s\n",
      "100:\tlearn: 1695.8727083\ttotal: 14.5s\tremaining: 14.2s\n",
      "110:\tlearn: 1680.4601123\ttotal: 15.9s\tremaining: 12.7s\n",
      "120:\tlearn: 1666.4316733\ttotal: 17.4s\tremaining: 11.4s\n",
      "130:\tlearn: 1655.5788076\ttotal: 18.9s\tremaining: 9.93s\n",
      "140:\tlearn: 1646.0876254\ttotal: 20.2s\tremaining: 8.47s\n",
      "150:\tlearn: 1632.1075724\ttotal: 21.7s\tremaining: 7.04s\n",
      "160:\tlearn: 1619.9366963\ttotal: 23.2s\tremaining: 5.62s\n",
      "170:\tlearn: 1611.2215056\ttotal: 24.7s\tremaining: 4.19s\n",
      "180:\tlearn: 1605.5028103\ttotal: 26.2s\tremaining: 2.75s\n",
      "190:\tlearn: 1595.6305997\ttotal: 27.7s\tremaining: 1.3s\n",
      "199:\tlearn: 1590.2712660\ttotal: 28.9s\tremaining: 0us\n",
      "Score при depth = 8 : [0.83900597 0.84279428]\n",
      "Score mean = 0.840900126082458\n",
      "\n",
      "Learning rate set to 0.312672\n",
      "0:\tlearn: 3579.8263003\ttotal: 209ms\tremaining: 41.6s\n",
      "10:\tlearn: 1924.3061628\ttotal: 2.42s\tremaining: 41.6s\n",
      "20:\tlearn: 1804.2749283\ttotal: 4.71s\tremaining: 40.2s\n",
      "30:\tlearn: 1741.7165512\ttotal: 6.97s\tremaining: 38s\n",
      "40:\tlearn: 1703.8131807\ttotal: 9.33s\tremaining: 36.2s\n",
      "50:\tlearn: 1670.6817800\ttotal: 11.8s\tremaining: 34.3s\n",
      "60:\tlearn: 1634.7405180\ttotal: 14.1s\tremaining: 32.1s\n",
      "70:\tlearn: 1614.9509753\ttotal: 16.5s\tremaining: 30s\n",
      "80:\tlearn: 1586.6885253\ttotal: 18.9s\tremaining: 27.8s\n",
      "90:\tlearn: 1565.9938640\ttotal: 21.4s\tremaining: 25.6s\n",
      "100:\tlearn: 1546.0524323\ttotal: 23.8s\tremaining: 23.3s\n",
      "110:\tlearn: 1523.9507744\ttotal: 26.1s\tremaining: 21s\n",
      "120:\tlearn: 1504.7969392\ttotal: 28.5s\tremaining: 18.6s\n",
      "130:\tlearn: 1484.4084568\ttotal: 30.9s\tremaining: 16.3s\n",
      "140:\tlearn: 1468.7749409\ttotal: 33.3s\tremaining: 13.9s\n",
      "150:\tlearn: 1452.9993865\ttotal: 35.7s\tremaining: 11.6s\n",
      "160:\tlearn: 1441.5363529\ttotal: 38.1s\tremaining: 9.23s\n",
      "170:\tlearn: 1428.8565219\ttotal: 40.6s\tremaining: 6.88s\n",
      "180:\tlearn: 1416.0859495\ttotal: 43s\tremaining: 4.51s\n",
      "190:\tlearn: 1402.9594540\ttotal: 45.4s\tremaining: 2.14s\n",
      "199:\tlearn: 1388.1073704\ttotal: 47.5s\tremaining: 0us\n",
      "Learning rate set to 0.312672\n",
      "0:\tlearn: 3572.9624798\ttotal: 218ms\tremaining: 43.4s\n",
      "10:\tlearn: 1932.9372120\ttotal: 2.34s\tremaining: 40.2s\n",
      "20:\tlearn: 1838.2276690\ttotal: 4.64s\tremaining: 39.5s\n",
      "30:\tlearn: 1762.7980879\ttotal: 6.91s\tremaining: 37.7s\n",
      "40:\tlearn: 1725.7410814\ttotal: 9.04s\tremaining: 35.1s\n",
      "50:\tlearn: 1687.8552578\ttotal: 11.4s\tremaining: 33.4s\n",
      "60:\tlearn: 1660.1339250\ttotal: 13.9s\tremaining: 31.7s\n",
      "70:\tlearn: 1627.4772432\ttotal: 16.3s\tremaining: 29.5s\n",
      "80:\tlearn: 1604.3108615\ttotal: 18.5s\tremaining: 27.2s\n",
      "90:\tlearn: 1584.6904663\ttotal: 20.9s\tremaining: 25.1s\n",
      "100:\tlearn: 1568.3003579\ttotal: 23.3s\tremaining: 22.8s\n",
      "110:\tlearn: 1549.7362982\ttotal: 25.7s\tremaining: 20.6s\n",
      "120:\tlearn: 1536.7748810\ttotal: 28.2s\tremaining: 18.4s\n",
      "130:\tlearn: 1520.8763394\ttotal: 30.5s\tremaining: 16.1s\n",
      "140:\tlearn: 1506.5623733\ttotal: 32.9s\tremaining: 13.8s\n",
      "150:\tlearn: 1490.2125741\ttotal: 35.3s\tremaining: 11.4s\n",
      "160:\tlearn: 1476.5958205\ttotal: 37.8s\tremaining: 9.16s\n",
      "170:\tlearn: 1462.8244662\ttotal: 40.2s\tremaining: 6.82s\n",
      "180:\tlearn: 1449.5599336\ttotal: 42.6s\tremaining: 4.47s\n",
      "190:\tlearn: 1439.4648122\ttotal: 44.9s\tremaining: 2.12s\n",
      "199:\tlearn: 1428.1586917\ttotal: 47.2s\tremaining: 0us\n",
      "Score при depth = 10 : [0.83912756 0.84225151]\n",
      "Score mean = 0.8406895378686372\n",
      "\n"
     ]
    }
   ],
   "source": [
    "for depth in range(6, 12, 2):\n",
    "    cat_model = CatBoostRegressor(loss_function=\"RMSE\", iterations=200, depth=depth, verbose=10, cat_features=cat_features)\n",
    "    cat_cv = cross_val_score(cat_model, features_train_without_nan, target_train_without_nan, cv=2)\n",
    "    print(\"Score при depth =\", depth, \":\", cat_cv)\n",
    "    print(\"Score mean =\", sum(cat_cv)/len(cat_cv))\n",
    "    print()"
   ]
  },
  {
   "cell_type": "markdown",
   "metadata": {},
   "source": [
    "В качестве параметра depth возьмём 8. "
   ]
  },
  {
   "cell_type": "markdown",
   "metadata": {},
   "source": [
    "Реализуем функцию обучения и проверки нашей модели."
   ]
  },
  {
   "cell_type": "code",
   "execution_count": 96,
   "metadata": {},
   "outputs": [],
   "source": [
    "def cat_model(features_train, target_train, features_valid, target_valid):\n",
    "    cat_best_model = CatBoostRegressor(loss_function=\"RMSE\", iterations=200, depth=8, verbose=10)\n",
    "    cat_best_model.fit(features_train, target_train, cat_features=cat_features)\n",
    "    predicted_cat = pd.Series(cat_best_model.predict(features_valid))\n",
    "    return mean_squared_error(target_valid, predicted_cat) ** 0.5"
   ]
  },
  {
   "cell_type": "markdown",
   "metadata": {},
   "source": [
    "Проверим её на подходящих для CatBoost датасетах"
   ]
  },
  {
   "cell_type": "code",
   "execution_count": 97,
   "metadata": {},
   "outputs": [
    {
     "name": "stdout",
     "output_type": "stream",
     "text": [
      "Learning rate set to 0.348861\n",
      "0:\tlearn: 3542.1465313\ttotal: 248ms\tremaining: 49.3s\n",
      "10:\tlearn: 1981.0282703\ttotal: 2.43s\tremaining: 41.8s\n",
      "20:\tlearn: 1886.1704422\ttotal: 4.86s\tremaining: 41.4s\n",
      "30:\tlearn: 1842.0606469\ttotal: 7.05s\tremaining: 38.5s\n",
      "40:\tlearn: 1809.5429305\ttotal: 9.23s\tremaining: 35.8s\n",
      "50:\tlearn: 1780.2853804\ttotal: 11.4s\tremaining: 33.2s\n",
      "60:\tlearn: 1761.4865440\ttotal: 13.4s\tremaining: 30.6s\n",
      "70:\tlearn: 1744.1956253\ttotal: 15.7s\tremaining: 28.5s\n",
      "80:\tlearn: 1727.3570250\ttotal: 18.1s\tremaining: 26.7s\n",
      "90:\tlearn: 1714.8550131\ttotal: 20.3s\tremaining: 24.3s\n",
      "100:\tlearn: 1702.3041134\ttotal: 22.6s\tremaining: 22.1s\n",
      "110:\tlearn: 1689.2811960\ttotal: 25s\tremaining: 20s\n",
      "120:\tlearn: 1683.0965213\ttotal: 27.5s\tremaining: 17.9s\n",
      "130:\tlearn: 1670.8380040\ttotal: 29.7s\tremaining: 15.7s\n",
      "140:\tlearn: 1663.2027517\ttotal: 32s\tremaining: 13.4s\n",
      "150:\tlearn: 1656.0558416\ttotal: 34.4s\tremaining: 11.2s\n",
      "160:\tlearn: 1648.7431923\ttotal: 36.8s\tremaining: 8.91s\n",
      "170:\tlearn: 1640.6908125\ttotal: 39.1s\tremaining: 6.63s\n",
      "180:\tlearn: 1632.4591757\ttotal: 41.3s\tremaining: 4.34s\n",
      "190:\tlearn: 1623.8951057\ttotal: 43.7s\tremaining: 2.06s\n",
      "199:\tlearn: 1616.9993495\ttotal: 45.9s\tremaining: 0us\n"
     ]
    },
    {
     "data": {
      "text/plain": [
       "1749.0163003631985"
      ]
     },
     "execution_count": 97,
     "metadata": {},
     "output_type": "execute_result"
    }
   ],
   "source": [
    "cat_model(features_train_without_nan, target_train_without_nan, features_valid_without_nan, target_valid_without_nan)"
   ]
  },
  {
   "cell_type": "code",
   "execution_count": 98,
   "metadata": {},
   "outputs": [
    {
     "name": "stdout",
     "output_type": "stream",
     "text": [
      "Learning rate set to 0.340779\n",
      "0:\tlearn: 3554.0790587\ttotal: 242ms\tremaining: 48.1s\n",
      "10:\tlearn: 1825.8948016\ttotal: 2.15s\tremaining: 36.9s\n",
      "20:\tlearn: 1726.0242949\ttotal: 4.08s\tremaining: 34.8s\n",
      "30:\tlearn: 1673.1364220\ttotal: 5.83s\tremaining: 31.8s\n",
      "40:\tlearn: 1642.4831089\ttotal: 7.78s\tremaining: 30.2s\n",
      "50:\tlearn: 1612.8728023\ttotal: 9.84s\tremaining: 28.8s\n",
      "60:\tlearn: 1591.2658022\ttotal: 11.9s\tremaining: 27s\n",
      "70:\tlearn: 1573.3814687\ttotal: 13.9s\tremaining: 25.3s\n",
      "80:\tlearn: 1557.2982267\ttotal: 15.9s\tremaining: 23.3s\n",
      "90:\tlearn: 1545.2223535\ttotal: 17.9s\tremaining: 21.5s\n",
      "100:\tlearn: 1534.9971019\ttotal: 20s\tremaining: 19.6s\n",
      "110:\tlearn: 1524.7848879\ttotal: 22.1s\tremaining: 17.7s\n",
      "120:\tlearn: 1515.5490379\ttotal: 24.7s\tremaining: 16.1s\n",
      "130:\tlearn: 1506.6585466\ttotal: 27.2s\tremaining: 14.3s\n",
      "140:\tlearn: 1499.2201860\ttotal: 29.8s\tremaining: 12.5s\n",
      "150:\tlearn: 1491.5870931\ttotal: 32.2s\tremaining: 10.4s\n",
      "160:\tlearn: 1484.2832656\ttotal: 34.6s\tremaining: 8.38s\n",
      "170:\tlearn: 1475.9298623\ttotal: 37.3s\tremaining: 6.33s\n",
      "180:\tlearn: 1468.1798193\ttotal: 39.8s\tremaining: 4.18s\n",
      "190:\tlearn: 1462.6204560\ttotal: 42.2s\tremaining: 1.99s\n",
      "199:\tlearn: 1456.9030491\ttotal: 44.3s\tremaining: 0us\n"
     ]
    },
    {
     "data": {
      "text/plain": [
       "1604.5552736711898"
      ]
     },
     "execution_count": 98,
     "metadata": {},
     "output_type": "execute_result"
    }
   ],
   "source": [
    "cat_model(features_train_without_nan_no_anomaly, target_train_without_nan_no_anomaly, \\\n",
    "          features_valid_without_nan_no_anomaly, target_valid_without_nan_no_anomaly)"
   ]
  },
  {
   "cell_type": "markdown",
   "metadata": {},
   "source": [
    "Итак, Catboost показывает лучший результат (rmse = 1604) с параметрами iterations=200, depth=8, verbose=10 для датасета без пропусков и аномалий"
   ]
  },
  {
   "cell_type": "markdown",
   "metadata": {},
   "source": [
    "<div style=\"border:solid blue 2px; padding: 20px\">\n",
    "\n",
    "**Выводы**\n",
    "\n",
    "На данном этапе были рассмотрены 3 модели машинного обучения: Дерево решений, LightGBM и Catboost. Для каждой модели были подобраны параметры и датасет, показывающие наивысший результат "
   ]
  },
  {
   "cell_type": "markdown",
   "metadata": {},
   "source": [
    "## Анализ моделей"
   ]
  },
  {
   "cell_type": "markdown",
   "metadata": {},
   "source": [
    "Посмотрим на время и rmse для каждой модели"
   ]
  },
  {
   "cell_type": "markdown",
   "metadata": {},
   "source": [
    "### Дерево решений"
   ]
  },
  {
   "cell_type": "code",
   "execution_count": 99,
   "metadata": {},
   "outputs": [],
   "source": [
    "model_tree = DecisionTreeRegressor(random_state=42, max_depth=13) "
   ]
  },
  {
   "cell_type": "code",
   "execution_count": 100,
   "metadata": {},
   "outputs": [
    {
     "name": "stdout",
     "output_type": "stream",
     "text": [
      "CPU times: total: 469 ms\n",
      "Wall time: 493 ms\n"
     ]
    },
    {
     "data": {
      "text/plain": [
       "DecisionTreeRegressor(max_depth=13, random_state=42)"
      ]
     },
     "execution_count": 100,
     "metadata": {},
     "output_type": "execute_result"
    }
   ],
   "source": [
    "%%time\n",
    "model_tree.fit(features_train_without_nan_no_anomaly_ohe, \\\n",
    "               target_train_without_nan_no_anomaly_ohe) # обучение модели на тренировочной выборке"
   ]
  },
  {
   "cell_type": "code",
   "execution_count": 101,
   "metadata": {},
   "outputs": [
    {
     "name": "stdout",
     "output_type": "stream",
     "text": [
      "CPU times: total: 15.6 ms\n",
      "Wall time: 17 ms\n"
     ]
    }
   ],
   "source": [
    "%%time\n",
    "predicted_valid = model_tree.predict(features_test_without_nan_no_anomaly_ohe) "
   ]
  },
  {
   "cell_type": "code",
   "execution_count": 102,
   "metadata": {},
   "outputs": [
    {
     "name": "stdout",
     "output_type": "stream",
     "text": [
      "CPU times: total: 15.6 ms\n",
      "Wall time: 1.21 ms\n"
     ]
    },
    {
     "data": {
      "text/plain": [
       "1932.9940871125655"
      ]
     },
     "execution_count": 102,
     "metadata": {},
     "output_type": "execute_result"
    }
   ],
   "source": [
    "%%time\n",
    "result_tree = (mean_squared_error(target_test_without_nan_no_anomaly_ohe, predicted_valid)) ** 0.5\n",
    "result_tree"
   ]
  },
  {
   "cell_type": "markdown",
   "metadata": {},
   "source": [
    "Видим высокую скорость на всех этапах и rmse = 1933"
   ]
  },
  {
   "cell_type": "markdown",
   "metadata": {},
   "source": [
    "### LightGBM"
   ]
  },
  {
   "cell_type": "code",
   "execution_count": 103,
   "metadata": {},
   "outputs": [],
   "source": [
    "params6 = {\n",
    "    'boosting_type': 'gbdt',\n",
    "    'objective': 'regression',\n",
    "    'metric': 'rmse',\n",
    "    'max_depth': 6, \n",
    "    'learning_rate': 0.5,\n",
    "    'verbose': 0\n",
    "}"
   ]
  },
  {
   "cell_type": "code",
   "execution_count": 104,
   "metadata": {},
   "outputs": [],
   "source": [
    "lgbm_model = LGBMRegressor(**params6)"
   ]
  },
  {
   "cell_type": "code",
   "execution_count": 105,
   "metadata": {},
   "outputs": [
    {
     "name": "stdout",
     "output_type": "stream",
     "text": [
      "[LightGBM] [Warning] Accuracy may be bad since you didn't explicitly set num_leaves OR 2^max_depth > num_leaves. (num_leaves=31).\n",
      "[LightGBM] [Warning] Accuracy may be bad since you didn't explicitly set num_leaves OR 2^max_depth > num_leaves. (num_leaves=31).\n",
      "[LightGBM] [Warning] Auto-choosing row-wise multi-threading, the overhead of testing was 0.004489 seconds.\n",
      "You can set `force_row_wise=true` to remove the overhead.\n",
      "And if memory is not enough, you can set `force_col_wise=true`.\n",
      "[LightGBM] [Warning] No further splits with positive gain, best gain: -inf\n",
      "[LightGBM] [Warning] No further splits with positive gain, best gain: -inf\n",
      "[LightGBM] [Warning] No further splits with positive gain, best gain: -inf\n",
      "[LightGBM] [Warning] No further splits with positive gain, best gain: -inf\n",
      "[LightGBM] [Warning] No further splits with positive gain, best gain: -inf\n",
      "[LightGBM] [Warning] No further splits with positive gain, best gain: -inf\n",
      "[LightGBM] [Warning] No further splits with positive gain, best gain: -inf\n",
      "CPU times: total: 1.86 s\n",
      "Wall time: 574 ms\n"
     ]
    },
    {
     "data": {
      "text/plain": [
       "LGBMRegressor(learning_rate=0.5, max_depth=6, metric='rmse',\n",
       "              objective='regression', verbose=0)"
      ]
     },
     "execution_count": 105,
     "metadata": {},
     "output_type": "execute_result"
    }
   ],
   "source": [
    "%%time\n",
    "lgbm_model.fit(features_train_without_nan_no_anomaly_ohe, target_train_without_nan_no_anomaly_ohe)"
   ]
  },
  {
   "cell_type": "code",
   "execution_count": 106,
   "metadata": {},
   "outputs": [
    {
     "name": "stdout",
     "output_type": "stream",
     "text": [
      "CPU times: total: 422 ms\n",
      "Wall time: 157 ms\n"
     ]
    }
   ],
   "source": [
    "%%time\n",
    "predictions_lgbm = lgbm_model.predict(features_test_without_nan_no_anomaly_ohe)"
   ]
  },
  {
   "cell_type": "code",
   "execution_count": 107,
   "metadata": {},
   "outputs": [
    {
     "name": "stdout",
     "output_type": "stream",
     "text": [
      "CPU times: total: 0 ns\n",
      "Wall time: 1.99 ms\n"
     ]
    },
    {
     "data": {
      "text/plain": [
       "1640.424346584806"
      ]
     },
     "execution_count": 107,
     "metadata": {},
     "output_type": "execute_result"
    }
   ],
   "source": [
    "%%time\n",
    "mean_squared_error(target_test_without_nan_no_anomaly_ohe, predictions_lgbm) ** 0.5"
   ]
  },
  {
   "cell_type": "markdown",
   "metadata": {},
   "source": [
    "Видим соизмеримую с деревом тоже высокую скорость на всех этапах и rmse = 1640"
   ]
  },
  {
   "cell_type": "markdown",
   "metadata": {},
   "source": [
    "### Catboost"
   ]
  },
  {
   "cell_type": "code",
   "execution_count": 108,
   "metadata": {},
   "outputs": [],
   "source": [
    "cat_best_model = CatBoostRegressor(loss_function=\"RMSE\", iterations=200, depth=8, verbose=10)"
   ]
  },
  {
   "cell_type": "code",
   "execution_count": 109,
   "metadata": {},
   "outputs": [
    {
     "name": "stdout",
     "output_type": "stream",
     "text": [
      "Learning rate set to 0.340779\n",
      "0:\tlearn: 3554.0790587\ttotal: 208ms\tremaining: 41.3s\n",
      "10:\tlearn: 1825.8948016\ttotal: 2.14s\tremaining: 36.8s\n",
      "20:\tlearn: 1726.0242949\ttotal: 3.98s\tremaining: 33.9s\n",
      "30:\tlearn: 1673.1364220\ttotal: 5.74s\tremaining: 31.3s\n",
      "40:\tlearn: 1642.4831089\ttotal: 7.64s\tremaining: 29.6s\n",
      "50:\tlearn: 1612.8728023\ttotal: 9.52s\tremaining: 27.8s\n",
      "60:\tlearn: 1591.2658022\ttotal: 11.4s\tremaining: 26s\n",
      "70:\tlearn: 1573.3814687\ttotal: 13.4s\tremaining: 24.4s\n",
      "80:\tlearn: 1557.2982267\ttotal: 15.2s\tremaining: 22.4s\n",
      "90:\tlearn: 1545.2223535\ttotal: 17.2s\tremaining: 20.6s\n",
      "100:\tlearn: 1534.9971019\ttotal: 19.1s\tremaining: 18.7s\n",
      "110:\tlearn: 1524.7848879\ttotal: 21.1s\tremaining: 16.9s\n",
      "120:\tlearn: 1515.5490379\ttotal: 23s\tremaining: 15s\n",
      "130:\tlearn: 1506.6585466\ttotal: 25.3s\tremaining: 13.3s\n",
      "140:\tlearn: 1499.2201860\ttotal: 27.4s\tremaining: 11.5s\n",
      "150:\tlearn: 1491.5870931\ttotal: 29.5s\tremaining: 9.57s\n",
      "160:\tlearn: 1484.2832656\ttotal: 31.5s\tremaining: 7.62s\n",
      "170:\tlearn: 1475.9298623\ttotal: 33.5s\tremaining: 5.68s\n",
      "180:\tlearn: 1468.1798193\ttotal: 35.7s\tremaining: 3.75s\n",
      "190:\tlearn: 1462.6204560\ttotal: 37.8s\tremaining: 1.78s\n",
      "199:\tlearn: 1456.9030491\ttotal: 39.8s\tremaining: 0us\n",
      "CPU times: total: 2min 5s\n",
      "Wall time: 40.6 s\n"
     ]
    },
    {
     "data": {
      "text/plain": [
       "<catboost.core.CatBoostRegressor at 0x2111cfa4c70>"
      ]
     },
     "execution_count": 109,
     "metadata": {},
     "output_type": "execute_result"
    }
   ],
   "source": [
    "%%time\n",
    "cat_best_model.fit(features_train_without_nan_no_anomaly, target_train_without_nan_no_anomaly, cat_features=cat_features)"
   ]
  },
  {
   "cell_type": "code",
   "execution_count": 110,
   "metadata": {},
   "outputs": [
    {
     "name": "stdout",
     "output_type": "stream",
     "text": [
      "CPU times: total: 359 ms\n",
      "Wall time: 216 ms\n"
     ]
    }
   ],
   "source": [
    "%%time\n",
    "predicted_cat = pd.Series(cat_best_model.predict(features_test_without_nan_no_anomaly))"
   ]
  },
  {
   "cell_type": "code",
   "execution_count": 111,
   "metadata": {
    "scrolled": true
   },
   "outputs": [
    {
     "name": "stdout",
     "output_type": "stream",
     "text": [
      "CPU times: total: 0 ns\n",
      "Wall time: 2.12 ms\n"
     ]
    },
    {
     "data": {
      "text/plain": [
       "1597.681000826832"
      ]
     },
     "execution_count": 111,
     "metadata": {},
     "output_type": "execute_result"
    }
   ],
   "source": [
    "%%time\n",
    "mean_squared_error(target_test_without_nan_no_anomaly, predicted_cat) ** 0.5"
   ]
  },
  {
   "cell_type": "markdown",
   "metadata": {},
   "source": [
    "Видим, что Catboost обучается дольше, чем дерево и LightGBM, но предсказывает быстро. И rmse = 1598"
   ]
  },
  {
   "cell_type": "code",
   "execution_count": 112,
   "metadata": {},
   "outputs": [
    {
     "data": {
      "text/html": [
       "<div>\n",
       "<style scoped>\n",
       "    .dataframe tbody tr th:only-of-type {\n",
       "        vertical-align: middle;\n",
       "    }\n",
       "\n",
       "    .dataframe tbody tr th {\n",
       "        vertical-align: top;\n",
       "    }\n",
       "\n",
       "    .dataframe thead th {\n",
       "        text-align: right;\n",
       "    }\n",
       "</style>\n",
       "<table border=\"1\" class=\"dataframe\">\n",
       "  <thead>\n",
       "    <tr style=\"text-align: right;\">\n",
       "      <th></th>\n",
       "      <th>Модель</th>\n",
       "      <th>Время обучения, мс</th>\n",
       "      <th>Время предсказания, мс</th>\n",
       "      <th>rmse</th>\n",
       "    </tr>\n",
       "  </thead>\n",
       "  <tbody>\n",
       "    <tr>\n",
       "      <th>0</th>\n",
       "      <td>DT</td>\n",
       "      <td>493.0</td>\n",
       "      <td>17</td>\n",
       "      <td>1932</td>\n",
       "    </tr>\n",
       "    <tr>\n",
       "      <th>1</th>\n",
       "      <td>LGB</td>\n",
       "      <td>574.0</td>\n",
       "      <td>157</td>\n",
       "      <td>1640</td>\n",
       "    </tr>\n",
       "    <tr>\n",
       "      <th>2</th>\n",
       "      <td>CBR</td>\n",
       "      <td>40600.0</td>\n",
       "      <td>216</td>\n",
       "      <td>1598</td>\n",
       "    </tr>\n",
       "  </tbody>\n",
       "</table>\n",
       "</div>"
      ],
      "text/plain": [
       "  Модель  Время обучения, мс  Время предсказания, мс  rmse\n",
       "0     DT               493.0                      17  1932\n",
       "1    LGB               574.0                     157  1640\n",
       "2    CBR             40600.0                     216  1598"
      ]
     },
     "execution_count": 112,
     "metadata": {},
     "output_type": "execute_result"
    }
   ],
   "source": [
    "models = [['DT', 493, 17, 1932], ['LGB', 574, 157, 1640], \n",
    "       ['CBR', 40.6*1000, 216, 1598]] \n",
    "    \n",
    "models_df = pd.DataFrame(models, columns =['Модель', 'Время обучения, мс', 'Время предсказания, мс', 'rmse']) \n",
    "models_df "
   ]
  },
  {
   "cell_type": "markdown",
   "metadata": {},
   "source": [
    "## Вывод"
   ]
  },
  {
   "cell_type": "markdown",
   "metadata": {},
   "source": [
    "В ходе  работы над проектом\n",
    "* данные были предобработаны (удалены лишние столбцы, для части датасетов заполнены пропуски удалены аномалии, закодированы категориальные признаки)\n",
    "* было составлено 6 датасетов с разными наборами параметров\n",
    "* данные были разбиты на подвыборки\n",
    "\n",
    "Итак, были рассмотрены 3 модели: Дерево решений, LightGBM и Catboost. Для каждой из моделей были подобраны гипер-параметры для улучшения качества.\n",
    "\n",
    "В качестве итогового ответа предлагаю выбрать модель Catboost, поскольку она показывает наилучший результат по метрике качества rmse. Да, модель обучается дольше, чем остальные, но обучить модель нужно один раз, а предсказания она выдаёт быстро. "
   ]
  }
 ],
 "metadata": {
  "ExecuteTimeLog": [
   {
    "duration": 3,
    "start_time": "2022-06-16T14:05:17.990Z"
   },
   {
    "duration": 2,
    "start_time": "2022-06-16T14:05:24.595Z"
   }
  ],
  "kernelspec": {
   "display_name": "Python 3 (ipykernel)",
   "language": "python",
   "name": "python3"
  },
  "language_info": {
   "codemirror_mode": {
    "name": "ipython",
    "version": 3
   },
   "file_extension": ".py",
   "mimetype": "text/x-python",
   "name": "python",
   "nbconvert_exporter": "python",
   "pygments_lexer": "ipython3",
   "version": "3.9.12"
  },
  "toc": {
   "base_numbering": 1,
   "nav_menu": {},
   "number_sections": true,
   "sideBar": true,
   "skip_h1_title": true,
   "title_cell": "Table of Contents",
   "title_sidebar": "Contents",
   "toc_cell": false,
   "toc_position": {},
   "toc_section_display": true,
   "toc_window_display": false
  }
 },
 "nbformat": 4,
 "nbformat_minor": 2
}
