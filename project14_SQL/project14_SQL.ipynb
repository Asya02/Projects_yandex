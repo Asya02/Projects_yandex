{
 "cells": [
  {
   "cell_type": "markdown",
   "id": "600b3e60",
   "metadata": {},
   "source": [
    "# Работа с базой данных на основе Startup Investments"
   ]
  },
  {
   "cell_type": "markdown",
   "id": "73e06a29",
   "metadata": {},
   "source": [
    "Нужно проанализировать данные о фондах и инвестициях и написать запросы к базе."
   ]
  },
  {
   "cell_type": "markdown",
   "id": "0b946ba0",
   "metadata": {},
   "source": [
    "## Схема базы данных"
   ]
  },
  {
   "cell_type": "markdown",
   "id": "59fdb43a",
   "metadata": {},
   "source": [
    "![jupyter](./13_border2880_1628164784.png)"
   ]
  },
  {
   "cell_type": "markdown",
   "id": "dde63c5b",
   "metadata": {},
   "source": [
    "### 1. Посчитайте, сколько компаний закрылось."
   ]
  },
  {
   "cell_type": "markdown",
   "id": "df4544a6",
   "metadata": {},
   "source": [
    "SELECT COUNT(status)\n",
    "\n",
    "FROM company\n",
    "\n",
    "WHERE status = 'closed';"
   ]
  },
  {
   "cell_type": "markdown",
   "id": "6d513c83",
   "metadata": {},
   "source": [
    "![jupyter](./1.png)"
   ]
  },
  {
   "cell_type": "markdown",
   "id": "732a2048",
   "metadata": {},
   "source": [
    "### 2. Отобразите количество привлечённых средств для новостных компаний США. Используйте данные из таблицы company. Отсортируйте таблицу по убыванию значений в поле funding_total .\n"
   ]
  },
  {
   "cell_type": "markdown",
   "id": "12ecfd53",
   "metadata": {},
   "source": [
    "SELECT funding_total\n",
    "\n",
    "FROM company\n",
    "\n",
    "WHERE country_code = 'USA'\n",
    "\n",
    "AND category_code = 'news'\n",
    "\n",
    "ORDER BY funding_total DESC;"
   ]
  },
  {
   "cell_type": "markdown",
   "id": "812cdd9b",
   "metadata": {},
   "source": [
    "![jupyter](./2.png)"
   ]
  },
  {
   "cell_type": "markdown",
   "id": "4ffd36a3",
   "metadata": {},
   "source": [
    "### 3. Найдите общую сумму сделок по покупке одних компаний другими в долларах. Отберите сделки, которые осуществлялись только за наличные с 2011 по 2013 год включительно.\n"
   ]
  },
  {
   "cell_type": "markdown",
   "id": "ced4f731",
   "metadata": {},
   "source": [
    "SELECT SUM(price_amount)\n",
    "\n",
    "FROM acquisition\n",
    "\n",
    "WHERE EXTRACT('year' FROM acquired_at::date) BETWEEN '2011' AND '2013'\n",
    "\n",
    "AND term_code = 'cash';"
   ]
  },
  {
   "cell_type": "markdown",
   "id": "5c8e2303",
   "metadata": {},
   "source": [
    "![jupyter](./3.png)"
   ]
  },
  {
   "cell_type": "markdown",
   "id": "7d396eeb",
   "metadata": {},
   "source": [
    "### 4. Отобразите имя, фамилию и названия аккаунтов людей в твиттере, у которых названия аккаунтов начинаются на 'Silver'.\n"
   ]
  },
  {
   "cell_type": "markdown",
   "id": "91ee49c8",
   "metadata": {},
   "source": [
    "SELECT first_name,\n",
    "       last_name,\n",
    "       twitter_username\n",
    "       \n",
    "FROM people\n",
    "\n",
    "WHERE twitter_username LIKE 'Silver%';"
   ]
  },
  {
   "cell_type": "markdown",
   "id": "8502682a",
   "metadata": {},
   "source": [
    "![jupyter](./4.png)"
   ]
  },
  {
   "cell_type": "markdown",
   "id": "6047d3ba",
   "metadata": {},
   "source": [
    "### 5. Выведите на экран всю информацию о людях, у которых названия аккаунтов в твиттере содержат подстроку 'money', а фамилия начинается на 'K'."
   ]
  },
  {
   "cell_type": "markdown",
   "id": "cbaf134f",
   "metadata": {},
   "source": [
    "SELECT *\n",
    "\n",
    "FROM people\n",
    "\n",
    "WHERE twitter_username LIKE '%money%'\n",
    "\n",
    "AND last_name LIKE 'K%';"
   ]
  },
  {
   "cell_type": "markdown",
   "id": "57e32268",
   "metadata": {},
   "source": [
    "![jupyter](./5.png)"
   ]
  },
  {
   "cell_type": "markdown",
   "id": "c914419c",
   "metadata": {},
   "source": [
    "### 6. Для каждой страны отобразите общую сумму привлечённых инвестиций, которые получили компании, зарегистрированные в этой стране. Страну, в которой зарегистрирована компания, можно определить по коду страны. Отсортируйте данные по убыванию суммы.\n"
   ]
  },
  {
   "cell_type": "markdown",
   "id": "266b1967",
   "metadata": {},
   "source": [
    "SELECT SUM(funding_total),\n",
    "\n",
    "        country_code\n",
    "        \n",
    "FROM company\n",
    "\n",
    "GROUP BY country_code\n",
    "\n",
    "ORDER BY SUM(funding_total) DESC;\n"
   ]
  },
  {
   "cell_type": "markdown",
   "id": "14a65d05",
   "metadata": {},
   "source": [
    "![jupyter](./6.png)"
   ]
  },
  {
   "cell_type": "markdown",
   "id": "c82cdf70",
   "metadata": {},
   "source": [
    "### 7. Составьте таблицу, в которую войдёт дата проведения раунда, а также минимальное и максимальное значения суммы инвестиций, привлечённых в эту дату. Оставьте в итоговой таблице только те записи, в которых минимальное значение суммы инвестиций не равно нулю и не равно максимальному значению."
   ]
  },
  {
   "cell_type": "markdown",
   "id": "34f335a1",
   "metadata": {},
   "source": [
    "SELECT funded_at,\n",
    "\n",
    "        MIN(raised_amount),\n",
    "        \n",
    "        MAX(raised_amount)\n",
    "        \n",
    "FROM funding_round\n",
    "\n",
    "GROUP BY funded_at\n",
    "\n",
    "HAVING MIN(raised_amount) <> 0\n",
    "\n",
    "AND MIN(raised_amount) <> MAX(raised_amount);"
   ]
  },
  {
   "cell_type": "markdown",
   "id": "988be0d7",
   "metadata": {},
   "source": [
    "![jupyter](./7.png)"
   ]
  },
  {
   "cell_type": "markdown",
   "id": "e060d2c2",
   "metadata": {},
   "source": [
    "### 8. Создайте поле с категориями: \n",
    " * **Для фондов, которые инвестируют в 100 и более компаний, назначьте категорию high_activity.**\n",
    " * **Для фондов, которые инвестируют в 20 и более компаний до 100, назначьте категорию middle_activity.**\n",
    " * **Если количество инвестируемых компаний фонда не достигает 20, назначьте категорию low_activity.**\n",
    " \n",
    "**Отобразите все поля таблицы fund и новое поле с категориями.**"
   ]
  },
  {
   "cell_type": "markdown",
   "id": "ac54db27",
   "metadata": {},
   "source": [
    "SELECT *,\n",
    "\n",
    "      CASE \n",
    "      \n",
    "          WHEN invested_companies >= 100 THEN 'high_activity'\n",
    "          \n",
    "          WHEN invested_companies >= 20 THEN 'middle_activity'\n",
    "          \n",
    "          ELSE 'low_activity'\n",
    "          \n",
    "      END\n",
    "      \n",
    "FROM fund;\n"
   ]
  },
  {
   "cell_type": "markdown",
   "id": "7abcf3c8",
   "metadata": {},
   "source": [
    "![jupyter](./8.png)"
   ]
  },
  {
   "cell_type": "markdown",
   "id": "967bed68",
   "metadata": {},
   "source": [
    "### 9. Для каждой из категорий, назначенных в предыдущем задании, посчитайте округлённое до ближайшего целого числа среднее количество инвестиционных раундов, в которых фонд принимал участие. Выведите на экран категории и среднее число инвестиционных раундов. Отсортируйте таблицу по возрастанию среднего."
   ]
  },
  {
   "cell_type": "markdown",
   "id": "a6e49eb8",
   "metadata": {},
   "source": [
    "SELECT ROUND(AVG(investment_rounds)),\n",
    "\n",
    "       CASE\n",
    "       \n",
    "           WHEN invested_companies>=100 THEN 'high_activity'\n",
    "           \n",
    "           WHEN invested_companies>=20 THEN 'middle_activity'\n",
    "           \n",
    "           ELSE 'low_activity'\n",
    "           \n",
    "       END AS activity\n",
    "       \n",
    "FROM fund\n",
    "\n",
    "GROUP BY activity\n",
    "\n",
    "ORDER BY ROUND(AVG(investment_rounds));"
   ]
  },
  {
   "cell_type": "markdown",
   "id": "dee95cb9",
   "metadata": {},
   "source": [
    "![jupyter](./9.png)"
   ]
  },
  {
   "cell_type": "markdown",
   "id": "2ffd301b",
   "metadata": {},
   "source": [
    "### 10. Выгрузите таблицу с десятью самыми активными инвестирующими странами. Активность страны определите по среднему количеству компаний, в которые инвестируют фонды этой страны. Для каждой страны посчитайте минимальное, максимальное и среднее число компаний, в которые инвестировали фонды, основанные с 2010 по 2012 год включительно."
   ]
  },
  {
   "cell_type": "markdown",
   "id": "75b66b3c",
   "metadata": {},
   "source": [
    "SELECT MIN(invested_companies),\n",
    "\n",
    "       MAX(invested_companies),\n",
    "       \n",
    "       AVG(invested_companies),\n",
    "       \n",
    "       country_code\n",
    "       \n",
    "FROM fund\n",
    "\n",
    "WHERE founded_at::DATE BETWEEN '2010-01-01' AND '2012-12-31'\n",
    "\n",
    "GROUP BY country_code\n",
    "\n",
    "HAVING MIN(invested_companies) <> 0\n",
    "\n",
    "ORDER BY AVG(invested_companies) DESC, country_code\n",
    "\n",
    "LIMIT 10;"
   ]
  },
  {
   "cell_type": "markdown",
   "id": "3127b49d",
   "metadata": {},
   "source": [
    "![jupyter](./10.png)"
   ]
  },
  {
   "cell_type": "markdown",
   "id": "7cc4fc23",
   "metadata": {},
   "source": [
    "### 11. Отобразите имя и фамилию всех сотрудников стартапов. Добавьте поле с названием учебного заведения, которое окончил сотрудник, если эта информация известна."
   ]
  },
  {
   "cell_type": "markdown",
   "id": "54eee94a",
   "metadata": {},
   "source": [
    "SELECT p.first_name,\n",
    "\n",
    "       p.last_name,\n",
    "       \n",
    "       e.instituition\n",
    "       \n",
    "FROM people AS p\n",
    "\n",
    "LEFT OUTER JOIN education AS e ON e.person_id = p.id;"
   ]
  },
  {
   "cell_type": "markdown",
   "id": "f3cc57f5",
   "metadata": {},
   "source": [
    "![jupyter](./11.png)"
   ]
  },
  {
   "cell_type": "markdown",
   "id": "5c06f720",
   "metadata": {},
   "source": [
    "### 12. Для каждой компании найдите количество учебных заведений, которые окончили её сотрудники. Выведите название компании и число уникальных названий учебных заведений. Составьте топ-5 компаний по количеству университетов.\n"
   ]
  },
  {
   "cell_type": "markdown",
   "id": "5b9417b7",
   "metadata": {},
   "source": [
    "SELECT DISTINCT c.name,\n",
    "\n",
    "       COUNT(DISTINCT e.instituition)\n",
    "       \n",
    "FROM company AS c\n",
    "\n",
    "JOIN people AS p ON c.id = p.company_id\n",
    "\n",
    "LEFT OUTER JOIN education AS e ON e.person_id = p.id\n",
    "\n",
    "GROUP BY c.name\n",
    "\n",
    "ORDER BY COUNT(DISTINCT e.instituition) DESC\n",
    "\n",
    "LIMIT 5;"
   ]
  },
  {
   "cell_type": "markdown",
   "id": "a0006c99",
   "metadata": {},
   "source": [
    "![jupyter](./12.png)"
   ]
  },
  {
   "cell_type": "markdown",
   "id": "1298cc84",
   "metadata": {},
   "source": [
    "### 13. Составьте список с уникальными названиями закрытых компаний, для которых первый раунд финансирования оказался последним."
   ]
  },
  {
   "cell_type": "markdown",
   "id": "d8c1eed3",
   "metadata": {},
   "source": [
    "WITH\n",
    "\n",
    "c AS (SELECT *\n",
    "      \n",
    "    FROM company\n",
    "      \n",
    "    WHERE status = 'closed'),\n",
    "\n",
    "fr AS (SELECT *\n",
    "       \n",
    "     FROM funding_round\n",
    "       \n",
    "     WHERE is_first_round = 1 AND is_last_round = 1)\n",
    "\n",
    "SELECT\n",
    "\n",
    "   DISTINCT c.name\n",
    "    \n",
    "FROM c AS c\n",
    "\n",
    "JOIN fr AS fr ON c.id = fr.company_id;"
   ]
  },
  {
   "cell_type": "markdown",
   "id": "c69b6313",
   "metadata": {},
   "source": [
    "![jupyter](./13.png)"
   ]
  },
  {
   "cell_type": "markdown",
   "id": "afcd52d8",
   "metadata": {},
   "source": [
    "### 14.Составьте список уникальных номеров сотрудников, которые работают в компаниях, отобранных в предыдущем задании."
   ]
  },
  {
   "cell_type": "markdown",
   "id": "450b8044",
   "metadata": {},
   "source": [
    "WITH\n",
    "\n",
    "c AS (SELECT *\n",
    "\n",
    "    FROM company\n",
    "    \n",
    "    WHERE status = 'closed'),\n",
    "    \n",
    "fr AS (SELECT *,\n",
    "\n",
    "     FROM funding_round\n",
    "     \n",
    "     WHERE is_first_round = 1 AND is_last_round = 1)\n",
    "     \n",
    "SELECT\n",
    "\n",
    "   DISTINCT p.id\n",
    "   \n",
    "FROM c AS c\n",
    "\n",
    "JOIN fr AS fr ON c.id = fr.company_id\n",
    "\n",
    "JOIN people AS p ON c.id = p.company_id;"
   ]
  },
  {
   "cell_type": "markdown",
   "id": "d29ae3f2",
   "metadata": {},
   "source": [
    "![jupyter](./14.png)"
   ]
  },
  {
   "cell_type": "markdown",
   "id": "14c805c2",
   "metadata": {},
   "source": [
    "### 15. Составьте таблицу, куда войдут уникальные пары с номерами сотрудников из предыдущей задачи и учебным заведением, которое окончил сотрудник."
   ]
  },
  {
   "cell_type": "markdown",
   "id": "7bb3e7f4",
   "metadata": {},
   "source": [
    "WITH\n",
    "\n",
    "c AS (SELECT *\n",
    "\n",
    "    FROM company\n",
    "    \n",
    "    WHERE status = 'closed'),\n",
    "    \n",
    "fr AS (SELECT *\n",
    "\n",
    "     FROM funding_round\n",
    "     \n",
    "     WHERE is_first_round = 1 AND is_last_round = 1)\n",
    "     \n",
    "SELECT\n",
    "\n",
    "   DISTINCT p.id,\n",
    "   \n",
    "    ed.instituition\n",
    "    \n",
    "FROM c AS c\n",
    "\n",
    "JOIN fr AS fr ON c.id = fr.company_id\n",
    "\n",
    "JOIN people AS p ON c.id = p.company_id\n",
    "\n",
    "JOIN education AS ed ON ed.person_id = p.id;"
   ]
  },
  {
   "cell_type": "markdown",
   "id": "bd204005",
   "metadata": {},
   "source": [
    "![jupyter](./15.png)"
   ]
  },
  {
   "cell_type": "markdown",
   "id": "164bab9a",
   "metadata": {},
   "source": [
    "### 16. Посчитайте количество учебных заведений для каждого сотрудника из предыдущего задания. При подсчёте учитывайте, что некоторые сотрудники могли окончить одно и то же заведение дважды."
   ]
  },
  {
   "cell_type": "markdown",
   "id": "a4a9aa3f",
   "metadata": {},
   "source": [
    "SELECT\n",
    "\n",
    "    DISTINCT person_id AS person_id,\n",
    "    \n",
    "    COUNT(instituition)\n",
    "    \n",
    "FROM education\n",
    "\n",
    " WHERE person_id IN(\n",
    " \n",
    "SELECT\n",
    "\n",
    "   DISTINCT id\n",
    "   \n",
    "FROM people\n",
    "\n",
    "WHERE company_id IN (SELECT id\n",
    "                    \n",
    "                    FROM company\n",
    "                    \n",
    "                    WHERE id IN (SELECT DISTINCT company_id\n",
    "                    \n",
    "            FROM funding_round\n",
    "            \n",
    "     WHERE is_first_round = 1 AND is_last_round = 1\n",
    "     \n",
    "                                )\n",
    "                                \n",
    "                    AND status = 'closed'))\n",
    "                    \n",
    "GROUP BY person_id;"
   ]
  },
  {
   "cell_type": "markdown",
   "id": "4aea0356",
   "metadata": {},
   "source": [
    "![jupyter](./16.png)"
   ]
  },
  {
   "cell_type": "markdown",
   "id": "1edd12ea",
   "metadata": {},
   "source": [
    "### 17. Дополните предыдущий запрос и выведите среднее число учебных заведений (всех, не только уникальных), которые окончили сотрудники разных компаний. Нужно вывести только одну запись, группировка здесь не понадобится."
   ]
  },
  {
   "cell_type": "markdown",
   "id": "70c09aaf",
   "metadata": {},
   "source": [
    "SELECT AVG(inst)\n",
    "\n",
    "FROM(\n",
    "\n",
    "SELECT\n",
    "\n",
    "    DISTINCT person_id AS person_id,\n",
    "    \n",
    "    COUNT(instituition) AS inst\n",
    "    \n",
    "FROM education\n",
    "\n",
    " WHERE person_id IN(\n",
    " \n",
    "SELECT\n",
    "\n",
    "   DISTINCT id\n",
    "   \n",
    "FROM people\n",
    "\n",
    "WHERE company_id IN (SELECT\n",
    "\n",
    "                    id\n",
    "                    \n",
    "                    FROM company\n",
    "                    \n",
    "                    WHERE id IN (SELECT DISTINCT company_id\n",
    "                    \n",
    "            FROM funding_round\n",
    "            \n",
    "     WHERE is_first_round = 1 AND is_last_round = 1\n",
    "     \n",
    "                                )\n",
    "                                \n",
    "                    AND status = 'closed'))\n",
    "                    \n",
    "GROUP BY person_id) AS i;"
   ]
  },
  {
   "cell_type": "markdown",
   "id": "9bf8e896",
   "metadata": {},
   "source": [
    "![jupyter](./17.png)"
   ]
  },
  {
   "cell_type": "markdown",
   "id": "08bdd161",
   "metadata": {},
   "source": [
    "### 18. Напишите похожий запрос: выведите среднее число учебных заведений (всех, не только уникальных), которые окончили сотрудники Facebook*.\n",
    "*(сервис, запрещённый на территории РФ)"
   ]
  },
  {
   "cell_type": "markdown",
   "id": "72b8451f",
   "metadata": {},
   "source": [
    "SELECT AVG(count)\n",
    "\n",
    "FROM\n",
    "\n",
    "    (SELECT person_id,\n",
    "    \n",
    "           COUNT(instituition) AS count\n",
    "           \n",
    "    FROM company AS c\n",
    "    \n",
    "    JOIN people AS p ON c.id=p.company_id\n",
    "    \n",
    "    JOIN education AS e ON p.id=e.person_id\n",
    "    \n",
    "    WHERE c.name = 'Facebook'\n",
    "    \n",
    "    GROUP BY person_id) AS a;"
   ]
  },
  {
   "cell_type": "markdown",
   "id": "e05cb641",
   "metadata": {},
   "source": [
    "![jupyter](./18.png)"
   ]
  },
  {
   "cell_type": "markdown",
   "id": "fbc7bf84",
   "metadata": {},
   "source": [
    "### 19.Составьте таблицу из полей:\n",
    " * **name_of_fund — название фонда;**\n",
    " * **name_of_company — название компании;**\n",
    " * **amount — сумма инвестиций, которую привлекла компания в раунде.**\n",
    " \n",
    "**В таблицу войдут данные о компаниях, в истории которых было больше шести важных этапов, а раунды финансирования проходили с 2012 по 2013 год включительно.**"
   ]
  },
  {
   "cell_type": "markdown",
   "id": "d71e21ce",
   "metadata": {},
   "source": [
    "SELECT DISTINCT f.name AS name_of_fund,\n",
    "\n",
    "                c.name AS name_of_company,\n",
    "                \n",
    "                fr.raised_amount AS amount\n",
    "                \n",
    "FROM investment i\n",
    "\n",
    "JOIN company c ON i.company_id = c.id\n",
    "\n",
    "JOIN fund f ON i.fund_id = f.id\n",
    "\n",
    "JOIN funding_round fr ON i.funding_round_id = fr.id\n",
    "\n",
    "WHERE c.milestones > 6\n",
    "\n",
    "  AND extract(YEAR\n",
    "  \n",
    "              FROM fr.funded_at::date) BETWEEN 2012 AND 2013;"
   ]
  },
  {
   "cell_type": "markdown",
   "id": "36f78245",
   "metadata": {},
   "source": [
    "![jupyter](./19.png)"
   ]
  },
  {
   "cell_type": "markdown",
   "id": "43062b82",
   "metadata": {},
   "source": [
    "### 20. Выгрузите таблицу, в которой будут такие поля:\n",
    " * **название компании-покупателя;**\n",
    " * **сумма сделки;**\n",
    " * **название компании, которую купили;**\n",
    " * **сумма инвестиций, вложенных в купленную компанию;**\n",
    " * **доля, которая отображает, во сколько раз сумма покупки превысила сумму вложенных в компанию инвестиций, округлённая до ближайшего целого числа.**\n",
    " \n",
    "**Не учитывайте те сделки, в которых сумма покупки равна нулю. Если сумма инвестиций в компанию равна нулю, исключите такую компанию из таблицы.**\n",
    "\n",
    "**Отсортируйте таблицу по сумме сделки от большей к меньшей, а затем по названию купленной компании в лексикографическом порядке. Ограничьте таблицу первыми десятью записями.**"
   ]
  },
  {
   "cell_type": "markdown",
   "id": "87e2a514",
   "metadata": {},
   "source": [
    "SELECT c.name AS acquiring_name,\n",
    "\n",
    "       a.price_amount,\n",
    "       \n",
    "       c1.name AS acquired_name,\n",
    "       \n",
    "       c1.funding_total,\n",
    "       \n",
    "       ROUND(a.price_amount/c1.funding_total)\n",
    "       \n",
    "FROM acquisition AS a\n",
    "\n",
    "LEFT JOIN company AS c ON a.acquiring_company_id = c.id\n",
    "\n",
    "LEFT JOIN company AS c1 ON a.acquired_company_id = c1.id\n",
    "\n",
    "WHERE a.price_amount > 0 AND c1.funding_total > 0\n",
    "\n",
    "ORDER BY a.price_amount DESC, c1.name\n",
    "\n",
    "LIMIT 10;"
   ]
  },
  {
   "cell_type": "markdown",
   "id": "096116a9",
   "metadata": {},
   "source": [
    "![jupyter](./20.png)"
   ]
  },
  {
   "cell_type": "markdown",
   "id": "084d5b63",
   "metadata": {},
   "source": [
    "### 21. Выгрузите таблицу, в которую войдут названия компаний из категории social, получившие финансирование с 2010 по 2013 год включительно. Проверьте, что сумма инвестиций не равна нулю. Выведите также номер месяца, в котором проходил раунд финансирования."
   ]
  },
  {
   "cell_type": "markdown",
   "id": "bf53a7dc",
   "metadata": {},
   "source": [
    "SELECT name,\n",
    "\n",
    "       EXTRACT(MONTH FROM fr.funded_at)\n",
    "    \n",
    "FROM company AS c\n",
    "\n",
    "LEFT OUTER JOIN funding_round AS fr ON fr.company_id = c.id\n",
    "\n",
    "WHERE fr.raised_amount <> 0\n",
    "\n",
    "AND EXTRACT(YEAR FROM fr.funded_at::date) BETWEEN 2010 AND 2013\n",
    "\n",
    "AND c.category_code = 'social';"
   ]
  },
  {
   "cell_type": "markdown",
   "id": "04dd01dd",
   "metadata": {},
   "source": [
    "![jupyter](./21.png)"
   ]
  },
  {
   "cell_type": "markdown",
   "id": "57eecf07",
   "metadata": {},
   "source": [
    "### 22. Отберите данные по месяцам с 2010 по 2013 год, когда проходили инвестиционные раунды. Сгруппируйте данные по номеру месяца и получите таблицу, в которой будут поля:\n",
    " * **номер месяца, в котором проходили раунды;**\n",
    " * **количество уникальных названий фондов из США, которые инвестировали в этом месяце;**\n",
    " * **количество компаний, купленных за этот месяц;**\n",
    " * **общая сумма сделок по покупкам в этом месяце.**"
   ]
  },
  {
   "cell_type": "markdown",
   "id": "23ac2da6",
   "metadata": {},
   "source": [
    "WITH ac AS (SELECT COUNT(acquired_company_id) AS count_acquired,\n",
    "\n",
    "                      SUM(price_amount) AS summa,\n",
    "                      \n",
    "                      EXTRACT(MONTH FROM acquired_at) AS month\n",
    "                      \n",
    "              FROM acquisition\n",
    "              \n",
    "              WHERE DATE_TRUNC('year', acquired_at) BETWEEN '2010.01.01' AND '2013.12.31'\n",
    "              \n",
    "              GROUP BY EXTRACT(MONTH FROM acquired_at)),\n",
    "              \n",
    "     fur AS (SELECT EXTRACT(MONTH FROM funded_at) AS month,\n",
    "     \n",
    "                    COUNT(DISTINCT i.fund_id) AS count_fund\n",
    "                    \n",
    "             FROM funding_round AS fr\n",
    "             \n",
    "             FULL JOIN investment AS i ON i.funding_round_id= fr.id\n",
    "             \n",
    "             FULL JOIN fund AS f ON f.id=i.fund_id\n",
    "             \n",
    "             WHERE DATE_TRUNC('year', funded_at) BETWEEN '2010.01.01' AND '2013.12.31'\n",
    "             \n",
    "                   AND f.country_code='USA'\n",
    "                   \n",
    "             GROUP BY EXTRACT(MONTH FROM funded_at))\n",
    "             \n",
    "SELECT ac.month AS month,\n",
    "\n",
    "       fur.count_fund AS funds,\n",
    "       \n",
    "       count_acquired AS companies,\n",
    "       \n",
    "       summa AS summa\n",
    "       \n",
    "FROM ac\n",
    "\n",
    "FULL JOIN fur ON ac.month=fur.month\n",
    "\n",
    "ORDER BY ac.month;"
   ]
  },
  {
   "cell_type": "markdown",
   "id": "1cf641e4",
   "metadata": {},
   "source": [
    "![jupyter](./22.png)"
   ]
  },
  {
   "cell_type": "markdown",
   "id": "e104dac1",
   "metadata": {},
   "source": [
    "### 23. Составьте сводную таблицу и выведите среднюю сумму инвестиций для стран, в которых есть стартапы, зарегистрированные в 2011, 2012 и 2013 годах. Данные за каждый год должны быть в отдельном поле. Отсортируйте таблицу по среднему значению инвестиций за 2011 год от большего к меньшему."
   ]
  },
  {
   "cell_type": "markdown",
   "id": "57fca720",
   "metadata": {},
   "source": [
    "WITH\n",
    "\n",
    "y11 AS\n",
    "\n",
    "   (SELECT country_code,\n",
    "   \n",
    "           AVG(funding_total) AS avg_2011\n",
    "           \n",
    "    FROM company\n",
    "    \n",
    "    WHERE EXTRACT(YEAR FROM founded_at)=2011\n",
    "    \n",
    "    GROUP BY country_code),\n",
    "    \n",
    "y12 AS\n",
    "\n",
    "   (SELECT country_code,\n",
    "   \n",
    "           AVG(funding_total) AS avg_2012\n",
    "           \n",
    "    FROM company\n",
    "    \n",
    "    WHERE EXTRACT(YEAR FROM founded_at)=2012\n",
    "    \n",
    "    GROUP BY country_code),\n",
    "    \n",
    "y13 AS\n",
    "\n",
    "   (SELECT country_code,\n",
    "   \n",
    "           AVG(funding_total) AS avg_2013\n",
    "           \n",
    "    FROM company\n",
    "    \n",
    "    WHERE EXTRACT(YEAR FROM founded_at)=2013\n",
    "    \n",
    "    GROUP BY country_code)\n",
    "    \n",
    "SELECT y11.country_code,\n",
    "\n",
    "       y11.avg_2011,\n",
    "       \n",
    "       y12.avg_2012,\n",
    "       \n",
    "       y13.avg_2013\n",
    "       \n",
    "FROM y11\n",
    "\n",
    "INNER JOIN y12 ON y11.country_code=y12.country_code\n",
    "\n",
    "INNER JOIN y13 ON y11.country_code=y13.country_code\n",
    "\n",
    "ORDER BY y11.avg_2011 DESC;"
   ]
  },
  {
   "cell_type": "markdown",
   "id": "87485c00",
   "metadata": {},
   "source": [
    "![jupyter](./23.png)"
   ]
  }
 ],
 "metadata": {
  "kernelspec": {
   "display_name": "Python 3 (ipykernel)",
   "language": "python",
   "name": "python3"
  },
  "language_info": {
   "codemirror_mode": {
    "name": "ipython",
    "version": 3
   },
   "file_extension": ".py",
   "mimetype": "text/x-python",
   "name": "python",
   "nbconvert_exporter": "python",
   "pygments_lexer": "ipython3",
   "version": "3.9.12"
  }
 },
 "nbformat": 4,
 "nbformat_minor": 5
}
