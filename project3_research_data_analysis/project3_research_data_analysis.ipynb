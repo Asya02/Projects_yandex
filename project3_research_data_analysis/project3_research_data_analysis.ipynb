{
 "cells": [
  {
   "cell_type": "markdown",
   "metadata": {},
   "source": [
    "# Исследование объявлений о продаже квартир\n",
    "\n",
    "В нашем распоряжении данные сервиса Яндекc Недвижимость — архив объявлений о продаже квартир в Санкт-Петербурге и соседних населённых пунктах за несколько лет. Нужно научиться определять рыночную стоимость объектов недвижимости. Задача — установить параметры. Это позволит построить автоматизированную систему: она отследит аномалии и мошенническую деятельность. \n",
    "\n",
    "По каждой квартире на продажу доступны два вида данных. Первые вписаны пользователем, вторые получены автоматически на основе картографических данных. Например, расстояние до центра, аэропорта, ближайшего парка и водоёма. \n"
   ]
  },
  {
   "cell_type": "markdown",
   "metadata": {},
   "source": [
    "Цель исследования -\n",
    "\n",
    " * Выяснить, сколько обычно занимает продажа.\n",
    " * Понять, какие факторы больше всего влияют на стоимость квартиры\n",
    " * Выделить населённые пункты с самой высокой и низкой стоимостью жилья\n",
    " * Выяснить, какая область входит в центр.\n",
    " * Выделить факторы, которые влияют на стоимость квартиры\n"
   ]
  },
  {
   "cell_type": "markdown",
   "metadata": {},
   "source": [
    "Ход исследования\n",
    "\n",
    " * Обзор данных.\n",
    " * Предобработка данных.\n",
    " * Расчёты и добавление результатов в таблицу.\n",
    " * Исследовательский анализ данных"
   ]
  },
  {
   "cell_type": "markdown",
   "metadata": {
    "toc": true
   },
   "source": [
    "<h1>Содержание<span class=\"tocSkip\"></span></h1>\n",
    "<div class=\"toc\"><ul class=\"toc-item\"><li><span><a href=\"#Обзор-данных\" data-toc-modified-id=\"Обзор-данных-1\"><span class=\"toc-item-num\">1&nbsp;&nbsp;</span>Обзор данных</a></span></li><li><span><a href=\"#Предобработка-данных\" data-toc-modified-id=\"Предобработка-данных-2\"><span class=\"toc-item-num\">2&nbsp;&nbsp;</span>Предобработка данных</a></span><ul class=\"toc-item\"><li><span><a href=\"#Переименование-столбцов\" data-toc-modified-id=\"Переименование-столбцов-2.1\"><span class=\"toc-item-num\">2.1&nbsp;&nbsp;</span>Переименование столбцов</a></span></li><li><span><a href=\"#Заполнение-пропусков\" data-toc-modified-id=\"Заполнение-пропусков-2.2\"><span class=\"toc-item-num\">2.2&nbsp;&nbsp;</span>Заполнение пропусков</a></span><ul class=\"toc-item\"><li><span><a href=\"#Замена-на-0\" data-toc-modified-id=\"Замена-на-0-2.2.1\"><span class=\"toc-item-num\">2.2.1&nbsp;&nbsp;</span>Замена на 0</a></span><ul class=\"toc-item\"><li><span><a href=\"#Cтолбeц-is_apartment\" data-toc-modified-id=\"Cтолбeц-is_apartment-2.2.1.1\"><span class=\"toc-item-num\">2.2.1.1&nbsp;&nbsp;</span>Cтолбeц is_apartment</a></span></li><li><span><a href=\"#Столбец-balcony\" data-toc-modified-id=\"Столбец-balcony-2.2.1.2\"><span class=\"toc-item-num\">2.2.1.2&nbsp;&nbsp;</span>Столбец balcony</a></span></li><li><span><a href=\"#Столбец-parks_around3000\" data-toc-modified-id=\"Столбец-parks_around3000-2.2.1.3\"><span class=\"toc-item-num\">2.2.1.3&nbsp;&nbsp;</span>Столбец parks_around3000</a></span></li><li><span><a href=\"#Столбец-ponds_around3000\" data-toc-modified-id=\"Столбец-ponds_around3000-2.2.1.4\"><span class=\"toc-item-num\">2.2.1.4&nbsp;&nbsp;</span>Столбец ponds_around3000</a></span></li></ul></li><li><span><a href=\"#Удаление-строк-с-пропусками\" data-toc-modified-id=\"Удаление-строк-с-пропусками-2.2.2\"><span class=\"toc-item-num\">2.2.2&nbsp;&nbsp;</span>Удаление строк с пропусками</a></span><ul class=\"toc-item\"><li><span><a href=\"#Столбец-floors_total\" data-toc-modified-id=\"Столбец-floors_total-2.2.2.1\"><span class=\"toc-item-num\">2.2.2.1&nbsp;&nbsp;</span>Столбец floors_total</a></span></li><li><span><a href=\"#Столбец-locality_name\" data-toc-modified-id=\"Столбец-locality_name-2.2.2.2\"><span class=\"toc-item-num\">2.2.2.2&nbsp;&nbsp;</span>Столбец locality_name</a></span></li></ul></li><li><span><a href=\"#Замена-нетипичными-значениями\" data-toc-modified-id=\"Замена-нетипичными-значениями-2.2.3\"><span class=\"toc-item-num\">2.2.3&nbsp;&nbsp;</span>Замена нетипичными значениями</a></span><ul class=\"toc-item\"><li><span><a href=\"#Столбец-airports_nearest\" data-toc-modified-id=\"Столбец-airports_nearest-2.2.3.1\"><span class=\"toc-item-num\">2.2.3.1&nbsp;&nbsp;</span>Столбец airports_nearest</a></span></li><li><span><a href=\"#Столбец-city_centers_nearest\" data-toc-modified-id=\"Столбец-city_centers_nearest-2.2.3.2\"><span class=\"toc-item-num\">2.2.3.2&nbsp;&nbsp;</span>Столбец city_centers_nearest</a></span></li><li><span><a href=\"#Столбец-parks_nearest\" data-toc-modified-id=\"Столбец-parks_nearest-2.2.3.3\"><span class=\"toc-item-num\">2.2.3.3&nbsp;&nbsp;</span>Столбец parks_nearest</a></span></li><li><span><a href=\"#Столбец-ponds_nearest\" data-toc-modified-id=\"Столбец-ponds_nearest-2.2.3.4\"><span class=\"toc-item-num\">2.2.3.4&nbsp;&nbsp;</span>Столбец ponds_nearest</a></span></li><li><span><a href=\"#Столбец-days_exposition\" data-toc-modified-id=\"Столбец-days_exposition-2.2.3.5\"><span class=\"toc-item-num\">2.2.3.5&nbsp;&nbsp;</span>Столбец days_exposition</a></span></li></ul></li></ul></li><li><span><a href=\"#Удаление-лишних-столбцов\" data-toc-modified-id=\"Удаление-лишних-столбцов-2.3\"><span class=\"toc-item-num\">2.3&nbsp;&nbsp;</span>Удаление лишних столбцов</a></span></li><li><span><a href=\"#Приведение-данных-к-нужным-типам\" data-toc-modified-id=\"Приведение-данных-к-нужным-типам-2.4\"><span class=\"toc-item-num\">2.4&nbsp;&nbsp;</span>Приведение данных к нужным типам</a></span><ul class=\"toc-item\"><li><span><a href=\"#Столбец-balcony\" data-toc-modified-id=\"Столбец-balcony-2.4.1\"><span class=\"toc-item-num\">2.4.1&nbsp;&nbsp;</span>Столбец balcony</a></span></li><li><span><a href=\"#Столбец-floors_total\" data-toc-modified-id=\"Столбец-floors_total-2.4.2\"><span class=\"toc-item-num\">2.4.2&nbsp;&nbsp;</span>Столбец floors_total</a></span></li><li><span><a href=\"#Столбец-parks_around3000\" data-toc-modified-id=\"Столбец-parks_around3000-2.4.3\"><span class=\"toc-item-num\">2.4.3&nbsp;&nbsp;</span>Столбец parks_around3000</a></span></li><li><span><a href=\"#Столбец-ponds_around3000\" data-toc-modified-id=\"Столбец-ponds_around3000-2.4.4\"><span class=\"toc-item-num\">2.4.4&nbsp;&nbsp;</span>Столбец ponds_around3000</a></span></li><li><span><a href=\"#Столбец-days_exposition\" data-toc-modified-id=\"Столбец-days_exposition-2.4.5\"><span class=\"toc-item-num\">2.4.5&nbsp;&nbsp;</span>Столбец days_exposition</a></span></li><li><span><a href=\"#Столбец-first_day_exposition\" data-toc-modified-id=\"Столбец-first_day_exposition-2.4.6\"><span class=\"toc-item-num\">2.4.6&nbsp;&nbsp;</span>Столбец first_day_exposition</a></span></li></ul></li><li><span><a href=\"#Обработка-пропусков-(продолжение)\" data-toc-modified-id=\"Обработка-пропусков-(продолжение)-2.5\"><span class=\"toc-item-num\">2.5&nbsp;&nbsp;</span>Обработка пропусков (продолжение)</a></span><ul class=\"toc-item\"><li><span><a href=\"#Столбец-living_area\" data-toc-modified-id=\"Столбец-living_area-2.5.1\"><span class=\"toc-item-num\">2.5.1&nbsp;&nbsp;</span>Столбец living_area</a></span></li><li><span><a href=\"#Столбец-kitchen_area\" data-toc-modified-id=\"Столбец-kitchen_area-2.5.2\"><span class=\"toc-item-num\">2.5.2&nbsp;&nbsp;</span>Столбец kitchen_area</a></span></li></ul></li></ul></li><li><span><a href=\"#Расчёты-и-добавление-результатов-в-таблицу\" data-toc-modified-id=\"Расчёты-и-добавление-результатов-в-таблицу-3\"><span class=\"toc-item-num\">3&nbsp;&nbsp;</span>Расчёты и добавление результатов в таблицу</a></span></li><li><span><a href=\"#Заполнение-пропусков-(продолжение)\" data-toc-modified-id=\"Заполнение-пропусков-(продолжение)-4\"><span class=\"toc-item-num\">4&nbsp;&nbsp;</span>Заполнение пропусков (продолжение)</a></span><ul class=\"toc-item\"><li><span><a href=\"#Столбец-ceiling_height\" data-toc-modified-id=\"Столбец-ceiling_height-4.1\"><span class=\"toc-item-num\">4.1&nbsp;&nbsp;</span>Столбец ceiling_height</a></span></li></ul></li><li><span><a href=\"#Расчёты-и-добавление-результатов-в-таблицу\" data-toc-modified-id=\"Расчёты-и-добавление-результатов-в-таблицу-5\"><span class=\"toc-item-num\">5&nbsp;&nbsp;</span>Расчёты и добавление результатов в таблицу</a></span></li><li><span><a href=\"#Исследовательский-анализ-данных\" data-toc-modified-id=\"Исследовательский-анализ-данных-6\"><span class=\"toc-item-num\">6&nbsp;&nbsp;</span>Исследовательский анализ данных</a></span><ul class=\"toc-item\"><li><span><a href=\"#Изучение-основных-параметров\" data-toc-modified-id=\"Изучение-основных-параметров-6.1\"><span class=\"toc-item-num\">6.1&nbsp;&nbsp;</span>Изучение основных параметров</a></span><ul class=\"toc-item\"><li><span><a href=\"#Столбец-total_area\" data-toc-modified-id=\"Столбец-total_area-6.1.1\"><span class=\"toc-item-num\">6.1.1&nbsp;&nbsp;</span>Столбец total_area</a></span></li><li><span><a href=\"#Столбец-last_price\" data-toc-modified-id=\"Столбец-last_price-6.1.2\"><span class=\"toc-item-num\">6.1.2&nbsp;&nbsp;</span>Столбец last_price</a></span></li><li><span><a href=\"#Столбец-rooms\" data-toc-modified-id=\"Столбец-rooms-6.1.3\"><span class=\"toc-item-num\">6.1.3&nbsp;&nbsp;</span>Столбец rooms</a></span></li><li><span><a href=\"#Столбец-ceiling_height\" data-toc-modified-id=\"Столбец-ceiling_height-6.1.4\"><span class=\"toc-item-num\">6.1.4&nbsp;&nbsp;</span>Столбец ceiling_height</a></span></li></ul></li><li><span><a href=\"#Изучение-времени-продажи-квартиры\" data-toc-modified-id=\"Изучение-времени-продажи-квартиры-6.2\"><span class=\"toc-item-num\">6.2&nbsp;&nbsp;</span>Изучение времени продажи квартиры</a></span></li><li><span><a href=\"#Какие-факторы-больше-всего-влияют-на-стоимость-квартиры\" data-toc-modified-id=\"Какие-факторы-больше-всего-влияют-на-стоимость-квартиры-6.3\"><span class=\"toc-item-num\">6.3&nbsp;&nbsp;</span>Какие факторы больше всего влияют на стоимость квартиры</a></span><ul class=\"toc-item\"><li><span><a href=\"#Зависимость-цены-от-площади\" data-toc-modified-id=\"Зависимость-цены-от-площади-6.3.1\"><span class=\"toc-item-num\">6.3.1&nbsp;&nbsp;</span>Зависимость цены от площади</a></span></li><li><span><a href=\"#Зависимость-цены-от-числа-комнат\" data-toc-modified-id=\"Зависимость-цены-от-числа-комнат-6.3.2\"><span class=\"toc-item-num\">6.3.2&nbsp;&nbsp;</span>Зависимость цены от числа комнат</a></span></li><li><span><a href=\"#Зависимость-цены-от-удалённости-от-центра\" data-toc-modified-id=\"Зависимость-цены-от-удалённости-от-центра-6.3.3\"><span class=\"toc-item-num\">6.3.3&nbsp;&nbsp;</span>Зависимость цены от удалённости от центра</a></span></li><li><span><a href=\"#Зависимость-цены-от-этажа\" data-toc-modified-id=\"Зависимость-цены-от-этажа-6.3.4\"><span class=\"toc-item-num\">6.3.4&nbsp;&nbsp;</span>Зависимость цены от этажа</a></span></li><li><span><a href=\"#Зависимость-от-дня-размещения\" data-toc-modified-id=\"Зависимость-от-дня-размещения-6.3.5\"><span class=\"toc-item-num\">6.3.5&nbsp;&nbsp;</span>Зависимость от дня размещения</a></span></li><li><span><a href=\"#Зависимость-от-месяца-размещения\" data-toc-modified-id=\"Зависимость-от-месяца-размещения-6.3.6\"><span class=\"toc-item-num\">6.3.6&nbsp;&nbsp;</span>Зависимость от месяца размещения</a></span></li><li><span><a href=\"#Зависимость-от-года-размещения\" data-toc-modified-id=\"Зависимость-от-года-размещения-6.3.7\"><span class=\"toc-item-num\">6.3.7&nbsp;&nbsp;</span>Зависимость от года размещения</a></span></li></ul></li><li><span><a href=\"#Сравнение-средней-стоимости-квадратного-метра-в-топ-10-городов\" data-toc-modified-id=\"Сравнение-средней-стоимости-квадратного-метра-в-топ-10-городов-6.4\"><span class=\"toc-item-num\">6.4&nbsp;&nbsp;</span>Сравнение средней стоимости квадратного метра в топ-10 городов</a></span></li><li><span><a href=\"#Определение-границы-центра\" data-toc-modified-id=\"Определение-границы-центра-6.5\"><span class=\"toc-item-num\">6.5&nbsp;&nbsp;</span>Определение границы центра</a></span></li><li><span><a href=\"#Анализ-сегмента-квартир-в-центре\" data-toc-modified-id=\"Анализ-сегмента-квартир-в-центре-6.6\"><span class=\"toc-item-num\">6.6&nbsp;&nbsp;</span>Анализ сегмента квартир в центре</a></span><ul class=\"toc-item\"><li><span><a href=\"#Анализ-площади\" data-toc-modified-id=\"Анализ-площади-6.6.1\"><span class=\"toc-item-num\">6.6.1&nbsp;&nbsp;</span>Анализ площади</a></span></li><li><span><a href=\"#Анализ-цены\" data-toc-modified-id=\"Анализ-цены-6.6.2\"><span class=\"toc-item-num\">6.6.2&nbsp;&nbsp;</span>Анализ цены</a></span></li><li><span><a href=\"#Анализ-количества-комнат\" data-toc-modified-id=\"Анализ-количества-комнат-6.6.3\"><span class=\"toc-item-num\">6.6.3&nbsp;&nbsp;</span>Анализ количества комнат</a></span></li><li><span><a href=\"#Анализ-высоты-потолков\" data-toc-modified-id=\"Анализ-высоты-потолков-6.6.4\"><span class=\"toc-item-num\">6.6.4&nbsp;&nbsp;</span>Анализ высоты потолков</a></span></li><li><span><a href=\"#Выделение-факторов,-влияющих-на-стоимость-квартиры-в-центре\" data-toc-modified-id=\"Выделение-факторов,-влияющих-на-стоимость-квартиры-в-центре-6.6.5\"><span class=\"toc-item-num\">6.6.5&nbsp;&nbsp;</span>Выделение факторов, влияющих на стоимость квартиры в центре</a></span><ul class=\"toc-item\"><li><span><a href=\"#Число-комнат\" data-toc-modified-id=\"Число-комнат-6.6.5.1\"><span class=\"toc-item-num\">6.6.5.1&nbsp;&nbsp;</span>Число комнат</a></span></li><li><span><a href=\"#Этаж\" data-toc-modified-id=\"Этаж-6.6.5.2\"><span class=\"toc-item-num\">6.6.5.2&nbsp;&nbsp;</span>Этаж</a></span></li><li><span><a href=\"#Удалённость-от-центра\" data-toc-modified-id=\"Удалённость-от-центра-6.6.5.3\"><span class=\"toc-item-num\">6.6.5.3&nbsp;&nbsp;</span>Удалённость от центра</a></span></li><li><span><a href=\"#День-недели-размещения-объявления\" data-toc-modified-id=\"День-недели-размещения-объявления-6.6.5.4\"><span class=\"toc-item-num\">6.6.5.4&nbsp;&nbsp;</span>День недели размещения объявления</a></span></li><li><span><a href=\"#Месяц-размещения-объявления\" data-toc-modified-id=\"Месяц-размещения-объявления-6.6.5.5\"><span class=\"toc-item-num\">6.6.5.5&nbsp;&nbsp;</span>Месяц размещения объявления</a></span></li><li><span><a href=\"#Год-размещения-объявления\" data-toc-modified-id=\"Год-размещения-объявления-6.6.5.6\"><span class=\"toc-item-num\">6.6.5.6&nbsp;&nbsp;</span>Год размещения объявления</a></span></li></ul></li></ul></li></ul></li><li><span><a href=\"#Общий-вывод\" data-toc-modified-id=\"Общий-вывод-7\"><span class=\"toc-item-num\">7&nbsp;&nbsp;</span>Общий вывод</a></span></li><li><span><a href=\"#Чек-лист-готовности-проекта\" data-toc-modified-id=\"Чек-лист-готовности-проекта-8\"><span class=\"toc-item-num\">8&nbsp;&nbsp;</span>Чек-лист готовности проекта</a></span></li></ul></div>"
   ]
  },
  {
   "cell_type": "markdown",
   "metadata": {},
   "source": [
    "## Обзор данных"
   ]
  },
  {
   "cell_type": "markdown",
   "metadata": {},
   "source": [
    "Составим первое представление о данных с помощью средств pandas. Так же в ходе работы нам потребуются средства библиотек matplotlib и seaborn. "
   ]
  },
  {
   "cell_type": "code",
   "execution_count": 309,
   "metadata": {},
   "outputs": [],
   "source": [
    "# импорт библиотек pandas, matplotlib и seaborn\n",
    "import pandas as pd\n",
    "import matplotlib.pyplot as plt\n",
    "import seaborn as sns"
   ]
  },
  {
   "cell_type": "markdown",
   "metadata": {},
   "source": [
    "Выгрузим данные в csv-файл."
   ]
  },
  {
   "cell_type": "code",
   "execution_count": 310,
   "metadata": {},
   "outputs": [],
   "source": [
    "# чтение файла с данными и сохранение в df\n",
    "df = pd.read_csv('/datasets/real_estate_data.csv', sep='\\t')"
   ]
  },
  {
   "cell_type": "markdown",
   "metadata": {},
   "source": [
    "Посмотрим первые 10 строк таблицы"
   ]
  },
  {
   "cell_type": "code",
   "execution_count": 312,
   "metadata": {},
   "outputs": [
    {
     "data": {
      "text/html": [
       "<div>\n",
       "<style scoped>\n",
       "    .dataframe tbody tr th:only-of-type {\n",
       "        vertical-align: middle;\n",
       "    }\n",
       "\n",
       "    .dataframe tbody tr th {\n",
       "        vertical-align: top;\n",
       "    }\n",
       "\n",
       "    .dataframe thead th {\n",
       "        text-align: right;\n",
       "    }\n",
       "</style>\n",
       "<table border=\"1\" class=\"dataframe\">\n",
       "  <thead>\n",
       "    <tr style=\"text-align: right;\">\n",
       "      <th></th>\n",
       "      <th>total_images</th>\n",
       "      <th>last_price</th>\n",
       "      <th>total_area</th>\n",
       "      <th>first_day_exposition</th>\n",
       "      <th>rooms</th>\n",
       "      <th>ceiling_height</th>\n",
       "      <th>floors_total</th>\n",
       "      <th>living_area</th>\n",
       "      <th>floor</th>\n",
       "      <th>is_apartment</th>\n",
       "      <th>...</th>\n",
       "      <th>kitchen_area</th>\n",
       "      <th>balcony</th>\n",
       "      <th>locality_name</th>\n",
       "      <th>airports_nearest</th>\n",
       "      <th>cityCenters_nearest</th>\n",
       "      <th>parks_around3000</th>\n",
       "      <th>parks_nearest</th>\n",
       "      <th>ponds_around3000</th>\n",
       "      <th>ponds_nearest</th>\n",
       "      <th>days_exposition</th>\n",
       "    </tr>\n",
       "  </thead>\n",
       "  <tbody>\n",
       "    <tr>\n",
       "      <th>0</th>\n",
       "      <td>20</td>\n",
       "      <td>13000000.0</td>\n",
       "      <td>108.00</td>\n",
       "      <td>2019-03-07T00:00:00</td>\n",
       "      <td>3</td>\n",
       "      <td>2.70</td>\n",
       "      <td>16.0</td>\n",
       "      <td>51.00</td>\n",
       "      <td>8</td>\n",
       "      <td>NaN</td>\n",
       "      <td>...</td>\n",
       "      <td>25.00</td>\n",
       "      <td>NaN</td>\n",
       "      <td>Санкт-Петербург</td>\n",
       "      <td>18863.0</td>\n",
       "      <td>16028.0</td>\n",
       "      <td>1.0</td>\n",
       "      <td>482.0</td>\n",
       "      <td>2.0</td>\n",
       "      <td>755.0</td>\n",
       "      <td>NaN</td>\n",
       "    </tr>\n",
       "    <tr>\n",
       "      <th>1</th>\n",
       "      <td>7</td>\n",
       "      <td>3350000.0</td>\n",
       "      <td>40.40</td>\n",
       "      <td>2018-12-04T00:00:00</td>\n",
       "      <td>1</td>\n",
       "      <td>NaN</td>\n",
       "      <td>11.0</td>\n",
       "      <td>18.60</td>\n",
       "      <td>1</td>\n",
       "      <td>NaN</td>\n",
       "      <td>...</td>\n",
       "      <td>11.00</td>\n",
       "      <td>2.0</td>\n",
       "      <td>посёлок Шушары</td>\n",
       "      <td>12817.0</td>\n",
       "      <td>18603.0</td>\n",
       "      <td>0.0</td>\n",
       "      <td>NaN</td>\n",
       "      <td>0.0</td>\n",
       "      <td>NaN</td>\n",
       "      <td>81.0</td>\n",
       "    </tr>\n",
       "    <tr>\n",
       "      <th>2</th>\n",
       "      <td>10</td>\n",
       "      <td>5196000.0</td>\n",
       "      <td>56.00</td>\n",
       "      <td>2015-08-20T00:00:00</td>\n",
       "      <td>2</td>\n",
       "      <td>NaN</td>\n",
       "      <td>5.0</td>\n",
       "      <td>34.30</td>\n",
       "      <td>4</td>\n",
       "      <td>NaN</td>\n",
       "      <td>...</td>\n",
       "      <td>8.30</td>\n",
       "      <td>0.0</td>\n",
       "      <td>Санкт-Петербург</td>\n",
       "      <td>21741.0</td>\n",
       "      <td>13933.0</td>\n",
       "      <td>1.0</td>\n",
       "      <td>90.0</td>\n",
       "      <td>2.0</td>\n",
       "      <td>574.0</td>\n",
       "      <td>558.0</td>\n",
       "    </tr>\n",
       "    <tr>\n",
       "      <th>3</th>\n",
       "      <td>0</td>\n",
       "      <td>64900000.0</td>\n",
       "      <td>159.00</td>\n",
       "      <td>2015-07-24T00:00:00</td>\n",
       "      <td>3</td>\n",
       "      <td>NaN</td>\n",
       "      <td>14.0</td>\n",
       "      <td>NaN</td>\n",
       "      <td>9</td>\n",
       "      <td>NaN</td>\n",
       "      <td>...</td>\n",
       "      <td>NaN</td>\n",
       "      <td>0.0</td>\n",
       "      <td>Санкт-Петербург</td>\n",
       "      <td>28098.0</td>\n",
       "      <td>6800.0</td>\n",
       "      <td>2.0</td>\n",
       "      <td>84.0</td>\n",
       "      <td>3.0</td>\n",
       "      <td>234.0</td>\n",
       "      <td>424.0</td>\n",
       "    </tr>\n",
       "    <tr>\n",
       "      <th>4</th>\n",
       "      <td>2</td>\n",
       "      <td>10000000.0</td>\n",
       "      <td>100.00</td>\n",
       "      <td>2018-06-19T00:00:00</td>\n",
       "      <td>2</td>\n",
       "      <td>3.03</td>\n",
       "      <td>14.0</td>\n",
       "      <td>32.00</td>\n",
       "      <td>13</td>\n",
       "      <td>NaN</td>\n",
       "      <td>...</td>\n",
       "      <td>41.00</td>\n",
       "      <td>NaN</td>\n",
       "      <td>Санкт-Петербург</td>\n",
       "      <td>31856.0</td>\n",
       "      <td>8098.0</td>\n",
       "      <td>2.0</td>\n",
       "      <td>112.0</td>\n",
       "      <td>1.0</td>\n",
       "      <td>48.0</td>\n",
       "      <td>121.0</td>\n",
       "    </tr>\n",
       "    <tr>\n",
       "      <th>5</th>\n",
       "      <td>10</td>\n",
       "      <td>2890000.0</td>\n",
       "      <td>30.40</td>\n",
       "      <td>2018-09-10T00:00:00</td>\n",
       "      <td>1</td>\n",
       "      <td>NaN</td>\n",
       "      <td>12.0</td>\n",
       "      <td>14.40</td>\n",
       "      <td>5</td>\n",
       "      <td>NaN</td>\n",
       "      <td>...</td>\n",
       "      <td>9.10</td>\n",
       "      <td>NaN</td>\n",
       "      <td>городской посёлок Янино-1</td>\n",
       "      <td>NaN</td>\n",
       "      <td>NaN</td>\n",
       "      <td>NaN</td>\n",
       "      <td>NaN</td>\n",
       "      <td>NaN</td>\n",
       "      <td>NaN</td>\n",
       "      <td>55.0</td>\n",
       "    </tr>\n",
       "    <tr>\n",
       "      <th>6</th>\n",
       "      <td>6</td>\n",
       "      <td>3700000.0</td>\n",
       "      <td>37.30</td>\n",
       "      <td>2017-11-02T00:00:00</td>\n",
       "      <td>1</td>\n",
       "      <td>NaN</td>\n",
       "      <td>26.0</td>\n",
       "      <td>10.60</td>\n",
       "      <td>6</td>\n",
       "      <td>NaN</td>\n",
       "      <td>...</td>\n",
       "      <td>14.40</td>\n",
       "      <td>1.0</td>\n",
       "      <td>посёлок Парголово</td>\n",
       "      <td>52996.0</td>\n",
       "      <td>19143.0</td>\n",
       "      <td>0.0</td>\n",
       "      <td>NaN</td>\n",
       "      <td>0.0</td>\n",
       "      <td>NaN</td>\n",
       "      <td>155.0</td>\n",
       "    </tr>\n",
       "    <tr>\n",
       "      <th>7</th>\n",
       "      <td>5</td>\n",
       "      <td>7915000.0</td>\n",
       "      <td>71.60</td>\n",
       "      <td>2019-04-18T00:00:00</td>\n",
       "      <td>2</td>\n",
       "      <td>NaN</td>\n",
       "      <td>24.0</td>\n",
       "      <td>NaN</td>\n",
       "      <td>22</td>\n",
       "      <td>NaN</td>\n",
       "      <td>...</td>\n",
       "      <td>18.90</td>\n",
       "      <td>2.0</td>\n",
       "      <td>Санкт-Петербург</td>\n",
       "      <td>23982.0</td>\n",
       "      <td>11634.0</td>\n",
       "      <td>0.0</td>\n",
       "      <td>NaN</td>\n",
       "      <td>0.0</td>\n",
       "      <td>NaN</td>\n",
       "      <td>NaN</td>\n",
       "    </tr>\n",
       "    <tr>\n",
       "      <th>8</th>\n",
       "      <td>20</td>\n",
       "      <td>2900000.0</td>\n",
       "      <td>33.16</td>\n",
       "      <td>2018-05-23T00:00:00</td>\n",
       "      <td>1</td>\n",
       "      <td>NaN</td>\n",
       "      <td>27.0</td>\n",
       "      <td>15.43</td>\n",
       "      <td>26</td>\n",
       "      <td>NaN</td>\n",
       "      <td>...</td>\n",
       "      <td>8.81</td>\n",
       "      <td>NaN</td>\n",
       "      <td>посёлок Мурино</td>\n",
       "      <td>NaN</td>\n",
       "      <td>NaN</td>\n",
       "      <td>NaN</td>\n",
       "      <td>NaN</td>\n",
       "      <td>NaN</td>\n",
       "      <td>NaN</td>\n",
       "      <td>189.0</td>\n",
       "    </tr>\n",
       "    <tr>\n",
       "      <th>9</th>\n",
       "      <td>18</td>\n",
       "      <td>5400000.0</td>\n",
       "      <td>61.00</td>\n",
       "      <td>2017-02-26T00:00:00</td>\n",
       "      <td>3</td>\n",
       "      <td>2.50</td>\n",
       "      <td>9.0</td>\n",
       "      <td>43.60</td>\n",
       "      <td>7</td>\n",
       "      <td>NaN</td>\n",
       "      <td>...</td>\n",
       "      <td>6.50</td>\n",
       "      <td>2.0</td>\n",
       "      <td>Санкт-Петербург</td>\n",
       "      <td>50898.0</td>\n",
       "      <td>15008.0</td>\n",
       "      <td>0.0</td>\n",
       "      <td>NaN</td>\n",
       "      <td>0.0</td>\n",
       "      <td>NaN</td>\n",
       "      <td>289.0</td>\n",
       "    </tr>\n",
       "  </tbody>\n",
       "</table>\n",
       "<p>10 rows × 22 columns</p>\n",
       "</div>"
      ],
      "text/plain": [
       "   total_images  last_price  total_area first_day_exposition  rooms  \\\n",
       "0            20  13000000.0      108.00  2019-03-07T00:00:00      3   \n",
       "1             7   3350000.0       40.40  2018-12-04T00:00:00      1   \n",
       "2            10   5196000.0       56.00  2015-08-20T00:00:00      2   \n",
       "3             0  64900000.0      159.00  2015-07-24T00:00:00      3   \n",
       "4             2  10000000.0      100.00  2018-06-19T00:00:00      2   \n",
       "5            10   2890000.0       30.40  2018-09-10T00:00:00      1   \n",
       "6             6   3700000.0       37.30  2017-11-02T00:00:00      1   \n",
       "7             5   7915000.0       71.60  2019-04-18T00:00:00      2   \n",
       "8            20   2900000.0       33.16  2018-05-23T00:00:00      1   \n",
       "9            18   5400000.0       61.00  2017-02-26T00:00:00      3   \n",
       "\n",
       "   ceiling_height  floors_total  living_area  floor is_apartment  ...  \\\n",
       "0            2.70          16.0        51.00      8          NaN  ...   \n",
       "1             NaN          11.0        18.60      1          NaN  ...   \n",
       "2             NaN           5.0        34.30      4          NaN  ...   \n",
       "3             NaN          14.0          NaN      9          NaN  ...   \n",
       "4            3.03          14.0        32.00     13          NaN  ...   \n",
       "5             NaN          12.0        14.40      5          NaN  ...   \n",
       "6             NaN          26.0        10.60      6          NaN  ...   \n",
       "7             NaN          24.0          NaN     22          NaN  ...   \n",
       "8             NaN          27.0        15.43     26          NaN  ...   \n",
       "9            2.50           9.0        43.60      7          NaN  ...   \n",
       "\n",
       "   kitchen_area  balcony              locality_name  airports_nearest  \\\n",
       "0         25.00      NaN            Санкт-Петербург           18863.0   \n",
       "1         11.00      2.0             посёлок Шушары           12817.0   \n",
       "2          8.30      0.0            Санкт-Петербург           21741.0   \n",
       "3           NaN      0.0            Санкт-Петербург           28098.0   \n",
       "4         41.00      NaN            Санкт-Петербург           31856.0   \n",
       "5          9.10      NaN  городской посёлок Янино-1               NaN   \n",
       "6         14.40      1.0          посёлок Парголово           52996.0   \n",
       "7         18.90      2.0            Санкт-Петербург           23982.0   \n",
       "8          8.81      NaN             посёлок Мурино               NaN   \n",
       "9          6.50      2.0            Санкт-Петербург           50898.0   \n",
       "\n",
       "  cityCenters_nearest  parks_around3000  parks_nearest  ponds_around3000  \\\n",
       "0             16028.0               1.0          482.0               2.0   \n",
       "1             18603.0               0.0            NaN               0.0   \n",
       "2             13933.0               1.0           90.0               2.0   \n",
       "3              6800.0               2.0           84.0               3.0   \n",
       "4              8098.0               2.0          112.0               1.0   \n",
       "5                 NaN               NaN            NaN               NaN   \n",
       "6             19143.0               0.0            NaN               0.0   \n",
       "7             11634.0               0.0            NaN               0.0   \n",
       "8                 NaN               NaN            NaN               NaN   \n",
       "9             15008.0               0.0            NaN               0.0   \n",
       "\n",
       "   ponds_nearest  days_exposition  \n",
       "0          755.0              NaN  \n",
       "1            NaN             81.0  \n",
       "2          574.0            558.0  \n",
       "3          234.0            424.0  \n",
       "4           48.0            121.0  \n",
       "5            NaN             55.0  \n",
       "6            NaN            155.0  \n",
       "7            NaN              NaN  \n",
       "8            NaN            189.0  \n",
       "9            NaN            289.0  \n",
       "\n",
       "[10 rows x 22 columns]"
      ]
     },
     "execution_count": 312,
     "metadata": {},
     "output_type": "execute_result"
    }
   ],
   "source": [
    "# получение первых 10 строк таблицы df\n",
    "df.head(10)"
   ]
  },
  {
   "cell_type": "markdown",
   "metadata": {},
   "source": [
    "При первичном просмотре данных, можно обратить внимание на большое количество пропусков в таблице."
   ]
  },
  {
   "cell_type": "markdown",
   "metadata": {},
   "source": [
    "Продолжим изучать данные. Теперь посмотрим общую информацию о таблице."
   ]
  },
  {
   "cell_type": "code",
   "execution_count": 313,
   "metadata": {
    "scrolled": false
   },
   "outputs": [
    {
     "name": "stdout",
     "output_type": "stream",
     "text": [
      "<class 'pandas.core.frame.DataFrame'>\n",
      "RangeIndex: 23699 entries, 0 to 23698\n",
      "Data columns (total 22 columns):\n",
      " #   Column                Non-Null Count  Dtype  \n",
      "---  ------                --------------  -----  \n",
      " 0   total_images          23699 non-null  int64  \n",
      " 1   last_price            23699 non-null  float64\n",
      " 2   total_area            23699 non-null  float64\n",
      " 3   first_day_exposition  23699 non-null  object \n",
      " 4   rooms                 23699 non-null  int64  \n",
      " 5   ceiling_height        14504 non-null  float64\n",
      " 6   floors_total          23613 non-null  float64\n",
      " 7   living_area           21796 non-null  float64\n",
      " 8   floor                 23699 non-null  int64  \n",
      " 9   is_apartment          2775 non-null   object \n",
      " 10  studio                23699 non-null  bool   \n",
      " 11  open_plan             23699 non-null  bool   \n",
      " 12  kitchen_area          21421 non-null  float64\n",
      " 13  balcony               12180 non-null  float64\n",
      " 14  locality_name         23650 non-null  object \n",
      " 15  airports_nearest      18157 non-null  float64\n",
      " 16  cityCenters_nearest   18180 non-null  float64\n",
      " 17  parks_around3000      18181 non-null  float64\n",
      " 18  parks_nearest         8079 non-null   float64\n",
      " 19  ponds_around3000      18181 non-null  float64\n",
      " 20  ponds_nearest         9110 non-null   float64\n",
      " 21  days_exposition       20518 non-null  float64\n",
      "dtypes: bool(2), float64(14), int64(3), object(3)\n",
      "memory usage: 3.7+ MB\n"
     ]
    }
   ],
   "source": [
    "# получение общей информации о данных в таблице df\n",
    "df.info()"
   ]
  },
  {
   "cell_type": "markdown",
   "metadata": {},
   "source": [
    "Итак, в таблица состоит из 22 столбцов.\n",
    "\n",
    "Опираясь на документацию к данным и общую информацию о таблице можно сказать, что\n",
    " * total_images - число фотографий квартиры в объявлении - тип данных int\n",
    " * last_price - цена на момент снятия с публикации  - тип данных float\n",
    " * total_area - площадь квартиры в квадратных метрах (м²) - тип данных float\n",
    " * first_day_exposition - дата публикации - тип данных object\n",
    " * rooms - число комнат - тип данных int\n",
    " * ceiling_height - высота потолков - тип данных float\n",
    " * floors_total - всего этажей в доме - тип данных float\n",
    " * living_area - жилая площадь в квадратных метрах (м²) - тип данных float\n",
    " * floor - этаж - тип данных int\n",
    " * is_apartment - апартаменты (булев тип) - тип данных object\n",
    " * studio - квартира-студия (булев тип) - тип данных bool\n",
    " * open_plan - свободная планировка (булев тип) - тип данных bool\n",
    " * kitchen_area - площадь кухни в квадратных метрах (м²) - тип данных float\n",
    " * balcony - число балконов - тип данных float\n",
    " * locality_name - название населённого пункта - тип данных object\n",
    " * airports_nearest - расстояние до ближайшего аэропорта в метрах (м) - тип данных float\n",
    " * cityCenters_nearest расстояние до центра города (м) - тип данных float\n",
    " * parks_around3000 - число парков в радиусе 3 км - тип данных float\n",
    " * parks_nearest - расстояние до ближайшего парка (м) - тип данных float\n",
    " * ponds_around3000 - число водоёмов в радиусе 3 км - тип данных float\n",
    " * ponds_nearest - расстояние до ближайшего водоёма (м) - тип данных float\n",
    " * days_exposition - сколько дней было размещено объявление (от публикации до снятия) - тип данных float"
   ]
  },
  {
   "cell_type": "markdown",
   "metadata": {},
   "source": [
    "Получим больше информации при помощи метода describe(), посмотрим на разброс значений по столбцам"
   ]
  },
  {
   "cell_type": "code",
   "execution_count": 314,
   "metadata": {},
   "outputs": [
    {
     "data": {
      "text/html": [
       "<div>\n",
       "<style scoped>\n",
       "    .dataframe tbody tr th:only-of-type {\n",
       "        vertical-align: middle;\n",
       "    }\n",
       "\n",
       "    .dataframe tbody tr th {\n",
       "        vertical-align: top;\n",
       "    }\n",
       "\n",
       "    .dataframe thead th {\n",
       "        text-align: right;\n",
       "    }\n",
       "</style>\n",
       "<table border=\"1\" class=\"dataframe\">\n",
       "  <thead>\n",
       "    <tr style=\"text-align: right;\">\n",
       "      <th></th>\n",
       "      <th>total_images</th>\n",
       "      <th>last_price</th>\n",
       "      <th>total_area</th>\n",
       "      <th>rooms</th>\n",
       "      <th>ceiling_height</th>\n",
       "      <th>floors_total</th>\n",
       "      <th>living_area</th>\n",
       "      <th>floor</th>\n",
       "      <th>kitchen_area</th>\n",
       "      <th>balcony</th>\n",
       "      <th>airports_nearest</th>\n",
       "      <th>cityCenters_nearest</th>\n",
       "      <th>parks_around3000</th>\n",
       "      <th>parks_nearest</th>\n",
       "      <th>ponds_around3000</th>\n",
       "      <th>ponds_nearest</th>\n",
       "      <th>days_exposition</th>\n",
       "    </tr>\n",
       "  </thead>\n",
       "  <tbody>\n",
       "    <tr>\n",
       "      <th>count</th>\n",
       "      <td>23699.000000</td>\n",
       "      <td>2.369900e+04</td>\n",
       "      <td>23699.000000</td>\n",
       "      <td>23699.000000</td>\n",
       "      <td>14504.000000</td>\n",
       "      <td>23613.000000</td>\n",
       "      <td>21796.000000</td>\n",
       "      <td>23699.000000</td>\n",
       "      <td>21421.000000</td>\n",
       "      <td>12180.000000</td>\n",
       "      <td>18157.000000</td>\n",
       "      <td>18180.000000</td>\n",
       "      <td>18181.000000</td>\n",
       "      <td>8079.000000</td>\n",
       "      <td>18181.000000</td>\n",
       "      <td>9110.000000</td>\n",
       "      <td>20518.000000</td>\n",
       "    </tr>\n",
       "    <tr>\n",
       "      <th>mean</th>\n",
       "      <td>9.858475</td>\n",
       "      <td>6.541549e+06</td>\n",
       "      <td>60.348651</td>\n",
       "      <td>2.070636</td>\n",
       "      <td>2.771499</td>\n",
       "      <td>10.673824</td>\n",
       "      <td>34.457852</td>\n",
       "      <td>5.892358</td>\n",
       "      <td>10.569807</td>\n",
       "      <td>1.150082</td>\n",
       "      <td>28793.672193</td>\n",
       "      <td>14191.277833</td>\n",
       "      <td>0.611408</td>\n",
       "      <td>490.804555</td>\n",
       "      <td>0.770255</td>\n",
       "      <td>517.980900</td>\n",
       "      <td>180.888634</td>\n",
       "    </tr>\n",
       "    <tr>\n",
       "      <th>std</th>\n",
       "      <td>5.682529</td>\n",
       "      <td>1.088701e+07</td>\n",
       "      <td>35.654083</td>\n",
       "      <td>1.078405</td>\n",
       "      <td>1.261056</td>\n",
       "      <td>6.597173</td>\n",
       "      <td>22.030445</td>\n",
       "      <td>4.885249</td>\n",
       "      <td>5.905438</td>\n",
       "      <td>1.071300</td>\n",
       "      <td>12630.880622</td>\n",
       "      <td>8608.386210</td>\n",
       "      <td>0.802074</td>\n",
       "      <td>342.317995</td>\n",
       "      <td>0.938346</td>\n",
       "      <td>277.720643</td>\n",
       "      <td>219.727988</td>\n",
       "    </tr>\n",
       "    <tr>\n",
       "      <th>min</th>\n",
       "      <td>0.000000</td>\n",
       "      <td>1.219000e+04</td>\n",
       "      <td>12.000000</td>\n",
       "      <td>0.000000</td>\n",
       "      <td>1.000000</td>\n",
       "      <td>1.000000</td>\n",
       "      <td>2.000000</td>\n",
       "      <td>1.000000</td>\n",
       "      <td>1.300000</td>\n",
       "      <td>0.000000</td>\n",
       "      <td>0.000000</td>\n",
       "      <td>181.000000</td>\n",
       "      <td>0.000000</td>\n",
       "      <td>1.000000</td>\n",
       "      <td>0.000000</td>\n",
       "      <td>13.000000</td>\n",
       "      <td>1.000000</td>\n",
       "    </tr>\n",
       "    <tr>\n",
       "      <th>25%</th>\n",
       "      <td>6.000000</td>\n",
       "      <td>3.400000e+06</td>\n",
       "      <td>40.000000</td>\n",
       "      <td>1.000000</td>\n",
       "      <td>2.520000</td>\n",
       "      <td>5.000000</td>\n",
       "      <td>18.600000</td>\n",
       "      <td>2.000000</td>\n",
       "      <td>7.000000</td>\n",
       "      <td>0.000000</td>\n",
       "      <td>18585.000000</td>\n",
       "      <td>9238.000000</td>\n",
       "      <td>0.000000</td>\n",
       "      <td>288.000000</td>\n",
       "      <td>0.000000</td>\n",
       "      <td>294.000000</td>\n",
       "      <td>45.000000</td>\n",
       "    </tr>\n",
       "    <tr>\n",
       "      <th>50%</th>\n",
       "      <td>9.000000</td>\n",
       "      <td>4.650000e+06</td>\n",
       "      <td>52.000000</td>\n",
       "      <td>2.000000</td>\n",
       "      <td>2.650000</td>\n",
       "      <td>9.000000</td>\n",
       "      <td>30.000000</td>\n",
       "      <td>4.000000</td>\n",
       "      <td>9.100000</td>\n",
       "      <td>1.000000</td>\n",
       "      <td>26726.000000</td>\n",
       "      <td>13098.500000</td>\n",
       "      <td>0.000000</td>\n",
       "      <td>455.000000</td>\n",
       "      <td>1.000000</td>\n",
       "      <td>502.000000</td>\n",
       "      <td>95.000000</td>\n",
       "    </tr>\n",
       "    <tr>\n",
       "      <th>75%</th>\n",
       "      <td>14.000000</td>\n",
       "      <td>6.800000e+06</td>\n",
       "      <td>69.900000</td>\n",
       "      <td>3.000000</td>\n",
       "      <td>2.800000</td>\n",
       "      <td>16.000000</td>\n",
       "      <td>42.300000</td>\n",
       "      <td>8.000000</td>\n",
       "      <td>12.000000</td>\n",
       "      <td>2.000000</td>\n",
       "      <td>37273.000000</td>\n",
       "      <td>16293.000000</td>\n",
       "      <td>1.000000</td>\n",
       "      <td>612.000000</td>\n",
       "      <td>1.000000</td>\n",
       "      <td>729.000000</td>\n",
       "      <td>232.000000</td>\n",
       "    </tr>\n",
       "    <tr>\n",
       "      <th>max</th>\n",
       "      <td>50.000000</td>\n",
       "      <td>7.630000e+08</td>\n",
       "      <td>900.000000</td>\n",
       "      <td>19.000000</td>\n",
       "      <td>100.000000</td>\n",
       "      <td>60.000000</td>\n",
       "      <td>409.700000</td>\n",
       "      <td>33.000000</td>\n",
       "      <td>112.000000</td>\n",
       "      <td>5.000000</td>\n",
       "      <td>84869.000000</td>\n",
       "      <td>65968.000000</td>\n",
       "      <td>3.000000</td>\n",
       "      <td>3190.000000</td>\n",
       "      <td>3.000000</td>\n",
       "      <td>1344.000000</td>\n",
       "      <td>1580.000000</td>\n",
       "    </tr>\n",
       "  </tbody>\n",
       "</table>\n",
       "</div>"
      ],
      "text/plain": [
       "       total_images    last_price    total_area         rooms  ceiling_height  \\\n",
       "count  23699.000000  2.369900e+04  23699.000000  23699.000000    14504.000000   \n",
       "mean       9.858475  6.541549e+06     60.348651      2.070636        2.771499   \n",
       "std        5.682529  1.088701e+07     35.654083      1.078405        1.261056   \n",
       "min        0.000000  1.219000e+04     12.000000      0.000000        1.000000   \n",
       "25%        6.000000  3.400000e+06     40.000000      1.000000        2.520000   \n",
       "50%        9.000000  4.650000e+06     52.000000      2.000000        2.650000   \n",
       "75%       14.000000  6.800000e+06     69.900000      3.000000        2.800000   \n",
       "max       50.000000  7.630000e+08    900.000000     19.000000      100.000000   \n",
       "\n",
       "       floors_total   living_area         floor  kitchen_area       balcony  \\\n",
       "count  23613.000000  21796.000000  23699.000000  21421.000000  12180.000000   \n",
       "mean      10.673824     34.457852      5.892358     10.569807      1.150082   \n",
       "std        6.597173     22.030445      4.885249      5.905438      1.071300   \n",
       "min        1.000000      2.000000      1.000000      1.300000      0.000000   \n",
       "25%        5.000000     18.600000      2.000000      7.000000      0.000000   \n",
       "50%        9.000000     30.000000      4.000000      9.100000      1.000000   \n",
       "75%       16.000000     42.300000      8.000000     12.000000      2.000000   \n",
       "max       60.000000    409.700000     33.000000    112.000000      5.000000   \n",
       "\n",
       "       airports_nearest  cityCenters_nearest  parks_around3000  parks_nearest  \\\n",
       "count      18157.000000         18180.000000      18181.000000    8079.000000   \n",
       "mean       28793.672193         14191.277833          0.611408     490.804555   \n",
       "std        12630.880622          8608.386210          0.802074     342.317995   \n",
       "min            0.000000           181.000000          0.000000       1.000000   \n",
       "25%        18585.000000          9238.000000          0.000000     288.000000   \n",
       "50%        26726.000000         13098.500000          0.000000     455.000000   \n",
       "75%        37273.000000         16293.000000          1.000000     612.000000   \n",
       "max        84869.000000         65968.000000          3.000000    3190.000000   \n",
       "\n",
       "       ponds_around3000  ponds_nearest  days_exposition  \n",
       "count      18181.000000    9110.000000     20518.000000  \n",
       "mean           0.770255     517.980900       180.888634  \n",
       "std            0.938346     277.720643       219.727988  \n",
       "min            0.000000      13.000000         1.000000  \n",
       "25%            0.000000     294.000000        45.000000  \n",
       "50%            1.000000     502.000000        95.000000  \n",
       "75%            1.000000     729.000000       232.000000  \n",
       "max            3.000000    1344.000000      1580.000000  "
      ]
     },
     "execution_count": 314,
     "metadata": {},
     "output_type": "execute_result"
    }
   ],
   "source": [
    "# получение разброса значений методом describe()\n",
    "df.describe()"
   ]
  },
  {
   "cell_type": "markdown",
   "metadata": {},
   "source": [
    "В целом, данные выглядят правдоподобно. Но можно увидеть возможные аномалии, такие как 19 комнат или 100 м потолок"
   ]
  },
  {
   "cell_type": "markdown",
   "metadata": {},
   "source": [
    "<div style=\"border:solid blue 2px; padding: 20px\">\n",
    "\n",
    "**Выводы**\n",
    "\n",
    "В каждой строке таблицы - данные о квартире. \n",
    "\n",
    "Предварительно можно утверждать, что данных достаточно для проверки гипотез. Однако уже из предварительного просмотра таблицы и общей информации о ней видно, что есть несколько проблем:\n",
    "\n",
    " * во многих столбцах встречаются пропуски в данных\n",
    " * встречаются артефакты (\"странные\" значения)\n",
    " * в ряде столбцов неверный тип данных\n",
    " * один столбец назван неправильно\n",
    "\n",
    "Чтобы двигаться дальше, нужно устранить проблемы в данных."
   ]
  },
  {
   "cell_type": "markdown",
   "metadata": {},
   "source": [
    "## Предобработка данных"
   ]
  },
  {
   "cell_type": "markdown",
   "metadata": {},
   "source": [
    "Чтобы получить из данных более правильный результат, необходимо устранить проблемы, которые встречаются в данных. Заполним или удалим пропуски, приведём данные к более удобным типам, исправим аномалии, разберёмся с дубликатами и при необходимости категоризируем часть данных."
   ]
  },
  {
   "cell_type": "markdown",
   "metadata": {},
   "source": [
    "### Переименование столбцов"
   ]
  },
  {
   "cell_type": "markdown",
   "metadata": {},
   "source": [
    "Для начала выведем на экран названия колонок"
   ]
  },
  {
   "cell_type": "code",
   "execution_count": 315,
   "metadata": {},
   "outputs": [
    {
     "data": {
      "text/plain": [
       "Index(['total_images', 'last_price', 'total_area', 'first_day_exposition',\n",
       "       'rooms', 'ceiling_height', 'floors_total', 'living_area', 'floor',\n",
       "       'is_apartment', 'studio', 'open_plan', 'kitchen_area', 'balcony',\n",
       "       'locality_name', 'airports_nearest', 'cityCenters_nearest',\n",
       "       'parks_around3000', 'parks_nearest', 'ponds_around3000',\n",
       "       'ponds_nearest', 'days_exposition'],\n",
       "      dtype='object')"
      ]
     },
     "execution_count": 315,
     "metadata": {},
     "output_type": "execute_result"
    }
   ],
   "source": [
    "#названия колонок в датафрейме\n",
    "df.columns"
   ]
  },
  {
   "cell_type": "markdown",
   "metadata": {},
   "source": [
    "Как можно заметить, названия столбца 'cityCenters_nearest' написано не в змеином регистре. Переименуем его, чтобы дальше с ним было проще работать"
   ]
  },
  {
   "cell_type": "code",
   "execution_count": 316,
   "metadata": {},
   "outputs": [],
   "source": [
    "# переименование столбца\n",
    "df = df.rename(columns={'cityCenters_nearest': 'city_centers_nearest'})"
   ]
  },
  {
   "cell_type": "markdown",
   "metadata": {},
   "source": [
    "Проверим, что теперь столбец назван по правилам"
   ]
  },
  {
   "cell_type": "code",
   "execution_count": 317,
   "metadata": {},
   "outputs": [
    {
     "data": {
      "text/plain": [
       "Index(['total_images', 'last_price', 'total_area', 'first_day_exposition',\n",
       "       'rooms', 'ceiling_height', 'floors_total', 'living_area', 'floor',\n",
       "       'is_apartment', 'studio', 'open_plan', 'kitchen_area', 'balcony',\n",
       "       'locality_name', 'airports_nearest', 'city_centers_nearest',\n",
       "       'parks_around3000', 'parks_nearest', 'ponds_around3000',\n",
       "       'ponds_nearest', 'days_exposition'],\n",
       "      dtype='object')"
      ]
     },
     "execution_count": 317,
     "metadata": {},
     "output_type": "execute_result"
    }
   ],
   "source": [
    "# проверка результатов - перечень названий столбцов\n",
    "df.columns"
   ]
  },
  {
   "cell_type": "markdown",
   "metadata": {},
   "source": [
    "<div style=\"border:solid blue 2px; padding: 20px\">\n",
    "\n",
    "**Промежуточные выводы**\n",
    "    \n",
    "Итак, все столбцы теперь названы в соответствии с правилами"
   ]
  },
  {
   "cell_type": "markdown",
   "metadata": {},
   "source": [
    "### Заполнение пропусков"
   ]
  },
  {
   "cell_type": "markdown",
   "metadata": {},
   "source": [
    "Посчитаем, сколько в таблице пропущенных значений"
   ]
  },
  {
   "cell_type": "code",
   "execution_count": 318,
   "metadata": {},
   "outputs": [
    {
     "data": {
      "text/plain": [
       "total_images                0\n",
       "last_price                  0\n",
       "total_area                  0\n",
       "first_day_exposition        0\n",
       "rooms                       0\n",
       "ceiling_height           9195\n",
       "floors_total               86\n",
       "living_area              1903\n",
       "floor                       0\n",
       "is_apartment            20924\n",
       "studio                      0\n",
       "open_plan                   0\n",
       "kitchen_area             2278\n",
       "balcony                 11519\n",
       "locality_name              49\n",
       "airports_nearest         5542\n",
       "city_centers_nearest     5519\n",
       "parks_around3000         5518\n",
       "parks_nearest           15620\n",
       "ponds_around3000         5518\n",
       "ponds_nearest           14589\n",
       "days_exposition          3181\n",
       "dtype: int64"
      ]
     },
     "execution_count": 318,
     "metadata": {},
     "output_type": "execute_result"
    }
   ],
   "source": [
    "# подсчёт пропусков\n",
    "df.isna().sum()\n"
   ]
  },
  {
   "cell_type": "markdown",
   "metadata": {},
   "source": [
    "Пропуски присутствуют в 14 столбцах. Предположим возможные варианты их появления и подумаем, как их можно заполнить.\n",
    " * ceiling_height - высота потолков. Это важные данные, но, возможно, заполнялись людьми вручную и не все смогли посчитать высоту потолков, поэтому оставили пропуски. Можно посмотреть, с чем могут коррелировать эти данные, чтобы понять, как заполниить пропуски. Предположительно, возможна корреляция с числом комнат.\n",
    " * floors_total - всего этажей в доме. Это важные данные, но люди могли решить, что эти данные заполнять необязательно. Посмотрим, возможно, количество этажей будет зависеть от населённого пункта\n",
    " * living_area - жилая площадь. Эти данные могут быть не заполнены, поскольку довольно сложно высчитать жилую площадь, поэтому часть продавцов могла решить, что эти данные заполнять необязательно. Думаю, что эти значения лучше оставить пустыми.\n",
    " * is_apartment - аппартаменты (булев тип). Скорее всего, пропуски там, где должно быть значение 0, поскольку, заполняя форму, люди могли видеть опрос про аппартаменты, понимать, что у них не аппартаменты и пропускать данное поле.\n",
    " * kitchen_area - площадь кухни. Аналогично 'living_area'. Оставим в этих значениях пропуск.\n",
    " * balcony - число балконов. Скорее всего, там, где пропуск, подразумевается значение 0, люди могли пропустить этот пункт, поскольку балконов у них нет.\n",
    " * locality_name - название населённого пункта. Это важные данные и не понятно, откуда их взять. Можно преположить, что люди забыли указать эти значения. \n",
    " * airports_nearest - расстояние до ближайшего аэропорта. Эти данные заполнялись системой. Возможно, система смотрела расстояние до ближайшего объекта не дальше какого-то определённого расстояния. А для данных, в которых пропуски, расстояние больше порогового значения. Думаю, имеет смысл оставить пропуски на этих местах.\n",
    " * city_centers_nearest - расстояние до центра города. Аналогично 'airports_nearest'\n",
    " * parks_around3000 - число парков в радиусе 3 км. Скорее всего, там, где пропуск, подразумевалось значение 0. Продавцы не стали заполнять данное поле, поскольку не знают парков на таком расстоянии. Либо же машина не нашла таких объектов на нужном расстоянии.\n",
    " * parks_nearest - расстояние до ближайшего парка. Аналогично 'airports_nearest'\n",
    " * ponds_around3000 - число водоёмов в радиусе 3 км. заполнить 0. Аналогично 'parks_around3000'\n",
    " * ponds_nearest - расстояние до ближайшего водоёма (м). Аналогично 'airports_nearest'\n",
    " * days_exposition - сколько дней было размещено объявление (от публикации до снятия). Данных может не быть, поскольку квартира могла быть продано, а объявление не снято. Особо не понятно, что делать с такими пропусками - оставим их."
   ]
  },
  {
   "cell_type": "markdown",
   "metadata": {},
   "source": [
    "#### Замена на 0"
   ]
  },
  {
   "cell_type": "markdown",
   "metadata": {},
   "source": [
    "Заменим на 0 пропуски в тех колонках, где это уместно"
   ]
  },
  {
   "cell_type": "markdown",
   "metadata": {},
   "source": [
    "##### Cтолбeц is_apartment \n"
   ]
  },
  {
   "cell_type": "markdown",
   "metadata": {},
   "source": [
    "Заменим пропуски в столбце 'is_apartment' на 0"
   ]
  },
  {
   "cell_type": "code",
   "execution_count": 319,
   "metadata": {},
   "outputs": [],
   "source": [
    "# замена значения nan на 0\n",
    "df['is_apartment'] = df['is_apartment'].fillna(0)"
   ]
  },
  {
   "cell_type": "markdown",
   "metadata": {},
   "source": [
    "Убедимся, что пропусков не осталось"
   ]
  },
  {
   "cell_type": "code",
   "execution_count": 320,
   "metadata": {},
   "outputs": [
    {
     "data": {
      "text/plain": [
       "0"
      ]
     },
     "execution_count": 320,
     "metadata": {},
     "output_type": "execute_result"
    }
   ],
   "source": [
    "# подсчёт пропусков в обновлённом столбце is_apartment\n",
    "df['is_apartment'].isna().sum()"
   ]
  },
  {
   "cell_type": "markdown",
   "metadata": {},
   "source": [
    "##### Столбец balcony"
   ]
  },
  {
   "cell_type": "markdown",
   "metadata": {},
   "source": [
    "Заменим пропуски в столбце 'balcony' на 0"
   ]
  },
  {
   "cell_type": "code",
   "execution_count": 321,
   "metadata": {},
   "outputs": [],
   "source": [
    "# замена значения nan на 0\n",
    "df['balcony'] = df['balcony'].fillna(0)"
   ]
  },
  {
   "cell_type": "markdown",
   "metadata": {},
   "source": [
    "Убедимся, что пропусков не осталось"
   ]
  },
  {
   "cell_type": "code",
   "execution_count": 322,
   "metadata": {},
   "outputs": [
    {
     "data": {
      "text/plain": [
       "0"
      ]
     },
     "execution_count": 322,
     "metadata": {},
     "output_type": "execute_result"
    }
   ],
   "source": [
    "# подсчёт пропусков в обновлённом столбце balcony\n",
    "df['balcony'].isna().sum()"
   ]
  },
  {
   "cell_type": "markdown",
   "metadata": {},
   "source": [
    "##### Столбец parks_around3000"
   ]
  },
  {
   "cell_type": "markdown",
   "metadata": {},
   "source": [
    "Заменим пропуски в столбце 'parks_around3000' на 0"
   ]
  },
  {
   "cell_type": "code",
   "execution_count": 323,
   "metadata": {},
   "outputs": [],
   "source": [
    "# замена значения nan на 0\n",
    "df['parks_around3000'] = df['parks_around3000'].fillna(0)"
   ]
  },
  {
   "cell_type": "markdown",
   "metadata": {},
   "source": [
    "Убедимся, что пропусков не осталось"
   ]
  },
  {
   "cell_type": "code",
   "execution_count": 324,
   "metadata": {},
   "outputs": [
    {
     "data": {
      "text/plain": [
       "0"
      ]
     },
     "execution_count": 324,
     "metadata": {},
     "output_type": "execute_result"
    }
   ],
   "source": [
    "# подсчёт пропусков в обновлённом столбце parks_around3000\n",
    "df['parks_around3000'].isna().sum()"
   ]
  },
  {
   "cell_type": "markdown",
   "metadata": {},
   "source": [
    "##### Столбец ponds_around3000 "
   ]
  },
  {
   "cell_type": "markdown",
   "metadata": {},
   "source": [
    "Заменим пропуски в столбце 'ponds_around3000' на 0"
   ]
  },
  {
   "cell_type": "code",
   "execution_count": 325,
   "metadata": {},
   "outputs": [],
   "source": [
    "# замена значения nan на 0\n",
    "df['ponds_around3000'] = df['ponds_around3000'].fillna(0)"
   ]
  },
  {
   "cell_type": "markdown",
   "metadata": {},
   "source": [
    "Убедимся, что пропусков не осталось"
   ]
  },
  {
   "cell_type": "code",
   "execution_count": 326,
   "metadata": {},
   "outputs": [
    {
     "data": {
      "text/plain": [
       "0"
      ]
     },
     "execution_count": 326,
     "metadata": {},
     "output_type": "execute_result"
    }
   ],
   "source": [
    "# подсчёт пропусков в обновлённом столбце ponds_around3000\n",
    "df['ponds_around3000'].isna().sum()"
   ]
  },
  {
   "cell_type": "markdown",
   "metadata": {},
   "source": [
    "#### Удаление строк с пропусками"
   ]
  },
  {
   "cell_type": "markdown",
   "metadata": {},
   "source": [
    "Поскольку отсутствие данных в столбцах 'floors_total' и 'locality_name' помешают нам в дальнейшем исследовании, уберём из датафрейма строки, в которых в этих столбцах встречаются пропуски"
   ]
  },
  {
   "cell_type": "markdown",
   "metadata": {},
   "source": [
    "##### Столбец floors_total"
   ]
  },
  {
   "cell_type": "code",
   "execution_count": 327,
   "metadata": {},
   "outputs": [],
   "source": [
    "# удаление строк с пропусками в 'floors_total'\n",
    "df.dropna(subset = ['floors_total'], inplace = True)"
   ]
  },
  {
   "cell_type": "markdown",
   "metadata": {},
   "source": [
    "Убедимся, что пропусков не осталось"
   ]
  },
  {
   "cell_type": "code",
   "execution_count": 328,
   "metadata": {},
   "outputs": [
    {
     "data": {
      "text/plain": [
       "0"
      ]
     },
     "execution_count": 328,
     "metadata": {},
     "output_type": "execute_result"
    }
   ],
   "source": [
    "# подсчёт пропусков в обновлённом столбце floors_total\n",
    "df['floors_total'].isna().sum()"
   ]
  },
  {
   "cell_type": "markdown",
   "metadata": {},
   "source": [
    "##### Столбец locality_name"
   ]
  },
  {
   "cell_type": "code",
   "execution_count": 329,
   "metadata": {},
   "outputs": [],
   "source": [
    "# удаление строк с пропусками в 'locality_name'\n",
    "df.dropna(subset = ['locality_name'], inplace = True)"
   ]
  },
  {
   "cell_type": "code",
   "execution_count": 330,
   "metadata": {},
   "outputs": [
    {
     "data": {
      "text/plain": [
       "0"
      ]
     },
     "execution_count": 330,
     "metadata": {},
     "output_type": "execute_result"
    }
   ],
   "source": [
    "# подсчёт пропусков в обновлённом столбце locality_name\n",
    "df['locality_name'].isna().sum()"
   ]
  },
  {
   "cell_type": "markdown",
   "metadata": {},
   "source": [
    "#### Замена нетипичными значениями"
   ]
  },
  {
   "cell_type": "markdown",
   "metadata": {},
   "source": [
    "Пропуски в столбцах airports_nearest, city_centers_nearest, parks_nearest и ponds_nearest заменим на нетипичные значения, поскольку они пригодятся в дальнейшем исследовании"
   ]
  },
  {
   "cell_type": "markdown",
   "metadata": {},
   "source": [
    "##### Столбец airports_nearest"
   ]
  },
  {
   "cell_type": "code",
   "execution_count": 331,
   "metadata": {},
   "outputs": [],
   "source": [
    "# замена пропуска в столбце airports_nearest на -1\n",
    "df['airports_nearest'] = df['airports_nearest'].fillna(-1)"
   ]
  },
  {
   "cell_type": "markdown",
   "metadata": {},
   "source": [
    "Убедимся, что пропусков не осталось"
   ]
  },
  {
   "cell_type": "code",
   "execution_count": 332,
   "metadata": {},
   "outputs": [
    {
     "data": {
      "text/plain": [
       "0"
      ]
     },
     "execution_count": 332,
     "metadata": {},
     "output_type": "execute_result"
    }
   ],
   "source": [
    "# подсчёт пропусков в обновлённом столбце airports_nearest\n",
    "df['airports_nearest'].isna().sum()"
   ]
  },
  {
   "cell_type": "markdown",
   "metadata": {},
   "source": [
    "##### Столбец city_centers_nearest"
   ]
  },
  {
   "cell_type": "markdown",
   "metadata": {},
   "source": [
    "Посмотрим, насколько большой процент занимают пропуски в столбце city_centers_nearest"
   ]
  },
  {
   "cell_type": "code",
   "execution_count": 335,
   "metadata": {},
   "outputs": [
    {
     "data": {
      "text/plain": [
       "0.23343942287290473"
      ]
     },
     "execution_count": 335,
     "metadata": {},
     "output_type": "execute_result"
    }
   ],
   "source": [
    "df['city_centers_nearest'].isna().sum()/len(df['city_centers_nearest'])"
   ]
  },
  {
   "cell_type": "markdown",
   "metadata": {},
   "source": [
    "Довольно много. Поскольку мы не сможем корректно рассчитать этот признак, оставим значения пустыми."
   ]
  },
  {
   "cell_type": "markdown",
   "metadata": {},
   "source": [
    "##### Столбец parks_nearest"
   ]
  },
  {
   "cell_type": "code",
   "execution_count": 336,
   "metadata": {},
   "outputs": [],
   "source": [
    "# замена пропуска в столбце parks_nearest на -1\n",
    "df['parks_nearest'] = df['parks_nearest'].fillna(-1)"
   ]
  },
  {
   "cell_type": "markdown",
   "metadata": {},
   "source": [
    "Убедимся, что пропусков не осталось"
   ]
  },
  {
   "cell_type": "code",
   "execution_count": 337,
   "metadata": {},
   "outputs": [
    {
     "data": {
      "text/plain": [
       "0"
      ]
     },
     "execution_count": 337,
     "metadata": {},
     "output_type": "execute_result"
    }
   ],
   "source": [
    "# подсчёт пропусков в обновлённом столбце parks_nearest\n",
    "df['parks_nearest'].isna().sum()"
   ]
  },
  {
   "cell_type": "markdown",
   "metadata": {},
   "source": [
    "##### Столбец ponds_nearest"
   ]
  },
  {
   "cell_type": "code",
   "execution_count": 338,
   "metadata": {},
   "outputs": [],
   "source": [
    "# замена пропуска в столбце ponds_nearest на -1\n",
    "df['ponds_nearest'] = df['ponds_nearest'].fillna(-1)"
   ]
  },
  {
   "cell_type": "markdown",
   "metadata": {},
   "source": [
    "Убедимся, что пропусков не осталось"
   ]
  },
  {
   "cell_type": "code",
   "execution_count": 339,
   "metadata": {},
   "outputs": [
    {
     "data": {
      "text/plain": [
       "0"
      ]
     },
     "execution_count": 339,
     "metadata": {},
     "output_type": "execute_result"
    }
   ],
   "source": [
    "# подсчёт пропусков в обновлённом столбце ponds_nearest\n",
    "df['ponds_nearest'].isna().sum()"
   ]
  },
  {
   "cell_type": "markdown",
   "metadata": {},
   "source": [
    "##### Столбец days_exposition"
   ]
  },
  {
   "cell_type": "markdown",
   "metadata": {},
   "source": [
    "Посмотрим на столбец days_exposition. А именно его корреляцию со столбцом first_day_exposition"
   ]
  },
  {
   "cell_type": "code",
   "execution_count": 340,
   "metadata": {},
   "outputs": [
    {
     "data": {
      "text/html": [
       "<div>\n",
       "<style scoped>\n",
       "    .dataframe tbody tr th:only-of-type {\n",
       "        vertical-align: middle;\n",
       "    }\n",
       "\n",
       "    .dataframe tbody tr th {\n",
       "        vertical-align: top;\n",
       "    }\n",
       "\n",
       "    .dataframe thead th {\n",
       "        text-align: right;\n",
       "    }\n",
       "</style>\n",
       "<table border=\"1\" class=\"dataframe\">\n",
       "  <thead>\n",
       "    <tr style=\"text-align: right;\">\n",
       "      <th>first_day_exposition</th>\n",
       "      <th>2014-11-27T00:00:00</th>\n",
       "      <th>2014-12-08T00:00:00</th>\n",
       "      <th>2014-12-09T00:00:00</th>\n",
       "      <th>2014-12-10T00:00:00</th>\n",
       "      <th>2014-12-11T00:00:00</th>\n",
       "      <th>2014-12-12T00:00:00</th>\n",
       "      <th>2014-12-27T00:00:00</th>\n",
       "      <th>2015-01-03T00:00:00</th>\n",
       "      <th>2015-01-15T00:00:00</th>\n",
       "      <th>2015-01-20T00:00:00</th>\n",
       "      <th>...</th>\n",
       "      <th>2019-04-24T00:00:00</th>\n",
       "      <th>2019-04-25T00:00:00</th>\n",
       "      <th>2019-04-26T00:00:00</th>\n",
       "      <th>2019-04-27T00:00:00</th>\n",
       "      <th>2019-04-28T00:00:00</th>\n",
       "      <th>2019-04-29T00:00:00</th>\n",
       "      <th>2019-04-30T00:00:00</th>\n",
       "      <th>2019-05-01T00:00:00</th>\n",
       "      <th>2019-05-02T00:00:00</th>\n",
       "      <th>2019-05-03T00:00:00</th>\n",
       "    </tr>\n",
       "  </thead>\n",
       "  <tbody>\n",
       "    <tr>\n",
       "      <th>total_area</th>\n",
       "      <td>3</td>\n",
       "      <td>1</td>\n",
       "      <td>7</td>\n",
       "      <td>3</td>\n",
       "      <td>2</td>\n",
       "      <td>1</td>\n",
       "      <td>1</td>\n",
       "      <td>1</td>\n",
       "      <td>1</td>\n",
       "      <td>1</td>\n",
       "      <td>...</td>\n",
       "      <td>32</td>\n",
       "      <td>26</td>\n",
       "      <td>35</td>\n",
       "      <td>14</td>\n",
       "      <td>18</td>\n",
       "      <td>36</td>\n",
       "      <td>25</td>\n",
       "      <td>29</td>\n",
       "      <td>11</td>\n",
       "      <td>20</td>\n",
       "    </tr>\n",
       "  </tbody>\n",
       "</table>\n",
       "<p>1 rows × 708 columns</p>\n",
       "</div>"
      ],
      "text/plain": [
       "first_day_exposition  2014-11-27T00:00:00  2014-12-08T00:00:00  \\\n",
       "total_area                              3                    1   \n",
       "\n",
       "first_day_exposition  2014-12-09T00:00:00  2014-12-10T00:00:00  \\\n",
       "total_area                              7                    3   \n",
       "\n",
       "first_day_exposition  2014-12-11T00:00:00  2014-12-12T00:00:00  \\\n",
       "total_area                              2                    1   \n",
       "\n",
       "first_day_exposition  2014-12-27T00:00:00  2015-01-03T00:00:00  \\\n",
       "total_area                              1                    1   \n",
       "\n",
       "first_day_exposition  2015-01-15T00:00:00  2015-01-20T00:00:00  ...  \\\n",
       "total_area                              1                    1  ...   \n",
       "\n",
       "first_day_exposition  2019-04-24T00:00:00  2019-04-25T00:00:00  \\\n",
       "total_area                             32                   26   \n",
       "\n",
       "first_day_exposition  2019-04-26T00:00:00  2019-04-27T00:00:00  \\\n",
       "total_area                             35                   14   \n",
       "\n",
       "first_day_exposition  2019-04-28T00:00:00  2019-04-29T00:00:00  \\\n",
       "total_area                             18                   36   \n",
       "\n",
       "first_day_exposition  2019-04-30T00:00:00  2019-05-01T00:00:00  \\\n",
       "total_area                             25                   29   \n",
       "\n",
       "first_day_exposition  2019-05-02T00:00:00  2019-05-03T00:00:00  \n",
       "total_area                             11                   20  \n",
       "\n",
       "[1 rows x 708 columns]"
      ]
     },
     "execution_count": 340,
     "metadata": {},
     "output_type": "execute_result"
    }
   ],
   "source": [
    "# сводная таблица \n",
    "df[df['days_exposition'].isnull()].pivot_table(columns = 'first_day_exposition', values = 'total_area', aggfunc = 'count')"
   ]
  },
  {
   "cell_type": "markdown",
   "metadata": {},
   "source": [
    "Мы видим, что чем раньше вывешено объявление о продаже, тем меньше встречается пропусков в столбце days_exposition. Скорее всего, наличие пропусков в этом столбце указывает на то, что квартира ещё не продана. Поэтому оставим пропуски в данном столбце."
   ]
  },
  {
   "cell_type": "markdown",
   "metadata": {},
   "source": [
    "### Удаление лишних столбцов"
   ]
  },
  {
   "cell_type": "markdown",
   "metadata": {},
   "source": [
    "Часть столбцов не понадобится для дальнейшего исследования. Это столбцы is_apartment, total_images, studio, open_plan. Удалим их."
   ]
  },
  {
   "cell_type": "code",
   "execution_count": 341,
   "metadata": {},
   "outputs": [],
   "source": [
    "# удаление столбцов is_apartment, total_images, studio, open_plan\n",
    "df.drop(['is_apartment'], axis='columns', inplace=True)\n",
    "df.drop(['total_images'], axis='columns', inplace=True)\n",
    "df.drop(['studio'], axis='columns', inplace=True)\n",
    "df.drop(['open_plan'], axis='columns', inplace=True)"
   ]
  },
  {
   "cell_type": "markdown",
   "metadata": {},
   "source": [
    "Проверим, что в датафрейме остались только нужные данные"
   ]
  },
  {
   "cell_type": "code",
   "execution_count": 342,
   "metadata": {},
   "outputs": [
    {
     "data": {
      "text/html": [
       "<div>\n",
       "<style scoped>\n",
       "    .dataframe tbody tr th:only-of-type {\n",
       "        vertical-align: middle;\n",
       "    }\n",
       "\n",
       "    .dataframe tbody tr th {\n",
       "        vertical-align: top;\n",
       "    }\n",
       "\n",
       "    .dataframe thead th {\n",
       "        text-align: right;\n",
       "    }\n",
       "</style>\n",
       "<table border=\"1\" class=\"dataframe\">\n",
       "  <thead>\n",
       "    <tr style=\"text-align: right;\">\n",
       "      <th></th>\n",
       "      <th>last_price</th>\n",
       "      <th>total_area</th>\n",
       "      <th>first_day_exposition</th>\n",
       "      <th>rooms</th>\n",
       "      <th>ceiling_height</th>\n",
       "      <th>floors_total</th>\n",
       "      <th>living_area</th>\n",
       "      <th>floor</th>\n",
       "      <th>kitchen_area</th>\n",
       "      <th>balcony</th>\n",
       "      <th>locality_name</th>\n",
       "      <th>airports_nearest</th>\n",
       "      <th>city_centers_nearest</th>\n",
       "      <th>parks_around3000</th>\n",
       "      <th>parks_nearest</th>\n",
       "      <th>ponds_around3000</th>\n",
       "      <th>ponds_nearest</th>\n",
       "      <th>days_exposition</th>\n",
       "    </tr>\n",
       "  </thead>\n",
       "  <tbody>\n",
       "    <tr>\n",
       "      <th>0</th>\n",
       "      <td>13000000.0</td>\n",
       "      <td>108.0</td>\n",
       "      <td>2019-03-07T00:00:00</td>\n",
       "      <td>3</td>\n",
       "      <td>2.70</td>\n",
       "      <td>16.0</td>\n",
       "      <td>51.0</td>\n",
       "      <td>8</td>\n",
       "      <td>25.0</td>\n",
       "      <td>0.0</td>\n",
       "      <td>Санкт-Петербург</td>\n",
       "      <td>18863.0</td>\n",
       "      <td>16028.0</td>\n",
       "      <td>1.0</td>\n",
       "      <td>482.0</td>\n",
       "      <td>2.0</td>\n",
       "      <td>755.0</td>\n",
       "      <td>NaN</td>\n",
       "    </tr>\n",
       "    <tr>\n",
       "      <th>1</th>\n",
       "      <td>3350000.0</td>\n",
       "      <td>40.4</td>\n",
       "      <td>2018-12-04T00:00:00</td>\n",
       "      <td>1</td>\n",
       "      <td>NaN</td>\n",
       "      <td>11.0</td>\n",
       "      <td>18.6</td>\n",
       "      <td>1</td>\n",
       "      <td>11.0</td>\n",
       "      <td>2.0</td>\n",
       "      <td>посёлок Шушары</td>\n",
       "      <td>12817.0</td>\n",
       "      <td>18603.0</td>\n",
       "      <td>0.0</td>\n",
       "      <td>-1.0</td>\n",
       "      <td>0.0</td>\n",
       "      <td>-1.0</td>\n",
       "      <td>81.0</td>\n",
       "    </tr>\n",
       "    <tr>\n",
       "      <th>2</th>\n",
       "      <td>5196000.0</td>\n",
       "      <td>56.0</td>\n",
       "      <td>2015-08-20T00:00:00</td>\n",
       "      <td>2</td>\n",
       "      <td>NaN</td>\n",
       "      <td>5.0</td>\n",
       "      <td>34.3</td>\n",
       "      <td>4</td>\n",
       "      <td>8.3</td>\n",
       "      <td>0.0</td>\n",
       "      <td>Санкт-Петербург</td>\n",
       "      <td>21741.0</td>\n",
       "      <td>13933.0</td>\n",
       "      <td>1.0</td>\n",
       "      <td>90.0</td>\n",
       "      <td>2.0</td>\n",
       "      <td>574.0</td>\n",
       "      <td>558.0</td>\n",
       "    </tr>\n",
       "    <tr>\n",
       "      <th>3</th>\n",
       "      <td>64900000.0</td>\n",
       "      <td>159.0</td>\n",
       "      <td>2015-07-24T00:00:00</td>\n",
       "      <td>3</td>\n",
       "      <td>NaN</td>\n",
       "      <td>14.0</td>\n",
       "      <td>NaN</td>\n",
       "      <td>9</td>\n",
       "      <td>NaN</td>\n",
       "      <td>0.0</td>\n",
       "      <td>Санкт-Петербург</td>\n",
       "      <td>28098.0</td>\n",
       "      <td>6800.0</td>\n",
       "      <td>2.0</td>\n",
       "      <td>84.0</td>\n",
       "      <td>3.0</td>\n",
       "      <td>234.0</td>\n",
       "      <td>424.0</td>\n",
       "    </tr>\n",
       "    <tr>\n",
       "      <th>4</th>\n",
       "      <td>10000000.0</td>\n",
       "      <td>100.0</td>\n",
       "      <td>2018-06-19T00:00:00</td>\n",
       "      <td>2</td>\n",
       "      <td>3.03</td>\n",
       "      <td>14.0</td>\n",
       "      <td>32.0</td>\n",
       "      <td>13</td>\n",
       "      <td>41.0</td>\n",
       "      <td>0.0</td>\n",
       "      <td>Санкт-Петербург</td>\n",
       "      <td>31856.0</td>\n",
       "      <td>8098.0</td>\n",
       "      <td>2.0</td>\n",
       "      <td>112.0</td>\n",
       "      <td>1.0</td>\n",
       "      <td>48.0</td>\n",
       "      <td>121.0</td>\n",
       "    </tr>\n",
       "  </tbody>\n",
       "</table>\n",
       "</div>"
      ],
      "text/plain": [
       "   last_price  total_area first_day_exposition  rooms  ceiling_height  \\\n",
       "0  13000000.0       108.0  2019-03-07T00:00:00      3            2.70   \n",
       "1   3350000.0        40.4  2018-12-04T00:00:00      1             NaN   \n",
       "2   5196000.0        56.0  2015-08-20T00:00:00      2             NaN   \n",
       "3  64900000.0       159.0  2015-07-24T00:00:00      3             NaN   \n",
       "4  10000000.0       100.0  2018-06-19T00:00:00      2            3.03   \n",
       "\n",
       "   floors_total  living_area  floor  kitchen_area  balcony    locality_name  \\\n",
       "0          16.0         51.0      8          25.0      0.0  Санкт-Петербург   \n",
       "1          11.0         18.6      1          11.0      2.0   посёлок Шушары   \n",
       "2           5.0         34.3      4           8.3      0.0  Санкт-Петербург   \n",
       "3          14.0          NaN      9           NaN      0.0  Санкт-Петербург   \n",
       "4          14.0         32.0     13          41.0      0.0  Санкт-Петербург   \n",
       "\n",
       "   airports_nearest  city_centers_nearest  parks_around3000  parks_nearest  \\\n",
       "0           18863.0               16028.0               1.0          482.0   \n",
       "1           12817.0               18603.0               0.0           -1.0   \n",
       "2           21741.0               13933.0               1.0           90.0   \n",
       "3           28098.0                6800.0               2.0           84.0   \n",
       "4           31856.0                8098.0               2.0          112.0   \n",
       "\n",
       "   ponds_around3000  ponds_nearest  days_exposition  \n",
       "0               2.0          755.0              NaN  \n",
       "1               0.0           -1.0             81.0  \n",
       "2               2.0          574.0            558.0  \n",
       "3               3.0          234.0            424.0  \n",
       "4               1.0           48.0            121.0  "
      ]
     },
     "execution_count": 342,
     "metadata": {},
     "output_type": "execute_result"
    }
   ],
   "source": [
    "df.head()"
   ]
  },
  {
   "cell_type": "markdown",
   "metadata": {},
   "source": [
    "### Приведение данных к нужным типам"
   ]
  },
  {
   "cell_type": "markdown",
   "metadata": {},
   "source": [
    "На этапе обзора данных было также обнаружено, что в ряде столбцов тип данных не соответствует значениям. \n",
    " * balcony - число балконов должно быть целым числом (int), а в данных представлено, как float\n",
    " * floors_total - число этажей в доме должно быть целым числом (int), а в данных представлено, как float\n",
    " * first_day_exposition - дата публикации должна быть формата datetime, а в данных представлена, как object\n",
    " * parks_around3000 - число парков должно быть целым числом (int), а в данных представлено, как float\n",
    " * ponds_around3000 - число водоёмов должно быть целым числом (int), а в данных представлено, как float \n",
    " * days_exposition - число дней должно быть целым числом (int), а в данных представлено, как float \n",
    " \n",
    "Преобразуем эти столбцы к нужным типам данных"
   ]
  },
  {
   "cell_type": "markdown",
   "metadata": {},
   "source": [
    "#### Столбец balcony"
   ]
  },
  {
   "cell_type": "code",
   "execution_count": 343,
   "metadata": {},
   "outputs": [],
   "source": [
    "# приведение данных в столбце balcony к типу int\n",
    "df['balcony'] = df['balcony'].astype(int)"
   ]
  },
  {
   "cell_type": "markdown",
   "metadata": {},
   "source": [
    "#### Столбец floors_total"
   ]
  },
  {
   "cell_type": "code",
   "execution_count": 344,
   "metadata": {},
   "outputs": [],
   "source": [
    "# приведение данных в столбце floors_total к типу int\n",
    "df['floors_total'] = df['floors_total'].astype(int)"
   ]
  },
  {
   "cell_type": "markdown",
   "metadata": {},
   "source": [
    "#### Столбец parks_around3000"
   ]
  },
  {
   "cell_type": "code",
   "execution_count": 345,
   "metadata": {},
   "outputs": [],
   "source": [
    "# приведение данных в столбце parks_around3000 к типу int\n",
    "df['parks_around3000'] = df['parks_around3000'].astype(int)"
   ]
  },
  {
   "cell_type": "markdown",
   "metadata": {},
   "source": [
    "#### Столбец ponds_around3000"
   ]
  },
  {
   "cell_type": "code",
   "execution_count": 346,
   "metadata": {},
   "outputs": [],
   "source": [
    "# приведение данных в столбце ponds_around3000 к типу int\n",
    "df['ponds_around3000'] = df['ponds_around3000'].astype(int)"
   ]
  },
  {
   "cell_type": "markdown",
   "metadata": {},
   "source": [
    "#### Столбец days_exposition"
   ]
  },
  {
   "cell_type": "code",
   "execution_count": 347,
   "metadata": {},
   "outputs": [],
   "source": [
    "import numpy as np"
   ]
  },
  {
   "cell_type": "code",
   "execution_count": 348,
   "metadata": {},
   "outputs": [],
   "source": [
    "# приведение данных в столбце days_exposition к типу int\n",
    "df['days_exposition'] = df['days_exposition'].fillna(-1)\n",
    "df['days_exposition'] = df['days_exposition'].astype(int)\n",
    "df['days_exposition'] = df['days_exposition'].replace(-1, np.nan)"
   ]
  },
  {
   "cell_type": "markdown",
   "metadata": {},
   "source": [
    "#### Столбец first_day_exposition"
   ]
  },
  {
   "cell_type": "code",
   "execution_count": 349,
   "metadata": {},
   "outputs": [],
   "source": [
    "df['first_day_exposition'] = pd.to_datetime(df['first_day_exposition'], format='%Y%m%dT%H:%M:%S')"
   ]
  },
  {
   "cell_type": "markdown",
   "metadata": {},
   "source": [
    "<div style=\"border:solid blue 2px; padding: 20px\">\n",
    "\n",
    "**Промежуточные выводы**\n",
    "    \n",
    "    Итак, все данные приведены к нужным типам"
   ]
  },
  {
   "cell_type": "markdown",
   "metadata": {},
   "source": [
    "### Обработка пропусков (продолжение)"
   ]
  },
  {
   "cell_type": "markdown",
   "metadata": {},
   "source": [
    "#### Столбец living_area"
   ]
  },
  {
   "cell_type": "markdown",
   "metadata": {},
   "source": [
    "Заменим пропуски в столбце living_area на медианное значение по столбцу в зависимости от total_area"
   ]
  },
  {
   "cell_type": "markdown",
   "metadata": {},
   "source": [
    "Для более удобного подсчёта приведём значения в столбце total_area к типу int"
   ]
  },
  {
   "cell_type": "code",
   "execution_count": 350,
   "metadata": {},
   "outputs": [],
   "source": [
    "# приведение данных в столбце total_area к типу int\n",
    "df['total_area'] = df['total_area'].round().astype(int)"
   ]
  },
  {
   "cell_type": "markdown",
   "metadata": {},
   "source": [
    "Заполним пропуски в столбце living_area нетипичными значениями"
   ]
  },
  {
   "cell_type": "code",
   "execution_count": 351,
   "metadata": {},
   "outputs": [],
   "source": [
    "# замена пропусков в столбце living_area на -1\n",
    "df['living_area'] = df['living_area'].fillna(-1)"
   ]
  },
  {
   "cell_type": "markdown",
   "metadata": {},
   "source": [
    "Реализуем функцию, которая будет считать медианное значение living_area в зависимости от значения total_area"
   ]
  },
  {
   "cell_type": "code",
   "execution_count": 352,
   "metadata": {},
   "outputs": [],
   "source": [
    "def fill_living_area(row):\n",
    "    '''\n",
    "    Функция принимает на вход строку датафрейма.\n",
    "    Сохраняет в переменные значения living_area и total_area.\n",
    "    Проверяет - если в living_area пропуск (значение -1), то возвращает медианное значение,\n",
    "    В противном случае возвращает просто значение living_area\n",
    "    '''\n",
    "    living_area = row['living_area']\n",
    "    total_area = row['total_area']\n",
    "    if living_area == -1:      \n",
    "        return total_area_to_median[total_area]\n",
    "    return living_area\n",
    "\n",
    "#медианное значение считается группировкой столбца living_area по total_area\n",
    "total_area_to_median = df.groupby('total_area').median()['living_area'].to_dict()    \n",
    "\n",
    "# применение функции fill_living_area к столбцу living_area\n",
    "df['living_area'] = df.apply(fill_living_area, axis=1)"
   ]
  },
  {
   "cell_type": "markdown",
   "metadata": {},
   "source": [
    "Проверим, сколько осталось пропусков"
   ]
  },
  {
   "cell_type": "code",
   "execution_count": 353,
   "metadata": {
    "scrolled": true
   },
   "outputs": [
    {
     "data": {
      "text/plain": [
       "19"
      ]
     },
     "execution_count": 353,
     "metadata": {},
     "output_type": "execute_result"
    }
   ],
   "source": [
    "# длина среза, когда значения столбца living_area равны -1\n",
    "len(df.query('living_area == -1'))"
   ]
  },
  {
   "cell_type": "markdown",
   "metadata": {},
   "source": [
    "Значений с пропусками осталось совсем мало. Это те значения, для которых не удалось посчитать медиану. Удалим их из датафрейма"
   ]
  },
  {
   "cell_type": "code",
   "execution_count": 354,
   "metadata": {},
   "outputs": [],
   "source": [
    "# запись в датафрейм только тех значений, для которых нет пропуска (значения -1) в столбце living_area\n",
    "df = df[df['living_area'] != -1]"
   ]
  },
  {
   "cell_type": "markdown",
   "metadata": {},
   "source": [
    "#### Столбец kitchen_area"
   ]
  },
  {
   "cell_type": "markdown",
   "metadata": {},
   "source": [
    "Посчитаем коэффициент корреляции между столбцами total_area и kitchen_area. Если между ними обнаружится взаимосвязь, посчитаем, какую часть площади занимает кухня"
   ]
  },
  {
   "cell_type": "code",
   "execution_count": 355,
   "metadata": {},
   "outputs": [
    {
     "data": {
      "text/plain": [
       "0.6087004096574055"
      ]
     },
     "execution_count": 355,
     "metadata": {},
     "output_type": "execute_result"
    }
   ],
   "source": [
    "# коэффициент корреляции столбца total_area со столбцом kitchen_area\n",
    "total_area_to_kitchen_area_corr = df['total_area'].corr(df['kitchen_area'])\n",
    "total_area_to_kitchen_area_corr"
   ]
  },
  {
   "cell_type": "markdown",
   "metadata": {},
   "source": [
    "## Расчёты и добавление результатов в таблицу"
   ]
  },
  {
   "cell_type": "markdown",
   "metadata": {},
   "source": [
    "Добавим в таблицу столбец kitchen_percent, в который поместим долю, которую площадь кухни занимает ко всей площади"
   ]
  },
  {
   "cell_type": "code",
   "execution_count": 356,
   "metadata": {},
   "outputs": [],
   "source": [
    "# добавление столбца kitchen_percent и присвоение ему значения kitchen_area/total_area\n",
    "df['kitchen_percent'] = df['kitchen_area'] / df['total_area']"
   ]
  },
  {
   "cell_type": "markdown",
   "metadata": {},
   "source": [
    "## Заполнение пропусков (продолжение)"
   ]
  },
  {
   "cell_type": "markdown",
   "metadata": {},
   "source": [
    "Для заполнения пропусков посчитаем среднее по столбцу kitchen_percent"
   ]
  },
  {
   "cell_type": "code",
   "execution_count": 357,
   "metadata": {},
   "outputs": [
    {
     "data": {
      "text/plain": [
       "0.1873904083526267"
      ]
     },
     "execution_count": 357,
     "metadata": {},
     "output_type": "execute_result"
    }
   ],
   "source": [
    "# подсчёт среднего по столбцу kitchen_percent с помощью функции mean()\n",
    "kitchen_mean = df['kitchen_percent'].mean()\n",
    "kitchen_mean"
   ]
  },
  {
   "cell_type": "markdown",
   "metadata": {},
   "source": [
    "Заполним пропуски в столбце kitchen_area"
   ]
  },
  {
   "cell_type": "code",
   "execution_count": 358,
   "metadata": {},
   "outputs": [],
   "source": [
    "# заполнение пропусков значением столбца total_area, умноженным на нужный процент\n",
    "df['kitchen_area'] = df['kitchen_area'].fillna(df['total_area'] * kitchen_mean).round(1)"
   ]
  },
  {
   "cell_type": "markdown",
   "metadata": {},
   "source": [
    "### Столбец ceiling_height"
   ]
  },
  {
   "cell_type": "markdown",
   "metadata": {},
   "source": [
    "Наша гипотеза в том, что значения столбца ceiling_height коррелируют со значениями столбца rooms. Проверим её, посчитав коэффициент корреляции"
   ]
  },
  {
   "cell_type": "code",
   "execution_count": 359,
   "metadata": {
    "scrolled": false
   },
   "outputs": [
    {
     "data": {
      "text/plain": [
       "0.053953673998575584"
      ]
     },
     "execution_count": 359,
     "metadata": {},
     "output_type": "execute_result"
    }
   ],
   "source": [
    "# коэффициент корреляции \n",
    "df['ceiling_height'].corr(df['rooms'])"
   ]
  },
  {
   "cell_type": "markdown",
   "metadata": {},
   "source": [
    "Коэффициент низкий. Гипотеза не подтвердилась. "
   ]
  },
  {
   "cell_type": "markdown",
   "metadata": {},
   "source": [
    "Тогда заполним пропуски в столбце ceiling_height медианным значением ceiling_height в зависимости от места ('locality_name') и количества этажей ('floors_total')"
   ]
  },
  {
   "cell_type": "code",
   "execution_count": 360,
   "metadata": {},
   "outputs": [],
   "source": [
    "# группировка столбца ceiling_height по locality_name и floors_total. Применение медианного значения для заполнения пропусков\n",
    "df['ceiling_height'] = df.groupby(['locality_name', 'floors_total'])['ceiling_height'].apply(lambda x: x.fillna(x.median()))"
   ]
  },
  {
   "cell_type": "markdown",
   "metadata": {},
   "source": [
    "Проверим, сколько осталось пропусков"
   ]
  },
  {
   "cell_type": "code",
   "execution_count": 361,
   "metadata": {},
   "outputs": [
    {
     "data": {
      "text/plain": [
       "392"
      ]
     },
     "execution_count": 361,
     "metadata": {},
     "output_type": "execute_result"
    }
   ],
   "source": [
    "# количество пропусков в столбце ceiling_height\n",
    "df['ceiling_height'].isna().sum()"
   ]
  },
  {
   "cell_type": "markdown",
   "metadata": {},
   "source": [
    "Мы видим, что осталось ещё небольшое количество пропусков. Заполним их медианным значением по всему столбцу"
   ]
  },
  {
   "cell_type": "code",
   "execution_count": 362,
   "metadata": {},
   "outputs": [],
   "source": [
    "# применение функции median() для заполнения пропусков в столбце ceiling_height\n",
    "df['ceiling_height'].fillna(df['ceiling_height'].median(), inplace=True)"
   ]
  },
  {
   "cell_type": "markdown",
   "metadata": {},
   "source": [
    "Убедимся, что пропусков не осталось"
   ]
  },
  {
   "cell_type": "code",
   "execution_count": 363,
   "metadata": {},
   "outputs": [
    {
     "data": {
      "text/plain": [
       "0"
      ]
     },
     "execution_count": 363,
     "metadata": {},
     "output_type": "execute_result"
    }
   ],
   "source": [
    "# количество пропусков в столбце ceiling_height\n",
    "df['ceiling_height'].isna().sum()"
   ]
  },
  {
   "cell_type": "markdown",
   "metadata": {},
   "source": [
    "Проверим, насколько успешно удалось заполнить пропуски и заменить типы данных. Для этого выведем информацию о таблице"
   ]
  },
  {
   "cell_type": "code",
   "execution_count": 364,
   "metadata": {
    "scrolled": false
   },
   "outputs": [
    {
     "name": "stdout",
     "output_type": "stream",
     "text": [
      "<class 'pandas.core.frame.DataFrame'>\n",
      "Int64Index: 23546 entries, 0 to 23698\n",
      "Data columns (total 19 columns):\n",
      " #   Column                Non-Null Count  Dtype         \n",
      "---  ------                --------------  -----         \n",
      " 0   last_price            23546 non-null  float64       \n",
      " 1   total_area            23546 non-null  int32         \n",
      " 2   first_day_exposition  23546 non-null  datetime64[ns]\n",
      " 3   rooms                 23546 non-null  int64         \n",
      " 4   ceiling_height        23546 non-null  float64       \n",
      " 5   floors_total          23546 non-null  int32         \n",
      " 6   living_area           23546 non-null  float64       \n",
      " 7   floor                 23546 non-null  int64         \n",
      " 8   kitchen_area          23546 non-null  float64       \n",
      " 9   balcony               23546 non-null  int32         \n",
      " 10  locality_name         23546 non-null  object        \n",
      " 11  airports_nearest      23546 non-null  float64       \n",
      " 12  city_centers_nearest  18047 non-null  float64       \n",
      " 13  parks_around3000      23546 non-null  int32         \n",
      " 14  parks_nearest         23546 non-null  float64       \n",
      " 15  ponds_around3000      23546 non-null  int32         \n",
      " 16  ponds_nearest         23546 non-null  float64       \n",
      " 17  days_exposition       20379 non-null  float64       \n",
      " 18  kitchen_percent       21340 non-null  float64       \n",
      "dtypes: datetime64[ns](1), float64(10), int32(5), int64(2), object(1)\n",
      "memory usage: 3.8+ MB\n"
     ]
    }
   ],
   "source": [
    "df.info()"
   ]
  },
  {
   "cell_type": "markdown",
   "metadata": {},
   "source": [
    "<div style=\"border:solid blue 2px; padding: 20px\">\n",
    "\n",
    "**Выводы**\n",
    "    \n",
    "    \n",
    "В значимых столбцах больше не осталось пропусков. \n",
    "Часть данных, которые можно восстановить логически заполнены соответствующими значениями.\n",
    "Часть данных, коррелирующих с другими столбцами восстановлена по значениям других столбцов.\n",
    "Некоторые данные удалены.\n",
    "Где-то пришлось ставить нетипичные значения"
   ]
  },
  {
   "cell_type": "markdown",
   "metadata": {},
   "source": [
    "## Расчёты и добавление результатов в таблицу"
   ]
  },
  {
   "cell_type": "markdown",
   "metadata": {},
   "source": [
    "Добавим в таблицу столбец, отвечающий за цену на квадратный метр. Для подсчёта значений данного столбца разделим цену на площадь. Для удобства приведём результат к типу int"
   ]
  },
  {
   "cell_type": "code",
   "execution_count": 365,
   "metadata": {},
   "outputs": [],
   "source": [
    "# добавление столбца price_per_square_meter и расчёт цены за квадратный метр\n",
    "df['price_per_square_meter'] = (df['last_price'] / df['total_area']).astype(int)"
   ]
  },
  {
   "cell_type": "markdown",
   "metadata": {},
   "source": [
    "Добавим также столбцы для дня недели, месяца и год публикации объявления."
   ]
  },
  {
   "cell_type": "code",
   "execution_count": 366,
   "metadata": {},
   "outputs": [],
   "source": [
    "# добавление столбцов exposition_weekday, exposition_month и exposition_year\n",
    "# значения ячеек столбцов взяты из соответствующего поля столбца first_day_exposition\n",
    "df['exposition_weekday'] = df['first_day_exposition'].dt.weekday\n",
    "df['exposition_month'] = df['first_day_exposition'].dt.month\n",
    "df['exposition_year'] = df['first_day_exposition'].dt.year"
   ]
  },
  {
   "cell_type": "markdown",
   "metadata": {},
   "source": [
    "Добавим столбец, в котором будет тип этажа - первый, последний, другой.\n",
    "Для этого реализуем функцию, которая определяет этот тип"
   ]
  },
  {
   "cell_type": "code",
   "execution_count": 367,
   "metadata": {},
   "outputs": [],
   "source": [
    "floors_total = df['floors_total']\n",
    "\n",
    "def find_floor(row):\n",
    "    '''\n",
    "    Функция принимает на вход строку датафрейма. Берёт из неё значение в столбце floor. \n",
    "    И проверяет это значение, является этаж первым, последним или нет. \n",
    "    В зависимости от этого возвращает значение - первый, последний или другой.\n",
    "    '''\n",
    "    floor = row['floor']\n",
    "    if floor == 1:\n",
    "        return('первый')\n",
    "    elif floor == row['floors_total']:\n",
    "        return('последний')\n",
    "    return('другой')"
   ]
  },
  {
   "cell_type": "markdown",
   "metadata": {},
   "source": [
    "Применим эту функцию к строкам нашего датафрейма. Добавим столбец floor_type"
   ]
  },
  {
   "cell_type": "code",
   "execution_count": 368,
   "metadata": {},
   "outputs": [],
   "source": [
    "# применение функции find_floor и запись полученных данных в столбец floor_type\n",
    "df['floor_type'] = df.apply(find_floor, axis=1)"
   ]
  },
  {
   "cell_type": "markdown",
   "metadata": {},
   "source": [
    "Добавим столбец living_area_percent, в который поместим долю, которую жилая площадь занимает ко всей площади"
   ]
  },
  {
   "cell_type": "code",
   "execution_count": 369,
   "metadata": {},
   "outputs": [],
   "source": [
    "# добавление столбца living_area_percent и присвоение ему значения living_area/total_area\n",
    "df['living_area_percent'] = df['living_area'] / df['total_area']"
   ]
  },
  {
   "cell_type": "markdown",
   "metadata": {},
   "source": [
    "Посмотрим, как изменилась таблица"
   ]
  },
  {
   "cell_type": "code",
   "execution_count": 370,
   "metadata": {
    "scrolled": false
   },
   "outputs": [
    {
     "data": {
      "text/html": [
       "<div>\n",
       "<style scoped>\n",
       "    .dataframe tbody tr th:only-of-type {\n",
       "        vertical-align: middle;\n",
       "    }\n",
       "\n",
       "    .dataframe tbody tr th {\n",
       "        vertical-align: top;\n",
       "    }\n",
       "\n",
       "    .dataframe thead th {\n",
       "        text-align: right;\n",
       "    }\n",
       "</style>\n",
       "<table border=\"1\" class=\"dataframe\">\n",
       "  <thead>\n",
       "    <tr style=\"text-align: right;\">\n",
       "      <th></th>\n",
       "      <th>last_price</th>\n",
       "      <th>total_area</th>\n",
       "      <th>first_day_exposition</th>\n",
       "      <th>rooms</th>\n",
       "      <th>ceiling_height</th>\n",
       "      <th>floors_total</th>\n",
       "      <th>living_area</th>\n",
       "      <th>floor</th>\n",
       "      <th>kitchen_area</th>\n",
       "      <th>balcony</th>\n",
       "      <th>...</th>\n",
       "      <th>ponds_around3000</th>\n",
       "      <th>ponds_nearest</th>\n",
       "      <th>days_exposition</th>\n",
       "      <th>kitchen_percent</th>\n",
       "      <th>price_per_square_meter</th>\n",
       "      <th>exposition_weekday</th>\n",
       "      <th>exposition_month</th>\n",
       "      <th>exposition_year</th>\n",
       "      <th>floor_type</th>\n",
       "      <th>living_area_percent</th>\n",
       "    </tr>\n",
       "  </thead>\n",
       "  <tbody>\n",
       "    <tr>\n",
       "      <th>0</th>\n",
       "      <td>13000000.0</td>\n",
       "      <td>108</td>\n",
       "      <td>2019-03-07</td>\n",
       "      <td>3</td>\n",
       "      <td>2.700</td>\n",
       "      <td>16</td>\n",
       "      <td>51.00</td>\n",
       "      <td>8</td>\n",
       "      <td>25.0</td>\n",
       "      <td>0</td>\n",
       "      <td>...</td>\n",
       "      <td>2</td>\n",
       "      <td>755.0</td>\n",
       "      <td>NaN</td>\n",
       "      <td>0.231481</td>\n",
       "      <td>120370</td>\n",
       "      <td>3</td>\n",
       "      <td>3</td>\n",
       "      <td>2019</td>\n",
       "      <td>другой</td>\n",
       "      <td>0.472222</td>\n",
       "    </tr>\n",
       "    <tr>\n",
       "      <th>1</th>\n",
       "      <td>3350000.0</td>\n",
       "      <td>40</td>\n",
       "      <td>2018-12-04</td>\n",
       "      <td>1</td>\n",
       "      <td>2.650</td>\n",
       "      <td>11</td>\n",
       "      <td>18.60</td>\n",
       "      <td>1</td>\n",
       "      <td>11.0</td>\n",
       "      <td>2</td>\n",
       "      <td>...</td>\n",
       "      <td>0</td>\n",
       "      <td>-1.0</td>\n",
       "      <td>81.0</td>\n",
       "      <td>0.275000</td>\n",
       "      <td>83750</td>\n",
       "      <td>1</td>\n",
       "      <td>12</td>\n",
       "      <td>2018</td>\n",
       "      <td>первый</td>\n",
       "      <td>0.465000</td>\n",
       "    </tr>\n",
       "    <tr>\n",
       "      <th>2</th>\n",
       "      <td>5196000.0</td>\n",
       "      <td>56</td>\n",
       "      <td>2015-08-20</td>\n",
       "      <td>2</td>\n",
       "      <td>2.600</td>\n",
       "      <td>5</td>\n",
       "      <td>34.30</td>\n",
       "      <td>4</td>\n",
       "      <td>8.3</td>\n",
       "      <td>0</td>\n",
       "      <td>...</td>\n",
       "      <td>2</td>\n",
       "      <td>574.0</td>\n",
       "      <td>558.0</td>\n",
       "      <td>0.148214</td>\n",
       "      <td>92785</td>\n",
       "      <td>3</td>\n",
       "      <td>8</td>\n",
       "      <td>2015</td>\n",
       "      <td>другой</td>\n",
       "      <td>0.612500</td>\n",
       "    </tr>\n",
       "    <tr>\n",
       "      <th>3</th>\n",
       "      <td>64900000.0</td>\n",
       "      <td>159</td>\n",
       "      <td>2015-07-24</td>\n",
       "      <td>3</td>\n",
       "      <td>2.600</td>\n",
       "      <td>14</td>\n",
       "      <td>90.80</td>\n",
       "      <td>9</td>\n",
       "      <td>29.8</td>\n",
       "      <td>0</td>\n",
       "      <td>...</td>\n",
       "      <td>3</td>\n",
       "      <td>234.0</td>\n",
       "      <td>424.0</td>\n",
       "      <td>NaN</td>\n",
       "      <td>408176</td>\n",
       "      <td>4</td>\n",
       "      <td>7</td>\n",
       "      <td>2015</td>\n",
       "      <td>другой</td>\n",
       "      <td>0.571069</td>\n",
       "    </tr>\n",
       "    <tr>\n",
       "      <th>4</th>\n",
       "      <td>10000000.0</td>\n",
       "      <td>100</td>\n",
       "      <td>2018-06-19</td>\n",
       "      <td>2</td>\n",
       "      <td>3.030</td>\n",
       "      <td>14</td>\n",
       "      <td>32.00</td>\n",
       "      <td>13</td>\n",
       "      <td>41.0</td>\n",
       "      <td>0</td>\n",
       "      <td>...</td>\n",
       "      <td>1</td>\n",
       "      <td>48.0</td>\n",
       "      <td>121.0</td>\n",
       "      <td>0.410000</td>\n",
       "      <td>100000</td>\n",
       "      <td>1</td>\n",
       "      <td>6</td>\n",
       "      <td>2018</td>\n",
       "      <td>другой</td>\n",
       "      <td>0.320000</td>\n",
       "    </tr>\n",
       "    <tr>\n",
       "      <th>5</th>\n",
       "      <td>2890000.0</td>\n",
       "      <td>30</td>\n",
       "      <td>2018-09-10</td>\n",
       "      <td>1</td>\n",
       "      <td>2.625</td>\n",
       "      <td>12</td>\n",
       "      <td>14.40</td>\n",
       "      <td>5</td>\n",
       "      <td>9.1</td>\n",
       "      <td>0</td>\n",
       "      <td>...</td>\n",
       "      <td>0</td>\n",
       "      <td>-1.0</td>\n",
       "      <td>55.0</td>\n",
       "      <td>0.303333</td>\n",
       "      <td>96333</td>\n",
       "      <td>0</td>\n",
       "      <td>9</td>\n",
       "      <td>2018</td>\n",
       "      <td>другой</td>\n",
       "      <td>0.480000</td>\n",
       "    </tr>\n",
       "    <tr>\n",
       "      <th>6</th>\n",
       "      <td>3700000.0</td>\n",
       "      <td>37</td>\n",
       "      <td>2017-11-02</td>\n",
       "      <td>1</td>\n",
       "      <td>2.600</td>\n",
       "      <td>26</td>\n",
       "      <td>10.60</td>\n",
       "      <td>6</td>\n",
       "      <td>14.4</td>\n",
       "      <td>1</td>\n",
       "      <td>...</td>\n",
       "      <td>0</td>\n",
       "      <td>-1.0</td>\n",
       "      <td>155.0</td>\n",
       "      <td>0.389189</td>\n",
       "      <td>100000</td>\n",
       "      <td>3</td>\n",
       "      <td>11</td>\n",
       "      <td>2017</td>\n",
       "      <td>другой</td>\n",
       "      <td>0.286486</td>\n",
       "    </tr>\n",
       "    <tr>\n",
       "      <th>7</th>\n",
       "      <td>7915000.0</td>\n",
       "      <td>72</td>\n",
       "      <td>2019-04-18</td>\n",
       "      <td>2</td>\n",
       "      <td>2.750</td>\n",
       "      <td>24</td>\n",
       "      <td>43.00</td>\n",
       "      <td>22</td>\n",
       "      <td>18.9</td>\n",
       "      <td>2</td>\n",
       "      <td>...</td>\n",
       "      <td>0</td>\n",
       "      <td>-1.0</td>\n",
       "      <td>NaN</td>\n",
       "      <td>0.262500</td>\n",
       "      <td>109930</td>\n",
       "      <td>3</td>\n",
       "      <td>4</td>\n",
       "      <td>2019</td>\n",
       "      <td>другой</td>\n",
       "      <td>0.597222</td>\n",
       "    </tr>\n",
       "    <tr>\n",
       "      <th>8</th>\n",
       "      <td>2900000.0</td>\n",
       "      <td>33</td>\n",
       "      <td>2018-05-23</td>\n",
       "      <td>1</td>\n",
       "      <td>2.650</td>\n",
       "      <td>27</td>\n",
       "      <td>15.43</td>\n",
       "      <td>26</td>\n",
       "      <td>8.8</td>\n",
       "      <td>0</td>\n",
       "      <td>...</td>\n",
       "      <td>0</td>\n",
       "      <td>-1.0</td>\n",
       "      <td>189.0</td>\n",
       "      <td>0.266970</td>\n",
       "      <td>87878</td>\n",
       "      <td>2</td>\n",
       "      <td>5</td>\n",
       "      <td>2018</td>\n",
       "      <td>другой</td>\n",
       "      <td>0.467576</td>\n",
       "    </tr>\n",
       "    <tr>\n",
       "      <th>9</th>\n",
       "      <td>5400000.0</td>\n",
       "      <td>61</td>\n",
       "      <td>2017-02-26</td>\n",
       "      <td>3</td>\n",
       "      <td>2.500</td>\n",
       "      <td>9</td>\n",
       "      <td>43.60</td>\n",
       "      <td>7</td>\n",
       "      <td>6.5</td>\n",
       "      <td>2</td>\n",
       "      <td>...</td>\n",
       "      <td>0</td>\n",
       "      <td>-1.0</td>\n",
       "      <td>289.0</td>\n",
       "      <td>0.106557</td>\n",
       "      <td>88524</td>\n",
       "      <td>6</td>\n",
       "      <td>2</td>\n",
       "      <td>2017</td>\n",
       "      <td>другой</td>\n",
       "      <td>0.714754</td>\n",
       "    </tr>\n",
       "  </tbody>\n",
       "</table>\n",
       "<p>10 rows × 25 columns</p>\n",
       "</div>"
      ],
      "text/plain": [
       "   last_price  total_area first_day_exposition  rooms  ceiling_height  \\\n",
       "0  13000000.0         108           2019-03-07      3           2.700   \n",
       "1   3350000.0          40           2018-12-04      1           2.650   \n",
       "2   5196000.0          56           2015-08-20      2           2.600   \n",
       "3  64900000.0         159           2015-07-24      3           2.600   \n",
       "4  10000000.0         100           2018-06-19      2           3.030   \n",
       "5   2890000.0          30           2018-09-10      1           2.625   \n",
       "6   3700000.0          37           2017-11-02      1           2.600   \n",
       "7   7915000.0          72           2019-04-18      2           2.750   \n",
       "8   2900000.0          33           2018-05-23      1           2.650   \n",
       "9   5400000.0          61           2017-02-26      3           2.500   \n",
       "\n",
       "   floors_total  living_area  floor  kitchen_area  balcony  ...  \\\n",
       "0            16        51.00      8          25.0        0  ...   \n",
       "1            11        18.60      1          11.0        2  ...   \n",
       "2             5        34.30      4           8.3        0  ...   \n",
       "3            14        90.80      9          29.8        0  ...   \n",
       "4            14        32.00     13          41.0        0  ...   \n",
       "5            12        14.40      5           9.1        0  ...   \n",
       "6            26        10.60      6          14.4        1  ...   \n",
       "7            24        43.00     22          18.9        2  ...   \n",
       "8            27        15.43     26           8.8        0  ...   \n",
       "9             9        43.60      7           6.5        2  ...   \n",
       "\n",
       "  ponds_around3000  ponds_nearest  days_exposition  kitchen_percent  \\\n",
       "0                2          755.0              NaN         0.231481   \n",
       "1                0           -1.0             81.0         0.275000   \n",
       "2                2          574.0            558.0         0.148214   \n",
       "3                3          234.0            424.0              NaN   \n",
       "4                1           48.0            121.0         0.410000   \n",
       "5                0           -1.0             55.0         0.303333   \n",
       "6                0           -1.0            155.0         0.389189   \n",
       "7                0           -1.0              NaN         0.262500   \n",
       "8                0           -1.0            189.0         0.266970   \n",
       "9                0           -1.0            289.0         0.106557   \n",
       "\n",
       "   price_per_square_meter  exposition_weekday  exposition_month  \\\n",
       "0                  120370                   3                 3   \n",
       "1                   83750                   1                12   \n",
       "2                   92785                   3                 8   \n",
       "3                  408176                   4                 7   \n",
       "4                  100000                   1                 6   \n",
       "5                   96333                   0                 9   \n",
       "6                  100000                   3                11   \n",
       "7                  109930                   3                 4   \n",
       "8                   87878                   2                 5   \n",
       "9                   88524                   6                 2   \n",
       "\n",
       "   exposition_year  floor_type  living_area_percent  \n",
       "0             2019      другой             0.472222  \n",
       "1             2018      первый             0.465000  \n",
       "2             2015      другой             0.612500  \n",
       "3             2015      другой             0.571069  \n",
       "4             2018      другой             0.320000  \n",
       "5             2018      другой             0.480000  \n",
       "6             2017      другой             0.286486  \n",
       "7             2019      другой             0.597222  \n",
       "8             2018      другой             0.467576  \n",
       "9             2017      другой             0.714754  \n",
       "\n",
       "[10 rows x 25 columns]"
      ]
     },
     "execution_count": 370,
     "metadata": {},
     "output_type": "execute_result"
    }
   ],
   "source": [
    "# печать первых 10 строк таблицы\n",
    "df.head(10)"
   ]
  },
  {
   "cell_type": "markdown",
   "metadata": {},
   "source": [
    "<div style=\"border:solid blue 2px; padding: 20px\">\n",
    "\n",
    "**Выводы**\n",
    "    \n",
    "В датафрейм добавлены следующие столбцы:\n",
    " * kitchen_percent - хранит долю, которую площадь кухни занимает ко всей площади\n",
    " * price_per_square_meter - хранит цену за квадратный метр\n",
    " * exposition_weekday - хранит день недели, в который добавлено объявление\n",
    " * exposition_month - хранит месяц, в который добавлено объявление\n",
    " * exposition_year - хранит год, в который добавлено объявление\n",
    " * floor_type - хранит тип этажа, на котором находится квартира (первый, последний, другой)\n",
    " * living_area_percent - хранит долю, которую жилая площадь занимает ко всей площади"
   ]
  },
  {
   "cell_type": "markdown",
   "metadata": {},
   "source": [
    "## Исследовательский анализ данных"
   ]
  },
  {
   "cell_type": "markdown",
   "metadata": {},
   "source": [
    "### Изучение основных параметров\n"
   ]
  },
  {
   "cell_type": "markdown",
   "metadata": {},
   "source": [
    "Изучим параметры: площадь, цена, число комнат, высота потолков."
   ]
  },
  {
   "cell_type": "markdown",
   "metadata": {},
   "source": [
    "Посмотрим общую характеристику по параметрам с помощью метода describe()"
   ]
  },
  {
   "cell_type": "code",
   "execution_count": 371,
   "metadata": {},
   "outputs": [
    {
     "data": {
      "text/html": [
       "<div>\n",
       "<style scoped>\n",
       "    .dataframe tbody tr th:only-of-type {\n",
       "        vertical-align: middle;\n",
       "    }\n",
       "\n",
       "    .dataframe tbody tr th {\n",
       "        vertical-align: top;\n",
       "    }\n",
       "\n",
       "    .dataframe thead th {\n",
       "        text-align: right;\n",
       "    }\n",
       "</style>\n",
       "<table border=\"1\" class=\"dataframe\">\n",
       "  <thead>\n",
       "    <tr style=\"text-align: right;\">\n",
       "      <th></th>\n",
       "      <th>total_area</th>\n",
       "      <th>last_price</th>\n",
       "      <th>rooms</th>\n",
       "      <th>ceiling_height</th>\n",
       "    </tr>\n",
       "  </thead>\n",
       "  <tbody>\n",
       "    <tr>\n",
       "      <th>count</th>\n",
       "      <td>23546.000000</td>\n",
       "      <td>2.354600e+04</td>\n",
       "      <td>23546.000000</td>\n",
       "      <td>23546.000000</td>\n",
       "    </tr>\n",
       "    <tr>\n",
       "      <th>mean</th>\n",
       "      <td>60.140661</td>\n",
       "      <td>6.499897e+06</td>\n",
       "      <td>2.069523</td>\n",
       "      <td>2.737610</td>\n",
       "    </tr>\n",
       "    <tr>\n",
       "      <th>std</th>\n",
       "      <td>34.783776</td>\n",
       "      <td>1.068185e+07</td>\n",
       "      <td>1.076461</td>\n",
       "      <td>1.009355</td>\n",
       "    </tr>\n",
       "    <tr>\n",
       "      <th>min</th>\n",
       "      <td>12.000000</td>\n",
       "      <td>1.219000e+04</td>\n",
       "      <td>0.000000</td>\n",
       "      <td>1.000000</td>\n",
       "    </tr>\n",
       "    <tr>\n",
       "      <th>25%</th>\n",
       "      <td>40.000000</td>\n",
       "      <td>3.400000e+06</td>\n",
       "      <td>1.000000</td>\n",
       "      <td>2.550000</td>\n",
       "    </tr>\n",
       "    <tr>\n",
       "      <th>50%</th>\n",
       "      <td>52.000000</td>\n",
       "      <td>4.638000e+06</td>\n",
       "      <td>2.000000</td>\n",
       "      <td>2.650000</td>\n",
       "    </tr>\n",
       "    <tr>\n",
       "      <th>75%</th>\n",
       "      <td>70.000000</td>\n",
       "      <td>6.772072e+06</td>\n",
       "      <td>3.000000</td>\n",
       "      <td>2.750000</td>\n",
       "    </tr>\n",
       "    <tr>\n",
       "      <th>max</th>\n",
       "      <td>900.000000</td>\n",
       "      <td>7.630000e+08</td>\n",
       "      <td>19.000000</td>\n",
       "      <td>100.000000</td>\n",
       "    </tr>\n",
       "  </tbody>\n",
       "</table>\n",
       "</div>"
      ],
      "text/plain": [
       "         total_area    last_price         rooms  ceiling_height\n",
       "count  23546.000000  2.354600e+04  23546.000000    23546.000000\n",
       "mean      60.140661  6.499897e+06      2.069523        2.737610\n",
       "std       34.783776  1.068185e+07      1.076461        1.009355\n",
       "min       12.000000  1.219000e+04      0.000000        1.000000\n",
       "25%       40.000000  3.400000e+06      1.000000        2.550000\n",
       "50%       52.000000  4.638000e+06      2.000000        2.650000\n",
       "75%       70.000000  6.772072e+06      3.000000        2.750000\n",
       "max      900.000000  7.630000e+08     19.000000      100.000000"
      ]
     },
     "execution_count": 371,
     "metadata": {},
     "output_type": "execute_result"
    }
   ],
   "source": [
    "# применение метода describe к столбцам 'total_area', 'last_price', 'rooms', 'ceiling_height'\n",
    "df[['total_area', 'last_price', 'rooms', 'ceiling_height']].describe()"
   ]
  },
  {
   "cell_type": "markdown",
   "metadata": {},
   "source": [
    "Для упрощения работы реализуем функции, которые будут строить гистрограммы и диаграммы размаха"
   ]
  },
  {
   "cell_type": "code",
   "execution_count": 372,
   "metadata": {},
   "outputs": [],
   "source": [
    "# функция построения гистрограммы\n",
    "def draw_hist(col, xmin, xmax):\n",
    "    df[col].hist(bins=50, range=(xmin, xmax))"
   ]
  },
  {
   "cell_type": "code",
   "execution_count": 373,
   "metadata": {},
   "outputs": [],
   "source": [
    "# функция построения бокс-плота \n",
    "def draw_boxplot(col, ymin=-50, ymax=200):\n",
    "    plt.ylim(ymin, ymax)\n",
    "    df.boxplot(col)"
   ]
  },
  {
   "cell_type": "markdown",
   "metadata": {},
   "source": [
    "Теперь построи гистограммы и диаграммы размаха для каждого параметра. С помощью графиков определим выбивающиеся значения и удалим их"
   ]
  },
  {
   "cell_type": "markdown",
   "metadata": {},
   "source": [
    "#### Столбец total_area"
   ]
  },
  {
   "cell_type": "code",
   "execution_count": 374,
   "metadata": {},
   "outputs": [
    {
     "data": {
      "image/png": "[encoded data removed]",
      "text/plain": [
       "<Figure size 432x288 with 1 Axes>"
      ]
     },
     "metadata": {
      "needs_background": "light"
     },
     "output_type": "display_data"
    }
   ],
   "source": [
    "# построение гистограммы для столбца total_area\n",
    "draw_hist('total_area', 0, 400)"
   ]
  },
  {
   "cell_type": "markdown",
   "metadata": {},
   "source": [
    "Гистограмма по столбцу total_area выглядит правдоподобно. Очень мало квартир, площадь которых меньше 20 квадратных метров, а так же, начиная со 100 квадратных метров, с увеличением площади начинает заметно уменьшаться число квартир. Пик значений приходится где-то между 35 и 50 квадратными метрами"
   ]
  },
  {
   "cell_type": "code",
   "execution_count": 375,
   "metadata": {
    "scrolled": true
   },
   "outputs": [
    {
     "data": {
      "image/png": "[encoded data removed]",
      "text/plain": [
       "<Figure size 432x288 with 1 Axes>"
      ]
     },
     "metadata": {
      "needs_background": "light"
     },
     "output_type": "display_data"
    }
   ],
   "source": [
    "# построения диаграммы размаха для столбца total_area\n",
    "draw_boxplot('total_area')"
   ]
  },
  {
   "cell_type": "markdown",
   "metadata": {},
   "source": [
    "Разброс значений где-то между 15 и 120 квадратными метрами. Удалим выбивающиеся значения "
   ]
  },
  {
   "cell_type": "code",
   "execution_count": 376,
   "metadata": {},
   "outputs": [],
   "source": [
    "# замена датафрейма срезом по total_area от 15 до 120 квадратных метров\n",
    "df = df.query('total_area>=15 and total_area<=120')"
   ]
  },
  {
   "cell_type": "markdown",
   "metadata": {},
   "source": [
    "#### Столбец last_price"
   ]
  },
  {
   "cell_type": "code",
   "execution_count": 377,
   "metadata": {},
   "outputs": [
    {
     "data": {
      "image/png": "[encoded data removed]",
      "text/plain": [
       "<Figure size 432x288 with 1 Axes>"
      ]
     },
     "metadata": {
      "needs_background": "light"
     },
     "output_type": "display_data"
    }
   ],
   "source": [
    "# построение гистограммы для столбца last_price\n",
    "draw_hist('last_price', 0, 20000000)"
   ]
  },
  {
   "cell_type": "markdown",
   "metadata": {},
   "source": [
    "По гистограмме можно сказать, что наибольшее количество квартир имеют стоимость где-то около 3 млн и не так много квартир стоят больше 9 млн."
   ]
  },
  {
   "cell_type": "code",
   "execution_count": 378,
   "metadata": {},
   "outputs": [
    {
     "data": {
      "image/png": "[encoded data removed]",
      "text/plain": [
       "<Figure size 432x288 with 1 Axes>"
      ]
     },
     "metadata": {
      "needs_background": "light"
     },
     "output_type": "display_data"
    }
   ],
   "source": [
    "# построения диаграммы размаха для столбца last_price\n",
    "draw_boxplot('last_price', -500000, 15000000)"
   ]
  },
  {
   "cell_type": "markdown",
   "metadata": {},
   "source": [
    "Разброс значений где-то между 0 и 1.1.  Удалим выбивающиеся значения"
   ]
  },
  {
   "cell_type": "code",
   "execution_count": 379,
   "metadata": {},
   "outputs": [],
   "source": [
    "# замена датафрейма срезом по last_price до 11000000\n",
    "df = df.query('last_price>10000 and last_price<=11000000')"
   ]
  },
  {
   "cell_type": "markdown",
   "metadata": {},
   "source": [
    "#### Столбец rooms"
   ]
  },
  {
   "cell_type": "code",
   "execution_count": 380,
   "metadata": {},
   "outputs": [
    {
     "data": {
      "image/png": "[encoded data removed]",
      "text/plain": [
       "<Figure size 432x288 with 1 Axes>"
      ]
     },
     "metadata": {
      "needs_background": "light"
     },
     "output_type": "display_data"
    }
   ],
   "source": [
    "# построение гистограммы для столбца rooms\n",
    "draw_hist('rooms', 0, 10)"
   ]
  },
  {
   "cell_type": "markdown",
   "metadata": {},
   "source": [
    "По гистограмме видно, что основные значения - это от 1 до 3 комнат. Есть несколько квартир с 0 комнат - студии"
   ]
  },
  {
   "cell_type": "code",
   "execution_count": 381,
   "metadata": {},
   "outputs": [
    {
     "data": {
      "image/png": "[encoded data removed]",
      "text/plain": [
       "<Figure size 432x288 with 1 Axes>"
      ]
     },
     "metadata": {
      "needs_background": "light"
     },
     "output_type": "display_data"
    }
   ],
   "source": [
    "# построения диаграммы размаха для столбца rooms\n",
    "draw_boxplot('rooms', -1, 10)"
   ]
  },
  {
   "cell_type": "markdown",
   "metadata": {},
   "source": [
    "Разброс значений от 0 до 6. Оставим только их"
   ]
  },
  {
   "cell_type": "code",
   "execution_count": 382,
   "metadata": {},
   "outputs": [],
   "source": [
    "# замена датафрейма срезом по rooms от 0 до 6.\n",
    "df = df.query('rooms>=0 and rooms <= 6')"
   ]
  },
  {
   "cell_type": "markdown",
   "metadata": {},
   "source": [
    "#### Столбец ceiling_height"
   ]
  },
  {
   "cell_type": "code",
   "execution_count": 383,
   "metadata": {},
   "outputs": [
    {
     "data": {
      "image/png": "[encoded data removed]",
      "text/plain": [
       "<Figure size 432x288 with 1 Axes>"
      ]
     },
     "metadata": {
      "needs_background": "light"
     },
     "output_type": "display_data"
    }
   ],
   "source": [
    "# построение гистограммы для столбца ceiling_height\n",
    "draw_hist('ceiling_height', 2, 5)"
   ]
  },
  {
   "cell_type": "markdown",
   "metadata": {},
   "source": [
    "Наибольшее число значений находится примерно от 2.5 до 2.7 м"
   ]
  },
  {
   "cell_type": "code",
   "execution_count": 384,
   "metadata": {
    "scrolled": true
   },
   "outputs": [
    {
     "data": {
      "image/png": "[encoded data removed]",
      "text/plain": [
       "<Figure size 432x288 with 1 Axes>"
      ]
     },
     "metadata": {
      "needs_background": "light"
     },
     "output_type": "display_data"
    }
   ],
   "source": [
    "# построения диаграммы размаха для столбца ceiling_height\n",
    "draw_boxplot('ceiling_height', 2, 4)"
   ]
  },
  {
   "cell_type": "markdown",
   "metadata": {},
   "source": [
    "Выбросы значений меньше 2.25 и больше 3.1. Но нормальные значения для высоты потолков от 2.25 до 4.5"
   ]
  },
  {
   "cell_type": "code",
   "execution_count": 385,
   "metadata": {},
   "outputs": [],
   "source": [
    "# замена датафрейма срезом по ceiling_height от 2.25 до 4.5.\n",
    "df = df.query('ceiling_height>=2.25 and ceiling_height <=4.5')"
   ]
  },
  {
   "cell_type": "markdown",
   "metadata": {},
   "source": [
    "<div style=\"border:solid blue 2px; padding: 20px\">\n",
    "\n",
    "**Промежуточные выводы**\n",
    "    \n",
    "  Изучены основные параметры квартир -  площадь, цена, число комнат, высота потолков.\n",
    "  А так же удалены из датафрейма квартиры с сильно выбивающимися значениями по этим параметрам"
   ]
  },
  {
   "cell_type": "markdown",
   "metadata": {},
   "source": [
    "### Изучение времени продажи квартиры"
   ]
  },
  {
   "cell_type": "markdown",
   "metadata": {},
   "source": [
    "Изучим время продажи квартиры. Опишем, сколько в среднем занимает продажа."
   ]
  },
  {
   "cell_type": "code",
   "execution_count": 386,
   "metadata": {},
   "outputs": [
    {
     "data": {
      "image/png": "[encoded data removed]",
      "text/plain": [
       "<Figure size 432x288 with 1 Axes>"
      ]
     },
     "metadata": {
      "needs_background": "light"
     },
     "output_type": "display_data"
    }
   ],
   "source": [
    "# построение гистограммы для столбца days_exposition\n",
    "draw_hist('days_exposition', 0, 1600)"
   ]
  },
  {
   "cell_type": "markdown",
   "metadata": {},
   "source": [
    "В целом, данные выглядят правдоподобно в том плане, что чем дольше висит объявление, тем меньше таких объявлений. Но пик значений у 0 - это неожиданно."
   ]
  },
  {
   "cell_type": "code",
   "execution_count": 387,
   "metadata": {},
   "outputs": [
    {
     "data": {
      "image/png": "[encoded data removed]",
      "text/plain": [
       "<Figure size 432x288 with 1 Axes>"
      ]
     },
     "metadata": {
      "needs_background": "light"
     },
     "output_type": "display_data"
    }
   ],
   "source": [
    "# построения диаграммы размаха для столбца days_exposition\n",
    "draw_boxplot('days_exposition', 0, 500)"
   ]
  },
  {
   "cell_type": "markdown",
   "metadata": {},
   "source": [
    "Значения распределены от 0 до 490."
   ]
  },
  {
   "cell_type": "markdown",
   "metadata": {},
   "source": [
    "Чтобы описать, сколько в среднем занимает продажа, посмотрим основные характеристики"
   ]
  },
  {
   "cell_type": "code",
   "execution_count": 388,
   "metadata": {},
   "outputs": [
    {
     "data": {
      "text/plain": [
       "91.0"
      ]
     },
     "execution_count": 388,
     "metadata": {},
     "output_type": "execute_result"
    }
   ],
   "source": [
    "# значение медианы по столцу days_exposition\n",
    "df['days_exposition'].median()"
   ]
  },
  {
   "cell_type": "code",
   "execution_count": 389,
   "metadata": {},
   "outputs": [
    {
     "data": {
      "text/plain": [
       "count    18576.000000\n",
       "mean       171.600237\n",
       "std        209.176197\n",
       "min          1.000000\n",
       "25%         43.000000\n",
       "50%         91.000000\n",
       "75%        217.000000\n",
       "max       1580.000000\n",
       "Name: days_exposition, dtype: float64"
      ]
     },
     "execution_count": 389,
     "metadata": {},
     "output_type": "execute_result"
    }
   ],
   "source": [
    "# описание основных характеристик столбца days_exposition\n",
    "df['days_exposition'].describe()"
   ]
  },
  {
   "cell_type": "markdown",
   "metadata": {},
   "source": [
    "<div style=\"border:solid blue 2px; padding: 20px\">\n",
    "\n",
    "**Промежуточные выводы**\n",
    "\n",
    "Итак, мы видим, что в среднем продажа квартиры занимает от 43 до 217 дней. Если продажа состоялась раньше, чем 43 дней, можно считать, что продажи прошли быстро, а если сделака сотоялась позднее, чем через 217 дней, то долго."
   ]
  },
  {
   "cell_type": "markdown",
   "metadata": {},
   "source": [
    "### Какие факторы больше всего влияют на стоимость квартиры"
   ]
  },
  {
   "cell_type": "markdown",
   "metadata": {},
   "source": [
    "Изучим, зависит ли цена от площади, числа комнат, удалённости от центра. Изучим зависимость цены от того, на каком этаже расположена квартира: первом, последнем или другом. Также изучим зависимость от даты размещения: дня недели, месяца и года."
   ]
  },
  {
   "cell_type": "markdown",
   "metadata": {},
   "source": [
    "#### Зависимость цены от площади"
   ]
  },
  {
   "cell_type": "markdown",
   "metadata": {},
   "source": [
    "Построим диаграмму рассеяния для цены в зависимости от площади"
   ]
  },
  {
   "cell_type": "code",
   "execution_count": 390,
   "metadata": {},
   "outputs": [
    {
     "data": {
      "text/plain": [
       "<AxesSubplot:xlabel='total_area'>"
      ]
     },
     "execution_count": 390,
     "metadata": {},
     "output_type": "execute_result"
    },
    {
     "data": {
      "image/png": "[encoded data removed]",
      "text/plain": [
       "<Figure size 360x360 with 1 Axes>"
      ]
     },
     "metadata": {
      "needs_background": "light"
     },
     "output_type": "display_data"
    }
   ],
   "source": [
    "# построение диаграммы рассеяния для last_price в зависимости от total_area\n",
    "(\n",
    "    df.pivot_table(index='total_area', values='last_price')\n",
    "    .plot(grid=True, style='o', figsize=(5, 5))\n",
    ")\n",
    "\n"
   ]
  },
  {
   "cell_type": "code",
   "execution_count": 391,
   "metadata": {
    "scrolled": true
   },
   "outputs": [
    {
     "data": {
      "text/html": [
       "<div>\n",
       "<style scoped>\n",
       "    .dataframe tbody tr th:only-of-type {\n",
       "        vertical-align: middle;\n",
       "    }\n",
       "\n",
       "    .dataframe tbody tr th {\n",
       "        vertical-align: top;\n",
       "    }\n",
       "\n",
       "    .dataframe thead th {\n",
       "        text-align: right;\n",
       "    }\n",
       "</style>\n",
       "<table border=\"1\" class=\"dataframe\">\n",
       "  <thead>\n",
       "    <tr style=\"text-align: right;\">\n",
       "      <th></th>\n",
       "      <th>last_price</th>\n",
       "      <th>price_per_square_meter</th>\n",
       "      <th>total_area</th>\n",
       "      <th>rooms</th>\n",
       "      <th>city_centers_nearest</th>\n",
       "    </tr>\n",
       "  </thead>\n",
       "  <tbody>\n",
       "    <tr>\n",
       "      <th>last_price</th>\n",
       "      <td>1.000000</td>\n",
       "      <td>0.617842</td>\n",
       "      <td>0.686474</td>\n",
       "      <td>0.436294</td>\n",
       "      <td>-0.342079</td>\n",
       "    </tr>\n",
       "    <tr>\n",
       "      <th>price_per_square_meter</th>\n",
       "      <td>0.617842</td>\n",
       "      <td>1.000000</td>\n",
       "      <td>-0.105128</td>\n",
       "      <td>-0.245108</td>\n",
       "      <td>-0.391080</td>\n",
       "    </tr>\n",
       "    <tr>\n",
       "      <th>total_area</th>\n",
       "      <td>0.686474</td>\n",
       "      <td>-0.105128</td>\n",
       "      <td>1.000000</td>\n",
       "      <td>0.807331</td>\n",
       "      <td>-0.114405</td>\n",
       "    </tr>\n",
       "    <tr>\n",
       "      <th>rooms</th>\n",
       "      <td>0.436294</td>\n",
       "      <td>-0.245108</td>\n",
       "      <td>0.807331</td>\n",
       "      <td>1.000000</td>\n",
       "      <td>-0.068268</td>\n",
       "    </tr>\n",
       "    <tr>\n",
       "      <th>city_centers_nearest</th>\n",
       "      <td>-0.342079</td>\n",
       "      <td>-0.391080</td>\n",
       "      <td>-0.114405</td>\n",
       "      <td>-0.068268</td>\n",
       "      <td>1.000000</td>\n",
       "    </tr>\n",
       "  </tbody>\n",
       "</table>\n",
       "</div>"
      ],
      "text/plain": [
       "                        last_price  price_per_square_meter  total_area  \\\n",
       "last_price                1.000000                0.617842    0.686474   \n",
       "price_per_square_meter    0.617842                1.000000   -0.105128   \n",
       "total_area                0.686474               -0.105128    1.000000   \n",
       "rooms                     0.436294               -0.245108    0.807331   \n",
       "city_centers_nearest     -0.342079               -0.391080   -0.114405   \n",
       "\n",
       "                           rooms  city_centers_nearest  \n",
       "last_price              0.436294             -0.342079  \n",
       "price_per_square_meter -0.245108             -0.391080  \n",
       "total_area              0.807331             -0.114405  \n",
       "rooms                   1.000000             -0.068268  \n",
       "city_centers_nearest   -0.068268              1.000000  "
      ]
     },
     "execution_count": 391,
     "metadata": {},
     "output_type": "execute_result"
    }
   ],
   "source": [
    "# посчитаем корреляцию\n",
    "df[['last_price', 'price_per_square_meter', 'total_area', 'rooms', 'city_centers_nearest']].corr()"
   ]
  },
  {
   "cell_type": "markdown",
   "metadata": {},
   "source": [
    "Посмотрим теперь на цену за квадратный метр"
   ]
  },
  {
   "cell_type": "code",
   "execution_count": 392,
   "metadata": {},
   "outputs": [
    {
     "data": {
      "text/plain": [
       "<AxesSubplot:xlabel='total_area'>"
      ]
     },
     "execution_count": 392,
     "metadata": {},
     "output_type": "execute_result"
    },
    {
     "data": {
      "image/png": "[encoded data removed]",
      "text/plain": [
       "<Figure size 360x360 with 1 Axes>"
      ]
     },
     "metadata": {
      "needs_background": "light"
     },
     "output_type": "display_data"
    }
   ],
   "source": [
    "# построение диаграммы рассеяния\n",
    "(\n",
    "df.pivot_table(index='total_area', values='price_per_square_meter')\n",
    "    .plot(grid=True, style='o', figsize=(5, 5))\n",
    ")"
   ]
  },
  {
   "cell_type": "markdown",
   "metadata": {},
   "source": [
    "Итак, чем больше площадь, тем выше цена квартиры"
   ]
  },
  {
   "cell_type": "markdown",
   "metadata": {},
   "source": [
    "#### Зависимость цены от числа комнат\n"
   ]
  },
  {
   "cell_type": "code",
   "execution_count": 393,
   "metadata": {},
   "outputs": [
    {
     "data": {
      "text/plain": [
       "<AxesSubplot:xlabel='rooms'>"
      ]
     },
     "execution_count": 393,
     "metadata": {},
     "output_type": "execute_result"
    },
    {
     "data": {
      "image/png": "[encoded data removed]",
      "text/plain": [
       "<Figure size 360x360 with 1 Axes>"
      ]
     },
     "metadata": {
      "needs_background": "light"
     },
     "output_type": "display_data"
    }
   ],
   "source": [
    "# построение диаграммы \n",
    "(\n",
    "    df.pivot_table(index='rooms', values='last_price')\n",
    "    .plot(grid=True, style='o-', figsize=(5, 5))\n",
    ")"
   ]
  },
  {
   "cell_type": "markdown",
   "metadata": {},
   "source": [
    "Посмотрим на зависимость цены за квадратный метро от числа комнат"
   ]
  },
  {
   "cell_type": "code",
   "execution_count": 394,
   "metadata": {},
   "outputs": [
    {
     "data": {
      "text/plain": [
       "<AxesSubplot:xlabel='rooms'>"
      ]
     },
     "execution_count": 394,
     "metadata": {},
     "output_type": "execute_result"
    },
    {
     "data": {
      "image/png": "[encoded data removed]",
      "text/plain": [
       "<Figure size 360x360 with 1 Axes>"
      ]
     },
     "metadata": {
      "needs_background": "light"
     },
     "output_type": "display_data"
    }
   ],
   "source": [
    "# построение диаграммы \n",
    "(\n",
    "    df.pivot_table(index='rooms', values='price_per_square_meter')\n",
    "    .plot(grid=True, style='o-', figsize=(5, 5))\n",
    ")"
   ]
  },
  {
   "cell_type": "markdown",
   "metadata": {},
   "source": [
    "Итак, чем больше комнат, тем больше цена, но корреляция этих параметров значительно ниже, чем для площади.\n",
    "Так же с увеличением количества комнат цена за квадратный метр падает. Однако для 6 комнат она начинает расти - возможно, слишком дорогие квартиры."
   ]
  },
  {
   "cell_type": "markdown",
   "metadata": {},
   "source": [
    "#### Зависимость цены от удалённости от центра\n"
   ]
  },
  {
   "cell_type": "markdown",
   "metadata": {},
   "source": [
    "Рассмотрим датафрейм, в котором нет нетипичных значений для city_centers_nearest"
   ]
  },
  {
   "cell_type": "code",
   "execution_count": 395,
   "metadata": {},
   "outputs": [],
   "source": [
    "df1 = df.query('city_centers_nearest != -1')"
   ]
  },
  {
   "cell_type": "code",
   "execution_count": 396,
   "metadata": {},
   "outputs": [
    {
     "data": {
      "text/plain": [
       "<AxesSubplot:xlabel='city_centers_nearest'>"
      ]
     },
     "execution_count": 396,
     "metadata": {},
     "output_type": "execute_result"
    },
    {
     "data": {
      "image/png": "[encoded data removed]",
      "text/plain": [
       "<Figure size 360x360 with 1 Axes>"
      ]
     },
     "metadata": {
      "needs_background": "light"
     },
     "output_type": "display_data"
    }
   ],
   "source": [
    "# построение диаграммы\n",
    "(\n",
    "    df1.pivot_table(index='city_centers_nearest', values='last_price')\n",
    "    .plot(grid=True, style='o', figsize=(5, 5))\n",
    ")"
   ]
  },
  {
   "cell_type": "code",
   "execution_count": 397,
   "metadata": {},
   "outputs": [
    {
     "data": {
      "text/html": [
       "<div>\n",
       "<style scoped>\n",
       "    .dataframe tbody tr th:only-of-type {\n",
       "        vertical-align: middle;\n",
       "    }\n",
       "\n",
       "    .dataframe tbody tr th {\n",
       "        vertical-align: top;\n",
       "    }\n",
       "\n",
       "    .dataframe thead th {\n",
       "        text-align: right;\n",
       "    }\n",
       "</style>\n",
       "<table border=\"1\" class=\"dataframe\">\n",
       "  <thead>\n",
       "    <tr style=\"text-align: right;\">\n",
       "      <th></th>\n",
       "      <th>last_price</th>\n",
       "      <th>price_per_square_meter</th>\n",
       "      <th>total_area</th>\n",
       "      <th>rooms</th>\n",
       "      <th>city_centers_nearest</th>\n",
       "    </tr>\n",
       "  </thead>\n",
       "  <tbody>\n",
       "    <tr>\n",
       "      <th>last_price</th>\n",
       "      <td>1.000000</td>\n",
       "      <td>0.617842</td>\n",
       "      <td>0.686474</td>\n",
       "      <td>0.436294</td>\n",
       "      <td>-0.342079</td>\n",
       "    </tr>\n",
       "    <tr>\n",
       "      <th>price_per_square_meter</th>\n",
       "      <td>0.617842</td>\n",
       "      <td>1.000000</td>\n",
       "      <td>-0.105128</td>\n",
       "      <td>-0.245108</td>\n",
       "      <td>-0.391080</td>\n",
       "    </tr>\n",
       "    <tr>\n",
       "      <th>total_area</th>\n",
       "      <td>0.686474</td>\n",
       "      <td>-0.105128</td>\n",
       "      <td>1.000000</td>\n",
       "      <td>0.807331</td>\n",
       "      <td>-0.114405</td>\n",
       "    </tr>\n",
       "    <tr>\n",
       "      <th>rooms</th>\n",
       "      <td>0.436294</td>\n",
       "      <td>-0.245108</td>\n",
       "      <td>0.807331</td>\n",
       "      <td>1.000000</td>\n",
       "      <td>-0.068268</td>\n",
       "    </tr>\n",
       "    <tr>\n",
       "      <th>city_centers_nearest</th>\n",
       "      <td>-0.342079</td>\n",
       "      <td>-0.391080</td>\n",
       "      <td>-0.114405</td>\n",
       "      <td>-0.068268</td>\n",
       "      <td>1.000000</td>\n",
       "    </tr>\n",
       "  </tbody>\n",
       "</table>\n",
       "</div>"
      ],
      "text/plain": [
       "                        last_price  price_per_square_meter  total_area  \\\n",
       "last_price                1.000000                0.617842    0.686474   \n",
       "price_per_square_meter    0.617842                1.000000   -0.105128   \n",
       "total_area                0.686474               -0.105128    1.000000   \n",
       "rooms                     0.436294               -0.245108    0.807331   \n",
       "city_centers_nearest     -0.342079               -0.391080   -0.114405   \n",
       "\n",
       "                           rooms  city_centers_nearest  \n",
       "last_price              0.436294             -0.342079  \n",
       "price_per_square_meter -0.245108             -0.391080  \n",
       "total_area              0.807331             -0.114405  \n",
       "rooms                   1.000000             -0.068268  \n",
       "city_centers_nearest   -0.068268              1.000000  "
      ]
     },
     "execution_count": 397,
     "metadata": {},
     "output_type": "execute_result"
    }
   ],
   "source": [
    "# подсчёт коэффициента корреляции\n",
    "df1[['last_price', 'price_per_square_meter', 'total_area', 'rooms', 'city_centers_nearest']].corr()"
   ]
  },
  {
   "cell_type": "code",
   "execution_count": 398,
   "metadata": {},
   "outputs": [
    {
     "data": {
      "text/plain": [
       "<AxesSubplot:xlabel='city_centers_nearest'>"
      ]
     },
     "execution_count": 398,
     "metadata": {},
     "output_type": "execute_result"
    },
    {
     "data": {
      "image/png": "[encoded data removed]",
      "text/plain": [
       "<Figure size 360x360 with 1 Axes>"
      ]
     },
     "metadata": {
      "needs_background": "light"
     },
     "output_type": "display_data"
    }
   ],
   "source": [
    "# построение диаграммы\n",
    "(\n",
    "    df1.pivot_table(index='city_centers_nearest', values='price_per_square_meter')\n",
    "    .plot(grid=True, style='o', figsize=(5, 5))\n",
    ")"
   ]
  },
  {
   "cell_type": "markdown",
   "metadata": {},
   "source": [
    "Наиболее дорогие квартиры можно видеть в центре города. Хотя даже там встречаются и достаточно дешёвые квартиры."
   ]
  },
  {
   "cell_type": "markdown",
   "metadata": {},
   "source": [
    "#### Зависимость цены от этажа\n"
   ]
  },
  {
   "cell_type": "code",
   "execution_count": 399,
   "metadata": {},
   "outputs": [
    {
     "data": {
      "text/plain": [
       "<AxesSubplot:xlabel='floor_type'>"
      ]
     },
     "execution_count": 399,
     "metadata": {},
     "output_type": "execute_result"
    },
    {
     "data": {
      "image/png": "[encoded data removed]",
      "text/plain": [
       "<Figure size 360x360 with 1 Axes>"
      ]
     },
     "metadata": {
      "needs_background": "light"
     },
     "output_type": "display_data"
    }
   ],
   "source": [
    "# построение диаграммы\n",
    "(\n",
    "    df.pivot_table(index='floor_type', values='last_price', aggfunc='median')\n",
    "    .plot(grid=True, style='o-', figsize=(5, 5))\n",
    ")   \n"
   ]
  },
  {
   "cell_type": "markdown",
   "metadata": {},
   "source": [
    "Дешевле всего квартиры на 1 этаже. Немного дороже на последнем. Наиболее дорогими оказываются квартиры, находящиеся не на первом и не на последнем этаже."
   ]
  },
  {
   "cell_type": "markdown",
   "metadata": {},
   "source": [
    "#### Зависимость от дня размещения\n"
   ]
  },
  {
   "cell_type": "code",
   "execution_count": 400,
   "metadata": {},
   "outputs": [
    {
     "data": {
      "text/plain": [
       "<AxesSubplot:xlabel='exposition_weekday'>"
      ]
     },
     "execution_count": 400,
     "metadata": {},
     "output_type": "execute_result"
    },
    {
     "data": {
      "image/png": "[encoded data removed]",
      "text/plain": [
       "<Figure size 360x360 with 1 Axes>"
      ]
     },
     "metadata": {
      "needs_background": "light"
     },
     "output_type": "display_data"
    }
   ],
   "source": [
    "# построение диаграммы\n",
    "(\n",
    "    df.pivot_table(index='exposition_weekday', values='last_price')\n",
    "    .plot(grid=True, style='o-', figsize=(5, 5))\n",
    ")"
   ]
  },
  {
   "cell_type": "markdown",
   "metadata": {},
   "source": [
    "В данном случае 0 обозначает понедельник. Дальше все дни идут подряд и 6 - воскресенье.\n",
    "Сильной зависимости от дня недели не наблюдается"
   ]
  },
  {
   "cell_type": "markdown",
   "metadata": {},
   "source": [
    "#### Зависимость от месяца размещения\n"
   ]
  },
  {
   "cell_type": "code",
   "execution_count": 401,
   "metadata": {
    "scrolled": false
   },
   "outputs": [
    {
     "data": {
      "text/plain": [
       "<AxesSubplot:xlabel='exposition_month'>"
      ]
     },
     "execution_count": 401,
     "metadata": {},
     "output_type": "execute_result"
    },
    {
     "data": {
      "image/png": "[encoded data removed]",
      "text/plain": [
       "<Figure size 720x360 with 1 Axes>"
      ]
     },
     "metadata": {
      "needs_background": "light"
     },
     "output_type": "display_data"
    }
   ],
   "source": [
    "# построение диаграммы\n",
    "(\n",
    "    df.pivot_table(index='exposition_month', values='last_price')\n",
    "    .plot(grid=True, style='o-', xlim=(1,12), figsize=(10, 5))\n",
    ")"
   ]
  },
  {
   "cell_type": "markdown",
   "metadata": {},
   "source": [
    "Итак, мы видим, что дешевле всего квартиры в объявлениях, выставленных в июне. Дороже всего в августе, сентябре и апреле. Но эта разница не столь велика, поэтому делать выводы про зависимость от месяца не стоит"
   ]
  },
  {
   "cell_type": "markdown",
   "metadata": {},
   "source": [
    "#### Зависимость от года размещения"
   ]
  },
  {
   "cell_type": "code",
   "execution_count": 402,
   "metadata": {},
   "outputs": [
    {
     "data": {
      "text/plain": [
       "<AxesSubplot:xlabel='exposition_year'>"
      ]
     },
     "execution_count": 402,
     "metadata": {},
     "output_type": "execute_result"
    },
    {
     "data": {
      "image/png": "[encoded data removed]",
      "text/plain": [
       "<Figure size 360x360 with 1 Axes>"
      ]
     },
     "metadata": {
      "needs_background": "light"
     },
     "output_type": "display_data"
    }
   ],
   "source": [
    "# построение диаграммы\n",
    "(\n",
    "    df.pivot_table(index='exposition_year', values='last_price')\n",
    "    .plot(grid=True, style='o-', figsize=(5, 5))\n",
    ")"
   ]
  },
  {
   "cell_type": "markdown",
   "metadata": {},
   "source": [
    "Мы видим спад цен на квартиры после 2015 года. Вероятно, это связано с экономическим кризисом. После 2018 года цены начинают расти"
   ]
  },
  {
   "cell_type": "markdown",
   "metadata": {},
   "source": [
    "### Сравнение средней стоимости квадратного метра в топ-10 городов\n"
   ]
  },
  {
   "cell_type": "markdown",
   "metadata": {},
   "source": [
    "Следующая задача. \n",
    "Выберем 10 населённых пунктов с наибольшим числом объявлений. Посчитаем среднюю цену квадратного метра в этих населённых пунктах. Выделим населённые пункты с самой высокой и низкой стоимостью жилья."
   ]
  },
  {
   "cell_type": "markdown",
   "metadata": {},
   "source": [
    "Для начала сделаем срез датафрейма по столбцам locality_name и price_per_square_meter"
   ]
  },
  {
   "cell_type": "code",
   "execution_count": 403,
   "metadata": {},
   "outputs": [
    {
     "data": {
      "text/html": [
       "<div>\n",
       "<style scoped>\n",
       "    .dataframe tbody tr th:only-of-type {\n",
       "        vertical-align: middle;\n",
       "    }\n",
       "\n",
       "    .dataframe tbody tr th {\n",
       "        vertical-align: top;\n",
       "    }\n",
       "\n",
       "    .dataframe thead th {\n",
       "        text-align: right;\n",
       "    }\n",
       "</style>\n",
       "<table border=\"1\" class=\"dataframe\">\n",
       "  <thead>\n",
       "    <tr style=\"text-align: right;\">\n",
       "      <th></th>\n",
       "      <th>locality_name</th>\n",
       "      <th>price_per_square_meter</th>\n",
       "    </tr>\n",
       "  </thead>\n",
       "  <tbody>\n",
       "    <tr>\n",
       "      <th>1</th>\n",
       "      <td>посёлок Шушары</td>\n",
       "      <td>83750</td>\n",
       "    </tr>\n",
       "    <tr>\n",
       "      <th>2</th>\n",
       "      <td>Санкт-Петербург</td>\n",
       "      <td>92785</td>\n",
       "    </tr>\n",
       "    <tr>\n",
       "      <th>4</th>\n",
       "      <td>Санкт-Петербург</td>\n",
       "      <td>100000</td>\n",
       "    </tr>\n",
       "    <tr>\n",
       "      <th>5</th>\n",
       "      <td>городской посёлок Янино-1</td>\n",
       "      <td>96333</td>\n",
       "    </tr>\n",
       "    <tr>\n",
       "      <th>6</th>\n",
       "      <td>посёлок Парголово</td>\n",
       "      <td>100000</td>\n",
       "    </tr>\n",
       "    <tr>\n",
       "      <th>...</th>\n",
       "      <td>...</td>\n",
       "      <td>...</td>\n",
       "    </tr>\n",
       "    <tr>\n",
       "      <th>23692</th>\n",
       "      <td>Тихвин</td>\n",
       "      <td>45000</td>\n",
       "    </tr>\n",
       "    <tr>\n",
       "      <th>23693</th>\n",
       "      <td>Петергоф</td>\n",
       "      <td>74193</td>\n",
       "    </tr>\n",
       "    <tr>\n",
       "      <th>23695</th>\n",
       "      <td>Тосно</td>\n",
       "      <td>52542</td>\n",
       "    </tr>\n",
       "    <tr>\n",
       "      <th>23696</th>\n",
       "      <td>село Рождествено</td>\n",
       "      <td>43859</td>\n",
       "    </tr>\n",
       "    <tr>\n",
       "      <th>23698</th>\n",
       "      <td>поселок Новый Учхоз</td>\n",
       "      <td>42187</td>\n",
       "    </tr>\n",
       "  </tbody>\n",
       "</table>\n",
       "<p>21144 rows × 2 columns</p>\n",
       "</div>"
      ],
      "text/plain": [
       "                   locality_name  price_per_square_meter\n",
       "1                 посёлок Шушары                   83750\n",
       "2                Санкт-Петербург                   92785\n",
       "4                Санкт-Петербург                  100000\n",
       "5      городской посёлок Янино-1                   96333\n",
       "6              посёлок Парголово                  100000\n",
       "...                          ...                     ...\n",
       "23692                     Тихвин                   45000\n",
       "23693                   Петергоф                   74193\n",
       "23695                      Тосно                   52542\n",
       "23696           село Рождествено                   43859\n",
       "23698        поселок Новый Учхоз                   42187\n",
       "\n",
       "[21144 rows x 2 columns]"
      ]
     },
     "execution_count": 403,
     "metadata": {},
     "output_type": "execute_result"
    }
   ],
   "source": [
    "# сохранение в переменной locality_price_per_square_meter среза датафрейма\n",
    "# по столбцам locality_name и price_per_square_meter\n",
    "locality_price_per_square_meter = df.loc[:, ['locality_name', 'price_per_square_meter']]\n",
    "locality_price_per_square_meter"
   ]
  },
  {
   "cell_type": "markdown",
   "metadata": {},
   "source": [
    "Теперь сделаем сводную таблицу с количеством значений и средним по price_per_square_meter"
   ]
  },
  {
   "cell_type": "code",
   "execution_count": 404,
   "metadata": {},
   "outputs": [
    {
     "data": {
      "text/html": [
       "<div>\n",
       "<style scoped>\n",
       "    .dataframe tbody tr th:only-of-type {\n",
       "        vertical-align: middle;\n",
       "    }\n",
       "\n",
       "    .dataframe tbody tr th {\n",
       "        vertical-align: top;\n",
       "    }\n",
       "\n",
       "    .dataframe thead tr th {\n",
       "        text-align: left;\n",
       "    }\n",
       "\n",
       "    .dataframe thead tr:last-of-type th {\n",
       "        text-align: right;\n",
       "    }\n",
       "</style>\n",
       "<table border=\"1\" class=\"dataframe\">\n",
       "  <thead>\n",
       "    <tr>\n",
       "      <th></th>\n",
       "      <th>count</th>\n",
       "      <th>mean</th>\n",
       "    </tr>\n",
       "    <tr>\n",
       "      <th></th>\n",
       "      <th>price_per_square_meter</th>\n",
       "      <th>price_per_square_meter</th>\n",
       "    </tr>\n",
       "    <tr>\n",
       "      <th>locality_name</th>\n",
       "      <th></th>\n",
       "      <th></th>\n",
       "    </tr>\n",
       "  </thead>\n",
       "  <tbody>\n",
       "    <tr>\n",
       "      <th>Бокситогорск</th>\n",
       "      <td>10</td>\n",
       "      <td>17573.400000</td>\n",
       "    </tr>\n",
       "    <tr>\n",
       "      <th>Волосово</th>\n",
       "      <td>36</td>\n",
       "      <td>40141.750000</td>\n",
       "    </tr>\n",
       "    <tr>\n",
       "      <th>Волхов</th>\n",
       "      <td>110</td>\n",
       "      <td>35056.309091</td>\n",
       "    </tr>\n",
       "    <tr>\n",
       "      <th>Всеволожск</th>\n",
       "      <td>393</td>\n",
       "      <td>67277.381679</td>\n",
       "    </tr>\n",
       "    <tr>\n",
       "      <th>Выборг</th>\n",
       "      <td>230</td>\n",
       "      <td>58340.665217</td>\n",
       "    </tr>\n",
       "    <tr>\n",
       "      <th>...</th>\n",
       "      <td>...</td>\n",
       "      <td>...</td>\n",
       "    </tr>\n",
       "    <tr>\n",
       "      <th>село Путилово</th>\n",
       "      <td>2</td>\n",
       "      <td>40172.500000</td>\n",
       "    </tr>\n",
       "    <tr>\n",
       "      <th>село Рождествено</th>\n",
       "      <td>3</td>\n",
       "      <td>37696.333333</td>\n",
       "    </tr>\n",
       "    <tr>\n",
       "      <th>село Русско-Высоцкое</th>\n",
       "      <td>9</td>\n",
       "      <td>54892.444444</td>\n",
       "    </tr>\n",
       "    <tr>\n",
       "      <th>село Старая Ладога</th>\n",
       "      <td>2</td>\n",
       "      <td>34696.500000</td>\n",
       "    </tr>\n",
       "    <tr>\n",
       "      <th>село Шум</th>\n",
       "      <td>1</td>\n",
       "      <td>33898.000000</td>\n",
       "    </tr>\n",
       "  </tbody>\n",
       "</table>\n",
       "<p>362 rows × 2 columns</p>\n",
       "</div>"
      ],
      "text/plain": [
       "                                      count                   mean\n",
       "                     price_per_square_meter price_per_square_meter\n",
       "locality_name                                                     \n",
       "Бокситогорск                             10           17573.400000\n",
       "Волосово                                 36           40141.750000\n",
       "Волхов                                  110           35056.309091\n",
       "Всеволожск                              393           67277.381679\n",
       "Выборг                                  230           58340.665217\n",
       "...                                     ...                    ...\n",
       "село Путилово                             2           40172.500000\n",
       "село Рождествено                          3           37696.333333\n",
       "село Русско-Высоцкое                      9           54892.444444\n",
       "село Старая Ладога                        2           34696.500000\n",
       "село Шум                                  1           33898.000000\n",
       "\n",
       "[362 rows x 2 columns]"
      ]
     },
     "execution_count": 404,
     "metadata": {},
     "output_type": "execute_result"
    }
   ],
   "source": [
    "# сохранение в переменной locality_price_per_square_meter сводной таблицы по количеству значений и среднему значению\n",
    "# по price_per_square_meter в зависимости от locality_name\n",
    "locality_price_per_square_meter = locality_price_per_square_meter.pivot_table(index='locality_name', values='price_per_square_meter', aggfunc=['count', 'mean'])\n",
    "locality_price_per_square_meter"
   ]
  },
  {
   "cell_type": "markdown",
   "metadata": {},
   "source": [
    "Переименуем для удобства столбцы"
   ]
  },
  {
   "cell_type": "code",
   "execution_count": 405,
   "metadata": {},
   "outputs": [],
   "source": [
    "# переименование столбцов в таблице locality_price_per_square_meter\n",
    "locality_price_per_square_meter.columns = ['count', 'mean_sq_m_price']"
   ]
  },
  {
   "cell_type": "markdown",
   "metadata": {},
   "source": [
    "Составим топ-10 мест с наибольшей стоимостью"
   ]
  },
  {
   "cell_type": "code",
   "execution_count": 406,
   "metadata": {},
   "outputs": [
    {
     "data": {
      "text/html": [
       "<div>\n",
       "<style scoped>\n",
       "    .dataframe tbody tr th:only-of-type {\n",
       "        vertical-align: middle;\n",
       "    }\n",
       "\n",
       "    .dataframe tbody tr th {\n",
       "        vertical-align: top;\n",
       "    }\n",
       "\n",
       "    .dataframe thead th {\n",
       "        text-align: right;\n",
       "    }\n",
       "</style>\n",
       "<table border=\"1\" class=\"dataframe\">\n",
       "  <thead>\n",
       "    <tr style=\"text-align: right;\">\n",
       "      <th></th>\n",
       "      <th>count</th>\n",
       "      <th>mean_sq_m_price</th>\n",
       "    </tr>\n",
       "    <tr>\n",
       "      <th>locality_name</th>\n",
       "      <th></th>\n",
       "      <th></th>\n",
       "    </tr>\n",
       "  </thead>\n",
       "  <tbody>\n",
       "    <tr>\n",
       "      <th>Санкт-Петербург</th>\n",
       "      <td>13374</td>\n",
       "      <td>105174.100194</td>\n",
       "    </tr>\n",
       "    <tr>\n",
       "      <th>посёлок Мурино</th>\n",
       "      <td>518</td>\n",
       "      <td>85672.861004</td>\n",
       "    </tr>\n",
       "    <tr>\n",
       "      <th>посёлок Шушары</th>\n",
       "      <td>438</td>\n",
       "      <td>78543.006849</td>\n",
       "    </tr>\n",
       "    <tr>\n",
       "      <th>Всеволожск</th>\n",
       "      <td>393</td>\n",
       "      <td>67277.381679</td>\n",
       "    </tr>\n",
       "    <tr>\n",
       "      <th>Пушкин</th>\n",
       "      <td>336</td>\n",
       "      <td>100270.854167</td>\n",
       "    </tr>\n",
       "    <tr>\n",
       "      <th>Колпино</th>\n",
       "      <td>335</td>\n",
       "      <td>75246.023881</td>\n",
       "    </tr>\n",
       "    <tr>\n",
       "      <th>посёлок Парголово</th>\n",
       "      <td>326</td>\n",
       "      <td>90334.024540</td>\n",
       "    </tr>\n",
       "    <tr>\n",
       "      <th>Гатчина</th>\n",
       "      <td>302</td>\n",
       "      <td>68652.552980</td>\n",
       "    </tr>\n",
       "    <tr>\n",
       "      <th>деревня Кудрово</th>\n",
       "      <td>298</td>\n",
       "      <td>92445.892617</td>\n",
       "    </tr>\n",
       "    <tr>\n",
       "      <th>Выборг</th>\n",
       "      <td>230</td>\n",
       "      <td>58340.665217</td>\n",
       "    </tr>\n",
       "  </tbody>\n",
       "</table>\n",
       "</div>"
      ],
      "text/plain": [
       "                   count  mean_sq_m_price\n",
       "locality_name                            \n",
       "Санкт-Петербург    13374    105174.100194\n",
       "посёлок Мурино       518     85672.861004\n",
       "посёлок Шушары       438     78543.006849\n",
       "Всеволожск           393     67277.381679\n",
       "Пушкин               336    100270.854167\n",
       "Колпино              335     75246.023881\n",
       "посёлок Парголово    326     90334.024540\n",
       "Гатчина              302     68652.552980\n",
       "деревня Кудрово      298     92445.892617\n",
       "Выборг               230     58340.665217"
      ]
     },
     "execution_count": 406,
     "metadata": {},
     "output_type": "execute_result"
    }
   ],
   "source": [
    "# вывод переменной top10_locality, в которой хранятся первые 10 значений \n",
    "# отсортированного по убыванию столбца count таблицы locality_price_per_square_meter\n",
    "top10_locality = locality_price_per_square_meter.sort_values(by='count', ascending=False).head(10)\n",
    "top10_locality"
   ]
  },
  {
   "cell_type": "markdown",
   "metadata": {},
   "source": [
    "Отобразим их на диаграмме"
   ]
  },
  {
   "cell_type": "code",
   "execution_count": 407,
   "metadata": {},
   "outputs": [
    {
     "data": {
      "text/plain": [
       "<AxesSubplot:ylabel='count'>"
      ]
     },
     "execution_count": 407,
     "metadata": {},
     "output_type": "execute_result"
    },
    {
     "data": {
      "image/png": "[encoded data removed]",
      "text/plain": [
       "<Figure size 504x504 with 1 Axes>"
      ]
     },
     "metadata": {},
     "output_type": "display_data"
    }
   ],
   "source": [
    "# построение диаграммы со значениями top10_locality\n",
    "top10_locality.plot(y='count', kind='pie', figsize=(7, 7))"
   ]
  },
  {
   "cell_type": "markdown",
   "metadata": {},
   "source": [
    "Итак, мы видим, где квартиры имеют наибольшую стоимость"
   ]
  },
  {
   "cell_type": "markdown",
   "metadata": {},
   "source": [
    "Посмотрим на аналогичный список с наименьшей стоимостью"
   ]
  },
  {
   "cell_type": "code",
   "execution_count": 408,
   "metadata": {},
   "outputs": [
    {
     "data": {
      "text/html": [
       "<div>\n",
       "<style scoped>\n",
       "    .dataframe tbody tr th:only-of-type {\n",
       "        vertical-align: middle;\n",
       "    }\n",
       "\n",
       "    .dataframe tbody tr th {\n",
       "        vertical-align: top;\n",
       "    }\n",
       "\n",
       "    .dataframe thead th {\n",
       "        text-align: right;\n",
       "    }\n",
       "</style>\n",
       "<table border=\"1\" class=\"dataframe\">\n",
       "  <thead>\n",
       "    <tr style=\"text-align: right;\">\n",
       "      <th></th>\n",
       "      <th>count</th>\n",
       "      <th>mean_sq_m_price</th>\n",
       "    </tr>\n",
       "    <tr>\n",
       "      <th>locality_name</th>\n",
       "      <th></th>\n",
       "      <th></th>\n",
       "    </tr>\n",
       "  </thead>\n",
       "  <tbody>\n",
       "    <tr>\n",
       "      <th>поселок Жилпосёлок</th>\n",
       "      <td>1</td>\n",
       "      <td>32352.0</td>\n",
       "    </tr>\n",
       "    <tr>\n",
       "      <th>деревня Трубников Бор</th>\n",
       "      <td>1</td>\n",
       "      <td>37735.0</td>\n",
       "    </tr>\n",
       "    <tr>\n",
       "      <th>деревня Хапо-Ое</th>\n",
       "      <td>1</td>\n",
       "      <td>55882.0</td>\n",
       "    </tr>\n",
       "    <tr>\n",
       "      <th>деревня Чудской Бор</th>\n",
       "      <td>1</td>\n",
       "      <td>16129.0</td>\n",
       "    </tr>\n",
       "    <tr>\n",
       "      <th>деревня Шпаньково</th>\n",
       "      <td>1</td>\n",
       "      <td>27352.0</td>\n",
       "    </tr>\n",
       "    <tr>\n",
       "      <th>деревня Щеглово</th>\n",
       "      <td>1</td>\n",
       "      <td>56896.0</td>\n",
       "    </tr>\n",
       "    <tr>\n",
       "      <th>деревня Ялгино</th>\n",
       "      <td>1</td>\n",
       "      <td>17659.0</td>\n",
       "    </tr>\n",
       "    <tr>\n",
       "      <th>коттеджный поселок Кивеннапа Север</th>\n",
       "      <td>1</td>\n",
       "      <td>36363.0</td>\n",
       "    </tr>\n",
       "    <tr>\n",
       "      <th>коттеджный поселок Счастье</th>\n",
       "      <td>1</td>\n",
       "      <td>64583.0</td>\n",
       "    </tr>\n",
       "    <tr>\n",
       "      <th>коттеджный посёлок Лесное</th>\n",
       "      <td>1</td>\n",
       "      <td>45351.0</td>\n",
       "    </tr>\n",
       "  </tbody>\n",
       "</table>\n",
       "</div>"
      ],
      "text/plain": [
       "                                    count  mean_sq_m_price\n",
       "locality_name                                             \n",
       "поселок Жилпосёлок                      1          32352.0\n",
       "деревня Трубников Бор                   1          37735.0\n",
       "деревня Хапо-Ое                         1          55882.0\n",
       "деревня Чудской Бор                     1          16129.0\n",
       "деревня Шпаньково                       1          27352.0\n",
       "деревня Щеглово                         1          56896.0\n",
       "деревня Ялгино                          1          17659.0\n",
       "коттеджный поселок Кивеннапа Север      1          36363.0\n",
       "коттеджный поселок Счастье              1          64583.0\n",
       "коттеджный посёлок Лесное               1          45351.0"
      ]
     },
     "execution_count": 408,
     "metadata": {},
     "output_type": "execute_result"
    }
   ],
   "source": [
    "# вывод переменной top10_locality_min, в которой хранятся первые 10 значений \n",
    "# отсортированного по возрастанию столбца count таблицы locality_price_per_square_meter\n",
    "top10_locality_min = locality_price_per_square_meter.sort_values(by='count', ascending=True).head(10)\n",
    "top10_locality_min"
   ]
  },
  {
   "cell_type": "markdown",
   "metadata": {},
   "source": [
    "Их также отобразим на диаграмме"
   ]
  },
  {
   "cell_type": "code",
   "execution_count": 409,
   "metadata": {},
   "outputs": [
    {
     "data": {
      "text/plain": [
       "<AxesSubplot:ylabel='count'>"
      ]
     },
     "execution_count": 409,
     "metadata": {},
     "output_type": "execute_result"
    },
    {
     "data": {
      "image/png": "[encoded data removed]",
      "text/plain": [
       "<Figure size 504x504 with 1 Axes>"
      ]
     },
     "metadata": {},
     "output_type": "display_data"
    }
   ],
   "source": [
    "top10_locality_min.plot(y='count', kind='pie', figsize=(7, 7))"
   ]
  },
  {
   "cell_type": "markdown",
   "metadata": {},
   "source": [
    "Итак, мы видим, где квартиры имеют наименьшую стоимость"
   ]
  },
  {
   "cell_type": "markdown",
   "metadata": {},
   "source": [
    "<div style=\"border:solid blue 2px; padding: 20px\">\n",
    "\n",
    "**Выводы**\n",
    "   \n",
    "  Наибольшая стоимость квартир в Санкт-Петербурге. Наименьшая из топ-10 в Выборге. \n",
    "    А самая дешёвая квартира из представленных в поселке Житково\t\n"
   ]
  },
  {
   "cell_type": "markdown",
   "metadata": {},
   "source": [
    "### Определение границы центра"
   ]
  },
  {
   "cell_type": "markdown",
   "metadata": {},
   "source": [
    "Для начала выделим квартиры в Санкт-Петербурге, для которых дано расстояние до центра"
   ]
  },
  {
   "cell_type": "code",
   "execution_count": 410,
   "metadata": {},
   "outputs": [],
   "source": [
    "# сохранение в переменной flats_in_spb среза датафрейма, в котором locality_name - это Санкт-Петербург\n",
    "# и при этом в столбце city_centers_nearest нет нетипичного значения\n",
    "flats_in_spb = df.query('locality_name == \"Санкт-Петербург\" and city_centers_nearest != -1')"
   ]
  },
  {
   "cell_type": "markdown",
   "metadata": {},
   "source": [
    "Теперь создадим столбец с расстоянием до центра в км, округлённым до целого"
   ]
  },
  {
   "cell_type": "code",
   "execution_count": 411,
   "metadata": {
    "scrolled": true
   },
   "outputs": [
    {
     "name": "stderr",
     "output_type": "stream",
     "text": [
      "<ipython-input-411-b9bf3306353a>:2: SettingWithCopyWarning: \n",
      "A value is trying to be set on a copy of a slice from a DataFrame.\n",
      "Try using .loc[row_indexer,col_indexer] = value instead\n",
      "\n",
      "See the caveats in the documentation: https://pandas.pydata.org/pandas-docs/stable/user_guide/indexing.html#returning-a-view-versus-a-copy\n",
      "  flats_in_spb['center_km'] = (flats_in_spb['city_centers_nearest'] / 1000).round()\n"
     ]
    }
   ],
   "source": [
    "# Добавляем столбец с расстоянием до центра в км, округляем до целого\n",
    "flats_in_spb['center_km'] = (flats_in_spb['city_centers_nearest'] / 1000).round()"
   ]
  },
  {
   "cell_type": "markdown",
   "metadata": {},
   "source": [
    "Построим график, где указана средняя стоимость для каждого км"
   ]
  },
  {
   "cell_type": "code",
   "execution_count": 412,
   "metadata": {},
   "outputs": [
    {
     "data": {
      "text/plain": [
       "<AxesSubplot:xlabel='center_km'>"
      ]
     },
     "execution_count": 412,
     "metadata": {},
     "output_type": "execute_result"
    },
    {
     "data": {
      "image/png": "[encoded data removed]",
      "text/plain": [
       "<Figure size 720x360 with 1 Axes>"
      ]
     },
     "metadata": {
      "needs_background": "light"
     },
     "output_type": "display_data"
    }
   ],
   "source": [
    "# построения графика\n",
    "(\n",
    "    flats_in_spb\n",
    "    .pivot_table(index='center_km', values='last_price')\n",
    "    .plot(grid=True, style='o-', xlim=(0,15), figsize=(10, 5))\n",
    ")"
   ]
  },
  {
   "cell_type": "markdown",
   "metadata": {},
   "source": [
    "<div style=\"border:solid blue 2px; padding: 20px\">\n",
    "\n",
    "**Промежуточные выводы**\n",
    "    \n",
    "    \n",
    "Мы видим, что начиная с 5 км цена начинает только снижаться. Обозначим это центральной зоной"
   ]
  },
  {
   "cell_type": "markdown",
   "metadata": {},
   "source": [
    "### Анализ сегмента квартир в центре"
   ]
  },
  {
   "cell_type": "markdown",
   "metadata": {},
   "source": [
    "Выделим сегмент квартир в центре"
   ]
  },
  {
   "cell_type": "code",
   "execution_count": 413,
   "metadata": {},
   "outputs": [],
   "source": [
    "# сохранение в переменной flats_in_spb_center среза данных датафрейма, для которых locality_name - это Санкт-Петербург,\n",
    "# расстояние меньше 5 и нет нетипичного значения в city_centers_nearest\n",
    "flats_in_spb_center = flats_in_spb.query('locality_name == \"Санкт-Петербург\" and center_km <= 5 and city_centers_nearest != -1')"
   ]
  },
  {
   "cell_type": "markdown",
   "metadata": {},
   "source": [
    "Изучим в данном сегменте следующие параметры: площадь, цена, число комнат, высота потолков"
   ]
  },
  {
   "cell_type": "markdown",
   "metadata": {},
   "source": [
    "Реализуем функцию для построения гистограммы"
   ]
  },
  {
   "cell_type": "code",
   "execution_count": 414,
   "metadata": {},
   "outputs": [],
   "source": [
    "# функция построения столбчатой диаграммы\n",
    "def draw_hist_spb(col, xmin=0, xmax=7):\n",
    "    flats_in_spb_center[col].hist(bins=50, range=(xmin,xmax))"
   ]
  },
  {
   "cell_type": "markdown",
   "metadata": {},
   "source": [
    "#### Анализ площади"
   ]
  },
  {
   "cell_type": "code",
   "execution_count": 415,
   "metadata": {},
   "outputs": [
    {
     "data": {
      "image/png": "[encoded data removed]",
      "text/plain": [
       "<Figure size 432x288 with 1 Axes>"
      ]
     },
     "metadata": {
      "needs_background": "light"
     },
     "output_type": "display_data"
    }
   ],
   "source": [
    "# построение столбчатой диаграммы для столбца total_area\n",
    "draw_hist_spb('total_area', xmax=150)"
   ]
  },
  {
   "cell_type": "markdown",
   "metadata": {},
   "source": [
    "Посмотрим основные характеристики площади квартир в Санкт-Петербурге с помощью метода describe()"
   ]
  },
  {
   "cell_type": "code",
   "execution_count": 416,
   "metadata": {},
   "outputs": [
    {
     "data": {
      "text/plain": [
       "count    13374.000000\n",
       "mean        53.764020\n",
       "std         18.203403\n",
       "min         16.000000\n",
       "25%         40.000000\n",
       "50%         50.000000\n",
       "75%         65.000000\n",
       "max        120.000000\n",
       "Name: total_area, dtype: float64"
      ]
     },
     "execution_count": 416,
     "metadata": {},
     "output_type": "execute_result"
    }
   ],
   "source": [
    "# применение метода describe() для столбца total_area среза датафрейма по значению locality_name == \"Санкт-Петербург\"\n",
    "df.query('locality_name == \"Санкт-Петербург\"')['total_area'].describe()"
   ]
  },
  {
   "cell_type": "markdown",
   "metadata": {},
   "source": [
    "Мы видим, что в среднем площадь от 40 до 65 квадратных метров."
   ]
  },
  {
   "cell_type": "markdown",
   "metadata": {},
   "source": [
    "Теперь проделаем аналогичную работу для сегмента в центре"
   ]
  },
  {
   "cell_type": "code",
   "execution_count": 417,
   "metadata": {},
   "outputs": [
    {
     "data": {
      "text/plain": [
       "count    1461.000000\n",
       "mean       67.156057\n",
       "std        21.674814\n",
       "min        16.000000\n",
       "25%        50.000000\n",
       "50%        66.000000\n",
       "75%        82.000000\n",
       "max       120.000000\n",
       "Name: total_area, dtype: float64"
      ]
     },
     "execution_count": 417,
     "metadata": {},
     "output_type": "execute_result"
    }
   ],
   "source": [
    "# применеие метода describe() для столбца total_area таблицы flats_in_spb_center\n",
    "flats_in_spb_center['total_area'].describe()"
   ]
  },
  {
   "cell_type": "markdown",
   "metadata": {},
   "source": [
    "Мы видим, что в среднем в центре Санкт-Петербурга площадь квартир от 50 до 82 квадратных метров."
   ]
  },
  {
   "cell_type": "markdown",
   "metadata": {},
   "source": [
    "Итак, площадь квартир в центре Санкт-Петербурга выше, чем на окраине"
   ]
  },
  {
   "cell_type": "markdown",
   "metadata": {},
   "source": [
    "#### Анализ цены"
   ]
  },
  {
   "cell_type": "code",
   "execution_count": 418,
   "metadata": {
    "scrolled": true
   },
   "outputs": [
    {
     "data": {
      "image/png": "[encoded data removed]",
      "text/plain": [
       "<Figure size 432x288 with 1 Axes>"
      ]
     },
     "metadata": {
      "needs_background": "light"
     },
     "output_type": "display_data"
    }
   ],
   "source": [
    "# построение столбчатой диаграммы для last_price\n",
    "draw_hist_spb('last_price', xmax=12500000)"
   ]
  },
  {
   "cell_type": "markdown",
   "metadata": {},
   "source": [
    "Посмотрим характеристики по last_price. Для удобства выведем в млн."
   ]
  },
  {
   "cell_type": "code",
   "execution_count": 419,
   "metadata": {},
   "outputs": [
    {
     "data": {
      "text/plain": [
       "count    13374.000000\n",
       "mean         5.555817\n",
       "std          1.958471\n",
       "min          0.012190\n",
       "25%          4.049250\n",
       "50%          5.100000\n",
       "75%          6.700000\n",
       "max         11.000000\n",
       "Name: last_price, dtype: float64"
      ]
     },
     "execution_count": 419,
     "metadata": {},
     "output_type": "execute_result"
    }
   ],
   "source": [
    "# применение метода describe() для среза по locality_name = Санкт-Петербург столбца last_price, \n",
    "# поделённого на млн\n",
    "(df.query('locality_name == \"Санкт-Петербург\"')['last_price']/1000000).describe()"
   ]
  },
  {
   "cell_type": "markdown",
   "metadata": {},
   "source": [
    "Мы видим, что в среднем цена квартир в Санкт-Петербурге от 4 до 6.7 млн"
   ]
  },
  {
   "cell_type": "code",
   "execution_count": 420,
   "metadata": {},
   "outputs": [
    {
     "data": {
      "text/plain": [
       "count    1461.000000\n",
       "mean        7.399724\n",
       "std         1.920962\n",
       "min         1.600000\n",
       "25%         6.000000\n",
       "50%         7.450000\n",
       "75%         8.900000\n",
       "max        11.000000\n",
       "Name: last_price, dtype: float64"
      ]
     },
     "execution_count": 420,
     "metadata": {},
     "output_type": "execute_result"
    }
   ],
   "source": [
    "# применение метода describe() для столбца last_price таблицы flats_in_spb_center,\n",
    "# поделённого на млн\n",
    "(flats_in_spb_center['last_price']/1000000).describe()"
   ]
  },
  {
   "cell_type": "markdown",
   "metadata": {},
   "source": [
    "Мы видим, что в среднем цена квартир в центре Санкт-Петербурга от 6 до 8.9 млн"
   ]
  },
  {
   "cell_type": "markdown",
   "metadata": {},
   "source": [
    "Итак, цена квартир в центре Санкт-Петербурга выше, чем на окраине"
   ]
  },
  {
   "cell_type": "markdown",
   "metadata": {},
   "source": [
    "#### Анализ количества комнат"
   ]
  },
  {
   "cell_type": "code",
   "execution_count": 421,
   "metadata": {},
   "outputs": [
    {
     "data": {
      "image/png": "[encoded data removed]",
      "text/plain": [
       "<Figure size 432x288 with 1 Axes>"
      ]
     },
     "metadata": {
      "needs_background": "light"
     },
     "output_type": "display_data"
    }
   ],
   "source": [
    "# построение столбчатой диаграммы для столбца rooms \n",
    "draw_hist_spb('rooms')"
   ]
  },
  {
   "cell_type": "markdown",
   "metadata": {},
   "source": [
    "Посмотрим характеристики по rooms."
   ]
  },
  {
   "cell_type": "code",
   "execution_count": 422,
   "metadata": {},
   "outputs": [
    {
     "data": {
      "text/plain": [
       "count    13374.000000\n",
       "mean         1.949978\n",
       "std          0.909234\n",
       "min          0.000000\n",
       "25%          1.000000\n",
       "50%          2.000000\n",
       "75%          3.000000\n",
       "max          6.000000\n",
       "Name: rooms, dtype: float64"
      ]
     },
     "execution_count": 422,
     "metadata": {},
     "output_type": "execute_result"
    }
   ],
   "source": [
    "# применение метода describe() для столбца rooms среза датафрейма по locality_name = \"Санкт-Петербург\"\n",
    "df.query('locality_name == \"Санкт-Петербург\"')['rooms'].describe()"
   ]
  },
  {
   "cell_type": "markdown",
   "metadata": {},
   "source": [
    "Мы видим, что в среднем в Санкт-Петербурге в квартирах от 1 до 3 комнат. посмотрим медиану"
   ]
  },
  {
   "cell_type": "code",
   "execution_count": 423,
   "metadata": {},
   "outputs": [
    {
     "data": {
      "text/plain": [
       "2.0"
      ]
     },
     "execution_count": 423,
     "metadata": {},
     "output_type": "execute_result"
    }
   ],
   "source": [
    "# медиана для столбца rooms среза датафрейма по locality_name = \"Санкт-Петербург\"\n",
    "df.query('locality_name == \"Санкт-Петербург\"')['rooms'].median()"
   ]
  },
  {
   "cell_type": "markdown",
   "metadata": {},
   "source": [
    "В среднем в Санкт-Петербурге в квартирах 2 комнаты"
   ]
  },
  {
   "cell_type": "markdown",
   "metadata": {},
   "source": [
    "Посмотрим данные по центральной части"
   ]
  },
  {
   "cell_type": "code",
   "execution_count": 424,
   "metadata": {},
   "outputs": [
    {
     "data": {
      "text/plain": [
       "count    1461.000000\n",
       "mean        2.403833\n",
       "std         1.014868\n",
       "min         0.000000\n",
       "25%         2.000000\n",
       "50%         2.000000\n",
       "75%         3.000000\n",
       "max         6.000000\n",
       "Name: rooms, dtype: float64"
      ]
     },
     "execution_count": 424,
     "metadata": {},
     "output_type": "execute_result"
    }
   ],
   "source": [
    "# применение метода describe() для столбца rooms таблицы flats_in_spb_center\n",
    "flats_in_spb_center['rooms'].describe()"
   ]
  },
  {
   "cell_type": "markdown",
   "metadata": {},
   "source": [
    "Мы видим, что в среднем в центре Санкт-Петербурга в квартирах от 2 до 3 комнат. посмотрим медиану"
   ]
  },
  {
   "cell_type": "code",
   "execution_count": 425,
   "metadata": {},
   "outputs": [
    {
     "data": {
      "text/plain": [
       "2.0"
      ]
     },
     "execution_count": 425,
     "metadata": {},
     "output_type": "execute_result"
    }
   ],
   "source": [
    "# медиана для столбца rooms таблицы flats_in_spb_center\n",
    "flats_in_spb_center['rooms'].median()"
   ]
  },
  {
   "cell_type": "markdown",
   "metadata": {},
   "source": [
    "Медиана тоже равна 2. "
   ]
  },
  {
   "cell_type": "markdown",
   "metadata": {},
   "source": [
    "Несмотря на то, что медианное значение совпадает, можно сказать, что в центре в квартирах больше комнат, поскольку нижний квантиль смещён с 1 до 2. "
   ]
  },
  {
   "cell_type": "markdown",
   "metadata": {},
   "source": [
    "#### Анализ высоты потолков"
   ]
  },
  {
   "cell_type": "code",
   "execution_count": 426,
   "metadata": {},
   "outputs": [
    {
     "data": {
      "image/png": "[encoded data removed]",
      "text/plain": [
       "<Figure size 432x288 with 1 Axes>"
      ]
     },
     "metadata": {
      "needs_background": "light"
     },
     "output_type": "display_data"
    }
   ],
   "source": [
    "# построение столбчатой диаграммы для столбца ceiling_height\n",
    "draw_hist_spb('ceiling_height', xmin=2, xmax=3.5)"
   ]
  },
  {
   "cell_type": "code",
   "execution_count": 427,
   "metadata": {},
   "outputs": [
    {
     "data": {
      "text/plain": [
       "count    13374.000000\n",
       "mean         2.701367\n",
       "std          0.209339\n",
       "min          2.300000\n",
       "25%          2.550000\n",
       "50%          2.650000\n",
       "75%          2.750000\n",
       "max          4.500000\n",
       "Name: ceiling_height, dtype: float64"
      ]
     },
     "execution_count": 427,
     "metadata": {},
     "output_type": "execute_result"
    }
   ],
   "source": [
    "# применение метода describe() для среза по locality_name == \"Санкт-Петербург\" столбца ceiling_height\n",
    "df.query('locality_name == \"Санкт-Петербург\"')['ceiling_height'].describe()"
   ]
  },
  {
   "cell_type": "markdown",
   "metadata": {},
   "source": [
    "Мы видим, что в среднем высота потолков в Санкт-Петербурге от 2.55 до 2.75 м"
   ]
  },
  {
   "cell_type": "markdown",
   "metadata": {},
   "source": [
    "Посмотрим на характеристики столбца  ceiling_height в центральной части"
   ]
  },
  {
   "cell_type": "code",
   "execution_count": 428,
   "metadata": {},
   "outputs": [
    {
     "data": {
      "text/plain": [
       "count    1461.000000\n",
       "mean        2.986622\n",
       "std         0.315751\n",
       "min         2.400000\n",
       "25%         2.730000\n",
       "50%         3.000000\n",
       "75%         3.150000\n",
       "max         4.370000\n",
       "Name: ceiling_height, dtype: float64"
      ]
     },
     "execution_count": 428,
     "metadata": {},
     "output_type": "execute_result"
    }
   ],
   "source": [
    "# применение метода describe() для столбца ceiling_height таблицы flats_in_spb_center\n",
    "flats_in_spb_center['ceiling_height'].describe()"
   ]
  },
  {
   "cell_type": "markdown",
   "metadata": {},
   "source": [
    "В центре города высота потолков в среднем составляет от 2.7 до 3.15 метров"
   ]
  },
  {
   "cell_type": "markdown",
   "metadata": {},
   "source": [
    "Итого, в центре города потолки выше, чем на окраине"
   ]
  },
  {
   "cell_type": "markdown",
   "metadata": {},
   "source": [
    "#### Выделение факторов, влияющих на стоимость квартиры в центре"
   ]
  },
  {
   "cell_type": "markdown",
   "metadata": {},
   "source": [
    "Выделим факторы, которые влияют на стоимость квартиры (число комнат, этаж, удалённость от центра, дата размещения объявления).\n",
    "\n",
    "Проделаем аналогичную работу, как со всем датафреймом, только с квартирами в центре Санкт-Петербурга"
   ]
  },
  {
   "cell_type": "markdown",
   "metadata": {},
   "source": [
    "##### Число комнат"
   ]
  },
  {
   "cell_type": "code",
   "execution_count": 429,
   "metadata": {},
   "outputs": [
    {
     "data": {
      "text/plain": [
       "<AxesSubplot:xlabel='rooms'>"
      ]
     },
     "execution_count": 429,
     "metadata": {},
     "output_type": "execute_result"
    },
    {
     "data": {
      "image/png": "[encoded data removed]",
      "text/plain": [
       "<Figure size 360x360 with 1 Axes>"
      ]
     },
     "metadata": {
      "needs_background": "light"
     },
     "output_type": "display_data"
    }
   ],
   "source": [
    "# построение диаграммы \n",
    "(\n",
    "    flats_in_spb_center.pivot_table(index='rooms', values='last_price')\n",
    "    .plot(grid=True, style='o-', figsize=(5, 5))\n",
    ")"
   ]
  },
  {
   "cell_type": "code",
   "execution_count": 430,
   "metadata": {},
   "outputs": [
    {
     "data": {
      "text/html": [
       "<div>\n",
       "<style scoped>\n",
       "    .dataframe tbody tr th:only-of-type {\n",
       "        vertical-align: middle;\n",
       "    }\n",
       "\n",
       "    .dataframe tbody tr th {\n",
       "        vertical-align: top;\n",
       "    }\n",
       "\n",
       "    .dataframe thead th {\n",
       "        text-align: right;\n",
       "    }\n",
       "</style>\n",
       "<table border=\"1\" class=\"dataframe\">\n",
       "  <thead>\n",
       "    <tr style=\"text-align: right;\">\n",
       "      <th></th>\n",
       "      <th>last_price</th>\n",
       "      <th>price_per_square_meter</th>\n",
       "      <th>total_area</th>\n",
       "      <th>rooms</th>\n",
       "      <th>city_centers_nearest</th>\n",
       "    </tr>\n",
       "  </thead>\n",
       "  <tbody>\n",
       "    <tr>\n",
       "      <th>last_price</th>\n",
       "      <td>1.000000</td>\n",
       "      <td>0.146993</td>\n",
       "      <td>0.673392</td>\n",
       "      <td>0.470121</td>\n",
       "      <td>-0.061535</td>\n",
       "    </tr>\n",
       "    <tr>\n",
       "      <th>price_per_square_meter</th>\n",
       "      <td>0.146993</td>\n",
       "      <td>1.000000</td>\n",
       "      <td>-0.589698</td>\n",
       "      <td>-0.561540</td>\n",
       "      <td>0.087639</td>\n",
       "    </tr>\n",
       "    <tr>\n",
       "      <th>total_area</th>\n",
       "      <td>0.673392</td>\n",
       "      <td>-0.589698</td>\n",
       "      <td>1.000000</td>\n",
       "      <td>0.799232</td>\n",
       "      <td>-0.104268</td>\n",
       "    </tr>\n",
       "    <tr>\n",
       "      <th>rooms</th>\n",
       "      <td>0.470121</td>\n",
       "      <td>-0.561540</td>\n",
       "      <td>0.799232</td>\n",
       "      <td>1.000000</td>\n",
       "      <td>-0.122102</td>\n",
       "    </tr>\n",
       "    <tr>\n",
       "      <th>city_centers_nearest</th>\n",
       "      <td>-0.061535</td>\n",
       "      <td>0.087639</td>\n",
       "      <td>-0.104268</td>\n",
       "      <td>-0.122102</td>\n",
       "      <td>1.000000</td>\n",
       "    </tr>\n",
       "  </tbody>\n",
       "</table>\n",
       "</div>"
      ],
      "text/plain": [
       "                        last_price  price_per_square_meter  total_area  \\\n",
       "last_price                1.000000                0.146993    0.673392   \n",
       "price_per_square_meter    0.146993                1.000000   -0.589698   \n",
       "total_area                0.673392               -0.589698    1.000000   \n",
       "rooms                     0.470121               -0.561540    0.799232   \n",
       "city_centers_nearest     -0.061535                0.087639   -0.104268   \n",
       "\n",
       "                           rooms  city_centers_nearest  \n",
       "last_price              0.470121             -0.061535  \n",
       "price_per_square_meter -0.561540              0.087639  \n",
       "total_area              0.799232             -0.104268  \n",
       "rooms                   1.000000             -0.122102  \n",
       "city_centers_nearest   -0.122102              1.000000  "
      ]
     },
     "execution_count": 430,
     "metadata": {},
     "output_type": "execute_result"
    }
   ],
   "source": [
    "# подсчёт корреляции\n",
    "flats_in_spb_center[['last_price', 'price_per_square_meter', 'total_area', 'rooms', 'city_centers_nearest']].corr()"
   ]
  },
  {
   "cell_type": "code",
   "execution_count": 431,
   "metadata": {},
   "outputs": [
    {
     "data": {
      "text/plain": [
       "<AxesSubplot:xlabel='rooms'>"
      ]
     },
     "execution_count": 431,
     "metadata": {},
     "output_type": "execute_result"
    },
    {
     "data": {
      "image/png": "[encoded data removed]",
      "text/plain": [
       "<Figure size 360x360 with 1 Axes>"
      ]
     },
     "metadata": {
      "needs_background": "light"
     },
     "output_type": "display_data"
    }
   ],
   "source": [
    "# построение диаграммы \n",
    "(\n",
    "    flats_in_spb_center.pivot_table(index='rooms', values='price_per_square_meter')\n",
    "    .plot(grid=True, style='o-', figsize=(5, 5))\n",
    ")"
   ]
  },
  {
   "cell_type": "markdown",
   "metadata": {},
   "source": [
    "Итак, мы видим, что корреляция между общей стоимостью и количеством комнат в центре города ниже, чем по всему городу. Это может быть связано с большим ценовым разбросом в центре. Однако цена квадратного метра в центре сильнее зависит от количества комнат, чем по городу.  С увеличением количества комнат в квартире стоимость квадратного метра уменьшается."
   ]
  },
  {
   "cell_type": "markdown",
   "metadata": {},
   "source": [
    "##### Этаж"
   ]
  },
  {
   "cell_type": "code",
   "execution_count": 432,
   "metadata": {},
   "outputs": [
    {
     "data": {
      "text/plain": [
       "<AxesSubplot:xlabel='floor_type'>"
      ]
     },
     "execution_count": 432,
     "metadata": {},
     "output_type": "execute_result"
    },
    {
     "data": {
      "image/png": "[encoded data removed]",
      "text/plain": [
       "<Figure size 360x360 with 1 Axes>"
      ]
     },
     "metadata": {
      "needs_background": "light"
     },
     "output_type": "display_data"
    }
   ],
   "source": [
    "# построение диаграммы\n",
    "(\n",
    "    flats_in_spb_center.pivot_table(index='floor_type', values='last_price', aggfunc='median')\n",
    "    .plot(grid=True, style='o-', figsize=(5, 5))\n",
    ")   \n"
   ]
  },
  {
   "cell_type": "markdown",
   "metadata": {},
   "source": [
    "Итак, мы видим, что, как и для всего города, для центра Санкт-Петербурга этаж влияет на стоимость квартиры. Однако, в отличие от наблюдений по графику по всему городу, смотря на сегмент квартир в центре, мы видим, что квартиры на последнем этаже стоят настолько же дорого, как и на любом другом (не первом). На первом этаже мы видим снова спад цены"
   ]
  },
  {
   "cell_type": "markdown",
   "metadata": {},
   "source": [
    "##### Удалённость от центра"
   ]
  },
  {
   "cell_type": "code",
   "execution_count": 433,
   "metadata": {},
   "outputs": [
    {
     "data": {
      "text/plain": [
       "<AxesSubplot:xlabel='city_centers_nearest'>"
      ]
     },
     "execution_count": 433,
     "metadata": {},
     "output_type": "execute_result"
    },
    {
     "data": {
      "image/png": "[encoded data removed]",
      "text/plain": [
       "<Figure size 360x360 with 1 Axes>"
      ]
     },
     "metadata": {
      "needs_background": "light"
     },
     "output_type": "display_data"
    }
   ],
   "source": [
    "# построение диаграммы\n",
    "(\n",
    "    flats_in_spb_center.pivot_table(index='city_centers_nearest', values='last_price')\n",
    "    .plot(grid=True, style='o', figsize=(5, 5))\n",
    ")"
   ]
  },
  {
   "cell_type": "code",
   "execution_count": 434,
   "metadata": {},
   "outputs": [
    {
     "data": {
      "text/plain": [
       "<AxesSubplot:xlabel='city_centers_nearest'>"
      ]
     },
     "execution_count": 434,
     "metadata": {},
     "output_type": "execute_result"
    },
    {
     "data": {
      "image/png": "[encoded data removed]",
      "text/plain": [
       "<Figure size 360x360 with 1 Axes>"
      ]
     },
     "metadata": {
      "needs_background": "light"
     },
     "output_type": "display_data"
    }
   ],
   "source": [
    "# построение диаграммы\n",
    "(\n",
    "    flats_in_spb_center.pivot_table(index='city_centers_nearest', values='price_per_square_meter')\n",
    "    .plot(grid=True, style='o', figsize=(5, 5))\n",
    ")"
   ]
  },
  {
   "cell_type": "markdown",
   "metadata": {},
   "source": [
    "Мы видим, что зависимости стоимости квартир от удалённости от центра в центральной части Санкт-Петербурга практически не наблюдается"
   ]
  },
  {
   "cell_type": "markdown",
   "metadata": {},
   "source": [
    "##### День недели размещения объявления"
   ]
  },
  {
   "cell_type": "code",
   "execution_count": 435,
   "metadata": {},
   "outputs": [
    {
     "data": {
      "text/plain": [
       "<AxesSubplot:xlabel='exposition_weekday'>"
      ]
     },
     "execution_count": 435,
     "metadata": {},
     "output_type": "execute_result"
    },
    {
     "data": {
      "image/png": "[encoded data removed]",
      "text/plain": [
       "<Figure size 360x360 with 1 Axes>"
      ]
     },
     "metadata": {
      "needs_background": "light"
     },
     "output_type": "display_data"
    }
   ],
   "source": [
    "# построение диаграммы\n",
    "(\n",
    "    flats_in_spb_center.pivot_table(index='exposition_weekday', values='last_price')\n",
    "    .plot(grid=True, style='o-', figsize=(5, 5))\n",
    ")"
   ]
  },
  {
   "cell_type": "markdown",
   "metadata": {},
   "source": [
    "Мы видим обратную ситуацию - в объявлениях, размещённых в воскресенье стоимость квартир выше, чем в в объявлениях, размещённых в будни. Но опять же зависимость не сильно большая"
   ]
  },
  {
   "cell_type": "markdown",
   "metadata": {},
   "source": [
    "##### Месяц размещения объявления"
   ]
  },
  {
   "cell_type": "code",
   "execution_count": 436,
   "metadata": {},
   "outputs": [
    {
     "data": {
      "text/plain": [
       "<AxesSubplot:xlabel='exposition_month'>"
      ]
     },
     "execution_count": 436,
     "metadata": {},
     "output_type": "execute_result"
    },
    {
     "data": {
      "image/png": "[encoded data removed]",
      "text/plain": [
       "<Figure size 720x360 with 1 Axes>"
      ]
     },
     "metadata": {
      "needs_background": "light"
     },
     "output_type": "display_data"
    }
   ],
   "source": [
    "# построение диаграммы\n",
    "(\n",
    "    flats_in_spb_center.pivot_table(index='exposition_month', values='last_price')\n",
    "    .plot(grid=True, style='o-', xlim=(1,12), figsize=(10, 5))\n",
    ")"
   ]
  },
  {
   "cell_type": "markdown",
   "metadata": {},
   "source": [
    "Мы видим пик цены в июле и феврале и, наоборот, в отличие от распределения по всему городу, спад цены в апреле. Однако разница всё равно не такая большая"
   ]
  },
  {
   "cell_type": "markdown",
   "metadata": {},
   "source": [
    "##### Год размещения объявления"
   ]
  },
  {
   "cell_type": "code",
   "execution_count": 437,
   "metadata": {},
   "outputs": [
    {
     "data": {
      "text/plain": [
       "<AxesSubplot:xlabel='exposition_year'>"
      ]
     },
     "execution_count": 437,
     "metadata": {},
     "output_type": "execute_result"
    },
    {
     "data": {
      "image/png": "[encoded data removed]",
      "text/plain": [
       "<Figure size 360x360 with 1 Axes>"
      ]
     },
     "metadata": {
      "needs_background": "light"
     },
     "output_type": "display_data"
    }
   ],
   "source": [
    "# построение диаграммы\n",
    "(\n",
    "    flats_in_spb_center.pivot_table(index='exposition_year', values='last_price')\n",
    "    .plot(grid=True, style='o-', figsize=(5, 5))\n",
    ")"
   ]
  },
  {
   "cell_type": "markdown",
   "metadata": {},
   "source": [
    "Мы видим спад стоимости квартир в центре в 2017 и заметный рост после 2018."
   ]
  },
  {
   "cell_type": "markdown",
   "metadata": {},
   "source": [
    "## Общий вывод"
   ]
  },
  {
   "cell_type": "markdown",
   "metadata": {},
   "source": [
    "Итак, на этапе предобработки данных мы:\n",
    " * Заполнили пропуски.\n",
    " * Привели данные к нужным типам\n",
    " * Добавили нужные столбцы\n",
    " * Изучили основные параметры и удалили выбросы\n",
    "\n",
    "Выводы:  \n",
    "* Продажа квартиры занимает в среднем от 43 до 217 дней.\n",
    "* Наибольшая стоимость квартир в Санкт-Петербурге. Наименьшая стоимость в выделенных топ-10 в Выборге. Самую дешёвую квартиру удалось найти в посёлке Житково\n",
    "\n",
    "* Центральная зона Санкт-Петербурга, исходя из датафрейма, в пределах 5 км.\n",
    "\n",
    "* В центре Санкт-Петербурга площадь квартир, цена квартир, количество комнат, высота потолков больше, чем если смотреть по всему городу.\n",
    "\n",
    "Факторы влияющие на продажу квартиры:\n",
    "  * Чем больше площадь, тем больше цена квартиры\n",
    "  * Корреляция с числом комнат ниже.\n",
    "  * Но в центральной части Санкт-Петербурга с увеличением количества комнат стоимость квадратного метра уменьшается\n",
    "  * В центре дорогие квартиры, но есть и дешёвые\n",
    "  * Дешевле всего квартиры на 1 этаже. На последнем - цена средняя. Остальные дороже.\n",
    "  * Однако в центральной части Санкт-Петербурга нет разницы в цене между квартирами на последнем и на другом (не первом) этаже.\n",
    "  \n",
    "  \n",
    "  \n",
    "  * В целом, по полученным параметрам можно строить автоматизированную систему, которая отследит аномалии и мошенническую деятельность."
   ]
  }
 ],
 "metadata": {
  "ExecuteTimeLog": [
   {
    "duration": 808,
    "start_time": "2022-02-21T07:27:29.037Z"
   },
   {
    "duration": 76,
    "start_time": "2022-02-21T07:28:17.947Z"
   },
   {
    "duration": 22,
    "start_time": "2022-02-21T07:28:36.512Z"
   },
   {
    "duration": 74,
    "start_time": "2022-02-21T07:29:20.782Z"
   },
   {
    "duration": 10,
    "start_time": "2022-02-21T07:29:21.261Z"
   },
   {
    "duration": 83,
    "start_time": "2022-02-21T07:29:34.354Z"
   },
   {
    "duration": 39,
    "start_time": "2022-02-21T07:29:35.119Z"
   },
   {
    "duration": 19,
    "start_time": "2022-02-21T08:27:42.148Z"
   },
   {
    "duration": 115,
    "start_time": "2022-02-21T12:21:42.082Z"
   },
   {
    "duration": 4,
    "start_time": "2022-02-21T14:23:20.165Z"
   },
   {
    "duration": 88,
    "start_time": "2022-02-21T14:23:20.173Z"
   },
   {
    "duration": 47,
    "start_time": "2022-02-21T14:23:20.264Z"
   },
   {
    "duration": 38,
    "start_time": "2022-02-21T14:23:20.313Z"
   },
   {
    "duration": 129,
    "start_time": "2022-02-21T14:23:20.354Z"
   },
   {
    "duration": 804,
    "start_time": "2022-02-21T14:23:23.409Z"
   },
   {
    "duration": 7,
    "start_time": "2022-02-21T14:23:34.910Z"
   },
   {
    "duration": 11,
    "start_time": "2022-02-21T14:25:12.222Z"
   },
   {
    "duration": 8,
    "start_time": "2022-02-21T14:25:33.201Z"
   },
   {
    "duration": 17,
    "start_time": "2022-02-21T14:26:38.877Z"
   },
   {
    "duration": 648,
    "start_time": "2022-02-23T15:11:04.214Z"
   },
   {
    "duration": 73,
    "start_time": "2022-02-23T15:11:04.864Z"
   },
   {
    "duration": 35,
    "start_time": "2022-02-23T15:11:04.939Z"
   },
   {
    "duration": 33,
    "start_time": "2022-02-23T15:11:04.976Z"
   },
   {
    "duration": 95,
    "start_time": "2022-02-23T15:11:05.012Z"
   },
   {
    "duration": 6,
    "start_time": "2022-02-23T15:11:05.110Z"
   },
   {
    "duration": 27,
    "start_time": "2022-02-23T15:11:05.118Z"
   },
   {
    "duration": 12,
    "start_time": "2022-02-23T15:11:05.147Z"
   },
   {
    "duration": 18,
    "start_time": "2022-02-23T15:11:05.161Z"
   },
   {
    "duration": 13,
    "start_time": "2022-02-23T15:14:51.742Z"
   },
   {
    "duration": 6,
    "start_time": "2022-02-23T15:15:19.790Z"
   },
   {
    "duration": 4,
    "start_time": "2022-02-23T15:24:07.341Z"
   },
   {
    "duration": 6,
    "start_time": "2022-02-23T15:24:26.786Z"
   },
   {
    "duration": 4,
    "start_time": "2022-02-23T15:28:08.820Z"
   },
   {
    "duration": 5,
    "start_time": "2022-02-23T15:28:36.306Z"
   },
   {
    "duration": 6695,
    "start_time": "2022-02-23T15:29:41.518Z"
   },
   {
    "duration": 4,
    "start_time": "2022-02-23T15:29:57.766Z"
   },
   {
    "duration": 5,
    "start_time": "2022-02-23T15:30:17.888Z"
   },
   {
    "duration": 10,
    "start_time": "2022-02-23T16:31:04.031Z"
   },
   {
    "duration": 8,
    "start_time": "2022-02-23T16:32:51.075Z"
   },
   {
    "duration": 231,
    "start_time": "2022-02-23T16:35:16.827Z"
   },
   {
    "duration": 9,
    "start_time": "2022-02-23T16:35:26.071Z"
   },
   {
    "duration": 7,
    "start_time": "2022-02-23T16:35:43.073Z"
   },
   {
    "duration": 4,
    "start_time": "2022-02-23T16:36:56.792Z"
   },
   {
    "duration": 9,
    "start_time": "2022-02-23T16:36:58.817Z"
   },
   {
    "duration": 5,
    "start_time": "2022-02-23T16:37:00.392Z"
   },
   {
    "duration": 166,
    "start_time": "2022-02-23T16:38:45.151Z"
   },
   {
    "duration": 5,
    "start_time": "2022-02-23T16:39:14.736Z"
   },
   {
    "duration": 5,
    "start_time": "2022-02-23T16:42:28.340Z"
   },
   {
    "duration": 243,
    "start_time": "2022-02-23T16:45:32.627Z"
   },
   {
    "duration": 6,
    "start_time": "2022-02-23T16:45:49.431Z"
   },
   {
    "duration": 6,
    "start_time": "2022-02-23T16:46:03.154Z"
   },
   {
    "duration": 10,
    "start_time": "2022-02-23T16:46:37.283Z"
   },
   {
    "duration": 44,
    "start_time": "2022-02-23T16:47:18.159Z"
   },
   {
    "duration": 2,
    "start_time": "2022-02-23T16:49:24.209Z"
   },
   {
    "duration": 92,
    "start_time": "2022-02-23T16:49:24.216Z"
   },
   {
    "duration": 28,
    "start_time": "2022-02-23T16:49:24.311Z"
   },
   {
    "duration": 14,
    "start_time": "2022-02-23T16:49:24.342Z"
   },
   {
    "duration": 114,
    "start_time": "2022-02-23T16:49:24.359Z"
   },
   {
    "duration": 6,
    "start_time": "2022-02-23T16:49:24.475Z"
   },
   {
    "duration": 29,
    "start_time": "2022-02-23T16:49:24.483Z"
   },
   {
    "duration": 4,
    "start_time": "2022-02-23T16:49:24.514Z"
   },
   {
    "duration": 16,
    "start_time": "2022-02-23T16:49:24.522Z"
   },
   {
    "duration": 15,
    "start_time": "2022-02-23T16:49:24.541Z"
   },
   {
    "duration": 51,
    "start_time": "2022-02-23T16:49:24.558Z"
   },
   {
    "duration": 4,
    "start_time": "2022-02-23T16:49:24.612Z"
   },
   {
    "duration": 7,
    "start_time": "2022-02-23T16:49:24.619Z"
   },
   {
    "duration": 12,
    "start_time": "2022-02-23T16:49:24.628Z"
   },
   {
    "duration": 9,
    "start_time": "2022-02-23T16:49:24.642Z"
   },
   {
    "duration": 6,
    "start_time": "2022-02-23T16:49:24.653Z"
   },
   {
    "duration": 16,
    "start_time": "2022-02-23T16:49:24.661Z"
   },
   {
    "duration": 5,
    "start_time": "2022-02-23T16:49:24.707Z"
   },
   {
    "duration": 11,
    "start_time": "2022-02-23T16:49:24.714Z"
   },
   {
    "duration": 11,
    "start_time": "2022-02-23T16:49:24.727Z"
   },
   {
    "duration": 9,
    "start_time": "2022-02-23T16:49:24.740Z"
   },
   {
    "duration": 4,
    "start_time": "2022-02-23T16:49:26.339Z"
   },
   {
    "duration": 9,
    "start_time": "2022-02-23T16:49:27.431Z"
   },
   {
    "duration": 3,
    "start_time": "2022-02-23T16:49:56.267Z"
   },
   {
    "duration": 73,
    "start_time": "2022-02-23T16:49:56.284Z"
   },
   {
    "duration": 27,
    "start_time": "2022-02-23T16:49:56.359Z"
   },
   {
    "duration": 14,
    "start_time": "2022-02-23T16:49:56.407Z"
   },
   {
    "duration": 109,
    "start_time": "2022-02-23T16:49:56.424Z"
   },
   {
    "duration": 5,
    "start_time": "2022-02-23T16:49:56.535Z"
   },
   {
    "duration": 10,
    "start_time": "2022-02-23T16:49:56.542Z"
   },
   {
    "duration": 8,
    "start_time": "2022-02-23T16:49:56.554Z"
   },
   {
    "duration": 15,
    "start_time": "2022-02-23T16:49:56.564Z"
   },
   {
    "duration": 37,
    "start_time": "2022-02-23T16:49:56.582Z"
   },
   {
    "duration": 9,
    "start_time": "2022-02-23T16:49:56.621Z"
   },
   {
    "duration": 9,
    "start_time": "2022-02-23T16:49:56.632Z"
   },
   {
    "duration": 6,
    "start_time": "2022-02-23T16:49:56.643Z"
   },
   {
    "duration": 6,
    "start_time": "2022-02-23T16:49:56.652Z"
   },
   {
    "duration": 49,
    "start_time": "2022-02-23T16:49:56.660Z"
   },
   {
    "duration": 7,
    "start_time": "2022-02-23T16:49:56.711Z"
   },
   {
    "duration": 10,
    "start_time": "2022-02-23T16:49:56.720Z"
   },
   {
    "duration": 9,
    "start_time": "2022-02-23T16:49:56.732Z"
   },
   {
    "duration": 13,
    "start_time": "2022-02-23T16:49:56.743Z"
   },
   {
    "duration": 14,
    "start_time": "2022-02-23T16:49:56.758Z"
   },
   {
    "duration": 34,
    "start_time": "2022-02-23T16:49:56.775Z"
   },
   {
    "duration": 4,
    "start_time": "2022-02-23T16:49:58.464Z"
   },
   {
    "duration": 10,
    "start_time": "2022-02-23T16:50:00.145Z"
   },
   {
    "duration": 3,
    "start_time": "2022-02-23T16:50:49.239Z"
   },
   {
    "duration": 91,
    "start_time": "2022-02-23T16:50:49.245Z"
   },
   {
    "duration": 37,
    "start_time": "2022-02-23T16:50:49.339Z"
   },
   {
    "duration": 29,
    "start_time": "2022-02-23T16:50:49.378Z"
   },
   {
    "duration": 100,
    "start_time": "2022-02-23T16:50:49.410Z"
   },
   {
    "duration": 6,
    "start_time": "2022-02-23T16:50:49.512Z"
   },
   {
    "duration": 21,
    "start_time": "2022-02-23T16:50:49.519Z"
   },
   {
    "duration": 21,
    "start_time": "2022-02-23T16:50:49.543Z"
   },
   {
    "duration": 25,
    "start_time": "2022-02-23T16:50:49.567Z"
   },
   {
    "duration": 38,
    "start_time": "2022-02-23T16:50:49.594Z"
   },
   {
    "duration": 24,
    "start_time": "2022-02-23T16:50:49.634Z"
   },
   {
    "duration": 25,
    "start_time": "2022-02-23T16:50:49.661Z"
   },
   {
    "duration": 12,
    "start_time": "2022-02-23T16:50:49.687Z"
   },
   {
    "duration": 27,
    "start_time": "2022-02-23T16:50:49.701Z"
   },
   {
    "duration": 20,
    "start_time": "2022-02-23T16:50:49.731Z"
   },
   {
    "duration": 8,
    "start_time": "2022-02-23T16:50:49.753Z"
   },
   {
    "duration": 20,
    "start_time": "2022-02-23T16:50:49.763Z"
   },
   {
    "duration": 9,
    "start_time": "2022-02-23T16:50:49.786Z"
   },
   {
    "duration": 33,
    "start_time": "2022-02-23T16:50:49.797Z"
   },
   {
    "duration": 22,
    "start_time": "2022-02-23T16:50:49.832Z"
   },
   {
    "duration": 7,
    "start_time": "2022-02-23T16:50:49.856Z"
   },
   {
    "duration": 4,
    "start_time": "2022-02-23T16:50:51.376Z"
   },
   {
    "duration": 10,
    "start_time": "2022-02-23T16:50:52.138Z"
   },
   {
    "duration": 8,
    "start_time": "2022-02-23T18:08:08.725Z"
   },
   {
    "duration": 4,
    "start_time": "2022-02-24T14:26:27.694Z"
   },
   {
    "duration": 126,
    "start_time": "2022-02-24T14:26:29.603Z"
   },
   {
    "duration": 45,
    "start_time": "2022-02-24T14:26:31.108Z"
   },
   {
    "duration": 17,
    "start_time": "2022-02-24T14:26:33.545Z"
   },
   {
    "duration": 6,
    "start_time": "2022-02-24T14:35:29.744Z"
   },
   {
    "duration": 10,
    "start_time": "2022-02-24T14:35:30.637Z"
   },
   {
    "duration": 5,
    "start_time": "2022-02-24T14:35:32.303Z"
   },
   {
    "duration": 15,
    "start_time": "2022-02-24T14:35:34.447Z"
   },
   {
    "duration": 17,
    "start_time": "2022-02-24T14:35:51.521Z"
   },
   {
    "duration": 8,
    "start_time": "2022-02-24T14:35:54.586Z"
   },
   {
    "duration": 5,
    "start_time": "2022-02-24T14:35:58.921Z"
   },
   {
    "duration": 7,
    "start_time": "2022-02-24T14:36:00.736Z"
   },
   {
    "duration": 6,
    "start_time": "2022-02-24T14:36:42.513Z"
   },
   {
    "duration": 6,
    "start_time": "2022-02-24T14:36:45.072Z"
   },
   {
    "duration": 6,
    "start_time": "2022-02-24T14:36:53.907Z"
   },
   {
    "duration": 6,
    "start_time": "2022-02-24T14:36:56.599Z"
   },
   {
    "duration": 6,
    "start_time": "2022-02-24T14:37:06.770Z"
   },
   {
    "duration": 7,
    "start_time": "2022-02-24T14:37:07.420Z"
   },
   {
    "duration": 19,
    "start_time": "2022-02-24T14:39:09.964Z"
   },
   {
    "duration": 7,
    "start_time": "2022-02-24T14:39:22.853Z"
   },
   {
    "duration": 8,
    "start_time": "2022-02-24T14:39:23.541Z"
   },
   {
    "duration": 10,
    "start_time": "2022-02-24T14:41:25.669Z"
   },
   {
    "duration": 277,
    "start_time": "2022-02-24T14:42:44.187Z"
   },
   {
    "duration": 696,
    "start_time": "2022-02-24T14:42:57.510Z"
   },
   {
    "duration": 395,
    "start_time": "2022-02-24T14:43:08.299Z"
   },
   {
    "duration": 18,
    "start_time": "2022-02-24T14:43:12.950Z"
   },
   {
    "duration": 342,
    "start_time": "2022-02-24T14:43:49.088Z"
   },
   {
    "duration": 58,
    "start_time": "2022-02-24T14:43:56.724Z"
   },
   {
    "duration": 20,
    "start_time": "2022-02-24T14:44:40.821Z"
   },
   {
    "duration": 6,
    "start_time": "2022-02-24T14:45:06.054Z"
   },
   {
    "duration": 6,
    "start_time": "2022-02-24T14:45:22.715Z"
   },
   {
    "duration": 680,
    "start_time": "2022-02-24T14:46:01.346Z"
   },
   {
    "duration": 10,
    "start_time": "2022-02-24T14:46:17.147Z"
   },
   {
    "duration": 296,
    "start_time": "2022-02-24T14:46:46.219Z"
   },
   {
    "duration": 9,
    "start_time": "2022-02-24T14:46:52.961Z"
   },
   {
    "duration": 7,
    "start_time": "2022-02-24T14:47:34.671Z"
   },
   {
    "duration": 6,
    "start_time": "2022-02-24T14:47:53.502Z"
   },
   {
    "duration": 7,
    "start_time": "2022-02-24T14:48:18.768Z"
   },
   {
    "duration": 6,
    "start_time": "2022-02-24T14:48:54.719Z"
   },
   {
    "duration": 8,
    "start_time": "2022-02-24T14:49:31.664Z"
   },
   {
    "duration": 5,
    "start_time": "2022-02-24T14:49:53.485Z"
   },
   {
    "duration": 697,
    "start_time": "2022-02-24T14:50:22.082Z"
   },
   {
    "duration": 12,
    "start_time": "2022-02-24T14:50:47.223Z"
   },
   {
    "duration": 7,
    "start_time": "2022-02-24T14:51:07.381Z"
   },
   {
    "duration": 6,
    "start_time": "2022-02-24T14:51:29.232Z"
   },
   {
    "duration": 14,
    "start_time": "2022-02-24T14:51:48.033Z"
   },
   {
    "duration": 6,
    "start_time": "2022-02-24T14:55:29.911Z"
   },
   {
    "duration": 18,
    "start_time": "2022-02-24T14:55:59.436Z"
   },
   {
    "duration": 5,
    "start_time": "2022-02-24T14:56:25.109Z"
   },
   {
    "duration": 778,
    "start_time": "2022-02-24T14:56:40.650Z"
   },
   {
    "duration": 37,
    "start_time": "2022-02-24T14:57:04.355Z"
   },
   {
    "duration": 37,
    "start_time": "2022-02-24T14:57:29.354Z"
   },
   {
    "duration": 74,
    "start_time": "2022-02-24T14:57:46.920Z"
   },
   {
    "duration": 4,
    "start_time": "2022-02-24T15:00:38.929Z"
   },
   {
    "duration": 8,
    "start_time": "2022-02-24T15:01:44.800Z"
   },
   {
    "duration": 4,
    "start_time": "2022-02-24T15:02:01.269Z"
   },
   {
    "duration": 591,
    "start_time": "2022-02-24T15:02:16.766Z"
   },
   {
    "duration": 564,
    "start_time": "2022-02-24T15:02:40.796Z"
   },
   {
    "duration": 4,
    "start_time": "2022-02-24T15:03:19.356Z"
   },
   {
    "duration": 215,
    "start_time": "2022-02-24T15:03:31.451Z"
   },
   {
    "duration": 12,
    "start_time": "2022-02-24T15:04:10.124Z"
   },
   {
    "duration": 411,
    "start_time": "2022-02-24T15:04:24.729Z"
   },
   {
    "duration": 220,
    "start_time": "2022-02-24T15:04:45.841Z"
   },
   {
    "duration": 35,
    "start_time": "2022-02-24T15:05:11.277Z"
   },
   {
    "duration": 13,
    "start_time": "2022-02-24T15:05:41.691Z"
   },
   {
    "duration": 377,
    "start_time": "2022-02-24T15:05:56.450Z"
   },
   {
    "duration": 199,
    "start_time": "2022-02-24T15:06:13.977Z"
   },
   {
    "duration": 13,
    "start_time": "2022-02-24T15:06:33.257Z"
   },
   {
    "duration": 392,
    "start_time": "2022-02-24T15:06:43.287Z"
   },
   {
    "duration": 236,
    "start_time": "2022-02-24T15:07:01.578Z"
   },
   {
    "duration": 14,
    "start_time": "2022-02-24T15:07:19.190Z"
   },
   {
    "duration": 445,
    "start_time": "2022-02-24T15:07:31.093Z"
   },
   {
    "duration": 297,
    "start_time": "2022-02-24T15:07:53.809Z"
   },
   {
    "duration": 13,
    "start_time": "2022-02-24T15:08:08.901Z"
   },
   {
    "duration": 12,
    "start_time": "2022-02-24T15:08:30.757Z"
   },
   {
    "duration": 5,
    "start_time": "2022-02-24T15:08:46.180Z"
   },
   {
    "duration": 28,
    "start_time": "2022-02-24T15:09:05.150Z"
   },
   {
    "duration": 632,
    "start_time": "2022-02-24T15:09:21.486Z"
   },
   {
    "duration": 603,
    "start_time": "2022-02-24T15:09:36.233Z"
   },
   {
    "duration": 6748,
    "start_time": "2022-02-24T15:10:06.654Z"
   },
   {
    "duration": 12,
    "start_time": "2022-02-24T15:10:29.213Z"
   },
   {
    "duration": 603,
    "start_time": "2022-02-24T15:10:46.794Z"
   },
   {
    "duration": 132,
    "start_time": "2022-02-24T15:11:40.495Z"
   },
   {
    "duration": 585,
    "start_time": "2022-02-24T15:12:20.657Z"
   },
   {
    "duration": 158,
    "start_time": "2022-02-24T15:12:32.146Z"
   },
   {
    "duration": 813,
    "start_time": "2022-02-24T15:12:33.410Z"
   },
   {
    "duration": 3117,
    "start_time": "2022-02-24T15:12:39.936Z"
   },
   {
    "duration": 30,
    "start_time": "2022-02-24T15:13:36.748Z"
   },
   {
    "duration": 7223,
    "start_time": "2022-02-24T15:13:56.585Z"
   },
   {
    "duration": 311,
    "start_time": "2022-02-24T15:14:47.799Z"
   },
   {
    "duration": 11,
    "start_time": "2022-02-24T15:15:04.450Z"
   },
   {
    "duration": 452,
    "start_time": "2022-02-24T15:16:04.969Z"
   },
   {
    "duration": 358,
    "start_time": "2022-02-24T15:16:25.355Z"
   },
   {
    "duration": 948,
    "start_time": "2022-02-24T15:16:33.399Z"
   },
   {
    "duration": 19,
    "start_time": "2022-02-24T15:17:11.473Z"
   },
   {
    "duration": 4,
    "start_time": "2022-02-24T15:17:26.091Z"
   },
   {
    "duration": 413,
    "start_time": "2022-02-24T15:17:36.120Z"
   },
   {
    "duration": 430,
    "start_time": "2022-02-24T15:17:49.609Z"
   },
   {
    "duration": 489,
    "start_time": "2022-02-24T15:18:01.680Z"
   },
   {
    "duration": 390,
    "start_time": "2022-02-24T15:18:14.042Z"
   },
   {
    "duration": 7,
    "start_time": "2022-02-24T15:18:44.023Z"
   },
   {
    "duration": 389,
    "start_time": "2022-02-24T15:18:54.176Z"
   },
   {
    "duration": 533,
    "start_time": "2022-02-24T15:19:15.468Z"
   },
   {
    "duration": 7,
    "start_time": "2022-02-24T15:19:18.255Z"
   },
   {
    "duration": 421,
    "start_time": "2022-02-24T15:19:32.172Z"
   },
   {
    "duration": 18,
    "start_time": "2022-02-24T15:19:50.921Z"
   },
   {
    "duration": 85,
    "start_time": "2022-02-24T15:20:32.866Z"
   },
   {
    "duration": 120,
    "start_time": "2022-02-24T15:20:52.694Z"
   },
   {
    "duration": 4,
    "start_time": "2022-02-24T15:24:50.210Z"
   },
   {
    "duration": 96,
    "start_time": "2022-02-24T15:24:50.216Z"
   },
   {
    "duration": 81,
    "start_time": "2022-02-24T15:24:50.315Z"
   },
   {
    "duration": 69,
    "start_time": "2022-02-24T15:24:50.400Z"
   },
   {
    "duration": 151,
    "start_time": "2022-02-24T15:24:50.472Z"
   },
   {
    "duration": 6,
    "start_time": "2022-02-24T15:24:50.625Z"
   },
   {
    "duration": 28,
    "start_time": "2022-02-24T15:24:50.634Z"
   },
   {
    "duration": 6,
    "start_time": "2022-02-24T15:24:50.667Z"
   },
   {
    "duration": 18,
    "start_time": "2022-02-24T15:24:50.676Z"
   },
   {
    "duration": 18,
    "start_time": "2022-02-24T15:24:50.696Z"
   },
   {
    "duration": 12,
    "start_time": "2022-02-24T15:24:50.762Z"
   },
   {
    "duration": 13,
    "start_time": "2022-02-24T15:24:50.779Z"
   },
   {
    "duration": 9,
    "start_time": "2022-02-24T15:24:50.794Z"
   },
   {
    "duration": 9,
    "start_time": "2022-02-24T15:24:50.806Z"
   },
   {
    "duration": 45,
    "start_time": "2022-02-24T15:24:50.818Z"
   },
   {
    "duration": 17,
    "start_time": "2022-02-24T15:24:50.866Z"
   },
   {
    "duration": 12,
    "start_time": "2022-02-24T15:24:50.886Z"
   },
   {
    "duration": 18,
    "start_time": "2022-02-24T15:24:50.901Z"
   },
   {
    "duration": 40,
    "start_time": "2022-02-24T15:24:50.927Z"
   },
   {
    "duration": 9,
    "start_time": "2022-02-24T15:24:50.971Z"
   },
   {
    "duration": 17,
    "start_time": "2022-02-24T15:24:50.982Z"
   },
   {
    "duration": 710,
    "start_time": "2022-02-24T15:24:51.001Z"
   },
   {
    "duration": 12,
    "start_time": "2022-02-24T15:24:51.713Z"
   },
   {
    "duration": 61,
    "start_time": "2022-02-24T15:24:51.728Z"
   },
   {
    "duration": 20,
    "start_time": "2022-02-24T15:24:51.791Z"
   },
   {
    "duration": 13,
    "start_time": "2022-02-24T15:24:51.814Z"
   },
   {
    "duration": 4,
    "start_time": "2022-02-24T15:24:51.829Z"
   },
   {
    "duration": 708,
    "start_time": "2022-02-24T15:24:51.836Z"
   },
   {
    "duration": 18,
    "start_time": "2022-02-24T15:24:52.546Z"
   },
   {
    "duration": 24,
    "start_time": "2022-02-24T15:24:52.566Z"
   },
   {
    "duration": 6,
    "start_time": "2022-02-24T15:24:52.593Z"
   },
   {
    "duration": 6,
    "start_time": "2022-02-24T15:24:52.602Z"
   },
   {
    "duration": 13,
    "start_time": "2022-02-24T15:24:52.610Z"
   },
   {
    "duration": 7,
    "start_time": "2022-02-24T15:24:52.661Z"
   },
   {
    "duration": 8,
    "start_time": "2022-02-24T15:24:52.670Z"
   },
   {
    "duration": 9,
    "start_time": "2022-02-24T15:24:52.681Z"
   },
   {
    "duration": 731,
    "start_time": "2022-02-24T15:24:52.694Z"
   },
   {
    "duration": 14,
    "start_time": "2022-02-24T15:24:53.427Z"
   },
   {
    "duration": 6,
    "start_time": "2022-02-24T15:24:53.462Z"
   },
   {
    "duration": 4,
    "start_time": "2022-02-24T15:24:53.471Z"
   },
   {
    "duration": 15,
    "start_time": "2022-02-24T15:24:53.478Z"
   },
   {
    "duration": 6,
    "start_time": "2022-02-24T15:24:53.495Z"
   },
   {
    "duration": 62,
    "start_time": "2022-02-24T15:24:53.504Z"
   },
   {
    "duration": 5,
    "start_time": "2022-02-24T15:24:53.568Z"
   },
   {
    "duration": 871,
    "start_time": "2022-02-24T15:24:53.575Z"
   },
   {
    "duration": 42,
    "start_time": "2022-02-24T15:24:54.448Z"
   },
   {
    "duration": 69,
    "start_time": "2022-02-24T15:24:54.492Z"
   },
   {
    "duration": 75,
    "start_time": "2022-02-24T15:24:54.563Z"
   },
   {
    "duration": 22,
    "start_time": "2022-02-24T15:24:54.640Z"
   },
   {
    "duration": 6,
    "start_time": "2022-02-24T15:24:54.664Z"
   },
   {
    "duration": 10,
    "start_time": "2022-02-24T15:24:54.672Z"
   },
   {
    "duration": 408,
    "start_time": "2022-02-24T15:24:54.685Z"
   },
   {
    "duration": 227,
    "start_time": "2022-02-24T15:24:55.095Z"
   },
   {
    "duration": 14,
    "start_time": "2022-02-24T15:24:55.325Z"
   },
   {
    "duration": 421,
    "start_time": "2022-02-24T15:24:55.365Z"
   },
   {
    "duration": 228,
    "start_time": "2022-02-24T15:24:55.789Z"
   },
   {
    "duration": 49,
    "start_time": "2022-02-24T15:24:56.020Z"
   },
   {
    "duration": 11,
    "start_time": "2022-02-24T15:24:56.071Z"
   },
   {
    "duration": 410,
    "start_time": "2022-02-24T15:24:56.084Z"
   },
   {
    "duration": 222,
    "start_time": "2022-02-24T15:24:56.497Z"
   },
   {
    "duration": 38,
    "start_time": "2022-02-24T15:24:56.723Z"
   },
   {
    "duration": 432,
    "start_time": "2022-02-24T15:24:56.764Z"
   },
   {
    "duration": 243,
    "start_time": "2022-02-24T15:24:57.199Z"
   },
   {
    "duration": 25,
    "start_time": "2022-02-24T15:24:57.445Z"
   },
   {
    "duration": 456,
    "start_time": "2022-02-24T15:24:57.473Z"
   },
   {
    "duration": 246,
    "start_time": "2022-02-24T15:24:57.932Z"
   },
   {
    "duration": 12,
    "start_time": "2022-02-24T15:24:58.181Z"
   },
   {
    "duration": 11,
    "start_time": "2022-02-24T15:24:58.195Z"
   },
   {
    "duration": 6,
    "start_time": "2022-02-24T15:24:58.209Z"
   },
   {
    "duration": 67,
    "start_time": "2022-02-24T15:24:58.217Z"
   },
   {
    "duration": 659,
    "start_time": "2022-02-24T15:24:58.286Z"
   },
   {
    "duration": 645,
    "start_time": "2022-02-24T15:24:58.947Z"
   },
   {
    "duration": 13,
    "start_time": "2022-02-24T15:24:59.595Z"
   },
   {
    "duration": 635,
    "start_time": "2022-02-24T15:24:59.611Z"
   },
   {
    "duration": 305,
    "start_time": "2022-02-24T15:25:00.249Z"
   },
   {
    "duration": 3320,
    "start_time": "2022-02-24T15:25:00.557Z"
   },
   {
    "duration": 34,
    "start_time": "2022-02-24T15:25:03.880Z"
   },
   {
    "duration": 7474,
    "start_time": "2022-02-24T15:25:03.917Z"
   },
   {
    "duration": 355,
    "start_time": "2022-02-24T15:25:11.393Z"
   },
   {
    "duration": 18,
    "start_time": "2022-02-24T15:25:11.751Z"
   },
   {
    "duration": 590,
    "start_time": "2022-02-24T15:25:11.771Z"
   },
   {
    "duration": 18,
    "start_time": "2022-02-24T15:25:12.363Z"
   },
   {
    "duration": 4,
    "start_time": "2022-02-24T15:25:12.383Z"
   },
   {
    "duration": 433,
    "start_time": "2022-02-24T15:25:12.389Z"
   },
   {
    "duration": 512,
    "start_time": "2022-02-24T15:25:12.825Z"
   },
   {
    "duration": 478,
    "start_time": "2022-02-24T15:25:13.341Z"
   },
   {
    "duration": 464,
    "start_time": "2022-02-24T15:25:13.822Z"
   },
   {
    "duration": 6,
    "start_time": "2022-02-24T15:25:14.289Z"
   },
   {
    "duration": 482,
    "start_time": "2022-02-24T15:25:14.297Z"
   },
   {
    "duration": 7,
    "start_time": "2022-02-24T15:25:14.783Z"
   },
   {
    "duration": 536,
    "start_time": "2022-02-24T15:25:14.794Z"
   },
   {
    "duration": 36,
    "start_time": "2022-02-24T15:25:15.333Z"
   },
   {
    "duration": 19,
    "start_time": "2022-02-24T15:25:29.525Z"
   },
   {
    "duration": 100,
    "start_time": "2022-02-24T15:25:30.849Z"
   },
   {
    "duration": 16,
    "start_time": "2022-02-24T15:28:44.802Z"
   },
   {
    "duration": 2561,
    "start_time": "2022-02-24T15:28:58.547Z"
   },
   {
    "duration": 1174,
    "start_time": "2022-02-25T16:49:46.305Z"
   },
   {
    "duration": 64,
    "start_time": "2022-02-25T17:01:26.131Z"
   },
   {
    "duration": 28,
    "start_time": "2022-02-25T17:02:37.193Z"
   },
   {
    "duration": 13,
    "start_time": "2022-02-25T17:04:29.119Z"
   },
   {
    "duration": 69,
    "start_time": "2022-02-25T17:54:45.739Z"
   },
   {
    "duration": 1554,
    "start_time": "2022-02-26T07:29:18.156Z"
   },
   {
    "duration": 95,
    "start_time": "2022-02-26T07:29:21.409Z"
   },
   {
    "duration": 44,
    "start_time": "2022-02-26T07:29:23.404Z"
   },
   {
    "duration": 18,
    "start_time": "2022-02-26T07:29:26.818Z"
   },
   {
    "duration": 121,
    "start_time": "2022-02-26T07:29:33.674Z"
   },
   {
    "duration": 5,
    "start_time": "2022-02-26T07:31:44.450Z"
   },
   {
    "duration": 14,
    "start_time": "2022-02-26T07:33:14.889Z"
   },
   {
    "duration": 6,
    "start_time": "2022-02-26T07:33:44.037Z"
   },
   {
    "duration": 12,
    "start_time": "2022-02-26T07:42:18.027Z"
   },
   {
    "duration": 4,
    "start_time": "2022-02-26T10:00:21.204Z"
   },
   {
    "duration": 92,
    "start_time": "2022-02-26T10:00:21.211Z"
   },
   {
    "duration": 38,
    "start_time": "2022-02-26T10:00:21.306Z"
   },
   {
    "duration": 23,
    "start_time": "2022-02-26T10:00:21.347Z"
   },
   {
    "duration": 131,
    "start_time": "2022-02-26T10:00:21.373Z"
   },
   {
    "duration": 7,
    "start_time": "2022-02-26T10:00:21.508Z"
   },
   {
    "duration": 14,
    "start_time": "2022-02-26T10:00:21.527Z"
   },
   {
    "duration": 11,
    "start_time": "2022-02-26T10:00:21.544Z"
   },
   {
    "duration": 25,
    "start_time": "2022-02-26T10:00:21.559Z"
   },
   {
    "duration": 17,
    "start_time": "2022-02-26T10:00:24.447Z"
   },
   {
    "duration": 8,
    "start_time": "2022-02-26T10:00:29.387Z"
   },
   {
    "duration": 4,
    "start_time": "2022-02-26T10:03:06.753Z"
   },
   {
    "duration": 106,
    "start_time": "2022-02-26T10:03:06.760Z"
   },
   {
    "duration": 41,
    "start_time": "2022-02-26T10:03:06.869Z"
   },
   {
    "duration": 28,
    "start_time": "2022-02-26T10:03:06.913Z"
   },
   {
    "duration": 127,
    "start_time": "2022-02-26T10:03:06.943Z"
   },
   {
    "duration": 6,
    "start_time": "2022-02-26T10:03:07.072Z"
   },
   {
    "duration": 17,
    "start_time": "2022-02-26T10:03:07.081Z"
   },
   {
    "duration": 26,
    "start_time": "2022-02-26T10:03:07.102Z"
   },
   {
    "duration": 29,
    "start_time": "2022-02-26T10:03:07.130Z"
   },
   {
    "duration": 18,
    "start_time": "2022-02-26T10:03:07.162Z"
   },
   {
    "duration": 15,
    "start_time": "2022-02-26T10:03:07.182Z"
   },
   {
    "duration": 5,
    "start_time": "2022-02-26T10:03:44.077Z"
   },
   {
    "duration": 7,
    "start_time": "2022-02-26T10:03:44.711Z"
   },
   {
    "duration": 5,
    "start_time": "2022-02-26T10:04:33.376Z"
   },
   {
    "duration": 7,
    "start_time": "2022-02-26T10:04:34.625Z"
   },
   {
    "duration": 96,
    "start_time": "2022-02-26T10:05:41.571Z"
   },
   {
    "duration": 6,
    "start_time": "2022-02-26T10:07:09.158Z"
   },
   {
    "duration": 6,
    "start_time": "2022-02-26T10:07:10.483Z"
   },
   {
    "duration": 6,
    "start_time": "2022-02-26T10:09:06.572Z"
   },
   {
    "duration": 7,
    "start_time": "2022-02-26T10:09:18.751Z"
   },
   {
    "duration": 4,
    "start_time": "2022-02-26T10:09:22.204Z"
   },
   {
    "duration": 7,
    "start_time": "2022-02-26T10:10:09.179Z"
   },
   {
    "duration": 5,
    "start_time": "2022-02-26T10:37:08.347Z"
   },
   {
    "duration": 101,
    "start_time": "2022-02-26T10:37:08.355Z"
   },
   {
    "duration": 41,
    "start_time": "2022-02-26T10:37:08.459Z"
   },
   {
    "duration": 32,
    "start_time": "2022-02-26T10:37:08.503Z"
   },
   {
    "duration": 131,
    "start_time": "2022-02-26T10:37:08.538Z"
   },
   {
    "duration": 6,
    "start_time": "2022-02-26T10:37:08.672Z"
   },
   {
    "duration": 10,
    "start_time": "2022-02-26T10:37:08.681Z"
   },
   {
    "duration": 5,
    "start_time": "2022-02-26T10:37:08.695Z"
   },
   {
    "duration": 35,
    "start_time": "2022-02-26T10:37:08.702Z"
   },
   {
    "duration": 18,
    "start_time": "2022-02-26T10:37:08.739Z"
   },
   {
    "duration": 22,
    "start_time": "2022-02-26T10:37:08.760Z"
   },
   {
    "duration": 12,
    "start_time": "2022-02-26T10:37:08.785Z"
   },
   {
    "duration": 34,
    "start_time": "2022-02-26T10:37:08.799Z"
   },
   {
    "duration": 8,
    "start_time": "2022-02-26T10:37:08.837Z"
   },
   {
    "duration": 19,
    "start_time": "2022-02-26T10:37:08.847Z"
   },
   {
    "duration": 11,
    "start_time": "2022-02-26T10:37:08.868Z"
   },
   {
    "duration": 8,
    "start_time": "2022-02-26T10:37:08.882Z"
   },
   {
    "duration": 12,
    "start_time": "2022-02-26T10:37:11.899Z"
   },
   {
    "duration": 12,
    "start_time": "2022-02-26T10:37:12.925Z"
   },
   {
    "duration": 6,
    "start_time": "2022-02-26T10:37:13.756Z"
   },
   {
    "duration": 8,
    "start_time": "2022-02-26T10:37:14.796Z"
   },
   {
    "duration": 12,
    "start_time": "2022-02-26T10:37:16.334Z"
   },
   {
    "duration": 326,
    "start_time": "2022-02-26T11:55:23.562Z"
   },
   {
    "duration": 1280,
    "start_time": "2022-02-26T11:55:27.377Z"
   },
   {
    "duration": 76,
    "start_time": "2022-02-26T11:55:28.660Z"
   },
   {
    "duration": 37,
    "start_time": "2022-02-26T11:55:28.739Z"
   },
   {
    "duration": 13,
    "start_time": "2022-02-26T11:55:28.779Z"
   },
   {
    "duration": 103,
    "start_time": "2022-02-26T11:55:28.794Z"
   },
   {
    "duration": 5,
    "start_time": "2022-02-26T11:55:28.900Z"
   },
   {
    "duration": 14,
    "start_time": "2022-02-26T11:55:28.907Z"
   },
   {
    "duration": 4,
    "start_time": "2022-02-26T11:55:28.924Z"
   },
   {
    "duration": 37,
    "start_time": "2022-02-26T11:55:28.931Z"
   },
   {
    "duration": 13,
    "start_time": "2022-02-26T11:55:28.971Z"
   },
   {
    "duration": 10,
    "start_time": "2022-02-26T11:55:28.986Z"
   },
   {
    "duration": 10,
    "start_time": "2022-02-26T11:55:28.998Z"
   },
   {
    "duration": 11,
    "start_time": "2022-02-26T11:55:29.010Z"
   },
   {
    "duration": 6,
    "start_time": "2022-02-26T11:55:29.023Z"
   },
   {
    "duration": 7,
    "start_time": "2022-02-26T11:55:29.032Z"
   },
   {
    "duration": 29,
    "start_time": "2022-02-26T11:55:29.041Z"
   },
   {
    "duration": 4,
    "start_time": "2022-02-26T11:55:29.072Z"
   },
   {
    "duration": 11,
    "start_time": "2022-02-26T11:55:29.078Z"
   },
   {
    "duration": 8,
    "start_time": "2022-02-26T11:55:29.091Z"
   },
   {
    "duration": 14,
    "start_time": "2022-02-26T11:55:29.101Z"
   },
   {
    "duration": 6,
    "start_time": "2022-02-26T11:55:29.117Z"
   },
   {
    "duration": 4,
    "start_time": "2022-02-26T11:55:38.125Z"
   },
   {
    "duration": 5,
    "start_time": "2022-02-26T11:56:37.706Z"
   },
   {
    "duration": 4,
    "start_time": "2022-02-26T11:58:10.596Z"
   },
   {
    "duration": 6,
    "start_time": "2022-02-26T11:58:46.986Z"
   },
   {
    "duration": 1513,
    "start_time": "2022-02-26T12:27:59.235Z"
   },
   {
    "duration": 74,
    "start_time": "2022-02-26T12:28:00.751Z"
   },
   {
    "duration": 32,
    "start_time": "2022-02-26T12:28:00.827Z"
   },
   {
    "duration": 22,
    "start_time": "2022-02-26T12:28:00.861Z"
   },
   {
    "duration": 94,
    "start_time": "2022-02-26T12:28:00.885Z"
   },
   {
    "duration": 4,
    "start_time": "2022-02-26T12:28:00.980Z"
   },
   {
    "duration": 11,
    "start_time": "2022-02-26T12:28:00.986Z"
   },
   {
    "duration": 8,
    "start_time": "2022-02-26T12:28:00.999Z"
   },
   {
    "duration": 14,
    "start_time": "2022-02-26T12:28:01.009Z"
   },
   {
    "duration": 14,
    "start_time": "2022-02-26T12:28:01.025Z"
   },
   {
    "duration": 11,
    "start_time": "2022-02-26T12:28:01.041Z"
   },
   {
    "duration": 29,
    "start_time": "2022-02-26T12:28:01.054Z"
   },
   {
    "duration": 17,
    "start_time": "2022-02-26T12:28:01.085Z"
   },
   {
    "duration": 13,
    "start_time": "2022-02-26T12:28:01.104Z"
   },
   {
    "duration": 11,
    "start_time": "2022-02-26T12:28:01.119Z"
   },
   {
    "duration": 11,
    "start_time": "2022-02-26T12:28:01.132Z"
   },
   {
    "duration": 20,
    "start_time": "2022-02-26T12:28:01.145Z"
   },
   {
    "duration": 27,
    "start_time": "2022-02-26T12:28:01.167Z"
   },
   {
    "duration": 10,
    "start_time": "2022-02-26T12:28:01.196Z"
   },
   {
    "duration": 30,
    "start_time": "2022-02-26T12:28:01.208Z"
   },
   {
    "duration": 8,
    "start_time": "2022-02-26T12:28:01.240Z"
   },
   {
    "duration": 10,
    "start_time": "2022-02-26T12:28:01.250Z"
   },
   {
    "duration": 11,
    "start_time": "2022-02-26T12:28:01.263Z"
   },
   {
    "duration": 14,
    "start_time": "2022-02-26T12:28:01.276Z"
   },
   {
    "duration": 16,
    "start_time": "2022-02-26T12:28:01.291Z"
   },
   {
    "duration": 4,
    "start_time": "2022-02-26T12:28:04.402Z"
   },
   {
    "duration": 5,
    "start_time": "2022-02-26T12:28:45.027Z"
   },
   {
    "duration": 3,
    "start_time": "2022-02-26T12:29:33.643Z"
   },
   {
    "duration": 5,
    "start_time": "2022-02-26T12:30:13.436Z"
   },
   {
    "duration": 4,
    "start_time": "2022-02-26T12:31:48.525Z"
   },
   {
    "duration": 5,
    "start_time": "2022-02-26T12:32:14.025Z"
   },
   {
    "duration": 3,
    "start_time": "2022-02-26T15:26:15.615Z"
   },
   {
    "duration": 711,
    "start_time": "2022-02-26T15:26:15.620Z"
   },
   {
    "duration": 28,
    "start_time": "2022-02-26T15:26:16.333Z"
   },
   {
    "duration": 20,
    "start_time": "2022-02-26T15:26:16.363Z"
   },
   {
    "duration": 72,
    "start_time": "2022-02-26T15:26:16.384Z"
   },
   {
    "duration": 3,
    "start_time": "2022-02-26T15:26:16.458Z"
   },
   {
    "duration": 7,
    "start_time": "2022-02-26T15:26:16.477Z"
   },
   {
    "duration": 4,
    "start_time": "2022-02-26T15:26:16.486Z"
   },
   {
    "duration": 10,
    "start_time": "2022-02-26T15:26:16.492Z"
   },
   {
    "duration": 11,
    "start_time": "2022-02-26T15:26:16.504Z"
   },
   {
    "duration": 7,
    "start_time": "2022-02-26T15:26:16.517Z"
   },
   {
    "duration": 6,
    "start_time": "2022-02-26T15:26:16.525Z"
   },
   {
    "duration": 7,
    "start_time": "2022-02-26T15:26:16.533Z"
   },
   {
    "duration": 37,
    "start_time": "2022-02-26T15:26:16.542Z"
   },
   {
    "duration": 6,
    "start_time": "2022-02-26T15:26:16.581Z"
   },
   {
    "duration": 5,
    "start_time": "2022-02-26T15:26:16.588Z"
   },
   {
    "duration": 7,
    "start_time": "2022-02-26T15:26:16.594Z"
   },
   {
    "duration": 13,
    "start_time": "2022-02-26T15:26:16.602Z"
   },
   {
    "duration": 4,
    "start_time": "2022-02-26T15:26:16.617Z"
   },
   {
    "duration": 8,
    "start_time": "2022-02-26T15:26:16.622Z"
   },
   {
    "duration": 4,
    "start_time": "2022-02-26T15:26:16.632Z"
   },
   {
    "duration": 7,
    "start_time": "2022-02-26T15:26:16.638Z"
   },
   {
    "duration": 34,
    "start_time": "2022-02-26T15:26:16.647Z"
   },
   {
    "duration": 6,
    "start_time": "2022-02-26T15:26:16.682Z"
   },
   {
    "duration": 6,
    "start_time": "2022-02-26T15:26:16.689Z"
   },
   {
    "duration": 6,
    "start_time": "2022-02-26T15:26:16.696Z"
   },
   {
    "duration": 5,
    "start_time": "2022-02-26T15:26:16.705Z"
   },
   {
    "duration": 4,
    "start_time": "2022-02-26T15:26:16.711Z"
   },
   {
    "duration": 7,
    "start_time": "2022-02-26T15:26:16.717Z"
   },
   {
    "duration": 5,
    "start_time": "2022-02-26T15:26:16.725Z"
   },
   {
    "duration": 5,
    "start_time": "2022-02-26T15:26:19.597Z"
   },
   {
    "duration": 13,
    "start_time": "2022-02-26T15:30:08.439Z"
   },
   {
    "duration": 18,
    "start_time": "2022-02-26T15:35:45.091Z"
   },
   {
    "duration": 4,
    "start_time": "2022-02-26T17:08:22.412Z"
   },
   {
    "duration": 4,
    "start_time": "2022-02-26T18:13:22.397Z"
   },
   {
    "duration": 3,
    "start_time": "2022-02-26T18:24:18.030Z"
   },
   {
    "duration": 454,
    "start_time": "2022-02-26T18:25:31.642Z"
   },
   {
    "duration": 5,
    "start_time": "2022-02-26T18:26:10.615Z"
   },
   {
    "duration": 4,
    "start_time": "2022-02-26T18:26:48.605Z"
   },
   {
    "duration": 4,
    "start_time": "2022-02-26T18:27:20.664Z"
   },
   {
    "duration": 2,
    "start_time": "2022-02-26T18:28:50.018Z"
   },
   {
    "duration": 8,
    "start_time": "2022-02-26T18:28:55.728Z"
   },
   {
    "duration": 1103,
    "start_time": "2022-02-27T10:40:43.320Z"
   },
   {
    "duration": 61,
    "start_time": "2022-02-27T10:40:44.425Z"
   },
   {
    "duration": 28,
    "start_time": "2022-02-27T10:40:44.488Z"
   },
   {
    "duration": 11,
    "start_time": "2022-02-27T10:40:44.518Z"
   },
   {
    "duration": 93,
    "start_time": "2022-02-27T10:40:44.530Z"
   },
   {
    "duration": 4,
    "start_time": "2022-02-27T10:40:44.625Z"
   },
   {
    "duration": 35,
    "start_time": "2022-02-27T10:40:44.631Z"
   },
   {
    "duration": 4,
    "start_time": "2022-02-27T10:40:44.670Z"
   },
   {
    "duration": 13,
    "start_time": "2022-02-27T10:40:44.677Z"
   },
   {
    "duration": 13,
    "start_time": "2022-02-27T10:40:44.692Z"
   },
   {
    "duration": 8,
    "start_time": "2022-02-27T10:40:44.707Z"
   },
   {
    "duration": 47,
    "start_time": "2022-02-27T10:40:44.717Z"
   },
   {
    "duration": 5,
    "start_time": "2022-02-27T10:40:44.766Z"
   },
   {
    "duration": 9,
    "start_time": "2022-02-27T10:40:44.773Z"
   },
   {
    "duration": 7,
    "start_time": "2022-02-27T10:40:44.784Z"
   },
   {
    "duration": 4,
    "start_time": "2022-02-27T10:40:44.793Z"
   },
   {
    "duration": 6,
    "start_time": "2022-02-27T10:40:44.799Z"
   },
   {
    "duration": 59,
    "start_time": "2022-02-27T10:40:44.807Z"
   },
   {
    "duration": 5,
    "start_time": "2022-02-27T10:40:44.868Z"
   },
   {
    "duration": 16,
    "start_time": "2022-02-27T10:40:44.875Z"
   },
   {
    "duration": 8,
    "start_time": "2022-02-27T10:40:44.893Z"
   },
   {
    "duration": 4,
    "start_time": "2022-02-27T10:40:44.903Z"
   },
   {
    "duration": 4,
    "start_time": "2022-02-27T10:40:44.912Z"
   },
   {
    "duration": 44,
    "start_time": "2022-02-27T10:40:44.919Z"
   },
   {
    "duration": 6,
    "start_time": "2022-02-27T10:40:44.965Z"
   },
   {
    "duration": 5,
    "start_time": "2022-02-27T10:40:44.972Z"
   },
   {
    "duration": 6,
    "start_time": "2022-02-27T10:40:44.979Z"
   },
   {
    "duration": 4,
    "start_time": "2022-02-27T10:40:44.986Z"
   },
   {
    "duration": 6,
    "start_time": "2022-02-27T10:40:44.992Z"
   },
   {
    "duration": 8,
    "start_time": "2022-02-27T10:40:44.999Z"
   },
   {
    "duration": 57,
    "start_time": "2022-02-27T10:40:45.008Z"
   },
   {
    "duration": 12,
    "start_time": "2022-02-27T10:40:45.066Z"
   },
   {
    "duration": 19,
    "start_time": "2022-02-27T10:40:45.080Z"
   },
   {
    "duration": 7,
    "start_time": "2022-02-27T10:40:45.100Z"
   },
   {
    "duration": 9,
    "start_time": "2022-02-27T10:40:45.108Z"
   },
   {
    "duration": 4,
    "start_time": "2022-02-27T10:40:45.119Z"
   },
   {
    "duration": 7,
    "start_time": "2022-02-27T10:40:45.124Z"
   },
   {
    "duration": 32,
    "start_time": "2022-02-27T10:40:45.132Z"
   },
   {
    "duration": 8,
    "start_time": "2022-02-27T10:40:45.166Z"
   },
   {
    "duration": 5,
    "start_time": "2022-02-27T10:42:04.821Z"
   },
   {
    "duration": 4,
    "start_time": "2022-02-27T10:44:10.546Z"
   },
   {
    "duration": 463,
    "start_time": "2022-02-27T11:07:17.716Z"
   },
   {
    "duration": 9,
    "start_time": "2022-02-27T11:07:42.691Z"
   },
   {
    "duration": 6,
    "start_time": "2022-02-27T11:09:41.501Z"
   },
   {
    "duration": 6,
    "start_time": "2022-02-27T13:29:02.239Z"
   },
   {
    "duration": 6,
    "start_time": "2022-02-27T13:40:24.122Z"
   },
   {
    "duration": 5,
    "start_time": "2022-02-27T13:42:59.811Z"
   },
   {
    "duration": 5,
    "start_time": "2022-02-27T13:44:28.689Z"
   },
   {
    "duration": 6,
    "start_time": "2022-02-27T14:28:18.101Z"
   },
   {
    "duration": 1417,
    "start_time": "2022-02-28T17:22:01.531Z"
   },
   {
    "duration": 94,
    "start_time": "2022-02-28T17:22:02.951Z"
   },
   {
    "duration": 52,
    "start_time": "2022-02-28T17:22:03.049Z"
   },
   {
    "duration": 22,
    "start_time": "2022-02-28T17:22:03.105Z"
   },
   {
    "duration": 143,
    "start_time": "2022-02-28T17:22:03.130Z"
   },
   {
    "duration": 8,
    "start_time": "2022-02-28T17:22:03.287Z"
   },
   {
    "duration": 27,
    "start_time": "2022-02-28T17:22:03.298Z"
   },
   {
    "duration": 24,
    "start_time": "2022-02-28T17:22:03.328Z"
   },
   {
    "duration": 17,
    "start_time": "2022-02-28T17:22:03.355Z"
   },
   {
    "duration": 16,
    "start_time": "2022-02-28T17:22:03.387Z"
   },
   {
    "duration": 14,
    "start_time": "2022-02-28T17:22:03.406Z"
   },
   {
    "duration": 7,
    "start_time": "2022-02-28T17:22:03.422Z"
   },
   {
    "duration": 8,
    "start_time": "2022-02-28T17:22:03.431Z"
   },
   {
    "duration": 6,
    "start_time": "2022-02-28T17:22:03.441Z"
   },
   {
    "duration": 6,
    "start_time": "2022-02-28T17:22:03.488Z"
   },
   {
    "duration": 7,
    "start_time": "2022-02-28T17:22:03.496Z"
   },
   {
    "duration": 7,
    "start_time": "2022-02-28T17:22:03.506Z"
   },
   {
    "duration": 16,
    "start_time": "2022-02-28T17:22:03.515Z"
   },
   {
    "duration": 55,
    "start_time": "2022-02-28T17:22:03.533Z"
   },
   {
    "duration": 18,
    "start_time": "2022-02-28T17:22:03.591Z"
   },
   {
    "duration": 12,
    "start_time": "2022-02-28T17:22:03.612Z"
   },
   {
    "duration": 62,
    "start_time": "2022-02-28T17:22:03.627Z"
   },
   {
    "duration": 8,
    "start_time": "2022-02-28T17:22:03.692Z"
   },
   {
    "duration": 27,
    "start_time": "2022-02-28T17:22:03.703Z"
   },
   {
    "duration": 11,
    "start_time": "2022-02-28T17:22:03.732Z"
   },
   {
    "duration": 5,
    "start_time": "2022-02-28T17:22:03.746Z"
   },
   {
    "duration": 8,
    "start_time": "2022-02-28T17:22:03.787Z"
   },
   {
    "duration": 14,
    "start_time": "2022-02-28T17:22:03.799Z"
   },
   {
    "duration": 8,
    "start_time": "2022-02-28T17:22:03.817Z"
   },
   {
    "duration": 5,
    "start_time": "2022-02-28T17:22:03.828Z"
   },
   {
    "duration": 54,
    "start_time": "2022-02-28T17:22:03.836Z"
   },
   {
    "duration": 16,
    "start_time": "2022-02-28T17:22:03.893Z"
   },
   {
    "duration": 26,
    "start_time": "2022-02-28T17:22:03.911Z"
   },
   {
    "duration": 47,
    "start_time": "2022-02-28T17:22:03.940Z"
   },
   {
    "duration": 8,
    "start_time": "2022-02-28T17:22:03.990Z"
   },
   {
    "duration": 7,
    "start_time": "2022-02-28T17:22:04.000Z"
   },
   {
    "duration": 6,
    "start_time": "2022-02-28T17:22:10.696Z"
   },
   {
    "duration": 5,
    "start_time": "2022-02-28T17:22:11.681Z"
   },
   {
    "duration": 11,
    "start_time": "2022-02-28T17:22:13.274Z"
   },
   {
    "duration": 5,
    "start_time": "2022-02-28T17:23:22.322Z"
   },
   {
    "duration": 5,
    "start_time": "2022-02-28T17:23:24.627Z"
   },
   {
    "duration": 764,
    "start_time": "2022-02-28T17:23:31.334Z"
   },
   {
    "duration": 13,
    "start_time": "2022-02-28T17:23:32.220Z"
   },
   {
    "duration": 8,
    "start_time": "2022-02-28T17:23:34.569Z"
   },
   {
    "duration": 9,
    "start_time": "2022-02-28T17:23:40.868Z"
   },
   {
    "duration": 7,
    "start_time": "2022-02-28T17:24:36.877Z"
   },
   {
    "duration": 7,
    "start_time": "2022-02-28T17:24:39.308Z"
   },
   {
    "duration": 6,
    "start_time": "2022-02-28T17:24:41.980Z"
   },
   {
    "duration": 8,
    "start_time": "2022-02-28T17:24:54.239Z"
   },
   {
    "duration": 7,
    "start_time": "2022-02-28T17:25:01.580Z"
   },
   {
    "duration": 3,
    "start_time": "2022-02-28T17:25:14.097Z"
   },
   {
    "duration": 93,
    "start_time": "2022-02-28T17:25:14.103Z"
   },
   {
    "duration": 40,
    "start_time": "2022-02-28T17:25:14.199Z"
   },
   {
    "duration": 54,
    "start_time": "2022-02-28T17:25:14.242Z"
   },
   {
    "duration": 124,
    "start_time": "2022-02-28T17:25:14.298Z"
   },
   {
    "duration": 5,
    "start_time": "2022-02-28T17:25:14.424Z"
   },
   {
    "duration": 17,
    "start_time": "2022-02-28T17:25:14.432Z"
   },
   {
    "duration": 35,
    "start_time": "2022-02-28T17:25:14.452Z"
   },
   {
    "duration": 18,
    "start_time": "2022-02-28T17:25:14.493Z"
   },
   {
    "duration": 16,
    "start_time": "2022-02-28T17:25:14.515Z"
   },
   {
    "duration": 9,
    "start_time": "2022-02-28T17:25:14.533Z"
   },
   {
    "duration": 5,
    "start_time": "2022-02-28T17:25:14.587Z"
   },
   {
    "duration": 6,
    "start_time": "2022-02-28T17:25:14.594Z"
   },
   {
    "duration": 4,
    "start_time": "2022-02-28T17:25:14.603Z"
   },
   {
    "duration": 7,
    "start_time": "2022-02-28T17:25:14.609Z"
   },
   {
    "duration": 6,
    "start_time": "2022-02-28T17:25:14.618Z"
   },
   {
    "duration": 63,
    "start_time": "2022-02-28T17:25:14.626Z"
   },
   {
    "duration": 11,
    "start_time": "2022-02-28T17:25:14.691Z"
   },
   {
    "duration": 6,
    "start_time": "2022-02-28T17:25:14.704Z"
   },
   {
    "duration": 12,
    "start_time": "2022-02-28T17:25:14.713Z"
   },
   {
    "duration": 59,
    "start_time": "2022-02-28T17:25:14.728Z"
   },
   {
    "duration": 5,
    "start_time": "2022-02-28T17:25:14.790Z"
   },
   {
    "duration": 18,
    "start_time": "2022-02-28T17:25:14.798Z"
   },
   {
    "duration": 7,
    "start_time": "2022-02-28T17:25:14.818Z"
   },
   {
    "duration": 8,
    "start_time": "2022-02-28T17:25:14.827Z"
   },
   {
    "duration": 6,
    "start_time": "2022-02-28T17:25:14.837Z"
   },
   {
    "duration": 43,
    "start_time": "2022-02-28T17:25:14.849Z"
   },
   {
    "duration": 5,
    "start_time": "2022-02-28T17:25:14.895Z"
   },
   {
    "duration": 8,
    "start_time": "2022-02-28T17:25:14.902Z"
   },
   {
    "duration": 8,
    "start_time": "2022-02-28T17:25:14.913Z"
   },
   {
    "duration": 12,
    "start_time": "2022-02-28T17:25:14.923Z"
   },
   {
    "duration": 69,
    "start_time": "2022-02-28T17:25:14.938Z"
   },
   {
    "duration": 46,
    "start_time": "2022-02-28T17:25:15.010Z"
   },
   {
    "duration": 10,
    "start_time": "2022-02-28T17:25:15.058Z"
   },
   {
    "duration": 16,
    "start_time": "2022-02-28T17:25:15.071Z"
   },
   {
    "duration": 6,
    "start_time": "2022-02-28T17:25:15.089Z"
   },
   {
    "duration": 6,
    "start_time": "2022-02-28T17:25:15.097Z"
   },
   {
    "duration": 6,
    "start_time": "2022-02-28T17:25:15.106Z"
   },
   {
    "duration": 12,
    "start_time": "2022-02-28T17:25:15.114Z"
   },
   {
    "duration": 6,
    "start_time": "2022-02-28T17:25:15.128Z"
   },
   {
    "duration": 52,
    "start_time": "2022-02-28T17:25:15.137Z"
   },
   {
    "duration": 806,
    "start_time": "2022-02-28T17:25:15.191Z"
   },
   {
    "duration": 9,
    "start_time": "2022-02-28T17:25:15.999Z"
   },
   {
    "duration": 10,
    "start_time": "2022-02-28T17:25:16.010Z"
   },
   {
    "duration": 7,
    "start_time": "2022-02-28T17:25:16.022Z"
   },
   {
    "duration": 6,
    "start_time": "2022-02-28T17:25:16.031Z"
   },
   {
    "duration": 51,
    "start_time": "2022-02-28T17:25:16.040Z"
   },
   {
    "duration": 7,
    "start_time": "2022-02-28T17:25:16.094Z"
   },
   {
    "duration": 8,
    "start_time": "2022-02-28T17:25:17.562Z"
   },
   {
    "duration": 5,
    "start_time": "2022-02-28T17:26:42.204Z"
   },
   {
    "duration": 7,
    "start_time": "2022-02-28T17:26:44.969Z"
   },
   {
    "duration": 6,
    "start_time": "2022-02-28T17:26:46.882Z"
   },
   {
    "duration": 9,
    "start_time": "2022-02-28T17:26:48.651Z"
   },
   {
    "duration": 8,
    "start_time": "2022-02-28T17:28:58.840Z"
   },
   {
    "duration": 4,
    "start_time": "2022-02-28T17:30:42.213Z"
   },
   {
    "duration": 90,
    "start_time": "2022-02-28T17:30:42.220Z"
   },
   {
    "duration": 40,
    "start_time": "2022-02-28T17:30:42.312Z"
   },
   {
    "duration": 46,
    "start_time": "2022-02-28T17:30:42.355Z"
   },
   {
    "duration": 145,
    "start_time": "2022-02-28T17:30:42.404Z"
   },
   {
    "duration": 6,
    "start_time": "2022-02-28T17:30:42.552Z"
   },
   {
    "duration": 27,
    "start_time": "2022-02-28T17:30:42.562Z"
   },
   {
    "duration": 6,
    "start_time": "2022-02-28T17:30:42.592Z"
   },
   {
    "duration": 16,
    "start_time": "2022-02-28T17:30:42.600Z"
   },
   {
    "duration": 16,
    "start_time": "2022-02-28T17:30:42.618Z"
   },
   {
    "duration": 54,
    "start_time": "2022-02-28T17:30:42.636Z"
   },
   {
    "duration": 6,
    "start_time": "2022-02-28T17:30:42.692Z"
   },
   {
    "duration": 16,
    "start_time": "2022-02-28T17:30:42.701Z"
   },
   {
    "duration": 8,
    "start_time": "2022-02-28T17:30:42.720Z"
   },
   {
    "duration": 12,
    "start_time": "2022-02-28T17:30:42.730Z"
   },
   {
    "duration": 43,
    "start_time": "2022-02-28T17:30:42.744Z"
   },
   {
    "duration": 9,
    "start_time": "2022-02-28T17:30:42.790Z"
   },
   {
    "duration": 13,
    "start_time": "2022-02-28T17:30:42.802Z"
   },
   {
    "duration": 7,
    "start_time": "2022-02-28T17:30:42.820Z"
   },
   {
    "duration": 66,
    "start_time": "2022-02-28T17:30:42.829Z"
   },
   {
    "duration": 7,
    "start_time": "2022-02-28T17:30:42.897Z"
   },
   {
    "duration": 6,
    "start_time": "2022-02-28T17:30:42.907Z"
   },
   {
    "duration": 13,
    "start_time": "2022-02-28T17:30:42.915Z"
   },
   {
    "duration": 8,
    "start_time": "2022-02-28T17:30:42.930Z"
   },
   {
    "duration": 51,
    "start_time": "2022-02-28T17:30:42.940Z"
   },
   {
    "duration": 9,
    "start_time": "2022-02-28T17:30:42.994Z"
   },
   {
    "duration": 8,
    "start_time": "2022-02-28T17:30:43.005Z"
   },
   {
    "duration": 6,
    "start_time": "2022-02-28T17:30:43.015Z"
   },
   {
    "duration": 8,
    "start_time": "2022-02-28T17:30:43.023Z"
   },
   {
    "duration": 57,
    "start_time": "2022-02-28T17:30:43.033Z"
   },
   {
    "duration": 9,
    "start_time": "2022-02-28T17:30:43.092Z"
   },
   {
    "duration": 17,
    "start_time": "2022-02-28T17:30:43.103Z"
   },
   {
    "duration": 78,
    "start_time": "2022-02-28T17:30:43.123Z"
   },
   {
    "duration": 7,
    "start_time": "2022-02-28T17:30:43.203Z"
   },
   {
    "duration": 14,
    "start_time": "2022-02-28T17:30:43.212Z"
   },
   {
    "duration": 59,
    "start_time": "2022-02-28T17:30:43.228Z"
   },
   {
    "duration": 6,
    "start_time": "2022-02-28T17:30:43.289Z"
   },
   {
    "duration": 15,
    "start_time": "2022-02-28T17:30:43.297Z"
   },
   {
    "duration": 30,
    "start_time": "2022-02-28T17:30:43.314Z"
   },
   {
    "duration": 32,
    "start_time": "2022-02-28T17:30:43.346Z"
   },
   {
    "duration": 13,
    "start_time": "2022-02-28T17:30:43.381Z"
   },
   {
    "duration": 858,
    "start_time": "2022-02-28T17:30:43.396Z"
   },
   {
    "duration": 9,
    "start_time": "2022-02-28T17:30:44.257Z"
   },
   {
    "duration": 23,
    "start_time": "2022-02-28T17:30:44.268Z"
   },
   {
    "duration": 16,
    "start_time": "2022-02-28T17:30:44.294Z"
   },
   {
    "duration": 8,
    "start_time": "2022-02-28T17:30:44.312Z"
   },
   {
    "duration": 15,
    "start_time": "2022-02-28T17:30:44.322Z"
   },
   {
    "duration": 7,
    "start_time": "2022-02-28T17:30:44.339Z"
   },
   {
    "duration": 8,
    "start_time": "2022-02-28T17:30:46.517Z"
   },
   {
    "duration": 8,
    "start_time": "2022-02-28T17:36:41.022Z"
   },
   {
    "duration": 7,
    "start_time": "2022-02-28T17:38:39.390Z"
   },
   {
    "duration": 8,
    "start_time": "2022-02-28T17:38:45.542Z"
   },
   {
    "duration": 7,
    "start_time": "2022-02-28T17:39:05.405Z"
   },
   {
    "duration": 5,
    "start_time": "2022-02-28T17:40:23.899Z"
   },
   {
    "duration": 1348,
    "start_time": "2022-02-28T17:46:15.829Z"
   },
   {
    "duration": 4,
    "start_time": "2022-02-28T17:49:46.516Z"
   },
   {
    "duration": 90,
    "start_time": "2022-02-28T17:49:46.529Z"
   },
   {
    "duration": 68,
    "start_time": "2022-02-28T17:49:46.622Z"
   },
   {
    "duration": 25,
    "start_time": "2022-02-28T17:49:46.693Z"
   },
   {
    "duration": 147,
    "start_time": "2022-02-28T17:49:46.722Z"
   },
   {
    "duration": 16,
    "start_time": "2022-02-28T17:49:46.872Z"
   },
   {
    "duration": 7,
    "start_time": "2022-02-28T17:49:46.890Z"
   },
   {
    "duration": 10,
    "start_time": "2022-02-28T17:49:46.899Z"
   },
   {
    "duration": 20,
    "start_time": "2022-02-28T17:49:46.911Z"
   },
   {
    "duration": 53,
    "start_time": "2022-02-28T17:49:46.935Z"
   },
   {
    "duration": 9,
    "start_time": "2022-02-28T17:49:46.992Z"
   },
   {
    "duration": 13,
    "start_time": "2022-02-28T17:49:47.004Z"
   },
   {
    "duration": 16,
    "start_time": "2022-02-28T17:49:47.019Z"
   },
   {
    "duration": 13,
    "start_time": "2022-02-28T17:49:47.038Z"
   },
   {
    "duration": 35,
    "start_time": "2022-02-28T17:49:47.053Z"
   },
   {
    "duration": 9,
    "start_time": "2022-02-28T17:49:47.092Z"
   },
   {
    "duration": 12,
    "start_time": "2022-02-28T17:49:47.104Z"
   },
   {
    "duration": 14,
    "start_time": "2022-02-28T17:49:47.118Z"
   },
   {
    "duration": 6,
    "start_time": "2022-02-28T17:49:47.134Z"
   },
   {
    "duration": 50,
    "start_time": "2022-02-28T17:49:47.142Z"
   },
   {
    "duration": 12,
    "start_time": "2022-02-28T17:49:47.194Z"
   },
   {
    "duration": 5,
    "start_time": "2022-02-28T17:49:47.208Z"
   },
   {
    "duration": 7,
    "start_time": "2022-02-28T17:49:47.215Z"
   },
   {
    "duration": 5,
    "start_time": "2022-02-28T17:49:47.224Z"
   },
   {
    "duration": 58,
    "start_time": "2022-02-28T17:49:47.232Z"
   },
   {
    "duration": 6,
    "start_time": "2022-02-28T17:49:47.293Z"
   },
   {
    "duration": 9,
    "start_time": "2022-02-28T17:49:47.303Z"
   },
   {
    "duration": 6,
    "start_time": "2022-02-28T17:49:47.322Z"
   },
   {
    "duration": 59,
    "start_time": "2022-02-28T17:49:47.331Z"
   },
   {
    "duration": 6,
    "start_time": "2022-02-28T17:49:47.393Z"
   },
   {
    "duration": 8,
    "start_time": "2022-02-28T17:49:47.403Z"
   },
   {
    "duration": 16,
    "start_time": "2022-02-28T17:49:47.414Z"
   },
   {
    "duration": 27,
    "start_time": "2022-02-28T17:49:47.488Z"
   },
   {
    "duration": 7,
    "start_time": "2022-02-28T17:49:47.518Z"
   },
   {
    "duration": 10,
    "start_time": "2022-02-28T17:49:47.528Z"
   },
   {
    "duration": 47,
    "start_time": "2022-02-28T17:49:47.541Z"
   },
   {
    "duration": 6,
    "start_time": "2022-02-28T17:49:47.591Z"
   },
   {
    "duration": 25,
    "start_time": "2022-02-28T17:49:47.600Z"
   },
   {
    "duration": 20,
    "start_time": "2022-02-28T17:49:47.627Z"
   },
   {
    "duration": 38,
    "start_time": "2022-02-28T17:49:47.649Z"
   },
   {
    "duration": 20,
    "start_time": "2022-02-28T17:49:47.690Z"
   },
   {
    "duration": 936,
    "start_time": "2022-02-28T17:49:47.712Z"
   },
   {
    "duration": 9,
    "start_time": "2022-02-28T17:49:48.651Z"
   },
   {
    "duration": 26,
    "start_time": "2022-02-28T17:49:48.663Z"
   },
   {
    "duration": 26,
    "start_time": "2022-02-28T17:49:48.692Z"
   },
   {
    "duration": 7,
    "start_time": "2022-02-28T17:49:48.720Z"
   },
   {
    "duration": 10,
    "start_time": "2022-02-28T17:49:48.730Z"
   },
   {
    "duration": 9,
    "start_time": "2022-02-28T17:49:48.743Z"
   },
   {
    "duration": 8,
    "start_time": "2022-02-28T17:49:50.616Z"
   },
   {
    "duration": 5,
    "start_time": "2022-02-28T17:50:19.852Z"
   },
   {
    "duration": 792,
    "start_time": "2022-02-28T17:50:20.491Z"
   },
   {
    "duration": 5,
    "start_time": "2022-02-28T17:51:22.784Z"
   },
   {
    "duration": 14,
    "start_time": "2022-02-28T17:51:24.127Z"
   },
   {
    "duration": 14,
    "start_time": "2022-02-28T17:52:26.732Z"
   },
   {
    "duration": 6,
    "start_time": "2022-02-28T18:07:39.089Z"
   },
   {
    "duration": 17,
    "start_time": "2022-02-28T18:20:08.510Z"
   },
   {
    "duration": 84,
    "start_time": "2022-02-28T19:35:22.557Z"
   },
   {
    "duration": 6,
    "start_time": "2022-02-28T19:35:37.388Z"
   },
   {
    "duration": 851,
    "start_time": "2022-02-28T19:36:37.305Z"
   },
   {
    "duration": 40,
    "start_time": "2022-02-28T19:36:57.790Z"
   },
   {
    "duration": 6,
    "start_time": "2022-02-28T19:41:51.042Z"
   },
   {
    "duration": 40,
    "start_time": "2022-02-28T19:41:55.296Z"
   },
   {
    "duration": 38,
    "start_time": "2022-02-28T19:43:30.747Z"
   },
   {
    "duration": 73,
    "start_time": "2022-02-28T19:43:46.206Z"
   },
   {
    "duration": 1034,
    "start_time": "2022-03-01T06:16:53.532Z"
   },
   {
    "duration": 71,
    "start_time": "2022-03-01T06:16:54.568Z"
   },
   {
    "duration": 24,
    "start_time": "2022-03-01T06:16:54.641Z"
   },
   {
    "duration": 9,
    "start_time": "2022-03-01T06:16:54.666Z"
   },
   {
    "duration": 76,
    "start_time": "2022-03-01T06:16:54.677Z"
   },
   {
    "duration": 4,
    "start_time": "2022-03-01T06:16:54.754Z"
   },
   {
    "duration": 17,
    "start_time": "2022-03-01T06:16:54.759Z"
   },
   {
    "duration": 5,
    "start_time": "2022-03-01T06:16:54.778Z"
   },
   {
    "duration": 26,
    "start_time": "2022-03-01T06:16:54.784Z"
   },
   {
    "duration": 9,
    "start_time": "2022-03-01T06:16:54.811Z"
   },
   {
    "duration": 10,
    "start_time": "2022-03-01T06:16:54.821Z"
   },
   {
    "duration": 6,
    "start_time": "2022-03-01T06:16:54.833Z"
   },
   {
    "duration": 17,
    "start_time": "2022-03-01T06:16:54.840Z"
   },
   {
    "duration": 12,
    "start_time": "2022-03-01T06:16:54.858Z"
   },
   {
    "duration": 11,
    "start_time": "2022-03-01T06:16:54.871Z"
   },
   {
    "duration": 5,
    "start_time": "2022-03-01T06:16:54.883Z"
   },
   {
    "duration": 20,
    "start_time": "2022-03-01T06:16:54.889Z"
   },
   {
    "duration": 13,
    "start_time": "2022-03-01T06:16:54.911Z"
   },
   {
    "duration": 6,
    "start_time": "2022-03-01T06:16:54.926Z"
   },
   {
    "duration": 10,
    "start_time": "2022-03-01T06:16:54.934Z"
   },
   {
    "duration": 6,
    "start_time": "2022-03-01T06:16:54.945Z"
   },
   {
    "duration": 3,
    "start_time": "2022-03-01T06:16:54.953Z"
   },
   {
    "duration": 4,
    "start_time": "2022-03-01T06:16:54.960Z"
   },
   {
    "duration": 39,
    "start_time": "2022-03-01T06:16:54.967Z"
   },
   {
    "duration": 5,
    "start_time": "2022-03-01T06:16:55.007Z"
   },
   {
    "duration": 5,
    "start_time": "2022-03-01T06:16:55.013Z"
   },
   {
    "duration": 13,
    "start_time": "2022-03-01T06:16:55.019Z"
   },
   {
    "duration": 10,
    "start_time": "2022-03-01T06:16:55.034Z"
   },
   {
    "duration": 7,
    "start_time": "2022-03-01T06:16:55.045Z"
   },
   {
    "duration": 6,
    "start_time": "2022-03-01T06:16:55.054Z"
   },
   {
    "duration": 16,
    "start_time": "2022-03-01T06:16:55.061Z"
   },
   {
    "duration": 27,
    "start_time": "2022-03-01T06:16:55.078Z"
   },
   {
    "duration": 14,
    "start_time": "2022-03-01T06:16:55.107Z"
   },
   {
    "duration": 8,
    "start_time": "2022-03-01T06:16:55.122Z"
   },
   {
    "duration": 17,
    "start_time": "2022-03-01T06:16:55.132Z"
   },
   {
    "duration": 6,
    "start_time": "2022-03-01T06:16:55.151Z"
   },
   {
    "duration": 6,
    "start_time": "2022-03-01T06:16:55.159Z"
   },
   {
    "duration": 8,
    "start_time": "2022-03-01T06:16:55.166Z"
   },
   {
    "duration": 9,
    "start_time": "2022-03-01T06:16:55.175Z"
   },
   {
    "duration": 19,
    "start_time": "2022-03-01T06:16:55.186Z"
   },
   {
    "duration": 3,
    "start_time": "2022-03-01T06:16:55.206Z"
   },
   {
    "duration": 400,
    "start_time": "2022-03-01T06:16:55.210Z"
   },
   {
    "duration": 8,
    "start_time": "2022-03-01T06:16:55.611Z"
   },
   {
    "duration": 4,
    "start_time": "2022-03-01T06:16:55.620Z"
   },
   {
    "duration": 5,
    "start_time": "2022-03-01T06:16:55.625Z"
   },
   {
    "duration": 4,
    "start_time": "2022-03-01T06:16:55.631Z"
   },
   {
    "duration": 4,
    "start_time": "2022-03-01T06:16:55.636Z"
   },
   {
    "duration": 6,
    "start_time": "2022-03-01T06:16:55.642Z"
   },
   {
    "duration": 5,
    "start_time": "2022-03-01T06:16:57.609Z"
   },
   {
    "duration": 4,
    "start_time": "2022-03-01T06:17:00.201Z"
   },
   {
    "duration": 510,
    "start_time": "2022-03-01T06:17:01.799Z"
   },
   {
    "duration": 4,
    "start_time": "2022-03-01T06:17:03.334Z"
   },
   {
    "duration": 8,
    "start_time": "2022-03-01T06:17:21.358Z"
   },
   {
    "duration": 4,
    "start_time": "2022-03-01T06:17:41.361Z"
   },
   {
    "duration": 12,
    "start_time": "2022-03-01T06:17:42.928Z"
   },
   {
    "duration": 3,
    "start_time": "2022-03-01T06:17:44.443Z"
   },
   {
    "duration": 453,
    "start_time": "2022-03-01T06:17:46.922Z"
   },
   {
    "duration": 4,
    "start_time": "2022-03-01T06:17:52.304Z"
   },
   {
    "duration": 21,
    "start_time": "2022-03-01T06:17:55.951Z"
   },
   {
    "duration": 21,
    "start_time": "2022-03-01T06:18:31.175Z"
   },
   {
    "duration": 51,
    "start_time": "2022-03-01T06:18:32.370Z"
   },
   {
    "duration": 3,
    "start_time": "2022-03-01T06:20:37.303Z"
   },
   {
    "duration": 3,
    "start_time": "2022-03-01T06:21:24.314Z"
   },
   {
    "duration": 200,
    "start_time": "2022-03-01T06:21:28.153Z"
   },
   {
    "duration": 105,
    "start_time": "2022-03-01T06:21:30.712Z"
   },
   {
    "duration": 22,
    "start_time": "2022-03-01T06:45:02.846Z"
   },
   {
    "duration": 2,
    "start_time": "2022-03-01T06:55:55.667Z"
   },
   {
    "duration": 64,
    "start_time": "2022-03-01T06:55:55.673Z"
   },
   {
    "duration": 23,
    "start_time": "2022-03-01T06:55:55.739Z"
   },
   {
    "duration": 11,
    "start_time": "2022-03-01T06:55:55.764Z"
   },
   {
    "duration": 84,
    "start_time": "2022-03-01T06:55:55.777Z"
   },
   {
    "duration": 4,
    "start_time": "2022-03-01T06:55:55.863Z"
   },
   {
    "duration": 36,
    "start_time": "2022-03-01T06:55:55.869Z"
   },
   {
    "duration": 4,
    "start_time": "2022-03-01T06:55:55.907Z"
   },
   {
    "duration": 10,
    "start_time": "2022-03-01T06:55:55.913Z"
   },
   {
    "duration": 10,
    "start_time": "2022-03-01T06:55:55.925Z"
   },
   {
    "duration": 7,
    "start_time": "2022-03-01T06:55:55.937Z"
   },
   {
    "duration": 5,
    "start_time": "2022-03-01T06:55:55.946Z"
   },
   {
    "duration": 5,
    "start_time": "2022-03-01T06:55:55.953Z"
   },
   {
    "duration": 3,
    "start_time": "2022-03-01T06:55:55.960Z"
   },
   {
    "duration": 4,
    "start_time": "2022-03-01T06:55:56.005Z"
   },
   {
    "duration": 4,
    "start_time": "2022-03-01T06:55:56.011Z"
   },
   {
    "duration": 6,
    "start_time": "2022-03-01T06:55:56.016Z"
   },
   {
    "duration": 9,
    "start_time": "2022-03-01T06:55:58.082Z"
   },
   {
    "duration": 5,
    "start_time": "2022-03-01T06:55:59.554Z"
   },
   {
    "duration": 3,
    "start_time": "2022-03-01T06:56:00.976Z"
   },
   {
    "duration": 5,
    "start_time": "2022-03-01T06:56:01.873Z"
   },
   {
    "duration": 4,
    "start_time": "2022-03-01T06:56:12.198Z"
   },
   {
    "duration": 4,
    "start_time": "2022-03-01T06:56:14.425Z"
   },
   {
    "duration": 3,
    "start_time": "2022-03-01T06:56:32.009Z"
   },
   {
    "duration": 5,
    "start_time": "2022-03-01T06:56:32.313Z"
   },
   {
    "duration": 3,
    "start_time": "2022-03-01T06:56:32.762Z"
   },
   {
    "duration": 4,
    "start_time": "2022-03-01T06:56:33.521Z"
   },
   {
    "duration": 4,
    "start_time": "2022-03-01T06:56:34.683Z"
   },
   {
    "duration": 5,
    "start_time": "2022-03-01T06:56:36.518Z"
   },
   {
    "duration": 4,
    "start_time": "2022-03-01T06:56:38.375Z"
   },
   {
    "duration": 4,
    "start_time": "2022-03-01T06:56:40.327Z"
   },
   {
    "duration": 11,
    "start_time": "2022-03-01T06:57:15.564Z"
   },
   {
    "duration": 15,
    "start_time": "2022-03-01T06:57:17.587Z"
   },
   {
    "duration": 4,
    "start_time": "2022-03-01T06:57:24.001Z"
   },
   {
    "duration": 4,
    "start_time": "2022-03-01T06:57:26.145Z"
   },
   {
    "duration": 4,
    "start_time": "2022-03-01T06:57:27.992Z"
   },
   {
    "duration": 4,
    "start_time": "2022-03-01T06:57:28.933Z"
   },
   {
    "duration": 4,
    "start_time": "2022-03-01T06:57:30.745Z"
   },
   {
    "duration": 10,
    "start_time": "2022-03-01T06:57:33.342Z"
   },
   {
    "duration": 4,
    "start_time": "2022-03-01T06:58:19.653Z"
   },
   {
    "duration": 4,
    "start_time": "2022-03-01T06:58:32.842Z"
   },
   {
    "duration": 400,
    "start_time": "2022-03-01T06:58:35.068Z"
   },
   {
    "duration": 6,
    "start_time": "2022-03-01T06:58:36.965Z"
   },
   {
    "duration": 5,
    "start_time": "2022-03-01T06:58:46.689Z"
   },
   {
    "duration": 5,
    "start_time": "2022-03-01T06:58:49.169Z"
   },
   {
    "duration": 4,
    "start_time": "2022-03-01T06:59:05.202Z"
   },
   {
    "duration": 4,
    "start_time": "2022-03-01T06:59:07.454Z"
   },
   {
    "duration": 5,
    "start_time": "2022-03-01T06:59:09.874Z"
   },
   {
    "duration": 5,
    "start_time": "2022-03-01T06:59:11.978Z"
   },
   {
    "duration": 5,
    "start_time": "2022-03-01T07:05:51.808Z"
   },
   {
    "duration": 7199,
    "start_time": "2022-03-01T07:06:44.729Z"
   },
   {
    "duration": 15,
    "start_time": "2022-03-01T07:07:12.108Z"
   },
   {
    "duration": 9,
    "start_time": "2022-03-01T07:07:19.339Z"
   },
   {
    "duration": 5,
    "start_time": "2022-03-01T07:08:36.643Z"
   },
   {
    "duration": 5,
    "start_time": "2022-03-01T07:08:41.846Z"
   },
   {
    "duration": 5,
    "start_time": "2022-03-01T07:10:05.167Z"
   },
   {
    "duration": 5,
    "start_time": "2022-03-01T07:10:43.797Z"
   },
   {
    "duration": 5,
    "start_time": "2022-03-01T07:11:02.301Z"
   },
   {
    "duration": 5,
    "start_time": "2022-03-01T07:11:36.326Z"
   },
   {
    "duration": 4,
    "start_time": "2022-03-01T07:11:52.088Z"
   },
   {
    "duration": 5,
    "start_time": "2022-03-01T07:12:31.692Z"
   },
   {
    "duration": 5,
    "start_time": "2022-03-01T07:13:29.819Z"
   },
   {
    "duration": 1134,
    "start_time": "2022-03-01T13:06:07.425Z"
   },
   {
    "duration": 63,
    "start_time": "2022-03-01T13:06:08.561Z"
   },
   {
    "duration": 35,
    "start_time": "2022-03-01T13:06:08.626Z"
   },
   {
    "duration": 11,
    "start_time": "2022-03-01T13:06:11.795Z"
   },
   {
    "duration": 6,
    "start_time": "2022-03-01T13:07:56.224Z"
   },
   {
    "duration": 3,
    "start_time": "2022-03-01T13:11:59.214Z"
   },
   {
    "duration": 65,
    "start_time": "2022-03-01T13:11:59.222Z"
   },
   {
    "duration": 27,
    "start_time": "2022-03-01T13:11:59.289Z"
   },
   {
    "duration": 10,
    "start_time": "2022-03-01T13:11:59.318Z"
   },
   {
    "duration": 97,
    "start_time": "2022-03-01T13:11:59.330Z"
   },
   {
    "duration": 3,
    "start_time": "2022-03-01T13:11:59.429Z"
   },
   {
    "duration": 37,
    "start_time": "2022-03-01T13:11:59.434Z"
   },
   {
    "duration": 4,
    "start_time": "2022-03-01T13:11:59.474Z"
   },
   {
    "duration": 10,
    "start_time": "2022-03-01T13:11:59.480Z"
   },
   {
    "duration": 12,
    "start_time": "2022-03-01T13:11:59.492Z"
   },
   {
    "duration": 9,
    "start_time": "2022-03-01T13:11:59.506Z"
   },
   {
    "duration": 3,
    "start_time": "2022-03-01T13:11:59.517Z"
   },
   {
    "duration": 41,
    "start_time": "2022-03-01T13:11:59.522Z"
   },
   {
    "duration": 5,
    "start_time": "2022-03-01T13:11:59.565Z"
   },
   {
    "duration": 6,
    "start_time": "2022-03-01T13:11:59.574Z"
   },
   {
    "duration": 7,
    "start_time": "2022-03-01T13:11:59.581Z"
   },
   {
    "duration": 5,
    "start_time": "2022-03-01T13:11:59.590Z"
   },
   {
    "duration": 10,
    "start_time": "2022-03-01T13:11:59.597Z"
   },
   {
    "duration": 4,
    "start_time": "2022-03-01T13:11:59.608Z"
   },
   {
    "duration": 3,
    "start_time": "2022-03-01T13:11:59.614Z"
   },
   {
    "duration": 7,
    "start_time": "2022-03-01T13:11:59.660Z"
   },
   {
    "duration": 4,
    "start_time": "2022-03-01T13:11:59.669Z"
   },
   {
    "duration": 6,
    "start_time": "2022-03-01T13:11:59.675Z"
   },
   {
    "duration": 4,
    "start_time": "2022-03-01T13:11:59.683Z"
   },
   {
    "duration": 6,
    "start_time": "2022-03-01T13:11:59.689Z"
   },
   {
    "duration": 3,
    "start_time": "2022-03-01T13:11:59.698Z"
   },
   {
    "duration": 7,
    "start_time": "2022-03-01T13:11:59.703Z"
   },
   {
    "duration": 50,
    "start_time": "2022-03-01T13:11:59.711Z"
   },
   {
    "duration": 5,
    "start_time": "2022-03-01T13:11:59.763Z"
   },
   {
    "duration": 4,
    "start_time": "2022-03-01T13:11:59.770Z"
   },
   {
    "duration": 8,
    "start_time": "2022-03-01T13:11:59.775Z"
   },
   {
    "duration": 11,
    "start_time": "2022-03-01T13:11:59.785Z"
   },
   {
    "duration": 20,
    "start_time": "2022-03-01T13:11:59.798Z"
   },
   {
    "duration": 42,
    "start_time": "2022-03-01T13:11:59.819Z"
   },
   {
    "duration": 5,
    "start_time": "2022-03-01T13:11:59.862Z"
   },
   {
    "duration": 4,
    "start_time": "2022-03-01T13:11:59.869Z"
   },
   {
    "duration": 5,
    "start_time": "2022-03-01T13:11:59.874Z"
   },
   {
    "duration": 4,
    "start_time": "2022-03-01T13:11:59.881Z"
   },
   {
    "duration": 9,
    "start_time": "2022-03-01T13:11:59.886Z"
   },
   {
    "duration": 5,
    "start_time": "2022-03-01T13:11:59.897Z"
   },
   {
    "duration": 5,
    "start_time": "2022-03-01T13:11:59.904Z"
   },
   {
    "duration": 550,
    "start_time": "2022-03-01T13:11:59.912Z"
   },
   {
    "duration": 7,
    "start_time": "2022-03-01T13:12:00.464Z"
   },
   {
    "duration": 28,
    "start_time": "2022-03-01T13:12:00.473Z"
   },
   {
    "duration": 18,
    "start_time": "2022-03-01T13:12:00.503Z"
   },
   {
    "duration": 27,
    "start_time": "2022-03-01T13:12:00.523Z"
   },
   {
    "duration": 37,
    "start_time": "2022-03-01T13:12:00.551Z"
   },
   {
    "duration": 21,
    "start_time": "2022-03-01T13:12:00.590Z"
   },
   {
    "duration": 28,
    "start_time": "2022-03-01T13:12:00.612Z"
   },
   {
    "duration": 3,
    "start_time": "2022-03-01T13:12:15.184Z"
   },
   {
    "duration": 10,
    "start_time": "2022-03-01T13:12:16.664Z"
   },
   {
    "duration": 4,
    "start_time": "2022-03-01T13:12:18.843Z"
   },
   {
    "duration": 13,
    "start_time": "2022-03-01T13:12:19.935Z"
   },
   {
    "duration": 4,
    "start_time": "2022-03-01T13:12:20.945Z"
   },
   {
    "duration": 474,
    "start_time": "2022-03-01T13:12:22.285Z"
   },
   {
    "duration": 5,
    "start_time": "2022-03-01T13:12:23.655Z"
   },
   {
    "duration": 28,
    "start_time": "2022-03-01T13:12:25.374Z"
   },
   {
    "duration": 29,
    "start_time": "2022-03-01T13:12:27.664Z"
   },
   {
    "duration": 52,
    "start_time": "2022-03-01T13:12:28.554Z"
   },
   {
    "duration": 26,
    "start_time": "2022-03-01T13:12:30.904Z"
   },
   {
    "duration": 3,
    "start_time": "2022-03-01T13:12:37.204Z"
   },
   {
    "duration": 3,
    "start_time": "2022-03-01T13:12:37.745Z"
   },
   {
    "duration": 272,
    "start_time": "2022-03-01T13:12:38.251Z"
   },
   {
    "duration": 195,
    "start_time": "2022-03-01T13:12:40.112Z"
   },
   {
    "duration": 9,
    "start_time": "2022-03-01T13:12:41.115Z"
   },
   {
    "duration": 288,
    "start_time": "2022-03-01T13:12:43.007Z"
   },
   {
    "duration": 145,
    "start_time": "2022-03-01T13:12:44.035Z"
   },
   {
    "duration": 17,
    "start_time": "2022-03-01T13:12:44.866Z"
   },
   {
    "duration": 9,
    "start_time": "2022-03-01T13:12:45.633Z"
   },
   {
    "duration": 260,
    "start_time": "2022-03-01T13:12:46.956Z"
   },
   {
    "duration": 130,
    "start_time": "2022-03-01T13:12:48.115Z"
   },
   {
    "duration": 8,
    "start_time": "2022-03-01T13:12:48.875Z"
   },
   {
    "duration": 274,
    "start_time": "2022-03-01T13:12:49.717Z"
   },
   {
    "duration": 151,
    "start_time": "2022-03-01T13:12:56.133Z"
   },
   {
    "duration": 8,
    "start_time": "2022-03-01T13:12:56.784Z"
   },
   {
    "duration": 274,
    "start_time": "2022-03-01T13:12:58.313Z"
   },
   {
    "duration": 1417,
    "start_time": "2022-03-01T18:08:56.780Z"
   },
   {
    "duration": 84,
    "start_time": "2022-03-01T18:08:58.200Z"
   },
   {
    "duration": 54,
    "start_time": "2022-03-01T18:08:58.286Z"
   },
   {
    "duration": 15,
    "start_time": "2022-03-01T18:08:58.343Z"
   },
   {
    "duration": 131,
    "start_time": "2022-03-01T18:08:58.360Z"
   },
   {
    "duration": 5,
    "start_time": "2022-03-01T18:08:58.493Z"
   },
   {
    "duration": 35,
    "start_time": "2022-03-01T18:08:58.500Z"
   },
   {
    "duration": 5,
    "start_time": "2022-03-01T18:08:58.538Z"
   },
   {
    "duration": 13,
    "start_time": "2022-03-01T18:09:01.207Z"
   },
   {
    "duration": 15,
    "start_time": "2022-03-01T18:09:23.714Z"
   },
   {
    "duration": 7,
    "start_time": "2022-03-01T18:09:24.670Z"
   },
   {
    "duration": 5,
    "start_time": "2022-03-01T18:09:25.772Z"
   },
   {
    "duration": 6,
    "start_time": "2022-03-01T18:09:26.453Z"
   },
   {
    "duration": 5,
    "start_time": "2022-03-01T18:09:27.744Z"
   },
   {
    "duration": 6,
    "start_time": "2022-03-01T18:09:28.369Z"
   },
   {
    "duration": 4,
    "start_time": "2022-03-01T18:09:29.877Z"
   },
   {
    "duration": 6,
    "start_time": "2022-03-01T18:09:30.911Z"
   },
   {
    "duration": 12,
    "start_time": "2022-03-01T18:09:32.983Z"
   },
   {
    "duration": 6,
    "start_time": "2022-03-01T18:09:33.982Z"
   },
   {
    "duration": 3,
    "start_time": "2022-03-01T18:09:34.770Z"
   },
   {
    "duration": 8,
    "start_time": "2022-03-01T18:09:36.001Z"
   },
   {
    "duration": 4,
    "start_time": "2022-03-01T18:09:38.635Z"
   },
   {
    "duration": 7,
    "start_time": "2022-03-01T18:09:40.227Z"
   },
   {
    "duration": 5,
    "start_time": "2022-03-01T18:09:41.813Z"
   },
   {
    "duration": 6,
    "start_time": "2022-03-01T18:09:42.654Z"
   },
   {
    "duration": 6,
    "start_time": "2022-03-01T18:09:43.640Z"
   },
   {
    "duration": 7,
    "start_time": "2022-03-01T18:09:44.228Z"
   },
   {
    "duration": 5,
    "start_time": "2022-03-01T18:09:44.745Z"
   },
   {
    "duration": 7,
    "start_time": "2022-03-01T18:09:45.563Z"
   },
   {
    "duration": 5,
    "start_time": "2022-03-01T18:09:46.416Z"
   },
   {
    "duration": 6,
    "start_time": "2022-03-01T18:09:47.531Z"
   },
   {
    "duration": 17,
    "start_time": "2022-03-01T18:09:49.078Z"
   },
   {
    "duration": 27,
    "start_time": "2022-03-01T18:09:50.575Z"
   },
   {
    "duration": 5,
    "start_time": "2022-03-01T18:09:55.563Z"
   },
   {
    "duration": 7,
    "start_time": "2022-03-01T18:09:57.269Z"
   },
   {
    "duration": 5,
    "start_time": "2022-03-01T18:09:58.704Z"
   },
   {
    "duration": 5,
    "start_time": "2022-03-01T18:09:59.888Z"
   },
   {
    "duration": 5,
    "start_time": "2022-03-01T18:10:01.626Z"
   },
   {
    "duration": 11,
    "start_time": "2022-03-01T18:10:03.075Z"
   },
   {
    "duration": 6,
    "start_time": "2022-03-01T18:10:10.029Z"
   },
   {
    "duration": 4,
    "start_time": "2022-03-01T18:10:11.211Z"
   },
   {
    "duration": 763,
    "start_time": "2022-03-01T18:10:14.118Z"
   },
   {
    "duration": 14,
    "start_time": "2022-03-01T18:10:15.653Z"
   },
   {
    "duration": 8,
    "start_time": "2022-03-01T18:10:16.932Z"
   },
   {
    "duration": 7,
    "start_time": "2022-03-01T18:10:19.441Z"
   },
   {
    "duration": 6,
    "start_time": "2022-03-01T18:10:23.944Z"
   },
   {
    "duration": 6,
    "start_time": "2022-03-01T18:10:26.477Z"
   },
   {
    "duration": 6,
    "start_time": "2022-03-01T18:10:28.968Z"
   },
   {
    "duration": 6,
    "start_time": "2022-03-01T18:10:37.444Z"
   },
   {
    "duration": 7363,
    "start_time": "2022-03-01T18:17:41.520Z"
   },
   {
    "duration": 8,
    "start_time": "2022-03-01T18:17:52.808Z"
   },
   {
    "duration": 7430,
    "start_time": "2022-03-01T18:23:15.962Z"
   },
   {
    "duration": 12,
    "start_time": "2022-03-01T18:23:31.135Z"
   },
   {
    "duration": 1162,
    "start_time": "2022-03-01T18:23:40.810Z"
   },
   {
    "duration": 821,
    "start_time": "2022-03-01T18:26:35.397Z"
   },
   {
    "duration": 6,
    "start_time": "2022-03-01T18:27:33.679Z"
   },
   {
    "duration": 278,
    "start_time": "2022-03-01T18:27:48.898Z"
   },
   {
    "duration": 5,
    "start_time": "2022-03-01T18:27:59.575Z"
   },
   {
    "duration": 7,
    "start_time": "2022-03-01T18:28:08.243Z"
   },
   {
    "duration": 6,
    "start_time": "2022-03-01T18:47:14.192Z"
   },
   {
    "duration": 6,
    "start_time": "2022-03-01T18:47:46.315Z"
   },
   {
    "duration": 5,
    "start_time": "2022-03-01T18:48:16.320Z"
   },
   {
    "duration": 13,
    "start_time": "2022-03-01T18:48:48.925Z"
   },
   {
    "duration": 6,
    "start_time": "2022-03-01T18:49:45.658Z"
   },
   {
    "duration": 17,
    "start_time": "2022-03-01T18:49:48.099Z"
   },
   {
    "duration": 5,
    "start_time": "2022-03-01T18:49:53.399Z"
   },
   {
    "duration": 776,
    "start_time": "2022-03-01T18:49:55.242Z"
   },
   {
    "duration": 6,
    "start_time": "2022-03-01T18:49:59.082Z"
   },
   {
    "duration": 40,
    "start_time": "2022-03-01T18:50:01.400Z"
   },
   {
    "duration": 39,
    "start_time": "2022-03-01T18:50:06.547Z"
   },
   {
    "duration": 1583,
    "start_time": "2022-03-02T05:44:34.155Z"
   },
   {
    "duration": 91,
    "start_time": "2022-03-02T05:44:35.741Z"
   },
   {
    "duration": 65,
    "start_time": "2022-03-02T05:44:35.836Z"
   },
   {
    "duration": 15,
    "start_time": "2022-03-02T05:44:35.904Z"
   },
   {
    "duration": 126,
    "start_time": "2022-03-02T05:44:35.921Z"
   },
   {
    "duration": 5,
    "start_time": "2022-03-02T05:44:36.050Z"
   },
   {
    "duration": 31,
    "start_time": "2022-03-02T05:44:36.057Z"
   },
   {
    "duration": 5,
    "start_time": "2022-03-02T05:44:36.090Z"
   },
   {
    "duration": 12,
    "start_time": "2022-03-02T05:44:36.099Z"
   },
   {
    "duration": 14,
    "start_time": "2022-03-02T05:44:36.114Z"
   },
   {
    "duration": 61,
    "start_time": "2022-03-02T05:44:36.130Z"
   },
   {
    "duration": 9,
    "start_time": "2022-03-02T05:44:36.193Z"
   },
   {
    "duration": 7,
    "start_time": "2022-03-02T05:44:36.205Z"
   },
   {
    "duration": 7,
    "start_time": "2022-03-02T05:44:36.214Z"
   },
   {
    "duration": 14,
    "start_time": "2022-03-02T05:44:36.223Z"
   },
   {
    "duration": 28,
    "start_time": "2022-03-02T05:44:36.240Z"
   },
   {
    "duration": 17,
    "start_time": "2022-03-02T05:44:36.271Z"
   },
   {
    "duration": 25,
    "start_time": "2022-03-02T05:44:36.290Z"
   },
   {
    "duration": 5,
    "start_time": "2022-03-02T05:44:36.317Z"
   },
   {
    "duration": 11,
    "start_time": "2022-03-02T05:44:36.325Z"
   },
   {
    "duration": 12,
    "start_time": "2022-03-02T05:44:36.339Z"
   },
   {
    "duration": 5,
    "start_time": "2022-03-02T05:44:36.386Z"
   },
   {
    "duration": 7,
    "start_time": "2022-03-02T05:44:36.394Z"
   },
   {
    "duration": 5,
    "start_time": "2022-03-02T05:44:36.405Z"
   },
   {
    "duration": 7,
    "start_time": "2022-03-02T05:44:36.413Z"
   },
   {
    "duration": 6,
    "start_time": "2022-03-02T05:44:36.423Z"
   },
   {
    "duration": 7,
    "start_time": "2022-03-02T05:44:36.495Z"
   },
   {
    "duration": 6,
    "start_time": "2022-03-02T05:44:36.507Z"
   },
   {
    "duration": 20,
    "start_time": "2022-03-02T05:44:36.516Z"
   },
   {
    "duration": 50,
    "start_time": "2022-03-02T05:44:36.539Z"
   },
   {
    "duration": 9,
    "start_time": "2022-03-02T05:44:36.591Z"
   },
   {
    "duration": 14,
    "start_time": "2022-03-02T05:44:36.603Z"
   },
   {
    "duration": 67,
    "start_time": "2022-03-02T05:44:36.620Z"
   },
   {
    "duration": 5,
    "start_time": "2022-03-02T05:44:36.689Z"
   },
   {
    "duration": 7,
    "start_time": "2022-03-02T05:44:36.696Z"
   },
   {
    "duration": 5,
    "start_time": "2022-03-02T05:44:36.705Z"
   },
   {
    "duration": 6,
    "start_time": "2022-03-02T05:44:36.713Z"
   },
   {
    "duration": 6,
    "start_time": "2022-03-02T05:44:36.722Z"
   },
   {
    "duration": 69,
    "start_time": "2022-03-02T05:44:36.730Z"
   },
   {
    "duration": 6,
    "start_time": "2022-03-02T05:44:36.802Z"
   },
   {
    "duration": 5,
    "start_time": "2022-03-02T05:44:36.812Z"
   },
   {
    "duration": 812,
    "start_time": "2022-03-02T05:44:36.820Z"
   },
   {
    "duration": 15,
    "start_time": "2022-03-02T05:44:37.635Z"
   },
   {
    "duration": 34,
    "start_time": "2022-03-02T05:44:37.653Z"
   },
   {
    "duration": 9,
    "start_time": "2022-03-02T05:44:37.689Z"
   },
   {
    "duration": 6,
    "start_time": "2022-03-02T05:44:37.701Z"
   },
   {
    "duration": 7,
    "start_time": "2022-03-02T05:44:37.710Z"
   },
   {
    "duration": 7,
    "start_time": "2022-03-02T05:44:37.720Z"
   },
   {
    "duration": 59,
    "start_time": "2022-03-02T05:44:37.730Z"
   },
   {
    "duration": 806,
    "start_time": "2022-03-02T05:44:37.791Z"
   },
   {
    "duration": 6,
    "start_time": "2022-03-02T05:44:38.599Z"
   },
   {
    "duration": 7,
    "start_time": "2022-03-02T05:44:38.608Z"
   },
   {
    "duration": 9,
    "start_time": "2022-03-02T05:44:38.617Z"
   },
   {
    "duration": 17,
    "start_time": "2022-03-02T05:44:38.628Z"
   },
   {
    "duration": 6,
    "start_time": "2022-03-02T05:44:38.688Z"
   },
   {
    "duration": 21,
    "start_time": "2022-03-02T05:44:38.696Z"
   },
   {
    "duration": 5,
    "start_time": "2022-03-02T05:44:38.719Z"
   },
   {
    "duration": 803,
    "start_time": "2022-03-02T05:44:38.726Z"
   },
   {
    "duration": 5,
    "start_time": "2022-03-02T05:44:39.531Z"
   },
   {
    "duration": 56,
    "start_time": "2022-03-02T05:44:39.538Z"
   },
   {
    "duration": 35,
    "start_time": "2022-03-02T05:44:39.597Z"
   },
   {
    "duration": 69,
    "start_time": "2022-03-02T05:44:39.634Z"
   },
   {
    "duration": 5,
    "start_time": "2022-03-02T05:44:39.706Z"
   },
   {
    "duration": 6,
    "start_time": "2022-03-02T05:44:39.714Z"
   },
   {
    "duration": 416,
    "start_time": "2022-03-02T05:44:39.723Z"
   },
   {
    "duration": 12,
    "start_time": "2022-03-02T05:48:58.139Z"
   },
   {
    "duration": 420,
    "start_time": "2022-03-02T05:50:27.659Z"
   },
   {
    "duration": 210,
    "start_time": "2022-03-02T05:54:09.574Z"
   },
   {
    "duration": 26,
    "start_time": "2022-03-02T05:58:46.702Z"
   },
   {
    "duration": 35,
    "start_time": "2022-03-02T05:58:55.104Z"
   },
   {
    "duration": 25,
    "start_time": "2022-03-02T05:59:58.473Z"
   },
   {
    "duration": 12,
    "start_time": "2022-03-02T06:00:34.222Z"
   },
   {
    "duration": 384,
    "start_time": "2022-03-02T06:01:28.455Z"
   },
   {
    "duration": 188,
    "start_time": "2022-03-02T06:04:12.432Z"
   },
   {
    "duration": 15,
    "start_time": "2022-03-02T06:06:20.120Z"
   },
   {
    "duration": 380,
    "start_time": "2022-03-02T06:07:36.353Z"
   },
   {
    "duration": 216,
    "start_time": "2022-03-02T06:09:11.562Z"
   },
   {
    "duration": 12,
    "start_time": "2022-03-02T06:12:20.293Z"
   },
   {
    "duration": 409,
    "start_time": "2022-03-02T07:24:47.073Z"
   },
   {
    "duration": 284,
    "start_time": "2022-03-02T07:29:56.844Z"
   },
   {
    "duration": 207,
    "start_time": "2022-03-02T07:31:31.256Z"
   },
   {
    "duration": 209,
    "start_time": "2022-03-02T07:31:44.317Z"
   },
   {
    "duration": 11,
    "start_time": "2022-03-02T07:34:02.884Z"
   },
   {
    "duration": 10,
    "start_time": "2022-03-02T07:37:25.787Z"
   },
   {
    "duration": 7,
    "start_time": "2022-03-02T07:38:50.385Z"
   },
   {
    "duration": 4,
    "start_time": "2022-03-02T07:49:11.634Z"
   },
   {
    "duration": 26,
    "start_time": "2022-03-02T07:55:13.165Z"
   },
   {
    "duration": 588,
    "start_time": "2022-03-02T07:58:37.654Z"
   },
   {
    "duration": 368,
    "start_time": "2022-03-02T08:24:28.653Z"
   },
   {
    "duration": 312,
    "start_time": "2022-03-02T08:24:43.085Z"
   },
   {
    "duration": 296,
    "start_time": "2022-03-02T08:25:09.205Z"
   },
   {
    "duration": 20,
    "start_time": "2022-03-02T08:25:23.413Z"
   },
   {
    "duration": 20,
    "start_time": "2022-03-02T08:25:33.485Z"
   },
   {
    "duration": 7,
    "start_time": "2022-03-02T08:31:12.604Z"
   },
   {
    "duration": 23,
    "start_time": "2022-03-02T08:31:52.740Z"
   },
   {
    "duration": 90,
    "start_time": "2022-03-02T08:34:44.253Z"
   },
   {
    "duration": 303,
    "start_time": "2022-03-02T08:34:57.124Z"
   },
   {
    "duration": 291,
    "start_time": "2022-03-02T08:35:54.232Z"
   },
   {
    "duration": 21,
    "start_time": "2022-03-02T08:36:06.964Z"
   },
   {
    "duration": 287,
    "start_time": "2022-03-02T08:39:13.204Z"
   },
   {
    "duration": 27,
    "start_time": "2022-03-02T08:39:45.045Z"
   },
   {
    "duration": 290,
    "start_time": "2022-03-02T08:41:10.844Z"
   },
   {
    "duration": 238,
    "start_time": "2022-03-02T08:41:50.284Z"
   },
   {
    "duration": 23,
    "start_time": "2022-03-02T08:42:07.204Z"
   },
   {
    "duration": 21,
    "start_time": "2022-03-02T08:42:29.324Z"
   },
   {
    "duration": 308,
    "start_time": "2022-03-02T08:42:52.172Z"
   },
   {
    "duration": 313,
    "start_time": "2022-03-02T08:43:07.084Z"
   },
   {
    "duration": 368,
    "start_time": "2022-03-02T08:46:20.164Z"
   },
   {
    "duration": 20,
    "start_time": "2022-03-02T08:46:54.684Z"
   },
   {
    "duration": 348,
    "start_time": "2022-03-02T08:48:12.925Z"
   },
   {
    "duration": 389,
    "start_time": "2022-03-02T08:48:21.444Z"
   },
   {
    "duration": 24,
    "start_time": "2022-03-02T08:49:21.924Z"
   },
   {
    "duration": 232,
    "start_time": "2022-03-02T08:53:19.364Z"
   },
   {
    "duration": 288,
    "start_time": "2022-03-02T08:53:49.084Z"
   },
   {
    "duration": 239,
    "start_time": "2022-03-02T08:56:54.204Z"
   },
   {
    "duration": 562,
    "start_time": "2022-03-02T08:58:40.153Z"
   },
   {
    "duration": 344,
    "start_time": "2022-03-02T08:59:52.849Z"
   },
   {
    "duration": 324,
    "start_time": "2022-03-02T09:00:45.999Z"
   },
   {
    "duration": 237,
    "start_time": "2022-03-02T13:51:12.546Z"
   },
   {
    "duration": 1161,
    "start_time": "2022-03-02T13:51:20.454Z"
   },
   {
    "duration": 61,
    "start_time": "2022-03-02T13:51:21.617Z"
   },
   {
    "duration": 29,
    "start_time": "2022-03-02T13:51:21.681Z"
   },
   {
    "duration": 11,
    "start_time": "2022-03-02T13:51:21.712Z"
   },
   {
    "duration": 97,
    "start_time": "2022-03-02T13:51:21.725Z"
   },
   {
    "duration": 3,
    "start_time": "2022-03-02T13:51:21.824Z"
   },
   {
    "duration": 36,
    "start_time": "2022-03-02T13:51:21.828Z"
   },
   {
    "duration": 3,
    "start_time": "2022-03-02T13:51:21.866Z"
   },
   {
    "duration": 9,
    "start_time": "2022-03-02T13:51:21.872Z"
   },
   {
    "duration": 11,
    "start_time": "2022-03-02T13:51:21.883Z"
   },
   {
    "duration": 9,
    "start_time": "2022-03-02T13:51:21.895Z"
   },
   {
    "duration": 4,
    "start_time": "2022-03-02T13:51:21.906Z"
   },
   {
    "duration": 5,
    "start_time": "2022-03-02T13:51:21.911Z"
   },
   {
    "duration": 3,
    "start_time": "2022-03-02T13:51:21.918Z"
   },
   {
    "duration": 43,
    "start_time": "2022-03-02T13:51:21.923Z"
   },
   {
    "duration": 35,
    "start_time": "2022-03-02T13:51:21.967Z"
   },
   {
    "duration": 21,
    "start_time": "2022-03-02T13:51:22.003Z"
   },
   {
    "duration": 39,
    "start_time": "2022-03-02T13:51:22.026Z"
   },
   {
    "duration": 19,
    "start_time": "2022-03-02T13:51:22.066Z"
   },
   {
    "duration": 18,
    "start_time": "2022-03-02T13:51:22.086Z"
   },
   {
    "duration": 18,
    "start_time": "2022-03-02T13:51:22.105Z"
   },
   {
    "duration": 13,
    "start_time": "2022-03-02T13:51:22.124Z"
   },
   {
    "duration": 31,
    "start_time": "2022-03-02T13:51:22.139Z"
   },
   {
    "duration": 29,
    "start_time": "2022-03-02T13:51:22.172Z"
   },
   {
    "duration": 22,
    "start_time": "2022-03-02T13:51:22.203Z"
   },
   {
    "duration": 19,
    "start_time": "2022-03-02T13:51:22.226Z"
   },
   {
    "duration": 16,
    "start_time": "2022-03-02T13:51:22.249Z"
   },
   {
    "duration": 15,
    "start_time": "2022-03-02T13:51:22.267Z"
   },
   {
    "duration": 22,
    "start_time": "2022-03-02T13:51:22.283Z"
   },
   {
    "duration": 23,
    "start_time": "2022-03-02T13:51:22.307Z"
   },
   {
    "duration": 21,
    "start_time": "2022-03-02T13:51:22.331Z"
   },
   {
    "duration": 35,
    "start_time": "2022-03-02T13:51:22.353Z"
   },
   {
    "duration": 29,
    "start_time": "2022-03-02T13:51:22.390Z"
   },
   {
    "duration": 19,
    "start_time": "2022-03-02T13:51:22.421Z"
   },
   {
    "duration": 19,
    "start_time": "2022-03-02T13:51:22.442Z"
   },
   {
    "duration": 16,
    "start_time": "2022-03-02T13:51:22.462Z"
   },
   {
    "duration": 14,
    "start_time": "2022-03-02T13:51:22.480Z"
   },
   {
    "duration": 28,
    "start_time": "2022-03-02T13:51:22.495Z"
   },
   {
    "duration": 29,
    "start_time": "2022-03-02T13:51:22.525Z"
   },
   {
    "duration": 21,
    "start_time": "2022-03-02T13:51:22.555Z"
   },
   {
    "duration": 33,
    "start_time": "2022-03-02T13:51:22.578Z"
   },
   {
    "duration": 480,
    "start_time": "2022-03-02T13:51:22.612Z"
   },
   {
    "duration": 9,
    "start_time": "2022-03-02T13:51:23.093Z"
   },
   {
    "duration": 21,
    "start_time": "2022-03-02T13:51:23.104Z"
   },
   {
    "duration": 13,
    "start_time": "2022-03-02T13:51:23.127Z"
   },
   {
    "duration": 20,
    "start_time": "2022-03-02T13:51:23.142Z"
   },
   {
    "duration": 9,
    "start_time": "2022-03-02T13:51:23.164Z"
   },
   {
    "duration": 13,
    "start_time": "2022-03-02T13:51:23.174Z"
   },
   {
    "duration": 29,
    "start_time": "2022-03-02T13:51:23.189Z"
   },
   {
    "duration": 453,
    "start_time": "2022-03-02T13:51:23.220Z"
   },
   {
    "duration": 4,
    "start_time": "2022-03-02T13:51:23.675Z"
   },
   {
    "duration": 25,
    "start_time": "2022-03-02T13:51:23.680Z"
   },
   {
    "duration": 10,
    "start_time": "2022-03-02T13:51:23.706Z"
   },
   {
    "duration": 35,
    "start_time": "2022-03-02T13:51:23.717Z"
   },
   {
    "duration": 15,
    "start_time": "2022-03-02T13:51:23.753Z"
   },
   {
    "duration": 29,
    "start_time": "2022-03-02T13:51:23.770Z"
   },
   {
    "duration": 3,
    "start_time": "2022-03-02T13:51:23.801Z"
   },
   {
    "duration": 529,
    "start_time": "2022-03-02T13:51:23.805Z"
   },
   {
    "duration": 3,
    "start_time": "2022-03-02T13:51:24.336Z"
   },
   {
    "duration": 35,
    "start_time": "2022-03-02T13:51:24.340Z"
   },
   {
    "duration": 25,
    "start_time": "2022-03-02T13:51:24.376Z"
   },
   {
    "duration": 24,
    "start_time": "2022-03-02T13:51:24.402Z"
   },
   {
    "duration": 2,
    "start_time": "2022-03-02T13:51:24.427Z"
   },
   {
    "duration": 33,
    "start_time": "2022-03-02T13:51:24.431Z"
   },
   {
    "duration": 238,
    "start_time": "2022-03-02T13:51:24.466Z"
   },
   {
    "duration": 135,
    "start_time": "2022-03-02T13:51:24.705Z"
   },
   {
    "duration": 21,
    "start_time": "2022-03-02T13:51:24.842Z"
   },
   {
    "duration": 260,
    "start_time": "2022-03-02T13:51:24.864Z"
   },
   {
    "duration": 146,
    "start_time": "2022-03-02T13:51:25.126Z"
   },
   {
    "duration": 12,
    "start_time": "2022-03-02T13:51:25.274Z"
   },
   {
    "duration": 245,
    "start_time": "2022-03-02T13:51:25.288Z"
   },
   {
    "duration": 129,
    "start_time": "2022-03-02T13:51:25.535Z"
   },
   {
    "duration": 8,
    "start_time": "2022-03-02T13:51:25.666Z"
   },
   {
    "duration": 240,
    "start_time": "2022-03-02T13:51:25.675Z"
   },
   {
    "duration": 144,
    "start_time": "2022-03-02T13:51:25.916Z"
   },
   {
    "duration": 9,
    "start_time": "2022-03-02T13:51:26.062Z"
   },
   {
    "duration": 254,
    "start_time": "2022-03-02T13:51:26.073Z"
   },
   {
    "duration": 203,
    "start_time": "2022-03-02T13:51:26.329Z"
   },
   {
    "duration": 7,
    "start_time": "2022-03-02T13:51:26.534Z"
   },
   {
    "duration": 21,
    "start_time": "2022-03-02T13:51:26.543Z"
   },
   {
    "duration": 8,
    "start_time": "2022-03-02T13:51:26.568Z"
   },
   {
    "duration": 207,
    "start_time": "2022-03-02T13:51:26.578Z"
   },
   {
    "duration": 14,
    "start_time": "2022-03-02T13:51:26.786Z"
   },
   {
    "duration": 204,
    "start_time": "2022-03-02T13:51:26.802Z"
   },
   {
    "duration": 15,
    "start_time": "2022-03-02T13:51:27.007Z"
   },
   {
    "duration": 204,
    "start_time": "2022-03-02T13:51:27.023Z"
   },
   {
    "duration": 14,
    "start_time": "2022-03-02T13:51:27.228Z"
   },
   {
    "duration": 195,
    "start_time": "2022-03-02T13:51:27.244Z"
   },
   {
    "duration": 24,
    "start_time": "2022-03-02T13:51:27.440Z"
   },
   {
    "duration": 228,
    "start_time": "2022-03-02T13:51:27.465Z"
   },
   {
    "duration": 222,
    "start_time": "2022-03-02T13:51:30.044Z"
   },
   {
    "duration": 274,
    "start_time": "2022-03-02T13:51:31.193Z"
   },
   {
    "duration": 16,
    "start_time": "2022-03-02T13:51:45.893Z"
   },
   {
    "duration": 7,
    "start_time": "2022-03-02T13:52:17.076Z"
   },
   {
    "duration": 210,
    "start_time": "2022-03-02T13:52:20.535Z"
   },
   {
    "duration": 15,
    "start_time": "2022-03-02T13:52:22.742Z"
   },
   {
    "duration": 197,
    "start_time": "2022-03-02T13:52:25.448Z"
   },
   {
    "duration": 14,
    "start_time": "2022-03-02T13:52:25.885Z"
   },
   {
    "duration": 14,
    "start_time": "2022-03-02T13:52:33.242Z"
   },
   {
    "duration": 169,
    "start_time": "2022-03-02T13:54:28.516Z"
   },
   {
    "duration": 170,
    "start_time": "2022-03-02T13:55:05.799Z"
   },
   {
    "duration": 319,
    "start_time": "2022-03-02T13:58:19.960Z"
   },
   {
    "duration": 288,
    "start_time": "2022-03-02T14:01:08.918Z"
   },
   {
    "duration": 126,
    "start_time": "2022-03-02T14:04:39.064Z"
   },
   {
    "duration": 4,
    "start_time": "2022-03-02T14:06:35.571Z"
   },
   {
    "duration": 11,
    "start_time": "2022-03-02T14:07:01.343Z"
   },
   {
    "duration": 22,
    "start_time": "2022-03-02T14:16:08.172Z"
   },
   {
    "duration": 212,
    "start_time": "2022-03-02T14:16:23.630Z"
   },
   {
    "duration": 216,
    "start_time": "2022-03-02T14:17:06.834Z"
   },
   {
    "duration": 212,
    "start_time": "2022-03-02T14:18:29.703Z"
   },
   {
    "duration": 232,
    "start_time": "2022-03-02T14:19:20.576Z"
   },
   {
    "duration": 215,
    "start_time": "2022-03-02T14:19:56.327Z"
   },
   {
    "duration": 10,
    "start_time": "2022-03-02T14:20:02.146Z"
   },
   {
    "duration": 16,
    "start_time": "2022-03-02T14:20:04.387Z"
   },
   {
    "duration": 199,
    "start_time": "2022-03-02T14:20:11.765Z"
   },
   {
    "duration": 10,
    "start_time": "2022-03-02T14:20:19.442Z"
   },
   {
    "duration": 22,
    "start_time": "2022-03-02T14:20:22.345Z"
   },
   {
    "duration": 3,
    "start_time": "2022-03-02T14:21:31.490Z"
   },
   {
    "duration": 8,
    "start_time": "2022-03-02T14:22:38.333Z"
   },
   {
    "duration": 187,
    "start_time": "2022-03-02T14:23:05.290Z"
   },
   {
    "duration": 8,
    "start_time": "2022-03-02T14:26:33.933Z"
   },
   {
    "duration": 198,
    "start_time": "2022-03-02T14:27:21.770Z"
   },
   {
    "duration": 4,
    "start_time": "2022-03-02T14:50:36.295Z"
   },
   {
    "duration": 5,
    "start_time": "2022-03-02T14:51:05.474Z"
   },
   {
    "duration": 10,
    "start_time": "2022-03-02T14:53:04.454Z"
   },
   {
    "duration": 9,
    "start_time": "2022-03-02T14:54:10.173Z"
   },
   {
    "duration": 5,
    "start_time": "2022-03-02T14:55:46.096Z"
   },
   {
    "duration": 76,
    "start_time": "2022-03-02T14:58:23.557Z"
   },
   {
    "duration": 210,
    "start_time": "2022-03-02T14:58:37.842Z"
   },
   {
    "duration": 7,
    "start_time": "2022-03-02T15:08:23.644Z"
   },
   {
    "duration": 8,
    "start_time": "2022-03-02T15:09:45.621Z"
   },
   {
    "duration": 2,
    "start_time": "2022-03-02T15:12:15.319Z"
   },
   {
    "duration": 236,
    "start_time": "2022-03-02T15:12:31.443Z"
   },
   {
    "duration": 67,
    "start_time": "2022-03-02T15:15:08.602Z"
   },
   {
    "duration": 71,
    "start_time": "2022-03-02T15:15:14.315Z"
   },
   {
    "duration": 10,
    "start_time": "2022-03-02T15:15:24.550Z"
   },
   {
    "duration": 213,
    "start_time": "2022-03-02T15:15:32.555Z"
   },
   {
    "duration": 4,
    "start_time": "2022-03-02T15:15:58.033Z"
   },
   {
    "duration": 230,
    "start_time": "2022-03-02T15:17:42.713Z"
   },
   {
    "duration": 10,
    "start_time": "2022-03-02T15:22:49.378Z"
   },
   {
    "duration": 4,
    "start_time": "2022-03-02T15:23:01.123Z"
   },
   {
    "duration": 11,
    "start_time": "2022-03-02T15:24:25.361Z"
   },
   {
    "duration": 8,
    "start_time": "2022-03-02T15:26:38.120Z"
   },
   {
    "duration": 12,
    "start_time": "2022-03-02T15:30:06.491Z"
   },
   {
    "duration": 12,
    "start_time": "2022-03-02T15:30:28.045Z"
   },
   {
    "duration": 12,
    "start_time": "2022-03-02T15:30:46.537Z"
   },
   {
    "duration": 12,
    "start_time": "2022-03-02T15:30:57.636Z"
   },
   {
    "duration": 8,
    "start_time": "2022-03-02T15:34:02.955Z"
   },
   {
    "duration": 8,
    "start_time": "2022-03-02T15:34:18.960Z"
   },
   {
    "duration": 219,
    "start_time": "2022-03-02T15:39:51.617Z"
   },
   {
    "duration": 12,
    "start_time": "2022-03-02T15:41:02.335Z"
   },
   {
    "duration": 7,
    "start_time": "2022-03-02T15:41:34.646Z"
   },
   {
    "duration": 11,
    "start_time": "2022-03-02T15:43:15.923Z"
   },
   {
    "duration": 8,
    "start_time": "2022-03-02T15:43:55.044Z"
   },
   {
    "duration": 5,
    "start_time": "2022-03-02T15:44:23.541Z"
   },
   {
    "duration": 16,
    "start_time": "2022-03-02T15:52:20.905Z"
   },
   {
    "duration": 9,
    "start_time": "2022-03-02T15:53:45.176Z"
   },
   {
    "duration": 177,
    "start_time": "2022-03-02T16:04:46.480Z"
   },
   {
    "duration": 14,
    "start_time": "2022-03-02T16:05:44.861Z"
   },
   {
    "duration": 179,
    "start_time": "2022-03-02T16:06:58.732Z"
   },
   {
    "duration": 15,
    "start_time": "2022-03-02T16:07:46.994Z"
   },
   {
    "duration": 14,
    "start_time": "2022-03-02T16:08:00.560Z"
   },
   {
    "duration": 160,
    "start_time": "2022-03-02T16:17:49.669Z"
   },
   {
    "duration": 5,
    "start_time": "2022-03-02T16:24:03.303Z"
   },
   {
    "duration": 272,
    "start_time": "2022-03-02T16:24:35.882Z"
   },
   {
    "duration": 13,
    "start_time": "2022-03-02T16:25:07.979Z"
   },
   {
    "duration": 179,
    "start_time": "2022-03-02T16:25:33.917Z"
   },
   {
    "duration": 15,
    "start_time": "2022-03-02T16:26:16.991Z"
   },
   {
    "duration": 196,
    "start_time": "2022-03-02T16:28:53.810Z"
   },
   {
    "duration": 218,
    "start_time": "2022-03-02T16:33:18.148Z"
   },
   {
    "duration": 270,
    "start_time": "2022-03-02T16:36:31.548Z"
   },
   {
    "duration": 3,
    "start_time": "2022-03-02T16:51:32.441Z"
   },
   {
    "duration": 65,
    "start_time": "2022-03-02T16:51:36.385Z"
   },
   {
    "duration": 26,
    "start_time": "2022-03-02T16:51:39.201Z"
   },
   {
    "duration": 13,
    "start_time": "2022-03-02T16:51:46.801Z"
   },
   {
    "duration": 69,
    "start_time": "2022-03-02T16:51:53.254Z"
   },
   {
    "duration": 4,
    "start_time": "2022-03-02T16:52:10.114Z"
   },
   {
    "duration": 8,
    "start_time": "2022-03-02T16:52:23.053Z"
   },
   {
    "duration": 4,
    "start_time": "2022-03-02T16:52:25.615Z"
   },
   {
    "duration": 9,
    "start_time": "2022-03-02T16:52:31.828Z"
   },
   {
    "duration": 12,
    "start_time": "2022-03-02T16:53:44.046Z"
   },
   {
    "duration": 5,
    "start_time": "2022-03-02T16:53:45.284Z"
   },
   {
    "duration": 5,
    "start_time": "2022-03-02T16:53:47.154Z"
   },
   {
    "duration": 5,
    "start_time": "2022-03-02T16:53:47.806Z"
   },
   {
    "duration": 4,
    "start_time": "2022-03-02T16:53:51.849Z"
   },
   {
    "duration": 5,
    "start_time": "2022-03-02T16:54:21.757Z"
   },
   {
    "duration": 4,
    "start_time": "2022-03-02T16:54:25.663Z"
   },
   {
    "duration": 5,
    "start_time": "2022-03-02T16:54:26.506Z"
   },
   {
    "duration": 9,
    "start_time": "2022-03-02T16:54:42.594Z"
   },
   {
    "duration": 5,
    "start_time": "2022-03-02T16:54:45.731Z"
   },
   {
    "duration": 10,
    "start_time": "2022-03-02T16:54:48.320Z"
   },
   {
    "duration": 5,
    "start_time": "2022-03-02T16:54:49.023Z"
   },
   {
    "duration": 4,
    "start_time": "2022-03-02T16:55:00.940Z"
   },
   {
    "duration": 4,
    "start_time": "2022-03-02T16:55:03.878Z"
   },
   {
    "duration": 4,
    "start_time": "2022-03-02T16:55:05.479Z"
   },
   {
    "duration": 5,
    "start_time": "2022-03-02T16:55:07.371Z"
   },
   {
    "duration": 4,
    "start_time": "2022-03-02T16:55:09.269Z"
   },
   {
    "duration": 5,
    "start_time": "2022-03-02T16:55:10.326Z"
   },
   {
    "duration": 4,
    "start_time": "2022-03-02T16:55:11.444Z"
   },
   {
    "duration": 5,
    "start_time": "2022-03-02T16:55:13.679Z"
   },
   {
    "duration": 4,
    "start_time": "2022-03-02T16:55:16.535Z"
   },
   {
    "duration": 5,
    "start_time": "2022-03-02T16:55:17.570Z"
   },
   {
    "duration": 12,
    "start_time": "2022-03-02T16:55:27.043Z"
   },
   {
    "duration": 16,
    "start_time": "2022-03-02T16:55:28.940Z"
   },
   {
    "duration": 5,
    "start_time": "2022-03-02T16:55:39.820Z"
   },
   {
    "duration": 5,
    "start_time": "2022-03-02T16:57:22.170Z"
   },
   {
    "duration": 6,
    "start_time": "2022-03-02T16:57:24.218Z"
   },
   {
    "duration": 5,
    "start_time": "2022-03-02T16:57:25.218Z"
   },
   {
    "duration": 4,
    "start_time": "2022-03-02T16:57:26.231Z"
   },
   {
    "duration": 12,
    "start_time": "2022-03-02T16:57:29.580Z"
   },
   {
    "duration": 5,
    "start_time": "2022-03-02T16:57:39.273Z"
   },
   {
    "duration": 4,
    "start_time": "2022-03-02T16:57:49.261Z"
   },
   {
    "duration": 454,
    "start_time": "2022-03-02T16:57:52.304Z"
   },
   {
    "duration": 7,
    "start_time": "2022-03-02T16:57:54.329Z"
   },
   {
    "duration": 6,
    "start_time": "2022-03-02T16:58:02.634Z"
   },
   {
    "duration": 6,
    "start_time": "2022-03-02T16:58:06.136Z"
   },
   {
    "duration": 5,
    "start_time": "2022-03-02T17:01:55.342Z"
   },
   {
    "duration": 6,
    "start_time": "2022-03-02T17:01:59.881Z"
   },
   {
    "duration": 5,
    "start_time": "2022-03-02T17:02:01.699Z"
   },
   {
    "duration": 5,
    "start_time": "2022-03-02T17:02:07.230Z"
   },
   {
    "duration": 445,
    "start_time": "2022-03-02T17:02:13.510Z"
   },
   {
    "duration": 6,
    "start_time": "2022-03-02T17:02:16.075Z"
   },
   {
    "duration": 5,
    "start_time": "2022-03-02T17:02:20.330Z"
   },
   {
    "duration": 5,
    "start_time": "2022-03-02T17:02:22.355Z"
   },
   {
    "duration": 11,
    "start_time": "2022-03-02T17:02:24.076Z"
   },
   {
    "duration": 4,
    "start_time": "2022-03-02T17:02:48.795Z"
   },
   {
    "duration": 13,
    "start_time": "2022-03-02T17:02:50.885Z"
   },
   {
    "duration": 3,
    "start_time": "2022-03-02T17:02:55.490Z"
   },
   {
    "duration": 513,
    "start_time": "2022-03-02T17:02:58.579Z"
   },
   {
    "duration": 4,
    "start_time": "2022-03-02T17:03:01.433Z"
   },
   {
    "duration": 23,
    "start_time": "2022-03-02T17:03:03.776Z"
   },
   {
    "duration": 25,
    "start_time": "2022-03-02T17:03:06.361Z"
   },
   {
    "duration": 26,
    "start_time": "2022-03-02T17:05:02.417Z"
   },
   {
    "duration": 3,
    "start_time": "2022-03-02T17:05:06.184Z"
   },
   {
    "duration": 3,
    "start_time": "2022-03-02T17:05:10.203Z"
   },
   {
    "duration": 224,
    "start_time": "2022-03-02T17:05:17.519Z"
   },
   {
    "duration": 114,
    "start_time": "2022-03-02T17:05:20.753Z"
   },
   {
    "duration": 8,
    "start_time": "2022-03-02T17:05:22.928Z"
   },
   {
    "duration": 254,
    "start_time": "2022-03-02T17:05:26.033Z"
   },
   {
    "duration": 132,
    "start_time": "2022-03-02T17:05:27.825Z"
   },
   {
    "duration": 10,
    "start_time": "2022-03-02T17:05:31.580Z"
   },
   {
    "duration": 236,
    "start_time": "2022-03-02T17:05:33.579Z"
   },
   {
    "duration": 119,
    "start_time": "2022-03-02T17:05:35.392Z"
   },
   {
    "duration": 9,
    "start_time": "2022-03-02T17:05:36.936Z"
   },
   {
    "duration": 230,
    "start_time": "2022-03-02T17:05:38.179Z"
   },
   {
    "duration": 130,
    "start_time": "2022-03-02T17:05:39.321Z"
   },
   {
    "duration": 9,
    "start_time": "2022-03-02T17:05:40.421Z"
   },
   {
    "duration": 244,
    "start_time": "2022-03-02T17:07:25.351Z"
   },
   {
    "duration": 241,
    "start_time": "2022-03-02T17:07:30.575Z"
   },
   {
    "duration": 9,
    "start_time": "2022-03-02T17:07:32.349Z"
   },
   {
    "duration": 6,
    "start_time": "2022-03-02T17:07:35.445Z"
   },
   {
    "duration": 10,
    "start_time": "2022-03-02T17:07:36.472Z"
   },
   {
    "duration": 270,
    "start_time": "2022-03-02T17:08:32.336Z"
   },
   {
    "duration": 19,
    "start_time": "2022-03-02T17:08:33.537Z"
   },
   {
    "duration": 175,
    "start_time": "2022-03-02T17:08:36.815Z"
   },
   {
    "duration": 15,
    "start_time": "2022-03-02T17:08:37.471Z"
   },
   {
    "duration": 196,
    "start_time": "2022-03-02T17:09:45.959Z"
   },
   {
    "duration": 15,
    "start_time": "2022-03-02T17:09:46.951Z"
   },
   {
    "duration": 185,
    "start_time": "2022-03-02T17:09:50.091Z"
   },
   {
    "duration": 17,
    "start_time": "2022-03-02T17:09:51.249Z"
   },
   {
    "duration": 8,
    "start_time": "2022-03-02T17:10:33.987Z"
   },
   {
    "duration": 215,
    "start_time": "2022-03-02T17:10:35.119Z"
   },
   {
    "duration": 14,
    "start_time": "2022-03-02T17:10:36.161Z"
   },
   {
    "duration": 226,
    "start_time": "2022-03-02T17:10:36.998Z"
   },
   {
    "duration": 14,
    "start_time": "2022-03-02T17:10:38.275Z"
   },
   {
    "duration": 165,
    "start_time": "2022-03-02T17:11:04.684Z"
   },
   {
    "duration": 187,
    "start_time": "2022-03-02T17:11:40.243Z"
   },
   {
    "duration": 205,
    "start_time": "2022-03-02T17:11:56.473Z"
   },
   {
    "duration": 200,
    "start_time": "2022-03-02T17:11:59.455Z"
   },
   {
    "duration": 11,
    "start_time": "2022-03-02T17:13:04.209Z"
   },
   {
    "duration": 22,
    "start_time": "2022-03-02T17:14:31.761Z"
   },
   {
    "duration": 2,
    "start_time": "2022-03-02T17:14:54.720Z"
   },
   {
    "duration": 9,
    "start_time": "2022-03-02T17:16:01.211Z"
   },
   {
    "duration": 195,
    "start_time": "2022-03-02T17:16:02.758Z"
   },
   {
    "duration": 9,
    "start_time": "2022-03-02T17:18:22.180Z"
   },
   {
    "duration": 313,
    "start_time": "2022-03-02T17:18:25.684Z"
   },
   {
    "duration": 9,
    "start_time": "2022-03-02T17:24:40.082Z"
   },
   {
    "duration": 6,
    "start_time": "2022-03-02T17:24:43.472Z"
   },
   {
    "duration": 311,
    "start_time": "2022-03-02T17:24:48.940Z"
   },
   {
    "duration": 237,
    "start_time": "2022-03-02T17:30:27.494Z"
   },
   {
    "duration": 215,
    "start_time": "2022-03-02T17:30:51.207Z"
   },
   {
    "duration": 219,
    "start_time": "2022-03-02T17:30:58.818Z"
   },
   {
    "duration": 228,
    "start_time": "2022-03-02T17:31:38.716Z"
   },
   {
    "duration": 3,
    "start_time": "2022-03-02T17:31:49.270Z"
   },
   {
    "duration": 70,
    "start_time": "2022-03-02T17:31:49.274Z"
   },
   {
    "duration": 29,
    "start_time": "2022-03-02T17:31:49.347Z"
   },
   {
    "duration": 13,
    "start_time": "2022-03-02T17:31:49.377Z"
   },
   {
    "duration": 93,
    "start_time": "2022-03-02T17:31:49.392Z"
   },
   {
    "duration": 3,
    "start_time": "2022-03-02T17:31:49.487Z"
   },
   {
    "duration": 6,
    "start_time": "2022-03-02T17:31:49.492Z"
   },
   {
    "duration": 3,
    "start_time": "2022-03-02T17:31:49.500Z"
   },
   {
    "duration": 9,
    "start_time": "2022-03-02T17:31:49.506Z"
   },
   {
    "duration": 48,
    "start_time": "2022-03-02T17:31:49.517Z"
   },
   {
    "duration": 7,
    "start_time": "2022-03-02T17:31:49.567Z"
   },
   {
    "duration": 7,
    "start_time": "2022-03-02T17:31:49.575Z"
   },
   {
    "duration": 5,
    "start_time": "2022-03-02T17:31:49.584Z"
   },
   {
    "duration": 4,
    "start_time": "2022-03-02T17:31:49.591Z"
   },
   {
    "duration": 5,
    "start_time": "2022-03-02T17:31:49.596Z"
   },
   {
    "duration": 5,
    "start_time": "2022-03-02T17:31:49.603Z"
   },
   {
    "duration": 6,
    "start_time": "2022-03-02T17:31:49.609Z"
   },
   {
    "duration": 50,
    "start_time": "2022-03-02T17:31:49.616Z"
   },
   {
    "duration": 7,
    "start_time": "2022-03-02T17:31:49.668Z"
   },
   {
    "duration": 10,
    "start_time": "2022-03-02T17:31:49.676Z"
   },
   {
    "duration": 4,
    "start_time": "2022-03-02T17:31:49.688Z"
   },
   {
    "duration": 5,
    "start_time": "2022-03-02T17:31:49.693Z"
   },
   {
    "duration": 5,
    "start_time": "2022-03-02T17:31:49.699Z"
   },
   {
    "duration": 4,
    "start_time": "2022-03-02T17:31:49.706Z"
   },
   {
    "duration": 7,
    "start_time": "2022-03-02T17:31:49.711Z"
   },
   {
    "duration": 44,
    "start_time": "2022-03-02T17:31:49.719Z"
   },
   {
    "duration": 4,
    "start_time": "2022-03-02T17:31:49.767Z"
   },
   {
    "duration": 5,
    "start_time": "2022-03-02T17:31:49.773Z"
   },
   {
    "duration": 6,
    "start_time": "2022-03-02T17:31:49.780Z"
   },
   {
    "duration": 5,
    "start_time": "2022-03-02T17:31:49.787Z"
   },
   {
    "duration": 5,
    "start_time": "2022-03-02T17:31:49.793Z"
   },
   {
    "duration": 10,
    "start_time": "2022-03-02T17:31:49.799Z"
   },
   {
    "duration": 56,
    "start_time": "2022-03-02T17:31:49.811Z"
   },
   {
    "duration": 3,
    "start_time": "2022-03-02T17:31:49.869Z"
   },
   {
    "duration": 9,
    "start_time": "2022-03-02T17:31:49.874Z"
   },
   {
    "duration": 8,
    "start_time": "2022-03-02T17:31:49.884Z"
   },
   {
    "duration": 5,
    "start_time": "2022-03-02T17:31:49.893Z"
   },
   {
    "duration": 5,
    "start_time": "2022-03-02T17:31:49.899Z"
   },
   {
    "duration": 9,
    "start_time": "2022-03-02T17:31:49.906Z"
   },
   {
    "duration": 6,
    "start_time": "2022-03-02T17:31:49.916Z"
   },
   {
    "duration": 6,
    "start_time": "2022-03-02T17:31:49.924Z"
   },
   {
    "duration": 587,
    "start_time": "2022-03-02T17:31:49.963Z"
   },
   {
    "duration": 14,
    "start_time": "2022-03-02T17:31:50.552Z"
   },
   {
    "duration": 9,
    "start_time": "2022-03-02T17:31:50.567Z"
   },
   {
    "duration": 12,
    "start_time": "2022-03-02T17:31:50.577Z"
   },
   {
    "duration": 5,
    "start_time": "2022-03-02T17:31:50.591Z"
   },
   {
    "duration": 8,
    "start_time": "2022-03-02T17:31:50.598Z"
   },
   {
    "duration": 8,
    "start_time": "2022-03-02T17:31:50.607Z"
   },
   {
    "duration": 5,
    "start_time": "2022-03-02T17:31:50.616Z"
   },
   {
    "duration": 496,
    "start_time": "2022-03-02T17:31:50.623Z"
   },
   {
    "duration": 4,
    "start_time": "2022-03-02T17:31:51.120Z"
   },
   {
    "duration": 7,
    "start_time": "2022-03-02T17:31:51.126Z"
   },
   {
    "duration": 6,
    "start_time": "2022-03-02T17:31:51.134Z"
   },
   {
    "duration": 27,
    "start_time": "2022-03-02T17:31:51.141Z"
   },
   {
    "duration": 4,
    "start_time": "2022-03-02T17:31:51.170Z"
   },
   {
    "duration": 14,
    "start_time": "2022-03-02T17:31:51.176Z"
   },
   {
    "duration": 4,
    "start_time": "2022-03-02T17:31:51.191Z"
   },
   {
    "duration": 467,
    "start_time": "2022-03-02T17:31:51.196Z"
   },
   {
    "duration": 4,
    "start_time": "2022-03-02T17:31:51.665Z"
   },
   {
    "duration": 27,
    "start_time": "2022-03-02T17:31:51.670Z"
   },
   {
    "duration": 25,
    "start_time": "2022-03-02T17:31:51.701Z"
   },
   {
    "duration": 3,
    "start_time": "2022-03-02T17:31:51.728Z"
   },
   {
    "duration": 32,
    "start_time": "2022-03-02T17:31:51.732Z"
   },
   {
    "duration": 235,
    "start_time": "2022-03-02T17:31:51.766Z"
   },
   {
    "duration": 129,
    "start_time": "2022-03-02T17:31:52.003Z"
   },
   {
    "duration": 9,
    "start_time": "2022-03-02T17:31:52.134Z"
   },
   {
    "duration": 261,
    "start_time": "2022-03-02T17:31:52.144Z"
   },
   {
    "duration": 140,
    "start_time": "2022-03-02T17:31:52.407Z"
   },
   {
    "duration": 18,
    "start_time": "2022-03-02T17:31:52.549Z"
   },
   {
    "duration": 236,
    "start_time": "2022-03-02T17:31:52.568Z"
   },
   {
    "duration": 259,
    "start_time": "2022-03-02T17:31:52.806Z"
   },
   {
    "duration": 9,
    "start_time": "2022-03-02T17:31:53.067Z"
   },
   {
    "duration": 239,
    "start_time": "2022-03-02T17:31:53.077Z"
   },
   {
    "duration": 146,
    "start_time": "2022-03-02T17:31:53.318Z"
   },
   {
    "duration": 9,
    "start_time": "2022-03-02T17:31:53.466Z"
   },
   {
    "duration": 264,
    "start_time": "2022-03-02T17:31:53.477Z"
   },
   {
    "duration": 126,
    "start_time": "2022-03-02T17:31:53.743Z"
   },
   {
    "duration": 9,
    "start_time": "2022-03-02T17:31:53.870Z"
   },
   {
    "duration": 6,
    "start_time": "2022-03-02T17:31:53.881Z"
   },
   {
    "duration": 8,
    "start_time": "2022-03-02T17:31:53.888Z"
   },
   {
    "duration": 269,
    "start_time": "2022-03-02T17:31:53.898Z"
   },
   {
    "duration": 17,
    "start_time": "2022-03-02T17:31:54.169Z"
   },
   {
    "duration": 204,
    "start_time": "2022-03-02T17:31:54.188Z"
   },
   {
    "duration": 16,
    "start_time": "2022-03-02T17:31:54.394Z"
   },
   {
    "duration": 202,
    "start_time": "2022-03-02T17:31:54.411Z"
   },
   {
    "duration": 14,
    "start_time": "2022-03-02T17:31:54.615Z"
   },
   {
    "duration": 210,
    "start_time": "2022-03-02T17:31:54.631Z"
   },
   {
    "duration": 26,
    "start_time": "2022-03-02T17:31:54.843Z"
   },
   {
    "duration": 6,
    "start_time": "2022-03-02T17:31:54.871Z"
   },
   {
    "duration": 226,
    "start_time": "2022-03-02T17:31:54.878Z"
   },
   {
    "duration": 13,
    "start_time": "2022-03-02T17:31:55.106Z"
   },
   {
    "duration": 214,
    "start_time": "2022-03-02T17:31:55.121Z"
   },
   {
    "duration": 14,
    "start_time": "2022-03-02T17:31:55.336Z"
   },
   {
    "duration": 175,
    "start_time": "2022-03-02T17:31:55.362Z"
   },
   {
    "duration": 194,
    "start_time": "2022-03-02T17:31:55.539Z"
   },
   {
    "duration": 264,
    "start_time": "2022-03-02T17:31:55.735Z"
   },
   {
    "duration": 227,
    "start_time": "2022-03-02T17:31:56.000Z"
   },
   {
    "duration": 10,
    "start_time": "2022-03-02T17:31:56.228Z"
   },
   {
    "duration": 39,
    "start_time": "2022-03-02T17:31:56.239Z"
   },
   {
    "duration": 3,
    "start_time": "2022-03-02T17:31:56.279Z"
   },
   {
    "duration": 9,
    "start_time": "2022-03-02T17:31:56.283Z"
   },
   {
    "duration": 206,
    "start_time": "2022-03-02T17:31:56.293Z"
   },
   {
    "duration": 8,
    "start_time": "2022-03-02T17:31:56.501Z"
   },
   {
    "duration": 230,
    "start_time": "2022-03-02T17:31:56.511Z"
   },
   {
    "duration": 23,
    "start_time": "2022-03-02T17:31:56.744Z"
   },
   {
    "duration": 6,
    "start_time": "2022-03-02T17:31:56.768Z"
   },
   {
    "duration": 390,
    "start_time": "2022-03-02T17:31:56.776Z"
   },
   {
    "duration": 247,
    "start_time": "2022-03-02T17:32:01.362Z"
   },
   {
    "duration": 6,
    "start_time": "2022-03-02T17:33:30.273Z"
   },
   {
    "duration": 205,
    "start_time": "2022-03-02T17:33:33.272Z"
   },
   {
    "duration": 272,
    "start_time": "2022-03-02T17:33:36.120Z"
   },
   {
    "duration": 345,
    "start_time": "2022-03-02T17:35:01.817Z"
   },
   {
    "duration": 22,
    "start_time": "2022-03-02T17:36:29.164Z"
   },
   {
    "duration": 12,
    "start_time": "2022-03-02T17:36:44.755Z"
   },
   {
    "duration": 9,
    "start_time": "2022-03-02T17:37:13.580Z"
   },
   {
    "duration": 3,
    "start_time": "2022-03-02T17:37:21.452Z"
   },
   {
    "duration": 239,
    "start_time": "2022-03-02T17:37:23.744Z"
   },
   {
    "duration": 15,
    "start_time": "2022-03-02T17:37:24.794Z"
   },
   {
    "duration": 4,
    "start_time": "2022-03-02T17:37:55.046Z"
   },
   {
    "duration": 227,
    "start_time": "2022-03-02T17:38:25.829Z"
   },
   {
    "duration": 12,
    "start_time": "2022-03-02T17:42:23.213Z"
   },
   {
    "duration": 10,
    "start_time": "2022-03-02T17:42:29.328Z"
   },
   {
    "duration": 8,
    "start_time": "2022-03-02T17:44:00.922Z"
   },
   {
    "duration": 231,
    "start_time": "2022-03-02T17:46:17.968Z"
   },
   {
    "duration": 12,
    "start_time": "2022-03-02T17:51:08.693Z"
   },
   {
    "duration": 9,
    "start_time": "2022-03-02T17:52:26.665Z"
   },
   {
    "duration": 226,
    "start_time": "2022-03-02T17:53:55.319Z"
   },
   {
    "duration": 12,
    "start_time": "2022-03-02T17:54:48.034Z"
   },
   {
    "duration": 10,
    "start_time": "2022-03-02T17:55:16.916Z"
   },
   {
    "duration": 9,
    "start_time": "2022-03-02T17:56:47.942Z"
   },
   {
    "duration": 5,
    "start_time": "2022-03-02T17:57:01.803Z"
   },
   {
    "duration": 5,
    "start_time": "2022-03-02T17:57:33.366Z"
   },
   {
    "duration": 231,
    "start_time": "2022-03-02T17:58:32.675Z"
   },
   {
    "duration": 13,
    "start_time": "2022-03-02T17:58:35.029Z"
   },
   {
    "duration": 14,
    "start_time": "2022-03-02T17:59:19.830Z"
   },
   {
    "duration": 8,
    "start_time": "2022-03-02T18:00:26.502Z"
   },
   {
    "duration": 183,
    "start_time": "2022-03-02T18:01:15.744Z"
   },
   {
    "duration": 16,
    "start_time": "2022-03-02T18:01:17.061Z"
   },
   {
    "duration": 258,
    "start_time": "2022-03-02T18:01:20.429Z"
   },
   {
    "duration": 16,
    "start_time": "2022-03-02T18:01:21.775Z"
   },
   {
    "duration": 166,
    "start_time": "2022-03-02T18:03:34.694Z"
   },
   {
    "duration": 182,
    "start_time": "2022-03-02T18:05:34.228Z"
   },
   {
    "duration": 14,
    "start_time": "2022-03-02T18:05:35.180Z"
   },
   {
    "duration": 193,
    "start_time": "2022-03-02T18:05:38.064Z"
   },
   {
    "duration": 14,
    "start_time": "2022-03-02T18:05:38.913Z"
   },
   {
    "duration": 183,
    "start_time": "2022-03-02T18:06:15.233Z"
   },
   {
    "duration": 216,
    "start_time": "2022-03-02T18:06:19.692Z"
   },
   {
    "duration": 197,
    "start_time": "2022-03-02T18:06:24.505Z"
   },
   {
    "duration": 2,
    "start_time": "2022-03-02T18:19:14.651Z"
   },
   {
    "duration": 74,
    "start_time": "2022-03-02T18:19:14.655Z"
   },
   {
    "duration": 40,
    "start_time": "2022-03-02T18:19:14.731Z"
   },
   {
    "duration": 15,
    "start_time": "2022-03-02T18:19:14.773Z"
   },
   {
    "duration": 96,
    "start_time": "2022-03-02T18:19:14.789Z"
   },
   {
    "duration": 3,
    "start_time": "2022-03-02T18:19:14.887Z"
   },
   {
    "duration": 14,
    "start_time": "2022-03-02T18:19:14.892Z"
   },
   {
    "duration": 4,
    "start_time": "2022-03-02T18:19:14.908Z"
   },
   {
    "duration": 11,
    "start_time": "2022-03-02T18:19:14.915Z"
   },
   {
    "duration": 39,
    "start_time": "2022-03-02T18:19:14.928Z"
   },
   {
    "duration": 8,
    "start_time": "2022-03-02T18:19:14.968Z"
   },
   {
    "duration": 6,
    "start_time": "2022-03-02T18:19:14.978Z"
   },
   {
    "duration": 7,
    "start_time": "2022-03-02T18:19:14.986Z"
   },
   {
    "duration": 8,
    "start_time": "2022-03-02T18:19:14.994Z"
   },
   {
    "duration": 16,
    "start_time": "2022-03-02T18:19:15.004Z"
   },
   {
    "duration": 13,
    "start_time": "2022-03-02T18:19:15.022Z"
   },
   {
    "duration": 30,
    "start_time": "2022-03-02T18:19:15.037Z"
   },
   {
    "duration": 18,
    "start_time": "2022-03-02T18:19:15.069Z"
   },
   {
    "duration": 6,
    "start_time": "2022-03-02T18:19:15.089Z"
   },
   {
    "duration": 12,
    "start_time": "2022-03-02T18:19:15.097Z"
   },
   {
    "duration": 8,
    "start_time": "2022-03-02T18:19:15.111Z"
   },
   {
    "duration": 44,
    "start_time": "2022-03-02T18:19:15.121Z"
   },
   {
    "duration": 8,
    "start_time": "2022-03-02T18:19:15.167Z"
   },
   {
    "duration": 5,
    "start_time": "2022-03-02T18:19:15.176Z"
   },
   {
    "duration": 6,
    "start_time": "2022-03-02T18:19:15.183Z"
   },
   {
    "duration": 8,
    "start_time": "2022-03-02T18:19:15.191Z"
   },
   {
    "duration": 6,
    "start_time": "2022-03-02T18:19:15.203Z"
   },
   {
    "duration": 6,
    "start_time": "2022-03-02T18:19:15.213Z"
   },
   {
    "duration": 45,
    "start_time": "2022-03-02T18:19:15.221Z"
   },
   {
    "duration": 4,
    "start_time": "2022-03-02T18:19:15.268Z"
   },
   {
    "duration": 8,
    "start_time": "2022-03-02T18:19:15.274Z"
   },
   {
    "duration": 16,
    "start_time": "2022-03-02T18:19:15.284Z"
   },
   {
    "duration": 66,
    "start_time": "2022-03-02T18:19:15.302Z"
   },
   {
    "duration": 7,
    "start_time": "2022-03-02T18:19:15.371Z"
   },
   {
    "duration": 8,
    "start_time": "2022-03-02T18:19:15.379Z"
   },
   {
    "duration": 8,
    "start_time": "2022-03-02T18:19:15.389Z"
   },
   {
    "duration": 5,
    "start_time": "2022-03-02T18:19:15.399Z"
   },
   {
    "duration": 7,
    "start_time": "2022-03-02T18:19:15.406Z"
   },
   {
    "duration": 53,
    "start_time": "2022-03-02T18:19:15.415Z"
   },
   {
    "duration": 5,
    "start_time": "2022-03-02T18:19:15.470Z"
   },
   {
    "duration": 4,
    "start_time": "2022-03-02T18:19:15.477Z"
   },
   {
    "duration": 954,
    "start_time": "2022-03-02T18:19:15.483Z"
   },
   {
    "duration": 9,
    "start_time": "2022-03-02T18:19:16.439Z"
   },
   {
    "duration": 20,
    "start_time": "2022-03-02T18:19:16.450Z"
   },
   {
    "duration": 6,
    "start_time": "2022-03-02T18:19:16.472Z"
   },
   {
    "duration": 4,
    "start_time": "2022-03-02T18:19:16.479Z"
   },
   {
    "duration": 8,
    "start_time": "2022-03-02T18:19:16.484Z"
   },
   {
    "duration": 5,
    "start_time": "2022-03-02T18:19:16.493Z"
   },
   {
    "duration": 11,
    "start_time": "2022-03-02T18:19:16.500Z"
   },
   {
    "duration": 712,
    "start_time": "2022-03-02T18:19:16.513Z"
   },
   {
    "duration": 4,
    "start_time": "2022-03-02T18:19:17.228Z"
   },
   {
    "duration": 8,
    "start_time": "2022-03-02T18:19:17.234Z"
   },
   {
    "duration": 23,
    "start_time": "2022-03-02T18:19:17.244Z"
   },
   {
    "duration": 12,
    "start_time": "2022-03-02T18:19:17.269Z"
   },
   {
    "duration": 4,
    "start_time": "2022-03-02T18:19:17.283Z"
   },
   {
    "duration": 16,
    "start_time": "2022-03-02T18:19:17.289Z"
   },
   {
    "duration": 4,
    "start_time": "2022-03-02T18:19:17.306Z"
   },
   {
    "duration": 833,
    "start_time": "2022-03-02T18:19:17.312Z"
   },
   {
    "duration": 5,
    "start_time": "2022-03-02T18:19:18.147Z"
   },
   {
    "duration": 41,
    "start_time": "2022-03-02T18:19:18.153Z"
   },
   {
    "duration": 33,
    "start_time": "2022-03-02T18:19:18.196Z"
   },
   {
    "duration": 3,
    "start_time": "2022-03-02T18:19:18.231Z"
   },
   {
    "duration": 26,
    "start_time": "2022-03-02T18:19:18.236Z"
   },
   {
    "duration": 372,
    "start_time": "2022-03-02T18:19:18.265Z"
   },
   {
    "duration": 137,
    "start_time": "2022-03-02T18:19:18.639Z"
   },
   {
    "duration": 13,
    "start_time": "2022-03-02T18:19:18.778Z"
   },
   {
    "duration": 274,
    "start_time": "2022-03-02T18:19:18.792Z"
   },
   {
    "duration": 155,
    "start_time": "2022-03-02T18:19:19.067Z"
   },
   {
    "duration": 11,
    "start_time": "2022-03-02T18:19:19.224Z"
   },
   {
    "duration": 256,
    "start_time": "2022-03-02T18:19:19.236Z"
   },
   {
    "duration": 135,
    "start_time": "2022-03-02T18:19:19.494Z"
   },
   {
    "duration": 10,
    "start_time": "2022-03-02T18:19:19.632Z"
   },
   {
    "duration": 248,
    "start_time": "2022-03-02T18:19:19.644Z"
   },
   {
    "duration": 304,
    "start_time": "2022-03-02T18:19:19.894Z"
   },
   {
    "duration": 12,
    "start_time": "2022-03-02T18:19:20.199Z"
   },
   {
    "duration": 396,
    "start_time": "2022-03-02T18:19:20.213Z"
   },
   {
    "duration": 186,
    "start_time": "2022-03-02T18:19:20.612Z"
   },
   {
    "duration": 9,
    "start_time": "2022-03-02T18:19:20.800Z"
   },
   {
    "duration": 5,
    "start_time": "2022-03-02T18:19:20.810Z"
   },
   {
    "duration": 10,
    "start_time": "2022-03-02T18:19:20.816Z"
   },
   {
    "duration": 239,
    "start_time": "2022-03-02T18:19:20.833Z"
   },
   {
    "duration": 16,
    "start_time": "2022-03-02T18:19:21.075Z"
   },
   {
    "duration": 217,
    "start_time": "2022-03-02T18:19:21.092Z"
   },
   {
    "duration": 17,
    "start_time": "2022-03-02T18:19:21.311Z"
   },
   {
    "duration": 213,
    "start_time": "2022-03-02T18:19:21.330Z"
   },
   {
    "duration": 23,
    "start_time": "2022-03-02T18:19:21.544Z"
   },
   {
    "duration": 206,
    "start_time": "2022-03-02T18:19:21.569Z"
   },
   {
    "duration": 17,
    "start_time": "2022-03-02T18:19:21.777Z"
   },
   {
    "duration": 9,
    "start_time": "2022-03-02T18:19:21.795Z"
   },
   {
    "duration": 258,
    "start_time": "2022-03-02T18:19:21.805Z"
   },
   {
    "duration": 16,
    "start_time": "2022-03-02T18:19:22.065Z"
   },
   {
    "duration": 222,
    "start_time": "2022-03-02T18:19:22.083Z"
   },
   {
    "duration": 16,
    "start_time": "2022-03-02T18:19:22.307Z"
   },
   {
    "duration": 204,
    "start_time": "2022-03-02T18:19:22.325Z"
   },
   {
    "duration": 209,
    "start_time": "2022-03-02T18:19:22.531Z"
   },
   {
    "duration": 248,
    "start_time": "2022-03-02T18:19:22.743Z"
   },
   {
    "duration": 311,
    "start_time": "2022-03-02T18:19:22.993Z"
   },
   {
    "duration": 13,
    "start_time": "2022-03-02T18:19:23.307Z"
   },
   {
    "duration": 49,
    "start_time": "2022-03-02T18:19:23.322Z"
   },
   {
    "duration": 3,
    "start_time": "2022-03-02T18:19:23.373Z"
   },
   {
    "duration": 32,
    "start_time": "2022-03-02T18:19:23.378Z"
   },
   {
    "duration": 288,
    "start_time": "2022-03-02T18:19:23.412Z"
   },
   {
    "duration": 10,
    "start_time": "2022-03-02T18:19:23.702Z"
   },
   {
    "duration": 313,
    "start_time": "2022-03-02T18:19:23.714Z"
   },
   {
    "duration": 11,
    "start_time": "2022-03-02T18:19:24.029Z"
   },
   {
    "duration": 30,
    "start_time": "2022-03-02T18:19:24.042Z"
   },
   {
    "duration": 228,
    "start_time": "2022-03-02T18:19:24.073Z"
   },
   {
    "duration": 9,
    "start_time": "2022-03-02T18:19:24.303Z"
   },
   {
    "duration": 5,
    "start_time": "2022-03-02T18:19:24.313Z"
   },
   {
    "duration": 267,
    "start_time": "2022-03-02T18:19:24.319Z"
   },
   {
    "duration": 12,
    "start_time": "2022-03-02T18:19:24.587Z"
   },
   {
    "duration": 6,
    "start_time": "2022-03-02T18:19:24.601Z"
   },
   {
    "duration": 275,
    "start_time": "2022-03-02T18:19:24.609Z"
   },
   {
    "duration": 12,
    "start_time": "2022-03-02T18:19:24.886Z"
   },
   {
    "duration": 8,
    "start_time": "2022-03-02T18:19:24.899Z"
   },
   {
    "duration": 263,
    "start_time": "2022-03-02T18:19:24.909Z"
   },
   {
    "duration": 11,
    "start_time": "2022-03-02T18:19:25.173Z"
   },
   {
    "duration": 7,
    "start_time": "2022-03-02T18:19:25.186Z"
   },
   {
    "duration": 5,
    "start_time": "2022-03-02T18:19:25.195Z"
   },
   {
    "duration": 6,
    "start_time": "2022-03-02T18:19:25.202Z"
   },
   {
    "duration": 459,
    "start_time": "2022-03-02T18:19:25.209Z"
   },
   {
    "duration": 12,
    "start_time": "2022-03-02T18:19:25.670Z"
   },
   {
    "duration": 9,
    "start_time": "2022-03-02T18:19:25.683Z"
   },
   {
    "duration": 215,
    "start_time": "2022-03-02T18:19:25.694Z"
   },
   {
    "duration": 14,
    "start_time": "2022-03-02T18:19:25.911Z"
   },
   {
    "duration": 225,
    "start_time": "2022-03-02T18:19:25.927Z"
   },
   {
    "duration": 23,
    "start_time": "2022-03-02T18:19:26.153Z"
   },
   {
    "duration": 272,
    "start_time": "2022-03-02T18:19:26.178Z"
   },
   {
    "duration": 283,
    "start_time": "2022-03-02T18:19:26.452Z"
   },
   {
    "duration": 27,
    "start_time": "2022-03-02T18:19:26.738Z"
   },
   {
    "duration": 273,
    "start_time": "2022-03-02T18:19:26.767Z"
   },
   {
    "duration": 31,
    "start_time": "2022-03-02T18:19:27.042Z"
   },
   {
    "duration": 278,
    "start_time": "2022-03-02T18:19:27.075Z"
   },
   {
    "duration": 323,
    "start_time": "2022-03-02T18:19:27.355Z"
   },
   {
    "duration": 292,
    "start_time": "2022-03-02T18:19:27.680Z"
   },
   {
    "duration": 1227,
    "start_time": "2022-03-11T07:07:50.891Z"
   },
   {
    "duration": 68,
    "start_time": "2022-03-11T07:07:52.120Z"
   },
   {
    "duration": 30,
    "start_time": "2022-03-11T07:07:52.190Z"
   },
   {
    "duration": 11,
    "start_time": "2022-03-11T07:07:52.222Z"
   },
   {
    "duration": 93,
    "start_time": "2022-03-11T07:07:52.234Z"
   },
   {
    "duration": 4,
    "start_time": "2022-03-11T07:07:52.329Z"
   },
   {
    "duration": 24,
    "start_time": "2022-03-11T07:07:52.335Z"
   },
   {
    "duration": 3,
    "start_time": "2022-03-11T07:07:52.362Z"
   },
   {
    "duration": 13,
    "start_time": "2022-03-11T07:07:52.367Z"
   },
   {
    "duration": 12,
    "start_time": "2022-03-11T07:07:52.382Z"
   },
   {
    "duration": 5,
    "start_time": "2022-03-11T07:07:52.396Z"
   },
   {
    "duration": 6,
    "start_time": "2022-03-11T07:07:52.403Z"
   },
   {
    "duration": 5,
    "start_time": "2022-03-11T07:07:52.410Z"
   },
   {
    "duration": 9,
    "start_time": "2022-03-11T07:07:52.417Z"
   },
   {
    "duration": 32,
    "start_time": "2022-03-11T07:07:52.428Z"
   },
   {
    "duration": 6,
    "start_time": "2022-03-11T07:07:52.461Z"
   },
   {
    "duration": 8,
    "start_time": "2022-03-11T07:07:52.468Z"
   },
   {
    "duration": 9,
    "start_time": "2022-03-11T07:07:52.478Z"
   },
   {
    "duration": 4,
    "start_time": "2022-03-11T07:07:52.489Z"
   },
   {
    "duration": 12,
    "start_time": "2022-03-11T07:07:52.495Z"
   },
   {
    "duration": 11,
    "start_time": "2022-03-11T07:07:52.509Z"
   },
   {
    "duration": 7,
    "start_time": "2022-03-11T07:07:52.522Z"
   },
   {
    "duration": 6,
    "start_time": "2022-03-11T07:07:52.559Z"
   },
   {
    "duration": 13,
    "start_time": "2022-03-11T07:07:52.568Z"
   },
   {
    "duration": 8,
    "start_time": "2022-03-11T07:07:52.582Z"
   },
   {
    "duration": 3,
    "start_time": "2022-03-11T07:07:52.592Z"
   },
   {
    "duration": 16,
    "start_time": "2022-03-11T07:07:52.596Z"
   },
   {
    "duration": 7,
    "start_time": "2022-03-11T07:07:52.614Z"
   },
   {
    "duration": 9,
    "start_time": "2022-03-11T07:07:52.622Z"
   },
   {
    "duration": 3,
    "start_time": "2022-03-11T07:07:52.633Z"
   },
   {
    "duration": 22,
    "start_time": "2022-03-11T07:07:52.638Z"
   },
   {
    "duration": 12,
    "start_time": "2022-03-11T07:07:52.662Z"
   },
   {
    "duration": 19,
    "start_time": "2022-03-11T07:07:52.675Z"
   },
   {
    "duration": 5,
    "start_time": "2022-03-11T07:07:52.696Z"
   },
   {
    "duration": 7,
    "start_time": "2022-03-11T07:07:52.703Z"
   },
   {
    "duration": 4,
    "start_time": "2022-03-11T07:07:52.712Z"
   },
   {
    "duration": 5,
    "start_time": "2022-03-11T07:07:52.717Z"
   },
   {
    "duration": 36,
    "start_time": "2022-03-11T07:07:52.723Z"
   },
   {
    "duration": 8,
    "start_time": "2022-03-11T07:07:52.761Z"
   },
   {
    "duration": 6,
    "start_time": "2022-03-11T07:07:52.771Z"
   },
   {
    "duration": 4,
    "start_time": "2022-03-11T07:07:52.779Z"
   },
   {
    "duration": 499,
    "start_time": "2022-03-11T07:07:52.784Z"
   },
   {
    "duration": 8,
    "start_time": "2022-03-11T07:07:53.285Z"
   },
   {
    "duration": 6,
    "start_time": "2022-03-11T07:07:53.295Z"
   },
   {
    "duration": 6,
    "start_time": "2022-03-11T07:07:53.302Z"
   },
   {
    "duration": 4,
    "start_time": "2022-03-11T07:07:53.309Z"
   },
   {
    "duration": 5,
    "start_time": "2022-03-11T07:07:53.315Z"
   },
   {
    "duration": 38,
    "start_time": "2022-03-11T07:07:53.321Z"
   },
   {
    "duration": 10,
    "start_time": "2022-03-11T07:07:53.361Z"
   },
   {
    "duration": 483,
    "start_time": "2022-03-11T07:07:53.373Z"
   },
   {
    "duration": 5,
    "start_time": "2022-03-11T07:07:53.859Z"
   },
   {
    "duration": 19,
    "start_time": "2022-03-11T07:07:53.866Z"
   },
   {
    "duration": 8,
    "start_time": "2022-03-11T07:07:53.887Z"
   },
   {
    "duration": 21,
    "start_time": "2022-03-11T07:07:53.896Z"
   },
   {
    "duration": 26,
    "start_time": "2022-03-11T07:07:53.919Z"
   },
   {
    "duration": 15,
    "start_time": "2022-03-11T07:07:53.947Z"
   },
   {
    "duration": 3,
    "start_time": "2022-03-11T07:07:53.964Z"
   },
   {
    "duration": 504,
    "start_time": "2022-03-11T07:07:53.969Z"
   },
   {
    "duration": 3,
    "start_time": "2022-03-11T07:07:54.475Z"
   },
   {
    "duration": 28,
    "start_time": "2022-03-11T07:07:54.480Z"
   },
   {
    "duration": 27,
    "start_time": "2022-03-11T07:07:54.509Z"
   },
   {
    "duration": 3,
    "start_time": "2022-03-11T07:07:54.537Z"
   },
   {
    "duration": 5,
    "start_time": "2022-03-11T07:07:54.558Z"
   },
   {
    "duration": 264,
    "start_time": "2022-03-11T07:07:54.564Z"
   },
   {
    "duration": 144,
    "start_time": "2022-03-11T07:07:54.830Z"
   },
   {
    "duration": 10,
    "start_time": "2022-03-11T07:07:54.975Z"
   },
   {
    "duration": 286,
    "start_time": "2022-03-11T07:07:54.987Z"
   },
   {
    "duration": 159,
    "start_time": "2022-03-11T07:07:55.279Z"
   },
   {
    "duration": 19,
    "start_time": "2022-03-11T07:07:55.441Z"
   },
   {
    "duration": 269,
    "start_time": "2022-03-11T07:07:55.462Z"
   },
   {
    "duration": 144,
    "start_time": "2022-03-11T07:07:55.732Z"
   },
   {
    "duration": 8,
    "start_time": "2022-03-11T07:07:55.878Z"
   },
   {
    "duration": 264,
    "start_time": "2022-03-11T07:07:55.887Z"
   },
   {
    "duration": 157,
    "start_time": "2022-03-11T07:07:56.153Z"
   },
   {
    "duration": 9,
    "start_time": "2022-03-11T07:07:56.311Z"
   },
   {
    "duration": 295,
    "start_time": "2022-03-11T07:07:56.321Z"
   },
   {
    "duration": 224,
    "start_time": "2022-03-11T07:07:56.618Z"
   },
   {
    "duration": 15,
    "start_time": "2022-03-11T07:07:56.844Z"
   },
   {
    "duration": 6,
    "start_time": "2022-03-11T07:07:56.861Z"
   },
   {
    "duration": 9,
    "start_time": "2022-03-11T07:07:56.868Z"
   },
   {
    "duration": 239,
    "start_time": "2022-03-11T07:07:56.878Z"
   },
   {
    "duration": 15,
    "start_time": "2022-03-11T07:07:57.119Z"
   },
   {
    "duration": 218,
    "start_time": "2022-03-11T07:07:57.136Z"
   },
   {
    "duration": 15,
    "start_time": "2022-03-11T07:07:57.356Z"
   },
   {
    "duration": 228,
    "start_time": "2022-03-11T07:07:57.373Z"
   },
   {
    "duration": 16,
    "start_time": "2022-03-11T07:07:57.603Z"
   },
   {
    "duration": 244,
    "start_time": "2022-03-11T07:07:57.621Z"
   },
   {
    "duration": 15,
    "start_time": "2022-03-11T07:07:57.867Z"
   },
   {
    "duration": 7,
    "start_time": "2022-03-11T07:07:57.883Z"
   },
   {
    "duration": 299,
    "start_time": "2022-03-11T07:07:57.892Z"
   },
   {
    "duration": 14,
    "start_time": "2022-03-11T07:07:58.193Z"
   },
   {
    "duration": 246,
    "start_time": "2022-03-11T07:07:58.209Z"
   },
   {
    "duration": 15,
    "start_time": "2022-03-11T07:07:58.458Z"
   },
   {
    "duration": 224,
    "start_time": "2022-03-11T07:07:58.475Z"
   },
   {
    "duration": 230,
    "start_time": "2022-03-11T07:07:58.701Z"
   },
   {
    "duration": 257,
    "start_time": "2022-03-11T07:07:58.933Z"
   },
   {
    "duration": 249,
    "start_time": "2022-03-11T07:07:59.191Z"
   },
   {
    "duration": 18,
    "start_time": "2022-03-11T07:07:59.442Z"
   },
   {
    "duration": 24,
    "start_time": "2022-03-11T07:07:59.462Z"
   },
   {
    "duration": 3,
    "start_time": "2022-03-11T07:07:59.488Z"
   },
   {
    "duration": 12,
    "start_time": "2022-03-11T07:07:59.492Z"
   },
   {
    "duration": 293,
    "start_time": "2022-03-11T07:07:59.505Z"
   },
   {
    "duration": 8,
    "start_time": "2022-03-11T07:07:59.800Z"
   },
   {
    "duration": 238,
    "start_time": "2022-03-11T07:07:59.810Z"
   },
   {
    "duration": 17,
    "start_time": "2022-03-11T07:08:00.051Z"
   },
   {
    "duration": 8,
    "start_time": "2022-03-11T07:08:00.070Z"
   },
   {
    "duration": 259,
    "start_time": "2022-03-11T07:08:00.079Z"
   },
   {
    "duration": 8,
    "start_time": "2022-03-11T07:08:00.340Z"
   },
   {
    "duration": 89,
    "start_time": "2022-03-11T07:08:00.358Z"
   },
   {
    "duration": 298,
    "start_time": "2022-03-11T07:08:00.449Z"
   },
   {
    "duration": 17,
    "start_time": "2022-03-11T07:08:00.749Z"
   },
   {
    "duration": 30,
    "start_time": "2022-03-11T07:08:00.767Z"
   },
   {
    "duration": 302,
    "start_time": "2022-03-11T07:08:00.799Z"
   },
   {
    "duration": 12,
    "start_time": "2022-03-11T07:08:01.102Z"
   },
   {
    "duration": 20,
    "start_time": "2022-03-11T07:08:01.116Z"
   },
   {
    "duration": 299,
    "start_time": "2022-03-11T07:08:01.137Z"
   },
   {
    "duration": 22,
    "start_time": "2022-03-11T07:08:01.438Z"
   },
   {
    "duration": 97,
    "start_time": "2022-03-11T07:08:01.462Z"
   },
   {
    "duration": 80,
    "start_time": "2022-03-11T07:08:01.561Z"
   },
   {
    "duration": 10,
    "start_time": "2022-03-11T07:08:01.643Z"
   },
   {
    "duration": 291,
    "start_time": "2022-03-11T07:08:01.655Z"
   },
   {
    "duration": 19,
    "start_time": "2022-03-11T07:08:01.948Z"
   },
   {
    "duration": 7,
    "start_time": "2022-03-11T07:08:01.969Z"
   },
   {
    "duration": 232,
    "start_time": "2022-03-11T07:08:01.978Z"
   },
   {
    "duration": 15,
    "start_time": "2022-03-11T07:08:02.211Z"
   },
   {
    "duration": 228,
    "start_time": "2022-03-11T07:08:02.227Z"
   },
   {
    "duration": 15,
    "start_time": "2022-03-11T07:08:02.458Z"
   },
   {
    "duration": 204,
    "start_time": "2022-03-11T07:08:02.474Z"
   },
   {
    "duration": 225,
    "start_time": "2022-03-11T07:08:02.680Z"
   },
   {
    "duration": 16,
    "start_time": "2022-03-11T07:08:02.908Z"
   },
   {
    "duration": 315,
    "start_time": "2022-03-11T07:08:02.926Z"
   },
   {
    "duration": 24,
    "start_time": "2022-03-11T07:08:03.242Z"
   },
   {
    "duration": 217,
    "start_time": "2022-03-11T07:08:03.267Z"
   },
   {
    "duration": 258,
    "start_time": "2022-03-11T07:08:03.486Z"
   },
   {
    "duration": 237,
    "start_time": "2022-03-11T07:08:03.746Z"
   },
   {
    "duration": 82,
    "start_time": "2022-03-11T07:26:10.503Z"
   },
   {
    "duration": 78,
    "start_time": "2022-03-11T07:35:13.045Z"
   },
   {
    "duration": 3,
    "start_time": "2022-03-11T07:35:19.547Z"
   },
   {
    "duration": 17,
    "start_time": "2022-03-11T07:48:28.598Z"
   },
   {
    "duration": 109,
    "start_time": "2022-03-11T07:49:04.559Z"
   },
   {
    "duration": 4,
    "start_time": "2022-03-11T08:00:21.988Z"
   },
   {
    "duration": 70,
    "start_time": "2022-03-11T08:13:57.169Z"
   },
   {
    "duration": 3,
    "start_time": "2022-03-11T08:14:30.911Z"
   },
   {
    "duration": 72,
    "start_time": "2022-03-11T08:14:34.827Z"
   },
   {
    "duration": 283,
    "start_time": "2022-03-11T08:15:40.721Z"
   },
   {
    "duration": 12,
    "start_time": "2022-03-11T08:15:48.949Z"
   }
  ],
  "kernelspec": {
   "display_name": "Python 3 (ipykernel)",
   "language": "python",
   "name": "python3"
  },
  "language_info": {
   "codemirror_mode": {
    "name": "ipython",
    "version": 3
   },
   "file_extension": ".py",
   "mimetype": "text/x-python",
   "name": "python",
   "nbconvert_exporter": "python",
   "pygments_lexer": "ipython3",
   "version": "3.9.12"
  },
  "toc": {
   "base_numbering": 1,
   "nav_menu": {},
   "number_sections": true,
   "sideBar": true,
   "skip_h1_title": true,
   "title_cell": "Содержание",
   "title_sidebar": "Contents",
   "toc_cell": true,
   "toc_position": {
    "height": "calc(100% - 180px)",
    "left": "10px",
    "top": "150px",
    "width": "165px"
   },
   "toc_section_display": true,
   "toc_window_display": true
  }
 },
 "nbformat": 4,
 "nbformat_minor": 4
}
